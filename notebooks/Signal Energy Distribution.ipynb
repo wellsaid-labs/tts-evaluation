{
 "cells": [
  {
   "cell_type": "markdown",
   "metadata": {},
   "source": [
    "# Signal Energy Distribution\n",
    "\n",
    "This notebook explores the distribution of the signal energy. The purpose of this notebook is to compare how different quantization, normalization and resampling methods shifts the signal energy distribution."
   ]
  },
  {
   "cell_type": "code",
   "execution_count": 1,
   "metadata": {},
   "outputs": [],
   "source": [
    "import re\n",
    "import sys\n",
    "import random\n",
    "\n",
    "# Setup the \"PYTHONPATH\"\n",
    "sys.path.insert(0, '../')"
   ]
  },
  {
   "cell_type": "code",
   "execution_count": 2,
   "metadata": {},
   "outputs": [],
   "source": [
    "%matplotlib inline\n",
    "\n",
    "from matplotlib import pyplot\n",
    "\n",
    "from tqdm import tqdm_notebook\n",
    "\n",
    "import librosa\n",
    "import numpy as np\n",
    "\n",
    "def center_bins(bin_edges):\n",
    "    \"\"\" Given bin edges return bin centers. \"\"\"\n",
    "    return [(bin_edges[i] + bin_edges[i - 1]) / 2 for i in range(1, len(bin_edges))]\n",
    "\n",
    "def signal_dataset_histogram(dataset, bins=256, get_signal=lambda r: librosa.core.load(r['wav'], sr=None)[0]):\n",
    "    \"\"\" Compute the signal dataset histogram.\n",
    "\n",
    "    Args:\n",
    "        dataset (list): Dataset of signals.\n",
    "        bins (int): Number of bins to bin histogram into.\n",
    "        get_signal (callable): Given a row from dataset, load a signal.\n",
    "\n",
    "    Returns:\n",
    "        count (np.ndarray [n,]): Count of energy values.\n",
    "        bin_centers (np.ndarray [n,]): Energy bin center.\n",
    "    \"\"\"\n",
    "    range_ = (-1.0, 1.0)\n",
    "    total_count, bin_edges = None, np.linspace(*range_, num=bins)\n",
    "    for row in tqdm_notebook(dataset):\n",
    "        signal = get_signal(row)\n",
    "\n",
    "        if total_count is None:\n",
    "            total_count, bin_edges = np.histogram(signal, bins=bin_edges, range=range_)\n",
    "        else:\n",
    "            count, other_bin_edges = np.histogram(signal, bins=bin_edges, range=range_)\n",
    "            assert np.array_equal(bin_edges, other_bin_edges)\n",
    "            assert len(total_count) == len(count)\n",
    "            total_count += count\n",
    "\n",
    "    bin_centers = center_bins(bin_edges)\n",
    "    assert bin_centers == sorted(bin_centers)\n",
    "    return total_count, bin_centers, range_\n",
    "\n",
    "\n",
    "def plot_histogram(count, bin_centers, range_, log_scale=True):\n",
    "    \"\"\" Plot a histogram using a scatter plot.\n",
    "\n",
    "    Args:\n",
    "        bins (int): Number of bins to bin histogram into.\n",
    "\n",
    "    Returns:\n",
    "        count (np.ndarray [n,]): Count of energy values.\n",
    "        bin_centers (np.ndarray [n,]): Energy bin center.\n",
    "    \"\"\"\n",
    "    \n",
    "    pyplot.figure(figsize=(5, 2))\n",
    "    pyplot.style.use('ggplot')\n",
    "    pyplot.plot(bin_centers, count, '.-')\n",
    "    pyplot.xlim(*range_)\n",
    "    pyplot.grid(linestyle='-', linewidth=1, zorder=3)\n",
    "    pyplot.fill_between(bin_centers, 0, count, zorder=0)\n",
    "    if log_scale:\n",
    "        pyplot.yscale('log')\n",
    "    pyplot.xlabel('Frequency')\n",
    "    pyplot.ylabel('Energy')\n",
    "    pyplot.yticks()\n",
    "    pyplot.xticks()\n",
    "    pyplot.show()"
   ]
  },
  {
   "cell_type": "code",
   "execution_count": 3,
   "metadata": {},
   "outputs": [],
   "source": [
    "def mu_law(x, mu=255):\n",
    "    \"\"\"Mu-Law companding\n",
    "    Method described in paper [1]_.\n",
    "    .. math::\n",
    "        f(x) = sign(x) \\ln (1 + \\mu |x|) / \\ln (1 + \\mu)\n",
    "        \n",
    "    Args:\n",
    "        x (array-like): Input signal. Each value of input signal must be in\n",
    "          range of [-1, 1].\n",
    "        mu (number): Compression parameter ``μ``.\n",
    "        \n",
    "    Returns:\n",
    "        array-like: Compressed signal ([-1, 1])\n",
    "        \n",
    "    .. [1] Brokish, Charles W., and Michele Lewis. \"A-law and mu-law companding\n",
    "        implementations using the tms320c54x.\" SPRA163 (1997).\n",
    "    \"\"\"\n",
    "    x = x.astype(np.float64)\n",
    "    return np.sign(x) * np.log1p(mu * np.abs(x)) / np.log1p(mu)"
   ]
  },
  {
   "cell_type": "markdown",
   "metadata": {},
   "source": [
    "## LJ Speech Dataset Signal Energy Distribution\n",
    "\n",
    "First, we look at LJ Speech dataset without preprocessing."
   ]
  },
  {
   "cell_type": "code",
   "execution_count": 4,
   "metadata": {},
   "outputs": [
    {
     "name": "stderr",
     "output_type": "stream",
     "text": [
      "100%|██████████| 13100/13100 [00:00<00:00, 23545.73it/s]\n"
     ]
    },
    {
     "data": {
      "application/vnd.jupyter.widget-view+json": {
       "model_id": "f95a8ec34b0940a7b5fbce28a167bee7",
       "version_major": 2,
       "version_minor": 0
      },
      "text/plain": [
       "HBox(children=(IntProgress(value=0), HTML(value='')))"
      ]
     },
     "metadata": {},
     "output_type": "display_data"
    },
    {
     "name": "stdout",
     "output_type": "stream",
     "text": [
      "\n"
     ]
    },
    {
     "data": {
      "image/png": "[encoded data removed]",
      "text/plain": [
       "<Figure size 360x144 with 1 Axes>"
      ]
     },
     "metadata": {},
     "output_type": "display_data"
    }
   ],
   "source": [
    "from src.datasets import lj_speech_dataset\n",
    "lj_speech = lj_speech_dataset(directory='../data', verbalize=False, resample=None, norm=False,\n",
    "                              guard=False, lower_hertz=None, upper_hertz=None)\n",
    "random.shuffle(lj_speech)\n",
    "plot_histogram(*signal_dataset_histogram(lj_speech[:100]))"
   ]
  },
  {
   "cell_type": "markdown",
   "metadata": {},
   "source": [
    "Distribution of energy after SoX processing."
   ]
  },
  {
   "cell_type": "code",
   "execution_count": 5,
   "metadata": {},
   "outputs": [
    {
     "name": "stderr",
     "output_type": "stream",
     "text": [
      "100%|██████████| 13100/13100 [08:06<00:00, 26.93it/s]\n"
     ]
    },
    {
     "data": {
      "application/vnd.jupyter.widget-view+json": {
       "model_id": "64410c651b3c4a43965ac4237522f9aa",
       "version_major": 2,
       "version_minor": 0
      },
      "text/plain": [
       "HBox(children=(IntProgress(value=0), HTML(value='')))"
      ]
     },
     "metadata": {},
     "output_type": "display_data"
    },
    {
     "name": "stdout",
     "output_type": "stream",
     "text": [
      "\n"
     ]
    },
    {
     "data": {
      "image/png": "[encoded data removed]",
      "text/plain": [
       "<Figure size 360x144 with 1 Axes>"
      ]
     },
     "metadata": {},
     "output_type": "display_data"
    }
   ],
   "source": [
    "lj_speech_sox = lj_speech_dataset(directory='../data', verbalize=False, resample=24000, norm=False, guard=True,\n",
    "                                  lower_hertz=125, upper_hertz=9100)\n",
    "random.shuffle(lj_speech_sox)\n",
    "plot_histogram(*signal_dataset_histogram(lj_speech_sox[:100]))"
   ]
  },
  {
   "cell_type": "markdown",
   "metadata": {},
   "source": [
    "Distribution of energy after a variation of SoX processing."
   ]
  },
  {
   "cell_type": "code",
   "execution_count": 6,
   "metadata": {},
   "outputs": [
    {
     "name": "stderr",
     "output_type": "stream",
     "text": [
      "100%|██████████| 13100/13100 [07:34<00:00, 28.80it/s]\n"
     ]
    },
    {
     "data": {
      "application/vnd.jupyter.widget-view+json": {
       "model_id": "3df0510abbe7403c94ec451a1d38f754",
       "version_major": 2,
       "version_minor": 0
      },
      "text/plain": [
       "HBox(children=(IntProgress(value=0), HTML(value='')))"
      ]
     },
     "metadata": {},
     "output_type": "display_data"
    },
    {
     "name": "stdout",
     "output_type": "stream",
     "text": [
      "\n"
     ]
    },
    {
     "data": {
      "image/png": "[encoded data removed]",
      "text/plain": [
       "<Figure size 360x144 with 1 Axes>"
      ]
     },
     "metadata": {},
     "output_type": "display_data"
    }
   ],
   "source": [
    "lj_speech_sox = lj_speech_dataset(directory='../data', verbalize=False, resample=24000, norm=True, guard=True,\n",
    "                                  lower_hertz=125, upper_hertz=9100)\n",
    "random.shuffle(lj_speech_sox)\n",
    "plot_histogram(*signal_dataset_histogram(lj_speech_sox[:100]))"
   ]
  },
  {
   "cell_type": "markdown",
   "metadata": {},
   "source": [
    "Finally, we take a look at the distribution after mu-law encoding."
   ]
  },
  {
   "cell_type": "code",
   "execution_count": 7,
   "metadata": {},
   "outputs": [
    {
     "name": "stderr",
     "output_type": "stream",
     "text": [
      "100%|██████████| 13100/13100 [00:01<00:00, 12476.21it/s]\n"
     ]
    },
    {
     "data": {
      "application/vnd.jupyter.widget-view+json": {
       "model_id": "1f44f9ddf2cb4851a5d4e74ef3deb015",
       "version_major": 2,
       "version_minor": 0
      },
      "text/plain": [
       "HBox(children=(IntProgress(value=0), HTML(value='')))"
      ]
     },
     "metadata": {},
     "output_type": "display_data"
    },
    {
     "name": "stdout",
     "output_type": "stream",
     "text": [
      "\n"
     ]
    },
    {
     "data": {
      "image/png": "[encoded data removed]",
      "text/plain": [
       "<Figure size 360x144 with 1 Axes>"
      ]
     },
     "metadata": {},
     "output_type": "display_data"
    }
   ],
   "source": [
    "lj_speech_sox = lj_speech_dataset(directory='../data', verbalize=False, resample=24000, norm=False, guard=True,\n",
    "                                  lower_hertz=125, upper_hertz=9100)\n",
    "get_signal=lambda r: mu_law(librosa.core.load(r['wav'], sr=None)[0])\n",
    "plot_histogram(*signal_dataset_histogram(lj_speech_sox[:100], get_signal=get_signal, bins=256), log_scale=False)"
   ]
  },
  {
   "cell_type": "code",
   "execution_count": 12,
   "metadata": {},
   "outputs": [
    {
     "name": "stderr",
     "output_type": "stream",
     "text": [
      "100%|██████████| 13100/13100 [03:28<00:00, 62.76it/s]  \n"
     ]
    },
    {
     "data": {
      "application/vnd.jupyter.widget-view+json": {
       "model_id": "bd24a7dba8ed4934b15a9f26486ee489",
       "version_major": 2,
       "version_minor": 0
      },
      "text/plain": [
       "HBox(children=(IntProgress(value=0), HTML(value='')))"
      ]
     },
     "metadata": {},
     "output_type": "display_data"
    },
    {
     "name": "stdout",
     "output_type": "stream",
     "text": [
      "\n"
     ]
    },
    {
     "data": {
      "image/png": "[encoded data removed]",
      "text/plain": [
       "<Figure size 360x144 with 1 Axes>"
      ]
     },
     "metadata": {},
     "output_type": "display_data"
    }
   ],
   "source": [
    "lj_speech_sox = lj_speech_dataset(directory='../data', verbalize=False, resample=24000, norm=True, guard=True,\n",
    "                                  lower_hertz=125, upper_hertz=9100)\n",
    "get_signal=lambda r: mu_law(librosa.core.load(r['wav'], sr=None)[0])\n",
    "plot_histogram(*signal_dataset_histogram(lj_speech_sox[:100], get_signal=get_signal, bins=256), log_scale=False)"
   ]
  },
  {
   "cell_type": "markdown",
   "metadata": {},
   "source": [
    "## CMU Arctic Dataset Signal Energy Distribution\n",
    "\n",
    "First, we look at dataset without preprocessing. Please download this on your own until we add formal dataset support."
   ]
  },
  {
   "cell_type": "code",
   "execution_count": 8,
   "metadata": {},
   "outputs": [],
   "source": [
    "import os\n",
    "\n",
    "original = '/Users/michaelp/Downloads/cmu_us_slt_arctic 2/orig'\n",
    "processed = '/Users/michaelp/Downloads/cmu_us_slt_arctic/wav'\n",
    "original = [os.path.join(original, filename) for filename in os.listdir(original) if '.wav' in filename]\n",
    "processed = [os.path.join(processed, filename) for filename in os.listdir(processed) if '.wav' in filename]"
   ]
  },
  {
   "cell_type": "code",
   "execution_count": 9,
   "metadata": {},
   "outputs": [
    {
     "data": {
      "application/vnd.jupyter.widget-view+json": {
       "model_id": "756fef0e7f7e4479a6eeed2da5c75b6e",
       "version_major": 2,
       "version_minor": 0
      },
      "text/plain": [
       "HBox(children=(IntProgress(value=0, max=1132), HTML(value='')))"
      ]
     },
     "metadata": {},
     "output_type": "display_data"
    },
    {
     "name": "stdout",
     "output_type": "stream",
     "text": [
      "\n"
     ]
    },
    {
     "data": {
      "image/png": "[encoded data removed]",
      "text/plain": [
       "<Figure size 360x144 with 1 Axes>"
      ]
     },
     "metadata": {},
     "output_type": "display_data"
    }
   ],
   "source": [
    "get_signal=lambda wav: mu_law(librosa.core.load(wav, sr=None, mono=False)[0][0])\n",
    "plot_histogram(*signal_dataset_histogram(original, get_signal=get_signal, bins=256), log_scale=False)"
   ]
  },
  {
   "cell_type": "code",
   "execution_count": 10,
   "metadata": {},
   "outputs": [
    {
     "data": {
      "application/vnd.jupyter.widget-view+json": {
       "model_id": "103ba258ad1246409a1366854f092682",
       "version_major": 2,
       "version_minor": 0
      },
      "text/plain": [
       "HBox(children=(IntProgress(value=0, max=1132), HTML(value='')))"
      ]
     },
     "metadata": {},
     "output_type": "display_data"
    },
    {
     "name": "stdout",
     "output_type": "stream",
     "text": [
      "\n"
     ]
    },
    {
     "data": {
      "image/png": "[encoded data removed]",
      "text/plain": [
       "<Figure size 360x144 with 1 Axes>"
      ]
     },
     "metadata": {},
     "output_type": "display_data"
    }
   ],
   "source": [
    "get_signal=lambda wav: mu_law(librosa.core.load(wav, sr=None)[0])\n",
    "plot_histogram(*signal_dataset_histogram(processed, get_signal=get_signal, bins=256), log_scale=False)"
   ]
  },
  {
   "cell_type": "markdown",
   "metadata": {},
   "source": [
    "# Mu-Law Signal Energy Distribution"
   ]
  },
  {
   "cell_type": "code",
   "execution_count": 11,
   "metadata": {},
   "outputs": [
    {
     "data": {
      "image/png": "[encoded data removed]",
      "text/plain": [
       "<Figure size 360x144 with 1 Axes>"
      ]
     },
     "metadata": {},
     "output_type": "display_data"
    }
   ],
   "source": [
    "from src.audio import mu_law_encode\n",
    "from src.audio import mu_law_decode\n",
    "\n",
    "mu = 255\n",
    "range_ = (-1.0, 1.0)\n",
    "samples = np.linspace(0, 255, num=65536)\n",
    "samples = mu_law_decode(samples)\n",
    "count, bin_edges = np.histogram(samples, bins=256, range=range_)\n",
    "bin_centers = center_bins(bin_edges)\n",
    "plot_histogram(count=count, bin_centers=bin_centers, range_=range_)"
   ]
  }
 ],
 "metadata": {
  "kernelspec": {
   "display_name": "Python 3",
   "language": "python",
   "name": "python3"
  },
  "language_info": {
   "codemirror_mode": {
    "name": "ipython",
    "version": 3
   },
   "file_extension": ".py",
   "mimetype": "text/x-python",
   "name": "python",
   "nbconvert_exporter": "python",
   "pygments_lexer": "ipython3",
   "version": "3.6.5"
  }
 },
 "nbformat": 4,
 "nbformat_minor": 2
}
