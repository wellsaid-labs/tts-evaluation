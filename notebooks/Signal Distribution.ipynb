{
 "cells": [
  {
   "cell_type": "code",
   "execution_count": 1,
   "metadata": {},
   "outputs": [],
   "source": [
    "import re\n",
    "import sys\n",
    "import random\n",
    "\n",
    "# Setup the \"PYTHONPATH\"\n",
    "sys.path.insert(0, '../')"
   ]
  },
  {
   "cell_type": "code",
   "execution_count": 2,
   "metadata": {},
   "outputs": [
    {
     "name": "stderr",
     "output_type": "stream",
     "text": [
      "100%|██████████| 13100/13100 [00:00<00:00, 20269.79it/s]\n"
     ]
    }
   ],
   "source": [
    "%matplotlib inline\n",
    "\n",
    "from src.datasets import lj_speech_dataset\n",
    "data = lj_speech_dataset(directory='../data', verbalize=False)\n",
    "random.shuffle(data)"
   ]
  },
  {
   "cell_type": "code",
   "execution_count": 18,
   "metadata": {},
   "outputs": [
    {
     "data": {
      "application/vnd.jupyter.widget-view+json": {
       "model_id": "e23e753ac5f745b29f9321cc2e8c9d04",
       "version_major": 2,
       "version_minor": 0
      },
      "text/plain": [
       "HBox(children=(IntProgress(value=0, max=1000), HTML(value='')))"
      ]
     },
     "metadata": {},
     "output_type": "display_data"
    },
    {
     "name": "stdout",
     "output_type": "stream",
     "text": [
      "\n"
     ]
    },
    {
     "data": {
      "image/png": "[encoded data removed]",
      "text/plain": [
       "<Figure size 432x288 with 1 Axes>"
      ]
     },
     "metadata": {},
     "output_type": "display_data"
    }
   ],
   "source": [
    "import librosa\n",
    "from matplotlib import pyplot\n",
    "from tqdm import tqdm_notebook\n",
    "import numpy as np\n",
    "\n",
    "bins=8192\n",
    "range_ = (-1.0, 1.0)\n",
    "histogram, bin_edges = None, None\n",
    "for row in tqdm_notebook(data[:1000]):\n",
    "    signal = librosa.core.load(row['wav'])[0]\n",
    "    if histogram is None:\n",
    "        histogram, bin_edges = np.histogram(signal, bins=bins, range=range_)\n",
    "    else:\n",
    "        next_histogram, next_bin_edges = np.histogram(signal, bins=bins, range=range_)\n",
    "        assert np.array_equal(bin_edges, next_bin_edges)\n",
    "        histogram += next_histogram\n",
    "        \n",
    "pyplot.bar(bin_edges[:-1], histogram, width=1.0/bins)\n",
    "pyplot.xlim(*range_)\n",
    "pyplot.yscale('log')\n",
    "pyplot.show()   "
   ]
  },
  {
   "cell_type": "code",
   "execution_count": 19,
   "metadata": {},
   "outputs": [
    {
     "data": {
      "application/vnd.jupyter.widget-view+json": {
       "model_id": "531967df788e49ff82b698895771f521",
       "version_major": 2,
       "version_minor": 0
      },
      "text/plain": [
       "HBox(children=(IntProgress(value=0, max=1000), HTML(value='')))"
      ]
     },
     "metadata": {},
     "output_type": "display_data"
    },
    {
     "name": "stdout",
     "output_type": "stream",
     "text": [
      "\n"
     ]
    },
    {
     "data": {
      "image/png": "[encoded data removed]",
      "text/plain": [
       "<Figure size 432x288 with 1 Axes>"
      ]
     },
     "metadata": {},
     "output_type": "display_data"
    }
   ],
   "source": [
    "import librosa\n",
    "from matplotlib import pyplot\n",
    "from tqdm import tqdm_notebook\n",
    "import numpy as np\n",
    "from src.audio import mu_law_encode\n",
    "from src.audio import mu_law_decode\n",
    "\n",
    "bins=256\n",
    "range_ = (-1.0, 1.0)\n",
    "histogram, bin_edges = None, None\n",
    "for row in tqdm_notebook(data[:1000]):\n",
    "    signal = mu_law_decode(mu_law_encode(librosa.core.load(row['wav'])[0]))\n",
    "    if histogram is None:\n",
    "        histogram, bin_edges = np.histogram(signal, bins=bins, range=range_)\n",
    "    else:\n",
    "        next_histogram, next_bin_edges = np.histogram(signal, bins=bins, range=range_)\n",
    "        assert np.array_equal(bin_edges, next_bin_edges)\n",
    "        histogram += next_histogram\n",
    "                \n",
    "pyplot.bar(bin_edges[:-1], histogram, width=1.0/bins)\n",
    "pyplot.xlim(*range_)\n",
    "pyplot.yscale('log')\n",
    "pyplot.show()   "
   ]
  },
  {
   "cell_type": "code",
   "execution_count": 40,
   "metadata": {},
   "outputs": [
    {
     "data": {
      "text/plain": [
       "254"
      ]
     },
     "execution_count": 40,
     "metadata": {},
     "output_type": "execute_result"
    }
   ],
   "source": [
    "mu_law_encode(mu_law_decode(253.5))"
   ]
  },
  {
   "cell_type": "code",
   "execution_count": 21,
   "metadata": {},
   "outputs": [
    {
     "name": "stderr",
     "output_type": "stream",
     "text": [
      "/Users/michaelp/.pyenv/versions/3.6.5/lib/python3.6/site-packages/matplotlib/axes/_base.py:3443: UserWarning: Attempting to set identical bottom==top results\n",
      "in singular transformations; automatically expanding.\n",
      "bottom=1.0, top=1.0\n",
      "  'bottom=%s, top=%s') % (bottom, top))\n"
     ]
    },
    {
     "data": {
      "image/png": "[encoded data removed]",
      "text/plain": [
       "<Figure size 432x288 with 1 Axes>"
      ]
     },
     "metadata": {},
     "output_type": "display_data"
    }
   ],
   "source": [
    "\n",
    "pyplot.bar(mu_law_decode(np.array(list(range(256)))), [1] * 256, width=1.0/bins)\n",
    "pyplot.xlim(*range_)\n",
    "pyplot.yscale('log')\n",
    "pyplot.show()   "
   ]
  },
  {
   "cell_type": "code",
   "execution_count": null,
   "metadata": {},
   "outputs": [],
   "source": []
  }
 ],
 "metadata": {
  "kernelspec": {
   "display_name": "Python 3",
   "language": "python",
   "name": "python3"
  },
  "language_info": {
   "codemirror_mode": {
    "name": "ipython",
    "version": 3
   },
   "file_extension": ".py",
   "mimetype": "text/x-python",
   "name": "python",
   "nbconvert_exporter": "python",
   "pygments_lexer": "ipython3",
   "version": "3.6.5"
  }
 },
 "nbformat": 4,
 "nbformat_minor": 2
}
