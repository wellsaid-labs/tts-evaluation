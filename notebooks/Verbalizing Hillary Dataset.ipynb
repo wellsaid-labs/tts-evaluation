{
 "cells": [
  {
   "cell_type": "markdown",
   "metadata": {},
   "source": [
    "# Verbalizing Hillary\n",
    "\n",
    "The goals of this notebook are:\n",
    "\n",
    "- Construct an algorithm to verbalize the Hillary dataset.\n",
    "- Understand the distribution of not verbalized symbols such as numbers and special characters."
   ]
  },
  {
   "cell_type": "code",
   "execution_count": 5,
   "metadata": {
    "scrolled": false
   },
   "outputs": [],
   "source": [
    "import re\n",
    "import sys\n",
    "\n",
    "# Setup the \"PYTHONPATH\"\n",
    "sys.path.insert(0, '../')\n",
    "\n",
    "from src.datasets.lj_speech import _iterate_and_replace"
   ]
  },
  {
   "cell_type": "code",
   "execution_count": 6,
   "metadata": {},
   "outputs": [
    {
     "name": "stderr",
     "output_type": "stream",
     "text": [
      "No config for `hillary.hillary_dataset` (`src.datasets.hillary.hillary_dataset`)\n",
      "100%|██████████| 10528/10528 [00:00<00:00, 342004.99it/s]\n"
     ]
    }
   ],
   "source": [
    "from src.datasets import hillary_dataset\n",
    "\n",
    "data, _ = hillary_dataset(directory='../data')"
   ]
  },
  {
   "cell_type": "code",
   "execution_count": 7,
   "metadata": {
    "scrolled": false
   },
   "outputs": [],
   "source": [
    "import random\n",
    "import os\n",
    "\n",
    "from IPython.display import Audio\n",
    "from IPython.display import Markdown\n",
    "from IPython.display import FileLink\n",
    "\n",
    "def find_examples(regex, display_n=5, load_audio=False, replace=True, group=1, context=25):\n",
    "    \"\"\" Print ``display_n`` examples of ``regex`` in ``lj_speech_dataset``.\n",
    "    \n",
    "    This is the bread and butter module for our data analysis. Enabling us to use regex to query the\n",
    "    dataset and retrieve samples.\n",
    "    \n",
    "    Args:\n",
    "        regex (str): Pattern or compiled regex object.\n",
    "        display_n (int or None, optional): Number of examples to display.\n",
    "        load_audio (bool, optional): If to load audio.\n",
    "        replace (bool, optional): If to replace the matched characters with XXX...\n",
    "        group (int, optional): Group to select in regex.\n",
    "        context (int, optional): Number of characters to include on the left and right of the matched\n",
    "            text as context.\n",
    "        \n",
    "    Returns:\n",
    "        None\n",
    "    \"\"\"\n",
    "    examples = []\n",
    "    for row in data:\n",
    "        matches = re.finditer(regex, row['text'])\n",
    "        for match in matches:\n",
    "            if match.start(group) - match.end(group) == 0:\n",
    "                continue\n",
    "            \n",
    "            text = row['text']    \n",
    "            start = match.start(group)\n",
    "            end = match.end(group)\n",
    "            start_context = max(start - context, 0)\n",
    "            end_context = min(end + context, len(text))\n",
    "            \n",
    "            if replace:\n",
    "                row['text'] = '{}{}{}'.format(text[:start],\n",
    "                                              'X' * (end - start), \n",
    "                                              text[end:])\n",
    "                \n",
    "            if start != 0 or end != len(row['text']):\n",
    "                text = '{}**{}**{}'.format(text[start_context:start],\n",
    "                                           match.group(group),\n",
    "                                           text[end:end_context])\n",
    "            if start != 0:\n",
    "                text = '…' + text\n",
    "            if end != len(row['text']):\n",
    "                text = text + '…'\n",
    "                \n",
    "            examples.append({\n",
    "                'text': text,\n",
    "                'audio': row['wav_filename']\n",
    "            })\n",
    "            \n",
    "    # Print Examples\n",
    "    display(Markdown('### Examples Captured by Regex'))\n",
    "    display(Markdown('**Regex:** ' + str(regex)))\n",
    "    display(Markdown('**Number of Examples:** ' + str(len(examples))))\n",
    "    \n",
    "    random.shuffle(examples)\n",
    "    if display_n is not None:\n",
    "        examples = examples[:display_n]\n",
    "    \n",
    "    display(Markdown('**Number of Examples Shown:** ' + str(len(examples))))\n",
    "    display(Markdown('\\n\\n ___'))\n",
    "    \n",
    "    for example in examples:\n",
    "        display(Markdown('**Text:** \"' + example['text'] + '\"'))\n",
    "        display(FileLink(example['audio']))\n",
    "        if load_audio:\n",
    "            display(Audio(str(example['audio'])))\n",
    "        display(Markdown('\\n\\n ___'))\n",
    "        display()"
   ]
  },
  {
   "cell_type": "markdown",
   "metadata": {},
   "source": [
    "## Sample of the Dataset"
   ]
  },
  {
   "cell_type": "code",
   "execution_count": 8,
   "metadata": {},
   "outputs": [
    {
     "data": {
      "text/markdown": [
       "### Examples Captured by Regex"
      ],
      "text/plain": [
       "<IPython.core.display.Markdown object>"
      ]
     },
     "metadata": {},
     "output_type": "display_data"
    },
    {
     "data": {
      "text/markdown": [
       "**Regex:** (?s).*"
      ],
      "text/plain": [
       "<IPython.core.display.Markdown object>"
      ]
     },
     "metadata": {},
     "output_type": "display_data"
    },
    {
     "data": {
      "text/markdown": [
       "**Number of Examples:** 8422"
      ],
      "text/plain": [
       "<IPython.core.display.Markdown object>"
      ]
     },
     "metadata": {},
     "output_type": "display_data"
    },
    {
     "data": {
      "text/markdown": [
       "**Number of Examples Shown:** 100"
      ],
      "text/plain": [
       "<IPython.core.display.Markdown object>"
      ]
     },
     "metadata": {},
     "output_type": "display_data"
    },
    {
     "data": {
      "text/markdown": [
       "\n",
       "\n",
       " ___"
      ],
      "text/plain": [
       "<IPython.core.display.Markdown object>"
      ]
     },
     "metadata": {},
     "output_type": "display_data"
    },
    {
     "data": {
      "text/markdown": [
       "**Text:** \"Businessballs education website.\""
      ],
      "text/plain": [
       "<IPython.core.display.Markdown object>"
      ]
     },
     "metadata": {},
     "output_type": "display_data"
    },
    {
     "data": {
      "text/html": [
       "<a href='../data/Hillary/wavs/script_25/script_71_chunk_7-rate=24000.wav' target='_blank'>../data/Hillary/wavs/script_25/script_71_chunk_7-rate=24000.wav</a><br>"
      ],
      "text/plain": [
       "/Users/michaelp/Code/Tacotron-2/data/Hillary/wavs/script_25/script_71_chunk_7-rate=24000.wav"
      ]
     },
     "metadata": {},
     "output_type": "display_data"
    },
    {
     "data": {
      "text/markdown": [
       "\n",
       "\n",
       " ___"
      ],
      "text/plain": [
       "<IPython.core.display.Markdown object>"
      ]
     },
     "metadata": {},
     "output_type": "display_data"
    },
    {
     "data": {
      "text/markdown": [
       "**Text:** \"Why, he's bought forty pounds of goods from you already.\""
      ],
      "text/plain": [
       "<IPython.core.display.Markdown object>"
      ]
     },
     "metadata": {},
     "output_type": "display_data"
    },
    {
     "data": {
      "text/html": [
       "<a href='../data/Hillary/wavs/script_20/script_91_chunk_0-rate=24000.wav' target='_blank'>../data/Hillary/wavs/script_20/script_91_chunk_0-rate=24000.wav</a><br>"
      ],
      "text/plain": [
       "/Users/michaelp/Code/Tacotron-2/data/Hillary/wavs/script_20/script_91_chunk_0-rate=24000.wav"
      ]
     },
     "metadata": {},
     "output_type": "display_data"
    },
    {
     "data": {
      "text/markdown": [
       "\n",
       "\n",
       " ___"
      ],
      "text/plain": [
       "<IPython.core.display.Markdown object>"
      ]
     },
     "metadata": {},
     "output_type": "display_data"
    },
    {
     "data": {
      "text/markdown": [
       "**Text:** \"During the early nineteenth century, the beaver pelt was the single most valuable commodity;\""
      ],
      "text/plain": [
       "<IPython.core.display.Markdown object>"
      ]
     },
     "metadata": {},
     "output_type": "display_data"
    },
    {
     "data": {
      "text/html": [
       "<a href='../data/Hillary/wavs/script_19/script_13_chunk_3-rate=24000.wav' target='_blank'>../data/Hillary/wavs/script_19/script_13_chunk_3-rate=24000.wav</a><br>"
      ],
      "text/plain": [
       "/Users/michaelp/Code/Tacotron-2/data/Hillary/wavs/script_19/script_13_chunk_3-rate=24000.wav"
      ]
     },
     "metadata": {},
     "output_type": "display_data"
    },
    {
     "data": {
      "text/markdown": [
       "\n",
       "\n",
       " ___"
      ],
      "text/plain": [
       "<IPython.core.display.Markdown object>"
      ]
     },
     "metadata": {},
     "output_type": "display_data"
    },
    {
     "data": {
      "text/markdown": [
       "**Text:** \"faces of Caucasian and Japanese individuals\""
      ],
      "text/plain": [
       "<IPython.core.display.Markdown object>"
      ]
     },
     "metadata": {},
     "output_type": "display_data"
    },
    {
     "data": {
      "text/html": [
       "<a href='../data/Hillary/wavs/script_18/script_56_chunk_8-rate=24000.wav' target='_blank'>../data/Hillary/wavs/script_18/script_56_chunk_8-rate=24000.wav</a><br>"
      ],
      "text/plain": [
       "/Users/michaelp/Code/Tacotron-2/data/Hillary/wavs/script_18/script_56_chunk_8-rate=24000.wav"
      ]
     },
     "metadata": {},
     "output_type": "display_data"
    },
    {
     "data": {
      "text/markdown": [
       "\n",
       "\n",
       " ___"
      ],
      "text/plain": [
       "<IPython.core.display.Markdown object>"
      ]
     },
     "metadata": {},
     "output_type": "display_data"
    },
    {
     "data": {
      "text/markdown": [
       "**Text:** \"functionalist perspective,\""
      ],
      "text/plain": [
       "<IPython.core.display.Markdown object>"
      ]
     },
     "metadata": {},
     "output_type": "display_data"
    },
    {
     "data": {
      "text/html": [
       "<a href='../data/Hillary/wavs/script_18/script_31_chunk_36-rate=24000.wav' target='_blank'>../data/Hillary/wavs/script_18/script_31_chunk_36-rate=24000.wav</a><br>"
      ],
      "text/plain": [
       "/Users/michaelp/Code/Tacotron-2/data/Hillary/wavs/script_18/script_31_chunk_36-rate=24000.wav"
      ]
     },
     "metadata": {},
     "output_type": "display_data"
    },
    {
     "data": {
      "text/markdown": [
       "\n",
       "\n",
       " ___"
      ],
      "text/plain": [
       "<IPython.core.display.Markdown object>"
      ]
     },
     "metadata": {},
     "output_type": "display_data"
    },
    {
     "data": {
      "text/markdown": [
       "**Text:** \"are often hard to test objectively, e.\""
      ],
      "text/plain": [
       "<IPython.core.display.Markdown object>"
      ]
     },
     "metadata": {},
     "output_type": "display_data"
    },
    {
     "data": {
      "text/html": [
       "<a href='../data/Hillary/wavs/script_17/script_60_chunk_6-rate=24000.wav' target='_blank'>../data/Hillary/wavs/script_17/script_60_chunk_6-rate=24000.wav</a><br>"
      ],
      "text/plain": [
       "/Users/michaelp/Code/Tacotron-2/data/Hillary/wavs/script_17/script_60_chunk_6-rate=24000.wav"
      ]
     },
     "metadata": {},
     "output_type": "display_data"
    },
    {
     "data": {
      "text/markdown": [
       "\n",
       "\n",
       " ___"
      ],
      "text/plain": [
       "<IPython.core.display.Markdown object>"
      ]
     },
     "metadata": {},
     "output_type": "display_data"
    },
    {
     "data": {
      "text/markdown": [
       "**Text:** \"give \"clear, conspicuous, and accurate statements\" of their information-sharing practices.\""
      ],
      "text/plain": [
       "<IPython.core.display.Markdown object>"
      ]
     },
     "metadata": {},
     "output_type": "display_data"
    },
    {
     "data": {
      "text/html": [
       "<a href='../data/Hillary/wavs/script_15/script_55_chunk_7-rate=24000.wav' target='_blank'>../data/Hillary/wavs/script_15/script_55_chunk_7-rate=24000.wav</a><br>"
      ],
      "text/plain": [
       "/Users/michaelp/Code/Tacotron-2/data/Hillary/wavs/script_15/script_55_chunk_7-rate=24000.wav"
      ]
     },
     "metadata": {},
     "output_type": "display_data"
    },
    {
     "data": {
      "text/markdown": [
       "\n",
       "\n",
       " ___"
      ],
      "text/plain": [
       "<IPython.core.display.Markdown object>"
      ]
     },
     "metadata": {},
     "output_type": "display_data"
    },
    {
     "data": {
      "text/markdown": [
       "**Text:** \"If your new puppy is younger than 10 weeks when you bring him home, we suggest placing an exercise pen around the crate.\""
      ],
      "text/plain": [
       "<IPython.core.display.Markdown object>"
      ]
     },
     "metadata": {},
     "output_type": "display_data"
    },
    {
     "data": {
      "text/html": [
       "<a href='../data/Hillary/wavs/script_18/script_34_chunk_2-rate=24000.wav' target='_blank'>../data/Hillary/wavs/script_18/script_34_chunk_2-rate=24000.wav</a><br>"
      ],
      "text/plain": [
       "/Users/michaelp/Code/Tacotron-2/data/Hillary/wavs/script_18/script_34_chunk_2-rate=24000.wav"
      ]
     },
     "metadata": {},
     "output_type": "display_data"
    },
    {
     "data": {
      "text/markdown": [
       "\n",
       "\n",
       " ___"
      ],
      "text/plain": [
       "<IPython.core.display.Markdown object>"
      ]
     },
     "metadata": {},
     "output_type": "display_data"
    },
    {
     "data": {
      "text/markdown": [
       "**Text:** \"Savar building collapse, which killed over 1000\""
      ],
      "text/plain": [
       "<IPython.core.display.Markdown object>"
      ]
     },
     "metadata": {},
     "output_type": "display_data"
    },
    {
     "data": {
      "text/html": [
       "<a href='../data/Hillary/wavs/script_17/script_40_chunk_7-rate=24000.wav' target='_blank'>../data/Hillary/wavs/script_17/script_40_chunk_7-rate=24000.wav</a><br>"
      ],
      "text/plain": [
       "/Users/michaelp/Code/Tacotron-2/data/Hillary/wavs/script_17/script_40_chunk_7-rate=24000.wav"
      ]
     },
     "metadata": {},
     "output_type": "display_data"
    },
    {
     "data": {
      "text/markdown": [
       "\n",
       "\n",
       " ___"
      ],
      "text/plain": [
       "<IPython.core.display.Markdown object>"
      ]
     },
     "metadata": {},
     "output_type": "display_data"
    },
    {
     "data": {
      "text/markdown": [
       "**Text:** \"Instead, use shims to\""
      ],
      "text/plain": [
       "<IPython.core.display.Markdown object>"
      ]
     },
     "metadata": {},
     "output_type": "display_data"
    },
    {
     "data": {
      "text/html": [
       "<a href='../data/Hillary/wavs/script_16/script_23_chunk_4-rate=24000.wav' target='_blank'>../data/Hillary/wavs/script_16/script_23_chunk_4-rate=24000.wav</a><br>"
      ],
      "text/plain": [
       "/Users/michaelp/Code/Tacotron-2/data/Hillary/wavs/script_16/script_23_chunk_4-rate=24000.wav"
      ]
     },
     "metadata": {},
     "output_type": "display_data"
    },
    {
     "data": {
      "text/markdown": [
       "\n",
       "\n",
       " ___"
      ],
      "text/plain": [
       "<IPython.core.display.Markdown object>"
      ]
     },
     "metadata": {},
     "output_type": "display_data"
    },
    {
     "data": {
      "text/markdown": [
       "**Text:** \"As a result, many organizations doing business within the EU began to draft policies to comply with this Directive.\""
      ],
      "text/plain": [
       "<IPython.core.display.Markdown object>"
      ]
     },
     "metadata": {},
     "output_type": "display_data"
    },
    {
     "data": {
      "text/html": [
       "<a href='../data/Hillary/wavs/script_14/script_6_chunk_1-rate=24000.wav' target='_blank'>../data/Hillary/wavs/script_14/script_6_chunk_1-rate=24000.wav</a><br>"
      ],
      "text/plain": [
       "/Users/michaelp/Code/Tacotron-2/data/Hillary/wavs/script_14/script_6_chunk_1-rate=24000.wav"
      ]
     },
     "metadata": {},
     "output_type": "display_data"
    },
    {
     "data": {
      "text/markdown": [
       "\n",
       "\n",
       " ___"
      ],
      "text/plain": [
       "<IPython.core.display.Markdown object>"
      ]
     },
     "metadata": {},
     "output_type": "display_data"
    },
    {
     "data": {
      "text/markdown": [
       "**Text:** \"There is a small suction cup underneath the counting device, making sure that the count is accurate\""
      ],
      "text/plain": [
       "<IPython.core.display.Markdown object>"
      ]
     },
     "metadata": {},
     "output_type": "display_data"
    },
    {
     "data": {
      "text/html": [
       "<a href='../data/Hillary/wavs/script_19/script_39_chunk_7-rate=24000.wav' target='_blank'>../data/Hillary/wavs/script_19/script_39_chunk_7-rate=24000.wav</a><br>"
      ],
      "text/plain": [
       "/Users/michaelp/Code/Tacotron-2/data/Hillary/wavs/script_19/script_39_chunk_7-rate=24000.wav"
      ]
     },
     "metadata": {},
     "output_type": "display_data"
    },
    {
     "data": {
      "text/markdown": [
       "\n",
       "\n",
       " ___"
      ],
      "text/plain": [
       "<IPython.core.display.Markdown object>"
      ]
     },
     "metadata": {},
     "output_type": "display_data"
    },
    {
     "data": {
      "text/markdown": [
       "**Text:** \"Kenneth R. Andrews helped popularize the framework\""
      ],
      "text/plain": [
       "<IPython.core.display.Markdown object>"
      ]
     },
     "metadata": {},
     "output_type": "display_data"
    },
    {
     "data": {
      "text/html": [
       "<a href='../data/Hillary/wavs/script_27/script_8_chunk_5-rate=24000.wav' target='_blank'>../data/Hillary/wavs/script_27/script_8_chunk_5-rate=24000.wav</a><br>"
      ],
      "text/plain": [
       "/Users/michaelp/Code/Tacotron-2/data/Hillary/wavs/script_27/script_8_chunk_5-rate=24000.wav"
      ]
     },
     "metadata": {},
     "output_type": "display_data"
    },
    {
     "data": {
      "text/markdown": [
       "\n",
       "\n",
       " ___"
      ],
      "text/plain": [
       "<IPython.core.display.Markdown object>"
      ]
     },
     "metadata": {},
     "output_type": "display_data"
    },
    {
     "data": {
      "text/markdown": [
       "**Text:** \"extended corporate social responsibility from the traditional economic and legal responsibility\""
      ],
      "text/plain": [
       "<IPython.core.display.Markdown object>"
      ]
     },
     "metadata": {},
     "output_type": "display_data"
    },
    {
     "data": {
      "text/html": [
       "<a href='../data/Hillary/wavs/script_16/script_38_chunk_24-rate=24000.wav' target='_blank'>../data/Hillary/wavs/script_16/script_38_chunk_24-rate=24000.wav</a><br>"
      ],
      "text/plain": [
       "/Users/michaelp/Code/Tacotron-2/data/Hillary/wavs/script_16/script_38_chunk_24-rate=24000.wav"
      ]
     },
     "metadata": {},
     "output_type": "display_data"
    },
    {
     "data": {
      "text/markdown": [
       "\n",
       "\n",
       " ___"
      ],
      "text/plain": [
       "<IPython.core.display.Markdown object>"
      ]
     },
     "metadata": {},
     "output_type": "display_data"
    },
    {
     "data": {
      "text/markdown": [
       "**Text:** \"CEOs' political ideologies are evident manifestations\""
      ],
      "text/plain": [
       "<IPython.core.display.Markdown object>"
      ]
     },
     "metadata": {},
     "output_type": "display_data"
    },
    {
     "data": {
      "text/html": [
       "<a href='../data/Hillary/wavs/script_16/script_50_chunk_0-rate=24000.wav' target='_blank'>../data/Hillary/wavs/script_16/script_50_chunk_0-rate=24000.wav</a><br>"
      ],
      "text/plain": [
       "/Users/michaelp/Code/Tacotron-2/data/Hillary/wavs/script_16/script_50_chunk_0-rate=24000.wav"
      ]
     },
     "metadata": {},
     "output_type": "display_data"
    },
    {
     "data": {
      "text/markdown": [
       "\n",
       "\n",
       " ___"
      ],
      "text/plain": [
       "<IPython.core.display.Markdown object>"
      ]
     },
     "metadata": {},
     "output_type": "display_data"
    },
    {
     "data": {
      "text/markdown": [
       "**Text:** \"The major branches of management are financial management, marketing management,\""
      ],
      "text/plain": [
       "<IPython.core.display.Markdown object>"
      ]
     },
     "metadata": {},
     "output_type": "display_data"
    },
    {
     "data": {
      "text/html": [
       "<a href='../data/Hillary/wavs/script_2/script_12_chunk_16-rate=24000.wav' target='_blank'>../data/Hillary/wavs/script_2/script_12_chunk_16-rate=24000.wav</a><br>"
      ],
      "text/plain": [
       "/Users/michaelp/Code/Tacotron-2/data/Hillary/wavs/script_2/script_12_chunk_16-rate=24000.wav"
      ]
     },
     "metadata": {},
     "output_type": "display_data"
    },
    {
     "data": {
      "text/markdown": [
       "\n",
       "\n",
       " ___"
      ],
      "text/plain": [
       "<IPython.core.display.Markdown object>"
      ]
     },
     "metadata": {},
     "output_type": "display_data"
    },
    {
     "data": {
      "text/markdown": [
       "**Text:** \"In Information Technology, the disambiguation\""
      ],
      "text/plain": [
       "<IPython.core.display.Markdown object>"
      ]
     },
     "metadata": {},
     "output_type": "display_data"
    },
    {
     "data": {
      "text/html": [
       "<a href='../data/Hillary/wavs/script_24/script_53_chunk_6-rate=24000.wav' target='_blank'>../data/Hillary/wavs/script_24/script_53_chunk_6-rate=24000.wav</a><br>"
      ],
      "text/plain": [
       "/Users/michaelp/Code/Tacotron-2/data/Hillary/wavs/script_24/script_53_chunk_6-rate=24000.wav"
      ]
     },
     "metadata": {},
     "output_type": "display_data"
    },
    {
     "data": {
      "text/markdown": [
       "\n",
       "\n",
       " ___"
      ],
      "text/plain": [
       "<IPython.core.display.Markdown object>"
      ]
     },
     "metadata": {},
     "output_type": "display_data"
    },
    {
     "data": {
      "text/markdown": [
       "**Text:** \"who can challenge her/his role in the organization and reduce it to that of a figurehead.\""
      ],
      "text/plain": [
       "<IPython.core.display.Markdown object>"
      ]
     },
     "metadata": {},
     "output_type": "display_data"
    },
    {
     "data": {
      "text/html": [
       "<a href='../data/Hillary/wavs/script_21/script_61_chunk_24-rate=24000.wav' target='_blank'>../data/Hillary/wavs/script_21/script_61_chunk_24-rate=24000.wav</a><br>"
      ],
      "text/plain": [
       "/Users/michaelp/Code/Tacotron-2/data/Hillary/wavs/script_21/script_61_chunk_24-rate=24000.wav"
      ]
     },
     "metadata": {},
     "output_type": "display_data"
    },
    {
     "data": {
      "text/markdown": [
       "\n",
       "\n",
       " ___"
      ],
      "text/plain": [
       "<IPython.core.display.Markdown object>"
      ]
     },
     "metadata": {},
     "output_type": "display_data"
    },
    {
     "data": {
      "text/markdown": [
       "**Text:** \"Critical thinking is significant in academics due to being significant in learning.\""
      ],
      "text/plain": [
       "<IPython.core.display.Markdown object>"
      ]
     },
     "metadata": {},
     "output_type": "display_data"
    },
    {
     "data": {
      "text/html": [
       "<a href='../data/Hillary/wavs/script_23/script_24_chunk_2-rate=24000.wav' target='_blank'>../data/Hillary/wavs/script_23/script_24_chunk_2-rate=24000.wav</a><br>"
      ],
      "text/plain": [
       "/Users/michaelp/Code/Tacotron-2/data/Hillary/wavs/script_23/script_24_chunk_2-rate=24000.wav"
      ]
     },
     "metadata": {},
     "output_type": "display_data"
    },
    {
     "data": {
      "text/markdown": [
       "\n",
       "\n",
       " ___"
      ],
      "text/plain": [
       "<IPython.core.display.Markdown object>"
      ]
     },
     "metadata": {},
     "output_type": "display_data"
    },
    {
     "data": {
      "text/markdown": [
       "**Text:** \"that its invention within living memory, and by Alfred North Whitehead\""
      ],
      "text/plain": [
       "<IPython.core.display.Markdown object>"
      ]
     },
     "metadata": {},
     "output_type": "display_data"
    },
    {
     "data": {
      "text/html": [
       "<a href='../data/Hillary/wavs/script_5/script_4_chunk_16-rate=24000.wav' target='_blank'>../data/Hillary/wavs/script_5/script_4_chunk_16-rate=24000.wav</a><br>"
      ],
      "text/plain": [
       "/Users/michaelp/Code/Tacotron-2/data/Hillary/wavs/script_5/script_4_chunk_16-rate=24000.wav"
      ]
     },
     "metadata": {},
     "output_type": "display_data"
    },
    {
     "data": {
      "text/markdown": [
       "\n",
       "\n",
       " ___"
      ],
      "text/plain": [
       "<IPython.core.display.Markdown object>"
      ]
     },
     "metadata": {},
     "output_type": "display_data"
    },
    {
     "data": {
      "text/markdown": [
       "**Text:** \"requires notice in writing of the privacy practices of health care services,\""
      ],
      "text/plain": [
       "<IPython.core.display.Markdown object>"
      ]
     },
     "metadata": {},
     "output_type": "display_data"
    },
    {
     "data": {
      "text/html": [
       "<a href='../data/Hillary/wavs/script_15/script_55_chunk_10-rate=24000.wav' target='_blank'>../data/Hillary/wavs/script_15/script_55_chunk_10-rate=24000.wav</a><br>"
      ],
      "text/plain": [
       "/Users/michaelp/Code/Tacotron-2/data/Hillary/wavs/script_15/script_55_chunk_10-rate=24000.wav"
      ]
     },
     "metadata": {},
     "output_type": "display_data"
    },
    {
     "data": {
      "text/markdown": [
       "\n",
       "\n",
       " ___"
      ],
      "text/plain": [
       "<IPython.core.display.Markdown object>"
      ]
     },
     "metadata": {},
     "output_type": "display_data"
    },
    {
     "data": {
      "text/markdown": [
       "**Text:** \"A business name structure does not separate the business entity from the owner,\""
      ],
      "text/plain": [
       "<IPython.core.display.Markdown object>"
      ]
     },
     "metadata": {},
     "output_type": "display_data"
    },
    {
     "data": {
      "text/html": [
       "<a href='../data/Hillary/wavs/script_15/script_8_chunk_8-rate=24000.wav' target='_blank'>../data/Hillary/wavs/script_15/script_8_chunk_8-rate=24000.wav</a><br>"
      ],
      "text/plain": [
       "/Users/michaelp/Code/Tacotron-2/data/Hillary/wavs/script_15/script_8_chunk_8-rate=24000.wav"
      ]
     },
     "metadata": {},
     "output_type": "display_data"
    },
    {
     "data": {
      "text/markdown": [
       "\n",
       "\n",
       " ___"
      ],
      "text/plain": [
       "<IPython.core.display.Markdown object>"
      ]
     },
     "metadata": {},
     "output_type": "display_data"
    },
    {
     "data": {
      "text/markdown": [
       "**Text:** \"they define and discuss information and policies from top management to lower management,\""
      ],
      "text/plain": [
       "<IPython.core.display.Markdown object>"
      ]
     },
     "metadata": {},
     "output_type": "display_data"
    },
    {
     "data": {
      "text/html": [
       "<a href='../data/Hillary/wavs/script_17/script_44_chunk_5-rate=24000.wav' target='_blank'>../data/Hillary/wavs/script_17/script_44_chunk_5-rate=24000.wav</a><br>"
      ],
      "text/plain": [
       "/Users/michaelp/Code/Tacotron-2/data/Hillary/wavs/script_17/script_44_chunk_5-rate=24000.wav"
      ]
     },
     "metadata": {},
     "output_type": "display_data"
    },
    {
     "data": {
      "text/markdown": [
       "\n",
       "\n",
       " ___"
      ],
      "text/plain": [
       "<IPython.core.display.Markdown object>"
      ]
     },
     "metadata": {},
     "output_type": "display_data"
    },
    {
     "data": {
      "text/markdown": [
       "**Text:** \"These changes required a greater mental capacity and, in turn, a larger brain size.\""
      ],
      "text/plain": [
       "<IPython.core.display.Markdown object>"
      ]
     },
     "metadata": {},
     "output_type": "display_data"
    },
    {
     "data": {
      "text/html": [
       "<a href='../data/Hillary/wavs/script_18/script_102_chunk_11-rate=24000.wav' target='_blank'>../data/Hillary/wavs/script_18/script_102_chunk_11-rate=24000.wav</a><br>"
      ],
      "text/plain": [
       "/Users/michaelp/Code/Tacotron-2/data/Hillary/wavs/script_18/script_102_chunk_11-rate=24000.wav"
      ]
     },
     "metadata": {},
     "output_type": "display_data"
    },
    {
     "data": {
      "text/markdown": [
       "\n",
       "\n",
       " ___"
      ],
      "text/plain": [
       "<IPython.core.display.Markdown object>"
      ]
     },
     "metadata": {},
     "output_type": "display_data"
    },
    {
     "data": {
      "text/markdown": [
       "**Text:** \"There were three phases according to Hymer's work. The first phase of Hymer's work was his dissertation in 1960\""
      ],
      "text/plain": [
       "<IPython.core.display.Markdown object>"
      ]
     },
     "metadata": {},
     "output_type": "display_data"
    },
    {
     "data": {
      "text/html": [
       "<a href='../data/Hillary/wavs/script_20/script_24_chunk_0-rate=24000.wav' target='_blank'>../data/Hillary/wavs/script_20/script_24_chunk_0-rate=24000.wav</a><br>"
      ],
      "text/plain": [
       "/Users/michaelp/Code/Tacotron-2/data/Hillary/wavs/script_20/script_24_chunk_0-rate=24000.wav"
      ]
     },
     "metadata": {},
     "output_type": "display_data"
    },
    {
     "data": {
      "text/markdown": [
       "\n",
       "\n",
       " ___"
      ],
      "text/plain": [
       "<IPython.core.display.Markdown object>"
      ]
     },
     "metadata": {},
     "output_type": "display_data"
    },
    {
     "data": {
      "text/markdown": [
       "**Text:** \"reciprocal\""
      ],
      "text/plain": [
       "<IPython.core.display.Markdown object>"
      ]
     },
     "metadata": {},
     "output_type": "display_data"
    },
    {
     "data": {
      "text/html": [
       "<a href='../data/Hillary/wavs/script_15/script_86_chunk_16-rate=24000.wav' target='_blank'>../data/Hillary/wavs/script_15/script_86_chunk_16-rate=24000.wav</a><br>"
      ],
      "text/plain": [
       "/Users/michaelp/Code/Tacotron-2/data/Hillary/wavs/script_15/script_86_chunk_16-rate=24000.wav"
      ]
     },
     "metadata": {},
     "output_type": "display_data"
    },
    {
     "data": {
      "text/markdown": [
       "\n",
       "\n",
       " ___"
      ],
      "text/plain": [
       "<IPython.core.display.Markdown object>"
      ]
     },
     "metadata": {},
     "output_type": "display_data"
    },
    {
     "data": {
      "text/markdown": [
       "**Text:** \"and a standing army are not the ideal ingredients for a 'get away from it all' holiday.\""
      ],
      "text/plain": [
       "<IPython.core.display.Markdown object>"
      ]
     },
     "metadata": {},
     "output_type": "display_data"
    },
    {
     "data": {
      "text/html": [
       "<a href='../data/Hillary/wavs/script_25/script_67_chunk_1-rate=24000.wav' target='_blank'>../data/Hillary/wavs/script_25/script_67_chunk_1-rate=24000.wav</a><br>"
      ],
      "text/plain": [
       "/Users/michaelp/Code/Tacotron-2/data/Hillary/wavs/script_25/script_67_chunk_1-rate=24000.wav"
      ]
     },
     "metadata": {},
     "output_type": "display_data"
    },
    {
     "data": {
      "text/markdown": [
       "\n",
       "\n",
       " ___"
      ],
      "text/plain": [
       "<IPython.core.display.Markdown object>"
      ]
     },
     "metadata": {},
     "output_type": "display_data"
    },
    {
     "data": {
      "text/markdown": [
       "**Text:** \"which take over once strategic management decisions are implemented.\""
      ],
      "text/plain": [
       "<IPython.core.display.Markdown object>"
      ]
     },
     "metadata": {},
     "output_type": "display_data"
    },
    {
     "data": {
      "text/html": [
       "<a href='../data/Hillary/wavs/script_26/script_23_chunk_9-rate=24000.wav' target='_blank'>../data/Hillary/wavs/script_26/script_23_chunk_9-rate=24000.wav</a><br>"
      ],
      "text/plain": [
       "/Users/michaelp/Code/Tacotron-2/data/Hillary/wavs/script_26/script_23_chunk_9-rate=24000.wav"
      ]
     },
     "metadata": {},
     "output_type": "display_data"
    },
    {
     "data": {
      "text/markdown": [
       "\n",
       "\n",
       " ___"
      ],
      "text/plain": [
       "<IPython.core.display.Markdown object>"
      ]
     },
     "metadata": {},
     "output_type": "display_data"
    },
    {
     "data": {
      "text/markdown": [
       "**Text:** \"Many state institutions and enterprises in China and Russia\""
      ],
      "text/plain": [
       "<IPython.core.display.Markdown object>"
      ]
     },
     "metadata": {},
     "output_type": "display_data"
    },
    {
     "data": {
      "text/html": [
       "<a href='../data/Hillary/wavs/script_18/script_78_chunk_3-rate=24000.wav' target='_blank'>../data/Hillary/wavs/script_18/script_78_chunk_3-rate=24000.wav</a><br>"
      ],
      "text/plain": [
       "/Users/michaelp/Code/Tacotron-2/data/Hillary/wavs/script_18/script_78_chunk_3-rate=24000.wav"
      ]
     },
     "metadata": {},
     "output_type": "display_data"
    },
    {
     "data": {
      "text/markdown": [
       "\n",
       "\n",
       " ___"
      ],
      "text/plain": [
       "<IPython.core.display.Markdown object>"
      ]
     },
     "metadata": {},
     "output_type": "display_data"
    },
    {
     "data": {
      "text/markdown": [
       "**Text:** \"More than 16 million Americans served in the armed forces during the war.\""
      ],
      "text/plain": [
       "<IPython.core.display.Markdown object>"
      ]
     },
     "metadata": {},
     "output_type": "display_data"
    },
    {
     "data": {
      "text/html": [
       "<a href='../data/Hillary/wavs/script_23/script_25_chunk_0-rate=24000.wav' target='_blank'>../data/Hillary/wavs/script_23/script_25_chunk_0-rate=24000.wav</a><br>"
      ],
      "text/plain": [
       "/Users/michaelp/Code/Tacotron-2/data/Hillary/wavs/script_23/script_25_chunk_0-rate=24000.wav"
      ]
     },
     "metadata": {},
     "output_type": "display_data"
    },
    {
     "data": {
      "text/markdown": [
       "\n",
       "\n",
       " ___"
      ],
      "text/plain": [
       "<IPython.core.display.Markdown object>"
      ]
     },
     "metadata": {},
     "output_type": "display_data"
    },
    {
     "data": {
      "text/markdown": [
       "**Text:** \"MMP will attempt to open and seal both the sealed and unsealed envelopes.\""
      ],
      "text/plain": [
       "<IPython.core.display.Markdown object>"
      ]
     },
     "metadata": {},
     "output_type": "display_data"
    },
    {
     "data": {
      "text/html": [
       "<a href='../data/Hillary/wavs/script_18/script_19_chunk_10-rate=24000.wav' target='_blank'>../data/Hillary/wavs/script_18/script_19_chunk_10-rate=24000.wav</a><br>"
      ],
      "text/plain": [
       "/Users/michaelp/Code/Tacotron-2/data/Hillary/wavs/script_18/script_19_chunk_10-rate=24000.wav"
      ]
     },
     "metadata": {},
     "output_type": "display_data"
    },
    {
     "data": {
      "text/markdown": [
       "\n",
       "\n",
       " ___"
      ],
      "text/plain": [
       "<IPython.core.display.Markdown object>"
      ]
     },
     "metadata": {},
     "output_type": "display_data"
    },
    {
     "data": {
      "text/markdown": [
       "**Text:** \"after their arrival at Cuatitlan .\""
      ],
      "text/plain": [
       "<IPython.core.display.Markdown object>"
      ]
     },
     "metadata": {},
     "output_type": "display_data"
    },
    {
     "data": {
      "text/html": [
       "<a href='../data/Hillary/wavs/script_19/script_52_chunk_39-rate=24000.wav' target='_blank'>../data/Hillary/wavs/script_19/script_52_chunk_39-rate=24000.wav</a><br>"
      ],
      "text/plain": [
       "/Users/michaelp/Code/Tacotron-2/data/Hillary/wavs/script_19/script_52_chunk_39-rate=24000.wav"
      ]
     },
     "metadata": {},
     "output_type": "display_data"
    },
    {
     "data": {
      "text/markdown": [
       "\n",
       "\n",
       " ___"
      ],
      "text/plain": [
       "<IPython.core.display.Markdown object>"
      ]
     },
     "metadata": {},
     "output_type": "display_data"
    },
    {
     "data": {
      "text/markdown": [
       "**Text:** \"But the brainwashing was soon to follow, for that is how true selling works.\""
      ],
      "text/plain": [
       "<IPython.core.display.Markdown object>"
      ]
     },
     "metadata": {},
     "output_type": "display_data"
    },
    {
     "data": {
      "text/html": [
       "<a href='../data/Hillary/wavs/script_21/script_15_chunk_20-rate=24000.wav' target='_blank'>../data/Hillary/wavs/script_21/script_15_chunk_20-rate=24000.wav</a><br>"
      ],
      "text/plain": [
       "/Users/michaelp/Code/Tacotron-2/data/Hillary/wavs/script_21/script_15_chunk_20-rate=24000.wav"
      ]
     },
     "metadata": {},
     "output_type": "display_data"
    },
    {
     "data": {
      "text/markdown": [
       "\n",
       "\n",
       " ___"
      ],
      "text/plain": [
       "<IPython.core.display.Markdown object>"
      ]
     },
     "metadata": {},
     "output_type": "display_data"
    },
    {
     "data": {
      "text/markdown": [
       "**Text:** \"Policy actors attempt to determine whether the course of action is a success or failure by examining its impact and outcomes.\""
      ],
      "text/plain": [
       "<IPython.core.display.Markdown object>"
      ]
     },
     "metadata": {},
     "output_type": "display_data"
    },
    {
     "data": {
      "text/html": [
       "<a href='../data/Hillary/wavs/script_17/script_53_chunk_15-rate=24000.wav' target='_blank'>../data/Hillary/wavs/script_17/script_53_chunk_15-rate=24000.wav</a><br>"
      ],
      "text/plain": [
       "/Users/michaelp/Code/Tacotron-2/data/Hillary/wavs/script_17/script_53_chunk_15-rate=24000.wav"
      ]
     },
     "metadata": {},
     "output_type": "display_data"
    },
    {
     "data": {
      "text/markdown": [
       "\n",
       "\n",
       " ___"
      ],
      "text/plain": [
       "<IPython.core.display.Markdown object>"
      ]
     },
     "metadata": {},
     "output_type": "display_data"
    },
    {
     "data": {
      "text/markdown": [
       "**Text:** \"Fungi communicate with their own and related species\""
      ],
      "text/plain": [
       "<IPython.core.display.Markdown object>"
      ]
     },
     "metadata": {},
     "output_type": "display_data"
    },
    {
     "data": {
      "text/html": [
       "<a href='../data/Hillary/wavs/script_2/script_5_chunk_10-rate=24000.wav' target='_blank'>../data/Hillary/wavs/script_2/script_5_chunk_10-rate=24000.wav</a><br>"
      ],
      "text/plain": [
       "/Users/michaelp/Code/Tacotron-2/data/Hillary/wavs/script_2/script_5_chunk_10-rate=24000.wav"
      ]
     },
     "metadata": {},
     "output_type": "display_data"
    },
    {
     "data": {
      "text/markdown": [
       "\n",
       "\n",
       " ___"
      ],
      "text/plain": [
       "<IPython.core.display.Markdown object>"
      ]
     },
     "metadata": {},
     "output_type": "display_data"
    },
    {
     "data": {
      "text/markdown": [
       "**Text:** \"Whistleblowers\""
      ],
      "text/plain": [
       "<IPython.core.display.Markdown object>"
      ]
     },
     "metadata": {},
     "output_type": "display_data"
    },
    {
     "data": {
      "text/html": [
       "<a href='../data/Hillary/wavs/script_19/script_22_chunk_0-rate=24000.wav' target='_blank'>../data/Hillary/wavs/script_19/script_22_chunk_0-rate=24000.wav</a><br>"
      ],
      "text/plain": [
       "/Users/michaelp/Code/Tacotron-2/data/Hillary/wavs/script_19/script_22_chunk_0-rate=24000.wav"
      ]
     },
     "metadata": {},
     "output_type": "display_data"
    },
    {
     "data": {
      "text/markdown": [
       "\n",
       "\n",
       " ___"
      ],
      "text/plain": [
       "<IPython.core.display.Markdown object>"
      ]
     },
     "metadata": {},
     "output_type": "display_data"
    },
    {
     "data": {
      "text/markdown": [
       "**Text:** \"may file a formal report, rather than confronting the wrongdoer, because confrontation would be more emotionally and psychologically stressful.\""
      ],
      "text/plain": [
       "<IPython.core.display.Markdown object>"
      ]
     },
     "metadata": {},
     "output_type": "display_data"
    },
    {
     "data": {
      "text/html": [
       "<a href='../data/Hillary/wavs/script_4/script_6_chunk_15-rate=24000.wav' target='_blank'>../data/Hillary/wavs/script_4/script_6_chunk_15-rate=24000.wav</a><br>"
      ],
      "text/plain": [
       "/Users/michaelp/Code/Tacotron-2/data/Hillary/wavs/script_4/script_6_chunk_15-rate=24000.wav"
      ]
     },
     "metadata": {},
     "output_type": "display_data"
    },
    {
     "data": {
      "text/markdown": [
       "\n",
       "\n",
       " ___"
      ],
      "text/plain": [
       "<IPython.core.display.Markdown object>"
      ]
     },
     "metadata": {},
     "output_type": "display_data"
    },
    {
     "data": {
      "text/markdown": [
       "**Text:** \"Canadian media scholar Harold Innis\""
      ],
      "text/plain": [
       "<IPython.core.display.Markdown object>"
      ]
     },
     "metadata": {},
     "output_type": "display_data"
    },
    {
     "data": {
      "text/html": [
       "<a href='../data/Hillary/wavs/script_19/script_100_chunk_3-rate=24000.wav' target='_blank'>../data/Hillary/wavs/script_19/script_100_chunk_3-rate=24000.wav</a><br>"
      ],
      "text/plain": [
       "/Users/michaelp/Code/Tacotron-2/data/Hillary/wavs/script_19/script_100_chunk_3-rate=24000.wav"
      ]
     },
     "metadata": {},
     "output_type": "display_data"
    },
    {
     "data": {
      "text/markdown": [
       "\n",
       "\n",
       " ___"
      ],
      "text/plain": [
       "<IPython.core.display.Markdown object>"
      ]
     },
     "metadata": {},
     "output_type": "display_data"
    },
    {
     "data": {
      "text/markdown": [
       "**Text:** \"when invading British troops set fire to the Capitol Building, burning and pillaging the contents of the small library.\""
      ],
      "text/plain": [
       "<IPython.core.display.Markdown object>"
      ]
     },
     "metadata": {},
     "output_type": "display_data"
    },
    {
     "data": {
      "text/html": [
       "<a href='../data/Hillary/wavs/script_26/script_25_chunk_4-rate=24000.wav' target='_blank'>../data/Hillary/wavs/script_26/script_25_chunk_4-rate=24000.wav</a><br>"
      ],
      "text/plain": [
       "/Users/michaelp/Code/Tacotron-2/data/Hillary/wavs/script_26/script_25_chunk_4-rate=24000.wav"
      ]
     },
     "metadata": {},
     "output_type": "display_data"
    },
    {
     "data": {
      "text/markdown": [
       "\n",
       "\n",
       " ___"
      ],
      "text/plain": [
       "<IPython.core.display.Markdown object>"
      ]
     },
     "metadata": {},
     "output_type": "display_data"
    },
    {
     "data": {
      "text/markdown": [
       "**Text:** \"Your face is red with blood.\""
      ],
      "text/plain": [
       "<IPython.core.display.Markdown object>"
      ]
     },
     "metadata": {},
     "output_type": "display_data"
    },
    {
     "data": {
      "text/html": [
       "<a href='../data/Hillary/wavs/script_24/script_33_chunk_0-rate=24000.wav' target='_blank'>../data/Hillary/wavs/script_24/script_33_chunk_0-rate=24000.wav</a><br>"
      ],
      "text/plain": [
       "/Users/michaelp/Code/Tacotron-2/data/Hillary/wavs/script_24/script_33_chunk_0-rate=24000.wav"
      ]
     },
     "metadata": {},
     "output_type": "display_data"
    },
    {
     "data": {
      "text/markdown": [
       "\n",
       "\n",
       " ___"
      ],
      "text/plain": [
       "<IPython.core.display.Markdown object>"
      ]
     },
     "metadata": {},
     "output_type": "display_data"
    },
    {
     "data": {
      "text/markdown": [
       "**Text:** \"Most stores and catalog companies are distributors or retailers.\""
      ],
      "text/plain": [
       "<IPython.core.display.Markdown object>"
      ]
     },
     "metadata": {},
     "output_type": "display_data"
    },
    {
     "data": {
      "text/html": [
       "<a href='../data/Hillary/wavs/script_0/script_6_chunk_17-rate=24000.wav' target='_blank'>../data/Hillary/wavs/script_0/script_6_chunk_17-rate=24000.wav</a><br>"
      ],
      "text/plain": [
       "/Users/michaelp/Code/Tacotron-2/data/Hillary/wavs/script_0/script_6_chunk_17-rate=24000.wav"
      ]
     },
     "metadata": {},
     "output_type": "display_data"
    },
    {
     "data": {
      "text/markdown": [
       "\n",
       "\n",
       " ___"
      ],
      "text/plain": [
       "<IPython.core.display.Markdown object>"
      ]
     },
     "metadata": {},
     "output_type": "display_data"
    },
    {
     "data": {
      "text/markdown": [
       "**Text:** \"Clicking on an underlined word or phrase will darken it.\""
      ],
      "text/plain": [
       "<IPython.core.display.Markdown object>"
      ]
     },
     "metadata": {},
     "output_type": "display_data"
    },
    {
     "data": {
      "text/html": [
       "<a href='../data/Hillary/wavs/script_13/script_5_chunk_7-rate=24000.wav' target='_blank'>../data/Hillary/wavs/script_13/script_5_chunk_7-rate=24000.wav</a><br>"
      ],
      "text/plain": [
       "/Users/michaelp/Code/Tacotron-2/data/Hillary/wavs/script_13/script_5_chunk_7-rate=24000.wav"
      ]
     },
     "metadata": {},
     "output_type": "display_data"
    },
    {
     "data": {
      "text/markdown": [
       "\n",
       "\n",
       " ___"
      ],
      "text/plain": [
       "<IPython.core.display.Markdown object>"
      ]
     },
     "metadata": {},
     "output_type": "display_data"
    },
    {
     "data": {
      "text/markdown": [
       "**Text:** \"With a beginning that was unlike any other beginning of a ‘war’ up until then,\""
      ],
      "text/plain": [
       "<IPython.core.display.Markdown object>"
      ]
     },
     "metadata": {},
     "output_type": "display_data"
    },
    {
     "data": {
      "text/html": [
       "<a href='../data/Hillary/wavs/script_26/script_0_chunk_6-rate=24000.wav' target='_blank'>../data/Hillary/wavs/script_26/script_0_chunk_6-rate=24000.wav</a><br>"
      ],
      "text/plain": [
       "/Users/michaelp/Code/Tacotron-2/data/Hillary/wavs/script_26/script_0_chunk_6-rate=24000.wav"
      ]
     },
     "metadata": {},
     "output_type": "display_data"
    },
    {
     "data": {
      "text/markdown": [
       "\n",
       "\n",
       " ___"
      ],
      "text/plain": [
       "<IPython.core.display.Markdown object>"
      ]
     },
     "metadata": {},
     "output_type": "display_data"
    },
    {
     "data": {
      "text/markdown": [
       "**Text:** \"steps that make it happen. When you're ready to begin, click \"episode 8\" on your screen. Ready?\""
      ],
      "text/plain": [
       "<IPython.core.display.Markdown object>"
      ]
     },
     "metadata": {},
     "output_type": "display_data"
    },
    {
     "data": {
      "text/html": [
       "<a href='../data/Hillary/wavs/script_13/script_9_chunk_2-rate=24000.wav' target='_blank'>../data/Hillary/wavs/script_13/script_9_chunk_2-rate=24000.wav</a><br>"
      ],
      "text/plain": [
       "/Users/michaelp/Code/Tacotron-2/data/Hillary/wavs/script_13/script_9_chunk_2-rate=24000.wav"
      ]
     },
     "metadata": {},
     "output_type": "display_data"
    },
    {
     "data": {
      "text/markdown": [
       "\n",
       "\n",
       " ___"
      ],
      "text/plain": [
       "<IPython.core.display.Markdown object>"
      ]
     },
     "metadata": {},
     "output_type": "display_data"
    },
    {
     "data": {
      "text/markdown": [
       "**Text:** \"Strategy should be seen as laying out the general path rather than precise steps.\""
      ],
      "text/plain": [
       "<IPython.core.display.Markdown object>"
      ]
     },
     "metadata": {},
     "output_type": "display_data"
    },
    {
     "data": {
      "text/html": [
       "<a href='../data/Hillary/wavs/script_26/script_69_chunk_3-rate=24000.wav' target='_blank'>../data/Hillary/wavs/script_26/script_69_chunk_3-rate=24000.wav</a><br>"
      ],
      "text/plain": [
       "/Users/michaelp/Code/Tacotron-2/data/Hillary/wavs/script_26/script_69_chunk_3-rate=24000.wav"
      ]
     },
     "metadata": {},
     "output_type": "display_data"
    },
    {
     "data": {
      "text/markdown": [
       "\n",
       "\n",
       " ___"
      ],
      "text/plain": [
       "<IPython.core.display.Markdown object>"
      ]
     },
     "metadata": {},
     "output_type": "display_data"
    },
    {
     "data": {
      "text/markdown": [
       "**Text:** \"Our goal is to teach and explain the fundamental rules of money, wealth and debt management.\""
      ],
      "text/plain": [
       "<IPython.core.display.Markdown object>"
      ]
     },
     "metadata": {},
     "output_type": "display_data"
    },
    {
     "data": {
      "text/html": [
       "<a href='../data/Hillary/wavs/script_15/script_53_chunk_0-rate=24000.wav' target='_blank'>../data/Hillary/wavs/script_15/script_53_chunk_0-rate=24000.wav</a><br>"
      ],
      "text/plain": [
       "/Users/michaelp/Code/Tacotron-2/data/Hillary/wavs/script_15/script_53_chunk_0-rate=24000.wav"
      ]
     },
     "metadata": {},
     "output_type": "display_data"
    },
    {
     "data": {
      "text/markdown": [
       "\n",
       "\n",
       " ___"
      ],
      "text/plain": [
       "<IPython.core.display.Markdown object>"
      ]
     },
     "metadata": {},
     "output_type": "display_data"
    },
    {
     "data": {
      "text/markdown": [
       "**Text:** \"Whistleblowing in the United Kingdom is subject to the Public Interest Disclosure Act 1998.\""
      ],
      "text/plain": [
       "<IPython.core.display.Markdown object>"
      ]
     },
     "metadata": {},
     "output_type": "display_data"
    },
    {
     "data": {
      "text/html": [
       "<a href='../data/Hillary/wavs/script_12/script_15_chunk_0-rate=24000.wav' target='_blank'>../data/Hillary/wavs/script_12/script_15_chunk_0-rate=24000.wav</a><br>"
      ],
      "text/plain": [
       "/Users/michaelp/Code/Tacotron-2/data/Hillary/wavs/script_12/script_15_chunk_0-rate=24000.wav"
      ]
     },
     "metadata": {},
     "output_type": "display_data"
    },
    {
     "data": {
      "text/markdown": [
       "\n",
       "\n",
       " ___"
      ],
      "text/plain": [
       "<IPython.core.display.Markdown object>"
      ]
     },
     "metadata": {},
     "output_type": "display_data"
    },
    {
     "data": {
      "text/markdown": [
       "**Text:** \"His voice was passionately rebellious.\""
      ],
      "text/plain": [
       "<IPython.core.display.Markdown object>"
      ]
     },
     "metadata": {},
     "output_type": "display_data"
    },
    {
     "data": {
      "text/html": [
       "<a href='../data/Hillary/wavs/script_17/script_33_chunk_0-rate=24000.wav' target='_blank'>../data/Hillary/wavs/script_17/script_33_chunk_0-rate=24000.wav</a><br>"
      ],
      "text/plain": [
       "/Users/michaelp/Code/Tacotron-2/data/Hillary/wavs/script_17/script_33_chunk_0-rate=24000.wav"
      ]
     },
     "metadata": {},
     "output_type": "display_data"
    },
    {
     "data": {
      "text/markdown": [
       "\n",
       "\n",
       " ___"
      ],
      "text/plain": [
       "<IPython.core.display.Markdown object>"
      ]
     },
     "metadata": {},
     "output_type": "display_data"
    },
    {
     "data": {
      "text/markdown": [
       "**Text:** \"shows that the company aims to treat all its staff equally.\""
      ],
      "text/plain": [
       "<IPython.core.display.Markdown object>"
      ]
     },
     "metadata": {},
     "output_type": "display_data"
    },
    {
     "data": {
      "text/html": [
       "<a href='../data/Hillary/wavs/script_26/script_70_chunk_2-rate=24000.wav' target='_blank'>../data/Hillary/wavs/script_26/script_70_chunk_2-rate=24000.wav</a><br>"
      ],
      "text/plain": [
       "/Users/michaelp/Code/Tacotron-2/data/Hillary/wavs/script_26/script_70_chunk_2-rate=24000.wav"
      ]
     },
     "metadata": {},
     "output_type": "display_data"
    },
    {
     "data": {
      "text/markdown": [
       "\n",
       "\n",
       " ___"
      ],
      "text/plain": [
       "<IPython.core.display.Markdown object>"
      ]
     },
     "metadata": {},
     "output_type": "display_data"
    },
    {
     "data": {
      "text/markdown": [
       "**Text:** \"is why and under what circumstances do people either act on the spot to stop illegal and otherwise unacceptable behavior\""
      ],
      "text/plain": [
       "<IPython.core.display.Markdown object>"
      ]
     },
     "metadata": {},
     "output_type": "display_data"
    },
    {
     "data": {
      "text/html": [
       "<a href='../data/Hillary/wavs/script_5/script_12_chunk_3-rate=24000.wav' target='_blank'>../data/Hillary/wavs/script_5/script_12_chunk_3-rate=24000.wav</a><br>"
      ],
      "text/plain": [
       "/Users/michaelp/Code/Tacotron-2/data/Hillary/wavs/script_5/script_12_chunk_3-rate=24000.wav"
      ]
     },
     "metadata": {},
     "output_type": "display_data"
    },
    {
     "data": {
      "text/markdown": [
       "\n",
       "\n",
       " ___"
      ],
      "text/plain": [
       "<IPython.core.display.Markdown object>"
      ]
     },
     "metadata": {},
     "output_type": "display_data"
    },
    {
     "data": {
      "text/markdown": [
       "**Text:** \"preparing them for top positions.\""
      ],
      "text/plain": [
       "<IPython.core.display.Markdown object>"
      ]
     },
     "metadata": {},
     "output_type": "display_data"
    },
    {
     "data": {
      "text/html": [
       "<a href='../data/Hillary/wavs/script_22/script_37_chunk_3-rate=24000.wav' target='_blank'>../data/Hillary/wavs/script_22/script_37_chunk_3-rate=24000.wav</a><br>"
      ],
      "text/plain": [
       "/Users/michaelp/Code/Tacotron-2/data/Hillary/wavs/script_22/script_37_chunk_3-rate=24000.wav"
      ]
     },
     "metadata": {},
     "output_type": "display_data"
    },
    {
     "data": {
      "text/markdown": [
       "\n",
       "\n",
       " ___"
      ],
      "text/plain": [
       "<IPython.core.display.Markdown object>"
      ]
     },
     "metadata": {},
     "output_type": "display_data"
    },
    {
     "data": {
      "text/markdown": [
       "**Text:** \"MFC samples.  Myapp lets you open new child windows,\""
      ],
      "text/plain": [
       "<IPython.core.display.Markdown object>"
      ]
     },
     "metadata": {},
     "output_type": "display_data"
    },
    {
     "data": {
      "text/html": [
       "<a href='../data/Hillary/wavs/script_7/script_3_chunk_2-rate=24000.wav' target='_blank'>../data/Hillary/wavs/script_7/script_3_chunk_2-rate=24000.wav</a><br>"
      ],
      "text/plain": [
       "/Users/michaelp/Code/Tacotron-2/data/Hillary/wavs/script_7/script_3_chunk_2-rate=24000.wav"
      ]
     },
     "metadata": {},
     "output_type": "display_data"
    },
    {
     "data": {
      "text/markdown": [
       "\n",
       "\n",
       " ___"
      ],
      "text/plain": [
       "<IPython.core.display.Markdown object>"
      ]
     },
     "metadata": {},
     "output_type": "display_data"
    },
    {
     "data": {
      "text/markdown": [
       "**Text:** \"and your environment. Recording should always be done in the quietest possible space,\""
      ],
      "text/plain": [
       "<IPython.core.display.Markdown object>"
      ]
     },
     "metadata": {},
     "output_type": "display_data"
    },
    {
     "data": {
      "text/html": [
       "<a href='../data/Hillary/wavs/script_16/script_0_chunk_10-rate=24000.wav' target='_blank'>../data/Hillary/wavs/script_16/script_0_chunk_10-rate=24000.wav</a><br>"
      ],
      "text/plain": [
       "/Users/michaelp/Code/Tacotron-2/data/Hillary/wavs/script_16/script_0_chunk_10-rate=24000.wav"
      ]
     },
     "metadata": {},
     "output_type": "display_data"
    },
    {
     "data": {
      "text/markdown": [
       "\n",
       "\n",
       " ___"
      ],
      "text/plain": [
       "<IPython.core.display.Markdown object>"
      ]
     },
     "metadata": {},
     "output_type": "display_data"
    },
    {
     "data": {
      "text/markdown": [
       "**Text:** \"suffered what some thought might be terminal health complications,\""
      ],
      "text/plain": [
       "<IPython.core.display.Markdown object>"
      ]
     },
     "metadata": {},
     "output_type": "display_data"
    },
    {
     "data": {
      "text/html": [
       "<a href='../data/Hillary/wavs/script_25/script_86_chunk_6-rate=24000.wav' target='_blank'>../data/Hillary/wavs/script_25/script_86_chunk_6-rate=24000.wav</a><br>"
      ],
      "text/plain": [
       "/Users/michaelp/Code/Tacotron-2/data/Hillary/wavs/script_25/script_86_chunk_6-rate=24000.wav"
      ]
     },
     "metadata": {},
     "output_type": "display_data"
    },
    {
     "data": {
      "text/markdown": [
       "\n",
       "\n",
       " ___"
      ],
      "text/plain": [
       "<IPython.core.display.Markdown object>"
      ]
     },
     "metadata": {},
     "output_type": "display_data"
    },
    {
     "data": {
      "text/markdown": [
       "**Text:** \"The need for continuous adaption\""
      ],
      "text/plain": [
       "<IPython.core.display.Markdown object>"
      ]
     },
     "metadata": {},
     "output_type": "display_data"
    },
    {
     "data": {
      "text/html": [
       "<a href='../data/Hillary/wavs/script_16/script_71_chunk_19-rate=24000.wav' target='_blank'>../data/Hillary/wavs/script_16/script_71_chunk_19-rate=24000.wav</a><br>"
      ],
      "text/plain": [
       "/Users/michaelp/Code/Tacotron-2/data/Hillary/wavs/script_16/script_71_chunk_19-rate=24000.wav"
      ]
     },
     "metadata": {},
     "output_type": "display_data"
    },
    {
     "data": {
      "text/markdown": [
       "\n",
       "\n",
       " ___"
      ],
      "text/plain": [
       "<IPython.core.display.Markdown object>"
      ]
     },
     "metadata": {},
     "output_type": "display_data"
    },
    {
     "data": {
      "text/markdown": [
       "**Text:** \"Rough edges on your nails will impair the tone of your playing,\""
      ],
      "text/plain": [
       "<IPython.core.display.Markdown object>"
      ]
     },
     "metadata": {},
     "output_type": "display_data"
    },
    {
     "data": {
      "text/html": [
       "<a href='../data/Hillary/wavs/script_16/script_2_chunk_3-rate=24000.wav' target='_blank'>../data/Hillary/wavs/script_16/script_2_chunk_3-rate=24000.wav</a><br>"
      ],
      "text/plain": [
       "/Users/michaelp/Code/Tacotron-2/data/Hillary/wavs/script_16/script_2_chunk_3-rate=24000.wav"
      ]
     },
     "metadata": {},
     "output_type": "display_data"
    },
    {
     "data": {
      "text/markdown": [
       "\n",
       "\n",
       " ___"
      ],
      "text/plain": [
       "<IPython.core.display.Markdown object>"
      ]
     },
     "metadata": {},
     "output_type": "display_data"
    },
    {
     "data": {
      "text/markdown": [
       "**Text:** \"Then \"the risk that a government will indiscriminately change the laws, regulations, or contracts governing an investment—\""
      ],
      "text/plain": [
       "<IPython.core.display.Markdown object>"
      ]
     },
     "metadata": {},
     "output_type": "display_data"
    },
    {
     "data": {
      "text/html": [
       "<a href='../data/Hillary/wavs/script_25/script_31_chunk_8-rate=24000.wav' target='_blank'>../data/Hillary/wavs/script_25/script_31_chunk_8-rate=24000.wav</a><br>"
      ],
      "text/plain": [
       "/Users/michaelp/Code/Tacotron-2/data/Hillary/wavs/script_25/script_31_chunk_8-rate=24000.wav"
      ]
     },
     "metadata": {},
     "output_type": "display_data"
    },
    {
     "data": {
      "text/markdown": [
       "\n",
       "\n",
       " ___"
      ],
      "text/plain": [
       "<IPython.core.display.Markdown object>"
      ]
     },
     "metadata": {},
     "output_type": "display_data"
    },
    {
     "data": {
      "text/markdown": [
       "**Text:** \"it has \"flow-through taxation to the members\" and must be \"dissolved upon the death or bankruptcy of a member\".\""
      ],
      "text/plain": [
       "<IPython.core.display.Markdown object>"
      ]
     },
     "metadata": {},
     "output_type": "display_data"
    },
    {
     "data": {
      "text/html": [
       "<a href='../data/Hillary/wavs/script_24/script_26_chunk_6-rate=24000.wav' target='_blank'>../data/Hillary/wavs/script_24/script_26_chunk_6-rate=24000.wav</a><br>"
      ],
      "text/plain": [
       "/Users/michaelp/Code/Tacotron-2/data/Hillary/wavs/script_24/script_26_chunk_6-rate=24000.wav"
      ]
     },
     "metadata": {},
     "output_type": "display_data"
    },
    {
     "data": {
      "text/markdown": [
       "\n",
       "\n",
       " ___"
      ],
      "text/plain": [
       "<IPython.core.display.Markdown object>"
      ]
     },
     "metadata": {},
     "output_type": "display_data"
    },
    {
     "data": {
      "text/markdown": [
       "**Text:** \"From 1997\""
      ],
      "text/plain": [
       "<IPython.core.display.Markdown object>"
      ]
     },
     "metadata": {},
     "output_type": "display_data"
    },
    {
     "data": {
      "text/html": [
       "<a href='../data/Hillary/wavs/script_24/script_66_chunk_3-rate=24000.wav' target='_blank'>../data/Hillary/wavs/script_24/script_66_chunk_3-rate=24000.wav</a><br>"
      ],
      "text/plain": [
       "/Users/michaelp/Code/Tacotron-2/data/Hillary/wavs/script_24/script_66_chunk_3-rate=24000.wav"
      ]
     },
     "metadata": {},
     "output_type": "display_data"
    },
    {
     "data": {
      "text/markdown": [
       "\n",
       "\n",
       " ___"
      ],
      "text/plain": [
       "<IPython.core.display.Markdown object>"
      ]
     },
     "metadata": {},
     "output_type": "display_data"
    },
    {
     "data": {
      "text/markdown": [
       "**Text:** \"and see if their means are normally distributed. If not, the sample size should be increased.\""
      ],
      "text/plain": [
       "<IPython.core.display.Markdown object>"
      ]
     },
     "metadata": {},
     "output_type": "display_data"
    },
    {
     "data": {
      "text/html": [
       "<a href='../data/Hillary/wavs/script_8/script_5_chunk_7-rate=24000.wav' target='_blank'>../data/Hillary/wavs/script_8/script_5_chunk_7-rate=24000.wav</a><br>"
      ],
      "text/plain": [
       "/Users/michaelp/Code/Tacotron-2/data/Hillary/wavs/script_8/script_5_chunk_7-rate=24000.wav"
      ]
     },
     "metadata": {},
     "output_type": "display_data"
    },
    {
     "data": {
      "text/markdown": [
       "\n",
       "\n",
       " ___"
      ],
      "text/plain": [
       "<IPython.core.display.Markdown object>"
      ]
     },
     "metadata": {},
     "output_type": "display_data"
    },
    {
     "data": {
      "text/markdown": [
       "**Text:** \"The reason it is called a cycle is that once one is completed with a problem another usually will pop up.\""
      ],
      "text/plain": [
       "<IPython.core.display.Markdown object>"
      ]
     },
     "metadata": {},
     "output_type": "display_data"
    },
    {
     "data": {
      "text/html": [
       "<a href='../data/Hillary/wavs/script_5/script_17_chunk_7-rate=24000.wav' target='_blank'>../data/Hillary/wavs/script_5/script_17_chunk_7-rate=24000.wav</a><br>"
      ],
      "text/plain": [
       "/Users/michaelp/Code/Tacotron-2/data/Hillary/wavs/script_5/script_17_chunk_7-rate=24000.wav"
      ]
     },
     "metadata": {},
     "output_type": "display_data"
    },
    {
     "data": {
      "text/markdown": [
       "\n",
       "\n",
       " ___"
      ],
      "text/plain": [
       "<IPython.core.display.Markdown object>"
      ]
     },
     "metadata": {},
     "output_type": "display_data"
    },
    {
     "data": {
      "text/markdown": [
       "**Text:** \"The boy grew and prospered.\""
      ],
      "text/plain": [
       "<IPython.core.display.Markdown object>"
      ]
     },
     "metadata": {},
     "output_type": "display_data"
    },
    {
     "data": {
      "text/html": [
       "<a href='../data/Hillary/wavs/script_28/script_55_chunk_0-rate=24000.wav' target='_blank'>../data/Hillary/wavs/script_28/script_55_chunk_0-rate=24000.wav</a><br>"
      ],
      "text/plain": [
       "/Users/michaelp/Code/Tacotron-2/data/Hillary/wavs/script_28/script_55_chunk_0-rate=24000.wav"
      ]
     },
     "metadata": {},
     "output_type": "display_data"
    },
    {
     "data": {
      "text/markdown": [
       "\n",
       "\n",
       " ___"
      ],
      "text/plain": [
       "<IPython.core.display.Markdown object>"
      ]
     },
     "metadata": {},
     "output_type": "display_data"
    },
    {
     "data": {
      "text/markdown": [
       "**Text:** \"Power is a stronger form of influence because it reflects a person's ability to enforce action\""
      ],
      "text/plain": [
       "<IPython.core.display.Markdown object>"
      ]
     },
     "metadata": {},
     "output_type": "display_data"
    },
    {
     "data": {
      "text/html": [
       "<a href='../data/Hillary/wavs/script_21/script_61_chunk_12-rate=24000.wav' target='_blank'>../data/Hillary/wavs/script_21/script_61_chunk_12-rate=24000.wav</a><br>"
      ],
      "text/plain": [
       "/Users/michaelp/Code/Tacotron-2/data/Hillary/wavs/script_21/script_61_chunk_12-rate=24000.wav"
      ]
     },
     "metadata": {},
     "output_type": "display_data"
    },
    {
     "data": {
      "text/markdown": [
       "\n",
       "\n",
       " ___"
      ],
      "text/plain": [
       "<IPython.core.display.Markdown object>"
      ]
     },
     "metadata": {},
     "output_type": "display_data"
    },
    {
     "data": {
      "text/markdown": [
       "**Text:** \"we begin working on the shorter axis.\""
      ],
      "text/plain": [
       "<IPython.core.display.Markdown object>"
      ]
     },
     "metadata": {},
     "output_type": "display_data"
    },
    {
     "data": {
      "text/html": [
       "<a href='../data/Hillary/wavs/script_10/script_8_chunk_12-rate=24000.wav' target='_blank'>../data/Hillary/wavs/script_10/script_8_chunk_12-rate=24000.wav</a><br>"
      ],
      "text/plain": [
       "/Users/michaelp/Code/Tacotron-2/data/Hillary/wavs/script_10/script_8_chunk_12-rate=24000.wav"
      ]
     },
     "metadata": {},
     "output_type": "display_data"
    },
    {
     "data": {
      "text/markdown": [
       "\n",
       "\n",
       " ___"
      ],
      "text/plain": [
       "<IPython.core.display.Markdown object>"
      ]
     },
     "metadata": {},
     "output_type": "display_data"
    },
    {
     "data": {
      "text/markdown": [
       "**Text:** \"Liane Gabora, posits that creativity arises due to the self-organizing,\""
      ],
      "text/plain": [
       "<IPython.core.display.Markdown object>"
      ]
     },
     "metadata": {},
     "output_type": "display_data"
    },
    {
     "data": {
      "text/html": [
       "<a href='../data/Hillary/wavs/script_19/script_12_chunk_2-rate=24000.wav' target='_blank'>../data/Hillary/wavs/script_19/script_12_chunk_2-rate=24000.wav</a><br>"
      ],
      "text/plain": [
       "/Users/michaelp/Code/Tacotron-2/data/Hillary/wavs/script_19/script_12_chunk_2-rate=24000.wav"
      ]
     },
     "metadata": {},
     "output_type": "display_data"
    },
    {
     "data": {
      "text/markdown": [
       "\n",
       "\n",
       " ___"
      ],
      "text/plain": [
       "<IPython.core.display.Markdown object>"
      ]
     },
     "metadata": {},
     "output_type": "display_data"
    },
    {
     "data": {
      "text/markdown": [
       "**Text:** \"Critical thinking calls for the ability to:\n",
       "\n",
       "Recognize problems, to find workable means for meeting those problems\""
      ],
      "text/plain": [
       "<IPython.core.display.Markdown object>"
      ]
     },
     "metadata": {},
     "output_type": "display_data"
    },
    {
     "data": {
      "text/html": [
       "<a href='../data/Hillary/wavs/script_18/script_73_chunk_0-rate=24000.wav' target='_blank'>../data/Hillary/wavs/script_18/script_73_chunk_0-rate=24000.wav</a><br>"
      ],
      "text/plain": [
       "/Users/michaelp/Code/Tacotron-2/data/Hillary/wavs/script_18/script_73_chunk_0-rate=24000.wav"
      ]
     },
     "metadata": {},
     "output_type": "display_data"
    },
    {
     "data": {
      "text/markdown": [
       "\n",
       "\n",
       " ___"
      ],
      "text/plain": [
       "<IPython.core.display.Markdown object>"
      ]
     },
     "metadata": {},
     "output_type": "display_data"
    },
    {
     "data": {
      "text/markdown": [
       "**Text:** \"In the English and Welsh school systems, Critical Thinking is offered as a subject that 16- to\""
      ],
      "text/plain": [
       "<IPython.core.display.Markdown object>"
      ]
     },
     "metadata": {},
     "output_type": "display_data"
    },
    {
     "data": {
      "text/html": [
       "<a href='../data/Hillary/wavs/script_20/script_3_chunk_0-rate=24000.wav' target='_blank'>../data/Hillary/wavs/script_20/script_3_chunk_0-rate=24000.wav</a><br>"
      ],
      "text/plain": [
       "/Users/michaelp/Code/Tacotron-2/data/Hillary/wavs/script_20/script_3_chunk_0-rate=24000.wav"
      ]
     },
     "metadata": {},
     "output_type": "display_data"
    },
    {
     "data": {
      "text/markdown": [
       "\n",
       "\n",
       " ___"
      ],
      "text/plain": [
       "<IPython.core.display.Markdown object>"
      ]
     },
     "metadata": {},
     "output_type": "display_data"
    },
    {
     "data": {
      "text/markdown": [
       "**Text:** \"concluded that bachelor's degree and master's degree holders felt that the training received through education\""
      ],
      "text/plain": [
       "<IPython.core.display.Markdown object>"
      ]
     },
     "metadata": {},
     "output_type": "display_data"
    },
    {
     "data": {
      "text/html": [
       "<a href='../data/Hillary/wavs/script_17/script_35_chunk_11-rate=24000.wav' target='_blank'>../data/Hillary/wavs/script_17/script_35_chunk_11-rate=24000.wav</a><br>"
      ],
      "text/plain": [
       "/Users/michaelp/Code/Tacotron-2/data/Hillary/wavs/script_17/script_35_chunk_11-rate=24000.wav"
      ]
     },
     "metadata": {},
     "output_type": "display_data"
    },
    {
     "data": {
      "text/markdown": [
       "\n",
       "\n",
       " ___"
      ],
      "text/plain": [
       "<IPython.core.display.Markdown object>"
      ]
     },
     "metadata": {},
     "output_type": "display_data"
    },
    {
     "data": {
      "text/markdown": [
       "**Text:** \"Now Irvine was a man of impulse, a poet.\""
      ],
      "text/plain": [
       "<IPython.core.display.Markdown object>"
      ]
     },
     "metadata": {},
     "output_type": "display_data"
    },
    {
     "data": {
      "text/html": [
       "<a href='../data/Hillary/wavs/script_21/script_1_chunk_0-rate=24000.wav' target='_blank'>../data/Hillary/wavs/script_21/script_1_chunk_0-rate=24000.wav</a><br>"
      ],
      "text/plain": [
       "/Users/michaelp/Code/Tacotron-2/data/Hillary/wavs/script_21/script_1_chunk_0-rate=24000.wav"
      ]
     },
     "metadata": {},
     "output_type": "display_data"
    },
    {
     "data": {
      "text/markdown": [
       "\n",
       "\n",
       " ___"
      ],
      "text/plain": [
       "<IPython.core.display.Markdown object>"
      ]
     },
     "metadata": {},
     "output_type": "display_data"
    },
    {
     "data": {
      "text/markdown": [
       "**Text:** \"for Germans it provides secure employment;\""
      ],
      "text/plain": [
       "<IPython.core.display.Markdown object>"
      ]
     },
     "metadata": {},
     "output_type": "display_data"
    },
    {
     "data": {
      "text/html": [
       "<a href='../data/Hillary/wavs/script_16/script_46_chunk_4-rate=24000.wav' target='_blank'>../data/Hillary/wavs/script_16/script_46_chunk_4-rate=24000.wav</a><br>"
      ],
      "text/plain": [
       "/Users/michaelp/Code/Tacotron-2/data/Hillary/wavs/script_16/script_46_chunk_4-rate=24000.wav"
      ]
     },
     "metadata": {},
     "output_type": "display_data"
    },
    {
     "data": {
      "text/markdown": [
       "\n",
       "\n",
       " ___"
      ],
      "text/plain": [
       "<IPython.core.display.Markdown object>"
      ]
     },
     "metadata": {},
     "output_type": "display_data"
    },
    {
     "data": {
      "text/markdown": [
       "**Text:** \"The local leader of the Romanian management consulting market is Ensight Management Consulting.\""
      ],
      "text/plain": [
       "<IPython.core.display.Markdown object>"
      ]
     },
     "metadata": {},
     "output_type": "display_data"
    },
    {
     "data": {
      "text/html": [
       "<a href='../data/Hillary/wavs/script_24/script_72_chunk_11-rate=24000.wav' target='_blank'>../data/Hillary/wavs/script_24/script_72_chunk_11-rate=24000.wav</a><br>"
      ],
      "text/plain": [
       "/Users/michaelp/Code/Tacotron-2/data/Hillary/wavs/script_24/script_72_chunk_11-rate=24000.wav"
      ]
     },
     "metadata": {},
     "output_type": "display_data"
    },
    {
     "data": {
      "text/markdown": [
       "\n",
       "\n",
       " ___"
      ],
      "text/plain": [
       "<IPython.core.display.Markdown object>"
      ]
     },
     "metadata": {},
     "output_type": "display_data"
    },
    {
     "data": {
      "text/markdown": [
       "**Text:** \"represents the key to solving the problem.\""
      ],
      "text/plain": [
       "<IPython.core.display.Markdown object>"
      ]
     },
     "metadata": {},
     "output_type": "display_data"
    },
    {
     "data": {
      "text/html": [
       "<a href='../data/Hillary/wavs/script_17/script_47_chunk_10-rate=24000.wav' target='_blank'>../data/Hillary/wavs/script_17/script_47_chunk_10-rate=24000.wav</a><br>"
      ],
      "text/plain": [
       "/Users/michaelp/Code/Tacotron-2/data/Hillary/wavs/script_17/script_47_chunk_10-rate=24000.wav"
      ]
     },
     "metadata": {},
     "output_type": "display_data"
    },
    {
     "data": {
      "text/markdown": [
       "\n",
       "\n",
       " ___"
      ],
      "text/plain": [
       "<IPython.core.display.Markdown object>"
      ]
     },
     "metadata": {},
     "output_type": "display_data"
    },
    {
     "data": {
      "text/markdown": [
       "**Text:** \"or sometimes being eliminated outright).\""
      ],
      "text/plain": [
       "<IPython.core.display.Markdown object>"
      ]
     },
     "metadata": {},
     "output_type": "display_data"
    },
    {
     "data": {
      "text/html": [
       "<a href='../data/Hillary/wavs/script_6/script_5_chunk_6-rate=24000.wav' target='_blank'>../data/Hillary/wavs/script_6/script_5_chunk_6-rate=24000.wav</a><br>"
      ],
      "text/plain": [
       "/Users/michaelp/Code/Tacotron-2/data/Hillary/wavs/script_6/script_5_chunk_6-rate=24000.wav"
      ]
     },
     "metadata": {},
     "output_type": "display_data"
    },
    {
     "data": {
      "text/markdown": [
       "\n",
       "\n",
       " ___"
      ],
      "text/plain": [
       "<IPython.core.display.Markdown object>"
      ]
     },
     "metadata": {},
     "output_type": "display_data"
    },
    {
     "data": {
      "text/markdown": [
       "**Text:** \"or collect some news from the television\""
      ],
      "text/plain": [
       "<IPython.core.display.Markdown object>"
      ]
     },
     "metadata": {},
     "output_type": "display_data"
    },
    {
     "data": {
      "text/html": [
       "<a href='../data/Hillary/wavs/script_28/script_134_chunk_4-rate=24000.wav' target='_blank'>../data/Hillary/wavs/script_28/script_134_chunk_4-rate=24000.wav</a><br>"
      ],
      "text/plain": [
       "/Users/michaelp/Code/Tacotron-2/data/Hillary/wavs/script_28/script_134_chunk_4-rate=24000.wav"
      ]
     },
     "metadata": {},
     "output_type": "display_data"
    },
    {
     "data": {
      "text/markdown": [
       "\n",
       "\n",
       " ___"
      ],
      "text/plain": [
       "<IPython.core.display.Markdown object>"
      ]
     },
     "metadata": {},
     "output_type": "display_data"
    },
    {
     "data": {
      "text/markdown": [
       "**Text:** \"within the boundaries set by the organization's strategy.\""
      ],
      "text/plain": [
       "<IPython.core.display.Markdown object>"
      ]
     },
     "metadata": {},
     "output_type": "display_data"
    },
    {
     "data": {
      "text/html": [
       "<a href='../data/Hillary/wavs/script_17/script_57_chunk_21-rate=24000.wav' target='_blank'>../data/Hillary/wavs/script_17/script_57_chunk_21-rate=24000.wav</a><br>"
      ],
      "text/plain": [
       "/Users/michaelp/Code/Tacotron-2/data/Hillary/wavs/script_17/script_57_chunk_21-rate=24000.wav"
      ]
     },
     "metadata": {},
     "output_type": "display_data"
    },
    {
     "data": {
      "text/markdown": [
       "\n",
       "\n",
       " ___"
      ],
      "text/plain": [
       "<IPython.core.display.Markdown object>"
      ]
     },
     "metadata": {},
     "output_type": "display_data"
    },
    {
     "data": {
      "text/markdown": [
       "**Text:** \"Suddenly his fingers closed tightly over the handkerchief.\""
      ],
      "text/plain": [
       "<IPython.core.display.Markdown object>"
      ]
     },
     "metadata": {},
     "output_type": "display_data"
    },
    {
     "data": {
      "text/html": [
       "<a href='../data/Hillary/wavs/script_6/script_1_chunk_0-rate=24000.wav' target='_blank'>../data/Hillary/wavs/script_6/script_1_chunk_0-rate=24000.wav</a><br>"
      ],
      "text/plain": [
       "/Users/michaelp/Code/Tacotron-2/data/Hillary/wavs/script_6/script_1_chunk_0-rate=24000.wav"
      ]
     },
     "metadata": {},
     "output_type": "display_data"
    },
    {
     "data": {
      "text/markdown": [
       "\n",
       "\n",
       " ___"
      ],
      "text/plain": [
       "<IPython.core.display.Markdown object>"
      ]
     },
     "metadata": {},
     "output_type": "display_data"
    },
    {
     "data": {
      "text/markdown": [
       "**Text:** \"Pioneering scientists are trekking across new frontiers of neuroscience\""
      ],
      "text/plain": [
       "<IPython.core.display.Markdown object>"
      ]
     },
     "metadata": {},
     "output_type": "display_data"
    },
    {
     "data": {
      "text/html": [
       "<a href='../data/Hillary/wavs/script_21/script_26_chunk_1-rate=24000.wav' target='_blank'>../data/Hillary/wavs/script_21/script_26_chunk_1-rate=24000.wav</a><br>"
      ],
      "text/plain": [
       "/Users/michaelp/Code/Tacotron-2/data/Hillary/wavs/script_21/script_26_chunk_1-rate=24000.wav"
      ]
     },
     "metadata": {},
     "output_type": "display_data"
    },
    {
     "data": {
      "text/markdown": [
       "\n",
       "\n",
       " ___"
      ],
      "text/plain": [
       "<IPython.core.display.Markdown object>"
      ]
     },
     "metadata": {},
     "output_type": "display_data"
    },
    {
     "data": {
      "text/markdown": [
       "**Text:** \"organizations are increasingly adopting the use of consolidated and\""
      ],
      "text/plain": [
       "<IPython.core.display.Markdown object>"
      ]
     },
     "metadata": {},
     "output_type": "display_data"
    },
    {
     "data": {
      "text/html": [
       "<a href='../data/Hillary/wavs/script_8/script_13_chunk_4-rate=24000.wav' target='_blank'>../data/Hillary/wavs/script_8/script_13_chunk_4-rate=24000.wav</a><br>"
      ],
      "text/plain": [
       "/Users/michaelp/Code/Tacotron-2/data/Hillary/wavs/script_8/script_13_chunk_4-rate=24000.wav"
      ]
     },
     "metadata": {},
     "output_type": "display_data"
    },
    {
     "data": {
      "text/markdown": [
       "\n",
       "\n",
       " ___"
      ],
      "text/plain": [
       "<IPython.core.display.Markdown object>"
      ]
     },
     "metadata": {},
     "output_type": "display_data"
    },
    {
     "data": {
      "text/markdown": [
       "**Text:** \"In 1987\""
      ],
      "text/plain": [
       "<IPython.core.display.Markdown object>"
      ]
     },
     "metadata": {},
     "output_type": "display_data"
    },
    {
     "data": {
      "text/html": [
       "<a href='../data/Hillary/wavs/script_28/script_54_chunk_10-rate=24000.wav' target='_blank'>../data/Hillary/wavs/script_28/script_54_chunk_10-rate=24000.wav</a><br>"
      ],
      "text/plain": [
       "/Users/michaelp/Code/Tacotron-2/data/Hillary/wavs/script_28/script_54_chunk_10-rate=24000.wav"
      ]
     },
     "metadata": {},
     "output_type": "display_data"
    },
    {
     "data": {
      "text/markdown": [
       "\n",
       "\n",
       " ___"
      ],
      "text/plain": [
       "<IPython.core.display.Markdown object>"
      ]
     },
     "metadata": {},
     "output_type": "display_data"
    },
    {
     "data": {
      "text/markdown": [
       "**Text:** \"NYC STUFF Exchange\""
      ],
      "text/plain": [
       "<IPython.core.display.Markdown object>"
      ]
     },
     "metadata": {},
     "output_type": "display_data"
    },
    {
     "data": {
      "text/html": [
       "<a href='../data/Hillary/wavs/script_28/script_120_chunk_2-rate=24000.wav' target='_blank'>../data/Hillary/wavs/script_28/script_120_chunk_2-rate=24000.wav</a><br>"
      ],
      "text/plain": [
       "/Users/michaelp/Code/Tacotron-2/data/Hillary/wavs/script_28/script_120_chunk_2-rate=24000.wav"
      ]
     },
     "metadata": {},
     "output_type": "display_data"
    },
    {
     "data": {
      "text/markdown": [
       "\n",
       "\n",
       " ___"
      ],
      "text/plain": [
       "<IPython.core.display.Markdown object>"
      ]
     },
     "metadata": {},
     "output_type": "display_data"
    },
    {
     "data": {
      "text/markdown": [
       "**Text:** \"they strive to be helpful towards others, warm in relation to others, understanding, and mindful of others' feelings.\""
      ],
      "text/plain": [
       "<IPython.core.display.Markdown object>"
      ]
     },
     "metadata": {},
     "output_type": "display_data"
    },
    {
     "data": {
      "text/html": [
       "<a href='../data/Hillary/wavs/script_16/script_29_chunk_6-rate=24000.wav' target='_blank'>../data/Hillary/wavs/script_16/script_29_chunk_6-rate=24000.wav</a><br>"
      ],
      "text/plain": [
       "/Users/michaelp/Code/Tacotron-2/data/Hillary/wavs/script_16/script_29_chunk_6-rate=24000.wav"
      ]
     },
     "metadata": {},
     "output_type": "display_data"
    },
    {
     "data": {
      "text/markdown": [
       "\n",
       "\n",
       " ___"
      ],
      "text/plain": [
       "<IPython.core.display.Markdown object>"
      ]
     },
     "metadata": {},
     "output_type": "display_data"
    },
    {
     "data": {
      "text/markdown": [
       "**Text:** \"'one's own',\""
      ],
      "text/plain": [
       "<IPython.core.display.Markdown object>"
      ]
     },
     "metadata": {},
     "output_type": "display_data"
    },
    {
     "data": {
      "text/html": [
       "<a href='../data/Hillary/wavs/script_26/script_89_chunk_2-rate=24000.wav' target='_blank'>../data/Hillary/wavs/script_26/script_89_chunk_2-rate=24000.wav</a><br>"
      ],
      "text/plain": [
       "/Users/michaelp/Code/Tacotron-2/data/Hillary/wavs/script_26/script_89_chunk_2-rate=24000.wav"
      ]
     },
     "metadata": {},
     "output_type": "display_data"
    },
    {
     "data": {
      "text/markdown": [
       "\n",
       "\n",
       " ___"
      ],
      "text/plain": [
       "<IPython.core.display.Markdown object>"
      ]
     },
     "metadata": {},
     "output_type": "display_data"
    },
    {
     "data": {
      "text/markdown": [
       "**Text:** \"to attain\""
      ],
      "text/plain": [
       "<IPython.core.display.Markdown object>"
      ]
     },
     "metadata": {},
     "output_type": "display_data"
    },
    {
     "data": {
      "text/html": [
       "<a href='../data/Hillary/wavs/script_17/script_17_chunk_10-rate=24000.wav' target='_blank'>../data/Hillary/wavs/script_17/script_17_chunk_10-rate=24000.wav</a><br>"
      ],
      "text/plain": [
       "/Users/michaelp/Code/Tacotron-2/data/Hillary/wavs/script_17/script_17_chunk_10-rate=24000.wav"
      ]
     },
     "metadata": {},
     "output_type": "display_data"
    },
    {
     "data": {
      "text/markdown": [
       "\n",
       "\n",
       " ___"
      ],
      "text/plain": [
       "<IPython.core.display.Markdown object>"
      ]
     },
     "metadata": {},
     "output_type": "display_data"
    },
    {
     "data": {
      "text/markdown": [
       "**Text:** \"of\""
      ],
      "text/plain": [
       "<IPython.core.display.Markdown object>"
      ]
     },
     "metadata": {},
     "output_type": "display_data"
    },
    {
     "data": {
      "text/html": [
       "<a href='../data/Hillary/wavs/script_24/script_103_chunk_8-rate=24000.wav' target='_blank'>../data/Hillary/wavs/script_24/script_103_chunk_8-rate=24000.wav</a><br>"
      ],
      "text/plain": [
       "/Users/michaelp/Code/Tacotron-2/data/Hillary/wavs/script_24/script_103_chunk_8-rate=24000.wav"
      ]
     },
     "metadata": {},
     "output_type": "display_data"
    },
    {
     "data": {
      "text/markdown": [
       "\n",
       "\n",
       " ___"
      ],
      "text/plain": [
       "<IPython.core.display.Markdown object>"
      ]
     },
     "metadata": {},
     "output_type": "display_data"
    },
    {
     "data": {
      "text/markdown": [
       "**Text:** \"About two weeks later, return to those banks and ask to borrow the same amount of money you already have on deposit.\""
      ],
      "text/plain": [
       "<IPython.core.display.Markdown object>"
      ]
     },
     "metadata": {},
     "output_type": "display_data"
    },
    {
     "data": {
      "text/html": [
       "<a href='../data/Hillary/wavs/script_10/script_3_chunk_4-rate=24000.wav' target='_blank'>../data/Hillary/wavs/script_10/script_3_chunk_4-rate=24000.wav</a><br>"
      ],
      "text/plain": [
       "/Users/michaelp/Code/Tacotron-2/data/Hillary/wavs/script_10/script_3_chunk_4-rate=24000.wav"
      ]
     },
     "metadata": {},
     "output_type": "display_data"
    },
    {
     "data": {
      "text/markdown": [
       "\n",
       "\n",
       " ___"
      ],
      "text/plain": [
       "<IPython.core.display.Markdown object>"
      ]
     },
     "metadata": {},
     "output_type": "display_data"
    },
    {
     "data": {
      "text/markdown": [
       "**Text:** \"Some specialized businesses may also require licenses, either due to laws governing entry\""
      ],
      "text/plain": [
       "<IPython.core.display.Markdown object>"
      ]
     },
     "metadata": {},
     "output_type": "display_data"
    },
    {
     "data": {
      "text/html": [
       "<a href='../data/Hillary/wavs/script_15/script_4_chunk_12-rate=24000.wav' target='_blank'>../data/Hillary/wavs/script_15/script_4_chunk_12-rate=24000.wav</a><br>"
      ],
      "text/plain": [
       "/Users/michaelp/Code/Tacotron-2/data/Hillary/wavs/script_15/script_4_chunk_12-rate=24000.wav"
      ]
     },
     "metadata": {},
     "output_type": "display_data"
    },
    {
     "data": {
      "text/markdown": [
       "\n",
       "\n",
       " ___"
      ],
      "text/plain": [
       "<IPython.core.display.Markdown object>"
      ]
     },
     "metadata": {},
     "output_type": "display_data"
    },
    {
     "data": {
      "text/markdown": [
       "**Text:** \"by which incoming stimuli can be ordered and dispatched.\"\""
      ],
      "text/plain": [
       "<IPython.core.display.Markdown object>"
      ]
     },
     "metadata": {},
     "output_type": "display_data"
    },
    {
     "data": {
      "text/html": [
       "<a href='../data/Hillary/wavs/script_19/script_7_chunk_4-rate=24000.wav' target='_blank'>../data/Hillary/wavs/script_19/script_7_chunk_4-rate=24000.wav</a><br>"
      ],
      "text/plain": [
       "/Users/michaelp/Code/Tacotron-2/data/Hillary/wavs/script_19/script_7_chunk_4-rate=24000.wav"
      ]
     },
     "metadata": {},
     "output_type": "display_data"
    },
    {
     "data": {
      "text/markdown": [
       "\n",
       "\n",
       " ___"
      ],
      "text/plain": [
       "<IPython.core.display.Markdown object>"
      ]
     },
     "metadata": {},
     "output_type": "display_data"
    },
    {
     "data": {
      "text/markdown": [
       "**Text:** \"through July 27th 1953.\""
      ],
      "text/plain": [
       "<IPython.core.display.Markdown object>"
      ]
     },
     "metadata": {},
     "output_type": "display_data"
    },
    {
     "data": {
      "text/html": [
       "<a href='../data/Hillary/wavs/script_26/script_0_chunk_4-rate=24000.wav' target='_blank'>../data/Hillary/wavs/script_26/script_0_chunk_4-rate=24000.wav</a><br>"
      ],
      "text/plain": [
       "/Users/michaelp/Code/Tacotron-2/data/Hillary/wavs/script_26/script_0_chunk_4-rate=24000.wav"
      ]
     },
     "metadata": {},
     "output_type": "display_data"
    },
    {
     "data": {
      "text/markdown": [
       "\n",
       "\n",
       " ___"
      ],
      "text/plain": [
       "<IPython.core.display.Markdown object>"
      ]
     },
     "metadata": {},
     "output_type": "display_data"
    },
    {
     "data": {
      "text/markdown": [
       "**Text:** \"with Journal of Business Ethics and Business Ethics Quarterly considered the leaders.\""
      ],
      "text/plain": [
       "<IPython.core.display.Markdown object>"
      ]
     },
     "metadata": {},
     "output_type": "display_data"
    },
    {
     "data": {
      "text/html": [
       "<a href='../data/Hillary/wavs/script_18/script_52_chunk_7-rate=24000.wav' target='_blank'>../data/Hillary/wavs/script_18/script_52_chunk_7-rate=24000.wav</a><br>"
      ],
      "text/plain": [
       "/Users/michaelp/Code/Tacotron-2/data/Hillary/wavs/script_18/script_52_chunk_7-rate=24000.wav"
      ]
     },
     "metadata": {},
     "output_type": "display_data"
    },
    {
     "data": {
      "text/markdown": [
       "\n",
       "\n",
       " ___"
      ],
      "text/plain": [
       "<IPython.core.display.Markdown object>"
      ]
     },
     "metadata": {},
     "output_type": "display_data"
    },
    {
     "data": {
      "text/markdown": [
       "**Text:** \"so be sure to use a good set of clippers and an emery board to maintain smooth nail tips.\""
      ],
      "text/plain": [
       "<IPython.core.display.Markdown object>"
      ]
     },
     "metadata": {},
     "output_type": "display_data"
    },
    {
     "data": {
      "text/html": [
       "<a href='../data/Hillary/wavs/script_16/script_2_chunk_4-rate=24000.wav' target='_blank'>../data/Hillary/wavs/script_16/script_2_chunk_4-rate=24000.wav</a><br>"
      ],
      "text/plain": [
       "/Users/michaelp/Code/Tacotron-2/data/Hillary/wavs/script_16/script_2_chunk_4-rate=24000.wav"
      ]
     },
     "metadata": {},
     "output_type": "display_data"
    },
    {
     "data": {
      "text/markdown": [
       "\n",
       "\n",
       " ___"
      ],
      "text/plain": [
       "<IPython.core.display.Markdown object>"
      ]
     },
     "metadata": {},
     "output_type": "display_data"
    },
    {
     "data": {
      "text/markdown": [
       "**Text:** \"in his book On Killing, suggests that military training artificially creates\""
      ],
      "text/plain": [
       "<IPython.core.display.Markdown object>"
      ]
     },
     "metadata": {},
     "output_type": "display_data"
    },
    {
     "data": {
      "text/html": [
       "<a href='../data/Hillary/wavs/script_21/script_49_chunk_41-rate=24000.wav' target='_blank'>../data/Hillary/wavs/script_21/script_49_chunk_41-rate=24000.wav</a><br>"
      ],
      "text/plain": [
       "/Users/michaelp/Code/Tacotron-2/data/Hillary/wavs/script_21/script_49_chunk_41-rate=24000.wav"
      ]
     },
     "metadata": {},
     "output_type": "display_data"
    },
    {
     "data": {
      "text/markdown": [
       "\n",
       "\n",
       " ___"
      ],
      "text/plain": [
       "<IPython.core.display.Markdown object>"
      ]
     },
     "metadata": {},
     "output_type": "display_data"
    },
    {
     "data": {
      "text/markdown": [
       "**Text:** \"21 February 2014. The Whistle Blowers Protection Act,\""
      ],
      "text/plain": [
       "<IPython.core.display.Markdown object>"
      ]
     },
     "metadata": {},
     "output_type": "display_data"
    },
    {
     "data": {
      "text/html": [
       "<a href='../data/Hillary/wavs/script_10/script_12_chunk_11-rate=24000.wav' target='_blank'>../data/Hillary/wavs/script_10/script_12_chunk_11-rate=24000.wav</a><br>"
      ],
      "text/plain": [
       "/Users/michaelp/Code/Tacotron-2/data/Hillary/wavs/script_10/script_12_chunk_11-rate=24000.wav"
      ]
     },
     "metadata": {},
     "output_type": "display_data"
    },
    {
     "data": {
      "text/markdown": [
       "\n",
       "\n",
       " ___"
      ],
      "text/plain": [
       "<IPython.core.display.Markdown object>"
      ]
     },
     "metadata": {},
     "output_type": "display_data"
    },
    {
     "data": {
      "text/markdown": [
       "**Text:** \"and dissolving one's limiting beliefs and habits,\""
      ],
      "text/plain": [
       "<IPython.core.display.Markdown object>"
      ]
     },
     "metadata": {},
     "output_type": "display_data"
    },
    {
     "data": {
      "text/html": [
       "<a href='../data/Hillary/wavs/script_25/script_80_chunk_6-rate=24000.wav' target='_blank'>../data/Hillary/wavs/script_25/script_80_chunk_6-rate=24000.wav</a><br>"
      ],
      "text/plain": [
       "/Users/michaelp/Code/Tacotron-2/data/Hillary/wavs/script_25/script_80_chunk_6-rate=24000.wav"
      ]
     },
     "metadata": {},
     "output_type": "display_data"
    },
    {
     "data": {
      "text/markdown": [
       "\n",
       "\n",
       " ___"
      ],
      "text/plain": [
       "<IPython.core.display.Markdown object>"
      ]
     },
     "metadata": {},
     "output_type": "display_data"
    },
    {
     "data": {
      "text/markdown": [
       "**Text:** \"namely the Explicit–Implicit Interaction theory of creativity.\""
      ],
      "text/plain": [
       "<IPython.core.display.Markdown object>"
      ]
     },
     "metadata": {},
     "output_type": "display_data"
    },
    {
     "data": {
      "text/html": [
       "<a href='../data/Hillary/wavs/script_18/script_12_chunk_1-rate=24000.wav' target='_blank'>../data/Hillary/wavs/script_18/script_12_chunk_1-rate=24000.wav</a><br>"
      ],
      "text/plain": [
       "/Users/michaelp/Code/Tacotron-2/data/Hillary/wavs/script_18/script_12_chunk_1-rate=24000.wav"
      ]
     },
     "metadata": {},
     "output_type": "display_data"
    },
    {
     "data": {
      "text/markdown": [
       "\n",
       "\n",
       " ___"
      ],
      "text/plain": [
       "<IPython.core.display.Markdown object>"
      ]
     },
     "metadata": {},
     "output_type": "display_data"
    },
    {
     "data": {
      "text/markdown": [
       "**Text:** \"and its position at any particular instant in time.\""
      ],
      "text/plain": [
       "<IPython.core.display.Markdown object>"
      ]
     },
     "metadata": {},
     "output_type": "display_data"
    },
    {
     "data": {
      "text/html": [
       "<a href='../data/Hillary/wavs/script_16/script_54_chunk_5-rate=24000.wav' target='_blank'>../data/Hillary/wavs/script_16/script_54_chunk_5-rate=24000.wav</a><br>"
      ],
      "text/plain": [
       "/Users/michaelp/Code/Tacotron-2/data/Hillary/wavs/script_16/script_54_chunk_5-rate=24000.wav"
      ]
     },
     "metadata": {},
     "output_type": "display_data"
    },
    {
     "data": {
      "text/markdown": [
       "\n",
       "\n",
       " ___"
      ],
      "text/plain": [
       "<IPython.core.display.Markdown object>"
      ]
     },
     "metadata": {},
     "output_type": "display_data"
    },
    {
     "data": {
      "text/markdown": [
       "**Text:** \"They must have been swept away by the chaotic currents.\""
      ],
      "text/plain": [
       "<IPython.core.display.Markdown object>"
      ]
     },
     "metadata": {},
     "output_type": "display_data"
    },
    {
     "data": {
      "text/html": [
       "<a href='../data/Hillary/wavs/script_28/script_80_chunk_0-rate=24000.wav' target='_blank'>../data/Hillary/wavs/script_28/script_80_chunk_0-rate=24000.wav</a><br>"
      ],
      "text/plain": [
       "/Users/michaelp/Code/Tacotron-2/data/Hillary/wavs/script_28/script_80_chunk_0-rate=24000.wav"
      ]
     },
     "metadata": {},
     "output_type": "display_data"
    },
    {
     "data": {
      "text/markdown": [
       "\n",
       "\n",
       " ___"
      ],
      "text/plain": [
       "<IPython.core.display.Markdown object>"
      ]
     },
     "metadata": {},
     "output_type": "display_data"
    },
    {
     "data": {
      "text/markdown": [
       "**Text:** \"published in the following year.\""
      ],
      "text/plain": [
       "<IPython.core.display.Markdown object>"
      ]
     },
     "metadata": {},
     "output_type": "display_data"
    },
    {
     "data": {
      "text/html": [
       "<a href='../data/Hillary/wavs/script_13/script_8_chunk_14-rate=24000.wav' target='_blank'>../data/Hillary/wavs/script_13/script_8_chunk_14-rate=24000.wav</a><br>"
      ],
      "text/plain": [
       "/Users/michaelp/Code/Tacotron-2/data/Hillary/wavs/script_13/script_8_chunk_14-rate=24000.wav"
      ]
     },
     "metadata": {},
     "output_type": "display_data"
    },
    {
     "data": {
      "text/markdown": [
       "\n",
       "\n",
       " ___"
      ],
      "text/plain": [
       "<IPython.core.display.Markdown object>"
      ]
     },
     "metadata": {},
     "output_type": "display_data"
    },
    {
     "data": {
      "text/markdown": [
       "**Text:** \"whether it is a business, a not-for-profit organization, or government body.\""
      ],
      "text/plain": [
       "<IPython.core.display.Markdown object>"
      ]
     },
     "metadata": {},
     "output_type": "display_data"
    },
    {
     "data": {
      "text/html": [
       "<a href='../data/Hillary/wavs/script_15/script_47_chunk_1-rate=24000.wav' target='_blank'>../data/Hillary/wavs/script_15/script_47_chunk_1-rate=24000.wav</a><br>"
      ],
      "text/plain": [
       "/Users/michaelp/Code/Tacotron-2/data/Hillary/wavs/script_15/script_47_chunk_1-rate=24000.wav"
      ]
     },
     "metadata": {},
     "output_type": "display_data"
    },
    {
     "data": {
      "text/markdown": [
       "\n",
       "\n",
       " ___"
      ],
      "text/plain": [
       "<IPython.core.display.Markdown object>"
      ]
     },
     "metadata": {},
     "output_type": "display_data"
    },
    {
     "data": {
      "text/markdown": [
       "**Text:** \"Floating candles add instant atmosphere to a casual summer table,\""
      ],
      "text/plain": [
       "<IPython.core.display.Markdown object>"
      ]
     },
     "metadata": {},
     "output_type": "display_data"
    },
    {
     "data": {
      "text/html": [
       "<a href='../data/Hillary/wavs/script_17/script_0_chunk_2-rate=24000.wav' target='_blank'>../data/Hillary/wavs/script_17/script_0_chunk_2-rate=24000.wav</a><br>"
      ],
      "text/plain": [
       "/Users/michaelp/Code/Tacotron-2/data/Hillary/wavs/script_17/script_0_chunk_2-rate=24000.wav"
      ]
     },
     "metadata": {},
     "output_type": "display_data"
    },
    {
     "data": {
      "text/markdown": [
       "\n",
       "\n",
       " ___"
      ],
      "text/plain": [
       "<IPython.core.display.Markdown object>"
      ]
     },
     "metadata": {},
     "output_type": "display_data"
    },
    {
     "data": {
      "text/markdown": [
       "**Text:** \"while the other 50 percent lies within academic skills.\""
      ],
      "text/plain": [
       "<IPython.core.display.Markdown object>"
      ]
     },
     "metadata": {},
     "output_type": "display_data"
    },
    {
     "data": {
      "text/html": [
       "<a href='../data/Hillary/wavs/script_22/script_10_chunk_13-rate=24000.wav' target='_blank'>../data/Hillary/wavs/script_22/script_10_chunk_13-rate=24000.wav</a><br>"
      ],
      "text/plain": [
       "/Users/michaelp/Code/Tacotron-2/data/Hillary/wavs/script_22/script_10_chunk_13-rate=24000.wav"
      ]
     },
     "metadata": {},
     "output_type": "display_data"
    },
    {
     "data": {
      "text/markdown": [
       "\n",
       "\n",
       " ___"
      ],
      "text/plain": [
       "<IPython.core.display.Markdown object>"
      ]
     },
     "metadata": {},
     "output_type": "display_data"
    }
   ],
   "source": [
    "find_examples(r'(?s).*', display_n=100, replace=False, group=0, load_audio=False)"
   ]
  }
 ],
 "metadata": {
  "kernelspec": {
   "display_name": "Python 3",
   "language": "python",
   "name": "python3"
  },
  "language_info": {
   "codemirror_mode": {
    "name": "ipython",
    "version": 3
   },
   "file_extension": ".py",
   "mimetype": "text/x-python",
   "name": "python",
   "nbconvert_exporter": "python",
   "pygments_lexer": "ipython3",
   "version": "3.6.5"
  }
 },
 "nbformat": 4,
 "nbformat_minor": 2
}
