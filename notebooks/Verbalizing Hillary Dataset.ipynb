{
 "cells": [
  {
   "cell_type": "markdown",
   "metadata": {},
   "source": [
    "# Verbalizing Hillary\n",
    "\n",
    "The goals of this notebook are:\n",
    "\n",
    "- Construct an algorithm to verbalize the Hillary dataset.\n",
    "- Understand the distribution of not verbalized symbols such as numbers and special characters."
   ]
  },
  {
   "cell_type": "code",
   "execution_count": 1,
   "metadata": {
    "scrolled": false
   },
   "outputs": [],
   "source": [
    "import re\n",
    "import sys\n",
    "\n",
    "# Setup the \"PYTHONPATH\"\n",
    "sys.path.insert(0, '../')\n",
    "\n",
    "from src.datasets.lj_speech import _iterate_and_replace"
   ]
  },
  {
   "cell_type": "code",
   "execution_count": 2,
   "metadata": {},
   "outputs": [
    {
     "name": "stderr",
     "output_type": "stream",
     "text": [
      "No config for `hillary.hillary_dataset` (`src.datasets.hillary.hillary_dataset`)\n",
      "100%|██████████| 10528/10528 [00:00<00:00, 317987.36it/s]\n"
     ]
    }
   ],
   "source": [
    "from src.datasets import hillary_dataset\n",
    "\n",
    "data, _ = hillary_dataset(directory='../data')"
   ]
  },
  {
   "cell_type": "code",
   "execution_count": 3,
   "metadata": {
    "scrolled": false
   },
   "outputs": [],
   "source": [
    "import random\n",
    "import os\n",
    "\n",
    "from IPython.display import Audio\n",
    "from IPython.display import Markdown\n",
    "from IPython.display import FileLink\n",
    "\n",
    "def find_examples(regex, display_n=5, load_audio=False, replace=True, group=1, context=25):\n",
    "    \"\"\" Print ``display_n`` examples of ``regex`` in ``lj_speech_dataset``.\n",
    "    \n",
    "    This is the bread and butter module for our data analysis. Enabling us to use regex to query the\n",
    "    dataset and retrieve samples.\n",
    "    \n",
    "    Args:\n",
    "        regex (str): Pattern or compiled regex object.\n",
    "        display_n (int or None, optional): Number of examples to display.\n",
    "        load_audio (bool, optional): If to load audio.\n",
    "        replace (bool, optional): If to replace the matched characters with XXX...\n",
    "        group (int, optional): Group to select in regex.\n",
    "        context (int, optional): Number of characters to include on the left and right of the matched\n",
    "            text as context.\n",
    "        \n",
    "    Returns:\n",
    "        None\n",
    "    \"\"\"\n",
    "    examples = []\n",
    "    for row in data:\n",
    "        matches = re.finditer(regex, row['text'])\n",
    "        for match in matches:\n",
    "            if match.start(group) - match.end(group) == 0:\n",
    "                continue\n",
    "            \n",
    "            text = row['text']    \n",
    "            start = match.start(group)\n",
    "            end = match.end(group)\n",
    "            start_context = max(start - context, 0)\n",
    "            end_context = min(end + context, len(text))\n",
    "            \n",
    "            if replace:\n",
    "                row['text'] = '{}{}{}'.format(text[:start],\n",
    "                                              'X' * (end - start), \n",
    "                                              text[end:])\n",
    "                \n",
    "            if start != 0 or end != len(row['text']):\n",
    "                text = '{}**{}**{}'.format(text[start_context:start],\n",
    "                                           match.group(group),\n",
    "                                           text[end:end_context])\n",
    "            if start != 0:\n",
    "                text = '…' + text\n",
    "            if end != len(row['text']):\n",
    "                text = text + '…'\n",
    "                \n",
    "            examples.append({\n",
    "                'text': text,\n",
    "                'audio': row['wav_filename']\n",
    "            })\n",
    "            \n",
    "    # Print Examples\n",
    "    display(Markdown('### Examples Captured by Regex'))\n",
    "    display(Markdown('**Regex:** ' + str(regex)))\n",
    "    display(Markdown('**Number of Examples:** ' + str(len(examples))))\n",
    "    \n",
    "    random.shuffle(examples)\n",
    "    if display_n is not None:\n",
    "        examples = examples[:display_n]\n",
    "    \n",
    "    display(Markdown('**Number of Examples Shown:** ' + str(len(examples))))\n",
    "    display(Markdown('\\n\\n ___'))\n",
    "    \n",
    "    for example in examples:\n",
    "        display(Markdown('**Text:** \"' + example['text'] + '\"'))\n",
    "        display(FileLink(example['audio']))\n",
    "        if load_audio:\n",
    "            display(Audio(str(example['audio'])))\n",
    "        display(Markdown('\\n\\n ___'))\n",
    "        display()"
   ]
  },
  {
   "cell_type": "markdown",
   "metadata": {},
   "source": [
    "## Sample of the Dataset"
   ]
  },
  {
   "cell_type": "code",
   "execution_count": 4,
   "metadata": {},
   "outputs": [
    {
     "data": {
      "text/markdown": [
       "### Examples Captured by Regex"
      ],
      "text/plain": [
       "<IPython.core.display.Markdown object>"
      ]
     },
     "metadata": {},
     "output_type": "display_data"
    },
    {
     "data": {
      "text/markdown": [
       "**Regex:** (?s).*"
      ],
      "text/plain": [
       "<IPython.core.display.Markdown object>"
      ]
     },
     "metadata": {},
     "output_type": "display_data"
    },
    {
     "data": {
      "text/markdown": [
       "**Number of Examples:** 8422"
      ],
      "text/plain": [
       "<IPython.core.display.Markdown object>"
      ]
     },
     "metadata": {},
     "output_type": "display_data"
    },
    {
     "data": {
      "text/markdown": [
       "**Number of Examples Shown:** 100"
      ],
      "text/plain": [
       "<IPython.core.display.Markdown object>"
      ]
     },
     "metadata": {},
     "output_type": "display_data"
    },
    {
     "data": {
      "text/markdown": [
       "\n",
       "\n",
       " ___"
      ],
      "text/plain": [
       "<IPython.core.display.Markdown object>"
      ]
     },
     "metadata": {},
     "output_type": "display_data"
    },
    {
     "data": {
      "text/markdown": [
       "**Text:** \"This includes government departments and agencies,\""
      ],
      "text/plain": [
       "<IPython.core.display.Markdown object>"
      ]
     },
     "metadata": {},
     "output_type": "display_data"
    },
    {
     "data": {
      "text/html": [
       "<a href='../data/Hillary/wavs/script_3/script_10_chunk_7-rate=24000.wav' target='_blank'>../data/Hillary/wavs/script_3/script_10_chunk_7-rate=24000.wav</a><br>"
      ],
      "text/plain": [
       "/Users/michaelp/Code/Tacotron-2/data/Hillary/wavs/script_3/script_10_chunk_7-rate=24000.wav"
      ]
     },
     "metadata": {},
     "output_type": "display_data"
    },
    {
     "data": {
      "text/html": [
       "\n",
       "                <audio controls=\"controls\" >\n",
       "                    <source />\n",
       "                    Your browser does not support the audio element.\n",
       "                </audio>\n",
       "              "
      ],
      "text/plain": [
       "<IPython.lib.display.Audio object>"
      ]
     },
     "metadata": {},
     "output_type": "display_data"
    },
    {
     "data": {
      "text/markdown": [
       "\n",
       "\n",
       " ___"
      ],
      "text/plain": [
       "<IPython.core.display.Markdown object>"
      ]
     },
     "metadata": {},
     "output_type": "display_data"
    },
    {
     "data": {
      "text/markdown": [
       "**Text:** \"Originally known as Pattaquonk Quarter, Chester was settled in\""
      ],
      "text/plain": [
       "<IPython.core.display.Markdown object>"
      ]
     },
     "metadata": {},
     "output_type": "display_data"
    },
    {
     "data": {
      "text/html": [
       "<a href='../data/Hillary/wavs/script_19/script_90_chunk_2-rate=24000.wav' target='_blank'>../data/Hillary/wavs/script_19/script_90_chunk_2-rate=24000.wav</a><br>"
      ],
      "text/plain": [
       "/Users/michaelp/Code/Tacotron-2/data/Hillary/wavs/script_19/script_90_chunk_2-rate=24000.wav"
      ]
     },
     "metadata": {},
     "output_type": "display_data"
    },
    {
     "data": {
      "text/html": [
       "\n",
       "                <audio controls=\"controls\" >\n",
       "                    <source />\n",
       "                    Your browser does not support the audio element.\n",
       "                </audio>\n",
       "              "
      ],
      "text/plain": [
       "<IPython.lib.display.Audio object>"
      ]
     },
     "metadata": {},
     "output_type": "display_data"
    },
    {
     "data": {
      "text/markdown": [
       "\n",
       "\n",
       " ___"
      ],
      "text/plain": [
       "<IPython.core.display.Markdown object>"
      ]
     },
     "metadata": {},
     "output_type": "display_data"
    },
    {
     "data": {
      "text/markdown": [
       "**Text:** \"And right there I saw and knew it all.\""
      ],
      "text/plain": [
       "<IPython.core.display.Markdown object>"
      ]
     },
     "metadata": {},
     "output_type": "display_data"
    },
    {
     "data": {
      "text/html": [
       "<a href='../data/Hillary/wavs/script_19/script_74_chunk_0-rate=24000.wav' target='_blank'>../data/Hillary/wavs/script_19/script_74_chunk_0-rate=24000.wav</a><br>"
      ],
      "text/plain": [
       "/Users/michaelp/Code/Tacotron-2/data/Hillary/wavs/script_19/script_74_chunk_0-rate=24000.wav"
      ]
     },
     "metadata": {},
     "output_type": "display_data"
    },
    {
     "data": {
      "text/html": [
       "\n",
       "                <audio controls=\"controls\" >\n",
       "                    <source />\n",
       "                    Your browser does not support the audio element.\n",
       "                </audio>\n",
       "              "
      ],
      "text/plain": [
       "<IPython.lib.display.Audio object>"
      ]
     },
     "metadata": {},
     "output_type": "display_data"
    },
    {
     "data": {
      "text/markdown": [
       "\n",
       "\n",
       " ___"
      ],
      "text/plain": [
       "<IPython.core.display.Markdown object>"
      ]
     },
     "metadata": {},
     "output_type": "display_data"
    },
    {
     "data": {
      "text/markdown": [
       "**Text:** \"Their unusual looks and their untidy eating habits have given them a bad reputation.\""
      ],
      "text/plain": [
       "<IPython.core.display.Markdown object>"
      ]
     },
     "metadata": {},
     "output_type": "display_data"
    },
    {
     "data": {
      "text/html": [
       "<a href='../data/Hillary/wavs/script_25/script_77_chunk_3-rate=24000.wav' target='_blank'>../data/Hillary/wavs/script_25/script_77_chunk_3-rate=24000.wav</a><br>"
      ],
      "text/plain": [
       "/Users/michaelp/Code/Tacotron-2/data/Hillary/wavs/script_25/script_77_chunk_3-rate=24000.wav"
      ]
     },
     "metadata": {},
     "output_type": "display_data"
    },
    {
     "data": {
      "text/html": [
       "\n",
       "                <audio controls=\"controls\" >\n",
       "                    <source />\n",
       "                    Your browser does not support the audio element.\n",
       "                </audio>\n",
       "              "
      ],
      "text/plain": [
       "<IPython.lib.display.Audio object>"
      ]
     },
     "metadata": {},
     "output_type": "display_data"
    },
    {
     "data": {
      "text/markdown": [
       "\n",
       "\n",
       " ___"
      ],
      "text/plain": [
       "<IPython.core.display.Markdown object>"
      ]
     },
     "metadata": {},
     "output_type": "display_data"
    },
    {
     "data": {
      "text/markdown": [
       "**Text:** \"at depths that our drills can reach, and from which we then derive commercial petroleum.\""
      ],
      "text/plain": [
       "<IPython.core.display.Markdown object>"
      ]
     },
     "metadata": {},
     "output_type": "display_data"
    },
    {
     "data": {
      "text/html": [
       "<a href='../data/Hillary/wavs/script_1/script_0_chunk_5-rate=24000.wav' target='_blank'>../data/Hillary/wavs/script_1/script_0_chunk_5-rate=24000.wav</a><br>"
      ],
      "text/plain": [
       "/Users/michaelp/Code/Tacotron-2/data/Hillary/wavs/script_1/script_0_chunk_5-rate=24000.wav"
      ]
     },
     "metadata": {},
     "output_type": "display_data"
    },
    {
     "data": {
      "text/html": [
       "\n",
       "                <audio controls=\"controls\" >\n",
       "                    <source />\n",
       "                    Your browser does not support the audio element.\n",
       "                </audio>\n",
       "              "
      ],
      "text/plain": [
       "<IPython.lib.display.Audio object>"
      ]
     },
     "metadata": {},
     "output_type": "display_data"
    },
    {
     "data": {
      "text/markdown": [
       "\n",
       "\n",
       " ___"
      ],
      "text/plain": [
       "<IPython.core.display.Markdown object>"
      ]
     },
     "metadata": {},
     "output_type": "display_data"
    },
    {
     "data": {
      "text/markdown": [
       "**Text:** \"and 1970s saw the passage of the Fair Credit Reporting Act.\""
      ],
      "text/plain": [
       "<IPython.core.display.Markdown object>"
      ]
     },
     "metadata": {},
     "output_type": "display_data"
    },
    {
     "data": {
      "text/html": [
       "<a href='../data/Hillary/wavs/script_15/script_13_chunk_13-rate=24000.wav' target='_blank'>../data/Hillary/wavs/script_15/script_13_chunk_13-rate=24000.wav</a><br>"
      ],
      "text/plain": [
       "/Users/michaelp/Code/Tacotron-2/data/Hillary/wavs/script_15/script_13_chunk_13-rate=24000.wav"
      ]
     },
     "metadata": {},
     "output_type": "display_data"
    },
    {
     "data": {
      "text/html": [
       "\n",
       "                <audio controls=\"controls\" >\n",
       "                    <source />\n",
       "                    Your browser does not support the audio element.\n",
       "                </audio>\n",
       "              "
      ],
      "text/plain": [
       "<IPython.lib.display.Audio object>"
      ]
     },
     "metadata": {},
     "output_type": "display_data"
    },
    {
     "data": {
      "text/markdown": [
       "\n",
       "\n",
       " ___"
      ],
      "text/plain": [
       "<IPython.core.display.Markdown object>"
      ]
     },
     "metadata": {},
     "output_type": "display_data"
    },
    {
     "data": {
      "text/markdown": [
       "**Text:** \"Critical thinking is the objective analysis of facts to form a judgment.\""
      ],
      "text/plain": [
       "<IPython.core.display.Markdown object>"
      ]
     },
     "metadata": {},
     "output_type": "display_data"
    },
    {
     "data": {
      "text/html": [
       "<a href='../data/Hillary/wavs/script_24/script_7_chunk_0-rate=24000.wav' target='_blank'>../data/Hillary/wavs/script_24/script_7_chunk_0-rate=24000.wav</a><br>"
      ],
      "text/plain": [
       "/Users/michaelp/Code/Tacotron-2/data/Hillary/wavs/script_24/script_7_chunk_0-rate=24000.wav"
      ]
     },
     "metadata": {},
     "output_type": "display_data"
    },
    {
     "data": {
      "text/html": [
       "\n",
       "                <audio controls=\"controls\" >\n",
       "                    <source />\n",
       "                    Your browser does not support the audio element.\n",
       "                </audio>\n",
       "              "
      ],
      "text/plain": [
       "<IPython.lib.display.Audio object>"
      ]
     },
     "metadata": {},
     "output_type": "display_data"
    },
    {
     "data": {
      "text/markdown": [
       "\n",
       "\n",
       " ___"
      ],
      "text/plain": [
       "<IPython.core.display.Markdown object>"
      ]
     },
     "metadata": {},
     "output_type": "display_data"
    },
    {
     "data": {
      "text/markdown": [
       "**Text:** \"Agrippina decided the time was right to make a bid to put Nero\""
      ],
      "text/plain": [
       "<IPython.core.display.Markdown object>"
      ]
     },
     "metadata": {},
     "output_type": "display_data"
    },
    {
     "data": {
      "text/html": [
       "<a href='../data/Hillary/wavs/script_28/script_34_chunk_24-rate=24000.wav' target='_blank'>../data/Hillary/wavs/script_28/script_34_chunk_24-rate=24000.wav</a><br>"
      ],
      "text/plain": [
       "/Users/michaelp/Code/Tacotron-2/data/Hillary/wavs/script_28/script_34_chunk_24-rate=24000.wav"
      ]
     },
     "metadata": {},
     "output_type": "display_data"
    },
    {
     "data": {
      "text/html": [
       "\n",
       "                <audio controls=\"controls\" >\n",
       "                    <source />\n",
       "                    Your browser does not support the audio element.\n",
       "                </audio>\n",
       "              "
      ],
      "text/plain": [
       "<IPython.lib.display.Audio object>"
      ]
     },
     "metadata": {},
     "output_type": "display_data"
    },
    {
     "data": {
      "text/markdown": [
       "\n",
       "\n",
       " ___"
      ],
      "text/plain": [
       "<IPython.core.display.Markdown object>"
      ]
     },
     "metadata": {},
     "output_type": "display_data"
    },
    {
     "data": {
      "text/markdown": [
       "**Text:** \"creating a \"unique and valuable  position\"\""
      ],
      "text/plain": [
       "<IPython.core.display.Markdown object>"
      ]
     },
     "metadata": {},
     "output_type": "display_data"
    },
    {
     "data": {
      "text/html": [
       "<a href='../data/Hillary/wavs/script_17/script_57_chunk_13-rate=24000.wav' target='_blank'>../data/Hillary/wavs/script_17/script_57_chunk_13-rate=24000.wav</a><br>"
      ],
      "text/plain": [
       "/Users/michaelp/Code/Tacotron-2/data/Hillary/wavs/script_17/script_57_chunk_13-rate=24000.wav"
      ]
     },
     "metadata": {},
     "output_type": "display_data"
    },
    {
     "data": {
      "text/html": [
       "\n",
       "                <audio controls=\"controls\" >\n",
       "                    <source />\n",
       "                    Your browser does not support the audio element.\n",
       "                </audio>\n",
       "              "
      ],
      "text/plain": [
       "<IPython.lib.display.Audio object>"
      ]
     },
     "metadata": {},
     "output_type": "display_data"
    },
    {
     "data": {
      "text/markdown": [
       "\n",
       "\n",
       " ___"
      ],
      "text/plain": [
       "<IPython.core.display.Markdown object>"
      ]
     },
     "metadata": {},
     "output_type": "display_data"
    },
    {
     "data": {
      "text/markdown": [
       "**Text:** \"mandates that websites collecting Personally Identifiable Information\""
      ],
      "text/plain": [
       "<IPython.core.display.Markdown object>"
      ]
     },
     "metadata": {},
     "output_type": "display_data"
    },
    {
     "data": {
      "text/html": [
       "<a href='../data/Hillary/wavs/script_13/script_14_chunk_18-rate=24000.wav' target='_blank'>../data/Hillary/wavs/script_13/script_14_chunk_18-rate=24000.wav</a><br>"
      ],
      "text/plain": [
       "/Users/michaelp/Code/Tacotron-2/data/Hillary/wavs/script_13/script_14_chunk_18-rate=24000.wav"
      ]
     },
     "metadata": {},
     "output_type": "display_data"
    },
    {
     "data": {
      "text/html": [
       "\n",
       "                <audio controls=\"controls\" >\n",
       "                    <source />\n",
       "                    Your browser does not support the audio element.\n",
       "                </audio>\n",
       "              "
      ],
      "text/plain": [
       "<IPython.lib.display.Audio object>"
      ]
     },
     "metadata": {},
     "output_type": "display_data"
    },
    {
     "data": {
      "text/markdown": [
       "\n",
       "\n",
       " ___"
      ],
      "text/plain": [
       "<IPython.core.display.Markdown object>"
      ]
     },
     "metadata": {},
     "output_type": "display_data"
    },
    {
     "data": {
      "text/markdown": [
       "**Text:** \"Active strategic management required active information gathering and active problem solving.\""
      ],
      "text/plain": [
       "<IPython.core.display.Markdown object>"
      ]
     },
     "metadata": {},
     "output_type": "display_data"
    },
    {
     "data": {
      "text/html": [
       "<a href='../data/Hillary/wavs/script_21/script_96_chunk_5-rate=24000.wav' target='_blank'>../data/Hillary/wavs/script_21/script_96_chunk_5-rate=24000.wav</a><br>"
      ],
      "text/plain": [
       "/Users/michaelp/Code/Tacotron-2/data/Hillary/wavs/script_21/script_96_chunk_5-rate=24000.wav"
      ]
     },
     "metadata": {},
     "output_type": "display_data"
    },
    {
     "data": {
      "text/html": [
       "\n",
       "                <audio controls=\"controls\" >\n",
       "                    <source />\n",
       "                    Your browser does not support the audio element.\n",
       "                </audio>\n",
       "              "
      ],
      "text/plain": [
       "<IPython.lib.display.Audio object>"
      ]
     },
     "metadata": {},
     "output_type": "display_data"
    },
    {
     "data": {
      "text/markdown": [
       "\n",
       "\n",
       " ___"
      ],
      "text/plain": [
       "<IPython.core.display.Markdown object>"
      ]
     },
     "metadata": {},
     "output_type": "display_data"
    },
    {
     "data": {
      "text/markdown": [
       "**Text:** \"Policies can be understood as political, managerial, financial, and administrative mechanisms\""
      ],
      "text/plain": [
       "<IPython.core.display.Markdown object>"
      ]
     },
     "metadata": {},
     "output_type": "display_data"
    },
    {
     "data": {
      "text/html": [
       "<a href='../data/Hillary/wavs/script_17/script_60_chunk_19-rate=24000.wav' target='_blank'>../data/Hillary/wavs/script_17/script_60_chunk_19-rate=24000.wav</a><br>"
      ],
      "text/plain": [
       "/Users/michaelp/Code/Tacotron-2/data/Hillary/wavs/script_17/script_60_chunk_19-rate=24000.wav"
      ]
     },
     "metadata": {},
     "output_type": "display_data"
    },
    {
     "data": {
      "text/html": [
       "\n",
       "                <audio controls=\"controls\" >\n",
       "                    <source />\n",
       "                    Your browser does not support the audio element.\n",
       "                </audio>\n",
       "              "
      ],
      "text/plain": [
       "<IPython.lib.display.Audio object>"
      ]
     },
     "metadata": {},
     "output_type": "display_data"
    },
    {
     "data": {
      "text/markdown": [
       "\n",
       "\n",
       " ___"
      ],
      "text/plain": [
       "<IPython.core.display.Markdown object>"
      ]
     },
     "metadata": {},
     "output_type": "display_data"
    },
    {
     "data": {
      "text/markdown": [
       "**Text:** \"The mystery of their depths beckons the able and the foolhardy alike.\""
      ],
      "text/plain": [
       "<IPython.core.display.Markdown object>"
      ]
     },
     "metadata": {},
     "output_type": "display_data"
    },
    {
     "data": {
      "text/html": [
       "<a href='../data/Hillary/wavs/script_28/script_108_chunk_8-rate=24000.wav' target='_blank'>../data/Hillary/wavs/script_28/script_108_chunk_8-rate=24000.wav</a><br>"
      ],
      "text/plain": [
       "/Users/michaelp/Code/Tacotron-2/data/Hillary/wavs/script_28/script_108_chunk_8-rate=24000.wav"
      ]
     },
     "metadata": {},
     "output_type": "display_data"
    },
    {
     "data": {
      "text/html": [
       "\n",
       "                <audio controls=\"controls\" >\n",
       "                    <source />\n",
       "                    Your browser does not support the audio element.\n",
       "                </audio>\n",
       "              "
      ],
      "text/plain": [
       "<IPython.lib.display.Audio object>"
      ]
     },
     "metadata": {},
     "output_type": "display_data"
    },
    {
     "data": {
      "text/markdown": [
       "\n",
       "\n",
       " ___"
      ],
      "text/plain": [
       "<IPython.core.display.Markdown object>"
      ]
     },
     "metadata": {},
     "output_type": "display_data"
    },
    {
     "data": {
      "text/markdown": [
       "**Text:** \"Solving problems sometimes involves dealing with pragmatics\""
      ],
      "text/plain": [
       "<IPython.core.display.Markdown object>"
      ]
     },
     "metadata": {},
     "output_type": "display_data"
    },
    {
     "data": {
      "text/html": [
       "<a href='../data/Hillary/wavs/script_17/script_47_chunk_7-rate=24000.wav' target='_blank'>../data/Hillary/wavs/script_17/script_47_chunk_7-rate=24000.wav</a><br>"
      ],
      "text/plain": [
       "/Users/michaelp/Code/Tacotron-2/data/Hillary/wavs/script_17/script_47_chunk_7-rate=24000.wav"
      ]
     },
     "metadata": {},
     "output_type": "display_data"
    },
    {
     "data": {
      "text/html": [
       "\n",
       "                <audio controls=\"controls\" >\n",
       "                    <source />\n",
       "                    Your browser does not support the audio element.\n",
       "                </audio>\n",
       "              "
      ],
      "text/plain": [
       "<IPython.lib.display.Audio object>"
      ]
     },
     "metadata": {},
     "output_type": "display_data"
    },
    {
     "data": {
      "text/markdown": [
       "\n",
       "\n",
       " ___"
      ],
      "text/plain": [
       "<IPython.core.display.Markdown object>"
      ]
     },
     "metadata": {},
     "output_type": "display_data"
    },
    {
     "data": {
      "text/markdown": [
       "**Text:** \"elements, that the whole edifice of business strategy was subsequently erected.\"\""
      ],
      "text/plain": [
       "<IPython.core.display.Markdown object>"
      ]
     },
     "metadata": {},
     "output_type": "display_data"
    },
    {
     "data": {
      "text/html": [
       "<a href='../data/Hillary/wavs/script_26/script_49_chunk_14-rate=24000.wav' target='_blank'>../data/Hillary/wavs/script_26/script_49_chunk_14-rate=24000.wav</a><br>"
      ],
      "text/plain": [
       "/Users/michaelp/Code/Tacotron-2/data/Hillary/wavs/script_26/script_49_chunk_14-rate=24000.wav"
      ]
     },
     "metadata": {},
     "output_type": "display_data"
    },
    {
     "data": {
      "text/html": [
       "\n",
       "                <audio controls=\"controls\" >\n",
       "                    <source />\n",
       "                    Your browser does not support the audio element.\n",
       "                </audio>\n",
       "              "
      ],
      "text/plain": [
       "<IPython.lib.display.Audio object>"
      ]
     },
     "metadata": {},
     "output_type": "display_data"
    },
    {
     "data": {
      "text/markdown": [
       "\n",
       "\n",
       " ___"
      ],
      "text/plain": [
       "<IPython.core.display.Markdown object>"
      ]
     },
     "metadata": {},
     "output_type": "display_data"
    },
    {
     "data": {
      "text/markdown": [
       "**Text:** \"Lastly, there are micro-domains. These are the specific tasks that reside within each domain\""
      ],
      "text/plain": [
       "<IPython.core.display.Markdown object>"
      ]
     },
     "metadata": {},
     "output_type": "display_data"
    },
    {
     "data": {
      "text/html": [
       "<a href='../data/Hillary/wavs/script_28/script_143_chunk_0-rate=24000.wav' target='_blank'>../data/Hillary/wavs/script_28/script_143_chunk_0-rate=24000.wav</a><br>"
      ],
      "text/plain": [
       "/Users/michaelp/Code/Tacotron-2/data/Hillary/wavs/script_28/script_143_chunk_0-rate=24000.wav"
      ]
     },
     "metadata": {},
     "output_type": "display_data"
    },
    {
     "data": {
      "text/html": [
       "\n",
       "                <audio controls=\"controls\" >\n",
       "                    <source />\n",
       "                    Your browser does not support the audio element.\n",
       "                </audio>\n",
       "              "
      ],
      "text/plain": [
       "<IPython.lib.display.Audio object>"
      ]
     },
     "metadata": {},
     "output_type": "display_data"
    },
    {
     "data": {
      "text/markdown": [
       "\n",
       "\n",
       " ___"
      ],
      "text/plain": [
       "<IPython.core.display.Markdown object>"
      ]
     },
     "metadata": {},
     "output_type": "display_data"
    },
    {
     "data": {
      "text/markdown": [
       "**Text:** \"she also discovers the empty\n",
       "Tomb\""
      ],
      "text/plain": [
       "<IPython.core.display.Markdown object>"
      ]
     },
     "metadata": {},
     "output_type": "display_data"
    },
    {
     "data": {
      "text/html": [
       "<a href='../data/Hillary/wavs/script_26/script_81_chunk_5-rate=24000.wav' target='_blank'>../data/Hillary/wavs/script_26/script_81_chunk_5-rate=24000.wav</a><br>"
      ],
      "text/plain": [
       "/Users/michaelp/Code/Tacotron-2/data/Hillary/wavs/script_26/script_81_chunk_5-rate=24000.wav"
      ]
     },
     "metadata": {},
     "output_type": "display_data"
    },
    {
     "data": {
      "text/html": [
       "\n",
       "                <audio controls=\"controls\" >\n",
       "                    <source />\n",
       "                    Your browser does not support the audio element.\n",
       "                </audio>\n",
       "              "
      ],
      "text/plain": [
       "<IPython.lib.display.Audio object>"
      ]
     },
     "metadata": {},
     "output_type": "display_data"
    },
    {
     "data": {
      "text/markdown": [
       "\n",
       "\n",
       " ___"
      ],
      "text/plain": [
       "<IPython.core.display.Markdown object>"
      ]
     },
     "metadata": {},
     "output_type": "display_data"
    },
    {
     "data": {
      "text/markdown": [
       "**Text:** \"too little work has been done on what influences the quality of strategic decision making\""
      ],
      "text/plain": [
       "<IPython.core.display.Markdown object>"
      ]
     },
     "metadata": {},
     "output_type": "display_data"
    },
    {
     "data": {
      "text/html": [
       "<a href='../data/Hillary/wavs/script_17/script_27_chunk_16-rate=24000.wav' target='_blank'>../data/Hillary/wavs/script_17/script_27_chunk_16-rate=24000.wav</a><br>"
      ],
      "text/plain": [
       "/Users/michaelp/Code/Tacotron-2/data/Hillary/wavs/script_17/script_27_chunk_16-rate=24000.wav"
      ]
     },
     "metadata": {},
     "output_type": "display_data"
    },
    {
     "data": {
      "text/html": [
       "\n",
       "                <audio controls=\"controls\" >\n",
       "                    <source />\n",
       "                    Your browser does not support the audio element.\n",
       "                </audio>\n",
       "              "
      ],
      "text/plain": [
       "<IPython.lib.display.Audio object>"
      ]
     },
     "metadata": {},
     "output_type": "display_data"
    },
    {
     "data": {
      "text/markdown": [
       "\n",
       "\n",
       " ___"
      ],
      "text/plain": [
       "<IPython.core.display.Markdown object>"
      ]
     },
     "metadata": {},
     "output_type": "display_data"
    },
    {
     "data": {
      "text/markdown": [
       "**Text:** \"into certain trades, occupations or professions, that require special education or to raise revenue for local governments.\""
      ],
      "text/plain": [
       "<IPython.core.display.Markdown object>"
      ]
     },
     "metadata": {},
     "output_type": "display_data"
    },
    {
     "data": {
      "text/html": [
       "<a href='../data/Hillary/wavs/script_15/script_4_chunk_13-rate=24000.wav' target='_blank'>../data/Hillary/wavs/script_15/script_4_chunk_13-rate=24000.wav</a><br>"
      ],
      "text/plain": [
       "/Users/michaelp/Code/Tacotron-2/data/Hillary/wavs/script_15/script_4_chunk_13-rate=24000.wav"
      ]
     },
     "metadata": {},
     "output_type": "display_data"
    },
    {
     "data": {
      "text/html": [
       "\n",
       "                <audio controls=\"controls\" >\n",
       "                    <source />\n",
       "                    Your browser does not support the audio element.\n",
       "                </audio>\n",
       "              "
      ],
      "text/plain": [
       "<IPython.lib.display.Audio object>"
      ]
     },
     "metadata": {},
     "output_type": "display_data"
    },
    {
     "data": {
      "text/markdown": [
       "\n",
       "\n",
       " ___"
      ],
      "text/plain": [
       "<IPython.core.display.Markdown object>"
      ]
     },
     "metadata": {},
     "output_type": "display_data"
    },
    {
     "data": {
      "text/markdown": [
       "**Text:** \"for the AS: \"Credibility of Evidence\" and \"Assessing and Developing Argument\". The full Advanced GCE is now available: in addition to the\""
      ],
      "text/plain": [
       "<IPython.core.display.Markdown object>"
      ]
     },
     "metadata": {},
     "output_type": "display_data"
    },
    {
     "data": {
      "text/html": [
       "<a href='../data/Hillary/wavs/script_20/script_3_chunk_5-rate=24000.wav' target='_blank'>../data/Hillary/wavs/script_20/script_3_chunk_5-rate=24000.wav</a><br>"
      ],
      "text/plain": [
       "/Users/michaelp/Code/Tacotron-2/data/Hillary/wavs/script_20/script_3_chunk_5-rate=24000.wav"
      ]
     },
     "metadata": {},
     "output_type": "display_data"
    },
    {
     "data": {
      "text/html": [
       "\n",
       "                <audio controls=\"controls\" >\n",
       "                    <source />\n",
       "                    Your browser does not support the audio element.\n",
       "                </audio>\n",
       "              "
      ],
      "text/plain": [
       "<IPython.lib.display.Audio object>"
      ]
     },
     "metadata": {},
     "output_type": "display_data"
    },
    {
     "data": {
      "text/markdown": [
       "\n",
       "\n",
       " ___"
      ],
      "text/plain": [
       "<IPython.core.display.Markdown object>"
      ]
     },
     "metadata": {},
     "output_type": "display_data"
    },
    {
     "data": {
      "text/markdown": [
       "**Text:** \"the outward and visible sign of the covenant America has made with the world ...\""
      ],
      "text/plain": [
       "<IPython.core.display.Markdown object>"
      ]
     },
     "metadata": {},
     "output_type": "display_data"
    },
    {
     "data": {
      "text/html": [
       "<a href='../data/Hillary/wavs/script_28/script_60_chunk_4-rate=24000.wav' target='_blank'>../data/Hillary/wavs/script_28/script_60_chunk_4-rate=24000.wav</a><br>"
      ],
      "text/plain": [
       "/Users/michaelp/Code/Tacotron-2/data/Hillary/wavs/script_28/script_60_chunk_4-rate=24000.wav"
      ]
     },
     "metadata": {},
     "output_type": "display_data"
    },
    {
     "data": {
      "text/html": [
       "\n",
       "                <audio controls=\"controls\" >\n",
       "                    <source />\n",
       "                    Your browser does not support the audio element.\n",
       "                </audio>\n",
       "              "
      ],
      "text/plain": [
       "<IPython.lib.display.Audio object>"
      ]
     },
     "metadata": {},
     "output_type": "display_data"
    },
    {
     "data": {
      "text/markdown": [
       "\n",
       "\n",
       " ___"
      ],
      "text/plain": [
       "<IPython.core.display.Markdown object>"
      ]
     },
     "metadata": {},
     "output_type": "display_data"
    },
    {
     "data": {
      "text/markdown": [
       "**Text:** \"suggested measuring the various parameters that encourage creativity and innovation:\""
      ],
      "text/plain": [
       "<IPython.core.display.Markdown object>"
      ]
     },
     "metadata": {},
     "output_type": "display_data"
    },
    {
     "data": {
      "text/html": [
       "<a href='../data/Hillary/wavs/script_19/script_37_chunk_5-rate=24000.wav' target='_blank'>../data/Hillary/wavs/script_19/script_37_chunk_5-rate=24000.wav</a><br>"
      ],
      "text/plain": [
       "/Users/michaelp/Code/Tacotron-2/data/Hillary/wavs/script_19/script_37_chunk_5-rate=24000.wav"
      ]
     },
     "metadata": {},
     "output_type": "display_data"
    },
    {
     "data": {
      "text/html": [
       "\n",
       "                <audio controls=\"controls\" >\n",
       "                    <source />\n",
       "                    Your browser does not support the audio element.\n",
       "                </audio>\n",
       "              "
      ],
      "text/plain": [
       "<IPython.lib.display.Audio object>"
      ]
     },
     "metadata": {},
     "output_type": "display_data"
    },
    {
     "data": {
      "text/markdown": [
       "\n",
       "\n",
       " ___"
      ],
      "text/plain": [
       "<IPython.core.display.Markdown object>"
      ]
     },
     "metadata": {},
     "output_type": "display_data"
    },
    {
     "data": {
      "text/markdown": [
       "**Text:** \"HBO viewers got an extended reservation to the Ranch\""
      ],
      "text/plain": [
       "<IPython.core.display.Markdown object>"
      ]
     },
     "metadata": {},
     "output_type": "display_data"
    },
    {
     "data": {
      "text/html": [
       "<a href='../data/Hillary/wavs/script_19/script_67_chunk_7-rate=24000.wav' target='_blank'>../data/Hillary/wavs/script_19/script_67_chunk_7-rate=24000.wav</a><br>"
      ],
      "text/plain": [
       "/Users/michaelp/Code/Tacotron-2/data/Hillary/wavs/script_19/script_67_chunk_7-rate=24000.wav"
      ]
     },
     "metadata": {},
     "output_type": "display_data"
    },
    {
     "data": {
      "text/html": [
       "\n",
       "                <audio controls=\"controls\" >\n",
       "                    <source />\n",
       "                    Your browser does not support the audio element.\n",
       "                </audio>\n",
       "              "
      ],
      "text/plain": [
       "<IPython.lib.display.Audio object>"
      ]
     },
     "metadata": {},
     "output_type": "display_data"
    },
    {
     "data": {
      "text/markdown": [
       "\n",
       "\n",
       " ___"
      ],
      "text/plain": [
       "<IPython.core.display.Markdown object>"
      ]
     },
     "metadata": {},
     "output_type": "display_data"
    },
    {
     "data": {
      "text/markdown": [
       "**Text:** \"but also how they feel about their relationship with the other individual.\""
      ],
      "text/plain": [
       "<IPython.core.display.Markdown object>"
      ]
     },
     "metadata": {},
     "output_type": "display_data"
    },
    {
     "data": {
      "text/html": [
       "<a href='../data/Hillary/wavs/script_19/script_76_chunk_10-rate=24000.wav' target='_blank'>../data/Hillary/wavs/script_19/script_76_chunk_10-rate=24000.wav</a><br>"
      ],
      "text/plain": [
       "/Users/michaelp/Code/Tacotron-2/data/Hillary/wavs/script_19/script_76_chunk_10-rate=24000.wav"
      ]
     },
     "metadata": {},
     "output_type": "display_data"
    },
    {
     "data": {
      "text/html": [
       "\n",
       "                <audio controls=\"controls\" >\n",
       "                    <source />\n",
       "                    Your browser does not support the audio element.\n",
       "                </audio>\n",
       "              "
      ],
      "text/plain": [
       "<IPython.lib.display.Audio object>"
      ]
     },
     "metadata": {},
     "output_type": "display_data"
    },
    {
     "data": {
      "text/markdown": [
       "\n",
       "\n",
       " ___"
      ],
      "text/plain": [
       "<IPython.core.display.Markdown object>"
      ]
     },
     "metadata": {},
     "output_type": "display_data"
    },
    {
     "data": {
      "text/markdown": [
       "**Text:** \"11 sizzling editions.  Proving you can't get enough of a good thing, Cathouse Season Two returned in\""
      ],
      "text/plain": [
       "<IPython.core.display.Markdown object>"
      ]
     },
     "metadata": {},
     "output_type": "display_data"
    },
    {
     "data": {
      "text/html": [
       "<a href='../data/Hillary/wavs/script_19/script_67_chunk_9-rate=24000.wav' target='_blank'>../data/Hillary/wavs/script_19/script_67_chunk_9-rate=24000.wav</a><br>"
      ],
      "text/plain": [
       "/Users/michaelp/Code/Tacotron-2/data/Hillary/wavs/script_19/script_67_chunk_9-rate=24000.wav"
      ]
     },
     "metadata": {},
     "output_type": "display_data"
    },
    {
     "data": {
      "text/html": [
       "\n",
       "                <audio controls=\"controls\" >\n",
       "                    <source />\n",
       "                    Your browser does not support the audio element.\n",
       "                </audio>\n",
       "              "
      ],
      "text/plain": [
       "<IPython.lib.display.Audio object>"
      ]
     },
     "metadata": {},
     "output_type": "display_data"
    },
    {
     "data": {
      "text/markdown": [
       "\n",
       "\n",
       " ___"
      ],
      "text/plain": [
       "<IPython.core.display.Markdown object>"
      ]
     },
     "metadata": {},
     "output_type": "display_data"
    },
    {
     "data": {
      "text/markdown": [
       "**Text:** \"often as a way to promote better self-esteem, communication and social interaction.\""
      ],
      "text/plain": [
       "<IPython.core.display.Markdown object>"
      ]
     },
     "metadata": {},
     "output_type": "display_data"
    },
    {
     "data": {
      "text/html": [
       "<a href='../data/Hillary/wavs/script_17/script_69_chunk_26-rate=24000.wav' target='_blank'>../data/Hillary/wavs/script_17/script_69_chunk_26-rate=24000.wav</a><br>"
      ],
      "text/plain": [
       "/Users/michaelp/Code/Tacotron-2/data/Hillary/wavs/script_17/script_69_chunk_26-rate=24000.wav"
      ]
     },
     "metadata": {},
     "output_type": "display_data"
    },
    {
     "data": {
      "text/html": [
       "\n",
       "                <audio controls=\"controls\" >\n",
       "                    <source />\n",
       "                    Your browser does not support the audio element.\n",
       "                </audio>\n",
       "              "
      ],
      "text/plain": [
       "<IPython.lib.display.Audio object>"
      ]
     },
     "metadata": {},
     "output_type": "display_data"
    },
    {
     "data": {
      "text/markdown": [
       "\n",
       "\n",
       " ___"
      ],
      "text/plain": [
       "<IPython.core.display.Markdown object>"
      ]
     },
     "metadata": {},
     "output_type": "display_data"
    },
    {
     "data": {
      "text/markdown": [
       "**Text:** \"Outwardly, he maintained a calm and smiling aspect.\""
      ],
      "text/plain": [
       "<IPython.core.display.Markdown object>"
      ]
     },
     "metadata": {},
     "output_type": "display_data"
    },
    {
     "data": {
      "text/html": [
       "<a href='../data/Hillary/wavs/script_28/script_95_chunk_0-rate=24000.wav' target='_blank'>../data/Hillary/wavs/script_28/script_95_chunk_0-rate=24000.wav</a><br>"
      ],
      "text/plain": [
       "/Users/michaelp/Code/Tacotron-2/data/Hillary/wavs/script_28/script_95_chunk_0-rate=24000.wav"
      ]
     },
     "metadata": {},
     "output_type": "display_data"
    },
    {
     "data": {
      "text/html": [
       "\n",
       "                <audio controls=\"controls\" >\n",
       "                    <source />\n",
       "                    Your browser does not support the audio element.\n",
       "                </audio>\n",
       "              "
      ],
      "text/plain": [
       "<IPython.lib.display.Audio object>"
      ]
     },
     "metadata": {},
     "output_type": "display_data"
    },
    {
     "data": {
      "text/markdown": [
       "\n",
       "\n",
       " ___"
      ],
      "text/plain": [
       "<IPython.core.display.Markdown object>"
      ]
     },
     "metadata": {},
     "output_type": "display_data"
    },
    {
     "data": {
      "text/markdown": [
       "**Text:** \"Barriers to effective communication can retard or distort the message or intention of the message being conveyed.\""
      ],
      "text/plain": [
       "<IPython.core.display.Markdown object>"
      ]
     },
     "metadata": {},
     "output_type": "display_data"
    },
    {
     "data": {
      "text/html": [
       "<a href='../data/Hillary/wavs/script_24/script_39_chunk_0-rate=24000.wav' target='_blank'>../data/Hillary/wavs/script_24/script_39_chunk_0-rate=24000.wav</a><br>"
      ],
      "text/plain": [
       "/Users/michaelp/Code/Tacotron-2/data/Hillary/wavs/script_24/script_39_chunk_0-rate=24000.wav"
      ]
     },
     "metadata": {},
     "output_type": "display_data"
    },
    {
     "data": {
      "text/html": [
       "\n",
       "                <audio controls=\"controls\" >\n",
       "                    <source />\n",
       "                    Your browser does not support the audio element.\n",
       "                </audio>\n",
       "              "
      ],
      "text/plain": [
       "<IPython.lib.display.Audio object>"
      ]
     },
     "metadata": {},
     "output_type": "display_data"
    },
    {
     "data": {
      "text/markdown": [
       "\n",
       "\n",
       " ___"
      ],
      "text/plain": [
       "<IPython.core.display.Markdown object>"
      ]
     },
     "metadata": {},
     "output_type": "display_data"
    },
    {
     "data": {
      "text/markdown": [
       "**Text:** \"Analogy: using a solution that solves an analogous problem\""
      ],
      "text/plain": [
       "<IPython.core.display.Markdown object>"
      ]
     },
     "metadata": {},
     "output_type": "display_data"
    },
    {
     "data": {
      "text/html": [
       "<a href='../data/Hillary/wavs/script_5/script_17_chunk_15-rate=24000.wav' target='_blank'>../data/Hillary/wavs/script_5/script_17_chunk_15-rate=24000.wav</a><br>"
      ],
      "text/plain": [
       "/Users/michaelp/Code/Tacotron-2/data/Hillary/wavs/script_5/script_17_chunk_15-rate=24000.wav"
      ]
     },
     "metadata": {},
     "output_type": "display_data"
    },
    {
     "data": {
      "text/html": [
       "\n",
       "                <audio controls=\"controls\" >\n",
       "                    <source />\n",
       "                    Your browser does not support the audio element.\n",
       "                </audio>\n",
       "              "
      ],
      "text/plain": [
       "<IPython.lib.display.Audio object>"
      ]
     },
     "metadata": {},
     "output_type": "display_data"
    },
    {
     "data": {
      "text/markdown": [
       "\n",
       "\n",
       " ___"
      ],
      "text/plain": [
       "<IPython.core.display.Markdown object>"
      ]
     },
     "metadata": {},
     "output_type": "display_data"
    },
    {
     "data": {
      "text/markdown": [
       "**Text:** \"Improper or inadequate caulking can cause several problems.\""
      ],
      "text/plain": [
       "<IPython.core.display.Markdown object>"
      ]
     },
     "metadata": {},
     "output_type": "display_data"
    },
    {
     "data": {
      "text/html": [
       "<a href='../data/Hillary/wavs/script_8/script_0_chunk_2-rate=24000.wav' target='_blank'>../data/Hillary/wavs/script_8/script_0_chunk_2-rate=24000.wav</a><br>"
      ],
      "text/plain": [
       "/Users/michaelp/Code/Tacotron-2/data/Hillary/wavs/script_8/script_0_chunk_2-rate=24000.wav"
      ]
     },
     "metadata": {},
     "output_type": "display_data"
    },
    {
     "data": {
      "text/html": [
       "\n",
       "                <audio controls=\"controls\" >\n",
       "                    <source />\n",
       "                    Your browser does not support the audio element.\n",
       "                </audio>\n",
       "              "
      ],
      "text/plain": [
       "<IPython.lib.display.Audio object>"
      ]
     },
     "metadata": {},
     "output_type": "display_data"
    },
    {
     "data": {
      "text/markdown": [
       "\n",
       "\n",
       " ___"
      ],
      "text/plain": [
       "<IPython.core.display.Markdown object>"
      ]
     },
     "metadata": {},
     "output_type": "display_data"
    },
    {
     "data": {
      "text/markdown": [
       "**Text:** \"which impairs their social skills, and makes socialization unattractive.\""
      ],
      "text/plain": [
       "<IPython.core.display.Markdown object>"
      ]
     },
     "metadata": {},
     "output_type": "display_data"
    },
    {
     "data": {
      "text/html": [
       "<a href='../data/Hillary/wavs/script_24/script_84_chunk_10-rate=24000.wav' target='_blank'>../data/Hillary/wavs/script_24/script_84_chunk_10-rate=24000.wav</a><br>"
      ],
      "text/plain": [
       "/Users/michaelp/Code/Tacotron-2/data/Hillary/wavs/script_24/script_84_chunk_10-rate=24000.wav"
      ]
     },
     "metadata": {},
     "output_type": "display_data"
    },
    {
     "data": {
      "text/html": [
       "\n",
       "                <audio controls=\"controls\" >\n",
       "                    <source />\n",
       "                    Your browser does not support the audio element.\n",
       "                </audio>\n",
       "              "
      ],
      "text/plain": [
       "<IPython.lib.display.Audio object>"
      ]
     },
     "metadata": {},
     "output_type": "display_data"
    },
    {
     "data": {
      "text/markdown": [
       "\n",
       "\n",
       " ___"
      ],
      "text/plain": [
       "<IPython.core.display.Markdown object>"
      ]
     },
     "metadata": {},
     "output_type": "display_data"
    },
    {
     "data": {
      "text/markdown": [
       "**Text:** \"the main one that must be made is deciding if you are ready to make a lifelong commitment.    When I say Lifelong…\""
      ],
      "text/plain": [
       "<IPython.core.display.Markdown object>"
      ]
     },
     "metadata": {},
     "output_type": "display_data"
    },
    {
     "data": {
      "text/html": [
       "<a href='../data/Hillary/wavs/script_18/script_82_chunk_14-rate=24000.wav' target='_blank'>../data/Hillary/wavs/script_18/script_82_chunk_14-rate=24000.wav</a><br>"
      ],
      "text/plain": [
       "/Users/michaelp/Code/Tacotron-2/data/Hillary/wavs/script_18/script_82_chunk_14-rate=24000.wav"
      ]
     },
     "metadata": {},
     "output_type": "display_data"
    },
    {
     "data": {
      "text/html": [
       "\n",
       "                <audio controls=\"controls\" >\n",
       "                    <source />\n",
       "                    Your browser does not support the audio element.\n",
       "                </audio>\n",
       "              "
      ],
      "text/plain": [
       "<IPython.lib.display.Audio object>"
      ]
     },
     "metadata": {},
     "output_type": "display_data"
    },
    {
     "data": {
      "text/markdown": [
       "\n",
       "\n",
       " ___"
      ],
      "text/plain": [
       "<IPython.core.display.Markdown object>"
      ]
     },
     "metadata": {},
     "output_type": "display_data"
    },
    {
     "data": {
      "text/markdown": [
       "**Text:** \"as set out in the book Three Laws of Performance.\""
      ],
      "text/plain": [
       "<IPython.core.display.Markdown object>"
      ]
     },
     "metadata": {},
     "output_type": "display_data"
    },
    {
     "data": {
      "text/html": [
       "<a href='../data/Hillary/wavs/script_15/script_96_chunk_9-rate=24000.wav' target='_blank'>../data/Hillary/wavs/script_15/script_96_chunk_9-rate=24000.wav</a><br>"
      ],
      "text/plain": [
       "/Users/michaelp/Code/Tacotron-2/data/Hillary/wavs/script_15/script_96_chunk_9-rate=24000.wav"
      ]
     },
     "metadata": {},
     "output_type": "display_data"
    },
    {
     "data": {
      "text/html": [
       "\n",
       "                <audio controls=\"controls\" >\n",
       "                    <source />\n",
       "                    Your browser does not support the audio element.\n",
       "                </audio>\n",
       "              "
      ],
      "text/plain": [
       "<IPython.lib.display.Audio object>"
      ]
     },
     "metadata": {},
     "output_type": "display_data"
    },
    {
     "data": {
      "text/markdown": [
       "\n",
       "\n",
       " ___"
      ],
      "text/plain": [
       "<IPython.core.display.Markdown object>"
      ]
     },
     "metadata": {},
     "output_type": "display_data"
    },
    {
     "data": {
      "text/markdown": [
       "**Text:** \"If you're time-crunched and need to squeeze in your workouts, this program is for you.\""
      ],
      "text/plain": [
       "<IPython.core.display.Markdown object>"
      ]
     },
     "metadata": {},
     "output_type": "display_data"
    },
    {
     "data": {
      "text/html": [
       "<a href='../data/Hillary/wavs/script_10/script_5_chunk_7-rate=24000.wav' target='_blank'>../data/Hillary/wavs/script_10/script_5_chunk_7-rate=24000.wav</a><br>"
      ],
      "text/plain": [
       "/Users/michaelp/Code/Tacotron-2/data/Hillary/wavs/script_10/script_5_chunk_7-rate=24000.wav"
      ]
     },
     "metadata": {},
     "output_type": "display_data"
    },
    {
     "data": {
      "text/html": [
       "\n",
       "                <audio controls=\"controls\" >\n",
       "                    <source />\n",
       "                    Your browser does not support the audio element.\n",
       "                </audio>\n",
       "              "
      ],
      "text/plain": [
       "<IPython.lib.display.Audio object>"
      ]
     },
     "metadata": {},
     "output_type": "display_data"
    },
    {
     "data": {
      "text/markdown": [
       "\n",
       "\n",
       " ___"
      ],
      "text/plain": [
       "<IPython.core.display.Markdown object>"
      ]
     },
     "metadata": {},
     "output_type": "display_data"
    },
    {
     "data": {
      "text/markdown": [
       "**Text:** \"Being aware of others' reactions and able to respond in an understanding manner.\""
      ],
      "text/plain": [
       "<IPython.core.display.Markdown object>"
      ]
     },
     "metadata": {},
     "output_type": "display_data"
    },
    {
     "data": {
      "text/html": [
       "<a href='../data/Hillary/wavs/script_15/script_44_chunk_13-rate=24000.wav' target='_blank'>../data/Hillary/wavs/script_15/script_44_chunk_13-rate=24000.wav</a><br>"
      ],
      "text/plain": [
       "/Users/michaelp/Code/Tacotron-2/data/Hillary/wavs/script_15/script_44_chunk_13-rate=24000.wav"
      ]
     },
     "metadata": {},
     "output_type": "display_data"
    },
    {
     "data": {
      "text/html": [
       "\n",
       "                <audio controls=\"controls\" >\n",
       "                    <source />\n",
       "                    Your browser does not support the audio element.\n",
       "                </audio>\n",
       "              "
      ],
      "text/plain": [
       "<IPython.lib.display.Audio object>"
      ]
     },
     "metadata": {},
     "output_type": "display_data"
    },
    {
     "data": {
      "text/markdown": [
       "\n",
       "\n",
       " ___"
      ],
      "text/plain": [
       "<IPython.core.display.Markdown object>"
      ]
     },
     "metadata": {},
     "output_type": "display_data"
    },
    {
     "data": {
      "text/markdown": [
       "**Text:** \"4. Abusive Behavior.\""
      ],
      "text/plain": [
       "<IPython.core.display.Markdown object>"
      ]
     },
     "metadata": {},
     "output_type": "display_data"
    },
    {
     "data": {
      "text/html": [
       "<a href='../data/Hillary/wavs/script_1/script_3_chunk_18-rate=24000.wav' target='_blank'>../data/Hillary/wavs/script_1/script_3_chunk_18-rate=24000.wav</a><br>"
      ],
      "text/plain": [
       "/Users/michaelp/Code/Tacotron-2/data/Hillary/wavs/script_1/script_3_chunk_18-rate=24000.wav"
      ]
     },
     "metadata": {},
     "output_type": "display_data"
    },
    {
     "data": {
      "text/html": [
       "\n",
       "                <audio controls=\"controls\" >\n",
       "                    <source />\n",
       "                    Your browser does not support the audio element.\n",
       "                </audio>\n",
       "              "
      ],
      "text/plain": [
       "<IPython.lib.display.Audio object>"
      ]
     },
     "metadata": {},
     "output_type": "display_data"
    },
    {
     "data": {
      "text/markdown": [
       "\n",
       "\n",
       " ___"
      ],
      "text/plain": [
       "<IPython.core.display.Markdown object>"
      ]
     },
     "metadata": {},
     "output_type": "display_data"
    },
    {
     "data": {
      "text/markdown": [
       "**Text:** \"Visual examination for flaws such as cracks, peeling, loose connections.\""
      ],
      "text/plain": [
       "<IPython.core.display.Markdown object>"
      ]
     },
     "metadata": {},
     "output_type": "display_data"
    },
    {
     "data": {
      "text/html": [
       "<a href='../data/Hillary/wavs/script_16/script_12_chunk_28-rate=24000.wav' target='_blank'>../data/Hillary/wavs/script_16/script_12_chunk_28-rate=24000.wav</a><br>"
      ],
      "text/plain": [
       "/Users/michaelp/Code/Tacotron-2/data/Hillary/wavs/script_16/script_12_chunk_28-rate=24000.wav"
      ]
     },
     "metadata": {},
     "output_type": "display_data"
    },
    {
     "data": {
      "text/html": [
       "\n",
       "                <audio controls=\"controls\" >\n",
       "                    <source />\n",
       "                    Your browser does not support the audio element.\n",
       "                </audio>\n",
       "              "
      ],
      "text/plain": [
       "<IPython.lib.display.Audio object>"
      ]
     },
     "metadata": {},
     "output_type": "display_data"
    },
    {
     "data": {
      "text/markdown": [
       "\n",
       "\n",
       " ___"
      ],
      "text/plain": [
       "<IPython.core.display.Markdown object>"
      ]
     },
     "metadata": {},
     "output_type": "display_data"
    },
    {
     "data": {
      "text/markdown": [
       "**Text:** \"Incidentally, not all scientists agree on the allegedly peaceful nature of the bonobo\""
      ],
      "text/plain": [
       "<IPython.core.display.Markdown object>"
      ]
     },
     "metadata": {},
     "output_type": "display_data"
    },
    {
     "data": {
      "text/html": [
       "<a href='../data/Hillary/wavs/script_16/script_33_chunk_23-rate=24000.wav' target='_blank'>../data/Hillary/wavs/script_16/script_33_chunk_23-rate=24000.wav</a><br>"
      ],
      "text/plain": [
       "/Users/michaelp/Code/Tacotron-2/data/Hillary/wavs/script_16/script_33_chunk_23-rate=24000.wav"
      ]
     },
     "metadata": {},
     "output_type": "display_data"
    },
    {
     "data": {
      "text/html": [
       "\n",
       "                <audio controls=\"controls\" >\n",
       "                    <source />\n",
       "                    Your browser does not support the audio element.\n",
       "                </audio>\n",
       "              "
      ],
      "text/plain": [
       "<IPython.lib.display.Audio object>"
      ]
     },
     "metadata": {},
     "output_type": "display_data"
    },
    {
     "data": {
      "text/markdown": [
       "\n",
       "\n",
       " ___"
      ],
      "text/plain": [
       "<IPython.core.display.Markdown object>"
      ]
     },
     "metadata": {},
     "output_type": "display_data"
    },
    {
     "data": {
      "text/markdown": [
       "**Text:** \"First, let’s look at how to get the most from your virtual tour. See the 5 Main\""
      ],
      "text/plain": [
       "<IPython.core.display.Markdown object>"
      ]
     },
     "metadata": {},
     "output_type": "display_data"
    },
    {
     "data": {
      "text/html": [
       "<a href='../data/Hillary/wavs/script_0/script_0_chunk_2-rate=24000.wav' target='_blank'>../data/Hillary/wavs/script_0/script_0_chunk_2-rate=24000.wav</a><br>"
      ],
      "text/plain": [
       "/Users/michaelp/Code/Tacotron-2/data/Hillary/wavs/script_0/script_0_chunk_2-rate=24000.wav"
      ]
     },
     "metadata": {},
     "output_type": "display_data"
    },
    {
     "data": {
      "text/html": [
       "\n",
       "                <audio controls=\"controls\" >\n",
       "                    <source />\n",
       "                    Your browser does not support the audio element.\n",
       "                </audio>\n",
       "              "
      ],
      "text/plain": [
       "<IPython.lib.display.Audio object>"
      ]
     },
     "metadata": {},
     "output_type": "display_data"
    },
    {
     "data": {
      "text/markdown": [
       "\n",
       "\n",
       " ___"
      ],
      "text/plain": [
       "<IPython.core.display.Markdown object>"
      ]
     },
     "metadata": {},
     "output_type": "display_data"
    },
    {
     "data": {
      "text/markdown": [
       "**Text:** \"The discipline encompasses a range of topics,\""
      ],
      "text/plain": [
       "<IPython.core.display.Markdown object>"
      ]
     },
     "metadata": {},
     "output_type": "display_data"
    },
    {
     "data": {
      "text/html": [
       "<a href='../data/Hillary/wavs/script_25/script_51_chunk_1-rate=24000.wav' target='_blank'>../data/Hillary/wavs/script_25/script_51_chunk_1-rate=24000.wav</a><br>"
      ],
      "text/plain": [
       "/Users/michaelp/Code/Tacotron-2/data/Hillary/wavs/script_25/script_51_chunk_1-rate=24000.wav"
      ]
     },
     "metadata": {},
     "output_type": "display_data"
    },
    {
     "data": {
      "text/html": [
       "\n",
       "                <audio controls=\"controls\" >\n",
       "                    <source />\n",
       "                    Your browser does not support the audio element.\n",
       "                </audio>\n",
       "              "
      ],
      "text/plain": [
       "<IPython.lib.display.Audio object>"
      ]
     },
     "metadata": {},
     "output_type": "display_data"
    },
    {
     "data": {
      "text/markdown": [
       "\n",
       "\n",
       " ___"
      ],
      "text/plain": [
       "<IPython.core.display.Markdown object>"
      ]
     },
     "metadata": {},
     "output_type": "display_data"
    },
    {
     "data": {
      "text/markdown": [
       "**Text:** \"make it difficult to conduct international business.\" Moreover, it can be a risk for a company to operate in a country\""
      ],
      "text/plain": [
       "<IPython.core.display.Markdown object>"
      ]
     },
     "metadata": {},
     "output_type": "display_data"
    },
    {
     "data": {
      "text/html": [
       "<a href='../data/Hillary/wavs/script_20/script_52_chunk_5-rate=24000.wav' target='_blank'>../data/Hillary/wavs/script_20/script_52_chunk_5-rate=24000.wav</a><br>"
      ],
      "text/plain": [
       "/Users/michaelp/Code/Tacotron-2/data/Hillary/wavs/script_20/script_52_chunk_5-rate=24000.wav"
      ]
     },
     "metadata": {},
     "output_type": "display_data"
    },
    {
     "data": {
      "text/html": [
       "\n",
       "                <audio controls=\"controls\" >\n",
       "                    <source />\n",
       "                    Your browser does not support the audio element.\n",
       "                </audio>\n",
       "              "
      ],
      "text/plain": [
       "<IPython.lib.display.Audio object>"
      ]
     },
     "metadata": {},
     "output_type": "display_data"
    },
    {
     "data": {
      "text/markdown": [
       "\n",
       "\n",
       " ___"
      ],
      "text/plain": [
       "<IPython.core.display.Markdown object>"
      ]
     },
     "metadata": {},
     "output_type": "display_data"
    },
    {
     "data": {
      "text/markdown": [
       "**Text:** \"each of which resulted in a score for originality and fluency;\""
      ],
      "text/plain": [
       "<IPython.core.display.Markdown object>"
      ]
     },
     "metadata": {},
     "output_type": "display_data"
    },
    {
     "data": {
      "text/html": [
       "<a href='../data/Hillary/wavs/script_6/script_4_chunk_15-rate=24000.wav' target='_blank'>../data/Hillary/wavs/script_6/script_4_chunk_15-rate=24000.wav</a><br>"
      ],
      "text/plain": [
       "/Users/michaelp/Code/Tacotron-2/data/Hillary/wavs/script_6/script_4_chunk_15-rate=24000.wav"
      ]
     },
     "metadata": {},
     "output_type": "display_data"
    },
    {
     "data": {
      "text/html": [
       "\n",
       "                <audio controls=\"controls\" >\n",
       "                    <source />\n",
       "                    Your browser does not support the audio element.\n",
       "                </audio>\n",
       "              "
      ],
      "text/plain": [
       "<IPython.lib.display.Audio object>"
      ]
     },
     "metadata": {},
     "output_type": "display_data"
    },
    {
     "data": {
      "text/markdown": [
       "\n",
       "\n",
       " ___"
      ],
      "text/plain": [
       "<IPython.core.display.Markdown object>"
      ]
     },
     "metadata": {},
     "output_type": "display_data"
    },
    {
     "data": {
      "text/markdown": [
       "**Text:** \"in him should not perish, but have everlasting life.\n",
       "17\""
      ],
      "text/plain": [
       "<IPython.core.display.Markdown object>"
      ]
     },
     "metadata": {},
     "output_type": "display_data"
    },
    {
     "data": {
      "text/html": [
       "<a href='../data/Hillary/wavs/script_19/script_20_chunk_2-rate=24000.wav' target='_blank'>../data/Hillary/wavs/script_19/script_20_chunk_2-rate=24000.wav</a><br>"
      ],
      "text/plain": [
       "/Users/michaelp/Code/Tacotron-2/data/Hillary/wavs/script_19/script_20_chunk_2-rate=24000.wav"
      ]
     },
     "metadata": {},
     "output_type": "display_data"
    },
    {
     "data": {
      "text/html": [
       "\n",
       "                <audio controls=\"controls\" >\n",
       "                    <source />\n",
       "                    Your browser does not support the audio element.\n",
       "                </audio>\n",
       "              "
      ],
      "text/plain": [
       "<IPython.lib.display.Audio object>"
      ]
     },
     "metadata": {},
     "output_type": "display_data"
    },
    {
     "data": {
      "text/markdown": [
       "\n",
       "\n",
       " ___"
      ],
      "text/plain": [
       "<IPython.core.display.Markdown object>"
      ]
     },
     "metadata": {},
     "output_type": "display_data"
    },
    {
     "data": {
      "text/markdown": [
       "**Text:** \"The Incans told story with dances and fire, aborigines told it with star and spear.\""
      ],
      "text/plain": [
       "<IPython.core.display.Markdown object>"
      ]
     },
     "metadata": {},
     "output_type": "display_data"
    },
    {
     "data": {
      "text/html": [
       "<a href='../data/Hillary/wavs/script_0/script_10_chunk_2-rate=24000.wav' target='_blank'>../data/Hillary/wavs/script_0/script_10_chunk_2-rate=24000.wav</a><br>"
      ],
      "text/plain": [
       "/Users/michaelp/Code/Tacotron-2/data/Hillary/wavs/script_0/script_10_chunk_2-rate=24000.wav"
      ]
     },
     "metadata": {},
     "output_type": "display_data"
    },
    {
     "data": {
      "text/html": [
       "\n",
       "                <audio controls=\"controls\" >\n",
       "                    <source />\n",
       "                    Your browser does not support the audio element.\n",
       "                </audio>\n",
       "              "
      ],
      "text/plain": [
       "<IPython.lib.display.Audio object>"
      ]
     },
     "metadata": {},
     "output_type": "display_data"
    },
    {
     "data": {
      "text/markdown": [
       "\n",
       "\n",
       " ___"
      ],
      "text/plain": [
       "<IPython.core.display.Markdown object>"
      ]
     },
     "metadata": {},
     "output_type": "display_data"
    },
    {
     "data": {
      "text/markdown": [
       "**Text:** \"Point your microphone away from any noisy equipment,\""
      ],
      "text/plain": [
       "<IPython.core.display.Markdown object>"
      ]
     },
     "metadata": {},
     "output_type": "display_data"
    },
    {
     "data": {
      "text/html": [
       "<a href='../data/Hillary/wavs/script_16/script_0_chunk_17-rate=24000.wav' target='_blank'>../data/Hillary/wavs/script_16/script_0_chunk_17-rate=24000.wav</a><br>"
      ],
      "text/plain": [
       "/Users/michaelp/Code/Tacotron-2/data/Hillary/wavs/script_16/script_0_chunk_17-rate=24000.wav"
      ]
     },
     "metadata": {},
     "output_type": "display_data"
    },
    {
     "data": {
      "text/html": [
       "\n",
       "                <audio controls=\"controls\" >\n",
       "                    <source />\n",
       "                    Your browser does not support the audio element.\n",
       "                </audio>\n",
       "              "
      ],
      "text/plain": [
       "<IPython.lib.display.Audio object>"
      ]
     },
     "metadata": {},
     "output_type": "display_data"
    },
    {
     "data": {
      "text/markdown": [
       "\n",
       "\n",
       " ___"
      ],
      "text/plain": [
       "<IPython.core.display.Markdown object>"
      ]
     },
     "metadata": {},
     "output_type": "display_data"
    },
    {
     "data": {
      "text/markdown": [
       "**Text:** \"Contrariwise, more democratically inclined theorists have pointed to examples of\""
      ],
      "text/plain": [
       "<IPython.core.display.Markdown object>"
      ]
     },
     "metadata": {},
     "output_type": "display_data"
    },
    {
     "data": {
      "text/html": [
       "<a href='../data/Hillary/wavs/script_21/script_54_chunk_5-rate=24000.wav' target='_blank'>../data/Hillary/wavs/script_21/script_54_chunk_5-rate=24000.wav</a><br>"
      ],
      "text/plain": [
       "/Users/michaelp/Code/Tacotron-2/data/Hillary/wavs/script_21/script_54_chunk_5-rate=24000.wav"
      ]
     },
     "metadata": {},
     "output_type": "display_data"
    },
    {
     "data": {
      "text/html": [
       "\n",
       "                <audio controls=\"controls\" >\n",
       "                    <source />\n",
       "                    Your browser does not support the audio element.\n",
       "                </audio>\n",
       "              "
      ],
      "text/plain": [
       "<IPython.lib.display.Audio object>"
      ]
     },
     "metadata": {},
     "output_type": "display_data"
    },
    {
     "data": {
      "text/markdown": [
       "\n",
       "\n",
       " ___"
      ],
      "text/plain": [
       "<IPython.core.display.Markdown object>"
      ]
     },
     "metadata": {},
     "output_type": "display_data"
    },
    {
     "data": {
      "text/markdown": [
       "**Text:** \"The second half of the discussion will be about Pet Ownership.\""
      ],
      "text/plain": [
       "<IPython.core.display.Markdown object>"
      ]
     },
     "metadata": {},
     "output_type": "display_data"
    },
    {
     "data": {
      "text/html": [
       "<a href='../data/Hillary/wavs/script_18/script_82_chunk_3-rate=24000.wav' target='_blank'>../data/Hillary/wavs/script_18/script_82_chunk_3-rate=24000.wav</a><br>"
      ],
      "text/plain": [
       "/Users/michaelp/Code/Tacotron-2/data/Hillary/wavs/script_18/script_82_chunk_3-rate=24000.wav"
      ]
     },
     "metadata": {},
     "output_type": "display_data"
    },
    {
     "data": {
      "text/html": [
       "\n",
       "                <audio controls=\"controls\" >\n",
       "                    <source />\n",
       "                    Your browser does not support the audio element.\n",
       "                </audio>\n",
       "              "
      ],
      "text/plain": [
       "<IPython.lib.display.Audio object>"
      ]
     },
     "metadata": {},
     "output_type": "display_data"
    },
    {
     "data": {
      "text/markdown": [
       "\n",
       "\n",
       " ___"
      ],
      "text/plain": [
       "<IPython.core.display.Markdown object>"
      ]
     },
     "metadata": {},
     "output_type": "display_data"
    },
    {
     "data": {
      "text/markdown": [
       "**Text:** \"they emphasize their open, fair, responsible, and pleasant communal qualities.\""
      ],
      "text/plain": [
       "<IPython.core.display.Markdown object>"
      ]
     },
     "metadata": {},
     "output_type": "display_data"
    },
    {
     "data": {
      "text/html": [
       "<a href='../data/Hillary/wavs/script_16/script_29_chunk_8-rate=24000.wav' target='_blank'>../data/Hillary/wavs/script_16/script_29_chunk_8-rate=24000.wav</a><br>"
      ],
      "text/plain": [
       "/Users/michaelp/Code/Tacotron-2/data/Hillary/wavs/script_16/script_29_chunk_8-rate=24000.wav"
      ]
     },
     "metadata": {},
     "output_type": "display_data"
    },
    {
     "data": {
      "text/html": [
       "\n",
       "                <audio controls=\"controls\" >\n",
       "                    <source />\n",
       "                    Your browser does not support the audio element.\n",
       "                </audio>\n",
       "              "
      ],
      "text/plain": [
       "<IPython.lib.display.Audio object>"
      ]
     },
     "metadata": {},
     "output_type": "display_data"
    },
    {
     "data": {
      "text/markdown": [
       "\n",
       "\n",
       " ___"
      ],
      "text/plain": [
       "<IPython.core.display.Markdown object>"
      ]
     },
     "metadata": {},
     "output_type": "display_data"
    },
    {
     "data": {
      "text/markdown": [
       "**Text:** \"This era began the belief and support of self-regulation and free trade,\""
      ],
      "text/plain": [
       "<IPython.core.display.Markdown object>"
      ]
     },
     "metadata": {},
     "output_type": "display_data"
    },
    {
     "data": {
      "text/html": [
       "<a href='../data/Hillary/wavs/script_11/script_2_chunk_19-rate=24000.wav' target='_blank'>../data/Hillary/wavs/script_11/script_2_chunk_19-rate=24000.wav</a><br>"
      ],
      "text/plain": [
       "/Users/michaelp/Code/Tacotron-2/data/Hillary/wavs/script_11/script_2_chunk_19-rate=24000.wav"
      ]
     },
     "metadata": {},
     "output_type": "display_data"
    },
    {
     "data": {
      "text/html": [
       "\n",
       "                <audio controls=\"controls\" >\n",
       "                    <source />\n",
       "                    Your browser does not support the audio element.\n",
       "                </audio>\n",
       "              "
      ],
      "text/plain": [
       "<IPython.lib.display.Audio object>"
      ]
     },
     "metadata": {},
     "output_type": "display_data"
    },
    {
     "data": {
      "text/markdown": [
       "\n",
       "\n",
       " ___"
      ],
      "text/plain": [
       "<IPython.core.display.Markdown object>"
      ]
     },
     "metadata": {},
     "output_type": "display_data"
    },
    {
     "data": {
      "text/markdown": [
       "**Text:** \"According to Raymond Nickerson, one can see the consequences of confirmation bias in real-life situations,\""
      ],
      "text/plain": [
       "<IPython.core.display.Markdown object>"
      ]
     },
     "metadata": {},
     "output_type": "display_data"
    },
    {
     "data": {
      "text/html": [
       "<a href='../data/Hillary/wavs/script_20/script_81_chunk_23-rate=24000.wav' target='_blank'>../data/Hillary/wavs/script_20/script_81_chunk_23-rate=24000.wav</a><br>"
      ],
      "text/plain": [
       "/Users/michaelp/Code/Tacotron-2/data/Hillary/wavs/script_20/script_81_chunk_23-rate=24000.wav"
      ]
     },
     "metadata": {},
     "output_type": "display_data"
    },
    {
     "data": {
      "text/html": [
       "\n",
       "                <audio controls=\"controls\" >\n",
       "                    <source />\n",
       "                    Your browser does not support the audio element.\n",
       "                </audio>\n",
       "              "
      ],
      "text/plain": [
       "<IPython.lib.display.Audio object>"
      ]
     },
     "metadata": {},
     "output_type": "display_data"
    },
    {
     "data": {
      "text/markdown": [
       "\n",
       "\n",
       " ___"
      ],
      "text/plain": [
       "<IPython.core.display.Markdown object>"
      ]
     },
     "metadata": {},
     "output_type": "display_data"
    },
    {
     "data": {
      "text/markdown": [
       "**Text:** \"instantly into a sublimely romantic setting, complete with laughter, romance, the distant sounds of\""
      ],
      "text/plain": [
       "<IPython.core.display.Markdown object>"
      ]
     },
     "metadata": {},
     "output_type": "display_data"
    },
    {
     "data": {
      "text/html": [
       "<a href='../data/Hillary/wavs/script_24/script_37_chunk_5-rate=24000.wav' target='_blank'>../data/Hillary/wavs/script_24/script_37_chunk_5-rate=24000.wav</a><br>"
      ],
      "text/plain": [
       "/Users/michaelp/Code/Tacotron-2/data/Hillary/wavs/script_24/script_37_chunk_5-rate=24000.wav"
      ]
     },
     "metadata": {},
     "output_type": "display_data"
    },
    {
     "data": {
      "text/html": [
       "\n",
       "                <audio controls=\"controls\" >\n",
       "                    <source />\n",
       "                    Your browser does not support the audio element.\n",
       "                </audio>\n",
       "              "
      ],
      "text/plain": [
       "<IPython.lib.display.Audio object>"
      ]
     },
     "metadata": {},
     "output_type": "display_data"
    },
    {
     "data": {
      "text/markdown": [
       "\n",
       "\n",
       " ___"
      ],
      "text/plain": [
       "<IPython.core.display.Markdown object>"
      ]
     },
     "metadata": {},
     "output_type": "display_data"
    },
    {
     "data": {
      "text/markdown": [
       "**Text:** \"These dimensions are known as physical, informational, and cognitive.\""
      ],
      "text/plain": [
       "<IPython.core.display.Markdown object>"
      ]
     },
     "metadata": {},
     "output_type": "display_data"
    },
    {
     "data": {
      "text/html": [
       "<a href='../data/Hillary/wavs/script_15/script_35_chunk_22-rate=24000.wav' target='_blank'>../data/Hillary/wavs/script_15/script_35_chunk_22-rate=24000.wav</a><br>"
      ],
      "text/plain": [
       "/Users/michaelp/Code/Tacotron-2/data/Hillary/wavs/script_15/script_35_chunk_22-rate=24000.wav"
      ]
     },
     "metadata": {},
     "output_type": "display_data"
    },
    {
     "data": {
      "text/html": [
       "\n",
       "                <audio controls=\"controls\" >\n",
       "                    <source />\n",
       "                    Your browser does not support the audio element.\n",
       "                </audio>\n",
       "              "
      ],
      "text/plain": [
       "<IPython.lib.display.Audio object>"
      ]
     },
     "metadata": {},
     "output_type": "display_data"
    },
    {
     "data": {
      "text/markdown": [
       "\n",
       "\n",
       " ___"
      ],
      "text/plain": [
       "<IPython.core.display.Markdown object>"
      ]
     },
     "metadata": {},
     "output_type": "display_data"
    },
    {
     "data": {
      "text/markdown": [
       "**Text:** \"Contrary to popular belief, Mother's Day was not conceived and fine-tuned in the boardroom of Hallmark.\""
      ],
      "text/plain": [
       "<IPython.core.display.Markdown object>"
      ]
     },
     "metadata": {},
     "output_type": "display_data"
    },
    {
     "data": {
      "text/html": [
       "<a href='../data/Hillary/wavs/script_27/script_18_chunk_0-rate=24000.wav' target='_blank'>../data/Hillary/wavs/script_27/script_18_chunk_0-rate=24000.wav</a><br>"
      ],
      "text/plain": [
       "/Users/michaelp/Code/Tacotron-2/data/Hillary/wavs/script_27/script_18_chunk_0-rate=24000.wav"
      ]
     },
     "metadata": {},
     "output_type": "display_data"
    },
    {
     "data": {
      "text/html": [
       "\n",
       "                <audio controls=\"controls\" >\n",
       "                    <source />\n",
       "                    Your browser does not support the audio element.\n",
       "                </audio>\n",
       "              "
      ],
      "text/plain": [
       "<IPython.lib.display.Audio object>"
      ]
     },
     "metadata": {},
     "output_type": "display_data"
    },
    {
     "data": {
      "text/markdown": [
       "\n",
       "\n",
       " ___"
      ],
      "text/plain": [
       "<IPython.core.display.Markdown object>"
      ]
     },
     "metadata": {},
     "output_type": "display_data"
    },
    {
     "data": {
      "text/markdown": [
       "**Text:** \"Modular Selection and Identification for Control. New, hierarchically\""
      ],
      "text/plain": [
       "<IPython.core.display.Markdown object>"
      ]
     },
     "metadata": {},
     "output_type": "display_data"
    },
    {
     "data": {
      "text/html": [
       "<a href='../data/Hillary/wavs/script_20/script_8_chunk_4-rate=24000.wav' target='_blank'>../data/Hillary/wavs/script_20/script_8_chunk_4-rate=24000.wav</a><br>"
      ],
      "text/plain": [
       "/Users/michaelp/Code/Tacotron-2/data/Hillary/wavs/script_20/script_8_chunk_4-rate=24000.wav"
      ]
     },
     "metadata": {},
     "output_type": "display_data"
    },
    {
     "data": {
      "text/html": [
       "\n",
       "                <audio controls=\"controls\" >\n",
       "                    <source />\n",
       "                    Your browser does not support the audio element.\n",
       "                </audio>\n",
       "              "
      ],
      "text/plain": [
       "<IPython.lib.display.Audio object>"
      ]
     },
     "metadata": {},
     "output_type": "display_data"
    },
    {
     "data": {
      "text/markdown": [
       "\n",
       "\n",
       " ___"
      ],
      "text/plain": [
       "<IPython.core.display.Markdown object>"
      ]
     },
     "metadata": {},
     "output_type": "display_data"
    },
    {
     "data": {
      "text/markdown": [
       "**Text:** \"According to Barney, \"formulation\""
      ],
      "text/plain": [
       "<IPython.core.display.Markdown object>"
      ]
     },
     "metadata": {},
     "output_type": "display_data"
    },
    {
     "data": {
      "text/html": [
       "<a href='../data/Hillary/wavs/script_26/script_53_chunk_2-rate=24000.wav' target='_blank'>../data/Hillary/wavs/script_26/script_53_chunk_2-rate=24000.wav</a><br>"
      ],
      "text/plain": [
       "/Users/michaelp/Code/Tacotron-2/data/Hillary/wavs/script_26/script_53_chunk_2-rate=24000.wav"
      ]
     },
     "metadata": {},
     "output_type": "display_data"
    },
    {
     "data": {
      "text/html": [
       "\n",
       "                <audio controls=\"controls\" >\n",
       "                    <source />\n",
       "                    Your browser does not support the audio element.\n",
       "                </audio>\n",
       "              "
      ],
      "text/plain": [
       "<IPython.lib.display.Audio object>"
      ]
     },
     "metadata": {},
     "output_type": "display_data"
    },
    {
     "data": {
      "text/markdown": [
       "\n",
       "\n",
       " ___"
      ],
      "text/plain": [
       "<IPython.core.display.Markdown object>"
      ]
     },
     "metadata": {},
     "output_type": "display_data"
    },
    {
     "data": {
      "text/markdown": [
       "**Text:** \"salmon swimming upstream against the current of power.\""
      ],
      "text/plain": [
       "<IPython.core.display.Markdown object>"
      ]
     },
     "metadata": {},
     "output_type": "display_data"
    },
    {
     "data": {
      "text/html": [
       "<a href='../data/Hillary/wavs/script_20/script_68_chunk_5-rate=24000.wav' target='_blank'>../data/Hillary/wavs/script_20/script_68_chunk_5-rate=24000.wav</a><br>"
      ],
      "text/plain": [
       "/Users/michaelp/Code/Tacotron-2/data/Hillary/wavs/script_20/script_68_chunk_5-rate=24000.wav"
      ]
     },
     "metadata": {},
     "output_type": "display_data"
    },
    {
     "data": {
      "text/html": [
       "\n",
       "                <audio controls=\"controls\" >\n",
       "                    <source />\n",
       "                    Your browser does not support the audio element.\n",
       "                </audio>\n",
       "              "
      ],
      "text/plain": [
       "<IPython.lib.display.Audio object>"
      ]
     },
     "metadata": {},
     "output_type": "display_data"
    },
    {
     "data": {
      "text/markdown": [
       "\n",
       "\n",
       " ___"
      ],
      "text/plain": [
       "<IPython.core.display.Markdown object>"
      ]
     },
     "metadata": {},
     "output_type": "display_data"
    },
    {
     "data": {
      "text/markdown": [
       "**Text:** \"It would illuminate a\""
      ],
      "text/plain": [
       "<IPython.core.display.Markdown object>"
      ]
     },
     "metadata": {},
     "output_type": "display_data"
    },
    {
     "data": {
      "text/html": [
       "<a href='../data/Hillary/wavs/script_24/script_3_chunk_2-rate=24000.wav' target='_blank'>../data/Hillary/wavs/script_24/script_3_chunk_2-rate=24000.wav</a><br>"
      ],
      "text/plain": [
       "/Users/michaelp/Code/Tacotron-2/data/Hillary/wavs/script_24/script_3_chunk_2-rate=24000.wav"
      ]
     },
     "metadata": {},
     "output_type": "display_data"
    },
    {
     "data": {
      "text/html": [
       "\n",
       "                <audio controls=\"controls\" >\n",
       "                    <source />\n",
       "                    Your browser does not support the audio element.\n",
       "                </audio>\n",
       "              "
      ],
      "text/plain": [
       "<IPython.lib.display.Audio object>"
      ]
     },
     "metadata": {},
     "output_type": "display_data"
    },
    {
     "data": {
      "text/markdown": [
       "\n",
       "\n",
       " ___"
      ],
      "text/plain": [
       "<IPython.core.display.Markdown object>"
      ]
     },
     "metadata": {},
     "output_type": "display_data"
    },
    {
     "data": {
      "text/markdown": [
       "**Text:** \"could be nurtured by identifying young people\""
      ],
      "text/plain": [
       "<IPython.core.display.Markdown object>"
      ]
     },
     "metadata": {},
     "output_type": "display_data"
    },
    {
     "data": {
      "text/html": [
       "<a href='../data/Hillary/wavs/script_16/script_17_chunk_16-rate=24000.wav' target='_blank'>../data/Hillary/wavs/script_16/script_17_chunk_16-rate=24000.wav</a><br>"
      ],
      "text/plain": [
       "/Users/michaelp/Code/Tacotron-2/data/Hillary/wavs/script_16/script_17_chunk_16-rate=24000.wav"
      ]
     },
     "metadata": {},
     "output_type": "display_data"
    },
    {
     "data": {
      "text/html": [
       "\n",
       "                <audio controls=\"controls\" >\n",
       "                    <source />\n",
       "                    Your browser does not support the audio element.\n",
       "                </audio>\n",
       "              "
      ],
      "text/plain": [
       "<IPython.lib.display.Audio object>"
      ]
     },
     "metadata": {},
     "output_type": "display_data"
    },
    {
     "data": {
      "text/markdown": [
       "\n",
       "\n",
       " ___"
      ],
      "text/plain": [
       "<IPython.core.display.Markdown object>"
      ]
     },
     "metadata": {},
     "output_type": "display_data"
    },
    {
     "data": {
      "text/markdown": [
       "**Text:** \"While divergent thinking was associated with bilateral activation of the prefrontal cortex, schizotypal\""
      ],
      "text/plain": [
       "<IPython.core.display.Markdown object>"
      ]
     },
     "metadata": {},
     "output_type": "display_data"
    },
    {
     "data": {
      "text/html": [
       "<a href='../data/Hillary/wavs/script_20/script_9_chunk_3-rate=24000.wav' target='_blank'>../data/Hillary/wavs/script_20/script_9_chunk_3-rate=24000.wav</a><br>"
      ],
      "text/plain": [
       "/Users/michaelp/Code/Tacotron-2/data/Hillary/wavs/script_20/script_9_chunk_3-rate=24000.wav"
      ]
     },
     "metadata": {},
     "output_type": "display_data"
    },
    {
     "data": {
      "text/html": [
       "\n",
       "                <audio controls=\"controls\" >\n",
       "                    <source />\n",
       "                    Your browser does not support the audio element.\n",
       "                </audio>\n",
       "              "
      ],
      "text/plain": [
       "<IPython.lib.display.Audio object>"
      ]
     },
     "metadata": {},
     "output_type": "display_data"
    },
    {
     "data": {
      "text/markdown": [
       "\n",
       "\n",
       " ___"
      ],
      "text/plain": [
       "<IPython.core.display.Markdown object>"
      ]
     },
     "metadata": {},
     "output_type": "display_data"
    },
    {
     "data": {
      "text/markdown": [
       "**Text:** \"than the atoms in your right hand ... but you are literally a star child.\""
      ],
      "text/plain": [
       "<IPython.core.display.Markdown object>"
      ]
     },
     "metadata": {},
     "output_type": "display_data"
    },
    {
     "data": {
      "text/html": [
       "<a href='../data/Hillary/wavs/script_25/script_36_chunk_8-rate=24000.wav' target='_blank'>../data/Hillary/wavs/script_25/script_36_chunk_8-rate=24000.wav</a><br>"
      ],
      "text/plain": [
       "/Users/michaelp/Code/Tacotron-2/data/Hillary/wavs/script_25/script_36_chunk_8-rate=24000.wav"
      ]
     },
     "metadata": {},
     "output_type": "display_data"
    },
    {
     "data": {
      "text/html": [
       "\n",
       "                <audio controls=\"controls\" >\n",
       "                    <source />\n",
       "                    Your browser does not support the audio element.\n",
       "                </audio>\n",
       "              "
      ],
      "text/plain": [
       "<IPython.lib.display.Audio object>"
      ]
     },
     "metadata": {},
     "output_type": "display_data"
    },
    {
     "data": {
      "text/markdown": [
       "\n",
       "\n",
       " ___"
      ],
      "text/plain": [
       "<IPython.core.display.Markdown object>"
      ]
     },
     "metadata": {},
     "output_type": "display_data"
    },
    {
     "data": {
      "text/markdown": [
       "**Text:** \"A purpose statement,\""
      ],
      "text/plain": [
       "<IPython.core.display.Markdown object>"
      ]
     },
     "metadata": {},
     "output_type": "display_data"
    },
    {
     "data": {
      "text/html": [
       "<a href='../data/Hillary/wavs/script_17/script_64_chunk_6-rate=24000.wav' target='_blank'>../data/Hillary/wavs/script_17/script_64_chunk_6-rate=24000.wav</a><br>"
      ],
      "text/plain": [
       "/Users/michaelp/Code/Tacotron-2/data/Hillary/wavs/script_17/script_64_chunk_6-rate=24000.wav"
      ]
     },
     "metadata": {},
     "output_type": "display_data"
    },
    {
     "data": {
      "text/html": [
       "\n",
       "                <audio controls=\"controls\" >\n",
       "                    <source />\n",
       "                    Your browser does not support the audio element.\n",
       "                </audio>\n",
       "              "
      ],
      "text/plain": [
       "<IPython.lib.display.Audio object>"
      ]
     },
     "metadata": {},
     "output_type": "display_data"
    },
    {
     "data": {
      "text/markdown": [
       "\n",
       "\n",
       " ___"
      ],
      "text/plain": [
       "<IPython.core.display.Markdown object>"
      ]
     },
     "metadata": {},
     "output_type": "display_data"
    },
    {
     "data": {
      "text/markdown": [
       "**Text:** \"may be considered to embody a rare premodern example of abstract theory of administration.\""
      ],
      "text/plain": [
       "<IPython.core.display.Markdown object>"
      ]
     },
     "metadata": {},
     "output_type": "display_data"
    },
    {
     "data": {
      "text/html": [
       "<a href='../data/Hillary/wavs/script_16/script_85_chunk_9-rate=24000.wav' target='_blank'>../data/Hillary/wavs/script_16/script_85_chunk_9-rate=24000.wav</a><br>"
      ],
      "text/plain": [
       "/Users/michaelp/Code/Tacotron-2/data/Hillary/wavs/script_16/script_85_chunk_9-rate=24000.wav"
      ]
     },
     "metadata": {},
     "output_type": "display_data"
    },
    {
     "data": {
      "text/html": [
       "\n",
       "                <audio controls=\"controls\" >\n",
       "                    <source />\n",
       "                    Your browser does not support the audio element.\n",
       "                </audio>\n",
       "              "
      ],
      "text/plain": [
       "<IPython.lib.display.Audio object>"
      ]
     },
     "metadata": {},
     "output_type": "display_data"
    },
    {
     "data": {
      "text/markdown": [
       "\n",
       "\n",
       " ___"
      ],
      "text/plain": [
       "<IPython.core.display.Markdown object>"
      ]
     },
     "metadata": {},
     "output_type": "display_data"
    },
    {
     "data": {
      "text/markdown": [
       "**Text:** \"Readers unfortunately are left to conclude whether they comprise a redundancy.\""
      ],
      "text/plain": [
       "<IPython.core.display.Markdown object>"
      ]
     },
     "metadata": {},
     "output_type": "display_data"
    },
    {
     "data": {
      "text/html": [
       "<a href='../data/Hillary/wavs/script_15/script_81_chunk_8-rate=24000.wav' target='_blank'>../data/Hillary/wavs/script_15/script_81_chunk_8-rate=24000.wav</a><br>"
      ],
      "text/plain": [
       "/Users/michaelp/Code/Tacotron-2/data/Hillary/wavs/script_15/script_81_chunk_8-rate=24000.wav"
      ]
     },
     "metadata": {},
     "output_type": "display_data"
    },
    {
     "data": {
      "text/html": [
       "\n",
       "                <audio controls=\"controls\" >\n",
       "                    <source />\n",
       "                    Your browser does not support the audio element.\n",
       "                </audio>\n",
       "              "
      ],
      "text/plain": [
       "<IPython.lib.display.Audio object>"
      ]
     },
     "metadata": {},
     "output_type": "display_data"
    },
    {
     "data": {
      "text/markdown": [
       "\n",
       "\n",
       " ___"
      ],
      "text/plain": [
       "<IPython.core.display.Markdown object>"
      ]
     },
     "metadata": {},
     "output_type": "display_data"
    },
    {
     "data": {
      "text/markdown": [
       "**Text:** \"Artists of the Romantic period thrived on emotion, imagination, and intuition.\""
      ],
      "text/plain": [
       "<IPython.core.display.Markdown object>"
      ]
     },
     "metadata": {},
     "output_type": "display_data"
    },
    {
     "data": {
      "text/html": [
       "<a href='../data/Hillary/wavs/script_16/script_10_chunk_0-rate=24000.wav' target='_blank'>../data/Hillary/wavs/script_16/script_10_chunk_0-rate=24000.wav</a><br>"
      ],
      "text/plain": [
       "/Users/michaelp/Code/Tacotron-2/data/Hillary/wavs/script_16/script_10_chunk_0-rate=24000.wav"
      ]
     },
     "metadata": {},
     "output_type": "display_data"
    },
    {
     "data": {
      "text/html": [
       "\n",
       "                <audio controls=\"controls\" >\n",
       "                    <source />\n",
       "                    Your browser does not support the audio element.\n",
       "                </audio>\n",
       "              "
      ],
      "text/plain": [
       "<IPython.lib.display.Audio object>"
      ]
     },
     "metadata": {},
     "output_type": "display_data"
    },
    {
     "data": {
      "text/markdown": [
       "\n",
       "\n",
       " ___"
      ],
      "text/plain": [
       "<IPython.core.display.Markdown object>"
      ]
     },
     "metadata": {},
     "output_type": "display_data"
    },
    {
     "data": {
      "text/markdown": [
       "**Text:** \"is used in numerous disciplines, sometimes with different perspectives, visuals, and often with different terminologies.\""
      ],
      "text/plain": [
       "<IPython.core.display.Markdown object>"
      ]
     },
     "metadata": {},
     "output_type": "display_data"
    },
    {
     "data": {
      "text/html": [
       "<a href='../data/Hillary/wavs/script_17/script_47_chunk_1-rate=24000.wav' target='_blank'>../data/Hillary/wavs/script_17/script_47_chunk_1-rate=24000.wav</a><br>"
      ],
      "text/plain": [
       "/Users/michaelp/Code/Tacotron-2/data/Hillary/wavs/script_17/script_47_chunk_1-rate=24000.wav"
      ]
     },
     "metadata": {},
     "output_type": "display_data"
    },
    {
     "data": {
      "text/html": [
       "\n",
       "                <audio controls=\"controls\" >\n",
       "                    <source />\n",
       "                    Your browser does not support the audio element.\n",
       "                </audio>\n",
       "              "
      ],
      "text/plain": [
       "<IPython.lib.display.Audio object>"
      ]
     },
     "metadata": {},
     "output_type": "display_data"
    },
    {
     "data": {
      "text/markdown": [
       "\n",
       "\n",
       " ___"
      ],
      "text/plain": [
       "<IPython.core.display.Markdown object>"
      ]
     },
     "metadata": {},
     "output_type": "display_data"
    },
    {
     "data": {
      "text/markdown": [
       "**Text:** \"After showing that the numbers of eminent relatives dropped off when his focus moved from first-degree to second-degree relatives,\""
      ],
      "text/plain": [
       "<IPython.core.display.Markdown object>"
      ]
     },
     "metadata": {},
     "output_type": "display_data"
    },
    {
     "data": {
      "text/html": [
       "<a href='../data/Hillary/wavs/script_16/script_17_chunk_12-rate=24000.wav' target='_blank'>../data/Hillary/wavs/script_16/script_17_chunk_12-rate=24000.wav</a><br>"
      ],
      "text/plain": [
       "/Users/michaelp/Code/Tacotron-2/data/Hillary/wavs/script_16/script_17_chunk_12-rate=24000.wav"
      ]
     },
     "metadata": {},
     "output_type": "display_data"
    },
    {
     "data": {
      "text/html": [
       "\n",
       "                <audio controls=\"controls\" >\n",
       "                    <source />\n",
       "                    Your browser does not support the audio element.\n",
       "                </audio>\n",
       "              "
      ],
      "text/plain": [
       "<IPython.lib.display.Audio object>"
      ]
     },
     "metadata": {},
     "output_type": "display_data"
    },
    {
     "data": {
      "text/markdown": [
       "\n",
       "\n",
       " ___"
      ],
      "text/plain": [
       "<IPython.core.display.Markdown object>"
      ]
     },
     "metadata": {},
     "output_type": "display_data"
    },
    {
     "data": {
      "text/markdown": [
       "**Text:** \"however, report misconduct to outside persons or entities.\""
      ],
      "text/plain": [
       "<IPython.core.display.Markdown object>"
      ]
     },
     "metadata": {},
     "output_type": "display_data"
    },
    {
     "data": {
      "text/html": [
       "<a href='../data/Hillary/wavs/script_28/script_12_chunk_1-rate=24000.wav' target='_blank'>../data/Hillary/wavs/script_28/script_12_chunk_1-rate=24000.wav</a><br>"
      ],
      "text/plain": [
       "/Users/michaelp/Code/Tacotron-2/data/Hillary/wavs/script_28/script_12_chunk_1-rate=24000.wav"
      ]
     },
     "metadata": {},
     "output_type": "display_data"
    },
    {
     "data": {
      "text/html": [
       "\n",
       "                <audio controls=\"controls\" >\n",
       "                    <source />\n",
       "                    Your browser does not support the audio element.\n",
       "                </audio>\n",
       "              "
      ],
      "text/plain": [
       "<IPython.lib.display.Audio object>"
      ]
     },
     "metadata": {},
     "output_type": "display_data"
    },
    {
     "data": {
      "text/markdown": [
       "\n",
       "\n",
       " ___"
      ],
      "text/plain": [
       "<IPython.core.display.Markdown object>"
      ]
     },
     "metadata": {},
     "output_type": "display_data"
    },
    {
     "data": {
      "text/markdown": [
       "**Text:** \"It informs the client what specific information is collected,\""
      ],
      "text/plain": [
       "<IPython.core.display.Markdown object>"
      ]
     },
     "metadata": {},
     "output_type": "display_data"
    },
    {
     "data": {
      "text/html": [
       "<a href='../data/Hillary/wavs/script_13/script_14_chunk_8-rate=24000.wav' target='_blank'>../data/Hillary/wavs/script_13/script_14_chunk_8-rate=24000.wav</a><br>"
      ],
      "text/plain": [
       "/Users/michaelp/Code/Tacotron-2/data/Hillary/wavs/script_13/script_14_chunk_8-rate=24000.wav"
      ]
     },
     "metadata": {},
     "output_type": "display_data"
    },
    {
     "data": {
      "text/html": [
       "\n",
       "                <audio controls=\"controls\" >\n",
       "                    <source />\n",
       "                    Your browser does not support the audio element.\n",
       "                </audio>\n",
       "              "
      ],
      "text/plain": [
       "<IPython.lib.display.Audio object>"
      ]
     },
     "metadata": {},
     "output_type": "display_data"
    },
    {
     "data": {
      "text/markdown": [
       "\n",
       "\n",
       " ___"
      ],
      "text/plain": [
       "<IPython.core.display.Markdown object>"
      ]
     },
     "metadata": {},
     "output_type": "display_data"
    },
    {
     "data": {
      "text/markdown": [
       "**Text:** \"Over time, specialized peer-reviewed journals appeared,\""
      ],
      "text/plain": [
       "<IPython.core.display.Markdown object>"
      ]
     },
     "metadata": {},
     "output_type": "display_data"
    },
    {
     "data": {
      "text/html": [
       "<a href='../data/Hillary/wavs/script_18/script_52_chunk_3-rate=24000.wav' target='_blank'>../data/Hillary/wavs/script_18/script_52_chunk_3-rate=24000.wav</a><br>"
      ],
      "text/plain": [
       "/Users/michaelp/Code/Tacotron-2/data/Hillary/wavs/script_18/script_52_chunk_3-rate=24000.wav"
      ]
     },
     "metadata": {},
     "output_type": "display_data"
    },
    {
     "data": {
      "text/html": [
       "\n",
       "                <audio controls=\"controls\" >\n",
       "                    <source />\n",
       "                    Your browser does not support the audio element.\n",
       "                </audio>\n",
       "              "
      ],
      "text/plain": [
       "<IPython.lib.display.Audio object>"
      ]
     },
     "metadata": {},
     "output_type": "display_data"
    },
    {
     "data": {
      "text/markdown": [
       "\n",
       "\n",
       " ___"
      ],
      "text/plain": [
       "<IPython.core.display.Markdown object>"
      ]
     },
     "metadata": {},
     "output_type": "display_data"
    },
    {
     "data": {
      "text/markdown": [
       "**Text:** \"Actual or potential threat of adverse effects on living organisms and environment by effluents,\""
      ],
      "text/plain": [
       "<IPython.core.display.Markdown object>"
      ]
     },
     "metadata": {},
     "output_type": "display_data"
    },
    {
     "data": {
      "text/html": [
       "<a href='../data/Hillary/wavs/script_20/script_29_chunk_6-rate=24000.wav' target='_blank'>../data/Hillary/wavs/script_20/script_29_chunk_6-rate=24000.wav</a><br>"
      ],
      "text/plain": [
       "/Users/michaelp/Code/Tacotron-2/data/Hillary/wavs/script_20/script_29_chunk_6-rate=24000.wav"
      ]
     },
     "metadata": {},
     "output_type": "display_data"
    },
    {
     "data": {
      "text/html": [
       "\n",
       "                <audio controls=\"controls\" >\n",
       "                    <source />\n",
       "                    Your browser does not support the audio element.\n",
       "                </audio>\n",
       "              "
      ],
      "text/plain": [
       "<IPython.lib.display.Audio object>"
      ]
     },
     "metadata": {},
     "output_type": "display_data"
    },
    {
     "data": {
      "text/markdown": [
       "\n",
       "\n",
       " ___"
      ],
      "text/plain": [
       "<IPython.core.display.Markdown object>"
      ]
     },
     "metadata": {},
     "output_type": "display_data"
    },
    {
     "data": {
      "text/markdown": [
       "**Text:** \"do not change from situation to situation;\""
      ],
      "text/plain": [
       "<IPython.core.display.Markdown object>"
      ]
     },
     "metadata": {},
     "output_type": "display_data"
    },
    {
     "data": {
      "text/html": [
       "<a href='../data/Hillary/wavs/script_24/script_77_chunk_5-rate=24000.wav' target='_blank'>../data/Hillary/wavs/script_24/script_77_chunk_5-rate=24000.wav</a><br>"
      ],
      "text/plain": [
       "/Users/michaelp/Code/Tacotron-2/data/Hillary/wavs/script_24/script_77_chunk_5-rate=24000.wav"
      ]
     },
     "metadata": {},
     "output_type": "display_data"
    },
    {
     "data": {
      "text/html": [
       "\n",
       "                <audio controls=\"controls\" >\n",
       "                    <source />\n",
       "                    Your browser does not support the audio element.\n",
       "                </audio>\n",
       "              "
      ],
      "text/plain": [
       "<IPython.lib.display.Audio object>"
      ]
     },
     "metadata": {},
     "output_type": "display_data"
    },
    {
     "data": {
      "text/markdown": [
       "\n",
       "\n",
       " ___"
      ],
      "text/plain": [
       "<IPython.core.display.Markdown object>"
      ]
     },
     "metadata": {},
     "output_type": "display_data"
    },
    {
     "data": {
      "text/markdown": [
       "**Text:** \"Research and development refer to activities in connection with corporate or government innovation.\""
      ],
      "text/plain": [
       "<IPython.core.display.Markdown object>"
      ]
     },
     "metadata": {},
     "output_type": "display_data"
    },
    {
     "data": {
      "text/html": [
       "<a href='../data/Hillary/wavs/script_2/script_12_chunk_0-rate=24000.wav' target='_blank'>../data/Hillary/wavs/script_2/script_12_chunk_0-rate=24000.wav</a><br>"
      ],
      "text/plain": [
       "/Users/michaelp/Code/Tacotron-2/data/Hillary/wavs/script_2/script_12_chunk_0-rate=24000.wav"
      ]
     },
     "metadata": {},
     "output_type": "display_data"
    },
    {
     "data": {
      "text/html": [
       "\n",
       "                <audio controls=\"controls\" >\n",
       "                    <source />\n",
       "                    Your browser does not support the audio element.\n",
       "                </audio>\n",
       "              "
      ],
      "text/plain": [
       "<IPython.lib.display.Audio object>"
      ]
     },
     "metadata": {},
     "output_type": "display_data"
    },
    {
     "data": {
      "text/markdown": [
       "\n",
       "\n",
       " ___"
      ],
      "text/plain": [
       "<IPython.core.display.Markdown object>"
      ]
     },
     "metadata": {},
     "output_type": "display_data"
    },
    {
     "data": {
      "text/markdown": [
       "**Text:** \"Kiechel wrote in 2010: \"The experience curve was, simply, the most important concept in launching the strategy revolution...\""
      ],
      "text/plain": [
       "<IPython.core.display.Markdown object>"
      ]
     },
     "metadata": {},
     "output_type": "display_data"
    },
    {
     "data": {
      "text/html": [
       "<a href='../data/Hillary/wavs/script_18/script_44_chunk_13-rate=24000.wav' target='_blank'>../data/Hillary/wavs/script_18/script_44_chunk_13-rate=24000.wav</a><br>"
      ],
      "text/plain": [
       "/Users/michaelp/Code/Tacotron-2/data/Hillary/wavs/script_18/script_44_chunk_13-rate=24000.wav"
      ]
     },
     "metadata": {},
     "output_type": "display_data"
    },
    {
     "data": {
      "text/html": [
       "\n",
       "                <audio controls=\"controls\" >\n",
       "                    <source />\n",
       "                    Your browser does not support the audio element.\n",
       "                </audio>\n",
       "              "
      ],
      "text/plain": [
       "<IPython.lib.display.Audio object>"
      ]
     },
     "metadata": {},
     "output_type": "display_data"
    },
    {
     "data": {
      "text/markdown": [
       "\n",
       "\n",
       " ___"
      ],
      "text/plain": [
       "<IPython.core.display.Markdown object>"
      ]
     },
     "metadata": {},
     "output_type": "display_data"
    },
    {
     "data": {
      "text/markdown": [
       "**Text:** \"But this time it was Saxon who rebelled.\""
      ],
      "text/plain": [
       "<IPython.core.display.Markdown object>"
      ]
     },
     "metadata": {},
     "output_type": "display_data"
    },
    {
     "data": {
      "text/html": [
       "<a href='../data/Hillary/wavs/script_28/script_123_chunk_0-rate=24000.wav' target='_blank'>../data/Hillary/wavs/script_28/script_123_chunk_0-rate=24000.wav</a><br>"
      ],
      "text/plain": [
       "/Users/michaelp/Code/Tacotron-2/data/Hillary/wavs/script_28/script_123_chunk_0-rate=24000.wav"
      ]
     },
     "metadata": {},
     "output_type": "display_data"
    },
    {
     "data": {
      "text/html": [
       "\n",
       "                <audio controls=\"controls\" >\n",
       "                    <source />\n",
       "                    Your browser does not support the audio element.\n",
       "                </audio>\n",
       "              "
      ],
      "text/plain": [
       "<IPython.lib.display.Audio object>"
      ]
     },
     "metadata": {},
     "output_type": "display_data"
    },
    {
     "data": {
      "text/markdown": [
       "\n",
       "\n",
       " ___"
      ],
      "text/plain": [
       "<IPython.core.display.Markdown object>"
      ]
     },
     "metadata": {},
     "output_type": "display_data"
    },
    {
     "data": {
      "text/markdown": [
       "**Text:** \"Specimens to be stuffed and mounted for the American Museum of Natural History.\""
      ],
      "text/plain": [
       "<IPython.core.display.Markdown object>"
      ]
     },
     "metadata": {},
     "output_type": "display_data"
    },
    {
     "data": {
      "text/html": [
       "<a href='../data/Hillary/wavs/script_24/script_81_chunk_7-rate=24000.wav' target='_blank'>../data/Hillary/wavs/script_24/script_81_chunk_7-rate=24000.wav</a><br>"
      ],
      "text/plain": [
       "/Users/michaelp/Code/Tacotron-2/data/Hillary/wavs/script_24/script_81_chunk_7-rate=24000.wav"
      ]
     },
     "metadata": {},
     "output_type": "display_data"
    },
    {
     "data": {
      "text/html": [
       "\n",
       "                <audio controls=\"controls\" >\n",
       "                    <source />\n",
       "                    Your browser does not support the audio element.\n",
       "                </audio>\n",
       "              "
      ],
      "text/plain": [
       "<IPython.lib.display.Audio object>"
      ]
     },
     "metadata": {},
     "output_type": "display_data"
    },
    {
     "data": {
      "text/markdown": [
       "\n",
       "\n",
       " ___"
      ],
      "text/plain": [
       "<IPython.core.display.Markdown object>"
      ]
     },
     "metadata": {},
     "output_type": "display_data"
    },
    {
     "data": {
      "text/markdown": [
       "**Text:** \"that in the long term, the majority of workers must support management.\""
      ],
      "text/plain": [
       "<IPython.core.display.Markdown object>"
      ]
     },
     "metadata": {},
     "output_type": "display_data"
    },
    {
     "data": {
      "text/html": [
       "<a href='../data/Hillary/wavs/script_15/script_67_chunk_14-rate=24000.wav' target='_blank'>../data/Hillary/wavs/script_15/script_67_chunk_14-rate=24000.wav</a><br>"
      ],
      "text/plain": [
       "/Users/michaelp/Code/Tacotron-2/data/Hillary/wavs/script_15/script_67_chunk_14-rate=24000.wav"
      ]
     },
     "metadata": {},
     "output_type": "display_data"
    },
    {
     "data": {
      "text/html": [
       "\n",
       "                <audio controls=\"controls\" >\n",
       "                    <source />\n",
       "                    Your browser does not support the audio element.\n",
       "                </audio>\n",
       "              "
      ],
      "text/plain": [
       "<IPython.lib.display.Audio object>"
      ]
     },
     "metadata": {},
     "output_type": "display_data"
    },
    {
     "data": {
      "text/markdown": [
       "\n",
       "\n",
       " ___"
      ],
      "text/plain": [
       "<IPython.core.display.Markdown object>"
      ]
     },
     "metadata": {},
     "output_type": "display_data"
    },
    {
     "data": {
      "text/markdown": [
       "**Text:** \"Mr. Lambert's dream was to build a home reminiscent of the castles in Great Britain\""
      ],
      "text/plain": [
       "<IPython.core.display.Markdown object>"
      ]
     },
     "metadata": {},
     "output_type": "display_data"
    },
    {
     "data": {
      "text/html": [
       "<a href='../data/Hillary/wavs/script_26/script_8_chunk_4-rate=24000.wav' target='_blank'>../data/Hillary/wavs/script_26/script_8_chunk_4-rate=24000.wav</a><br>"
      ],
      "text/plain": [
       "/Users/michaelp/Code/Tacotron-2/data/Hillary/wavs/script_26/script_8_chunk_4-rate=24000.wav"
      ]
     },
     "metadata": {},
     "output_type": "display_data"
    },
    {
     "data": {
      "text/html": [
       "\n",
       "                <audio controls=\"controls\" >\n",
       "                    <source />\n",
       "                    Your browser does not support the audio element.\n",
       "                </audio>\n",
       "              "
      ],
      "text/plain": [
       "<IPython.lib.display.Audio object>"
      ]
     },
     "metadata": {},
     "output_type": "display_data"
    },
    {
     "data": {
      "text/markdown": [
       "\n",
       "\n",
       " ___"
      ],
      "text/plain": [
       "<IPython.core.display.Markdown object>"
      ]
     },
     "metadata": {},
     "output_type": "display_data"
    },
    {
     "data": {
      "text/markdown": [
       "**Text:** \"Philip saw MacDougall soon after his short talk with Thorpe.\""
      ],
      "text/plain": [
       "<IPython.core.display.Markdown object>"
      ]
     },
     "metadata": {},
     "output_type": "display_data"
    },
    {
     "data": {
      "text/html": [
       "<a href='../data/Hillary/wavs/script_25/script_26_chunk_0-rate=24000.wav' target='_blank'>../data/Hillary/wavs/script_25/script_26_chunk_0-rate=24000.wav</a><br>"
      ],
      "text/plain": [
       "/Users/michaelp/Code/Tacotron-2/data/Hillary/wavs/script_25/script_26_chunk_0-rate=24000.wav"
      ]
     },
     "metadata": {},
     "output_type": "display_data"
    },
    {
     "data": {
      "text/html": [
       "\n",
       "                <audio controls=\"controls\" >\n",
       "                    <source />\n",
       "                    Your browser does not support the audio element.\n",
       "                </audio>\n",
       "              "
      ],
      "text/plain": [
       "<IPython.lib.display.Audio object>"
      ]
     },
     "metadata": {},
     "output_type": "display_data"
    },
    {
     "data": {
      "text/markdown": [
       "\n",
       "\n",
       " ___"
      ],
      "text/plain": [
       "<IPython.core.display.Markdown object>"
      ]
     },
     "metadata": {},
     "output_type": "display_data"
    },
    {
     "data": {
      "text/markdown": [
       "**Text:** \"EI.\""
      ],
      "text/plain": [
       "<IPython.core.display.Markdown object>"
      ]
     },
     "metadata": {},
     "output_type": "display_data"
    },
    {
     "data": {
      "text/html": [
       "<a href='../data/Hillary/wavs/script_18/script_88_chunk_11-rate=24000.wav' target='_blank'>../data/Hillary/wavs/script_18/script_88_chunk_11-rate=24000.wav</a><br>"
      ],
      "text/plain": [
       "/Users/michaelp/Code/Tacotron-2/data/Hillary/wavs/script_18/script_88_chunk_11-rate=24000.wav"
      ]
     },
     "metadata": {},
     "output_type": "display_data"
    },
    {
     "data": {
      "text/html": [
       "\n",
       "                <audio controls=\"controls\" >\n",
       "                    <source />\n",
       "                    Your browser does not support the audio element.\n",
       "                </audio>\n",
       "              "
      ],
      "text/plain": [
       "<IPython.lib.display.Audio object>"
      ]
     },
     "metadata": {},
     "output_type": "display_data"
    },
    {
     "data": {
      "text/markdown": [
       "\n",
       "\n",
       " ___"
      ],
      "text/plain": [
       "<IPython.core.display.Markdown object>"
      ]
     },
     "metadata": {},
     "output_type": "display_data"
    },
    {
     "data": {
      "text/markdown": [
       "**Text:** \"Yet studies show that the energy efficiency of buildings could double by 2020,\""
      ],
      "text/plain": [
       "<IPython.core.display.Markdown object>"
      ]
     },
     "metadata": {},
     "output_type": "display_data"
    },
    {
     "data": {
      "text/html": [
       "<a href='../data/Hillary/wavs/script_20/script_36_chunk_6-rate=24000.wav' target='_blank'>../data/Hillary/wavs/script_20/script_36_chunk_6-rate=24000.wav</a><br>"
      ],
      "text/plain": [
       "/Users/michaelp/Code/Tacotron-2/data/Hillary/wavs/script_20/script_36_chunk_6-rate=24000.wav"
      ]
     },
     "metadata": {},
     "output_type": "display_data"
    },
    {
     "data": {
      "text/html": [
       "\n",
       "                <audio controls=\"controls\" >\n",
       "                    <source />\n",
       "                    Your browser does not support the audio element.\n",
       "                </audio>\n",
       "              "
      ],
      "text/plain": [
       "<IPython.lib.display.Audio object>"
      ]
     },
     "metadata": {},
     "output_type": "display_data"
    },
    {
     "data": {
      "text/markdown": [
       "\n",
       "\n",
       " ___"
      ],
      "text/plain": [
       "<IPython.core.display.Markdown object>"
      ]
     },
     "metadata": {},
     "output_type": "display_data"
    },
    {
     "data": {
      "text/markdown": [
       "**Text:** \"Pros love Lipmix because it gives us the freedom to customize colour and texture.\""
      ],
      "text/plain": [
       "<IPython.core.display.Markdown object>"
      ]
     },
     "metadata": {},
     "output_type": "display_data"
    },
    {
     "data": {
      "text/html": [
       "<a href='../data/Hillary/wavs/script_16/script_86_chunk_0-rate=24000.wav' target='_blank'>../data/Hillary/wavs/script_16/script_86_chunk_0-rate=24000.wav</a><br>"
      ],
      "text/plain": [
       "/Users/michaelp/Code/Tacotron-2/data/Hillary/wavs/script_16/script_86_chunk_0-rate=24000.wav"
      ]
     },
     "metadata": {},
     "output_type": "display_data"
    },
    {
     "data": {
      "text/html": [
       "\n",
       "                <audio controls=\"controls\" >\n",
       "                    <source />\n",
       "                    Your browser does not support the audio element.\n",
       "                </audio>\n",
       "              "
      ],
      "text/plain": [
       "<IPython.lib.display.Audio object>"
      ]
     },
     "metadata": {},
     "output_type": "display_data"
    },
    {
     "data": {
      "text/markdown": [
       "\n",
       "\n",
       " ___"
      ],
      "text/plain": [
       "<IPython.core.display.Markdown object>"
      ]
     },
     "metadata": {},
     "output_type": "display_data"
    },
    {
     "data": {
      "text/markdown": [
       "**Text:** \"And here is the script:\""
      ],
      "text/plain": [
       "<IPython.core.display.Markdown object>"
      ]
     },
     "metadata": {},
     "output_type": "display_data"
    },
    {
     "data": {
      "text/html": [
       "<a href='../data/Hillary/wavs/script_14/script_7_chunk_4-rate=24000.wav' target='_blank'>../data/Hillary/wavs/script_14/script_7_chunk_4-rate=24000.wav</a><br>"
      ],
      "text/plain": [
       "/Users/michaelp/Code/Tacotron-2/data/Hillary/wavs/script_14/script_7_chunk_4-rate=24000.wav"
      ]
     },
     "metadata": {},
     "output_type": "display_data"
    },
    {
     "data": {
      "text/html": [
       "\n",
       "                <audio controls=\"controls\" >\n",
       "                    <source />\n",
       "                    Your browser does not support the audio element.\n",
       "                </audio>\n",
       "              "
      ],
      "text/plain": [
       "<IPython.lib.display.Audio object>"
      ]
     },
     "metadata": {},
     "output_type": "display_data"
    },
    {
     "data": {
      "text/markdown": [
       "\n",
       "\n",
       " ___"
      ],
      "text/plain": [
       "<IPython.core.display.Markdown object>"
      ]
     },
     "metadata": {},
     "output_type": "display_data"
    },
    {
     "data": {
      "text/markdown": [
       "**Text:** \"Self-regulation – involves controlling or redirecting one's disruptive emotions and impulses\""
      ],
      "text/plain": [
       "<IPython.core.display.Markdown object>"
      ]
     },
     "metadata": {},
     "output_type": "display_data"
    },
    {
     "data": {
      "text/html": [
       "<a href='../data/Hillary/wavs/script_18/script_88_chunk_5-rate=24000.wav' target='_blank'>../data/Hillary/wavs/script_18/script_88_chunk_5-rate=24000.wav</a><br>"
      ],
      "text/plain": [
       "/Users/michaelp/Code/Tacotron-2/data/Hillary/wavs/script_18/script_88_chunk_5-rate=24000.wav"
      ]
     },
     "metadata": {},
     "output_type": "display_data"
    },
    {
     "data": {
      "text/html": [
       "\n",
       "                <audio controls=\"controls\" >\n",
       "                    <source />\n",
       "                    Your browser does not support the audio element.\n",
       "                </audio>\n",
       "              "
      ],
      "text/plain": [
       "<IPython.lib.display.Audio object>"
      ]
     },
     "metadata": {},
     "output_type": "display_data"
    },
    {
     "data": {
      "text/markdown": [
       "\n",
       "\n",
       " ___"
      ],
      "text/plain": [
       "<IPython.core.display.Markdown object>"
      ]
     },
     "metadata": {},
     "output_type": "display_data"
    },
    {
     "data": {
      "text/markdown": [
       "**Text:** \"Clubs and balls and cities grew to be only memories.\""
      ],
      "text/plain": [
       "<IPython.core.display.Markdown object>"
      ]
     },
     "metadata": {},
     "output_type": "display_data"
    },
    {
     "data": {
      "text/html": [
       "<a href='../data/Hillary/wavs/script_1/script_16_chunk_0-rate=24000.wav' target='_blank'>../data/Hillary/wavs/script_1/script_16_chunk_0-rate=24000.wav</a><br>"
      ],
      "text/plain": [
       "/Users/michaelp/Code/Tacotron-2/data/Hillary/wavs/script_1/script_16_chunk_0-rate=24000.wav"
      ]
     },
     "metadata": {},
     "output_type": "display_data"
    },
    {
     "data": {
      "text/html": [
       "\n",
       "                <audio controls=\"controls\" >\n",
       "                    <source />\n",
       "                    Your browser does not support the audio element.\n",
       "                </audio>\n",
       "              "
      ],
      "text/plain": [
       "<IPython.lib.display.Audio object>"
      ]
     },
     "metadata": {},
     "output_type": "display_data"
    },
    {
     "data": {
      "text/markdown": [
       "\n",
       "\n",
       " ___"
      ],
      "text/plain": [
       "<IPython.core.display.Markdown object>"
      ]
     },
     "metadata": {},
     "output_type": "display_data"
    },
    {
     "data": {
      "text/markdown": [
       "**Text:** \"and knowledge economy-related sectors – especially information technology software and advertising.\""
      ],
      "text/plain": [
       "<IPython.core.display.Markdown object>"
      ]
     },
     "metadata": {},
     "output_type": "display_data"
    },
    {
     "data": {
      "text/html": [
       "<a href='../data/Hillary/wavs/script_25/script_17_chunk_8-rate=24000.wav' target='_blank'>../data/Hillary/wavs/script_25/script_17_chunk_8-rate=24000.wav</a><br>"
      ],
      "text/plain": [
       "/Users/michaelp/Code/Tacotron-2/data/Hillary/wavs/script_25/script_17_chunk_8-rate=24000.wav"
      ]
     },
     "metadata": {},
     "output_type": "display_data"
    },
    {
     "data": {
      "text/html": [
       "\n",
       "                <audio controls=\"controls\" >\n",
       "                    <source />\n",
       "                    Your browser does not support the audio element.\n",
       "                </audio>\n",
       "              "
      ],
      "text/plain": [
       "<IPython.lib.display.Audio object>"
      ]
     },
     "metadata": {},
     "output_type": "display_data"
    },
    {
     "data": {
      "text/markdown": [
       "\n",
       "\n",
       " ___"
      ],
      "text/plain": [
       "<IPython.core.display.Markdown object>"
      ]
     },
     "metadata": {},
     "output_type": "display_data"
    },
    {
     "data": {
      "text/markdown": [
       "**Text:** \"Branches of management theory also exist relating to nonprofits and to government:\""
      ],
      "text/plain": [
       "<IPython.core.display.Markdown object>"
      ]
     },
     "metadata": {},
     "output_type": "display_data"
    },
    {
     "data": {
      "text/html": [
       "<a href='../data/Hillary/wavs/script_15/script_67_chunk_4-rate=24000.wav' target='_blank'>../data/Hillary/wavs/script_15/script_67_chunk_4-rate=24000.wav</a><br>"
      ],
      "text/plain": [
       "/Users/michaelp/Code/Tacotron-2/data/Hillary/wavs/script_15/script_67_chunk_4-rate=24000.wav"
      ]
     },
     "metadata": {},
     "output_type": "display_data"
    },
    {
     "data": {
      "text/html": [
       "\n",
       "                <audio controls=\"controls\" >\n",
       "                    <source />\n",
       "                    Your browser does not support the audio element.\n",
       "                </audio>\n",
       "              "
      ],
      "text/plain": [
       "<IPython.lib.display.Audio object>"
      ]
     },
     "metadata": {},
     "output_type": "display_data"
    },
    {
     "data": {
      "text/markdown": [
       "\n",
       "\n",
       " ___"
      ],
      "text/plain": [
       "<IPython.core.display.Markdown object>"
      ]
     },
     "metadata": {},
     "output_type": "display_data"
    },
    {
     "data": {
      "text/markdown": [
       "**Text:** \"focus effort, define or clarify the organization, and provide consistency or guidance in response to the environment,\""
      ],
      "text/plain": [
       "<IPython.core.display.Markdown object>"
      ]
     },
     "metadata": {},
     "output_type": "display_data"
    },
    {
     "data": {
      "text/html": [
       "<a href='../data/Hillary/wavs/script_19/script_7_chunk_1-rate=24000.wav' target='_blank'>../data/Hillary/wavs/script_19/script_7_chunk_1-rate=24000.wav</a><br>"
      ],
      "text/plain": [
       "/Users/michaelp/Code/Tacotron-2/data/Hillary/wavs/script_19/script_7_chunk_1-rate=24000.wav"
      ]
     },
     "metadata": {},
     "output_type": "display_data"
    },
    {
     "data": {
      "text/html": [
       "\n",
       "                <audio controls=\"controls\" >\n",
       "                    <source />\n",
       "                    Your browser does not support the audio element.\n",
       "                </audio>\n",
       "              "
      ],
      "text/plain": [
       "<IPython.lib.display.Audio object>"
      ]
     },
     "metadata": {},
     "output_type": "display_data"
    },
    {
     "data": {
      "text/markdown": [
       "\n",
       "\n",
       " ___"
      ],
      "text/plain": [
       "<IPython.core.display.Markdown object>"
      ]
     },
     "metadata": {},
     "output_type": "display_data"
    },
    {
     "data": {
      "text/markdown": [
       "**Text:** \"are concerns that the empathizer's own emotional background\""
      ],
      "text/plain": [
       "<IPython.core.display.Markdown object>"
      ]
     },
     "metadata": {},
     "output_type": "display_data"
    },
    {
     "data": {
      "text/html": [
       "<a href='../data/Hillary/wavs/script_25/script_7_chunk_1-rate=24000.wav' target='_blank'>../data/Hillary/wavs/script_25/script_7_chunk_1-rate=24000.wav</a><br>"
      ],
      "text/plain": [
       "/Users/michaelp/Code/Tacotron-2/data/Hillary/wavs/script_25/script_7_chunk_1-rate=24000.wav"
      ]
     },
     "metadata": {},
     "output_type": "display_data"
    },
    {
     "data": {
      "text/html": [
       "\n",
       "                <audio controls=\"controls\" >\n",
       "                    <source />\n",
       "                    Your browser does not support the audio element.\n",
       "                </audio>\n",
       "              "
      ],
      "text/plain": [
       "<IPython.lib.display.Audio object>"
      ]
     },
     "metadata": {},
     "output_type": "display_data"
    },
    {
     "data": {
      "text/markdown": [
       "\n",
       "\n",
       " ___"
      ],
      "text/plain": [
       "<IPython.core.display.Markdown object>"
      ]
     },
     "metadata": {},
     "output_type": "display_data"
    },
    {
     "data": {
      "text/markdown": [
       "**Text:** \"In the ‘second wave’ of critical thinking,\""
      ],
      "text/plain": [
       "<IPython.core.display.Markdown object>"
      ]
     },
     "metadata": {},
     "output_type": "display_data"
    },
    {
     "data": {
      "text/html": [
       "<a href='../data/Hillary/wavs/script_2/script_3_chunk_13-rate=24000.wav' target='_blank'>../data/Hillary/wavs/script_2/script_3_chunk_13-rate=24000.wav</a><br>"
      ],
      "text/plain": [
       "/Users/michaelp/Code/Tacotron-2/data/Hillary/wavs/script_2/script_3_chunk_13-rate=24000.wav"
      ]
     },
     "metadata": {},
     "output_type": "display_data"
    },
    {
     "data": {
      "text/html": [
       "\n",
       "                <audio controls=\"controls\" >\n",
       "                    <source />\n",
       "                    Your browser does not support the audio element.\n",
       "                </audio>\n",
       "              "
      ],
      "text/plain": [
       "<IPython.lib.display.Audio object>"
      ]
     },
     "metadata": {},
     "output_type": "display_data"
    },
    {
     "data": {
      "text/markdown": [
       "\n",
       "\n",
       " ___"
      ],
      "text/plain": [
       "<IPython.core.display.Markdown object>"
      ]
     },
     "metadata": {},
     "output_type": "display_data"
    },
    {
     "data": {
      "text/markdown": [
       "**Text:** \"An eye-popping, innovative new book series that brings you up close and personal\n",
       " with everything under the sun… and beyond the stars\""
      ],
      "text/plain": [
       "<IPython.core.display.Markdown object>"
      ]
     },
     "metadata": {},
     "output_type": "display_data"
    },
    {
     "data": {
      "text/html": [
       "<a href='../data/Hillary/wavs/script_14/script_7_chunk_8-rate=24000.wav' target='_blank'>../data/Hillary/wavs/script_14/script_7_chunk_8-rate=24000.wav</a><br>"
      ],
      "text/plain": [
       "/Users/michaelp/Code/Tacotron-2/data/Hillary/wavs/script_14/script_7_chunk_8-rate=24000.wav"
      ]
     },
     "metadata": {},
     "output_type": "display_data"
    },
    {
     "data": {
      "text/html": [
       "\n",
       "                <audio controls=\"controls\" >\n",
       "                    <source />\n",
       "                    Your browser does not support the audio element.\n",
       "                </audio>\n",
       "              "
      ],
      "text/plain": [
       "<IPython.lib.display.Audio object>"
      ]
     },
     "metadata": {},
     "output_type": "display_data"
    },
    {
     "data": {
      "text/markdown": [
       "\n",
       "\n",
       " ___"
      ],
      "text/plain": [
       "<IPython.core.display.Markdown object>"
      ]
     },
     "metadata": {},
     "output_type": "display_data"
    },
    {
     "data": {
      "text/markdown": [
       "**Text:** \"J. Duncan wrote the first college management-textbook in 1911.\""
      ],
      "text/plain": [
       "<IPython.core.display.Markdown object>"
      ]
     },
     "metadata": {},
     "output_type": "display_data"
    },
    {
     "data": {
      "text/html": [
       "<a href='../data/Hillary/wavs/script_24/script_90_chunk_6-rate=24000.wav' target='_blank'>../data/Hillary/wavs/script_24/script_90_chunk_6-rate=24000.wav</a><br>"
      ],
      "text/plain": [
       "/Users/michaelp/Code/Tacotron-2/data/Hillary/wavs/script_24/script_90_chunk_6-rate=24000.wav"
      ]
     },
     "metadata": {},
     "output_type": "display_data"
    },
    {
     "data": {
      "text/html": [
       "\n",
       "                <audio controls=\"controls\" >\n",
       "                    <source />\n",
       "                    Your browser does not support the audio element.\n",
       "                </audio>\n",
       "              "
      ],
      "text/plain": [
       "<IPython.lib.display.Audio object>"
      ]
     },
     "metadata": {},
     "output_type": "display_data"
    },
    {
     "data": {
      "text/markdown": [
       "\n",
       "\n",
       " ___"
      ],
      "text/plain": [
       "<IPython.core.display.Markdown object>"
      ]
     },
     "metadata": {},
     "output_type": "display_data"
    },
    {
     "data": {
      "text/markdown": [
       "**Text:** \"It is also negatively correlated with poor health choices and behavior.\""
      ],
      "text/plain": [
       "<IPython.core.display.Markdown object>"
      ]
     },
     "metadata": {},
     "output_type": "display_data"
    },
    {
     "data": {
      "text/html": [
       "<a href='../data/Hillary/wavs/script_12/script_7_chunk_21-rate=24000.wav' target='_blank'>../data/Hillary/wavs/script_12/script_7_chunk_21-rate=24000.wav</a><br>"
      ],
      "text/plain": [
       "/Users/michaelp/Code/Tacotron-2/data/Hillary/wavs/script_12/script_7_chunk_21-rate=24000.wav"
      ]
     },
     "metadata": {},
     "output_type": "display_data"
    },
    {
     "data": {
      "text/html": [
       "\n",
       "                <audio controls=\"controls\" >\n",
       "                    <source />\n",
       "                    Your browser does not support the audio element.\n",
       "                </audio>\n",
       "              "
      ],
      "text/plain": [
       "<IPython.lib.display.Audio object>"
      ]
     },
     "metadata": {},
     "output_type": "display_data"
    },
    {
     "data": {
      "text/markdown": [
       "\n",
       "\n",
       " ___"
      ],
      "text/plain": [
       "<IPython.core.display.Markdown object>"
      ]
     },
     "metadata": {},
     "output_type": "display_data"
    },
    {
     "data": {
      "text/markdown": [
       "**Text:** \"the understanding of the animal world in general, is a rapidly growing field, and even in the 21st\""
      ],
      "text/plain": [
       "<IPython.core.display.Markdown object>"
      ]
     },
     "metadata": {},
     "output_type": "display_data"
    },
    {
     "data": {
      "text/html": [
       "<a href='../data/Hillary/wavs/script_18/script_94_chunk_6-rate=24000.wav' target='_blank'>../data/Hillary/wavs/script_18/script_94_chunk_6-rate=24000.wav</a><br>"
      ],
      "text/plain": [
       "/Users/michaelp/Code/Tacotron-2/data/Hillary/wavs/script_18/script_94_chunk_6-rate=24000.wav"
      ]
     },
     "metadata": {},
     "output_type": "display_data"
    },
    {
     "data": {
      "text/html": [
       "\n",
       "                <audio controls=\"controls\" >\n",
       "                    <source />\n",
       "                    Your browser does not support the audio element.\n",
       "                </audio>\n",
       "              "
      ],
      "text/plain": [
       "<IPython.lib.display.Audio object>"
      ]
     },
     "metadata": {},
     "output_type": "display_data"
    },
    {
     "data": {
      "text/markdown": [
       "\n",
       "\n",
       " ___"
      ],
      "text/plain": [
       "<IPython.core.display.Markdown object>"
      ]
     },
     "metadata": {},
     "output_type": "display_data"
    },
    {
     "data": {
      "text/markdown": [
       "**Text:** \"Other online seal programs include the Trust Guard Privacy Verified program, eTrust,\""
      ],
      "text/plain": [
       "<IPython.core.display.Markdown object>"
      ]
     },
     "metadata": {},
     "output_type": "display_data"
    },
    {
     "data": {
      "text/html": [
       "<a href='../data/Hillary/wavs/script_28/script_91_chunk_6-rate=24000.wav' target='_blank'>../data/Hillary/wavs/script_28/script_91_chunk_6-rate=24000.wav</a><br>"
      ],
      "text/plain": [
       "/Users/michaelp/Code/Tacotron-2/data/Hillary/wavs/script_28/script_91_chunk_6-rate=24000.wav"
      ]
     },
     "metadata": {},
     "output_type": "display_data"
    },
    {
     "data": {
      "text/html": [
       "\n",
       "                <audio controls=\"controls\" >\n",
       "                    <source />\n",
       "                    Your browser does not support the audio element.\n",
       "                </audio>\n",
       "              "
      ],
      "text/plain": [
       "<IPython.lib.display.Audio object>"
      ]
     },
     "metadata": {},
     "output_type": "display_data"
    },
    {
     "data": {
      "text/markdown": [
       "\n",
       "\n",
       " ___"
      ],
      "text/plain": [
       "<IPython.core.display.Markdown object>"
      ]
     },
     "metadata": {},
     "output_type": "display_data"
    },
    {
     "data": {
      "text/markdown": [
       "**Text:** \"Firms engaging in international business\""
      ],
      "text/plain": [
       "<IPython.core.display.Markdown object>"
      ]
     },
     "metadata": {},
     "output_type": "display_data"
    },
    {
     "data": {
      "text/html": [
       "<a href='../data/Hillary/wavs/script_25/script_55_chunk_8-rate=24000.wav' target='_blank'>../data/Hillary/wavs/script_25/script_55_chunk_8-rate=24000.wav</a><br>"
      ],
      "text/plain": [
       "/Users/michaelp/Code/Tacotron-2/data/Hillary/wavs/script_25/script_55_chunk_8-rate=24000.wav"
      ]
     },
     "metadata": {},
     "output_type": "display_data"
    },
    {
     "data": {
      "text/html": [
       "\n",
       "                <audio controls=\"controls\" >\n",
       "                    <source />\n",
       "                    Your browser does not support the audio element.\n",
       "                </audio>\n",
       "              "
      ],
      "text/plain": [
       "<IPython.lib.display.Audio object>"
      ]
     },
     "metadata": {},
     "output_type": "display_data"
    },
    {
     "data": {
      "text/markdown": [
       "\n",
       "\n",
       " ___"
      ],
      "text/plain": [
       "<IPython.core.display.Markdown object>"
      ]
     },
     "metadata": {},
     "output_type": "display_data"
    },
    {
     "data": {
      "text/markdown": [
       "**Text:** \"for a good-faith report of a whistleblowing action\""
      ],
      "text/plain": [
       "<IPython.core.display.Markdown object>"
      ]
     },
     "metadata": {},
     "output_type": "display_data"
    },
    {
     "data": {
      "text/html": [
       "<a href='../data/Hillary/wavs/script_13/script_11_chunk_16-rate=24000.wav' target='_blank'>../data/Hillary/wavs/script_13/script_11_chunk_16-rate=24000.wav</a><br>"
      ],
      "text/plain": [
       "/Users/michaelp/Code/Tacotron-2/data/Hillary/wavs/script_13/script_11_chunk_16-rate=24000.wav"
      ]
     },
     "metadata": {},
     "output_type": "display_data"
    },
    {
     "data": {
      "text/html": [
       "\n",
       "                <audio controls=\"controls\" >\n",
       "                    <source />\n",
       "                    Your browser does not support the audio element.\n",
       "                </audio>\n",
       "              "
      ],
      "text/plain": [
       "<IPython.lib.display.Audio object>"
      ]
     },
     "metadata": {},
     "output_type": "display_data"
    },
    {
     "data": {
      "text/markdown": [
       "\n",
       "\n",
       " ___"
      ],
      "text/plain": [
       "<IPython.core.display.Markdown object>"
      ]
     },
     "metadata": {},
     "output_type": "display_data"
    },
    {
     "data": {
      "text/markdown": [
       "**Text:** \"preferably far away from noisy computers and other electrical equipment.  You will be surprised how much microphones can pick up.\""
      ],
      "text/plain": [
       "<IPython.core.display.Markdown object>"
      ]
     },
     "metadata": {},
     "output_type": "display_data"
    },
    {
     "data": {
      "text/html": [
       "<a href='../data/Hillary/wavs/script_16/script_0_chunk_11-rate=24000.wav' target='_blank'>../data/Hillary/wavs/script_16/script_0_chunk_11-rate=24000.wav</a><br>"
      ],
      "text/plain": [
       "/Users/michaelp/Code/Tacotron-2/data/Hillary/wavs/script_16/script_0_chunk_11-rate=24000.wav"
      ]
     },
     "metadata": {},
     "output_type": "display_data"
    },
    {
     "data": {
      "text/html": [
       "\n",
       "                <audio controls=\"controls\" >\n",
       "                    <source />\n",
       "                    Your browser does not support the audio element.\n",
       "                </audio>\n",
       "              "
      ],
      "text/plain": [
       "<IPython.lib.display.Audio object>"
      ]
     },
     "metadata": {},
     "output_type": "display_data"
    },
    {
     "data": {
      "text/markdown": [
       "\n",
       "\n",
       " ___"
      ],
      "text/plain": [
       "<IPython.core.display.Markdown object>"
      ]
     },
     "metadata": {},
     "output_type": "display_data"
    },
    {
     "data": {
      "text/markdown": [
       "**Text:** \"from the motions of the stars to the behavior of nuclear particles;\""
      ],
      "text/plain": [
       "<IPython.core.display.Markdown object>"
      ]
     },
     "metadata": {},
     "output_type": "display_data"
    },
    {
     "data": {
      "text/html": [
       "<a href='../data/Hillary/wavs/script_7/script_10_chunk_1-rate=24000.wav' target='_blank'>../data/Hillary/wavs/script_7/script_10_chunk_1-rate=24000.wav</a><br>"
      ],
      "text/plain": [
       "/Users/michaelp/Code/Tacotron-2/data/Hillary/wavs/script_7/script_10_chunk_1-rate=24000.wav"
      ]
     },
     "metadata": {},
     "output_type": "display_data"
    },
    {
     "data": {
      "text/html": [
       "\n",
       "                <audio controls=\"controls\" >\n",
       "                    <source />\n",
       "                    Your browser does not support the audio element.\n",
       "                </audio>\n",
       "              "
      ],
      "text/plain": [
       "<IPython.lib.display.Audio object>"
      ]
     },
     "metadata": {},
     "output_type": "display_data"
    },
    {
     "data": {
      "text/markdown": [
       "\n",
       "\n",
       " ___"
      ],
      "text/plain": [
       "<IPython.core.display.Markdown object>"
      ]
     },
     "metadata": {},
     "output_type": "display_data"
    },
    {
     "data": {
      "text/markdown": [
       "**Text:** \"It was my reports from the north which chiefly induced people to buy.\""
      ],
      "text/plain": [
       "<IPython.core.display.Markdown object>"
      ]
     },
     "metadata": {},
     "output_type": "display_data"
    },
    {
     "data": {
      "text/html": [
       "<a href='../data/Hillary/wavs/script_2/script_8_chunk_0-rate=24000.wav' target='_blank'>../data/Hillary/wavs/script_2/script_8_chunk_0-rate=24000.wav</a><br>"
      ],
      "text/plain": [
       "/Users/michaelp/Code/Tacotron-2/data/Hillary/wavs/script_2/script_8_chunk_0-rate=24000.wav"
      ]
     },
     "metadata": {},
     "output_type": "display_data"
    },
    {
     "data": {
      "text/html": [
       "\n",
       "                <audio controls=\"controls\" >\n",
       "                    <source />\n",
       "                    Your browser does not support the audio element.\n",
       "                </audio>\n",
       "              "
      ],
      "text/plain": [
       "<IPython.lib.display.Audio object>"
      ]
     },
     "metadata": {},
     "output_type": "display_data"
    },
    {
     "data": {
      "text/markdown": [
       "\n",
       "\n",
       " ___"
      ],
      "text/plain": [
       "<IPython.core.display.Markdown object>"
      ]
     },
     "metadata": {},
     "output_type": "display_data"
    },
    {
     "data": {
      "text/markdown": [
       "**Text:** \"and the Dodd-Frank Wall Street Reform and Consumer Protection Act.\""
      ],
      "text/plain": [
       "<IPython.core.display.Markdown object>"
      ]
     },
     "metadata": {},
     "output_type": "display_data"
    },
    {
     "data": {
      "text/html": [
       "<a href='../data/Hillary/wavs/script_6/script_8_chunk_6-rate=24000.wav' target='_blank'>../data/Hillary/wavs/script_6/script_8_chunk_6-rate=24000.wav</a><br>"
      ],
      "text/plain": [
       "/Users/michaelp/Code/Tacotron-2/data/Hillary/wavs/script_6/script_8_chunk_6-rate=24000.wav"
      ]
     },
     "metadata": {},
     "output_type": "display_data"
    },
    {
     "data": {
      "text/html": [
       "\n",
       "                <audio controls=\"controls\" >\n",
       "                    <source />\n",
       "                    Your browser does not support the audio element.\n",
       "                </audio>\n",
       "              "
      ],
      "text/plain": [
       "<IPython.lib.display.Audio object>"
      ]
     },
     "metadata": {},
     "output_type": "display_data"
    },
    {
     "data": {
      "text/markdown": [
       "\n",
       "\n",
       " ___"
      ],
      "text/plain": [
       "<IPython.core.display.Markdown object>"
      ]
     },
     "metadata": {},
     "output_type": "display_data"
    }
   ],
   "source": [
    "find_examples(r'(?s).*', display_n=100, replace=False, group=0, load_audio=False)"
   ]
  }
 ],
 "metadata": {
  "kernelspec": {
   "display_name": "Python 3",
   "language": "python",
   "name": "python3"
  },
  "language_info": {
   "codemirror_mode": {
    "name": "ipython",
    "version": 3
   },
   "file_extension": ".py",
   "mimetype": "text/x-python",
   "name": "python",
   "nbconvert_exporter": "python",
   "pygments_lexer": "ipython3",
   "version": "3.6.5"
  }
 },
 "nbformat": 4,
 "nbformat_minor": 2
}
