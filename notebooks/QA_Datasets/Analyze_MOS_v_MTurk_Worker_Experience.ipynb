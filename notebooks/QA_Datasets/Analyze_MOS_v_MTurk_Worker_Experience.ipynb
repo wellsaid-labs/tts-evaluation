{
 "cells": [
  {
   "cell_type": "markdown",
   "metadata": {},
   "source": [
    "# Analyze MTurk Data: Establish Worker Requirements\n",
    "\n",
    "This notebook evaluates MTurk workers across MOS results to help you define how many HITs a worker should complete in order for their results to be considered valid. Usually the MOS results show a linear trend in score versus number of HITs completed; this implies that workers become much more critical over time. In order to normalize this trend, we want to ignore workers who have completed too few HITs. This notebook will help you set that limit."
   ]
  },
  {
   "cell_type": "code",
   "execution_count": null,
   "metadata": {},
   "outputs": [],
   "source": [
    "# NOTE: This CSV can be downloaded from MTurk after receiving results from a batch.\n",
    "PATH = '~/Downloads/Batch_XXXXXXX_batch_results.csv'"
   ]
  },
  {
   "cell_type": "code",
   "execution_count": null,
   "metadata": {},
   "outputs": [],
   "source": [
    "%matplotlib inline\n",
    "\n",
    "from IPython.display import display\n",
    "from IPython.display import Markdown\n",
    "\n",
    "import pandas\n",
    "\n",
    "data_frame = pandas.read_csv(PATH)"
   ]
  },
  {
   "cell_type": "markdown",
   "metadata": {},
   "source": [
    "## Compute and Analyze MOS Score"
   ]
  },
  {
   "cell_type": "code",
   "execution_count": null,
   "metadata": {},
   "outputs": [],
   "source": [
    "import math\n",
    "\n",
    "def label_to_score(label):\n",
    "    \"\"\" Get the MOS score from the MOS label.\n",
    "    \"\"\"\n",
    "    tokens = label.lower().split()\n",
    "    if 'excellent' in tokens:\n",
    "        return 5.0\n",
    "    elif 'good' in tokens:\n",
    "        return 4.0\n",
    "    elif 'fair' in tokens:\n",
    "        return 3.0\n",
    "    elif 'poor' in tokens:\n",
    "        return 2.0\n",
    "    elif 'bad' in tokens:\n",
    "        return 1.0\n",
    "    raise ValueError()\n",
    "\n",
    "data_frame['MOS'] = data_frame[['Answer.audio-naturalness.label']].apply(\n",
    "     lambda r: r[0] if isinstance(r[0], str) else r[1], axis=1)\n",
    "\n",
    "data_frame['MOS'] = data_frame['MOS'].apply(label_to_score)\n",
    "display(Markdown('#### Mean Opinion Score (MOS)'))\n",
    "data_frame['MOS'].describe()"
   ]
  },
  {
   "cell_type": "markdown",
   "metadata": {},
   "source": [
    "### Visualize Existing Trend in MOS v HIT Count\n",
    "\n",
    "Plot the data with a regex line and 95% confidence interval around the line to visualize the existing trend."
   ]
  },
  {
   "cell_type": "code",
   "execution_count": null,
   "metadata": {},
   "outputs": [],
   "source": [
    "# We will use seaborn for plotting. More info can be found here: https://seaborn.pydata.org/tutorial/regression.html\n",
    "import seaborn as sns\n",
    "\n",
    "display(Markdown('#### Worker MOS Score Distribution'))\n",
    "distr = data_frame.groupby('WorkerId')['MOS'].describe().sort_values(by=['count'])\n",
    "distr.plot.scatter(x='count', y='mean', figsize=(15,15))\n",
    "sns.regplot(x=\"count\", y=\"mean\", data=distr)"
   ]
  },
  {
   "cell_type": "markdown",
   "metadata": {},
   "source": [
    "Note the negative trend in data as users analyze more HITs.\n",
    "\n",
    "Let's normalize this by ignoring workers' responses if the worker has only seen N number of HITs. Play with N until you see the slope of the line go to 0."
   ]
  },
  {
   "cell_type": "code",
   "execution_count": null,
   "metadata": {},
   "outputs": [],
   "source": [
    "n = 10\n",
    "\n",
    "# Filter workers out that completed less than X HITs\n",
    "display(Markdown('#### Worker MOS Score Distribution (Filtered by count)'))\n",
    "filtered = data_frame.groupby('WorkerId').filter(lambda x: len(x)>n).groupby('WorkerId')['MOS'].describe().sort_values(by=['count'])\n",
    "\n",
    "filtered.plot.scatter(x='count', y='mean', figsize=(20,20))\n",
    "sns.regplot(x=\"count\", y=\"mean\", data=filtered)"
   ]
  },
  {
   "cell_type": "markdown",
   "metadata": {},
   "source": [
    "**NOTE:** *n=10 seems to overcompensate. Play with n until you see the slope of the regression line approach 0. This will be the limit to number of HITs you require from workers in order to keep and analyze their results.*"
   ]
  }
 ],
 "metadata": {
  "kernelspec": {
   "display_name": "Python 3",
   "language": "python",
   "name": "python3"
  },
  "language_info": {
   "codemirror_mode": {
    "name": "ipython",
    "version": 3
   },
   "file_extension": ".py",
   "mimetype": "text/x-python",
   "name": "python",
   "nbconvert_exporter": "python",
   "pygments_lexer": "ipython3",
   "version": "3.7.4"
  }
 },
 "nbformat": 4,
 "nbformat_minor": 2
}
