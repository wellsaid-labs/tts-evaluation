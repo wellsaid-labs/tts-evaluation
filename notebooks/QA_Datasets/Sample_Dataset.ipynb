{
 "cells": [
  {
   "cell_type": "markdown",
   "metadata": {},
   "source": [
    "# Sample Dataset\n",
    "\n",
    "This notebook allows for sampling a dataset through different lens."
   ]
  },
  {
   "cell_type": "code",
   "execution_count": null,
   "metadata": {},
   "outputs": [],
   "source": [
    "import re\n",
    "import sys\n",
    "\n",
    "# Setup the \"PYTHONPATH\"\n",
    "sys.path.insert(0, '../../')"
   ]
  },
  {
   "cell_type": "code",
   "execution_count": null,
   "metadata": {},
   "outputs": [],
   "source": [
    "from IPython.display import FileLink\n",
    "from IPython.display import Audio\n",
    "from IPython.display import Markdown\n",
    "\n",
    "def display_rows(example, **kwargs):\n",
    "    \"\"\" Display a `TextSpeechRow`. \"\"\"\n",
    "    for key, value in kwargs.items():\n",
    "        display(Markdown('**%s:** %s' % (key.replace('_', ' ').title(), value)))\n",
    "    display(Markdown('**Text:** \"' + example.text + '\"'))\n",
    "    display(FileLink(example.audio_path))\n",
    "    display(Audio(str(example.audio_path)))\n",
    "    display(Markdown('\\n\\n ___'))\n",
    "    display()"
   ]
  },
  {
   "cell_type": "code",
   "execution_count": null,
   "metadata": {},
   "outputs": [],
   "source": [
    "import itertools\n",
    "\n",
    "from src import datasets\n",
    "from src import hparams\n",
    "\n",
    "hparams.set_hparams()\n",
    "\n",
    "dataset = list(itertools.chain.from_iterable([\n",
    "    datasets.hilary_speech_dataset(),\n",
    "    datasets.beth_speech_dataset(),\n",
    "    datasets.heather_speech_dataset(),\n",
    "    datasets.susan_speech_dataset(),\n",
    "    datasets.sam_speech_dataset(),\n",
    "    datasets.frank_speech_dataset(),\n",
    "    datasets.adrienne_speech_dataset(),\n",
    "    datasets.alicia_speech_dataset(),\n",
    "    datasets.george_speech_dataset(),\n",
    "    datasets.megan_speech_dataset(),\n",
    "    datasets.elise_speech_dataset(),\n",
    "    datasets.hanuman_speech_dataset(),\n",
    "    datasets.jack_speech_dataset(),\n",
    "    datasets.mark_speech_dataset(),\n",
    "    datasets.steven_speech_dataset(),\n",
    "    datasets.lj_speech_dataset(),\n",
    "    datasets.m_ailabs_en_us_speech_dataset(),\n",
    "    datasets.beth_custom_speech_dataset(),\n",
    "]))\n",
    "\n",
    "dataset = datasets.filter_(hparams._filter_audio_path_not_found, dataset)\n",
    "dataset = datasets.filter_(hparams._filter_no_text, dataset)\n",
    "dataset = datasets.filter_(hparams._filter_elliot_miller, dataset)\n",
    "dataset = datasets.filter_(hparams._filter_no_numbers, dataset)\n",
    "dataset = datasets.filter_(hparams._filter_books, dataset)\n",
    "\n",
    "'Training rows: %s' % len(dataset)"
   ]
  },
  {
   "cell_type": "markdown",
   "metadata": {},
   "source": [
    "## Character Count"
   ]
  },
  {
   "cell_type": "code",
   "execution_count": null,
   "metadata": {},
   "outputs": [],
   "source": [
    "from collections import Counter\n",
    "\n",
    "characters = Counter()\n",
    "for row in dataset:\n",
    "    characters.update(list(row.text))\n",
    "for character, count in characters.most_common():\n",
    "    print('\"%s\" %s' % (character, count))"
   ]
  },
  {
   "cell_type": "markdown",
   "metadata": {},
   "source": [
    "## Sort By Text Length"
   ]
  },
  {
   "cell_type": "code",
   "execution_count": null,
   "metadata": {},
   "outputs": [],
   "source": [
    "from src.audio import get_num_seconds\n",
    "num_samples = 20\n",
    "samples = sorted(dataset, key=lambda e: len(e.text))[:num_samples]\n",
    "_ = [display_rows(r, audio_length=get_num_seconds(r.audio_path)) for r in samples]"
   ]
  },
  {
   "cell_type": "markdown",
   "metadata": {},
   "source": [
    "## Sort By Audio Length"
   ]
  },
  {
   "cell_type": "code",
   "execution_count": null,
   "metadata": {},
   "outputs": [],
   "source": [
    "from src.audio import get_num_seconds\n",
    "audio_lengths = [get_num_seconds(r.audio_path) for r in dataset]"
   ]
  },
  {
   "cell_type": "code",
   "execution_count": null,
   "metadata": {},
   "outputs": [],
   "source": [
    "num_samples = 20\n",
    "samples = sorted(zip(dataset, audio_lengths), key=lambda e: e[1])[:num_samples]\n",
    "_ = [display_rows(r, audio_length=l) for r, l in samples]"
   ]
  },
  {
   "cell_type": "markdown",
   "metadata": {},
   "source": [
    "## Sort by Seconds Per Character"
   ]
  },
  {
   "cell_type": "code",
   "execution_count": null,
   "metadata": {},
   "outputs": [],
   "source": [
    "num_samples = 20\n",
    "samples = sorted(zip(dataset, audio_lengths), key=lambda e: e[1] / len(e[0].text))[:num_samples]\n",
    "_ = [display_rows(r, audio_length=l, seconds_per_character=l / len(r.text)) for r, l in samples]"
   ]
  },
  {
   "cell_type": "markdown",
   "metadata": {},
   "source": [
    "## Sort by Seconds Per Phoneme"
   ]
  },
  {
   "cell_type": "code",
   "execution_count": null,
   "metadata": {},
   "outputs": [],
   "source": [
    "import os\n",
    "import spacy\n",
    "from tqdm import tqdm\n",
    "from multiprocessing.pool import ThreadPool\n",
    "from src.spectrogram_model.input_encoder import _grapheme_to_phoneme_perserve_punctuation\n",
    "\n",
    "nlp = spacy.load('en_core_web_sm', disable=['parser', 'ner'])\n",
    "\n",
    "def get_phones(text):\n",
    "    return _grapheme_to_phoneme_perserve_punctuation(text.strip(), separator='|').strip().split('|')\n",
    "\n",
    "with ThreadPool(os.cpu_count()) as pool:\n",
    "    graphemes = [r.text for r in dataset]\n",
    "    phones = list(tqdm(pool.imap(get_phones, graphemes, chunksize=128), total=len(graphemes)))"
   ]
  },
  {
   "cell_type": "code",
   "execution_count": null,
   "metadata": {},
   "outputs": [],
   "source": [
    "num_samples = 250\n",
    "samples = sorted(zip(dataset, audio_lengths, phones), key=lambda e: e[1] / len(e[2]), reverse=True)[:num_samples]\n",
    "_ = [display_rows(r, audio_length=l, seconds_per_character=l / len(p), phonemes=p) for r, l, p in samples]"
   ]
  },
  {
   "cell_type": "markdown",
   "metadata": {},
   "source": [
    "## Sort by Characters Per Phone"
   ]
  },
  {
   "cell_type": "code",
   "execution_count": null,
   "metadata": {},
   "outputs": [],
   "source": [
    "num_samples = 1000\n",
    "samples = sorted(zip(dataset, phones), key=lambda e: len(e[1]) / len(e[0].text))[:num_samples]\n",
    "_ = [display_rows(r, characters_per_phone=len(r.text) / len(p)) for r, p in samples]"
   ]
  },
  {
   "cell_type": "markdown",
   "metadata": {},
   "source": [
    "## Random Sample"
   ]
  },
  {
   "cell_type": "code",
   "execution_count": null,
   "metadata": {
    "scrolled": true
   },
   "outputs": [],
   "source": [
    "import random\n",
    "num_samples = 20\n",
    "samples = random.sample(dataset, num_samples)\n",
    "_ = [display_rows(r) for r in samples]"
   ]
  }
 ],
 "metadata": {
  "kernelspec": {
   "display_name": "Python 3",
   "language": "python",
   "name": "python3"
  },
  "language_info": {
   "codemirror_mode": {
    "name": "ipython",
    "version": 3
   },
   "file_extension": ".py",
   "mimetype": "text/x-python",
   "name": "python",
   "nbconvert_exporter": "python",
   "pygments_lexer": "ipython3",
   "version": "3.7.4"
  }
 },
 "nbformat": 4,
 "nbformat_minor": 2
}
