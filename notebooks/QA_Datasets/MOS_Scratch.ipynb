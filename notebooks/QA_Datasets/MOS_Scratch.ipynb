{
 "cells": [
  {
   "cell_type": "markdown",
   "metadata": {},
   "source": [
    "# Format Old MOS Results for Updated MOS Analysis"
   ]
  },
  {
   "cell_type": "code",
   "execution_count": null,
   "metadata": {},
   "outputs": [],
   "source": [
    "# NOTE: This CSV can be downloaded from MTurk after receiving results from a batch.\n",
    "PATH = '~/Desktop/Batch_3741977_batch_results_Standard_Clean.csv'"
   ]
  },
  {
   "cell_type": "code",
   "execution_count": null,
   "metadata": {},
   "outputs": [],
   "source": [
    "from IPython.display import display\n",
    "from IPython.display import Markdown\n",
    "\n",
    "import pandas\n",
    "\n",
    "data_frame = pandas.read_csv(PATH)\n",
    "data_frame['Input.text'] = data_frame['Input.transcript']\n",
    "data_frame['Input.audio_path'] = data_frame['Input.audio_url']\n",
    "\n",
    "data_frame = data_frame[data_frame['Input.process_id'].isin(['38361','2724'])]\n",
    "truth = data_frame.copy()[data_frame['Input.process_id'].isin(['38361'])]\n",
    "master = data_frame.copy()[data_frame['Input.process_id'].isin(['2724'])]\n",
    "\n",
    "truth['Input.name'] = 'ground-truth'\n",
    "master['Input.name'] = 'master'\n",
    "\n",
    "data_frame = truth.append(master)"
   ]
  },
  {
   "cell_type": "code",
   "execution_count": null,
   "metadata": {},
   "outputs": [],
   "source": [
    "import os\n",
    "\n",
    "def get_audio_length(audio_url, bits=32, sample_rate=24000):\n",
    "    path_to_audio = \"/Users/rhyan/Desktop/Standard/\"\n",
    "    file_name = audio_url[len(\"https://storage.googleapis.com/mturk-samples/2019-08-20/\"):]\n",
    "    bits_per_byte = 8\n",
    "    bytes_per_second = sample_rate * (bits / bits_per_byte)\n",
    "    audio_length = os.path.getsize(path_to_audio + file_name) / bytes_per_second\n",
    "    \n",
    "    return audio_length\n",
    "\n",
    "data_frame['Input.audio_length_in_seconds'] = data_frame['Input.audio_path'].apply(get_audio_length)"
   ]
  },
  {
   "cell_type": "code",
   "execution_count": null,
   "metadata": {},
   "outputs": [],
   "source": [
    "data_frame.to_csv(\"~/Desktop/Batch_3741977_batch_results_Standard_Formatted.csv\")"
   ]
  },
  {
   "cell_type": "markdown",
   "metadata": {},
   "source": [
    "# Compare Speakers in Two Models + Gauge Synthesis"
   ]
  },
  {
   "cell_type": "code",
   "execution_count": null,
   "metadata": {},
   "outputs": [],
   "source": [
    "from IPython.display import display\n",
    "from IPython.display import Markdown\n",
    "\n",
    "import pandas\n",
    "\n",
    "data_frame = pandas.read_csv('~/Desktop/Batch_3741977_batch_results_Standard_Formatted.csv')\n",
    "new_voices = pandas.read_csv('~/Downloads/Batch_3829940_batch_results_ALL.csv')"
   ]
  },
  {
   "cell_type": "code",
   "execution_count": null,
   "metadata": {},
   "outputs": [],
   "source": [
    "import random\n",
    "import numpy\n",
    "\n",
    "from IPython.display import Audio\n",
    "from IPython.display import Markdown\n",
    "\n",
    "from IPython.display import FileLink\n",
    "\n",
    "def audio_sample(data_frame, speaker, process, local_path=False, num_samples=15, sort_by='Input.name'):\n",
    "    \"\"\" Sample audio clips of a specific Speaker + Process Name from the data frame.\n",
    "    \"\"\"\n",
    "    if len(data_frame) == 0 or num_samples == 0:\n",
    "        return\n",
    "    sp = data_frame.copy()[data_frame['Input.name'].isin([process])]\n",
    "    sp = sp[sp['Input.speaker'].isin([speaker])]\n",
    "    display(Markdown('### Audio Sample'))\n",
    "    for i, row in sp.iterrows():\n",
    "        display(Markdown('**Index:** ' + str(i) + \n",
    "                         '  |  **Process Name:** ' + row['Input.name'] + \n",
    "                         '  |  **Speaker:** ' + row['Input.speaker']  + \n",
    "                         '  |  **Score:** ' + row['Answer.audio-naturalness.label'] ))\n",
    "        display(Markdown('**Text:** \"' + row['Input.text'] + '\"'))\n",
    "        audio = row['Input.audio_path']\n",
    "        if local_path:\n",
    "            audio = local_path + audio[audio.rfind('/')+1:]\n",
    "        print(audio)\n",
    "        display(Audio(audio))\n",
    "        display(Markdown('\\n\\n ___'))\n",
    "        display()"
   ]
  },
  {
   "cell_type": "code",
   "execution_count": null,
   "metadata": {},
   "outputs": [],
   "source": [
    "audio_sample(data_frame, speaker='Hilary Noriega', process='master', local_path='/Users/rhyan/Desktop/Standard/')"
   ]
  },
  {
   "cell_type": "code",
   "execution_count": null,
   "metadata": {},
   "outputs": [],
   "source": [
    "audio_sample(new_voices, speaker='Hilary Noriega', process='seven-voices-plus-mark')"
   ]
  },
  {
   "cell_type": "code",
   "execution_count": null,
   "metadata": {},
   "outputs": [],
   "source": [
    "audio_sample(data_frame, speaker='Beth Cameron', process='master', local_path='/Users/rhyan/Desktop/Standard/')"
   ]
  },
  {
   "cell_type": "code",
   "execution_count": null,
   "metadata": {},
   "outputs": [],
   "source": [
    "audio_sample(new_voices, speaker='Beth Cameron', process='seven-voices-plus-mark')"
   ]
  }
 ],
 "metadata": {
  "kernelspec": {
   "display_name": "Python 3",
   "language": "python",
   "name": "python3"
  },
  "language_info": {
   "codemirror_mode": {
    "name": "ipython",
    "version": 3
   },
   "file_extension": ".py",
   "mimetype": "text/x-python",
   "name": "python",
   "nbconvert_exporter": "python",
   "pygments_lexer": "ipython3",
   "version": "3.7.3"
  }
 },
 "nbformat": 4,
 "nbformat_minor": 2
}
