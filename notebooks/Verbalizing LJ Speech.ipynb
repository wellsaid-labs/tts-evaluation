{
 "cells": [
  {
   "cell_type": "markdown",
   "metadata": {},
   "source": [
    "# Verbalizing LJ Speech\n",
    "\n",
    "The goal of this notebook is experiment with different methods for verbalizing LJ speech symbols."
   ]
  },
  {
   "cell_type": "code",
   "execution_count": 1,
   "metadata": {
    "scrolled": false
   },
   "outputs": [],
   "source": [
    "import re\n",
    "import sys\n",
    "\n",
    "sys.path.insert(0, '../')\n",
    "\n",
    "from src.datasets.lj_speech import _iterate_and_replace"
   ]
  },
  {
   "cell_type": "code",
   "execution_count": 2,
   "metadata": {
    "scrolled": false
   },
   "outputs": [],
   "source": [
    "import random\n",
    "import os\n",
    "\n",
    "from IPython.display import Audio\n",
    "from IPython.display import Markdown\n",
    "from IPython.display import FileLink\n",
    "\n",
    "from src.datasets import lj_speech_dataset\n",
    "\n",
    "data = lj_speech_dataset(directory='../data', verbalize=False)\n",
    "\n",
    "def get_unique(examples, get_key):\n",
    "    \"\"\" Get a unique list of ``examples`` based on ``key``.\n",
    "    \n",
    "    Args:\n",
    "        examples (list): Examples to dedup.\n",
    "        get_key (callable): Get a key to dedup examples.\n",
    "    \"\"\"\n",
    "    seen = set() \n",
    "    filtered = []\n",
    "    for example in examples:\n",
    "        key = get_key(example)\n",
    "        if key not in seen:\n",
    "            seen.add(key)\n",
    "            filtered.append(example)\n",
    "    return filtered\n",
    "\n",
    "def find_examples(regex, display_n=5, match_to_key=None, load_audio=False, replace=True, group=1):\n",
    "    \"\"\" Print ``display_n`` examples of ``regex`` in ``lj_speech_dataset``.\n",
    "    \n",
    "    Args:\n",
    "        regex (str): Pattern or compiled regex object.\n",
    "        display_n (int or None, optional): Number of examples to display.\n",
    "        match_to_key (callable or None, optional): Key assigned to match to filter duplicates.\n",
    "        load_audio (bool, optional): If to load audio.\n",
    "        replace (bool, optional): If to replace the matched characters with XXX...\n",
    "        group (int, optional): Group to select in regex.\n",
    "        \n",
    "    Returns:\n",
    "        None\n",
    "    \"\"\"\n",
    "    examples = []\n",
    "    for row in data:\n",
    "        matches = re.finditer(regex, row['text'])\n",
    "        for match in matches:\n",
    "            start = max(match.start(group) - 25, 0)\n",
    "            end = min(match.end(group) + 25, len(row['text']))\n",
    "            if replace:\n",
    "                row['text'] = (row['text'][:match.start(group)] + \n",
    "                               'X' * (match.end(group) - match.start(group)) + \n",
    "                               row['text'][match.end(group):])\n",
    "            if match_to_key is not None:\n",
    "                key = match_to_key(match.group(group))\n",
    "            else:\n",
    "                key = None\n",
    "            text = (row['text'][start:match.start(group)] + '**' + match.group(group) +\n",
    "                    '**' + row['text'][match.end(group):end])\n",
    "            examples.append({\n",
    "                'text': '…' + text + '…',\n",
    "                'audio': os.path.join('../data/LJSpeech-1.1/', row['wav']),\n",
    "                'key': key\n",
    "            })\n",
    "            \n",
    "    # Print Examples\n",
    "    display(Markdown('### Examples Captured by Regex'))\n",
    "    display(Markdown('**Regex:** ' + str(regex)))\n",
    "    display(Markdown('**Number of Examples:** ' + str(len(examples))))\n",
    "    \n",
    "    if match_to_key is not None:\n",
    "        examples = get_unique(examples, lambda example: example['key'])\n",
    "    random.shuffle(examples)\n",
    "    if display_n is not None:\n",
    "        examples = examples[:display_n]\n",
    "    \n",
    "    display(Markdown('**Number of Examples Shown:** ' + str(len(examples))))\n",
    "    display(Markdown('\\n\\n ___'))\n",
    "    \n",
    "    for example in examples:\n",
    "        display(Markdown('**Text:** \"' + example['text'] + '\"'))\n",
    "        if load_audio:\n",
    "            display(Audio(example['audio']))\n",
    "        else:\n",
    "            display(FileLink(example['audio']))\n",
    "        display(Markdown('\\n\\n ___'))\n",
    "        display()"
   ]
  },
  {
   "cell_type": "markdown",
   "metadata": {},
   "source": [
    "## Sample of Word with a Number"
   ]
  },
  {
   "cell_type": "code",
   "execution_count": 3,
   "metadata": {
    "scrolled": true
   },
   "outputs": [
    {
     "data": {
      "text/markdown": [
       "### Examples Captured by Regex"
      ],
      "text/plain": [
       "<IPython.core.display.Markdown object>"
      ]
     },
     "metadata": {},
     "output_type": "display_data"
    },
    {
     "data": {
      "text/markdown": [
       "**Regex:** \\S*(\\d+)\\S*"
      ],
      "text/plain": [
       "<IPython.core.display.Markdown object>"
      ]
     },
     "metadata": {},
     "output_type": "display_data"
    },
    {
     "data": {
      "text/markdown": [
       "**Number of Examples:** 2118"
      ],
      "text/plain": [
       "<IPython.core.display.Markdown object>"
      ]
     },
     "metadata": {},
     "output_type": "display_data"
    },
    {
     "data": {
      "text/markdown": [
       "**Number of Examples Shown:** 100"
      ],
      "text/plain": [
       "<IPython.core.display.Markdown object>"
      ]
     },
     "metadata": {},
     "output_type": "display_data"
    },
    {
     "data": {
      "text/markdown": [
       "\n",
       "\n",
       " ___"
      ],
      "text/plain": [
       "<IPython.core.display.Markdown object>"
      ]
     },
     "metadata": {},
     "output_type": "display_data"
    },
    {
     "data": {
      "text/markdown": [
       "**Text:** \"…arrived at approximately **1** p.m. and left a few minu…\""
      ],
      "text/plain": [
       "<IPython.core.display.Markdown object>"
      ]
     },
     "metadata": {},
     "output_type": "display_data"
    },
    {
     "data": {
      "text/html": [
       "<a href='../data/LJSpeech-1.1/wavs/LJ036-0005.wav' target='_blank'>../data/LJSpeech-1.1/wavs/LJ036-0005.wav</a><br>"
      ],
      "text/plain": [
       "/Users/michaelp/Code/Tacotron-2/data/LJSpeech-1.1/wavs/LJ036-0005.wav"
      ]
     },
     "metadata": {},
     "output_type": "display_data"
    },
    {
     "data": {
      "text/markdown": [
       "\n",
       "\n",
       " ___"
      ],
      "text/plain": [
       "<IPython.core.display.Markdown object>"
      ]
     },
     "metadata": {},
     "output_type": "display_data"
    },
    {
     "data": {
      "text/markdown": [
       "**Text:** \"…er 4. The Assassin: Part **6.**…\""
      ],
      "text/plain": [
       "<IPython.core.display.Markdown object>"
      ]
     },
     "metadata": {},
     "output_type": "display_data"
    },
    {
     "data": {
      "text/html": [
       "<a href='../data/LJSpeech-1.1/wavs/LJ037-0002.wav' target='_blank'>../data/LJSpeech-1.1/wavs/LJ037-0002.wav</a><br>"
      ],
      "text/plain": [
       "/Users/michaelp/Code/Tacotron-2/data/LJSpeech-1.1/wavs/LJ037-0002.wav"
      ]
     },
     "metadata": {},
     "output_type": "display_data"
    },
    {
     "data": {
      "text/markdown": [
       "\n",
       "\n",
       " ___"
      ],
      "text/plain": [
       "<IPython.core.display.Markdown object>"
      ]
     },
     "metadata": {},
     "output_type": "display_data"
    },
    {
     "data": {
      "text/markdown": [
       "**Text:** \"…r husband in November of **1962,**…\""
      ],
      "text/plain": [
       "<IPython.core.display.Markdown object>"
      ]
     },
     "metadata": {},
     "output_type": "display_data"
    },
    {
     "data": {
      "text/html": [
       "<a href='../data/LJSpeech-1.1/wavs/LJ045-0069.wav' target='_blank'>../data/LJSpeech-1.1/wavs/LJ045-0069.wav</a><br>"
      ],
      "text/plain": [
       "/Users/michaelp/Code/Tacotron-2/data/LJSpeech-1.1/wavs/LJ045-0069.wav"
      ]
     },
     "metadata": {},
     "output_type": "display_data"
    },
    {
     "data": {
      "text/markdown": [
       "\n",
       "\n",
       " ___"
      ],
      "text/plain": [
       "<IPython.core.display.Markdown object>"
      ]
     },
     "metadata": {},
     "output_type": "display_data"
    },
    {
     "data": {
      "text/markdown": [
       "**Text:** \"… March 2, 1963, to April **24,** 1963,…\""
      ],
      "text/plain": [
       "<IPython.core.display.Markdown object>"
      ]
     },
     "metadata": {},
     "output_type": "display_data"
    },
    {
     "data": {
      "text/html": [
       "<a href='../data/LJSpeech-1.1/wavs/LJ032-0198.wav' target='_blank'>../data/LJSpeech-1.1/wavs/LJ032-0198.wav</a><br>"
      ],
      "text/plain": [
       "/Users/michaelp/Code/Tacotron-2/data/LJSpeech-1.1/wavs/LJ032-0198.wav"
      ]
     },
     "metadata": {},
     "output_type": "display_data"
    },
    {
     "data": {
      "text/markdown": [
       "\n",
       "\n",
       " ___"
      ],
      "text/plain": [
       "<IPython.core.display.Markdown object>"
      ]
     },
     "metadata": {},
     "output_type": "display_data"
    },
    {
     "data": {
      "text/markdown": [
       "**Text:** \"…s to the State since the **1960** Presidential campaign an…\""
      ],
      "text/plain": [
       "<IPython.core.display.Markdown object>"
      ]
     },
     "metadata": {},
     "output_type": "display_data"
    },
    {
     "data": {
      "text/html": [
       "<a href='../data/LJSpeech-1.1/wavs/LJ029-0012.wav' target='_blank'>../data/LJSpeech-1.1/wavs/LJ029-0012.wav</a><br>"
      ],
      "text/plain": [
       "/Users/michaelp/Code/Tacotron-2/data/LJSpeech-1.1/wavs/LJ029-0012.wav"
      ]
     },
     "metadata": {},
     "output_type": "display_data"
    },
    {
     "data": {
      "text/markdown": [
       "\n",
       "\n",
       " ___"
      ],
      "text/plain": [
       "<IPython.core.display.Markdown object>"
      ]
     },
     "metadata": {},
     "output_type": "display_data"
    },
    {
     "data": {
      "text/markdown": [
       "**Text:** \"…From September **24,** 1963, when Marina Oswald…\""
      ],
      "text/plain": [
       "<IPython.core.display.Markdown object>"
      ]
     },
     "metadata": {},
     "output_type": "display_data"
    },
    {
     "data": {
      "text/html": [
       "<a href='../data/LJSpeech-1.1/wavs/LJ032-0253.wav' target='_blank'>../data/LJSpeech-1.1/wavs/LJ032-0253.wav</a><br>"
      ],
      "text/plain": [
       "/Users/michaelp/Code/Tacotron-2/data/LJSpeech-1.1/wavs/LJ032-0253.wav"
      ]
     },
     "metadata": {},
     "output_type": "display_data"
    },
    {
     "data": {
      "text/markdown": [
       "\n",
       "\n",
       " ___"
      ],
      "text/plain": [
       "<IPython.core.display.Markdown object>"
      ]
     },
     "metadata": {},
     "output_type": "display_data"
    },
    {
     "data": {
      "text/markdown": [
       "**Text:** \"…But about **1850** the two sides were disti…\""
      ],
      "text/plain": [
       "<IPython.core.display.Markdown object>"
      ]
     },
     "metadata": {},
     "output_type": "display_data"
    },
    {
     "data": {
      "text/html": [
       "<a href='../data/LJSpeech-1.1/wavs/LJ019-0054.wav' target='_blank'>../data/LJSpeech-1.1/wavs/LJ019-0054.wav</a><br>"
      ],
      "text/plain": [
       "/Users/michaelp/Code/Tacotron-2/data/LJSpeech-1.1/wavs/LJ019-0054.wav"
      ]
     },
     "metadata": {},
     "output_type": "display_data"
    },
    {
     "data": {
      "text/markdown": [
       "\n",
       "\n",
       " ___"
      ],
      "text/plain": [
       "<IPython.core.display.Markdown object>"
      ]
     },
     "metadata": {},
     "output_type": "display_data"
    },
    {
     "data": {
      "text/markdown": [
       "**Text:** \"…ained a passport on June **25,** 1963.…\""
      ],
      "text/plain": [
       "<IPython.core.display.Markdown object>"
      ]
     },
     "metadata": {},
     "output_type": "display_data"
    },
    {
     "data": {
      "text/html": [
       "<a href='../data/LJSpeech-1.1/wavs/LJ047-0146.wav' target='_blank'>../data/LJSpeech-1.1/wavs/LJ047-0146.wav</a><br>"
      ],
      "text/plain": [
       "/Users/michaelp/Code/Tacotron-2/data/LJSpeech-1.1/wavs/LJ047-0146.wav"
      ]
     },
     "metadata": {},
     "output_type": "display_data"
    },
    {
     "data": {
      "text/markdown": [
       "\n",
       "\n",
       " ___"
      ],
      "text/plain": [
       "<IPython.core.display.Markdown object>"
      ]
     },
     "metadata": {},
     "output_type": "display_data"
    },
    {
     "data": {
      "text/markdown": [
       "**Text:** \"…of 1963 show a weight of **136** pounds.…\""
      ],
      "text/plain": [
       "<IPython.core.display.Markdown object>"
      ]
     },
     "metadata": {},
     "output_type": "display_data"
    },
    {
     "data": {
      "text/html": [
       "<a href='../data/LJSpeech-1.1/wavs/LJ034-0112.wav' target='_blank'>../data/LJSpeech-1.1/wavs/LJ034-0112.wav</a><br>"
      ],
      "text/plain": [
       "/Users/michaelp/Code/Tacotron-2/data/LJSpeech-1.1/wavs/LJ034-0112.wav"
      ]
     },
     "metadata": {},
     "output_type": "display_data"
    },
    {
     "data": {
      "text/markdown": [
       "\n",
       "\n",
       " ___"
      ],
      "text/plain": [
       "<IPython.core.display.Markdown object>"
      ]
     },
     "metadata": {},
     "output_type": "display_data"
    },
    {
     "data": {
      "text/markdown": [
       "**Text:** \"…a operates at a speed of **18.3** frames per second,…\""
      ],
      "text/plain": [
       "<IPython.core.display.Markdown object>"
      ]
     },
     "metadata": {},
     "output_type": "display_data"
    },
    {
     "data": {
      "text/html": [
       "<a href='../data/LJSpeech-1.1/wavs/LJ030-0159.wav' target='_blank'>../data/LJSpeech-1.1/wavs/LJ030-0159.wav</a><br>"
      ],
      "text/plain": [
       "/Users/michaelp/Code/Tacotron-2/data/LJSpeech-1.1/wavs/LJ030-0159.wav"
      ]
     },
     "metadata": {},
     "output_type": "display_data"
    },
    {
     "data": {
      "text/markdown": [
       "\n",
       "\n",
       " ___"
      ],
      "text/plain": [
       "<IPython.core.display.Markdown object>"
      ]
     },
     "metadata": {},
     "output_type": "display_data"
    },
    {
     "data": {
      "text/markdown": [
       "**Text:** \"…and actually had only **1,000** printed.…\""
      ],
      "text/plain": [
       "<IPython.core.display.Markdown object>"
      ]
     },
     "metadata": {},
     "output_type": "display_data"
    },
    {
     "data": {
      "text/html": [
       "<a href='../data/LJSpeech-1.1/wavs/LJ044-0063.wav' target='_blank'>../data/LJSpeech-1.1/wavs/LJ044-0063.wav</a><br>"
      ],
      "text/plain": [
       "/Users/michaelp/Code/Tacotron-2/data/LJSpeech-1.1/wavs/LJ044-0063.wav"
      ]
     },
     "metadata": {},
     "output_type": "display_data"
    },
    {
     "data": {
      "text/markdown": [
       "\n",
       "\n",
       " ___"
      ],
      "text/plain": [
       "<IPython.core.display.Markdown object>"
      ]
     },
     "metadata": {},
     "output_type": "display_data"
    },
    {
     "data": {
      "text/markdown": [
       "**Text:** \"…the Trade Mart, measured **10** miles and could be drive…\""
      ],
      "text/plain": [
       "<IPython.core.display.Markdown object>"
      ]
     },
     "metadata": {},
     "output_type": "display_data"
    },
    {
     "data": {
      "text/html": [
       "<a href='../data/LJSpeech-1.1/wavs/LJ029-0098.wav' target='_blank'>../data/LJSpeech-1.1/wavs/LJ029-0098.wav</a><br>"
      ],
      "text/plain": [
       "/Users/michaelp/Code/Tacotron-2/data/LJSpeech-1.1/wavs/LJ029-0098.wav"
      ]
     },
     "metadata": {},
     "output_type": "display_data"
    },
    {
     "data": {
      "text/markdown": [
       "\n",
       "\n",
       " ___"
      ],
      "text/plain": [
       "<IPython.core.display.Markdown object>"
      ]
     },
     "metadata": {},
     "output_type": "display_data"
    },
    {
     "data": {
      "text/markdown": [
       "**Text:** \"…with two hits, within **4.8** and 5.6 seconds.…\""
      ],
      "text/plain": [
       "<IPython.core.display.Markdown object>"
      ]
     },
     "metadata": {},
     "output_type": "display_data"
    },
    {
     "data": {
      "text/html": [
       "<a href='../data/LJSpeech-1.1/wavs/LJ039-0227.wav' target='_blank'>../data/LJSpeech-1.1/wavs/LJ039-0227.wav</a><br>"
      ],
      "text/plain": [
       "/Users/michaelp/Code/Tacotron-2/data/LJSpeech-1.1/wavs/LJ039-0227.wav"
      ]
     },
     "metadata": {},
     "output_type": "display_data"
    },
    {
     "data": {
      "text/markdown": [
       "\n",
       "\n",
       " ___"
      ],
      "text/plain": [
       "<IPython.core.display.Markdown object>"
      ]
     },
     "metadata": {},
     "output_type": "display_data"
    },
    {
     "data": {
      "text/markdown": [
       "**Text:** \"…periments had shown that **24** hours was a likely maxim…\""
      ],
      "text/plain": [
       "<IPython.core.display.Markdown object>"
      ]
     },
     "metadata": {},
     "output_type": "display_data"
    },
    {
     "data": {
      "text/html": [
       "<a href='../data/LJSpeech-1.1/wavs/LJ034-0041.wav' target='_blank'>../data/LJSpeech-1.1/wavs/LJ034-0041.wav</a><br>"
      ],
      "text/plain": [
       "/Users/michaelp/Code/Tacotron-2/data/LJSpeech-1.1/wavs/LJ034-0041.wav"
      ]
     },
     "metadata": {},
     "output_type": "display_data"
    },
    {
     "data": {
      "text/markdown": [
       "\n",
       "\n",
       " ___"
      ],
      "text/plain": [
       "<IPython.core.display.Markdown object>"
      ]
     },
     "metadata": {},
     "output_type": "display_data"
    },
    {
     "data": {
      "text/markdown": [
       "**Text:** \"…te male about 30, 5 foot **8,** black hair, slender, end…\""
      ],
      "text/plain": [
       "<IPython.core.display.Markdown object>"
      ]
     },
     "metadata": {},
     "output_type": "display_data"
    },
    {
     "data": {
      "text/html": [
       "<a href='../data/LJSpeech-1.1/wavs/LJ034-0116.wav' target='_blank'>../data/LJSpeech-1.1/wavs/LJ034-0116.wav</a><br>"
      ],
      "text/plain": [
       "/Users/michaelp/Code/Tacotron-2/data/LJSpeech-1.1/wavs/LJ034-0116.wav"
      ]
     },
     "metadata": {},
     "output_type": "display_data"
    },
    {
     "data": {
      "text/markdown": [
       "\n",
       "\n",
       " ___"
      ],
      "text/plain": [
       "<IPython.core.display.Markdown object>"
      ]
     },
     "metadata": {},
     "output_type": "display_data"
    },
    {
     "data": {
      "text/markdown": [
       "**Text:** \"…aced to the right of the **240-foot** target…\""
      ],
      "text/plain": [
       "<IPython.core.display.Markdown object>"
      ]
     },
     "metadata": {},
     "output_type": "display_data"
    },
    {
     "data": {
      "text/html": [
       "<a href='../data/LJSpeech-1.1/wavs/LJ039-0165.wav' target='_blank'>../data/LJSpeech-1.1/wavs/LJ039-0165.wav</a><br>"
      ],
      "text/plain": [
       "/Users/michaelp/Code/Tacotron-2/data/LJSpeech-1.1/wavs/LJ039-0165.wav"
      ]
     },
     "metadata": {},
     "output_type": "display_data"
    },
    {
     "data": {
      "text/markdown": [
       "\n",
       "\n",
       " ___"
      ],
      "text/plain": [
       "<IPython.core.display.Markdown object>"
      ]
     },
     "metadata": {},
     "output_type": "display_data"
    },
    {
     "data": {
      "text/markdown": [
       "**Text:** \"…Chapter **7.** Lee Harvey Oswald: Backg…\""
      ],
      "text/plain": [
       "<IPython.core.display.Markdown object>"
      ]
     },
     "metadata": {},
     "output_type": "display_data"
    },
    {
     "data": {
      "text/html": [
       "<a href='../data/LJSpeech-1.1/wavs/LJ040-0002.wav' target='_blank'>../data/LJSpeech-1.1/wavs/LJ040-0002.wav</a><br>"
      ],
      "text/plain": [
       "/Users/michaelp/Code/Tacotron-2/data/LJSpeech-1.1/wavs/LJ040-0002.wav"
      ]
     },
     "metadata": {},
     "output_type": "display_data"
    },
    {
     "data": {
      "text/markdown": [
       "\n",
       "\n",
       " ___"
      ],
      "text/plain": [
       "<IPython.core.display.Markdown object>"
      ]
     },
     "metadata": {},
     "output_type": "display_data"
    },
    {
     "data": {
      "text/markdown": [
       "**Text:** \"… 1962 until November 23, **1963.**…\""
      ],
      "text/plain": [
       "<IPython.core.display.Markdown object>"
      ]
     },
     "metadata": {},
     "output_type": "display_data"
    },
    {
     "data": {
      "text/html": [
       "<a href='../data/LJSpeech-1.1/wavs/LJ043-0036.wav' target='_blank'>../data/LJSpeech-1.1/wavs/LJ043-0036.wav</a><br>"
      ],
      "text/plain": [
       "/Users/michaelp/Code/Tacotron-2/data/LJSpeech-1.1/wavs/LJ043-0036.wav"
      ]
     },
     "metadata": {},
     "output_type": "display_data"
    },
    {
     "data": {
      "text/markdown": [
       "\n",
       "\n",
       " ___"
      ],
      "text/plain": [
       "<IPython.core.display.Markdown object>"
      ]
     },
     "metadata": {},
     "output_type": "display_data"
    },
    {
     "data": {
      "text/markdown": [
       "**Text:** \"…may not endorse him in **'64.**…\""
      ],
      "text/plain": [
       "<IPython.core.display.Markdown object>"
      ]
     },
     "metadata": {},
     "output_type": "display_data"
    },
    {
     "data": {
      "text/html": [
       "<a href='../data/LJSpeech-1.1/wavs/LJ029-0182.wav' target='_blank'>../data/LJSpeech-1.1/wavs/LJ029-0182.wav</a><br>"
      ],
      "text/plain": [
       "/Users/michaelp/Code/Tacotron-2/data/LJSpeech-1.1/wavs/LJ029-0182.wav"
      ]
     },
     "metadata": {},
     "output_type": "display_data"
    },
    {
     "data": {
      "text/markdown": [
       "\n",
       "\n",
       " ___"
      ],
      "text/plain": [
       "<IPython.core.display.Markdown object>"
      ]
     },
     "metadata": {},
     "output_type": "display_data"
    },
    {
     "data": {
      "text/markdown": [
       "**Text:** \"…ctually shipped on March **20** by Railway Express.…\""
      ],
      "text/plain": [
       "<IPython.core.display.Markdown object>"
      ]
     },
     "metadata": {},
     "output_type": "display_data"
    },
    {
     "data": {
      "text/html": [
       "<a href='../data/LJSpeech-1.1/wavs/LJ037-0205.wav' target='_blank'>../data/LJSpeech-1.1/wavs/LJ037-0205.wav</a><br>"
      ],
      "text/plain": [
       "/Users/michaelp/Code/Tacotron-2/data/LJSpeech-1.1/wavs/LJ037-0205.wav"
      ]
     },
     "metadata": {},
     "output_type": "display_data"
    },
    {
     "data": {
      "text/markdown": [
       "\n",
       "\n",
       " ___"
      ],
      "text/plain": [
       "<IPython.core.display.Markdown object>"
      ]
     },
     "metadata": {},
     "output_type": "display_data"
    },
    {
     "data": {
      "text/markdown": [
       "**Text:** \"…At approximately **1** p.m., after last rites w…\""
      ],
      "text/plain": [
       "<IPython.core.display.Markdown object>"
      ]
     },
     "metadata": {},
     "output_type": "display_data"
    },
    {
     "data": {
      "text/html": [
       "<a href='../data/LJSpeech-1.1/wavs/LJ031-0078.wav' target='_blank'>../data/LJSpeech-1.1/wavs/LJ031-0078.wav</a><br>"
      ],
      "text/plain": [
       "/Users/michaelp/Code/Tacotron-2/data/LJSpeech-1.1/wavs/LJ031-0078.wav"
      ]
     },
     "metadata": {},
     "output_type": "display_data"
    },
    {
     "data": {
      "text/markdown": [
       "\n",
       "\n",
       " ___"
      ],
      "text/plain": [
       "<IPython.core.display.Markdown object>"
      ]
     },
     "metadata": {},
     "output_type": "display_data"
    },
    {
     "data": {
      "text/markdown": [
       "**Text:** \"…second test run required **1** minute and 15 seconds.…\""
      ],
      "text/plain": [
       "<IPython.core.display.Markdown object>"
      ]
     },
     "metadata": {},
     "output_type": "display_data"
    },
    {
     "data": {
      "text/html": [
       "<a href='../data/LJSpeech-1.1/wavs/LJ035-0074.wav' target='_blank'>../data/LJSpeech-1.1/wavs/LJ035-0074.wav</a><br>"
      ],
      "text/plain": [
       "/Users/michaelp/Code/Tacotron-2/data/LJSpeech-1.1/wavs/LJ035-0074.wav"
      ]
     },
     "metadata": {},
     "output_type": "display_data"
    },
    {
     "data": {
      "text/markdown": [
       "\n",
       "\n",
       " ___"
      ],
      "text/plain": [
       "<IPython.core.display.Markdown object>"
      ]
     },
     "metadata": {},
     "output_type": "display_data"
    },
    {
     "data": {
      "text/markdown": [
       "**Text:** \"…n 2:30 p.m., on November **22,** and 11 a.m.,…\""
      ],
      "text/plain": [
       "<IPython.core.display.Markdown object>"
      ]
     },
     "metadata": {},
     "output_type": "display_data"
    },
    {
     "data": {
      "text/html": [
       "<a href='../data/LJSpeech-1.1/wavs/LJ038-0078.wav' target='_blank'>../data/LJSpeech-1.1/wavs/LJ038-0078.wav</a><br>"
      ],
      "text/plain": [
       "/Users/michaelp/Code/Tacotron-2/data/LJSpeech-1.1/wavs/LJ038-0078.wav"
      ]
     },
     "metadata": {},
     "output_type": "display_data"
    },
    {
     "data": {
      "text/markdown": [
       "\n",
       "\n",
       " ___"
      ],
      "text/plain": [
       "<IPython.core.display.Markdown object>"
      ]
     },
     "metadata": {},
     "output_type": "display_data"
    },
    {
     "data": {
      "text/markdown": [
       "**Text:** \"…5 foot 10 inches, weight **165** pounds, end quote.…\""
      ],
      "text/plain": [
       "<IPython.core.display.Markdown object>"
      ]
     },
     "metadata": {},
     "output_type": "display_data"
    },
    {
     "data": {
      "text/html": [
       "<a href='../data/LJSpeech-1.1/wavs/LJ036-0208.wav' target='_blank'>../data/LJSpeech-1.1/wavs/LJ036-0208.wav</a><br>"
      ],
      "text/plain": [
       "/Users/michaelp/Code/Tacotron-2/data/LJSpeech-1.1/wavs/LJ036-0208.wav"
      ]
     },
     "metadata": {},
     "output_type": "display_data"
    },
    {
     "data": {
      "text/markdown": [
       "\n",
       "\n",
       " ___"
      ],
      "text/plain": [
       "<IPython.core.display.Markdown object>"
      ]
     },
     "metadata": {},
     "output_type": "display_data"
    },
    {
     "data": {
      "text/markdown": [
       "**Text:** \"…man they saw on November **22,** 1963.…\""
      ],
      "text/plain": [
       "<IPython.core.display.Markdown object>"
      ]
     },
     "metadata": {},
     "output_type": "display_data"
    },
    {
     "data": {
      "text/html": [
       "<a href='../data/LJSpeech-1.1/wavs/LJ037-0134.wav' target='_blank'>../data/LJSpeech-1.1/wavs/LJ037-0134.wav</a><br>"
      ],
      "text/plain": [
       "/Users/michaelp/Code/Tacotron-2/data/LJSpeech-1.1/wavs/LJ037-0134.wav"
      ]
     },
     "metadata": {},
     "output_type": "display_data"
    },
    {
     "data": {
      "text/markdown": [
       "\n",
       "\n",
       " ___"
      ],
      "text/plain": [
       "<IPython.core.display.Markdown object>"
      ]
     },
     "metadata": {},
     "output_type": "display_data"
    },
    {
     "data": {
      "text/markdown": [
       "**Text:** \"… on this spot was on the **3rd** December, 1783,…\""
      ],
      "text/plain": [
       "<IPython.core.display.Markdown object>"
      ]
     },
     "metadata": {},
     "output_type": "display_data"
    },
    {
     "data": {
      "text/html": [
       "<a href='../data/LJSpeech-1.1/wavs/LJ008-0030.wav' target='_blank'>../data/LJSpeech-1.1/wavs/LJ008-0030.wav</a><br>"
      ],
      "text/plain": [
       "/Users/michaelp/Code/Tacotron-2/data/LJSpeech-1.1/wavs/LJ008-0030.wav"
      ]
     },
     "metadata": {},
     "output_type": "display_data"
    },
    {
     "data": {
      "text/markdown": [
       "\n",
       "\n",
       " ___"
      ],
      "text/plain": [
       "<IPython.core.display.Markdown object>"
      ]
     },
     "metadata": {},
     "output_type": "display_data"
    },
    {
     "data": {
      "text/markdown": [
       "**Text:** \"…e Commission in February **1964,**…\""
      ],
      "text/plain": [
       "<IPython.core.display.Markdown object>"
      ]
     },
     "metadata": {},
     "output_type": "display_data"
    },
    {
     "data": {
      "text/html": [
       "<a href='../data/LJSpeech-1.1/wavs/LJ038-0231.wav' target='_blank'>../data/LJSpeech-1.1/wavs/LJ038-0231.wav</a><br>"
      ],
      "text/plain": [
       "/Users/michaelp/Code/Tacotron-2/data/LJSpeech-1.1/wavs/LJ038-0231.wav"
      ]
     },
     "metadata": {},
     "output_type": "display_data"
    },
    {
     "data": {
      "text/markdown": [
       "\n",
       "\n",
       " ___"
      ],
      "text/plain": [
       "<IPython.core.display.Markdown object>"
      ]
     },
     "metadata": {},
     "output_type": "display_data"
    },
    {
     "data": {
      "text/markdown": [
       "**Text:** \"… at 500 North Beckley at **12:45** p.m.…\""
      ],
      "text/plain": [
       "<IPython.core.display.Markdown object>"
      ]
     },
     "metadata": {},
     "output_type": "display_data"
    },
    {
     "data": {
      "text/html": [
       "<a href='../data/LJSpeech-1.1/wavs/LJ036-0123.wav' target='_blank'>../data/LJSpeech-1.1/wavs/LJ036-0123.wav</a><br>"
      ],
      "text/plain": [
       "/Users/michaelp/Code/Tacotron-2/data/LJSpeech-1.1/wavs/LJ036-0123.wav"
      ]
     },
     "metadata": {},
     "output_type": "display_data"
    },
    {
     "data": {
      "text/markdown": [
       "\n",
       "\n",
       " ___"
      ],
      "text/plain": [
       "<IPython.core.display.Markdown object>"
      ]
     },
     "metadata": {},
     "output_type": "display_data"
    },
    {
     "data": {
      "text/markdown": [
       "**Text:** \"…but in the **27th** George II the right of p…\""
      ],
      "text/plain": [
       "<IPython.core.display.Markdown object>"
      ]
     },
     "metadata": {},
     "output_type": "display_data"
    },
    {
     "data": {
      "text/html": [
       "<a href='../data/LJSpeech-1.1/wavs/LJ002-0199.wav' target='_blank'>../data/LJSpeech-1.1/wavs/LJ002-0199.wav</a><br>"
      ],
      "text/plain": [
       "/Users/michaelp/Code/Tacotron-2/data/LJSpeech-1.1/wavs/LJ002-0199.wav"
      ]
     },
     "metadata": {},
     "output_type": "display_data"
    },
    {
     "data": {
      "text/markdown": [
       "\n",
       "\n",
       " ___"
      ],
      "text/plain": [
       "<IPython.core.display.Markdown object>"
      ]
     },
     "metadata": {},
     "output_type": "display_data"
    },
    {
     "data": {
      "text/markdown": [
       "**Text:** \"…ich took place in May of **1945.**…\""
      ],
      "text/plain": [
       "<IPython.core.display.Markdown object>"
      ]
     },
     "metadata": {},
     "output_type": "display_data"
    },
    {
     "data": {
      "text/html": [
       "<a href='../data/LJSpeech-1.1/wavs/LJ040-0075.wav' target='_blank'>../data/LJSpeech-1.1/wavs/LJ040-0075.wav</a><br>"
      ],
      "text/plain": [
       "/Users/michaelp/Code/Tacotron-2/data/LJSpeech-1.1/wavs/LJ040-0075.wav"
      ]
     },
     "metadata": {},
     "output_type": "display_data"
    },
    {
     "data": {
      "text/markdown": [
       "\n",
       "\n",
       " ___"
      ],
      "text/plain": [
       "<IPython.core.display.Markdown object>"
      ]
     },
     "metadata": {},
     "output_type": "display_data"
    },
    {
     "data": {
      "text/markdown": [
       "**Text:** \"…**(2)** photographs found among …\""
      ],
      "text/plain": [
       "<IPython.core.display.Markdown object>"
      ]
     },
     "metadata": {},
     "output_type": "display_data"
    },
    {
     "data": {
      "text/html": [
       "<a href='../data/LJSpeech-1.1/wavs/LJ038-0178.wav' target='_blank'>../data/LJSpeech-1.1/wavs/LJ038-0178.wav</a><br>"
      ],
      "text/plain": [
       "/Users/michaelp/Code/Tacotron-2/data/LJSpeech-1.1/wavs/LJ038-0178.wav"
      ]
     },
     "metadata": {},
     "output_type": "display_data"
    },
    {
     "data": {
      "text/markdown": [
       "\n",
       "\n",
       " ___"
      ],
      "text/plain": [
       "<IPython.core.display.Markdown object>"
      ]
     },
     "metadata": {},
     "output_type": "display_data"
    },
    {
     "data": {
      "text/markdown": [
       "**Text:** \"…ime of the first shot as **12** to 15 miles per hour.…\""
      ],
      "text/plain": [
       "<IPython.core.display.Markdown object>"
      ]
     },
     "metadata": {},
     "output_type": "display_data"
    },
    {
     "data": {
      "text/html": [
       "<a href='../data/LJSpeech-1.1/wavs/LJ030-0153.wav' target='_blank'>../data/LJSpeech-1.1/wavs/LJ030-0153.wav</a><br>"
      ],
      "text/plain": [
       "/Users/michaelp/Code/Tacotron-2/data/LJSpeech-1.1/wavs/LJ030-0153.wav"
      ]
     },
     "metadata": {},
     "output_type": "display_data"
    },
    {
     "data": {
      "text/markdown": [
       "\n",
       "\n",
       " ___"
      ],
      "text/plain": [
       "<IPython.core.display.Markdown object>"
      ]
     },
     "metadata": {},
     "output_type": "display_data"
    },
    {
     "data": {
      "text/markdown": [
       "**Text:** \"…idate Johnson during the **1960** campaign,…\""
      ],
      "text/plain": [
       "<IPython.core.display.Markdown object>"
      ]
     },
     "metadata": {},
     "output_type": "display_data"
    },
    {
     "data": {
      "text/html": [
       "<a href='../data/LJSpeech-1.1/wavs/LJ045-0007.wav' target='_blank'>../data/LJSpeech-1.1/wavs/LJ045-0007.wav</a><br>"
      ],
      "text/plain": [
       "/Users/michaelp/Code/Tacotron-2/data/LJSpeech-1.1/wavs/LJ045-0007.wav"
      ]
     },
     "metadata": {},
     "output_type": "display_data"
    },
    {
     "data": {
      "text/markdown": [
       "\n",
       "\n",
       " ___"
      ],
      "text/plain": [
       "<IPython.core.display.Markdown object>"
      ]
     },
     "metadata": {},
     "output_type": "display_data"
    },
    {
     "data": {
      "text/markdown": [
       "**Text:** \"…ifiable fingerprints and **8** palmprints were develope…\""
      ],
      "text/plain": [
       "<IPython.core.display.Markdown object>"
      ]
     },
     "metadata": {},
     "output_type": "display_data"
    },
    {
     "data": {
      "text/html": [
       "<a href='../data/LJSpeech-1.1/wavs/LJ034-0022.wav' target='_blank'>../data/LJSpeech-1.1/wavs/LJ034-0022.wav</a><br>"
      ],
      "text/plain": [
       "/Users/michaelp/Code/Tacotron-2/data/LJSpeech-1.1/wavs/LJ034-0022.wav"
      ]
     },
     "metadata": {},
     "output_type": "display_data"
    },
    {
     "data": {
      "text/markdown": [
       "\n",
       "\n",
       " ___"
      ],
      "text/plain": [
       "<IPython.core.display.Markdown object>"
      ]
     },
     "metadata": {},
     "output_type": "display_data"
    },
    {
     "data": {
      "text/markdown": [
       "**Text:** \"…nown to amass as much as **£40.**…\""
      ],
      "text/plain": [
       "<IPython.core.display.Markdown object>"
      ]
     },
     "metadata": {},
     "output_type": "display_data"
    },
    {
     "data": {
      "text/html": [
       "<a href='../data/LJSpeech-1.1/wavs/LJ006-0122.wav' target='_blank'>../data/LJSpeech-1.1/wavs/LJ006-0122.wav</a><br>"
      ],
      "text/plain": [
       "/Users/michaelp/Code/Tacotron-2/data/LJSpeech-1.1/wavs/LJ006-0122.wav"
      ]
     },
     "metadata": {},
     "output_type": "display_data"
    },
    {
     "data": {
      "text/markdown": [
       "\n",
       "\n",
       " ___"
      ],
      "text/plain": [
       "<IPython.core.display.Markdown object>"
      ]
     },
     "metadata": {},
     "output_type": "display_data"
    },
    {
     "data": {
      "text/markdown": [
       "**Text:** \"…e interview lasted about **20** to 25 minutes. In respon…\""
      ],
      "text/plain": [
       "<IPython.core.display.Markdown object>"
      ]
     },
     "metadata": {},
     "output_type": "display_data"
    },
    {
     "data": {
      "text/html": [
       "<a href='../data/LJSpeech-1.1/wavs/LJ047-0154.wav' target='_blank'>../data/LJSpeech-1.1/wavs/LJ047-0154.wav</a><br>"
      ],
      "text/plain": [
       "/Users/michaelp/Code/Tacotron-2/data/LJSpeech-1.1/wavs/LJ047-0154.wav"
      ]
     },
     "metadata": {},
     "output_type": "display_data"
    },
    {
     "data": {
      "text/markdown": [
       "\n",
       "\n",
       " ___"
      ],
      "text/plain": [
       "<IPython.core.display.Markdown object>"
      ]
     },
     "metadata": {},
     "output_type": "display_data"
    },
    {
     "data": {
      "text/markdown": [
       "**Text:** \"…Approximately **15** men worked in the wareho…\""
      ],
      "text/plain": [
       "<IPython.core.display.Markdown object>"
      ]
     },
     "metadata": {},
     "output_type": "display_data"
    },
    {
     "data": {
      "text/html": [
       "<a href='../data/LJSpeech-1.1/wavs/LJ035-0194.wav' target='_blank'>../data/LJSpeech-1.1/wavs/LJ035-0194.wav</a><br>"
      ],
      "text/plain": [
       "/Users/michaelp/Code/Tacotron-2/data/LJSpeech-1.1/wavs/LJ035-0194.wav"
      ]
     },
     "metadata": {},
     "output_type": "display_data"
    },
    {
     "data": {
      "text/markdown": [
       "\n",
       "\n",
       " ___"
      ],
      "text/plain": [
       "<IPython.core.display.Markdown object>"
      ]
     },
     "metadata": {},
     "output_type": "display_data"
    },
    {
     "data": {
      "text/markdown": [
       "**Text:** \"…autopsy at approximately **7:35** p.m.…\""
      ],
      "text/plain": [
       "<IPython.core.display.Markdown object>"
      ]
     },
     "metadata": {},
     "output_type": "display_data"
    },
    {
     "data": {
      "text/html": [
       "<a href='../data/LJSpeech-1.1/wavs/LJ031-0208.wav' target='_blank'>../data/LJSpeech-1.1/wavs/LJ031-0208.wav</a><br>"
      ],
      "text/plain": [
       "/Users/michaelp/Code/Tacotron-2/data/LJSpeech-1.1/wavs/LJ031-0208.wav"
      ]
     },
     "metadata": {},
     "output_type": "display_data"
    },
    {
     "data": {
      "text/markdown": [
       "\n",
       "\n",
       " ___"
      ],
      "text/plain": [
       "<IPython.core.display.Markdown object>"
      ]
     },
     "metadata": {},
     "output_type": "display_data"
    },
    {
     "data": {
      "text/markdown": [
       "**Text:** \"…l the bank paper; I have **£30,000** now, and the Bank of Eng…\""
      ],
      "text/plain": [
       "<IPython.core.display.Markdown object>"
      ]
     },
     "metadata": {},
     "output_type": "display_data"
    },
    {
     "data": {
      "text/html": [
       "<a href='../data/LJSpeech-1.1/wavs/LJ018-0158.wav' target='_blank'>../data/LJSpeech-1.1/wavs/LJ018-0158.wav</a><br>"
      ],
      "text/plain": [
       "/Users/michaelp/Code/Tacotron-2/data/LJSpeech-1.1/wavs/LJ018-0158.wav"
      ]
     },
     "metadata": {},
     "output_type": "display_data"
    },
    {
     "data": {
      "text/markdown": [
       "\n",
       "\n",
       " ___"
      ],
      "text/plain": [
       "<IPython.core.display.Markdown object>"
      ]
     },
     "metadata": {},
     "output_type": "display_data"
    },
    {
     "data": {
      "text/markdown": [
       "**Text:** \"…adily maintained, and in **1803** the total rose to 710.…\""
      ],
      "text/plain": [
       "<IPython.core.display.Markdown object>"
      ]
     },
     "metadata": {},
     "output_type": "display_data"
    },
    {
     "data": {
      "text/html": [
       "<a href='../data/LJSpeech-1.1/wavs/LJ002-0011.wav' target='_blank'>../data/LJSpeech-1.1/wavs/LJ002-0011.wav</a><br>"
      ],
      "text/plain": [
       "/Users/michaelp/Code/Tacotron-2/data/LJSpeech-1.1/wavs/LJ002-0011.wav"
      ]
     },
     "metadata": {},
     "output_type": "display_data"
    },
    {
     "data": {
      "text/markdown": [
       "\n",
       "\n",
       " ___"
      ],
      "text/plain": [
       "<IPython.core.display.Markdown object>"
      ]
     },
     "metadata": {},
     "output_type": "display_data"
    },
    {
     "data": {
      "text/markdown": [
       "**Text:** \"…S received approximately **9,000** items of information;…\""
      ],
      "text/plain": [
       "<IPython.core.display.Markdown object>"
      ]
     },
     "metadata": {},
     "output_type": "display_data"
    },
    {
     "data": {
      "text/html": [
       "<a href='../data/LJSpeech-1.1/wavs/LJ046-0130.wav' target='_blank'>../data/LJSpeech-1.1/wavs/LJ046-0130.wav</a><br>"
      ],
      "text/plain": [
       "/Users/michaelp/Code/Tacotron-2/data/LJSpeech-1.1/wavs/LJ046-0130.wav"
      ]
     },
     "metadata": {},
     "output_type": "display_data"
    },
    {
     "data": {
      "text/markdown": [
       "\n",
       "\n",
       " ___"
      ],
      "text/plain": [
       "<IPython.core.display.Markdown object>"
      ]
     },
     "metadata": {},
     "output_type": "display_data"
    },
    {
     "data": {
      "text/markdown": [
       "**Text:** \"…he afternoon of November **23,** Officers H. M. Moore,…\""
      ],
      "text/plain": [
       "<IPython.core.display.Markdown object>"
      ]
     },
     "metadata": {},
     "output_type": "display_data"
    },
    {
     "data": {
      "text/html": [
       "<a href='../data/LJSpeech-1.1/wavs/LJ038-0103.wav' target='_blank'>../data/LJSpeech-1.1/wavs/LJ038-0103.wav</a><br>"
      ],
      "text/plain": [
       "/Users/michaelp/Code/Tacotron-2/data/LJSpeech-1.1/wavs/LJ038-0103.wav"
      ]
     },
     "metadata": {},
     "output_type": "display_data"
    },
    {
     "data": {
      "text/markdown": [
       "\n",
       "\n",
       " ___"
      ],
      "text/plain": [
       "<IPython.core.display.Markdown object>"
      ]
     },
     "metadata": {},
     "output_type": "display_data"
    },
    {
     "data": {
      "text/markdown": [
       "**Text:** \"… vote for Mr. Kennedy in **1960,**…\""
      ],
      "text/plain": [
       "<IPython.core.display.Markdown object>"
      ]
     },
     "metadata": {},
     "output_type": "display_data"
    },
    {
     "data": {
      "text/html": [
       "<a href='../data/LJSpeech-1.1/wavs/LJ029-0181.wav' target='_blank'>../data/LJSpeech-1.1/wavs/LJ029-0181.wav</a><br>"
      ],
      "text/plain": [
       "/Users/michaelp/Code/Tacotron-2/data/LJSpeech-1.1/wavs/LJ029-0181.wav"
      ]
     },
     "metadata": {},
     "output_type": "display_data"
    },
    {
     "data": {
      "text/markdown": [
       "\n",
       "\n",
       " ___"
      ],
      "text/plain": [
       "<IPython.core.display.Markdown object>"
      ]
     },
     "metadata": {},
     "output_type": "display_data"
    },
    {
     "data": {
      "text/markdown": [
       "**Text:** \"…In **1853** three men escaped in com…\""
      ],
      "text/plain": [
       "<IPython.core.display.Markdown object>"
      ]
     },
     "metadata": {},
     "output_type": "display_data"
    },
    {
     "data": {
      "text/html": [
       "<a href='../data/LJSpeech-1.1/wavs/LJ016-0095.wav' target='_blank'>../data/LJSpeech-1.1/wavs/LJ016-0095.wav</a><br>"
      ],
      "text/plain": [
       "/Users/michaelp/Code/Tacotron-2/data/LJSpeech-1.1/wavs/LJ016-0095.wav"
      ]
     },
     "metadata": {},
     "output_type": "display_data"
    },
    {
     "data": {
      "text/markdown": [
       "\n",
       "\n",
       " ___"
      ],
      "text/plain": [
       "<IPython.core.display.Markdown object>"
      ]
     },
     "metadata": {},
     "output_type": "display_data"
    },
    {
     "data": {
      "text/markdown": [
       "**Text:** \"…nterrogation on November **22,** Fritz asked Oswald to ac…\""
      ],
      "text/plain": [
       "<IPython.core.display.Markdown object>"
      ]
     },
     "metadata": {},
     "output_type": "display_data"
    },
    {
     "data": {
      "text/html": [
       "<a href='../data/LJSpeech-1.1/wavs/LJ038-0149.wav' target='_blank'>../data/LJSpeech-1.1/wavs/LJ038-0149.wav</a><br>"
      ],
      "text/plain": [
       "/Users/michaelp/Code/Tacotron-2/data/LJSpeech-1.1/wavs/LJ038-0149.wav"
      ]
     },
     "metadata": {},
     "output_type": "display_data"
    },
    {
     "data": {
      "text/markdown": [
       "\n",
       "\n",
       " ___"
      ],
      "text/plain": [
       "<IPython.core.display.Markdown object>"
      ]
     },
     "metadata": {},
     "output_type": "display_data"
    },
    {
     "data": {
      "text/markdown": [
       "**Text:** \"…**(1)** those awaiting trial;…\""
      ],
      "text/plain": [
       "<IPython.core.display.Markdown object>"
      ]
     },
     "metadata": {},
     "output_type": "display_data"
    },
    {
     "data": {
      "text/html": [
       "<a href='../data/LJSpeech-1.1/wavs/LJ003-0050.wav' target='_blank'>../data/LJSpeech-1.1/wavs/LJ003-0050.wav</a><br>"
      ],
      "text/plain": [
       "/Users/michaelp/Code/Tacotron-2/data/LJSpeech-1.1/wavs/LJ003-0050.wav"
      ]
     },
     "metadata": {},
     "output_type": "display_data"
    },
    {
     "data": {
      "text/markdown": [
       "\n",
       "\n",
       " ___"
      ],
      "text/plain": [
       "<IPython.core.display.Markdown object>"
      ]
     },
     "metadata": {},
     "output_type": "display_data"
    },
    {
     "data": {
      "text/markdown": [
       "**Text:** \"…ollar bill, the trip was **95** cents.…\""
      ],
      "text/plain": [
       "<IPython.core.display.Markdown object>"
      ]
     },
     "metadata": {},
     "output_type": "display_data"
    },
    {
     "data": {
      "text/html": [
       "<a href='../data/LJSpeech-1.1/wavs/LJ036-0139.wav' target='_blank'>../data/LJSpeech-1.1/wavs/LJ036-0139.wav</a><br>"
      ],
      "text/plain": [
       "/Users/michaelp/Code/Tacotron-2/data/LJSpeech-1.1/wavs/LJ036-0139.wav"
      ]
     },
     "metadata": {},
     "output_type": "display_data"
    },
    {
     "data": {
      "text/markdown": [
       "\n",
       "\n",
       " ___"
      ],
      "text/plain": [
       "<IPython.core.display.Markdown object>"
      ]
     },
     "metadata": {},
     "output_type": "display_data"
    },
    {
     "data": {
      "text/markdown": [
       "**Text:** \"…idence on November 1 and **5,** 1963,…\""
      ],
      "text/plain": [
       "<IPython.core.display.Markdown object>"
      ]
     },
     "metadata": {},
     "output_type": "display_data"
    },
    {
     "data": {
      "text/html": [
       "<a href='../data/LJSpeech-1.1/wavs/LJ045-0134.wav' target='_blank'>../data/LJSpeech-1.1/wavs/LJ045-0134.wav</a><br>"
      ],
      "text/plain": [
       "/Users/michaelp/Code/Tacotron-2/data/LJSpeech-1.1/wavs/LJ045-0134.wav"
      ]
     },
     "metadata": {},
     "output_type": "display_data"
    },
    {
     "data": {
      "text/markdown": [
       "\n",
       "\n",
       " ___"
      ],
      "text/plain": [
       "<IPython.core.display.Markdown object>"
      ]
     },
     "metadata": {},
     "output_type": "display_data"
    },
    {
     "data": {
      "text/markdown": [
       "**Text:** \"…riving at San Antonio at **1:30** p.m., Eastern Standard T…\""
      ],
      "text/plain": [
       "<IPython.core.display.Markdown object>"
      ]
     },
     "metadata": {},
     "output_type": "display_data"
    },
    {
     "data": {
      "text/html": [
       "<a href='../data/LJSpeech-1.1/wavs/LJ030-0006.wav' target='_blank'>../data/LJSpeech-1.1/wavs/LJ030-0006.wav</a><br>"
      ],
      "text/plain": [
       "/Users/michaelp/Code/Tacotron-2/data/LJSpeech-1.1/wavs/LJ030-0006.wav"
      ]
     },
     "metadata": {},
     "output_type": "display_data"
    },
    {
     "data": {
      "text/markdown": [
       "\n",
       "\n",
       " ___"
      ],
      "text/plain": [
       "<IPython.core.display.Markdown object>"
      ]
     },
     "metadata": {},
     "output_type": "display_data"
    },
    {
     "data": {
      "text/markdown": [
       "**Text:** \"…On September **20,** 1963, Mrs. Paine and her…\""
      ],
      "text/plain": [
       "<IPython.core.display.Markdown object>"
      ]
     },
     "metadata": {},
     "output_type": "display_data"
    },
    {
     "data": {
      "text/html": [
       "<a href='../data/LJSpeech-1.1/wavs/LJ044-0171.wav' target='_blank'>../data/LJSpeech-1.1/wavs/LJ044-0171.wav</a><br>"
      ],
      "text/plain": [
       "/Users/michaelp/Code/Tacotron-2/data/LJSpeech-1.1/wavs/LJ044-0171.wav"
      ]
     },
     "metadata": {},
     "output_type": "display_data"
    },
    {
     "data": {
      "text/markdown": [
       "\n",
       "\n",
       " ___"
      ],
      "text/plain": [
       "<IPython.core.display.Markdown object>"
      ]
     },
     "metadata": {},
     "output_type": "display_data"
    },
    {
     "data": {
      "text/markdown": [
       "**Text:** \"…n before; as in the year **1849,** a year memorable for the…\""
      ],
      "text/plain": [
       "<IPython.core.display.Markdown object>"
      ]
     },
     "metadata": {},
     "output_type": "display_data"
    },
    {
     "data": {
      "text/html": [
       "<a href='../data/LJSpeech-1.1/wavs/LJ010-0038.wav' target='_blank'>../data/LJSpeech-1.1/wavs/LJ010-0038.wav</a><br>"
      ],
      "text/plain": [
       "/Users/michaelp/Code/Tacotron-2/data/LJSpeech-1.1/wavs/LJ010-0038.wav"
      ]
     },
     "metadata": {},
     "output_type": "display_data"
    },
    {
     "data": {
      "text/markdown": [
       "\n",
       "\n",
       " ___"
      ],
      "text/plain": [
       "<IPython.core.display.Markdown object>"
      ]
     },
     "metadata": {},
     "output_type": "display_data"
    },
    {
     "data": {
      "text/markdown": [
       "**Text:** \"…d Commission Exhibit No. **162** as the light-colored jac…\""
      ],
      "text/plain": [
       "<IPython.core.display.Markdown object>"
      ]
     },
     "metadata": {},
     "output_type": "display_data"
    },
    {
     "data": {
      "text/html": [
       "<a href='../data/LJSpeech-1.1/wavs/LJ037-0244.wav' target='_blank'>../data/LJSpeech-1.1/wavs/LJ037-0244.wav</a><br>"
      ],
      "text/plain": [
       "/Users/michaelp/Code/Tacotron-2/data/LJSpeech-1.1/wavs/LJ037-0244.wav"
      ]
     },
     "metadata": {},
     "output_type": "display_data"
    },
    {
     "data": {
      "text/markdown": [
       "\n",
       "\n",
       " ___"
      ],
      "text/plain": [
       "<IPython.core.display.Markdown object>"
      ]
     },
     "metadata": {},
     "output_type": "display_data"
    },
    {
     "data": {
      "text/markdown": [
       "**Text:** \"…ght, because that is the **500** block of North Beckley, …\""
      ],
      "text/plain": [
       "<IPython.core.display.Markdown object>"
      ]
     },
     "metadata": {},
     "output_type": "display_data"
    },
    {
     "data": {
      "text/html": [
       "<a href='../data/LJSpeech-1.1/wavs/LJ036-0144.wav' target='_blank'>../data/LJSpeech-1.1/wavs/LJ036-0144.wav</a><br>"
      ],
      "text/plain": [
       "/Users/michaelp/Code/Tacotron-2/data/LJSpeech-1.1/wavs/LJ036-0144.wav"
      ]
     },
     "metadata": {},
     "output_type": "display_data"
    },
    {
     "data": {
      "text/markdown": [
       "\n",
       "\n",
       " ___"
      ],
      "text/plain": [
       "<IPython.core.display.Markdown object>"
      ]
     },
     "metadata": {},
     "output_type": "display_data"
    },
    {
     "data": {
      "text/markdown": [
       "**Text:** \"…In the **100** years since 1865…\""
      ],
      "text/plain": [
       "<IPython.core.display.Markdown object>"
      ]
     },
     "metadata": {},
     "output_type": "display_data"
    },
    {
     "data": {
      "text/html": [
       "<a href='../data/LJSpeech-1.1/wavs/LJ046-0003.wav' target='_blank'>../data/LJSpeech-1.1/wavs/LJ046-0003.wav</a><br>"
      ],
      "text/plain": [
       "/Users/michaelp/Code/Tacotron-2/data/LJSpeech-1.1/wavs/LJ046-0003.wav"
      ]
     },
     "metadata": {},
     "output_type": "display_data"
    },
    {
     "data": {
      "text/markdown": [
       "\n",
       "\n",
       " ___"
      ],
      "text/plain": [
       "<IPython.core.display.Markdown object>"
      ]
     },
     "metadata": {},
     "output_type": "display_data"
    },
    {
     "data": {
      "text/markdown": [
       "**Text:** \"…ailed to return by 10 or **10:30** p.m., Marina Oswald went…\""
      ],
      "text/plain": [
       "<IPython.core.display.Markdown object>"
      ]
     },
     "metadata": {},
     "output_type": "display_data"
    },
    {
     "data": {
      "text/html": [
       "<a href='../data/LJSpeech-1.1/wavs/LJ038-0206.wav' target='_blank'>../data/LJSpeech-1.1/wavs/LJ038-0206.wav</a><br>"
      ],
      "text/plain": [
       "/Users/michaelp/Code/Tacotron-2/data/LJSpeech-1.1/wavs/LJ038-0206.wav"
      ]
     },
     "metadata": {},
     "output_type": "display_data"
    },
    {
     "data": {
      "text/markdown": [
       "\n",
       "\n",
       " ___"
      ],
      "text/plain": [
       "<IPython.core.display.Markdown object>"
      ]
     },
     "metadata": {},
     "output_type": "display_data"
    },
    {
     "data": {
      "text/markdown": [
       "**Text:** \"… that address on October **14,** 1963.…\""
      ],
      "text/plain": [
       "<IPython.core.display.Markdown object>"
      ]
     },
     "metadata": {},
     "output_type": "display_data"
    },
    {
     "data": {
      "text/html": [
       "<a href='../data/LJSpeech-1.1/wavs/LJ036-0178.wav' target='_blank'>../data/LJSpeech-1.1/wavs/LJ036-0178.wav</a><br>"
      ],
      "text/plain": [
       "/Users/michaelp/Code/Tacotron-2/data/LJSpeech-1.1/wavs/LJ036-0178.wav"
      ]
     },
     "metadata": {},
     "output_type": "display_data"
    },
    {
     "data": {
      "text/markdown": [
       "\n",
       "\n",
       " ___"
      ],
      "text/plain": [
       "<IPython.core.display.Markdown object>"
      ]
     },
     "metadata": {},
     "output_type": "display_data"
    },
    {
     "data": {
      "text/markdown": [
       "**Text:** \"…nce on November 1 and 5, **1963,**…\""
      ],
      "text/plain": [
       "<IPython.core.display.Markdown object>"
      ]
     },
     "metadata": {},
     "output_type": "display_data"
    },
    {
     "data": {
      "text/html": [
       "<a href='../data/LJSpeech-1.1/wavs/LJ045-0134.wav' target='_blank'>../data/LJSpeech-1.1/wavs/LJ045-0134.wav</a><br>"
      ],
      "text/plain": [
       "/Users/michaelp/Code/Tacotron-2/data/LJSpeech-1.1/wavs/LJ045-0134.wav"
      ]
     },
     "metadata": {},
     "output_type": "display_data"
    },
    {
     "data": {
      "text/markdown": [
       "\n",
       "\n",
       " ___"
      ],
      "text/plain": [
       "<IPython.core.display.Markdown object>"
      ]
     },
     "metadata": {},
     "output_type": "display_data"
    },
    {
     "data": {
      "text/markdown": [
       "**Text:** \"…wald, prior to April 10, **1963,**…\""
      ],
      "text/plain": [
       "<IPython.core.display.Markdown object>"
      ]
     },
     "metadata": {},
     "output_type": "display_data"
    },
    {
     "data": {
      "text/html": [
       "<a href='../data/LJSpeech-1.1/wavs/LJ043-0141.wav' target='_blank'>../data/LJSpeech-1.1/wavs/LJ043-0141.wav</a><br>"
      ],
      "text/plain": [
       "/Users/michaelp/Code/Tacotron-2/data/LJSpeech-1.1/wavs/LJ043-0141.wav"
      ]
     },
     "metadata": {},
     "output_type": "display_data"
    },
    {
     "data": {
      "text/markdown": [
       "\n",
       "\n",
       " ___"
      ],
      "text/plain": [
       "<IPython.core.display.Markdown object>"
      ]
     },
     "metadata": {},
     "output_type": "display_data"
    },
    {
     "data": {
      "text/markdown": [
       "**Text:** \"…as on November 20 to 21, **1963.**…\""
      ],
      "text/plain": [
       "<IPython.core.display.Markdown object>"
      ]
     },
     "metadata": {},
     "output_type": "display_data"
    },
    {
     "data": {
      "text/html": [
       "<a href='../data/LJSpeech-1.1/wavs/LJ039-0032.wav' target='_blank'>../data/LJSpeech-1.1/wavs/LJ039-0032.wav</a><br>"
      ],
      "text/plain": [
       "/Users/michaelp/Code/Tacotron-2/data/LJSpeech-1.1/wavs/LJ039-0032.wav"
      ]
     },
     "metadata": {},
     "output_type": "display_data"
    },
    {
     "data": {
      "text/markdown": [
       "\n",
       "\n",
       " ___"
      ],
      "text/plain": [
       "<IPython.core.display.Markdown object>"
      ]
     },
     "metadata": {},
     "output_type": "display_data"
    },
    {
     "data": {
      "text/markdown": [
       "**Text:** \"… is presented in chapter **5** of this report.…\""
      ],
      "text/plain": [
       "<IPython.core.display.Markdown object>"
      ]
     },
     "metadata": {},
     "output_type": "display_data"
    },
    {
     "data": {
      "text/html": [
       "<a href='../data/LJSpeech-1.1/wavs/LJ038-0085.wav' target='_blank'>../data/LJSpeech-1.1/wavs/LJ038-0085.wav</a><br>"
      ],
      "text/plain": [
       "/Users/michaelp/Code/Tacotron-2/data/LJSpeech-1.1/wavs/LJ038-0085.wav"
      ]
     },
     "metadata": {},
     "output_type": "display_data"
    },
    {
     "data": {
      "text/markdown": [
       "\n",
       "\n",
       " ___"
      ],
      "text/plain": [
       "<IPython.core.display.Markdown object>"
      ]
     },
     "metadata": {},
     "output_type": "display_data"
    },
    {
     "data": {
      "text/markdown": [
       "**Text:** \"…and 375 respectively, or **650** in all.…\""
      ],
      "text/plain": [
       "<IPython.core.display.Markdown object>"
      ]
     },
     "metadata": {},
     "output_type": "display_data"
    },
    {
     "data": {
      "text/html": [
       "<a href='../data/LJSpeech-1.1/wavs/LJ002-0010.wav' target='_blank'>../data/LJSpeech-1.1/wavs/LJ002-0010.wav</a><br>"
      ],
      "text/plain": [
       "/Users/michaelp/Code/Tacotron-2/data/LJSpeech-1.1/wavs/LJ002-0010.wav"
      ]
     },
     "metadata": {},
     "output_type": "display_data"
    },
    {
     "data": {
      "text/markdown": [
       "\n",
       "\n",
       " ___"
      ],
      "text/plain": [
       "<IPython.core.display.Markdown object>"
      ]
     },
     "metadata": {},
     "output_type": "display_data"
    },
    {
     "data": {
      "text/markdown": [
       "**Text:** \"…Biology. Chapter **10.** Morphology and Embryolog…\""
      ],
      "text/plain": [
       "<IPython.core.display.Markdown object>"
      ]
     },
     "metadata": {},
     "output_type": "display_data"
    },
    {
     "data": {
      "text/html": [
       "<a href='../data/LJSpeech-1.1/wavs/LJ027-0002.wav' target='_blank'>../data/LJSpeech-1.1/wavs/LJ027-0002.wav</a><br>"
      ],
      "text/plain": [
       "/Users/michaelp/Code/Tacotron-2/data/LJSpeech-1.1/wavs/LJ027-0002.wav"
      ]
     },
     "metadata": {},
     "output_type": "display_data"
    },
    {
     "data": {
      "text/markdown": [
       "\n",
       "\n",
       " ___"
      ],
      "text/plain": [
       "<IPython.core.display.Markdown object>"
      ]
     },
     "metadata": {},
     "output_type": "display_data"
    },
    {
     "data": {
      "text/markdown": [
       "**Text:** \"…erested about the age of **15.** From an ideological view…\""
      ],
      "text/plain": [
       "<IPython.core.display.Markdown object>"
      ]
     },
     "metadata": {},
     "output_type": "display_data"
    },
    {
     "data": {
      "text/html": [
       "<a href='../data/LJSpeech-1.1/wavs/LJ041-0150.wav' target='_blank'>../data/LJSpeech-1.1/wavs/LJ041-0150.wav</a><br>"
      ],
      "text/plain": [
       "/Users/michaelp/Code/Tacotron-2/data/LJSpeech-1.1/wavs/LJ041-0150.wav"
      ]
     },
     "metadata": {},
     "output_type": "display_data"
    },
    {
     "data": {
      "text/markdown": [
       "\n",
       "\n",
       " ___"
      ],
      "text/plain": [
       "<IPython.core.display.Markdown object>"
      ]
     },
     "metadata": {},
     "output_type": "display_data"
    },
    {
     "data": {
      "text/markdown": [
       "**Text:** \"…y stated, I have between **25** and 40 cases assigned to…\""
      ],
      "text/plain": [
       "<IPython.core.display.Markdown object>"
      ]
     },
     "metadata": {},
     "output_type": "display_data"
    },
    {
     "data": {
      "text/html": [
       "<a href='../data/LJSpeech-1.1/wavs/LJ047-0184.wav' target='_blank'>../data/LJSpeech-1.1/wavs/LJ047-0184.wav</a><br>"
      ],
      "text/plain": [
       "/Users/michaelp/Code/Tacotron-2/data/LJSpeech-1.1/wavs/LJ047-0184.wav"
      ]
     },
     "metadata": {},
     "output_type": "display_data"
    },
    {
     "data": {
      "text/markdown": [
       "\n",
       "\n",
       " ___"
      ],
      "text/plain": [
       "<IPython.core.display.Markdown object>"
      ]
     },
     "metadata": {},
     "output_type": "display_data"
    },
    {
     "data": {
      "text/markdown": [
       "**Text:** \"… an area of 2 inches and **5** inches respectively.…\""
      ],
      "text/plain": [
       "<IPython.core.display.Markdown object>"
      ]
     },
     "metadata": {},
     "output_type": "display_data"
    },
    {
     "data": {
      "text/html": [
       "<a href='../data/LJSpeech-1.1/wavs/LJ039-0203.wav' target='_blank'>../data/LJSpeech-1.1/wavs/LJ039-0203.wav</a><br>"
      ],
      "text/plain": [
       "/Users/michaelp/Code/Tacotron-2/data/LJSpeech-1.1/wavs/LJ039-0203.wav"
      ]
     },
     "metadata": {},
     "output_type": "display_data"
    },
    {
     "data": {
      "text/markdown": [
       "\n",
       "\n",
       " ___"
      ],
      "text/plain": [
       "<IPython.core.display.Markdown object>"
      ]
     },
     "metadata": {},
     "output_type": "display_data"
    },
    {
     "data": {
      "text/markdown": [
       "**Text:** \"…**(7)** attempted, in April 1963…\""
      ],
      "text/plain": [
       "<IPython.core.display.Markdown object>"
      ]
     },
     "metadata": {},
     "output_type": "display_data"
    },
    {
     "data": {
      "text/html": [
       "<a href='../data/LJSpeech-1.1/wavs/LJ039-0247.wav' target='_blank'>../data/LJSpeech-1.1/wavs/LJ039-0247.wav</a><br>"
      ],
      "text/plain": [
       "/Users/michaelp/Code/Tacotron-2/data/LJSpeech-1.1/wavs/LJ039-0247.wav"
      ]
     },
     "metadata": {},
     "output_type": "display_data"
    },
    {
     "data": {
      "text/markdown": [
       "\n",
       "\n",
       " ___"
      ],
      "text/plain": [
       "<IPython.core.display.Markdown object>"
      ]
     },
     "metadata": {},
     "output_type": "display_data"
    },
    {
     "data": {
      "text/markdown": [
       "**Text:** \"…losed that on January 3, **1963,**…\""
      ],
      "text/plain": [
       "<IPython.core.display.Markdown object>"
      ]
     },
     "metadata": {},
     "output_type": "display_data"
    },
    {
     "data": {
      "text/html": [
       "<a href='../data/LJSpeech-1.1/wavs/LJ037-0186.wav' target='_blank'>../data/LJSpeech-1.1/wavs/LJ037-0186.wav</a><br>"
      ],
      "text/plain": [
       "/Users/michaelp/Code/Tacotron-2/data/LJSpeech-1.1/wavs/LJ037-0186.wav"
      ]
     },
     "metadata": {},
     "output_type": "display_data"
    },
    {
     "data": {
      "text/markdown": [
       "\n",
       "\n",
       " ___"
      ],
      "text/plain": [
       "<IPython.core.display.Markdown object>"
      ]
     },
     "metadata": {},
     "output_type": "display_data"
    },
    {
     "data": {
      "text/markdown": [
       "**Text:** \"… manifest which showed a **12** o'clock trip from Travis…\""
      ],
      "text/plain": [
       "<IPython.core.display.Markdown object>"
      ]
     },
     "metadata": {},
     "output_type": "display_data"
    },
    {
     "data": {
      "text/html": [
       "<a href='../data/LJSpeech-1.1/wavs/LJ036-0119.wav' target='_blank'>../data/LJSpeech-1.1/wavs/LJ036-0119.wav</a><br>"
      ],
      "text/plain": [
       "/Users/michaelp/Code/Tacotron-2/data/LJSpeech-1.1/wavs/LJ036-0119.wav"
      ]
     },
     "metadata": {},
     "output_type": "display_data"
    },
    {
     "data": {
      "text/markdown": [
       "\n",
       "\n",
       " ___"
      ],
      "text/plain": [
       "<IPython.core.display.Markdown object>"
      ]
     },
     "metadata": {},
     "output_type": "display_data"
    },
    {
     "data": {
      "text/markdown": [
       "**Text:** \"…and John Lancaster for **1** shilling, 8 pence, with …\""
      ],
      "text/plain": [
       "<IPython.core.display.Markdown object>"
      ]
     },
     "metadata": {},
     "output_type": "display_data"
    },
    {
     "data": {
      "text/html": [
       "<a href='../data/LJSpeech-1.1/wavs/LJ002-0160.wav' target='_blank'>../data/LJSpeech-1.1/wavs/LJ002-0160.wav</a><br>"
      ],
      "text/plain": [
       "/Users/michaelp/Code/Tacotron-2/data/LJSpeech-1.1/wavs/LJ002-0160.wav"
      ]
     },
     "metadata": {},
     "output_type": "display_data"
    },
    {
     "data": {
      "text/markdown": [
       "\n",
       "\n",
       " ___"
      ],
      "text/plain": [
       "<IPython.core.display.Markdown object>"
      ]
     },
     "metadata": {},
     "output_type": "display_data"
    },
    {
     "data": {
      "text/markdown": [
       "**Text:** \"… was first discovered in **1820,**…\""
      ],
      "text/plain": [
       "<IPython.core.display.Markdown object>"
      ]
     },
     "metadata": {},
     "output_type": "display_data"
    },
    {
     "data": {
      "text/html": [
       "<a href='../data/LJSpeech-1.1/wavs/LJ011-0018.wav' target='_blank'>../data/LJSpeech-1.1/wavs/LJ011-0018.wav</a><br>"
      ],
      "text/plain": [
       "/Users/michaelp/Code/Tacotron-2/data/LJSpeech-1.1/wavs/LJ011-0018.wav"
      ]
     },
     "metadata": {},
     "output_type": "display_data"
    },
    {
     "data": {
      "text/markdown": [
       "\n",
       "\n",
       " ___"
      ],
      "text/plain": [
       "<IPython.core.display.Markdown object>"
      ]
     },
     "metadata": {},
     "output_type": "display_data"
    },
    {
     "data": {
      "text/markdown": [
       "**Text:** \"…On September 30, **1952,** Lee enrolled in P.S. 117…\""
      ],
      "text/plain": [
       "<IPython.core.display.Markdown object>"
      ]
     },
     "metadata": {},
     "output_type": "display_data"
    },
    {
     "data": {
      "text/html": [
       "<a href='../data/LJSpeech-1.1/wavs/LJ040-0121.wav' target='_blank'>../data/LJSpeech-1.1/wavs/LJ040-0121.wav</a><br>"
      ],
      "text/plain": [
       "/Users/michaelp/Code/Tacotron-2/data/LJSpeech-1.1/wavs/LJ040-0121.wav"
      ]
     },
     "metadata": {},
     "output_type": "display_data"
    },
    {
     "data": {
      "text/markdown": [
       "\n",
       "\n",
       " ___"
      ],
      "text/plain": [
       "<IPython.core.display.Markdown object>"
      ]
     },
     "metadata": {},
     "output_type": "display_data"
    },
    {
     "data": {
      "text/markdown": [
       "**Text:** \"…he was told that **45** minutes had been allotte…\""
      ],
      "text/plain": [
       "<IPython.core.display.Markdown object>"
      ]
     },
     "metadata": {},
     "output_type": "display_data"
    },
    {
     "data": {
      "text/html": [
       "<a href='../data/LJSpeech-1.1/wavs/LJ029-0093.wav' target='_blank'>../data/LJSpeech-1.1/wavs/LJ029-0093.wav</a><br>"
      ],
      "text/plain": [
       "/Users/michaelp/Code/Tacotron-2/data/LJSpeech-1.1/wavs/LJ029-0093.wav"
      ]
     },
     "metadata": {},
     "output_type": "display_data"
    },
    {
     "data": {
      "text/markdown": [
       "\n",
       "\n",
       " ___"
      ],
      "text/plain": [
       "<IPython.core.display.Markdown object>"
      ]
     },
     "metadata": {},
     "output_type": "display_data"
    },
    {
     "data": {
      "text/markdown": [
       "**Text:** \"…metime after January 27, **1963,**…\""
      ],
      "text/plain": [
       "<IPython.core.display.Markdown object>"
      ]
     },
     "metadata": {},
     "output_type": "display_data"
    },
    {
     "data": {
      "text/html": [
       "<a href='../data/LJSpeech-1.1/wavs/LJ037-0191.wav' target='_blank'>../data/LJSpeech-1.1/wavs/LJ037-0191.wav</a><br>"
      ],
      "text/plain": [
       "/Users/michaelp/Code/Tacotron-2/data/LJSpeech-1.1/wavs/LJ037-0191.wav"
      ]
     },
     "metadata": {},
     "output_type": "display_data"
    },
    {
     "data": {
      "text/markdown": [
       "\n",
       "\n",
       " ___"
      ],
      "text/plain": [
       "<IPython.core.display.Markdown object>"
      ]
     },
     "metadata": {},
     "output_type": "display_data"
    },
    {
     "data": {
      "text/markdown": [
       "**Text:** \"…from 1832 to **1844** not a single person had …\""
      ],
      "text/plain": [
       "<IPython.core.display.Markdown object>"
      ]
     },
     "metadata": {},
     "output_type": "display_data"
    },
    {
     "data": {
      "text/html": [
       "<a href='../data/LJSpeech-1.1/wavs/LJ009-0173.wav' target='_blank'>../data/LJSpeech-1.1/wavs/LJ009-0173.wav</a><br>"
      ],
      "text/plain": [
       "/Users/michaelp/Code/Tacotron-2/data/LJSpeech-1.1/wavs/LJ009-0173.wav"
      ]
     },
     "metadata": {},
     "output_type": "display_data"
    },
    {
     "data": {
      "text/markdown": [
       "\n",
       "\n",
       " ___"
      ],
      "text/plain": [
       "<IPython.core.display.Markdown object>"
      ]
     },
     "metadata": {},
     "output_type": "display_data"
    },
    {
     "data": {
      "text/markdown": [
       "**Text:** \"…eekend of November 16 to **17,** 1963, the weekend before…\""
      ],
      "text/plain": [
       "<IPython.core.display.Markdown object>"
      ]
     },
     "metadata": {},
     "output_type": "display_data"
    },
    {
     "data": {
      "text/html": [
       "<a href='../data/LJSpeech-1.1/wavs/LJ045-0029.wav' target='_blank'>../data/LJSpeech-1.1/wavs/LJ045-0029.wav</a><br>"
      ],
      "text/plain": [
       "/Users/michaelp/Code/Tacotron-2/data/LJSpeech-1.1/wavs/LJ045-0029.wav"
      ]
     },
     "metadata": {},
     "output_type": "display_data"
    },
    {
     "data": {
      "text/markdown": [
       "\n",
       "\n",
       " ___"
      ],
      "text/plain": [
       "<IPython.core.display.Markdown object>"
      ]
     },
     "metadata": {},
     "output_type": "display_data"
    },
    {
     "data": {
      "text/markdown": [
       "**Text:** \"…In the **6** to 8 minute period befor…\""
      ],
      "text/plain": [
       "<IPython.core.display.Markdown object>"
      ]
     },
     "metadata": {},
     "output_type": "display_data"
    },
    {
     "data": {
      "text/html": [
       "<a href='../data/LJSpeech-1.1/wavs/LJ034-0098.wav' target='_blank'>../data/LJSpeech-1.1/wavs/LJ034-0098.wav</a><br>"
      ],
      "text/plain": [
       "/Users/michaelp/Code/Tacotron-2/data/LJSpeech-1.1/wavs/LJ034-0098.wav"
      ]
     },
     "metadata": {},
     "output_type": "display_data"
    },
    {
     "data": {
      "text/markdown": [
       "\n",
       "\n",
       " ___"
      ],
      "text/plain": [
       "<IPython.core.display.Markdown object>"
      ]
     },
     "metadata": {},
     "output_type": "display_data"
    },
    {
     "data": {
      "text/markdown": [
       "**Text:** \"…served in a report dated **1820,**…\""
      ],
      "text/plain": [
       "<IPython.core.display.Markdown object>"
      ]
     },
     "metadata": {},
     "output_type": "display_data"
    },
    {
     "data": {
      "text/html": [
       "<a href='../data/LJSpeech-1.1/wavs/LJ004-0249.wav' target='_blank'>../data/LJSpeech-1.1/wavs/LJ004-0249.wav</a><br>"
      ],
      "text/plain": [
       "/Users/michaelp/Code/Tacotron-2/data/LJSpeech-1.1/wavs/LJ004-0249.wav"
      ]
     },
     "metadata": {},
     "output_type": "display_data"
    },
    {
     "data": {
      "text/markdown": [
       "\n",
       "\n",
       " ___"
      ],
      "text/plain": [
       "<IPython.core.display.Markdown object>"
      ]
     },
     "metadata": {},
     "output_type": "display_data"
    },
    {
     "data": {
      "text/markdown": [
       "**Text:** \"…icles of Newgate, Volume **2.** By Arthur Griffiths. Sec…\""
      ],
      "text/plain": [
       "<IPython.core.display.Markdown object>"
      ]
     },
     "metadata": {},
     "output_type": "display_data"
    },
    {
     "data": {
      "text/html": [
       "<a href='../data/LJSpeech-1.1/wavs/LJ018-0001.wav' target='_blank'>../data/LJSpeech-1.1/wavs/LJ018-0001.wav</a><br>"
      ],
      "text/plain": [
       "/Users/michaelp/Code/Tacotron-2/data/LJSpeech-1.1/wavs/LJ018-0001.wav"
      ]
     },
     "metadata": {},
     "output_type": "display_data"
    },
    {
     "data": {
      "text/markdown": [
       "\n",
       "\n",
       " ___"
      ],
      "text/plain": [
       "<IPython.core.display.Markdown object>"
      ]
     },
     "metadata": {},
     "output_type": "display_data"
    },
    {
     "data": {
      "text/markdown": [
       "**Text:** \"…atters went on after the **1865** Act much the same as the…\""
      ],
      "text/plain": [
       "<IPython.core.display.Markdown object>"
      ]
     },
     "metadata": {},
     "output_type": "display_data"
    },
    {
     "data": {
      "text/html": [
       "<a href='../data/LJSpeech-1.1/wavs/LJ019-0379.wav' target='_blank'>../data/LJSpeech-1.1/wavs/LJ019-0379.wav</a><br>"
      ],
      "text/plain": [
       "/Users/michaelp/Code/Tacotron-2/data/LJSpeech-1.1/wavs/LJ019-0379.wav"
      ]
     },
     "metadata": {},
     "output_type": "display_data"
    },
    {
     "data": {
      "text/markdown": [
       "\n",
       "\n",
       " ___"
      ],
      "text/plain": [
       "<IPython.core.display.Markdown object>"
      ]
     },
     "metadata": {},
     "output_type": "display_data"
    },
    {
     "data": {
      "text/markdown": [
       "**Text:** \"…On November **4,** Hosty telephoned the Tex…\""
      ],
      "text/plain": [
       "<IPython.core.display.Markdown object>"
      ]
     },
     "metadata": {},
     "output_type": "display_data"
    },
    {
     "data": {
      "text/html": [
       "<a href='../data/LJSpeech-1.1/wavs/LJ047-0167.wav' target='_blank'>../data/LJSpeech-1.1/wavs/LJ047-0167.wav</a><br>"
      ],
      "text/plain": [
       "/Users/michaelp/Code/Tacotron-2/data/LJSpeech-1.1/wavs/LJ047-0167.wav"
      ]
     },
     "metadata": {},
     "output_type": "display_data"
    },
    {
     "data": {
      "text/markdown": [
       "\n",
       "\n",
       " ___"
      ],
      "text/plain": [
       "<IPython.core.display.Markdown object>"
      ]
     },
     "metadata": {},
     "output_type": "display_data"
    },
    {
     "data": {
      "text/markdown": [
       "**Text:** \"…er 4. The Assassin: Part **8.**…\""
      ],
      "text/plain": [
       "<IPython.core.display.Markdown object>"
      ]
     },
     "metadata": {},
     "output_type": "display_data"
    },
    {
     "data": {
      "text/html": [
       "<a href='../data/LJSpeech-1.1/wavs/LJ039-0004.wav' target='_blank'>../data/LJSpeech-1.1/wavs/LJ039-0004.wav</a><br>"
      ],
      "text/plain": [
       "/Users/michaelp/Code/Tacotron-2/data/LJSpeech-1.1/wavs/LJ039-0004.wav"
      ]
     },
     "metadata": {},
     "output_type": "display_data"
    },
    {
     "data": {
      "text/markdown": [
       "\n",
       "\n",
       " ___"
      ],
      "text/plain": [
       "<IPython.core.display.Markdown object>"
      ]
     },
     "metadata": {},
     "output_type": "display_data"
    },
    {
     "data": {
      "text/markdown": [
       "**Text:** \"…during the summer of **1963.**…\""
      ],
      "text/plain": [
       "<IPython.core.display.Markdown object>"
      ]
     },
     "metadata": {},
     "output_type": "display_data"
    },
    {
     "data": {
      "text/html": [
       "<a href='../data/LJSpeech-1.1/wavs/LJ032-0247.wav' target='_blank'>../data/LJSpeech-1.1/wavs/LJ032-0247.wav</a><br>"
      ],
      "text/plain": [
       "/Users/michaelp/Code/Tacotron-2/data/LJSpeech-1.1/wavs/LJ032-0247.wav"
      ]
     },
     "metadata": {},
     "output_type": "display_data"
    },
    {
     "data": {
      "text/markdown": [
       "\n",
       "\n",
       " ___"
      ],
      "text/plain": [
       "<IPython.core.display.Markdown object>"
      ]
     },
     "metadata": {},
     "output_type": "display_data"
    },
    {
     "data": {
      "text/markdown": [
       "**Text:** \"…ss prison for debtors in **1815.**…\""
      ],
      "text/plain": [
       "<IPython.core.display.Markdown object>"
      ]
     },
     "metadata": {},
     "output_type": "display_data"
    },
    {
     "data": {
      "text/html": [
       "<a href='../data/LJSpeech-1.1/wavs/LJ002-0272.wav' target='_blank'>../data/LJSpeech-1.1/wavs/LJ002-0272.wav</a><br>"
      ],
      "text/plain": [
       "/Users/michaelp/Code/Tacotron-2/data/LJSpeech-1.1/wavs/LJ002-0272.wav"
      ]
     },
     "metadata": {},
     "output_type": "display_data"
    },
    {
     "data": {
      "text/markdown": [
       "\n",
       "\n",
       " ___"
      ],
      "text/plain": [
       "<IPython.core.display.Markdown object>"
      ]
     },
     "metadata": {},
     "output_type": "display_data"
    },
    {
     "data": {
      "text/markdown": [
       "**Text:** \"…ues combined amounted to **£27,000.**…\""
      ],
      "text/plain": [
       "<IPython.core.display.Markdown object>"
      ]
     },
     "metadata": {},
     "output_type": "display_data"
    },
    {
     "data": {
      "text/html": [
       "<a href='../data/LJSpeech-1.1/wavs/LJ015-0084.wav' target='_blank'>../data/LJSpeech-1.1/wavs/LJ015-0084.wav</a><br>"
      ],
      "text/plain": [
       "/Users/michaelp/Code/Tacotron-2/data/LJSpeech-1.1/wavs/LJ015-0084.wav"
      ]
     },
     "metadata": {},
     "output_type": "display_data"
    },
    {
     "data": {
      "text/markdown": [
       "\n",
       "\n",
       " ___"
      ],
      "text/plain": [
       "<IPython.core.display.Markdown object>"
      ]
     },
     "metadata": {},
     "output_type": "display_data"
    },
    {
     "data": {
      "text/markdown": [
       "**Text:** \"…rifle and the scope, and **$1.50** for postage and handling…\""
      ],
      "text/plain": [
       "<IPython.core.display.Markdown object>"
      ]
     },
     "metadata": {},
     "output_type": "display_data"
    },
    {
     "data": {
      "text/html": [
       "<a href='../data/LJSpeech-1.1/wavs/LJ032-0045.wav' target='_blank'>../data/LJSpeech-1.1/wavs/LJ032-0045.wav</a><br>"
      ],
      "text/plain": [
       "/Users/michaelp/Code/Tacotron-2/data/LJSpeech-1.1/wavs/LJ032-0045.wav"
      ]
     },
     "metadata": {},
     "output_type": "display_data"
    },
    {
     "data": {
      "text/markdown": [
       "\n",
       "\n",
       " ___"
      ],
      "text/plain": [
       "<IPython.core.display.Markdown object>"
      ]
     },
     "metadata": {},
     "output_type": "display_data"
    },
    {
     "data": {
      "text/markdown": [
       "**Text:** \"…o FBI agents on February **19,** 1964,…\""
      ],
      "text/plain": [
       "<IPython.core.display.Markdown object>"
      ]
     },
     "metadata": {},
     "output_type": "display_data"
    },
    {
     "data": {
      "text/html": [
       "<a href='../data/LJSpeech-1.1/wavs/LJ039-0012.wav' target='_blank'>../data/LJSpeech-1.1/wavs/LJ039-0012.wav</a><br>"
      ],
      "text/plain": [
       "/Users/michaelp/Code/Tacotron-2/data/LJSpeech-1.1/wavs/LJ039-0012.wav"
      ]
     },
     "metadata": {},
     "output_type": "display_data"
    },
    {
     "data": {
      "text/markdown": [
       "\n",
       "\n",
       " ___"
      ],
      "text/plain": [
       "<IPython.core.display.Markdown object>"
      ]
     },
     "metadata": {},
     "output_type": "display_data"
    },
    {
     "data": {
      "text/markdown": [
       "**Text:** \"…On November 23, **1963,**…\""
      ],
      "text/plain": [
       "<IPython.core.display.Markdown object>"
      ]
     },
     "metadata": {},
     "output_type": "display_data"
    },
    {
     "data": {
      "text/html": [
       "<a href='../data/LJSpeech-1.1/wavs/LJ032-0158.wav' target='_blank'>../data/LJSpeech-1.1/wavs/LJ032-0158.wav</a><br>"
      ],
      "text/plain": [
       "/Users/michaelp/Code/Tacotron-2/data/LJSpeech-1.1/wavs/LJ032-0158.wav"
      ]
     },
     "metadata": {},
     "output_type": "display_data"
    },
    {
     "data": {
      "text/markdown": [
       "\n",
       "\n",
       " ___"
      ],
      "text/plain": [
       "<IPython.core.display.Markdown object>"
      ]
     },
     "metadata": {},
     "output_type": "display_data"
    },
    {
     "data": {
      "text/markdown": [
       "**Text:** \"…distance of 100 yards in **5.9,** 6.2,…\""
      ],
      "text/plain": [
       "<IPython.core.display.Markdown object>"
      ]
     },
     "metadata": {},
     "output_type": "display_data"
    },
    {
     "data": {
      "text/html": [
       "<a href='../data/LJSpeech-1.1/wavs/LJ039-0204.wav' target='_blank'>../data/LJSpeech-1.1/wavs/LJ039-0204.wav</a><br>"
      ],
      "text/plain": [
       "/Users/michaelp/Code/Tacotron-2/data/LJSpeech-1.1/wavs/LJ039-0204.wav"
      ]
     },
     "metadata": {},
     "output_type": "display_data"
    },
    {
     "data": {
      "text/markdown": [
       "\n",
       "\n",
       " ___"
      ],
      "text/plain": [
       "<IPython.core.display.Markdown object>"
      ]
     },
     "metadata": {},
     "output_type": "display_data"
    },
    {
     "data": {
      "text/markdown": [
       "**Text:** \"…Mr. Gee had invested **£1200** of this, and was seeking…\""
      ],
      "text/plain": [
       "<IPython.core.display.Markdown object>"
      ]
     },
     "metadata": {},
     "output_type": "display_data"
    },
    {
     "data": {
      "text/html": [
       "<a href='../data/LJSpeech-1.1/wavs/LJ011-0267.wav' target='_blank'>../data/LJSpeech-1.1/wavs/LJ011-0267.wav</a><br>"
      ],
      "text/plain": [
       "/Users/michaelp/Code/Tacotron-2/data/LJSpeech-1.1/wavs/LJ011-0267.wav"
      ]
     },
     "metadata": {},
     "output_type": "display_data"
    },
    {
     "data": {
      "text/markdown": [
       "\n",
       "\n",
       " ___"
      ],
      "text/plain": [
       "<IPython.core.display.Markdown object>"
      ]
     },
     "metadata": {},
     "output_type": "display_data"
    },
    {
     "data": {
      "text/markdown": [
       "**Text:** \"…ons, until the spring of **1948.**…\""
      ],
      "text/plain": [
       "<IPython.core.display.Markdown object>"
      ]
     },
     "metadata": {},
     "output_type": "display_data"
    },
    {
     "data": {
      "text/html": [
       "<a href='../data/LJSpeech-1.1/wavs/LJ040-0077.wav' target='_blank'>../data/LJSpeech-1.1/wavs/LJ040-0077.wav</a><br>"
      ],
      "text/plain": [
       "/Users/michaelp/Code/Tacotron-2/data/LJSpeech-1.1/wavs/LJ040-0077.wav"
      ]
     },
     "metadata": {},
     "output_type": "display_data"
    },
    {
     "data": {
      "text/markdown": [
       "\n",
       "\n",
       " ___"
      ],
      "text/plain": [
       "<IPython.core.display.Markdown object>"
      ]
     },
     "metadata": {},
     "output_type": "display_data"
    },
    {
     "data": {
      "text/markdown": [
       "**Text:** \"…As reported in chapter **2,** when the special file wa…\""
      ],
      "text/plain": [
       "<IPython.core.display.Markdown object>"
      ]
     },
     "metadata": {},
     "output_type": "display_data"
    },
    {
     "data": {
      "text/html": [
       "<a href='../data/LJSpeech-1.1/wavs/LJ046-0237.wav' target='_blank'>../data/LJSpeech-1.1/wavs/LJ046-0237.wav</a><br>"
      ],
      "text/plain": [
       "/Users/michaelp/Code/Tacotron-2/data/LJSpeech-1.1/wavs/LJ046-0237.wav"
      ]
     },
     "metadata": {},
     "output_type": "display_data"
    },
    {
     "data": {
      "text/markdown": [
       "\n",
       "\n",
       " ___"
      ],
      "text/plain": [
       "<IPython.core.display.Markdown object>"
      ]
     },
     "metadata": {},
     "output_type": "display_data"
    },
    {
     "data": {
      "text/markdown": [
       "**Text:** \"…robbery there were still **£6000** worth in the warehouse.…\""
      ],
      "text/plain": [
       "<IPython.core.display.Markdown object>"
      ]
     },
     "metadata": {},
     "output_type": "display_data"
    },
    {
     "data": {
      "text/html": [
       "<a href='../data/LJSpeech-1.1/wavs/LJ012-0097.wav' target='_blank'>../data/LJSpeech-1.1/wavs/LJ012-0097.wav</a><br>"
      ],
      "text/plain": [
       "/Users/michaelp/Code/Tacotron-2/data/LJSpeech-1.1/wavs/LJ012-0097.wav"
      ]
     },
     "metadata": {},
     "output_type": "display_data"
    },
    {
     "data": {
      "text/markdown": [
       "\n",
       "\n",
       " ___"
      ],
      "text/plain": [
       "<IPython.core.display.Markdown object>"
      ]
     },
     "metadata": {},
     "output_type": "display_data"
    },
    {
     "data": {
      "text/markdown": [
       "**Text:** \"…**3.** I paid the house rent on…\""
      ],
      "text/plain": [
       "<IPython.core.display.Markdown object>"
      ]
     },
     "metadata": {},
     "output_type": "display_data"
    },
    {
     "data": {
      "text/html": [
       "<a href='../data/LJSpeech-1.1/wavs/LJ038-0190.wav' target='_blank'>../data/LJSpeech-1.1/wavs/LJ038-0190.wav</a><br>"
      ],
      "text/plain": [
       "/Users/michaelp/Code/Tacotron-2/data/LJSpeech-1.1/wavs/LJ038-0190.wav"
      ]
     },
     "metadata": {},
     "output_type": "display_data"
    },
    {
     "data": {
      "text/markdown": [
       "\n",
       "\n",
       " ___"
      ],
      "text/plain": [
       "<IPython.core.display.Markdown object>"
      ]
     },
     "metadata": {},
     "output_type": "display_data"
    },
    {
     "data": {
      "text/markdown": [
       "**Text:** \"…**6.** Projects will be allocat…\""
      ],
      "text/plain": [
       "<IPython.core.display.Markdown object>"
      ]
     },
     "metadata": {},
     "output_type": "display_data"
    },
    {
     "data": {
      "text/html": [
       "<a href='../data/LJSpeech-1.1/wavs/LJ022-0083.wav' target='_blank'>../data/LJSpeech-1.1/wavs/LJ022-0083.wav</a><br>"
      ],
      "text/plain": [
       "/Users/michaelp/Code/Tacotron-2/data/LJSpeech-1.1/wavs/LJ022-0083.wav"
      ]
     },
     "metadata": {},
     "output_type": "display_data"
    },
    {
     "data": {
      "text/markdown": [
       "\n",
       "\n",
       " ___"
      ],
      "text/plain": [
       "<IPython.core.display.Markdown object>"
      ]
     },
     "metadata": {},
     "output_type": "display_data"
    },
    {
     "data": {
      "text/markdown": [
       "**Text:** \"…**7.** Certain of my documents …\""
      ],
      "text/plain": [
       "<IPython.core.display.Markdown object>"
      ]
     },
     "metadata": {},
     "output_type": "display_data"
    },
    {
     "data": {
      "text/html": [
       "<a href='../data/LJSpeech-1.1/wavs/LJ038-0194.wav' target='_blank'>../data/LJSpeech-1.1/wavs/LJ038-0194.wav</a><br>"
      ],
      "text/plain": [
       "/Users/michaelp/Code/Tacotron-2/data/LJSpeech-1.1/wavs/LJ038-0194.wav"
      ]
     },
     "metadata": {},
     "output_type": "display_data"
    },
    {
     "data": {
      "text/markdown": [
       "\n",
       "\n",
       " ___"
      ],
      "text/plain": [
       "<IPython.core.display.Markdown object>"
      ]
     },
     "metadata": {},
     "output_type": "display_data"
    },
    {
     "data": {
      "text/markdown": [
       "**Text:** \"…ffered on the 29th June, **1809,**…\""
      ],
      "text/plain": [
       "<IPython.core.display.Markdown object>"
      ]
     },
     "metadata": {},
     "output_type": "display_data"
    },
    {
     "data": {
      "text/html": [
       "<a href='../data/LJSpeech-1.1/wavs/LJ008-0020.wav' target='_blank'>../data/LJSpeech-1.1/wavs/LJ008-0020.wav</a><br>"
      ],
      "text/plain": [
       "/Users/michaelp/Code/Tacotron-2/data/LJSpeech-1.1/wavs/LJ008-0020.wav"
      ]
     },
     "metadata": {},
     "output_type": "display_data"
    },
    {
     "data": {
      "text/markdown": [
       "\n",
       "\n",
       " ___"
      ],
      "text/plain": [
       "<IPython.core.display.Markdown object>"
      ]
     },
     "metadata": {},
     "output_type": "display_data"
    },
    {
     "data": {
      "text/markdown": [
       "**Text:** \"…there were approximately **400** persons throughout the c…\""
      ],
      "text/plain": [
       "<IPython.core.display.Markdown object>"
      ]
     },
     "metadata": {},
     "output_type": "display_data"
    },
    {
     "data": {
      "text/html": [
       "<a href='../data/LJSpeech-1.1/wavs/LJ046-0174.wav' target='_blank'>../data/LJSpeech-1.1/wavs/LJ046-0174.wav</a><br>"
      ],
      "text/plain": [
       "/Users/michaelp/Code/Tacotron-2/data/LJSpeech-1.1/wavs/LJ046-0174.wav"
      ]
     },
     "metadata": {},
     "output_type": "display_data"
    },
    {
     "data": {
      "text/markdown": [
       "\n",
       "\n",
       " ___"
      ],
      "text/plain": [
       "<IPython.core.display.Markdown object>"
      ]
     },
     "metadata": {},
     "output_type": "display_data"
    },
    {
     "data": {
      "text/markdown": [
       "**Text:** \"…Texas on November 21 and **22,**…\""
      ],
      "text/plain": [
       "<IPython.core.display.Markdown object>"
      ]
     },
     "metadata": {},
     "output_type": "display_data"
    },
    {
     "data": {
      "text/html": [
       "<a href='../data/LJSpeech-1.1/wavs/LJ029-0175.wav' target='_blank'>../data/LJSpeech-1.1/wavs/LJ029-0175.wav</a><br>"
      ],
      "text/plain": [
       "/Users/michaelp/Code/Tacotron-2/data/LJSpeech-1.1/wavs/LJ029-0175.wav"
      ]
     },
     "metadata": {},
     "output_type": "display_data"
    },
    {
     "data": {
      "text/markdown": [
       "\n",
       "\n",
       " ___"
      ],
      "text/plain": [
       "<IPython.core.display.Markdown object>"
      ]
     },
     "metadata": {},
     "output_type": "display_data"
    },
    {
     "data": {
      "text/markdown": [
       "**Text:** \"… Frazier at the range of **25** yards landed within an a…\""
      ],
      "text/plain": [
       "<IPython.core.display.Markdown object>"
      ]
     },
     "metadata": {},
     "output_type": "display_data"
    },
    {
     "data": {
      "text/html": [
       "<a href='../data/LJSpeech-1.1/wavs/LJ039-0203.wav' target='_blank'>../data/LJSpeech-1.1/wavs/LJ039-0203.wav</a><br>"
      ],
      "text/plain": [
       "/Users/michaelp/Code/Tacotron-2/data/LJSpeech-1.1/wavs/LJ039-0203.wav"
      ]
     },
     "metadata": {},
     "output_type": "display_data"
    },
    {
     "data": {
      "text/markdown": [
       "\n",
       "\n",
       " ___"
      ],
      "text/plain": [
       "<IPython.core.display.Markdown object>"
      ]
     },
     "metadata": {},
     "output_type": "display_data"
    },
    {
     "data": {
      "text/markdown": [
       "**Text:** \"…. postal money order for **$21.45,**…\""
      ],
      "text/plain": [
       "<IPython.core.display.Markdown object>"
      ]
     },
     "metadata": {},
     "output_type": "display_data"
    },
    {
     "data": {
      "text/html": [
       "<a href='../data/LJSpeech-1.1/wavs/LJ032-0035.wav' target='_blank'>../data/LJSpeech-1.1/wavs/LJ032-0035.wav</a><br>"
      ],
      "text/plain": [
       "/Users/michaelp/Code/Tacotron-2/data/LJSpeech-1.1/wavs/LJ032-0035.wav"
      ]
     },
     "metadata": {},
     "output_type": "display_data"
    },
    {
     "data": {
      "text/markdown": [
       "\n",
       "\n",
       " ___"
      ],
      "text/plain": [
       "<IPython.core.display.Markdown object>"
      ]
     },
     "metadata": {},
     "output_type": "display_data"
    }
   ],
   "source": [
    "find_examples(r'\\S*(\\d+)\\S*', display_n=100, replace=False, group=0, load_audio=False)"
   ]
  },
  {
   "cell_type": "markdown",
   "metadata": {},
   "source": [
    "## Special Cases"
   ]
  },
  {
   "cell_type": "code",
   "execution_count": 4,
   "metadata": {},
   "outputs": [
    {
     "data": {
      "text/markdown": [
       "In the year 562, after a long reign of forty-three years, Nebuchadnezzar died. → In the year five sixty-two, after a long reign of forty-three years, Nebuchadnezzar died."
      ],
      "text/plain": [
       "<IPython.core.display.Markdown object>"
      ]
     },
     "metadata": {},
     "output_type": "display_data"
    },
    {
     "data": {
      "text/markdown": [
       "to call in 100 extra off-duty officers to help protect President Kennedy. → to call in one hundred extra off-duty officers to help protect President Kennedy."
      ],
      "text/plain": [
       "<IPython.core.display.Markdown object>"
      ]
     },
     "metadata": {},
     "output_type": "display_data"
    },
    {
     "data": {
      "text/markdown": [
       "purchased as No. 2,202,130,462 in Dallas, Texas, on March 12, 1963. → purchased as No. two two zero two one three zero four six two in Dallas, Texas, on March 12, 1963."
      ],
      "text/plain": [
       "<IPython.core.display.Markdown object>"
      ]
     },
     "metadata": {},
     "output_type": "display_data"
    },
    {
     "data": {
      "text/markdown": [
       "On September 30, 1952, Lee enrolled in P.S. 117 → On September 30, 1952, Lee enrolled in P.S. one seventeen"
      ],
      "text/plain": [
       "<IPython.core.display.Markdown object>"
      ]
     },
     "metadata": {},
     "output_type": "display_data"
    },
    {
     "data": {
      "text/markdown": [
       "While the legend, quote, FPCC, 544 Camp Street New Orleans, Louisiana, end quote, → While the legend, quote, FPCC, five four four Camp Street New Orleans, Louisiana, end quote,"
      ],
      "text/plain": [
       "<IPython.core.display.Markdown object>"
      ]
     },
     "metadata": {},
     "output_type": "display_data"
    },
    {
     "data": {
      "text/markdown": [
       "Agent Hosty was told by Mrs. M. F. Tobias, a former landlady of the Oswalds at 602 Elsbeth Street in Dallas, → Agent Hosty was told by Mrs. M. F. Tobias, a former landlady of the Oswalds at six oh two Elsbeth Street in Dallas,"
      ],
      "text/plain": [
       "<IPython.core.display.Markdown object>"
      ]
     },
     "metadata": {},
     "output_type": "display_data"
    },
    {
     "data": {
      "text/markdown": [
       "that the Oswalds were living at 214 Neely Street in Dallas. → that the Oswalds were living at two one four Neely Street in Dallas."
      ],
      "text/plain": [
       "<IPython.core.display.Markdown object>"
      ]
     },
     "metadata": {},
     "output_type": "display_data"
    },
    {
     "data": {
      "text/markdown": [
       "found it to be 411 Elm Street. End quote. → found it to be four one one Elm Street. End quote."
      ],
      "text/plain": [
       "<IPython.core.display.Markdown object>"
      ]
     },
     "metadata": {},
     "output_type": "display_data"
    }
   ],
   "source": [
    "import os\n",
    "\n",
    "from IPython.display import Markdown\n",
    "from IPython.display import FileLink\n",
    "\n",
    "lookup = {\n",
    "    'LJ044-0055': ('544 Camp Street New', 'five four four Camp Street New'),\n",
    "    'LJ028-0180': ('In the year 562', 'In the year five sixty-two'),\n",
    "    'LJ047-0063': ('602 Elsbeth Street', 'six oh two Elsbeth Street'),\n",
    "    'LJ047-0160': ('411 Elm Street', 'four one one Elm Street'),\n",
    "    'LJ047-0069': ('214 Neely Street', 'two one four Neely Street'),\n",
    "    'LJ040-0121': ('P.S. 117', 'P.S. one seventeen'),\n",
    "    'LJ032-0036': ('No. 2,202,130,462', 'No. two two zero two one three zero four six two'),\n",
    "    'LJ029-0193': ('100 extra off-duty', 'one hundred extra off-duty'),\n",
    "}\n",
    "\n",
    "def special_cases():\n",
    "    for row in data:\n",
    "        basename = os.path.basename(row['wav']).split('.')[0]\n",
    "        if basename in lookup:\n",
    "            original = row['text']\n",
    "            row['text'] = row['text'].replace(*lookup[basename])\n",
    "            display(Markdown(original + ' → ' + row['text']))\n",
    "\n",
    "special_cases()"
   ]
  },
  {
   "cell_type": "markdown",
   "metadata": {},
   "source": [
    "## Time of the Day"
   ]
  },
  {
   "cell_type": "code",
   "execution_count": 5,
   "metadata": {
    "scrolled": true
   },
   "outputs": [
    {
     "data": {
      "text/markdown": [
       "### Examples Captured by Regex"
      ],
      "text/plain": [
       "<IPython.core.display.Markdown object>"
      ]
     },
     "metadata": {},
     "output_type": "display_data"
    },
    {
     "data": {
      "text/markdown": [
       "**Regex:** ([0-9]{1,2}:[0-9]{1,2})"
      ],
      "text/plain": [
       "<IPython.core.display.Markdown object>"
      ]
     },
     "metadata": {},
     "output_type": "display_data"
    },
    {
     "data": {
      "text/markdown": [
       "**Number of Examples:** 84"
      ],
      "text/plain": [
       "<IPython.core.display.Markdown object>"
      ]
     },
     "metadata": {},
     "output_type": "display_data"
    },
    {
     "data": {
      "text/markdown": [
       "**Number of Examples Shown:** 5"
      ],
      "text/plain": [
       "<IPython.core.display.Markdown object>"
      ]
     },
     "metadata": {},
     "output_type": "display_data"
    },
    {
     "data": {
      "text/markdown": [
       "\n",
       "\n",
       " ___"
      ],
      "text/plain": [
       "<IPython.core.display.Markdown object>"
      ]
     },
     "metadata": {},
     "output_type": "display_data"
    },
    {
     "data": {
      "text/markdown": [
       "**Text:** \"…XXXXX p.m., and again at **12:55** p.m.…\""
      ],
      "text/plain": [
       "<IPython.core.display.Markdown object>"
      ]
     },
     "metadata": {},
     "output_type": "display_data"
    },
    {
     "data": {
      "text/html": [
       "<a href='../data/LJSpeech-1.1/wavs/LJ036-0206.wav' target='_blank'>../data/LJSpeech-1.1/wavs/LJ036-0206.wav</a><br>"
      ],
      "text/plain": [
       "/Users/michaelp/Code/Tacotron-2/data/LJSpeech-1.1/wavs/LJ036-0206.wav"
      ]
     },
     "metadata": {},
     "output_type": "display_data"
    },
    {
     "data": {
      "text/markdown": [
       "\n",
       "\n",
       " ___"
      ],
      "text/plain": [
       "<IPython.core.display.Markdown object>"
      ]
     },
     "metadata": {},
     "output_type": "display_data"
    },
    {
     "data": {
      "text/markdown": [
       "**Text:** \"…have arrived there about **12:59** to 1 p.m.…\""
      ],
      "text/plain": [
       "<IPython.core.display.Markdown object>"
      ]
     },
     "metadata": {},
     "output_type": "display_data"
    },
    {
     "data": {
      "text/html": [
       "<a href='../data/LJSpeech-1.1/wavs/LJ036-0171.wav' target='_blank'>../data/LJSpeech-1.1/wavs/LJ036-0171.wav</a><br>"
      ],
      "text/plain": [
       "/Users/michaelp/Code/Tacotron-2/data/LJSpeech-1.1/wavs/LJ036-0171.wav"
      ]
     },
     "metadata": {},
     "output_type": "display_data"
    },
    {
     "data": {
      "text/markdown": [
       "\n",
       "\n",
       " ___"
      ],
      "text/plain": [
       "<IPython.core.display.Markdown object>"
      ]
     },
     "metadata": {},
     "output_type": "display_data"
    },
    {
     "data": {
      "text/markdown": [
       "**Text:** \"…XX or XXXX a.m. to about **2:45** or 3 a.m.;…\""
      ],
      "text/plain": [
       "<IPython.core.display.Markdown object>"
      ]
     },
     "metadata": {},
     "output_type": "display_data"
    },
    {
     "data": {
      "text/html": [
       "<a href='../data/LJSpeech-1.1/wavs/LJ048-0237.wav' target='_blank'>../data/LJSpeech-1.1/wavs/LJ048-0237.wav</a><br>"
      ],
      "text/plain": [
       "/Users/michaelp/Code/Tacotron-2/data/LJSpeech-1.1/wavs/LJ048-0237.wav"
      ]
     },
     "metadata": {},
     "output_type": "display_data"
    },
    {
     "data": {
      "text/markdown": [
       "\n",
       "\n",
       " ___"
      ],
      "text/plain": [
       "<IPython.core.display.Markdown object>"
      ]
     },
     "metadata": {},
     "output_type": "display_data"
    },
    {
     "data": {
      "text/markdown": [
       "**Text:** \"…ination at approximately **12:54** p.m.…\""
      ],
      "text/plain": [
       "<IPython.core.display.Markdown object>"
      ]
     },
     "metadata": {},
     "output_type": "display_data"
    },
    {
     "data": {
      "text/html": [
       "<a href='../data/LJSpeech-1.1/wavs/LJ036-0169.wav' target='_blank'>../data/LJSpeech-1.1/wavs/LJ036-0169.wav</a><br>"
      ],
      "text/plain": [
       "/Users/michaelp/Code/Tacotron-2/data/LJSpeech-1.1/wavs/LJ036-0169.wav"
      ]
     },
     "metadata": {},
     "output_type": "display_data"
    },
    {
     "data": {
      "text/markdown": [
       "\n",
       "\n",
       " ___"
      ],
      "text/plain": [
       "<IPython.core.display.Markdown object>"
      ]
     },
     "metadata": {},
     "output_type": "display_data"
    },
    {
     "data": {
      "text/markdown": [
       "**Text:** \"…At approximately **12:45** p.m., Dr. Robert Shaw,…\""
      ],
      "text/plain": [
       "<IPython.core.display.Markdown object>"
      ]
     },
     "metadata": {},
     "output_type": "display_data"
    },
    {
     "data": {
      "text/html": [
       "<a href='../data/LJSpeech-1.1/wavs/LJ031-0104.wav' target='_blank'>../data/LJSpeech-1.1/wavs/LJ031-0104.wav</a><br>"
      ],
      "text/plain": [
       "/Users/michaelp/Code/Tacotron-2/data/LJSpeech-1.1/wavs/LJ031-0104.wav"
      ]
     },
     "metadata": {},
     "output_type": "display_data"
    },
    {
     "data": {
      "text/markdown": [
       "\n",
       "\n",
       " ___"
      ],
      "text/plain": [
       "<IPython.core.display.Markdown object>"
      ]
     },
     "metadata": {},
     "output_type": "display_data"
    }
   ],
   "source": [
    "regex = r'([0-9]{1,2}:[0-9]{1,2})'\n",
    "find_examples(regex)"
   ]
  },
  {
   "cell_type": "code",
   "execution_count": 6,
   "metadata": {
    "scrolled": false
   },
   "outputs": [
    {
     "data": {
      "text/markdown": [
       "9:30 → nine thirty (nine thirty)"
      ],
      "text/plain": [
       "<IPython.core.display.Markdown object>"
      ]
     },
     "metadata": {},
     "output_type": "display_data"
    },
    {
     "data": {
      "text/markdown": [
       "1:30 → one thirty (one thirty)"
      ],
      "text/plain": [
       "<IPython.core.display.Markdown object>"
      ]
     },
     "metadata": {},
     "output_type": "display_data"
    },
    {
     "data": {
      "text/markdown": [
       "1:51 → one fifty-one (one fifty-one)"
      ],
      "text/plain": [
       "<IPython.core.display.Markdown object>"
      ]
     },
     "metadata": {},
     "output_type": "display_data"
    }
   ],
   "source": [
    "from IPython.display import Markdown\n",
    "from functools import partial\n",
    "from num2words import num2words\n",
    "\n",
    "cases = [\n",
    "    ('alone in the shop about 9:30', 'nine thirty'),\n",
    "    ('San Antonio at 1:30 p.m.,', 'one thirty'),\n",
    "    ('At 1:51 p.m., police car 2 report', 'one fifty-one'),\n",
    "]\n",
    "\n",
    "def replace(text, true):\n",
    "    split = text.split(':')\n",
    "    assert len(split) == 2\n",
    "    words = [num2words(int(num)) for num in split]\n",
    "    ret = ' '.join(words)\n",
    "    display(Markdown(text + ' → ' + ret + ' (' + true + ')'))\n",
    "    return ret\n",
    "\n",
    "for text in cases:\n",
    "    _iterate_and_replace(regex, text[0], partial(replace, true=text[1]))"
   ]
  },
  {
   "cell_type": "markdown",
   "metadata": {},
   "source": [
    "## Ordinals"
   ]
  },
  {
   "cell_type": "code",
   "execution_count": 7,
   "metadata": {
    "scrolled": true
   },
   "outputs": [
    {
     "data": {
      "text/markdown": [
       "### Examples Captured by Regex"
      ],
      "text/plain": [
       "<IPython.core.display.Markdown object>"
      ]
     },
     "metadata": {},
     "output_type": "display_data"
    },
    {
     "data": {
      "text/markdown": [
       "**Regex:** ([0-9]+(st|nd|rd|th))"
      ],
      "text/plain": [
       "<IPython.core.display.Markdown object>"
      ]
     },
     "metadata": {},
     "output_type": "display_data"
    },
    {
     "data": {
      "text/markdown": [
       "**Number of Examples:** 71"
      ],
      "text/plain": [
       "<IPython.core.display.Markdown object>"
      ]
     },
     "metadata": {},
     "output_type": "display_data"
    },
    {
     "data": {
      "text/markdown": [
       "**Number of Examples Shown:** 5"
      ],
      "text/plain": [
       "<IPython.core.display.Markdown object>"
      ]
     },
     "metadata": {},
     "output_type": "display_data"
    },
    {
     "data": {
      "text/markdown": [
       "\n",
       "\n",
       " ___"
      ],
      "text/plain": [
       "<IPython.core.display.Markdown object>"
      ]
     },
     "metadata": {},
     "output_type": "display_data"
    },
    {
     "data": {
      "text/markdown": [
       "**Text:** \"…d with his escort on the **17th** September the same year.…\""
      ],
      "text/plain": [
       "<IPython.core.display.Markdown object>"
      ]
     },
     "metadata": {},
     "output_type": "display_data"
    },
    {
     "data": {
      "text/html": [
       "<a href='../data/LJSpeech-1.1/wavs/LJ018-0039.wav' target='_blank'>../data/LJSpeech-1.1/wavs/LJ018-0039.wav</a><br>"
      ],
      "text/plain": [
       "/Users/michaelp/Code/Tacotron-2/data/LJSpeech-1.1/wavs/LJ018-0039.wav"
      ]
     },
     "metadata": {},
     "output_type": "display_data"
    },
    {
     "data": {
      "text/markdown": [
       "\n",
       "\n",
       " ___"
      ],
      "text/plain": [
       "<IPython.core.display.Markdown object>"
      ]
     },
     "metadata": {},
     "output_type": "display_data"
    },
    {
     "data": {
      "text/markdown": [
       "**Text:** \"…ssed the intersection of **10th** and Patton, about eight …\""
      ],
      "text/plain": [
       "<IPython.core.display.Markdown object>"
      ]
     },
     "metadata": {},
     "output_type": "display_data"
    },
    {
     "data": {
      "text/html": [
       "<a href='../data/LJSpeech-1.1/wavs/LJ036-0211.wav' target='_blank'>../data/LJSpeech-1.1/wavs/LJ036-0211.wav</a><br>"
      ],
      "text/plain": [
       "/Users/michaelp/Code/Tacotron-2/data/LJSpeech-1.1/wavs/LJ036-0211.wav"
      ]
     },
     "metadata": {},
     "output_type": "display_data"
    },
    {
     "data": {
      "text/markdown": [
       "\n",
       "\n",
       " ___"
      ],
      "text/plain": [
       "<IPython.core.display.Markdown object>"
      ]
     },
     "metadata": {},
     "output_type": "display_data"
    },
    {
     "data": {
      "text/markdown": [
       "**Text:** \"…He looked west on **10th** and saw a man running to…\""
      ],
      "text/plain": [
       "<IPython.core.display.Markdown object>"
      ]
     },
     "metadata": {},
     "output_type": "display_data"
    },
    {
     "data": {
      "text/html": [
       "<a href='../data/LJSpeech-1.1/wavs/LJ037-0094.wav' target='_blank'>../data/LJSpeech-1.1/wavs/LJ037-0094.wav</a><br>"
      ],
      "text/plain": [
       "/Users/michaelp/Code/Tacotron-2/data/LJSpeech-1.1/wavs/LJ037-0094.wav"
      ]
     },
     "metadata": {},
     "output_type": "display_data"
    },
    {
     "data": {
      "text/markdown": [
       "\n",
       "\n",
       " ___"
      ],
      "text/plain": [
       "<IPython.core.display.Markdown object>"
      ]
     },
     "metadata": {},
     "output_type": "display_data"
    },
    {
     "data": {
      "text/markdown": [
       "**Text:** \"…he would have reached **10th** and Patton shortly after…\""
      ],
      "text/plain": [
       "<IPython.core.display.Markdown object>"
      ]
     },
     "metadata": {},
     "output_type": "display_data"
    },
    {
     "data": {
      "text/html": [
       "<a href='../data/LJSpeech-1.1/wavs/LJ036-0191.wav' target='_blank'>../data/LJSpeech-1.1/wavs/LJ036-0191.wav</a><br>"
      ],
      "text/plain": [
       "/Users/michaelp/Code/Tacotron-2/data/LJSpeech-1.1/wavs/LJ036-0191.wav"
      ]
     },
     "metadata": {},
     "output_type": "display_data"
    },
    {
     "data": {
      "text/markdown": [
       "\n",
       "\n",
       " ___"
      ],
      "text/plain": [
       "<IPython.core.display.Markdown object>"
      ]
     },
     "metadata": {},
     "output_type": "display_data"
    },
    {
     "data": {
      "text/markdown": [
       "**Text:** \"…ses found on the lawn at **10th** Street and Patton Avenue…\""
      ],
      "text/plain": [
       "<IPython.core.display.Markdown object>"
      ]
     },
     "metadata": {},
     "output_type": "display_data"
    },
    {
     "data": {
      "text/html": [
       "<a href='../data/LJSpeech-1.1/wavs/LJ037-0174.wav' target='_blank'>../data/LJSpeech-1.1/wavs/LJ037-0174.wav</a><br>"
      ],
      "text/plain": [
       "/Users/michaelp/Code/Tacotron-2/data/LJSpeech-1.1/wavs/LJ037-0174.wav"
      ]
     },
     "metadata": {},
     "output_type": "display_data"
    },
    {
     "data": {
      "text/markdown": [
       "\n",
       "\n",
       " ___"
      ],
      "text/plain": [
       "<IPython.core.display.Markdown object>"
      ]
     },
     "metadata": {},
     "output_type": "display_data"
    }
   ],
   "source": [
    "regex = r'([0-9]+(st|nd|rd|th))'\n",
    "find_examples(regex)"
   ]
  },
  {
   "cell_type": "code",
   "execution_count": 8,
   "metadata": {
    "scrolled": false
   },
   "outputs": [
    {
     "data": {
      "text/markdown": [
       "13th → thirteenth (thirteenth)"
      ],
      "text/plain": [
       "<IPython.core.display.Markdown object>"
      ]
     },
     "metadata": {},
     "output_type": "display_data"
    },
    {
     "data": {
      "text/markdown": [
       "23rd → twenty-third (twenty-third)"
      ],
      "text/plain": [
       "<IPython.core.display.Markdown object>"
      ]
     },
     "metadata": {},
     "output_type": "display_data"
    },
    {
     "data": {
      "text/markdown": [
       "1st → first (first)"
      ],
      "text/plain": [
       "<IPython.core.display.Markdown object>"
      ]
     },
     "metadata": {},
     "output_type": "display_data"
    },
    {
     "data": {
      "text/markdown": [
       "30th → thirtieth (thirtieth)"
      ],
      "text/plain": [
       "<IPython.core.display.Markdown object>"
      ]
     },
     "metadata": {},
     "output_type": "display_data"
    }
   ],
   "source": [
    "from IPython.display import Markdown\n",
    "from functools import partial\n",
    "\n",
    "from num2words import num2words\n",
    "\n",
    "cases = [('shortly before Lee\\'s 13th birthday', 'thirteenth'), \n",
    "         ('On October 23rd, I had attended a ultra', 'twenty-third'),\n",
    "         ('between May 1st, 1827,', 'first'),\n",
    "         ('and 30th April, 1831,', 'thirtieth')]\n",
    "\n",
    "def replace(text, true):\n",
    "    digit = ''.join([c for c in text if c.isdigit()])\n",
    "    ret = num2words(int(digit), ordinal=True)\n",
    "    display(Markdown(text + ' → ' + ret + ' (' + true + ')'))\n",
    "    return ret\n",
    "\n",
    "\n",
    "for text in cases:\n",
    "    _iterate_and_replace(regex, text[0], partial(replace, true=text[1]))"
   ]
  },
  {
   "cell_type": "markdown",
   "metadata": {},
   "source": [
    "## Money (dollars or pounds)"
   ]
  },
  {
   "cell_type": "code",
   "execution_count": 9,
   "metadata": {
    "scrolled": true
   },
   "outputs": [
    {
     "data": {
      "text/markdown": [
       "### Examples Captured by Regex"
      ],
      "text/plain": [
       "<IPython.core.display.Markdown object>"
      ]
     },
     "metadata": {},
     "output_type": "display_data"
    },
    {
     "data": {
      "text/markdown": [
       "**Regex:** (\\S*([$£]{1}[0-9\\,\\.]+\\b))"
      ],
      "text/plain": [
       "<IPython.core.display.Markdown object>"
      ]
     },
     "metadata": {},
     "output_type": "display_data"
    },
    {
     "data": {
      "text/markdown": [
       "**Number of Examples:** 128"
      ],
      "text/plain": [
       "<IPython.core.display.Markdown object>"
      ]
     },
     "metadata": {},
     "output_type": "display_data"
    },
    {
     "data": {
      "text/markdown": [
       "**Number of Examples Shown:** 5"
      ],
      "text/plain": [
       "<IPython.core.display.Markdown object>"
      ]
     },
     "metadata": {},
     "output_type": "display_data"
    },
    {
     "data": {
      "text/markdown": [
       "\n",
       "\n",
       " ___"
      ],
      "text/plain": [
       "<IPython.core.display.Markdown object>"
      ]
     },
     "metadata": {},
     "output_type": "display_data"
    },
    {
     "data": {
      "text/markdown": [
       "**Text:** \"… bought by the Crown for **£10,500**.…\""
      ],
      "text/plain": [
       "<IPython.core.display.Markdown object>"
      ]
     },
     "metadata": {},
     "output_type": "display_data"
    },
    {
     "data": {
      "text/html": [
       "<a href='../data/LJSpeech-1.1/wavs/LJ002-0199.wav' target='_blank'>../data/LJSpeech-1.1/wavs/LJ002-0199.wav</a><br>"
      ],
      "text/plain": [
       "/Users/michaelp/Code/Tacotron-2/data/LJSpeech-1.1/wavs/LJ002-0199.wav"
      ]
     },
     "metadata": {},
     "output_type": "display_data"
    },
    {
     "data": {
      "text/markdown": [
       "\n",
       "\n",
       " ___"
      ],
      "text/plain": [
       "<IPython.core.display.Markdown object>"
      ]
     },
     "metadata": {},
     "output_type": "display_data"
    },
    {
     "data": {
      "text/markdown": [
       "**Text:** \"…XXXX on alterations, but **£60,000** would suffice to reconst…\""
      ],
      "text/plain": [
       "<IPython.core.display.Markdown object>"
      ]
     },
     "metadata": {},
     "output_type": "display_data"
    },
    {
     "data": {
      "text/html": [
       "<a href='../data/LJSpeech-1.1/wavs/LJ019-0184.wav' target='_blank'>../data/LJSpeech-1.1/wavs/LJ019-0184.wav</a><br>"
      ],
      "text/plain": [
       "/Users/michaelp/Code/Tacotron-2/data/LJSpeech-1.1/wavs/LJ019-0184.wav"
      ]
     },
     "metadata": {},
     "output_type": "display_data"
    },
    {
     "data": {
      "text/markdown": [
       "\n",
       "\n",
       " ___"
      ],
      "text/plain": [
       "<IPython.core.display.Markdown object>"
      ]
     },
     "metadata": {},
     "output_type": "display_data"
    },
    {
     "data": {
      "text/markdown": [
       "**Text:** \"…nt of debts sued for was **£81,791**.…\""
      ],
      "text/plain": [
       "<IPython.core.display.Markdown object>"
      ]
     },
     "metadata": {},
     "output_type": "display_data"
    },
    {
     "data": {
      "text/html": [
       "<a href='../data/LJSpeech-1.1/wavs/LJ002-0127.wav' target='_blank'>../data/LJSpeech-1.1/wavs/LJ002-0127.wav</a><br>"
      ],
      "text/plain": [
       "/Users/michaelp/Code/Tacotron-2/data/LJSpeech-1.1/wavs/LJ002-0127.wav"
      ]
     },
     "metadata": {},
     "output_type": "display_data"
    },
    {
     "data": {
      "text/markdown": [
       "\n",
       "\n",
       " ___"
      ],
      "text/plain": [
       "<IPython.core.display.Markdown object>"
      ]
     },
     "metadata": {},
     "output_type": "display_data"
    },
    {
     "data": {
      "text/markdown": [
       "**Text:** \"…warden, whose income was **£2372**.…\""
      ],
      "text/plain": [
       "<IPython.core.display.Markdown object>"
      ]
     },
     "metadata": {},
     "output_type": "display_data"
    },
    {
     "data": {
      "text/html": [
       "<a href='../data/LJSpeech-1.1/wavs/LJ002-0225.wav' target='_blank'>../data/LJSpeech-1.1/wavs/LJ002-0225.wav</a><br>"
      ],
      "text/plain": [
       "/Users/michaelp/Code/Tacotron-2/data/LJSpeech-1.1/wavs/LJ002-0225.wav"
      ]
     },
     "metadata": {},
     "output_type": "display_data"
    },
    {
     "data": {
      "text/markdown": [
       "\n",
       "\n",
       " ___"
      ],
      "text/plain": [
       "<IPython.core.display.Markdown object>"
      ]
     },
     "metadata": {},
     "output_type": "display_data"
    },
    {
     "data": {
      "text/markdown": [
       "**Text:** \"…963, included an item of **$21.45**. Klein's shipping order …\""
      ],
      "text/plain": [
       "<IPython.core.display.Markdown object>"
      ]
     },
     "metadata": {},
     "output_type": "display_data"
    },
    {
     "data": {
      "text/html": [
       "<a href='../data/LJSpeech-1.1/wavs/LJ032-0043.wav' target='_blank'>../data/LJSpeech-1.1/wavs/LJ032-0043.wav</a><br>"
      ],
      "text/plain": [
       "/Users/michaelp/Code/Tacotron-2/data/LJSpeech-1.1/wavs/LJ032-0043.wav"
      ]
     },
     "metadata": {},
     "output_type": "display_data"
    },
    {
     "data": {
      "text/markdown": [
       "\n",
       "\n",
       " ___"
      ],
      "text/plain": [
       "<IPython.core.display.Markdown object>"
      ]
     },
     "metadata": {},
     "output_type": "display_data"
    }
   ],
   "source": [
    "regex = r'(\\S*([$£]{1}[0-9\\,\\.]+\\b))'\n",
    "find_examples(regex)"
   ]
  },
  {
   "cell_type": "code",
   "execution_count": 10,
   "metadata": {},
   "outputs": [
    {
     "data": {
      "text/markdown": [
       "£4000 → four thousand pounds (four thousand pounds)"
      ],
      "text/plain": [
       "<IPython.core.display.Markdown object>"
      ]
     },
     "metadata": {},
     "output_type": "display_data"
    },
    {
     "data": {
      "text/markdown": [
       "$29.95 → twenty-nine dollars, ninety-five cents (twenty-nine dollars, ninety-five cents)"
      ],
      "text/plain": [
       "<IPython.core.display.Markdown object>"
      ]
     },
     "metadata": {},
     "output_type": "display_data"
    },
    {
     "data": {
      "text/markdown": [
       "£50,000 → fifty thousand pounds (fifty thousand pounds)"
      ],
      "text/plain": [
       "<IPython.core.display.Markdown object>"
      ]
     },
     "metadata": {},
     "output_type": "display_data"
    },
    {
     "data": {
      "text/markdown": [
       "£2372 → two thousand, three hundred seventy-two pounds (two thousand, three hundred seventy-two pounds)"
      ],
      "text/plain": [
       "<IPython.core.display.Markdown object>"
      ]
     },
     "metadata": {},
     "output_type": "display_data"
    },
    {
     "data": {
      "text/markdown": [
       "$1.27 → one dollar, twenty-seven cents (one dollar, twenty-seven cents)"
      ],
      "text/plain": [
       "<IPython.core.display.Markdown object>"
      ]
     },
     "metadata": {},
     "output_type": "display_data"
    },
    {
     "data": {
      "text/markdown": [
       "$19.95 → nineteen dollars, ninety-five cents (nighteen dollars, nighty-five cents)"
      ],
      "text/plain": [
       "<IPython.core.display.Markdown object>"
      ]
     },
     "metadata": {},
     "output_type": "display_data"
    },
    {
     "data": {
      "text/markdown": [
       "£367,800 → three hundred sixty-seven thousand, eight hundred pounds (three hundred sixty-seven thousand and eight hundred pounds)"
      ],
      "text/plain": [
       "<IPython.core.display.Markdown object>"
      ]
     },
     "metadata": {},
     "output_type": "display_data"
    },
    {
     "data": {
      "text/markdown": [
       "£1500 → one thousand, five hundred pounds (fifteen hundred pounds)"
      ],
      "text/plain": [
       "<IPython.core.display.Markdown object>"
      ]
     },
     "metadata": {},
     "output_type": "display_data"
    },
    {
     "data": {
      "text/markdown": [
       "£1000 → one thousand pounds (one thousand pounds each)"
      ],
      "text/plain": [
       "<IPython.core.display.Markdown object>"
      ]
     },
     "metadata": {},
     "output_type": "display_data"
    },
    {
     "data": {
      "text/markdown": [
       "$3,000,000 → three million dollars (three million)"
      ],
      "text/plain": [
       "<IPython.core.display.Markdown object>"
      ]
     },
     "metadata": {},
     "output_type": "display_data"
    },
    {
     "data": {
      "text/markdown": [
       "£1750 → one thousand, seven hundred fifty pounds (one thousand seven-fifty pounds)"
      ],
      "text/plain": [
       "<IPython.core.display.Markdown object>"
      ]
     },
     "metadata": {},
     "output_type": "display_data"
    },
    {
     "data": {
      "text/markdown": [
       "£1200 → one thousand, two hundred pounds (one thousand, two hundred pounds)"
      ],
      "text/plain": [
       "<IPython.core.display.Markdown object>"
      ]
     },
     "metadata": {},
     "output_type": "display_data"
    }
   ],
   "source": [
    "from IPython.display import Markdown\n",
    "\n",
    "from functools import partial\n",
    "from num2words import num2words\n",
    "\n",
    "cases = [('rough diamonds valued at £4000.', 'four thousand pounds'), \n",
    "         ('inch BBL, unquote, cost $29.95.', 'twenty-nine dollars, ninety-five cents'),\n",
    "         ('was indebted upwards of £50,000 subsequently stopped pay', 'fifty thousand pounds'),\n",
    "         ('warden, whose income was £2372.', 'two thousand, three hundred seventy-two pounds'),\n",
    "         ('plus $1.27', 'one dollar, twenty-seven cents'),\n",
    "         ('$19.95,', 'nighteen dollars, nighty-five cents'),\n",
    "         ('were out to the value of £367,800.', 'three hundred sixty-seven thousand and eight hundred pounds'),\n",
    "         ('the offer of a reward of £1500 for the detection of the', 'fifteen hundred pounds'),\n",
    "         ('of England notes for £1000 each,', 'one thousand pounds each'),\n",
    "         ('of approximately $3,000,000 during that period', 'three million'),\n",
    "         ('only afford to give £1750 for stones', 'one thousand seven-fifty pounds'),\n",
    "         ('e surrender of the other £1200', 'one thousand, two hundred pounds')]\n",
    "\n",
    "def replace(text, true):\n",
    "    digit = text[1:].replace(',', '')\n",
    "    ret = num2words(digit, to='currency', currency='USD')\n",
    "    ret = ret.replace(', zero cents', '')\n",
    "    ret = ret.replace('hundred and', 'hundred')\n",
    "    if '£' in text:\n",
    "        # num2words has bugs with their GBP current\n",
    "        ret = ret.replace('dollar', 'pound')\n",
    "        ret = ret.replace('cents', 'pence')\n",
    "        ret = ret.replace('cent', 'penny')\n",
    "    display(Markdown(text + ' → ' + ret + ' (' + true + ')'))\n",
    "    return ret\n",
    "\n",
    "for text in cases:\n",
    "    _iterate_and_replace(regex, text[0], partial(replace, true=text[1]))"
   ]
  },
  {
   "cell_type": "code",
   "execution_count": 11,
   "metadata": {},
   "outputs": [
    {
     "data": {
      "text/markdown": [
       "### Examples Captured by Regex"
      ],
      "text/plain": [
       "<IPython.core.display.Markdown object>"
      ]
     },
     "metadata": {},
     "output_type": "display_data"
    },
    {
     "data": {
      "text/markdown": [
       "**Regex:** ([$£])"
      ],
      "text/plain": [
       "<IPython.core.display.Markdown object>"
      ]
     },
     "metadata": {},
     "output_type": "display_data"
    },
    {
     "data": {
      "text/markdown": [
       "**Number of Examples:** 0"
      ],
      "text/plain": [
       "<IPython.core.display.Markdown object>"
      ]
     },
     "metadata": {},
     "output_type": "display_data"
    },
    {
     "data": {
      "text/markdown": [
       "**Number of Examples Shown:** 0"
      ],
      "text/plain": [
       "<IPython.core.display.Markdown object>"
      ]
     },
     "metadata": {},
     "output_type": "display_data"
    },
    {
     "data": {
      "text/markdown": [
       "\n",
       "\n",
       " ___"
      ],
      "text/plain": [
       "<IPython.core.display.Markdown object>"
      ]
     },
     "metadata": {},
     "output_type": "display_data"
    }
   ],
   "source": [
    "# No more currency examples\n",
    "find_examples(r'([$£])', replace=False)"
   ]
  },
  {
   "cell_type": "markdown",
   "metadata": {},
   "source": [
    "## PO Box Numbers & Serial Numbers"
   ]
  },
  {
   "cell_type": "code",
   "execution_count": 12,
   "metadata": {
    "scrolled": true
   },
   "outputs": [
    {
     "data": {
      "text/markdown": [
       "### Examples Captured by Regex"
      ],
      "text/plain": [
       "<IPython.core.display.Markdown object>"
      ]
     },
     "metadata": {},
     "output_type": "display_data"
    },
    {
     "data": {
      "text/markdown": [
       "**Regex:** ([Bb]ox [0-9]+\\b)"
      ],
      "text/plain": [
       "<IPython.core.display.Markdown object>"
      ]
     },
     "metadata": {},
     "output_type": "display_data"
    },
    {
     "data": {
      "text/markdown": [
       "**Number of Examples:** 14"
      ],
      "text/plain": [
       "<IPython.core.display.Markdown object>"
      ]
     },
     "metadata": {},
     "output_type": "display_data"
    },
    {
     "data": {
      "text/markdown": [
       "**Number of Examples Shown:** 5"
      ],
      "text/plain": [
       "<IPython.core.display.Markdown object>"
      ]
     },
     "metadata": {},
     "output_type": "display_data"
    },
    {
     "data": {
      "text/markdown": [
       "\n",
       "\n",
       " ___"
      ],
      "text/plain": [
       "<IPython.core.display.Markdown object>"
      ]
     },
     "metadata": {},
     "output_type": "display_data"
    },
    {
     "data": {
      "text/markdown": [
       "**Text:** \"…inting, \"A. Hidell, P.O. **Box 2915**, Dallas, Texas.\"…\""
      ],
      "text/plain": [
       "<IPython.core.display.Markdown object>"
      ]
     },
     "metadata": {},
     "output_type": "display_data"
    },
    {
     "data": {
      "text/html": [
       "<a href='../data/LJSpeech-1.1/wavs/LJ032-0029.wav' target='_blank'>../data/LJSpeech-1.1/wavs/LJ032-0029.wav</a><br>"
      ],
      "text/plain": [
       "/Users/michaelp/Code/Tacotron-2/data/LJSpeech-1.1/wavs/LJ032-0029.wav"
      ]
     },
     "metadata": {},
     "output_type": "display_data"
    },
    {
     "data": {
      "text/markdown": [
       "\n",
       "\n",
       " ___"
      ],
      "text/plain": [
       "<IPython.core.display.Markdown object>"
      ]
     },
     "metadata": {},
     "output_type": "display_data"
    },
    {
     "data": {
      "text/markdown": [
       "**Text:** \"…e words \"A. Hidell, P.O. **Box 2915** Dallas, Texas.\"…\""
      ],
      "text/plain": [
       "<IPython.core.display.Markdown object>"
      ]
     },
     "metadata": {},
     "output_type": "display_data"
    },
    {
     "data": {
      "text/html": [
       "<a href='../data/LJSpeech-1.1/wavs/LJ032-0040.wav' target='_blank'>../data/LJSpeech-1.1/wavs/LJ032-0040.wav</a><br>"
      ],
      "text/plain": [
       "/Users/michaelp/Code/Tacotron-2/data/LJSpeech-1.1/wavs/LJ032-0040.wav"
      ]
     },
     "metadata": {},
     "output_type": "display_data"
    },
    {
     "data": {
      "text/markdown": [
       "\n",
       "\n",
       " ___"
      ],
      "text/plain": [
       "<IPython.core.display.Markdown object>"
      ]
     },
     "metadata": {},
     "output_type": "display_data"
    },
    {
     "data": {
      "text/markdown": [
       "**Text:** \"…. J. Hidell, Post Office **Box 2915**, Dallas, Texas.…\""
      ],
      "text/plain": [
       "<IPython.core.display.Markdown object>"
      ]
     },
     "metadata": {},
     "output_type": "display_data"
    },
    {
     "data": {
      "text/html": [
       "<a href='../data/LJSpeech-1.1/wavs/LJ037-0204.wav' target='_blank'>../data/LJSpeech-1.1/wavs/LJ037-0204.wav</a><br>"
      ],
      "text/plain": [
       "/Users/michaelp/Code/Tacotron-2/data/LJSpeech-1.1/wavs/LJ037-0204.wav"
      ]
     },
     "metadata": {},
     "output_type": "display_data"
    },
    {
     "data": {
      "text/markdown": [
       "\n",
       "\n",
       " ___"
      ],
      "text/plain": [
       "<IPython.core.display.Markdown object>"
      ]
     },
     "metadata": {},
     "output_type": "display_data"
    },
    {
     "data": {
      "text/markdown": [
       "**Text:** \"…Post Office **Box 2915**, Dallas, Texas, on March…\""
      ],
      "text/plain": [
       "<IPython.core.display.Markdown object>"
      ]
     },
     "metadata": {},
     "output_type": "display_data"
    },
    {
     "data": {
      "text/html": [
       "<a href='../data/LJSpeech-1.1/wavs/LJ032-0026.wav' target='_blank'>../data/LJSpeech-1.1/wavs/LJ032-0026.wav</a><br>"
      ],
      "text/plain": [
       "/Users/michaelp/Code/Tacotron-2/data/LJSpeech-1.1/wavs/LJ032-0026.wav"
      ]
     },
     "metadata": {},
     "output_type": "display_data"
    },
    {
     "data": {
      "text/markdown": [
       "\n",
       "\n",
       " ___"
      ],
      "text/plain": [
       "<IPython.core.display.Markdown object>"
      ]
     },
     "metadata": {},
     "output_type": "display_data"
    },
    {
     "data": {
      "text/markdown": [
       "**Text:** \"…d had rented post office **box 30061** in New Orleans on June 3…\""
      ],
      "text/plain": [
       "<IPython.core.display.Markdown object>"
      ]
     },
     "metadata": {},
     "output_type": "display_data"
    },
    {
     "data": {
      "text/html": [
       "<a href='../data/LJSpeech-1.1/wavs/LJ032-0093.wav' target='_blank'>../data/LJSpeech-1.1/wavs/LJ032-0093.wav</a><br>"
      ],
      "text/plain": [
       "/Users/michaelp/Code/Tacotron-2/data/LJSpeech-1.1/wavs/LJ032-0093.wav"
      ]
     },
     "metadata": {},
     "output_type": "display_data"
    },
    {
     "data": {
      "text/markdown": [
       "\n",
       "\n",
       " ___"
      ],
      "text/plain": [
       "<IPython.core.display.Markdown object>"
      ]
     },
     "metadata": {},
     "output_type": "display_data"
    }
   ],
   "source": [
    "find_examples(r'([Bb]ox [0-9]+\\b)')"
   ]
  },
  {
   "cell_type": "code",
   "execution_count": 13,
   "metadata": {
    "scrolled": true
   },
   "outputs": [
    {
     "data": {
      "text/markdown": [
       "### Examples Captured by Regex"
      ],
      "text/plain": [
       "<IPython.core.display.Markdown object>"
      ]
     },
     "metadata": {},
     "output_type": "display_data"
    },
    {
     "data": {
      "text/markdown": [
       "**Regex:** (\\b[A-Za-z]+[0-9]+\\b)"
      ],
      "text/plain": [
       "<IPython.core.display.Markdown object>"
      ]
     },
     "metadata": {},
     "output_type": "display_data"
    },
    {
     "data": {
      "text/markdown": [
       "**Number of Examples:** 16"
      ],
      "text/plain": [
       "<IPython.core.display.Markdown object>"
      ]
     },
     "metadata": {},
     "output_type": "display_data"
    },
    {
     "data": {
      "text/markdown": [
       "**Number of Examples Shown:** 5"
      ],
      "text/plain": [
       "<IPython.core.display.Markdown object>"
      ]
     },
     "metadata": {},
     "output_type": "display_data"
    },
    {
     "data": {
      "text/markdown": [
       "\n",
       "\n",
       " ___"
      ],
      "text/plain": [
       "<IPython.core.display.Markdown object>"
      ]
     },
     "metadata": {},
     "output_type": "display_data"
    },
    {
     "data": {
      "text/markdown": [
       "**Text:** \"…control number **VC836**, serial number C2766, wa…\""
      ],
      "text/plain": [
       "<IPython.core.display.Markdown object>"
      ]
     },
     "metadata": {},
     "output_type": "display_data"
    },
    {
     "data": {
      "text/html": [
       "<a href='../data/LJSpeech-1.1/wavs/LJ032-0053.wav' target='_blank'>../data/LJSpeech-1.1/wavs/LJ032-0053.wav</a><br>"
      ],
      "text/plain": [
       "/Users/michaelp/Code/Tacotron-2/data/LJSpeech-1.1/wavs/LJ032-0053.wav"
      ]
     },
     "metadata": {},
     "output_type": "display_data"
    },
    {
     "data": {
      "text/markdown": [
       "\n",
       "\n",
       " ___"
      ],
      "text/plain": [
       "<IPython.core.display.Markdown object>"
      ]
     },
     "metadata": {},
     "output_type": "display_data"
    },
    {
     "data": {
      "text/markdown": [
       "**Text:** \"…son revolver, serial No. **V510210**,…\""
      ],
      "text/plain": [
       "<IPython.core.display.Markdown object>"
      ]
     },
     "metadata": {},
     "output_type": "display_data"
    },
    {
     "data": {
      "text/html": [
       "<a href='../data/LJSpeech-1.1/wavs/LJ037-0188.wav' target='_blank'>../data/LJSpeech-1.1/wavs/LJ037-0188.wav</a><br>"
      ],
      "text/plain": [
       "/Users/michaelp/Code/Tacotron-2/data/LJSpeech-1.1/wavs/LJ037-0188.wav"
      ]
     },
     "metadata": {},
     "output_type": "display_data"
    },
    {
     "data": {
      "text/markdown": [
       "\n",
       "\n",
       " ___"
      ],
      "text/plain": [
       "<IPython.core.display.Markdown object>"
      ]
     },
     "metadata": {},
     "output_type": "display_data"
    },
    {
     "data": {
      "text/markdown": [
       "**Text:** \"… internal control number **VC836** on this rifle.…\""
      ],
      "text/plain": [
       "<IPython.core.display.Markdown object>"
      ]
     },
     "metadata": {},
     "output_type": "display_data"
    },
    {
     "data": {
      "text/html": [
       "<a href='../data/LJSpeech-1.1/wavs/LJ032-0051.wav' target='_blank'>../data/LJSpeech-1.1/wavs/LJ032-0051.wav</a><br>"
      ],
      "text/plain": [
       "/Users/michaelp/Code/Tacotron-2/data/LJSpeech-1.1/wavs/LJ032-0051.wav"
      ]
     },
     "metadata": {},
     "output_type": "display_data"
    },
    {
     "data": {
      "text/markdown": [
       "\n",
       "\n",
       " ___"
      ],
      "text/plain": [
       "<IPython.core.display.Markdown object>"
      ]
     },
     "metadata": {},
     "output_type": "display_data"
    },
    {
     "data": {
      "text/markdown": [
       "**Text:** \"…ano rifle, serial number **C2766**,…\""
      ],
      "text/plain": [
       "<IPython.core.display.Markdown object>"
      ]
     },
     "metadata": {},
     "output_type": "display_data"
    },
    {
     "data": {
      "text/html": [
       "<a href='../data/LJSpeech-1.1/wavs/LJ033-0004.wav' target='_blank'>../data/LJSpeech-1.1/wavs/LJ033-0004.wav</a><br>"
      ],
      "text/plain": [
       "/Users/michaelp/Code/Tacotron-2/data/LJSpeech-1.1/wavs/LJ033-0004.wav"
      ]
     },
     "metadata": {},
     "output_type": "display_data"
    },
    {
     "data": {
      "text/markdown": [
       "\n",
       "\n",
       " ___"
      ],
      "text/plain": [
       "<IPython.core.display.Markdown object>"
      ]
     },
     "metadata": {},
     "output_type": "display_data"
    },
    {
     "data": {
      "text/markdown": [
       "**Text:** \"…facturer's serial number **C2766**.…\""
      ],
      "text/plain": [
       "<IPython.core.display.Markdown object>"
      ]
     },
     "metadata": {},
     "output_type": "display_data"
    },
    {
     "data": {
      "text/html": [
       "<a href='../data/LJSpeech-1.1/wavs/LJ032-0050.wav' target='_blank'>../data/LJSpeech-1.1/wavs/LJ032-0050.wav</a><br>"
      ],
      "text/plain": [
       "/Users/michaelp/Code/Tacotron-2/data/LJSpeech-1.1/wavs/LJ032-0050.wav"
      ]
     },
     "metadata": {},
     "output_type": "display_data"
    },
    {
     "data": {
      "text/markdown": [
       "\n",
       "\n",
       " ___"
      ],
      "text/plain": [
       "<IPython.core.display.Markdown object>"
      ]
     },
     "metadata": {},
     "output_type": "display_data"
    }
   ],
   "source": [
    "find_examples(r'(\\b[A-Za-z]+[0-9]+\\b)')"
   ]
  },
  {
   "cell_type": "code",
   "execution_count": 14,
   "metadata": {},
   "outputs": [
    {
     "data": {
      "text/markdown": [
       "Box 2915 → Box two nine one five (two nine one five)"
      ],
      "text/plain": [
       "<IPython.core.display.Markdown object>"
      ]
     },
     "metadata": {},
     "output_type": "display_data"
    },
    {
     "data": {
      "text/markdown": [
       "Box 30016 → Box three zero zero one six (three zero zero one six)"
      ],
      "text/plain": [
       "<IPython.core.display.Markdown object>"
      ]
     },
     "metadata": {},
     "output_type": "display_data"
    },
    {
     "data": {
      "text/markdown": [
       "C2766 → C two seven six six (C two seven six six)"
      ],
      "text/plain": [
       "<IPython.core.display.Markdown object>"
      ]
     },
     "metadata": {},
     "output_type": "display_data"
    },
    {
     "data": {
      "text/markdown": [
       "VC836 → V C eight three six (V C eight three six)"
      ],
      "text/plain": [
       "<IPython.core.display.Markdown object>"
      ]
     },
     "metadata": {},
     "output_type": "display_data"
    },
    {
     "data": {
      "text/markdown": [
       "V510210 → V five one zero two one zero (V five one zero two one zero)"
      ],
      "text/plain": [
       "<IPython.core.display.Markdown object>"
      ]
     },
     "metadata": {},
     "output_type": "display_data"
    }
   ],
   "source": [
    "from IPython.display import Markdown\n",
    "\n",
    "from functools import partial\n",
    "from num2words import num2words\n",
    "\n",
    "cases = [('Post Office Box 2915, Dallas, Texas, on March', 'two nine one five'), \n",
    "         ('Post Office Box 30016, New Orleans', 'three zero zero one six'),\n",
    "         ('serial No. C2766, which was also found', 'C two seven six six'),\n",
    "         ('control number VC836, serial number', 'V C eight three six'),\n",
    "         ('Commando, serial number V510210, end quote', 'V five one zero two one zero')]\n",
    "\n",
    "def replace(text, true):\n",
    "    split = text.split(' ')\n",
    "    ret = [num2words(int(t)) if t.isdigit() else t for t in list(split[-1])]\n",
    "    ret = ' '.join(ret)\n",
    "    if len(split) == 2:\n",
    "        ret = split[0] + ' ' + ret\n",
    "    display(Markdown(text + ' → ' + ret + ' (' + true + ')'))\n",
    "    return ret\n",
    "\n",
    "for regex in [r'([Bb]ox [0-9]+\\b)', r'(\\b[A-Za-z]+[0-9]+\\b)']:\n",
    "    for text in cases:\n",
    "        _iterate_and_replace(regex, text[0], partial(replace, true=text[1]))"
   ]
  },
  {
   "cell_type": "markdown",
   "metadata": {},
   "source": [
    "## Year"
   ]
  },
  {
   "cell_type": "code",
   "execution_count": 15,
   "metadata": {},
   "outputs": [
    {
     "data": {
      "text/markdown": [
       "### Examples Captured by Regex"
      ],
      "text/plain": [
       "<IPython.core.display.Markdown object>"
      ]
     },
     "metadata": {},
     "output_type": "display_data"
    },
    {
     "data": {
      "text/markdown": [
       "**Regex:** (\\b[0-9]{4}\\b)"
      ],
      "text/plain": [
       "<IPython.core.display.Markdown object>"
      ]
     },
     "metadata": {},
     "output_type": "display_data"
    },
    {
     "data": {
      "text/markdown": [
       "**Number of Examples:** 582"
      ],
      "text/plain": [
       "<IPython.core.display.Markdown object>"
      ]
     },
     "metadata": {},
     "output_type": "display_data"
    },
    {
     "data": {
      "text/markdown": [
       "**Number of Examples Shown:** 5"
      ],
      "text/plain": [
       "<IPython.core.display.Markdown object>"
      ]
     },
     "metadata": {},
     "output_type": "display_data"
    },
    {
     "data": {
      "text/markdown": [
       "\n",
       "\n",
       " ___"
      ],
      "text/plain": [
       "<IPython.core.display.Markdown object>"
      ]
     },
     "metadata": {},
     "output_type": "display_data"
    },
    {
     "data": {
      "text/markdown": [
       "**Text:** \"…On August 21, **1963**, Bureau headquarters ins…\""
      ],
      "text/plain": [
       "<IPython.core.display.Markdown object>"
      ]
     },
     "metadata": {},
     "output_type": "display_data"
    },
    {
     "data": {
      "text/html": [
       "<a href='../data/LJSpeech-1.1/wavs/LJ047-0127.wav' target='_blank'>../data/LJSpeech-1.1/wavs/LJ047-0127.wav</a><br>"
      ],
      "text/plain": [
       "/Users/michaelp/Code/Tacotron-2/data/LJSpeech-1.1/wavs/LJ047-0127.wav"
      ]
     },
     "metadata": {},
     "output_type": "display_data"
    },
    {
     "data": {
      "text/markdown": [
       "\n",
       "\n",
       " ___"
      ],
      "text/plain": [
       "<IPython.core.display.Markdown object>"
      ]
     },
     "metadata": {},
     "output_type": "display_data"
    },
    {
     "data": {
      "text/markdown": [
       "**Text:** \"…On August 17, **1963**, he appeared briefly on …\""
      ],
      "text/plain": [
       "<IPython.core.display.Markdown object>"
      ]
     },
     "metadata": {},
     "output_type": "display_data"
    },
    {
     "data": {
      "text/html": [
       "<a href='../data/LJSpeech-1.1/wavs/LJ044-0020.wav' target='_blank'>../data/LJSpeech-1.1/wavs/LJ044-0020.wav</a><br>"
      ],
      "text/plain": [
       "/Users/michaelp/Code/Tacotron-2/data/LJSpeech-1.1/wavs/LJ044-0020.wav"
      ]
     },
     "metadata": {},
     "output_type": "display_data"
    },
    {
     "data": {
      "text/markdown": [
       "\n",
       "\n",
       " ___"
      ],
      "text/plain": [
       "<IPython.core.display.Markdown object>"
      ]
     },
     "metadata": {},
     "output_type": "display_data"
    },
    {
     "data": {
      "text/markdown": [
       "**Text:** \"…t address on October 14, **1963**.…\""
      ],
      "text/plain": [
       "<IPython.core.display.Markdown object>"
      ]
     },
     "metadata": {},
     "output_type": "display_data"
    },
    {
     "data": {
      "text/html": [
       "<a href='../data/LJSpeech-1.1/wavs/LJ036-0178.wav' target='_blank'>../data/LJSpeech-1.1/wavs/LJ036-0178.wav</a><br>"
      ],
      "text/plain": [
       "/Users/michaelp/Code/Tacotron-2/data/LJSpeech-1.1/wavs/LJ036-0178.wav"
      ]
     },
     "metadata": {},
     "output_type": "display_data"
    },
    {
     "data": {
      "text/markdown": [
       "\n",
       "\n",
       " ___"
      ],
      "text/plain": [
       "<IPython.core.display.Markdown object>"
      ]
     },
     "metadata": {},
     "output_type": "display_data"
    },
    {
     "data": {
      "text/markdown": [
       "**Text:** \"…from **1832** to 1844 not a single per…\""
      ],
      "text/plain": [
       "<IPython.core.display.Markdown object>"
      ]
     },
     "metadata": {},
     "output_type": "display_data"
    },
    {
     "data": {
      "text/html": [
       "<a href='../data/LJSpeech-1.1/wavs/LJ009-0173.wav' target='_blank'>../data/LJSpeech-1.1/wavs/LJ009-0173.wav</a><br>"
      ],
      "text/plain": [
       "/Users/michaelp/Code/Tacotron-2/data/LJSpeech-1.1/wavs/LJ009-0173.wav"
      ]
     },
     "metadata": {},
     "output_type": "display_data"
    },
    {
     "data": {
      "text/markdown": [
       "\n",
       "\n",
       " ___"
      ],
      "text/plain": [
       "<IPython.core.display.Markdown object>"
      ]
     },
     "metadata": {},
     "output_type": "display_data"
    },
    {
     "data": {
      "text/markdown": [
       "**Text:** \"… actions on November 22, **1963**.…\""
      ],
      "text/plain": [
       "<IPython.core.display.Markdown object>"
      ]
     },
     "metadata": {},
     "output_type": "display_data"
    },
    {
     "data": {
      "text/html": [
       "<a href='../data/LJSpeech-1.1/wavs/LJ045-0012.wav' target='_blank'>../data/LJSpeech-1.1/wavs/LJ045-0012.wav</a><br>"
      ],
      "text/plain": [
       "/Users/michaelp/Code/Tacotron-2/data/LJSpeech-1.1/wavs/LJ045-0012.wav"
      ]
     },
     "metadata": {},
     "output_type": "display_data"
    },
    {
     "data": {
      "text/markdown": [
       "\n",
       "\n",
       " ___"
      ],
      "text/plain": [
       "<IPython.core.display.Markdown object>"
      ]
     },
     "metadata": {},
     "output_type": "display_data"
    },
    {
     "data": {
      "text/markdown": [
       "### Examples Captured by Regex"
      ],
      "text/plain": [
       "<IPython.core.display.Markdown object>"
      ]
     },
     "metadata": {},
     "output_type": "display_data"
    },
    {
     "data": {
      "text/markdown": [
       "**Regex:** \\b(?:in|In) ([0-9]{3})\\b"
      ],
      "text/plain": [
       "<IPython.core.display.Markdown object>"
      ]
     },
     "metadata": {},
     "output_type": "display_data"
    },
    {
     "data": {
      "text/markdown": [
       "**Number of Examples:** 13"
      ],
      "text/plain": [
       "<IPython.core.display.Markdown object>"
      ]
     },
     "metadata": {},
     "output_type": "display_data"
    },
    {
     "data": {
      "text/markdown": [
       "**Number of Examples Shown:** 5"
      ],
      "text/plain": [
       "<IPython.core.display.Markdown object>"
      ]
     },
     "metadata": {},
     "output_type": "display_data"
    },
    {
     "data": {
      "text/markdown": [
       "\n",
       "\n",
       " ___"
      ],
      "text/plain": [
       "<IPython.core.display.Markdown object>"
      ]
     },
     "metadata": {},
     "output_type": "display_data"
    },
    {
     "data": {
      "text/markdown": [
       "**Text:** \"…In **605**,…\""
      ],
      "text/plain": [
       "<IPython.core.display.Markdown object>"
      ]
     },
     "metadata": {},
     "output_type": "display_data"
    },
    {
     "data": {
      "text/html": [
       "<a href='../data/LJSpeech-1.1/wavs/LJ028-0060.wav' target='_blank'>../data/LJSpeech-1.1/wavs/LJ028-0060.wav</a><br>"
      ],
      "text/plain": [
       "/Users/michaelp/Code/Tacotron-2/data/LJSpeech-1.1/wavs/LJ028-0060.wav"
      ]
     },
     "metadata": {},
     "output_type": "display_data"
    },
    {
     "data": {
      "text/markdown": [
       "\n",
       "\n",
       " ___"
      ],
      "text/plain": [
       "<IPython.core.display.Markdown object>"
      ]
     },
     "metadata": {},
     "output_type": "display_data"
    },
    {
     "data": {
      "text/markdown": [
       "**Text:** \"…Eleven years later, in **586**, he destroyed the sacred…\""
      ],
      "text/plain": [
       "<IPython.core.display.Markdown object>"
      ]
     },
     "metadata": {},
     "output_type": "display_data"
    },
    {
     "data": {
      "text/html": [
       "<a href='../data/LJSpeech-1.1/wavs/LJ028-0065.wav' target='_blank'>../data/LJSpeech-1.1/wavs/LJ028-0065.wav</a><br>"
      ],
      "text/plain": [
       "/Users/michaelp/Code/Tacotron-2/data/LJSpeech-1.1/wavs/LJ028-0065.wav"
      ]
     },
     "metadata": {},
     "output_type": "display_data"
    },
    {
     "data": {
      "text/markdown": [
       "\n",
       "\n",
       " ___"
      ],
      "text/plain": [
       "<IPython.core.display.Markdown object>"
      ]
     },
     "metadata": {},
     "output_type": "display_data"
    },
    {
     "data": {
      "text/markdown": [
       "**Text:** \"…In **597**, when he sent his army t…\""
      ],
      "text/plain": [
       "<IPython.core.display.Markdown object>"
      ]
     },
     "metadata": {},
     "output_type": "display_data"
    },
    {
     "data": {
      "text/html": [
       "<a href='../data/LJSpeech-1.1/wavs/LJ028-0064.wav' target='_blank'>../data/LJSpeech-1.1/wavs/LJ028-0064.wav</a><br>"
      ],
      "text/plain": [
       "/Users/michaelp/Code/Tacotron-2/data/LJSpeech-1.1/wavs/LJ028-0064.wav"
      ]
     },
     "metadata": {},
     "output_type": "display_data"
    },
    {
     "data": {
      "text/markdown": [
       "\n",
       "\n",
       " ___"
      ],
      "text/plain": [
       "<IPython.core.display.Markdown object>"
      ]
     },
     "metadata": {},
     "output_type": "display_data"
    },
    {
     "data": {
      "text/markdown": [
       "**Text:** \"…n was unavailing, and in **275** B.C., the inhabitants of…\""
      ],
      "text/plain": [
       "<IPython.core.display.Markdown object>"
      ]
     },
     "metadata": {},
     "output_type": "display_data"
    },
    {
     "data": {
      "text/html": [
       "<a href='../data/LJSpeech-1.1/wavs/LJ028-0370.wav' target='_blank'>../data/LJSpeech-1.1/wavs/LJ028-0370.wav</a><br>"
      ],
      "text/plain": [
       "/Users/michaelp/Code/Tacotron-2/data/LJSpeech-1.1/wavs/LJ028-0370.wav"
      ]
     },
     "metadata": {},
     "output_type": "display_data"
    },
    {
     "data": {
      "text/markdown": [
       "\n",
       "\n",
       " ___"
      ],
      "text/plain": [
       "<IPython.core.display.Markdown object>"
      ]
     },
     "metadata": {},
     "output_type": "display_data"
    },
    {
     "data": {
      "text/markdown": [
       "**Text:** \"…In **529** Cyrus died.…\""
      ],
      "text/plain": [
       "<IPython.core.display.Markdown object>"
      ]
     },
     "metadata": {},
     "output_type": "display_data"
    },
    {
     "data": {
      "text/html": [
       "<a href='../data/LJSpeech-1.1/wavs/LJ028-0255.wav' target='_blank'>../data/LJSpeech-1.1/wavs/LJ028-0255.wav</a><br>"
      ],
      "text/plain": [
       "/Users/michaelp/Code/Tacotron-2/data/LJSpeech-1.1/wavs/LJ028-0255.wav"
      ]
     },
     "metadata": {},
     "output_type": "display_data"
    },
    {
     "data": {
      "text/markdown": [
       "\n",
       "\n",
       " ___"
      ],
      "text/plain": [
       "<IPython.core.display.Markdown object>"
      ]
     },
     "metadata": {},
     "output_type": "display_data"
    },
    {
     "data": {
      "text/markdown": [
       "### Examples Captured by Regex"
      ],
      "text/plain": [
       "<IPython.core.display.Markdown object>"
      ]
     },
     "metadata": {},
     "output_type": "display_data"
    },
    {
     "data": {
      "text/markdown": [
       "**Regex:** \\b([0-9]{3}) B\\.C\\b"
      ],
      "text/plain": [
       "<IPython.core.display.Markdown object>"
      ]
     },
     "metadata": {},
     "output_type": "display_data"
    },
    {
     "data": {
      "text/markdown": [
       "**Number of Examples:** 2"
      ],
      "text/plain": [
       "<IPython.core.display.Markdown object>"
      ]
     },
     "metadata": {},
     "output_type": "display_data"
    },
    {
     "data": {
      "text/markdown": [
       "**Number of Examples Shown:** 2"
      ],
      "text/plain": [
       "<IPython.core.display.Markdown object>"
      ]
     },
     "metadata": {},
     "output_type": "display_data"
    },
    {
     "data": {
      "text/markdown": [
       "\n",
       "\n",
       " ___"
      ],
      "text/plain": [
       "<IPython.core.display.Markdown object>"
      ]
     },
     "metadata": {},
     "output_type": "display_data"
    },
    {
     "data": {
      "text/markdown": [
       "**Text:** \"…t Babylon, writing about **250** B.C.,…\""
      ],
      "text/plain": [
       "<IPython.core.display.Markdown object>"
      ]
     },
     "metadata": {},
     "output_type": "display_data"
    },
    {
     "data": {
      "text/html": [
       "<a href='../data/LJSpeech-1.1/wavs/LJ028-0126.wav' target='_blank'>../data/LJSpeech-1.1/wavs/LJ028-0126.wav</a><br>"
      ],
      "text/plain": [
       "/Users/michaelp/Code/Tacotron-2/data/LJSpeech-1.1/wavs/LJ028-0126.wav"
      ]
     },
     "metadata": {},
     "output_type": "display_data"
    },
    {
     "data": {
      "text/markdown": [
       "\n",
       "\n",
       " ___"
      ],
      "text/plain": [
       "<IPython.core.display.Markdown object>"
      ]
     },
     "metadata": {},
     "output_type": "display_data"
    },
    {
     "data": {
      "text/markdown": [
       "**Text:** \"…and there on June 13, **323** B.C., he met his death.…\""
      ],
      "text/plain": [
       "<IPython.core.display.Markdown object>"
      ]
     },
     "metadata": {},
     "output_type": "display_data"
    },
    {
     "data": {
      "text/html": [
       "<a href='../data/LJSpeech-1.1/wavs/LJ028-0363.wav' target='_blank'>../data/LJSpeech-1.1/wavs/LJ028-0363.wav</a><br>"
      ],
      "text/plain": [
       "/Users/michaelp/Code/Tacotron-2/data/LJSpeech-1.1/wavs/LJ028-0363.wav"
      ]
     },
     "metadata": {},
     "output_type": "display_data"
    },
    {
     "data": {
      "text/markdown": [
       "\n",
       "\n",
       " ___"
      ],
      "text/plain": [
       "<IPython.core.display.Markdown object>"
      ]
     },
     "metadata": {},
     "output_type": "display_data"
    }
   ],
   "source": [
    "regexes = [r'(\\b[0-9]{4}\\b)', r'\\b(?:in|In) ([0-9]{3})\\b', r'\\b([0-9]{3}) B\\.C\\b']\n",
    "for regex in regexes:\n",
    "    find_examples(regex)"
   ]
  },
  {
   "cell_type": "code",
   "execution_count": 16,
   "metadata": {},
   "outputs": [
    {
     "data": {
      "text/markdown": [
       "1787 → seventeen eighty-seven (seventeen eighty-seven)"
      ],
      "text/plain": [
       "<IPython.core.display.Markdown object>"
      ]
     },
     "metadata": {},
     "output_type": "display_data"
    },
    {
     "data": {
      "text/markdown": [
       "1818 → eighteen eighteen (eighteen eighteen)"
      ],
      "text/plain": [
       "<IPython.core.display.Markdown object>"
      ]
     },
     "metadata": {},
     "output_type": "display_data"
    },
    {
     "data": {
      "text/markdown": [
       "2250 → twenty-two fifty (twenty-two fifty)"
      ],
      "text/plain": [
       "<IPython.core.display.Markdown object>"
      ]
     },
     "metadata": {},
     "output_type": "display_data"
    },
    {
     "data": {
      "text/markdown": [
       "597 → five ninety-seven (five ninety-seven)"
      ],
      "text/plain": [
       "<IPython.core.display.Markdown object>"
      ]
     },
     "metadata": {},
     "output_type": "display_data"
    },
    {
     "data": {
      "text/markdown": [
       "606 → six oh-six (six oh-six)"
      ],
      "text/plain": [
       "<IPython.core.display.Markdown object>"
      ]
     },
     "metadata": {},
     "output_type": "display_data"
    },
    {
     "data": {
      "text/markdown": [
       "250 → two fifty (two fifty)"
      ],
      "text/plain": [
       "<IPython.core.display.Markdown object>"
      ]
     },
     "metadata": {},
     "output_type": "display_data"
    },
    {
     "data": {
      "text/markdown": [
       "323 → three twenty-three (three twenty-three)"
      ],
      "text/plain": [
       "<IPython.core.display.Markdown object>"
      ]
     },
     "metadata": {},
     "output_type": "display_data"
    }
   ],
   "source": [
    "from IPython.display import Markdown\n",
    "\n",
    "from functools import partial\n",
    "from num2words import num2words\n",
    "\n",
    "cases = [('dated April XXXX, 1787, describing an', 'seventeen eighty-seven'), \n",
    "         ('Newgate down to 1818,', 'eighteen eighteen'),\n",
    "         ('It was about 2250 B.C., when the great', 'twenty-two fifty'),\n",
    "         ('In 597, when he sent his army', 'five ninety-seven'),\n",
    "         ('writing about 250 B.C.', 'two fifty'),\n",
    "         ('In 606, Nineveh', 'six oh-six'),\n",
    "         ('June 13, 323 B.C.,', 'three twenty-three')]\n",
    "\n",
    "def replace(text, true):\n",
    "    ret = num2words(int(text), lang='en', to='year')\n",
    "    display(Markdown(text + ' → ' + ret + ' (' + true + ')'))\n",
    "    return ret\n",
    "\n",
    "\n",
    "for regex in regexes:\n",
    "    for text in cases:\n",
    "        _iterate_and_replace(regex, text[0], partial(replace, true=text[1]))\n"
   ]
  },
  {
   "cell_type": "markdown",
   "metadata": {},
   "source": [
    "## Numero (no.)"
   ]
  },
  {
   "cell_type": "code",
   "execution_count": 17,
   "metadata": {},
   "outputs": [
    {
     "data": {
      "text/markdown": [
       "### Examples Captured by Regex"
      ],
      "text/plain": [
       "<IPython.core.display.Markdown object>"
      ]
     },
     "metadata": {},
     "output_type": "display_data"
    },
    {
     "data": {
      "text/markdown": [
       "**Regex:** (?:No|no)\\. ([0-9]+)"
      ],
      "text/plain": [
       "<IPython.core.display.Markdown object>"
      ]
     },
     "metadata": {},
     "output_type": "display_data"
    },
    {
     "data": {
      "text/markdown": [
       "**Number of Examples:** 29"
      ],
      "text/plain": [
       "<IPython.core.display.Markdown object>"
      ]
     },
     "metadata": {},
     "output_type": "display_data"
    },
    {
     "data": {
      "text/markdown": [
       "**Number of Examples Shown:** 5"
      ],
      "text/plain": [
       "<IPython.core.display.Markdown object>"
      ]
     },
     "metadata": {},
     "output_type": "display_data"
    },
    {
     "data": {
      "text/markdown": [
       "\n",
       "\n",
       " ___"
      ],
      "text/plain": [
       "<IPython.core.display.Markdown object>"
      ]
     },
     "metadata": {},
     "output_type": "display_data"
    },
    {
     "data": {
      "text/markdown": [
       "**Text:** \"…ld was the man under No. **2**.…\""
      ],
      "text/plain": [
       "<IPython.core.display.Markdown object>"
      ]
     },
     "metadata": {},
     "output_type": "display_data"
    },
    {
     "data": {
      "text/html": [
       "<a href='../data/LJSpeech-1.1/wavs/LJ036-0112.wav' target='_blank'>../data/LJSpeech-1.1/wavs/LJ036-0112.wav</a><br>"
      ],
      "text/plain": [
       "/Users/michaelp/Code/Tacotron-2/data/LJSpeech-1.1/wavs/LJ036-0112.wav"
      ]
     },
     "metadata": {},
     "output_type": "display_data"
    },
    {
     "data": {
      "text/markdown": [
       "\n",
       "\n",
       " ___"
      ],
      "text/plain": [
       "<IPython.core.display.Markdown object>"
      ]
     },
     "metadata": {},
     "output_type": "display_data"
    },
    {
     "data": {
      "text/markdown": [
       "**Text:** \"…. Horn, aged 18, was No. **1**;…\""
      ],
      "text/plain": [
       "<IPython.core.display.Markdown object>"
      ]
     },
     "metadata": {},
     "output_type": "display_data"
    },
    {
     "data": {
      "text/html": [
       "<a href='../data/LJSpeech-1.1/wavs/LJ036-0114.wav' target='_blank'>../data/LJSpeech-1.1/wavs/LJ036-0114.wav</a><br>"
      ],
      "text/plain": [
       "/Users/michaelp/Code/Tacotron-2/data/LJSpeech-1.1/wavs/LJ036-0114.wav"
      ]
     },
     "metadata": {},
     "output_type": "display_data"
    },
    {
     "data": {
      "text/markdown": [
       "\n",
       "\n",
       " ___"
      ],
      "text/plain": [
       "<IPython.core.display.Markdown object>"
      ]
     },
     "metadata": {},
     "output_type": "display_data"
    },
    {
     "data": {
      "text/markdown": [
       "**Text:** \"…Lee Oswald was No. **3**;…\""
      ],
      "text/plain": [
       "<IPython.core.display.Markdown object>"
      ]
     },
     "metadata": {},
     "output_type": "display_data"
    },
    {
     "data": {
      "text/html": [
       "<a href='../data/LJSpeech-1.1/wavs/LJ036-0116.wav' target='_blank'>../data/LJSpeech-1.1/wavs/LJ036-0116.wav</a><br>"
      ],
      "text/plain": [
       "/Users/michaelp/Code/Tacotron-2/data/LJSpeech-1.1/wavs/LJ036-0116.wav"
      ]
     },
     "metadata": {},
     "output_type": "display_data"
    },
    {
     "data": {
      "text/markdown": [
       "\n",
       "\n",
       " ___"
      ],
      "text/plain": [
       "<IPython.core.display.Markdown object>"
      ]
     },
     "metadata": {},
     "output_type": "display_data"
    },
    {
     "data": {
      "text/markdown": [
       "**Text:** \"…d Commission Exhibit No. **150** (the shirt taken from Os…\""
      ],
      "text/plain": [
       "<IPython.core.display.Markdown object>"
      ]
     },
     "metadata": {},
     "output_type": "display_data"
    },
    {
     "data": {
      "text/html": [
       "<a href='../data/LJSpeech-1.1/wavs/LJ036-0159.wav' target='_blank'>../data/LJSpeech-1.1/wavs/LJ036-0159.wav</a><br>"
      ],
      "text/plain": [
       "/Users/michaelp/Code/Tacotron-2/data/LJSpeech-1.1/wavs/LJ036-0159.wav"
      ]
     },
     "metadata": {},
     "output_type": "display_data"
    },
    {
     "data": {
      "text/markdown": [
       "\n",
       "\n",
       " ___"
      ],
      "text/plain": [
       "<IPython.core.display.Markdown object>"
      ]
     },
     "metadata": {},
     "output_type": "display_data"
    },
    {
     "data": {
      "text/markdown": [
       "**Text:** \"… Lujan, aged 26, was No. **4**.…\""
      ],
      "text/plain": [
       "<IPython.core.display.Markdown object>"
      ]
     },
     "metadata": {},
     "output_type": "display_data"
    },
    {
     "data": {
      "text/html": [
       "<a href='../data/LJSpeech-1.1/wavs/LJ036-0117.wav' target='_blank'>../data/LJSpeech-1.1/wavs/LJ036-0117.wav</a><br>"
      ],
      "text/plain": [
       "/Users/michaelp/Code/Tacotron-2/data/LJSpeech-1.1/wavs/LJ036-0117.wav"
      ]
     },
     "metadata": {},
     "output_type": "display_data"
    },
    {
     "data": {
      "text/markdown": [
       "\n",
       "\n",
       " ___"
      ],
      "text/plain": [
       "<IPython.core.display.Markdown object>"
      ]
     },
     "metadata": {},
     "output_type": "display_data"
    }
   ],
   "source": [
    "regex = r'(?:No|no)\\. ([0-9]+)'\n",
    "find_examples(regex)"
   ]
  },
  {
   "cell_type": "code",
   "execution_count": 18,
   "metadata": {},
   "outputs": [
    {
     "data": {
      "text/markdown": [
       "133 → one thirty-three (one thirty-three)"
      ],
      "text/plain": [
       "<IPython.core.display.Markdown object>"
      ]
     },
     "metadata": {},
     "output_type": "display_data"
    },
    {
     "data": {
      "text/markdown": [
       "162 → one sixty-two (one sixty-two)"
      ],
      "text/plain": [
       "<IPython.core.display.Markdown object>"
      ]
     },
     "metadata": {},
     "output_type": "display_data"
    }
   ],
   "source": [
    "from IPython.display import Markdown\n",
    "\n",
    "from functools import partial\n",
    "from num2words import num2words\n",
    "\n",
    "cases = [('Commission Exhibit No. 133-B,', 'one thirty-three'), \n",
    "         ('Commission Exhibit No. 162 as', 'one sixty-two')]\n",
    "\n",
    "def replace(text, true):\n",
    "    ret = num2words(int(text), lang='en', to='year')\n",
    "    display(Markdown(text + ' → ' + ret + ' (' + true + ')'))\n",
    "    return ret\n",
    "\n",
    "for text in cases:\n",
    "    _iterate_and_replace(regex, text[0], partial(replace, true=text[1]))"
   ]
  },
  {
   "cell_type": "markdown",
   "metadata": {},
   "source": [
    "## Other Numbers"
   ]
  },
  {
   "cell_type": "code",
   "execution_count": 19,
   "metadata": {
    "scrolled": true
   },
   "outputs": [
    {
     "data": {
      "text/markdown": [
       "### Examples Captured by Regex"
      ],
      "text/plain": [
       "<IPython.core.display.Markdown object>"
      ]
     },
     "metadata": {},
     "output_type": "display_data"
    },
    {
     "data": {
      "text/markdown": [
       "**Regex:** (\\b[0-9]{1}[0-9\\.\\,]{0,}\\b)"
      ],
      "text/plain": [
       "<IPython.core.display.Markdown object>"
      ]
     },
     "metadata": {},
     "output_type": "display_data"
    },
    {
     "data": {
      "text/markdown": [
       "**Number of Examples:** 1171"
      ],
      "text/plain": [
       "<IPython.core.display.Markdown object>"
      ]
     },
     "metadata": {},
     "output_type": "display_data"
    },
    {
     "data": {
      "text/markdown": [
       "**Number of Examples Shown:** 50"
      ],
      "text/plain": [
       "<IPython.core.display.Markdown object>"
      ]
     },
     "metadata": {},
     "output_type": "display_data"
    },
    {
     "data": {
      "text/markdown": [
       "\n",
       "\n",
       " ___"
      ],
      "text/plain": [
       "<IPython.core.display.Markdown object>"
      ]
     },
     "metadata": {},
     "output_type": "display_data"
    },
    {
     "data": {
      "text/markdown": [
       "**Text:** \"…orieties continued, part **2**.…\""
      ],
      "text/plain": [
       "<IPython.core.display.Markdown object>"
      ]
     },
     "metadata": {},
     "output_type": "display_data"
    },
    {
     "data": {
      "text/html": [
       "<a href='../data/LJSpeech-1.1/wavs/LJ014-0001.wav' target='_blank'>../data/LJSpeech-1.1/wavs/LJ014-0001.wav</a><br>"
      ],
      "text/plain": [
       "/Users/michaelp/Code/Tacotron-2/data/LJSpeech-1.1/wavs/LJ014-0001.wav"
      ]
     },
     "metadata": {},
     "output_type": "display_data"
    },
    {
     "data": {
      "text/markdown": [
       "\n",
       "\n",
       " ___"
      ],
      "text/plain": [
       "<IPython.core.display.Markdown object>"
      ]
     },
     "metadata": {},
     "output_type": "display_data"
    },
    {
     "data": {
      "text/markdown": [
       "**Text:** \"…n XXXX p.m., on November **22**, and 11 a.m.,…\""
      ],
      "text/plain": [
       "<IPython.core.display.Markdown object>"
      ]
     },
     "metadata": {},
     "output_type": "display_data"
    },
    {
     "data": {
      "text/html": [
       "<a href='../data/LJSpeech-1.1/wavs/LJ038-0078.wav' target='_blank'>../data/LJSpeech-1.1/wavs/LJ038-0078.wav</a><br>"
      ],
      "text/plain": [
       "/Users/michaelp/Code/Tacotron-2/data/LJSpeech-1.1/wavs/LJ038-0078.wav"
      ]
     },
     "metadata": {},
     "output_type": "display_data"
    },
    {
     "data": {
      "text/markdown": [
       "\n",
       "\n",
       " ___"
      ],
      "text/plain": [
       "<IPython.core.display.Markdown object>"
      ]
     },
     "metadata": {},
     "output_type": "display_data"
    },
    {
     "data": {
      "text/markdown": [
       "**Text:** \"…ca sack made on December **1**, XXXX,…\""
      ],
      "text/plain": [
       "<IPython.core.display.Markdown object>"
      ]
     },
     "metadata": {},
     "output_type": "display_data"
    },
    {
     "data": {
      "text/html": [
       "<a href='../data/LJSpeech-1.1/wavs/LJ033-0183.wav' target='_blank'>../data/LJSpeech-1.1/wavs/LJ033-0183.wav</a><br>"
      ],
      "text/plain": [
       "/Users/michaelp/Code/Tacotron-2/data/LJSpeech-1.1/wavs/LJ033-0183.wav"
      ]
     },
     "metadata": {},
     "output_type": "display_data"
    },
    {
     "data": {
      "text/markdown": [
       "\n",
       "\n",
       " ___"
      ],
      "text/plain": [
       "<IPython.core.display.Markdown object>"
      ]
     },
     "metadata": {},
     "output_type": "display_data"
    },
    {
     "data": {
      "text/markdown": [
       "**Text:** \"… November XX to November **18**, when he was joined by A…\""
      ],
      "text/plain": [
       "<IPython.core.display.Markdown object>"
      ]
     },
     "metadata": {},
     "output_type": "display_data"
    },
    {
     "data": {
      "text/html": [
       "<a href='../data/LJSpeech-1.1/wavs/LJ048-0099.wav' target='_blank'>../data/LJSpeech-1.1/wavs/LJ048-0099.wav</a><br>"
      ],
      "text/plain": [
       "/Users/michaelp/Code/Tacotron-2/data/LJSpeech-1.1/wavs/LJ048-0099.wav"
      ]
     },
     "metadata": {},
     "output_type": "display_data"
    },
    {
     "data": {
      "text/markdown": [
       "\n",
       "\n",
       " ___"
      ],
      "text/plain": [
       "<IPython.core.display.Markdown object>"
      ]
     },
     "metadata": {},
     "output_type": "display_data"
    },
    {
     "data": {
      "text/markdown": [
       "**Text:** \"…Chapter **8**. The Protection of the P…\""
      ],
      "text/plain": [
       "<IPython.core.display.Markdown object>"
      ]
     },
     "metadata": {},
     "output_type": "display_data"
    },
    {
     "data": {
      "text/html": [
       "<a href='../data/LJSpeech-1.1/wavs/LJ049-0003.wav' target='_blank'>../data/LJSpeech-1.1/wavs/LJ049-0003.wav</a><br>"
      ],
      "text/plain": [
       "/Users/michaelp/Code/Tacotron-2/data/LJSpeech-1.1/wavs/LJ049-0003.wav"
      ]
     },
     "metadata": {},
     "output_type": "display_data"
    },
    {
     "data": {
      "text/markdown": [
       "\n",
       "\n",
       " ___"
      ],
      "text/plain": [
       "<IPython.core.display.Markdown object>"
      ]
     },
     "metadata": {},
     "output_type": "display_data"
    },
    {
     "data": {
      "text/markdown": [
       "**Text:** \"…and XX to **15** of these cases as highly…\""
      ],
      "text/plain": [
       "<IPython.core.display.Markdown object>"
      ]
     },
     "metadata": {},
     "output_type": "display_data"
    },
    {
     "data": {
      "text/html": [
       "<a href='../data/LJSpeech-1.1/wavs/LJ046-0193.wav' target='_blank'>../data/LJSpeech-1.1/wavs/LJ046-0193.wav</a><br>"
      ],
      "text/plain": [
       "/Users/michaelp/Code/Tacotron-2/data/LJSpeech-1.1/wavs/LJ046-0193.wav"
      ]
     },
     "metadata": {},
     "output_type": "display_data"
    },
    {
     "data": {
      "text/markdown": [
       "\n",
       "\n",
       " ___"
      ],
      "text/plain": [
       "<IPython.core.display.Markdown object>"
      ]
     },
     "metadata": {},
     "output_type": "display_data"
    },
    {
     "data": {
      "text/markdown": [
       "**Text:** \"…On April **21**, XXXX, the FBI field off…\""
      ],
      "text/plain": [
       "<IPython.core.display.Markdown object>"
      ]
     },
     "metadata": {},
     "output_type": "display_data"
    },
    {
     "data": {
      "text/html": [
       "<a href='../data/LJSpeech-1.1/wavs/LJ047-0070.wav' target='_blank'>../data/LJSpeech-1.1/wavs/LJ047-0070.wav</a><br>"
      ],
      "text/plain": [
       "/Users/michaelp/Code/Tacotron-2/data/LJSpeech-1.1/wavs/LJ047-0070.wav"
      ]
     },
     "metadata": {},
     "output_type": "display_data"
    },
    {
     "data": {
      "text/markdown": [
       "\n",
       "\n",
       " ___"
      ],
      "text/plain": [
       "<IPython.core.display.Markdown object>"
      ]
     },
     "metadata": {},
     "output_type": "display_data"
    },
    {
     "data": {
      "text/markdown": [
       "**Text:** \"…uched of XXX debtors and **182** felons, or 379 in all.…\""
      ],
      "text/plain": [
       "<IPython.core.display.Markdown object>"
      ]
     },
     "metadata": {},
     "output_type": "display_data"
    },
    {
     "data": {
      "text/html": [
       "<a href='../data/LJSpeech-1.1/wavs/LJ002-0013.wav' target='_blank'>../data/LJSpeech-1.1/wavs/LJ002-0013.wav</a><br>"
      ],
      "text/plain": [
       "/Users/michaelp/Code/Tacotron-2/data/LJSpeech-1.1/wavs/LJ002-0013.wav"
      ]
     },
     "metadata": {},
     "output_type": "display_data"
    },
    {
     "data": {
      "text/markdown": [
       "\n",
       "\n",
       " ___"
      ],
      "text/plain": [
       "<IPython.core.display.Markdown object>"
      ]
     },
     "metadata": {},
     "output_type": "display_data"
    },
    {
     "data": {
      "text/markdown": [
       "**Text:** \"…at XX yards in X, X, and **9** seconds,…\""
      ],
      "text/plain": [
       "<IPython.core.display.Markdown object>"
      ]
     },
     "metadata": {},
     "output_type": "display_data"
    },
    {
     "data": {
      "text/html": [
       "<a href='../data/LJSpeech-1.1/wavs/LJ039-0199.wav' target='_blank'>../data/LJSpeech-1.1/wavs/LJ039-0199.wav</a><br>"
      ],
      "text/plain": [
       "/Users/michaelp/Code/Tacotron-2/data/LJSpeech-1.1/wavs/LJ039-0199.wav"
      ]
     },
     "metadata": {},
     "output_type": "display_data"
    },
    {
     "data": {
      "text/markdown": [
       "\n",
       "\n",
       " ___"
      ],
      "text/plain": [
       "<IPython.core.display.Markdown object>"
      ]
     },
     "metadata": {},
     "output_type": "display_data"
    },
    {
     "data": {
      "text/markdown": [
       "**Text:** \"…ed \"Friday November XX, '**63**\" and was punched in two …\""
      ],
      "text/plain": [
       "<IPython.core.display.Markdown object>"
      ]
     },
     "metadata": {},
     "output_type": "display_data"
    },
    {
     "data": {
      "text/html": [
       "<a href='../data/LJSpeech-1.1/wavs/LJ036-0020.wav' target='_blank'>../data/LJSpeech-1.1/wavs/LJ036-0020.wav</a><br>"
      ],
      "text/plain": [
       "/Users/michaelp/Code/Tacotron-2/data/LJSpeech-1.1/wavs/LJ036-0020.wav"
      ]
     },
     "metadata": {},
     "output_type": "display_data"
    },
    {
     "data": {
      "text/markdown": [
       "\n",
       "\n",
       " ___"
      ],
      "text/plain": [
       "<IPython.core.display.Markdown object>"
      ]
     },
     "metadata": {},
     "output_type": "display_data"
    },
    {
     "data": {
      "text/markdown": [
       "**Text:** \"…months prior to November **22**.…\""
      ],
      "text/plain": [
       "<IPython.core.display.Markdown object>"
      ]
     },
     "metadata": {},
     "output_type": "display_data"
    },
    {
     "data": {
      "text/html": [
       "<a href='../data/LJSpeech-1.1/wavs/LJ032-0189.wav' target='_blank'>../data/LJSpeech-1.1/wavs/LJ032-0189.wav</a><br>"
      ],
      "text/plain": [
       "/Users/michaelp/Code/Tacotron-2/data/LJSpeech-1.1/wavs/LJ032-0189.wav"
      ]
     },
     "metadata": {},
     "output_type": "display_data"
    },
    {
     "data": {
      "text/markdown": [
       "\n",
       "\n",
       " ___"
      ],
      "text/plain": [
       "<IPython.core.display.Markdown object>"
      ]
     },
     "metadata": {},
     "output_type": "display_data"
    },
    {
     "data": {
      "text/markdown": [
       "**Text:** \"…On June **24**, XXXX, he applied for a …\""
      ],
      "text/plain": [
       "<IPython.core.display.Markdown object>"
      ]
     },
     "metadata": {},
     "output_type": "display_data"
    },
    {
     "data": {
      "text/html": [
       "<a href='../data/LJSpeech-1.1/wavs/LJ044-0146.wav' target='_blank'>../data/LJSpeech-1.1/wavs/LJ044-0146.wav</a><br>"
      ],
      "text/plain": [
       "/Users/michaelp/Code/Tacotron-2/data/LJSpeech-1.1/wavs/LJ044-0146.wav"
      ]
     },
     "metadata": {},
     "output_type": "display_data"
    },
    {
     "data": {
      "text/markdown": [
       "\n",
       "\n",
       " ___"
      ],
      "text/plain": [
       "<IPython.core.display.Markdown object>"
      ]
     },
     "metadata": {},
     "output_type": "display_data"
    },
    {
     "data": {
      "text/markdown": [
       "**Text:** \"…IA to the FBI on October **10**,…\""
      ],
      "text/plain": [
       "<IPython.core.display.Markdown object>"
      ]
     },
     "metadata": {},
     "output_type": "display_data"
    },
    {
     "data": {
      "text/html": [
       "<a href='../data/LJSpeech-1.1/wavs/LJ047-0139.wav' target='_blank'>../data/LJSpeech-1.1/wavs/LJ047-0139.wav</a><br>"
      ],
      "text/plain": [
       "/Users/michaelp/Code/Tacotron-2/data/LJSpeech-1.1/wavs/LJ047-0139.wav"
      ]
     },
     "metadata": {},
     "output_type": "display_data"
    },
    {
     "data": {
      "text/markdown": [
       "\n",
       "\n",
       " ___"
      ],
      "text/plain": [
       "<IPython.core.display.Markdown object>"
      ]
     },
     "metadata": {},
     "output_type": "display_data"
    },
    {
     "data": {
      "text/markdown": [
       "**Text:** \"…fle was shipped on March **20**, and the shooting occurr…\""
      ],
      "text/plain": [
       "<IPython.core.display.Markdown object>"
      ]
     },
     "metadata": {},
     "output_type": "display_data"
    },
    {
     "data": {
      "text/html": [
       "<a href='../data/LJSpeech-1.1/wavs/LJ038-0244.wav' target='_blank'>../data/LJSpeech-1.1/wavs/LJ038-0244.wav</a><br>"
      ],
      "text/plain": [
       "/Users/michaelp/Code/Tacotron-2/data/LJSpeech-1.1/wavs/LJ038-0244.wav"
      ]
     },
     "metadata": {},
     "output_type": "display_data"
    },
    {
     "data": {
      "text/markdown": [
       "\n",
       "\n",
       " ___"
      ],
      "text/plain": [
       "<IPython.core.display.Markdown object>"
      ]
     },
     "metadata": {},
     "output_type": "display_data"
    },
    {
     "data": {
      "text/markdown": [
       "**Text:** \"…At least **12** persons saw the man with…\""
      ],
      "text/plain": [
       "<IPython.core.display.Markdown object>"
      ]
     },
     "metadata": {},
     "output_type": "display_data"
    },
    {
     "data": {
      "text/html": [
       "<a href='../data/LJSpeech-1.1/wavs/LJ037-0004.wav' target='_blank'>../data/LJSpeech-1.1/wavs/LJ037-0004.wav</a><br>"
      ],
      "text/plain": [
       "/Users/michaelp/Code/Tacotron-2/data/LJSpeech-1.1/wavs/LJ037-0004.wav"
      ]
     },
     "metadata": {},
     "output_type": "display_data"
    },
    {
     "data": {
      "text/markdown": [
       "\n",
       "\n",
       " ___"
      ],
      "text/plain": [
       "<IPython.core.display.Markdown object>"
      ]
     },
     "metadata": {},
     "output_type": "display_data"
    },
    {
     "data": {
      "text/markdown": [
       "**Text:** \"…(**2**) took paper and tape fro…\""
      ],
      "text/plain": [
       "<IPython.core.display.Markdown object>"
      ]
     },
     "metadata": {},
     "output_type": "display_data"
    },
    {
     "data": {
      "text/html": [
       "<a href='../data/LJSpeech-1.1/wavs/LJ033-0212.wav' target='_blank'>../data/LJSpeech-1.1/wavs/LJ033-0212.wav</a><br>"
      ],
      "text/plain": [
       "/Users/michaelp/Code/Tacotron-2/data/LJSpeech-1.1/wavs/LJ033-0212.wav"
      ]
     },
     "metadata": {},
     "output_type": "display_data"
    },
    {
     "data": {
      "text/markdown": [
       "\n",
       "\n",
       " ___"
      ],
      "text/plain": [
       "<IPython.core.display.Markdown object>"
      ]
     },
     "metadata": {},
     "output_type": "display_data"
    },
    {
     "data": {
      "text/markdown": [
       "**Text:** \"…lly discussed in chapter **6**, page 249.…\""
      ],
      "text/plain": [
       "<IPython.core.display.Markdown object>"
      ]
     },
     "metadata": {},
     "output_type": "display_data"
    },
    {
     "data": {
      "text/html": [
       "<a href='../data/LJSpeech-1.1/wavs/LJ034-0061.wav' target='_blank'>../data/LJSpeech-1.1/wavs/LJ034-0061.wav</a><br>"
      ],
      "text/plain": [
       "/Users/michaelp/Code/Tacotron-2/data/LJSpeech-1.1/wavs/LJ034-0061.wav"
      ]
     },
     "metadata": {},
     "output_type": "display_data"
    },
    {
     "data": {
      "text/markdown": [
       "\n",
       "\n",
       " ___"
      ],
      "text/plain": [
       "<IPython.core.display.Markdown object>"
      ]
     },
     "metadata": {},
     "output_type": "display_data"
    },
    {
     "data": {
      "text/markdown": [
       "**Text:** \"…ly, the entry of January **4** to 31 of XXXX, quote,…\""
      ],
      "text/plain": [
       "<IPython.core.display.Markdown object>"
      ]
     },
     "metadata": {},
     "output_type": "display_data"
    },
    {
     "data": {
      "text/html": [
       "<a href='../data/LJSpeech-1.1/wavs/LJ042-0127.wav' target='_blank'>../data/LJSpeech-1.1/wavs/LJ042-0127.wav</a><br>"
      ],
      "text/plain": [
       "/Users/michaelp/Code/Tacotron-2/data/LJSpeech-1.1/wavs/LJ042-0127.wav"
      ]
     },
     "metadata": {},
     "output_type": "display_data"
    },
    {
     "data": {
      "text/markdown": [
       "\n",
       "\n",
       " ___"
      ],
      "text/plain": [
       "<IPython.core.display.Markdown object>"
      ]
     },
     "metadata": {},
     "output_type": "display_data"
    },
    {
     "data": {
      "text/markdown": [
       "**Text:** \"…t his remarks of January **7** were intended by him mer…\""
      ],
      "text/plain": [
       "<IPython.core.display.Markdown object>"
      ]
     },
     "metadata": {},
     "output_type": "display_data"
    },
    {
     "data": {
      "text/html": [
       "<a href='../data/LJSpeech-1.1/wavs/LJ034-0150.wav' target='_blank'>../data/LJSpeech-1.1/wavs/LJ034-0150.wav</a><br>"
      ],
      "text/plain": [
       "/Users/michaelp/Code/Tacotron-2/data/LJSpeech-1.1/wavs/LJ034-0150.wav"
      ]
     },
     "metadata": {},
     "output_type": "display_data"
    },
    {
     "data": {
      "text/markdown": [
       "\n",
       "\n",
       " ___"
      ],
      "text/plain": [
       "<IPython.core.display.Markdown object>"
      ]
     },
     "metadata": {},
     "output_type": "display_data"
    },
    {
     "data": {
      "text/markdown": [
       "**Text:** \"… quote, about XX, X foot **8** inches, black hair, slen…\""
      ],
      "text/plain": [
       "<IPython.core.display.Markdown object>"
      ]
     },
     "metadata": {},
     "output_type": "display_data"
    },
    {
     "data": {
      "text/html": [
       "<a href='../data/LJSpeech-1.1/wavs/LJ037-0051.wav' target='_blank'>../data/LJSpeech-1.1/wavs/LJ037-0051.wav</a><br>"
      ],
      "text/plain": [
       "/Users/michaelp/Code/Tacotron-2/data/LJSpeech-1.1/wavs/LJ037-0051.wav"
      ]
     },
     "metadata": {},
     "output_type": "display_data"
    },
    {
     "data": {
      "text/markdown": [
       "\n",
       "\n",
       " ___"
      ],
      "text/plain": [
       "<IPython.core.display.Markdown object>"
      ]
     },
     "metadata": {},
     "output_type": "display_data"
    },
    {
     "data": {
      "text/markdown": [
       "**Text:** \"…ixth Floor Approximately **35** Minutes Before the Assas…\""
      ],
      "text/plain": [
       "<IPython.core.display.Markdown object>"
      ]
     },
     "metadata": {},
     "output_type": "display_data"
    },
    {
     "data": {
      "text/html": [
       "<a href='../data/LJSpeech-1.1/wavs/LJ034-0067.wav' target='_blank'>../data/LJSpeech-1.1/wavs/LJ034-0067.wav</a><br>"
      ],
      "text/plain": [
       "/Users/michaelp/Code/Tacotron-2/data/LJSpeech-1.1/wavs/LJ034-0067.wav"
      ]
     },
     "metadata": {},
     "output_type": "display_data"
    },
    {
     "data": {
      "text/markdown": [
       "\n",
       "\n",
       " ___"
      ],
      "text/plain": [
       "<IPython.core.display.Markdown object>"
      ]
     },
     "metadata": {},
     "output_type": "display_data"
    },
    {
     "data": {
      "text/markdown": [
       "**Text:** \"…On December **2**, XXXX, Mrs. Ruth Paine t…\""
      ],
      "text/plain": [
       "<IPython.core.display.Markdown object>"
      ]
     },
     "metadata": {},
     "output_type": "display_data"
    },
    {
     "data": {
      "text/html": [
       "<a href='../data/LJSpeech-1.1/wavs/LJ038-0181.wav' target='_blank'>../data/LJSpeech-1.1/wavs/LJ038-0181.wav</a><br>"
      ],
      "text/plain": [
       "/Users/michaelp/Code/Tacotron-2/data/LJSpeech-1.1/wavs/LJ038-0181.wav"
      ]
     },
     "metadata": {},
     "output_type": "display_data"
    },
    {
     "data": {
      "text/markdown": [
       "\n",
       "\n",
       " ___"
      ],
      "text/plain": [
       "<IPython.core.display.Markdown object>"
      ]
     },
     "metadata": {},
     "output_type": "display_data"
    },
    {
     "data": {
      "text/markdown": [
       "**Text:** \"…imately XX, well, almost **11** years old. End quote.…\""
      ],
      "text/plain": [
       "<IPython.core.display.Markdown object>"
      ]
     },
     "metadata": {},
     "output_type": "display_data"
    },
    {
     "data": {
      "text/html": [
       "<a href='../data/LJSpeech-1.1/wavs/LJ040-0211.wav' target='_blank'>../data/LJSpeech-1.1/wavs/LJ040-0211.wav</a><br>"
      ],
      "text/plain": [
       "/Users/michaelp/Code/Tacotron-2/data/LJSpeech-1.1/wavs/LJ040-0211.wav"
      ]
     },
     "metadata": {},
     "output_type": "display_data"
    },
    {
     "data": {
      "text/markdown": [
       "\n",
       "\n",
       " ___"
      ],
      "text/plain": [
       "<IPython.core.display.Markdown object>"
      ]
     },
     "metadata": {},
     "output_type": "display_data"
    },
    {
     "data": {
      "text/markdown": [
       "**Text:** \"…On August **22**, it learned that Oswald …\""
      ],
      "text/plain": [
       "<IPython.core.display.Markdown object>"
      ]
     },
     "metadata": {},
     "output_type": "display_data"
    },
    {
     "data": {
      "text/html": [
       "<a href='../data/LJSpeech-1.1/wavs/LJ047-0116.wav' target='_blank'>../data/LJSpeech-1.1/wavs/LJ047-0116.wav</a><br>"
      ],
      "text/plain": [
       "/Users/michaelp/Code/Tacotron-2/data/LJSpeech-1.1/wavs/LJ047-0116.wav"
      ]
     },
     "metadata": {},
     "output_type": "display_data"
    },
    {
     "data": {
      "text/markdown": [
       "\n",
       "\n",
       " ___"
      ],
      "text/plain": [
       "<IPython.core.display.Markdown object>"
      ]
     },
     "metadata": {},
     "output_type": "display_data"
    },
    {
     "data": {
      "text/markdown": [
       "**Text:** \"…man they saw on November **22**, XXXX.…\""
      ],
      "text/plain": [
       "<IPython.core.display.Markdown object>"
      ]
     },
     "metadata": {},
     "output_type": "display_data"
    },
    {
     "data": {
      "text/html": [
       "<a href='../data/LJSpeech-1.1/wavs/LJ037-0134.wav' target='_blank'>../data/LJSpeech-1.1/wavs/LJ037-0134.wav</a><br>"
      ],
      "text/plain": [
       "/Users/michaelp/Code/Tacotron-2/data/LJSpeech-1.1/wavs/LJ037-0134.wav"
      ]
     },
     "metadata": {},
     "output_type": "display_data"
    },
    {
     "data": {
      "text/markdown": [
       "\n",
       "\n",
       " ___"
      ],
      "text/plain": [
       "<IPython.core.display.Markdown object>"
      ]
     },
     "metadata": {},
     "output_type": "display_data"
    },
    {
     "data": {
      "text/markdown": [
       "**Text:** \"… is presented in chapter **5** of this report.…\""
      ],
      "text/plain": [
       "<IPython.core.display.Markdown object>"
      ]
     },
     "metadata": {},
     "output_type": "display_data"
    },
    {
     "data": {
      "text/html": [
       "<a href='../data/LJSpeech-1.1/wavs/LJ038-0085.wav' target='_blank'>../data/LJSpeech-1.1/wavs/LJ038-0085.wav</a><br>"
      ],
      "text/plain": [
       "/Users/michaelp/Code/Tacotron-2/data/LJSpeech-1.1/wavs/LJ038-0085.wav"
      ]
     },
     "metadata": {},
     "output_type": "display_data"
    },
    {
     "data": {
      "text/markdown": [
       "\n",
       "\n",
       " ___"
      ],
      "text/plain": [
       "<IPython.core.display.Markdown object>"
      ]
     },
     "metadata": {},
     "output_type": "display_data"
    },
    {
     "data": {
      "text/markdown": [
       "**Text:** \"… President to spend only **1** day in the State, making…\""
      ],
      "text/plain": [
       "<IPython.core.display.Markdown object>"
      ]
     },
     "metadata": {},
     "output_type": "display_data"
    },
    {
     "data": {
      "text/html": [
       "<a href='../data/LJSpeech-1.1/wavs/LJ029-0022.wav' target='_blank'>../data/LJSpeech-1.1/wavs/LJ029-0022.wav</a><br>"
      ],
      "text/plain": [
       "/Users/michaelp/Code/Tacotron-2/data/LJSpeech-1.1/wavs/LJ029-0022.wav"
      ]
     },
     "metadata": {},
     "output_type": "display_data"
    },
    {
     "data": {
      "text/markdown": [
       "\n",
       "\n",
       " ___"
      ],
      "text/plain": [
       "<IPython.core.display.Markdown object>"
      ]
     },
     "metadata": {},
     "output_type": "display_data"
    },
    {
     "data": {
      "text/markdown": [
       "**Text:** \"…ret Service in the first **4** months of XXXX.…\""
      ],
      "text/plain": [
       "<IPython.core.display.Markdown object>"
      ]
     },
     "metadata": {},
     "output_type": "display_data"
    },
    {
     "data": {
      "text/html": [
       "<a href='../data/LJSpeech-1.1/wavs/LJ050-0067.wav' target='_blank'>../data/LJSpeech-1.1/wavs/LJ050-0067.wav</a><br>"
      ],
      "text/plain": [
       "/Users/michaelp/Code/Tacotron-2/data/LJSpeech-1.1/wavs/LJ050-0067.wav"
      ]
     },
     "metadata": {},
     "output_type": "display_data"
    },
    {
     "data": {
      "text/markdown": [
       "\n",
       "\n",
       " ___"
      ],
      "text/plain": [
       "<IPython.core.display.Markdown object>"
      ]
     },
     "metadata": {},
     "output_type": "display_data"
    },
    {
     "data": {
      "text/markdown": [
       "**Text:** \"… circulation on November **21** of a handbill sharply cr…\""
      ],
      "text/plain": [
       "<IPython.core.display.Markdown object>"
      ]
     },
     "metadata": {},
     "output_type": "display_data"
    },
    {
     "data": {
      "text/html": [
       "<a href='../data/LJSpeech-1.1/wavs/LJ029-0062.wav' target='_blank'>../data/LJSpeech-1.1/wavs/LJ029-0062.wav</a><br>"
      ],
      "text/plain": [
       "/Users/michaelp/Code/Tacotron-2/data/LJSpeech-1.1/wavs/LJ029-0062.wav"
      ]
     },
     "metadata": {},
     "output_type": "display_data"
    },
    {
     "data": {
      "text/markdown": [
       "\n",
       "\n",
       " ___"
      ],
      "text/plain": [
       "<IPython.core.display.Markdown object>"
      ]
     },
     "metadata": {},
     "output_type": "display_data"
    },
    {
     "data": {
      "text/markdown": [
       "**Text:** \"…XX George III. c. XX, s. **4** (XXXX)…\""
      ],
      "text/plain": [
       "<IPython.core.display.Markdown object>"
      ]
     },
     "metadata": {},
     "output_type": "display_data"
    },
    {
     "data": {
      "text/html": [
       "<a href='../data/LJSpeech-1.1/wavs/LJ004-0107.wav' target='_blank'>../data/LJSpeech-1.1/wavs/LJ004-0107.wav</a><br>"
      ],
      "text/plain": [
       "/Users/michaelp/Code/Tacotron-2/data/LJSpeech-1.1/wavs/LJ004-0107.wav"
      ]
     },
     "metadata": {},
     "output_type": "display_data"
    },
    {
     "data": {
      "text/markdown": [
       "\n",
       "\n",
       " ___"
      ],
      "text/plain": [
       "<IPython.core.display.Markdown object>"
      ]
     },
     "metadata": {},
     "output_type": "display_data"
    },
    {
     "data": {
      "text/markdown": [
       "**Text:** \"…(**3**) firearm identification …\""
      ],
      "text/plain": [
       "<IPython.core.display.Markdown object>"
      ]
     },
     "metadata": {},
     "output_type": "display_data"
    },
    {
     "data": {
      "text/html": [
       "<a href='../data/LJSpeech-1.1/wavs/LJ038-0179.wav' target='_blank'>../data/LJSpeech-1.1/wavs/LJ038-0179.wav</a><br>"
      ],
      "text/plain": [
       "/Users/michaelp/Code/Tacotron-2/data/LJSpeech-1.1/wavs/LJ038-0179.wav"
      ]
     },
     "metadata": {},
     "output_type": "display_data"
    },
    {
     "data": {
      "text/markdown": [
       "\n",
       "\n",
       " ___"
      ],
      "text/plain": [
       "<IPython.core.display.Markdown object>"
      ]
     },
     "metadata": {},
     "output_type": "display_data"
    },
    {
     "data": {
      "text/markdown": [
       "**Text:** \"…belonged to Oswald, and (**4**)…\""
      ],
      "text/plain": [
       "<IPython.core.display.Markdown object>"
      ]
     },
     "metadata": {},
     "output_type": "display_data"
    },
    {
     "data": {
      "text/html": [
       "<a href='../data/LJSpeech-1.1/wavs/LJ037-0268.wav' target='_blank'>../data/LJSpeech-1.1/wavs/LJ037-0268.wav</a><br>"
      ],
      "text/plain": [
       "/Users/michaelp/Code/Tacotron-2/data/LJSpeech-1.1/wavs/LJ037-0268.wav"
      ]
     },
     "metadata": {},
     "output_type": "display_data"
    },
    {
     "data": {
      "text/markdown": [
       "\n",
       "\n",
       " ___"
      ],
      "text/plain": [
       "<IPython.core.display.Markdown object>"
      ]
     },
     "metadata": {},
     "output_type": "display_data"
    },
    {
     "data": {
      "text/markdown": [
       "**Text:** \"…er X. The Assassin: Part **3**.…\""
      ],
      "text/plain": [
       "<IPython.core.display.Markdown object>"
      ]
     },
     "metadata": {},
     "output_type": "display_data"
    },
    {
     "data": {
      "text/html": [
       "<a href='../data/LJSpeech-1.1/wavs/LJ034-0002.wav' target='_blank'>../data/LJSpeech-1.1/wavs/LJ034-0002.wav</a><br>"
      ],
      "text/plain": [
       "/Users/michaelp/Code/Tacotron-2/data/LJSpeech-1.1/wavs/LJ034-0002.wav"
      ]
     },
     "metadata": {},
     "output_type": "display_data"
    },
    {
     "data": {
      "text/markdown": [
       "\n",
       "\n",
       " ___"
      ],
      "text/plain": [
       "<IPython.core.display.Markdown object>"
      ]
     },
     "metadata": {},
     "output_type": "display_data"
    },
    {
     "data": {
      "text/markdown": [
       "**Text:** \"…e Commission considered (**1**)…\""
      ],
      "text/plain": [
       "<IPython.core.display.Markdown object>"
      ]
     },
     "metadata": {},
     "output_type": "display_data"
    },
    {
     "data": {
      "text/html": [
       "<a href='../data/LJSpeech-1.1/wavs/LJ033-0006.wav' target='_blank'>../data/LJSpeech-1.1/wavs/LJ033-0006.wav</a><br>"
      ],
      "text/plain": [
       "/Users/michaelp/Code/Tacotron-2/data/LJSpeech-1.1/wavs/LJ033-0006.wav"
      ]
     },
     "metadata": {},
     "output_type": "display_data"
    },
    {
     "data": {
      "text/markdown": [
       "\n",
       "\n",
       " ___"
      ],
      "text/plain": [
       "<IPython.core.display.Markdown object>"
      ]
     },
     "metadata": {},
     "output_type": "display_data"
    },
    {
     "data": {
      "text/markdown": [
       "**Text:** \"…e White House on October **4** to discuss the details o…\""
      ],
      "text/plain": [
       "<IPython.core.display.Markdown object>"
      ]
     },
     "metadata": {},
     "output_type": "display_data"
    },
    {
     "data": {
      "text/html": [
       "<a href='../data/LJSpeech-1.1/wavs/LJ029-0025.wav' target='_blank'>../data/LJSpeech-1.1/wavs/LJ029-0025.wav</a><br>"
      ],
      "text/plain": [
       "/Users/michaelp/Code/Tacotron-2/data/LJSpeech-1.1/wavs/LJ029-0025.wav"
      ]
     },
     "metadata": {},
     "output_type": "display_data"
    },
    {
     "data": {
      "text/markdown": [
       "\n",
       "\n",
       " ___"
      ],
      "text/plain": [
       "<IPython.core.display.Markdown object>"
      ]
     },
     "metadata": {},
     "output_type": "display_data"
    },
    {
     "data": {
      "text/markdown": [
       "**Text:** \"…proximately XXX of these **400** cases as serious risks…\""
      ],
      "text/plain": [
       "<IPython.core.display.Markdown object>"
      ]
     },
     "metadata": {},
     "output_type": "display_data"
    },
    {
     "data": {
      "text/html": [
       "<a href='../data/LJSpeech-1.1/wavs/LJ046-0192.wav' target='_blank'>../data/LJSpeech-1.1/wavs/LJ046-0192.wav</a><br>"
      ],
      "text/plain": [
       "/Users/michaelp/Code/Tacotron-2/data/LJSpeech-1.1/wavs/LJ046-0192.wav"
      ]
     },
     "metadata": {},
     "output_type": "display_data"
    },
    {
     "data": {
      "text/markdown": [
       "\n",
       "\n",
       " ___"
      ],
      "text/plain": [
       "<IPython.core.display.Markdown object>"
      ]
     },
     "metadata": {},
     "output_type": "display_data"
    },
    {
     "data": {
      "text/markdown": [
       "**Text:** \"…t regarded approximately **100** of these 400 cases as se…\""
      ],
      "text/plain": [
       "<IPython.core.display.Markdown object>"
      ]
     },
     "metadata": {},
     "output_type": "display_data"
    },
    {
     "data": {
      "text/html": [
       "<a href='../data/LJSpeech-1.1/wavs/LJ046-0192.wav' target='_blank'>../data/LJSpeech-1.1/wavs/LJ046-0192.wav</a><br>"
      ],
      "text/plain": [
       "/Users/michaelp/Code/Tacotron-2/data/LJSpeech-1.1/wavs/LJ046-0192.wav"
      ]
     },
     "metadata": {},
     "output_type": "display_data"
    },
    {
     "data": {
      "text/markdown": [
       "\n",
       "\n",
       " ___"
      ],
      "text/plain": [
       "<IPython.core.display.Markdown object>"
      ]
     },
     "metadata": {},
     "output_type": "display_data"
    },
    {
     "data": {
      "text/markdown": [
       "**Text:** \"…ne residence on November **1** and 5, XXXX,…\""
      ],
      "text/plain": [
       "<IPython.core.display.Markdown object>"
      ]
     },
     "metadata": {},
     "output_type": "display_data"
    },
    {
     "data": {
      "text/html": [
       "<a href='../data/LJSpeech-1.1/wavs/LJ045-0134.wav' target='_blank'>../data/LJSpeech-1.1/wavs/LJ045-0134.wav</a><br>"
      ],
      "text/plain": [
       "/Users/michaelp/Code/Tacotron-2/data/LJSpeech-1.1/wavs/LJ045-0134.wav"
      ]
     },
     "metadata": {},
     "output_type": "display_data"
    },
    {
     "data": {
      "text/markdown": [
       "\n",
       "\n",
       " ___"
      ],
      "text/plain": [
       "<IPython.core.display.Markdown object>"
      ]
     },
     "metadata": {},
     "output_type": "display_data"
    },
    {
     "data": {
      "text/markdown": [
       "**Text:** \"…ard, each dated November **22**, were for Scott-Foresman…\""
      ],
      "text/plain": [
       "<IPython.core.display.Markdown object>"
      ]
     },
     "metadata": {},
     "output_type": "display_data"
    },
    {
     "data": {
      "text/html": [
       "<a href='../data/LJSpeech-1.1/wavs/LJ034-0088.wav' target='_blank'>../data/LJSpeech-1.1/wavs/LJ034-0088.wav</a><br>"
      ],
      "text/plain": [
       "/Users/michaelp/Code/Tacotron-2/data/LJSpeech-1.1/wavs/LJ034-0088.wav"
      ]
     },
     "metadata": {},
     "output_type": "display_data"
    },
    {
     "data": {
      "text/markdown": [
       "\n",
       "\n",
       " ___"
      ],
      "text/plain": [
       "<IPython.core.display.Markdown object>"
      ]
     },
     "metadata": {},
     "output_type": "display_data"
    },
    {
     "data": {
      "text/markdown": [
       "**Text:** \"…heeler. Biology. Chapter **8**.…\""
      ],
      "text/plain": [
       "<IPython.core.display.Markdown object>"
      ]
     },
     "metadata": {},
     "output_type": "display_data"
    },
    {
     "data": {
      "text/html": [
       "<a href='../data/LJSpeech-1.1/wavs/LJ026-0001.wav' target='_blank'>../data/LJSpeech-1.1/wavs/LJ026-0001.wav</a><br>"
      ],
      "text/plain": [
       "/Users/michaelp/Code/Tacotron-2/data/LJSpeech-1.1/wavs/LJ026-0001.wav"
      ]
     },
     "metadata": {},
     "output_type": "display_data"
    },
    {
     "data": {
      "text/markdown": [
       "\n",
       "\n",
       " ___"
      ],
      "text/plain": [
       "<IPython.core.display.Markdown object>"
      ]
     },
     "metadata": {},
     "output_type": "display_data"
    },
    {
     "data": {
      "text/markdown": [
       "**Text:** \"…included in the group of **400**…\""
      ],
      "text/plain": [
       "<IPython.core.display.Markdown object>"
      ]
     },
     "metadata": {},
     "output_type": "display_data"
    },
    {
     "data": {
      "text/html": [
       "<a href='../data/LJSpeech-1.1/wavs/LJ046-0178.wav' target='_blank'>../data/LJSpeech-1.1/wavs/LJ046-0178.wav</a><br>"
      ],
      "text/plain": [
       "/Users/michaelp/Code/Tacotron-2/data/LJSpeech-1.1/wavs/LJ046-0178.wav"
      ]
     },
     "metadata": {},
     "output_type": "display_data"
    },
    {
     "data": {
      "text/markdown": [
       "\n",
       "\n",
       " ___"
      ],
      "text/plain": [
       "<IPython.core.display.Markdown object>"
      ]
     },
     "metadata": {},
     "output_type": "display_data"
    },
    {
     "data": {
      "text/markdown": [
       "**Text:** \"…ory Building on November **22**, carrying a long and bul…\""
      ],
      "text/plain": [
       "<IPython.core.display.Markdown object>"
      ]
     },
     "metadata": {},
     "output_type": "display_data"
    },
    {
     "data": {
      "text/html": [
       "<a href='../data/LJSpeech-1.1/wavs/LJ033-0009.wav' target='_blank'>../data/LJSpeech-1.1/wavs/LJ033-0009.wav</a><br>"
      ],
      "text/plain": [
       "/Users/michaelp/Code/Tacotron-2/data/LJSpeech-1.1/wavs/LJ033-0009.wav"
      ]
     },
     "metadata": {},
     "output_type": "display_data"
    },
    {
     "data": {
      "text/markdown": [
       "\n",
       "\n",
       " ___"
      ],
      "text/plain": [
       "<IPython.core.display.Markdown object>"
      ]
     },
     "metadata": {},
     "output_type": "display_data"
    },
    {
     "data": {
      "text/markdown": [
       "**Text:** \"…d measured approximately **5** inches (13 centimeters) …\""
      ],
      "text/plain": [
       "<IPython.core.display.Markdown object>"
      ]
     },
     "metadata": {},
     "output_type": "display_data"
    },
    {
     "data": {
      "text/html": [
       "<a href='../data/LJSpeech-1.1/wavs/LJ031-0218.wav' target='_blank'>../data/LJSpeech-1.1/wavs/LJ031-0218.wav</a><br>"
      ],
      "text/plain": [
       "/Users/michaelp/Code/Tacotron-2/data/LJSpeech-1.1/wavs/LJ031-0218.wav"
      ]
     },
     "metadata": {},
     "output_type": "display_data"
    },
    {
     "data": {
      "text/markdown": [
       "\n",
       "\n",
       " ___"
      ],
      "text/plain": [
       "<IPython.core.display.Markdown object>"
      ]
     },
     "metadata": {},
     "output_type": "display_data"
    },
    {
     "data": {
      "text/markdown": [
       "**Text:** \"…news stories on November **19**, 20, and 22.…\""
      ],
      "text/plain": [
       "<IPython.core.display.Markdown object>"
      ]
     },
     "metadata": {},
     "output_type": "display_data"
    },
    {
     "data": {
      "text/html": [
       "<a href='../data/LJSpeech-1.1/wavs/LJ045-0196.wav' target='_blank'>../data/LJSpeech-1.1/wavs/LJ045-0196.wav</a><br>"
      ],
      "text/plain": [
       "/Users/michaelp/Code/Tacotron-2/data/LJSpeech-1.1/wavs/LJ045-0196.wav"
      ]
     },
     "metadata": {},
     "output_type": "display_data"
    },
    {
     "data": {
      "text/markdown": [
       "\n",
       "\n",
       " ___"
      ],
      "text/plain": [
       "<IPython.core.display.Markdown object>"
      ]
     },
     "metadata": {},
     "output_type": "display_data"
    },
    {
     "data": {
      "text/markdown": [
       "**Text:** \"…n proceeded at a rate of **12** to 15 miles per hour…\""
      ],
      "text/plain": [
       "<IPython.core.display.Markdown object>"
      ]
     },
     "metadata": {},
     "output_type": "display_data"
    },
    {
     "data": {
      "text/html": [
       "<a href='../data/LJSpeech-1.1/wavs/LJ030-0206.wav' target='_blank'>../data/LJSpeech-1.1/wavs/LJ030-0206.wav</a><br>"
      ],
      "text/plain": [
       "/Users/michaelp/Code/Tacotron-2/data/LJSpeech-1.1/wavs/LJ030-0206.wav"
      ]
     },
     "metadata": {},
     "output_type": "display_data"
    },
    {
     "data": {
      "text/markdown": [
       "\n",
       "\n",
       " ___"
      ],
      "text/plain": [
       "<IPython.core.display.Markdown object>"
      ]
     },
     "metadata": {},
     "output_type": "display_data"
    },
    {
     "data": {
      "text/markdown": [
       "**Text:** \"…th FBI agents on January **7**, XXXX,…\""
      ],
      "text/plain": [
       "<IPython.core.display.Markdown object>"
      ]
     },
     "metadata": {},
     "output_type": "display_data"
    },
    {
     "data": {
      "text/html": [
       "<a href='../data/LJSpeech-1.1/wavs/LJ034-0148.wav' target='_blank'>../data/LJSpeech-1.1/wavs/LJ034-0148.wav</a><br>"
      ],
      "text/plain": [
       "/Users/michaelp/Code/Tacotron-2/data/LJSpeech-1.1/wavs/LJ034-0148.wav"
      ]
     },
     "metadata": {},
     "output_type": "display_data"
    },
    {
     "data": {
      "text/markdown": [
       "\n",
       "\n",
       " ___"
      ],
      "text/plain": [
       "<IPython.core.display.Markdown object>"
      ]
     },
     "metadata": {},
     "output_type": "display_data"
    },
    {
     "data": {
      "text/markdown": [
       "**Text:** \"…as been shown in chapter **3**, if the three shots were…\""
      ],
      "text/plain": [
       "<IPython.core.display.Markdown object>"
      ]
     },
     "metadata": {},
     "output_type": "display_data"
    },
    {
     "data": {
      "text/html": [
       "<a href='../data/LJSpeech-1.1/wavs/LJ039-0180.wav' target='_blank'>../data/LJSpeech-1.1/wavs/LJ039-0180.wav</a><br>"
      ],
      "text/plain": [
       "/Users/michaelp/Code/Tacotron-2/data/LJSpeech-1.1/wavs/LJ039-0180.wav"
      ]
     },
     "metadata": {},
     "output_type": "display_data"
    },
    {
     "data": {
      "text/markdown": [
       "\n",
       "\n",
       " ___"
      ],
      "text/plain": [
       "<IPython.core.display.Markdown object>"
      ]
     },
     "metadata": {},
     "output_type": "display_data"
    },
    {
     "data": {
      "text/markdown": [
       "**Text:** \"…On November **4**, Gerald A. Behn, agent i…\""
      ],
      "text/plain": [
       "<IPython.core.display.Markdown object>"
      ]
     },
     "metadata": {},
     "output_type": "display_data"
    },
    {
     "data": {
      "text/html": [
       "<a href='../data/LJSpeech-1.1/wavs/LJ029-0076.wav' target='_blank'>../data/LJSpeech-1.1/wavs/LJ029-0076.wav</a><br>"
      ],
      "text/plain": [
       "/Users/michaelp/Code/Tacotron-2/data/LJSpeech-1.1/wavs/LJ029-0076.wav"
      ]
     },
     "metadata": {},
     "output_type": "display_data"
    },
    {
     "data": {
      "text/markdown": [
       "\n",
       "\n",
       " ___"
      ],
      "text/plain": [
       "<IPython.core.display.Markdown object>"
      ]
     },
     "metadata": {},
     "output_type": "display_data"
    },
    {
     "data": {
      "text/markdown": [
       "**Text:** \"…weeks before, on October **7**, but she had asked him t…\""
      ],
      "text/plain": [
       "<IPython.core.display.Markdown object>"
      ]
     },
     "metadata": {},
     "output_type": "display_data"
    },
    {
     "data": {
      "text/html": [
       "<a href='../data/LJSpeech-1.1/wavs/LJ036-0044.wav' target='_blank'>../data/LJSpeech-1.1/wavs/LJ036-0044.wav</a><br>"
      ],
      "text/plain": [
       "/Users/michaelp/Code/Tacotron-2/data/LJSpeech-1.1/wavs/LJ036-0044.wav"
      ]
     },
     "metadata": {},
     "output_type": "display_data"
    },
    {
     "data": {
      "text/markdown": [
       "\n",
       "\n",
       " ___"
      ],
      "text/plain": [
       "<IPython.core.display.Markdown object>"
      ]
     },
     "metadata": {},
     "output_type": "display_data"
    },
    {
     "data": {
      "text/markdown": [
       "**Text:** \"…, end quote, for October **21**, XXXX, reports, quote,…\""
      ],
      "text/plain": [
       "<IPython.core.display.Markdown object>"
      ]
     },
     "metadata": {},
     "output_type": "display_data"
    },
    {
     "data": {
      "text/html": [
       "<a href='../data/LJSpeech-1.1/wavs/LJ042-0064.wav' target='_blank'>../data/LJSpeech-1.1/wavs/LJ042-0064.wav</a><br>"
      ],
      "text/plain": [
       "/Users/michaelp/Code/Tacotron-2/data/LJSpeech-1.1/wavs/LJ042-0064.wav"
      ]
     },
     "metadata": {},
     "output_type": "display_data"
    },
    {
     "data": {
      "text/markdown": [
       "\n",
       "\n",
       " ___"
      ],
      "text/plain": [
       "<IPython.core.display.Markdown object>"
      ]
     },
     "metadata": {},
     "output_type": "display_data"
    }
   ],
   "source": [
    "find_examples(r'(\\b[0-9]{1}[0-9\\.\\,]{0,}\\b)', display_n=50)"
   ]
  },
  {
   "cell_type": "code",
   "execution_count": 20,
   "metadata": {},
   "outputs": [
    {
     "data": {
      "text/markdown": [
       "4 → four (four)"
      ],
      "text/plain": [
       "<IPython.core.display.Markdown object>"
      ]
     },
     "metadata": {},
     "output_type": "display_data"
    },
    {
     "data": {
      "text/markdown": [
       "22 → twenty-two (twenty-two)"
      ],
      "text/plain": [
       "<IPython.core.display.Markdown object>"
      ]
     },
     "metadata": {},
     "output_type": "display_data"
    },
    {
     "data": {
      "text/markdown": [
       "20 → twenty (twenty)"
      ],
      "text/plain": [
       "<IPython.core.display.Markdown object>"
      ]
     },
     "metadata": {},
     "output_type": "display_data"
    },
    {
     "data": {
      "text/markdown": [
       "176.9 → one hundred seventy-six point nine (one hundred seventy-six point nine)"
      ],
      "text/plain": [
       "<IPython.core.display.Markdown object>"
      ]
     },
     "metadata": {},
     "output_type": "display_data"
    },
    {
     "data": {
      "text/markdown": [
       "265.3 → two hundred sixty-five point three (two hundred sixty-five point three)"
      ],
      "text/plain": [
       "<IPython.core.display.Markdown object>"
      ]
     },
     "metadata": {},
     "output_type": "display_data"
    },
    {
     "data": {
      "text/markdown": [
       "6.45 → six point four five (six point four five)"
      ],
      "text/plain": [
       "<IPython.core.display.Markdown object>"
      ]
     },
     "metadata": {},
     "output_type": "display_data"
    },
    {
     "data": {
      "text/markdown": [
       "50000 → fifty thousand (fifty thousand)"
      ],
      "text/plain": [
       "<IPython.core.display.Markdown object>"
      ]
     },
     "metadata": {},
     "output_type": "display_data"
    },
    {
     "data": {
      "text/markdown": [
       "1000 → one thousand (one thousand)"
      ],
      "text/plain": [
       "<IPython.core.display.Markdown object>"
      ]
     },
     "metadata": {},
     "output_type": "display_data"
    },
    {
     "data": {
      "text/markdown": [
       "8709 → eight thousand, seven hundred nine (eight thousand, seven hundred nine)"
      ],
      "text/plain": [
       "<IPython.core.display.Markdown object>"
      ]
     },
     "metadata": {},
     "output_type": "display_data"
    },
    {
     "data": {
      "text/markdown": [
       "182 → one hundred eighty-two (one hundred eighty-two)"
      ],
      "text/plain": [
       "<IPython.core.display.Markdown object>"
      ]
     },
     "metadata": {},
     "output_type": "display_data"
    }
   ],
   "source": [
    "from IPython.display import Markdown\n",
    "\n",
    "from functools import partial\n",
    "from num2words import num2words\n",
    "\n",
    "cases = [('Chapter 4. The Assassin:', 'four'), \n",
    "         ('the morning of November 22 prior to the motorcade', 'twenty-two'),\n",
    "         ('was shipped on March 20, and the shooting', 'twenty'),\n",
    "         ('Kennedy in the neck at 176.9', 'one hundred seventy-six point nine'), \n",
    "         ('distance of 265.3 feet was, quote', 'two hundred sixty-five point three'),\n",
    "         ('ries they required XXXX, 6.45,', 'six point four five'),\n",
    "         ('information on some 50,000 cases', 'fifty thousand'), \n",
    "         ('actually had only 1,000 printed.', 'one thousand'),\n",
    "         ('PRS received items in 8,709 cases', 'eight thousand, seven hundred nine'),\n",
    "         ('debtors and 182 felons,', 'one hundred eighty-two')]\n",
    "\n",
    "def replace(text, true):\n",
    "    text = text.replace(',', '')\n",
    "    ret = num2words(float(text))\n",
    "    ret = ret.replace('hundred and', 'hundred')\n",
    "    display(Markdown(text + ' → ' + ret + ' (' + true + ')'))\n",
    "    return ret\n",
    "\n",
    "for text in cases:\n",
    "    _iterate_and_replace(r'(\\b[0-9\\.\\,]+\\b)', text[0], partial(replace, true=text[1]))"
   ]
  },
  {
   "cell_type": "markdown",
   "metadata": {},
   "source": [
    "## Roman Numbers"
   ]
  },
  {
   "cell_type": "code",
   "execution_count": 32,
   "metadata": {},
   "outputs": [
    {
     "data": {
      "text/markdown": [
       "### Examples Captured by Regex"
      ],
      "text/plain": [
       "<IPython.core.display.Markdown object>"
      ]
     },
     "metadata": {},
     "output_type": "display_data"
    },
    {
     "data": {
      "text/markdown": [
       "**Regex:** \\b(?:George|Charles|Napoleon|Henry|Nebuchadnezzar|William) ([IV]+\\.{0,})"
      ],
      "text/plain": [
       "<IPython.core.display.Markdown object>"
      ]
     },
     "metadata": {},
     "output_type": "display_data"
    },
    {
     "data": {
      "text/markdown": [
       "**Number of Examples:** 22"
      ],
      "text/plain": [
       "<IPython.core.display.Markdown object>"
      ]
     },
     "metadata": {},
     "output_type": "display_data"
    },
    {
     "data": {
      "text/markdown": [
       "**Number of Examples Shown:** 22"
      ],
      "text/plain": [
       "<IPython.core.display.Markdown object>"
      ]
     },
     "metadata": {},
     "output_type": "display_data"
    },
    {
     "data": {
      "text/markdown": [
       "\n",
       "\n",
       " ___"
      ],
      "text/plain": [
       "<IPython.core.display.Markdown object>"
      ]
     },
     "metadata": {},
     "output_type": "display_data"
    },
    {
     "data": {
      "text/markdown": [
       "**Text:** \"…Again, the XX Charles **II.** c XX ordered the jailer …\""
      ],
      "text/plain": [
       "<IPython.core.display.Markdown object>"
      ]
     },
     "metadata": {},
     "output_type": "display_data"
    },
    {
     "data": {
      "text/html": [
       "<a href='../data/LJSpeech-1.1/wavs/LJ004-0090.wav' target='_blank'>../data/LJSpeech-1.1/wavs/LJ004-0090.wav</a><br>"
      ],
      "text/plain": [
       "/Users/michaelp/Code/Tacotron-2/data/LJSpeech-1.1/wavs/LJ004-0090.wav"
      ]
     },
     "metadata": {},
     "output_type": "display_data"
    },
    {
     "data": {
      "text/markdown": [
       "\n",
       "\n",
       " ___"
      ],
      "text/plain": [
       "<IPython.core.display.Markdown object>"
      ]
     },
     "metadata": {},
     "output_type": "display_data"
    },
    {
     "data": {
      "text/markdown": [
       "**Text:** \"…tried to stab George **III.** as he was alighting from…\""
      ],
      "text/plain": [
       "<IPython.core.display.Markdown object>"
      ]
     },
     "metadata": {},
     "output_type": "display_data"
    },
    {
     "data": {
      "text/html": [
       "<a href='../data/LJSpeech-1.1/wavs/LJ010-0148.wav' target='_blank'>../data/LJSpeech-1.1/wavs/LJ010-0148.wav</a><br>"
      ],
      "text/plain": [
       "/Users/michaelp/Code/Tacotron-2/data/LJSpeech-1.1/wavs/LJ010-0148.wav"
      ]
     },
     "metadata": {},
     "output_type": "display_data"
    },
    {
     "data": {
      "text/markdown": [
       "\n",
       "\n",
       " ___"
      ],
      "text/plain": [
       "<IPython.core.display.Markdown object>"
      ]
     },
     "metadata": {},
     "output_type": "display_data"
    },
    {
     "data": {
      "text/markdown": [
       "**Text:** \"…later act, the XX George **III.** c. XX (XXXX),…\""
      ],
      "text/plain": [
       "<IPython.core.display.Markdown object>"
      ]
     },
     "metadata": {},
     "output_type": "display_data"
    },
    {
     "data": {
      "text/html": [
       "<a href='../data/LJSpeech-1.1/wavs/LJ004-0092.wav' target='_blank'>../data/LJSpeech-1.1/wavs/LJ004-0092.wav</a><br>"
      ],
      "text/plain": [
       "/Users/michaelp/Code/Tacotron-2/data/LJSpeech-1.1/wavs/LJ004-0092.wav"
      ]
     },
     "metadata": {},
     "output_type": "display_data"
    },
    {
     "data": {
      "text/markdown": [
       "\n",
       "\n",
       " ___"
      ],
      "text/plain": [
       "<IPython.core.display.Markdown object>"
      ]
     },
     "metadata": {},
     "output_type": "display_data"
    },
    {
     "data": {
      "text/markdown": [
       "**Text:** \"…irements of the X George **IV.**…\""
      ],
      "text/plain": [
       "<IPython.core.display.Markdown object>"
      ]
     },
     "metadata": {},
     "output_type": "display_data"
    },
    {
     "data": {
      "text/html": [
       "<a href='../data/LJSpeech-1.1/wavs/LJ005-0250.wav' target='_blank'>../data/LJSpeech-1.1/wavs/LJ005-0250.wav</a><br>"
      ],
      "text/plain": [
       "/Users/michaelp/Code/Tacotron-2/data/LJSpeech-1.1/wavs/LJ005-0250.wav"
      ]
     },
     "metadata": {},
     "output_type": "display_data"
    },
    {
     "data": {
      "text/markdown": [
       "\n",
       "\n",
       " ___"
      ],
      "text/plain": [
       "<IPython.core.display.Markdown object>"
      ]
     },
     "metadata": {},
     "output_type": "display_data"
    },
    {
     "data": {
      "text/markdown": [
       "**Text:** \"…ew Jail Acts of X George **IV**…\""
      ],
      "text/plain": [
       "<IPython.core.display.Markdown object>"
      ]
     },
     "metadata": {},
     "output_type": "display_data"
    },
    {
     "data": {
      "text/html": [
       "<a href='../data/LJSpeech-1.1/wavs/LJ005-0073.wav' target='_blank'>../data/LJSpeech-1.1/wavs/LJ005-0073.wav</a><br>"
      ],
      "text/plain": [
       "/Users/michaelp/Code/Tacotron-2/data/LJSpeech-1.1/wavs/LJ005-0073.wav"
      ]
     },
     "metadata": {},
     "output_type": "display_data"
    },
    {
     "data": {
      "text/markdown": [
       "\n",
       "\n",
       " ___"
      ],
      "text/plain": [
       "<IPython.core.display.Markdown object>"
      ]
     },
     "metadata": {},
     "output_type": "display_data"
    },
    {
     "data": {
      "text/markdown": [
       "**Text:** \"…force was the XXX George **IV.** cap. XX, which directed …\""
      ],
      "text/plain": [
       "<IPython.core.display.Markdown object>"
      ]
     },
     "metadata": {},
     "output_type": "display_data"
    },
    {
     "data": {
      "text/html": [
       "<a href='../data/LJSpeech-1.1/wavs/LJ009-0179.wav' target='_blank'>../data/LJSpeech-1.1/wavs/LJ009-0179.wav</a><br>"
      ],
      "text/plain": [
       "/Users/michaelp/Code/Tacotron-2/data/LJSpeech-1.1/wavs/LJ009-0179.wav"
      ]
     },
     "metadata": {},
     "output_type": "display_data"
    },
    {
     "data": {
      "text/markdown": [
       "\n",
       "\n",
       " ___"
      ],
      "text/plain": [
       "<IPython.core.display.Markdown object>"
      ]
     },
     "metadata": {},
     "output_type": "display_data"
    },
    {
     "data": {
      "text/markdown": [
       "**Text:** \"…By the XX George **III.** c. XX, s. X,…\""
      ],
      "text/plain": [
       "<IPython.core.display.Markdown object>"
      ]
     },
     "metadata": {},
     "output_type": "display_data"
    },
    {
     "data": {
      "text/html": [
       "<a href='../data/LJSpeech-1.1/wavs/LJ004-0104.wav' target='_blank'>../data/LJSpeech-1.1/wavs/LJ004-0104.wav</a><br>"
      ],
      "text/plain": [
       "/Users/michaelp/Code/Tacotron-2/data/LJSpeech-1.1/wavs/LJ004-0104.wav"
      ]
     },
     "metadata": {},
     "output_type": "display_data"
    },
    {
     "data": {
      "text/markdown": [
       "\n",
       "\n",
       " ___"
      ],
      "text/plain": [
       "<IPython.core.display.Markdown object>"
      ]
     },
     "metadata": {},
     "output_type": "display_data"
    },
    {
     "data": {
      "text/markdown": [
       "**Text:** \"…mber in the XXXX Charles **I.**…\""
      ],
      "text/plain": [
       "<IPython.core.display.Markdown object>"
      ]
     },
     "metadata": {},
     "output_type": "display_data"
    },
    {
     "data": {
      "text/html": [
       "<a href='../data/LJSpeech-1.1/wavs/LJ002-0215.wav' target='_blank'>../data/LJSpeech-1.1/wavs/LJ002-0215.wav</a><br>"
      ],
      "text/plain": [
       "/Users/michaelp/Code/Tacotron-2/data/LJSpeech-1.1/wavs/LJ002-0215.wav"
      ]
     },
     "metadata": {},
     "output_type": "display_data"
    },
    {
     "data": {
      "text/markdown": [
       "\n",
       "\n",
       " ___"
      ],
      "text/plain": [
       "<IPython.core.display.Markdown object>"
      ]
     },
     "metadata": {},
     "output_type": "display_data"
    },
    {
     "data": {
      "text/markdown": [
       "**Text:** \"…as instituted by Charles **I.** in the sixth year of his…\""
      ],
      "text/plain": [
       "<IPython.core.display.Markdown object>"
      ]
     },
     "metadata": {},
     "output_type": "display_data"
    },
    {
     "data": {
      "text/html": [
       "<a href='../data/LJSpeech-1.1/wavs/LJ002-0241.wav' target='_blank'>../data/LJSpeech-1.1/wavs/LJ002-0241.wav</a><br>"
      ],
      "text/plain": [
       "/Users/michaelp/Code/Tacotron-2/data/LJSpeech-1.1/wavs/LJ002-0241.wav"
      ]
     },
     "metadata": {},
     "output_type": "display_data"
    },
    {
     "data": {
      "text/markdown": [
       "\n",
       "\n",
       " ___"
      ],
      "text/plain": [
       "<IPython.core.display.Markdown object>"
      ]
     },
     "metadata": {},
     "output_type": "display_data"
    },
    {
     "data": {
      "text/markdown": [
       "**Text:** \"…but in the XXXX George **II** the right of presentatio…\""
      ],
      "text/plain": [
       "<IPython.core.display.Markdown object>"
      ]
     },
     "metadata": {},
     "output_type": "display_data"
    },
    {
     "data": {
      "text/html": [
       "<a href='../data/LJSpeech-1.1/wavs/LJ002-0199.wav' target='_blank'>../data/LJSpeech-1.1/wavs/LJ002-0199.wav</a><br>"
      ],
      "text/plain": [
       "/Users/michaelp/Code/Tacotron-2/data/LJSpeech-1.1/wavs/LJ002-0199.wav"
      ]
     },
     "metadata": {},
     "output_type": "display_data"
    },
    {
     "data": {
      "text/markdown": [
       "\n",
       "\n",
       " ___"
      ],
      "text/plain": [
       "<IPython.core.display.Markdown object>"
      ]
     },
     "metadata": {},
     "output_type": "display_data"
    },
    {
     "data": {
      "text/markdown": [
       "**Text:** \"…William **IV.** was also the victim of a…\""
      ],
      "text/plain": [
       "<IPython.core.display.Markdown object>"
      ]
     },
     "metadata": {},
     "output_type": "display_data"
    },
    {
     "data": {
      "text/html": [
       "<a href='../data/LJSpeech-1.1/wavs/LJ010-0153.wav' target='_blank'>../data/LJSpeech-1.1/wavs/LJ010-0153.wav</a><br>"
      ],
      "text/plain": [
       "/Users/michaelp/Code/Tacotron-2/data/LJSpeech-1.1/wavs/LJ010-0153.wav"
      ]
     },
     "metadata": {},
     "output_type": "display_data"
    },
    {
     "data": {
      "text/markdown": [
       "\n",
       "\n",
       " ___"
      ],
      "text/plain": [
       "<IPython.core.display.Markdown object>"
      ]
     },
     "metadata": {},
     "output_type": "display_data"
    },
    {
     "data": {
      "text/markdown": [
       "**Text:** \"…ck as the reign of Henry **VIII.** a new and most cruel pen…\""
      ],
      "text/plain": [
       "<IPython.core.display.Markdown object>"
      ]
     },
     "metadata": {},
     "output_type": "display_data"
    },
    {
     "data": {
      "text/html": [
       "<a href='../data/LJSpeech-1.1/wavs/LJ017-0007.wav' target='_blank'>../data/LJSpeech-1.1/wavs/LJ017-0007.wav</a><br>"
      ],
      "text/plain": [
       "/Users/michaelp/Code/Tacotron-2/data/LJSpeech-1.1/wavs/LJ017-0007.wav"
      ]
     },
     "metadata": {},
     "output_type": "display_data"
    },
    {
     "data": {
      "text/markdown": [
       "\n",
       "\n",
       " ___"
      ],
      "text/plain": [
       "<IPython.core.display.Markdown object>"
      ]
     },
     "metadata": {},
     "output_type": "display_data"
    },
    {
     "data": {
      "text/markdown": [
       "**Text:** \"…id down by the XX George **III.** cap. XX,…\""
      ],
      "text/plain": [
       "<IPython.core.display.Markdown object>"
      ]
     },
     "metadata": {},
     "output_type": "display_data"
    },
    {
     "data": {
      "text/html": [
       "<a href='../data/LJSpeech-1.1/wavs/LJ005-0085.wav' target='_blank'>../data/LJSpeech-1.1/wavs/LJ005-0085.wav</a><br>"
      ],
      "text/plain": [
       "/Users/michaelp/Code/Tacotron-2/data/LJSpeech-1.1/wavs/LJ005-0085.wav"
      ]
     },
     "metadata": {},
     "output_type": "display_data"
    },
    {
     "data": {
      "text/markdown": [
       "\n",
       "\n",
       " ___"
      ],
      "text/plain": [
       "<IPython.core.display.Markdown object>"
      ]
     },
     "metadata": {},
     "output_type": "display_data"
    },
    {
     "data": {
      "text/markdown": [
       "**Text:** \"…fired a pistol at George **III.** from the pit of Drury La…\""
      ],
      "text/plain": [
       "<IPython.core.display.Markdown object>"
      ]
     },
     "metadata": {},
     "output_type": "display_data"
    },
    {
     "data": {
      "text/html": [
       "<a href='../data/LJSpeech-1.1/wavs/LJ010-0152.wav' target='_blank'>../data/LJSpeech-1.1/wavs/LJ010-0152.wav</a><br>"
      ],
      "text/plain": [
       "/Users/michaelp/Code/Tacotron-2/data/LJSpeech-1.1/wavs/LJ010-0152.wav"
      ]
     },
     "metadata": {},
     "output_type": "display_data"
    },
    {
     "data": {
      "text/markdown": [
       "\n",
       "\n",
       " ___"
      ],
      "text/plain": [
       "<IPython.core.display.Markdown object>"
      ]
     },
     "metadata": {},
     "output_type": "display_data"
    },
    {
     "data": {
      "text/markdown": [
       "**Text:** \"…assing of the XXX George **IV.** c. XX, any two justices …\""
      ],
      "text/plain": [
       "<IPython.core.display.Markdown object>"
      ]
     },
     "metadata": {},
     "output_type": "display_data"
    },
    {
     "data": {
      "text/html": [
       "<a href='../data/LJSpeech-1.1/wavs/LJ007-0078.wav' target='_blank'>../data/LJSpeech-1.1/wavs/LJ007-0078.wav</a><br>"
      ],
      "text/plain": [
       "/Users/michaelp/Code/Tacotron-2/data/LJSpeech-1.1/wavs/LJ007-0078.wav"
      ]
     },
     "metadata": {},
     "output_type": "display_data"
    },
    {
     "data": {
      "text/markdown": [
       "\n",
       "\n",
       " ___"
      ],
      "text/plain": [
       "<IPython.core.display.Markdown object>"
      ]
     },
     "metadata": {},
     "output_type": "display_data"
    },
    {
     "data": {
      "text/markdown": [
       "**Text:** \"… as the reign of Charles **II.**, a law was passed declar…\""
      ],
      "text/plain": [
       "<IPython.core.display.Markdown object>"
      ]
     },
     "metadata": {},
     "output_type": "display_data"
    },
    {
     "data": {
      "text/html": [
       "<a href='../data/LJSpeech-1.1/wavs/LJ004-0085.wav' target='_blank'>../data/LJSpeech-1.1/wavs/LJ004-0085.wav</a><br>"
      ],
      "text/plain": [
       "/Users/michaelp/Code/Tacotron-2/data/LJSpeech-1.1/wavs/LJ004-0085.wav"
      ]
     },
     "metadata": {},
     "output_type": "display_data"
    },
    {
     "data": {
      "text/markdown": [
       "\n",
       "\n",
       " ___"
      ],
      "text/plain": [
       "<IPython.core.display.Markdown object>"
      ]
     },
     "metadata": {},
     "output_type": "display_data"
    },
    {
     "data": {
      "text/markdown": [
       "**Text:** \"…others, that Napoleon **III.**, but recently proclaimed…\""
      ],
      "text/plain": [
       "<IPython.core.display.Markdown object>"
      ]
     },
     "metadata": {},
     "output_type": "display_data"
    },
    {
     "data": {
      "text/html": [
       "<a href='../data/LJSpeech-1.1/wavs/LJ014-0308.wav' target='_blank'>../data/LJSpeech-1.1/wavs/LJ014-0308.wav</a><br>"
      ],
      "text/plain": [
       "/Users/michaelp/Code/Tacotron-2/data/LJSpeech-1.1/wavs/LJ014-0308.wav"
      ]
     },
     "metadata": {},
     "output_type": "display_data"
    },
    {
     "data": {
      "text/markdown": [
       "\n",
       "\n",
       " ___"
      ],
      "text/plain": [
       "<IPython.core.display.Markdown object>"
      ]
     },
     "metadata": {},
     "output_type": "display_data"
    },
    {
     "data": {
      "text/markdown": [
       "**Text:** \"…e long illness of George **III.**, as many as one hundred …\""
      ],
      "text/plain": [
       "<IPython.core.display.Markdown object>"
      ]
     },
     "metadata": {},
     "output_type": "display_data"
    },
    {
     "data": {
      "text/html": [
       "<a href='../data/LJSpeech-1.1/wavs/LJ003-0193.wav' target='_blank'>../data/LJSpeech-1.1/wavs/LJ003-0193.wav</a><br>"
      ],
      "text/plain": [
       "/Users/michaelp/Code/Tacotron-2/data/LJSpeech-1.1/wavs/LJ003-0193.wav"
      ]
     },
     "metadata": {},
     "output_type": "display_data"
    },
    {
     "data": {
      "text/markdown": [
       "\n",
       "\n",
       " ___"
      ],
      "text/plain": [
       "<IPython.core.display.Markdown object>"
      ]
     },
     "metadata": {},
     "output_type": "display_data"
    },
    {
     "data": {
      "text/markdown": [
       "**Text:** \"…nd in XXX Nebuchadnezzar **III.**, a native Babylonian, wa…\""
      ],
      "text/plain": [
       "<IPython.core.display.Markdown object>"
      ]
     },
     "metadata": {},
     "output_type": "display_data"
    },
    {
     "data": {
      "text/html": [
       "<a href='../data/LJSpeech-1.1/wavs/LJ028-0257.wav' target='_blank'>../data/LJSpeech-1.1/wavs/LJ028-0257.wav</a><br>"
      ],
      "text/plain": [
       "/Users/michaelp/Code/Tacotron-2/data/LJSpeech-1.1/wavs/LJ028-0257.wav"
      ]
     },
     "metadata": {},
     "output_type": "display_data"
    },
    {
     "data": {
      "text/markdown": [
       "\n",
       "\n",
       " ___"
      ],
      "text/plain": [
       "<IPython.core.display.Markdown object>"
      ]
     },
     "metadata": {},
     "output_type": "display_data"
    },
    {
     "data": {
      "text/markdown": [
       "**Text:** \"…wever, was the XX George **III.** c. XX, s. X (XXXX)…\""
      ],
      "text/plain": [
       "<IPython.core.display.Markdown object>"
      ]
     },
     "metadata": {},
     "output_type": "display_data"
    },
    {
     "data": {
      "text/html": [
       "<a href='../data/LJSpeech-1.1/wavs/LJ004-0107.wav' target='_blank'>../data/LJSpeech-1.1/wavs/LJ004-0107.wav</a><br>"
      ],
      "text/plain": [
       "/Users/michaelp/Code/Tacotron-2/data/LJSpeech-1.1/wavs/LJ004-0107.wav"
      ]
     },
     "metadata": {},
     "output_type": "display_data"
    },
    {
     "data": {
      "text/markdown": [
       "\n",
       "\n",
       " ___"
      ],
      "text/plain": [
       "<IPython.core.display.Markdown object>"
      ]
     },
     "metadata": {},
     "output_type": "display_data"
    },
    {
     "data": {
      "text/markdown": [
       "**Text:** \"…cap. XX, and X George **IV.** cap. XX…\""
      ],
      "text/plain": [
       "<IPython.core.display.Markdown object>"
      ]
     },
     "metadata": {},
     "output_type": "display_data"
    },
    {
     "data": {
      "text/html": [
       "<a href='../data/LJSpeech-1.1/wavs/LJ005-0074.wav' target='_blank'>../data/LJSpeech-1.1/wavs/LJ005-0074.wav</a><br>"
      ],
      "text/plain": [
       "/Users/michaelp/Code/Tacotron-2/data/LJSpeech-1.1/wavs/LJ005-0074.wav"
      ]
     },
     "metadata": {},
     "output_type": "display_data"
    },
    {
     "data": {
      "text/markdown": [
       "\n",
       "\n",
       " ___"
      ],
      "text/plain": [
       "<IPython.core.display.Markdown object>"
      ]
     },
     "metadata": {},
     "output_type": "display_data"
    },
    {
     "data": {
      "text/markdown": [
       "**Text:** \"…hich became the X George **IV.** cap. XX, said that he ha…\""
      ],
      "text/plain": [
       "<IPython.core.display.Markdown object>"
      ]
     },
     "metadata": {},
     "output_type": "display_data"
    },
    {
     "data": {
      "text/html": [
       "<a href='../data/LJSpeech-1.1/wavs/LJ005-0167.wav' target='_blank'>../data/LJSpeech-1.1/wavs/LJ005-0167.wav</a><br>"
      ],
      "text/plain": [
       "/Users/michaelp/Code/Tacotron-2/data/LJSpeech-1.1/wavs/LJ005-0167.wav"
      ]
     },
     "metadata": {},
     "output_type": "display_data"
    },
    {
     "data": {
      "text/markdown": [
       "\n",
       "\n",
       " ___"
      ],
      "text/plain": [
       "<IPython.core.display.Markdown object>"
      ]
     },
     "metadata": {},
     "output_type": "display_data"
    }
   ],
   "source": [
    "find_examples(r'\\b(?:George|Charles|Napoleon|Henry|Nebuchadnezzar|William) ([IV]+\\.{0,})', display_n=50, replace=False)"
   ]
  },
  {
   "cell_type": "code",
   "execution_count": 54,
   "metadata": {},
   "outputs": [
    {
     "name": "stdout",
     "output_type": "stream",
     "text": [
      "II.\n",
      "II\n"
     ]
    },
    {
     "data": {
      "text/markdown": [
       "II → the second (the second)"
      ],
      "text/plain": [
       "<IPython.core.display.Markdown object>"
      ]
     },
     "metadata": {},
     "output_type": "display_data"
    },
    {
     "name": "stdout",
     "output_type": "stream",
     "text": [
      "IV.\n",
      "IV\n"
     ]
    },
    {
     "data": {
      "text/markdown": [
       "IV → the fourth (the forth)"
      ],
      "text/plain": [
       "<IPython.core.display.Markdown object>"
      ]
     },
     "metadata": {},
     "output_type": "display_data"
    },
    {
     "name": "stdout",
     "output_type": "stream",
     "text": [
      "VIII.\n",
      "VIII\n"
     ]
    },
    {
     "data": {
      "text/markdown": [
       "VIII → the eighth (the eighth)"
      ],
      "text/plain": [
       "<IPython.core.display.Markdown object>"
      ]
     },
     "metadata": {},
     "output_type": "display_data"
    }
   ],
   "source": [
    "from IPython.display import Markdown\n",
    "\n",
    "from functools import partial\n",
    "from num2words import num2words\n",
    "\n",
    "cases = [('reign of Charles II., a law was passed', 'the second'), \n",
    "         ('William IV. was also the victim', 'the forth'),\n",
    "         ('the reign of Henry VIII. a new and most', 'the eighth')]\n",
    "\n",
    "def replace(text, true):\n",
    "    if text[-1] == '.':\n",
    "        text = text[:-1]\n",
    "        \n",
    "    num = 0\n",
    "    if 'V' not in text:\n",
    "        num = len(text)\n",
    "    elif 'IV' == text:\n",
    "        num = 4\n",
    "    else:\n",
    "        num = 5 + len(text) - 1\n",
    "        \n",
    "    ret = 'the ' + num2words(int(num), to='ordinal')\n",
    "    display(Markdown(text + ' → ' + ret + ' (' + true + ')'))\n",
    "    return ret\n",
    "\n",
    "for text in cases:\n",
    "    _iterate_and_replace(r'\\b(?:George|Charles|Napoleon|Henry|Nebuchadnezzar|William) ([IV]+\\.{0,})',\n",
    "                         text[0], partial(replace, true=text[1]))"
   ]
  },
  {
   "cell_type": "code",
   "execution_count": null,
   "metadata": {},
   "outputs": [],
   "source": []
  }
 ],
 "metadata": {
  "kernelspec": {
   "display_name": "Python 3",
   "language": "python",
   "name": "python3"
  },
  "language_info": {
   "codemirror_mode": {
    "name": "ipython",
    "version": 3
   },
   "file_extension": ".py",
   "mimetype": "text/x-python",
   "name": "python",
   "nbconvert_exporter": "python",
   "pygments_lexer": "ipython3",
   "version": "3.6.5"
  }
 },
 "nbformat": 4,
 "nbformat_minor": 2
}
