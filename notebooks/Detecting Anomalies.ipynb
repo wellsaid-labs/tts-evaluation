{
 "cells": [
  {
   "cell_type": "markdown",
   "metadata": {},
   "source": [
    "# Detecting Anomalies\n",
    "\n",
    "The purpose of this notebook is to detect abnormalities within a tensorboard scalar."
   ]
  },
  {
   "cell_type": "code",
   "execution_count": 1,
   "metadata": {},
   "outputs": [],
   "source": [
    "import re\n",
    "import sys\n",
    "import random\n",
    "\n",
    "# Setup the \"PYTHONPATH\"\n",
    "sys.path.insert(0, '../')"
   ]
  },
  {
   "cell_type": "code",
   "execution_count": 2,
   "metadata": {},
   "outputs": [],
   "source": [
    "import math\n",
    "\n",
    "from src.utils import ExponentiallyWeightedMovingAverage\n",
    "\n",
    "def get_running_mean_and_standard_deviation(steps, values, beta=0.9, sigma=8):\n",
    "    \"\"\" Compute exponentially weighted running mean and standard deviation.\n",
    "    \n",
    "    Args:\n",
    "        steps (list of float): Step at which each value occured.\n",
    "        values (list of float): Values at each step.\n",
    "        beta (float): Beta used to weight the exponential mean and standard deviation.\n",
    "        sigma (float): Number of standard deviations before ignoring an abnormality.\n",
    "        \n",
    "    Returns:\n",
    "        means (list of float): Exponentially weighted running means for each step.\n",
    "        standard_deviations (list of float): Exponentially weighted running standard deviation for each step.\n",
    "    \"\"\"\n",
    "    assert len(values) == len(steps)\n",
    "    \n",
    "    stats = ExponentiallyWeightedMovingAverage()\n",
    "    means, standard_deviations = [], []\n",
    "    average, variance = 0.0, 0.0\n",
    "    last_abnormality = 0\n",
    "    eps = 10**-6\n",
    "    for i, (step, value) in enumerate(zip(steps, values)):\n",
    "        # Detected abnormality\n",
    "        # NOTE: ``i < 1`` then ``variance == 0.0``\n",
    "        # NOTE: Above a sample size 10, we do not need to consider sample variance bias correction\n",
    "        if i > 10 and abs(value - means[-1]) > standard_deviations[-1] * sigma + eps:\n",
    "            if i > last_abnormality + 100:\n",
    "                print('Detected abnormality (%f > %f ± %f), at index %d or step %d (step ignored)' %\n",
    "                      (value, means[-1], standard_deviations[-1] * sigma, i, step))\n",
    "            last_abnormality = i\n",
    "            means.append(means[-1])\n",
    "            standard_deviations.append(standard_deviations[-1])\n",
    "        else:\n",
    "            average, standard_deviation = stats.step(value)\n",
    "            means.append(average)\n",
    "            standard_deviations.append(standard_deviation)\n",
    "    return means, standard_deviations\n",
    "\n",
    "def plot_abnormality(steps, values, means, standard_deviations, sigma=8):\n",
    "    \"\"\" Plot values at steps with a running mean and standard deviation.\n",
    "    \n",
    "    Args:\n",
    "        step (list of float): Step at which each value occured.\n",
    "        value (list of float): Values at each step.\n",
    "        means (list of float): Exponentially weighted running means for each step.\n",
    "        standard_deviations (list of float): Exponentially weighted running standard deviation for each step.\n",
    "        sigma (float): Number of standard deviations before ignoring an abnormality.      \n",
    "    \"\"\"\n",
    "    pyplot.figure(figsize=(20, 10))\n",
    "    pyplot.style.use('ggplot')\n",
    "    kwargs = {\n",
    "        'marker': '.',\n",
    "        'linestyle': 'solid'\n",
    "    }\n",
    "    pyplot.plot(steps, values, label='Value', **kwargs)\n",
    "    pyplot.plot(steps, means, label='Mean', **kwargs)\n",
    "    \n",
    "    upper_bound = [value + sigma * sd for value, sd in zip(means, standard_deviations)]\n",
    "    lower_bound = [value - sigma * sd for value, sd in zip(means, standard_deviations)]\n",
    "\n",
    "    pyplot.plot(steps, upper_bound, label='Upper Bound', **kwargs)\n",
    "    pyplot.plot(steps, lower_bound, label='Lower Bound', **kwargs)\n",
    "    \n",
    "    pyplot.legend()\n",
    "    pyplot.ylabel('Value')\n",
    "    pyplot.xlabel('Step')"
   ]
  },
  {
   "cell_type": "code",
   "execution_count": 3,
   "metadata": {},
   "outputs": [],
   "source": [
    "def load_tensorboard_data(path):\n",
    "    \"\"\" Load a CSV file with 3 columns: wall_time, step, value\n",
    "    \n",
    "    Args:\n",
    "        path (str): Path to the CSV file.\n",
    "    \"\"\"\n",
    "    data = [row for row in open(path, 'r')]\n",
    "    print('Header:', data[0].strip())\n",
    "    data = [tuple([float(val) for val in row.strip().split(',')]) for row in data[1:]]\n",
    "    print('Sample:', data[:5])\n",
    "    _, step, value = zip(*data)\n",
    "    return step, value"
   ]
  },
  {
   "cell_type": "code",
   "execution_count": 4,
   "metadata": {},
   "outputs": [
    {
     "name": "stdout",
     "output_type": "stream",
     "text": [
      "\n",
      "Loading coarse step data...\n",
      "Header: wall_time,step,value\n",
      "Sample: [(1533442609.7305577, 135.0, 5.574153423309326), (1533442663.1188793, 138.0, 5.33659553527832), (1533442663.4470425, 142.0, 4.979489803314209), (1533442663.7909756, 145.0, 4.420918941497803), (1533442664.142241, 149.0, 4.055488586425781)]\n"
     ]
    }
   ],
   "source": [
    "print('\\nLoading coarse step data...')\n",
    "coarse_loss = {}\n",
    "coarse_loss['step'], coarse_loss['value'] = load_tensorboard_data(\n",
    "    '/tmp/csv_output/data_tb___coarse_loss_step.csv')"
   ]
  },
  {
   "cell_type": "code",
   "execution_count": 5,
   "metadata": {},
   "outputs": [],
   "source": [
    "%matplotlib inline\n",
    "\n",
    "from matplotlib import pyplot\n",
    "\n",
    "sigma = 6"
   ]
  },
  {
   "cell_type": "code",
   "execution_count": 7,
   "metadata": {},
   "outputs": [
    {
     "name": "stdout",
     "output_type": "stream",
     "text": [
      "Detected abnormality (1.479125 > 1.091419 ± 0.380659), at index 2215 or step 7441 (step ignored)\n",
      "Detected abnormality (1.435533 > 1.050654 ± 0.369004), at index 2445 or step 8195 (step ignored)\n",
      "Detected abnormality (1.303760 > 0.916997 ± 0.365087), at index 4634 or step 15405 (step ignored)\n",
      "Detected abnormality (1.279096 > 0.898038 ± 0.368416), at index 5124 or step 17017 (step ignored)\n",
      "Detected abnormality (1.272141 > 0.816269 ± 0.406703), at index 10323 or step 34132 (step ignored)\n",
      "Detected abnormality (1.194866 > 0.782753 ± 0.369801), at index 13152 or step 43462 (step ignored)\n",
      "Detected abnormality (1.080424 > 0.764801 ± 0.302997), at index 14959 or step 49413 (step ignored)\n",
      "Detected abnormality (1.066632 > 0.724645 ± 0.321223), at index 18720 or step 61819 (step ignored)\n",
      "Detected abnormality (1.034765 > 0.694622 ± 0.303310), at index 29871 or step 98570 (step ignored)\n",
      "Detected abnormality (1.022504 > 0.687035 ± 0.301938), at index 30789 or step 101600 (step ignored)\n",
      "Detected abnormality (0.986073 > 0.670476 ± 0.315386), at index 35518 or step 123296 (step ignored)\n",
      "Detected abnormality (0.965743 > 0.659305 ± 0.298296), at index 41527 or step 143094 (step ignored)\n",
      "Detected abnormality (0.956197 > 0.656654 ± 0.280049), at index 41942 or step 144466 (step ignored)\n",
      "Detected abnormality (0.978132 > 0.656554 ± 0.306821), at index 44945 or step 154374 (step ignored)\n",
      "Detected abnormality (0.960154 > 0.636074 ± 0.294538), at index 47753 or step 163620 (step ignored)\n",
      "Detected abnormality (1.021135 > 0.649612 ± 0.345062), at index 58842 or step 200166 (step ignored)\n",
      "Detected abnormality (0.967308 > 0.633311 ± 0.309669), at index 65511 or step 222147 (step ignored)\n",
      "Detected abnormality (0.901202 > 0.619600 ± 0.271847), at index 73828 or step 249536 (step ignored)\n",
      "Detected abnormality (0.921341 > 0.621611 ± 0.292329), at index 75006 or step 253413 (step ignored)\n",
      "Detected abnormality (0.871569 > 0.607519 ± 0.260247), at index 77317 or step 261024 (step ignored)\n",
      "Detected abnormality (0.900561 > 0.613619 ± 0.286101), at index 78363 or step 264466 (step ignored)\n",
      "Detected abnormality (0.921882 > 0.620453 ± 0.285790), at index 78581 or step 265184 (step ignored)\n",
      "Detected abnormality (0.932540 > 0.613735 ± 0.313727), at index 86218 or step 290393 (step ignored)\n",
      "Detected abnormality (0.912523 > 0.617983 ± 0.287091), at index 87682 or step 295227 (step ignored)\n",
      "Detected abnormality (0.929851 > 0.610738 ± 0.290452), at index 90091 or step 303158 (step ignored)\n",
      "Detected abnormality (0.898191 > 0.605977 ± 0.289763), at index 91739 or step 308600 (step ignored)\n",
      "Detected abnormality (0.886037 > 0.612859 ± 0.268247), at index 93225 or step 313502 (step ignored)\n",
      "Detected abnormality (0.875880 > 0.606444 ± 0.269231), at index 94630 or step 318129 (step ignored)\n",
      "Detected abnormality (0.965819 > 0.630954 ± 0.315551), at index 95618 or step 321378 (step ignored)\n",
      "Detected abnormality (0.886613 > 0.611037 ± 0.267010), at index 97947 or step 329064 (step ignored)\n",
      "Detected abnormality (0.909081 > 0.604710 ± 0.281665), at index 104664 or step 351242 (step ignored)\n",
      "Detected abnormality (0.918041 > 0.601695 ± 0.295988), at index 115725 or step 387740 (step ignored)\n",
      "Detected abnormality (0.972228 > 0.603432 ± 0.326921), at index 115833 or step 388097 (step ignored)\n",
      "Detected abnormality (0.914618 > 0.601796 ± 0.280719), at index 115959 or step 388512 (step ignored)\n",
      "Detected abnormality (0.894619 > 0.590803 ± 0.290346), at index 122666 or step 410630 (step ignored)\n",
      "Detected abnormality (0.881612 > 0.577742 ± 0.288095), at index 124981 or step 418263 (step ignored)\n",
      "Detected abnormality (0.907078 > 0.589383 ± 0.283974), at index 125576 or step 420222 (step ignored)\n",
      "Detected abnormality (0.879791 > 0.592230 ± 0.285959), at index 142629 or step 476467 (step ignored)\n",
      "Detected abnormality (0.841918 > 0.576601 ± 0.262528), at index 144994 or step 484269 (step ignored)\n",
      "Detected abnormality (0.853718 > 0.577620 ± 0.266669), at index 147005 or step 490895 (step ignored)\n",
      "Detected abnormality (0.848996 > 0.586475 ± 0.256605), at index 149614 or step 499509 (step ignored)\n",
      "Detected abnormality (0.866403 > 0.578611 ± 0.277578), at index 150750 or step 503253 (step ignored)\n",
      "Detected abnormality (0.862556 > 0.585060 ± 0.260273), at index 153392 or step 511960 (step ignored)\n",
      "Detected abnormality (0.838249 > 0.584036 ± 0.250293), at index 156476 or step 522121 (step ignored)\n",
      "Detected abnormality (0.854003 > 0.574225 ± 0.276091), at index 158229 or step 527903 (step ignored)\n",
      "Detected abnormality (0.813830 > 0.568404 ± 0.239025), at index 162223 or step 541077 (step ignored)\n",
      "Detected abnormality (0.840606 > 0.573996 ± 0.255834), at index 166309 or step 554559 (step ignored)\n",
      "Detected abnormality (0.887203 > 0.583624 ± 0.297724), at index 169875 or step 566306 (step ignored)\n"
     ]
    }
   ],
   "source": [
    "coarse_loss['mean'], coarse_loss['standard_deviation'] = get_running_mean_and_standard_deviation(\n",
    "    coarse_loss['step'], coarse_loss['value'], sigma=4, beta=0.99)"
   ]
  },
  {
   "cell_type": "code",
   "execution_count": 9,
   "metadata": {},
   "outputs": [
    {
     "name": "stdout",
     "output_type": "stream",
     "text": [
      "30700 30850\n"
     ]
    },
    {
     "data": {
      "image/png": "[encoded data removed]",
      "text/plain": [
       "<Figure size 1440x720 with 1 Axes>"
      ]
     },
     "metadata": {},
     "output_type": "display_data"
    }
   ],
   "source": [
    "start = 30700\n",
    "end = 30850\n",
    "print(start, end)\n",
    "plot_abnormality(coarse_loss['step'][start:end],\n",
    "                 coarse_loss['value'][start:end],\n",
    "                 coarse_loss['mean'][start:end],\n",
    "                 coarse_loss['standard_deviation'][start:end],\n",
    "                 sigma=5)"
   ]
  },
  {
   "cell_type": "code",
   "execution_count": null,
   "metadata": {},
   "outputs": [],
   "source": []
  }
 ],
 "metadata": {
  "kernelspec": {
   "display_name": "Python 3",
   "language": "python",
   "name": "python3"
  },
  "language_info": {
   "codemirror_mode": {
    "name": "ipython",
    "version": 3
   },
   "file_extension": ".py",
   "mimetype": "text/x-python",
   "name": "python",
   "nbconvert_exporter": "python",
   "pygments_lexer": "ipython3",
   "version": "3.6.5"
  }
 },
 "nbformat": 4,
 "nbformat_minor": 2
}
