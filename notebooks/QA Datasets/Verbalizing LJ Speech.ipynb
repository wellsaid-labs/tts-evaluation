{
 "cells": [
  {
   "cell_type": "markdown",
   "metadata": {},
   "source": [
    "# Verbalizing LJ Speech\n",
    "\n",
    "The goals of this notebook are:\n",
    "\n",
    "- Construct an algorithm to verbalize the LJ Speech dataset.\n",
    "- Understand the distribution of not verbalized symbols such as numbers."
   ]
  },
  {
   "cell_type": "code",
   "execution_count": null,
   "metadata": {
    "scrolled": false
   },
   "outputs": [],
   "source": [
    "import re\n",
    "import sys\n",
    "\n",
    "# Setup the \"PYTHONPATH\"\n",
    "sys.path.insert(0, '../../')\n",
    "\n",
    "from src.datasets.lj_speech import _iterate_and_replace"
   ]
  },
  {
   "cell_type": "code",
   "execution_count": 2,
   "metadata": {
    "scrolled": false
   },
   "outputs": [],
   "source": [
    "import random\n",
    "import os\n",
    "\n",
    "from IPython.display import Audio\n",
    "from IPython.display import Markdown\n",
    "from IPython.display import FileLink\n",
    "\n",
    "from src.datasets import lj_speech_dataset\n",
    "\n",
    "data = lj_speech_dataset(directory='../../data', verbalize=False)\n",
    "\n",
    "def get_unique(examples, get_key):\n",
    "    \"\"\" Get a unique list of ``examples`` based on ``key``.\n",
    "    \n",
    "    Args:\n",
    "        examples (list): Examples to dedup.\n",
    "        get_key (callable): Get a key to dedup examples.\n",
    "    \"\"\"\n",
    "    seen = set() \n",
    "    filtered = []\n",
    "    for example in examples:\n",
    "        key = get_key(example)\n",
    "        if key not in seen:\n",
    "            seen.add(key)\n",
    "            filtered.append(example)\n",
    "    return filtered\n",
    "\n",
    "def find_examples(regex, display_n=5, match_to_key=None, load_audio=False, replace=True, group=1):\n",
    "    \"\"\" Print ``display_n`` examples of ``regex`` in ``lj_speech_dataset``.\n",
    "    \n",
    "    This is the bread and butter module for our data analysis. Enabling us to use regex to query the\n",
    "    dataset and retrieve samples.\n",
    "    \n",
    "    Args:\n",
    "        regex (str): Pattern or compiled regex object.\n",
    "        display_n (int or None, optional): Number of examples to display.\n",
    "        match_to_key (callable or None, optional): Key assigned to match to filter duplicates.\n",
    "        load_audio (bool, optional): If to load audio.\n",
    "        replace (bool, optional): If to replace the matched characters with XXX...\n",
    "        group (int, optional): Group to select in regex.\n",
    "        \n",
    "    Returns:\n",
    "        None\n",
    "    \"\"\"\n",
    "    examples = []\n",
    "    for row in data:\n",
    "        matches = re.finditer(regex, row['text'])\n",
    "        for match in matches:\n",
    "            start = max(match.start(group) - 25, 0)\n",
    "            end = min(match.end(group) + 25, len(row['text']))\n",
    "            if replace:\n",
    "                row['text'] = (row['text'][:match.start(group)] + \n",
    "                               'X' * (match.end(group) - match.start(group)) + \n",
    "                               row['text'][match.end(group):])\n",
    "            if match_to_key is not None:\n",
    "                key = match_to_key(match.group(group))\n",
    "            else:\n",
    "                key = None\n",
    "            text = (row['text'][start:match.start(group)] + '**' + match.group(group) +\n",
    "                    '**' + row['text'][match.end(group):end])\n",
    "            examples.append({\n",
    "                'text': '…' + text + '…',\n",
    "                'audio': os.path.join('../../', row['audio_path']),\n",
    "                'key': key\n",
    "            })\n",
    "            \n",
    "    # Print Examples\n",
    "    display(Markdown('### Examples Captured by Regex'))\n",
    "    display(Markdown('**Regex:** ' + str(regex)))\n",
    "    display(Markdown('**Number of Examples:** ' + str(len(examples))))\n",
    "    \n",
    "    if match_to_key is not None:\n",
    "        examples = get_unique(examples, lambda example: example['key'])\n",
    "    random.shuffle(examples)\n",
    "    if display_n is not None:\n",
    "        examples = examples[:display_n]\n",
    "    \n",
    "    display(Markdown('**Number of Examples Shown:** ' + str(len(examples))))\n",
    "    display(Markdown('\\n\\n ___'))\n",
    "    \n",
    "    for example in examples:\n",
    "        display(Markdown('**Text:** \"' + example['text'] + '\"'))\n",
    "        if load_audio:\n",
    "            display(Audio(example['audio']))\n",
    "        else:\n",
    "            display(FileLink(example['audio']))\n",
    "        display(Markdown('\\n\\n ___'))\n",
    "        display()"
   ]
  },
  {
   "cell_type": "markdown",
   "metadata": {},
   "source": [
    "## Sample of Phrases with a Number\n",
    "\n",
    "Here we look at the overall distribution of numbers in the LJ Speech dataset."
   ]
  },
  {
   "cell_type": "code",
   "execution_count": 3,
   "metadata": {
    "scrolled": true
   },
   "outputs": [
    {
     "data": {
      "text/markdown": [
       "### Examples Captured by Regex"
      ],
      "text/plain": [
       "<IPython.core.display.Markdown object>"
      ]
     },
     "metadata": {},
     "output_type": "display_data"
    },
    {
     "data": {
      "text/markdown": [
       "**Regex:** \\S*(\\d+)\\S*"
      ],
      "text/plain": [
       "<IPython.core.display.Markdown object>"
      ]
     },
     "metadata": {},
     "output_type": "display_data"
    },
    {
     "data": {
      "text/markdown": [
       "**Number of Examples:** 2118"
      ],
      "text/plain": [
       "<IPython.core.display.Markdown object>"
      ]
     },
     "metadata": {},
     "output_type": "display_data"
    },
    {
     "data": {
      "text/markdown": [
       "**Number of Examples Shown:** 10"
      ],
      "text/plain": [
       "<IPython.core.display.Markdown object>"
      ]
     },
     "metadata": {},
     "output_type": "display_data"
    },
    {
     "data": {
      "text/markdown": [
       "\n",
       "\n",
       " ___"
      ],
      "text/plain": [
       "<IPython.core.display.Markdown object>"
      ]
     },
     "metadata": {},
     "output_type": "display_data"
    },
    {
     "data": {
      "text/markdown": [
       "**Text:** \"… reported in the October **1,** 1963, issue of the Worke…\""
      ],
      "text/plain": [
       "<IPython.core.display.Markdown object>"
      ]
     },
     "metadata": {},
     "output_type": "display_data"
    },
    {
     "data": {
      "text/html": [
       "<a href='../data/LJSpeech-1.1/wavs/LJ044-0217.wav' target='_blank'>../data/LJSpeech-1.1/wavs/LJ044-0217.wav</a><br>"
      ],
      "text/plain": [
       "/Users/michaelp/Code/WellSaidLabs/data/LJSpeech-1.1/wavs/LJ044-0217.wav"
      ]
     },
     "metadata": {},
     "output_type": "display_data"
    },
    {
     "data": {
      "text/markdown": [
       "\n",
       "\n",
       " ___"
      ],
      "text/plain": [
       "<IPython.core.display.Markdown object>"
      ]
     },
     "metadata": {},
     "output_type": "display_data"
    },
    {
     "data": {
      "text/markdown": [
       "**Text:** \"… V. T. Lee, dated August **17,** 1963,…\""
      ],
      "text/plain": [
       "<IPython.core.display.Markdown object>"
      ]
     },
     "metadata": {},
     "output_type": "display_data"
    },
    {
     "data": {
      "text/html": [
       "<a href='../data/LJSpeech-1.1/wavs/LJ044-0065.wav' target='_blank'>../data/LJSpeech-1.1/wavs/LJ044-0065.wav</a><br>"
      ],
      "text/plain": [
       "/Users/michaelp/Code/WellSaidLabs/data/LJSpeech-1.1/wavs/LJ044-0065.wav"
      ]
     },
     "metadata": {},
     "output_type": "display_data"
    },
    {
     "data": {
      "text/markdown": [
       "\n",
       "\n",
       " ___"
      ],
      "text/plain": [
       "<IPython.core.display.Markdown object>"
      ]
     },
     "metadata": {},
     "output_type": "display_data"
    },
    {
     "data": {
      "text/markdown": [
       "**Text:** \"…ed his initial orders at **12:30** p.m.…\""
      ],
      "text/plain": [
       "<IPython.core.display.Markdown object>"
      ]
     },
     "metadata": {},
     "output_type": "display_data"
    },
    {
     "data": {
      "text/html": [
       "<a href='../data/LJSpeech-1.1/wavs/LJ030-0151.wav' target='_blank'>../data/LJSpeech-1.1/wavs/LJ030-0151.wav</a><br>"
      ],
      "text/plain": [
       "/Users/michaelp/Code/WellSaidLabs/data/LJSpeech-1.1/wavs/LJ030-0151.wav"
      ]
     },
     "metadata": {},
     "output_type": "display_data"
    },
    {
     "data": {
      "text/markdown": [
       "\n",
       "\n",
       " ___"
      ],
      "text/plain": [
       "<IPython.core.display.Markdown object>"
      ]
     },
     "metadata": {},
     "output_type": "display_data"
    },
    {
     "data": {
      "text/markdown": [
       "**Text:** \"…ursday morning, November **21,**…\""
      ],
      "text/plain": [
       "<IPython.core.display.Markdown object>"
      ]
     },
     "metadata": {},
     "output_type": "display_data"
    },
    {
     "data": {
      "text/html": [
       "<a href='../data/LJSpeech-1.1/wavs/LJ045-0184.wav' target='_blank'>../data/LJSpeech-1.1/wavs/LJ045-0184.wav</a><br>"
      ],
      "text/plain": [
       "/Users/michaelp/Code/WellSaidLabs/data/LJSpeech-1.1/wavs/LJ045-0184.wav"
      ]
     },
     "metadata": {},
     "output_type": "display_data"
    },
    {
     "data": {
      "text/markdown": [
       "\n",
       "\n",
       " ___"
      ],
      "text/plain": [
       "<IPython.core.display.Markdown object>"
      ]
     },
     "metadata": {},
     "output_type": "display_data"
    },
    {
     "data": {
      "text/markdown": [
       "**Text:** \"…Department shows that at **12:30** p.m. on November 22…\""
      ],
      "text/plain": [
       "<IPython.core.display.Markdown object>"
      ]
     },
     "metadata": {},
     "output_type": "display_data"
    },
    {
     "data": {
      "text/html": [
       "<a href='../data/LJSpeech-1.1/wavs/LJ031-0009.wav' target='_blank'>../data/LJSpeech-1.1/wavs/LJ031-0009.wav</a><br>"
      ],
      "text/plain": [
       "/Users/michaelp/Code/WellSaidLabs/data/LJSpeech-1.1/wavs/LJ031-0009.wav"
      ]
     },
     "metadata": {},
     "output_type": "display_data"
    },
    {
     "data": {
      "text/markdown": [
       "\n",
       "\n",
       " ___"
      ],
      "text/plain": [
       "<IPython.core.display.Markdown object>"
      ]
     },
     "metadata": {},
     "output_type": "display_data"
    },
    {
     "data": {
      "text/markdown": [
       "**Text:** \"…have obtained as much as **£40,000** by false and fraudulent …\""
      ],
      "text/plain": [
       "<IPython.core.display.Markdown object>"
      ]
     },
     "metadata": {},
     "output_type": "display_data"
    },
    {
     "data": {
      "text/html": [
       "<a href='../data/LJSpeech-1.1/wavs/LJ018-0392.wav' target='_blank'>../data/LJSpeech-1.1/wavs/LJ018-0392.wav</a><br>"
      ],
      "text/plain": [
       "/Users/michaelp/Code/WellSaidLabs/data/LJSpeech-1.1/wavs/LJ018-0392.wav"
      ]
     },
     "metadata": {},
     "output_type": "display_data"
    },
    {
     "data": {
      "text/markdown": [
       "\n",
       "\n",
       " ___"
      ],
      "text/plain": [
       "<IPython.core.display.Markdown object>"
      ]
     },
     "metadata": {},
     "output_type": "display_data"
    },
    {
     "data": {
      "text/markdown": [
       "**Text:** \"…imes-Herald of September **17**…\""
      ],
      "text/plain": [
       "<IPython.core.display.Markdown object>"
      ]
     },
     "metadata": {},
     "output_type": "display_data"
    },
    {
     "data": {
      "text/html": [
       "<a href='../data/LJSpeech-1.1/wavs/LJ029-0180.wav' target='_blank'>../data/LJSpeech-1.1/wavs/LJ029-0180.wav</a><br>"
      ],
      "text/plain": [
       "/Users/michaelp/Code/WellSaidLabs/data/LJSpeech-1.1/wavs/LJ029-0180.wav"
      ]
     },
     "metadata": {},
     "output_type": "display_data"
    },
    {
     "data": {
      "text/markdown": [
       "\n",
       "\n",
       " ___"
      ],
      "text/plain": [
       "<IPython.core.display.Markdown object>"
      ]
     },
     "metadata": {},
     "output_type": "display_data"
    },
    {
     "data": {
      "text/markdown": [
       "**Text:** \"…This was no earlier than **12:37** p.m. and may have been l…\""
      ],
      "text/plain": [
       "<IPython.core.display.Markdown object>"
      ]
     },
     "metadata": {},
     "output_type": "display_data"
    },
    {
     "data": {
      "text/html": [
       "<a href='../data/LJSpeech-1.1/wavs/LJ035-0188.wav' target='_blank'>../data/LJSpeech-1.1/wavs/LJ035-0188.wav</a><br>"
      ],
      "text/plain": [
       "/Users/michaelp/Code/WellSaidLabs/data/LJSpeech-1.1/wavs/LJ035-0188.wav"
      ]
     },
     "metadata": {},
     "output_type": "display_data"
    },
    {
     "data": {
      "text/markdown": [
       "\n",
       "\n",
       " ___"
      ],
      "text/plain": [
       "<IPython.core.display.Markdown object>"
      ]
     },
     "metadata": {},
     "output_type": "display_data"
    },
    {
     "data": {
      "text/markdown": [
       "**Text:** \"…rthur Griffiths. Section **16:** Newgate notorieties cont…\""
      ],
      "text/plain": [
       "<IPython.core.display.Markdown object>"
      ]
     },
     "metadata": {},
     "output_type": "display_data"
    },
    {
     "data": {
      "text/html": [
       "<a href='../data/LJSpeech-1.1/wavs/LJ013-0001.wav' target='_blank'>../data/LJSpeech-1.1/wavs/LJ013-0001.wav</a><br>"
      ],
      "text/plain": [
       "/Users/michaelp/Code/WellSaidLabs/data/LJSpeech-1.1/wavs/LJ013-0001.wav"
      ]
     },
     "metadata": {},
     "output_type": "display_data"
    },
    {
     "data": {
      "text/markdown": [
       "\n",
       "\n",
       " ___"
      ],
      "text/plain": [
       "<IPython.core.display.Markdown object>"
      ]
     },
     "metadata": {},
     "output_type": "display_data"
    },
    {
     "data": {
      "text/markdown": [
       "**Text:** \"…He took with him **$13.87** and the long brown packa…\""
      ],
      "text/plain": [
       "<IPython.core.display.Markdown object>"
      ]
     },
     "metadata": {},
     "output_type": "display_data"
    },
    {
     "data": {
      "text/html": [
       "<a href='../data/LJSpeech-1.1/wavs/LJ045-0179.wav' target='_blank'>../data/LJSpeech-1.1/wavs/LJ045-0179.wav</a><br>"
      ],
      "text/plain": [
       "/Users/michaelp/Code/WellSaidLabs/data/LJSpeech-1.1/wavs/LJ045-0179.wav"
      ]
     },
     "metadata": {},
     "output_type": "display_data"
    },
    {
     "data": {
      "text/markdown": [
       "\n",
       "\n",
       " ___"
      ],
      "text/plain": [
       "<IPython.core.display.Markdown object>"
      ]
     },
     "metadata": {},
     "output_type": "display_data"
    }
   ],
   "source": [
    "find_examples(r'\\S*(\\d+)\\S*', display_n=10, replace=False, group=0, load_audio=False)"
   ]
  },
  {
   "cell_type": "markdown",
   "metadata": {},
   "source": [
    "## Special Cases\n",
    "\n",
    "Here we verbalize special phrases not captured below."
   ]
  },
  {
   "cell_type": "code",
   "execution_count": 4,
   "metadata": {},
   "outputs": [
    {
     "data": {
      "text/markdown": [
       "In the year 562, after a long reign of forty-three years, Nebuchadnezzar died. → In the year five sixty-two, after a long reign of forty-three years, Nebuchadnezzar died."
      ],
      "text/plain": [
       "<IPython.core.display.Markdown object>"
      ]
     },
     "metadata": {},
     "output_type": "display_data"
    },
    {
     "data": {
      "text/markdown": [
       "to call in 100 extra off-duty officers to help protect President Kennedy. → to call in one hundred extra off-duty officers to help protect President Kennedy."
      ],
      "text/plain": [
       "<IPython.core.display.Markdown object>"
      ]
     },
     "metadata": {},
     "output_type": "display_data"
    },
    {
     "data": {
      "text/markdown": [
       "purchased as No. 2,202,130,462 in Dallas, Texas, on March 12, 1963. → purchased as No. two two zero two one three zero four six two in Dallas, Texas, on March 12, 1963."
      ],
      "text/plain": [
       "<IPython.core.display.Markdown object>"
      ]
     },
     "metadata": {},
     "output_type": "display_data"
    },
    {
     "data": {
      "text/markdown": [
       "On September 30, 1952, Lee enrolled in P.S. 117 → On September 30, 1952, Lee enrolled in P.S. one seventeen"
      ],
      "text/plain": [
       "<IPython.core.display.Markdown object>"
      ]
     },
     "metadata": {},
     "output_type": "display_data"
    },
    {
     "data": {
      "text/markdown": [
       "While the legend, quote, FPCC, 544 Camp Street New Orleans, Louisiana, end quote, → While the legend, quote, FPCC, five four four Camp Street New Orleans, Louisiana, end quote,"
      ],
      "text/plain": [
       "<IPython.core.display.Markdown object>"
      ]
     },
     "metadata": {},
     "output_type": "display_data"
    },
    {
     "data": {
      "text/markdown": [
       "Agent Hosty was told by Mrs. M. F. Tobias, a former landlady of the Oswalds at 602 Elsbeth Street in Dallas, → Agent Hosty was told by Mrs. M. F. Tobias, a former landlady of the Oswalds at six oh two Elsbeth Street in Dallas,"
      ],
      "text/plain": [
       "<IPython.core.display.Markdown object>"
      ]
     },
     "metadata": {},
     "output_type": "display_data"
    },
    {
     "data": {
      "text/markdown": [
       "that the Oswalds were living at 214 Neely Street in Dallas. → that the Oswalds were living at two one four Neely Street in Dallas."
      ],
      "text/plain": [
       "<IPython.core.display.Markdown object>"
      ]
     },
     "metadata": {},
     "output_type": "display_data"
    },
    {
     "data": {
      "text/markdown": [
       "found it to be 411 Elm Street. End quote. → found it to be four one one Elm Street. End quote."
      ],
      "text/plain": [
       "<IPython.core.display.Markdown object>"
      ]
     },
     "metadata": {},
     "output_type": "display_data"
    }
   ],
   "source": [
    "import os\n",
    "\n",
    "from IPython.display import Markdown\n",
    "from IPython.display import FileLink\n",
    "\n",
    "lookup = {\n",
    "    'LJ044-0055': ('544 Camp Street New', 'five four four Camp Street New'),\n",
    "    'LJ028-0180': ('In the year 562', 'In the year five sixty-two'),\n",
    "    'LJ047-0063': ('602 Elsbeth Street', 'six oh two Elsbeth Street'),\n",
    "    'LJ047-0160': ('411 Elm Street', 'four one one Elm Street'),\n",
    "    'LJ047-0069': ('214 Neely Street', 'two one four Neely Street'),\n",
    "    'LJ040-0121': ('P.S. 117', 'P.S. one seventeen'),\n",
    "    'LJ032-0036': ('No. 2,202,130,462', 'No. two two zero two one three zero four six two'),\n",
    "    'LJ029-0193': ('100 extra off-duty', 'one hundred extra off-duty'),\n",
    "}\n",
    "\n",
    "def special_cases():\n",
    "    for row in data:\n",
    "        basename = os.path.basename(row['audio_path']).split('.')[0]\n",
    "        if basename in lookup:\n",
    "            original = row['text']\n",
    "            row['text'] = row['text'].replace(*lookup[basename])\n",
    "            display(Markdown(original + ' → ' + row['text']))\n",
    "\n",
    "special_cases()"
   ]
  },
  {
   "cell_type": "markdown",
   "metadata": {},
   "source": [
    "## Time of the Day\n",
    "\n",
    "Here we experiment verbalizing the time of day."
   ]
  },
  {
   "cell_type": "code",
   "execution_count": 5,
   "metadata": {
    "scrolled": true
   },
   "outputs": [
    {
     "data": {
      "text/markdown": [
       "### Examples Captured by Regex"
      ],
      "text/plain": [
       "<IPython.core.display.Markdown object>"
      ]
     },
     "metadata": {},
     "output_type": "display_data"
    },
    {
     "data": {
      "text/markdown": [
       "**Regex:** ([0-9]{1,2}:[0-9]{1,2})"
      ],
      "text/plain": [
       "<IPython.core.display.Markdown object>"
      ]
     },
     "metadata": {},
     "output_type": "display_data"
    },
    {
     "data": {
      "text/markdown": [
       "**Number of Examples:** 84"
      ],
      "text/plain": [
       "<IPython.core.display.Markdown object>"
      ]
     },
     "metadata": {},
     "output_type": "display_data"
    },
    {
     "data": {
      "text/markdown": [
       "**Number of Examples Shown:** 5"
      ],
      "text/plain": [
       "<IPython.core.display.Markdown object>"
      ]
     },
     "metadata": {},
     "output_type": "display_data"
    },
    {
     "data": {
      "text/markdown": [
       "\n",
       "\n",
       " ___"
      ],
      "text/plain": [
       "<IPython.core.display.Markdown object>"
      ]
     },
     "metadata": {},
     "output_type": "display_data"
    },
    {
     "data": {
      "text/markdown": [
       "**Text:** \"…showed the numerals **12:30** as the Vice-Presidential…\""
      ],
      "text/plain": [
       "<IPython.core.display.Markdown object>"
      ]
     },
     "metadata": {},
     "output_type": "display_data"
    },
    {
     "data": {
      "text/html": [
       "<a href='../data/LJSpeech-1.1/wavs/LJ030-0145.wav' target='_blank'>../data/LJSpeech-1.1/wavs/LJ030-0145.wav</a><br>"
      ],
      "text/plain": [
       "/Users/michaelp/Code/WellSaidLabs/data/LJSpeech-1.1/wavs/LJ030-0145.wav"
      ]
     },
     "metadata": {},
     "output_type": "display_data"
    },
    {
     "data": {
      "text/markdown": [
       "\n",
       "\n",
       " ___"
      ],
      "text/plain": [
       "<IPython.core.display.Markdown object>"
      ]
     },
     "metadata": {},
     "output_type": "display_data"
    },
    {
     "data": {
      "text/markdown": [
       "**Text:** \"…again at **12:48** p.m., and again at 12:55…\""
      ],
      "text/plain": [
       "<IPython.core.display.Markdown object>"
      ]
     },
     "metadata": {},
     "output_type": "display_data"
    },
    {
     "data": {
      "text/html": [
       "<a href='../data/LJSpeech-1.1/wavs/LJ036-0206.wav' target='_blank'>../data/LJSpeech-1.1/wavs/LJ036-0206.wav</a><br>"
      ],
      "text/plain": [
       "/Users/michaelp/Code/WellSaidLabs/data/LJSpeech-1.1/wavs/LJ036-0206.wav"
      ]
     },
     "metadata": {},
     "output_type": "display_data"
    },
    {
     "data": {
      "text/markdown": [
       "\n",
       "\n",
       " ___"
      ],
      "text/plain": [
       "<IPython.core.display.Markdown object>"
      ]
     },
     "metadata": {},
     "output_type": "display_data"
    },
    {
     "data": {
      "text/markdown": [
       "**Text:** \"…At **1:51** p.m., police car 2 repor…\""
      ],
      "text/plain": [
       "<IPython.core.display.Markdown object>"
      ]
     },
     "metadata": {},
     "output_type": "display_data"
    },
    {
     "data": {
      "text/html": [
       "<a href='../data/LJSpeech-1.1/wavs/LJ038-0069.wav' target='_blank'>../data/LJSpeech-1.1/wavs/LJ038-0069.wav</a><br>"
      ],
      "text/plain": [
       "/Users/michaelp/Code/WellSaidLabs/data/LJSpeech-1.1/wavs/LJ038-0069.wav"
      ]
     },
     "metadata": {},
     "output_type": "display_data"
    },
    {
     "data": {
      "text/markdown": [
       "\n",
       "\n",
       " ___"
      ],
      "text/plain": [
       "<IPython.core.display.Markdown object>"
      ]
     },
     "metadata": {},
     "output_type": "display_data"
    },
    {
     "data": {
      "text/markdown": [
       "**Text:** \"…chool Book Depository at **2:15** after a brief stop at th…\""
      ],
      "text/plain": [
       "<IPython.core.display.Markdown object>"
      ]
     },
     "metadata": {},
     "output_type": "display_data"
    },
    {
     "data": {
      "text/html": [
       "<a href='../data/LJSpeech-1.1/wavs/LJ038-0070.wav' target='_blank'>../data/LJSpeech-1.1/wavs/LJ038-0070.wav</a><br>"
      ],
      "text/plain": [
       "/Users/michaelp/Code/WellSaidLabs/data/LJSpeech-1.1/wavs/LJ038-0070.wav"
      ]
     },
     "metadata": {},
     "output_type": "display_data"
    },
    {
     "data": {
      "text/markdown": [
       "\n",
       "\n",
       " ___"
      ],
      "text/plain": [
       "<IPython.core.display.Markdown object>"
      ]
     },
     "metadata": {},
     "output_type": "display_data"
    },
    {
     "data": {
      "text/markdown": [
       "**Text:** \"…the bus at approximately **12:40** p.m. and left it at appr…\""
      ],
      "text/plain": [
       "<IPython.core.display.Markdown object>"
      ]
     },
     "metadata": {},
     "output_type": "display_data"
    },
    {
     "data": {
      "text/html": [
       "<a href='../data/LJSpeech-1.1/wavs/LJ036-0076.wav' target='_blank'>../data/LJSpeech-1.1/wavs/LJ036-0076.wav</a><br>"
      ],
      "text/plain": [
       "/Users/michaelp/Code/WellSaidLabs/data/LJSpeech-1.1/wavs/LJ036-0076.wav"
      ]
     },
     "metadata": {},
     "output_type": "display_data"
    },
    {
     "data": {
      "text/markdown": [
       "\n",
       "\n",
       " ___"
      ],
      "text/plain": [
       "<IPython.core.display.Markdown object>"
      ]
     },
     "metadata": {},
     "output_type": "display_data"
    }
   ],
   "source": [
    "regex = r'([0-9]{1,2}:[0-9]{1,2})'\n",
    "find_examples(regex)"
   ]
  },
  {
   "cell_type": "code",
   "execution_count": 6,
   "metadata": {
    "scrolled": false
   },
   "outputs": [
    {
     "data": {
      "text/markdown": [
       "9:30 → nine thirty (nine thirty)"
      ],
      "text/plain": [
       "<IPython.core.display.Markdown object>"
      ]
     },
     "metadata": {},
     "output_type": "display_data"
    },
    {
     "data": {
      "text/markdown": [
       "1:30 → one thirty (one thirty)"
      ],
      "text/plain": [
       "<IPython.core.display.Markdown object>"
      ]
     },
     "metadata": {},
     "output_type": "display_data"
    },
    {
     "data": {
      "text/markdown": [
       "1:51 → one fifty-one (one fifty-one)"
      ],
      "text/plain": [
       "<IPython.core.display.Markdown object>"
      ]
     },
     "metadata": {},
     "output_type": "display_data"
    }
   ],
   "source": [
    "from IPython.display import Markdown\n",
    "from functools import partial\n",
    "from num2words import num2words\n",
    "\n",
    "cases = [\n",
    "    ('alone in the shop about 9:30', 'nine thirty'),\n",
    "    ('San Antonio at 1:30 p.m.,', 'one thirty'),\n",
    "    ('At 1:51 p.m., police car 2 report', 'one fifty-one'),\n",
    "]\n",
    "\n",
    "def replace(text, true):\n",
    "    split = text.split(':')\n",
    "    assert len(split) == 2\n",
    "    words = [num2words(int(num)) for num in split]\n",
    "    ret = ' '.join(words)\n",
    "    display(Markdown(text + ' → ' + ret + ' (' + true + ')'))\n",
    "    return ret\n",
    "\n",
    "for text in cases:\n",
    "    _iterate_and_replace(regex, text[0], partial(replace, true=text[1]))"
   ]
  },
  {
   "cell_type": "markdown",
   "metadata": {},
   "source": [
    "## Ordinals\n",
    "\n",
    "Here we experiment verbalizing ordinals."
   ]
  },
  {
   "cell_type": "code",
   "execution_count": 7,
   "metadata": {
    "scrolled": true
   },
   "outputs": [
    {
     "data": {
      "text/markdown": [
       "### Examples Captured by Regex"
      ],
      "text/plain": [
       "<IPython.core.display.Markdown object>"
      ]
     },
     "metadata": {},
     "output_type": "display_data"
    },
    {
     "data": {
      "text/markdown": [
       "**Regex:** ([0-9]+(st|nd|rd|th))"
      ],
      "text/plain": [
       "<IPython.core.display.Markdown object>"
      ]
     },
     "metadata": {},
     "output_type": "display_data"
    },
    {
     "data": {
      "text/markdown": [
       "**Number of Examples:** 71"
      ],
      "text/plain": [
       "<IPython.core.display.Markdown object>"
      ]
     },
     "metadata": {},
     "output_type": "display_data"
    },
    {
     "data": {
      "text/markdown": [
       "**Number of Examples Shown:** 5"
      ],
      "text/plain": [
       "<IPython.core.display.Markdown object>"
      ]
     },
     "metadata": {},
     "output_type": "display_data"
    },
    {
     "data": {
      "text/markdown": [
       "\n",
       "\n",
       " ___"
      ],
      "text/plain": [
       "<IPython.core.display.Markdown object>"
      ]
     },
     "metadata": {},
     "output_type": "display_data"
    },
    {
     "data": {
      "text/markdown": [
       "**Text:** \"…tween May XXX, 1827, and **30th** April, 1831,…\""
      ],
      "text/plain": [
       "<IPython.core.display.Markdown object>"
      ]
     },
     "metadata": {},
     "output_type": "display_data"
    },
    {
     "data": {
      "text/html": [
       "<a href='../data/LJSpeech-1.1/wavs/LJ008-0266.wav' target='_blank'>../data/LJSpeech-1.1/wavs/LJ008-0266.wav</a><br>"
      ],
      "text/plain": [
       "/Users/michaelp/Code/WellSaidLabs/data/LJSpeech-1.1/wavs/LJ008-0266.wav"
      ]
     },
     "metadata": {},
     "output_type": "display_data"
    },
    {
     "data": {
      "text/markdown": [
       "\n",
       "\n",
       " ___"
      ],
      "text/plain": [
       "<IPython.core.display.Markdown object>"
      ]
     },
     "metadata": {},
     "output_type": "display_data"
    },
    {
     "data": {
      "text/markdown": [
       "**Text:** \"… on this spot was on the **3rd** December, 1783,…\""
      ],
      "text/plain": [
       "<IPython.core.display.Markdown object>"
      ]
     },
     "metadata": {},
     "output_type": "display_data"
    },
    {
     "data": {
      "text/html": [
       "<a href='../data/LJSpeech-1.1/wavs/LJ008-0030.wav' target='_blank'>../data/LJSpeech-1.1/wavs/LJ008-0030.wav</a><br>"
      ],
      "text/plain": [
       "/Users/michaelp/Code/WellSaidLabs/data/LJSpeech-1.1/wavs/LJ008-0030.wav"
      ]
     },
     "metadata": {},
     "output_type": "display_data"
    },
    {
     "data": {
      "text/markdown": [
       "\n",
       "\n",
       " ___"
      ],
      "text/plain": [
       "<IPython.core.display.Markdown object>"
      ]
     },
     "metadata": {},
     "output_type": "display_data"
    },
    {
     "data": {
      "text/markdown": [
       "**Text:** \"… then lieutenant, in the **10th** Hussars.…\""
      ],
      "text/plain": [
       "<IPython.core.display.Markdown object>"
      ]
     },
     "metadata": {},
     "output_type": "display_data"
    },
    {
     "data": {
      "text/html": [
       "<a href='../data/LJSpeech-1.1/wavs/LJ010-0281.wav' target='_blank'>../data/LJSpeech-1.1/wavs/LJ010-0281.wav</a><br>"
      ],
      "text/plain": [
       "/Users/michaelp/Code/WellSaidLabs/data/LJSpeech-1.1/wavs/LJ010-0281.wav"
      ]
     },
     "metadata": {},
     "output_type": "display_data"
    },
    {
     "data": {
      "text/markdown": [
       "\n",
       "\n",
       " ___"
      ],
      "text/plain": [
       "<IPython.core.display.Markdown object>"
      ]
     },
     "metadata": {},
     "output_type": "display_data"
    },
    {
     "data": {
      "text/markdown": [
       "**Text:** \"…Up to the **21st** December, 1842,…\""
      ],
      "text/plain": [
       "<IPython.core.display.Markdown object>"
      ]
     },
     "metadata": {},
     "output_type": "display_data"
    },
    {
     "data": {
      "text/html": [
       "<a href='../data/LJSpeech-1.1/wavs/LJ019-0020.wav' target='_blank'>../data/LJSpeech-1.1/wavs/LJ019-0020.wav</a><br>"
      ],
      "text/plain": [
       "/Users/michaelp/Code/WellSaidLabs/data/LJSpeech-1.1/wavs/LJ019-0020.wav"
      ]
     },
     "metadata": {},
     "output_type": "display_data"
    },
    {
     "data": {
      "text/markdown": [
       "\n",
       "\n",
       " ___"
      ],
      "text/plain": [
       "<IPython.core.display.Markdown object>"
      ]
     },
     "metadata": {},
     "output_type": "display_data"
    },
    {
     "data": {
      "text/markdown": [
       "**Text:** \"…Thomas Dobson, on **22nd** August, 1799, for 1 shil…\""
      ],
      "text/plain": [
       "<IPython.core.display.Markdown object>"
      ]
     },
     "metadata": {},
     "output_type": "display_data"
    },
    {
     "data": {
      "text/html": [
       "<a href='../data/LJSpeech-1.1/wavs/LJ002-0156.wav' target='_blank'>../data/LJSpeech-1.1/wavs/LJ002-0156.wav</a><br>"
      ],
      "text/plain": [
       "/Users/michaelp/Code/WellSaidLabs/data/LJSpeech-1.1/wavs/LJ002-0156.wav"
      ]
     },
     "metadata": {},
     "output_type": "display_data"
    },
    {
     "data": {
      "text/markdown": [
       "\n",
       "\n",
       " ___"
      ],
      "text/plain": [
       "<IPython.core.display.Markdown object>"
      ]
     },
     "metadata": {},
     "output_type": "display_data"
    }
   ],
   "source": [
    "regex = r'([0-9]+(st|nd|rd|th))'\n",
    "find_examples(regex)"
   ]
  },
  {
   "cell_type": "code",
   "execution_count": 8,
   "metadata": {
    "scrolled": false
   },
   "outputs": [
    {
     "data": {
      "text/markdown": [
       "13th → thirteenth (thirteenth)"
      ],
      "text/plain": [
       "<IPython.core.display.Markdown object>"
      ]
     },
     "metadata": {},
     "output_type": "display_data"
    },
    {
     "data": {
      "text/markdown": [
       "23rd → twenty-third (twenty-third)"
      ],
      "text/plain": [
       "<IPython.core.display.Markdown object>"
      ]
     },
     "metadata": {},
     "output_type": "display_data"
    },
    {
     "data": {
      "text/markdown": [
       "1st → first (first)"
      ],
      "text/plain": [
       "<IPython.core.display.Markdown object>"
      ]
     },
     "metadata": {},
     "output_type": "display_data"
    },
    {
     "data": {
      "text/markdown": [
       "30th → thirtieth (thirtieth)"
      ],
      "text/plain": [
       "<IPython.core.display.Markdown object>"
      ]
     },
     "metadata": {},
     "output_type": "display_data"
    }
   ],
   "source": [
    "from IPython.display import Markdown\n",
    "from functools import partial\n",
    "\n",
    "from num2words import num2words\n",
    "\n",
    "cases = [('shortly before Lee\\'s 13th birthday', 'thirteenth'), \n",
    "         ('On October 23rd, I had attended a ultra', 'twenty-third'),\n",
    "         ('between May 1st, 1827,', 'first'),\n",
    "         ('and 30th April, 1831,', 'thirtieth')]\n",
    "\n",
    "def replace(text, true):\n",
    "    digit = ''.join([c for c in text if c.isdigit()])\n",
    "    ret = num2words(int(digit), ordinal=True)\n",
    "    display(Markdown(text + ' → ' + ret + ' (' + true + ')'))\n",
    "    return ret\n",
    "\n",
    "\n",
    "for text in cases:\n",
    "    _iterate_and_replace(regex, text[0], partial(replace, true=text[1]))"
   ]
  },
  {
   "cell_type": "markdown",
   "metadata": {},
   "source": [
    "## Money (dollars or pounds)\n",
    "\n",
    "Here we experiment verbalizing currency."
   ]
  },
  {
   "cell_type": "code",
   "execution_count": 9,
   "metadata": {
    "scrolled": true
   },
   "outputs": [
    {
     "data": {
      "text/markdown": [
       "### Examples Captured by Regex"
      ],
      "text/plain": [
       "<IPython.core.display.Markdown object>"
      ]
     },
     "metadata": {},
     "output_type": "display_data"
    },
    {
     "data": {
      "text/markdown": [
       "**Regex:** (\\S*([$£]{1}[0-9\\,\\.]+\\b))"
      ],
      "text/plain": [
       "<IPython.core.display.Markdown object>"
      ]
     },
     "metadata": {},
     "output_type": "display_data"
    },
    {
     "data": {
      "text/markdown": [
       "**Number of Examples:** 128"
      ],
      "text/plain": [
       "<IPython.core.display.Markdown object>"
      ]
     },
     "metadata": {},
     "output_type": "display_data"
    },
    {
     "data": {
      "text/markdown": [
       "**Number of Examples Shown:** 5"
      ],
      "text/plain": [
       "<IPython.core.display.Markdown object>"
      ]
     },
     "metadata": {},
     "output_type": "display_data"
    },
    {
     "data": {
      "text/markdown": [
       "\n",
       "\n",
       " ___"
      ],
      "text/plain": [
       "<IPython.core.display.Markdown object>"
      ]
     },
     "metadata": {},
     "output_type": "display_data"
    },
    {
     "data": {
      "text/markdown": [
       "**Text:** \"…**$60** on the second of the mon…\""
      ],
      "text/plain": [
       "<IPython.core.display.Markdown object>"
      ]
     },
     "metadata": {},
     "output_type": "display_data"
    },
    {
     "data": {
      "text/html": [
       "<a href='../data/LJSpeech-1.1/wavs/LJ038-0198.wav' target='_blank'>../data/LJSpeech-1.1/wavs/LJ038-0198.wav</a><br>"
      ],
      "text/plain": [
       "/Users/michaelp/Code/WellSaidLabs/data/LJSpeech-1.1/wavs/LJ038-0198.wav"
      ]
     },
     "metadata": {},
     "output_type": "display_data"
    },
    {
     "data": {
      "text/markdown": [
       "\n",
       "\n",
       " ___"
      ],
      "text/plain": [
       "<IPython.core.display.Markdown object>"
      ]
     },
     "metadata": {},
     "output_type": "display_data"
    },
    {
     "data": {
      "text/markdown": [
       "**Text:** \"…s' Fund to the extent of **£90,000**.…\""
      ],
      "text/plain": [
       "<IPython.core.display.Markdown object>"
      ]
     },
     "metadata": {},
     "output_type": "display_data"
    },
    {
     "data": {
      "text/html": [
       "<a href='../data/LJSpeech-1.1/wavs/LJ003-0036.wav' target='_blank'>../data/LJSpeech-1.1/wavs/LJ003-0036.wav</a><br>"
      ],
      "text/plain": [
       "/Users/michaelp/Code/WellSaidLabs/data/LJSpeech-1.1/wavs/LJ003-0036.wav"
      ]
     },
     "metadata": {},
     "output_type": "display_data"
    },
    {
     "data": {
      "text/markdown": [
       "\n",
       "\n",
       " ___"
      ],
      "text/plain": [
       "<IPython.core.display.Markdown object>"
      ]
     },
     "metadata": {},
     "output_type": "display_data"
    },
    {
     "data": {
      "text/markdown": [
       "**Text:** \"…ment requests the sum of **$100,000** to conduct a detailed fe…\""
      ],
      "text/plain": [
       "<IPython.core.display.Markdown object>"
      ]
     },
     "metadata": {},
     "output_type": "display_data"
    },
    {
     "data": {
      "text/html": [
       "<a href='../data/LJSpeech-1.1/wavs/LJ050-0155.wav' target='_blank'>../data/LJSpeech-1.1/wavs/LJ050-0155.wav</a><br>"
      ],
      "text/plain": [
       "/Users/michaelp/Code/WellSaidLabs/data/LJSpeech-1.1/wavs/LJ050-0155.wav"
      ]
     },
     "metadata": {},
     "output_type": "display_data"
    },
    {
     "data": {
      "text/markdown": [
       "\n",
       "\n",
       " ___"
      ],
      "text/plain": [
       "<IPython.core.display.Markdown object>"
      ]
     },
     "metadata": {},
     "output_type": "display_data"
    },
    {
     "data": {
      "text/markdown": [
       "**Text:** \"…ed her for a full sum of **£2000**, after which the Wallace…\""
      ],
      "text/plain": [
       "<IPython.core.display.Markdown object>"
      ]
     },
     "metadata": {},
     "output_type": "display_data"
    },
    {
     "data": {
      "text/html": [
       "<a href='../data/LJSpeech-1.1/wavs/LJ013-0012.wav' target='_blank'>../data/LJSpeech-1.1/wavs/LJ013-0012.wav</a><br>"
      ],
      "text/plain": [
       "/Users/michaelp/Code/WellSaidLabs/data/LJSpeech-1.1/wavs/LJ013-0012.wav"
      ]
     },
     "metadata": {},
     "output_type": "display_data"
    },
    {
     "data": {
      "text/markdown": [
       "\n",
       "\n",
       " ___"
      ],
      "text/plain": [
       "<IPython.core.display.Markdown object>"
      ]
     },
     "metadata": {},
     "output_type": "display_data"
    },
    {
     "data": {
      "text/markdown": [
       "**Text:** \"…neral average being from **£120** to £130 per cell.…\""
      ],
      "text/plain": [
       "<IPython.core.display.Markdown object>"
      ]
     },
     "metadata": {},
     "output_type": "display_data"
    },
    {
     "data": {
      "text/html": [
       "<a href='../data/LJSpeech-1.1/wavs/LJ019-0038.wav' target='_blank'>../data/LJSpeech-1.1/wavs/LJ019-0038.wav</a><br>"
      ],
      "text/plain": [
       "/Users/michaelp/Code/WellSaidLabs/data/LJSpeech-1.1/wavs/LJ019-0038.wav"
      ]
     },
     "metadata": {},
     "output_type": "display_data"
    },
    {
     "data": {
      "text/markdown": [
       "\n",
       "\n",
       " ___"
      ],
      "text/plain": [
       "<IPython.core.display.Markdown object>"
      ]
     },
     "metadata": {},
     "output_type": "display_data"
    }
   ],
   "source": [
    "regex = r'(\\S*([$£]{1}[0-9\\,\\.]+\\b))'\n",
    "find_examples(regex)"
   ]
  },
  {
   "cell_type": "code",
   "execution_count": 10,
   "metadata": {},
   "outputs": [
    {
     "data": {
      "text/markdown": [
       "£4000 → four thousand pounds (four thousand pounds)"
      ],
      "text/plain": [
       "<IPython.core.display.Markdown object>"
      ]
     },
     "metadata": {},
     "output_type": "display_data"
    },
    {
     "data": {
      "text/markdown": [
       "$29.95 → twenty-nine dollars, ninety-five cents (twenty-nine dollars, ninety-five cents)"
      ],
      "text/plain": [
       "<IPython.core.display.Markdown object>"
      ]
     },
     "metadata": {},
     "output_type": "display_data"
    },
    {
     "data": {
      "text/markdown": [
       "£50,000 → fifty thousand pounds (fifty thousand pounds)"
      ],
      "text/plain": [
       "<IPython.core.display.Markdown object>"
      ]
     },
     "metadata": {},
     "output_type": "display_data"
    },
    {
     "data": {
      "text/markdown": [
       "£2372 → two thousand, three hundred seventy-two pounds (two thousand, three hundred seventy-two pounds)"
      ],
      "text/plain": [
       "<IPython.core.display.Markdown object>"
      ]
     },
     "metadata": {},
     "output_type": "display_data"
    },
    {
     "data": {
      "text/markdown": [
       "$1.27 → one dollar, twenty-seven cents (one dollar, twenty-seven cents)"
      ],
      "text/plain": [
       "<IPython.core.display.Markdown object>"
      ]
     },
     "metadata": {},
     "output_type": "display_data"
    },
    {
     "data": {
      "text/markdown": [
       "$19.95 → nineteen dollars, ninety-five cents (nighteen dollars, nighty-five cents)"
      ],
      "text/plain": [
       "<IPython.core.display.Markdown object>"
      ]
     },
     "metadata": {},
     "output_type": "display_data"
    },
    {
     "data": {
      "text/markdown": [
       "£367,800 → three hundred sixty-seven thousand, eight hundred pounds (three hundred sixty-seven thousand and eight hundred pounds)"
      ],
      "text/plain": [
       "<IPython.core.display.Markdown object>"
      ]
     },
     "metadata": {},
     "output_type": "display_data"
    },
    {
     "data": {
      "text/markdown": [
       "£1500 → one thousand, five hundred pounds (fifteen hundred pounds)"
      ],
      "text/plain": [
       "<IPython.core.display.Markdown object>"
      ]
     },
     "metadata": {},
     "output_type": "display_data"
    },
    {
     "data": {
      "text/markdown": [
       "£1000 → one thousand pounds (one thousand pounds each)"
      ],
      "text/plain": [
       "<IPython.core.display.Markdown object>"
      ]
     },
     "metadata": {},
     "output_type": "display_data"
    },
    {
     "data": {
      "text/markdown": [
       "$3,000,000 → three million dollars (three million)"
      ],
      "text/plain": [
       "<IPython.core.display.Markdown object>"
      ]
     },
     "metadata": {},
     "output_type": "display_data"
    },
    {
     "data": {
      "text/markdown": [
       "£1750 → one thousand, seven hundred fifty pounds (one thousand seven-fifty pounds)"
      ],
      "text/plain": [
       "<IPython.core.display.Markdown object>"
      ]
     },
     "metadata": {},
     "output_type": "display_data"
    },
    {
     "data": {
      "text/markdown": [
       "£1200 → one thousand, two hundred pounds (one thousand, two hundred pounds)"
      ],
      "text/plain": [
       "<IPython.core.display.Markdown object>"
      ]
     },
     "metadata": {},
     "output_type": "display_data"
    }
   ],
   "source": [
    "from IPython.display import Markdown\n",
    "\n",
    "from functools import partial\n",
    "from num2words import num2words\n",
    "\n",
    "cases = [('rough diamonds valued at £4000.', 'four thousand pounds'), \n",
    "         ('inch BBL, unquote, cost $29.95.', 'twenty-nine dollars, ninety-five cents'),\n",
    "         ('was indebted upwards of £50,000 subsequently stopped pay', 'fifty thousand pounds'),\n",
    "         ('warden, whose income was £2372.', 'two thousand, three hundred seventy-two pounds'),\n",
    "         ('plus $1.27', 'one dollar, twenty-seven cents'),\n",
    "         ('$19.95,', 'nighteen dollars, nighty-five cents'),\n",
    "         ('were out to the value of £367,800.', 'three hundred sixty-seven thousand and eight hundred pounds'),\n",
    "         ('the offer of a reward of £1500 for the detection of the', 'fifteen hundred pounds'),\n",
    "         ('of England notes for £1000 each,', 'one thousand pounds each'),\n",
    "         ('of approximately $3,000,000 during that period', 'three million'),\n",
    "         ('only afford to give £1750 for stones', 'one thousand seven-fifty pounds'),\n",
    "         ('e surrender of the other £1200', 'one thousand, two hundred pounds')]\n",
    "\n",
    "def replace(text, true):\n",
    "    digit = text[1:].replace(',', '')\n",
    "    ret = num2words(digit, to='currency', currency='USD')\n",
    "    ret = ret.replace(', zero cents', '')\n",
    "    ret = ret.replace('hundred and', 'hundred')\n",
    "    if '£' in text:\n",
    "        # num2words has bugs with their GBP current\n",
    "        ret = ret.replace('dollar', 'pound')\n",
    "        ret = ret.replace('cents', 'pence')\n",
    "        ret = ret.replace('cent', 'penny')\n",
    "    display(Markdown(text + ' → ' + ret + ' (' + true + ')'))\n",
    "    return ret\n",
    "\n",
    "for text in cases:\n",
    "    _iterate_and_replace(regex, text[0], partial(replace, true=text[1]))"
   ]
  },
  {
   "cell_type": "code",
   "execution_count": 11,
   "metadata": {},
   "outputs": [
    {
     "data": {
      "text/markdown": [
       "### Examples Captured by Regex"
      ],
      "text/plain": [
       "<IPython.core.display.Markdown object>"
      ]
     },
     "metadata": {},
     "output_type": "display_data"
    },
    {
     "data": {
      "text/markdown": [
       "**Regex:** ([$£])"
      ],
      "text/plain": [
       "<IPython.core.display.Markdown object>"
      ]
     },
     "metadata": {},
     "output_type": "display_data"
    },
    {
     "data": {
      "text/markdown": [
       "**Number of Examples:** 0"
      ],
      "text/plain": [
       "<IPython.core.display.Markdown object>"
      ]
     },
     "metadata": {},
     "output_type": "display_data"
    },
    {
     "data": {
      "text/markdown": [
       "**Number of Examples Shown:** 0"
      ],
      "text/plain": [
       "<IPython.core.display.Markdown object>"
      ]
     },
     "metadata": {},
     "output_type": "display_data"
    },
    {
     "data": {
      "text/markdown": [
       "\n",
       "\n",
       " ___"
      ],
      "text/plain": [
       "<IPython.core.display.Markdown object>"
      ]
     },
     "metadata": {},
     "output_type": "display_data"
    }
   ],
   "source": [
    "# No more currency examples\n",
    "find_examples(r'([$£])', replace=False)"
   ]
  },
  {
   "cell_type": "markdown",
   "metadata": {},
   "source": [
    "## PO Box Numbers & Serial Numbers\n",
    "\n",
    "\n",
    "Here we experiment verbalizing serial numbers and PO box number."
   ]
  },
  {
   "cell_type": "code",
   "execution_count": 12,
   "metadata": {
    "scrolled": true
   },
   "outputs": [
    {
     "data": {
      "text/markdown": [
       "### Examples Captured by Regex"
      ],
      "text/plain": [
       "<IPython.core.display.Markdown object>"
      ]
     },
     "metadata": {},
     "output_type": "display_data"
    },
    {
     "data": {
      "text/markdown": [
       "**Regex:** ([Bb]ox [0-9]+\\b)"
      ],
      "text/plain": [
       "<IPython.core.display.Markdown object>"
      ]
     },
     "metadata": {},
     "output_type": "display_data"
    },
    {
     "data": {
      "text/markdown": [
       "**Number of Examples:** 14"
      ],
      "text/plain": [
       "<IPython.core.display.Markdown object>"
      ]
     },
     "metadata": {},
     "output_type": "display_data"
    },
    {
     "data": {
      "text/markdown": [
       "**Number of Examples Shown:** 5"
      ],
      "text/plain": [
       "<IPython.core.display.Markdown object>"
      ]
     },
     "metadata": {},
     "output_type": "display_data"
    },
    {
     "data": {
      "text/markdown": [
       "\n",
       "\n",
       " ___"
      ],
      "text/plain": [
       "<IPython.core.display.Markdown object>"
      ]
     },
     "metadata": {},
     "output_type": "display_data"
    },
    {
     "data": {
      "text/markdown": [
       "**Text:** \"…Post Office **Box 2915**, Dallas, Texas, on March…\""
      ],
      "text/plain": [
       "<IPython.core.display.Markdown object>"
      ]
     },
     "metadata": {},
     "output_type": "display_data"
    },
    {
     "data": {
      "text/html": [
       "<a href='../data/LJSpeech-1.1/wavs/LJ032-0026.wav' target='_blank'>../data/LJSpeech-1.1/wavs/LJ032-0026.wav</a><br>"
      ],
      "text/plain": [
       "/Users/michaelp/Code/WellSaidLabs/data/LJSpeech-1.1/wavs/LJ032-0026.wav"
      ]
     },
     "metadata": {},
     "output_type": "display_data"
    },
    {
     "data": {
      "text/markdown": [
       "\n",
       "\n",
       " ___"
      ],
      "text/plain": [
       "<IPython.core.display.Markdown object>"
      ]
     },
     "metadata": {},
     "output_type": "display_data"
    },
    {
     "data": {
      "text/markdown": [
       "**Text:** \"…as listed on post office **box 30061**, New Orleans,…\""
      ],
      "text/plain": [
       "<IPython.core.display.Markdown object>"
      ]
     },
     "metadata": {},
     "output_type": "display_data"
    },
    {
     "data": {
      "text/html": [
       "<a href='../data/LJSpeech-1.1/wavs/LJ038-0129.wav' target='_blank'>../data/LJSpeech-1.1/wavs/LJ038-0129.wav</a><br>"
      ],
      "text/plain": [
       "/Users/michaelp/Code/WellSaidLabs/data/LJSpeech-1.1/wavs/LJ038-0129.wav"
      ]
     },
     "metadata": {},
     "output_type": "display_data"
    },
    {
     "data": {
      "text/markdown": [
       "\n",
       "\n",
       " ___"
      ],
      "text/plain": [
       "<IPython.core.display.Markdown object>"
      ]
     },
     "metadata": {},
     "output_type": "display_data"
    },
    {
     "data": {
      "text/markdown": [
       "**Text:** \"… address was Post Office **Box 2915**, Dallas, Texas.…\""
      ],
      "text/plain": [
       "<IPython.core.display.Markdown object>"
      ]
     },
     "metadata": {},
     "output_type": "display_data"
    },
    {
     "data": {
      "text/html": [
       "<a href='../data/LJSpeech-1.1/wavs/LJ037-0197.wav' target='_blank'>../data/LJSpeech-1.1/wavs/LJ037-0197.wav</a><br>"
      ],
      "text/plain": [
       "/Users/michaelp/Code/WellSaidLabs/data/LJSpeech-1.1/wavs/LJ037-0197.wav"
      ]
     },
     "metadata": {},
     "output_type": "display_data"
    },
    {
     "data": {
      "text/markdown": [
       "\n",
       "\n",
       " ___"
      ],
      "text/plain": [
       "<IPython.core.display.Markdown object>"
      ]
     },
     "metadata": {},
     "output_type": "display_data"
    },
    {
     "data": {
      "text/markdown": [
       "**Text:** \"…e had rented post office **box 2915**, Dallas,…\""
      ],
      "text/plain": [
       "<IPython.core.display.Markdown object>"
      ]
     },
     "metadata": {},
     "output_type": "display_data"
    },
    {
     "data": {
      "text/html": [
       "<a href='../data/LJSpeech-1.1/wavs/LJ038-0126.wav' target='_blank'>../data/LJSpeech-1.1/wavs/LJ038-0126.wav</a><br>"
      ],
      "text/plain": [
       "/Users/michaelp/Code/WellSaidLabs/data/LJSpeech-1.1/wavs/LJ038-0126.wav"
      ]
     },
     "metadata": {},
     "output_type": "display_data"
    },
    {
     "data": {
      "text/markdown": [
       "\n",
       "\n",
       " ___"
      ],
      "text/plain": [
       "<IPython.core.display.Markdown object>"
      ]
     },
     "metadata": {},
     "output_type": "display_data"
    },
    {
     "data": {
      "text/markdown": [
       "**Text:** \"…lication for post office **box 2915** listed \"A. Hidell\" as a …\""
      ],
      "text/plain": [
       "<IPython.core.display.Markdown object>"
      ]
     },
     "metadata": {},
     "output_type": "display_data"
    },
    {
     "data": {
      "text/html": [
       "<a href='../data/LJSpeech-1.1/wavs/LJ032-0064.wav' target='_blank'>../data/LJSpeech-1.1/wavs/LJ032-0064.wav</a><br>"
      ],
      "text/plain": [
       "/Users/michaelp/Code/WellSaidLabs/data/LJSpeech-1.1/wavs/LJ032-0064.wav"
      ]
     },
     "metadata": {},
     "output_type": "display_data"
    },
    {
     "data": {
      "text/markdown": [
       "\n",
       "\n",
       " ___"
      ],
      "text/plain": [
       "<IPython.core.display.Markdown object>"
      ]
     },
     "metadata": {},
     "output_type": "display_data"
    }
   ],
   "source": [
    "find_examples(r'([Bb]ox [0-9]+\\b)')"
   ]
  },
  {
   "cell_type": "code",
   "execution_count": 13,
   "metadata": {
    "scrolled": true
   },
   "outputs": [
    {
     "data": {
      "text/markdown": [
       "### Examples Captured by Regex"
      ],
      "text/plain": [
       "<IPython.core.display.Markdown object>"
      ]
     },
     "metadata": {},
     "output_type": "display_data"
    },
    {
     "data": {
      "text/markdown": [
       "**Regex:** (\\b[A-Za-z]+[0-9]+\\b)"
      ],
      "text/plain": [
       "<IPython.core.display.Markdown object>"
      ]
     },
     "metadata": {},
     "output_type": "display_data"
    },
    {
     "data": {
      "text/markdown": [
       "**Number of Examples:** 16"
      ],
      "text/plain": [
       "<IPython.core.display.Markdown object>"
      ]
     },
     "metadata": {},
     "output_type": "display_data"
    },
    {
     "data": {
      "text/markdown": [
       "**Number of Examples Shown:** 5"
      ],
      "text/plain": [
       "<IPython.core.display.Markdown object>"
      ]
     },
     "metadata": {},
     "output_type": "display_data"
    },
    {
     "data": {
      "text/markdown": [
       "\n",
       "\n",
       " ___"
      ],
      "text/plain": [
       "<IPython.core.display.Markdown object>"
      ]
     },
     "metadata": {},
     "output_type": "display_data"
    },
    {
     "data": {
      "text/markdown": [
       "**Text:** \"… barrel near end of grip **C2766**, end quote,…\""
      ],
      "text/plain": [
       "<IPython.core.display.Markdown object>"
      ]
     },
     "metadata": {},
     "output_type": "display_data"
    },
    {
     "data": {
      "text/html": [
       "<a href='../data/LJSpeech-1.1/wavs/LJ032-0142.wav' target='_blank'>../data/LJSpeech-1.1/wavs/LJ032-0142.wav</a><br>"
      ],
      "text/plain": [
       "/Users/michaelp/Code/WellSaidLabs/data/LJSpeech-1.1/wavs/LJ032-0142.wav"
      ]
     },
     "metadata": {},
     "output_type": "display_data"
    },
    {
     "data": {
      "text/markdown": [
       "\n",
       "\n",
       " ___"
      ],
      "text/plain": [
       "<IPython.core.display.Markdown object>"
      ]
     },
     "metadata": {},
     "output_type": "display_data"
    },
    {
     "data": {
      "text/markdown": [
       "**Text:** \"…facturer's serial number **C2766**.…\""
      ],
      "text/plain": [
       "<IPython.core.display.Markdown object>"
      ]
     },
     "metadata": {},
     "output_type": "display_data"
    },
    {
     "data": {
      "text/html": [
       "<a href='../data/LJSpeech-1.1/wavs/LJ032-0050.wav' target='_blank'>../data/LJSpeech-1.1/wavs/LJ032-0050.wav</a><br>"
      ],
      "text/plain": [
       "/Users/michaelp/Code/WellSaidLabs/data/LJSpeech-1.1/wavs/LJ032-0050.wav"
      ]
     },
     "metadata": {},
     "output_type": "display_data"
    },
    {
     "data": {
      "text/markdown": [
       "\n",
       "\n",
       " ___"
      ],
      "text/plain": [
       "<IPython.core.display.Markdown object>"
      ]
     },
     "metadata": {},
     "output_type": "display_data"
    },
    {
     "data": {
      "text/markdown": [
       "**Text:** \"… Commando, serial number **V510210**, end quote,…\""
      ],
      "text/plain": [
       "<IPython.core.display.Markdown object>"
      ]
     },
     "metadata": {},
     "output_type": "display_data"
    },
    {
     "data": {
      "text/html": [
       "<a href='../data/LJSpeech-1.1/wavs/LJ037-0203.wav' target='_blank'>../data/LJSpeech-1.1/wavs/LJ037-0203.wav</a><br>"
      ],
      "text/plain": [
       "/Users/michaelp/Code/WellSaidLabs/data/LJSpeech-1.1/wavs/LJ037-0203.wav"
      ]
     },
     "metadata": {},
     "output_type": "display_data"
    },
    {
     "data": {
      "text/markdown": [
       "\n",
       "\n",
       " ___"
      ],
      "text/plain": [
       "<IPython.core.display.Markdown object>"
      ]
     },
     "metadata": {},
     "output_type": "display_data"
    },
    {
     "data": {
      "text/markdown": [
       "**Text:** \"…bearing serial number **C2766**.…\""
      ],
      "text/plain": [
       "<IPython.core.display.Markdown object>"
      ]
     },
     "metadata": {},
     "output_type": "display_data"
    },
    {
     "data": {
      "text/html": [
       "<a href='../data/LJSpeech-1.1/wavs/LJ032-0056.wav' target='_blank'>../data/LJSpeech-1.1/wavs/LJ032-0056.wav</a><br>"
      ],
      "text/plain": [
       "/Users/michaelp/Code/WellSaidLabs/data/LJSpeech-1.1/wavs/LJ032-0056.wav"
      ]
     },
     "metadata": {},
     "output_type": "display_data"
    },
    {
     "data": {
      "text/markdown": [
       "\n",
       "\n",
       " ___"
      ],
      "text/plain": [
       "<IPython.core.display.Markdown object>"
      ]
     },
     "metadata": {},
     "output_type": "display_data"
    },
    {
     "data": {
      "text/markdown": [
       "**Text:** \"…ano rifle, serial number **C2766**,…\""
      ],
      "text/plain": [
       "<IPython.core.display.Markdown object>"
      ]
     },
     "metadata": {},
     "output_type": "display_data"
    },
    {
     "data": {
      "text/html": [
       "<a href='../data/LJSpeech-1.1/wavs/LJ033-0004.wav' target='_blank'>../data/LJSpeech-1.1/wavs/LJ033-0004.wav</a><br>"
      ],
      "text/plain": [
       "/Users/michaelp/Code/WellSaidLabs/data/LJSpeech-1.1/wavs/LJ033-0004.wav"
      ]
     },
     "metadata": {},
     "output_type": "display_data"
    },
    {
     "data": {
      "text/markdown": [
       "\n",
       "\n",
       " ___"
      ],
      "text/plain": [
       "<IPython.core.display.Markdown object>"
      ]
     },
     "metadata": {},
     "output_type": "display_data"
    }
   ],
   "source": [
    "find_examples(r'(\\b[A-Za-z]+[0-9]+\\b)')"
   ]
  },
  {
   "cell_type": "code",
   "execution_count": 14,
   "metadata": {},
   "outputs": [
    {
     "data": {
      "text/markdown": [
       "Box 2915 → Box two nine one five (two nine one five)"
      ],
      "text/plain": [
       "<IPython.core.display.Markdown object>"
      ]
     },
     "metadata": {},
     "output_type": "display_data"
    },
    {
     "data": {
      "text/markdown": [
       "Box 30016 → Box three zero zero one six (three zero zero one six)"
      ],
      "text/plain": [
       "<IPython.core.display.Markdown object>"
      ]
     },
     "metadata": {},
     "output_type": "display_data"
    },
    {
     "data": {
      "text/markdown": [
       "C2766 → C two seven six six (C two seven six six)"
      ],
      "text/plain": [
       "<IPython.core.display.Markdown object>"
      ]
     },
     "metadata": {},
     "output_type": "display_data"
    },
    {
     "data": {
      "text/markdown": [
       "VC836 → V C eight three six (V C eight three six)"
      ],
      "text/plain": [
       "<IPython.core.display.Markdown object>"
      ]
     },
     "metadata": {},
     "output_type": "display_data"
    },
    {
     "data": {
      "text/markdown": [
       "V510210 → V five one zero two one zero (V five one zero two one zero)"
      ],
      "text/plain": [
       "<IPython.core.display.Markdown object>"
      ]
     },
     "metadata": {},
     "output_type": "display_data"
    }
   ],
   "source": [
    "from IPython.display import Markdown\n",
    "\n",
    "from functools import partial\n",
    "from num2words import num2words\n",
    "\n",
    "cases = [('Post Office Box 2915, Dallas, Texas, on March', 'two nine one five'), \n",
    "         ('Post Office Box 30016, New Orleans', 'three zero zero one six'),\n",
    "         ('serial No. C2766, which was also found', 'C two seven six six'),\n",
    "         ('control number VC836, serial number', 'V C eight three six'),\n",
    "         ('Commando, serial number V510210, end quote', 'V five one zero two one zero')]\n",
    "\n",
    "def replace(text, true):\n",
    "    split = text.split(' ')\n",
    "    ret = [num2words(int(t)) if t.isdigit() else t for t in list(split[-1])]\n",
    "    ret = ' '.join(ret)\n",
    "    if len(split) == 2:\n",
    "        ret = split[0] + ' ' + ret\n",
    "    display(Markdown(text + ' → ' + ret + ' (' + true + ')'))\n",
    "    return ret\n",
    "\n",
    "for regex in [r'([Bb]ox [0-9]+\\b)', r'(\\b[A-Za-z]+[0-9]+\\b)']:\n",
    "    for text in cases:\n",
    "        _iterate_and_replace(regex, text[0], partial(replace, true=text[1]))"
   ]
  },
  {
   "cell_type": "markdown",
   "metadata": {},
   "source": [
    "## Year\n",
    "\n",
    "Here we experiment verbalizing a year."
   ]
  },
  {
   "cell_type": "code",
   "execution_count": 15,
   "metadata": {},
   "outputs": [
    {
     "data": {
      "text/markdown": [
       "### Examples Captured by Regex"
      ],
      "text/plain": [
       "<IPython.core.display.Markdown object>"
      ]
     },
     "metadata": {},
     "output_type": "display_data"
    },
    {
     "data": {
      "text/markdown": [
       "**Regex:** (\\b[0-9]{4}\\b)"
      ],
      "text/plain": [
       "<IPython.core.display.Markdown object>"
      ]
     },
     "metadata": {},
     "output_type": "display_data"
    },
    {
     "data": {
      "text/markdown": [
       "**Number of Examples:** 582"
      ],
      "text/plain": [
       "<IPython.core.display.Markdown object>"
      ]
     },
     "metadata": {},
     "output_type": "display_data"
    },
    {
     "data": {
      "text/markdown": [
       "**Number of Examples Shown:** 5"
      ],
      "text/plain": [
       "<IPython.core.display.Markdown object>"
      ]
     },
     "metadata": {},
     "output_type": "display_data"
    },
    {
     "data": {
      "text/markdown": [
       "\n",
       "\n",
       " ___"
      ],
      "text/plain": [
       "<IPython.core.display.Markdown object>"
      ]
     },
     "metadata": {},
     "output_type": "display_data"
    },
    {
     "data": {
      "text/markdown": [
       "**Text:** \"…ighties,\" or at least by **1490**, printing in Venice had …\""
      ],
      "text/plain": [
       "<IPython.core.display.Markdown object>"
      ]
     },
     "metadata": {},
     "output_type": "display_data"
    },
    {
     "data": {
      "text/html": [
       "<a href='../data/LJSpeech-1.1/wavs/LJ001-0049.wav' target='_blank'>../data/LJSpeech-1.1/wavs/LJ001-0049.wav</a><br>"
      ],
      "text/plain": [
       "/Users/michaelp/Code/WellSaidLabs/data/LJSpeech-1.1/wavs/LJ001-0049.wav"
      ]
     },
     "metadata": {},
     "output_type": "display_data"
    },
    {
     "data": {
      "text/markdown": [
       "\n",
       "\n",
       " ___"
      ],
      "text/plain": [
       "<IPython.core.display.Markdown object>"
      ]
     },
     "metadata": {},
     "output_type": "display_data"
    },
    {
     "data": {
      "text/markdown": [
       "**Text:** \"…ain, as late as XXXX and **1812**, Execution Dock, on the …\""
      ],
      "text/plain": [
       "<IPython.core.display.Markdown object>"
      ]
     },
     "metadata": {},
     "output_type": "display_data"
    },
    {
     "data": {
      "text/html": [
       "<a href='../data/LJSpeech-1.1/wavs/LJ008-0019.wav' target='_blank'>../data/LJSpeech-1.1/wavs/LJ008-0019.wav</a><br>"
      ],
      "text/plain": [
       "/Users/michaelp/Code/WellSaidLabs/data/LJSpeech-1.1/wavs/LJ008-0019.wav"
      ]
     },
     "metadata": {},
     "output_type": "display_data"
    },
    {
     "data": {
      "text/markdown": [
       "\n",
       "\n",
       " ___"
      ],
      "text/plain": [
       "<IPython.core.display.Markdown object>"
      ]
     },
     "metadata": {},
     "output_type": "display_data"
    },
    {
     "data": {
      "text/markdown": [
       "**Text:** \"…as submitted in November **1963**…\""
      ],
      "text/plain": [
       "<IPython.core.display.Markdown object>"
      ]
     },
     "metadata": {},
     "output_type": "display_data"
    },
    {
     "data": {
      "text/html": [
       "<a href='../data/LJSpeech-1.1/wavs/LJ050-0219.wav' target='_blank'>../data/LJSpeech-1.1/wavs/LJ050-0219.wav</a><br>"
      ],
      "text/plain": [
       "/Users/michaelp/Code/WellSaidLabs/data/LJSpeech-1.1/wavs/LJ050-0219.wav"
      ]
     },
     "metadata": {},
     "output_type": "display_data"
    },
    {
     "data": {
      "text/markdown": [
       "\n",
       "\n",
       " ___"
      ],
      "text/plain": [
       "<IPython.core.display.Markdown object>"
      ]
     },
     "metadata": {},
     "output_type": "display_data"
    },
    {
     "data": {
      "text/markdown": [
       "**Text:** \"…This was in May **1842**.…\""
      ],
      "text/plain": [
       "<IPython.core.display.Markdown object>"
      ]
     },
     "metadata": {},
     "output_type": "display_data"
    },
    {
     "data": {
      "text/html": [
       "<a href='../data/LJSpeech-1.1/wavs/LJ010-0255.wav' target='_blank'>../data/LJSpeech-1.1/wavs/LJ010-0255.wav</a><br>"
      ],
      "text/plain": [
       "/Users/michaelp/Code/WellSaidLabs/data/LJSpeech-1.1/wavs/LJ010-0255.wav"
      ]
     },
     "metadata": {},
     "output_type": "display_data"
    },
    {
     "data": {
      "text/markdown": [
       "\n",
       "\n",
       " ___"
      ],
      "text/plain": [
       "<IPython.core.display.Markdown object>"
      ]
     },
     "metadata": {},
     "output_type": "display_data"
    },
    {
     "data": {
      "text/markdown": [
       "**Text:** \"…int where the dangers of **1929** are again becoming possi…\""
      ],
      "text/plain": [
       "<IPython.core.display.Markdown object>"
      ]
     },
     "metadata": {},
     "output_type": "display_data"
    },
    {
     "data": {
      "text/html": [
       "<a href='../data/LJSpeech-1.1/wavs/LJ023-0023.wav' target='_blank'>../data/LJSpeech-1.1/wavs/LJ023-0023.wav</a><br>"
      ],
      "text/plain": [
       "/Users/michaelp/Code/WellSaidLabs/data/LJSpeech-1.1/wavs/LJ023-0023.wav"
      ]
     },
     "metadata": {},
     "output_type": "display_data"
    },
    {
     "data": {
      "text/markdown": [
       "\n",
       "\n",
       " ___"
      ],
      "text/plain": [
       "<IPython.core.display.Markdown object>"
      ]
     },
     "metadata": {},
     "output_type": "display_data"
    },
    {
     "data": {
      "text/markdown": [
       "### Examples Captured by Regex"
      ],
      "text/plain": [
       "<IPython.core.display.Markdown object>"
      ]
     },
     "metadata": {},
     "output_type": "display_data"
    },
    {
     "data": {
      "text/markdown": [
       "**Regex:** \\b(?:in|In) ([0-9]{3})\\b"
      ],
      "text/plain": [
       "<IPython.core.display.Markdown object>"
      ]
     },
     "metadata": {},
     "output_type": "display_data"
    },
    {
     "data": {
      "text/markdown": [
       "**Number of Examples:** 13"
      ],
      "text/plain": [
       "<IPython.core.display.Markdown object>"
      ]
     },
     "metadata": {},
     "output_type": "display_data"
    },
    {
     "data": {
      "text/markdown": [
       "**Number of Examples Shown:** 5"
      ],
      "text/plain": [
       "<IPython.core.display.Markdown object>"
      ]
     },
     "metadata": {},
     "output_type": "display_data"
    },
    {
     "data": {
      "text/markdown": [
       "\n",
       "\n",
       " ___"
      ],
      "text/plain": [
       "<IPython.core.display.Markdown object>"
      ]
     },
     "metadata": {},
     "output_type": "display_data"
    },
    {
     "data": {
      "text/markdown": [
       "**Text:** \"…Late in his life, in **567**, he invaded Egypt.…\""
      ],
      "text/plain": [
       "<IPython.core.display.Markdown object>"
      ]
     },
     "metadata": {},
     "output_type": "display_data"
    },
    {
     "data": {
      "text/html": [
       "<a href='../data/LJSpeech-1.1/wavs/LJ028-0071.wav' target='_blank'>../data/LJSpeech-1.1/wavs/LJ028-0071.wav</a><br>"
      ],
      "text/plain": [
       "/Users/michaelp/Code/WellSaidLabs/data/LJSpeech-1.1/wavs/LJ028-0071.wav"
      ]
     },
     "metadata": {},
     "output_type": "display_data"
    },
    {
     "data": {
      "text/markdown": [
       "\n",
       "\n",
       " ___"
      ],
      "text/plain": [
       "<IPython.core.display.Markdown object>"
      ]
     },
     "metadata": {},
     "output_type": "display_data"
    },
    {
     "data": {
      "text/markdown": [
       "**Text:** \"…and in **521** Nebuchadnezzar III., a n…\""
      ],
      "text/plain": [
       "<IPython.core.display.Markdown object>"
      ]
     },
     "metadata": {},
     "output_type": "display_data"
    },
    {
     "data": {
      "text/html": [
       "<a href='../data/LJSpeech-1.1/wavs/LJ028-0257.wav' target='_blank'>../data/LJSpeech-1.1/wavs/LJ028-0257.wav</a><br>"
      ],
      "text/plain": [
       "/Users/michaelp/Code/WellSaidLabs/data/LJSpeech-1.1/wavs/LJ028-0257.wav"
      ]
     },
     "metadata": {},
     "output_type": "display_data"
    },
    {
     "data": {
      "text/markdown": [
       "\n",
       "\n",
       " ___"
      ],
      "text/plain": [
       "<IPython.core.display.Markdown object>"
      ]
     },
     "metadata": {},
     "output_type": "display_data"
    },
    {
     "data": {
      "text/markdown": [
       "**Text:** \"…The next year, in **605**, Nabopolassar died, and …\""
      ],
      "text/plain": [
       "<IPython.core.display.Markdown object>"
      ]
     },
     "metadata": {},
     "output_type": "display_data"
    },
    {
     "data": {
      "text/html": [
       "<a href='../data/LJSpeech-1.1/wavs/LJ028-0053.wav' target='_blank'>../data/LJSpeech-1.1/wavs/LJ028-0053.wav</a><br>"
      ],
      "text/plain": [
       "/Users/michaelp/Code/WellSaidLabs/data/LJSpeech-1.1/wavs/LJ028-0053.wav"
      ]
     },
     "metadata": {},
     "output_type": "display_data"
    },
    {
     "data": {
      "text/markdown": [
       "\n",
       "\n",
       " ___"
      ],
      "text/plain": [
       "<IPython.core.display.Markdown object>"
      ]
     },
     "metadata": {},
     "output_type": "display_data"
    },
    {
     "data": {
      "text/markdown": [
       "**Text:** \"…n was unavailing, and in **275** B.C., the inhabitants of…\""
      ],
      "text/plain": [
       "<IPython.core.display.Markdown object>"
      ]
     },
     "metadata": {},
     "output_type": "display_data"
    },
    {
     "data": {
      "text/html": [
       "<a href='../data/LJSpeech-1.1/wavs/LJ028-0370.wav' target='_blank'>../data/LJSpeech-1.1/wavs/LJ028-0370.wav</a><br>"
      ],
      "text/plain": [
       "/Users/michaelp/Code/WellSaidLabs/data/LJSpeech-1.1/wavs/LJ028-0370.wav"
      ]
     },
     "metadata": {},
     "output_type": "display_data"
    },
    {
     "data": {
      "text/markdown": [
       "\n",
       "\n",
       " ___"
      ],
      "text/plain": [
       "<IPython.core.display.Markdown object>"
      ]
     },
     "metadata": {},
     "output_type": "display_data"
    },
    {
     "data": {
      "text/markdown": [
       "**Text:** \"…Eleven years later, in **586**, he destroyed the sacred…\""
      ],
      "text/plain": [
       "<IPython.core.display.Markdown object>"
      ]
     },
     "metadata": {},
     "output_type": "display_data"
    },
    {
     "data": {
      "text/html": [
       "<a href='../data/LJSpeech-1.1/wavs/LJ028-0065.wav' target='_blank'>../data/LJSpeech-1.1/wavs/LJ028-0065.wav</a><br>"
      ],
      "text/plain": [
       "/Users/michaelp/Code/WellSaidLabs/data/LJSpeech-1.1/wavs/LJ028-0065.wav"
      ]
     },
     "metadata": {},
     "output_type": "display_data"
    },
    {
     "data": {
      "text/markdown": [
       "\n",
       "\n",
       " ___"
      ],
      "text/plain": [
       "<IPython.core.display.Markdown object>"
      ]
     },
     "metadata": {},
     "output_type": "display_data"
    },
    {
     "data": {
      "text/markdown": [
       "### Examples Captured by Regex"
      ],
      "text/plain": [
       "<IPython.core.display.Markdown object>"
      ]
     },
     "metadata": {},
     "output_type": "display_data"
    },
    {
     "data": {
      "text/markdown": [
       "**Regex:** \\b([0-9]{3}) B\\.C\\b"
      ],
      "text/plain": [
       "<IPython.core.display.Markdown object>"
      ]
     },
     "metadata": {},
     "output_type": "display_data"
    },
    {
     "data": {
      "text/markdown": [
       "**Number of Examples:** 2"
      ],
      "text/plain": [
       "<IPython.core.display.Markdown object>"
      ]
     },
     "metadata": {},
     "output_type": "display_data"
    },
    {
     "data": {
      "text/markdown": [
       "**Number of Examples Shown:** 2"
      ],
      "text/plain": [
       "<IPython.core.display.Markdown object>"
      ]
     },
     "metadata": {},
     "output_type": "display_data"
    },
    {
     "data": {
      "text/markdown": [
       "\n",
       "\n",
       " ___"
      ],
      "text/plain": [
       "<IPython.core.display.Markdown object>"
      ]
     },
     "metadata": {},
     "output_type": "display_data"
    },
    {
     "data": {
      "text/markdown": [
       "**Text:** \"…and there on June 13, **323** B.C., he met his death.…\""
      ],
      "text/plain": [
       "<IPython.core.display.Markdown object>"
      ]
     },
     "metadata": {},
     "output_type": "display_data"
    },
    {
     "data": {
      "text/html": [
       "<a href='../data/LJSpeech-1.1/wavs/LJ028-0363.wav' target='_blank'>../data/LJSpeech-1.1/wavs/LJ028-0363.wav</a><br>"
      ],
      "text/plain": [
       "/Users/michaelp/Code/WellSaidLabs/data/LJSpeech-1.1/wavs/LJ028-0363.wav"
      ]
     },
     "metadata": {},
     "output_type": "display_data"
    },
    {
     "data": {
      "text/markdown": [
       "\n",
       "\n",
       " ___"
      ],
      "text/plain": [
       "<IPython.core.display.Markdown object>"
      ]
     },
     "metadata": {},
     "output_type": "display_data"
    },
    {
     "data": {
      "text/markdown": [
       "**Text:** \"…t Babylon, writing about **250** B.C.,…\""
      ],
      "text/plain": [
       "<IPython.core.display.Markdown object>"
      ]
     },
     "metadata": {},
     "output_type": "display_data"
    },
    {
     "data": {
      "text/html": [
       "<a href='../data/LJSpeech-1.1/wavs/LJ028-0126.wav' target='_blank'>../data/LJSpeech-1.1/wavs/LJ028-0126.wav</a><br>"
      ],
      "text/plain": [
       "/Users/michaelp/Code/WellSaidLabs/data/LJSpeech-1.1/wavs/LJ028-0126.wav"
      ]
     },
     "metadata": {},
     "output_type": "display_data"
    },
    {
     "data": {
      "text/markdown": [
       "\n",
       "\n",
       " ___"
      ],
      "text/plain": [
       "<IPython.core.display.Markdown object>"
      ]
     },
     "metadata": {},
     "output_type": "display_data"
    }
   ],
   "source": [
    "regexes = [r'(\\b[0-9]{4}\\b)', r'\\b(?:in|In) ([0-9]{3})\\b', r'\\b([0-9]{3}) B\\.C\\b']\n",
    "for regex in regexes:\n",
    "    find_examples(regex)"
   ]
  },
  {
   "cell_type": "code",
   "execution_count": 16,
   "metadata": {},
   "outputs": [
    {
     "data": {
      "text/markdown": [
       "1787 → seventeen eighty-seven (seventeen eighty-seven)"
      ],
      "text/plain": [
       "<IPython.core.display.Markdown object>"
      ]
     },
     "metadata": {},
     "output_type": "display_data"
    },
    {
     "data": {
      "text/markdown": [
       "1818 → eighteen eighteen (eighteen eighteen)"
      ],
      "text/plain": [
       "<IPython.core.display.Markdown object>"
      ]
     },
     "metadata": {},
     "output_type": "display_data"
    },
    {
     "data": {
      "text/markdown": [
       "2250 → twenty-two fifty (twenty-two fifty)"
      ],
      "text/plain": [
       "<IPython.core.display.Markdown object>"
      ]
     },
     "metadata": {},
     "output_type": "display_data"
    },
    {
     "data": {
      "text/markdown": [
       "597 → five ninety-seven (five ninety-seven)"
      ],
      "text/plain": [
       "<IPython.core.display.Markdown object>"
      ]
     },
     "metadata": {},
     "output_type": "display_data"
    },
    {
     "data": {
      "text/markdown": [
       "606 → six oh-six (six oh-six)"
      ],
      "text/plain": [
       "<IPython.core.display.Markdown object>"
      ]
     },
     "metadata": {},
     "output_type": "display_data"
    },
    {
     "data": {
      "text/markdown": [
       "250 → two fifty (two fifty)"
      ],
      "text/plain": [
       "<IPython.core.display.Markdown object>"
      ]
     },
     "metadata": {},
     "output_type": "display_data"
    },
    {
     "data": {
      "text/markdown": [
       "323 → three twenty-three (three twenty-three)"
      ],
      "text/plain": [
       "<IPython.core.display.Markdown object>"
      ]
     },
     "metadata": {},
     "output_type": "display_data"
    }
   ],
   "source": [
    "from IPython.display import Markdown\n",
    "\n",
    "from functools import partial\n",
    "from num2words import num2words\n",
    "\n",
    "cases = [('dated April XXXX, 1787, describing an', 'seventeen eighty-seven'), \n",
    "         ('Newgate down to 1818,', 'eighteen eighteen'),\n",
    "         ('It was about 2250 B.C., when the great', 'twenty-two fifty'),\n",
    "         ('In 597, when he sent his army', 'five ninety-seven'),\n",
    "         ('writing about 250 B.C.', 'two fifty'),\n",
    "         ('In 606, Nineveh', 'six oh-six'),\n",
    "         ('June 13, 323 B.C.,', 'three twenty-three')]\n",
    "\n",
    "def replace(text, true):\n",
    "    ret = num2words(int(text), lang='en', to='year')\n",
    "    display(Markdown(text + ' → ' + ret + ' (' + true + ')'))\n",
    "    return ret\n",
    "\n",
    "\n",
    "for regex in regexes:\n",
    "    for text in cases:\n",
    "        _iterate_and_replace(regex, text[0], partial(replace, true=text[1]))\n"
   ]
  },
  {
   "cell_type": "markdown",
   "metadata": {},
   "source": [
    "## Numero (no.)\n",
    "\n",
    "Here we experiment verbalizing numeral."
   ]
  },
  {
   "cell_type": "code",
   "execution_count": 17,
   "metadata": {},
   "outputs": [
    {
     "data": {
      "text/markdown": [
       "### Examples Captured by Regex"
      ],
      "text/plain": [
       "<IPython.core.display.Markdown object>"
      ]
     },
     "metadata": {},
     "output_type": "display_data"
    },
    {
     "data": {
      "text/markdown": [
       "**Regex:** (?:No|no)\\. ([0-9]+)"
      ],
      "text/plain": [
       "<IPython.core.display.Markdown object>"
      ]
     },
     "metadata": {},
     "output_type": "display_data"
    },
    {
     "data": {
      "text/markdown": [
       "**Number of Examples:** 29"
      ],
      "text/plain": [
       "<IPython.core.display.Markdown object>"
      ]
     },
     "metadata": {},
     "output_type": "display_data"
    },
    {
     "data": {
      "text/markdown": [
       "**Number of Examples Shown:** 5"
      ],
      "text/plain": [
       "<IPython.core.display.Markdown object>"
      ]
     },
     "metadata": {},
     "output_type": "display_data"
    },
    {
     "data": {
      "text/markdown": [
       "\n",
       "\n",
       " ___"
      ],
      "text/plain": [
       "<IPython.core.display.Markdown object>"
      ]
     },
     "metadata": {},
     "output_type": "display_data"
    },
    {
     "data": {
      "text/markdown": [
       "**Text:** \"…se pictures, Exhibit No. **133**-A, shows most of the rif…\""
      ],
      "text/plain": [
       "<IPython.core.display.Markdown object>"
      ]
     },
     "metadata": {},
     "output_type": "display_data"
    },
    {
     "data": {
      "text/html": [
       "<a href='../data/LJSpeech-1.1/wavs/LJ032-0203.wav' target='_blank'>../data/LJSpeech-1.1/wavs/LJ032-0203.wav</a><br>"
      ],
      "text/plain": [
       "/Users/michaelp/Code/WellSaidLabs/data/LJSpeech-1.1/wavs/LJ032-0203.wav"
      ]
     },
     "metadata": {},
     "output_type": "display_data"
    },
    {
     "data": {
      "text/markdown": [
       "\n",
       "\n",
       " ___"
      ],
      "text/plain": [
       "<IPython.core.display.Markdown object>"
      ]
     },
     "metadata": {},
     "output_type": "display_data"
    },
    {
     "data": {
      "text/markdown": [
       "**Text:** \"… lighting in Exhibit No. **133**-A.…\""
      ],
      "text/plain": [
       "<IPython.core.display.Markdown object>"
      ]
     },
     "metadata": {},
     "output_type": "display_data"
    },
    {
     "data": {
      "text/html": [
       "<a href='../data/LJSpeech-1.1/wavs/LJ032-0205.wav' target='_blank'>../data/LJSpeech-1.1/wavs/LJ032-0205.wav</a><br>"
      ],
      "text/plain": [
       "/Users/michaelp/Code/WellSaidLabs/data/LJSpeech-1.1/wavs/LJ032-0205.wav"
      ]
     },
     "metadata": {},
     "output_type": "display_data"
    },
    {
     "data": {
      "text/markdown": [
       "\n",
       "\n",
       " ___"
      ],
      "text/plain": [
       "<IPython.core.display.Markdown object>"
      ]
     },
     "metadata": {},
     "output_type": "display_data"
    },
    {
     "data": {
      "text/markdown": [
       "**Text:** \"… negative of Exhibit No. **133**-B was exposed in Oswald'…\""
      ],
      "text/plain": [
       "<IPython.core.display.Markdown object>"
      ]
     },
     "metadata": {},
     "output_type": "display_data"
    },
    {
     "data": {
      "text/html": [
       "<a href='../data/LJSpeech-1.1/wavs/LJ032-0216.wav' target='_blank'>../data/LJSpeech-1.1/wavs/LJ032-0216.wav</a><br>"
      ],
      "text/plain": [
       "/Users/michaelp/Code/WellSaidLabs/data/LJSpeech-1.1/wavs/LJ032-0216.wav"
      ]
     },
     "metadata": {},
     "output_type": "display_data"
    },
    {
     "data": {
      "text/markdown": [
       "\n",
       "\n",
       " ___"
      ],
      "text/plain": [
       "<IPython.core.display.Markdown object>"
      ]
     },
     "metadata": {},
     "output_type": "display_data"
    },
    {
     "data": {
      "text/markdown": [
       "**Text:** \"…tinctive colors with No. **10** prominently displayed on…\""
      ],
      "text/plain": [
       "<IPython.core.display.Markdown object>"
      ]
     },
     "metadata": {},
     "output_type": "display_data"
    },
    {
     "data": {
      "text/html": [
       "<a href='../data/LJSpeech-1.1/wavs/LJ036-0197.wav' target='_blank'>../data/LJSpeech-1.1/wavs/LJ036-0197.wav</a><br>"
      ],
      "text/plain": [
       "/Users/michaelp/Code/WellSaidLabs/data/LJSpeech-1.1/wavs/LJ036-0197.wav"
      ]
     },
     "metadata": {},
     "output_type": "display_data"
    },
    {
     "data": {
      "text/markdown": [
       "\n",
       "\n",
       " ___"
      ],
      "text/plain": [
       "<IPython.core.display.Markdown object>"
      ]
     },
     "metadata": {},
     "output_type": "display_data"
    },
    {
     "data": {
      "text/markdown": [
       "**Text:** \"…uld not test Exhibit No. **133**-A in the same way becaus…\""
      ],
      "text/plain": [
       "<IPython.core.display.Markdown object>"
      ]
     },
     "metadata": {},
     "output_type": "display_data"
    },
    {
     "data": {
      "text/html": [
       "<a href='../data/LJSpeech-1.1/wavs/LJ032-0217.wav' target='_blank'>../data/LJSpeech-1.1/wavs/LJ032-0217.wav</a><br>"
      ],
      "text/plain": [
       "/Users/michaelp/Code/WellSaidLabs/data/LJSpeech-1.1/wavs/LJ032-0217.wav"
      ]
     },
     "metadata": {},
     "output_type": "display_data"
    },
    {
     "data": {
      "text/markdown": [
       "\n",
       "\n",
       " ___"
      ],
      "text/plain": [
       "<IPython.core.display.Markdown object>"
      ]
     },
     "metadata": {},
     "output_type": "display_data"
    }
   ],
   "source": [
    "regex = r'(?:No|no)\\. ([0-9]+)'\n",
    "find_examples(regex)"
   ]
  },
  {
   "cell_type": "code",
   "execution_count": 18,
   "metadata": {},
   "outputs": [
    {
     "data": {
      "text/markdown": [
       "133 → one thirty-three (one thirty-three)"
      ],
      "text/plain": [
       "<IPython.core.display.Markdown object>"
      ]
     },
     "metadata": {},
     "output_type": "display_data"
    },
    {
     "data": {
      "text/markdown": [
       "162 → one sixty-two (one sixty-two)"
      ],
      "text/plain": [
       "<IPython.core.display.Markdown object>"
      ]
     },
     "metadata": {},
     "output_type": "display_data"
    }
   ],
   "source": [
    "from IPython.display import Markdown\n",
    "\n",
    "from functools import partial\n",
    "from num2words import num2words\n",
    "\n",
    "cases = [('Commission Exhibit No. 133-B,', 'one thirty-three'), \n",
    "         ('Commission Exhibit No. 162 as', 'one sixty-two')]\n",
    "\n",
    "def replace(text, true):\n",
    "    ret = num2words(int(text), lang='en', to='year')\n",
    "    display(Markdown(text + ' → ' + ret + ' (' + true + ')'))\n",
    "    return ret\n",
    "\n",
    "for text in cases:\n",
    "    _iterate_and_replace(regex, text[0], partial(replace, true=text[1]))"
   ]
  },
  {
   "cell_type": "markdown",
   "metadata": {},
   "source": [
    "## Other Numbers\n",
    "\n",
    "Here we experiment verbalizing all other numbers."
   ]
  },
  {
   "cell_type": "code",
   "execution_count": 19,
   "metadata": {
    "scrolled": true
   },
   "outputs": [
    {
     "data": {
      "text/markdown": [
       "### Examples Captured by Regex"
      ],
      "text/plain": [
       "<IPython.core.display.Markdown object>"
      ]
     },
     "metadata": {},
     "output_type": "display_data"
    },
    {
     "data": {
      "text/markdown": [
       "**Regex:** (\\b[0-9]{1}[0-9\\.\\,]{0,}\\b)"
      ],
      "text/plain": [
       "<IPython.core.display.Markdown object>"
      ]
     },
     "metadata": {},
     "output_type": "display_data"
    },
    {
     "data": {
      "text/markdown": [
       "**Number of Examples:** 1171"
      ],
      "text/plain": [
       "<IPython.core.display.Markdown object>"
      ]
     },
     "metadata": {},
     "output_type": "display_data"
    },
    {
     "data": {
      "text/markdown": [
       "**Number of Examples Shown:** 50"
      ],
      "text/plain": [
       "<IPython.core.display.Markdown object>"
      ]
     },
     "metadata": {},
     "output_type": "display_data"
    },
    {
     "data": {
      "text/markdown": [
       "\n",
       "\n",
       " ___"
      ],
      "text/plain": [
       "<IPython.core.display.Markdown object>"
      ]
     },
     "metadata": {},
     "output_type": "display_data"
    },
    {
     "data": {
      "text/markdown": [
       "**Text:** \"…t, at a \"fast walk\" took **1** minute, 14 seconds.…\""
      ],
      "text/plain": [
       "<IPython.core.display.Markdown object>"
      ]
     },
     "metadata": {},
     "output_type": "display_data"
    },
    {
     "data": {
      "text/html": [
       "<a href='../data/LJSpeech-1.1/wavs/LJ035-0080.wav' target='_blank'>../data/LJSpeech-1.1/wavs/LJ035-0080.wav</a><br>"
      ],
      "text/plain": [
       "/Users/michaelp/Code/WellSaidLabs/data/LJSpeech-1.1/wavs/LJ035-0080.wav"
      ]
     },
     "metadata": {},
     "output_type": "display_data"
    },
    {
     "data": {
      "text/markdown": [
       "\n",
       "\n",
       " ___"
      ],
      "text/plain": [
       "<IPython.core.display.Markdown object>"
      ]
     },
     "metadata": {},
     "output_type": "display_data"
    },
    {
     "data": {
      "text/markdown": [
       "**Text:** \"…oor lunchroom was within **3** seconds of the time need…\""
      ],
      "text/plain": [
       "<IPython.core.display.Markdown object>"
      ]
     },
     "metadata": {},
     "output_type": "display_data"
    },
    {
     "data": {
      "text/html": [
       "<a href='../data/LJSpeech-1.1/wavs/LJ035-0084.wav' target='_blank'>../data/LJSpeech-1.1/wavs/LJ035-0084.wav</a><br>"
      ],
      "text/plain": [
       "/Users/michaelp/Code/WellSaidLabs/data/LJSpeech-1.1/wavs/LJ035-0084.wav"
      ]
     },
     "metadata": {},
     "output_type": "display_data"
    },
    {
     "data": {
      "text/markdown": [
       "\n",
       "\n",
       " ___"
      ],
      "text/plain": [
       "<IPython.core.display.Markdown object>"
      ]
     },
     "metadata": {},
     "output_type": "display_data"
    },
    {
     "data": {
      "text/markdown": [
       "**Text:** \"…tober the same year, for **2** shillings, with costs of…\""
      ],
      "text/plain": [
       "<IPython.core.display.Markdown object>"
      ]
     },
     "metadata": {},
     "output_type": "display_data"
    },
    {
     "data": {
      "text/html": [
       "<a href='../data/LJSpeech-1.1/wavs/LJ002-0157.wav' target='_blank'>../data/LJSpeech-1.1/wavs/LJ002-0157.wav</a><br>"
      ],
      "text/plain": [
       "/Users/michaelp/Code/WellSaidLabs/data/LJSpeech-1.1/wavs/LJ002-0157.wav"
      ]
     },
     "metadata": {},
     "output_type": "display_data"
    },
    {
     "data": {
      "text/markdown": [
       "\n",
       "\n",
       " ___"
      ],
      "text/plain": [
       "<IPython.core.display.Markdown object>"
      ]
     },
     "metadata": {},
     "output_type": "display_data"
    },
    {
     "data": {
      "text/markdown": [
       "**Text:** \"…On August **17**, XXXX, Oswald told Mr. W…\""
      ],
      "text/plain": [
       "<IPython.core.display.Markdown object>"
      ]
     },
     "metadata": {},
     "output_type": "display_data"
    },
    {
     "data": {
      "text/html": [
       "<a href='../data/LJSpeech-1.1/wavs/LJ042-0011.wav' target='_blank'>../data/LJSpeech-1.1/wavs/LJ042-0011.wav</a><br>"
      ],
      "text/plain": [
       "/Users/michaelp/Code/WellSaidLabs/data/LJSpeech-1.1/wavs/LJ042-0011.wav"
      ]
     },
     "metadata": {},
     "output_type": "display_data"
    },
    {
     "data": {
      "text/markdown": [
       "\n",
       "\n",
       " ___"
      ],
      "text/plain": [
       "<IPython.core.display.Markdown object>"
      ]
     },
     "metadata": {},
     "output_type": "display_data"
    },
    {
     "data": {
      "text/markdown": [
       "**Text:** \"…nd drove at speeds up to **25** to 30 miles an hour…\""
      ],
      "text/plain": [
       "<IPython.core.display.Markdown object>"
      ]
     },
     "metadata": {},
     "output_type": "display_data"
    },
    {
     "data": {
      "text/html": [
       "<a href='../data/LJSpeech-1.1/wavs/LJ030-0112.wav' target='_blank'>../data/LJSpeech-1.1/wavs/LJ030-0112.wav</a><br>"
      ],
      "text/plain": [
       "/Users/michaelp/Code/WellSaidLabs/data/LJSpeech-1.1/wavs/LJ030-0112.wav"
      ]
     },
     "metadata": {},
     "output_type": "display_data"
    },
    {
     "data": {
      "text/markdown": [
       "\n",
       "\n",
       " ___"
      ],
      "text/plain": [
       "<IPython.core.display.Markdown object>"
      ]
     },
     "metadata": {},
     "output_type": "display_data"
    },
    {
     "data": {
      "text/markdown": [
       "**Text:** \"…s therefore bearing only **3** and one half percent int…\""
      ],
      "text/plain": [
       "<IPython.core.display.Markdown object>"
      ]
     },
     "metadata": {},
     "output_type": "display_data"
    },
    {
     "data": {
      "text/html": [
       "<a href='../data/LJSpeech-1.1/wavs/LJ021-0180.wav' target='_blank'>../data/LJSpeech-1.1/wavs/LJ021-0180.wav</a><br>"
      ],
      "text/plain": [
       "/Users/michaelp/Code/WellSaidLabs/data/LJSpeech-1.1/wavs/LJ021-0180.wav"
      ]
     },
     "metadata": {},
     "output_type": "display_data"
    },
    {
     "data": {
      "text/markdown": [
       "\n",
       "\n",
       " ___"
      ],
      "text/plain": [
       "<IPython.core.display.Markdown object>"
      ]
     },
     "metadata": {},
     "output_type": "display_data"
    },
    {
     "data": {
      "text/markdown": [
       "**Text:** \"…On November **22** a Secret Service agent s…\""
      ],
      "text/plain": [
       "<IPython.core.display.Markdown object>"
      ]
     },
     "metadata": {},
     "output_type": "display_data"
    },
    {
     "data": {
      "text/html": [
       "<a href='../data/LJSpeech-1.1/wavs/LJ029-0058.wav' target='_blank'>../data/LJSpeech-1.1/wavs/LJ029-0058.wav</a><br>"
      ],
      "text/plain": [
       "/Users/michaelp/Code/WellSaidLabs/data/LJSpeech-1.1/wavs/LJ029-0058.wav"
      ]
     },
     "metadata": {},
     "output_type": "display_data"
    },
    {
     "data": {
      "text/markdown": [
       "\n",
       "\n",
       " ___"
      ],
      "text/plain": [
       "<IPython.core.display.Markdown object>"
      ]
     },
     "metadata": {},
     "output_type": "display_data"
    },
    {
     "data": {
      "text/markdown": [
       "**Text:** \"…which became the **4** George IV. cap. 64, said…\""
      ],
      "text/plain": [
       "<IPython.core.display.Markdown object>"
      ]
     },
     "metadata": {},
     "output_type": "display_data"
    },
    {
     "data": {
      "text/html": [
       "<a href='../data/LJSpeech-1.1/wavs/LJ005-0167.wav' target='_blank'>../data/LJSpeech-1.1/wavs/LJ005-0167.wav</a><br>"
      ],
      "text/plain": [
       "/Users/michaelp/Code/WellSaidLabs/data/LJSpeech-1.1/wavs/LJ005-0167.wav"
      ]
     },
     "metadata": {},
     "output_type": "display_data"
    },
    {
     "data": {
      "text/markdown": [
       "\n",
       "\n",
       " ___"
      ],
      "text/plain": [
       "<IPython.core.display.Markdown object>"
      ]
     },
     "metadata": {},
     "output_type": "display_data"
    },
    {
     "data": {
      "text/markdown": [
       "**Text:** \"…wgate down to XXXX, part **2**.…\""
      ],
      "text/plain": [
       "<IPython.core.display.Markdown object>"
      ]
     },
     "metadata": {},
     "output_type": "display_data"
    },
    {
     "data": {
      "text/html": [
       "<a href='../data/LJSpeech-1.1/wavs/LJ003-0001.wav' target='_blank'>../data/LJSpeech-1.1/wavs/LJ003-0001.wav</a><br>"
      ],
      "text/plain": [
       "/Users/michaelp/Code/WellSaidLabs/data/LJSpeech-1.1/wavs/LJ003-0001.wav"
      ]
     },
     "metadata": {},
     "output_type": "display_data"
    },
    {
     "data": {
      "text/markdown": [
       "\n",
       "\n",
       " ___"
      ],
      "text/plain": [
       "<IPython.core.display.Markdown object>"
      ]
     },
     "metadata": {},
     "output_type": "display_data"
    },
    {
     "data": {
      "text/markdown": [
       "**Text:** \"…Chapter **7**. Lee Harvey Oswald: Back…\""
      ],
      "text/plain": [
       "<IPython.core.display.Markdown object>"
      ]
     },
     "metadata": {},
     "output_type": "display_data"
    },
    {
     "data": {
      "text/html": [
       "<a href='../data/LJSpeech-1.1/wavs/LJ040-0002.wav' target='_blank'>../data/LJSpeech-1.1/wavs/LJ040-0002.wav</a><br>"
      ],
      "text/plain": [
       "/Users/michaelp/Code/WellSaidLabs/data/LJSpeech-1.1/wavs/LJ040-0002.wav"
      ]
     },
     "metadata": {},
     "output_type": "display_data"
    },
    {
     "data": {
      "text/markdown": [
       "\n",
       "\n",
       " ___"
      ],
      "text/plain": [
       "<IPython.core.display.Markdown object>"
      ]
     },
     "metadata": {},
     "output_type": "display_data"
    },
    {
     "data": {
      "text/markdown": [
       "**Text:** \"…erested about the age of **15**. From an ideological vie…\""
      ],
      "text/plain": [
       "<IPython.core.display.Markdown object>"
      ]
     },
     "metadata": {},
     "output_type": "display_data"
    },
    {
     "data": {
      "text/html": [
       "<a href='../data/LJSpeech-1.1/wavs/LJ041-0150.wav' target='_blank'>../data/LJSpeech-1.1/wavs/LJ041-0150.wav</a><br>"
      ],
      "text/plain": [
       "/Users/michaelp/Code/WellSaidLabs/data/LJSpeech-1.1/wavs/LJ041-0150.wav"
      ]
     },
     "metadata": {},
     "output_type": "display_data"
    },
    {
     "data": {
      "text/markdown": [
       "\n",
       "\n",
       " ___"
      ],
      "text/plain": [
       "<IPython.core.display.Markdown object>"
      ]
     },
     "metadata": {},
     "output_type": "display_data"
    },
    {
     "data": {
      "text/markdown": [
       "**Text:** \"… visit Texas on November **21** and 22,…\""
      ],
      "text/plain": [
       "<IPython.core.display.Markdown object>"
      ]
     },
     "metadata": {},
     "output_type": "display_data"
    },
    {
     "data": {
      "text/html": [
       "<a href='../data/LJSpeech-1.1/wavs/LJ029-0175.wav' target='_blank'>../data/LJSpeech-1.1/wavs/LJ029-0175.wav</a><br>"
      ],
      "text/plain": [
       "/Users/michaelp/Code/WellSaidLabs/data/LJSpeech-1.1/wavs/LJ029-0175.wav"
      ]
     },
     "metadata": {},
     "output_type": "display_data"
    },
    {
     "data": {
      "text/markdown": [
       "\n",
       "\n",
       " ___"
      ],
      "text/plain": [
       "<IPython.core.display.Markdown object>"
      ]
     },
     "metadata": {},
     "output_type": "display_data"
    },
    {
     "data": {
      "text/markdown": [
       "**Text:** \"…**300** debtors and 900 criminal…\""
      ],
      "text/plain": [
       "<IPython.core.display.Markdown object>"
      ]
     },
     "metadata": {},
     "output_type": "display_data"
    },
    {
     "data": {
      "text/html": [
       "<a href='../data/LJSpeech-1.1/wavs/LJ002-0015.wav' target='_blank'>../data/LJSpeech-1.1/wavs/LJ002-0015.wav</a><br>"
      ],
      "text/plain": [
       "/Users/michaelp/Code/WellSaidLabs/data/LJSpeech-1.1/wavs/LJ002-0015.wav"
      ]
     },
     "metadata": {},
     "output_type": "display_data"
    },
    {
     "data": {
      "text/markdown": [
       "\n",
       "\n",
       " ___"
      ],
      "text/plain": [
       "<IPython.core.display.Markdown object>"
      ]
     },
     "metadata": {},
     "output_type": "display_data"
    },
    {
     "data": {
      "text/markdown": [
       "**Text:** \"…t twice within a span of **4.6** and 5.15 seconds.…\""
      ],
      "text/plain": [
       "<IPython.core.display.Markdown object>"
      ]
     },
     "metadata": {},
     "output_type": "display_data"
    },
    {
     "data": {
      "text/html": [
       "<a href='../data/LJSpeech-1.1/wavs/LJ039-0188.wav' target='_blank'>../data/LJSpeech-1.1/wavs/LJ039-0188.wav</a><br>"
      ],
      "text/plain": [
       "/Users/michaelp/Code/WellSaidLabs/data/LJSpeech-1.1/wavs/LJ039-0188.wav"
      ]
     },
     "metadata": {},
     "output_type": "display_data"
    },
    {
     "data": {
      "text/markdown": [
       "\n",
       "\n",
       " ___"
      ],
      "text/plain": [
       "<IPython.core.display.Markdown object>"
      ]
     },
     "metadata": {},
     "output_type": "display_data"
    },
    {
     "data": {
      "text/markdown": [
       "**Text:** \"…th costs of X shillings, **6** pence.…\""
      ],
      "text/plain": [
       "<IPython.core.display.Markdown object>"
      ]
     },
     "metadata": {},
     "output_type": "display_data"
    },
    {
     "data": {
      "text/html": [
       "<a href='../data/LJSpeech-1.1/wavs/LJ002-0164.wav' target='_blank'>../data/LJSpeech-1.1/wavs/LJ002-0164.wav</a><br>"
      ],
      "text/plain": [
       "/Users/michaelp/Code/WellSaidLabs/data/LJSpeech-1.1/wavs/LJ002-0164.wav"
      ]
     },
     "metadata": {},
     "output_type": "display_data"
    },
    {
     "data": {
      "text/markdown": [
       "\n",
       "\n",
       " ___"
      ],
      "text/plain": [
       "<IPython.core.display.Markdown object>"
      ]
     },
     "metadata": {},
     "output_type": "display_data"
    },
    {
     "data": {
      "text/markdown": [
       "**Text:** \"…About **6** months later she also wi…\""
      ],
      "text/plain": [
       "<IPython.core.display.Markdown object>"
      ]
     },
     "metadata": {},
     "output_type": "display_data"
    },
    {
     "data": {
      "text/html": [
       "<a href='../data/LJSpeech-1.1/wavs/LJ040-0074.wav' target='_blank'>../data/LJSpeech-1.1/wavs/LJ040-0074.wav</a><br>"
      ],
      "text/plain": [
       "/Users/michaelp/Code/WellSaidLabs/data/LJSpeech-1.1/wavs/LJ040-0074.wav"
      ]
     },
     "metadata": {},
     "output_type": "display_data"
    },
    {
     "data": {
      "text/markdown": [
       "\n",
       "\n",
       " ___"
      ],
      "text/plain": [
       "<IPython.core.display.Markdown object>"
      ]
     },
     "metadata": {},
     "output_type": "display_data"
    },
    {
     "data": {
      "text/markdown": [
       "**Text:** \"…The master felons' side. **6**. The female felons' side…\""
      ],
      "text/plain": [
       "<IPython.core.display.Markdown object>"
      ]
     },
     "metadata": {},
     "output_type": "display_data"
    },
    {
     "data": {
      "text/html": [
       "<a href='../data/LJSpeech-1.1/wavs/LJ002-0034.wav' target='_blank'>../data/LJSpeech-1.1/wavs/LJ002-0034.wav</a><br>"
      ],
      "text/plain": [
       "/Users/michaelp/Code/WellSaidLabs/data/LJSpeech-1.1/wavs/LJ002-0034.wav"
      ]
     },
     "metadata": {},
     "output_type": "display_data"
    },
    {
     "data": {
      "text/markdown": [
       "\n",
       "\n",
       " ___"
      ],
      "text/plain": [
       "<IPython.core.display.Markdown object>"
      ]
     },
     "metadata": {},
     "output_type": "display_data"
    },
    {
     "data": {
      "text/markdown": [
       "**Text:** \"…and arrived on September **27**, XXXX.…\""
      ],
      "text/plain": [
       "<IPython.core.display.Markdown object>"
      ]
     },
     "metadata": {},
     "output_type": "display_data"
    },
    {
     "data": {
      "text/html": [
       "<a href='../data/LJSpeech-1.1/wavs/LJ044-0175.wav' target='_blank'>../data/LJSpeech-1.1/wavs/LJ044-0175.wav</a><br>"
      ],
      "text/plain": [
       "/Users/michaelp/Code/WellSaidLabs/data/LJSpeech-1.1/wavs/LJ044-0175.wav"
      ]
     },
     "metadata": {},
     "output_type": "display_data"
    },
    {
     "data": {
      "text/markdown": [
       "\n",
       "\n",
       " ___"
      ],
      "text/plain": [
       "<IPython.core.display.Markdown object>"
      ]
     },
     "metadata": {},
     "output_type": "display_data"
    },
    {
     "data": {
      "text/markdown": [
       "**Text:** \"…In the **6** to 8 minute period befor…\""
      ],
      "text/plain": [
       "<IPython.core.display.Markdown object>"
      ]
     },
     "metadata": {},
     "output_type": "display_data"
    },
    {
     "data": {
      "text/html": [
       "<a href='../data/LJSpeech-1.1/wavs/LJ034-0098.wav' target='_blank'>../data/LJSpeech-1.1/wavs/LJ034-0098.wav</a><br>"
      ],
      "text/plain": [
       "/Users/michaelp/Code/WellSaidLabs/data/LJSpeech-1.1/wavs/LJ034-0098.wav"
      ]
     },
     "metadata": {},
     "output_type": "display_data"
    },
    {
     "data": {
      "text/markdown": [
       "\n",
       "\n",
       " ___"
      ],
      "text/plain": [
       "<IPython.core.display.Markdown object>"
      ]
     },
     "metadata": {},
     "output_type": "display_data"
    },
    {
     "data": {
      "text/markdown": [
       "**Text:** \"…(**1**) positive identification…\""
      ],
      "text/plain": [
       "<IPython.core.display.Markdown object>"
      ]
     },
     "metadata": {},
     "output_type": "display_data"
    },
    {
     "data": {
      "text/html": [
       "<a href='../data/LJSpeech-1.1/wavs/LJ036-0008.wav' target='_blank'>../data/LJSpeech-1.1/wavs/LJ036-0008.wav</a><br>"
      ],
      "text/plain": [
       "/Users/michaelp/Code/WellSaidLabs/data/LJSpeech-1.1/wavs/LJ036-0008.wav"
      ]
     },
     "metadata": {},
     "output_type": "display_data"
    },
    {
     "data": {
      "text/markdown": [
       "\n",
       "\n",
       " ___"
      ],
      "text/plain": [
       "<IPython.core.display.Markdown object>"
      ]
     },
     "metadata": {},
     "output_type": "display_data"
    },
    {
     "data": {
      "text/markdown": [
       "**Text:** \"…yer as, quote, about XX, **5** foot 8 inches, black hai…\""
      ],
      "text/plain": [
       "<IPython.core.display.Markdown object>"
      ]
     },
     "metadata": {},
     "output_type": "display_data"
    },
    {
     "data": {
      "text/html": [
       "<a href='../data/LJSpeech-1.1/wavs/LJ037-0051.wav' target='_blank'>../data/LJSpeech-1.1/wavs/LJ037-0051.wav</a><br>"
      ],
      "text/plain": [
       "/Users/michaelp/Code/WellSaidLabs/data/LJSpeech-1.1/wavs/LJ037-0051.wav"
      ]
     },
     "metadata": {},
     "output_type": "display_data"
    },
    {
     "data": {
      "text/markdown": [
       "\n",
       "\n",
       " ___"
      ],
      "text/plain": [
       "<IPython.core.display.Markdown object>"
      ]
     },
     "metadata": {},
     "output_type": "display_data"
    },
    {
     "data": {
      "text/markdown": [
       "**Text:** \"…On November **18**,…\""
      ],
      "text/plain": [
       "<IPython.core.display.Markdown object>"
      ]
     },
     "metadata": {},
     "output_type": "display_data"
    },
    {
     "data": {
      "text/html": [
       "<a href='../data/LJSpeech-1.1/wavs/LJ029-0107.wav' target='_blank'>../data/LJSpeech-1.1/wavs/LJ029-0107.wav</a><br>"
      ],
      "text/plain": [
       "/Users/michaelp/Code/WellSaidLabs/data/LJSpeech-1.1/wavs/LJ029-0107.wav"
      ]
     },
     "metadata": {},
     "output_type": "display_data"
    },
    {
     "data": {
      "text/markdown": [
       "\n",
       "\n",
       " ___"
      ],
      "text/plain": [
       "<IPython.core.display.Markdown object>"
      ]
     },
     "metadata": {},
     "output_type": "display_data"
    },
    {
     "data": {
      "text/markdown": [
       "**Text:** \"…t his remarks of January **7** were intended by him mer…\""
      ],
      "text/plain": [
       "<IPython.core.display.Markdown object>"
      ]
     },
     "metadata": {},
     "output_type": "display_data"
    },
    {
     "data": {
      "text/html": [
       "<a href='../data/LJSpeech-1.1/wavs/LJ034-0150.wav' target='_blank'>../data/LJSpeech-1.1/wavs/LJ034-0150.wav</a><br>"
      ],
      "text/plain": [
       "/Users/michaelp/Code/WellSaidLabs/data/LJSpeech-1.1/wavs/LJ034-0150.wav"
      ]
     },
     "metadata": {},
     "output_type": "display_data"
    },
    {
     "data": {
      "text/markdown": [
       "\n",
       "\n",
       " ___"
      ],
      "text/plain": [
       "<IPython.core.display.Markdown object>"
      ]
     },
     "metadata": {},
     "output_type": "display_data"
    },
    {
     "data": {
      "text/markdown": [
       "**Text:** \"…y stated, I have between **25** and 40 cases assigned to…\""
      ],
      "text/plain": [
       "<IPython.core.display.Markdown object>"
      ]
     },
     "metadata": {},
     "output_type": "display_data"
    },
    {
     "data": {
      "text/html": [
       "<a href='../data/LJSpeech-1.1/wavs/LJ047-0184.wav' target='_blank'>../data/LJSpeech-1.1/wavs/LJ047-0184.wav</a><br>"
      ],
      "text/plain": [
       "/Users/michaelp/Code/WellSaidLabs/data/LJSpeech-1.1/wavs/LJ047-0184.wav"
      ]
     },
     "metadata": {},
     "output_type": "display_data"
    },
    {
     "data": {
      "text/markdown": [
       "\n",
       "\n",
       " ___"
      ],
      "text/plain": [
       "<IPython.core.display.Markdown object>"
      ]
     },
     "metadata": {},
     "output_type": "display_data"
    },
    {
     "data": {
      "text/markdown": [
       "**Text:** \"…turning home on November **21**,…\""
      ],
      "text/plain": [
       "<IPython.core.display.Markdown object>"
      ]
     },
     "metadata": {},
     "output_type": "display_data"
    },
    {
     "data": {
      "text/html": [
       "<a href='../data/LJSpeech-1.1/wavs/LJ033-0038.wav' target='_blank'>../data/LJSpeech-1.1/wavs/LJ033-0038.wav</a><br>"
      ],
      "text/plain": [
       "/Users/michaelp/Code/WellSaidLabs/data/LJSpeech-1.1/wavs/LJ033-0038.wav"
      ]
     },
     "metadata": {},
     "output_type": "display_data"
    },
    {
     "data": {
      "text/markdown": [
       "\n",
       "\n",
       " ___"
      ],
      "text/plain": [
       "<IPython.core.display.Markdown object>"
      ]
     },
     "metadata": {},
     "output_type": "display_data"
    },
    {
     "data": {
      "text/markdown": [
       "**Text:** \"…a operates at a speed of **18.3** frames per second,…\""
      ],
      "text/plain": [
       "<IPython.core.display.Markdown object>"
      ]
     },
     "metadata": {},
     "output_type": "display_data"
    },
    {
     "data": {
      "text/html": [
       "<a href='../data/LJSpeech-1.1/wavs/LJ030-0159.wav' target='_blank'>../data/LJSpeech-1.1/wavs/LJ030-0159.wav</a><br>"
      ],
      "text/plain": [
       "/Users/michaelp/Code/WellSaidLabs/data/LJSpeech-1.1/wavs/LJ030-0159.wav"
      ]
     },
     "metadata": {},
     "output_type": "display_data"
    },
    {
     "data": {
      "text/markdown": [
       "\n",
       "\n",
       " ___"
      ],
      "text/plain": [
       "<IPython.core.display.Markdown object>"
      ]
     },
     "metadata": {},
     "output_type": "display_data"
    },
    {
     "data": {
      "text/markdown": [
       "**Text:** \"…Quote, this **13** year old well built boy …\""
      ],
      "text/plain": [
       "<IPython.core.display.Markdown object>"
      ]
     },
     "metadata": {},
     "output_type": "display_data"
    },
    {
     "data": {
      "text/html": [
       "<a href='../data/LJSpeech-1.1/wavs/LJ040-0154.wav' target='_blank'>../data/LJSpeech-1.1/wavs/LJ040-0154.wav</a><br>"
      ],
      "text/plain": [
       "/Users/michaelp/Code/WellSaidLabs/data/LJSpeech-1.1/wavs/LJ040-0154.wav"
      ]
     },
     "metadata": {},
     "output_type": "display_data"
    },
    {
     "data": {
      "text/markdown": [
       "\n",
       "\n",
       " ___"
      ],
      "text/plain": [
       "<IPython.core.display.Markdown object>"
      ]
     },
     "metadata": {},
     "output_type": "display_data"
    },
    {
     "data": {
      "text/markdown": [
       "**Text:** \"…tol, a copy of the March **24**, XXXX, issue of the Work…\""
      ],
      "text/plain": [
       "<IPython.core.display.Markdown object>"
      ]
     },
     "metadata": {},
     "output_type": "display_data"
    },
    {
     "data": {
      "text/html": [
       "<a href='../data/LJSpeech-1.1/wavs/LJ043-0143.wav' target='_blank'>../data/LJSpeech-1.1/wavs/LJ043-0143.wav</a><br>"
      ],
      "text/plain": [
       "/Users/michaelp/Code/WellSaidLabs/data/LJSpeech-1.1/wavs/LJ043-0143.wav"
      ]
     },
     "metadata": {},
     "output_type": "display_data"
    },
    {
     "data": {
      "text/markdown": [
       "\n",
       "\n",
       " ___"
      ],
      "text/plain": [
       "<IPython.core.display.Markdown object>"
      ]
     },
     "metadata": {},
     "output_type": "display_data"
    },
    {
     "data": {
      "text/markdown": [
       "**Text:** \"…tification experts, and (**4**) the testimony of Marina…\""
      ],
      "text/plain": [
       "<IPython.core.display.Markdown object>"
      ]
     },
     "metadata": {},
     "output_type": "display_data"
    },
    {
     "data": {
      "text/html": [
       "<a href='../data/LJSpeech-1.1/wavs/LJ038-0302.wav' target='_blank'>../data/LJSpeech-1.1/wavs/LJ038-0302.wav</a><br>"
      ],
      "text/plain": [
       "/Users/michaelp/Code/WellSaidLabs/data/LJSpeech-1.1/wavs/LJ038-0302.wav"
      ]
     },
     "metadata": {},
     "output_type": "display_data"
    },
    {
     "data": {
      "text/markdown": [
       "\n",
       "\n",
       " ___"
      ],
      "text/plain": [
       "<IPython.core.display.Markdown object>"
      ]
     },
     "metadata": {},
     "output_type": "display_data"
    },
    {
     "data": {
      "text/markdown": [
       "**Text:** \"…Between the hours of **8** and 9 p.m. they were occ…\""
      ],
      "text/plain": [
       "<IPython.core.display.Markdown object>"
      ]
     },
     "metadata": {},
     "output_type": "display_data"
    },
    {
     "data": {
      "text/html": [
       "<a href='../data/LJSpeech-1.1/wavs/LJ033-0042.wav' target='_blank'>../data/LJSpeech-1.1/wavs/LJ033-0042.wav</a><br>"
      ],
      "text/plain": [
       "/Users/michaelp/Code/WellSaidLabs/data/LJSpeech-1.1/wavs/LJ033-0042.wav"
      ]
     },
     "metadata": {},
     "output_type": "display_data"
    },
    {
     "data": {
      "text/markdown": [
       "\n",
       "\n",
       " ___"
      ],
      "text/plain": [
       "<IPython.core.display.Markdown object>"
      ]
     },
     "metadata": {},
     "output_type": "display_data"
    },
    {
     "data": {
      "text/markdown": [
       "**Text:** \"…ation the names of about **100** persons were in this ind…\""
      ],
      "text/plain": [
       "<IPython.core.display.Markdown object>"
      ]
     },
     "metadata": {},
     "output_type": "display_data"
    },
    {
     "data": {
      "text/html": [
       "<a href='../data/LJSpeech-1.1/wavs/LJ046-0178.wav' target='_blank'>../data/LJSpeech-1.1/wavs/LJ046-0178.wav</a><br>"
      ],
      "text/plain": [
       "/Users/michaelp/Code/WellSaidLabs/data/LJSpeech-1.1/wavs/LJ046-0178.wav"
      ]
     },
     "metadata": {},
     "output_type": "display_data"
    },
    {
     "data": {
      "text/markdown": [
       "\n",
       "\n",
       " ___"
      ],
      "text/plain": [
       "<IPython.core.display.Markdown object>"
      ]
     },
     "metadata": {},
     "output_type": "display_data"
    },
    {
     "data": {
      "text/markdown": [
       "**Text:** \"…f X pence, with costs of **7** shillings, 6 pence.…\""
      ],
      "text/plain": [
       "<IPython.core.display.Markdown object>"
      ]
     },
     "metadata": {},
     "output_type": "display_data"
    },
    {
     "data": {
      "text/html": [
       "<a href='../data/LJSpeech-1.1/wavs/LJ002-0164.wav' target='_blank'>../data/LJSpeech-1.1/wavs/LJ002-0164.wav</a><br>"
      ],
      "text/plain": [
       "/Users/michaelp/Code/WellSaidLabs/data/LJSpeech-1.1/wavs/LJ002-0164.wav"
      ]
     },
     "metadata": {},
     "output_type": "display_data"
    },
    {
     "data": {
      "text/markdown": [
       "\n",
       "\n",
       " ___"
      ],
      "text/plain": [
       "<IPython.core.display.Markdown object>"
      ]
     },
     "metadata": {},
     "output_type": "display_data"
    },
    {
     "data": {
      "text/markdown": [
       "**Text:** \"…o the police by Oswald, (**7**)…\""
      ],
      "text/plain": [
       "<IPython.core.display.Markdown object>"
      ]
     },
     "metadata": {},
     "output_type": "display_data"
    },
    {
     "data": {
      "text/html": [
       "<a href='../data/LJSpeech-1.1/wavs/LJ032-0014.wav' target='_blank'>../data/LJSpeech-1.1/wavs/LJ032-0014.wav</a><br>"
      ],
      "text/plain": [
       "/Users/michaelp/Code/WellSaidLabs/data/LJSpeech-1.1/wavs/LJ032-0014.wav"
      ]
     },
     "metadata": {},
     "output_type": "display_data"
    },
    {
     "data": {
      "text/markdown": [
       "\n",
       "\n",
       " ___"
      ],
      "text/plain": [
       "<IPython.core.display.Markdown object>"
      ]
     },
     "metadata": {},
     "output_type": "display_data"
    },
    {
     "data": {
      "text/markdown": [
       "**Text:** \"…session a Smith & Wesson **38** caliber revolver…\""
      ],
      "text/plain": [
       "<IPython.core.display.Markdown object>"
      ]
     },
     "metadata": {},
     "output_type": "display_data"
    },
    {
     "data": {
      "text/html": [
       "<a href='../data/LJSpeech-1.1/wavs/LJ032-0072.wav' target='_blank'>../data/LJSpeech-1.1/wavs/LJ032-0072.wav</a><br>"
      ],
      "text/plain": [
       "/Users/michaelp/Code/WellSaidLabs/data/LJSpeech-1.1/wavs/LJ032-0072.wav"
      ]
     },
     "metadata": {},
     "output_type": "display_data"
    },
    {
     "data": {
      "text/markdown": [
       "\n",
       "\n",
       " ___"
      ],
      "text/plain": [
       "<IPython.core.display.Markdown object>"
      ]
     },
     "metadata": {},
     "output_type": "display_data"
    },
    {
     "data": {
      "text/markdown": [
       "**Text:** \"…tween the hours of X and **9** p.m. they were occupied …\""
      ],
      "text/plain": [
       "<IPython.core.display.Markdown object>"
      ]
     },
     "metadata": {},
     "output_type": "display_data"
    },
    {
     "data": {
      "text/html": [
       "<a href='../data/LJSpeech-1.1/wavs/LJ033-0042.wav' target='_blank'>../data/LJSpeech-1.1/wavs/LJ033-0042.wav</a><br>"
      ],
      "text/plain": [
       "/Users/michaelp/Code/WellSaidLabs/data/LJSpeech-1.1/wavs/LJ033-0042.wav"
      ]
     },
     "metadata": {},
     "output_type": "display_data"
    },
    {
     "data": {
      "text/markdown": [
       "\n",
       "\n",
       " ___"
      ],
      "text/plain": [
       "<IPython.core.display.Markdown object>"
      ]
     },
     "metadata": {},
     "output_type": "display_data"
    },
    {
     "data": {
      "text/markdown": [
       "**Text:** \"…Chapter **4**. The Assassin: Part 8.…\""
      ],
      "text/plain": [
       "<IPython.core.display.Markdown object>"
      ]
     },
     "metadata": {},
     "output_type": "display_data"
    },
    {
     "data": {
      "text/html": [
       "<a href='../data/LJSpeech-1.1/wavs/LJ039-0004.wav' target='_blank'>../data/LJSpeech-1.1/wavs/LJ039-0004.wav</a><br>"
      ],
      "text/plain": [
       "/Users/michaelp/Code/WellSaidLabs/data/LJSpeech-1.1/wavs/LJ039-0004.wav"
      ]
     },
     "metadata": {},
     "output_type": "display_data"
    },
    {
     "data": {
      "text/markdown": [
       "\n",
       "\n",
       " ___"
      ],
      "text/plain": [
       "<IPython.core.display.Markdown object>"
      ]
     },
     "metadata": {},
     "output_type": "display_data"
    },
    {
     "data": {
      "text/markdown": [
       "**Text:** \"…munism when he was about **15**.…\""
      ],
      "text/plain": [
       "<IPython.core.display.Markdown object>"
      ]
     },
     "metadata": {},
     "output_type": "display_data"
    },
    {
     "data": {
      "text/html": [
       "<a href='../data/LJSpeech-1.1/wavs/LJ040-0044.wav' target='_blank'>../data/LJSpeech-1.1/wavs/LJ040-0044.wav</a><br>"
      ],
      "text/plain": [
       "/Users/michaelp/Code/WellSaidLabs/data/LJSpeech-1.1/wavs/LJ040-0044.wav"
      ]
     },
     "metadata": {},
     "output_type": "display_data"
    },
    {
     "data": {
      "text/markdown": [
       "\n",
       "\n",
       " ___"
      ],
      "text/plain": [
       "<IPython.core.display.Markdown object>"
      ]
     },
     "metadata": {},
     "output_type": "display_data"
    },
    {
     "data": {
      "text/markdown": [
       "**Text:** \"…X, where he stayed until **3** days before he was sched…\""
      ],
      "text/plain": [
       "<IPython.core.display.Markdown object>"
      ]
     },
     "metadata": {},
     "output_type": "display_data"
    },
    {
     "data": {
      "text/html": [
       "<a href='../data/LJSpeech-1.1/wavs/LJ040-0091.wav' target='_blank'>../data/LJSpeech-1.1/wavs/LJ040-0091.wav</a><br>"
      ],
      "text/plain": [
       "/Users/michaelp/Code/WellSaidLabs/data/LJSpeech-1.1/wavs/LJ040-0091.wav"
      ]
     },
     "metadata": {},
     "output_type": "display_data"
    },
    {
     "data": {
      "text/markdown": [
       "\n",
       "\n",
       " ___"
      ],
      "text/plain": [
       "<IPython.core.display.Markdown object>"
      ]
     },
     "metadata": {},
     "output_type": "display_data"
    },
    {
     "data": {
      "text/markdown": [
       "**Text:** \"… the evening of November **22**, Benavides told them tha…\""
      ],
      "text/plain": [
       "<IPython.core.display.Markdown object>"
      ]
     },
     "metadata": {},
     "output_type": "display_data"
    },
    {
     "data": {
      "text/html": [
       "<a href='../data/LJSpeech-1.1/wavs/LJ037-0033.wav' target='_blank'>../data/LJSpeech-1.1/wavs/LJ037-0033.wav</a><br>"
      ],
      "text/plain": [
       "/Users/michaelp/Code/WellSaidLabs/data/LJSpeech-1.1/wavs/LJ037-0033.wav"
      ]
     },
     "metadata": {},
     "output_type": "display_data"
    },
    {
     "data": {
      "text/markdown": [
       "\n",
       "\n",
       " ___"
      ],
      "text/plain": [
       "<IPython.core.display.Markdown object>"
      ]
     },
     "metadata": {},
     "output_type": "display_data"
    },
    {
     "data": {
      "text/markdown": [
       "**Text:** \"…firing **50** rounds each day for five…\""
      ],
      "text/plain": [
       "<IPython.core.display.Markdown object>"
      ]
     },
     "metadata": {},
     "output_type": "display_data"
    },
    {
     "data": {
      "text/html": [
       "<a href='../data/LJSpeech-1.1/wavs/LJ039-0104.wav' target='_blank'>../data/LJSpeech-1.1/wavs/LJ039-0104.wav</a><br>"
      ],
      "text/plain": [
       "/Users/michaelp/Code/WellSaidLabs/data/LJSpeech-1.1/wavs/LJ039-0104.wav"
      ]
     },
     "metadata": {},
     "output_type": "display_data"
    },
    {
     "data": {
      "text/markdown": [
       "\n",
       "\n",
       " ___"
      ],
      "text/plain": [
       "<IPython.core.display.Markdown object>"
      ]
     },
     "metadata": {},
     "output_type": "display_data"
    },
    {
     "data": {
      "text/markdown": [
       "**Text:** \"…one agent was there from **2** until 5 a.m.…\""
      ],
      "text/plain": [
       "<IPython.core.display.Markdown object>"
      ]
     },
     "metadata": {},
     "output_type": "display_data"
    },
    {
     "data": {
      "text/html": [
       "<a href='../data/LJSpeech-1.1/wavs/LJ048-0238.wav' target='_blank'>../data/LJSpeech-1.1/wavs/LJ048-0238.wav</a><br>"
      ],
      "text/plain": [
       "/Users/michaelp/Code/WellSaidLabs/data/LJSpeech-1.1/wavs/LJ048-0238.wav"
      ]
     },
     "metadata": {},
     "output_type": "display_data"
    },
    {
     "data": {
      "text/markdown": [
       "\n",
       "\n",
       " ___"
      ],
      "text/plain": [
       "<IPython.core.display.Markdown object>"
      ]
     },
     "metadata": {},
     "output_type": "display_data"
    },
    {
     "data": {
      "text/markdown": [
       "**Text:** \"…e building approximately **3** minutes after the assass…\""
      ],
      "text/plain": [
       "<IPython.core.display.Markdown object>"
      ]
     },
     "metadata": {},
     "output_type": "display_data"
    },
    {
     "data": {
      "text/html": [
       "<a href='../data/LJSpeech-1.1/wavs/LJ036-0016.wav' target='_blank'>../data/LJSpeech-1.1/wavs/LJ036-0016.wav</a><br>"
      ],
      "text/plain": [
       "/Users/michaelp/Code/WellSaidLabs/data/LJSpeech-1.1/wavs/LJ036-0016.wav"
      ]
     },
     "metadata": {},
     "output_type": "display_data"
    },
    {
     "data": {
      "text/markdown": [
       "\n",
       "\n",
       " ___"
      ],
      "text/plain": [
       "<IPython.core.display.Markdown object>"
      ]
     },
     "metadata": {},
     "output_type": "display_data"
    },
    {
     "data": {
      "text/markdown": [
       "**Text:** \"…t Mexico City on October **2**, XXXX.…\""
      ],
      "text/plain": [
       "<IPython.core.display.Markdown object>"
      ]
     },
     "metadata": {},
     "output_type": "display_data"
    },
    {
     "data": {
      "text/html": [
       "<a href='../data/LJSpeech-1.1/wavs/LJ044-0188.wav' target='_blank'>../data/LJSpeech-1.1/wavs/LJ044-0188.wav</a><br>"
      ],
      "text/plain": [
       "/Users/michaelp/Code/WellSaidLabs/data/LJSpeech-1.1/wavs/LJ044-0188.wav"
      ]
     },
     "metadata": {},
     "output_type": "display_data"
    },
    {
     "data": {
      "text/markdown": [
       "\n",
       "\n",
       " ___"
      ],
      "text/plain": [
       "<IPython.core.display.Markdown object>"
      ]
     },
     "metadata": {},
     "output_type": "display_data"
    },
    {
     "data": {
      "text/markdown": [
       "**Text:** \"…ussed in chapter X, page **249**.…\""
      ],
      "text/plain": [
       "<IPython.core.display.Markdown object>"
      ]
     },
     "metadata": {},
     "output_type": "display_data"
    },
    {
     "data": {
      "text/html": [
       "<a href='../data/LJSpeech-1.1/wavs/LJ034-0061.wav' target='_blank'>../data/LJSpeech-1.1/wavs/LJ034-0061.wav</a><br>"
      ],
      "text/plain": [
       "/Users/michaelp/Code/WellSaidLabs/data/LJSpeech-1.1/wavs/LJ034-0061.wav"
      ]
     },
     "metadata": {},
     "output_type": "display_data"
    },
    {
     "data": {
      "text/markdown": [
       "\n",
       "\n",
       " ___"
      ],
      "text/plain": [
       "<IPython.core.display.Markdown object>"
      ]
     },
     "metadata": {},
     "output_type": "display_data"
    },
    {
     "data": {
      "text/markdown": [
       "**Text:** \"…rthur Griffiths. Section **11**: Executions, part one.…\""
      ],
      "text/plain": [
       "<IPython.core.display.Markdown object>"
      ]
     },
     "metadata": {},
     "output_type": "display_data"
    },
    {
     "data": {
      "text/html": [
       "<a href='../data/LJSpeech-1.1/wavs/LJ008-0001.wav' target='_blank'>../data/LJSpeech-1.1/wavs/LJ008-0001.wav</a><br>"
      ],
      "text/plain": [
       "/Users/michaelp/Code/WellSaidLabs/data/LJSpeech-1.1/wavs/LJ008-0001.wav"
      ]
     },
     "metadata": {},
     "output_type": "display_data"
    },
    {
     "data": {
      "text/markdown": [
       "\n",
       "\n",
       " ___"
      ],
      "text/plain": [
       "<IPython.core.display.Markdown object>"
      ]
     },
     "metadata": {},
     "output_type": "display_data"
    },
    {
     "data": {
      "text/markdown": [
       "**Text:** \"…On June **24**, Oswald applied in New O…\""
      ],
      "text/plain": [
       "<IPython.core.display.Markdown object>"
      ]
     },
     "metadata": {},
     "output_type": "display_data"
    },
    {
     "data": {
      "text/html": [
       "<a href='../data/LJSpeech-1.1/wavs/LJ047-0081.wav' target='_blank'>../data/LJSpeech-1.1/wavs/LJ047-0081.wav</a><br>"
      ],
      "text/plain": [
       "/Users/michaelp/Code/WellSaidLabs/data/LJSpeech-1.1/wavs/LJ047-0081.wav"
      ]
     },
     "metadata": {},
     "output_type": "display_data"
    },
    {
     "data": {
      "text/markdown": [
       "\n",
       "\n",
       " ___"
      ],
      "text/plain": [
       "<IPython.core.display.Markdown object>"
      ]
     },
     "metadata": {},
     "output_type": "display_data"
    },
    {
     "data": {
      "text/markdown": [
       "**Text:** \"…te there had been XXX or **800** frequently, and once, in…\""
      ],
      "text/plain": [
       "<IPython.core.display.Markdown object>"
      ]
     },
     "metadata": {},
     "output_type": "display_data"
    },
    {
     "data": {
      "text/html": [
       "<a href='../data/LJSpeech-1.1/wavs/LJ002-0016.wav' target='_blank'>../data/LJSpeech-1.1/wavs/LJ002-0016.wav</a><br>"
      ],
      "text/plain": [
       "/Users/michaelp/Code/WellSaidLabs/data/LJSpeech-1.1/wavs/LJ002-0016.wav"
      ]
     },
     "metadata": {},
     "output_type": "display_data"
    },
    {
     "data": {
      "text/markdown": [
       "\n",
       "\n",
       " ___"
      ],
      "text/plain": [
       "<IPython.core.display.Markdown object>"
      ]
     },
     "metadata": {},
     "output_type": "display_data"
    },
    {
     "data": {
      "text/markdown": [
       "**Text:** \"…he weapon at XX yards in **6**, 7, and 9 seconds,…\""
      ],
      "text/plain": [
       "<IPython.core.display.Markdown object>"
      ]
     },
     "metadata": {},
     "output_type": "display_data"
    },
    {
     "data": {
      "text/html": [
       "<a href='../data/LJSpeech-1.1/wavs/LJ039-0199.wav' target='_blank'>../data/LJSpeech-1.1/wavs/LJ039-0199.wav</a><br>"
      ],
      "text/plain": [
       "/Users/michaelp/Code/WellSaidLabs/data/LJSpeech-1.1/wavs/LJ039-0199.wav"
      ]
     },
     "metadata": {},
     "output_type": "display_data"
    },
    {
     "data": {
      "text/markdown": [
       "\n",
       "\n",
       " ___"
      ],
      "text/plain": [
       "<IPython.core.display.Markdown object>"
      ]
     },
     "metadata": {},
     "output_type": "display_data"
    },
    {
     "data": {
      "text/markdown": [
       "**Text:** \"…weeks before, on October **7**, but she had asked him t…\""
      ],
      "text/plain": [
       "<IPython.core.display.Markdown object>"
      ]
     },
     "metadata": {},
     "output_type": "display_data"
    },
    {
     "data": {
      "text/html": [
       "<a href='../data/LJSpeech-1.1/wavs/LJ036-0044.wav' target='_blank'>../data/LJSpeech-1.1/wavs/LJ036-0044.wav</a><br>"
      ],
      "text/plain": [
       "/Users/michaelp/Code/WellSaidLabs/data/LJSpeech-1.1/wavs/LJ036-0044.wav"
      ]
     },
     "metadata": {},
     "output_type": "display_data"
    },
    {
     "data": {
      "text/markdown": [
       "\n",
       "\n",
       " ___"
      ],
      "text/plain": [
       "<IPython.core.display.Markdown object>"
      ]
     },
     "metadata": {},
     "output_type": "display_data"
    },
    {
     "data": {
      "text/markdown": [
       "**Text:** \"…d on the sixth floor was **88** inches long.…\""
      ],
      "text/plain": [
       "<IPython.core.display.Markdown object>"
      ]
     },
     "metadata": {},
     "output_type": "display_data"
    },
    {
     "data": {
      "text/html": [
       "<a href='../data/LJSpeech-1.1/wavs/LJ033-0113.wav' target='_blank'>../data/LJSpeech-1.1/wavs/LJ033-0113.wav</a><br>"
      ],
      "text/plain": [
       "/Users/michaelp/Code/WellSaidLabs/data/LJSpeech-1.1/wavs/LJ033-0113.wav"
      ]
     },
     "metadata": {},
     "output_type": "display_data"
    },
    {
     "data": {
      "text/markdown": [
       "\n",
       "\n",
       " ___"
      ],
      "text/plain": [
       "<IPython.core.display.Markdown object>"
      ]
     },
     "metadata": {},
     "output_type": "display_data"
    }
   ],
   "source": [
    "find_examples(r'(\\b[0-9]{1}[0-9\\.\\,]{0,}\\b)', display_n=50)"
   ]
  },
  {
   "cell_type": "code",
   "execution_count": 20,
   "metadata": {},
   "outputs": [
    {
     "data": {
      "text/markdown": [
       "4 → four (four)"
      ],
      "text/plain": [
       "<IPython.core.display.Markdown object>"
      ]
     },
     "metadata": {},
     "output_type": "display_data"
    },
    {
     "data": {
      "text/markdown": [
       "22 → twenty-two (twenty-two)"
      ],
      "text/plain": [
       "<IPython.core.display.Markdown object>"
      ]
     },
     "metadata": {},
     "output_type": "display_data"
    },
    {
     "data": {
      "text/markdown": [
       "20 → twenty (twenty)"
      ],
      "text/plain": [
       "<IPython.core.display.Markdown object>"
      ]
     },
     "metadata": {},
     "output_type": "display_data"
    },
    {
     "data": {
      "text/markdown": [
       "176.9 → one hundred seventy-six point nine (one hundred seventy-six point nine)"
      ],
      "text/plain": [
       "<IPython.core.display.Markdown object>"
      ]
     },
     "metadata": {},
     "output_type": "display_data"
    },
    {
     "data": {
      "text/markdown": [
       "265.3 → two hundred sixty-five point three (two hundred sixty-five point three)"
      ],
      "text/plain": [
       "<IPython.core.display.Markdown object>"
      ]
     },
     "metadata": {},
     "output_type": "display_data"
    },
    {
     "data": {
      "text/markdown": [
       "6.45 → six point four five (six point four five)"
      ],
      "text/plain": [
       "<IPython.core.display.Markdown object>"
      ]
     },
     "metadata": {},
     "output_type": "display_data"
    },
    {
     "data": {
      "text/markdown": [
       "50000 → fifty thousand (fifty thousand)"
      ],
      "text/plain": [
       "<IPython.core.display.Markdown object>"
      ]
     },
     "metadata": {},
     "output_type": "display_data"
    },
    {
     "data": {
      "text/markdown": [
       "1000 → one thousand (one thousand)"
      ],
      "text/plain": [
       "<IPython.core.display.Markdown object>"
      ]
     },
     "metadata": {},
     "output_type": "display_data"
    },
    {
     "data": {
      "text/markdown": [
       "8709 → eight thousand, seven hundred nine (eight thousand, seven hundred nine)"
      ],
      "text/plain": [
       "<IPython.core.display.Markdown object>"
      ]
     },
     "metadata": {},
     "output_type": "display_data"
    },
    {
     "data": {
      "text/markdown": [
       "182 → one hundred eighty-two (one hundred eighty-two)"
      ],
      "text/plain": [
       "<IPython.core.display.Markdown object>"
      ]
     },
     "metadata": {},
     "output_type": "display_data"
    }
   ],
   "source": [
    "from IPython.display import Markdown\n",
    "\n",
    "from functools import partial\n",
    "from num2words import num2words\n",
    "\n",
    "cases = [('Chapter 4. The Assassin:', 'four'), \n",
    "         ('the morning of November 22 prior to the motorcade', 'twenty-two'),\n",
    "         ('was shipped on March 20, and the shooting', 'twenty'),\n",
    "         ('Kennedy in the neck at 176.9', 'one hundred seventy-six point nine'), \n",
    "         ('distance of 265.3 feet was, quote', 'two hundred sixty-five point three'),\n",
    "         ('ries they required XXXX, 6.45,', 'six point four five'),\n",
    "         ('information on some 50,000 cases', 'fifty thousand'), \n",
    "         ('actually had only 1,000 printed.', 'one thousand'),\n",
    "         ('PRS received items in 8,709 cases', 'eight thousand, seven hundred nine'),\n",
    "         ('debtors and 182 felons,', 'one hundred eighty-two')]\n",
    "\n",
    "def replace(text, true):\n",
    "    text = text.replace(',', '')\n",
    "    ret = num2words(float(text))\n",
    "    ret = ret.replace('hundred and', 'hundred')\n",
    "    display(Markdown(text + ' → ' + ret + ' (' + true + ')'))\n",
    "    return ret\n",
    "\n",
    "for text in cases:\n",
    "    _iterate_and_replace(r'(\\b[0-9\\.\\,]+\\b)', text[0], partial(replace, true=text[1]))"
   ]
  },
  {
   "cell_type": "markdown",
   "metadata": {},
   "source": [
    "## Roman Numbers\n",
    "\n",
    "Here we experiment verbalizing roman numbers."
   ]
  },
  {
   "cell_type": "code",
   "execution_count": 21,
   "metadata": {},
   "outputs": [
    {
     "data": {
      "text/markdown": [
       "### Examples Captured by Regex"
      ],
      "text/plain": [
       "<IPython.core.display.Markdown object>"
      ]
     },
     "metadata": {},
     "output_type": "display_data"
    },
    {
     "data": {
      "text/markdown": [
       "**Regex:** \\b(?:George|Charles|Napoleon|Henry|Nebuchadnezzar|William) ([IV]+\\.{0,})"
      ],
      "text/plain": [
       "<IPython.core.display.Markdown object>"
      ]
     },
     "metadata": {},
     "output_type": "display_data"
    },
    {
     "data": {
      "text/markdown": [
       "**Number of Examples:** 22"
      ],
      "text/plain": [
       "<IPython.core.display.Markdown object>"
      ]
     },
     "metadata": {},
     "output_type": "display_data"
    },
    {
     "data": {
      "text/markdown": [
       "**Number of Examples Shown:** 5"
      ],
      "text/plain": [
       "<IPython.core.display.Markdown object>"
      ]
     },
     "metadata": {},
     "output_type": "display_data"
    },
    {
     "data": {
      "text/markdown": [
       "\n",
       "\n",
       " ___"
      ],
      "text/plain": [
       "<IPython.core.display.Markdown object>"
      ]
     },
     "metadata": {},
     "output_type": "display_data"
    },
    {
     "data": {
      "text/markdown": [
       "**Text:** \"…but in the XXXX George **II** the right of presentatio…\""
      ],
      "text/plain": [
       "<IPython.core.display.Markdown object>"
      ]
     },
     "metadata": {},
     "output_type": "display_data"
    },
    {
     "data": {
      "text/html": [
       "<a href='../data/LJSpeech-1.1/wavs/LJ002-0199.wav' target='_blank'>../data/LJSpeech-1.1/wavs/LJ002-0199.wav</a><br>"
      ],
      "text/plain": [
       "/Users/michaelp/Code/WellSaidLabs/data/LJSpeech-1.1/wavs/LJ002-0199.wav"
      ]
     },
     "metadata": {},
     "output_type": "display_data"
    },
    {
     "data": {
      "text/markdown": [
       "\n",
       "\n",
       " ___"
      ],
      "text/plain": [
       "<IPython.core.display.Markdown object>"
      ]
     },
     "metadata": {},
     "output_type": "display_data"
    },
    {
     "data": {
      "text/markdown": [
       "**Text:** \"…ck as the reign of Henry **VIII.** a new and most cruel pen…\""
      ],
      "text/plain": [
       "<IPython.core.display.Markdown object>"
      ]
     },
     "metadata": {},
     "output_type": "display_data"
    },
    {
     "data": {
      "text/html": [
       "<a href='../data/LJSpeech-1.1/wavs/LJ017-0007.wav' target='_blank'>../data/LJSpeech-1.1/wavs/LJ017-0007.wav</a><br>"
      ],
      "text/plain": [
       "/Users/michaelp/Code/WellSaidLabs/data/LJSpeech-1.1/wavs/LJ017-0007.wav"
      ]
     },
     "metadata": {},
     "output_type": "display_data"
    },
    {
     "data": {
      "text/markdown": [
       "\n",
       "\n",
       " ___"
      ],
      "text/plain": [
       "<IPython.core.display.Markdown object>"
      ]
     },
     "metadata": {},
     "output_type": "display_data"
    },
    {
     "data": {
      "text/markdown": [
       "**Text:** \"…fired a pistol at George **III.** from the pit of Drury La…\""
      ],
      "text/plain": [
       "<IPython.core.display.Markdown object>"
      ]
     },
     "metadata": {},
     "output_type": "display_data"
    },
    {
     "data": {
      "text/html": [
       "<a href='../data/LJSpeech-1.1/wavs/LJ010-0152.wav' target='_blank'>../data/LJSpeech-1.1/wavs/LJ010-0152.wav</a><br>"
      ],
      "text/plain": [
       "/Users/michaelp/Code/WellSaidLabs/data/LJSpeech-1.1/wavs/LJ010-0152.wav"
      ]
     },
     "metadata": {},
     "output_type": "display_data"
    },
    {
     "data": {
      "text/markdown": [
       "\n",
       "\n",
       " ___"
      ],
      "text/plain": [
       "<IPython.core.display.Markdown object>"
      ]
     },
     "metadata": {},
     "output_type": "display_data"
    },
    {
     "data": {
      "text/markdown": [
       "**Text:** \"…tried to stab George **III.** as he was alighting from…\""
      ],
      "text/plain": [
       "<IPython.core.display.Markdown object>"
      ]
     },
     "metadata": {},
     "output_type": "display_data"
    },
    {
     "data": {
      "text/html": [
       "<a href='../data/LJSpeech-1.1/wavs/LJ010-0148.wav' target='_blank'>../data/LJSpeech-1.1/wavs/LJ010-0148.wav</a><br>"
      ],
      "text/plain": [
       "/Users/michaelp/Code/WellSaidLabs/data/LJSpeech-1.1/wavs/LJ010-0148.wav"
      ]
     },
     "metadata": {},
     "output_type": "display_data"
    },
    {
     "data": {
      "text/markdown": [
       "\n",
       "\n",
       " ___"
      ],
      "text/plain": [
       "<IPython.core.display.Markdown object>"
      ]
     },
     "metadata": {},
     "output_type": "display_data"
    },
    {
     "data": {
      "text/markdown": [
       "**Text:** \"…ew Jail Acts of X George **IV**…\""
      ],
      "text/plain": [
       "<IPython.core.display.Markdown object>"
      ]
     },
     "metadata": {},
     "output_type": "display_data"
    },
    {
     "data": {
      "text/html": [
       "<a href='../data/LJSpeech-1.1/wavs/LJ005-0073.wav' target='_blank'>../data/LJSpeech-1.1/wavs/LJ005-0073.wav</a><br>"
      ],
      "text/plain": [
       "/Users/michaelp/Code/WellSaidLabs/data/LJSpeech-1.1/wavs/LJ005-0073.wav"
      ]
     },
     "metadata": {},
     "output_type": "display_data"
    },
    {
     "data": {
      "text/markdown": [
       "\n",
       "\n",
       " ___"
      ],
      "text/plain": [
       "<IPython.core.display.Markdown object>"
      ]
     },
     "metadata": {},
     "output_type": "display_data"
    }
   ],
   "source": [
    "find_examples(r'\\b(?:George|Charles|Napoleon|Henry|Nebuchadnezzar|William) ([IV]+\\.{0,})')"
   ]
  },
  {
   "cell_type": "code",
   "execution_count": 22,
   "metadata": {},
   "outputs": [
    {
     "data": {
      "text/markdown": [
       "II → the second (the second)"
      ],
      "text/plain": [
       "<IPython.core.display.Markdown object>"
      ]
     },
     "metadata": {},
     "output_type": "display_data"
    },
    {
     "data": {
      "text/markdown": [
       "IV → the fourth (the forth)"
      ],
      "text/plain": [
       "<IPython.core.display.Markdown object>"
      ]
     },
     "metadata": {},
     "output_type": "display_data"
    },
    {
     "data": {
      "text/markdown": [
       "VIII → the eighth (the eighth)"
      ],
      "text/plain": [
       "<IPython.core.display.Markdown object>"
      ]
     },
     "metadata": {},
     "output_type": "display_data"
    }
   ],
   "source": [
    "from IPython.display import Markdown\n",
    "\n",
    "from functools import partial\n",
    "from num2words import num2words\n",
    "\n",
    "cases = [('reign of Charles II., a law was passed', 'the second'), \n",
    "         ('William IV. was also the victim', 'the forth'),\n",
    "         ('the reign of Henry VIII. a new and most', 'the eighth')]\n",
    "\n",
    "def replace(text, true):\n",
    "    if text[-1] == '.':\n",
    "        text = text[:-1]\n",
    "        \n",
    "    num = 0\n",
    "    if 'V' not in text:\n",
    "        num = len(text)\n",
    "    elif 'IV' == text:\n",
    "        num = 4\n",
    "    else:\n",
    "        num = 5 + len(text) - 1\n",
    "        \n",
    "    ret = 'the ' + num2words(int(num), to='ordinal')\n",
    "    display(Markdown(text + ' → ' + ret + ' (' + true + ')'))\n",
    "    return ret\n",
    "\n",
    "for text in cases:\n",
    "    _iterate_and_replace(r'\\b(?:George|Charles|Napoleon|Henry|Nebuchadnezzar|William) ([IV]+\\.{0,})',\n",
    "                         text[0], partial(replace, true=text[1]))"
   ]
  }
 ],
 "metadata": {
  "kernelspec": {
   "display_name": "Python 3",
   "language": "python",
   "name": "python3"
  },
  "language_info": {
   "codemirror_mode": {
    "name": "ipython",
    "version": 3
   },
   "file_extension": ".py",
   "mimetype": "text/x-python",
   "name": "python",
   "nbconvert_exporter": "python",
   "pygments_lexer": "ipython3",
   "version": "3.6.5"
  }
 },
 "nbformat": 4,
 "nbformat_minor": 2
}
