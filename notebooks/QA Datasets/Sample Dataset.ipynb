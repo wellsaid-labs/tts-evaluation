{
 "cells": [
  {
   "cell_type": "markdown",
   "metadata": {},
   "source": [
    "# Sample Dataset\n",
    "\n",
    "This notebook allows for quickly manually reviewing a dataset."
   ]
  },
  {
   "cell_type": "code",
   "execution_count": 1,
   "metadata": {},
   "outputs": [],
   "source": [
    "import re\n",
    "import sys\n",
    "\n",
    "# Setup the \"PYTHONPATH\"\n",
    "sys.path.insert(0, '../../')"
   ]
  },
  {
   "cell_type": "code",
   "execution_count": 2,
   "metadata": {},
   "outputs": [
    {
     "name": "stderr",
     "output_type": "stream",
     "text": [
      "INFO:src.datasets.process:Processing dataset...\n",
      "  7%|▋         | 3072/46297 [00:00<00:12, 3564.40it/s]WARNING:src.datasets.m_ailabs:Not found audio file, skipping: ../../data/M-AILABS/en_US/by_book/female/judy_bieber/the_master_key/wavs/the_master_key_05_f000135.wav\n",
      " 37%|███▋      | 16921/46297 [00:03<00:05, 4999.25it/s]WARNING:src.datasets.m_ailabs:Not found audio file, skipping: ../../data/M-AILABS/en_US/by_book/female/mary_ann/midnight_passenger/wavs/midnight_passenger_05_f000269.wav\n",
      " 58%|█████▊    | 26637/46297 [00:04<00:03, 6107.01it/s]WARNING:src.datasets.m_ailabs:Not found audio file, skipping: ../../data/M-AILABS/en_US/by_book/female/mary_ann/northandsouth/wavs/northandsouth_40_f000069.wav\n",
      "100%|██████████| 46297/46297 [00:08<00:00, 5623.25it/s]\n"
     ]
    },
    {
     "data": {
      "text/plain": [
       "'Training rows: 37035'"
      ]
     },
     "execution_count": 2,
     "metadata": {},
     "output_type": "execute_result"
    }
   ],
   "source": [
    "from src.datasets import m_ailabs_speech_dataset\n",
    "from src.hparams import set_hparams\n",
    "\n",
    "set_hparams()\n",
    "data, _ = m_ailabs_speech_dataset(directory='../../data/M-AILABS')\n",
    "'Training rows: %s' % len(data)"
   ]
  },
  {
   "cell_type": "code",
   "execution_count": 6,
   "metadata": {},
   "outputs": [
    {
     "data": {
      "text/markdown": [
       "**Text:** \"Then he was wrong to have been born at all. Cheek eek eek eek, oo, hoo! chuckled Rinkitink, his fat body shaking with merriment.\""
      ],
      "text/plain": [
       "<IPython.core.display.Markdown object>"
      ]
     },
     "metadata": {},
     "output_type": "display_data"
    },
    {
     "data": {
      "text/html": [
       "<a href='../../data/M-AILABS/en_US/by_book/female/judy_bieber/rinkitink_in_oz/wavs/pad(rate(guard(rinkitink_baum_05_64kb_f000054),24000)).npy' target='_blank'>../../data/M-AILABS/en_US/by_book/female/judy_bieber/rinkitink_in_oz/wavs/pad(rate(guard(rinkitink_baum_05_64kb_f000054),24000)).npy</a><br>"
      ],
      "text/plain": [
       "/Users/michaelp/Code/Tacotron-2/data/M-AILABS/en_US/by_book/female/judy_bieber/rinkitink_in_oz/wavs/pad(rate(guard(rinkitink_baum_05_64kb_f000054),24000)).npy"
      ]
     },
     "metadata": {},
     "output_type": "display_data"
    },
    {
     "data": {
      "text/html": [
       "\n",
       "                <audio controls=\"controls\" >\n",
       "                    <source />\n",
       "                    Your browser does not support the audio element.\n",
       "                </audio>\n",
       "              "
      ],
      "text/plain": [
       "<IPython.lib.display.Audio object>"
      ]
     },
     "metadata": {},
     "output_type": "display_data"
    },
    {
     "data": {
      "text/markdown": [
       "\n",
       "\n",
       " ___"
      ],
      "text/plain": [
       "<IPython.core.display.Markdown object>"
      ]
     },
     "metadata": {},
     "output_type": "display_data"
    },
    {
     "data": {
      "text/markdown": [
       "**Text:** \"and how likely she was to lose her own freedom in striving to free others from the bondage of the Nome King. No wonder the cunning monarch laughed good naturedly with his visitors,\""
      ],
      "text/plain": [
       "<IPython.core.display.Markdown object>"
      ]
     },
     "metadata": {},
     "output_type": "display_data"
    },
    {
     "data": {
      "text/html": [
       "<a href='../../data/M-AILABS/en_US/by_book/female/judy_bieber/ozma_of_oz/wavs/pad(rate(guard(ozma_of_oz_12_f000025),24000)).npy' target='_blank'>../../data/M-AILABS/en_US/by_book/female/judy_bieber/ozma_of_oz/wavs/pad(rate(guard(ozma_of_oz_12_f000025),24000)).npy</a><br>"
      ],
      "text/plain": [
       "/Users/michaelp/Code/Tacotron-2/data/M-AILABS/en_US/by_book/female/judy_bieber/ozma_of_oz/wavs/pad(rate(guard(ozma_of_oz_12_f000025),24000)).npy"
      ]
     },
     "metadata": {},
     "output_type": "display_data"
    },
    {
     "data": {
      "text/html": [
       "\n",
       "                <audio controls=\"controls\" >\n",
       "                    <source />\n",
       "                    Your browser does not support the audio element.\n",
       "                </audio>\n",
       "              "
      ],
      "text/plain": [
       "<IPython.lib.display.Audio object>"
      ]
     },
     "metadata": {},
     "output_type": "display_data"
    },
    {
     "data": {
      "text/markdown": [
       "\n",
       "\n",
       " ___"
      ],
      "text/plain": [
       "<IPython.core.display.Markdown object>"
      ]
     },
     "metadata": {},
     "output_type": "display_data"
    },
    {
     "data": {
      "text/markdown": [
       "**Text:** \"my eye quickly travelled to a roulette-table which stretched along the middle of the room.\""
      ],
      "text/plain": [
       "<IPython.core.display.Markdown object>"
      ]
     },
     "metadata": {},
     "output_type": "display_data"
    },
    {
     "data": {
      "text/html": [
       "<a href='../../data/M-AILABS/en_US/by_book/male/elliot_miller/silent_bullet/wavs/pad(rate(guard(silent_bullet_13_f000130),24000)).npy' target='_blank'>../../data/M-AILABS/en_US/by_book/male/elliot_miller/silent_bullet/wavs/pad(rate(guard(silent_bullet_13_f000130),24000)).npy</a><br>"
      ],
      "text/plain": [
       "/Users/michaelp/Code/Tacotron-2/data/M-AILABS/en_US/by_book/male/elliot_miller/silent_bullet/wavs/pad(rate(guard(silent_bullet_13_f000130),24000)).npy"
      ]
     },
     "metadata": {},
     "output_type": "display_data"
    },
    {
     "data": {
      "text/html": [
       "\n",
       "                <audio controls=\"controls\" >\n",
       "                    <source />\n",
       "                    Your browser does not support the audio element.\n",
       "                </audio>\n",
       "              "
      ],
      "text/plain": [
       "<IPython.lib.display.Audio object>"
      ]
     },
     "metadata": {},
     "output_type": "display_data"
    },
    {
     "data": {
      "text/markdown": [
       "\n",
       "\n",
       " ___"
      ],
      "text/plain": [
       "<IPython.core.display.Markdown object>"
      ]
     },
     "metadata": {},
     "output_type": "display_data"
    },
    {
     "data": {
      "text/markdown": [
       "**Text:** \"No! said she, with sudden meekness. I know I do not care enough about schools.\""
      ],
      "text/plain": [
       "<IPython.core.display.Markdown object>"
      ]
     },
     "metadata": {},
     "output_type": "display_data"
    },
    {
     "data": {
      "text/html": [
       "<a href='../../data/M-AILABS/en_US/by_book/female/mary_ann/northandsouth/wavs/pad(rate(guard(northandsouth_15_f000203),24000)).npy' target='_blank'>../../data/M-AILABS/en_US/by_book/female/mary_ann/northandsouth/wavs/pad(rate(guard(northandsouth_15_f000203),24000)).npy</a><br>"
      ],
      "text/plain": [
       "/Users/michaelp/Code/Tacotron-2/data/M-AILABS/en_US/by_book/female/mary_ann/northandsouth/wavs/pad(rate(guard(northandsouth_15_f000203),24000)).npy"
      ]
     },
     "metadata": {},
     "output_type": "display_data"
    },
    {
     "data": {
      "text/html": [
       "\n",
       "                <audio controls=\"controls\" >\n",
       "                    <source />\n",
       "                    Your browser does not support the audio element.\n",
       "                </audio>\n",
       "              "
      ],
      "text/plain": [
       "<IPython.lib.display.Audio object>"
      ]
     },
     "metadata": {},
     "output_type": "display_data"
    },
    {
     "data": {
      "text/markdown": [
       "\n",
       "\n",
       " ___"
      ],
      "text/plain": [
       "<IPython.core.display.Markdown object>"
      ]
     },
     "metadata": {},
     "output_type": "display_data"
    },
    {
     "data": {
      "text/markdown": [
       "**Text:** \"I really believe it is as she says, mister Lowe replied.\""
      ],
      "text/plain": [
       "<IPython.core.display.Markdown object>"
      ]
     },
     "metadata": {},
     "output_type": "display_data"
    },
    {
     "data": {
      "text/html": [
       "<a href='../../data/M-AILABS/en_US/by_book/female/mary_ann/northandsouth/wavs/pad(rate(guard(northandsouth_22_f000250),24000)).npy' target='_blank'>../../data/M-AILABS/en_US/by_book/female/mary_ann/northandsouth/wavs/pad(rate(guard(northandsouth_22_f000250),24000)).npy</a><br>"
      ],
      "text/plain": [
       "/Users/michaelp/Code/Tacotron-2/data/M-AILABS/en_US/by_book/female/mary_ann/northandsouth/wavs/pad(rate(guard(northandsouth_22_f000250),24000)).npy"
      ]
     },
     "metadata": {},
     "output_type": "display_data"
    },
    {
     "data": {
      "text/html": [
       "\n",
       "                <audio controls=\"controls\" >\n",
       "                    <source />\n",
       "                    Your browser does not support the audio element.\n",
       "                </audio>\n",
       "              "
      ],
      "text/plain": [
       "<IPython.lib.display.Audio object>"
      ]
     },
     "metadata": {},
     "output_type": "display_data"
    },
    {
     "data": {
      "text/markdown": [
       "\n",
       "\n",
       " ___"
      ],
      "text/plain": [
       "<IPython.core.display.Markdown object>"
      ]
     },
     "metadata": {},
     "output_type": "display_data"
    },
    {
     "data": {
      "text/markdown": [
       "**Text:** \"Ciccu, who by this time had hoped for a little peace, felt his heart sink at this fresh errand, and he went into the stable to complain to the faithful horse.\""
      ],
      "text/plain": [
       "<IPython.core.display.Markdown object>"
      ]
     },
     "metadata": {},
     "output_type": "display_data"
    },
    {
     "data": {
      "text/html": [
       "<a href='../../data/M-AILABS/en_US/by_book/male/elliot_miller/pink_fairy_book/wavs/pad(rate(guard(pink_fairy_book_40_f000190),24000)).npy' target='_blank'>../../data/M-AILABS/en_US/by_book/male/elliot_miller/pink_fairy_book/wavs/pad(rate(guard(pink_fairy_book_40_f000190),24000)).npy</a><br>"
      ],
      "text/plain": [
       "/Users/michaelp/Code/Tacotron-2/data/M-AILABS/en_US/by_book/male/elliot_miller/pink_fairy_book/wavs/pad(rate(guard(pink_fairy_book_40_f000190),24000)).npy"
      ]
     },
     "metadata": {},
     "output_type": "display_data"
    },
    {
     "data": {
      "text/html": [
       "\n",
       "                <audio controls=\"controls\" >\n",
       "                    <source />\n",
       "                    Your browser does not support the audio element.\n",
       "                </audio>\n",
       "              "
      ],
      "text/plain": [
       "<IPython.lib.display.Audio object>"
      ]
     },
     "metadata": {},
     "output_type": "display_data"
    },
    {
     "data": {
      "text/markdown": [
       "\n",
       "\n",
       " ___"
      ],
      "text/plain": [
       "<IPython.core.display.Markdown object>"
      ]
     },
     "metadata": {},
     "output_type": "display_data"
    },
    {
     "data": {
      "text/markdown": [
       "**Text:** \"Fanny had returned, screaming up-stairs as if pursued at every step, and had thrown herself in hysterical sobbing on the sofa.\""
      ],
      "text/plain": [
       "<IPython.core.display.Markdown object>"
      ]
     },
     "metadata": {},
     "output_type": "display_data"
    },
    {
     "data": {
      "text/html": [
       "<a href='../../data/M-AILABS/en_US/by_book/female/mary_ann/northandsouth/wavs/pad(rate(guard(northandsouth_22_f000030),24000)).npy' target='_blank'>../../data/M-AILABS/en_US/by_book/female/mary_ann/northandsouth/wavs/pad(rate(guard(northandsouth_22_f000030),24000)).npy</a><br>"
      ],
      "text/plain": [
       "/Users/michaelp/Code/Tacotron-2/data/M-AILABS/en_US/by_book/female/mary_ann/northandsouth/wavs/pad(rate(guard(northandsouth_22_f000030),24000)).npy"
      ]
     },
     "metadata": {},
     "output_type": "display_data"
    },
    {
     "data": {
      "text/html": [
       "\n",
       "                <audio controls=\"controls\" >\n",
       "                    <source />\n",
       "                    Your browser does not support the audio element.\n",
       "                </audio>\n",
       "              "
      ],
      "text/plain": [
       "<IPython.lib.display.Audio object>"
      ]
     },
     "metadata": {},
     "output_type": "display_data"
    },
    {
     "data": {
      "text/markdown": [
       "\n",
       "\n",
       " ___"
      ],
      "text/plain": [
       "<IPython.core.display.Markdown object>"
      ]
     },
     "metadata": {},
     "output_type": "display_data"
    },
    {
     "data": {
      "text/markdown": [
       "**Text:** \"I have never thought of-you, but as a friend. I like to think of you so; but I am sure I could never think of you as anything else.\""
      ],
      "text/plain": [
       "<IPython.core.display.Markdown object>"
      ]
     },
     "metadata": {},
     "output_type": "display_data"
    },
    {
     "data": {
      "text/html": [
       "<a href='../../data/M-AILABS/en_US/by_book/female/mary_ann/northandsouth/wavs/pad(rate(guard(northandsouth_03_f000157),24000)).npy' target='_blank'>../../data/M-AILABS/en_US/by_book/female/mary_ann/northandsouth/wavs/pad(rate(guard(northandsouth_03_f000157),24000)).npy</a><br>"
      ],
      "text/plain": [
       "/Users/michaelp/Code/Tacotron-2/data/M-AILABS/en_US/by_book/female/mary_ann/northandsouth/wavs/pad(rate(guard(northandsouth_03_f000157),24000)).npy"
      ]
     },
     "metadata": {},
     "output_type": "display_data"
    },
    {
     "data": {
      "text/html": [
       "\n",
       "                <audio controls=\"controls\" >\n",
       "                    <source />\n",
       "                    Your browser does not support the audio element.\n",
       "                </audio>\n",
       "              "
      ],
      "text/plain": [
       "<IPython.lib.display.Audio object>"
      ]
     },
     "metadata": {},
     "output_type": "display_data"
    },
    {
     "data": {
      "text/markdown": [
       "\n",
       "\n",
       " ___"
      ],
      "text/plain": [
       "<IPython.core.display.Markdown object>"
      ]
     },
     "metadata": {},
     "output_type": "display_data"
    },
    {
     "data": {
      "text/markdown": [
       "**Text:** \"It had been looking at her for some time, and it nodded its head and said, Caw! caw! good day. Then it asked the little girl why she was alone in the world.\""
      ],
      "text/plain": [
       "<IPython.core.display.Markdown object>"
      ]
     },
     "metadata": {},
     "output_type": "display_data"
    },
    {
     "data": {
      "text/html": [
       "<a href='../../data/M-AILABS/en_US/by_book/male/elliot_miller/pink_fairy_book/wavs/pad(rate(guard(pink_fairy_book_12_f000117),24000)).npy' target='_blank'>../../data/M-AILABS/en_US/by_book/male/elliot_miller/pink_fairy_book/wavs/pad(rate(guard(pink_fairy_book_12_f000117),24000)).npy</a><br>"
      ],
      "text/plain": [
       "/Users/michaelp/Code/Tacotron-2/data/M-AILABS/en_US/by_book/male/elliot_miller/pink_fairy_book/wavs/pad(rate(guard(pink_fairy_book_12_f000117),24000)).npy"
      ]
     },
     "metadata": {},
     "output_type": "display_data"
    },
    {
     "data": {
      "text/html": [
       "\n",
       "                <audio controls=\"controls\" >\n",
       "                    <source />\n",
       "                    Your browser does not support the audio element.\n",
       "                </audio>\n",
       "              "
      ],
      "text/plain": [
       "<IPython.lib.display.Audio object>"
      ]
     },
     "metadata": {},
     "output_type": "display_data"
    },
    {
     "data": {
      "text/markdown": [
       "\n",
       "\n",
       " ___"
      ],
      "text/plain": [
       "<IPython.core.display.Markdown object>"
      ]
     },
     "metadata": {},
     "output_type": "display_data"
    },
    {
     "data": {
      "text/markdown": [
       "**Text:** \"She was more roused by a letter from Edith, full of sympathy about her aunts death;\""
      ],
      "text/plain": [
       "<IPython.core.display.Markdown object>"
      ]
     },
     "metadata": {},
     "output_type": "display_data"
    },
    {
     "data": {
      "text/html": [
       "<a href='../../data/M-AILABS/en_US/by_book/female/mary_ann/northandsouth/wavs/pad(rate(guard(northandsouth_39_f000170),24000)).npy' target='_blank'>../../data/M-AILABS/en_US/by_book/female/mary_ann/northandsouth/wavs/pad(rate(guard(northandsouth_39_f000170),24000)).npy</a><br>"
      ],
      "text/plain": [
       "/Users/michaelp/Code/Tacotron-2/data/M-AILABS/en_US/by_book/female/mary_ann/northandsouth/wavs/pad(rate(guard(northandsouth_39_f000170),24000)).npy"
      ]
     },
     "metadata": {},
     "output_type": "display_data"
    },
    {
     "data": {
      "text/html": [
       "\n",
       "                <audio controls=\"controls\" >\n",
       "                    <source />\n",
       "                    Your browser does not support the audio element.\n",
       "                </audio>\n",
       "              "
      ],
      "text/plain": [
       "<IPython.lib.display.Audio object>"
      ]
     },
     "metadata": {},
     "output_type": "display_data"
    },
    {
     "data": {
      "text/markdown": [
       "\n",
       "\n",
       " ___"
      ],
      "text/plain": [
       "<IPython.core.display.Markdown object>"
      ]
     },
     "metadata": {},
     "output_type": "display_data"
    },
    {
     "data": {
      "text/markdown": [
       "**Text:** \"Yes, said Inga. I have searched everywhere in the room, and cannot find it.\""
      ],
      "text/plain": [
       "<IPython.core.display.Markdown object>"
      ]
     },
     "metadata": {},
     "output_type": "display_data"
    },
    {
     "data": {
      "text/html": [
       "<a href='../../data/M-AILABS/en_US/by_book/female/judy_bieber/rinkitink_in_oz/wavs/pad(rate(guard(rinkitink_baum_08_64kb_f000060),24000)).npy' target='_blank'>../../data/M-AILABS/en_US/by_book/female/judy_bieber/rinkitink_in_oz/wavs/pad(rate(guard(rinkitink_baum_08_64kb_f000060),24000)).npy</a><br>"
      ],
      "text/plain": [
       "/Users/michaelp/Code/Tacotron-2/data/M-AILABS/en_US/by_book/female/judy_bieber/rinkitink_in_oz/wavs/pad(rate(guard(rinkitink_baum_08_64kb_f000060),24000)).npy"
      ]
     },
     "metadata": {},
     "output_type": "display_data"
    },
    {
     "data": {
      "text/html": [
       "\n",
       "                <audio controls=\"controls\" >\n",
       "                    <source />\n",
       "                    Your browser does not support the audio element.\n",
       "                </audio>\n",
       "              "
      ],
      "text/plain": [
       "<IPython.lib.display.Audio object>"
      ]
     },
     "metadata": {},
     "output_type": "display_data"
    },
    {
     "data": {
      "text/markdown": [
       "\n",
       "\n",
       " ___"
      ],
      "text/plain": [
       "<IPython.core.display.Markdown object>"
      ]
     },
     "metadata": {},
     "output_type": "display_data"
    },
    {
     "data": {
      "text/markdown": [
       "**Text:** \"I couldnt refuse, that would have put a very bad face on it.\""
      ],
      "text/plain": [
       "<IPython.core.display.Markdown object>"
      ]
     },
     "metadata": {},
     "output_type": "display_data"
    },
    {
     "data": {
      "text/html": [
       "<a href='../../data/M-AILABS/en_US/by_book/male/elliot_miller/silent_bullet/wavs/pad(rate(guard(silent_bullet_09_f000037),24000)).npy' target='_blank'>../../data/M-AILABS/en_US/by_book/male/elliot_miller/silent_bullet/wavs/pad(rate(guard(silent_bullet_09_f000037),24000)).npy</a><br>"
      ],
      "text/plain": [
       "/Users/michaelp/Code/Tacotron-2/data/M-AILABS/en_US/by_book/male/elliot_miller/silent_bullet/wavs/pad(rate(guard(silent_bullet_09_f000037),24000)).npy"
      ]
     },
     "metadata": {},
     "output_type": "display_data"
    },
    {
     "data": {
      "text/html": [
       "\n",
       "                <audio controls=\"controls\" >\n",
       "                    <source />\n",
       "                    Your browser does not support the audio element.\n",
       "                </audio>\n",
       "              "
      ],
      "text/plain": [
       "<IPython.lib.display.Audio object>"
      ]
     },
     "metadata": {},
     "output_type": "display_data"
    },
    {
     "data": {
      "text/markdown": [
       "\n",
       "\n",
       " ___"
      ],
      "text/plain": [
       "<IPython.core.display.Markdown object>"
      ]
     },
     "metadata": {},
     "output_type": "display_data"
    },
    {
     "data": {
      "text/markdown": [
       "**Text:** \"Just then a loud laugh came from another group, where the elder sailor had been trying to explain Rob's method of flying through the air.\""
      ],
      "text/plain": [
       "<IPython.core.display.Markdown object>"
      ]
     },
     "metadata": {},
     "output_type": "display_data"
    },
    {
     "data": {
      "text/html": [
       "<a href='../../data/M-AILABS/en_US/by_book/female/judy_bieber/the_master_key/wavs/pad(rate(guard(the_master_key_17_f000026),24000)).npy' target='_blank'>../../data/M-AILABS/en_US/by_book/female/judy_bieber/the_master_key/wavs/pad(rate(guard(the_master_key_17_f000026),24000)).npy</a><br>"
      ],
      "text/plain": [
       "/Users/michaelp/Code/Tacotron-2/data/M-AILABS/en_US/by_book/female/judy_bieber/the_master_key/wavs/pad(rate(guard(the_master_key_17_f000026),24000)).npy"
      ]
     },
     "metadata": {},
     "output_type": "display_data"
    },
    {
     "data": {
      "text/html": [
       "\n",
       "                <audio controls=\"controls\" >\n",
       "                    <source />\n",
       "                    Your browser does not support the audio element.\n",
       "                </audio>\n",
       "              "
      ],
      "text/plain": [
       "<IPython.lib.display.Audio object>"
      ]
     },
     "metadata": {},
     "output_type": "display_data"
    },
    {
     "data": {
      "text/markdown": [
       "\n",
       "\n",
       " ___"
      ],
      "text/plain": [
       "<IPython.core.display.Markdown object>"
      ]
     },
     "metadata": {},
     "output_type": "display_data"
    },
    {
     "data": {
      "text/markdown": [
       "**Text:** \"And then, with a sinking heart, he essayed to gain some connected story of the Magyar songbird's grave peril.\""
      ],
      "text/plain": [
       "<IPython.core.display.Markdown object>"
      ]
     },
     "metadata": {},
     "output_type": "display_data"
    },
    {
     "data": {
      "text/html": [
       "<a href='../../data/M-AILABS/en_US/by_book/female/mary_ann/midnight_passenger/wavs/pad(rate(guard(midnight_passenger_07_f000256),24000)).npy' target='_blank'>../../data/M-AILABS/en_US/by_book/female/mary_ann/midnight_passenger/wavs/pad(rate(guard(midnight_passenger_07_f000256),24000)).npy</a><br>"
      ],
      "text/plain": [
       "/Users/michaelp/Code/Tacotron-2/data/M-AILABS/en_US/by_book/female/mary_ann/midnight_passenger/wavs/pad(rate(guard(midnight_passenger_07_f000256),24000)).npy"
      ]
     },
     "metadata": {},
     "output_type": "display_data"
    },
    {
     "data": {
      "text/html": [
       "\n",
       "                <audio controls=\"controls\" >\n",
       "                    <source />\n",
       "                    Your browser does not support the audio element.\n",
       "                </audio>\n",
       "              "
      ],
      "text/plain": [
       "<IPython.lib.display.Audio object>"
      ]
     },
     "metadata": {},
     "output_type": "display_data"
    },
    {
     "data": {
      "text/markdown": [
       "\n",
       "\n",
       " ___"
      ],
      "text/plain": [
       "<IPython.core.display.Markdown object>"
      ]
     },
     "metadata": {},
     "output_type": "display_data"
    },
    {
     "data": {
      "text/markdown": [
       "**Text:** \"No, said Kennedy, believe me, there is a mental statute of limitations that as far as Jameson and myself are concerned has already erased this affair.\""
      ],
      "text/plain": [
       "<IPython.core.display.Markdown object>"
      ]
     },
     "metadata": {},
     "output_type": "display_data"
    },
    {
     "data": {
      "text/html": [
       "<a href='../../data/M-AILABS/en_US/by_book/male/elliot_miller/silent_bullet/wavs/pad(rate(guard(silent_bullet_03_f000305),24000)).npy' target='_blank'>../../data/M-AILABS/en_US/by_book/male/elliot_miller/silent_bullet/wavs/pad(rate(guard(silent_bullet_03_f000305),24000)).npy</a><br>"
      ],
      "text/plain": [
       "/Users/michaelp/Code/Tacotron-2/data/M-AILABS/en_US/by_book/male/elliot_miller/silent_bullet/wavs/pad(rate(guard(silent_bullet_03_f000305),24000)).npy"
      ]
     },
     "metadata": {},
     "output_type": "display_data"
    },
    {
     "data": {
      "text/html": [
       "\n",
       "                <audio controls=\"controls\" >\n",
       "                    <source />\n",
       "                    Your browser does not support the audio element.\n",
       "                </audio>\n",
       "              "
      ],
      "text/plain": [
       "<IPython.lib.display.Audio object>"
      ]
     },
     "metadata": {},
     "output_type": "display_data"
    },
    {
     "data": {
      "text/markdown": [
       "\n",
       "\n",
       " ___"
      ],
      "text/plain": [
       "<IPython.core.display.Markdown object>"
      ]
     },
     "metadata": {},
     "output_type": "display_data"
    },
    {
     "data": {
      "text/markdown": [
       "**Text:** \"The prince answered that his errand was too important to be confided to everyone that he met.\""
      ],
      "text/plain": [
       "<IPython.core.display.Markdown object>"
      ]
     },
     "metadata": {},
     "output_type": "display_data"
    },
    {
     "data": {
      "text/html": [
       "<a href='../../data/M-AILABS/en_US/by_book/male/elliot_miller/pink_fairy_book/wavs/pad(rate(guard(pink_fairy_book_16_f000040),24000)).npy' target='_blank'>../../data/M-AILABS/en_US/by_book/male/elliot_miller/pink_fairy_book/wavs/pad(rate(guard(pink_fairy_book_16_f000040),24000)).npy</a><br>"
      ],
      "text/plain": [
       "/Users/michaelp/Code/Tacotron-2/data/M-AILABS/en_US/by_book/male/elliot_miller/pink_fairy_book/wavs/pad(rate(guard(pink_fairy_book_16_f000040),24000)).npy"
      ]
     },
     "metadata": {},
     "output_type": "display_data"
    },
    {
     "data": {
      "text/html": [
       "\n",
       "                <audio controls=\"controls\" >\n",
       "                    <source />\n",
       "                    Your browser does not support the audio element.\n",
       "                </audio>\n",
       "              "
      ],
      "text/plain": [
       "<IPython.lib.display.Audio object>"
      ]
     },
     "metadata": {},
     "output_type": "display_data"
    },
    {
     "data": {
      "text/markdown": [
       "\n",
       "\n",
       " ___"
      ],
      "text/plain": [
       "<IPython.core.display.Markdown object>"
      ]
     },
     "metadata": {},
     "output_type": "display_data"
    },
    {
     "data": {
      "text/markdown": [
       "**Text:** \"Tom leaned over my shoulder and read it to himself. For Heavens sake, Jameson, he cried, let the ladies retire before you read the name.\""
      ],
      "text/plain": [
       "<IPython.core.display.Markdown object>"
      ]
     },
     "metadata": {},
     "output_type": "display_data"
    },
    {
     "data": {
      "text/html": [
       "<a href='../../data/M-AILABS/en_US/by_book/male/elliot_miller/silent_bullet/wavs/pad(rate(guard(silent_bullet_09_f000317),24000)).npy' target='_blank'>../../data/M-AILABS/en_US/by_book/male/elliot_miller/silent_bullet/wavs/pad(rate(guard(silent_bullet_09_f000317),24000)).npy</a><br>"
      ],
      "text/plain": [
       "/Users/michaelp/Code/Tacotron-2/data/M-AILABS/en_US/by_book/male/elliot_miller/silent_bullet/wavs/pad(rate(guard(silent_bullet_09_f000317),24000)).npy"
      ]
     },
     "metadata": {},
     "output_type": "display_data"
    },
    {
     "data": {
      "text/html": [
       "\n",
       "                <audio controls=\"controls\" >\n",
       "                    <source />\n",
       "                    Your browser does not support the audio element.\n",
       "                </audio>\n",
       "              "
      ],
      "text/plain": [
       "<IPython.lib.display.Audio object>"
      ]
     },
     "metadata": {},
     "output_type": "display_data"
    },
    {
     "data": {
      "text/markdown": [
       "\n",
       "\n",
       " ___"
      ],
      "text/plain": [
       "<IPython.core.display.Markdown object>"
      ]
     },
     "metadata": {},
     "output_type": "display_data"
    },
    {
     "data": {
      "text/markdown": [
       "**Text:** \"Uncle Sam is little better than a pickpocket. Besides, I cans I wait here all day. My partner is waiting for me uptown.\""
      ],
      "text/plain": [
       "<IPython.core.display.Markdown object>"
      ]
     },
     "metadata": {},
     "output_type": "display_data"
    },
    {
     "data": {
      "text/html": [
       "<a href='../../data/M-AILABS/en_US/by_book/male/elliot_miller/poisoned_pen/wavs/pad(rate(guard(poisoned_pen_10_f000169),24000)).npy' target='_blank'>../../data/M-AILABS/en_US/by_book/male/elliot_miller/poisoned_pen/wavs/pad(rate(guard(poisoned_pen_10_f000169),24000)).npy</a><br>"
      ],
      "text/plain": [
       "/Users/michaelp/Code/Tacotron-2/data/M-AILABS/en_US/by_book/male/elliot_miller/poisoned_pen/wavs/pad(rate(guard(poisoned_pen_10_f000169),24000)).npy"
      ]
     },
     "metadata": {},
     "output_type": "display_data"
    },
    {
     "data": {
      "text/html": [
       "\n",
       "                <audio controls=\"controls\" >\n",
       "                    <source />\n",
       "                    Your browser does not support the audio element.\n",
       "                </audio>\n",
       "              "
      ],
      "text/plain": [
       "<IPython.lib.display.Audio object>"
      ]
     },
     "metadata": {},
     "output_type": "display_data"
    },
    {
     "data": {
      "text/markdown": [
       "\n",
       "\n",
       " ___"
      ],
      "text/plain": [
       "<IPython.core.display.Markdown object>"
      ]
     },
     "metadata": {},
     "output_type": "display_data"
    },
    {
     "data": {
      "text/markdown": [
       "**Text:** \"Ill go and take a dish o tea with him, since yove asked me.\""
      ],
      "text/plain": [
       "<IPython.core.display.Markdown object>"
      ]
     },
     "metadata": {},
     "output_type": "display_data"
    },
    {
     "data": {
      "text/html": [
       "<a href='../../data/M-AILABS/en_US/by_book/female/mary_ann/northandsouth/wavs/pad(rate(guard(northandsouth_28_f000089),24000)).npy' target='_blank'>../../data/M-AILABS/en_US/by_book/female/mary_ann/northandsouth/wavs/pad(rate(guard(northandsouth_28_f000089),24000)).npy</a><br>"
      ],
      "text/plain": [
       "/Users/michaelp/Code/Tacotron-2/data/M-AILABS/en_US/by_book/female/mary_ann/northandsouth/wavs/pad(rate(guard(northandsouth_28_f000089),24000)).npy"
      ]
     },
     "metadata": {},
     "output_type": "display_data"
    },
    {
     "data": {
      "text/html": [
       "\n",
       "                <audio controls=\"controls\" >\n",
       "                    <source />\n",
       "                    Your browser does not support the audio element.\n",
       "                </audio>\n",
       "              "
      ],
      "text/plain": [
       "<IPython.lib.display.Audio object>"
      ]
     },
     "metadata": {},
     "output_type": "display_data"
    },
    {
     "data": {
      "text/markdown": [
       "\n",
       "\n",
       " ___"
      ],
      "text/plain": [
       "<IPython.core.display.Markdown object>"
      ]
     },
     "metadata": {},
     "output_type": "display_data"
    },
    {
     "data": {
      "text/markdown": [
       "**Text:** \"creepy place in spite of all its magnificence.\""
      ],
      "text/plain": [
       "<IPython.core.display.Markdown object>"
      ]
     },
     "metadata": {},
     "output_type": "display_data"
    },
    {
     "data": {
      "text/html": [
       "<a href='../../data/M-AILABS/en_US/by_book/female/judy_bieber/ozma_of_oz/wavs/pad(rate(guard(ozma_of_oz_13_f000005),24000)).npy' target='_blank'>../../data/M-AILABS/en_US/by_book/female/judy_bieber/ozma_of_oz/wavs/pad(rate(guard(ozma_of_oz_13_f000005),24000)).npy</a><br>"
      ],
      "text/plain": [
       "/Users/michaelp/Code/Tacotron-2/data/M-AILABS/en_US/by_book/female/judy_bieber/ozma_of_oz/wavs/pad(rate(guard(ozma_of_oz_13_f000005),24000)).npy"
      ]
     },
     "metadata": {},
     "output_type": "display_data"
    },
    {
     "data": {
      "text/html": [
       "\n",
       "                <audio controls=\"controls\" >\n",
       "                    <source />\n",
       "                    Your browser does not support the audio element.\n",
       "                </audio>\n",
       "              "
      ],
      "text/plain": [
       "<IPython.lib.display.Audio object>"
      ]
     },
     "metadata": {},
     "output_type": "display_data"
    },
    {
     "data": {
      "text/markdown": [
       "\n",
       "\n",
       " ___"
      ],
      "text/plain": [
       "<IPython.core.display.Markdown object>"
      ]
     },
     "metadata": {},
     "output_type": "display_data"
    },
    {
     "data": {
      "text/markdown": [
       "**Text:** \"I dont know anything about it. I thought the deal was off.\""
      ],
      "text/plain": [
       "<IPython.core.display.Markdown object>"
      ]
     },
     "metadata": {},
     "output_type": "display_data"
    },
    {
     "data": {
      "text/html": [
       "<a href='../../data/M-AILABS/en_US/by_book/male/elliot_miller/silent_bullet/wavs/pad(rate(guard(silent_bullet_07_f000112),24000)).npy' target='_blank'>../../data/M-AILABS/en_US/by_book/male/elliot_miller/silent_bullet/wavs/pad(rate(guard(silent_bullet_07_f000112),24000)).npy</a><br>"
      ],
      "text/plain": [
       "/Users/michaelp/Code/Tacotron-2/data/M-AILABS/en_US/by_book/male/elliot_miller/silent_bullet/wavs/pad(rate(guard(silent_bullet_07_f000112),24000)).npy"
      ]
     },
     "metadata": {},
     "output_type": "display_data"
    },
    {
     "data": {
      "text/html": [
       "\n",
       "                <audio controls=\"controls\" >\n",
       "                    <source />\n",
       "                    Your browser does not support the audio element.\n",
       "                </audio>\n",
       "              "
      ],
      "text/plain": [
       "<IPython.lib.display.Audio object>"
      ]
     },
     "metadata": {},
     "output_type": "display_data"
    },
    {
     "data": {
      "text/markdown": [
       "\n",
       "\n",
       " ___"
      ],
      "text/plain": [
       "<IPython.core.display.Markdown object>"
      ]
     },
     "metadata": {},
     "output_type": "display_data"
    },
    {
     "data": {
      "text/markdown": [
       "**Text:** \"Where are they going? What will happen to them?\""
      ],
      "text/plain": [
       "<IPython.core.display.Markdown object>"
      ]
     },
     "metadata": {},
     "output_type": "display_data"
    },
    {
     "data": {
      "text/html": [
       "<a href='../../data/M-AILABS/en_US/by_book/male/elliot_miller/pink_fairy_book/wavs/pad(rate(guard(pink_fairy_book_13_f000016),24000)).npy' target='_blank'>../../data/M-AILABS/en_US/by_book/male/elliot_miller/pink_fairy_book/wavs/pad(rate(guard(pink_fairy_book_13_f000016),24000)).npy</a><br>"
      ],
      "text/plain": [
       "/Users/michaelp/Code/Tacotron-2/data/M-AILABS/en_US/by_book/male/elliot_miller/pink_fairy_book/wavs/pad(rate(guard(pink_fairy_book_13_f000016),24000)).npy"
      ]
     },
     "metadata": {},
     "output_type": "display_data"
    },
    {
     "data": {
      "text/html": [
       "\n",
       "                <audio controls=\"controls\" >\n",
       "                    <source />\n",
       "                    Your browser does not support the audio element.\n",
       "                </audio>\n",
       "              "
      ],
      "text/plain": [
       "<IPython.lib.display.Audio object>"
      ]
     },
     "metadata": {},
     "output_type": "display_data"
    },
    {
     "data": {
      "text/markdown": [
       "\n",
       "\n",
       " ___"
      ],
      "text/plain": [
       "<IPython.core.display.Markdown object>"
      ]
     },
     "metadata": {},
     "output_type": "display_data"
    },
    {
     "data": {
      "text/markdown": [
       "**Text:** \"Forget him, Alice, the old man sternly said.\""
      ],
      "text/plain": [
       "<IPython.core.display.Markdown object>"
      ]
     },
     "metadata": {},
     "output_type": "display_data"
    },
    {
     "data": {
      "text/html": [
       "<a href='../../data/M-AILABS/en_US/by_book/female/mary_ann/midnight_passenger/wavs/pad(rate(guard(midnight_passenger_05_f000256),24000)).npy' target='_blank'>../../data/M-AILABS/en_US/by_book/female/mary_ann/midnight_passenger/wavs/pad(rate(guard(midnight_passenger_05_f000256),24000)).npy</a><br>"
      ],
      "text/plain": [
       "/Users/michaelp/Code/Tacotron-2/data/M-AILABS/en_US/by_book/female/mary_ann/midnight_passenger/wavs/pad(rate(guard(midnight_passenger_05_f000256),24000)).npy"
      ]
     },
     "metadata": {},
     "output_type": "display_data"
    },
    {
     "data": {
      "text/html": [
       "\n",
       "                <audio controls=\"controls\" >\n",
       "                    <source />\n",
       "                    Your browser does not support the audio element.\n",
       "                </audio>\n",
       "              "
      ],
      "text/plain": [
       "<IPython.lib.display.Audio object>"
      ]
     },
     "metadata": {},
     "output_type": "display_data"
    },
    {
     "data": {
      "text/markdown": [
       "\n",
       "\n",
       " ___"
      ],
      "text/plain": [
       "<IPython.core.display.Markdown object>"
      ]
     },
     "metadata": {},
     "output_type": "display_data"
    },
    {
     "data": {
      "text/markdown": [
       "**Text:** \"Daughter with him since four A.M. Full Associated Press reports later.\""
      ],
      "text/plain": [
       "<IPython.core.display.Markdown object>"
      ]
     },
     "metadata": {},
     "output_type": "display_data"
    },
    {
     "data": {
      "text/html": [
       "<a href='../../data/M-AILABS/en_US/by_book/female/mary_ann/midnight_passenger/wavs/pad(rate(guard(midnight_passenger_10_f000104),24000)).npy' target='_blank'>../../data/M-AILABS/en_US/by_book/female/mary_ann/midnight_passenger/wavs/pad(rate(guard(midnight_passenger_10_f000104),24000)).npy</a><br>"
      ],
      "text/plain": [
       "/Users/michaelp/Code/Tacotron-2/data/M-AILABS/en_US/by_book/female/mary_ann/midnight_passenger/wavs/pad(rate(guard(midnight_passenger_10_f000104),24000)).npy"
      ]
     },
     "metadata": {},
     "output_type": "display_data"
    },
    {
     "data": {
      "text/html": [
       "\n",
       "                <audio controls=\"controls\" >\n",
       "                    <source />\n",
       "                    Your browser does not support the audio element.\n",
       "                </audio>\n",
       "              "
      ],
      "text/plain": [
       "<IPython.lib.display.Audio object>"
      ]
     },
     "metadata": {},
     "output_type": "display_data"
    },
    {
     "data": {
      "text/markdown": [
       "\n",
       "\n",
       " ___"
      ],
      "text/plain": [
       "<IPython.core.display.Markdown object>"
      ]
     },
     "metadata": {},
     "output_type": "display_data"
    },
    {
     "data": {
      "text/markdown": [
       "**Text:** \"but the family of the charcoal burner was surrounded by many creatures scarcely less dangerous to encounter, and often in the night they could hear savage animals growling and prowling about the cabin.\""
      ],
      "text/plain": [
       "<IPython.core.display.Markdown object>"
      ]
     },
     "metadata": {},
     "output_type": "display_data"
    },
    {
     "data": {
      "text/html": [
       "<a href='../../data/M-AILABS/en_US/by_book/female/judy_bieber/rinkitink_in_oz/wavs/pad(rate(guard(rinkitink_baum_11_64kb_f000007),24000)).npy' target='_blank'>../../data/M-AILABS/en_US/by_book/female/judy_bieber/rinkitink_in_oz/wavs/pad(rate(guard(rinkitink_baum_11_64kb_f000007),24000)).npy</a><br>"
      ],
      "text/plain": [
       "/Users/michaelp/Code/Tacotron-2/data/M-AILABS/en_US/by_book/female/judy_bieber/rinkitink_in_oz/wavs/pad(rate(guard(rinkitink_baum_11_64kb_f000007),24000)).npy"
      ]
     },
     "metadata": {},
     "output_type": "display_data"
    },
    {
     "data": {
      "text/html": [
       "\n",
       "                <audio controls=\"controls\" >\n",
       "                    <source />\n",
       "                    Your browser does not support the audio element.\n",
       "                </audio>\n",
       "              "
      ],
      "text/plain": [
       "<IPython.lib.display.Audio object>"
      ]
     },
     "metadata": {},
     "output_type": "display_data"
    },
    {
     "data": {
      "text/markdown": [
       "\n",
       "\n",
       " ___"
      ],
      "text/plain": [
       "<IPython.core.display.Markdown object>"
      ]
     },
     "metadata": {},
     "output_type": "display_data"
    },
    {
     "data": {
      "text/markdown": [
       "**Text:** \"and his vests were richly embroidered with colored silks.\""
      ],
      "text/plain": [
       "<IPython.core.display.Markdown object>"
      ]
     },
     "metadata": {},
     "output_type": "display_data"
    },
    {
     "data": {
      "text/html": [
       "<a href='../../data/M-AILABS/en_US/by_book/female/judy_bieber/emerald_city_of_oz/wavs/pad(rate(guard(emerald_city_of_oz_07_f000023),24000)).npy' target='_blank'>../../data/M-AILABS/en_US/by_book/female/judy_bieber/emerald_city_of_oz/wavs/pad(rate(guard(emerald_city_of_oz_07_f000023),24000)).npy</a><br>"
      ],
      "text/plain": [
       "/Users/michaelp/Code/Tacotron-2/data/M-AILABS/en_US/by_book/female/judy_bieber/emerald_city_of_oz/wavs/pad(rate(guard(emerald_city_of_oz_07_f000023),24000)).npy"
      ]
     },
     "metadata": {},
     "output_type": "display_data"
    },
    {
     "data": {
      "text/html": [
       "\n",
       "                <audio controls=\"controls\" >\n",
       "                    <source />\n",
       "                    Your browser does not support the audio element.\n",
       "                </audio>\n",
       "              "
      ],
      "text/plain": [
       "<IPython.lib.display.Audio object>"
      ]
     },
     "metadata": {},
     "output_type": "display_data"
    },
    {
     "data": {
      "text/markdown": [
       "\n",
       "\n",
       " ___"
      ],
      "text/plain": [
       "<IPython.core.display.Markdown object>"
      ]
     },
     "metadata": {},
     "output_type": "display_data"
    },
    {
     "data": {
      "text/markdown": [
       "**Text:** \"A cop handed Hoddan a garment. He put it on. He became aware that the cop was scared. So was Derec. Everybody in the room was scared except himself.\""
      ],
      "text/plain": [
       "<IPython.core.display.Markdown object>"
      ]
     },
     "metadata": {},
     "output_type": "display_data"
    },
    {
     "data": {
      "text/html": [
       "<a href='../../data/M-AILABS/en_US/by_book/male/elliot_miller/pirates_of_ersatz/wavs/pad(rate(guard(piratesofersatz_01_leinster_64kb_f000045),24000)).npy' target='_blank'>../../data/M-AILABS/en_US/by_book/male/elliot_miller/pirates_of_ersatz/wavs/pad(rate(guard(piratesofersatz_01_leinster_64kb_f000045),24000)).npy</a><br>"
      ],
      "text/plain": [
       "/Users/michaelp/Code/Tacotron-2/data/M-AILABS/en_US/by_book/male/elliot_miller/pirates_of_ersatz/wavs/pad(rate(guard(piratesofersatz_01_leinster_64kb_f000045),24000)).npy"
      ]
     },
     "metadata": {},
     "output_type": "display_data"
    },
    {
     "data": {
      "text/html": [
       "\n",
       "                <audio controls=\"controls\" >\n",
       "                    <source />\n",
       "                    Your browser does not support the audio element.\n",
       "                </audio>\n",
       "              "
      ],
      "text/plain": [
       "<IPython.lib.display.Audio object>"
      ]
     },
     "metadata": {},
     "output_type": "display_data"
    },
    {
     "data": {
      "text/markdown": [
       "\n",
       "\n",
       " ___"
      ],
      "text/plain": [
       "<IPython.core.display.Markdown object>"
      ]
     },
     "metadata": {},
     "output_type": "display_data"
    },
    {
     "data": {
      "text/markdown": [
       "**Text:** \"There is no ruler, was the answer, because every member of the royal family is imprisoned by the Nome King. But the Princess Langwidere, who is a niece of our late King Evoldo,\""
      ],
      "text/plain": [
       "<IPython.core.display.Markdown object>"
      ]
     },
     "metadata": {},
     "output_type": "display_data"
    },
    {
     "data": {
      "text/html": [
       "<a href='../../data/M-AILABS/en_US/by_book/female/judy_bieber/ozma_of_oz/wavs/pad(rate(guard(ozma_of_oz_06_f000048),24000)).npy' target='_blank'>../../data/M-AILABS/en_US/by_book/female/judy_bieber/ozma_of_oz/wavs/pad(rate(guard(ozma_of_oz_06_f000048),24000)).npy</a><br>"
      ],
      "text/plain": [
       "/Users/michaelp/Code/Tacotron-2/data/M-AILABS/en_US/by_book/female/judy_bieber/ozma_of_oz/wavs/pad(rate(guard(ozma_of_oz_06_f000048),24000)).npy"
      ]
     },
     "metadata": {},
     "output_type": "display_data"
    },
    {
     "data": {
      "text/html": [
       "\n",
       "                <audio controls=\"controls\" >\n",
       "                    <source />\n",
       "                    Your browser does not support the audio element.\n",
       "                </audio>\n",
       "              "
      ],
      "text/plain": [
       "<IPython.lib.display.Audio object>"
      ]
     },
     "metadata": {},
     "output_type": "display_data"
    },
    {
     "data": {
      "text/markdown": [
       "\n",
       "\n",
       " ___"
      ],
      "text/plain": [
       "<IPython.core.display.Markdown object>"
      ]
     },
     "metadata": {},
     "output_type": "display_data"
    },
    {
     "data": {
      "text/markdown": [
       "**Text:** \"To soothe and sympathise.\""
      ],
      "text/plain": [
       "<IPython.core.display.Markdown object>"
      ]
     },
     "metadata": {},
     "output_type": "display_data"
    },
    {
     "data": {
      "text/html": [
       "<a href='../../data/M-AILABS/en_US/by_book/female/mary_ann/northandsouth/wavs/pad(rate(guard(northandsouth_05_f000007),24000)).npy' target='_blank'>../../data/M-AILABS/en_US/by_book/female/mary_ann/northandsouth/wavs/pad(rate(guard(northandsouth_05_f000007),24000)).npy</a><br>"
      ],
      "text/plain": [
       "/Users/michaelp/Code/Tacotron-2/data/M-AILABS/en_US/by_book/female/mary_ann/northandsouth/wavs/pad(rate(guard(northandsouth_05_f000007),24000)).npy"
      ]
     },
     "metadata": {},
     "output_type": "display_data"
    },
    {
     "data": {
      "text/html": [
       "\n",
       "                <audio controls=\"controls\" >\n",
       "                    <source />\n",
       "                    Your browser does not support the audio element.\n",
       "                </audio>\n",
       "              "
      ],
      "text/plain": [
       "<IPython.lib.display.Audio object>"
      ]
     },
     "metadata": {},
     "output_type": "display_data"
    },
    {
     "data": {
      "text/markdown": [
       "\n",
       "\n",
       " ___"
      ],
      "text/plain": [
       "<IPython.core.display.Markdown object>"
      ]
     },
     "metadata": {},
     "output_type": "display_data"
    },
    {
     "data": {
      "text/markdown": [
       "**Text:** \"which her husband, who was, unknown to her, a magician, put on when he was at work;\""
      ],
      "text/plain": [
       "<IPython.core.display.Markdown object>"
      ]
     },
     "metadata": {},
     "output_type": "display_data"
    },
    {
     "data": {
      "text/html": [
       "<a href='../../data/M-AILABS/en_US/by_book/male/elliot_miller/pink_fairy_book/wavs/pad(rate(guard(pink_fairy_book_29_f000018),24000)).npy' target='_blank'>../../data/M-AILABS/en_US/by_book/male/elliot_miller/pink_fairy_book/wavs/pad(rate(guard(pink_fairy_book_29_f000018),24000)).npy</a><br>"
      ],
      "text/plain": [
       "/Users/michaelp/Code/Tacotron-2/data/M-AILABS/en_US/by_book/male/elliot_miller/pink_fairy_book/wavs/pad(rate(guard(pink_fairy_book_29_f000018),24000)).npy"
      ]
     },
     "metadata": {},
     "output_type": "display_data"
    },
    {
     "data": {
      "text/html": [
       "\n",
       "                <audio controls=\"controls\" >\n",
       "                    <source />\n",
       "                    Your browser does not support the audio element.\n",
       "                </audio>\n",
       "              "
      ],
      "text/plain": [
       "<IPython.lib.display.Audio object>"
      ]
     },
     "metadata": {},
     "output_type": "display_data"
    },
    {
     "data": {
      "text/markdown": [
       "\n",
       "\n",
       " ___"
      ],
      "text/plain": [
       "<IPython.core.display.Markdown object>"
      ]
     },
     "metadata": {},
     "output_type": "display_data"
    },
    {
     "data": {
      "text/markdown": [
       "**Text:** \"However, as the two forces came nearer together, Button-Bright spied Trot and captain Bill standing before the enemy, and the sight astonished him considerably.\""
      ],
      "text/plain": [
       "<IPython.core.display.Markdown object>"
      ]
     },
     "metadata": {},
     "output_type": "display_data"
    },
    {
     "data": {
      "text/html": [
       "<a href='../../data/M-AILABS/en_US/by_book/female/judy_bieber/sky_island/wavs/pad(rate(guard(skyisland_26_baum_64kb_f000017),24000)).npy' target='_blank'>../../data/M-AILABS/en_US/by_book/female/judy_bieber/sky_island/wavs/pad(rate(guard(skyisland_26_baum_64kb_f000017),24000)).npy</a><br>"
      ],
      "text/plain": [
       "/Users/michaelp/Code/Tacotron-2/data/M-AILABS/en_US/by_book/female/judy_bieber/sky_island/wavs/pad(rate(guard(skyisland_26_baum_64kb_f000017),24000)).npy"
      ]
     },
     "metadata": {},
     "output_type": "display_data"
    },
    {
     "data": {
      "text/html": [
       "\n",
       "                <audio controls=\"controls\" >\n",
       "                    <source />\n",
       "                    Your browser does not support the audio element.\n",
       "                </audio>\n",
       "              "
      ],
      "text/plain": [
       "<IPython.lib.display.Audio object>"
      ]
     },
     "metadata": {},
     "output_type": "display_data"
    },
    {
     "data": {
      "text/markdown": [
       "\n",
       "\n",
       " ___"
      ],
      "text/plain": [
       "<IPython.core.display.Markdown object>"
      ]
     },
     "metadata": {},
     "output_type": "display_data"
    },
    {
     "data": {
      "text/markdown": [
       "**Text:** \"he added, smiling sweetly.\""
      ],
      "text/plain": [
       "<IPython.core.display.Markdown object>"
      ]
     },
     "metadata": {},
     "output_type": "display_data"
    },
    {
     "data": {
      "text/html": [
       "<a href='../../data/M-AILABS/en_US/by_book/female/judy_bieber/the_sea_fairies/wavs/pad(rate(guard(the_sea_fairies_13_f000040),24000)).npy' target='_blank'>../../data/M-AILABS/en_US/by_book/female/judy_bieber/the_sea_fairies/wavs/pad(rate(guard(the_sea_fairies_13_f000040),24000)).npy</a><br>"
      ],
      "text/plain": [
       "/Users/michaelp/Code/Tacotron-2/data/M-AILABS/en_US/by_book/female/judy_bieber/the_sea_fairies/wavs/pad(rate(guard(the_sea_fairies_13_f000040),24000)).npy"
      ]
     },
     "metadata": {},
     "output_type": "display_data"
    },
    {
     "data": {
      "text/html": [
       "\n",
       "                <audio controls=\"controls\" >\n",
       "                    <source />\n",
       "                    Your browser does not support the audio element.\n",
       "                </audio>\n",
       "              "
      ],
      "text/plain": [
       "<IPython.lib.display.Audio object>"
      ]
     },
     "metadata": {},
     "output_type": "display_data"
    },
    {
     "data": {
      "text/markdown": [
       "\n",
       "\n",
       " ___"
      ],
      "text/plain": [
       "<IPython.core.display.Markdown object>"
      ]
     },
     "metadata": {},
     "output_type": "display_data"
    },
    {
     "data": {
      "text/markdown": [
       "**Text:** \"The prisoners followed Sacho from the room, glad to get away.\""
      ],
      "text/plain": [
       "<IPython.core.display.Markdown object>"
      ]
     },
     "metadata": {},
     "output_type": "display_data"
    },
    {
     "data": {
      "text/html": [
       "<a href='../../data/M-AILABS/en_US/by_book/female/judy_bieber/the_sea_fairies/wavs/pad(rate(guard(the_sea_fairies_13_f000150),24000)).npy' target='_blank'>../../data/M-AILABS/en_US/by_book/female/judy_bieber/the_sea_fairies/wavs/pad(rate(guard(the_sea_fairies_13_f000150),24000)).npy</a><br>"
      ],
      "text/plain": [
       "/Users/michaelp/Code/Tacotron-2/data/M-AILABS/en_US/by_book/female/judy_bieber/the_sea_fairies/wavs/pad(rate(guard(the_sea_fairies_13_f000150),24000)).npy"
      ]
     },
     "metadata": {},
     "output_type": "display_data"
    },
    {
     "data": {
      "text/html": [
       "\n",
       "                <audio controls=\"controls\" >\n",
       "                    <source />\n",
       "                    Your browser does not support the audio element.\n",
       "                </audio>\n",
       "              "
      ],
      "text/plain": [
       "<IPython.lib.display.Audio object>"
      ]
     },
     "metadata": {},
     "output_type": "display_data"
    },
    {
     "data": {
      "text/markdown": [
       "\n",
       "\n",
       " ___"
      ],
      "text/plain": [
       "<IPython.core.display.Markdown object>"
      ]
     },
     "metadata": {},
     "output_type": "display_data"
    },
    {
     "data": {
      "text/markdown": [
       "**Text:** \"Hoddan felt a vague discomfort. There seemed to be a sort of secret desperation in the atmosphere, which they would not admit or mention. But he was coming back. Of course.\""
      ],
      "text/plain": [
       "<IPython.core.display.Markdown object>"
      ]
     },
     "metadata": {},
     "output_type": "display_data"
    },
    {
     "data": {
      "text/html": [
       "<a href='../../data/M-AILABS/en_US/by_book/male/elliot_miller/pirates_of_ersatz/wavs/pad(rate(guard(piratesofersatz_09_leinster_64kb_f000136),24000)).npy' target='_blank'>../../data/M-AILABS/en_US/by_book/male/elliot_miller/pirates_of_ersatz/wavs/pad(rate(guard(piratesofersatz_09_leinster_64kb_f000136),24000)).npy</a><br>"
      ],
      "text/plain": [
       "/Users/michaelp/Code/Tacotron-2/data/M-AILABS/en_US/by_book/male/elliot_miller/pirates_of_ersatz/wavs/pad(rate(guard(piratesofersatz_09_leinster_64kb_f000136),24000)).npy"
      ]
     },
     "metadata": {},
     "output_type": "display_data"
    },
    {
     "data": {
      "text/html": [
       "\n",
       "                <audio controls=\"controls\" >\n",
       "                    <source />\n",
       "                    Your browser does not support the audio element.\n",
       "                </audio>\n",
       "              "
      ],
      "text/plain": [
       "<IPython.lib.display.Audio object>"
      ]
     },
     "metadata": {},
     "output_type": "display_data"
    },
    {
     "data": {
      "text/markdown": [
       "\n",
       "\n",
       " ___"
      ],
      "text/plain": [
       "<IPython.core.display.Markdown object>"
      ]
     },
     "metadata": {},
     "output_type": "display_data"
    },
    {
     "data": {
      "text/markdown": [
       "**Text:** \"Evidently the Nome King had made this last attempt to prevent their escaping him; but it did him no good, for when Dorothy saw the danger they were in she stopped and waved her hand and whispered a command to the magic belt.\""
      ],
      "text/plain": [
       "<IPython.core.display.Markdown object>"
      ]
     },
     "metadata": {},
     "output_type": "display_data"
    },
    {
     "data": {
      "text/html": [
       "<a href='../../data/M-AILABS/en_US/by_book/female/judy_bieber/ozma_of_oz/wavs/pad(rate(guard(ozma_of_oz_18_f000067),24000)).npy' target='_blank'>../../data/M-AILABS/en_US/by_book/female/judy_bieber/ozma_of_oz/wavs/pad(rate(guard(ozma_of_oz_18_f000067),24000)).npy</a><br>"
      ],
      "text/plain": [
       "/Users/michaelp/Code/Tacotron-2/data/M-AILABS/en_US/by_book/female/judy_bieber/ozma_of_oz/wavs/pad(rate(guard(ozma_of_oz_18_f000067),24000)).npy"
      ]
     },
     "metadata": {},
     "output_type": "display_data"
    },
    {
     "data": {
      "text/html": [
       "\n",
       "                <audio controls=\"controls\" >\n",
       "                    <source />\n",
       "                    Your browser does not support the audio element.\n",
       "                </audio>\n",
       "              "
      ],
      "text/plain": [
       "<IPython.lib.display.Audio object>"
      ]
     },
     "metadata": {},
     "output_type": "display_data"
    },
    {
     "data": {
      "text/markdown": [
       "\n",
       "\n",
       " ___"
      ],
      "text/plain": [
       "<IPython.core.display.Markdown object>"
      ]
     },
     "metadata": {},
     "output_type": "display_data"
    },
    {
     "data": {
      "text/markdown": [
       "**Text:** \"The little girl laughed softly.\""
      ],
      "text/plain": [
       "<IPython.core.display.Markdown object>"
      ]
     },
     "metadata": {},
     "output_type": "display_data"
    },
    {
     "data": {
      "text/html": [
       "<a href='../../data/M-AILABS/en_US/by_book/female/judy_bieber/sky_island/wavs/pad(rate(guard(skyisland_23_baum_64kb_f000038),24000)).npy' target='_blank'>../../data/M-AILABS/en_US/by_book/female/judy_bieber/sky_island/wavs/pad(rate(guard(skyisland_23_baum_64kb_f000038),24000)).npy</a><br>"
      ],
      "text/plain": [
       "/Users/michaelp/Code/Tacotron-2/data/M-AILABS/en_US/by_book/female/judy_bieber/sky_island/wavs/pad(rate(guard(skyisland_23_baum_64kb_f000038),24000)).npy"
      ]
     },
     "metadata": {},
     "output_type": "display_data"
    },
    {
     "data": {
      "text/html": [
       "\n",
       "                <audio controls=\"controls\" >\n",
       "                    <source />\n",
       "                    Your browser does not support the audio element.\n",
       "                </audio>\n",
       "              "
      ],
      "text/plain": [
       "<IPython.lib.display.Audio object>"
      ]
     },
     "metadata": {},
     "output_type": "display_data"
    },
    {
     "data": {
      "text/markdown": [
       "\n",
       "\n",
       " ___"
      ],
      "text/plain": [
       "<IPython.core.display.Markdown object>"
      ]
     },
     "metadata": {},
     "output_type": "display_data"
    },
    {
     "data": {
      "text/markdown": [
       "**Text:** \"It's all up, Pitts Slim, he ground out from his set teeth.\""
      ],
      "text/plain": [
       "<IPython.core.display.Markdown object>"
      ]
     },
     "metadata": {},
     "output_type": "display_data"
    },
    {
     "data": {
      "text/html": [
       "<a href='../../data/M-AILABS/en_US/by_book/male/elliot_miller/poisoned_pen/wavs/pad(rate(guard(poisoned_pen_02_f000316),24000)).npy' target='_blank'>../../data/M-AILABS/en_US/by_book/male/elliot_miller/poisoned_pen/wavs/pad(rate(guard(poisoned_pen_02_f000316),24000)).npy</a><br>"
      ],
      "text/plain": [
       "/Users/michaelp/Code/Tacotron-2/data/M-AILABS/en_US/by_book/male/elliot_miller/poisoned_pen/wavs/pad(rate(guard(poisoned_pen_02_f000316),24000)).npy"
      ]
     },
     "metadata": {},
     "output_type": "display_data"
    },
    {
     "data": {
      "text/html": [
       "\n",
       "                <audio controls=\"controls\" >\n",
       "                    <source />\n",
       "                    Your browser does not support the audio element.\n",
       "                </audio>\n",
       "              "
      ],
      "text/plain": [
       "<IPython.lib.display.Audio object>"
      ]
     },
     "metadata": {},
     "output_type": "display_data"
    },
    {
     "data": {
      "text/markdown": [
       "\n",
       "\n",
       " ___"
      ],
      "text/plain": [
       "<IPython.core.display.Markdown object>"
      ]
     },
     "metadata": {},
     "output_type": "display_data"
    },
    {
     "data": {
      "text/markdown": [
       "**Text:** \"I don't b'lieve Eureka would do such a dreadful thing! cried Dorothy, much distressed. Go and get my kitten, please, Jellia, and we'll hear what she has to say about it.\""
      ],
      "text/plain": [
       "<IPython.core.display.Markdown object>"
      ]
     },
     "metadata": {},
     "output_type": "display_data"
    },
    {
     "data": {
      "text/html": [
       "<a href='../../data/M-AILABS/en_US/by_book/female/judy_bieber/dorothy_and_wizard_oz/wavs/pad(rate(guard(dorothy_and_wizard_oz_18_f000020),24000)).npy' target='_blank'>../../data/M-AILABS/en_US/by_book/female/judy_bieber/dorothy_and_wizard_oz/wavs/pad(rate(guard(dorothy_and_wizard_oz_18_f000020),24000)).npy</a><br>"
      ],
      "text/plain": [
       "/Users/michaelp/Code/Tacotron-2/data/M-AILABS/en_US/by_book/female/judy_bieber/dorothy_and_wizard_oz/wavs/pad(rate(guard(dorothy_and_wizard_oz_18_f000020),24000)).npy"
      ]
     },
     "metadata": {},
     "output_type": "display_data"
    },
    {
     "data": {
      "text/html": [
       "\n",
       "                <audio controls=\"controls\" >\n",
       "                    <source />\n",
       "                    Your browser does not support the audio element.\n",
       "                </audio>\n",
       "              "
      ],
      "text/plain": [
       "<IPython.lib.display.Audio object>"
      ]
     },
     "metadata": {},
     "output_type": "display_data"
    },
    {
     "data": {
      "text/markdown": [
       "\n",
       "\n",
       " ___"
      ],
      "text/plain": [
       "<IPython.core.display.Markdown object>"
      ]
     },
     "metadata": {},
     "output_type": "display_data"
    },
    {
     "data": {
      "text/markdown": [
       "**Text:** \"We must go far to the right to escape the ink.\""
      ],
      "text/plain": [
       "<IPython.core.display.Markdown object>"
      ]
     },
     "metadata": {},
     "output_type": "display_data"
    },
    {
     "data": {
      "text/html": [
       "<a href='../../data/M-AILABS/en_US/by_book/female/judy_bieber/the_sea_fairies/wavs/pad(rate(guard(the_sea_fairies_11_f000009),24000)).npy' target='_blank'>../../data/M-AILABS/en_US/by_book/female/judy_bieber/the_sea_fairies/wavs/pad(rate(guard(the_sea_fairies_11_f000009),24000)).npy</a><br>"
      ],
      "text/plain": [
       "/Users/michaelp/Code/Tacotron-2/data/M-AILABS/en_US/by_book/female/judy_bieber/the_sea_fairies/wavs/pad(rate(guard(the_sea_fairies_11_f000009),24000)).npy"
      ]
     },
     "metadata": {},
     "output_type": "display_data"
    },
    {
     "data": {
      "text/html": [
       "\n",
       "                <audio controls=\"controls\" >\n",
       "                    <source />\n",
       "                    Your browser does not support the audio element.\n",
       "                </audio>\n",
       "              "
      ],
      "text/plain": [
       "<IPython.lib.display.Audio object>"
      ]
     },
     "metadata": {},
     "output_type": "display_data"
    },
    {
     "data": {
      "text/markdown": [
       "\n",
       "\n",
       " ___"
      ],
      "text/plain": [
       "<IPython.core.display.Markdown object>"
      ]
     },
     "metadata": {},
     "output_type": "display_data"
    },
    {
     "data": {
      "text/markdown": [
       "**Text:** \"She is not for you, said the young men. She is for our youngest brother, as we promised.\""
      ],
      "text/plain": [
       "<IPython.core.display.Markdown object>"
      ]
     },
     "metadata": {},
     "output_type": "display_data"
    },
    {
     "data": {
      "text/html": [
       "<a href='../../data/M-AILABS/en_US/by_book/male/elliot_miller/pink_fairy_book/wavs/pad(rate(guard(pink_fairy_book_25_f000014),24000)).npy' target='_blank'>../../data/M-AILABS/en_US/by_book/male/elliot_miller/pink_fairy_book/wavs/pad(rate(guard(pink_fairy_book_25_f000014),24000)).npy</a><br>"
      ],
      "text/plain": [
       "/Users/michaelp/Code/Tacotron-2/data/M-AILABS/en_US/by_book/male/elliot_miller/pink_fairy_book/wavs/pad(rate(guard(pink_fairy_book_25_f000014),24000)).npy"
      ]
     },
     "metadata": {},
     "output_type": "display_data"
    },
    {
     "data": {
      "text/html": [
       "\n",
       "                <audio controls=\"controls\" >\n",
       "                    <source />\n",
       "                    Your browser does not support the audio element.\n",
       "                </audio>\n",
       "              "
      ],
      "text/plain": [
       "<IPython.lib.display.Audio object>"
      ]
     },
     "metadata": {},
     "output_type": "display_data"
    },
    {
     "data": {
      "text/markdown": [
       "\n",
       "\n",
       " ___"
      ],
      "text/plain": [
       "<IPython.core.display.Markdown object>"
      ]
     },
     "metadata": {},
     "output_type": "display_data"
    },
    {
     "data": {
      "text/markdown": [
       "**Text:** \"There once lived in Denmark a peasant and his wife who owned a very good farm, but had no children. They often lamented to each other that they had no one of their own to inherit all the wealth that they possessed.\""
      ],
      "text/plain": [
       "<IPython.core.display.Markdown object>"
      ]
     },
     "metadata": {},
     "output_type": "display_data"
    },
    {
     "data": {
      "text/html": [
       "<a href='../../data/M-AILABS/en_US/by_book/male/elliot_miller/pink_fairy_book/wavs/pad(rate(guard(pink_fairy_book_15_f000003),24000)).npy' target='_blank'>../../data/M-AILABS/en_US/by_book/male/elliot_miller/pink_fairy_book/wavs/pad(rate(guard(pink_fairy_book_15_f000003),24000)).npy</a><br>"
      ],
      "text/plain": [
       "/Users/michaelp/Code/Tacotron-2/data/M-AILABS/en_US/by_book/male/elliot_miller/pink_fairy_book/wavs/pad(rate(guard(pink_fairy_book_15_f000003),24000)).npy"
      ]
     },
     "metadata": {},
     "output_type": "display_data"
    },
    {
     "data": {
      "text/html": [
       "\n",
       "                <audio controls=\"controls\" >\n",
       "                    <source />\n",
       "                    Your browser does not support the audio element.\n",
       "                </audio>\n",
       "              "
      ],
      "text/plain": [
       "<IPython.lib.display.Audio object>"
      ]
     },
     "metadata": {},
     "output_type": "display_data"
    },
    {
     "data": {
      "text/markdown": [
       "\n",
       "\n",
       " ___"
      ],
      "text/plain": [
       "<IPython.core.display.Markdown object>"
      ]
     },
     "metadata": {},
     "output_type": "display_data"
    },
    {
     "data": {
      "text/markdown": [
       "**Text:** \"Oh! cried the Yellow Hen, with a cackle of relief. Why didn't you say so before?\""
      ],
      "text/plain": [
       "<IPython.core.display.Markdown object>"
      ]
     },
     "metadata": {},
     "output_type": "display_data"
    },
    {
     "data": {
      "text/html": [
       "<a href='../../data/M-AILABS/en_US/by_book/female/judy_bieber/emerald_city_of_oz/wavs/pad(rate(guard(emerald_city_of_oz_12_f000030),24000)).npy' target='_blank'>../../data/M-AILABS/en_US/by_book/female/judy_bieber/emerald_city_of_oz/wavs/pad(rate(guard(emerald_city_of_oz_12_f000030),24000)).npy</a><br>"
      ],
      "text/plain": [
       "/Users/michaelp/Code/Tacotron-2/data/M-AILABS/en_US/by_book/female/judy_bieber/emerald_city_of_oz/wavs/pad(rate(guard(emerald_city_of_oz_12_f000030),24000)).npy"
      ]
     },
     "metadata": {},
     "output_type": "display_data"
    },
    {
     "data": {
      "text/html": [
       "\n",
       "                <audio controls=\"controls\" >\n",
       "                    <source />\n",
       "                    Your browser does not support the audio element.\n",
       "                </audio>\n",
       "              "
      ],
      "text/plain": [
       "<IPython.lib.display.Audio object>"
      ]
     },
     "metadata": {},
     "output_type": "display_data"
    },
    {
     "data": {
      "text/markdown": [
       "\n",
       "\n",
       " ___"
      ],
      "text/plain": [
       "<IPython.core.display.Markdown object>"
      ]
     },
     "metadata": {},
     "output_type": "display_data"
    },
    {
     "data": {
      "text/markdown": [
       "**Text:** \"Good gracious! cried Dorothy, shrinking back as far as the narrow path would let her.\""
      ],
      "text/plain": [
       "<IPython.core.display.Markdown object>"
      ]
     },
     "metadata": {},
     "output_type": "display_data"
    },
    {
     "data": {
      "text/html": [
       "<a href='../../data/M-AILABS/en_US/by_book/female/judy_bieber/ozma_of_oz/wavs/pad(rate(guard(ozma_of_oz_04_f000026),24000)).npy' target='_blank'>../../data/M-AILABS/en_US/by_book/female/judy_bieber/ozma_of_oz/wavs/pad(rate(guard(ozma_of_oz_04_f000026),24000)).npy</a><br>"
      ],
      "text/plain": [
       "/Users/michaelp/Code/Tacotron-2/data/M-AILABS/en_US/by_book/female/judy_bieber/ozma_of_oz/wavs/pad(rate(guard(ozma_of_oz_04_f000026),24000)).npy"
      ]
     },
     "metadata": {},
     "output_type": "display_data"
    },
    {
     "data": {
      "text/html": [
       "\n",
       "                <audio controls=\"controls\" >\n",
       "                    <source />\n",
       "                    Your browser does not support the audio element.\n",
       "                </audio>\n",
       "              "
      ],
      "text/plain": [
       "<IPython.lib.display.Audio object>"
      ]
     },
     "metadata": {},
     "output_type": "display_data"
    },
    {
     "data": {
      "text/markdown": [
       "\n",
       "\n",
       " ___"
      ],
      "text/plain": [
       "<IPython.core.display.Markdown object>"
      ]
     },
     "metadata": {},
     "output_type": "display_data"
    },
    {
     "data": {
      "text/markdown": [
       "**Text:** \"See what it has brought him to! Many a one who never reads nor thinks either, gets to be Rector, and Dean, and what not;\""
      ],
      "text/plain": [
       "<IPython.core.display.Markdown object>"
      ]
     },
     "metadata": {},
     "output_type": "display_data"
    },
    {
     "data": {
      "text/html": [
       "<a href='../../data/M-AILABS/en_US/by_book/female/mary_ann/northandsouth/wavs/pad(rate(guard(northandsouth_16_f000142),24000)).npy' target='_blank'>../../data/M-AILABS/en_US/by_book/female/mary_ann/northandsouth/wavs/pad(rate(guard(northandsouth_16_f000142),24000)).npy</a><br>"
      ],
      "text/plain": [
       "/Users/michaelp/Code/Tacotron-2/data/M-AILABS/en_US/by_book/female/mary_ann/northandsouth/wavs/pad(rate(guard(northandsouth_16_f000142),24000)).npy"
      ]
     },
     "metadata": {},
     "output_type": "display_data"
    },
    {
     "data": {
      "text/html": [
       "\n",
       "                <audio controls=\"controls\" >\n",
       "                    <source />\n",
       "                    Your browser does not support the audio element.\n",
       "                </audio>\n",
       "              "
      ],
      "text/plain": [
       "<IPython.lib.display.Audio object>"
      ]
     },
     "metadata": {},
     "output_type": "display_data"
    },
    {
     "data": {
      "text/markdown": [
       "\n",
       "\n",
       " ___"
      ],
      "text/plain": [
       "<IPython.core.display.Markdown object>"
      ]
     },
     "metadata": {},
     "output_type": "display_data"
    },
    {
     "data": {
      "text/markdown": [
       "**Text:** \"Make kill with bang-sticks.\""
      ],
      "text/plain": [
       "<IPython.core.display.Markdown object>"
      ]
     },
     "metadata": {},
     "output_type": "display_data"
    },
    {
     "data": {
      "text/html": [
       "<a href='../../data/M-AILABS/en_US/by_book/female/judy_bieber/the_master_key/wavs/pad(rate(guard(the_master_key_05_f000046),24000)).npy' target='_blank'>../../data/M-AILABS/en_US/by_book/female/judy_bieber/the_master_key/wavs/pad(rate(guard(the_master_key_05_f000046),24000)).npy</a><br>"
      ],
      "text/plain": [
       "/Users/michaelp/Code/Tacotron-2/data/M-AILABS/en_US/by_book/female/judy_bieber/the_master_key/wavs/pad(rate(guard(the_master_key_05_f000046),24000)).npy"
      ]
     },
     "metadata": {},
     "output_type": "display_data"
    },
    {
     "data": {
      "text/html": [
       "\n",
       "                <audio controls=\"controls\" >\n",
       "                    <source />\n",
       "                    Your browser does not support the audio element.\n",
       "                </audio>\n",
       "              "
      ],
      "text/plain": [
       "<IPython.lib.display.Audio object>"
      ]
     },
     "metadata": {},
     "output_type": "display_data"
    },
    {
     "data": {
      "text/markdown": [
       "\n",
       "\n",
       " ___"
      ],
      "text/plain": [
       "<IPython.core.display.Markdown object>"
      ]
     },
     "metadata": {},
     "output_type": "display_data"
    },
    {
     "data": {
      "text/markdown": [
       "**Text:** \"No! On that fair face only truth and honor were mirrored.\""
      ],
      "text/plain": [
       "<IPython.core.display.Markdown object>"
      ]
     },
     "metadata": {},
     "output_type": "display_data"
    },
    {
     "data": {
      "text/html": [
       "<a href='../../data/M-AILABS/en_US/by_book/female/mary_ann/midnight_passenger/wavs/pad(rate(guard(midnight_passenger_01_f000114),24000)).npy' target='_blank'>../../data/M-AILABS/en_US/by_book/female/mary_ann/midnight_passenger/wavs/pad(rate(guard(midnight_passenger_01_f000114),24000)).npy</a><br>"
      ],
      "text/plain": [
       "/Users/michaelp/Code/Tacotron-2/data/M-AILABS/en_US/by_book/female/mary_ann/midnight_passenger/wavs/pad(rate(guard(midnight_passenger_01_f000114),24000)).npy"
      ]
     },
     "metadata": {},
     "output_type": "display_data"
    },
    {
     "data": {
      "text/html": [
       "\n",
       "                <audio controls=\"controls\" >\n",
       "                    <source />\n",
       "                    Your browser does not support the audio element.\n",
       "                </audio>\n",
       "              "
      ],
      "text/plain": [
       "<IPython.lib.display.Audio object>"
      ]
     },
     "metadata": {},
     "output_type": "display_data"
    },
    {
     "data": {
      "text/markdown": [
       "\n",
       "\n",
       " ___"
      ],
      "text/plain": [
       "<IPython.core.display.Markdown object>"
      ]
     },
     "metadata": {},
     "output_type": "display_data"
    },
    {
     "data": {
      "text/markdown": [
       "**Text:** \"To Trot's astonishment, he had legs and walked upon them naturally and with perfect ease.\""
      ],
      "text/plain": [
       "<IPython.core.display.Markdown object>"
      ]
     },
     "metadata": {},
     "output_type": "display_data"
    },
    {
     "data": {
      "text/html": [
       "<a href='../../data/M-AILABS/en_US/by_book/female/judy_bieber/the_sea_fairies/wavs/pad(rate(guard(the_sea_fairies_12_f000069),24000)).npy' target='_blank'>../../data/M-AILABS/en_US/by_book/female/judy_bieber/the_sea_fairies/wavs/pad(rate(guard(the_sea_fairies_12_f000069),24000)).npy</a><br>"
      ],
      "text/plain": [
       "/Users/michaelp/Code/Tacotron-2/data/M-AILABS/en_US/by_book/female/judy_bieber/the_sea_fairies/wavs/pad(rate(guard(the_sea_fairies_12_f000069),24000)).npy"
      ]
     },
     "metadata": {},
     "output_type": "display_data"
    },
    {
     "data": {
      "text/html": [
       "\n",
       "                <audio controls=\"controls\" >\n",
       "                    <source />\n",
       "                    Your browser does not support the audio element.\n",
       "                </audio>\n",
       "              "
      ],
      "text/plain": [
       "<IPython.lib.display.Audio object>"
      ]
     },
     "metadata": {},
     "output_type": "display_data"
    },
    {
     "data": {
      "text/markdown": [
       "\n",
       "\n",
       " ___"
      ],
      "text/plain": [
       "<IPython.core.display.Markdown object>"
      ]
     },
     "metadata": {},
     "output_type": "display_data"
    },
    {
     "data": {
      "text/markdown": [
       "**Text:** \"so that the branches shall not touch you.\""
      ],
      "text/plain": [
       "<IPython.core.display.Markdown object>"
      ]
     },
     "metadata": {},
     "output_type": "display_data"
    },
    {
     "data": {
      "text/html": [
       "<a href='../../data/M-AILABS/en_US/by_book/male/elliot_miller/pink_fairy_book/wavs/pad(rate(guard(pink_fairy_book_38_f000128),24000)).npy' target='_blank'>../../data/M-AILABS/en_US/by_book/male/elliot_miller/pink_fairy_book/wavs/pad(rate(guard(pink_fairy_book_38_f000128),24000)).npy</a><br>"
      ],
      "text/plain": [
       "/Users/michaelp/Code/Tacotron-2/data/M-AILABS/en_US/by_book/male/elliot_miller/pink_fairy_book/wavs/pad(rate(guard(pink_fairy_book_38_f000128),24000)).npy"
      ]
     },
     "metadata": {},
     "output_type": "display_data"
    },
    {
     "data": {
      "text/html": [
       "\n",
       "                <audio controls=\"controls\" >\n",
       "                    <source />\n",
       "                    Your browser does not support the audio element.\n",
       "                </audio>\n",
       "              "
      ],
      "text/plain": [
       "<IPython.lib.display.Audio object>"
      ]
     },
     "metadata": {},
     "output_type": "display_data"
    },
    {
     "data": {
      "text/markdown": [
       "\n",
       "\n",
       " ___"
      ],
      "text/plain": [
       "<IPython.core.display.Markdown object>"
      ]
     },
     "metadata": {},
     "output_type": "display_data"
    },
    {
     "data": {
      "text/markdown": [
       "**Text:** \"so he had heard of this barrier of melted lava, and also he had been told that there was a narrow bridge that spanned it in one place.\""
      ],
      "text/plain": [
       "<IPython.core.display.Markdown object>"
      ]
     },
     "metadata": {},
     "output_type": "display_data"
    },
    {
     "data": {
      "text/html": [
       "<a href='../../data/M-AILABS/en_US/by_book/female/judy_bieber/emerald_city_of_oz/wavs/pad(rate(guard(emerald_city_of_oz_11_f000022),24000)).npy' target='_blank'>../../data/M-AILABS/en_US/by_book/female/judy_bieber/emerald_city_of_oz/wavs/pad(rate(guard(emerald_city_of_oz_11_f000022),24000)).npy</a><br>"
      ],
      "text/plain": [
       "/Users/michaelp/Code/Tacotron-2/data/M-AILABS/en_US/by_book/female/judy_bieber/emerald_city_of_oz/wavs/pad(rate(guard(emerald_city_of_oz_11_f000022),24000)).npy"
      ]
     },
     "metadata": {},
     "output_type": "display_data"
    },
    {
     "data": {
      "text/html": [
       "\n",
       "                <audio controls=\"controls\" >\n",
       "                    <source />\n",
       "                    Your browser does not support the audio element.\n",
       "                </audio>\n",
       "              "
      ],
      "text/plain": [
       "<IPython.lib.display.Audio object>"
      ]
     },
     "metadata": {},
     "output_type": "display_data"
    },
    {
     "data": {
      "text/markdown": [
       "\n",
       "\n",
       " ___"
      ],
      "text/plain": [
       "<IPython.core.display.Markdown object>"
      ]
     },
     "metadata": {},
     "output_type": "display_data"
    },
    {
     "data": {
      "text/markdown": [
       "**Text:** \"and he seemed much gratified when I told him that I had arranged successfully for the seance and that Farrington would accompany the medium.\""
      ],
      "text/plain": [
       "<IPython.core.display.Markdown object>"
      ]
     },
     "metadata": {},
     "output_type": "display_data"
    },
    {
     "data": {
      "text/html": [
       "<a href='../../data/M-AILABS/en_US/by_book/male/elliot_miller/silent_bullet/wavs/pad(rate(guard(silent_bullet_06_f000188),24000)).npy' target='_blank'>../../data/M-AILABS/en_US/by_book/male/elliot_miller/silent_bullet/wavs/pad(rate(guard(silent_bullet_06_f000188),24000)).npy</a><br>"
      ],
      "text/plain": [
       "/Users/michaelp/Code/Tacotron-2/data/M-AILABS/en_US/by_book/male/elliot_miller/silent_bullet/wavs/pad(rate(guard(silent_bullet_06_f000188),24000)).npy"
      ]
     },
     "metadata": {},
     "output_type": "display_data"
    },
    {
     "data": {
      "text/html": [
       "\n",
       "                <audio controls=\"controls\" >\n",
       "                    <source />\n",
       "                    Your browser does not support the audio element.\n",
       "                </audio>\n",
       "              "
      ],
      "text/plain": [
       "<IPython.lib.display.Audio object>"
      ]
     },
     "metadata": {},
     "output_type": "display_data"
    },
    {
     "data": {
      "text/markdown": [
       "\n",
       "\n",
       " ___"
      ],
      "text/plain": [
       "<IPython.core.display.Markdown object>"
      ]
     },
     "metadata": {},
     "output_type": "display_data"
    },
    {
     "data": {
      "text/markdown": [
       "**Text:** \"When McNerney rejoined Doctor Atwater, the physician had already left Braun to the formal questioning of the methodical sergeant.\""
      ],
      "text/plain": [
       "<IPython.core.display.Markdown object>"
      ]
     },
     "metadata": {},
     "output_type": "display_data"
    },
    {
     "data": {
      "text/html": [
       "<a href='../../data/M-AILABS/en_US/by_book/female/mary_ann/midnight_passenger/wavs/pad(rate(guard(midnight_passenger_14_f000124),24000)).npy' target='_blank'>../../data/M-AILABS/en_US/by_book/female/mary_ann/midnight_passenger/wavs/pad(rate(guard(midnight_passenger_14_f000124),24000)).npy</a><br>"
      ],
      "text/plain": [
       "/Users/michaelp/Code/Tacotron-2/data/M-AILABS/en_US/by_book/female/mary_ann/midnight_passenger/wavs/pad(rate(guard(midnight_passenger_14_f000124),24000)).npy"
      ]
     },
     "metadata": {},
     "output_type": "display_data"
    },
    {
     "data": {
      "text/html": [
       "\n",
       "                <audio controls=\"controls\" >\n",
       "                    <source />\n",
       "                    Your browser does not support the audio element.\n",
       "                </audio>\n",
       "              "
      ],
      "text/plain": [
       "<IPython.lib.display.Audio object>"
      ]
     },
     "metadata": {},
     "output_type": "display_data"
    },
    {
     "data": {
      "text/markdown": [
       "\n",
       "\n",
       " ___"
      ],
      "text/plain": [
       "<IPython.core.display.Markdown object>"
      ]
     },
     "metadata": {},
     "output_type": "display_data"
    },
    {
     "data": {
      "text/markdown": [
       "**Text:** \"If they came sorrowing, and wanting sympathy in a complicated trouble like the present, then they would be felt as a shadow in all these houses of intimate acquaintances, not friends.\""
      ],
      "text/plain": [
       "<IPython.core.display.Markdown object>"
      ]
     },
     "metadata": {},
     "output_type": "display_data"
    },
    {
     "data": {
      "text/html": [
       "<a href='../../data/M-AILABS/en_US/by_book/female/mary_ann/northandsouth/wavs/pad(rate(guard(northandsouth_06_f000128),24000)).npy' target='_blank'>../../data/M-AILABS/en_US/by_book/female/mary_ann/northandsouth/wavs/pad(rate(guard(northandsouth_06_f000128),24000)).npy</a><br>"
      ],
      "text/plain": [
       "/Users/michaelp/Code/Tacotron-2/data/M-AILABS/en_US/by_book/female/mary_ann/northandsouth/wavs/pad(rate(guard(northandsouth_06_f000128),24000)).npy"
      ]
     },
     "metadata": {},
     "output_type": "display_data"
    },
    {
     "data": {
      "text/html": [
       "\n",
       "                <audio controls=\"controls\" >\n",
       "                    <source />\n",
       "                    Your browser does not support the audio element.\n",
       "                </audio>\n",
       "              "
      ],
      "text/plain": [
       "<IPython.lib.display.Audio object>"
      ]
     },
     "metadata": {},
     "output_type": "display_data"
    },
    {
     "data": {
      "text/markdown": [
       "\n",
       "\n",
       " ___"
      ],
      "text/plain": [
       "<IPython.core.display.Markdown object>"
      ]
     },
     "metadata": {},
     "output_type": "display_data"
    },
    {
     "data": {
      "text/markdown": [
       "**Text:** \"She really did persuade herself that she was submitting to some hard external necessity;\""
      ],
      "text/plain": [
       "<IPython.core.display.Markdown object>"
      ]
     },
     "metadata": {},
     "output_type": "display_data"
    },
    {
     "data": {
      "text/html": [
       "<a href='../../data/M-AILABS/en_US/by_book/female/mary_ann/northandsouth/wavs/pad(rate(guard(northandsouth_01_f000194),24000)).npy' target='_blank'>../../data/M-AILABS/en_US/by_book/female/mary_ann/northandsouth/wavs/pad(rate(guard(northandsouth_01_f000194),24000)).npy</a><br>"
      ],
      "text/plain": [
       "/Users/michaelp/Code/Tacotron-2/data/M-AILABS/en_US/by_book/female/mary_ann/northandsouth/wavs/pad(rate(guard(northandsouth_01_f000194),24000)).npy"
      ]
     },
     "metadata": {},
     "output_type": "display_data"
    },
    {
     "data": {
      "text/html": [
       "\n",
       "                <audio controls=\"controls\" >\n",
       "                    <source />\n",
       "                    Your browser does not support the audio element.\n",
       "                </audio>\n",
       "              "
      ],
      "text/plain": [
       "<IPython.lib.display.Audio object>"
      ]
     },
     "metadata": {},
     "output_type": "display_data"
    },
    {
     "data": {
      "text/markdown": [
       "\n",
       "\n",
       " ___"
      ],
      "text/plain": [
       "<IPython.core.display.Markdown object>"
      ]
     },
     "metadata": {},
     "output_type": "display_data"
    },
    {
     "data": {
      "text/markdown": [
       "**Text:** \"The leader of the Wheelers hesitated to give this order, so Tiktok shook him as a terrier dog does a rat, until the Wheeler's teeth rattled together with a noise like hailstones on a window pane.\""
      ],
      "text/plain": [
       "<IPython.core.display.Markdown object>"
      ]
     },
     "metadata": {},
     "output_type": "display_data"
    },
    {
     "data": {
      "text/html": [
       "<a href='../../data/M-AILABS/en_US/by_book/female/judy_bieber/ozma_of_oz/wavs/pad(rate(guard(ozma_of_oz_06_f000025),24000)).npy' target='_blank'>../../data/M-AILABS/en_US/by_book/female/judy_bieber/ozma_of_oz/wavs/pad(rate(guard(ozma_of_oz_06_f000025),24000)).npy</a><br>"
      ],
      "text/plain": [
       "/Users/michaelp/Code/Tacotron-2/data/M-AILABS/en_US/by_book/female/judy_bieber/ozma_of_oz/wavs/pad(rate(guard(ozma_of_oz_06_f000025),24000)).npy"
      ]
     },
     "metadata": {},
     "output_type": "display_data"
    },
    {
     "data": {
      "text/html": [
       "\n",
       "                <audio controls=\"controls\" >\n",
       "                    <source />\n",
       "                    Your browser does not support the audio element.\n",
       "                </audio>\n",
       "              "
      ],
      "text/plain": [
       "<IPython.lib.display.Audio object>"
      ]
     },
     "metadata": {},
     "output_type": "display_data"
    },
    {
     "data": {
      "text/markdown": [
       "\n",
       "\n",
       " ___"
      ],
      "text/plain": [
       "<IPython.core.display.Markdown object>"
      ]
     },
     "metadata": {},
     "output_type": "display_data"
    },
    {
     "data": {
      "text/markdown": [
       "**Text:** \"mister Hale roused himself up to listen to his sons answer.\""
      ],
      "text/plain": [
       "<IPython.core.display.Markdown object>"
      ]
     },
     "metadata": {},
     "output_type": "display_data"
    },
    {
     "data": {
      "text/html": [
       "<a href='../../data/M-AILABS/en_US/by_book/female/mary_ann/northandsouth/wavs/pad(rate(guard(northandsouth_31_f000153),24000)).npy' target='_blank'>../../data/M-AILABS/en_US/by_book/female/mary_ann/northandsouth/wavs/pad(rate(guard(northandsouth_31_f000153),24000)).npy</a><br>"
      ],
      "text/plain": [
       "/Users/michaelp/Code/Tacotron-2/data/M-AILABS/en_US/by_book/female/mary_ann/northandsouth/wavs/pad(rate(guard(northandsouth_31_f000153),24000)).npy"
      ]
     },
     "metadata": {},
     "output_type": "display_data"
    },
    {
     "data": {
      "text/html": [
       "\n",
       "                <audio controls=\"controls\" >\n",
       "                    <source />\n",
       "                    Your browser does not support the audio element.\n",
       "                </audio>\n",
       "              "
      ],
      "text/plain": [
       "<IPython.lib.display.Audio object>"
      ]
     },
     "metadata": {},
     "output_type": "display_data"
    },
    {
     "data": {
      "text/markdown": [
       "\n",
       "\n",
       " ___"
      ],
      "text/plain": [
       "<IPython.core.display.Markdown object>"
      ]
     },
     "metadata": {},
     "output_type": "display_data"
    },
    {
     "data": {
      "text/markdown": [
       "**Text:** \"He had a little boat of his own and a rake for dragging up the oysters and he was very proud indeed when he could carry a big white pearl to his father.\""
      ],
      "text/plain": [
       "<IPython.core.display.Markdown object>"
      ]
     },
     "metadata": {},
     "output_type": "display_data"
    },
    {
     "data": {
      "text/html": [
       "<a href='../../data/M-AILABS/en_US/by_book/female/judy_bieber/rinkitink_in_oz/wavs/pad(rate(guard(rinkitink_baum_01_64kb_f000056),24000)).npy' target='_blank'>../../data/M-AILABS/en_US/by_book/female/judy_bieber/rinkitink_in_oz/wavs/pad(rate(guard(rinkitink_baum_01_64kb_f000056),24000)).npy</a><br>"
      ],
      "text/plain": [
       "/Users/michaelp/Code/Tacotron-2/data/M-AILABS/en_US/by_book/female/judy_bieber/rinkitink_in_oz/wavs/pad(rate(guard(rinkitink_baum_01_64kb_f000056),24000)).npy"
      ]
     },
     "metadata": {},
     "output_type": "display_data"
    },
    {
     "data": {
      "text/html": [
       "\n",
       "                <audio controls=\"controls\" >\n",
       "                    <source />\n",
       "                    Your browser does not support the audio element.\n",
       "                </audio>\n",
       "              "
      ],
      "text/plain": [
       "<IPython.lib.display.Audio object>"
      ]
     },
     "metadata": {},
     "output_type": "display_data"
    },
    {
     "data": {
      "text/markdown": [
       "\n",
       "\n",
       " ___"
      ],
      "text/plain": [
       "<IPython.core.display.Markdown object>"
      ]
     },
     "metadata": {},
     "output_type": "display_data"
    },
    {
     "data": {
      "text/markdown": [
       "**Text:** \"I can wait, wait patiently, till her philanthropic fever abates.\""
      ],
      "text/plain": [
       "<IPython.core.display.Markdown object>"
      ]
     },
     "metadata": {},
     "output_type": "display_data"
    },
    {
     "data": {
      "text/html": [
       "<a href='../../data/M-AILABS/en_US/by_book/female/mary_ann/midnight_passenger/wavs/pad(rate(guard(midnight_passenger_15_f000139),24000)).npy' target='_blank'>../../data/M-AILABS/en_US/by_book/female/mary_ann/midnight_passenger/wavs/pad(rate(guard(midnight_passenger_15_f000139),24000)).npy</a><br>"
      ],
      "text/plain": [
       "/Users/michaelp/Code/Tacotron-2/data/M-AILABS/en_US/by_book/female/mary_ann/midnight_passenger/wavs/pad(rate(guard(midnight_passenger_15_f000139),24000)).npy"
      ]
     },
     "metadata": {},
     "output_type": "display_data"
    },
    {
     "data": {
      "text/html": [
       "\n",
       "                <audio controls=\"controls\" >\n",
       "                    <source />\n",
       "                    Your browser does not support the audio element.\n",
       "                </audio>\n",
       "              "
      ],
      "text/plain": [
       "<IPython.lib.display.Audio object>"
      ]
     },
     "metadata": {},
     "output_type": "display_data"
    },
    {
     "data": {
      "text/markdown": [
       "\n",
       "\n",
       " ___"
      ],
      "text/plain": [
       "<IPython.core.display.Markdown object>"
      ]
     },
     "metadata": {},
     "output_type": "display_data"
    },
    {
     "data": {
      "text/markdown": [
       "**Text:** \"who had originated discord in the camp, and spread the panic of the law being arrayed against them.\""
      ],
      "text/plain": [
       "<IPython.core.display.Markdown object>"
      ]
     },
     "metadata": {},
     "output_type": "display_data"
    },
    {
     "data": {
      "text/html": [
       "<a href='../../data/M-AILABS/en_US/by_book/female/mary_ann/northandsouth/wavs/pad(rate(guard(northandsouth_28_f000244),24000)).npy' target='_blank'>../../data/M-AILABS/en_US/by_book/female/mary_ann/northandsouth/wavs/pad(rate(guard(northandsouth_28_f000244),24000)).npy</a><br>"
      ],
      "text/plain": [
       "/Users/michaelp/Code/Tacotron-2/data/M-AILABS/en_US/by_book/female/mary_ann/northandsouth/wavs/pad(rate(guard(northandsouth_28_f000244),24000)).npy"
      ]
     },
     "metadata": {},
     "output_type": "display_data"
    },
    {
     "data": {
      "text/html": [
       "\n",
       "                <audio controls=\"controls\" >\n",
       "                    <source />\n",
       "                    Your browser does not support the audio element.\n",
       "                </audio>\n",
       "              "
      ],
      "text/plain": [
       "<IPython.lib.display.Audio object>"
      ]
     },
     "metadata": {},
     "output_type": "display_data"
    },
    {
     "data": {
      "text/markdown": [
       "\n",
       "\n",
       " ___"
      ],
      "text/plain": [
       "<IPython.core.display.Markdown object>"
      ]
     },
     "metadata": {},
     "output_type": "display_data"
    },
    {
     "data": {
      "text/markdown": [
       "**Text:** \"All was a gray blank of toiling days and carking cares. And Worthington had robbed him and made him eat the bread of dependence.\""
      ],
      "text/plain": [
       "<IPython.core.display.Markdown object>"
      ]
     },
     "metadata": {},
     "output_type": "display_data"
    },
    {
     "data": {
      "text/html": [
       "<a href='../../data/M-AILABS/en_US/by_book/female/mary_ann/midnight_passenger/wavs/pad(rate(guard(midnight_passenger_04_f000088),24000)).npy' target='_blank'>../../data/M-AILABS/en_US/by_book/female/mary_ann/midnight_passenger/wavs/pad(rate(guard(midnight_passenger_04_f000088),24000)).npy</a><br>"
      ],
      "text/plain": [
       "/Users/michaelp/Code/Tacotron-2/data/M-AILABS/en_US/by_book/female/mary_ann/midnight_passenger/wavs/pad(rate(guard(midnight_passenger_04_f000088),24000)).npy"
      ]
     },
     "metadata": {},
     "output_type": "display_data"
    },
    {
     "data": {
      "text/html": [
       "\n",
       "                <audio controls=\"controls\" >\n",
       "                    <source />\n",
       "                    Your browser does not support the audio element.\n",
       "                </audio>\n",
       "              "
      ],
      "text/plain": [
       "<IPython.lib.display.Audio object>"
      ]
     },
     "metadata": {},
     "output_type": "display_data"
    },
    {
     "data": {
      "text/markdown": [
       "\n",
       "\n",
       " ___"
      ],
      "text/plain": [
       "<IPython.core.display.Markdown object>"
      ]
     },
     "metadata": {},
     "output_type": "display_data"
    },
    {
     "data": {
      "text/markdown": [
       "**Text:** \"a deux, with his back prudently screening him from any chance visitor who might know the Western Trading Company's personnel.\""
      ],
      "text/plain": [
       "<IPython.core.display.Markdown object>"
      ]
     },
     "metadata": {},
     "output_type": "display_data"
    },
    {
     "data": {
      "text/html": [
       "<a href='../../data/M-AILABS/en_US/by_book/female/mary_ann/midnight_passenger/wavs/pad(rate(guard(midnight_passenger_02_f000057),24000)).npy' target='_blank'>../../data/M-AILABS/en_US/by_book/female/mary_ann/midnight_passenger/wavs/pad(rate(guard(midnight_passenger_02_f000057),24000)).npy</a><br>"
      ],
      "text/plain": [
       "/Users/michaelp/Code/Tacotron-2/data/M-AILABS/en_US/by_book/female/mary_ann/midnight_passenger/wavs/pad(rate(guard(midnight_passenger_02_f000057),24000)).npy"
      ]
     },
     "metadata": {},
     "output_type": "display_data"
    },
    {
     "data": {
      "text/html": [
       "\n",
       "                <audio controls=\"controls\" >\n",
       "                    <source />\n",
       "                    Your browser does not support the audio element.\n",
       "                </audio>\n",
       "              "
      ],
      "text/plain": [
       "<IPython.lib.display.Audio object>"
      ]
     },
     "metadata": {},
     "output_type": "display_data"
    },
    {
     "data": {
      "text/markdown": [
       "\n",
       "\n",
       " ___"
      ],
      "text/plain": [
       "<IPython.core.display.Markdown object>"
      ]
     },
     "metadata": {},
     "output_type": "display_data"
    },
    {
     "data": {
      "text/markdown": [
       "**Text:** \"and the woman approached, and took the stones in her hand, setting greedily aside those that were the largest and most costly.\""
      ],
      "text/plain": [
       "<IPython.core.display.Markdown object>"
      ]
     },
     "metadata": {},
     "output_type": "display_data"
    },
    {
     "data": {
      "text/html": [
       "<a href='../../data/M-AILABS/en_US/by_book/male/elliot_miller/pink_fairy_book/wavs/pad(rate(guard(pink_fairy_book_39_f000044),24000)).npy' target='_blank'>../../data/M-AILABS/en_US/by_book/male/elliot_miller/pink_fairy_book/wavs/pad(rate(guard(pink_fairy_book_39_f000044),24000)).npy</a><br>"
      ],
      "text/plain": [
       "/Users/michaelp/Code/Tacotron-2/data/M-AILABS/en_US/by_book/male/elliot_miller/pink_fairy_book/wavs/pad(rate(guard(pink_fairy_book_39_f000044),24000)).npy"
      ]
     },
     "metadata": {},
     "output_type": "display_data"
    },
    {
     "data": {
      "text/html": [
       "\n",
       "                <audio controls=\"controls\" >\n",
       "                    <source />\n",
       "                    Your browser does not support the audio element.\n",
       "                </audio>\n",
       "              "
      ],
      "text/plain": [
       "<IPython.lib.display.Audio object>"
      ]
     },
     "metadata": {},
     "output_type": "display_data"
    },
    {
     "data": {
      "text/markdown": [
       "\n",
       "\n",
       " ___"
      ],
      "text/plain": [
       "<IPython.core.display.Markdown object>"
      ]
     },
     "metadata": {},
     "output_type": "display_data"
    },
    {
     "data": {
      "text/markdown": [
       "**Text:** \"Remember, Lilienthal is your only adviser. Six months from now, I'll put a new life into things here.\""
      ],
      "text/plain": [
       "<IPython.core.display.Markdown object>"
      ]
     },
     "metadata": {},
     "output_type": "display_data"
    },
    {
     "data": {
      "text/html": [
       "<a href='../../data/M-AILABS/en_US/by_book/female/mary_ann/midnight_passenger/wavs/pad(rate(guard(midnight_passenger_07_f000129),24000)).npy' target='_blank'>../../data/M-AILABS/en_US/by_book/female/mary_ann/midnight_passenger/wavs/pad(rate(guard(midnight_passenger_07_f000129),24000)).npy</a><br>"
      ],
      "text/plain": [
       "/Users/michaelp/Code/Tacotron-2/data/M-AILABS/en_US/by_book/female/mary_ann/midnight_passenger/wavs/pad(rate(guard(midnight_passenger_07_f000129),24000)).npy"
      ]
     },
     "metadata": {},
     "output_type": "display_data"
    },
    {
     "data": {
      "text/html": [
       "\n",
       "                <audio controls=\"controls\" >\n",
       "                    <source />\n",
       "                    Your browser does not support the audio element.\n",
       "                </audio>\n",
       "              "
      ],
      "text/plain": [
       "<IPython.lib.display.Audio object>"
      ]
     },
     "metadata": {},
     "output_type": "display_data"
    },
    {
     "data": {
      "text/markdown": [
       "\n",
       "\n",
       " ___"
      ],
      "text/plain": [
       "<IPython.core.display.Markdown object>"
      ]
     },
     "metadata": {},
     "output_type": "display_data"
    },
    {
     "data": {
      "text/markdown": [
       "**Text:** \"no! if its only for the recollection of the way in which youve used the poor knobsticks before now, I say No! to your question.\""
      ],
      "text/plain": [
       "<IPython.core.display.Markdown object>"
      ]
     },
     "metadata": {},
     "output_type": "display_data"
    },
    {
     "data": {
      "text/html": [
       "<a href='../../data/M-AILABS/en_US/by_book/female/mary_ann/northandsouth/wavs/pad(rate(guard(northandsouth_38_f000259),24000)).npy' target='_blank'>../../data/M-AILABS/en_US/by_book/female/mary_ann/northandsouth/wavs/pad(rate(guard(northandsouth_38_f000259),24000)).npy</a><br>"
      ],
      "text/plain": [
       "/Users/michaelp/Code/Tacotron-2/data/M-AILABS/en_US/by_book/female/mary_ann/northandsouth/wavs/pad(rate(guard(northandsouth_38_f000259),24000)).npy"
      ]
     },
     "metadata": {},
     "output_type": "display_data"
    },
    {
     "data": {
      "text/html": [
       "\n",
       "                <audio controls=\"controls\" >\n",
       "                    <source />\n",
       "                    Your browser does not support the audio element.\n",
       "                </audio>\n",
       "              "
      ],
      "text/plain": [
       "<IPython.lib.display.Audio object>"
      ]
     },
     "metadata": {},
     "output_type": "display_data"
    },
    {
     "data": {
      "text/markdown": [
       "\n",
       "\n",
       " ___"
      ],
      "text/plain": [
       "<IPython.core.display.Markdown object>"
      ]
     },
     "metadata": {},
     "output_type": "display_data"
    },
    {
     "data": {
      "text/markdown": [
       "**Text:** \"So he quickly set the indicator to the word up, and mounted sky-ward until the watchers below could scarcely see him.\""
      ],
      "text/plain": [
       "<IPython.core.display.Markdown object>"
      ]
     },
     "metadata": {},
     "output_type": "display_data"
    },
    {
     "data": {
      "text/html": [
       "<a href='../../data/M-AILABS/en_US/by_book/female/judy_bieber/the_master_key/wavs/pad(rate(guard(the_master_key_18_f000080),24000)).npy' target='_blank'>../../data/M-AILABS/en_US/by_book/female/judy_bieber/the_master_key/wavs/pad(rate(guard(the_master_key_18_f000080),24000)).npy</a><br>"
      ],
      "text/plain": [
       "/Users/michaelp/Code/Tacotron-2/data/M-AILABS/en_US/by_book/female/judy_bieber/the_master_key/wavs/pad(rate(guard(the_master_key_18_f000080),24000)).npy"
      ]
     },
     "metadata": {},
     "output_type": "display_data"
    },
    {
     "data": {
      "text/html": [
       "\n",
       "                <audio controls=\"controls\" >\n",
       "                    <source />\n",
       "                    Your browser does not support the audio element.\n",
       "                </audio>\n",
       "              "
      ],
      "text/plain": [
       "<IPython.lib.display.Audio object>"
      ]
     },
     "metadata": {},
     "output_type": "display_data"
    },
    {
     "data": {
      "text/markdown": [
       "\n",
       "\n",
       " ___"
      ],
      "text/plain": [
       "<IPython.core.display.Markdown object>"
      ]
     },
     "metadata": {},
     "output_type": "display_data"
    },
    {
     "data": {
      "text/markdown": [
       "**Text:** \"where the Waltz King's witching melodies ruled the happy hour.\""
      ],
      "text/plain": [
       "<IPython.core.display.Markdown object>"
      ]
     },
     "metadata": {},
     "output_type": "display_data"
    },
    {
     "data": {
      "text/html": [
       "<a href='../../data/M-AILABS/en_US/by_book/female/mary_ann/midnight_passenger/wavs/pad(rate(guard(midnight_passenger_01_f000084),24000)).npy' target='_blank'>../../data/M-AILABS/en_US/by_book/female/mary_ann/midnight_passenger/wavs/pad(rate(guard(midnight_passenger_01_f000084),24000)).npy</a><br>"
      ],
      "text/plain": [
       "/Users/michaelp/Code/Tacotron-2/data/M-AILABS/en_US/by_book/female/mary_ann/midnight_passenger/wavs/pad(rate(guard(midnight_passenger_01_f000084),24000)).npy"
      ]
     },
     "metadata": {},
     "output_type": "display_data"
    },
    {
     "data": {
      "text/html": [
       "\n",
       "                <audio controls=\"controls\" >\n",
       "                    <source />\n",
       "                    Your browser does not support the audio element.\n",
       "                </audio>\n",
       "              "
      ],
      "text/plain": [
       "<IPython.lib.display.Audio object>"
      ]
     },
     "metadata": {},
     "output_type": "display_data"
    },
    {
     "data": {
      "text/markdown": [
       "\n",
       "\n",
       " ___"
      ],
      "text/plain": [
       "<IPython.core.display.Markdown object>"
      ]
     },
     "metadata": {},
     "output_type": "display_data"
    },
    {
     "data": {
      "text/markdown": [
       "**Text:** \"The Second Journey.\""
      ],
      "text/plain": [
       "<IPython.core.display.Markdown object>"
      ]
     },
     "metadata": {},
     "output_type": "display_data"
    },
    {
     "data": {
      "text/html": [
       "<a href='../../data/M-AILABS/en_US/by_book/female/judy_bieber/the_master_key/wavs/pad(rate(guard(the_master_key_09_f000002),24000)).npy' target='_blank'>../../data/M-AILABS/en_US/by_book/female/judy_bieber/the_master_key/wavs/pad(rate(guard(the_master_key_09_f000002),24000)).npy</a><br>"
      ],
      "text/plain": [
       "/Users/michaelp/Code/Tacotron-2/data/M-AILABS/en_US/by_book/female/judy_bieber/the_master_key/wavs/pad(rate(guard(the_master_key_09_f000002),24000)).npy"
      ]
     },
     "metadata": {},
     "output_type": "display_data"
    },
    {
     "data": {
      "text/html": [
       "\n",
       "                <audio controls=\"controls\" >\n",
       "                    <source />\n",
       "                    Your browser does not support the audio element.\n",
       "                </audio>\n",
       "              "
      ],
      "text/plain": [
       "<IPython.lib.display.Audio object>"
      ]
     },
     "metadata": {},
     "output_type": "display_data"
    },
    {
     "data": {
      "text/markdown": [
       "\n",
       "\n",
       " ___"
      ],
      "text/plain": [
       "<IPython.core.display.Markdown object>"
      ]
     },
     "metadata": {},
     "output_type": "display_data"
    },
    {
     "data": {
      "text/markdown": [
       "**Text:** \"I was looking at it in astonishment, when suddenly I felt a blow on my hand. It was Capps.\""
      ],
      "text/plain": [
       "<IPython.core.display.Markdown object>"
      ]
     },
     "metadata": {},
     "output_type": "display_data"
    },
    {
     "data": {
      "text/html": [
       "<a href='../../data/M-AILABS/en_US/by_book/male/elliot_miller/poisoned_pen/wavs/pad(rate(guard(poisoned_pen_06_f000145),24000)).npy' target='_blank'>../../data/M-AILABS/en_US/by_book/male/elliot_miller/poisoned_pen/wavs/pad(rate(guard(poisoned_pen_06_f000145),24000)).npy</a><br>"
      ],
      "text/plain": [
       "/Users/michaelp/Code/Tacotron-2/data/M-AILABS/en_US/by_book/male/elliot_miller/poisoned_pen/wavs/pad(rate(guard(poisoned_pen_06_f000145),24000)).npy"
      ]
     },
     "metadata": {},
     "output_type": "display_data"
    },
    {
     "data": {
      "text/html": [
       "\n",
       "                <audio controls=\"controls\" >\n",
       "                    <source />\n",
       "                    Your browser does not support the audio element.\n",
       "                </audio>\n",
       "              "
      ],
      "text/plain": [
       "<IPython.lib.display.Audio object>"
      ]
     },
     "metadata": {},
     "output_type": "display_data"
    },
    {
     "data": {
      "text/markdown": [
       "\n",
       "\n",
       " ___"
      ],
      "text/plain": [
       "<IPython.core.display.Markdown object>"
      ]
     },
     "metadata": {},
     "output_type": "display_data"
    },
    {
     "data": {
      "text/markdown": [
       "**Text:** \"And if you'll excuse meHe moved away, practically dead on his feet. If he had been accustomed to horseback riding, he wouldn't have been so exhausted.\""
      ],
      "text/plain": [
       "<IPython.core.display.Markdown object>"
      ]
     },
     "metadata": {},
     "output_type": "display_data"
    },
    {
     "data": {
      "text/html": [
       "<a href='../../data/M-AILABS/en_US/by_book/male/elliot_miller/pirates_of_ersatz/wavs/pad(rate(guard(piratesofersatz_05_leinster_64kb_f000222),24000)).npy' target='_blank'>../../data/M-AILABS/en_US/by_book/male/elliot_miller/pirates_of_ersatz/wavs/pad(rate(guard(piratesofersatz_05_leinster_64kb_f000222),24000)).npy</a><br>"
      ],
      "text/plain": [
       "/Users/michaelp/Code/Tacotron-2/data/M-AILABS/en_US/by_book/male/elliot_miller/pirates_of_ersatz/wavs/pad(rate(guard(piratesofersatz_05_leinster_64kb_f000222),24000)).npy"
      ]
     },
     "metadata": {},
     "output_type": "display_data"
    },
    {
     "data": {
      "text/html": [
       "\n",
       "                <audio controls=\"controls\" >\n",
       "                    <source />\n",
       "                    Your browser does not support the audio element.\n",
       "                </audio>\n",
       "              "
      ],
      "text/plain": [
       "<IPython.lib.display.Audio object>"
      ]
     },
     "metadata": {},
     "output_type": "display_data"
    },
    {
     "data": {
      "text/markdown": [
       "\n",
       "\n",
       " ___"
      ],
      "text/plain": [
       "<IPython.core.display.Markdown object>"
      ]
     },
     "metadata": {},
     "output_type": "display_data"
    },
    {
     "data": {
      "text/markdown": [
       "**Text:** \"Braun feared him. He dared not take me away, for I would not go.\""
      ],
      "text/plain": [
       "<IPython.core.display.Markdown object>"
      ]
     },
     "metadata": {},
     "output_type": "display_data"
    },
    {
     "data": {
      "text/html": [
       "<a href='../../data/M-AILABS/en_US/by_book/female/mary_ann/midnight_passenger/wavs/pad(rate(guard(midnight_passenger_14_f000147),24000)).npy' target='_blank'>../../data/M-AILABS/en_US/by_book/female/mary_ann/midnight_passenger/wavs/pad(rate(guard(midnight_passenger_14_f000147),24000)).npy</a><br>"
      ],
      "text/plain": [
       "/Users/michaelp/Code/Tacotron-2/data/M-AILABS/en_US/by_book/female/mary_ann/midnight_passenger/wavs/pad(rate(guard(midnight_passenger_14_f000147),24000)).npy"
      ]
     },
     "metadata": {},
     "output_type": "display_data"
    },
    {
     "data": {
      "text/html": [
       "\n",
       "                <audio controls=\"controls\" >\n",
       "                    <source />\n",
       "                    Your browser does not support the audio element.\n",
       "                </audio>\n",
       "              "
      ],
      "text/plain": [
       "<IPython.lib.display.Audio object>"
      ]
     },
     "metadata": {},
     "output_type": "display_data"
    },
    {
     "data": {
      "text/markdown": [
       "\n",
       "\n",
       " ___"
      ],
      "text/plain": [
       "<IPython.core.display.Markdown object>"
      ]
     },
     "metadata": {},
     "output_type": "display_data"
    },
    {
     "data": {
      "text/markdown": [
       "**Text:** \"Margaret felt as if she had no business to be there, familiarly acquainting herself with the surroundings of death which he, the father, had only just learnt.\""
      ],
      "text/plain": [
       "<IPython.core.display.Markdown object>"
      ]
     },
     "metadata": {},
     "output_type": "display_data"
    },
    {
     "data": {
      "text/html": [
       "<a href='../../data/M-AILABS/en_US/by_book/female/mary_ann/northandsouth/wavs/pad(rate(guard(northandsouth_28_f000022),24000)).npy' target='_blank'>../../data/M-AILABS/en_US/by_book/female/mary_ann/northandsouth/wavs/pad(rate(guard(northandsouth_28_f000022),24000)).npy</a><br>"
      ],
      "text/plain": [
       "/Users/michaelp/Code/Tacotron-2/data/M-AILABS/en_US/by_book/female/mary_ann/northandsouth/wavs/pad(rate(guard(northandsouth_28_f000022),24000)).npy"
      ]
     },
     "metadata": {},
     "output_type": "display_data"
    },
    {
     "data": {
      "text/html": [
       "\n",
       "                <audio controls=\"controls\" >\n",
       "                    <source />\n",
       "                    Your browser does not support the audio element.\n",
       "                </audio>\n",
       "              "
      ],
      "text/plain": [
       "<IPython.lib.display.Audio object>"
      ]
     },
     "metadata": {},
     "output_type": "display_data"
    },
    {
     "data": {
      "text/markdown": [
       "\n",
       "\n",
       " ___"
      ],
      "text/plain": [
       "<IPython.core.display.Markdown object>"
      ]
     },
     "metadata": {},
     "output_type": "display_data"
    },
    {
     "data": {
      "text/markdown": [
       "**Text:** \"as soon as you get the copy of the Bolletino turn to the third page, pretend not to be able to read the address.\""
      ],
      "text/plain": [
       "<IPython.core.display.Markdown object>"
      ]
     },
     "metadata": {},
     "output_type": "display_data"
    },
    {
     "data": {
      "text/html": [
       "<a href='../../data/M-AILABS/en_US/by_book/male/elliot_miller/silent_bullet/wavs/pad(rate(guard(silent_bullet_11_f000261),24000)).npy' target='_blank'>../../data/M-AILABS/en_US/by_book/male/elliot_miller/silent_bullet/wavs/pad(rate(guard(silent_bullet_11_f000261),24000)).npy</a><br>"
      ],
      "text/plain": [
       "/Users/michaelp/Code/Tacotron-2/data/M-AILABS/en_US/by_book/male/elliot_miller/silent_bullet/wavs/pad(rate(guard(silent_bullet_11_f000261),24000)).npy"
      ]
     },
     "metadata": {},
     "output_type": "display_data"
    },
    {
     "data": {
      "text/html": [
       "\n",
       "                <audio controls=\"controls\" >\n",
       "                    <source />\n",
       "                    Your browser does not support the audio element.\n",
       "                </audio>\n",
       "              "
      ],
      "text/plain": [
       "<IPython.lib.display.Audio object>"
      ]
     },
     "metadata": {},
     "output_type": "display_data"
    },
    {
     "data": {
      "text/markdown": [
       "\n",
       "\n",
       " ___"
      ],
      "text/plain": [
       "<IPython.core.display.Markdown object>"
      ]
     },
     "metadata": {},
     "output_type": "display_data"
    },
    {
     "data": {
      "text/markdown": [
       "**Text:** \"so when they got down to the bottom he said, Stop now, just wait a little; here is solid ground.\""
      ],
      "text/plain": [
       "<IPython.core.display.Markdown object>"
      ]
     },
     "metadata": {},
     "output_type": "display_data"
    },
    {
     "data": {
      "text/html": [
       "<a href='../../data/M-AILABS/en_US/by_book/male/elliot_miller/pink_fairy_book/wavs/pad(rate(guard(pink_fairy_book_14_f000140),24000)).npy' target='_blank'>../../data/M-AILABS/en_US/by_book/male/elliot_miller/pink_fairy_book/wavs/pad(rate(guard(pink_fairy_book_14_f000140),24000)).npy</a><br>"
      ],
      "text/plain": [
       "/Users/michaelp/Code/Tacotron-2/data/M-AILABS/en_US/by_book/male/elliot_miller/pink_fairy_book/wavs/pad(rate(guard(pink_fairy_book_14_f000140),24000)).npy"
      ]
     },
     "metadata": {},
     "output_type": "display_data"
    },
    {
     "data": {
      "text/html": [
       "\n",
       "                <audio controls=\"controls\" >\n",
       "                    <source />\n",
       "                    Your browser does not support the audio element.\n",
       "                </audio>\n",
       "              "
      ],
      "text/plain": [
       "<IPython.lib.display.Audio object>"
      ]
     },
     "metadata": {},
     "output_type": "display_data"
    },
    {
     "data": {
      "text/markdown": [
       "\n",
       "\n",
       " ___"
      ],
      "text/plain": [
       "<IPython.core.display.Markdown object>"
      ]
     },
     "metadata": {},
     "output_type": "display_data"
    },
    {
     "data": {
      "text/markdown": [
       "**Text:** \"Yes; you are King of the Nomes, she said.\""
      ],
      "text/plain": [
       "<IPython.core.display.Markdown object>"
      ]
     },
     "metadata": {},
     "output_type": "display_data"
    },
    {
     "data": {
      "text/html": [
       "<a href='../../data/M-AILABS/en_US/by_book/female/judy_bieber/emerald_city_of_oz/wavs/pad(rate(guard(emerald_city_of_oz_28_f000058),24000)).npy' target='_blank'>../../data/M-AILABS/en_US/by_book/female/judy_bieber/emerald_city_of_oz/wavs/pad(rate(guard(emerald_city_of_oz_28_f000058),24000)).npy</a><br>"
      ],
      "text/plain": [
       "/Users/michaelp/Code/Tacotron-2/data/M-AILABS/en_US/by_book/female/judy_bieber/emerald_city_of_oz/wavs/pad(rate(guard(emerald_city_of_oz_28_f000058),24000)).npy"
      ]
     },
     "metadata": {},
     "output_type": "display_data"
    },
    {
     "data": {
      "text/html": [
       "\n",
       "                <audio controls=\"controls\" >\n",
       "                    <source />\n",
       "                    Your browser does not support the audio element.\n",
       "                </audio>\n",
       "              "
      ],
      "text/plain": [
       "<IPython.lib.display.Audio object>"
      ]
     },
     "metadata": {},
     "output_type": "display_data"
    },
    {
     "data": {
      "text/markdown": [
       "\n",
       "\n",
       " ___"
      ],
      "text/plain": [
       "<IPython.core.display.Markdown object>"
      ]
     },
     "metadata": {},
     "output_type": "display_data"
    },
    {
     "data": {
      "text/markdown": [
       "**Text:** \"Yes, there was one distinct, slow tramp of feet, which made itself a clear path through the air, and reached their ears;\""
      ],
      "text/plain": [
       "<IPython.core.display.Markdown object>"
      ]
     },
     "metadata": {},
     "output_type": "display_data"
    },
    {
     "data": {
      "text/html": [
       "<a href='../../data/M-AILABS/en_US/by_book/female/mary_ann/northandsouth/wavs/pad(rate(guard(northandsouth_36_f000107),24000)).npy' target='_blank'>../../data/M-AILABS/en_US/by_book/female/mary_ann/northandsouth/wavs/pad(rate(guard(northandsouth_36_f000107),24000)).npy</a><br>"
      ],
      "text/plain": [
       "/Users/michaelp/Code/Tacotron-2/data/M-AILABS/en_US/by_book/female/mary_ann/northandsouth/wavs/pad(rate(guard(northandsouth_36_f000107),24000)).npy"
      ]
     },
     "metadata": {},
     "output_type": "display_data"
    },
    {
     "data": {
      "text/html": [
       "\n",
       "                <audio controls=\"controls\" >\n",
       "                    <source />\n",
       "                    Your browser does not support the audio element.\n",
       "                </audio>\n",
       "              "
      ],
      "text/plain": [
       "<IPython.lib.display.Audio object>"
      ]
     },
     "metadata": {},
     "output_type": "display_data"
    },
    {
     "data": {
      "text/markdown": [
       "\n",
       "\n",
       " ___"
      ],
      "text/plain": [
       "<IPython.core.display.Markdown object>"
      ]
     },
     "metadata": {},
     "output_type": "display_data"
    },
    {
     "data": {
      "text/markdown": [
       "**Text:** \"Are any of them there now?\""
      ],
      "text/plain": [
       "<IPython.core.display.Markdown object>"
      ]
     },
     "metadata": {},
     "output_type": "display_data"
    },
    {
     "data": {
      "text/html": [
       "<a href='../../data/M-AILABS/en_US/by_book/female/judy_bieber/the_sea_fairies/wavs/pad(rate(guard(the_sea_fairies_10_f000051),24000)).npy' target='_blank'>../../data/M-AILABS/en_US/by_book/female/judy_bieber/the_sea_fairies/wavs/pad(rate(guard(the_sea_fairies_10_f000051),24000)).npy</a><br>"
      ],
      "text/plain": [
       "/Users/michaelp/Code/Tacotron-2/data/M-AILABS/en_US/by_book/female/judy_bieber/the_sea_fairies/wavs/pad(rate(guard(the_sea_fairies_10_f000051),24000)).npy"
      ]
     },
     "metadata": {},
     "output_type": "display_data"
    },
    {
     "data": {
      "text/html": [
       "\n",
       "                <audio controls=\"controls\" >\n",
       "                    <source />\n",
       "                    Your browser does not support the audio element.\n",
       "                </audio>\n",
       "              "
      ],
      "text/plain": [
       "<IPython.lib.display.Audio object>"
      ]
     },
     "metadata": {},
     "output_type": "display_data"
    },
    {
     "data": {
      "text/markdown": [
       "\n",
       "\n",
       " ___"
      ],
      "text/plain": [
       "<IPython.core.display.Markdown object>"
      ]
     },
     "metadata": {},
     "output_type": "display_data"
    },
    {
     "data": {
      "text/markdown": [
       "**Text:** \"Then he walked down-stairs and found his English-speaking waiter.\""
      ],
      "text/plain": [
       "<IPython.core.display.Markdown object>"
      ]
     },
     "metadata": {},
     "output_type": "display_data"
    },
    {
     "data": {
      "text/html": [
       "<a href='../../data/M-AILABS/en_US/by_book/female/judy_bieber/the_master_key/wavs/pad(rate(guard(the_master_key_12_f000006),24000)).npy' target='_blank'>../../data/M-AILABS/en_US/by_book/female/judy_bieber/the_master_key/wavs/pad(rate(guard(the_master_key_12_f000006),24000)).npy</a><br>"
      ],
      "text/plain": [
       "/Users/michaelp/Code/Tacotron-2/data/M-AILABS/en_US/by_book/female/judy_bieber/the_master_key/wavs/pad(rate(guard(the_master_key_12_f000006),24000)).npy"
      ]
     },
     "metadata": {},
     "output_type": "display_data"
    },
    {
     "data": {
      "text/html": [
       "\n",
       "                <audio controls=\"controls\" >\n",
       "                    <source />\n",
       "                    Your browser does not support the audio element.\n",
       "                </audio>\n",
       "              "
      ],
      "text/plain": [
       "<IPython.lib.display.Audio object>"
      ]
     },
     "metadata": {},
     "output_type": "display_data"
    },
    {
     "data": {
      "text/markdown": [
       "\n",
       "\n",
       " ___"
      ],
      "text/plain": [
       "<IPython.core.display.Markdown object>"
      ]
     },
     "metadata": {},
     "output_type": "display_data"
    },
    {
     "data": {
      "text/markdown": [
       "**Text:** \"Craig leaned over to me and whispered hoarsely, Keep perfectly still - dont move a hand or foot.\""
      ],
      "text/plain": [
       "<IPython.core.display.Markdown object>"
      ]
     },
     "metadata": {},
     "output_type": "display_data"
    },
    {
     "data": {
      "text/html": [
       "<a href='../../data/M-AILABS/en_US/by_book/male/elliot_miller/silent_bullet/wavs/pad(rate(guard(silent_bullet_06_f000099),24000)).npy' target='_blank'>../../data/M-AILABS/en_US/by_book/male/elliot_miller/silent_bullet/wavs/pad(rate(guard(silent_bullet_06_f000099),24000)).npy</a><br>"
      ],
      "text/plain": [
       "/Users/michaelp/Code/Tacotron-2/data/M-AILABS/en_US/by_book/male/elliot_miller/silent_bullet/wavs/pad(rate(guard(silent_bullet_06_f000099),24000)).npy"
      ]
     },
     "metadata": {},
     "output_type": "display_data"
    },
    {
     "data": {
      "text/html": [
       "\n",
       "                <audio controls=\"controls\" >\n",
       "                    <source />\n",
       "                    Your browser does not support the audio element.\n",
       "                </audio>\n",
       "              "
      ],
      "text/plain": [
       "<IPython.lib.display.Audio object>"
      ]
     },
     "metadata": {},
     "output_type": "display_data"
    },
    {
     "data": {
      "text/markdown": [
       "\n",
       "\n",
       " ___"
      ],
      "text/plain": [
       "<IPython.core.display.Markdown object>"
      ]
     },
     "metadata": {},
     "output_type": "display_data"
    },
    {
     "data": {
      "text/markdown": [
       "**Text:** \"So unnerved was Rob by his recent experiences that he determined to make no more stops.\""
      ],
      "text/plain": [
       "<IPython.core.display.Markdown object>"
      ]
     },
     "metadata": {},
     "output_type": "display_data"
    },
    {
     "data": {
      "text/html": [
       "<a href='../../data/M-AILABS/en_US/by_book/female/judy_bieber/the_master_key/wavs/pad(rate(guard(the_master_key_18_f000085),24000)).npy' target='_blank'>../../data/M-AILABS/en_US/by_book/female/judy_bieber/the_master_key/wavs/pad(rate(guard(the_master_key_18_f000085),24000)).npy</a><br>"
      ],
      "text/plain": [
       "/Users/michaelp/Code/Tacotron-2/data/M-AILABS/en_US/by_book/female/judy_bieber/the_master_key/wavs/pad(rate(guard(the_master_key_18_f000085),24000)).npy"
      ]
     },
     "metadata": {},
     "output_type": "display_data"
    },
    {
     "data": {
      "text/html": [
       "\n",
       "                <audio controls=\"controls\" >\n",
       "                    <source />\n",
       "                    Your browser does not support the audio element.\n",
       "                </audio>\n",
       "              "
      ],
      "text/plain": [
       "<IPython.lib.display.Audio object>"
      ]
     },
     "metadata": {},
     "output_type": "display_data"
    },
    {
     "data": {
      "text/markdown": [
       "\n",
       "\n",
       " ___"
      ],
      "text/plain": [
       "<IPython.core.display.Markdown object>"
      ]
     },
     "metadata": {},
     "output_type": "display_data"
    },
    {
     "data": {
      "text/markdown": [
       "**Text:** \"Missis Thornton did not choose to yield the point to her son; or else she had, in general, pride enough for her sex.\""
      ],
      "text/plain": [
       "<IPython.core.display.Markdown object>"
      ]
     },
     "metadata": {},
     "output_type": "display_data"
    },
    {
     "data": {
      "text/html": [
       "<a href='../../data/M-AILABS/en_US/by_book/female/mary_ann/northandsouth/wavs/pad(rate(guard(northandsouth_09_f000073),24000)).npy' target='_blank'>../../data/M-AILABS/en_US/by_book/female/mary_ann/northandsouth/wavs/pad(rate(guard(northandsouth_09_f000073),24000)).npy</a><br>"
      ],
      "text/plain": [
       "/Users/michaelp/Code/Tacotron-2/data/M-AILABS/en_US/by_book/female/mary_ann/northandsouth/wavs/pad(rate(guard(northandsouth_09_f000073),24000)).npy"
      ]
     },
     "metadata": {},
     "output_type": "display_data"
    },
    {
     "data": {
      "text/html": [
       "\n",
       "                <audio controls=\"controls\" >\n",
       "                    <source />\n",
       "                    Your browser does not support the audio element.\n",
       "                </audio>\n",
       "              "
      ],
      "text/plain": [
       "<IPython.lib.display.Audio object>"
      ]
     },
     "metadata": {},
     "output_type": "display_data"
    },
    {
     "data": {
      "text/markdown": [
       "\n",
       "\n",
       " ___"
      ],
      "text/plain": [
       "<IPython.core.display.Markdown object>"
      ]
     },
     "metadata": {},
     "output_type": "display_data"
    },
    {
     "data": {
      "text/markdown": [
       "**Text:** \"He connected the wires from the box to a sort of megaphone. Then he started the disc revolving.\""
      ],
      "text/plain": [
       "<IPython.core.display.Markdown object>"
      ]
     },
     "metadata": {},
     "output_type": "display_data"
    },
    {
     "data": {
      "text/html": [
       "<a href='../../data/M-AILABS/en_US/by_book/male/elliot_miller/poisoned_pen/wavs/pad(rate(guard(poisoned_pen_06_f000276),24000)).npy' target='_blank'>../../data/M-AILABS/en_US/by_book/male/elliot_miller/poisoned_pen/wavs/pad(rate(guard(poisoned_pen_06_f000276),24000)).npy</a><br>"
      ],
      "text/plain": [
       "/Users/michaelp/Code/Tacotron-2/data/M-AILABS/en_US/by_book/male/elliot_miller/poisoned_pen/wavs/pad(rate(guard(poisoned_pen_06_f000276),24000)).npy"
      ]
     },
     "metadata": {},
     "output_type": "display_data"
    },
    {
     "data": {
      "text/html": [
       "\n",
       "                <audio controls=\"controls\" >\n",
       "                    <source />\n",
       "                    Your browser does not support the audio element.\n",
       "                </audio>\n",
       "              "
      ],
      "text/plain": [
       "<IPython.lib.display.Audio object>"
      ]
     },
     "metadata": {},
     "output_type": "display_data"
    },
    {
     "data": {
      "text/markdown": [
       "\n",
       "\n",
       " ___"
      ],
      "text/plain": [
       "<IPython.core.display.Markdown object>"
      ]
     },
     "metadata": {},
     "output_type": "display_data"
    },
    {
     "data": {
      "text/markdown": [
       "**Text:** \"Missis Thornton herself went. And the sound of his well-known and commanding voice, seemed to have been like the taste of blood to the infuriated multitude outside.\""
      ],
      "text/plain": [
       "<IPython.core.display.Markdown object>"
      ]
     },
     "metadata": {},
     "output_type": "display_data"
    },
    {
     "data": {
      "text/html": [
       "<a href='../../data/M-AILABS/en_US/by_book/female/mary_ann/northandsouth/wavs/pad(rate(guard(northandsouth_22_f000034),24000)).npy' target='_blank'>../../data/M-AILABS/en_US/by_book/female/mary_ann/northandsouth/wavs/pad(rate(guard(northandsouth_22_f000034),24000)).npy</a><br>"
      ],
      "text/plain": [
       "/Users/michaelp/Code/Tacotron-2/data/M-AILABS/en_US/by_book/female/mary_ann/northandsouth/wavs/pad(rate(guard(northandsouth_22_f000034),24000)).npy"
      ]
     },
     "metadata": {},
     "output_type": "display_data"
    },
    {
     "data": {
      "text/html": [
       "\n",
       "                <audio controls=\"controls\" >\n",
       "                    <source />\n",
       "                    Your browser does not support the audio element.\n",
       "                </audio>\n",
       "              "
      ],
      "text/plain": [
       "<IPython.lib.display.Audio object>"
      ]
     },
     "metadata": {},
     "output_type": "display_data"
    },
    {
     "data": {
      "text/markdown": [
       "\n",
       "\n",
       " ___"
      ],
      "text/plain": [
       "<IPython.core.display.Markdown object>"
      ]
     },
     "metadata": {},
     "output_type": "display_data"
    },
    {
     "data": {
      "text/markdown": [
       "**Text:** \"-and if any question of identity came in, it so complicated the case, as I told mister Thornton-\""
      ],
      "text/plain": [
       "<IPython.core.display.Markdown object>"
      ]
     },
     "metadata": {},
     "output_type": "display_data"
    },
    {
     "data": {
      "text/html": [
       "<a href='../../data/M-AILABS/en_US/by_book/female/mary_ann/northandsouth/wavs/pad(rate(guard(northandsouth_35_f000149),24000)).npy' target='_blank'>../../data/M-AILABS/en_US/by_book/female/mary_ann/northandsouth/wavs/pad(rate(guard(northandsouth_35_f000149),24000)).npy</a><br>"
      ],
      "text/plain": [
       "/Users/michaelp/Code/Tacotron-2/data/M-AILABS/en_US/by_book/female/mary_ann/northandsouth/wavs/pad(rate(guard(northandsouth_35_f000149),24000)).npy"
      ]
     },
     "metadata": {},
     "output_type": "display_data"
    },
    {
     "data": {
      "text/html": [
       "\n",
       "                <audio controls=\"controls\" >\n",
       "                    <source />\n",
       "                    Your browser does not support the audio element.\n",
       "                </audio>\n",
       "              "
      ],
      "text/plain": [
       "<IPython.lib.display.Audio object>"
      ]
     },
     "metadata": {},
     "output_type": "display_data"
    },
    {
     "data": {
      "text/markdown": [
       "\n",
       "\n",
       " ___"
      ],
      "text/plain": [
       "<IPython.core.display.Markdown object>"
      ]
     },
     "metadata": {},
     "output_type": "display_data"
    },
    {
     "data": {
      "text/markdown": [
       "**Text:** \"By the time the boy came up to it, closely followed by Trot and captain Bill, the thing was only the well-known Magic Umbrella, with the carved elephant's head for a handle,\""
      ],
      "text/plain": [
       "<IPython.core.display.Markdown object>"
      ]
     },
     "metadata": {},
     "output_type": "display_data"
    },
    {
     "data": {
      "text/html": [
       "<a href='../../data/M-AILABS/en_US/by_book/female/judy_bieber/sky_island/wavs/pad(rate(guard(skyisland_28_baum_64kb_f000036),24000)).npy' target='_blank'>../../data/M-AILABS/en_US/by_book/female/judy_bieber/sky_island/wavs/pad(rate(guard(skyisland_28_baum_64kb_f000036),24000)).npy</a><br>"
      ],
      "text/plain": [
       "/Users/michaelp/Code/Tacotron-2/data/M-AILABS/en_US/by_book/female/judy_bieber/sky_island/wavs/pad(rate(guard(skyisland_28_baum_64kb_f000036),24000)).npy"
      ]
     },
     "metadata": {},
     "output_type": "display_data"
    },
    {
     "data": {
      "text/html": [
       "\n",
       "                <audio controls=\"controls\" >\n",
       "                    <source />\n",
       "                    Your browser does not support the audio element.\n",
       "                </audio>\n",
       "              "
      ],
      "text/plain": [
       "<IPython.lib.display.Audio object>"
      ]
     },
     "metadata": {},
     "output_type": "display_data"
    },
    {
     "data": {
      "text/markdown": [
       "\n",
       "\n",
       " ___"
      ],
      "text/plain": [
       "<IPython.core.display.Markdown object>"
      ]
     },
     "metadata": {},
     "output_type": "display_data"
    },
    {
     "data": {
      "text/markdown": [
       "**Text:** \"The sea has done Miss Hale an immense deal of good, I should fancy, said he, when she first left the room after his arrival in their family circle.\""
      ],
      "text/plain": [
       "<IPython.core.display.Markdown object>"
      ]
     },
     "metadata": {},
     "output_type": "display_data"
    },
    {
     "data": {
      "text/html": [
       "<a href='../../data/M-AILABS/en_US/by_book/female/mary_ann/northandsouth/wavs/pad(rate(guard(northandsouth_49_f000057),24000)).npy' target='_blank'>../../data/M-AILABS/en_US/by_book/female/mary_ann/northandsouth/wavs/pad(rate(guard(northandsouth_49_f000057),24000)).npy</a><br>"
      ],
      "text/plain": [
       "/Users/michaelp/Code/Tacotron-2/data/M-AILABS/en_US/by_book/female/mary_ann/northandsouth/wavs/pad(rate(guard(northandsouth_49_f000057),24000)).npy"
      ]
     },
     "metadata": {},
     "output_type": "display_data"
    },
    {
     "data": {
      "text/html": [
       "\n",
       "                <audio controls=\"controls\" >\n",
       "                    <source />\n",
       "                    Your browser does not support the audio element.\n",
       "                </audio>\n",
       "              "
      ],
      "text/plain": [
       "<IPython.lib.display.Audio object>"
      ]
     },
     "metadata": {},
     "output_type": "display_data"
    },
    {
     "data": {
      "text/markdown": [
       "\n",
       "\n",
       " ___"
      ],
      "text/plain": [
       "<IPython.core.display.Markdown object>"
      ]
     },
     "metadata": {},
     "output_type": "display_data"
    },
    {
     "data": {
      "text/markdown": [
       "**Text:** \"shutting the cracker doors carefully behind them.\""
      ],
      "text/plain": [
       "<IPython.core.display.Markdown object>"
      ]
     },
     "metadata": {},
     "output_type": "display_data"
    },
    {
     "data": {
      "text/html": [
       "<a href='../../data/M-AILABS/en_US/by_book/female/judy_bieber/emerald_city_of_oz/wavs/pad(rate(guard(emerald_city_of_oz_17_f000027),24000)).npy' target='_blank'>../../data/M-AILABS/en_US/by_book/female/judy_bieber/emerald_city_of_oz/wavs/pad(rate(guard(emerald_city_of_oz_17_f000027),24000)).npy</a><br>"
      ],
      "text/plain": [
       "/Users/michaelp/Code/Tacotron-2/data/M-AILABS/en_US/by_book/female/judy_bieber/emerald_city_of_oz/wavs/pad(rate(guard(emerald_city_of_oz_17_f000027),24000)).npy"
      ]
     },
     "metadata": {},
     "output_type": "display_data"
    },
    {
     "data": {
      "text/html": [
       "\n",
       "                <audio controls=\"controls\" >\n",
       "                    <source />\n",
       "                    Your browser does not support the audio element.\n",
       "                </audio>\n",
       "              "
      ],
      "text/plain": [
       "<IPython.lib.display.Audio object>"
      ]
     },
     "metadata": {},
     "output_type": "display_data"
    },
    {
     "data": {
      "text/markdown": [
       "\n",
       "\n",
       " ___"
      ],
      "text/plain": [
       "<IPython.core.display.Markdown object>"
      ]
     },
     "metadata": {},
     "output_type": "display_data"
    },
    {
     "data": {
      "text/markdown": [
       "**Text:** \"This they did, and, after sharing amongst them the jewels and gold they found in the castle, each man went his way. The two brothers remained together,\""
      ],
      "text/plain": [
       "<IPython.core.display.Markdown object>"
      ]
     },
     "metadata": {},
     "output_type": "display_data"
    },
    {
     "data": {
      "text/html": [
       "<a href='../../data/M-AILABS/en_US/by_book/male/elliot_miller/pink_fairy_book/wavs/pad(rate(guard(pink_fairy_book_26_f000115),24000)).npy' target='_blank'>../../data/M-AILABS/en_US/by_book/male/elliot_miller/pink_fairy_book/wavs/pad(rate(guard(pink_fairy_book_26_f000115),24000)).npy</a><br>"
      ],
      "text/plain": [
       "/Users/michaelp/Code/Tacotron-2/data/M-AILABS/en_US/by_book/male/elliot_miller/pink_fairy_book/wavs/pad(rate(guard(pink_fairy_book_26_f000115),24000)).npy"
      ]
     },
     "metadata": {},
     "output_type": "display_data"
    },
    {
     "data": {
      "text/html": [
       "\n",
       "                <audio controls=\"controls\" >\n",
       "                    <source />\n",
       "                    Your browser does not support the audio element.\n",
       "                </audio>\n",
       "              "
      ],
      "text/plain": [
       "<IPython.lib.display.Audio object>"
      ]
     },
     "metadata": {},
     "output_type": "display_data"
    },
    {
     "data": {
      "text/markdown": [
       "\n",
       "\n",
       " ___"
      ],
      "text/plain": [
       "<IPython.core.display.Markdown object>"
      ]
     },
     "metadata": {},
     "output_type": "display_data"
    },
    {
     "data": {
      "text/markdown": [
       "**Text:** \"Dorothy at once realized that she must act with caution in order not to frighten these shy people, who were evidently unused to the presence of strangers.\""
      ],
      "text/plain": [
       "<IPython.core.display.Markdown object>"
      ]
     },
     "metadata": {},
     "output_type": "display_data"
    },
    {
     "data": {
      "text/html": [
       "<a href='../../data/M-AILABS/en_US/by_book/female/judy_bieber/emerald_city_of_oz/wavs/pad(rate(guard(emerald_city_of_oz_17_f000029),24000)).npy' target='_blank'>../../data/M-AILABS/en_US/by_book/female/judy_bieber/emerald_city_of_oz/wavs/pad(rate(guard(emerald_city_of_oz_17_f000029),24000)).npy</a><br>"
      ],
      "text/plain": [
       "/Users/michaelp/Code/Tacotron-2/data/M-AILABS/en_US/by_book/female/judy_bieber/emerald_city_of_oz/wavs/pad(rate(guard(emerald_city_of_oz_17_f000029),24000)).npy"
      ]
     },
     "metadata": {},
     "output_type": "display_data"
    },
    {
     "data": {
      "text/html": [
       "\n",
       "                <audio controls=\"controls\" >\n",
       "                    <source />\n",
       "                    Your browser does not support the audio element.\n",
       "                </audio>\n",
       "              "
      ],
      "text/plain": [
       "<IPython.lib.display.Audio object>"
      ]
     },
     "metadata": {},
     "output_type": "display_data"
    },
    {
     "data": {
      "text/markdown": [
       "\n",
       "\n",
       " ___"
      ],
      "text/plain": [
       "<IPython.core.display.Markdown object>"
      ]
     },
     "metadata": {},
     "output_type": "display_data"
    },
    {
     "data": {
      "text/markdown": [
       "**Text:** \"It is a long sto-ry, replied the copper man; but I will tell it to you brief-ly. I was pur-chased from Smith  Tin-ker, my man-u-fac-tur-ers,\""
      ],
      "text/plain": [
       "<IPython.core.display.Markdown object>"
      ]
     },
     "metadata": {},
     "output_type": "display_data"
    },
    {
     "data": {
      "text/html": [
       "<a href='../../data/M-AILABS/en_US/by_book/female/judy_bieber/ozma_of_oz/wavs/pad(rate(guard(ozma_of_oz_04_f000070),24000)).npy' target='_blank'>../../data/M-AILABS/en_US/by_book/female/judy_bieber/ozma_of_oz/wavs/pad(rate(guard(ozma_of_oz_04_f000070),24000)).npy</a><br>"
      ],
      "text/plain": [
       "/Users/michaelp/Code/Tacotron-2/data/M-AILABS/en_US/by_book/female/judy_bieber/ozma_of_oz/wavs/pad(rate(guard(ozma_of_oz_04_f000070),24000)).npy"
      ]
     },
     "metadata": {},
     "output_type": "display_data"
    },
    {
     "data": {
      "text/html": [
       "\n",
       "                <audio controls=\"controls\" >\n",
       "                    <source />\n",
       "                    Your browser does not support the audio element.\n",
       "                </audio>\n",
       "              "
      ],
      "text/plain": [
       "<IPython.lib.display.Audio object>"
      ]
     },
     "metadata": {},
     "output_type": "display_data"
    },
    {
     "data": {
      "text/markdown": [
       "\n",
       "\n",
       " ___"
      ],
      "text/plain": [
       "<IPython.core.display.Markdown object>"
      ]
     },
     "metadata": {},
     "output_type": "display_data"
    },
    {
     "data": {
      "text/markdown": [
       "**Text:** \"Nay! John, said his mother, that speech of Fannys did no harm.\""
      ],
      "text/plain": [
       "<IPython.core.display.Markdown object>"
      ]
     },
     "metadata": {},
     "output_type": "display_data"
    },
    {
     "data": {
      "text/html": [
       "<a href='../../data/M-AILABS/en_US/by_book/female/mary_ann/northandsouth/wavs/pad(rate(guard(northandsouth_18_f000074),24000)).npy' target='_blank'>../../data/M-AILABS/en_US/by_book/female/mary_ann/northandsouth/wavs/pad(rate(guard(northandsouth_18_f000074),24000)).npy</a><br>"
      ],
      "text/plain": [
       "/Users/michaelp/Code/Tacotron-2/data/M-AILABS/en_US/by_book/female/mary_ann/northandsouth/wavs/pad(rate(guard(northandsouth_18_f000074),24000)).npy"
      ]
     },
     "metadata": {},
     "output_type": "display_data"
    },
    {
     "data": {
      "text/html": [
       "\n",
       "                <audio controls=\"controls\" >\n",
       "                    <source />\n",
       "                    Your browser does not support the audio element.\n",
       "                </audio>\n",
       "              "
      ],
      "text/plain": [
       "<IPython.lib.display.Audio object>"
      ]
     },
     "metadata": {},
     "output_type": "display_data"
    },
    {
     "data": {
      "text/markdown": [
       "\n",
       "\n",
       " ___"
      ],
      "text/plain": [
       "<IPython.core.display.Markdown object>"
      ]
     },
     "metadata": {},
     "output_type": "display_data"
    },
    {
     "data": {
      "text/markdown": [
       "**Text:** \"Un faux pas, at the start? Jamais!\""
      ],
      "text/plain": [
       "<IPython.core.display.Markdown object>"
      ]
     },
     "metadata": {},
     "output_type": "display_data"
    },
    {
     "data": {
      "text/html": [
       "<a href='../../data/M-AILABS/en_US/by_book/male/elliot_miller/silent_bullet/wavs/pad(rate(guard(silent_bullet_13_f000102),24000)).npy' target='_blank'>../../data/M-AILABS/en_US/by_book/male/elliot_miller/silent_bullet/wavs/pad(rate(guard(silent_bullet_13_f000102),24000)).npy</a><br>"
      ],
      "text/plain": [
       "/Users/michaelp/Code/Tacotron-2/data/M-AILABS/en_US/by_book/male/elliot_miller/silent_bullet/wavs/pad(rate(guard(silent_bullet_13_f000102),24000)).npy"
      ]
     },
     "metadata": {},
     "output_type": "display_data"
    },
    {
     "data": {
      "text/html": [
       "\n",
       "                <audio controls=\"controls\" >\n",
       "                    <source />\n",
       "                    Your browser does not support the audio element.\n",
       "                </audio>\n",
       "              "
      ],
      "text/plain": [
       "<IPython.lib.display.Audio object>"
      ]
     },
     "metadata": {},
     "output_type": "display_data"
    },
    {
     "data": {
      "text/markdown": [
       "\n",
       "\n",
       " ___"
      ],
      "text/plain": [
       "<IPython.core.display.Markdown object>"
      ]
     },
     "metadata": {},
     "output_type": "display_data"
    },
    {
     "data": {
      "text/markdown": [
       "**Text:** \"shedding splendid rays throughout the vast halls.\""
      ],
      "text/plain": [
       "<IPython.core.display.Markdown object>"
      ]
     },
     "metadata": {},
     "output_type": "display_data"
    },
    {
     "data": {
      "text/html": [
       "<a href='../../data/M-AILABS/en_US/by_book/female/judy_bieber/the_sea_fairies/wavs/pad(rate(guard(the_sea_fairies_08_f000014),24000)).npy' target='_blank'>../../data/M-AILABS/en_US/by_book/female/judy_bieber/the_sea_fairies/wavs/pad(rate(guard(the_sea_fairies_08_f000014),24000)).npy</a><br>"
      ],
      "text/plain": [
       "/Users/michaelp/Code/Tacotron-2/data/M-AILABS/en_US/by_book/female/judy_bieber/the_sea_fairies/wavs/pad(rate(guard(the_sea_fairies_08_f000014),24000)).npy"
      ]
     },
     "metadata": {},
     "output_type": "display_data"
    },
    {
     "data": {
      "text/html": [
       "\n",
       "                <audio controls=\"controls\" >\n",
       "                    <source />\n",
       "                    Your browser does not support the audio element.\n",
       "                </audio>\n",
       "              "
      ],
      "text/plain": [
       "<IPython.lib.display.Audio object>"
      ]
     },
     "metadata": {},
     "output_type": "display_data"
    },
    {
     "data": {
      "text/markdown": [
       "\n",
       "\n",
       " ___"
      ],
      "text/plain": [
       "<IPython.core.display.Markdown object>"
      ]
     },
     "metadata": {},
     "output_type": "display_data"
    },
    {
     "data": {
      "text/markdown": [
       "**Text:** \"I'll be out of this slavery the very moment that Jack opens his guns. And he shall pay the last score, to the last stiver!\""
      ],
      "text/plain": [
       "<IPython.core.display.Markdown object>"
      ]
     },
     "metadata": {},
     "output_type": "display_data"
    },
    {
     "data": {
      "text/html": [
       "<a href='../../data/M-AILABS/en_US/by_book/female/mary_ann/midnight_passenger/wavs/pad(rate(guard(midnight_passenger_03_f000097),24000)).npy' target='_blank'>../../data/M-AILABS/en_US/by_book/female/mary_ann/midnight_passenger/wavs/pad(rate(guard(midnight_passenger_03_f000097),24000)).npy</a><br>"
      ],
      "text/plain": [
       "/Users/michaelp/Code/Tacotron-2/data/M-AILABS/en_US/by_book/female/mary_ann/midnight_passenger/wavs/pad(rate(guard(midnight_passenger_03_f000097),24000)).npy"
      ]
     },
     "metadata": {},
     "output_type": "display_data"
    },
    {
     "data": {
      "text/html": [
       "\n",
       "                <audio controls=\"controls\" >\n",
       "                    <source />\n",
       "                    Your browser does not support the audio element.\n",
       "                </audio>\n",
       "              "
      ],
      "text/plain": [
       "<IPython.lib.display.Audio object>"
      ]
     },
     "metadata": {},
     "output_type": "display_data"
    },
    {
     "data": {
      "text/markdown": [
       "\n",
       "\n",
       " ___"
      ],
      "text/plain": [
       "<IPython.core.display.Markdown object>"
      ]
     },
     "metadata": {},
     "output_type": "display_data"
    },
    {
     "data": {
      "text/markdown": [
       "**Text:** \"The prince was quite captivated by the beautiful princess, and was quite willing to do anything whatsoever to get her for himself.\""
      ],
      "text/plain": [
       "<IPython.core.display.Markdown object>"
      ]
     },
     "metadata": {},
     "output_type": "display_data"
    },
    {
     "data": {
      "text/html": [
       "<a href='../../data/M-AILABS/en_US/by_book/male/elliot_miller/pink_fairy_book/wavs/pad(rate(guard(pink_fairy_book_30_f000045),24000)).npy' target='_blank'>../../data/M-AILABS/en_US/by_book/male/elliot_miller/pink_fairy_book/wavs/pad(rate(guard(pink_fairy_book_30_f000045),24000)).npy</a><br>"
      ],
      "text/plain": [
       "/Users/michaelp/Code/Tacotron-2/data/M-AILABS/en_US/by_book/male/elliot_miller/pink_fairy_book/wavs/pad(rate(guard(pink_fairy_book_30_f000045),24000)).npy"
      ]
     },
     "metadata": {},
     "output_type": "display_data"
    },
    {
     "data": {
      "text/html": [
       "\n",
       "                <audio controls=\"controls\" >\n",
       "                    <source />\n",
       "                    Your browser does not support the audio element.\n",
       "                </audio>\n",
       "              "
      ],
      "text/plain": [
       "<IPython.lib.display.Audio object>"
      ]
     },
     "metadata": {},
     "output_type": "display_data"
    },
    {
     "data": {
      "text/markdown": [
       "\n",
       "\n",
       " ___"
      ],
      "text/plain": [
       "<IPython.core.display.Markdown object>"
      ]
     },
     "metadata": {},
     "output_type": "display_data"
    },
    {
     "data": {
      "text/markdown": [
       "**Text:** \"and her appearance seemed to add to his fright.\""
      ],
      "text/plain": [
       "<IPython.core.display.Markdown object>"
      ]
     },
     "metadata": {},
     "output_type": "display_data"
    },
    {
     "data": {
      "text/html": [
       "<a href='../../data/M-AILABS/en_US/by_book/female/judy_bieber/dorothy_and_wizard_oz/wavs/pad(rate(guard(dorothy_and_wizard_oz_02_f000026),24000)).npy' target='_blank'>../../data/M-AILABS/en_US/by_book/female/judy_bieber/dorothy_and_wizard_oz/wavs/pad(rate(guard(dorothy_and_wizard_oz_02_f000026),24000)).npy</a><br>"
      ],
      "text/plain": [
       "/Users/michaelp/Code/Tacotron-2/data/M-AILABS/en_US/by_book/female/judy_bieber/dorothy_and_wizard_oz/wavs/pad(rate(guard(dorothy_and_wizard_oz_02_f000026),24000)).npy"
      ]
     },
     "metadata": {},
     "output_type": "display_data"
    },
    {
     "data": {
      "text/html": [
       "\n",
       "                <audio controls=\"controls\" >\n",
       "                    <source />\n",
       "                    Your browser does not support the audio element.\n",
       "                </audio>\n",
       "              "
      ],
      "text/plain": [
       "<IPython.lib.display.Audio object>"
      ]
     },
     "metadata": {},
     "output_type": "display_data"
    },
    {
     "data": {
      "text/markdown": [
       "\n",
       "\n",
       " ___"
      ],
      "text/plain": [
       "<IPython.core.display.Markdown object>"
      ]
     },
     "metadata": {},
     "output_type": "display_data"
    },
    {
     "data": {
      "text/markdown": [
       "**Text:** \"as she shaded her wet ruffled hair off her face, and tried to look as though nothing were the matter;\""
      ],
      "text/plain": [
       "<IPython.core.display.Markdown object>"
      ]
     },
     "metadata": {},
     "output_type": "display_data"
    },
    {
     "data": {
      "text/html": [
       "<a href='../../data/M-AILABS/en_US/by_book/female/mary_ann/northandsouth/wavs/pad(rate(guard(northandsouth_05_f000153),24000)).npy' target='_blank'>../../data/M-AILABS/en_US/by_book/female/mary_ann/northandsouth/wavs/pad(rate(guard(northandsouth_05_f000153),24000)).npy</a><br>"
      ],
      "text/plain": [
       "/Users/michaelp/Code/Tacotron-2/data/M-AILABS/en_US/by_book/female/mary_ann/northandsouth/wavs/pad(rate(guard(northandsouth_05_f000153),24000)).npy"
      ]
     },
     "metadata": {},
     "output_type": "display_data"
    },
    {
     "data": {
      "text/html": [
       "\n",
       "                <audio controls=\"controls\" >\n",
       "                    <source />\n",
       "                    Your browser does not support the audio element.\n",
       "                </audio>\n",
       "              "
      ],
      "text/plain": [
       "<IPython.lib.display.Audio object>"
      ]
     },
     "metadata": {},
     "output_type": "display_data"
    },
    {
     "data": {
      "text/markdown": [
       "\n",
       "\n",
       " ___"
      ],
      "text/plain": [
       "<IPython.core.display.Markdown object>"
      ]
     },
     "metadata": {},
     "output_type": "display_data"
    },
    {
     "data": {
      "text/markdown": [
       "**Text:** \"The charcoal burner, however, knew the wild forest well, and especially this part of it lying between the city and his home.\""
      ],
      "text/plain": [
       "<IPython.core.display.Markdown object>"
      ]
     },
     "metadata": {},
     "output_type": "display_data"
    },
    {
     "data": {
      "text/html": [
       "<a href='../../data/M-AILABS/en_US/by_book/female/judy_bieber/rinkitink_in_oz/wavs/pad(rate(guard(rinkitink_baum_09_64kb_f000018),24000)).npy' target='_blank'>../../data/M-AILABS/en_US/by_book/female/judy_bieber/rinkitink_in_oz/wavs/pad(rate(guard(rinkitink_baum_09_64kb_f000018),24000)).npy</a><br>"
      ],
      "text/plain": [
       "/Users/michaelp/Code/Tacotron-2/data/M-AILABS/en_US/by_book/female/judy_bieber/rinkitink_in_oz/wavs/pad(rate(guard(rinkitink_baum_09_64kb_f000018),24000)).npy"
      ]
     },
     "metadata": {},
     "output_type": "display_data"
    },
    {
     "data": {
      "text/html": [
       "\n",
       "                <audio controls=\"controls\" >\n",
       "                    <source />\n",
       "                    Your browser does not support the audio element.\n",
       "                </audio>\n",
       "              "
      ],
      "text/plain": [
       "<IPython.lib.display.Audio object>"
      ]
     },
     "metadata": {},
     "output_type": "display_data"
    },
    {
     "data": {
      "text/markdown": [
       "\n",
       "\n",
       " ___"
      ],
      "text/plain": [
       "<IPython.core.display.Markdown object>"
      ]
     },
     "metadata": {},
     "output_type": "display_data"
    },
    {
     "data": {
      "text/markdown": [
       "**Text:** \"What's my opinion worth? bluntly said the watchful Emil. This!\""
      ],
      "text/plain": [
       "<IPython.core.display.Markdown object>"
      ]
     },
     "metadata": {},
     "output_type": "display_data"
    },
    {
     "data": {
      "text/html": [
       "<a href='../../data/M-AILABS/en_US/by_book/female/mary_ann/midnight_passenger/wavs/pad(rate(guard(midnight_passenger_10_f000060),24000)).npy' target='_blank'>../../data/M-AILABS/en_US/by_book/female/mary_ann/midnight_passenger/wavs/pad(rate(guard(midnight_passenger_10_f000060),24000)).npy</a><br>"
      ],
      "text/plain": [
       "/Users/michaelp/Code/Tacotron-2/data/M-AILABS/en_US/by_book/female/mary_ann/midnight_passenger/wavs/pad(rate(guard(midnight_passenger_10_f000060),24000)).npy"
      ]
     },
     "metadata": {},
     "output_type": "display_data"
    },
    {
     "data": {
      "text/html": [
       "\n",
       "                <audio controls=\"controls\" >\n",
       "                    <source />\n",
       "                    Your browser does not support the audio element.\n",
       "                </audio>\n",
       "              "
      ],
      "text/plain": [
       "<IPython.lib.display.Audio object>"
      ]
     },
     "metadata": {},
     "output_type": "display_data"
    },
    {
     "data": {
      "text/markdown": [
       "\n",
       "\n",
       " ___"
      ],
      "text/plain": [
       "<IPython.core.display.Markdown object>"
      ]
     },
     "metadata": {},
     "output_type": "display_data"
    },
    {
     "data": {
      "text/markdown": [
       "**Text:** \"A friend recommended doctor Gregory to my husband, who took me there.\""
      ],
      "text/plain": [
       "<IPython.core.display.Markdown object>"
      ]
     },
     "metadata": {},
     "output_type": "display_data"
    },
    {
     "data": {
      "text/html": [
       "<a href='../../data/M-AILABS/en_US/by_book/male/elliot_miller/silent_bullet/wavs/pad(rate(guard(silent_bullet_05_f000084),24000)).npy' target='_blank'>../../data/M-AILABS/en_US/by_book/male/elliot_miller/silent_bullet/wavs/pad(rate(guard(silent_bullet_05_f000084),24000)).npy</a><br>"
      ],
      "text/plain": [
       "/Users/michaelp/Code/Tacotron-2/data/M-AILABS/en_US/by_book/male/elliot_miller/silent_bullet/wavs/pad(rate(guard(silent_bullet_05_f000084),24000)).npy"
      ]
     },
     "metadata": {},
     "output_type": "display_data"
    },
    {
     "data": {
      "text/html": [
       "\n",
       "                <audio controls=\"controls\" >\n",
       "                    <source />\n",
       "                    Your browser does not support the audio element.\n",
       "                </audio>\n",
       "              "
      ],
      "text/plain": [
       "<IPython.lib.display.Audio object>"
      ]
     },
     "metadata": {},
     "output_type": "display_data"
    },
    {
     "data": {
      "text/markdown": [
       "\n",
       "\n",
       " ___"
      ],
      "text/plain": [
       "<IPython.core.display.Markdown object>"
      ]
     },
     "metadata": {},
     "output_type": "display_data"
    },
    {
     "data": {
      "text/markdown": [
       "**Text:** \"Then Mister August Meyer of Brooklyn proceeded to leisurely array himself as a clubman of fashion.\""
      ],
      "text/plain": [
       "<IPython.core.display.Markdown object>"
      ]
     },
     "metadata": {},
     "output_type": "display_data"
    },
    {
     "data": {
      "text/html": [
       "<a href='../../data/M-AILABS/en_US/by_book/female/mary_ann/midnight_passenger/wavs/pad(rate(guard(midnight_passenger_04_f000296),24000)).npy' target='_blank'>../../data/M-AILABS/en_US/by_book/female/mary_ann/midnight_passenger/wavs/pad(rate(guard(midnight_passenger_04_f000296),24000)).npy</a><br>"
      ],
      "text/plain": [
       "/Users/michaelp/Code/Tacotron-2/data/M-AILABS/en_US/by_book/female/mary_ann/midnight_passenger/wavs/pad(rate(guard(midnight_passenger_04_f000296),24000)).npy"
      ]
     },
     "metadata": {},
     "output_type": "display_data"
    },
    {
     "data": {
      "text/html": [
       "\n",
       "                <audio controls=\"controls\" >\n",
       "                    <source />\n",
       "                    Your browser does not support the audio element.\n",
       "                </audio>\n",
       "              "
      ],
      "text/plain": [
       "<IPython.lib.display.Audio object>"
      ]
     },
     "metadata": {},
     "output_type": "display_data"
    },
    {
     "data": {
      "text/markdown": [
       "\n",
       "\n",
       " ___"
      ],
      "text/plain": [
       "<IPython.core.display.Markdown object>"
      ]
     },
     "metadata": {},
     "output_type": "display_data"
    },
    {
     "data": {
      "text/markdown": [
       "**Text:** \"I'm certain of it! said Fani. And I think you'd better.\""
      ],
      "text/plain": [
       "<IPython.core.display.Markdown object>"
      ]
     },
     "metadata": {},
     "output_type": "display_data"
    },
    {
     "data": {
      "text/html": [
       "<a href='../../data/M-AILABS/en_US/by_book/male/elliot_miller/pirates_of_ersatz/wavs/pad(rate(guard(piratesofersatz_09_leinster_64kb_f000197),24000)).npy' target='_blank'>../../data/M-AILABS/en_US/by_book/male/elliot_miller/pirates_of_ersatz/wavs/pad(rate(guard(piratesofersatz_09_leinster_64kb_f000197),24000)).npy</a><br>"
      ],
      "text/plain": [
       "/Users/michaelp/Code/Tacotron-2/data/M-AILABS/en_US/by_book/male/elliot_miller/pirates_of_ersatz/wavs/pad(rate(guard(piratesofersatz_09_leinster_64kb_f000197),24000)).npy"
      ]
     },
     "metadata": {},
     "output_type": "display_data"
    },
    {
     "data": {
      "text/html": [
       "\n",
       "                <audio controls=\"controls\" >\n",
       "                    <source />\n",
       "                    Your browser does not support the audio element.\n",
       "                </audio>\n",
       "              "
      ],
      "text/plain": [
       "<IPython.lib.display.Audio object>"
      ]
     },
     "metadata": {},
     "output_type": "display_data"
    },
    {
     "data": {
      "text/markdown": [
       "\n",
       "\n",
       " ___"
      ],
      "text/plain": [
       "<IPython.core.display.Markdown object>"
      ]
     },
     "metadata": {},
     "output_type": "display_data"
    }
   ],
   "source": [
    "import random\n",
    "import numpy\n",
    "\n",
    "from IPython.display import Audio\n",
    "from IPython.display import Markdown\n",
    "\n",
    "from IPython.display import FileLink\n",
    "\n",
    "examples = random.sample(data.rows, 100)\n",
    "for example in examples:\n",
    "    display(Markdown('**Text:** \"' + example['text'] + '\"'))\n",
    "    display(FileLink(example['audio_path']))\n",
    "    display(Audio(numpy.load(str(example['audio_path']))))\n",
    "    display(Markdown('\\n\\n ___'))\n",
    "    display()"
   ]
  },
  {
   "cell_type": "code",
   "execution_count": 7,
   "metadata": {},
   "outputs": [
    {
     "data": {
      "text/plain": [
       "[' ',\n",
       " '!',\n",
       " \"'\",\n",
       " ',',\n",
       " '-',\n",
       " '.',\n",
       " ':',\n",
       " ';',\n",
       " '?',\n",
       " 'A',\n",
       " 'B',\n",
       " 'C',\n",
       " 'D',\n",
       " 'E',\n",
       " 'F',\n",
       " 'G',\n",
       " 'H',\n",
       " 'I',\n",
       " 'J',\n",
       " 'K',\n",
       " 'L',\n",
       " 'M',\n",
       " 'N',\n",
       " 'O',\n",
       " 'P',\n",
       " 'Q',\n",
       " 'R',\n",
       " 'S',\n",
       " 'T',\n",
       " 'U',\n",
       " 'V',\n",
       " 'W',\n",
       " 'X',\n",
       " 'Y',\n",
       " 'Z',\n",
       " 'a',\n",
       " 'b',\n",
       " 'c',\n",
       " 'd',\n",
       " 'e',\n",
       " 'f',\n",
       " 'g',\n",
       " 'h',\n",
       " 'i',\n",
       " 'j',\n",
       " 'k',\n",
       " 'l',\n",
       " 'm',\n",
       " 'n',\n",
       " 'o',\n",
       " 'p',\n",
       " 'q',\n",
       " 'r',\n",
       " 's',\n",
       " 't',\n",
       " 'u',\n",
       " 'v',\n",
       " 'w',\n",
       " 'x',\n",
       " 'y',\n",
       " 'z']"
      ]
     },
     "execution_count": 7,
     "metadata": {},
     "output_type": "execute_result"
    }
   ],
   "source": [
    "characters = set()\n",
    "for row in data:\n",
    "    characters.update(list(row['text']))\n",
    "characters = sorted(list(characters))\n",
    "characters"
   ]
  },
  {
   "cell_type": "code",
   "execution_count": null,
   "metadata": {},
   "outputs": [],
   "source": []
  }
 ],
 "metadata": {
  "kernelspec": {
   "display_name": "Python 3",
   "language": "python",
   "name": "python3"
  },
  "language_info": {
   "codemirror_mode": {
    "name": "ipython",
    "version": 3
   },
   "file_extension": ".py",
   "mimetype": "text/x-python",
   "name": "python",
   "nbconvert_exporter": "python",
   "pygments_lexer": "ipython3",
   "version": "3.6.5"
  }
 },
 "nbformat": 4,
 "nbformat_minor": 2
}
