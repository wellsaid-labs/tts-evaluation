{
 "cells": [
  {
   "cell_type": "markdown",
   "metadata": {},
   "source": [
    "# Verbalizing Hillary\n",
    "\n",
    "The goals of this notebook are:\n",
    "\n",
    "- Construct an algorithm to verbalize the Hillary dataset.\n",
    "- Understand the distribution of not verbalized symbols such as numbers and special characters."
   ]
  },
  {
   "cell_type": "code",
   "execution_count": 2,
   "metadata": {
    "scrolled": false
   },
   "outputs": [],
   "source": [
    "import re\n",
    "import sys\n",
    "\n",
    "# Setup the \"PYTHONPATH\"\n",
    "sys.path.insert(0, '../../')\n",
    "\n",
    "from src.datasets.lj_speech import _iterate_and_replace"
   ]
  },
  {
   "cell_type": "code",
   "execution_count": 4,
   "metadata": {},
   "outputs": [
    {
     "name": "stderr",
     "output_type": "stream",
     "text": [
      "No config for `hillary.hillary_dataset` (`src.datasets.hillary.hillary_dataset`)\n",
      "100%|██████████| 9670/9670 [03:58<00:00, 33.86it/s]\n"
     ]
    }
   ],
   "source": [
    "from src.datasets import hillary_dataset\n",
    "\n",
    "data, _ = hillary_dataset(directory='../../data')"
   ]
  },
  {
   "cell_type": "code",
   "execution_count": 5,
   "metadata": {
    "scrolled": false
   },
   "outputs": [],
   "source": [
    "import random\n",
    "import os\n",
    "\n",
    "from IPython.display import Audio\n",
    "from IPython.display import Markdown\n",
    "from IPython.display import FileLink\n",
    "\n",
    "def find_examples(regex, display_n=5, load_audio=False, replace=True, group=1, context=25):\n",
    "    \"\"\" Print ``display_n`` examples of ``regex`` in ``lj_speech_dataset``.\n",
    "    \n",
    "    This is the bread and butter module for our data analysis. Enabling us to use regex to query the\n",
    "    dataset and retrieve samples.\n",
    "    \n",
    "    Args:\n",
    "        regex (str): Pattern or compiled regex object.\n",
    "        display_n (int or None, optional): Number of examples to display.\n",
    "        load_audio (bool, optional): If to load audio.\n",
    "        replace (bool, optional): If to replace the matched characters with XXX...\n",
    "        group (int, optional): Group to select in regex.\n",
    "        context (int, optional): Number of characters to include on the left and right of the matched\n",
    "            text as context.\n",
    "        \n",
    "    Returns:\n",
    "        None\n",
    "    \"\"\"\n",
    "    examples = []\n",
    "    for row in data:\n",
    "        matches = re.finditer(regex, row['text'])\n",
    "        for match in matches:\n",
    "            if match.start(group) - match.end(group) == 0:\n",
    "                continue\n",
    "            \n",
    "            text = row['text']    \n",
    "            start = match.start(group)\n",
    "            end = match.end(group)\n",
    "            start_context = max(start - context, 0)\n",
    "            end_context = min(end + context, len(text))\n",
    "            \n",
    "            if replace:\n",
    "                row['text'] = '{}{}{}'.format(text[:start],\n",
    "                                              'X' * (end - start), \n",
    "                                              text[end:])\n",
    "                \n",
    "            if start != 0 or end != len(row['text']):\n",
    "                text = '{}**{}**{}'.format(text[start_context:start],\n",
    "                                           match.group(group),\n",
    "                                           text[end:end_context])\n",
    "            if start != 0:\n",
    "                text = '…' + text\n",
    "            if end != len(row['text']):\n",
    "                text = text + '…'\n",
    "                \n",
    "            examples.append({\n",
    "                'text': text,\n",
    "                'audio': row['wav_filename']\n",
    "            })\n",
    "            \n",
    "    # Print Examples\n",
    "    display(Markdown('### Examples Captured by Regex'))\n",
    "    display(Markdown('**Regex:** ' + str(regex)))\n",
    "    display(Markdown('**Number of Examples:** ' + str(len(examples))))\n",
    "    \n",
    "    random.shuffle(examples)\n",
    "    if display_n is not None:\n",
    "        examples = examples[:display_n]\n",
    "    \n",
    "    display(Markdown('**Number of Examples Shown:** ' + str(len(examples))))\n",
    "    display(Markdown('\\n\\n ___'))\n",
    "    \n",
    "    for example in examples:\n",
    "        display(Markdown('**Text:** \"' + example['text'] + '\"'))\n",
    "        display(FileLink(example['audio']))\n",
    "        if load_audio:\n",
    "            display(Audio(filename=str(example['audio'])))\n",
    "        display(Markdown('\\n\\n ___'))\n",
    "        display()"
   ]
  },
  {
   "cell_type": "markdown",
   "metadata": {},
   "source": [
    "## Sample of the Dataset"
   ]
  },
  {
   "cell_type": "code",
   "execution_count": 6,
   "metadata": {
    "scrolled": false
   },
   "outputs": [
    {
     "data": {
      "text/markdown": [
       "### Examples Captured by Regex"
      ],
      "text/plain": [
       "<IPython.core.display.Markdown object>"
      ]
     },
     "metadata": {},
     "output_type": "display_data"
    },
    {
     "data": {
      "text/markdown": [
       "**Regex:** (?s).*"
      ],
      "text/plain": [
       "<IPython.core.display.Markdown object>"
      ]
     },
     "metadata": {},
     "output_type": "display_data"
    },
    {
     "data": {
      "text/markdown": [
       "**Number of Examples:** 7736"
      ],
      "text/plain": [
       "<IPython.core.display.Markdown object>"
      ]
     },
     "metadata": {},
     "output_type": "display_data"
    },
    {
     "data": {
      "text/markdown": [
       "**Number of Examples Shown:** 100"
      ],
      "text/plain": [
       "<IPython.core.display.Markdown object>"
      ]
     },
     "metadata": {},
     "output_type": "display_data"
    },
    {
     "data": {
      "text/markdown": [
       "\n",
       "\n",
       " ___"
      ],
      "text/plain": [
       "<IPython.core.display.Markdown object>"
      ]
     },
     "metadata": {},
     "output_type": "display_data"
    },
    {
     "data": {
      "text/markdown": [
       "**Text:** \"that begins with miles of quiet.\""
      ],
      "text/plain": [
       "<IPython.core.display.Markdown object>"
      ]
     },
     "metadata": {},
     "output_type": "display_data"
    },
    {
     "data": {
      "text/html": [
       "<a href='../../data/Hillary/wavs/Scripts 102-107/script_73_chunk_3-rate=24000.wav' target='_blank'>../../data/Hillary/wavs/Scripts 102-107/script_73_chunk_3-rate=24000.wav</a><br>"
      ],
      "text/plain": [
       "/Users/michaelp/Code/Tacotron-2/data/Hillary/wavs/Scripts 102-107/script_73_chunk_3-rate=24000.wav"
      ]
     },
     "metadata": {},
     "output_type": "display_data"
    },
    {
     "data": {
      "text/html": [
       "\n",
       "                <audio controls=\"controls\" >\n",
       "                    <source />\n",
       "                    Your browser does not support the audio element.\n",
       "                </audio>\n",
       "              "
      ],
      "text/plain": [
       "<IPython.lib.display.Audio object>"
      ]
     },
     "metadata": {},
     "output_type": "display_data"
    },
    {
     "data": {
      "text/markdown": [
       "\n",
       "\n",
       " ___"
      ],
      "text/plain": [
       "<IPython.core.display.Markdown object>"
      ]
     },
     "metadata": {},
     "output_type": "display_data"
    },
    {
     "data": {
      "text/markdown": [
       "**Text:** \"and relying on evidence and sound rationale.\""
      ],
      "text/plain": [
       "<IPython.core.display.Markdown object>"
      ]
     },
     "metadata": {},
     "output_type": "display_data"
    },
    {
     "data": {
      "text/html": [
       "<a href='../../data/Hillary/wavs/Scripts 58-63/script_80_chunk_8-rate=24000.wav' target='_blank'>../../data/Hillary/wavs/Scripts 58-63/script_80_chunk_8-rate=24000.wav</a><br>"
      ],
      "text/plain": [
       "/Users/michaelp/Code/Tacotron-2/data/Hillary/wavs/Scripts 58-63/script_80_chunk_8-rate=24000.wav"
      ]
     },
     "metadata": {},
     "output_type": "display_data"
    },
    {
     "data": {
      "text/html": [
       "\n",
       "                <audio controls=\"controls\" >\n",
       "                    <source />\n",
       "                    Your browser does not support the audio element.\n",
       "                </audio>\n",
       "              "
      ],
      "text/plain": [
       "<IPython.lib.display.Audio object>"
      ]
     },
     "metadata": {},
     "output_type": "display_data"
    },
    {
     "data": {
      "text/markdown": [
       "\n",
       "\n",
       " ___"
      ],
      "text/plain": [
       "<IPython.core.display.Markdown object>"
      ]
     },
     "metadata": {},
     "output_type": "display_data"
    },
    {
     "data": {
      "text/markdown": [
       "**Text:** \"This confuses the uniqueness that should be reserved for each by itself.\""
      ],
      "text/plain": [
       "<IPython.core.display.Markdown object>"
      ]
     },
     "metadata": {},
     "output_type": "display_data"
    },
    {
     "data": {
      "text/html": [
       "<a href='../../data/Hillary/wavs/Scripts 16-21/script_81_chunk_7-rate=24000.wav' target='_blank'>../../data/Hillary/wavs/Scripts 16-21/script_81_chunk_7-rate=24000.wav</a><br>"
      ],
      "text/plain": [
       "/Users/michaelp/Code/Tacotron-2/data/Hillary/wavs/Scripts 16-21/script_81_chunk_7-rate=24000.wav"
      ]
     },
     "metadata": {},
     "output_type": "display_data"
    },
    {
     "data": {
      "text/html": [
       "\n",
       "                <audio controls=\"controls\" >\n",
       "                    <source />\n",
       "                    Your browser does not support the audio element.\n",
       "                </audio>\n",
       "              "
      ],
      "text/plain": [
       "<IPython.lib.display.Audio object>"
      ]
     },
     "metadata": {},
     "output_type": "display_data"
    },
    {
     "data": {
      "text/markdown": [
       "\n",
       "\n",
       " ___"
      ],
      "text/plain": [
       "<IPython.core.display.Markdown object>"
      ]
     },
     "metadata": {},
     "output_type": "display_data"
    },
    {
     "data": {
      "text/markdown": [
       "**Text:** \"It was a miracle, and I owe you my life.\""
      ],
      "text/plain": [
       "<IPython.core.display.Markdown object>"
      ]
     },
     "metadata": {},
     "output_type": "display_data"
    },
    {
     "data": {
      "text/html": [
       "<a href='../../data/Hillary/wavs/Scripts 82-87/script_96_chunk_0-rate=24000.wav' target='_blank'>../../data/Hillary/wavs/Scripts 82-87/script_96_chunk_0-rate=24000.wav</a><br>"
      ],
      "text/plain": [
       "/Users/michaelp/Code/Tacotron-2/data/Hillary/wavs/Scripts 82-87/script_96_chunk_0-rate=24000.wav"
      ]
     },
     "metadata": {},
     "output_type": "display_data"
    },
    {
     "data": {
      "text/html": [
       "\n",
       "                <audio controls=\"controls\" >\n",
       "                    <source />\n",
       "                    Your browser does not support the audio element.\n",
       "                </audio>\n",
       "              "
      ],
      "text/plain": [
       "<IPython.lib.display.Audio object>"
      ]
     },
     "metadata": {},
     "output_type": "display_data"
    },
    {
     "data": {
      "text/markdown": [
       "\n",
       "\n",
       " ___"
      ],
      "text/plain": [
       "<IPython.core.display.Markdown object>"
      ]
     },
     "metadata": {},
     "output_type": "display_data"
    },
    {
     "data": {
      "text/markdown": [
       "**Text:** \"These dimensions are known as physical, informational, and cognitive.\""
      ],
      "text/plain": [
       "<IPython.core.display.Markdown object>"
      ]
     },
     "metadata": {},
     "output_type": "display_data"
    },
    {
     "data": {
      "text/html": [
       "<a href='../../data/Hillary/wavs/Scripts 16-21/script_35_chunk_20-rate=24000.wav' target='_blank'>../../data/Hillary/wavs/Scripts 16-21/script_35_chunk_20-rate=24000.wav</a><br>"
      ],
      "text/plain": [
       "/Users/michaelp/Code/Tacotron-2/data/Hillary/wavs/Scripts 16-21/script_35_chunk_20-rate=24000.wav"
      ]
     },
     "metadata": {},
     "output_type": "display_data"
    },
    {
     "data": {
      "text/html": [
       "\n",
       "                <audio controls=\"controls\" >\n",
       "                    <source />\n",
       "                    Your browser does not support the audio element.\n",
       "                </audio>\n",
       "              "
      ],
      "text/plain": [
       "<IPython.lib.display.Audio object>"
      ]
     },
     "metadata": {},
     "output_type": "display_data"
    },
    {
     "data": {
      "text/markdown": [
       "\n",
       "\n",
       " ___"
      ],
      "text/plain": [
       "<IPython.core.display.Markdown object>"
      ]
     },
     "metadata": {},
     "output_type": "display_data"
    },
    {
     "data": {
      "text/markdown": [
       "**Text:** \"it is important to stress what we do, and for who we do it for.\""
      ],
      "text/plain": [
       "<IPython.core.display.Markdown object>"
      ]
     },
     "metadata": {},
     "output_type": "display_data"
    },
    {
     "data": {
      "text/html": [
       "<a href='../../data/Hillary/wavs/Script 13/script_12_chunk_2-rate=24000.wav' target='_blank'>../../data/Hillary/wavs/Script 13/script_12_chunk_2-rate=24000.wav</a><br>"
      ],
      "text/plain": [
       "/Users/michaelp/Code/Tacotron-2/data/Hillary/wavs/Script 13/script_12_chunk_2-rate=24000.wav"
      ]
     },
     "metadata": {},
     "output_type": "display_data"
    },
    {
     "data": {
      "text/html": [
       "\n",
       "                <audio controls=\"controls\" >\n",
       "                    <source />\n",
       "                    Your browser does not support the audio element.\n",
       "                </audio>\n",
       "              "
      ],
      "text/plain": [
       "<IPython.lib.display.Audio object>"
      ]
     },
     "metadata": {},
     "output_type": "display_data"
    },
    {
     "data": {
      "text/markdown": [
       "\n",
       "\n",
       " ___"
      ],
      "text/plain": [
       "<IPython.core.display.Markdown object>"
      ]
     },
     "metadata": {},
     "output_type": "display_data"
    },
    {
     "data": {
      "text/markdown": [
       "**Text:** \"I may manage to freight a cargo back as well.\""
      ],
      "text/plain": [
       "<IPython.core.display.Markdown object>"
      ]
     },
     "metadata": {},
     "output_type": "display_data"
    },
    {
     "data": {
      "text/html": [
       "<a href='../../data/Hillary/wavs/Scripts 28-33/script_67_chunk_0-rate=24000.wav' target='_blank'>../../data/Hillary/wavs/Scripts 28-33/script_67_chunk_0-rate=24000.wav</a><br>"
      ],
      "text/plain": [
       "/Users/michaelp/Code/Tacotron-2/data/Hillary/wavs/Scripts 28-33/script_67_chunk_0-rate=24000.wav"
      ]
     },
     "metadata": {},
     "output_type": "display_data"
    },
    {
     "data": {
      "text/html": [
       "\n",
       "                <audio controls=\"controls\" >\n",
       "                    <source />\n",
       "                    Your browser does not support the audio element.\n",
       "                </audio>\n",
       "              "
      ],
      "text/plain": [
       "<IPython.lib.display.Audio object>"
      ]
     },
     "metadata": {},
     "output_type": "display_data"
    },
    {
     "data": {
      "text/markdown": [
       "\n",
       "\n",
       " ___"
      ],
      "text/plain": [
       "<IPython.core.display.Markdown object>"
      ]
     },
     "metadata": {},
     "output_type": "display_data"
    },
    {
     "data": {
      "text/markdown": [
       "**Text:** \"against TT. Wai et al. in a study using data from the longitudinal Study of Mathematically Precocious Youth –\""
      ],
      "text/plain": [
       "<IPython.core.display.Markdown object>"
      ]
     },
     "metadata": {},
     "output_type": "display_data"
    },
    {
     "data": {
      "text/html": [
       "<a href='../../data/Hillary/wavs/Scripts 58-63/script_95_chunk_2-rate=24000.wav' target='_blank'>../../data/Hillary/wavs/Scripts 58-63/script_95_chunk_2-rate=24000.wav</a><br>"
      ],
      "text/plain": [
       "/Users/michaelp/Code/Tacotron-2/data/Hillary/wavs/Scripts 58-63/script_95_chunk_2-rate=24000.wav"
      ]
     },
     "metadata": {},
     "output_type": "display_data"
    },
    {
     "data": {
      "text/html": [
       "\n",
       "                <audio controls=\"controls\" >\n",
       "                    <source />\n",
       "                    Your browser does not support the audio element.\n",
       "                </audio>\n",
       "              "
      ],
      "text/plain": [
       "<IPython.lib.display.Audio object>"
      ]
     },
     "metadata": {},
     "output_type": "display_data"
    },
    {
     "data": {
      "text/markdown": [
       "\n",
       "\n",
       " ___"
      ],
      "text/plain": [
       "<IPython.core.display.Markdown object>"
      ]
     },
     "metadata": {},
     "output_type": "display_data"
    },
    {
     "data": {
      "text/markdown": [
       "**Text:** \"it is not another form or type of intelligence, but intelligence—\""
      ],
      "text/plain": [
       "<IPython.core.display.Markdown object>"
      ]
     },
     "metadata": {},
     "output_type": "display_data"
    },
    {
     "data": {
      "text/html": [
       "<a href='../../data/Hillary/wavs/Script 15/script_3_chunk_12-rate=24000.wav' target='_blank'>../../data/Hillary/wavs/Script 15/script_3_chunk_12-rate=24000.wav</a><br>"
      ],
      "text/plain": [
       "/Users/michaelp/Code/Tacotron-2/data/Hillary/wavs/Script 15/script_3_chunk_12-rate=24000.wav"
      ]
     },
     "metadata": {},
     "output_type": "display_data"
    },
    {
     "data": {
      "text/html": [
       "\n",
       "                <audio controls=\"controls\" >\n",
       "                    <source />\n",
       "                    Your browser does not support the audio element.\n",
       "                </audio>\n",
       "              "
      ],
      "text/plain": [
       "<IPython.lib.display.Audio object>"
      ]
     },
     "metadata": {},
     "output_type": "display_data"
    },
    {
     "data": {
      "text/markdown": [
       "\n",
       "\n",
       " ___"
      ],
      "text/plain": [
       "<IPython.core.display.Markdown object>"
      ]
     },
     "metadata": {},
     "output_type": "display_data"
    },
    {
     "data": {
      "text/markdown": [
       "**Text:** \"This interactive DVD makes everything from assembly, maintenance, and usage a snap!\""
      ],
      "text/plain": [
       "<IPython.core.display.Markdown object>"
      ]
     },
     "metadata": {},
     "output_type": "display_data"
    },
    {
     "data": {
      "text/html": [
       "<a href='../../data/Hillary/wavs/Script 8/script_0_chunk_6-rate=24000.wav' target='_blank'>../../data/Hillary/wavs/Script 8/script_0_chunk_6-rate=24000.wav</a><br>"
      ],
      "text/plain": [
       "/Users/michaelp/Code/Tacotron-2/data/Hillary/wavs/Script 8/script_0_chunk_6-rate=24000.wav"
      ]
     },
     "metadata": {},
     "output_type": "display_data"
    },
    {
     "data": {
      "text/html": [
       "\n",
       "                <audio controls=\"controls\" >\n",
       "                    <source />\n",
       "                    Your browser does not support the audio element.\n",
       "                </audio>\n",
       "              "
      ],
      "text/plain": [
       "<IPython.lib.display.Audio object>"
      ]
     },
     "metadata": {},
     "output_type": "display_data"
    },
    {
     "data": {
      "text/markdown": [
       "\n",
       "\n",
       " ___"
      ],
      "text/plain": [
       "<IPython.core.display.Markdown object>"
      ]
     },
     "metadata": {},
     "output_type": "display_data"
    },
    {
     "data": {
      "text/markdown": [
       "**Text:** \"All this day Gregson remained in the cabin.\""
      ],
      "text/plain": [
       "<IPython.core.display.Markdown object>"
      ]
     },
     "metadata": {},
     "output_type": "display_data"
    },
    {
     "data": {
      "text/html": [
       "<a href='../../data/Hillary/wavs/Scripts 76-81 (Part One)/script_42_chunk_0-rate=24000.wav' target='_blank'>../../data/Hillary/wavs/Scripts 76-81 (Part One)/script_42_chunk_0-rate=24000.wav</a><br>"
      ],
      "text/plain": [
       "/Users/michaelp/Code/Tacotron-2/data/Hillary/wavs/Scripts 76-81 (Part One)/script_42_chunk_0-rate=24000.wav"
      ]
     },
     "metadata": {},
     "output_type": "display_data"
    },
    {
     "data": {
      "text/html": [
       "\n",
       "                <audio controls=\"controls\" >\n",
       "                    <source />\n",
       "                    Your browser does not support the audio element.\n",
       "                </audio>\n",
       "              "
      ],
      "text/plain": [
       "<IPython.lib.display.Audio object>"
      ]
     },
     "metadata": {},
     "output_type": "display_data"
    },
    {
     "data": {
      "text/markdown": [
       "\n",
       "\n",
       " ___"
      ],
      "text/plain": [
       "<IPython.core.display.Markdown object>"
      ]
     },
     "metadata": {},
     "output_type": "display_data"
    },
    {
     "data": {
      "text/markdown": [
       "**Text:** \"Management consulting refers generally to the provision of business services,\""
      ],
      "text/plain": [
       "<IPython.core.display.Markdown object>"
      ]
     },
     "metadata": {},
     "output_type": "display_data"
    },
    {
     "data": {
      "text/html": [
       "<a href='../../data/Hillary/wavs/Scripts 16-21/script_96_chunk_0-rate=24000.wav' target='_blank'>../../data/Hillary/wavs/Scripts 16-21/script_96_chunk_0-rate=24000.wav</a><br>"
      ],
      "text/plain": [
       "/Users/michaelp/Code/Tacotron-2/data/Hillary/wavs/Scripts 16-21/script_96_chunk_0-rate=24000.wav"
      ]
     },
     "metadata": {},
     "output_type": "display_data"
    },
    {
     "data": {
      "text/html": [
       "\n",
       "                <audio controls=\"controls\" >\n",
       "                    <source />\n",
       "                    Your browser does not support the audio element.\n",
       "                </audio>\n",
       "              "
      ],
      "text/plain": [
       "<IPython.lib.display.Audio object>"
      ]
     },
     "metadata": {},
     "output_type": "display_data"
    },
    {
     "data": {
      "text/markdown": [
       "\n",
       "\n",
       " ___"
      ],
      "text/plain": [
       "<IPython.core.display.Markdown object>"
      ]
     },
     "metadata": {},
     "output_type": "display_data"
    },
    {
     "data": {
      "text/markdown": [
       "**Text:** \"quantity, and appropriateness of participants responses to a variety of open-ended questions.\""
      ],
      "text/plain": [
       "<IPython.core.display.Markdown object>"
      ]
     },
     "metadata": {},
     "output_type": "display_data"
    },
    {
     "data": {
      "text/html": [
       "<a href='../../data/Hillary/wavs/Scripts 58-63/script_34_chunk_11-rate=24000.wav' target='_blank'>../../data/Hillary/wavs/Scripts 58-63/script_34_chunk_11-rate=24000.wav</a><br>"
      ],
      "text/plain": [
       "/Users/michaelp/Code/Tacotron-2/data/Hillary/wavs/Scripts 58-63/script_34_chunk_11-rate=24000.wav"
      ]
     },
     "metadata": {},
     "output_type": "display_data"
    },
    {
     "data": {
      "text/html": [
       "\n",
       "                <audio controls=\"controls\" >\n",
       "                    <source />\n",
       "                    Your browser does not support the audio element.\n",
       "                </audio>\n",
       "              "
      ],
      "text/plain": [
       "<IPython.lib.display.Audio object>"
      ]
     },
     "metadata": {},
     "output_type": "display_data"
    },
    {
     "data": {
      "text/markdown": [
       "\n",
       "\n",
       " ___"
      ],
      "text/plain": [
       "<IPython.core.display.Markdown object>"
      ]
     },
     "metadata": {},
     "output_type": "display_data"
    },
    {
     "data": {
      "text/markdown": [
       "**Text:** \"Whether you’re a senior, newcomer, pregnant, or prefer low impact,\""
      ],
      "text/plain": [
       "<IPython.core.display.Markdown object>"
      ]
     },
     "metadata": {},
     "output_type": "display_data"
    },
    {
     "data": {
      "text/html": [
       "<a href='../../data/Hillary/wavs/Scripts 22-27/script_69_chunk_2-rate=24000.wav' target='_blank'>../../data/Hillary/wavs/Scripts 22-27/script_69_chunk_2-rate=24000.wav</a><br>"
      ],
      "text/plain": [
       "/Users/michaelp/Code/Tacotron-2/data/Hillary/wavs/Scripts 22-27/script_69_chunk_2-rate=24000.wav"
      ]
     },
     "metadata": {},
     "output_type": "display_data"
    },
    {
     "data": {
      "text/html": [
       "\n",
       "                <audio controls=\"controls\" >\n",
       "                    <source />\n",
       "                    Your browser does not support the audio element.\n",
       "                </audio>\n",
       "              "
      ],
      "text/plain": [
       "<IPython.lib.display.Audio object>"
      ]
     },
     "metadata": {},
     "output_type": "display_data"
    },
    {
     "data": {
      "text/markdown": [
       "\n",
       "\n",
       " ___"
      ],
      "text/plain": [
       "<IPython.core.display.Markdown object>"
      ]
     },
     "metadata": {},
     "output_type": "display_data"
    },
    {
     "data": {
      "text/markdown": [
       "**Text:** \"It was originally proposed as a measurement of a person's capacity to deal with people and social relationships.\""
      ],
      "text/plain": [
       "<IPython.core.display.Markdown object>"
      ]
     },
     "metadata": {},
     "output_type": "display_data"
    },
    {
     "data": {
      "text/html": [
       "<a href='../../data/Hillary/wavs/Scripts 76-81 (Part One)/script_7_chunk_26-rate=24000.wav' target='_blank'>../../data/Hillary/wavs/Scripts 76-81 (Part One)/script_7_chunk_26-rate=24000.wav</a><br>"
      ],
      "text/plain": [
       "/Users/michaelp/Code/Tacotron-2/data/Hillary/wavs/Scripts 76-81 (Part One)/script_7_chunk_26-rate=24000.wav"
      ]
     },
     "metadata": {},
     "output_type": "display_data"
    },
    {
     "data": {
      "text/html": [
       "\n",
       "                <audio controls=\"controls\" >\n",
       "                    <source />\n",
       "                    Your browser does not support the audio element.\n",
       "                </audio>\n",
       "              "
      ],
      "text/plain": [
       "<IPython.lib.display.Audio object>"
      ]
     },
     "metadata": {},
     "output_type": "display_data"
    },
    {
     "data": {
      "text/markdown": [
       "\n",
       "\n",
       " ___"
      ],
      "text/plain": [
       "<IPython.core.display.Markdown object>"
      ]
     },
     "metadata": {},
     "output_type": "display_data"
    },
    {
     "data": {
      "text/markdown": [
       "**Text:** \"However, Janssen and Vanhamme reported that less than 4% of average household expenditure in the UK in 2010 was\""
      ],
      "text/plain": [
       "<IPython.core.display.Markdown object>"
      ]
     },
     "metadata": {},
     "output_type": "display_data"
    },
    {
     "data": {
      "text/html": [
       "<a href='../../data/Hillary/wavs/Scripts 70-75/script_69_chunk_11-rate=24000.wav' target='_blank'>../../data/Hillary/wavs/Scripts 70-75/script_69_chunk_11-rate=24000.wav</a><br>"
      ],
      "text/plain": [
       "/Users/michaelp/Code/Tacotron-2/data/Hillary/wavs/Scripts 70-75/script_69_chunk_11-rate=24000.wav"
      ]
     },
     "metadata": {},
     "output_type": "display_data"
    },
    {
     "data": {
      "text/html": [
       "\n",
       "                <audio controls=\"controls\" >\n",
       "                    <source />\n",
       "                    Your browser does not support the audio element.\n",
       "                </audio>\n",
       "              "
      ],
      "text/plain": [
       "<IPython.lib.display.Audio object>"
      ]
     },
     "metadata": {},
     "output_type": "display_data"
    },
    {
     "data": {
      "text/markdown": [
       "\n",
       "\n",
       " ___"
      ],
      "text/plain": [
       "<IPython.core.display.Markdown object>"
      ]
     },
     "metadata": {},
     "output_type": "display_data"
    },
    {
     "data": {
      "text/markdown": [
       "**Text:** \"transparency about environmental risks, transparency about product ingredients such as genetically modified organisms\""
      ],
      "text/plain": [
       "<IPython.core.display.Markdown object>"
      ]
     },
     "metadata": {},
     "output_type": "display_data"
    },
    {
     "data": {
      "text/html": [
       "<a href='../../data/Hillary/wavs/Script 1/script_16_chunk_6-rate=24000.wav' target='_blank'>../../data/Hillary/wavs/Script 1/script_16_chunk_6-rate=24000.wav</a><br>"
      ],
      "text/plain": [
       "/Users/michaelp/Code/Tacotron-2/data/Hillary/wavs/Script 1/script_16_chunk_6-rate=24000.wav"
      ]
     },
     "metadata": {},
     "output_type": "display_data"
    },
    {
     "data": {
      "text/html": [
       "\n",
       "                <audio controls=\"controls\" >\n",
       "                    <source />\n",
       "                    Your browser does not support the audio element.\n",
       "                </audio>\n",
       "              "
      ],
      "text/plain": [
       "<IPython.lib.display.Audio object>"
      ]
     },
     "metadata": {},
     "output_type": "display_data"
    },
    {
     "data": {
      "text/markdown": [
       "\n",
       "\n",
       " ___"
      ],
      "text/plain": [
       "<IPython.core.display.Markdown object>"
      ]
     },
     "metadata": {},
     "output_type": "display_data"
    },
    {
     "data": {
      "text/markdown": [
       "**Text:** \"written by author\""
      ],
      "text/plain": [
       "<IPython.core.display.Markdown object>"
      ]
     },
     "metadata": {},
     "output_type": "display_data"
    },
    {
     "data": {
      "text/html": [
       "<a href='../../data/Hillary/wavs/Scripts 64-69/script_78_chunk_6-rate=24000.wav' target='_blank'>../../data/Hillary/wavs/Scripts 64-69/script_78_chunk_6-rate=24000.wav</a><br>"
      ],
      "text/plain": [
       "/Users/michaelp/Code/Tacotron-2/data/Hillary/wavs/Scripts 64-69/script_78_chunk_6-rate=24000.wav"
      ]
     },
     "metadata": {},
     "output_type": "display_data"
    },
    {
     "data": {
      "text/html": [
       "\n",
       "                <audio controls=\"controls\" >\n",
       "                    <source />\n",
       "                    Your browser does not support the audio element.\n",
       "                </audio>\n",
       "              "
      ],
      "text/plain": [
       "<IPython.lib.display.Audio object>"
      ]
     },
     "metadata": {},
     "output_type": "display_data"
    },
    {
     "data": {
      "text/markdown": [
       "\n",
       "\n",
       " ___"
      ],
      "text/plain": [
       "<IPython.core.display.Markdown object>"
      ]
     },
     "metadata": {},
     "output_type": "display_data"
    },
    {
     "data": {
      "text/markdown": [
       "**Text:** \"Broken homes, childhood trauma, lack of parenting and many others factors can influence the connections in the brain\""
      ],
      "text/plain": [
       "<IPython.core.display.Markdown object>"
      ]
     },
     "metadata": {},
     "output_type": "display_data"
    },
    {
     "data": {
      "text/html": [
       "<a href='../../data/Hillary/wavs/Scripts 82-87/script_80_chunk_12-rate=24000.wav' target='_blank'>../../data/Hillary/wavs/Scripts 82-87/script_80_chunk_12-rate=24000.wav</a><br>"
      ],
      "text/plain": [
       "/Users/michaelp/Code/Tacotron-2/data/Hillary/wavs/Scripts 82-87/script_80_chunk_12-rate=24000.wav"
      ]
     },
     "metadata": {},
     "output_type": "display_data"
    },
    {
     "data": {
      "text/html": [
       "\n",
       "                <audio controls=\"controls\" >\n",
       "                    <source />\n",
       "                    Your browser does not support the audio element.\n",
       "                </audio>\n",
       "              "
      ],
      "text/plain": [
       "<IPython.lib.display.Audio object>"
      ]
     },
     "metadata": {},
     "output_type": "display_data"
    },
    {
     "data": {
      "text/markdown": [
       "\n",
       "\n",
       " ___"
      ],
      "text/plain": [
       "<IPython.core.display.Markdown object>"
      ]
     },
     "metadata": {},
     "output_type": "display_data"
    },
    {
     "data": {
      "text/markdown": [
       "**Text:** \"Handsome, cocky, white,\""
      ],
      "text/plain": [
       "<IPython.core.display.Markdown object>"
      ]
     },
     "metadata": {},
     "output_type": "display_data"
    },
    {
     "data": {
      "text/html": [
       "<a href='../../data/Hillary/wavs/Scripts 64-69/script_5_chunk_3-rate=24000.wav' target='_blank'>../../data/Hillary/wavs/Scripts 64-69/script_5_chunk_3-rate=24000.wav</a><br>"
      ],
      "text/plain": [
       "/Users/michaelp/Code/Tacotron-2/data/Hillary/wavs/Scripts 64-69/script_5_chunk_3-rate=24000.wav"
      ]
     },
     "metadata": {},
     "output_type": "display_data"
    },
    {
     "data": {
      "text/html": [
       "\n",
       "                <audio controls=\"controls\" >\n",
       "                    <source />\n",
       "                    Your browser does not support the audio element.\n",
       "                </audio>\n",
       "              "
      ],
      "text/plain": [
       "<IPython.lib.display.Audio object>"
      ]
     },
     "metadata": {},
     "output_type": "display_data"
    },
    {
     "data": {
      "text/markdown": [
       "\n",
       "\n",
       " ___"
      ],
      "text/plain": [
       "<IPython.core.display.Markdown object>"
      ]
     },
     "metadata": {},
     "output_type": "display_data"
    },
    {
     "data": {
      "text/markdown": [
       "**Text:** \"This action is usually framed by formal membership and form.\""
      ],
      "text/plain": [
       "<IPython.core.display.Markdown object>"
      ]
     },
     "metadata": {},
     "output_type": "display_data"
    },
    {
     "data": {
      "text/html": [
       "<a href='../../data/Hillary/wavs/Scripts 58-63/script_38_chunk_8-rate=24000.wav' target='_blank'>../../data/Hillary/wavs/Scripts 58-63/script_38_chunk_8-rate=24000.wav</a><br>"
      ],
      "text/plain": [
       "/Users/michaelp/Code/Tacotron-2/data/Hillary/wavs/Scripts 58-63/script_38_chunk_8-rate=24000.wav"
      ]
     },
     "metadata": {},
     "output_type": "display_data"
    },
    {
     "data": {
      "text/html": [
       "\n",
       "                <audio controls=\"controls\" >\n",
       "                    <source />\n",
       "                    Your browser does not support the audio element.\n",
       "                </audio>\n",
       "              "
      ],
      "text/plain": [
       "<IPython.lib.display.Audio object>"
      ]
     },
     "metadata": {},
     "output_type": "display_data"
    },
    {
     "data": {
      "text/markdown": [
       "\n",
       "\n",
       " ___"
      ],
      "text/plain": [
       "<IPython.core.display.Markdown object>"
      ]
     },
     "metadata": {},
     "output_type": "display_data"
    },
    {
     "data": {
      "text/markdown": [
       "**Text:** \"This test can be used when diagnosing autism spectrum disorders, including autism and Asperger syndrome.\""
      ],
      "text/plain": [
       "<IPython.core.display.Markdown object>"
      ]
     },
     "metadata": {},
     "output_type": "display_data"
    },
    {
     "data": {
      "text/html": [
       "<a href='../../data/Hillary/wavs/Scripts 76-81 (Part One)/script_7_chunk_12-rate=24000.wav' target='_blank'>../../data/Hillary/wavs/Scripts 76-81 (Part One)/script_7_chunk_12-rate=24000.wav</a><br>"
      ],
      "text/plain": [
       "/Users/michaelp/Code/Tacotron-2/data/Hillary/wavs/Scripts 76-81 (Part One)/script_7_chunk_12-rate=24000.wav"
      ]
     },
     "metadata": {},
     "output_type": "display_data"
    },
    {
     "data": {
      "text/html": [
       "\n",
       "                <audio controls=\"controls\" >\n",
       "                    <source />\n",
       "                    Your browser does not support the audio element.\n",
       "                </audio>\n",
       "              "
      ],
      "text/plain": [
       "<IPython.lib.display.Audio object>"
      ]
     },
     "metadata": {},
     "output_type": "display_data"
    },
    {
     "data": {
      "text/markdown": [
       "\n",
       "\n",
       " ___"
      ],
      "text/plain": [
       "<IPython.core.display.Markdown object>"
      ]
     },
     "metadata": {},
     "output_type": "display_data"
    },
    {
     "data": {
      "text/markdown": [
       "**Text:** \"the term became widely known with the publication of Goleman's book:\""
      ],
      "text/plain": [
       "<IPython.core.display.Markdown object>"
      ]
     },
     "metadata": {},
     "output_type": "display_data"
    },
    {
     "data": {
      "text/html": [
       "<a href='../../data/Hillary/wavs/Script 14/script_8_chunk_16-rate=24000.wav' target='_blank'>../../data/Hillary/wavs/Script 14/script_8_chunk_16-rate=24000.wav</a><br>"
      ],
      "text/plain": [
       "/Users/michaelp/Code/Tacotron-2/data/Hillary/wavs/Script 14/script_8_chunk_16-rate=24000.wav"
      ]
     },
     "metadata": {},
     "output_type": "display_data"
    },
    {
     "data": {
      "text/html": [
       "\n",
       "                <audio controls=\"controls\" >\n",
       "                    <source />\n",
       "                    Your browser does not support the audio element.\n",
       "                </audio>\n",
       "              "
      ],
      "text/plain": [
       "<IPython.lib.display.Audio object>"
      ]
     },
     "metadata": {},
     "output_type": "display_data"
    },
    {
     "data": {
      "text/markdown": [
       "\n",
       "\n",
       " ___"
      ],
      "text/plain": [
       "<IPython.core.display.Markdown object>"
      ]
     },
     "metadata": {},
     "output_type": "display_data"
    },
    {
     "data": {
      "text/markdown": [
       "**Text:** \"offered in Critical Thinking in the UK, open to any A-level student regardless of whether they have the Critical Thinking A-level.\""
      ],
      "text/plain": [
       "<IPython.core.display.Markdown object>"
      ]
     },
     "metadata": {},
     "output_type": "display_data"
    },
    {
     "data": {
      "text/html": [
       "<a href='../../data/Hillary/wavs/Scripts 76-81 (Part Two)/script_32_chunk_1-rate=24000.wav' target='_blank'>../../data/Hillary/wavs/Scripts 76-81 (Part Two)/script_32_chunk_1-rate=24000.wav</a><br>"
      ],
      "text/plain": [
       "/Users/michaelp/Code/Tacotron-2/data/Hillary/wavs/Scripts 76-81 (Part Two)/script_32_chunk_1-rate=24000.wav"
      ]
     },
     "metadata": {},
     "output_type": "display_data"
    },
    {
     "data": {
      "text/html": [
       "\n",
       "                <audio controls=\"controls\" >\n",
       "                    <source />\n",
       "                    Your browser does not support the audio element.\n",
       "                </audio>\n",
       "              "
      ],
      "text/plain": [
       "<IPython.lib.display.Audio object>"
      ]
     },
     "metadata": {},
     "output_type": "display_data"
    },
    {
     "data": {
      "text/markdown": [
       "\n",
       "\n",
       " ___"
      ],
      "text/plain": [
       "<IPython.core.display.Markdown object>"
      ]
     },
     "metadata": {},
     "output_type": "display_data"
    },
    {
     "data": {
      "text/markdown": [
       "**Text:** \"But, hey, go ahead and let everyone know that you have 2300 \"friends.\" That's sure to convince people that you're really popular.\""
      ],
      "text/plain": [
       "<IPython.core.display.Markdown object>"
      ]
     },
     "metadata": {},
     "output_type": "display_data"
    },
    {
     "data": {
      "text/html": [
       "<a href='../../data/Hillary/wavs/Scripts 16-21/script_25_chunk_3-rate=24000.wav' target='_blank'>../../data/Hillary/wavs/Scripts 16-21/script_25_chunk_3-rate=24000.wav</a><br>"
      ],
      "text/plain": [
       "/Users/michaelp/Code/Tacotron-2/data/Hillary/wavs/Scripts 16-21/script_25_chunk_3-rate=24000.wav"
      ]
     },
     "metadata": {},
     "output_type": "display_data"
    },
    {
     "data": {
      "text/html": [
       "\n",
       "                <audio controls=\"controls\" >\n",
       "                    <source />\n",
       "                    Your browser does not support the audio element.\n",
       "                </audio>\n",
       "              "
      ],
      "text/plain": [
       "<IPython.lib.display.Audio object>"
      ]
     },
     "metadata": {},
     "output_type": "display_data"
    },
    {
     "data": {
      "text/markdown": [
       "\n",
       "\n",
       " ___"
      ],
      "text/plain": [
       "<IPython.core.display.Markdown object>"
      ]
     },
     "metadata": {},
     "output_type": "display_data"
    },
    {
     "data": {
      "text/markdown": [
       "**Text:** \"might only sustain high returns on their investment\""
      ],
      "text/plain": [
       "<IPython.core.display.Markdown object>"
      ]
     },
     "metadata": {},
     "output_type": "display_data"
    },
    {
     "data": {
      "text/html": [
       "<a href='../../data/Hillary/wavs/Scripts 94-98/script_53_chunk_4-rate=24000.wav' target='_blank'>../../data/Hillary/wavs/Scripts 94-98/script_53_chunk_4-rate=24000.wav</a><br>"
      ],
      "text/plain": [
       "/Users/michaelp/Code/Tacotron-2/data/Hillary/wavs/Scripts 94-98/script_53_chunk_4-rate=24000.wav"
      ]
     },
     "metadata": {},
     "output_type": "display_data"
    },
    {
     "data": {
      "text/html": [
       "\n",
       "                <audio controls=\"controls\" >\n",
       "                    <source />\n",
       "                    Your browser does not support the audio element.\n",
       "                </audio>\n",
       "              "
      ],
      "text/plain": [
       "<IPython.lib.display.Audio object>"
      ]
     },
     "metadata": {},
     "output_type": "display_data"
    },
    {
     "data": {
      "text/markdown": [
       "\n",
       "\n",
       " ___"
      ],
      "text/plain": [
       "<IPython.core.display.Markdown object>"
      ]
     },
     "metadata": {},
     "output_type": "display_data"
    },
    {
     "data": {
      "text/markdown": [
       "**Text:** \"Creating shared value or CSV is based on the idea that corporate success\""
      ],
      "text/plain": [
       "<IPython.core.display.Markdown object>"
      ]
     },
     "metadata": {},
     "output_type": "display_data"
    },
    {
     "data": {
      "text/html": [
       "<a href='../../data/Hillary/wavs/Scripts 22-27/script_46_chunk_12-rate=24000.wav' target='_blank'>../../data/Hillary/wavs/Scripts 22-27/script_46_chunk_12-rate=24000.wav</a><br>"
      ],
      "text/plain": [
       "/Users/michaelp/Code/Tacotron-2/data/Hillary/wavs/Scripts 22-27/script_46_chunk_12-rate=24000.wav"
      ]
     },
     "metadata": {},
     "output_type": "display_data"
    },
    {
     "data": {
      "text/html": [
       "\n",
       "                <audio controls=\"controls\" >\n",
       "                    <source />\n",
       "                    Your browser does not support the audio element.\n",
       "                </audio>\n",
       "              "
      ],
      "text/plain": [
       "<IPython.lib.display.Audio object>"
      ]
     },
     "metadata": {},
     "output_type": "display_data"
    },
    {
     "data": {
      "text/markdown": [
       "\n",
       "\n",
       " ___"
      ],
      "text/plain": [
       "<IPython.core.display.Markdown object>"
      ]
     },
     "metadata": {},
     "output_type": "display_data"
    },
    {
     "data": {
      "text/markdown": [
       "**Text:** \"gov which provides a single point of access to government services and information that help businesses comply with government regulations.\""
      ],
      "text/plain": [
       "<IPython.core.display.Markdown object>"
      ]
     },
     "metadata": {},
     "output_type": "display_data"
    },
    {
     "data": {
      "text/html": [
       "<a href='../../data/Hillary/wavs/Script 7/script_8_chunk_18-rate=24000.wav' target='_blank'>../../data/Hillary/wavs/Script 7/script_8_chunk_18-rate=24000.wav</a><br>"
      ],
      "text/plain": [
       "/Users/michaelp/Code/Tacotron-2/data/Hillary/wavs/Script 7/script_8_chunk_18-rate=24000.wav"
      ]
     },
     "metadata": {},
     "output_type": "display_data"
    },
    {
     "data": {
      "text/html": [
       "\n",
       "                <audio controls=\"controls\" >\n",
       "                    <source />\n",
       "                    Your browser does not support the audio element.\n",
       "                </audio>\n",
       "              "
      ],
      "text/plain": [
       "<IPython.lib.display.Audio object>"
      ]
     },
     "metadata": {},
     "output_type": "display_data"
    },
    {
     "data": {
      "text/markdown": [
       "\n",
       "\n",
       " ___"
      ],
      "text/plain": [
       "<IPython.core.display.Markdown object>"
      ]
     },
     "metadata": {},
     "output_type": "display_data"
    },
    {
     "data": {
      "text/markdown": [
       "**Text:** \"The dominant factors are usually identified as \"the four Ps\" — process, product, person, and place.\""
      ],
      "text/plain": [
       "<IPython.core.display.Markdown object>"
      ]
     },
     "metadata": {},
     "output_type": "display_data"
    },
    {
     "data": {
      "text/html": [
       "<a href='../../data/Hillary/wavs/Scripts 16-21/script_28_chunk_1-rate=24000.wav' target='_blank'>../../data/Hillary/wavs/Scripts 16-21/script_28_chunk_1-rate=24000.wav</a><br>"
      ],
      "text/plain": [
       "/Users/michaelp/Code/Tacotron-2/data/Hillary/wavs/Scripts 16-21/script_28_chunk_1-rate=24000.wav"
      ]
     },
     "metadata": {},
     "output_type": "display_data"
    },
    {
     "data": {
      "text/html": [
       "\n",
       "                <audio controls=\"controls\" >\n",
       "                    <source />\n",
       "                    Your browser does not support the audio element.\n",
       "                </audio>\n",
       "              "
      ],
      "text/plain": [
       "<IPython.lib.display.Audio object>"
      ]
     },
     "metadata": {},
     "output_type": "display_data"
    },
    {
     "data": {
      "text/markdown": [
       "\n",
       "\n",
       " ___"
      ],
      "text/plain": [
       "<IPython.core.display.Markdown object>"
      ]
     },
     "metadata": {},
     "output_type": "display_data"
    },
    {
     "data": {
      "text/markdown": [
       "**Text:** \"It is certainly difficult to understand an animal's intention behind an empathic response.\""
      ],
      "text/plain": [
       "<IPython.core.display.Markdown object>"
      ]
     },
     "metadata": {},
     "output_type": "display_data"
    },
    {
     "data": {
      "text/html": [
       "<a href='../../data/Hillary/wavs/Scripts 88-93/script_22_chunk_5-rate=24000.wav' target='_blank'>../../data/Hillary/wavs/Scripts 88-93/script_22_chunk_5-rate=24000.wav</a><br>"
      ],
      "text/plain": [
       "/Users/michaelp/Code/Tacotron-2/data/Hillary/wavs/Scripts 88-93/script_22_chunk_5-rate=24000.wav"
      ]
     },
     "metadata": {},
     "output_type": "display_data"
    },
    {
     "data": {
      "text/html": [
       "\n",
       "                <audio controls=\"controls\" >\n",
       "                    <source />\n",
       "                    Your browser does not support the audio element.\n",
       "                </audio>\n",
       "              "
      ],
      "text/plain": [
       "<IPython.lib.display.Audio object>"
      ]
     },
     "metadata": {},
     "output_type": "display_data"
    },
    {
     "data": {
      "text/markdown": [
       "\n",
       "\n",
       " ___"
      ],
      "text/plain": [
       "<IPython.core.display.Markdown object>"
      ]
     },
     "metadata": {},
     "output_type": "display_data"
    },
    {
     "data": {
      "text/markdown": [
       "**Text:** \"Understanding the manner of speaking within business in the local area to improve overall productivity\""
      ],
      "text/plain": [
       "<IPython.core.display.Markdown object>"
      ]
     },
     "metadata": {},
     "output_type": "display_data"
    },
    {
     "data": {
      "text/html": [
       "<a href='../../data/Hillary/wavs/Scripts 22-27/script_4_chunk_3-rate=24000.wav' target='_blank'>../../data/Hillary/wavs/Scripts 22-27/script_4_chunk_3-rate=24000.wav</a><br>"
      ],
      "text/plain": [
       "/Users/michaelp/Code/Tacotron-2/data/Hillary/wavs/Scripts 22-27/script_4_chunk_3-rate=24000.wav"
      ]
     },
     "metadata": {},
     "output_type": "display_data"
    },
    {
     "data": {
      "text/html": [
       "\n",
       "                <audio controls=\"controls\" >\n",
       "                    <source />\n",
       "                    Your browser does not support the audio element.\n",
       "                </audio>\n",
       "              "
      ],
      "text/plain": [
       "<IPython.lib.display.Audio object>"
      ]
     },
     "metadata": {},
     "output_type": "display_data"
    },
    {
     "data": {
      "text/markdown": [
       "\n",
       "\n",
       " ___"
      ],
      "text/plain": [
       "<IPython.core.display.Markdown object>"
      ]
     },
     "metadata": {},
     "output_type": "display_data"
    },
    {
     "data": {
      "text/markdown": [
       "**Text:** \"The US Department of Labor, Occupational Health and Safety Administration was created by Congress\""
      ],
      "text/plain": [
       "<IPython.core.display.Markdown object>"
      ]
     },
     "metadata": {},
     "output_type": "display_data"
    },
    {
     "data": {
      "text/html": [
       "<a href='../../data/Hillary/wavs/Script 7/script_8_chunk_19-rate=24000.wav' target='_blank'>../../data/Hillary/wavs/Script 7/script_8_chunk_19-rate=24000.wav</a><br>"
      ],
      "text/plain": [
       "/Users/michaelp/Code/Tacotron-2/data/Hillary/wavs/Script 7/script_8_chunk_19-rate=24000.wav"
      ]
     },
     "metadata": {},
     "output_type": "display_data"
    },
    {
     "data": {
      "text/html": [
       "\n",
       "                <audio controls=\"controls\" >\n",
       "                    <source />\n",
       "                    Your browser does not support the audio element.\n",
       "                </audio>\n",
       "              "
      ],
      "text/plain": [
       "<IPython.lib.display.Audio object>"
      ]
     },
     "metadata": {},
     "output_type": "display_data"
    },
    {
     "data": {
      "text/markdown": [
       "\n",
       "\n",
       " ___"
      ],
      "text/plain": [
       "<IPython.core.display.Markdown object>"
      ]
     },
     "metadata": {},
     "output_type": "display_data"
    },
    {
     "data": {
      "text/markdown": [
       "**Text:** \"Ethical marketing issues include marketing redundant or dangerous products/services\""
      ],
      "text/plain": [
       "<IPython.core.display.Markdown object>"
      ]
     },
     "metadata": {},
     "output_type": "display_data"
    },
    {
     "data": {
      "text/html": [
       "<a href='../../data/Hillary/wavs/Script 1/script_16_chunk_5-rate=24000.wav' target='_blank'>../../data/Hillary/wavs/Script 1/script_16_chunk_5-rate=24000.wav</a><br>"
      ],
      "text/plain": [
       "/Users/michaelp/Code/Tacotron-2/data/Hillary/wavs/Script 1/script_16_chunk_5-rate=24000.wav"
      ]
     },
     "metadata": {},
     "output_type": "display_data"
    },
    {
     "data": {
      "text/html": [
       "\n",
       "                <audio controls=\"controls\" >\n",
       "                    <source />\n",
       "                    Your browser does not support the audio element.\n",
       "                </audio>\n",
       "              "
      ],
      "text/plain": [
       "<IPython.lib.display.Audio object>"
      ]
     },
     "metadata": {},
     "output_type": "display_data"
    },
    {
     "data": {
      "text/markdown": [
       "\n",
       "\n",
       " ___"
      ],
      "text/plain": [
       "<IPython.core.display.Markdown object>"
      ]
     },
     "metadata": {},
     "output_type": "display_data"
    },
    {
     "data": {
      "text/markdown": [
       "**Text:** \"When you choose\""
      ],
      "text/plain": [
       "<IPython.core.display.Markdown object>"
      ]
     },
     "metadata": {},
     "output_type": "display_data"
    },
    {
     "data": {
      "text/html": [
       "<a href='../../data/Hillary/wavs/Script 8/script_3_chunk_5-rate=24000.wav' target='_blank'>../../data/Hillary/wavs/Script 8/script_3_chunk_5-rate=24000.wav</a><br>"
      ],
      "text/plain": [
       "/Users/michaelp/Code/Tacotron-2/data/Hillary/wavs/Script 8/script_3_chunk_5-rate=24000.wav"
      ]
     },
     "metadata": {},
     "output_type": "display_data"
    },
    {
     "data": {
      "text/html": [
       "\n",
       "                <audio controls=\"controls\" >\n",
       "                    <source />\n",
       "                    Your browser does not support the audio element.\n",
       "                </audio>\n",
       "              "
      ],
      "text/plain": [
       "<IPython.lib.display.Audio object>"
      ]
     },
     "metadata": {},
     "output_type": "display_data"
    },
    {
     "data": {
      "text/markdown": [
       "\n",
       "\n",
       " ___"
      ],
      "text/plain": [
       "<IPython.core.display.Markdown object>"
      ]
     },
     "metadata": {},
     "output_type": "display_data"
    },
    {
     "data": {
      "text/markdown": [
       "**Text:** \"The gene 5-HTTLPR seems to determine sensitivity to negative emotional information\""
      ],
      "text/plain": [
       "<IPython.core.display.Markdown object>"
      ]
     },
     "metadata": {},
     "output_type": "display_data"
    },
    {
     "data": {
      "text/html": [
       "<a href='../../data/Hillary/wavs/Scripts 88-93/script_4_chunk_4-rate=24000.wav' target='_blank'>../../data/Hillary/wavs/Scripts 88-93/script_4_chunk_4-rate=24000.wav</a><br>"
      ],
      "text/plain": [
       "/Users/michaelp/Code/Tacotron-2/data/Hillary/wavs/Scripts 88-93/script_4_chunk_4-rate=24000.wav"
      ]
     },
     "metadata": {},
     "output_type": "display_data"
    },
    {
     "data": {
      "text/html": [
       "\n",
       "                <audio controls=\"controls\" >\n",
       "                    <source />\n",
       "                    Your browser does not support the audio element.\n",
       "                </audio>\n",
       "              "
      ],
      "text/plain": [
       "<IPython.lib.display.Audio object>"
      ]
     },
     "metadata": {},
     "output_type": "display_data"
    },
    {
     "data": {
      "text/markdown": [
       "\n",
       "\n",
       " ___"
      ],
      "text/plain": [
       "<IPython.core.display.Markdown object>"
      ]
     },
     "metadata": {},
     "output_type": "display_data"
    },
    {
     "data": {
      "text/markdown": [
       "**Text:** \"will show you how to decode those little black dots and, in a short time, you’ll be surprised how fluent you’ve become!\""
      ],
      "text/plain": [
       "<IPython.core.display.Markdown object>"
      ]
     },
     "metadata": {},
     "output_type": "display_data"
    },
    {
     "data": {
      "text/html": [
       "<a href='../../data/Hillary/wavs/Scripts 22-27/script_34_chunk_2-rate=24000.wav' target='_blank'>../../data/Hillary/wavs/Scripts 22-27/script_34_chunk_2-rate=24000.wav</a><br>"
      ],
      "text/plain": [
       "/Users/michaelp/Code/Tacotron-2/data/Hillary/wavs/Scripts 22-27/script_34_chunk_2-rate=24000.wav"
      ]
     },
     "metadata": {},
     "output_type": "display_data"
    },
    {
     "data": {
      "text/html": [
       "\n",
       "                <audio controls=\"controls\" >\n",
       "                    <source />\n",
       "                    Your browser does not support the audio element.\n",
       "                </audio>\n",
       "              "
      ],
      "text/plain": [
       "<IPython.lib.display.Audio object>"
      ]
     },
     "metadata": {},
     "output_type": "display_data"
    },
    {
     "data": {
      "text/markdown": [
       "\n",
       "\n",
       " ___"
      ],
      "text/plain": [
       "<IPython.core.display.Markdown object>"
      ]
     },
     "metadata": {},
     "output_type": "display_data"
    },
    {
     "data": {
      "text/markdown": [
       "**Text:** \"Good leaders use their own inner mentors to energize their team and organizations\""
      ],
      "text/plain": [
       "<IPython.core.display.Markdown object>"
      ]
     },
     "metadata": {},
     "output_type": "display_data"
    },
    {
     "data": {
      "text/html": [
       "<a href='../../data/Hillary/wavs/Scripts 70-75/script_65_chunk_10-rate=24000.wav' target='_blank'>../../data/Hillary/wavs/Scripts 70-75/script_65_chunk_10-rate=24000.wav</a><br>"
      ],
      "text/plain": [
       "/Users/michaelp/Code/Tacotron-2/data/Hillary/wavs/Scripts 70-75/script_65_chunk_10-rate=24000.wav"
      ]
     },
     "metadata": {},
     "output_type": "display_data"
    },
    {
     "data": {
      "text/html": [
       "\n",
       "                <audio controls=\"controls\" >\n",
       "                    <source />\n",
       "                    Your browser does not support the audio element.\n",
       "                </audio>\n",
       "              "
      ],
      "text/plain": [
       "<IPython.lib.display.Audio object>"
      ]
     },
     "metadata": {},
     "output_type": "display_data"
    },
    {
     "data": {
      "text/markdown": [
       "\n",
       "\n",
       " ___"
      ],
      "text/plain": [
       "<IPython.core.display.Markdown object>"
      ]
     },
     "metadata": {},
     "output_type": "display_data"
    },
    {
     "data": {
      "text/markdown": [
       "**Text:** \"Using essential oils for healing purposes is often called aromatherapy,\""
      ],
      "text/plain": [
       "<IPython.core.display.Markdown object>"
      ]
     },
     "metadata": {},
     "output_type": "display_data"
    },
    {
     "data": {
      "text/html": [
       "<a href='../../data/Hillary/wavs/Scripts 16-21/script_16_chunk_1-rate=24000.wav' target='_blank'>../../data/Hillary/wavs/Scripts 16-21/script_16_chunk_1-rate=24000.wav</a><br>"
      ],
      "text/plain": [
       "/Users/michaelp/Code/Tacotron-2/data/Hillary/wavs/Scripts 16-21/script_16_chunk_1-rate=24000.wav"
      ]
     },
     "metadata": {},
     "output_type": "display_data"
    },
    {
     "data": {
      "text/html": [
       "\n",
       "                <audio controls=\"controls\" >\n",
       "                    <source />\n",
       "                    Your browser does not support the audio element.\n",
       "                </audio>\n",
       "              "
      ],
      "text/plain": [
       "<IPython.lib.display.Audio object>"
      ]
     },
     "metadata": {},
     "output_type": "display_data"
    },
    {
     "data": {
      "text/markdown": [
       "\n",
       "\n",
       " ___"
      ],
      "text/plain": [
       "<IPython.core.display.Markdown object>"
      ]
     },
     "metadata": {},
     "output_type": "display_data"
    },
    {
     "data": {
      "text/markdown": [
       "**Text:** \"and in Galatians 6:2 encourages: \"Bear one another's burdens, and in this way you will fulfill the law of Christ.\"\""
      ],
      "text/plain": [
       "<IPython.core.display.Markdown object>"
      ]
     },
     "metadata": {},
     "output_type": "display_data"
    },
    {
     "data": {
      "text/html": [
       "<a href='../../data/Hillary/wavs/Scripts 28-33/script_69_chunk_13-rate=24000.wav' target='_blank'>../../data/Hillary/wavs/Scripts 28-33/script_69_chunk_13-rate=24000.wav</a><br>"
      ],
      "text/plain": [
       "/Users/michaelp/Code/Tacotron-2/data/Hillary/wavs/Scripts 28-33/script_69_chunk_13-rate=24000.wav"
      ]
     },
     "metadata": {},
     "output_type": "display_data"
    },
    {
     "data": {
      "text/html": [
       "\n",
       "                <audio controls=\"controls\" >\n",
       "                    <source />\n",
       "                    Your browser does not support the audio element.\n",
       "                </audio>\n",
       "              "
      ],
      "text/plain": [
       "<IPython.lib.display.Audio object>"
      ]
     },
     "metadata": {},
     "output_type": "display_data"
    },
    {
     "data": {
      "text/markdown": [
       "\n",
       "\n",
       " ___"
      ],
      "text/plain": [
       "<IPython.core.display.Markdown object>"
      ]
     },
     "metadata": {},
     "output_type": "display_data"
    },
    {
     "data": {
      "text/markdown": [
       "**Text:** \"and Leadership Secrets of Attila the Hun by Wess Roberts.\""
      ],
      "text/plain": [
       "<IPython.core.display.Markdown object>"
      ]
     },
     "metadata": {},
     "output_type": "display_data"
    },
    {
     "data": {
      "text/html": [
       "<a href='../../data/Hillary/wavs/Scripts 94-98/script_40_chunk_9-rate=24000.wav' target='_blank'>../../data/Hillary/wavs/Scripts 94-98/script_40_chunk_9-rate=24000.wav</a><br>"
      ],
      "text/plain": [
       "/Users/michaelp/Code/Tacotron-2/data/Hillary/wavs/Scripts 94-98/script_40_chunk_9-rate=24000.wav"
      ]
     },
     "metadata": {},
     "output_type": "display_data"
    },
    {
     "data": {
      "text/html": [
       "\n",
       "                <audio controls=\"controls\" >\n",
       "                    <source />\n",
       "                    Your browser does not support the audio element.\n",
       "                </audio>\n",
       "              "
      ],
      "text/plain": [
       "<IPython.lib.display.Audio object>"
      ]
     },
     "metadata": {},
     "output_type": "display_data"
    },
    {
     "data": {
      "text/markdown": [
       "\n",
       "\n",
       " ___"
      ],
      "text/plain": [
       "<IPython.core.display.Markdown object>"
      ]
     },
     "metadata": {},
     "output_type": "display_data"
    },
    {
     "data": {
      "text/markdown": [
       "**Text:** \"which uses spoken and written words for expressing and transferring views and ideas.\""
      ],
      "text/plain": [
       "<IPython.core.display.Markdown object>"
      ]
     },
     "metadata": {},
     "output_type": "display_data"
    },
    {
     "data": {
      "text/html": [
       "<a href='../../data/Hillary/wavs/Scripts 102-107/script_137_chunk_1-rate=24000.wav' target='_blank'>../../data/Hillary/wavs/Scripts 102-107/script_137_chunk_1-rate=24000.wav</a><br>"
      ],
      "text/plain": [
       "/Users/michaelp/Code/Tacotron-2/data/Hillary/wavs/Scripts 102-107/script_137_chunk_1-rate=24000.wav"
      ]
     },
     "metadata": {},
     "output_type": "display_data"
    },
    {
     "data": {
      "text/html": [
       "\n",
       "                <audio controls=\"controls\" >\n",
       "                    <source />\n",
       "                    Your browser does not support the audio element.\n",
       "                </audio>\n",
       "              "
      ],
      "text/plain": [
       "<IPython.lib.display.Audio object>"
      ]
     },
     "metadata": {},
     "output_type": "display_data"
    },
    {
     "data": {
      "text/markdown": [
       "\n",
       "\n",
       " ___"
      ],
      "text/plain": [
       "<IPython.core.display.Markdown object>"
      ]
     },
     "metadata": {},
     "output_type": "display_data"
    },
    {
     "data": {
      "text/markdown": [
       "**Text:** \"They fought to belong, to survive, and to get ahead, as would all newcomers to America.\""
      ],
      "text/plain": [
       "<IPython.core.display.Markdown object>"
      ]
     },
     "metadata": {},
     "output_type": "display_data"
    },
    {
     "data": {
      "text/html": [
       "<a href='../../data/Hillary/wavs/Scripts 88-93/script_61_chunk_2-rate=24000.wav' target='_blank'>../../data/Hillary/wavs/Scripts 88-93/script_61_chunk_2-rate=24000.wav</a><br>"
      ],
      "text/plain": [
       "/Users/michaelp/Code/Tacotron-2/data/Hillary/wavs/Scripts 88-93/script_61_chunk_2-rate=24000.wav"
      ]
     },
     "metadata": {},
     "output_type": "display_data"
    },
    {
     "data": {
      "text/html": [
       "\n",
       "                <audio controls=\"controls\" >\n",
       "                    <source />\n",
       "                    Your browser does not support the audio element.\n",
       "                </audio>\n",
       "              "
      ],
      "text/plain": [
       "<IPython.lib.display.Audio object>"
      ]
     },
     "metadata": {},
     "output_type": "display_data"
    },
    {
     "data": {
      "text/markdown": [
       "\n",
       "\n",
       " ___"
      ],
      "text/plain": [
       "<IPython.core.display.Markdown object>"
      ]
     },
     "metadata": {},
     "output_type": "display_data"
    },
    {
     "data": {
      "text/markdown": [
       "**Text:** \"It is about \"capturing what the manager learns from all sources\""
      ],
      "text/plain": [
       "<IPython.core.display.Markdown object>"
      ]
     },
     "metadata": {},
     "output_type": "display_data"
    },
    {
     "data": {
      "text/html": [
       "<a href='../../data/Hillary/wavs/Scripts 28-33/script_27_chunk_5-rate=24000.wav' target='_blank'>../../data/Hillary/wavs/Scripts 28-33/script_27_chunk_5-rate=24000.wav</a><br>"
      ],
      "text/plain": [
       "/Users/michaelp/Code/Tacotron-2/data/Hillary/wavs/Scripts 28-33/script_27_chunk_5-rate=24000.wav"
      ]
     },
     "metadata": {},
     "output_type": "display_data"
    },
    {
     "data": {
      "text/html": [
       "\n",
       "                <audio controls=\"controls\" >\n",
       "                    <source />\n",
       "                    Your browser does not support the audio element.\n",
       "                </audio>\n",
       "              "
      ],
      "text/plain": [
       "<IPython.lib.display.Audio object>"
      ]
     },
     "metadata": {},
     "output_type": "display_data"
    },
    {
     "data": {
      "text/markdown": [
       "\n",
       "\n",
       " ___"
      ],
      "text/plain": [
       "<IPython.core.display.Markdown object>"
      ]
     },
     "metadata": {},
     "output_type": "display_data"
    },
    {
     "data": {
      "text/markdown": [
       "**Text:** \"but this may be understated.  While multinational consultancy firms provide advice on major projects\""
      ],
      "text/plain": [
       "<IPython.core.display.Markdown object>"
      ]
     },
     "metadata": {},
     "output_type": "display_data"
    },
    {
     "data": {
      "text/html": [
       "<a href='../../data/Hillary/wavs/Scripts 64-69/script_84_chunk_12-rate=24000.wav' target='_blank'>../../data/Hillary/wavs/Scripts 64-69/script_84_chunk_12-rate=24000.wav</a><br>"
      ],
      "text/plain": [
       "/Users/michaelp/Code/Tacotron-2/data/Hillary/wavs/Scripts 64-69/script_84_chunk_12-rate=24000.wav"
      ]
     },
     "metadata": {},
     "output_type": "display_data"
    },
    {
     "data": {
      "text/html": [
       "\n",
       "                <audio controls=\"controls\" >\n",
       "                    <source />\n",
       "                    Your browser does not support the audio element.\n",
       "                </audio>\n",
       "              "
      ],
      "text/plain": [
       "<IPython.lib.display.Audio object>"
      ]
     },
     "metadata": {},
     "output_type": "display_data"
    },
    {
     "data": {
      "text/markdown": [
       "\n",
       "\n",
       " ___"
      ],
      "text/plain": [
       "<IPython.core.display.Markdown object>"
      ]
     },
     "metadata": {},
     "output_type": "display_data"
    },
    {
     "data": {
      "text/markdown": [
       "**Text:** \"Some research suggests that people are more able and willing to empathize with those most similar to themselves.\""
      ],
      "text/plain": [
       "<IPython.core.display.Markdown object>"
      ]
     },
     "metadata": {},
     "output_type": "display_data"
    },
    {
     "data": {
      "text/html": [
       "<a href='../../data/Hillary/wavs/Scripts 58-63/script_15_chunk_10-rate=24000.wav' target='_blank'>../../data/Hillary/wavs/Scripts 58-63/script_15_chunk_10-rate=24000.wav</a><br>"
      ],
      "text/plain": [
       "/Users/michaelp/Code/Tacotron-2/data/Hillary/wavs/Scripts 58-63/script_15_chunk_10-rate=24000.wav"
      ]
     },
     "metadata": {},
     "output_type": "display_data"
    },
    {
     "data": {
      "text/html": [
       "\n",
       "                <audio controls=\"controls\" >\n",
       "                    <source />\n",
       "                    Your browser does not support the audio element.\n",
       "                </audio>\n",
       "              "
      ],
      "text/plain": [
       "<IPython.lib.display.Audio object>"
      ]
     },
     "metadata": {},
     "output_type": "display_data"
    },
    {
     "data": {
      "text/markdown": [
       "\n",
       "\n",
       " ___"
      ],
      "text/plain": [
       "<IPython.core.display.Markdown object>"
      ]
     },
     "metadata": {},
     "output_type": "display_data"
    },
    {
     "data": {
      "text/markdown": [
       "**Text:** \"The Lighthouse Board\""
      ],
      "text/plain": [
       "<IPython.core.display.Markdown object>"
      ]
     },
     "metadata": {},
     "output_type": "display_data"
    },
    {
     "data": {
      "text/html": [
       "<a href='../../data/Hillary/wavs/Scripts 102-107/script_54_chunk_4-rate=24000.wav' target='_blank'>../../data/Hillary/wavs/Scripts 102-107/script_54_chunk_4-rate=24000.wav</a><br>"
      ],
      "text/plain": [
       "/Users/michaelp/Code/Tacotron-2/data/Hillary/wavs/Scripts 102-107/script_54_chunk_4-rate=24000.wav"
      ]
     },
     "metadata": {},
     "output_type": "display_data"
    },
    {
     "data": {
      "text/html": [
       "\n",
       "                <audio controls=\"controls\" >\n",
       "                    <source />\n",
       "                    Your browser does not support the audio element.\n",
       "                </audio>\n",
       "              "
      ],
      "text/plain": [
       "<IPython.lib.display.Audio object>"
      ]
     },
     "metadata": {},
     "output_type": "display_data"
    },
    {
     "data": {
      "text/markdown": [
       "\n",
       "\n",
       " ___"
      ],
      "text/plain": [
       "<IPython.core.display.Markdown object>"
      ]
     },
     "metadata": {},
     "output_type": "display_data"
    },
    {
     "data": {
      "text/markdown": [
       "**Text:** \"advertising truthfulness and fairness in pricing & distribution.\""
      ],
      "text/plain": [
       "<IPython.core.display.Markdown object>"
      ]
     },
     "metadata": {},
     "output_type": "display_data"
    },
    {
     "data": {
      "text/html": [
       "<a href='../../data/Hillary/wavs/Script 1/script_16_chunk_8-rate=24000.wav' target='_blank'>../../data/Hillary/wavs/Script 1/script_16_chunk_8-rate=24000.wav</a><br>"
      ],
      "text/plain": [
       "/Users/michaelp/Code/Tacotron-2/data/Hillary/wavs/Script 1/script_16_chunk_8-rate=24000.wav"
      ]
     },
     "metadata": {},
     "output_type": "display_data"
    },
    {
     "data": {
      "text/html": [
       "\n",
       "                <audio controls=\"controls\" >\n",
       "                    <source />\n",
       "                    Your browser does not support the audio element.\n",
       "                </audio>\n",
       "              "
      ],
      "text/plain": [
       "<IPython.lib.display.Audio object>"
      ]
     },
     "metadata": {},
     "output_type": "display_data"
    },
    {
     "data": {
      "text/markdown": [
       "\n",
       "\n",
       " ___"
      ],
      "text/plain": [
       "<IPython.core.display.Markdown object>"
      ]
     },
     "metadata": {},
     "output_type": "display_data"
    },
    {
     "data": {
      "text/markdown": [
       "**Text:** \"As a result of their exposure to, and relationships\""
      ],
      "text/plain": [
       "<IPython.core.display.Markdown object>"
      ]
     },
     "metadata": {},
     "output_type": "display_data"
    },
    {
     "data": {
      "text/html": [
       "<a href='../../data/Hillary/wavs/Scripts 34-39/script_97_chunk_4-rate=24000.wav' target='_blank'>../../data/Hillary/wavs/Scripts 34-39/script_97_chunk_4-rate=24000.wav</a><br>"
      ],
      "text/plain": [
       "/Users/michaelp/Code/Tacotron-2/data/Hillary/wavs/Scripts 34-39/script_97_chunk_4-rate=24000.wav"
      ]
     },
     "metadata": {},
     "output_type": "display_data"
    },
    {
     "data": {
      "text/html": [
       "\n",
       "                <audio controls=\"controls\" >\n",
       "                    <source />\n",
       "                    Your browser does not support the audio element.\n",
       "                </audio>\n",
       "              "
      ],
      "text/plain": [
       "<IPython.lib.display.Audio object>"
      ]
     },
     "metadata": {},
     "output_type": "display_data"
    },
    {
     "data": {
      "text/markdown": [
       "\n",
       "\n",
       " ___"
      ],
      "text/plain": [
       "<IPython.core.display.Markdown object>"
      ]
     },
     "metadata": {},
     "output_type": "display_data"
    },
    {
     "data": {
      "text/markdown": [
       "**Text:** \"Barbara Fredrickson in her broaden-and-build model suggests that positive emotions such as joy and love\""
      ],
      "text/plain": [
       "<IPython.core.display.Markdown object>"
      ]
     },
     "metadata": {},
     "output_type": "display_data"
    },
    {
     "data": {
      "text/html": [
       "<a href='../../data/Hillary/wavs/Scripts 28-33/script_80_chunk_9-rate=24000.wav' target='_blank'>../../data/Hillary/wavs/Scripts 28-33/script_80_chunk_9-rate=24000.wav</a><br>"
      ],
      "text/plain": [
       "/Users/michaelp/Code/Tacotron-2/data/Hillary/wavs/Scripts 28-33/script_80_chunk_9-rate=24000.wav"
      ]
     },
     "metadata": {},
     "output_type": "display_data"
    },
    {
     "data": {
      "text/html": [
       "\n",
       "                <audio controls=\"controls\" >\n",
       "                    <source />\n",
       "                    Your browser does not support the audio element.\n",
       "                </audio>\n",
       "              "
      ],
      "text/plain": [
       "<IPython.lib.display.Audio object>"
      ]
     },
     "metadata": {},
     "output_type": "display_data"
    },
    {
     "data": {
      "text/markdown": [
       "\n",
       "\n",
       " ___"
      ],
      "text/plain": [
       "<IPython.core.display.Markdown object>"
      ]
     },
     "metadata": {},
     "output_type": "display_data"
    },
    {
     "data": {
      "text/markdown": [
       "**Text:** \"offers a plan and an online support system\""
      ],
      "text/plain": [
       "<IPython.core.display.Markdown object>"
      ]
     },
     "metadata": {},
     "output_type": "display_data"
    },
    {
     "data": {
      "text/html": [
       "<a href='../../data/Hillary/wavs/Scripts 22-27/script_82_chunk_7-rate=24000.wav' target='_blank'>../../data/Hillary/wavs/Scripts 22-27/script_82_chunk_7-rate=24000.wav</a><br>"
      ],
      "text/plain": [
       "/Users/michaelp/Code/Tacotron-2/data/Hillary/wavs/Scripts 22-27/script_82_chunk_7-rate=24000.wav"
      ]
     },
     "metadata": {},
     "output_type": "display_data"
    },
    {
     "data": {
      "text/html": [
       "\n",
       "                <audio controls=\"controls\" >\n",
       "                    <source />\n",
       "                    Your browser does not support the audio element.\n",
       "                </audio>\n",
       "              "
      ],
      "text/plain": [
       "<IPython.lib.display.Audio object>"
      ]
     },
     "metadata": {},
     "output_type": "display_data"
    },
    {
     "data": {
      "text/markdown": [
       "\n",
       "\n",
       " ___"
      ],
      "text/plain": [
       "<IPython.core.display.Markdown object>"
      ]
     },
     "metadata": {},
     "output_type": "display_data"
    },
    {
     "data": {
      "text/markdown": [
       "**Text:** \"I have to be careful of them, as they tear very easily.\""
      ],
      "text/plain": [
       "<IPython.core.display.Markdown object>"
      ]
     },
     "metadata": {},
     "output_type": "display_data"
    },
    {
     "data": {
      "text/html": [
       "<a href='../../data/Hillary/wavs/Scripts 16-21/script_49_chunk_0-rate=24000.wav' target='_blank'>../../data/Hillary/wavs/Scripts 16-21/script_49_chunk_0-rate=24000.wav</a><br>"
      ],
      "text/plain": [
       "/Users/michaelp/Code/Tacotron-2/data/Hillary/wavs/Scripts 16-21/script_49_chunk_0-rate=24000.wav"
      ]
     },
     "metadata": {},
     "output_type": "display_data"
    },
    {
     "data": {
      "text/html": [
       "\n",
       "                <audio controls=\"controls\" >\n",
       "                    <source />\n",
       "                    Your browser does not support the audio element.\n",
       "                </audio>\n",
       "              "
      ],
      "text/plain": [
       "<IPython.lib.display.Audio object>"
      ]
     },
     "metadata": {},
     "output_type": "display_data"
    },
    {
     "data": {
      "text/markdown": [
       "\n",
       "\n",
       " ___"
      ],
      "text/plain": [
       "<IPython.core.display.Markdown object>"
      ]
     },
     "metadata": {},
     "output_type": "display_data"
    },
    {
     "data": {
      "text/markdown": [
       "**Text:** \"In 1982 the first single-authored books in the field appeared.\""
      ],
      "text/plain": [
       "<IPython.core.display.Markdown object>"
      ]
     },
     "metadata": {},
     "output_type": "display_data"
    },
    {
     "data": {
      "text/html": [
       "<a href='../../data/Hillary/wavs/Script 12/script_2_chunk_9-rate=24000.wav' target='_blank'>../../data/Hillary/wavs/Script 12/script_2_chunk_9-rate=24000.wav</a><br>"
      ],
      "text/plain": [
       "/Users/michaelp/Code/Tacotron-2/data/Hillary/wavs/Script 12/script_2_chunk_9-rate=24000.wav"
      ]
     },
     "metadata": {},
     "output_type": "display_data"
    },
    {
     "data": {
      "text/html": [
       "\n",
       "                <audio controls=\"controls\" >\n",
       "                    <source />\n",
       "                    Your browser does not support the audio element.\n",
       "                </audio>\n",
       "              "
      ],
      "text/plain": [
       "<IPython.lib.display.Audio object>"
      ]
     },
     "metadata": {},
     "output_type": "display_data"
    },
    {
     "data": {
      "text/markdown": [
       "\n",
       "\n",
       " ___"
      ],
      "text/plain": [
       "<IPython.core.display.Markdown object>"
      ]
     },
     "metadata": {},
     "output_type": "display_data"
    },
    {
     "data": {
      "text/markdown": [
       "**Text:** \"and found that 27 had no word which directly translated to 'creativity'. The principle of linguistic relativity,\""
      ],
      "text/plain": [
       "<IPython.core.display.Markdown object>"
      ]
     },
     "metadata": {},
     "output_type": "display_data"
    },
    {
     "data": {
      "text/html": [
       "<a href='../../data/Hillary/wavs/Script 7/script_12_chunk_5-rate=24000.wav' target='_blank'>../../data/Hillary/wavs/Script 7/script_12_chunk_5-rate=24000.wav</a><br>"
      ],
      "text/plain": [
       "/Users/michaelp/Code/Tacotron-2/data/Hillary/wavs/Script 7/script_12_chunk_5-rate=24000.wav"
      ]
     },
     "metadata": {},
     "output_type": "display_data"
    },
    {
     "data": {
      "text/html": [
       "\n",
       "                <audio controls=\"controls\" >\n",
       "                    <source />\n",
       "                    Your browser does not support the audio element.\n",
       "                </audio>\n",
       "              "
      ],
      "text/plain": [
       "<IPython.lib.display.Audio object>"
      ]
     },
     "metadata": {},
     "output_type": "display_data"
    },
    {
     "data": {
      "text/markdown": [
       "\n",
       "\n",
       " ___"
      ],
      "text/plain": [
       "<IPython.core.display.Markdown object>"
      ]
     },
     "metadata": {},
     "output_type": "display_data"
    },
    {
     "data": {
      "text/markdown": [
       "**Text:** \"most certainly the most dramatic in NCAA Tournament history.\""
      ],
      "text/plain": [
       "<IPython.core.display.Markdown object>"
      ]
     },
     "metadata": {},
     "output_type": "display_data"
    },
    {
     "data": {
      "text/html": [
       "<a href='../../data/Hillary/wavs/Scripts 94-98/script_4_chunk_2-rate=24000.wav' target='_blank'>../../data/Hillary/wavs/Scripts 94-98/script_4_chunk_2-rate=24000.wav</a><br>"
      ],
      "text/plain": [
       "/Users/michaelp/Code/Tacotron-2/data/Hillary/wavs/Scripts 94-98/script_4_chunk_2-rate=24000.wav"
      ]
     },
     "metadata": {},
     "output_type": "display_data"
    },
    {
     "data": {
      "text/html": [
       "\n",
       "                <audio controls=\"controls\" >\n",
       "                    <source />\n",
       "                    Your browser does not support the audio element.\n",
       "                </audio>\n",
       "              "
      ],
      "text/plain": [
       "<IPython.lib.display.Audio object>"
      ]
     },
     "metadata": {},
     "output_type": "display_data"
    },
    {
     "data": {
      "text/markdown": [
       "\n",
       "\n",
       " ___"
      ],
      "text/plain": [
       "<IPython.core.display.Markdown object>"
      ]
     },
     "metadata": {},
     "output_type": "display_data"
    },
    {
     "data": {
      "text/markdown": [
       "**Text:** \"That's what this Fastbreak Basketball video is for.\""
      ],
      "text/plain": [
       "<IPython.core.display.Markdown object>"
      ]
     },
     "metadata": {},
     "output_type": "display_data"
    },
    {
     "data": {
      "text/html": [
       "<a href='../../data/Hillary/wavs/Script 6/script_5_chunk_1-rate=24000.wav' target='_blank'>../../data/Hillary/wavs/Script 6/script_5_chunk_1-rate=24000.wav</a><br>"
      ],
      "text/plain": [
       "/Users/michaelp/Code/Tacotron-2/data/Hillary/wavs/Script 6/script_5_chunk_1-rate=24000.wav"
      ]
     },
     "metadata": {},
     "output_type": "display_data"
    },
    {
     "data": {
      "text/html": [
       "\n",
       "                <audio controls=\"controls\" >\n",
       "                    <source />\n",
       "                    Your browser does not support the audio element.\n",
       "                </audio>\n",
       "              "
      ],
      "text/plain": [
       "<IPython.lib.display.Audio object>"
      ]
     },
     "metadata": {},
     "output_type": "display_data"
    },
    {
     "data": {
      "text/markdown": [
       "\n",
       "\n",
       " ___"
      ],
      "text/plain": [
       "<IPython.core.display.Markdown object>"
      ]
     },
     "metadata": {},
     "output_type": "display_data"
    },
    {
     "data": {
      "text/markdown": [
       "**Text:** \"or appear in marketing.\""
      ],
      "text/plain": [
       "<IPython.core.display.Markdown object>"
      ]
     },
     "metadata": {},
     "output_type": "display_data"
    },
    {
     "data": {
      "text/html": [
       "<a href='../../data/Hillary/wavs/Scripts 58-63/script_105_chunk_9-rate=24000.wav' target='_blank'>../../data/Hillary/wavs/Scripts 58-63/script_105_chunk_9-rate=24000.wav</a><br>"
      ],
      "text/plain": [
       "/Users/michaelp/Code/Tacotron-2/data/Hillary/wavs/Scripts 58-63/script_105_chunk_9-rate=24000.wav"
      ]
     },
     "metadata": {},
     "output_type": "display_data"
    },
    {
     "data": {
      "text/html": [
       "\n",
       "                <audio controls=\"controls\" >\n",
       "                    <source />\n",
       "                    Your browser does not support the audio element.\n",
       "                </audio>\n",
       "              "
      ],
      "text/plain": [
       "<IPython.lib.display.Audio object>"
      ]
     },
     "metadata": {},
     "output_type": "display_data"
    },
    {
     "data": {
      "text/markdown": [
       "\n",
       "\n",
       " ___"
      ],
      "text/plain": [
       "<IPython.core.display.Markdown object>"
      ]
     },
     "metadata": {},
     "output_type": "display_data"
    },
    {
     "data": {
      "text/markdown": [
       "**Text:** \"for decentralized decision-making\".\""
      ],
      "text/plain": [
       "<IPython.core.display.Markdown object>"
      ]
     },
     "metadata": {},
     "output_type": "display_data"
    },
    {
     "data": {
      "text/html": [
       "<a href='../../data/Hillary/wavs/Scripts 88-93/script_39_chunk_7-rate=24000.wav' target='_blank'>../../data/Hillary/wavs/Scripts 88-93/script_39_chunk_7-rate=24000.wav</a><br>"
      ],
      "text/plain": [
       "/Users/michaelp/Code/Tacotron-2/data/Hillary/wavs/Scripts 88-93/script_39_chunk_7-rate=24000.wav"
      ]
     },
     "metadata": {},
     "output_type": "display_data"
    },
    {
     "data": {
      "text/html": [
       "\n",
       "                <audio controls=\"controls\" >\n",
       "                    <source />\n",
       "                    Your browser does not support the audio element.\n",
       "                </audio>\n",
       "              "
      ],
      "text/plain": [
       "<IPython.lib.display.Audio object>"
      ]
     },
     "metadata": {},
     "output_type": "display_data"
    },
    {
     "data": {
      "text/markdown": [
       "\n",
       "\n",
       " ___"
      ],
      "text/plain": [
       "<IPython.core.display.Markdown object>"
      ]
     },
     "metadata": {},
     "output_type": "display_data"
    },
    {
     "data": {
      "text/markdown": [
       "**Text:** \"depending on the information's severity and nature, whistleblowers may report the misconduct to lawyers, the media,\""
      ],
      "text/plain": [
       "<IPython.core.display.Markdown object>"
      ]
     },
     "metadata": {},
     "output_type": "display_data"
    },
    {
     "data": {
      "text/html": [
       "<a href='../../data/Hillary/wavs/Scripts 102-107/script_12_chunk_2-rate=24000.wav' target='_blank'>../../data/Hillary/wavs/Scripts 102-107/script_12_chunk_2-rate=24000.wav</a><br>"
      ],
      "text/plain": [
       "/Users/michaelp/Code/Tacotron-2/data/Hillary/wavs/Scripts 102-107/script_12_chunk_2-rate=24000.wav"
      ]
     },
     "metadata": {},
     "output_type": "display_data"
    },
    {
     "data": {
      "text/html": [
       "\n",
       "                <audio controls=\"controls\" >\n",
       "                    <source />\n",
       "                    Your browser does not support the audio element.\n",
       "                </audio>\n",
       "              "
      ],
      "text/plain": [
       "<IPython.lib.display.Audio object>"
      ]
     },
     "metadata": {},
     "output_type": "display_data"
    },
    {
     "data": {
      "text/markdown": [
       "\n",
       "\n",
       " ___"
      ],
      "text/plain": [
       "<IPython.core.display.Markdown object>"
      ]
     },
     "metadata": {},
     "output_type": "display_data"
    },
    {
     "data": {
      "text/markdown": [
       "**Text:** \"The objectives that an organization might wish to pursue\""
      ],
      "text/plain": [
       "<IPython.core.display.Markdown object>"
      ]
     },
     "metadata": {},
     "output_type": "display_data"
    },
    {
     "data": {
      "text/html": [
       "<a href='../../data/Hillary/wavs/Scripts 94-98/script_69_chunk_4-rate=24000.wav' target='_blank'>../../data/Hillary/wavs/Scripts 94-98/script_69_chunk_4-rate=24000.wav</a><br>"
      ],
      "text/plain": [
       "/Users/michaelp/Code/Tacotron-2/data/Hillary/wavs/Scripts 94-98/script_69_chunk_4-rate=24000.wav"
      ]
     },
     "metadata": {},
     "output_type": "display_data"
    },
    {
     "data": {
      "text/html": [
       "\n",
       "                <audio controls=\"controls\" >\n",
       "                    <source />\n",
       "                    Your browser does not support the audio element.\n",
       "                </audio>\n",
       "              "
      ],
      "text/plain": [
       "<IPython.lib.display.Audio object>"
      ]
     },
     "metadata": {},
     "output_type": "display_data"
    },
    {
     "data": {
      "text/markdown": [
       "\n",
       "\n",
       " ___"
      ],
      "text/plain": [
       "<IPython.core.display.Markdown object>"
      ]
     },
     "metadata": {},
     "output_type": "display_data"
    },
    {
     "data": {
      "text/markdown": [
       "**Text:** \"This interface will let you negotiate a realistic visual world - without bumping into walls!\""
      ],
      "text/plain": [
       "<IPython.core.display.Markdown object>"
      ]
     },
     "metadata": {},
     "output_type": "display_data"
    },
    {
     "data": {
      "text/html": [
       "<a href='../../data/Hillary/wavs/Scripts 28-33/script_31_chunk_1-rate=24000.wav' target='_blank'>../../data/Hillary/wavs/Scripts 28-33/script_31_chunk_1-rate=24000.wav</a><br>"
      ],
      "text/plain": [
       "/Users/michaelp/Code/Tacotron-2/data/Hillary/wavs/Scripts 28-33/script_31_chunk_1-rate=24000.wav"
      ]
     },
     "metadata": {},
     "output_type": "display_data"
    },
    {
     "data": {
      "text/html": [
       "\n",
       "                <audio controls=\"controls\" >\n",
       "                    <source />\n",
       "                    Your browser does not support the audio element.\n",
       "                </audio>\n",
       "              "
      ],
      "text/plain": [
       "<IPython.lib.display.Audio object>"
      ]
     },
     "metadata": {},
     "output_type": "display_data"
    },
    {
     "data": {
      "text/markdown": [
       "\n",
       "\n",
       " ___"
      ],
      "text/plain": [
       "<IPython.core.display.Markdown object>"
      ]
     },
     "metadata": {},
     "output_type": "display_data"
    },
    {
     "data": {
      "text/markdown": [
       "**Text:** \"For any organization, place, or function, large or small, safety is a normative concept.\""
      ],
      "text/plain": [
       "<IPython.core.display.Markdown object>"
      ]
     },
     "metadata": {},
     "output_type": "display_data"
    },
    {
     "data": {
      "text/html": [
       "<a href='../../data/Hillary/wavs/Scripts 16-21/script_81_chunk_12-rate=24000.wav' target='_blank'>../../data/Hillary/wavs/Scripts 16-21/script_81_chunk_12-rate=24000.wav</a><br>"
      ],
      "text/plain": [
       "/Users/michaelp/Code/Tacotron-2/data/Hillary/wavs/Scripts 16-21/script_81_chunk_12-rate=24000.wav"
      ]
     },
     "metadata": {},
     "output_type": "display_data"
    },
    {
     "data": {
      "text/html": [
       "\n",
       "                <audio controls=\"controls\" >\n",
       "                    <source />\n",
       "                    Your browser does not support the audio element.\n",
       "                </audio>\n",
       "              "
      ],
      "text/plain": [
       "<IPython.lib.display.Audio object>"
      ]
     },
     "metadata": {},
     "output_type": "display_data"
    },
    {
     "data": {
      "text/markdown": [
       "\n",
       "\n",
       " ___"
      ],
      "text/plain": [
       "<IPython.core.display.Markdown object>"
      ]
     },
     "metadata": {},
     "output_type": "display_data"
    },
    {
     "data": {
      "text/markdown": [
       "**Text:** \"In a simple model, often referred to as the transmission model or standard view of communication,\""
      ],
      "text/plain": [
       "<IPython.core.display.Markdown object>"
      ]
     },
     "metadata": {},
     "output_type": "display_data"
    },
    {
     "data": {
      "text/html": [
       "<a href='../../data/Hillary/wavs/Scripts 94-98/script_60_chunk_0-rate=24000.wav' target='_blank'>../../data/Hillary/wavs/Scripts 94-98/script_60_chunk_0-rate=24000.wav</a><br>"
      ],
      "text/plain": [
       "/Users/michaelp/Code/Tacotron-2/data/Hillary/wavs/Scripts 94-98/script_60_chunk_0-rate=24000.wav"
      ]
     },
     "metadata": {},
     "output_type": "display_data"
    },
    {
     "data": {
      "text/html": [
       "\n",
       "                <audio controls=\"controls\" >\n",
       "                    <source />\n",
       "                    Your browser does not support the audio element.\n",
       "                </audio>\n",
       "              "
      ],
      "text/plain": [
       "<IPython.lib.display.Audio object>"
      ]
     },
     "metadata": {},
     "output_type": "display_data"
    },
    {
     "data": {
      "text/markdown": [
       "\n",
       "\n",
       " ___"
      ],
      "text/plain": [
       "<IPython.core.display.Markdown object>"
      ]
     },
     "metadata": {},
     "output_type": "display_data"
    },
    {
     "data": {
      "text/markdown": [
       "**Text:** \"advanced forms of empathy in humans\""
      ],
      "text/plain": [
       "<IPython.core.display.Markdown object>"
      ]
     },
     "metadata": {},
     "output_type": "display_data"
    },
    {
     "data": {
      "text/html": [
       "<a href='../../data/Hillary/wavs/Scripts 16-21/script_91_chunk_18-rate=24000.wav' target='_blank'>../../data/Hillary/wavs/Scripts 16-21/script_91_chunk_18-rate=24000.wav</a><br>"
      ],
      "text/plain": [
       "/Users/michaelp/Code/Tacotron-2/data/Hillary/wavs/Scripts 16-21/script_91_chunk_18-rate=24000.wav"
      ]
     },
     "metadata": {},
     "output_type": "display_data"
    },
    {
     "data": {
      "text/html": [
       "\n",
       "                <audio controls=\"controls\" >\n",
       "                    <source />\n",
       "                    Your browser does not support the audio element.\n",
       "                </audio>\n",
       "              "
      ],
      "text/plain": [
       "<IPython.lib.display.Audio object>"
      ]
     },
     "metadata": {},
     "output_type": "display_data"
    },
    {
     "data": {
      "text/markdown": [
       "\n",
       "\n",
       " ___"
      ],
      "text/plain": [
       "<IPython.core.display.Markdown object>"
      ]
     },
     "metadata": {},
     "output_type": "display_data"
    },
    {
     "data": {
      "text/markdown": [
       "**Text:** \"knowing, feminist theory, subjectivity,\""
      ],
      "text/plain": [
       "<IPython.core.display.Markdown object>"
      ]
     },
     "metadata": {},
     "output_type": "display_data"
    },
    {
     "data": {
      "text/html": [
       "<a href='../../data/Hillary/wavs/Script 2/script_13_chunk_19-rate=24000.wav' target='_blank'>../../data/Hillary/wavs/Script 2/script_13_chunk_19-rate=24000.wav</a><br>"
      ],
      "text/plain": [
       "/Users/michaelp/Code/Tacotron-2/data/Hillary/wavs/Script 2/script_13_chunk_19-rate=24000.wav"
      ]
     },
     "metadata": {},
     "output_type": "display_data"
    },
    {
     "data": {
      "text/html": [
       "\n",
       "                <audio controls=\"controls\" >\n",
       "                    <source />\n",
       "                    Your browser does not support the audio element.\n",
       "                </audio>\n",
       "              "
      ],
      "text/plain": [
       "<IPython.lib.display.Audio object>"
      ]
     },
     "metadata": {},
     "output_type": "display_data"
    },
    {
     "data": {
      "text/markdown": [
       "\n",
       "\n",
       " ___"
      ],
      "text/plain": [
       "<IPython.core.display.Markdown object>"
      ]
     },
     "metadata": {},
     "output_type": "display_data"
    },
    {
     "data": {
      "text/markdown": [
       "**Text:** \"to seeing the sunset as you cruise along the golden Kihei coastline,\""
      ],
      "text/plain": [
       "<IPython.core.display.Markdown object>"
      ]
     },
     "metadata": {},
     "output_type": "display_data"
    },
    {
     "data": {
      "text/html": [
       "<a href='../../data/Hillary/wavs/Scripts 94-98/script_85_chunk_1-rate=24000.wav' target='_blank'>../../data/Hillary/wavs/Scripts 94-98/script_85_chunk_1-rate=24000.wav</a><br>"
      ],
      "text/plain": [
       "/Users/michaelp/Code/Tacotron-2/data/Hillary/wavs/Scripts 94-98/script_85_chunk_1-rate=24000.wav"
      ]
     },
     "metadata": {},
     "output_type": "display_data"
    },
    {
     "data": {
      "text/html": [
       "\n",
       "                <audio controls=\"controls\" >\n",
       "                    <source />\n",
       "                    Your browser does not support the audio element.\n",
       "                </audio>\n",
       "              "
      ],
      "text/plain": [
       "<IPython.lib.display.Audio object>"
      ]
     },
     "metadata": {},
     "output_type": "display_data"
    },
    {
     "data": {
      "text/markdown": [
       "\n",
       "\n",
       " ___"
      ],
      "text/plain": [
       "<IPython.core.display.Markdown object>"
      ]
     },
     "metadata": {},
     "output_type": "display_data"
    },
    {
     "data": {
      "text/markdown": [
       "**Text:** \"Proponents argue that politically liberal CEOs will envision the practice of CSR as beneficial\""
      ],
      "text/plain": [
       "<IPython.core.display.Markdown object>"
      ]
     },
     "metadata": {},
     "output_type": "display_data"
    },
    {
     "data": {
      "text/html": [
       "<a href='../../data/Hillary/wavs/Scripts 22-27/script_50_chunk_4-rate=24000.wav' target='_blank'>../../data/Hillary/wavs/Scripts 22-27/script_50_chunk_4-rate=24000.wav</a><br>"
      ],
      "text/plain": [
       "/Users/michaelp/Code/Tacotron-2/data/Hillary/wavs/Scripts 22-27/script_50_chunk_4-rate=24000.wav"
      ]
     },
     "metadata": {},
     "output_type": "display_data"
    },
    {
     "data": {
      "text/html": [
       "\n",
       "                <audio controls=\"controls\" >\n",
       "                    <source />\n",
       "                    Your browser does not support the audio element.\n",
       "                </audio>\n",
       "              "
      ],
      "text/plain": [
       "<IPython.lib.display.Audio object>"
      ]
     },
     "metadata": {},
     "output_type": "display_data"
    },
    {
     "data": {
      "text/markdown": [
       "\n",
       "\n",
       " ___"
      ],
      "text/plain": [
       "<IPython.core.display.Markdown object>"
      ]
     },
     "metadata": {},
     "output_type": "display_data"
    },
    {
     "data": {
      "text/markdown": [
       "**Text:** \"While individuals with borderline personality disorder may show their emotions too much,\""
      ],
      "text/plain": [
       "<IPython.core.display.Markdown object>"
      ]
     },
     "metadata": {},
     "output_type": "display_data"
    },
    {
     "data": {
      "text/html": [
       "<a href='../../data/Hillary/wavs/Scripts 70-75/script_49_chunk_4-rate=24000.wav' target='_blank'>../../data/Hillary/wavs/Scripts 70-75/script_49_chunk_4-rate=24000.wav</a><br>"
      ],
      "text/plain": [
       "/Users/michaelp/Code/Tacotron-2/data/Hillary/wavs/Scripts 70-75/script_49_chunk_4-rate=24000.wav"
      ]
     },
     "metadata": {},
     "output_type": "display_data"
    },
    {
     "data": {
      "text/html": [
       "\n",
       "                <audio controls=\"controls\" >\n",
       "                    <source />\n",
       "                    Your browser does not support the audio element.\n",
       "                </audio>\n",
       "              "
      ],
      "text/plain": [
       "<IPython.lib.display.Audio object>"
      ]
     },
     "metadata": {},
     "output_type": "display_data"
    },
    {
     "data": {
      "text/markdown": [
       "\n",
       "\n",
       " ___"
      ],
      "text/plain": [
       "<IPython.core.display.Markdown object>"
      ]
     },
     "metadata": {},
     "output_type": "display_data"
    },
    {
     "data": {
      "text/markdown": [
       "**Text:** \"The Bill was approved by the cabinet\""
      ],
      "text/plain": [
       "<IPython.core.display.Markdown object>"
      ]
     },
     "metadata": {},
     "output_type": "display_data"
    },
    {
     "data": {
      "text/html": [
       "<a href='../../data/Hillary/wavs/Script 11/script_12_chunk_4-rate=24000.wav' target='_blank'>../../data/Hillary/wavs/Script 11/script_12_chunk_4-rate=24000.wav</a><br>"
      ],
      "text/plain": [
       "/Users/michaelp/Code/Tacotron-2/data/Hillary/wavs/Script 11/script_12_chunk_4-rate=24000.wav"
      ]
     },
     "metadata": {},
     "output_type": "display_data"
    },
    {
     "data": {
      "text/html": [
       "\n",
       "                <audio controls=\"controls\" >\n",
       "                    <source />\n",
       "                    Your browser does not support the audio element.\n",
       "                </audio>\n",
       "              "
      ],
      "text/plain": [
       "<IPython.lib.display.Audio object>"
      ]
     },
     "metadata": {},
     "output_type": "display_data"
    },
    {
     "data": {
      "text/markdown": [
       "\n",
       "\n",
       " ___"
      ],
      "text/plain": [
       "<IPython.core.display.Markdown object>"
      ]
     },
     "metadata": {},
     "output_type": "display_data"
    },
    {
     "data": {
      "text/markdown": [
       "**Text:** \"is sent in some form from an emisor/ sender/ encoder to a destination/ receiver/ decoder.\""
      ],
      "text/plain": [
       "<IPython.core.display.Markdown object>"
      ]
     },
     "metadata": {},
     "output_type": "display_data"
    },
    {
     "data": {
      "text/html": [
       "<a href='../../data/Hillary/wavs/Scripts 94-98/script_60_chunk_2-rate=24000.wav' target='_blank'>../../data/Hillary/wavs/Scripts 94-98/script_60_chunk_2-rate=24000.wav</a><br>"
      ],
      "text/plain": [
       "/Users/michaelp/Code/Tacotron-2/data/Hillary/wavs/Scripts 94-98/script_60_chunk_2-rate=24000.wav"
      ]
     },
     "metadata": {},
     "output_type": "display_data"
    },
    {
     "data": {
      "text/html": [
       "\n",
       "                <audio controls=\"controls\" >\n",
       "                    <source />\n",
       "                    Your browser does not support the audio element.\n",
       "                </audio>\n",
       "              "
      ],
      "text/plain": [
       "<IPython.lib.display.Audio object>"
      ]
     },
     "metadata": {},
     "output_type": "display_data"
    },
    {
     "data": {
      "text/markdown": [
       "\n",
       "\n",
       " ___"
      ],
      "text/plain": [
       "<IPython.core.display.Markdown object>"
      ]
     },
     "metadata": {},
     "output_type": "display_data"
    },
    {
     "data": {
      "text/markdown": [
       "**Text:** \"including sensitive personal data or information.\""
      ],
      "text/plain": [
       "<IPython.core.display.Markdown object>"
      ]
     },
     "metadata": {},
     "output_type": "display_data"
    },
    {
     "data": {
      "text/html": [
       "<a href='../../data/Hillary/wavs/Scripts 16-21/script_78_chunk_9-rate=24000.wav' target='_blank'>../../data/Hillary/wavs/Scripts 16-21/script_78_chunk_9-rate=24000.wav</a><br>"
      ],
      "text/plain": [
       "/Users/michaelp/Code/Tacotron-2/data/Hillary/wavs/Scripts 16-21/script_78_chunk_9-rate=24000.wav"
      ]
     },
     "metadata": {},
     "output_type": "display_data"
    },
    {
     "data": {
      "text/html": [
       "\n",
       "                <audio controls=\"controls\" >\n",
       "                    <source />\n",
       "                    Your browser does not support the audio element.\n",
       "                </audio>\n",
       "              "
      ],
      "text/plain": [
       "<IPython.lib.display.Audio object>"
      ]
     },
     "metadata": {},
     "output_type": "display_data"
    },
    {
     "data": {
      "text/markdown": [
       "\n",
       "\n",
       " ___"
      ],
      "text/plain": [
       "<IPython.core.display.Markdown object>"
      ]
     },
     "metadata": {},
     "output_type": "display_data"
    },
    {
     "data": {
      "text/markdown": [
       "**Text:** \"He wondered, too, where Roscoe was.\""
      ],
      "text/plain": [
       "<IPython.core.display.Markdown object>"
      ]
     },
     "metadata": {},
     "output_type": "display_data"
    },
    {
     "data": {
      "text/html": [
       "<a href='../../data/Hillary/wavs/Scripts 76-81 (Part One)/script_14_chunk_0-rate=24000.wav' target='_blank'>../../data/Hillary/wavs/Scripts 76-81 (Part One)/script_14_chunk_0-rate=24000.wav</a><br>"
      ],
      "text/plain": [
       "/Users/michaelp/Code/Tacotron-2/data/Hillary/wavs/Scripts 76-81 (Part One)/script_14_chunk_0-rate=24000.wav"
      ]
     },
     "metadata": {},
     "output_type": "display_data"
    },
    {
     "data": {
      "text/html": [
       "\n",
       "                <audio controls=\"controls\" >\n",
       "                    <source />\n",
       "                    Your browser does not support the audio element.\n",
       "                </audio>\n",
       "              "
      ],
      "text/plain": [
       "<IPython.lib.display.Audio object>"
      ]
     },
     "metadata": {},
     "output_type": "display_data"
    },
    {
     "data": {
      "text/markdown": [
       "\n",
       "\n",
       " ___"
      ],
      "text/plain": [
       "<IPython.core.display.Markdown object>"
      ]
     },
     "metadata": {},
     "output_type": "display_data"
    },
    {
     "data": {
      "text/markdown": [
       "**Text:** \"then click the subtopic you want.\""
      ],
      "text/plain": [
       "<IPython.core.display.Markdown object>"
      ]
     },
     "metadata": {},
     "output_type": "display_data"
    },
    {
     "data": {
      "text/html": [
       "<a href='../../data/Hillary/wavs/Scripts 28-33/script_41_chunk_7-rate=24000.wav' target='_blank'>../../data/Hillary/wavs/Scripts 28-33/script_41_chunk_7-rate=24000.wav</a><br>"
      ],
      "text/plain": [
       "/Users/michaelp/Code/Tacotron-2/data/Hillary/wavs/Scripts 28-33/script_41_chunk_7-rate=24000.wav"
      ]
     },
     "metadata": {},
     "output_type": "display_data"
    },
    {
     "data": {
      "text/html": [
       "\n",
       "                <audio controls=\"controls\" >\n",
       "                    <source />\n",
       "                    Your browser does not support the audio element.\n",
       "                </audio>\n",
       "              "
      ],
      "text/plain": [
       "<IPython.lib.display.Audio object>"
      ]
     },
     "metadata": {},
     "output_type": "display_data"
    },
    {
     "data": {
      "text/markdown": [
       "\n",
       "\n",
       " ___"
      ],
      "text/plain": [
       "<IPython.core.display.Markdown object>"
      ]
     },
     "metadata": {},
     "output_type": "display_data"
    },
    {
     "data": {
      "text/markdown": [
       "**Text:** \"A company or organization's policy on a particular topic.  For example, the equal opportunity policy of a company\""
      ],
      "text/plain": [
       "<IPython.core.display.Markdown object>"
      ]
     },
     "metadata": {},
     "output_type": "display_data"
    },
    {
     "data": {
      "text/html": [
       "<a href='../../data/Hillary/wavs/Scripts 94-98/script_70_chunk_0-rate=24000.wav' target='_blank'>../../data/Hillary/wavs/Scripts 94-98/script_70_chunk_0-rate=24000.wav</a><br>"
      ],
      "text/plain": [
       "/Users/michaelp/Code/Tacotron-2/data/Hillary/wavs/Scripts 94-98/script_70_chunk_0-rate=24000.wav"
      ]
     },
     "metadata": {},
     "output_type": "display_data"
    },
    {
     "data": {
      "text/html": [
       "\n",
       "                <audio controls=\"controls\" >\n",
       "                    <source />\n",
       "                    Your browser does not support the audio element.\n",
       "                </audio>\n",
       "              "
      ],
      "text/plain": [
       "<IPython.lib.display.Audio object>"
      ]
     },
     "metadata": {},
     "output_type": "display_data"
    },
    {
     "data": {
      "text/markdown": [
       "\n",
       "\n",
       " ___"
      ],
      "text/plain": [
       "<IPython.core.display.Markdown object>"
      ]
     },
     "metadata": {},
     "output_type": "display_data"
    },
    {
     "data": {
      "text/markdown": [
       "**Text:** \"and coordinating the efforts of its employees to accomplish its objectives\""
      ],
      "text/plain": [
       "<IPython.core.display.Markdown object>"
      ]
     },
     "metadata": {},
     "output_type": "display_data"
    },
    {
     "data": {
      "text/html": [
       "<a href='../../data/Hillary/wavs/Scripts 16-21/script_47_chunk_2-rate=24000.wav' target='_blank'>../../data/Hillary/wavs/Scripts 16-21/script_47_chunk_2-rate=24000.wav</a><br>"
      ],
      "text/plain": [
       "/Users/michaelp/Code/Tacotron-2/data/Hillary/wavs/Scripts 16-21/script_47_chunk_2-rate=24000.wav"
      ]
     },
     "metadata": {},
     "output_type": "display_data"
    },
    {
     "data": {
      "text/html": [
       "\n",
       "                <audio controls=\"controls\" >\n",
       "                    <source />\n",
       "                    Your browser does not support the audio element.\n",
       "                </audio>\n",
       "              "
      ],
      "text/plain": [
       "<IPython.lib.display.Audio object>"
      ]
     },
     "metadata": {},
     "output_type": "display_data"
    },
    {
     "data": {
      "text/markdown": [
       "\n",
       "\n",
       " ___"
      ],
      "text/plain": [
       "<IPython.core.display.Markdown object>"
      ]
     },
     "metadata": {},
     "output_type": "display_data"
    },
    {
     "data": {
      "text/markdown": [
       "**Text:** \"Cats can rotate their wrists, wrap their paws around prey, and unleash jackknife-like claws to hold on.\""
      ],
      "text/plain": [
       "<IPython.core.display.Markdown object>"
      ]
     },
     "metadata": {},
     "output_type": "display_data"
    },
    {
     "data": {
      "text/html": [
       "<a href='../../data/Hillary/wavs/Scripts 94-98/script_41_chunk_12-rate=24000.wav' target='_blank'>../../data/Hillary/wavs/Scripts 94-98/script_41_chunk_12-rate=24000.wav</a><br>"
      ],
      "text/plain": [
       "/Users/michaelp/Code/Tacotron-2/data/Hillary/wavs/Scripts 94-98/script_41_chunk_12-rate=24000.wav"
      ]
     },
     "metadata": {},
     "output_type": "display_data"
    },
    {
     "data": {
      "text/html": [
       "\n",
       "                <audio controls=\"controls\" >\n",
       "                    <source />\n",
       "                    Your browser does not support the audio element.\n",
       "                </audio>\n",
       "              "
      ],
      "text/plain": [
       "<IPython.lib.display.Audio object>"
      ]
     },
     "metadata": {},
     "output_type": "display_data"
    },
    {
     "data": {
      "text/markdown": [
       "\n",
       "\n",
       " ___"
      ],
      "text/plain": [
       "<IPython.core.display.Markdown object>"
      ]
     },
     "metadata": {},
     "output_type": "display_data"
    },
    {
     "data": {
      "text/markdown": [
       "**Text:** \"Understanding the time structure of an area.\""
      ],
      "text/plain": [
       "<IPython.core.display.Markdown object>"
      ]
     },
     "metadata": {},
     "output_type": "display_data"
    },
    {
     "data": {
      "text/html": [
       "<a href='../../data/Hillary/wavs/Scripts 22-27/script_4_chunk_10-rate=24000.wav' target='_blank'>../../data/Hillary/wavs/Scripts 22-27/script_4_chunk_10-rate=24000.wav</a><br>"
      ],
      "text/plain": [
       "/Users/michaelp/Code/Tacotron-2/data/Hillary/wavs/Scripts 22-27/script_4_chunk_10-rate=24000.wav"
      ]
     },
     "metadata": {},
     "output_type": "display_data"
    },
    {
     "data": {
      "text/html": [
       "\n",
       "                <audio controls=\"controls\" >\n",
       "                    <source />\n",
       "                    Your browser does not support the audio element.\n",
       "                </audio>\n",
       "              "
      ],
      "text/plain": [
       "<IPython.lib.display.Audio object>"
      ]
     },
     "metadata": {},
     "output_type": "display_data"
    },
    {
     "data": {
      "text/markdown": [
       "\n",
       "\n",
       " ___"
      ],
      "text/plain": [
       "<IPython.core.display.Markdown object>"
      ]
     },
     "metadata": {},
     "output_type": "display_data"
    },
    {
     "data": {
      "text/markdown": [
       "**Text:** \"and lead a team to achieve success.\""
      ],
      "text/plain": [
       "<IPython.core.display.Markdown object>"
      ]
     },
     "metadata": {},
     "output_type": "display_data"
    },
    {
     "data": {
      "text/html": [
       "<a href='../../data/Hillary/wavs/Scripts 70-75/script_65_chunk_11-rate=24000.wav' target='_blank'>../../data/Hillary/wavs/Scripts 70-75/script_65_chunk_11-rate=24000.wav</a><br>"
      ],
      "text/plain": [
       "/Users/michaelp/Code/Tacotron-2/data/Hillary/wavs/Scripts 70-75/script_65_chunk_11-rate=24000.wav"
      ]
     },
     "metadata": {},
     "output_type": "display_data"
    },
    {
     "data": {
      "text/html": [
       "\n",
       "                <audio controls=\"controls\" >\n",
       "                    <source />\n",
       "                    Your browser does not support the audio element.\n",
       "                </audio>\n",
       "              "
      ],
      "text/plain": [
       "<IPython.lib.display.Audio object>"
      ]
     },
     "metadata": {},
     "output_type": "display_data"
    },
    {
     "data": {
      "text/markdown": [
       "\n",
       "\n",
       " ___"
      ],
      "text/plain": [
       "<IPython.core.display.Markdown object>"
      ]
     },
     "metadata": {},
     "output_type": "display_data"
    },
    {
     "data": {
      "text/markdown": [
       "**Text:** \"owner you can be\""
      ],
      "text/plain": [
       "<IPython.core.display.Markdown object>"
      ]
     },
     "metadata": {},
     "output_type": "display_data"
    },
    {
     "data": {
      "text/html": [
       "<a href='../../data/Hillary/wavs/Scripts 34-39/script_82_chunk_9-rate=24000.wav' target='_blank'>../../data/Hillary/wavs/Scripts 34-39/script_82_chunk_9-rate=24000.wav</a><br>"
      ],
      "text/plain": [
       "/Users/michaelp/Code/Tacotron-2/data/Hillary/wavs/Scripts 34-39/script_82_chunk_9-rate=24000.wav"
      ]
     },
     "metadata": {},
     "output_type": "display_data"
    },
    {
     "data": {
      "text/html": [
       "\n",
       "                <audio controls=\"controls\" >\n",
       "                    <source />\n",
       "                    Your browser does not support the audio element.\n",
       "                </audio>\n",
       "              "
      ],
      "text/plain": [
       "<IPython.lib.display.Audio object>"
      ]
     },
     "metadata": {},
     "output_type": "display_data"
    },
    {
     "data": {
      "text/markdown": [
       "\n",
       "\n",
       " ___"
      ],
      "text/plain": [
       "<IPython.core.display.Markdown object>"
      ]
     },
     "metadata": {},
     "output_type": "display_data"
    },
    {
     "data": {
      "text/markdown": [
       "**Text:** \"If not, let's say our prayers and go to bed.\""
      ],
      "text/plain": [
       "<IPython.core.display.Markdown object>"
      ]
     },
     "metadata": {},
     "output_type": "display_data"
    },
    {
     "data": {
      "text/html": [
       "<a href='../../data/Hillary/wavs/Scripts 22-27/script_20_chunk_0-rate=24000.wav' target='_blank'>../../data/Hillary/wavs/Scripts 22-27/script_20_chunk_0-rate=24000.wav</a><br>"
      ],
      "text/plain": [
       "/Users/michaelp/Code/Tacotron-2/data/Hillary/wavs/Scripts 22-27/script_20_chunk_0-rate=24000.wav"
      ]
     },
     "metadata": {},
     "output_type": "display_data"
    },
    {
     "data": {
      "text/html": [
       "\n",
       "                <audio controls=\"controls\" >\n",
       "                    <source />\n",
       "                    Your browser does not support the audio element.\n",
       "                </audio>\n",
       "              "
      ],
      "text/plain": [
       "<IPython.lib.display.Audio object>"
      ]
     },
     "metadata": {},
     "output_type": "display_data"
    },
    {
     "data": {
      "text/markdown": [
       "\n",
       "\n",
       " ___"
      ],
      "text/plain": [
       "<IPython.core.display.Markdown object>"
      ]
     },
     "metadata": {},
     "output_type": "display_data"
    },
    {
     "data": {
      "text/markdown": [
       "**Text:** \"Surrounding this nucleus are negatively charged particles, called electrons,\""
      ],
      "text/plain": [
       "<IPython.core.display.Markdown object>"
      ]
     },
     "metadata": {},
     "output_type": "display_data"
    },
    {
     "data": {
      "text/html": [
       "<a href='../../data/Hillary/wavs/Scripts 28-33/script_54_chunk_7-rate=24000.wav' target='_blank'>../../data/Hillary/wavs/Scripts 28-33/script_54_chunk_7-rate=24000.wav</a><br>"
      ],
      "text/plain": [
       "/Users/michaelp/Code/Tacotron-2/data/Hillary/wavs/Scripts 28-33/script_54_chunk_7-rate=24000.wav"
      ]
     },
     "metadata": {},
     "output_type": "display_data"
    },
    {
     "data": {
      "text/html": [
       "\n",
       "                <audio controls=\"controls\" >\n",
       "                    <source />\n",
       "                    Your browser does not support the audio element.\n",
       "                </audio>\n",
       "              "
      ],
      "text/plain": [
       "<IPython.lib.display.Audio object>"
      ]
     },
     "metadata": {},
     "output_type": "display_data"
    },
    {
     "data": {
      "text/markdown": [
       "\n",
       "\n",
       " ___"
      ],
      "text/plain": [
       "<IPython.core.display.Markdown object>"
      ]
     },
     "metadata": {},
     "output_type": "display_data"
    },
    {
     "data": {
      "text/markdown": [
       "**Text:** \"then attach the concrete piers on top\""
      ],
      "text/plain": [
       "<IPython.core.display.Markdown object>"
      ]
     },
     "metadata": {},
     "output_type": "display_data"
    },
    {
     "data": {
      "text/html": [
       "<a href='../../data/Hillary/wavs/Scripts 22-27/script_23_chunk_10-rate=24000.wav' target='_blank'>../../data/Hillary/wavs/Scripts 22-27/script_23_chunk_10-rate=24000.wav</a><br>"
      ],
      "text/plain": [
       "/Users/michaelp/Code/Tacotron-2/data/Hillary/wavs/Scripts 22-27/script_23_chunk_10-rate=24000.wav"
      ]
     },
     "metadata": {},
     "output_type": "display_data"
    },
    {
     "data": {
      "text/html": [
       "\n",
       "                <audio controls=\"controls\" >\n",
       "                    <source />\n",
       "                    Your browser does not support the audio element.\n",
       "                </audio>\n",
       "              "
      ],
      "text/plain": [
       "<IPython.lib.display.Audio object>"
      ]
     },
     "metadata": {},
     "output_type": "display_data"
    },
    {
     "data": {
      "text/markdown": [
       "\n",
       "\n",
       " ___"
      ],
      "text/plain": [
       "<IPython.core.display.Markdown object>"
      ]
     },
     "metadata": {},
     "output_type": "display_data"
    },
    {
     "data": {
      "text/markdown": [
       "**Text:** \"But leave enough room for unexpected rises in volume without 'clipping'. Clipping\""
      ],
      "text/plain": [
       "<IPython.core.display.Markdown object>"
      ]
     },
     "metadata": {},
     "output_type": "display_data"
    },
    {
     "data": {
      "text/html": [
       "<a href='../../data/Hillary/wavs/Scripts 22-27/script_0_chunk_24-rate=24000.wav' target='_blank'>../../data/Hillary/wavs/Scripts 22-27/script_0_chunk_24-rate=24000.wav</a><br>"
      ],
      "text/plain": [
       "/Users/michaelp/Code/Tacotron-2/data/Hillary/wavs/Scripts 22-27/script_0_chunk_24-rate=24000.wav"
      ]
     },
     "metadata": {},
     "output_type": "display_data"
    },
    {
     "data": {
      "text/html": [
       "\n",
       "                <audio controls=\"controls\" >\n",
       "                    <source />\n",
       "                    Your browser does not support the audio element.\n",
       "                </audio>\n",
       "              "
      ],
      "text/plain": [
       "<IPython.lib.display.Audio object>"
      ]
     },
     "metadata": {},
     "output_type": "display_data"
    },
    {
     "data": {
      "text/markdown": [
       "\n",
       "\n",
       " ___"
      ],
      "text/plain": [
       "<IPython.core.display.Markdown object>"
      ]
     },
     "metadata": {},
     "output_type": "display_data"
    },
    {
     "data": {
      "text/markdown": [
       "**Text:** \"Each participant received a mild electric shock, then watched another go through the same pain.\""
      ],
      "text/plain": [
       "<IPython.core.display.Markdown object>"
      ]
     },
     "metadata": {},
     "output_type": "display_data"
    },
    {
     "data": {
      "text/html": [
       "<a href='../../data/Hillary/wavs/Scripts 58-63/script_15_chunk_18-rate=24000.wav' target='_blank'>../../data/Hillary/wavs/Scripts 58-63/script_15_chunk_18-rate=24000.wav</a><br>"
      ],
      "text/plain": [
       "/Users/michaelp/Code/Tacotron-2/data/Hillary/wavs/Scripts 58-63/script_15_chunk_18-rate=24000.wav"
      ]
     },
     "metadata": {},
     "output_type": "display_data"
    },
    {
     "data": {
      "text/html": [
       "\n",
       "                <audio controls=\"controls\" >\n",
       "                    <source />\n",
       "                    Your browser does not support the audio element.\n",
       "                </audio>\n",
       "              "
      ],
      "text/plain": [
       "<IPython.lib.display.Audio object>"
      ]
     },
     "metadata": {},
     "output_type": "display_data"
    },
    {
     "data": {
      "text/markdown": [
       "\n",
       "\n",
       " ___"
      ],
      "text/plain": [
       "<IPython.core.display.Markdown object>"
      ]
     },
     "metadata": {},
     "output_type": "display_data"
    },
    {
     "data": {
      "text/markdown": [
       "**Text:** \"can seem contrary to maintaining user privacy.\""
      ],
      "text/plain": [
       "<IPython.core.display.Markdown object>"
      ]
     },
     "metadata": {},
     "output_type": "display_data"
    },
    {
     "data": {
      "text/html": [
       "<a href='../../data/Hillary/wavs/Scripts 34-39/script_47_chunk_2-rate=24000.wav' target='_blank'>../../data/Hillary/wavs/Scripts 34-39/script_47_chunk_2-rate=24000.wav</a><br>"
      ],
      "text/plain": [
       "/Users/michaelp/Code/Tacotron-2/data/Hillary/wavs/Scripts 34-39/script_47_chunk_2-rate=24000.wav"
      ]
     },
     "metadata": {},
     "output_type": "display_data"
    },
    {
     "data": {
      "text/html": [
       "\n",
       "                <audio controls=\"controls\" >\n",
       "                    <source />\n",
       "                    Your browser does not support the audio element.\n",
       "                </audio>\n",
       "              "
      ],
      "text/plain": [
       "<IPython.lib.display.Audio object>"
      ]
     },
     "metadata": {},
     "output_type": "display_data"
    },
    {
     "data": {
      "text/markdown": [
       "\n",
       "\n",
       " ___"
      ],
      "text/plain": [
       "<IPython.core.display.Markdown object>"
      ]
     },
     "metadata": {},
     "output_type": "display_data"
    },
    {
     "data": {
      "text/markdown": [
       "**Text:** \"increase your metabolism, and to help you look and feel your best,\""
      ],
      "text/plain": [
       "<IPython.core.display.Markdown object>"
      ]
     },
     "metadata": {},
     "output_type": "display_data"
    },
    {
     "data": {
      "text/html": [
       "<a href='../../data/Hillary/wavs/Scripts 28-33/script_48_chunk_4-rate=24000.wav' target='_blank'>../../data/Hillary/wavs/Scripts 28-33/script_48_chunk_4-rate=24000.wav</a><br>"
      ],
      "text/plain": [
       "/Users/michaelp/Code/Tacotron-2/data/Hillary/wavs/Scripts 28-33/script_48_chunk_4-rate=24000.wav"
      ]
     },
     "metadata": {},
     "output_type": "display_data"
    },
    {
     "data": {
      "text/html": [
       "\n",
       "                <audio controls=\"controls\" >\n",
       "                    <source />\n",
       "                    Your browser does not support the audio element.\n",
       "                </audio>\n",
       "              "
      ],
      "text/plain": [
       "<IPython.lib.display.Audio object>"
      ]
     },
     "metadata": {},
     "output_type": "display_data"
    },
    {
     "data": {
      "text/markdown": [
       "\n",
       "\n",
       " ___"
      ],
      "text/plain": [
       "<IPython.core.display.Markdown object>"
      ]
     },
     "metadata": {},
     "output_type": "display_data"
    },
    {
     "data": {
      "text/markdown": [
       "**Text:** \"are a combination of people skills, social skills, communication skills, character traits, attitudes, career attribute,\""
      ],
      "text/plain": [
       "<IPython.core.display.Markdown object>"
      ]
     },
     "metadata": {},
     "output_type": "display_data"
    },
    {
     "data": {
      "text/html": [
       "<a href='../../data/Hillary/wavs/Scripts 76-81 (Part One)/script_39_chunk_1-rate=24000.wav' target='_blank'>../../data/Hillary/wavs/Scripts 76-81 (Part One)/script_39_chunk_1-rate=24000.wav</a><br>"
      ],
      "text/plain": [
       "/Users/michaelp/Code/Tacotron-2/data/Hillary/wavs/Scripts 76-81 (Part One)/script_39_chunk_1-rate=24000.wav"
      ]
     },
     "metadata": {},
     "output_type": "display_data"
    },
    {
     "data": {
      "text/html": [
       "\n",
       "                <audio controls=\"controls\" >\n",
       "                    <source />\n",
       "                    Your browser does not support the audio element.\n",
       "                </audio>\n",
       "              "
      ],
      "text/plain": [
       "<IPython.lib.display.Audio object>"
      ]
     },
     "metadata": {},
     "output_type": "display_data"
    },
    {
     "data": {
      "text/markdown": [
       "\n",
       "\n",
       " ___"
      ],
      "text/plain": [
       "<IPython.core.display.Markdown object>"
      ]
     },
     "metadata": {},
     "output_type": "display_data"
    },
    {
     "data": {
      "text/markdown": [
       "**Text:** \"This is a place full of attractions; they draw millions of tourists each year.\""
      ],
      "text/plain": [
       "<IPython.core.display.Markdown object>"
      ]
     },
     "metadata": {},
     "output_type": "display_data"
    },
    {
     "data": {
      "text/html": [
       "<a href='../../data/Hillary/wavs/Scripts 102-107/script_108_chunk_1-rate=24000.wav' target='_blank'>../../data/Hillary/wavs/Scripts 102-107/script_108_chunk_1-rate=24000.wav</a><br>"
      ],
      "text/plain": [
       "/Users/michaelp/Code/Tacotron-2/data/Hillary/wavs/Scripts 102-107/script_108_chunk_1-rate=24000.wav"
      ]
     },
     "metadata": {},
     "output_type": "display_data"
    },
    {
     "data": {
      "text/html": [
       "\n",
       "                <audio controls=\"controls\" >\n",
       "                    <source />\n",
       "                    Your browser does not support the audio element.\n",
       "                </audio>\n",
       "              "
      ],
      "text/plain": [
       "<IPython.lib.display.Audio object>"
      ]
     },
     "metadata": {},
     "output_type": "display_data"
    },
    {
     "data": {
      "text/markdown": [
       "\n",
       "\n",
       " ___"
      ],
      "text/plain": [
       "<IPython.core.display.Markdown object>"
      ]
     },
     "metadata": {},
     "output_type": "display_data"
    },
    {
     "data": {
      "text/markdown": [
       "**Text:** \"On the other side, the horse meat scandal of 2013 in the United Kingdom\""
      ],
      "text/plain": [
       "<IPython.core.display.Markdown object>"
      ]
     },
     "metadata": {},
     "output_type": "display_data"
    },
    {
     "data": {
      "text/html": [
       "<a href='../../data/Hillary/wavs/Scripts 28-33/script_40_chunk_8-rate=24000.wav' target='_blank'>../../data/Hillary/wavs/Scripts 28-33/script_40_chunk_8-rate=24000.wav</a><br>"
      ],
      "text/plain": [
       "/Users/michaelp/Code/Tacotron-2/data/Hillary/wavs/Scripts 28-33/script_40_chunk_8-rate=24000.wav"
      ]
     },
     "metadata": {},
     "output_type": "display_data"
    },
    {
     "data": {
      "text/html": [
       "\n",
       "                <audio controls=\"controls\" >\n",
       "                    <source />\n",
       "                    Your browser does not support the audio element.\n",
       "                </audio>\n",
       "              "
      ],
      "text/plain": [
       "<IPython.lib.display.Audio object>"
      ]
     },
     "metadata": {},
     "output_type": "display_data"
    },
    {
     "data": {
      "text/markdown": [
       "\n",
       "\n",
       " ___"
      ],
      "text/plain": [
       "<IPython.core.display.Markdown object>"
      ]
     },
     "metadata": {},
     "output_type": "display_data"
    },
    {
     "data": {
      "text/markdown": [
       "**Text:** \"Companies that pursued the highest market share position to achieve cost advantages fit under Porter's cost leadership generic strategy,\""
      ],
      "text/plain": [
       "<IPython.core.display.Markdown object>"
      ]
     },
     "metadata": {},
     "output_type": "display_data"
    },
    {
     "data": {
      "text/html": [
       "<a href='../../data/Hillary/wavs/Scripts 28-33/script_17_chunk_17-rate=24000.wav' target='_blank'>../../data/Hillary/wavs/Scripts 28-33/script_17_chunk_17-rate=24000.wav</a><br>"
      ],
      "text/plain": [
       "/Users/michaelp/Code/Tacotron-2/data/Hillary/wavs/Scripts 28-33/script_17_chunk_17-rate=24000.wav"
      ]
     },
     "metadata": {},
     "output_type": "display_data"
    },
    {
     "data": {
      "text/html": [
       "\n",
       "                <audio controls=\"controls\" >\n",
       "                    <source />\n",
       "                    Your browser does not support the audio element.\n",
       "                </audio>\n",
       "              "
      ],
      "text/plain": [
       "<IPython.lib.display.Audio object>"
      ]
     },
     "metadata": {},
     "output_type": "display_data"
    },
    {
     "data": {
      "text/markdown": [
       "\n",
       "\n",
       " ___"
      ],
      "text/plain": [
       "<IPython.core.display.Markdown object>"
      ]
     },
     "metadata": {},
     "output_type": "display_data"
    },
    {
     "data": {
      "text/markdown": [
       "**Text:** \"Responsive evaluation provides a naturalistic and humanistic approach to program evaluation.\""
      ],
      "text/plain": [
       "<IPython.core.display.Markdown object>"
      ]
     },
     "metadata": {},
     "output_type": "display_data"
    },
    {
     "data": {
      "text/html": [
       "<a href='../../data/Hillary/wavs/Scripts 94-98/script_24_chunk_4-rate=24000.wav' target='_blank'>../../data/Hillary/wavs/Scripts 94-98/script_24_chunk_4-rate=24000.wav</a><br>"
      ],
      "text/plain": [
       "/Users/michaelp/Code/Tacotron-2/data/Hillary/wavs/Scripts 94-98/script_24_chunk_4-rate=24000.wav"
      ]
     },
     "metadata": {},
     "output_type": "display_data"
    },
    {
     "data": {
      "text/html": [
       "\n",
       "                <audio controls=\"controls\" >\n",
       "                    <source />\n",
       "                    Your browser does not support the audio element.\n",
       "                </audio>\n",
       "              "
      ],
      "text/plain": [
       "<IPython.lib.display.Audio object>"
      ]
     },
     "metadata": {},
     "output_type": "display_data"
    },
    {
     "data": {
      "text/markdown": [
       "\n",
       "\n",
       " ___"
      ],
      "text/plain": [
       "<IPython.core.display.Markdown object>"
      ]
     },
     "metadata": {},
     "output_type": "display_data"
    },
    {
     "data": {
      "text/markdown": [
       "**Text:** \"On the other side, this opens additional danger for abuse from disreputable practitioners.\""
      ],
      "text/plain": [
       "<IPython.core.display.Markdown object>"
      ]
     },
     "metadata": {},
     "output_type": "display_data"
    },
    {
     "data": {
      "text/html": [
       "<a href='../../data/Hillary/wavs/Scripts 22-27/script_9_chunk_16-rate=24000.wav' target='_blank'>../../data/Hillary/wavs/Scripts 22-27/script_9_chunk_16-rate=24000.wav</a><br>"
      ],
      "text/plain": [
       "/Users/michaelp/Code/Tacotron-2/data/Hillary/wavs/Scripts 22-27/script_9_chunk_16-rate=24000.wav"
      ]
     },
     "metadata": {},
     "output_type": "display_data"
    },
    {
     "data": {
      "text/html": [
       "\n",
       "                <audio controls=\"controls\" >\n",
       "                    <source />\n",
       "                    Your browser does not support the audio element.\n",
       "                </audio>\n",
       "              "
      ],
      "text/plain": [
       "<IPython.lib.display.Audio object>"
      ]
     },
     "metadata": {},
     "output_type": "display_data"
    },
    {
     "data": {
      "text/markdown": [
       "\n",
       "\n",
       " ___"
      ],
      "text/plain": [
       "<IPython.core.display.Markdown object>"
      ]
     },
     "metadata": {},
     "output_type": "display_data"
    },
    {
     "data": {
      "text/markdown": [
       "**Text:** \"You were destroying my life.\""
      ],
      "text/plain": [
       "<IPython.core.display.Markdown object>"
      ]
     },
     "metadata": {},
     "output_type": "display_data"
    },
    {
     "data": {
      "text/html": [
       "<a href='../../data/Hillary/wavs/Scripts 99-101/script_11_chunk_0-rate=24000.wav' target='_blank'>../../data/Hillary/wavs/Scripts 99-101/script_11_chunk_0-rate=24000.wav</a><br>"
      ],
      "text/plain": [
       "/Users/michaelp/Code/Tacotron-2/data/Hillary/wavs/Scripts 99-101/script_11_chunk_0-rate=24000.wav"
      ]
     },
     "metadata": {},
     "output_type": "display_data"
    },
    {
     "data": {
      "text/html": [
       "\n",
       "                <audio controls=\"controls\" >\n",
       "                    <source />\n",
       "                    Your browser does not support the audio element.\n",
       "                </audio>\n",
       "              "
      ],
      "text/plain": [
       "<IPython.lib.display.Audio object>"
      ]
     },
     "metadata": {},
     "output_type": "display_data"
    },
    {
     "data": {
      "text/markdown": [
       "\n",
       "\n",
       " ___"
      ],
      "text/plain": [
       "<IPython.core.display.Markdown object>"
      ]
     },
     "metadata": {},
     "output_type": "display_data"
    },
    {
     "data": {
      "text/markdown": [
       "**Text:** \"while studying ergots, a type of fungus.\""
      ],
      "text/plain": [
       "<IPython.core.display.Markdown object>"
      ]
     },
     "metadata": {},
     "output_type": "display_data"
    },
    {
     "data": {
      "text/html": [
       "<a href='../../data/Hillary/wavs/Scripts 88-93/script_32_chunk_1-rate=24000.wav' target='_blank'>../../data/Hillary/wavs/Scripts 88-93/script_32_chunk_1-rate=24000.wav</a><br>"
      ],
      "text/plain": [
       "/Users/michaelp/Code/Tacotron-2/data/Hillary/wavs/Scripts 88-93/script_32_chunk_1-rate=24000.wav"
      ]
     },
     "metadata": {},
     "output_type": "display_data"
    },
    {
     "data": {
      "text/html": [
       "\n",
       "                <audio controls=\"controls\" >\n",
       "                    <source />\n",
       "                    Your browser does not support the audio element.\n",
       "                </audio>\n",
       "              "
      ],
      "text/plain": [
       "<IPython.lib.display.Audio object>"
      ]
     },
     "metadata": {},
     "output_type": "display_data"
    },
    {
     "data": {
      "text/markdown": [
       "\n",
       "\n",
       " ___"
      ],
      "text/plain": [
       "<IPython.core.display.Markdown object>"
      ]
     },
     "metadata": {},
     "output_type": "display_data"
    },
    {
     "data": {
      "text/markdown": [
       "**Text:** \"the nonprofit Nature Conservancy\""
      ],
      "text/plain": [
       "<IPython.core.display.Markdown object>"
      ]
     },
     "metadata": {},
     "output_type": "display_data"
    },
    {
     "data": {
      "text/html": [
       "<a href='../../data/Hillary/wavs/Scripts 82-87/script_14_chunk_3-rate=24000.wav' target='_blank'>../../data/Hillary/wavs/Scripts 82-87/script_14_chunk_3-rate=24000.wav</a><br>"
      ],
      "text/plain": [
       "/Users/michaelp/Code/Tacotron-2/data/Hillary/wavs/Scripts 82-87/script_14_chunk_3-rate=24000.wav"
      ]
     },
     "metadata": {},
     "output_type": "display_data"
    },
    {
     "data": {
      "text/html": [
       "\n",
       "                <audio controls=\"controls\" >\n",
       "                    <source />\n",
       "                    Your browser does not support the audio element.\n",
       "                </audio>\n",
       "              "
      ],
      "text/plain": [
       "<IPython.lib.display.Audio object>"
      ]
     },
     "metadata": {},
     "output_type": "display_data"
    },
    {
     "data": {
      "text/markdown": [
       "\n",
       "\n",
       " ___"
      ],
      "text/plain": [
       "<IPython.core.display.Markdown object>"
      ]
     },
     "metadata": {},
     "output_type": "display_data"
    },
    {
     "data": {
      "text/markdown": [
       "**Text:** \"Bankers will love the long term planning idea and it builds trust, which is hard to purchase in any situation.\""
      ],
      "text/plain": [
       "<IPython.core.display.Markdown object>"
      ]
     },
     "metadata": {},
     "output_type": "display_data"
    },
    {
     "data": {
      "text/html": [
       "<a href='../../data/Hillary/wavs/Script 11/script_3_chunk_11-rate=24000.wav' target='_blank'>../../data/Hillary/wavs/Script 11/script_3_chunk_11-rate=24000.wav</a><br>"
      ],
      "text/plain": [
       "/Users/michaelp/Code/Tacotron-2/data/Hillary/wavs/Script 11/script_3_chunk_11-rate=24000.wav"
      ]
     },
     "metadata": {},
     "output_type": "display_data"
    },
    {
     "data": {
      "text/html": [
       "\n",
       "                <audio controls=\"controls\" >\n",
       "                    <source />\n",
       "                    Your browser does not support the audio element.\n",
       "                </audio>\n",
       "              "
      ],
      "text/plain": [
       "<IPython.lib.display.Audio object>"
      ]
     },
     "metadata": {},
     "output_type": "display_data"
    },
    {
     "data": {
      "text/markdown": [
       "\n",
       "\n",
       " ___"
      ],
      "text/plain": [
       "<IPython.core.display.Markdown object>"
      ]
     },
     "metadata": {},
     "output_type": "display_data"
    },
    {
     "data": {
      "text/markdown": [
       "**Text:** \"Philip thrust himself against it and entered.\""
      ],
      "text/plain": [
       "<IPython.core.display.Markdown object>"
      ]
     },
     "metadata": {},
     "output_type": "display_data"
    },
    {
     "data": {
      "text/html": [
       "<a href='../../data/Hillary/wavs/Scripts 16-21/script_64_chunk_0-rate=24000.wav' target='_blank'>../../data/Hillary/wavs/Scripts 16-21/script_64_chunk_0-rate=24000.wav</a><br>"
      ],
      "text/plain": [
       "/Users/michaelp/Code/Tacotron-2/data/Hillary/wavs/Scripts 16-21/script_64_chunk_0-rate=24000.wav"
      ]
     },
     "metadata": {},
     "output_type": "display_data"
    },
    {
     "data": {
      "text/html": [
       "\n",
       "                <audio controls=\"controls\" >\n",
       "                    <source />\n",
       "                    Your browser does not support the audio element.\n",
       "                </audio>\n",
       "              "
      ],
      "text/plain": [
       "<IPython.lib.display.Audio object>"
      ]
     },
     "metadata": {},
     "output_type": "display_data"
    },
    {
     "data": {
      "text/markdown": [
       "\n",
       "\n",
       " ___"
      ],
      "text/plain": [
       "<IPython.core.display.Markdown object>"
      ]
     },
     "metadata": {},
     "output_type": "display_data"
    },
    {
     "data": {
      "text/markdown": [
       "**Text:** \"the evolution of cells recognizable as eukaryotes of the modern type.\""
      ],
      "text/plain": [
       "<IPython.core.display.Markdown object>"
      ]
     },
     "metadata": {},
     "output_type": "display_data"
    },
    {
     "data": {
      "text/html": [
       "<a href='../../data/Hillary/wavs/Script 5/script_7_chunk_5-rate=24000.wav' target='_blank'>../../data/Hillary/wavs/Script 5/script_7_chunk_5-rate=24000.wav</a><br>"
      ],
      "text/plain": [
       "/Users/michaelp/Code/Tacotron-2/data/Hillary/wavs/Script 5/script_7_chunk_5-rate=24000.wav"
      ]
     },
     "metadata": {},
     "output_type": "display_data"
    },
    {
     "data": {
      "text/html": [
       "\n",
       "                <audio controls=\"controls\" >\n",
       "                    <source />\n",
       "                    Your browser does not support the audio element.\n",
       "                </audio>\n",
       "              "
      ],
      "text/plain": [
       "<IPython.lib.display.Audio object>"
      ]
     },
     "metadata": {},
     "output_type": "display_data"
    },
    {
     "data": {
      "text/markdown": [
       "\n",
       "\n",
       " ___"
      ],
      "text/plain": [
       "<IPython.core.display.Markdown object>"
      ]
     },
     "metadata": {},
     "output_type": "display_data"
    },
    {
     "data": {
      "text/markdown": [
       "**Text:** \"that Mary Magdalene was a very different woman to the one we think we know.\n",
       "So who was the real Mary Magdalene?\""
      ],
      "text/plain": [
       "<IPython.core.display.Markdown object>"
      ]
     },
     "metadata": {},
     "output_type": "display_data"
    },
    {
     "data": {
      "text/html": [
       "<a href='../../data/Hillary/wavs/Scripts 94-98/script_81_chunk_10-rate=24000.wav' target='_blank'>../../data/Hillary/wavs/Scripts 94-98/script_81_chunk_10-rate=24000.wav</a><br>"
      ],
      "text/plain": [
       "/Users/michaelp/Code/Tacotron-2/data/Hillary/wavs/Scripts 94-98/script_81_chunk_10-rate=24000.wav"
      ]
     },
     "metadata": {},
     "output_type": "display_data"
    },
    {
     "data": {
      "text/html": [
       "\n",
       "                <audio controls=\"controls\" >\n",
       "                    <source />\n",
       "                    Your browser does not support the audio element.\n",
       "                </audio>\n",
       "              "
      ],
      "text/plain": [
       "<IPython.lib.display.Audio object>"
      ]
     },
     "metadata": {},
     "output_type": "display_data"
    },
    {
     "data": {
      "text/markdown": [
       "\n",
       "\n",
       " ___"
      ],
      "text/plain": [
       "<IPython.core.display.Markdown object>"
      ]
     },
     "metadata": {},
     "output_type": "display_data"
    },
    {
     "data": {
      "text/markdown": [
       "**Text:** \"It was, of course, nature that dealt the most severe blows.\""
      ],
      "text/plain": [
       "<IPython.core.display.Markdown object>"
      ]
     },
     "metadata": {},
     "output_type": "display_data"
    },
    {
     "data": {
      "text/html": [
       "<a href='../../data/Hillary/wavs/Scripts 70-75/script_50_chunk_5-rate=24000.wav' target='_blank'>../../data/Hillary/wavs/Scripts 70-75/script_50_chunk_5-rate=24000.wav</a><br>"
      ],
      "text/plain": [
       "/Users/michaelp/Code/Tacotron-2/data/Hillary/wavs/Scripts 70-75/script_50_chunk_5-rate=24000.wav"
      ]
     },
     "metadata": {},
     "output_type": "display_data"
    },
    {
     "data": {
      "text/html": [
       "\n",
       "                <audio controls=\"controls\" >\n",
       "                    <source />\n",
       "                    Your browser does not support the audio element.\n",
       "                </audio>\n",
       "              "
      ],
      "text/plain": [
       "<IPython.lib.display.Audio object>"
      ]
     },
     "metadata": {},
     "output_type": "display_data"
    },
    {
     "data": {
      "text/markdown": [
       "\n",
       "\n",
       " ___"
      ],
      "text/plain": [
       "<IPython.core.display.Markdown object>"
      ]
     },
     "metadata": {},
     "output_type": "display_data"
    },
    {
     "data": {
      "text/markdown": [
       "**Text:** \"Most large corporations\""
      ],
      "text/plain": [
       "<IPython.core.display.Markdown object>"
      ]
     },
     "metadata": {},
     "output_type": "display_data"
    },
    {
     "data": {
      "text/html": [
       "<a href='../../data/Hillary/wavs/Scripts 99-101/script_54_chunk_0-rate=24000.wav' target='_blank'>../../data/Hillary/wavs/Scripts 99-101/script_54_chunk_0-rate=24000.wav</a><br>"
      ],
      "text/plain": [
       "/Users/michaelp/Code/Tacotron-2/data/Hillary/wavs/Scripts 99-101/script_54_chunk_0-rate=24000.wav"
      ]
     },
     "metadata": {},
     "output_type": "display_data"
    },
    {
     "data": {
      "text/html": [
       "\n",
       "                <audio controls=\"controls\" >\n",
       "                    <source />\n",
       "                    Your browser does not support the audio element.\n",
       "                </audio>\n",
       "              "
      ],
      "text/plain": [
       "<IPython.lib.display.Audio object>"
      ]
     },
     "metadata": {},
     "output_type": "display_data"
    },
    {
     "data": {
      "text/markdown": [
       "\n",
       "\n",
       " ___"
      ],
      "text/plain": [
       "<IPython.core.display.Markdown object>"
      ]
     },
     "metadata": {},
     "output_type": "display_data"
    }
   ],
   "source": [
    "find_examples(r'(?s).*', display_n=100, replace=False, group=0, load_audio=True)"
   ]
  },
  {
   "cell_type": "code",
   "execution_count": null,
   "metadata": {},
   "outputs": [],
   "source": []
  }
 ],
 "metadata": {
  "kernelspec": {
   "display_name": "Python 3",
   "language": "python",
   "name": "python3"
  },
  "language_info": {
   "codemirror_mode": {
    "name": "ipython",
    "version": 3
   },
   "file_extension": ".py",
   "mimetype": "text/x-python",
   "name": "python",
   "nbconvert_exporter": "python",
   "pygments_lexer": "ipython3",
   "version": "3.6.5"
  }
 },
 "nbformat": 4,
 "nbformat_minor": 2
}
