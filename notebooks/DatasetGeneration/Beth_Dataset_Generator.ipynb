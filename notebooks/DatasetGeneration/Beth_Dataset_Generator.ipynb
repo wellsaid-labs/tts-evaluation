{
 "cells": [
  {
   "cell_type": "markdown",
   "metadata": {},
   "source": [
    "# Beth Dataset Generator\n",
    "\n",
    "The purpose of this notebook is to process the document files Beth sent accross into CSV files.\n",
    "\n",
    "Before using this script, we did:\n",
    "\n",
    "1. We validated all of Beth's file were in a `{title}\\n{paragraph}`. Any files not following that format were adapted to follow the format. \n",
    "2. All `.doc` files were converted to a standard `.docx` file via: ``textutil -convert docx *.doc``\n",
    "3. All `.mp3` files were converted to `.wav` files via: ``find . -name \"*.mp3\" -exec bash -c 'ffmpeg -i \"{}\" \"${0/.mp3}.wav\"' {} \\;``\n",
    "4. Remove files with spanish in them by searching the documents for common spanish words like \"el,la\": https://www.happyhourspanish.com/learning-efficiently-start-with-the-250-most-common-spanish-words/\n",
    "5. Remove unverbalized copy that does not represent a section title. "
   ]
  },
  {
   "cell_type": "code",
   "execution_count": 1,
   "metadata": {},
   "outputs": [
    {
     "data": {
      "text/plain": [
       "True"
      ]
     },
     "execution_count": 1,
     "metadata": {},
     "output_type": "execute_result"
    }
   ],
   "source": [
    "from pathlib import Path\n",
    "\n",
    "destination = Path('./../../_data/02 Beth/') # Files to write processed dataset\n",
    "destination.mkdir(exist_ok=True)\n",
    "\n",
    "source = Path('./../../_data/01 Beth/') # Source destination\n",
    "source.is_dir()"
   ]
  },
  {
   "cell_type": "markdown",
   "metadata": {},
   "source": [
    "## Check Invariants \n",
    "\n",
    "Check that all the files in `source` are accounted for with the below patterns."
   ]
  },
  {
   "cell_type": "code",
   "execution_count": 2,
   "metadata": {},
   "outputs": [
    {
     "data": {
      "text/plain": [
       "{PosixPath('../../_data/01 Beth/.DS_Store'),\n",
       " PosixPath('../../_data/01 Beth/~$ng_FloodlightCamMotionDetectionSettings_082817.rtf'),\n",
       " PosixPath('../../_data/01 Beth/~$ng_HowToInslallRingVideoDoorbellPro_111417.rtf'),\n",
       " PosixPath('../../_data/01 Beth/~$ng_HowToInstallSpotlightCamMount_110917.rtf'),\n",
       " PosixPath('../../_data/01 Beth/~$ng_HowToJoinRingNeighborhoodWithoutADevice_110917.rtf'),\n",
       " PosixPath('../../_data/01 Beth/~$ng_HowToSolvePowerProblemsWithRingVideoDoorbellPro_111417.rtf')}"
      ]
     },
     "execution_count": 2,
     "metadata": {},
     "output_type": "execute_result"
    }
   ],
   "source": [
    "all_files = set([path for path in source.glob('*') if path.is_file()])\n",
    "accounted_for_files = set(list(source.glob('*.docx')) + list(source.glob('*.doc')) + \n",
    "                          list(source.glob('*.wav')) + list(source.glob('*.mp3')))\n",
    "all_files.difference(accounted_for_files)"
   ]
  },
  {
   "cell_type": "markdown",
   "metadata": {},
   "source": [
    "Check that all `.docx` files have an associated `.wav` file. (f.y.i. we fixed any naming issues causing this invariant to fail)"
   ]
  },
  {
   "cell_type": "code",
   "execution_count": 4,
   "metadata": {},
   "outputs": [
    {
     "name": "stdout",
     "output_type": "stream",
     "text": [
      "set()\n",
      "set()\n"
     ]
    }
   ],
   "source": [
    "text_file_stems = set([path.stem for path in source.glob('*.docx')])\n",
    "audio_file_stems = set([path.stem for path in source.glob('*.wav')])\n",
    "print(text_file_stems.difference(audio_file_stems))\n",
    "print(audio_file_stems.difference(text_file_stems))"
   ]
  },
  {
   "cell_type": "markdown",
   "metadata": {},
   "source": [
    "## Generate Script\n",
    "\n",
    "Finally, we preprocess all the text files into CSV files. "
   ]
  },
  {
   "cell_type": "code",
   "execution_count": 5,
   "metadata": {},
   "outputs": [
    {
     "data": {
      "text/html": [
       "<a href='../../_data/01 Beth/A1BondedTermite_111315.docx' target='_blank'>../../_data/01 Beth/A1BondedTermite_111315.docx</a><br>"
      ],
      "text/plain": [
       "/Users/michaelp/Code/WellSaidLabs/_data/01 Beth/A1BondedTermite_111315.docx"
      ]
     },
     "metadata": {},
     "output_type": "display_data"
    },
    {
     "data": {
      "text/markdown": [
       "Skipped Paragraph: \"PAGE\""
      ],
      "text/plain": [
       "<IPython.core.display.Markdown object>"
      ]
     },
     "metadata": {},
     "output_type": "display_data"
    },
    {
     "data": {
      "text/markdown": [
       "--------------------------------------------------"
      ],
      "text/plain": [
       "<IPython.core.display.Markdown object>"
      ]
     },
     "metadata": {},
     "output_type": "display_data"
    },
    {
     "data": {
      "text/html": [
       "<a href='../../_data/01 Beth/AAHFluidPower_031918.docx' target='_blank'>../../_data/01 Beth/AAHFluidPower_031918.docx</a><br>"
      ],
      "text/plain": [
       "/Users/michaelp/Code/WellSaidLabs/_data/01 Beth/AAHFluidPower_031918.docx"
      ]
     },
     "metadata": {},
     "output_type": "display_data"
    },
    {
     "data": {
      "text/markdown": [
       "--------------------------------------------------"
      ],
      "text/plain": [
       "<IPython.core.display.Markdown object>"
      ]
     },
     "metadata": {},
     "output_type": "display_data"
    },
    {
     "data": {
      "text/html": [
       "<a href='../../_data/01 Beth/AConcrete_051716.docx' target='_blank'>../../_data/01 Beth/AConcrete_051716.docx</a><br>"
      ],
      "text/plain": [
       "/Users/michaelp/Code/WellSaidLabs/_data/01 Beth/AConcrete_051716.docx"
      ]
     },
     "metadata": {},
     "output_type": "display_data"
    },
    {
     "data": {
      "text/markdown": [
       "Skipped Paragraph: \"PAGE\""
      ],
      "text/plain": [
       "<IPython.core.display.Markdown object>"
      ]
     },
     "metadata": {},
     "output_type": "display_data"
    },
    {
     "data": {
      "text/markdown": [
       "--------------------------------------------------"
      ],
      "text/plain": [
       "<IPython.core.display.Markdown object>"
      ]
     },
     "metadata": {},
     "output_type": "display_data"
    },
    {
     "data": {
      "text/html": [
       "<a href='../../_data/01 Beth/AbaDabaRents_030617.docx' target='_blank'>../../_data/01 Beth/AbaDabaRents_030617.docx</a><br>"
      ],
      "text/plain": [
       "/Users/michaelp/Code/WellSaidLabs/_data/01 Beth/AbaDabaRents_030617.docx"
      ]
     },
     "metadata": {},
     "output_type": "display_data"
    },
    {
     "data": {
      "text/markdown": [
       "Skipped Paragraph: \"PAGE\""
      ],
      "text/plain": [
       "<IPython.core.display.Markdown object>"
      ]
     },
     "metadata": {},
     "output_type": "display_data"
    },
    {
     "data": {
      "text/markdown": [
       "--------------------------------------------------"
      ],
      "text/plain": [
       "<IPython.core.display.Markdown object>"
      ]
     },
     "metadata": {},
     "output_type": "display_data"
    },
    {
     "data": {
      "text/html": [
       "<a href='../../_data/01 Beth/Abington Dental_062717.docx' target='_blank'>../../_data/01 Beth/Abington Dental_062717.docx</a><br>"
      ],
      "text/plain": [
       "/Users/michaelp/Code/WellSaidLabs/_data/01 Beth/Abington Dental_062717.docx"
      ]
     },
     "metadata": {},
     "output_type": "display_data"
    },
    {
     "data": {
      "text/markdown": [
       "Skipped Paragraph: \"PAGE\""
      ],
      "text/plain": [
       "<IPython.core.display.Markdown object>"
      ]
     },
     "metadata": {},
     "output_type": "display_data"
    },
    {
     "data": {
      "text/markdown": [
       "--------------------------------------------------"
      ],
      "text/plain": [
       "<IPython.core.display.Markdown object>"
      ]
     },
     "metadata": {},
     "output_type": "display_data"
    },
    {
     "data": {
      "text/html": [
       "<a href='../../_data/01 Beth/AdvancedDentalArtsOfWesleyChapel_040318.docx' target='_blank'>../../_data/01 Beth/AdvancedDentalArtsOfWesleyChapel_040318.docx</a><br>"
      ],
      "text/plain": [
       "/Users/michaelp/Code/WellSaidLabs/_data/01 Beth/AdvancedDentalArtsOfWesleyChapel_040318.docx"
      ]
     },
     "metadata": {},
     "output_type": "display_data"
    },
    {
     "data": {
      "text/markdown": [
       "Skipped Paragraph: \"PAGE\""
      ],
      "text/plain": [
       "<IPython.core.display.Markdown object>"
      ]
     },
     "metadata": {},
     "output_type": "display_data"
    },
    {
     "data": {
      "text/markdown": [
       "--------------------------------------------------"
      ],
      "text/plain": [
       "<IPython.core.display.Markdown object>"
      ]
     },
     "metadata": {},
     "output_type": "display_data"
    },
    {
     "data": {
      "text/html": [
       "<a href='../../_data/01 Beth/AdvancedDermatology_123015.docx' target='_blank'>../../_data/01 Beth/AdvancedDermatology_123015.docx</a><br>"
      ],
      "text/plain": [
       "/Users/michaelp/Code/WellSaidLabs/_data/01 Beth/AdvancedDermatology_123015.docx"
      ]
     },
     "metadata": {},
     "output_type": "display_data"
    },
    {
     "data": {
      "text/markdown": [
       "Skipped Paragraph: \"PAGE\""
      ],
      "text/plain": [
       "<IPython.core.display.Markdown object>"
      ]
     },
     "metadata": {},
     "output_type": "display_data"
    },
    {
     "data": {
      "text/markdown": [
       "--------------------------------------------------"
      ],
      "text/plain": [
       "<IPython.core.display.Markdown object>"
      ]
     },
     "metadata": {},
     "output_type": "display_data"
    },
    {
     "data": {
      "text/html": [
       "<a href='../../_data/01 Beth/AdvancedHealthAndWellness_011216.docx' target='_blank'>../../_data/01 Beth/AdvancedHealthAndWellness_011216.docx</a><br>"
      ],
      "text/plain": [
       "/Users/michaelp/Code/WellSaidLabs/_data/01 Beth/AdvancedHealthAndWellness_011216.docx"
      ]
     },
     "metadata": {},
     "output_type": "display_data"
    },
    {
     "data": {
      "text/markdown": [
       "Skipped Paragraph: \"PAGE\""
      ],
      "text/plain": [
       "<IPython.core.display.Markdown object>"
      ]
     },
     "metadata": {},
     "output_type": "display_data"
    },
    {
     "data": {
      "text/markdown": [
       "--------------------------------------------------"
      ],
      "text/plain": [
       "<IPython.core.display.Markdown object>"
      ]
     },
     "metadata": {},
     "output_type": "display_data"
    },
    {
     "data": {
      "text/html": [
       "<a href='../../_data/01 Beth/AirDoctorServices_120715.docx' target='_blank'>../../_data/01 Beth/AirDoctorServices_120715.docx</a><br>"
      ],
      "text/plain": [
       "/Users/michaelp/Code/WellSaidLabs/_data/01 Beth/AirDoctorServices_120715.docx"
      ]
     },
     "metadata": {},
     "output_type": "display_data"
    },
    {
     "data": {
      "text/markdown": [
       "Skipped Paragraph: \"PAGE\""
      ],
      "text/plain": [
       "<IPython.core.display.Markdown object>"
      ]
     },
     "metadata": {},
     "output_type": "display_data"
    },
    {
     "data": {
      "text/markdown": [
       "--------------------------------------------------"
      ],
      "text/plain": [
       "<IPython.core.display.Markdown object>"
      ]
     },
     "metadata": {},
     "output_type": "display_data"
    },
    {
     "data": {
      "text/html": [
       "<a href='../../_data/01 Beth/AlsRubbishRemoval_042318.docx' target='_blank'>../../_data/01 Beth/AlsRubbishRemoval_042318.docx</a><br>"
      ],
      "text/plain": [
       "/Users/michaelp/Code/WellSaidLabs/_data/01 Beth/AlsRubbishRemoval_042318.docx"
      ]
     },
     "metadata": {},
     "output_type": "display_data"
    },
    {
     "data": {
      "text/markdown": [
       "Skipped Paragraph: \"PAGE\""
      ],
      "text/plain": [
       "<IPython.core.display.Markdown object>"
      ]
     },
     "metadata": {},
     "output_type": "display_data"
    },
    {
     "data": {
      "text/markdown": [
       "--------------------------------------------------"
      ],
      "text/plain": [
       "<IPython.core.display.Markdown object>"
      ]
     },
     "metadata": {},
     "output_type": "display_data"
    },
    {
     "data": {
      "text/html": [
       "<a href='../../_data/01 Beth/AlsRubbish_091418.docx' target='_blank'>../../_data/01 Beth/AlsRubbish_091418.docx</a><br>"
      ],
      "text/plain": [
       "/Users/michaelp/Code/WellSaidLabs/_data/01 Beth/AlsRubbish_091418.docx"
      ]
     },
     "metadata": {},
     "output_type": "display_data"
    },
    {
     "data": {
      "text/markdown": [
       "Skipped Paragraph: \":\""
      ],
      "text/plain": [
       "<IPython.core.display.Markdown object>"
      ]
     },
     "metadata": {},
     "output_type": "display_data"
    },
    {
     "data": {
      "text/markdown": [
       "Skipped Paragraph: \"PAGE\""
      ],
      "text/plain": [
       "<IPython.core.display.Markdown object>"
      ]
     },
     "metadata": {},
     "output_type": "display_data"
    },
    {
     "data": {
      "text/markdown": [
       "--------------------------------------------------"
      ],
      "text/plain": [
       "<IPython.core.display.Markdown object>"
      ]
     },
     "metadata": {},
     "output_type": "display_data"
    },
    {
     "data": {
      "text/html": [
       "<a href='../../_data/01 Beth/AngelSeniorCare_121817.docx' target='_blank'>../../_data/01 Beth/AngelSeniorCare_121817.docx</a><br>"
      ],
      "text/plain": [
       "/Users/michaelp/Code/WellSaidLabs/_data/01 Beth/AngelSeniorCare_121817.docx"
      ]
     },
     "metadata": {},
     "output_type": "display_data"
    },
    {
     "data": {
      "text/markdown": [
       "Skipped Paragraph: \"PAGE\""
      ],
      "text/plain": [
       "<IPython.core.display.Markdown object>"
      ]
     },
     "metadata": {},
     "output_type": "display_data"
    },
    {
     "data": {
      "text/markdown": [
       "--------------------------------------------------"
      ],
      "text/plain": [
       "<IPython.core.display.Markdown object>"
      ]
     },
     "metadata": {},
     "output_type": "display_data"
    },
    {
     "data": {
      "text/html": [
       "<a href='../../_data/01 Beth/AngeloTermiteAndConstruction_050718.docx' target='_blank'>../../_data/01 Beth/AngeloTermiteAndConstruction_050718.docx</a><br>"
      ],
      "text/plain": [
       "/Users/michaelp/Code/WellSaidLabs/_data/01 Beth/AngeloTermiteAndConstruction_050718.docx"
      ]
     },
     "metadata": {},
     "output_type": "display_data"
    },
    {
     "data": {
      "text/markdown": [
       "Skipped Paragraph: \"\""
      ],
      "text/plain": [
       "<IPython.core.display.Markdown object>"
      ]
     },
     "metadata": {},
     "output_type": "display_data"
    },
    {
     "data": {
      "text/markdown": [
       "Skipped Paragraph: \"PAGE\""
      ],
      "text/plain": [
       "<IPython.core.display.Markdown object>"
      ]
     },
     "metadata": {},
     "output_type": "display_data"
    },
    {
     "data": {
      "text/markdown": [
       "--------------------------------------------------"
      ],
      "text/plain": [
       "<IPython.core.display.Markdown object>"
      ]
     },
     "metadata": {},
     "output_type": "display_data"
    },
    {
     "data": {
      "text/html": [
       "<a href='../../_data/01 Beth/Applewood(PSL Group)_022317.docx' target='_blank'>../../_data/01 Beth/Applewood(PSL Group)_022317.docx</a><br>"
      ],
      "text/plain": [
       "/Users/michaelp/Code/WellSaidLabs/_data/01 Beth/Applewood(PSL Group)_022317.docx"
      ]
     },
     "metadata": {},
     "output_type": "display_data"
    },
    {
     "data": {
      "text/markdown": [
       "Skipped Paragraph: \"PAGE\""
      ],
      "text/plain": [
       "<IPython.core.display.Markdown object>"
      ]
     },
     "metadata": {},
     "output_type": "display_data"
    },
    {
     "data": {
      "text/markdown": [
       "--------------------------------------------------"
      ],
      "text/plain": [
       "<IPython.core.display.Markdown object>"
      ]
     },
     "metadata": {},
     "output_type": "display_data"
    },
    {
     "data": {
      "text/html": [
       "<a href='../../_data/01 Beth/ArizonaAutoAndRadiatorRepair_080318.docx' target='_blank'>../../_data/01 Beth/ArizonaAutoAndRadiatorRepair_080318.docx</a><br>"
      ],
      "text/plain": [
       "/Users/michaelp/Code/WellSaidLabs/_data/01 Beth/ArizonaAutoAndRadiatorRepair_080318.docx"
      ]
     },
     "metadata": {},
     "output_type": "display_data"
    },
    {
     "data": {
      "text/markdown": [
       "Skipped Paragraph: \"PAGE\""
      ],
      "text/plain": [
       "<IPython.core.display.Markdown object>"
      ]
     },
     "metadata": {},
     "output_type": "display_data"
    },
    {
     "data": {
      "text/markdown": [
       "--------------------------------------------------"
      ],
      "text/plain": [
       "<IPython.core.display.Markdown object>"
      ]
     },
     "metadata": {},
     "output_type": "display_data"
    },
    {
     "data": {
      "text/html": [
       "<a href='../../_data/01 Beth/ArlingtonAnimalClinic_100515.docx' target='_blank'>../../_data/01 Beth/ArlingtonAnimalClinic_100515.docx</a><br>"
      ],
      "text/plain": [
       "/Users/michaelp/Code/WellSaidLabs/_data/01 Beth/ArlingtonAnimalClinic_100515.docx"
      ]
     },
     "metadata": {},
     "output_type": "display_data"
    },
    {
     "data": {
      "text/markdown": [
       "Skipped Paragraph: \"PAGE\""
      ],
      "text/plain": [
       "<IPython.core.display.Markdown object>"
      ]
     },
     "metadata": {},
     "output_type": "display_data"
    },
    {
     "data": {
      "text/markdown": [
       "--------------------------------------------------"
      ],
      "text/plain": [
       "<IPython.core.display.Markdown object>"
      ]
     },
     "metadata": {},
     "output_type": "display_data"
    },
    {
     "data": {
      "text/html": [
       "<a href='../../_data/01 Beth/ArtisticSmilesOrthodontics_091918.docx' target='_blank'>../../_data/01 Beth/ArtisticSmilesOrthodontics_091918.docx</a><br>"
      ],
      "text/plain": [
       "/Users/michaelp/Code/WellSaidLabs/_data/01 Beth/ArtisticSmilesOrthodontics_091918.docx"
      ]
     },
     "metadata": {},
     "output_type": "display_data"
    },
    {
     "data": {
      "text/markdown": [
       "Skipped Paragraph: \"PAGE\""
      ],
      "text/plain": [
       "<IPython.core.display.Markdown object>"
      ]
     },
     "metadata": {},
     "output_type": "display_data"
    },
    {
     "data": {
      "text/markdown": [
       "--------------------------------------------------"
      ],
      "text/plain": [
       "<IPython.core.display.Markdown object>"
      ]
     },
     "metadata": {},
     "output_type": "display_data"
    },
    {
     "data": {
      "text/html": [
       "<a href='../../_data/01 Beth/ArtistrySalon_111115.docx' target='_blank'>../../_data/01 Beth/ArtistrySalon_111115.docx</a><br>"
      ],
      "text/plain": [
       "/Users/michaelp/Code/WellSaidLabs/_data/01 Beth/ArtistrySalon_111115.docx"
      ]
     },
     "metadata": {},
     "output_type": "display_data"
    },
    {
     "data": {
      "text/markdown": [
       "Skipped Paragraph: \"+++++++++++++++++++++++++++++++++++++++++++++++++++++++++++++++++++++++\""
      ],
      "text/plain": [
       "<IPython.core.display.Markdown object>"
      ]
     },
     "metadata": {},
     "output_type": "display_data"
    },
    {
     "data": {
      "text/markdown": [
       "Skipped Paragraph: \"PAGE\""
      ],
      "text/plain": [
       "<IPython.core.display.Markdown object>"
      ]
     },
     "metadata": {},
     "output_type": "display_data"
    },
    {
     "data": {
      "text/markdown": [
       "--------------------------------------------------"
      ],
      "text/plain": [
       "<IPython.core.display.Markdown object>"
      ]
     },
     "metadata": {},
     "output_type": "display_data"
    },
    {
     "data": {
      "text/html": [
       "<a href='../../_data/01 Beth/AtlanticDental_011518.docx' target='_blank'>../../_data/01 Beth/AtlanticDental_011518.docx</a><br>"
      ],
      "text/plain": [
       "/Users/michaelp/Code/WellSaidLabs/_data/01 Beth/AtlanticDental_011518.docx"
      ]
     },
     "metadata": {},
     "output_type": "display_data"
    },
    {
     "data": {
      "text/markdown": [
       "Skipped Paragraph: \"PAGE\""
      ],
      "text/plain": [
       "<IPython.core.display.Markdown object>"
      ]
     },
     "metadata": {},
     "output_type": "display_data"
    },
    {
     "data": {
      "text/markdown": [
       "--------------------------------------------------"
      ],
      "text/plain": [
       "<IPython.core.display.Markdown object>"
      ]
     },
     "metadata": {},
     "output_type": "display_data"
    },
    {
     "data": {
      "text/html": [
       "<a href='../../_data/01 Beth/AvianAndExoticAnimalHosp_071615.docx' target='_blank'>../../_data/01 Beth/AvianAndExoticAnimalHosp_071615.docx</a><br>"
      ],
      "text/plain": [
       "/Users/michaelp/Code/WellSaidLabs/_data/01 Beth/AvianAndExoticAnimalHosp_071615.docx"
      ]
     },
     "metadata": {},
     "output_type": "display_data"
    },
    {
     "data": {
      "text/markdown": [
       "--------------------------------------------------"
      ],
      "text/plain": [
       "<IPython.core.display.Markdown object>"
      ]
     },
     "metadata": {},
     "output_type": "display_data"
    },
    {
     "data": {
      "text/html": [
       "<a href='../../_data/01 Beth/BBG_AllwaysHealthInserts_011619.docx' target='_blank'>../../_data/01 Beth/BBG_AllwaysHealthInserts_011619.docx</a><br>"
      ],
      "text/plain": [
       "/Users/michaelp/Code/WellSaidLabs/_data/01 Beth/BBG_AllwaysHealthInserts_011619.docx"
      ]
     },
     "metadata": {},
     "output_type": "display_data"
    },
    {
     "data": {
      "text/markdown": [
       "Short Content: \"Health Tip- Surviving Flu Season.\""
      ],
      "text/plain": [
       "<IPython.core.display.Markdown object>"
      ]
     },
     "metadata": {},
     "output_type": "display_data"
    },
    {
     "data": {
      "text/markdown": [
       "Short Content: \"And now, Health Tips! Brought to you by AllWays Health Partners.\""
      ],
      "text/plain": [
       "<IPython.core.display.Markdown object>"
      ]
     },
     "metadata": {},
     "output_type": "display_data"
    },
    {
     "data": {
      "text/markdown": [
       "Short Content: \"-January.\""
      ],
      "text/plain": [
       "<IPython.core.display.Markdown object>"
      ]
     },
     "metadata": {},
     "output_type": "display_data"
    },
    {
     "data": {
      "text/markdown": [
       "Short Content: \"Health Tip- Healthy Eating in 2019.\""
      ],
      "text/plain": [
       "<IPython.core.display.Markdown object>"
      ]
     },
     "metadata": {},
     "output_type": "display_data"
    },
    {
     "data": {
      "text/markdown": [
       "Short Content: \"And now, Health Tips! Brought to you by AllWays Health Partners.\""
      ],
      "text/plain": [
       "<IPython.core.display.Markdown object>"
      ]
     },
     "metadata": {},
     "output_type": "display_data"
    },
    {
     "data": {
      "text/markdown": [
       "Short Content: \"Trying to eat healthier in 2019?\""
      ],
      "text/plain": [
       "<IPython.core.display.Markdown object>"
      ]
     },
     "metadata": {},
     "output_type": "display_data"
    },
    {
     "data": {
      "text/markdown": [
       "Short Content: \"Or just trying to work off how not- healthy you were during the holidays?\""
      ],
      "text/plain": [
       "<IPython.core.display.Markdown object>"
      ]
     },
     "metadata": {},
     "output_type": "display_data"
    },
    {
     "data": {
      "text/markdown": [
       "--------------------------------------------------"
      ],
      "text/plain": [
       "<IPython.core.display.Markdown object>"
      ]
     },
     "metadata": {},
     "output_type": "display_data"
    },
    {
     "data": {
      "text/html": [
       "<a href='../../_data/01 Beth/BBG_AllwaysHealthPartners 3 Donuts _012819.docx' target='_blank'>../../_data/01 Beth/BBG_AllwaysHealthPartners 3 Donuts _012819.docx</a><br>"
      ],
      "text/plain": [
       "/Users/michaelp/Code/WellSaidLabs/_data/01 Beth/BBG_AllwaysHealthPartners 3 Donuts _012819.docx"
      ]
     },
     "metadata": {},
     "output_type": "display_data"
    },
    {
     "data": {
      "text/markdown": [
       "Short Content: \"Did you know the average glazed donut has 192 calories?\""
      ],
      "text/plain": [
       "<IPython.core.display.Markdown object>"
      ]
     },
     "metadata": {},
     "output_type": "display_data"
    },
    {
     "data": {
      "text/markdown": [
       "Short Content: \"That’s what you burn in 30 minutes of moderate exercise.\""
      ],
      "text/plain": [
       "<IPython.core.display.Markdown object>"
      ]
     },
     "metadata": {},
     "output_type": "display_data"
    },
    {
     "data": {
      "text/markdown": [
       "Short Content: \"But did you know hugs are healthy, too?\""
      ],
      "text/plain": [
       "<IPython.core.display.Markdown object>"
      ]
     },
     "metadata": {},
     "output_type": "display_data"
    },
    {
     "data": {
      "text/markdown": [
       "--------------------------------------------------"
      ],
      "text/plain": [
       "<IPython.core.display.Markdown object>"
      ]
     },
     "metadata": {},
     "output_type": "display_data"
    },
    {
     "data": {
      "text/html": [
       "<a href='../../_data/01 Beth/BBG_AndoverEyeAssoc_050918.docx' target='_blank'>../../_data/01 Beth/BBG_AndoverEyeAssoc_050918.docx</a><br>"
      ],
      "text/plain": [
       "/Users/michaelp/Code/WellSaidLabs/_data/01 Beth/BBG_AndoverEyeAssoc_050918.docx"
      ]
     },
     "metadata": {},
     "output_type": "display_data"
    },
    {
     "data": {
      "text/markdown": [
       "Skipped Paragraph: \"(Dr. Jack (grin year))\""
      ],
      "text/plain": [
       "<IPython.core.display.Markdown object>"
      ]
     },
     "metadata": {},
     "output_type": "display_data"
    },
    {
     "data": {
      "text/markdown": [
       "--------------------------------------------------"
      ],
      "text/plain": [
       "<IPython.core.display.Markdown object>"
      ]
     },
     "metadata": {},
     "output_type": "display_data"
    },
    {
     "data": {
      "text/html": [
       "<a href='../../_data/01 Beth/BBG_AnnaJaques_070517 (1).docx' target='_blank'>../../_data/01 Beth/BBG_AnnaJaques_070517 (1).docx</a><br>"
      ],
      "text/plain": [
       "/Users/michaelp/Code/WellSaidLabs/_data/01 Beth/BBG_AnnaJaques_070517 (1).docx"
      ]
     },
     "metadata": {},
     "output_type": "display_data"
    },
    {
     "data": {
      "text/markdown": [
       "--------------------------------------------------"
      ],
      "text/plain": [
       "<IPython.core.display.Markdown object>"
      ]
     },
     "metadata": {},
     "output_type": "display_data"
    },
    {
     "data": {
      "text/html": [
       "<a href='../../_data/01 Beth/BBG_BarkThins_081017 (1).docx' target='_blank'>../../_data/01 Beth/BBG_BarkThins_081017 (1).docx</a><br>"
      ],
      "text/plain": [
       "/Users/michaelp/Code/WellSaidLabs/_data/01 Beth/BBG_BarkThins_081017 (1).docx"
      ]
     },
     "metadata": {},
     "output_type": "display_data"
    },
    {
     "data": {
      "text/markdown": [
       "--------------------------------------------------"
      ],
      "text/plain": [
       "<IPython.core.display.Markdown object>"
      ]
     },
     "metadata": {},
     "output_type": "display_data"
    },
    {
     "data": {
      "text/html": [
       "<a href='../../_data/01 Beth/BBG_CVS Inserts_052517.docx' target='_blank'>../../_data/01 Beth/BBG_CVS Inserts_052517.docx</a><br>"
      ],
      "text/plain": [
       "/Users/michaelp/Code/WellSaidLabs/_data/01 Beth/BBG_CVS Inserts_052517.docx"
      ]
     },
     "metadata": {},
     "output_type": "display_data"
    },
    {
     "data": {
      "text/markdown": [
       "--------------------------------------------------"
      ],
      "text/plain": [
       "<IPython.core.display.Markdown object>"
      ]
     },
     "metadata": {},
     "output_type": "display_data"
    },
    {
     "data": {
      "text/html": [
       "<a href='../../_data/01 Beth/BBG_CatholicMedicalCenter_100518.docx' target='_blank'>../../_data/01 Beth/BBG_CatholicMedicalCenter_100518.docx</a><br>"
      ],
      "text/plain": [
       "/Users/michaelp/Code/WellSaidLabs/_data/01 Beth/BBG_CatholicMedicalCenter_100518.docx"
      ]
     },
     "metadata": {},
     "output_type": "display_data"
    },
    {
     "data": {
      "text/markdown": [
       "--------------------------------------------------"
      ],
      "text/plain": [
       "<IPython.core.display.Markdown object>"
      ]
     },
     "metadata": {},
     "output_type": "display_data"
    },
    {
     "data": {
      "text/html": [
       "<a href='../../_data/01 Beth/BBG_FloatingHospital_060117 (1).docx' target='_blank'>../../_data/01 Beth/BBG_FloatingHospital_060117 (1).docx</a><br>"
      ],
      "text/plain": [
       "/Users/michaelp/Code/WellSaidLabs/_data/01 Beth/BBG_FloatingHospital_060117 (1).docx"
      ]
     },
     "metadata": {},
     "output_type": "display_data"
    },
    {
     "data": {
      "text/markdown": [
       "--------------------------------------------------"
      ],
      "text/plain": [
       "<IPython.core.display.Markdown object>"
      ]
     },
     "metadata": {},
     "output_type": "display_data"
    },
    {
     "data": {
      "text/html": [
       "<a href='../../_data/01 Beth/BBG_HamptonBeach_0700318.docx' target='_blank'>../../_data/01 Beth/BBG_HamptonBeach_0700318.docx</a><br>"
      ],
      "text/plain": [
       "/Users/michaelp/Code/WellSaidLabs/_data/01 Beth/BBG_HamptonBeach_0700318.docx"
      ]
     },
     "metadata": {},
     "output_type": "display_data"
    },
    {
     "data": {
      "text/markdown": [
       "--------------------------------------------------"
      ],
      "text/plain": [
       "<IPython.core.display.Markdown object>"
      ]
     },
     "metadata": {},
     "output_type": "display_data"
    },
    {
     "data": {
      "text/html": [
       "<a href='../../_data/01 Beth/BBG_JFKLibrary_052418.docx' target='_blank'>../../_data/01 Beth/BBG_JFKLibrary_052418.docx</a><br>"
      ],
      "text/plain": [
       "/Users/michaelp/Code/WellSaidLabs/_data/01 Beth/BBG_JFKLibrary_052418.docx"
      ]
     },
     "metadata": {},
     "output_type": "display_data"
    },
    {
     "data": {
      "text/markdown": [
       "--------------------------------------------------"
      ],
      "text/plain": [
       "<IPython.core.display.Markdown object>"
      ]
     },
     "metadata": {},
     "output_type": "display_data"
    },
    {
     "data": {
      "text/html": [
       "<a href='../../_data/01 Beth/BBG_JPFujiGroup_112818.docx' target='_blank'>../../_data/01 Beth/BBG_JPFujiGroup_112818.docx</a><br>"
      ],
      "text/plain": [
       "/Users/michaelp/Code/WellSaidLabs/_data/01 Beth/BBG_JPFujiGroup_112818.docx"
      ]
     },
     "metadata": {},
     "output_type": "display_data"
    },
    {
     "data": {
      "text/markdown": [
       "--------------------------------------------------"
      ],
      "text/plain": [
       "<IPython.core.display.Markdown object>"
      ]
     },
     "metadata": {},
     "output_type": "display_data"
    },
    {
     "data": {
      "text/html": [
       "<a href='../../_data/01 Beth/BBG_KendalSquareHolidayOnIce_121118.docx' target='_blank'>../../_data/01 Beth/BBG_KendalSquareHolidayOnIce_121118.docx</a><br>"
      ],
      "text/plain": [
       "/Users/michaelp/Code/WellSaidLabs/_data/01 Beth/BBG_KendalSquareHolidayOnIce_121118.docx"
      ]
     },
     "metadata": {},
     "output_type": "display_data"
    },
    {
     "data": {
      "text/markdown": [
       "--------------------------------------------------"
      ],
      "text/plain": [
       "<IPython.core.display.Markdown object>"
      ]
     },
     "metadata": {},
     "output_type": "display_data"
    },
    {
     "data": {
      "text/html": [
       "<a href='../../_data/01 Beth/BBG_LEGOLandBoston_071917.docx' target='_blank'>../../_data/01 Beth/BBG_LEGOLandBoston_071917.docx</a><br>"
      ],
      "text/plain": [
       "/Users/michaelp/Code/WellSaidLabs/_data/01 Beth/BBG_LEGOLandBoston_071917.docx"
      ]
     },
     "metadata": {},
     "output_type": "display_data"
    },
    {
     "data": {
      "text/markdown": [
       "--------------------------------------------------"
      ],
      "text/plain": [
       "<IPython.core.display.Markdown object>"
      ]
     },
     "metadata": {},
     "output_type": "display_data"
    },
    {
     "data": {
      "text/html": [
       "<a href='../../_data/01 Beth/BBG_MFA 30_112117 (1).docx' target='_blank'>../../_data/01 Beth/BBG_MFA 30_112117 (1).docx</a><br>"
      ],
      "text/plain": [
       "/Users/michaelp/Code/WellSaidLabs/_data/01 Beth/BBG_MFA 30_112117 (1).docx"
      ]
     },
     "metadata": {},
     "output_type": "display_data"
    },
    {
     "data": {
      "text/markdown": [
       "Short Content: \"Celebrate the holiday season at the Museum of Fine Arts!\""
      ],
      "text/plain": [
       "<IPython.core.display.Markdown object>"
      ]
     },
     "metadata": {},
     "output_type": "display_data"
    },
    {
     "data": {
      "text/markdown": [
       "--------------------------------------------------"
      ],
      "text/plain": [
       "<IPython.core.display.Markdown object>"
      ]
     },
     "metadata": {},
     "output_type": "display_data"
    },
    {
     "data": {
      "text/html": [
       "<a href='../../_data/01 Beth/BBG_MFAHolidays_112917 (1).docx' target='_blank'>../../_data/01 Beth/BBG_MFAHolidays_112917 (1).docx</a><br>"
      ],
      "text/plain": [
       "/Users/michaelp/Code/WellSaidLabs/_data/01 Beth/BBG_MFAHolidays_112917 (1).docx"
      ]
     },
     "metadata": {},
     "output_type": "display_data"
    },
    {
     "data": {
      "text/markdown": [
       "Short Content: \"The Museum of Fine Arts, a place for you and your sense of wonder\""
      ],
      "text/plain": [
       "<IPython.core.display.Markdown object>"
      ]
     },
     "metadata": {},
     "output_type": "display_data"
    },
    {
     "data": {
      "text/markdown": [
       "--------------------------------------------------"
      ],
      "text/plain": [
       "<IPython.core.display.Markdown object>"
      ]
     },
     "metadata": {},
     "output_type": "display_data"
    },
    {
     "data": {
      "text/html": [
       "<a href='../../_data/01 Beth/BBG_MLKatMFA_122718.docx' target='_blank'>../../_data/01 Beth/BBG_MLKatMFA_122718.docx</a><br>"
      ],
      "text/plain": [
       "/Users/michaelp/Code/WellSaidLabs/_data/01 Beth/BBG_MLKatMFA_122718.docx"
      ]
     },
     "metadata": {},
     "output_type": "display_data"
    },
    {
     "data": {
      "text/markdown": [
       "--------------------------------------------------"
      ],
      "text/plain": [
       "<IPython.core.display.Markdown object>"
      ]
     },
     "metadata": {},
     "output_type": "display_data"
    },
    {
     "data": {
      "text/html": [
       "<a href='../../_data/01 Beth/BBG_MaisonEsthetique_020218 (1).docx' target='_blank'>../../_data/01 Beth/BBG_MaisonEsthetique_020218 (1).docx</a><br>"
      ],
      "text/plain": [
       "/Users/michaelp/Code/WellSaidLabs/_data/01 Beth/BBG_MaisonEsthetique_020218 (1).docx"
      ]
     },
     "metadata": {},
     "output_type": "display_data"
    },
    {
     "data": {
      "text/markdown": [
       "--------------------------------------------------"
      ],
      "text/plain": [
       "<IPython.core.display.Markdown object>"
      ]
     },
     "metadata": {},
     "output_type": "display_data"
    },
    {
     "data": {
      "text/html": [
       "<a href='../../_data/01 Beth/BBG_MayInstitute_061918.docx' target='_blank'>../../_data/01 Beth/BBG_MayInstitute_061918.docx</a><br>"
      ],
      "text/plain": [
       "/Users/michaelp/Code/WellSaidLabs/_data/01 Beth/BBG_MayInstitute_061918.docx"
      ]
     },
     "metadata": {},
     "output_type": "display_data"
    },
    {
     "data": {
      "text/markdown": [
       "--------------------------------------------------"
      ],
      "text/plain": [
       "<IPython.core.display.Markdown object>"
      ]
     },
     "metadata": {},
     "output_type": "display_data"
    },
    {
     "data": {
      "text/html": [
       "<a href='../../_data/01 Beth/BBG_MerrimackCollege_070218.docx' target='_blank'>../../_data/01 Beth/BBG_MerrimackCollege_070218.docx</a><br>"
      ],
      "text/plain": [
       "/Users/michaelp/Code/WellSaidLabs/_data/01 Beth/BBG_MerrimackCollege_070218.docx"
      ]
     },
     "metadata": {},
     "output_type": "display_data"
    },
    {
     "data": {
      "text/markdown": [
       "--------------------------------------------------"
      ],
      "text/plain": [
       "<IPython.core.display.Markdown object>"
      ]
     },
     "metadata": {},
     "output_type": "display_data"
    },
    {
     "data": {
      "text/html": [
       "<a href='../../_data/01 Beth/BBG_MerrimackCollege_070318.docx' target='_blank'>../../_data/01 Beth/BBG_MerrimackCollege_070318.docx</a><br>"
      ],
      "text/plain": [
       "/Users/michaelp/Code/WellSaidLabs/_data/01 Beth/BBG_MerrimackCollege_070318.docx"
      ]
     },
     "metadata": {},
     "output_type": "display_data"
    },
    {
     "data": {
      "text/markdown": [
       "--------------------------------------------------"
      ],
      "text/plain": [
       "<IPython.core.display.Markdown object>"
      ]
     },
     "metadata": {},
     "output_type": "display_data"
    },
    {
     "data": {
      "text/html": [
       "<a href='../../_data/01 Beth/BBG_NaturesPathFood_011118.docx' target='_blank'>../../_data/01 Beth/BBG_NaturesPathFood_011118.docx</a><br>"
      ],
      "text/plain": [
       "/Users/michaelp/Code/WellSaidLabs/_data/01 Beth/BBG_NaturesPathFood_011118.docx"
      ]
     },
     "metadata": {},
     "output_type": "display_data"
    },
    {
     "data": {
      "text/markdown": [
       "--------------------------------------------------"
      ],
      "text/plain": [
       "<IPython.core.display.Markdown object>"
      ]
     },
     "metadata": {},
     "output_type": "display_data"
    },
    {
     "data": {
      "text/html": [
       "<a href='../../_data/01 Beth/BBG_NortheasternUniversity_090617 (1).docx' target='_blank'>../../_data/01 Beth/BBG_NortheasternUniversity_090617 (1).docx</a><br>"
      ],
      "text/plain": [
       "/Users/michaelp/Code/WellSaidLabs/_data/01 Beth/BBG_NortheasternUniversity_090617 (1).docx"
      ]
     },
     "metadata": {},
     "output_type": "display_data"
    },
    {
     "data": {
      "text/markdown": [
       "--------------------------------------------------"
      ],
      "text/plain": [
       "<IPython.core.display.Markdown object>"
      ]
     },
     "metadata": {},
     "output_type": "display_data"
    },
    {
     "data": {
      "text/html": [
       "<a href='../../_data/01 Beth/BBG_NortheasternUniversity_090617.docx' target='_blank'>../../_data/01 Beth/BBG_NortheasternUniversity_090617.docx</a><br>"
      ],
      "text/plain": [
       "/Users/michaelp/Code/WellSaidLabs/_data/01 Beth/BBG_NortheasternUniversity_090617.docx"
      ]
     },
     "metadata": {},
     "output_type": "display_data"
    },
    {
     "data": {
      "text/markdown": [
       "--------------------------------------------------"
      ],
      "text/plain": [
       "<IPython.core.display.Markdown object>"
      ]
     },
     "metadata": {},
     "output_type": "display_data"
    },
    {
     "data": {
      "text/html": [
       "<a href='../../_data/01 Beth/BBG_NotoriusPink_112018.docx' target='_blank'>../../_data/01 Beth/BBG_NotoriusPink_112018.docx</a><br>"
      ],
      "text/plain": [
       "/Users/michaelp/Code/WellSaidLabs/_data/01 Beth/BBG_NotoriusPink_112018.docx"
      ]
     },
     "metadata": {},
     "output_type": "display_data"
    },
    {
     "data": {
      "text/markdown": [
       "--------------------------------------------------"
      ],
      "text/plain": [
       "<IPython.core.display.Markdown object>"
      ]
     },
     "metadata": {},
     "output_type": "display_data"
    },
    {
     "data": {
      "text/html": [
       "<a href='../../_data/01 Beth/BBG_OrangeTheoryFitness_112118.docx' target='_blank'>../../_data/01 Beth/BBG_OrangeTheoryFitness_112118.docx</a><br>"
      ],
      "text/plain": [
       "/Users/michaelp/Code/WellSaidLabs/_data/01 Beth/BBG_OrangeTheoryFitness_112118.docx"
      ]
     },
     "metadata": {},
     "output_type": "display_data"
    },
    {
     "data": {
      "text/markdown": [
       "--------------------------------------------------"
      ],
      "text/plain": [
       "<IPython.core.display.Markdown object>"
      ]
     },
     "metadata": {},
     "output_type": "display_data"
    },
    {
     "data": {
      "text/html": [
       "<a href='../../_data/01 Beth/BBG_PenguinHall_070518.docx' target='_blank'>../../_data/01 Beth/BBG_PenguinHall_070518.docx</a><br>"
      ],
      "text/plain": [
       "/Users/michaelp/Code/WellSaidLabs/_data/01 Beth/BBG_PenguinHall_070518.docx"
      ]
     },
     "metadata": {},
     "output_type": "display_data"
    },
    {
     "data": {
      "text/markdown": [
       "--------------------------------------------------"
      ],
      "text/plain": [
       "<IPython.core.display.Markdown object>"
      ]
     },
     "metadata": {},
     "output_type": "display_data"
    },
    {
     "data": {
      "text/html": [
       "<a href='../../_data/01 Beth/BBG_PepperidgeFarm_041818.docx' target='_blank'>../../_data/01 Beth/BBG_PepperidgeFarm_041818.docx</a><br>"
      ],
      "text/plain": [
       "/Users/michaelp/Code/WellSaidLabs/_data/01 Beth/BBG_PepperidgeFarm_041818.docx"
      ]
     },
     "metadata": {},
     "output_type": "display_data"
    },
    {
     "data": {
      "text/markdown": [
       "--------------------------------------------------"
      ],
      "text/plain": [
       "<IPython.core.display.Markdown object>"
      ]
     },
     "metadata": {},
     "output_type": "display_data"
    },
    {
     "data": {
      "text/html": [
       "<a href='../../_data/01 Beth/BBG_ShrinersHosp_061417 (1).docx' target='_blank'>../../_data/01 Beth/BBG_ShrinersHosp_061417 (1).docx</a><br>"
      ],
      "text/plain": [
       "/Users/michaelp/Code/WellSaidLabs/_data/01 Beth/BBG_ShrinersHosp_061417 (1).docx"
      ]
     },
     "metadata": {},
     "output_type": "display_data"
    },
    {
     "data": {
      "text/markdown": [
       "--------------------------------------------------"
      ],
      "text/plain": [
       "<IPython.core.display.Markdown object>"
      ]
     },
     "metadata": {},
     "output_type": "display_data"
    },
    {
     "data": {
      "text/html": [
       "<a href='../../_data/01 Beth/BBG_Spatech_072117 (1).docx' target='_blank'>../../_data/01 Beth/BBG_Spatech_072117 (1).docx</a><br>"
      ],
      "text/plain": [
       "/Users/michaelp/Code/WellSaidLabs/_data/01 Beth/BBG_Spatech_072117 (1).docx"
      ]
     },
     "metadata": {},
     "output_type": "display_data"
    },
    {
     "data": {
      "text/markdown": [
       "--------------------------------------------------"
      ],
      "text/plain": [
       "<IPython.core.display.Markdown object>"
      ]
     },
     "metadata": {},
     "output_type": "display_data"
    },
    {
     "data": {
      "text/html": [
       "<a href='../../_data/01 Beth/BBG_Wendys_071018.docx' target='_blank'>../../_data/01 Beth/BBG_Wendys_071018.docx</a><br>"
      ],
      "text/plain": [
       "/Users/michaelp/Code/WellSaidLabs/_data/01 Beth/BBG_Wendys_071018.docx"
      ]
     },
     "metadata": {},
     "output_type": "display_data"
    },
    {
     "data": {
      "text/markdown": [
       "--------------------------------------------------"
      ],
      "text/plain": [
       "<IPython.core.display.Markdown object>"
      ]
     },
     "metadata": {},
     "output_type": "display_data"
    },
    {
     "data": {
      "text/html": [
       "<a href='../../_data/01 Beth/BBG_WillowTree_081618.docx' target='_blank'>../../_data/01 Beth/BBG_WillowTree_081618.docx</a><br>"
      ],
      "text/plain": [
       "/Users/michaelp/Code/WellSaidLabs/_data/01 Beth/BBG_WillowTree_081618.docx"
      ]
     },
     "metadata": {},
     "output_type": "display_data"
    },
    {
     "data": {
      "text/markdown": [
       "--------------------------------------------------"
      ],
      "text/plain": [
       "<IPython.core.display.Markdown object>"
      ]
     },
     "metadata": {},
     "output_type": "display_data"
    },
    {
     "data": {
      "text/html": [
       "<a href='../../_data/01 Beth/BayBeachVeterinary_071817.docx' target='_blank'>../../_data/01 Beth/BayBeachVeterinary_071817.docx</a><br>"
      ],
      "text/plain": [
       "/Users/michaelp/Code/WellSaidLabs/_data/01 Beth/BayBeachVeterinary_071817.docx"
      ]
     },
     "metadata": {},
     "output_type": "display_data"
    },
    {
     "data": {
      "text/markdown": [
       "Skipped Paragraph: \"PAGE\""
      ],
      "text/plain": [
       "<IPython.core.display.Markdown object>"
      ]
     },
     "metadata": {},
     "output_type": "display_data"
    },
    {
     "data": {
      "text/markdown": [
       "--------------------------------------------------"
      ],
      "text/plain": [
       "<IPython.core.display.Markdown object>"
      ]
     },
     "metadata": {},
     "output_type": "display_data"
    },
    {
     "data": {
      "text/html": [
       "<a href='../../_data/01 Beth/BayCityVet_092217.docx' target='_blank'>../../_data/01 Beth/BayCityVet_092217.docx</a><br>"
      ],
      "text/plain": [
       "/Users/michaelp/Code/WellSaidLabs/_data/01 Beth/BayCityVet_092217.docx"
      ]
     },
     "metadata": {},
     "output_type": "display_data"
    },
    {
     "data": {
      "text/markdown": [
       "Skipped Paragraph: \"PAGE\""
      ],
      "text/plain": [
       "<IPython.core.display.Markdown object>"
      ]
     },
     "metadata": {},
     "output_type": "display_data"
    },
    {
     "data": {
      "text/markdown": [
       "--------------------------------------------------"
      ],
      "text/plain": [
       "<IPython.core.display.Markdown object>"
      ]
     },
     "metadata": {},
     "output_type": "display_data"
    },
    {
     "data": {
      "text/html": [
       "<a href='../../_data/01 Beth/BayCityVeterinary_111317.docx' target='_blank'>../../_data/01 Beth/BayCityVeterinary_111317.docx</a><br>"
      ],
      "text/plain": [
       "/Users/michaelp/Code/WellSaidLabs/_data/01 Beth/BayCityVeterinary_111317.docx"
      ]
     },
     "metadata": {},
     "output_type": "display_data"
    },
    {
     "data": {
      "text/markdown": [
       "Skipped Paragraph: \"PAGE\""
      ],
      "text/plain": [
       "<IPython.core.display.Markdown object>"
      ]
     },
     "metadata": {},
     "output_type": "display_data"
    },
    {
     "data": {
      "text/markdown": [
       "--------------------------------------------------"
      ],
      "text/plain": [
       "<IPython.core.display.Markdown object>"
      ]
     },
     "metadata": {},
     "output_type": "display_data"
    },
    {
     "data": {
      "text/html": [
       "<a href='../../_data/01 Beth/BearFamilyDentistry_052316.docx' target='_blank'>../../_data/01 Beth/BearFamilyDentistry_052316.docx</a><br>"
      ],
      "text/plain": [
       "/Users/michaelp/Code/WellSaidLabs/_data/01 Beth/BearFamilyDentistry_052316.docx"
      ]
     },
     "metadata": {},
     "output_type": "display_data"
    },
    {
     "data": {
      "text/markdown": [
       "--------------------------------------------------"
      ],
      "text/plain": [
       "<IPython.core.display.Markdown object>"
      ]
     },
     "metadata": {},
     "output_type": "display_data"
    },
    {
     "data": {
      "text/html": [
       "<a href='../../_data/01 Beth/BellaSmile_052617.docx' target='_blank'>../../_data/01 Beth/BellaSmile_052617.docx</a><br>"
      ],
      "text/plain": [
       "/Users/michaelp/Code/WellSaidLabs/_data/01 Beth/BellaSmile_052617.docx"
      ]
     },
     "metadata": {},
     "output_type": "display_data"
    },
    {
     "data": {
      "text/markdown": [
       "Skipped Paragraph: \"PAGE\""
      ],
      "text/plain": [
       "<IPython.core.display.Markdown object>"
      ]
     },
     "metadata": {},
     "output_type": "display_data"
    },
    {
     "data": {
      "text/markdown": [
       "--------------------------------------------------"
      ],
      "text/plain": [
       "<IPython.core.display.Markdown object>"
      ]
     },
     "metadata": {},
     "output_type": "display_data"
    },
    {
     "data": {
      "text/html": [
       "<a href='../../_data/01 Beth/BellaSmile_110617.docx' target='_blank'>../../_data/01 Beth/BellaSmile_110617.docx</a><br>"
      ],
      "text/plain": [
       "/Users/michaelp/Code/WellSaidLabs/_data/01 Beth/BellaSmile_110617.docx"
      ]
     },
     "metadata": {},
     "output_type": "display_data"
    },
    {
     "data": {
      "text/markdown": [
       "Skipped Paragraph: \"PAGE\""
      ],
      "text/plain": [
       "<IPython.core.display.Markdown object>"
      ]
     },
     "metadata": {},
     "output_type": "display_data"
    },
    {
     "data": {
      "text/markdown": [
       "--------------------------------------------------"
      ],
      "text/plain": [
       "<IPython.core.display.Markdown object>"
      ]
     },
     "metadata": {},
     "output_type": "display_data"
    },
    {
     "data": {
      "text/html": [
       "<a href='../../_data/01 Beth/BellaSmiles_020717.docx' target='_blank'>../../_data/01 Beth/BellaSmiles_020717.docx</a><br>"
      ],
      "text/plain": [
       "/Users/michaelp/Code/WellSaidLabs/_data/01 Beth/BellaSmiles_020717.docx"
      ]
     },
     "metadata": {},
     "output_type": "display_data"
    },
    {
     "data": {
      "text/markdown": [
       "Skipped Paragraph: \"PAGE\""
      ],
      "text/plain": [
       "<IPython.core.display.Markdown object>"
      ]
     },
     "metadata": {},
     "output_type": "display_data"
    },
    {
     "data": {
      "text/markdown": [
       "--------------------------------------------------"
      ],
      "text/plain": [
       "<IPython.core.display.Markdown object>"
      ]
     },
     "metadata": {},
     "output_type": "display_data"
    },
    {
     "data": {
      "text/html": [
       "<a href='../../_data/01 Beth/BillBunchChevrolet_011617.docx' target='_blank'>../../_data/01 Beth/BillBunchChevrolet_011617.docx</a><br>"
      ],
      "text/plain": [
       "/Users/michaelp/Code/WellSaidLabs/_data/01 Beth/BillBunchChevrolet_011617.docx"
      ]
     },
     "metadata": {},
     "output_type": "display_data"
    },
    {
     "data": {
      "text/markdown": [
       "Skipped Paragraph: \"PAGE\""
      ],
      "text/plain": [
       "<IPython.core.display.Markdown object>"
      ]
     },
     "metadata": {},
     "output_type": "display_data"
    },
    {
     "data": {
      "text/markdown": [
       "--------------------------------------------------"
      ],
      "text/plain": [
       "<IPython.core.display.Markdown object>"
      ]
     },
     "metadata": {},
     "output_type": "display_data"
    },
    {
     "data": {
      "text/html": [
       "<a href='../../_data/01 Beth/BillBunchChevrolet_082318.docx' target='_blank'>../../_data/01 Beth/BillBunchChevrolet_082318.docx</a><br>"
      ],
      "text/plain": [
       "/Users/michaelp/Code/WellSaidLabs/_data/01 Beth/BillBunchChevrolet_082318.docx"
      ]
     },
     "metadata": {},
     "output_type": "display_data"
    },
    {
     "data": {
      "text/markdown": [
       "Skipped Paragraph: \"PAGE\""
      ],
      "text/plain": [
       "<IPython.core.display.Markdown object>"
      ]
     },
     "metadata": {},
     "output_type": "display_data"
    },
    {
     "data": {
      "text/markdown": [
       "--------------------------------------------------"
      ],
      "text/plain": [
       "<IPython.core.display.Markdown object>"
      ]
     },
     "metadata": {},
     "output_type": "display_data"
    },
    {
     "data": {
      "text/html": [
       "<a href='../../_data/01 Beth/BillBunchChevrolet_082815.docx' target='_blank'>../../_data/01 Beth/BillBunchChevrolet_082815.docx</a><br>"
      ],
      "text/plain": [
       "/Users/michaelp/Code/WellSaidLabs/_data/01 Beth/BillBunchChevrolet_082815.docx"
      ]
     },
     "metadata": {},
     "output_type": "display_data"
    },
    {
     "data": {
      "text/markdown": [
       "Skipped Paragraph: \"PAGE\""
      ],
      "text/plain": [
       "<IPython.core.display.Markdown object>"
      ]
     },
     "metadata": {},
     "output_type": "display_data"
    },
    {
     "data": {
      "text/markdown": [
       "--------------------------------------------------"
      ],
      "text/plain": [
       "<IPython.core.display.Markdown object>"
      ]
     },
     "metadata": {},
     "output_type": "display_data"
    },
    {
     "data": {
      "text/html": [
       "<a href='../../_data/01 Beth/BlackGoldPhysicalTherapy_051016.docx' target='_blank'>../../_data/01 Beth/BlackGoldPhysicalTherapy_051016.docx</a><br>"
      ],
      "text/plain": [
       "/Users/michaelp/Code/WellSaidLabs/_data/01 Beth/BlackGoldPhysicalTherapy_051016.docx"
      ]
     },
     "metadata": {},
     "output_type": "display_data"
    },
    {
     "data": {
      "text/markdown": [
       "--------------------------------------------------"
      ],
      "text/plain": [
       "<IPython.core.display.Markdown object>"
      ]
     },
     "metadata": {},
     "output_type": "display_data"
    },
    {
     "data": {
      "text/html": [
       "<a href='../../_data/01 Beth/BlackGoldPhysicalTherapy_IVR Propmts_051016.docx' target='_blank'>../../_data/01 Beth/BlackGoldPhysicalTherapy_IVR Propmts_051016.docx</a><br>"
      ],
      "text/plain": [
       "/Users/michaelp/Code/WellSaidLabs/_data/01 Beth/BlackGoldPhysicalTherapy_IVR Propmts_051016.docx"
      ]
     },
     "metadata": {},
     "output_type": "display_data"
    },
    {
     "data": {
      "text/markdown": [
       "Short Content: \"Thank you for calling BlackGold Physical Therapy Clinic.\""
      ],
      "text/plain": [
       "<IPython.core.display.Markdown object>"
      ]
     },
     "metadata": {},
     "output_type": "display_data"
    },
    {
     "data": {
      "text/markdown": [
       "Short Content: \"To book an appointment or to make changes to your appointment, Press 1.\""
      ],
      "text/plain": [
       "<IPython.core.display.Markdown object>"
      ]
     },
     "metadata": {},
     "output_type": "display_data"
    },
    {
     "data": {
      "text/markdown": [
       "Short Content: \"For our address, directions and hours of operation, Press 2\""
      ],
      "text/plain": [
       "<IPython.core.display.Markdown object>"
      ]
     },
     "metadata": {},
     "output_type": "display_data"
    },
    {
     "data": {
      "text/markdown": [
       "Short Content: \"To reach one of our clinical Staff, Press 3\""
      ],
      "text/plain": [
       "<IPython.core.display.Markdown object>"
      ]
     },
     "metadata": {},
     "output_type": "display_data"
    },
    {
     "data": {
      "text/markdown": [
       "Short Content: \"OR simply stay on the line and one of our representatives will assist you\""
      ],
      "text/plain": [
       "<IPython.core.display.Markdown object>"
      ]
     },
     "metadata": {},
     "output_type": "display_data"
    },
    {
     "data": {
      "text/markdown": [
       "Short Content: \"At any time, you may press star to be returned to the main menu\""
      ],
      "text/plain": [
       "<IPython.core.display.Markdown object>"
      ]
     },
     "metadata": {},
     "output_type": "display_data"
    },
    {
     "data": {
      "text/markdown": [
       "Short Content: \"Thank you for calling BlackGold Physical Therapy Clinic.\""
      ],
      "text/plain": [
       "<IPython.core.display.Markdown object>"
      ]
     },
     "metadata": {},
     "output_type": "display_data"
    },
    {
     "data": {
      "text/markdown": [
       "Short Content: \"To book an appointment or to make changes to your appointments, Press 1.\""
      ],
      "text/plain": [
       "<IPython.core.display.Markdown object>"
      ]
     },
     "metadata": {},
     "output_type": "display_data"
    },
    {
     "data": {
      "text/markdown": [
       "Short Content: \"For our address, directions and hours of operation, Press 2\""
      ],
      "text/plain": [
       "<IPython.core.display.Markdown object>"
      ]
     },
     "metadata": {},
     "output_type": "display_data"
    },
    {
     "data": {
      "text/markdown": [
       "Short Content: \"For all insurance and billing related questions, Press 3\""
      ],
      "text/plain": [
       "<IPython.core.display.Markdown object>"
      ]
     },
     "metadata": {},
     "output_type": "display_data"
    },
    {
     "data": {
      "text/markdown": [
       "Short Content: \"Thank you for calling Monarch Physiotherapy Clinic.\""
      ],
      "text/plain": [
       "<IPython.core.display.Markdown object>"
      ]
     },
     "metadata": {},
     "output_type": "display_data"
    },
    {
     "data": {
      "text/markdown": [
       "Short Content: \"To book an appointment or to make changes to your appointments, Press 1.\""
      ],
      "text/plain": [
       "<IPython.core.display.Markdown object>"
      ]
     },
     "metadata": {},
     "output_type": "display_data"
    },
    {
     "data": {
      "text/markdown": [
       "Short Content: \"For our address, directions and hours of operation, Press 2\""
      ],
      "text/plain": [
       "<IPython.core.display.Markdown object>"
      ]
     },
     "metadata": {},
     "output_type": "display_data"
    },
    {
     "data": {
      "text/markdown": [
       "Short Content: \"For all insurance and billing related questions, Press 3\""
      ],
      "text/plain": [
       "<IPython.core.display.Markdown object>"
      ]
     },
     "metadata": {},
     "output_type": "display_data"
    },
    {
     "data": {
      "text/markdown": [
       "Short Content: \"OR simply stay on the line and one of our representatives will assist you\""
      ],
      "text/plain": [
       "<IPython.core.display.Markdown object>"
      ]
     },
     "metadata": {},
     "output_type": "display_data"
    },
    {
     "data": {
      "text/markdown": [
       "Short Content: \"will assist you.\""
      ],
      "text/plain": [
       "<IPython.core.display.Markdown object>"
      ]
     },
     "metadata": {},
     "output_type": "display_data"
    },
    {
     "data": {
      "text/markdown": [
       "Short Content: \"At any time you may press star to be returned to the main menu\""
      ],
      "text/plain": [
       "<IPython.core.display.Markdown object>"
      ]
     },
     "metadata": {},
     "output_type": "display_data"
    },
    {
     "data": {
      "text/markdown": [
       "Short Content: \"Kindly Press 0 now if this is a billing or appointment related questions\""
      ],
      "text/plain": [
       "<IPython.core.display.Markdown object>"
      ]
     },
     "metadata": {},
     "output_type": "display_data"
    },
    {
     "data": {
      "text/markdown": [
       "Short Content: \"For Funsho, Press 1\""
      ],
      "text/plain": [
       "<IPython.core.display.Markdown object>"
      ]
     },
     "metadata": {},
     "output_type": "display_data"
    },
    {
     "data": {
      "text/markdown": [
       "Short Content: \"For Physiotherapist, Press 2\""
      ],
      "text/plain": [
       "<IPython.core.display.Markdown object>"
      ]
     },
     "metadata": {},
     "output_type": "display_data"
    },
    {
     "data": {
      "text/markdown": [
       "Short Content: \"For Massage Therapist, Press 3\""
      ],
      "text/plain": [
       "<IPython.core.display.Markdown object>"
      ]
     },
     "metadata": {},
     "output_type": "display_data"
    },
    {
     "data": {
      "text/markdown": [
       "Short Content: \"For the Chiropractor, Press 4\""
      ],
      "text/plain": [
       "<IPython.core.display.Markdown object>"
      ]
     },
     "metadata": {},
     "output_type": "display_data"
    },
    {
     "data": {
      "text/markdown": [
       "Short Content: \"For Bayo, Press 1\""
      ],
      "text/plain": [
       "<IPython.core.display.Markdown object>"
      ]
     },
     "metadata": {},
     "output_type": "display_data"
    },
    {
     "data": {
      "text/markdown": [
       "Short Content: \"For Physiotherapist, Press 2\""
      ],
      "text/plain": [
       "<IPython.core.display.Markdown object>"
      ]
     },
     "metadata": {},
     "output_type": "display_data"
    },
    {
     "data": {
      "text/markdown": [
       "Short Content: \"For Massage Therapist, Press 3\""
      ],
      "text/plain": [
       "<IPython.core.display.Markdown object>"
      ]
     },
     "metadata": {},
     "output_type": "display_data"
    },
    {
     "data": {
      "text/markdown": [
       "Short Content: \"For Chiropractor, Press 4\""
      ],
      "text/plain": [
       "<IPython.core.display.Markdown object>"
      ]
     },
     "metadata": {},
     "output_type": "display_data"
    },
    {
     "data": {
      "text/markdown": [
       "Short Content: \"For our address, directions and regular hours of operation, Press 2,\""
      ],
      "text/plain": [
       "<IPython.core.display.Markdown object>"
      ]
     },
     "metadata": {},
     "output_type": "display_data"
    },
    {
     "data": {
      "text/markdown": [
       "Short Content: \"To reach one of our clinical Staff Press 3\""
      ],
      "text/plain": [
       "<IPython.core.display.Markdown object>"
      ]
     },
     "metadata": {},
     "output_type": "display_data"
    },
    {
     "data": {
      "text/markdown": [
       "Short Content: \"OR simply stay on the line and one of our representatives will assist you.\""
      ],
      "text/plain": [
       "<IPython.core.display.Markdown object>"
      ]
     },
     "metadata": {},
     "output_type": "display_data"
    },
    {
     "data": {
      "text/markdown": [
       "Short Content: \"To reach Funsho Press 1\""
      ],
      "text/plain": [
       "<IPython.core.display.Markdown object>"
      ]
     },
     "metadata": {},
     "output_type": "display_data"
    },
    {
     "data": {
      "text/markdown": [
       "Short Content: \"To reach Funsho at an alternate number Press 2\""
      ],
      "text/plain": [
       "<IPython.core.display.Markdown object>"
      ]
     },
     "metadata": {},
     "output_type": "display_data"
    },
    {
     "data": {
      "text/markdown": [
       "Short Content: \"To reach Bayo Press 1\""
      ],
      "text/plain": [
       "<IPython.core.display.Markdown object>"
      ]
     },
     "metadata": {},
     "output_type": "display_data"
    },
    {
     "data": {
      "text/markdown": [
       "Short Content: \"To reach Bayo at an alternate number Press 2\""
      ],
      "text/plain": [
       "<IPython.core.display.Markdown object>"
      ]
     },
     "metadata": {},
     "output_type": "display_data"
    },
    {
     "data": {
      "text/markdown": [
       "--------------------------------------------------"
      ],
      "text/plain": [
       "<IPython.core.display.Markdown object>"
      ]
     },
     "metadata": {},
     "output_type": "display_data"
    },
    {
     "data": {
      "text/html": [
       "<a href='../../_data/01 Beth/BlinkEyecareAndEyewear_080717.docx' target='_blank'>../../_data/01 Beth/BlinkEyecareAndEyewear_080717.docx</a><br>"
      ],
      "text/plain": [
       "/Users/michaelp/Code/WellSaidLabs/_data/01 Beth/BlinkEyecareAndEyewear_080717.docx"
      ]
     },
     "metadata": {},
     "output_type": "display_data"
    },
    {
     "data": {
      "text/markdown": [
       "Skipped Paragraph: \"PAGE\""
      ],
      "text/plain": [
       "<IPython.core.display.Markdown object>"
      ]
     },
     "metadata": {},
     "output_type": "display_data"
    },
    {
     "data": {
      "text/markdown": [
       "--------------------------------------------------"
      ],
      "text/plain": [
       "<IPython.core.display.Markdown object>"
      ]
     },
     "metadata": {},
     "output_type": "display_data"
    },
    {
     "data": {
      "text/html": [
       "<a href='../../_data/01 Beth/BrowObsessionByAnarkali_031616.docx' target='_blank'>../../_data/01 Beth/BrowObsessionByAnarkali_031616.docx</a><br>"
      ],
      "text/plain": [
       "/Users/michaelp/Code/WellSaidLabs/_data/01 Beth/BrowObsessionByAnarkali_031616.docx"
      ]
     },
     "metadata": {},
     "output_type": "display_data"
    },
    {
     "data": {
      "text/markdown": [
       "--------------------------------------------------"
      ],
      "text/plain": [
       "<IPython.core.display.Markdown object>"
      ]
     },
     "metadata": {},
     "output_type": "display_data"
    },
    {
     "data": {
      "text/html": [
       "<a href='../../_data/01 Beth/BudgetRepairAndtransmission_091217.docx' target='_blank'>../../_data/01 Beth/BudgetRepairAndtransmission_091217.docx</a><br>"
      ],
      "text/plain": [
       "/Users/michaelp/Code/WellSaidLabs/_data/01 Beth/BudgetRepairAndtransmission_091217.docx"
      ]
     },
     "metadata": {},
     "output_type": "display_data"
    },
    {
     "data": {
      "text/markdown": [
       "Skipped Paragraph: \"PAGE\""
      ],
      "text/plain": [
       "<IPython.core.display.Markdown object>"
      ]
     },
     "metadata": {},
     "output_type": "display_data"
    },
    {
     "data": {
      "text/markdown": [
       "--------------------------------------------------"
      ],
      "text/plain": [
       "<IPython.core.display.Markdown object>"
      ]
     },
     "metadata": {},
     "output_type": "display_data"
    },
    {
     "data": {
      "text/html": [
       "<a href='../../_data/01 Beth/BurlingtonEmergencyAndVetServices_111417.docx' target='_blank'>../../_data/01 Beth/BurlingtonEmergencyAndVetServices_111417.docx</a><br>"
      ],
      "text/plain": [
       "/Users/michaelp/Code/WellSaidLabs/_data/01 Beth/BurlingtonEmergencyAndVetServices_111417.docx"
      ]
     },
     "metadata": {},
     "output_type": "display_data"
    },
    {
     "data": {
      "text/markdown": [
       "Whited Out Text: \"treatment that actually stimulates the body to heal from with\""
      ],
      "text/plain": [
       "<IPython.core.display.Markdown object>"
      ]
     },
     "metadata": {},
     "output_type": "display_data"
    },
    {
     "data": {
      "text/markdown": [
       "--------------------------------------------------"
      ],
      "text/plain": [
       "<IPython.core.display.Markdown object>"
      ]
     },
     "metadata": {},
     "output_type": "display_data"
    },
    {
     "data": {
      "text/html": [
       "<a href='../../_data/01 Beth/BurlingtonEmergencyVet_020619.docx' target='_blank'>../../_data/01 Beth/BurlingtonEmergencyVet_020619.docx</a><br>"
      ],
      "text/plain": [
       "/Users/michaelp/Code/WellSaidLabs/_data/01 Beth/BurlingtonEmergencyVet_020619.docx"
      ]
     },
     "metadata": {},
     "output_type": "display_data"
    },
    {
     "data": {
      "text/markdown": [
       "Whited Out Text: \"to heal from with\""
      ],
      "text/plain": [
       "<IPython.core.display.Markdown object>"
      ]
     },
     "metadata": {},
     "output_type": "display_data"
    },
    {
     "data": {
      "text/markdown": [
       "--------------------------------------------------"
      ],
      "text/plain": [
       "<IPython.core.display.Markdown object>"
      ]
     },
     "metadata": {},
     "output_type": "display_data"
    },
    {
     "data": {
      "text/html": [
       "<a href='../../_data/01 Beth/CannonsAutomotive_021517.docx' target='_blank'>../../_data/01 Beth/CannonsAutomotive_021517.docx</a><br>"
      ],
      "text/plain": [
       "/Users/michaelp/Code/WellSaidLabs/_data/01 Beth/CannonsAutomotive_021517.docx"
      ]
     },
     "metadata": {},
     "output_type": "display_data"
    },
    {
     "data": {
      "text/markdown": [
       "Skipped Paragraph: \"PAGE\""
      ],
      "text/plain": [
       "<IPython.core.display.Markdown object>"
      ]
     },
     "metadata": {},
     "output_type": "display_data"
    },
    {
     "data": {
      "text/markdown": [
       "--------------------------------------------------"
      ],
      "text/plain": [
       "<IPython.core.display.Markdown object>"
      ]
     },
     "metadata": {},
     "output_type": "display_data"
    },
    {
     "data": {
      "text/html": [
       "<a href='../../_data/01 Beth/CantonisPizza_080217.docx' target='_blank'>../../_data/01 Beth/CantonisPizza_080217.docx</a><br>"
      ],
      "text/plain": [
       "/Users/michaelp/Code/WellSaidLabs/_data/01 Beth/CantonisPizza_080217.docx"
      ]
     },
     "metadata": {},
     "output_type": "display_data"
    },
    {
     "data": {
      "text/markdown": [
       "Skipped Paragraph: \"PAGE\""
      ],
      "text/plain": [
       "<IPython.core.display.Markdown object>"
      ]
     },
     "metadata": {},
     "output_type": "display_data"
    },
    {
     "data": {
      "text/markdown": [
       "--------------------------------------------------"
      ],
      "text/plain": [
       "<IPython.core.display.Markdown object>"
      ]
     },
     "metadata": {},
     "output_type": "display_data"
    },
    {
     "data": {
      "text/html": [
       "<a href='../../_data/01 Beth/CentraSouthsideCommunityHosp_010517.docx' target='_blank'>../../_data/01 Beth/CentraSouthsideCommunityHosp_010517.docx</a><br>"
      ],
      "text/plain": [
       "/Users/michaelp/Code/WellSaidLabs/_data/01 Beth/CentraSouthsideCommunityHosp_010517.docx"
      ]
     },
     "metadata": {},
     "output_type": "display_data"
    },
    {
     "data": {
      "text/markdown": [
       "Skipped Paragraph: \"PAGE\""
      ],
      "text/plain": [
       "<IPython.core.display.Markdown object>"
      ]
     },
     "metadata": {},
     "output_type": "display_data"
    },
    {
     "data": {
      "text/markdown": [
       "--------------------------------------------------"
      ],
      "text/plain": [
       "<IPython.core.display.Markdown object>"
      ]
     },
     "metadata": {},
     "output_type": "display_data"
    },
    {
     "data": {
      "text/html": [
       "<a href='../../_data/01 Beth/CentraSouthsideCommunityHosp_011315.docx' target='_blank'>../../_data/01 Beth/CentraSouthsideCommunityHosp_011315.docx</a><br>"
      ],
      "text/plain": [
       "/Users/michaelp/Code/WellSaidLabs/_data/01 Beth/CentraSouthsideCommunityHosp_011315.docx"
      ]
     },
     "metadata": {},
     "output_type": "display_data"
    },
    {
     "data": {
      "text/markdown": [
       "Skipped Paragraph: \"PAGE\""
      ],
      "text/plain": [
       "<IPython.core.display.Markdown object>"
      ]
     },
     "metadata": {},
     "output_type": "display_data"
    },
    {
     "data": {
      "text/markdown": [
       "--------------------------------------------------"
      ],
      "text/plain": [
       "<IPython.core.display.Markdown object>"
      ]
     },
     "metadata": {},
     "output_type": "display_data"
    },
    {
     "data": {
      "text/html": [
       "<a href='../../_data/01 Beth/CentraSouthsideCommunityHospital_012319.docx' target='_blank'>../../_data/01 Beth/CentraSouthsideCommunityHospital_012319.docx</a><br>"
      ],
      "text/plain": [
       "/Users/michaelp/Code/WellSaidLabs/_data/01 Beth/CentraSouthsideCommunityHospital_012319.docx"
      ]
     },
     "metadata": {},
     "output_type": "display_data"
    },
    {
     "data": {
      "text/markdown": [
       "Skipped Paragraph: \"PAGE\""
      ],
      "text/plain": [
       "<IPython.core.display.Markdown object>"
      ]
     },
     "metadata": {},
     "output_type": "display_data"
    },
    {
     "data": {
      "text/markdown": [
       "--------------------------------------------------"
      ],
      "text/plain": [
       "<IPython.core.display.Markdown object>"
      ]
     },
     "metadata": {},
     "output_type": "display_data"
    },
    {
     "data": {
      "text/html": [
       "<a href='../../_data/01 Beth/ChamplainSmileSolutions_011519.docx' target='_blank'>../../_data/01 Beth/ChamplainSmileSolutions_011519.docx</a><br>"
      ],
      "text/plain": [
       "/Users/michaelp/Code/WellSaidLabs/_data/01 Beth/ChamplainSmileSolutions_011519.docx"
      ]
     },
     "metadata": {},
     "output_type": "display_data"
    },
    {
     "data": {
      "text/markdown": [
       "Skipped Paragraph: \"PAGE\""
      ],
      "text/plain": [
       "<IPython.core.display.Markdown object>"
      ]
     },
     "metadata": {},
     "output_type": "display_data"
    },
    {
     "data": {
      "text/markdown": [
       "--------------------------------------------------"
      ],
      "text/plain": [
       "<IPython.core.display.Markdown object>"
      ]
     },
     "metadata": {},
     "output_type": "display_data"
    },
    {
     "data": {
      "text/html": [
       "<a href='../../_data/01 Beth/ChamplainSmileSolutions_072817.docx' target='_blank'>../../_data/01 Beth/ChamplainSmileSolutions_072817.docx</a><br>"
      ],
      "text/plain": [
       "/Users/michaelp/Code/WellSaidLabs/_data/01 Beth/ChamplainSmileSolutions_072817.docx"
      ]
     },
     "metadata": {},
     "output_type": "display_data"
    },
    {
     "data": {
      "text/markdown": [
       "Skipped Paragraph: \".\""
      ],
      "text/plain": [
       "<IPython.core.display.Markdown object>"
      ]
     },
     "metadata": {},
     "output_type": "display_data"
    },
    {
     "data": {
      "text/markdown": [
       "Skipped Paragraph: \"PAGE\""
      ],
      "text/plain": [
       "<IPython.core.display.Markdown object>"
      ]
     },
     "metadata": {},
     "output_type": "display_data"
    },
    {
     "data": {
      "text/markdown": [
       "--------------------------------------------------"
      ],
      "text/plain": [
       "<IPython.core.display.Markdown object>"
      ]
     },
     "metadata": {},
     "output_type": "display_data"
    },
    {
     "data": {
      "text/html": [
       "<a href='../../_data/01 Beth/ColdBeerAndCheeseburgers_101317.docx' target='_blank'>../../_data/01 Beth/ColdBeerAndCheeseburgers_101317.docx</a><br>"
      ],
      "text/plain": [
       "/Users/michaelp/Code/WellSaidLabs/_data/01 Beth/ColdBeerAndCheeseburgers_101317.docx"
      ]
     },
     "metadata": {},
     "output_type": "display_data"
    },
    {
     "data": {
      "text/markdown": [
       "Skipped Paragraph: \"PAGE\""
      ],
      "text/plain": [
       "<IPython.core.display.Markdown object>"
      ]
     },
     "metadata": {},
     "output_type": "display_data"
    },
    {
     "data": {
      "text/markdown": [
       "--------------------------------------------------"
      ],
      "text/plain": [
       "<IPython.core.display.Markdown object>"
      ]
     },
     "metadata": {},
     "output_type": "display_data"
    },
    {
     "data": {
      "text/html": [
       "<a href='../../_data/01 Beth/ColdComfortHVAC_061915.docx' target='_blank'>../../_data/01 Beth/ColdComfortHVAC_061915.docx</a><br>"
      ],
      "text/plain": [
       "/Users/michaelp/Code/WellSaidLabs/_data/01 Beth/ColdComfortHVAC_061915.docx"
      ]
     },
     "metadata": {},
     "output_type": "display_data"
    },
    {
     "data": {
      "text/markdown": [
       "Skipped Paragraph: \"PAGE\""
      ],
      "text/plain": [
       "<IPython.core.display.Markdown object>"
      ]
     },
     "metadata": {},
     "output_type": "display_data"
    },
    {
     "data": {
      "text/markdown": [
       "--------------------------------------------------"
      ],
      "text/plain": [
       "<IPython.core.display.Markdown object>"
      ]
     },
     "metadata": {},
     "output_type": "display_data"
    },
    {
     "data": {
      "text/html": [
       "<a href='../../_data/01 Beth/ColemanTaylorTransmission_121216.docx' target='_blank'>../../_data/01 Beth/ColemanTaylorTransmission_121216.docx</a><br>"
      ],
      "text/plain": [
       "/Users/michaelp/Code/WellSaidLabs/_data/01 Beth/ColemanTaylorTransmission_121216.docx"
      ]
     },
     "metadata": {},
     "output_type": "display_data"
    },
    {
     "data": {
      "text/markdown": [
       "Skipped Paragraph: \"PAGE\""
      ],
      "text/plain": [
       "<IPython.core.display.Markdown object>"
      ]
     },
     "metadata": {},
     "output_type": "display_data"
    },
    {
     "data": {
      "text/markdown": [
       "--------------------------------------------------"
      ],
      "text/plain": [
       "<IPython.core.display.Markdown object>"
      ]
     },
     "metadata": {},
     "output_type": "display_data"
    },
    {
     "data": {
      "text/html": [
       "<a href='../../_data/01 Beth/CommonwealthEyeSurgery_123016.docx' target='_blank'>../../_data/01 Beth/CommonwealthEyeSurgery_123016.docx</a><br>"
      ],
      "text/plain": [
       "/Users/michaelp/Code/WellSaidLabs/_data/01 Beth/CommonwealthEyeSurgery_123016.docx"
      ]
     },
     "metadata": {},
     "output_type": "display_data"
    },
    {
     "data": {
      "text/markdown": [
       "Skipped Paragraph: \"PAGE\""
      ],
      "text/plain": [
       "<IPython.core.display.Markdown object>"
      ]
     },
     "metadata": {},
     "output_type": "display_data"
    },
    {
     "data": {
      "text/markdown": [
       "--------------------------------------------------"
      ],
      "text/plain": [
       "<IPython.core.display.Markdown object>"
      ]
     },
     "metadata": {},
     "output_type": "display_data"
    },
    {
     "data": {
      "text/html": [
       "<a href='../../_data/01 Beth/CommonwealtheyeSurgery_121018.docx' target='_blank'>../../_data/01 Beth/CommonwealtheyeSurgery_121018.docx</a><br>"
      ],
      "text/plain": [
       "/Users/michaelp/Code/WellSaidLabs/_data/01 Beth/CommonwealtheyeSurgery_121018.docx"
      ]
     },
     "metadata": {},
     "output_type": "display_data"
    },
    {
     "data": {
      "text/markdown": [
       "Short Content: \"Many of our LASIK patients use their refund for “All-Laser” LASIK,\""
      ],
      "text/plain": [
       "<IPython.core.display.Markdown object>"
      ]
     },
     "metadata": {},
     "output_type": "display_data"
    },
    {
     "data": {
      "text/markdown": [
       "Skipped Paragraph: \"PAGE\""
      ],
      "text/plain": [
       "<IPython.core.display.Markdown object>"
      ]
     },
     "metadata": {},
     "output_type": "display_data"
    },
    {
     "data": {
      "text/markdown": [
       "--------------------------------------------------"
      ],
      "text/plain": [
       "<IPython.core.display.Markdown object>"
      ]
     },
     "metadata": {},
     "output_type": "display_data"
    },
    {
     "data": {
      "text/html": [
       "<a href='../../_data/01 Beth/ConciergeVeterinaryHosp_120117.docx' target='_blank'>../../_data/01 Beth/ConciergeVeterinaryHosp_120117.docx</a><br>"
      ],
      "text/plain": [
       "/Users/michaelp/Code/WellSaidLabs/_data/01 Beth/ConciergeVeterinaryHosp_120117.docx"
      ]
     },
     "metadata": {},
     "output_type": "display_data"
    },
    {
     "data": {
      "text/markdown": [
       "Skipped Paragraph: \"+++++++++++++++++++++++++++++++++++++++++++++++++++++++++++++++++++++++\""
      ],
      "text/plain": [
       "<IPython.core.display.Markdown object>"
      ]
     },
     "metadata": {},
     "output_type": "display_data"
    },
    {
     "data": {
      "text/markdown": [
       "Skipped Paragraph: \"PAGE\""
      ],
      "text/plain": [
       "<IPython.core.display.Markdown object>"
      ]
     },
     "metadata": {},
     "output_type": "display_data"
    },
    {
     "data": {
      "text/markdown": [
       "--------------------------------------------------"
      ],
      "text/plain": [
       "<IPython.core.display.Markdown object>"
      ]
     },
     "metadata": {},
     "output_type": "display_data"
    },
    {
     "data": {
      "text/html": [
       "<a href='../../_data/01 Beth/ConciergeVeterinaryHospital_062518.docx' target='_blank'>../../_data/01 Beth/ConciergeVeterinaryHospital_062518.docx</a><br>"
      ],
      "text/plain": [
       "/Users/michaelp/Code/WellSaidLabs/_data/01 Beth/ConciergeVeterinaryHospital_062518.docx"
      ]
     },
     "metadata": {},
     "output_type": "display_data"
    },
    {
     "data": {
      "text/markdown": [
       "Skipped Paragraph: \"PAGE\""
      ],
      "text/plain": [
       "<IPython.core.display.Markdown object>"
      ]
     },
     "metadata": {},
     "output_type": "display_data"
    },
    {
     "data": {
      "text/markdown": [
       "--------------------------------------------------"
      ],
      "text/plain": [
       "<IPython.core.display.Markdown object>"
      ]
     },
     "metadata": {},
     "output_type": "display_data"
    },
    {
     "data": {
      "text/html": [
       "<a href='../../_data/01 Beth/CopperfieldDentistry_082416.docx' target='_blank'>../../_data/01 Beth/CopperfieldDentistry_082416.docx</a><br>"
      ],
      "text/plain": [
       "/Users/michaelp/Code/WellSaidLabs/_data/01 Beth/CopperfieldDentistry_082416.docx"
      ]
     },
     "metadata": {},
     "output_type": "display_data"
    },
    {
     "data": {
      "text/markdown": [
       "Skipped Paragraph: \"PAGE\""
      ],
      "text/plain": [
       "<IPython.core.display.Markdown object>"
      ]
     },
     "metadata": {},
     "output_type": "display_data"
    },
    {
     "data": {
      "text/markdown": [
       "--------------------------------------------------"
      ],
      "text/plain": [
       "<IPython.core.display.Markdown object>"
      ]
     },
     "metadata": {},
     "output_type": "display_data"
    },
    {
     "data": {
      "text/html": [
       "<a href='../../_data/01 Beth/DogwoodAnimalHospital_040918.docx' target='_blank'>../../_data/01 Beth/DogwoodAnimalHospital_040918.docx</a><br>"
      ],
      "text/plain": [
       "/Users/michaelp/Code/WellSaidLabs/_data/01 Beth/DogwoodAnimalHospital_040918.docx"
      ]
     },
     "metadata": {},
     "output_type": "display_data"
    },
    {
     "data": {
      "text/markdown": [
       "Skipped Paragraph: \"PAGE\""
      ],
      "text/plain": [
       "<IPython.core.display.Markdown object>"
      ]
     },
     "metadata": {},
     "output_type": "display_data"
    },
    {
     "data": {
      "text/markdown": [
       "--------------------------------------------------"
      ],
      "text/plain": [
       "<IPython.core.display.Markdown object>"
      ]
     },
     "metadata": {},
     "output_type": "display_data"
    },
    {
     "data": {
      "text/html": [
       "<a href='../../_data/01 Beth/DrAndertonFamilyDental_122016.docx' target='_blank'>../../_data/01 Beth/DrAndertonFamilyDental_122016.docx</a><br>"
      ],
      "text/plain": [
       "/Users/michaelp/Code/WellSaidLabs/_data/01 Beth/DrAndertonFamilyDental_122016.docx"
      ]
     },
     "metadata": {},
     "output_type": "display_data"
    },
    {
     "data": {
      "text/markdown": [
       "--------------------------------------------------"
      ],
      "text/plain": [
       "<IPython.core.display.Markdown object>"
      ]
     },
     "metadata": {},
     "output_type": "display_data"
    },
    {
     "data": {
      "text/html": [
       "<a href='../../_data/01 Beth/DrBruceFreund_052418.docx' target='_blank'>../../_data/01 Beth/DrBruceFreund_052418.docx</a><br>"
      ],
      "text/plain": [
       "/Users/michaelp/Code/WellSaidLabs/_data/01 Beth/DrBruceFreund_052418.docx"
      ]
     },
     "metadata": {},
     "output_type": "display_data"
    },
    {
     "data": {
      "text/markdown": [
       "Skipped Paragraph: \"PAGE\""
      ],
      "text/plain": [
       "<IPython.core.display.Markdown object>"
      ]
     },
     "metadata": {},
     "output_type": "display_data"
    },
    {
     "data": {
      "text/markdown": [
       "--------------------------------------------------"
      ],
      "text/plain": [
       "<IPython.core.display.Markdown object>"
      ]
     },
     "metadata": {},
     "output_type": "display_data"
    },
    {
     "data": {
      "text/html": [
       "<a href='../../_data/01 Beth/DrDavidPeck_080618.docx' target='_blank'>../../_data/01 Beth/DrDavidPeck_080618.docx</a><br>"
      ],
      "text/plain": [
       "/Users/michaelp/Code/WellSaidLabs/_data/01 Beth/DrDavidPeck_080618.docx"
      ]
     },
     "metadata": {},
     "output_type": "display_data"
    },
    {
     "data": {
      "text/markdown": [
       "--------------------------------------------------"
      ],
      "text/plain": [
       "<IPython.core.display.Markdown object>"
      ]
     },
     "metadata": {},
     "output_type": "display_data"
    },
    {
     "data": {
      "text/html": [
       "<a href='../../_data/01 Beth/DrJosephHLohner_050118.docx' target='_blank'>../../_data/01 Beth/DrJosephHLohner_050118.docx</a><br>"
      ],
      "text/plain": [
       "/Users/michaelp/Code/WellSaidLabs/_data/01 Beth/DrJosephHLohner_050118.docx"
      ]
     },
     "metadata": {},
     "output_type": "display_data"
    },
    {
     "data": {
      "text/markdown": [
       "Skipped Paragraph: \"PAGE\""
      ],
      "text/plain": [
       "<IPython.core.display.Markdown object>"
      ]
     },
     "metadata": {},
     "output_type": "display_data"
    },
    {
     "data": {
      "text/markdown": [
       "Skipped Paragraph: \"PAGE  1\""
      ],
      "text/plain": [
       "<IPython.core.display.Markdown object>"
      ]
     },
     "metadata": {},
     "output_type": "display_data"
    },
    {
     "data": {
      "text/markdown": [
       "Skipped Paragraph: \"telephoneonhold.com\t1-888-321-8477\""
      ],
      "text/plain": [
       "<IPython.core.display.Markdown object>"
      ]
     },
     "metadata": {},
     "output_type": "display_data"
    },
    {
     "data": {
      "text/markdown": [
       "--------------------------------------------------"
      ],
      "text/plain": [
       "<IPython.core.display.Markdown object>"
      ]
     },
     "metadata": {},
     "output_type": "display_data"
    },
    {
     "data": {
      "text/html": [
       "<a href='../../_data/01 Beth/DrMargretQuimby_112019.docx' target='_blank'>../../_data/01 Beth/DrMargretQuimby_112019.docx</a><br>"
      ],
      "text/plain": [
       "/Users/michaelp/Code/WellSaidLabs/_data/01 Beth/DrMargretQuimby_112019.docx"
      ]
     },
     "metadata": {},
     "output_type": "display_data"
    },
    {
     "data": {
      "text/markdown": [
       "Skipped Paragraph: \"PAGE\""
      ],
      "text/plain": [
       "<IPython.core.display.Markdown object>"
      ]
     },
     "metadata": {},
     "output_type": "display_data"
    },
    {
     "data": {
      "text/markdown": [
       "--------------------------------------------------"
      ],
      "text/plain": [
       "<IPython.core.display.Markdown object>"
      ]
     },
     "metadata": {},
     "output_type": "display_data"
    },
    {
     "data": {
      "text/html": [
       "<a href='../../_data/01 Beth/DrRonaldHowland_060518.docx' target='_blank'>../../_data/01 Beth/DrRonaldHowland_060518.docx</a><br>"
      ],
      "text/plain": [
       "/Users/michaelp/Code/WellSaidLabs/_data/01 Beth/DrRonaldHowland_060518.docx"
      ]
     },
     "metadata": {},
     "output_type": "display_data"
    },
    {
     "data": {
      "text/markdown": [
       "Skipped Paragraph: \"PAGE\""
      ],
      "text/plain": [
       "<IPython.core.display.Markdown object>"
      ]
     },
     "metadata": {},
     "output_type": "display_data"
    },
    {
     "data": {
      "text/markdown": [
       "--------------------------------------------------"
      ],
      "text/plain": [
       "<IPython.core.display.Markdown object>"
      ]
     },
     "metadata": {},
     "output_type": "display_data"
    },
    {
     "data": {
      "text/html": [
       "<a href='../../_data/01 Beth/DrStevenLevyDDS_081618.docx' target='_blank'>../../_data/01 Beth/DrStevenLevyDDS_081618.docx</a><br>"
      ],
      "text/plain": [
       "/Users/michaelp/Code/WellSaidLabs/_data/01 Beth/DrStevenLevyDDS_081618.docx"
      ]
     },
     "metadata": {},
     "output_type": "display_data"
    },
    {
     "data": {
      "text/markdown": [
       "Skipped Paragraph: \"PAGE\""
      ],
      "text/plain": [
       "<IPython.core.display.Markdown object>"
      ]
     },
     "metadata": {},
     "output_type": "display_data"
    },
    {
     "data": {
      "text/markdown": [
       "--------------------------------------------------"
      ],
      "text/plain": [
       "<IPython.core.display.Markdown object>"
      ]
     },
     "metadata": {},
     "output_type": "display_data"
    },
    {
     "data": {
      "text/html": [
       "<a href='../../_data/01 Beth/DrsVankerAndSaad_040618.docx' target='_blank'>../../_data/01 Beth/DrsVankerAndSaad_040618.docx</a><br>"
      ],
      "text/plain": [
       "/Users/michaelp/Code/WellSaidLabs/_data/01 Beth/DrsVankerAndSaad_040618.docx"
      ]
     },
     "metadata": {},
     "output_type": "display_data"
    },
    {
     "data": {
      "text/markdown": [
       "Skipped Paragraph: \"PAGE\""
      ],
      "text/plain": [
       "<IPython.core.display.Markdown object>"
      ]
     },
     "metadata": {},
     "output_type": "display_data"
    },
    {
     "data": {
      "text/markdown": [
       "--------------------------------------------------"
      ],
      "text/plain": [
       "<IPython.core.display.Markdown object>"
      ]
     },
     "metadata": {},
     "output_type": "display_data"
    },
    {
     "data": {
      "text/html": [
       "<a href='../../_data/01 Beth/EJEquipment_022718.docx' target='_blank'>../../_data/01 Beth/EJEquipment_022718.docx</a><br>"
      ],
      "text/plain": [
       "/Users/michaelp/Code/WellSaidLabs/_data/01 Beth/EJEquipment_022718.docx"
      ]
     },
     "metadata": {},
     "output_type": "display_data"
    },
    {
     "data": {
      "text/markdown": [
       "Skipped Paragraph: \"PAGE\""
      ],
      "text/plain": [
       "<IPython.core.display.Markdown object>"
      ]
     },
     "metadata": {},
     "output_type": "display_data"
    },
    {
     "data": {
      "text/markdown": [
       "--------------------------------------------------"
      ],
      "text/plain": [
       "<IPython.core.display.Markdown object>"
      ]
     },
     "metadata": {},
     "output_type": "display_data"
    },
    {
     "data": {
      "text/html": [
       "<a href='../../_data/01 Beth/EdibleArrangements_021119.docx' target='_blank'>../../_data/01 Beth/EdibleArrangements_021119.docx</a><br>"
      ],
      "text/plain": [
       "/Users/michaelp/Code/WellSaidLabs/_data/01 Beth/EdibleArrangements_021119.docx"
      ]
     },
     "metadata": {},
     "output_type": "display_data"
    },
    {
     "data": {
      "text/markdown": [
       "Skipped Paragraph: \"PAGE\""
      ],
      "text/plain": [
       "<IPython.core.display.Markdown object>"
      ]
     },
     "metadata": {},
     "output_type": "display_data"
    },
    {
     "data": {
      "text/markdown": [
       "--------------------------------------------------"
      ],
      "text/plain": [
       "<IPython.core.display.Markdown object>"
      ]
     },
     "metadata": {},
     "output_type": "display_data"
    },
    {
     "data": {
      "text/html": [
       "<a href='../../_data/01 Beth/EmeraldCityPizzeria_081018.docx' target='_blank'>../../_data/01 Beth/EmeraldCityPizzeria_081018.docx</a><br>"
      ],
      "text/plain": [
       "/Users/michaelp/Code/WellSaidLabs/_data/01 Beth/EmeraldCityPizzeria_081018.docx"
      ]
     },
     "metadata": {},
     "output_type": "display_data"
    },
    {
     "data": {
      "text/markdown": [
       "Skipped Paragraph: \"PAGE\""
      ],
      "text/plain": [
       "<IPython.core.display.Markdown object>"
      ]
     },
     "metadata": {},
     "output_type": "display_data"
    },
    {
     "data": {
      "text/markdown": [
       "--------------------------------------------------"
      ],
      "text/plain": [
       "<IPython.core.display.Markdown object>"
      ]
     },
     "metadata": {},
     "output_type": "display_data"
    },
    {
     "data": {
      "text/html": [
       "<a href='../../_data/01 Beth/EranFinancialServices_IVR_011419.docx' target='_blank'>../../_data/01 Beth/EranFinancialServices_IVR_011419.docx</a><br>"
      ],
      "text/plain": [
       "/Users/michaelp/Code/WellSaidLabs/_data/01 Beth/EranFinancialServices_IVR_011419.docx"
      ]
     },
     "metadata": {},
     "output_type": "display_data"
    },
    {
     "data": {
      "text/markdown": [
       "Short Content: \"For Spanish, please press the # button.\""
      ],
      "text/plain": [
       "<IPython.core.display.Markdown object>"
      ]
     },
     "metadata": {},
     "output_type": "display_data"
    },
    {
     "data": {
      "text/markdown": [
       "Short Content: \"For sales and customer service, please press one.\""
      ],
      "text/plain": [
       "<IPython.core.display.Markdown object>"
      ]
     },
     "metadata": {},
     "output_type": "display_data"
    },
    {
     "data": {
      "text/markdown": [
       "Short Content: \"For technical and installation support, please press two.\""
      ],
      "text/plain": [
       "<IPython.core.display.Markdown object>"
      ]
     },
     "metadata": {},
     "output_type": "display_data"
    },
    {
     "data": {
      "text/markdown": [
       "Short Content: \"For energy savings and DLC rebate support, please press four.\""
      ],
      "text/plain": [
       "<IPython.core.display.Markdown object>"
      ]
     },
     "metadata": {},
     "output_type": "display_data"
    },
    {
     "data": {
      "text/markdown": [
       "Short Content: \"For any other questions, please press five. (1-2 second pause)\""
      ],
      "text/plain": [
       "<IPython.core.display.Markdown object>"
      ]
     },
     "metadata": {},
     "output_type": "display_data"
    },
    {
     "data": {
      "text/markdown": [
       "Short Content: \"To repeat these menu options, please press nine.\""
      ],
      "text/plain": [
       "<IPython.core.display.Markdown object>"
      ]
     },
     "metadata": {},
     "output_type": "display_data"
    },
    {
     "data": {
      "text/markdown": [
       "Skipped Paragraph: \"+++++++++++++++++++++++++++++++++++++++++++++++++++++++++++++++++++++++\""
      ],
      "text/plain": [
       "<IPython.core.display.Markdown object>"
      ]
     },
     "metadata": {},
     "output_type": "display_data"
    },
    {
     "data": {
      "text/markdown": [
       "--------------------------------------------------"
      ],
      "text/plain": [
       "<IPython.core.display.Markdown object>"
      ]
     },
     "metadata": {},
     "output_type": "display_data"
    },
    {
     "data": {
      "text/html": [
       "<a href='../../_data/01 Beth/EranFinancialServices_OnHold_011419.docx' target='_blank'>../../_data/01 Beth/EranFinancialServices_OnHold_011419.docx</a><br>"
      ],
      "text/plain": [
       "/Users/michaelp/Code/WellSaidLabs/_data/01 Beth/EranFinancialServices_OnHold_011419.docx"
      ]
     },
     "metadata": {},
     "output_type": "display_data"
    },
    {
     "data": {
      "text/markdown": [
       "--------------------------------------------------"
      ],
      "text/plain": [
       "<IPython.core.display.Markdown object>"
      ]
     },
     "metadata": {},
     "output_type": "display_data"
    },
    {
     "data": {
      "text/html": [
       "<a href='../../_data/01 Beth/ErmaDeli_051618.docx' target='_blank'>../../_data/01 Beth/ErmaDeli_051618.docx</a><br>"
      ],
      "text/plain": [
       "/Users/michaelp/Code/WellSaidLabs/_data/01 Beth/ErmaDeli_051618.docx"
      ]
     },
     "metadata": {},
     "output_type": "display_data"
    },
    {
     "data": {
      "text/markdown": [
       "Skipped Paragraph: \"PAGE\""
      ],
      "text/plain": [
       "<IPython.core.display.Markdown object>"
      ]
     },
     "metadata": {},
     "output_type": "display_data"
    },
    {
     "data": {
      "text/markdown": [
       "--------------------------------------------------"
      ],
      "text/plain": [
       "<IPython.core.display.Markdown object>"
      ]
     },
     "metadata": {},
     "output_type": "display_data"
    },
    {
     "data": {
      "text/html": [
       "<a href='../../_data/01 Beth/FabulousFoodFineCatering_092818.docx' target='_blank'>../../_data/01 Beth/FabulousFoodFineCatering_092818.docx</a><br>"
      ],
      "text/plain": [
       "/Users/michaelp/Code/WellSaidLabs/_data/01 Beth/FabulousFoodFineCatering_092818.docx"
      ]
     },
     "metadata": {},
     "output_type": "display_data"
    },
    {
     "data": {
      "text/markdown": [
       "Short Content: \"You’re next!   One of our team members will be right with you.\""
      ],
      "text/plain": [
       "<IPython.core.display.Markdown object>"
      ]
     },
     "metadata": {},
     "output_type": "display_data"
    },
    {
     "data": {
      "text/markdown": [
       "Skipped Paragraph: \"PAGE\""
      ],
      "text/plain": [
       "<IPython.core.display.Markdown object>"
      ]
     },
     "metadata": {},
     "output_type": "display_data"
    },
    {
     "data": {
      "text/markdown": [
       "--------------------------------------------------"
      ],
      "text/plain": [
       "<IPython.core.display.Markdown object>"
      ]
     },
     "metadata": {},
     "output_type": "display_data"
    },
    {
     "data": {
      "text/html": [
       "<a href='../../_data/01 Beth/FayettevilleCleaningGroup_080818.docx' target='_blank'>../../_data/01 Beth/FayettevilleCleaningGroup_080818.docx</a><br>"
      ],
      "text/plain": [
       "/Users/michaelp/Code/WellSaidLabs/_data/01 Beth/FayettevilleCleaningGroup_080818.docx"
      ]
     },
     "metadata": {},
     "output_type": "display_data"
    },
    {
     "data": {
      "text/markdown": [
       "Skipped Paragraph: \"++++++++++++++++++++++++++++++++++++++++++++++++++++++++++++++++++++\""
      ],
      "text/plain": [
       "<IPython.core.display.Markdown object>"
      ]
     },
     "metadata": {},
     "output_type": "display_data"
    },
    {
     "data": {
      "text/markdown": [
       "Skipped Paragraph: \"PAGE\""
      ],
      "text/plain": [
       "<IPython.core.display.Markdown object>"
      ]
     },
     "metadata": {},
     "output_type": "display_data"
    },
    {
     "data": {
      "text/markdown": [
       "--------------------------------------------------"
      ],
      "text/plain": [
       "<IPython.core.display.Markdown object>"
      ]
     },
     "metadata": {},
     "output_type": "display_data"
    },
    {
     "data": {
      "text/html": [
       "<a href='../../_data/01 Beth/FlatrockFamilyDentistry_110918.docx' target='_blank'>../../_data/01 Beth/FlatrockFamilyDentistry_110918.docx</a><br>"
      ],
      "text/plain": [
       "/Users/michaelp/Code/WellSaidLabs/_data/01 Beth/FlatrockFamilyDentistry_110918.docx"
      ]
     },
     "metadata": {},
     "output_type": "display_data"
    },
    {
     "data": {
      "text/markdown": [
       "Skipped Paragraph: \".\""
      ],
      "text/plain": [
       "<IPython.core.display.Markdown object>"
      ]
     },
     "metadata": {},
     "output_type": "display_data"
    },
    {
     "data": {
      "text/markdown": [
       "Skipped Paragraph: \"PAGE\""
      ],
      "text/plain": [
       "<IPython.core.display.Markdown object>"
      ]
     },
     "metadata": {},
     "output_type": "display_data"
    },
    {
     "data": {
      "text/markdown": [
       "--------------------------------------------------"
      ],
      "text/plain": [
       "<IPython.core.display.Markdown object>"
      ]
     },
     "metadata": {},
     "output_type": "display_data"
    },
    {
     "data": {
      "text/html": [
       "<a href='../../_data/01 Beth/GMB_Avon39_011217 (1).docx' target='_blank'>../../_data/01 Beth/GMB_Avon39_011217 (1).docx</a><br>"
      ],
      "text/plain": [
       "/Users/michaelp/Code/WellSaidLabs/_data/01 Beth/GMB_Avon39_011217 (1).docx"
      ]
     },
     "metadata": {},
     "output_type": "display_data"
    },
    {
     "data": {
      "text/markdown": [
       "--------------------------------------------------"
      ],
      "text/plain": [
       "<IPython.core.display.Markdown object>"
      ]
     },
     "metadata": {},
     "output_type": "display_data"
    },
    {
     "data": {
      "text/html": [
       "<a href='../../_data/01 Beth/GMB_Mirbeau_010517 (1).docx' target='_blank'>../../_data/01 Beth/GMB_Mirbeau_010517 (1).docx</a><br>"
      ],
      "text/plain": [
       "/Users/michaelp/Code/WellSaidLabs/_data/01 Beth/GMB_Mirbeau_010517 (1).docx"
      ]
     },
     "metadata": {},
     "output_type": "display_data"
    },
    {
     "data": {
      "text/markdown": [
       "--------------------------------------------------"
      ],
      "text/plain": [
       "<IPython.core.display.Markdown object>"
      ]
     },
     "metadata": {},
     "output_type": "display_data"
    },
    {
     "data": {
      "text/html": [
       "<a href='../../_data/01 Beth/GMB_ShrinersHopital_110416.docx' target='_blank'>../../_data/01 Beth/GMB_ShrinersHopital_110416.docx</a><br>"
      ],
      "text/plain": [
       "/Users/michaelp/Code/WellSaidLabs/_data/01 Beth/GMB_ShrinersHopital_110416.docx"
      ]
     },
     "metadata": {},
     "output_type": "display_data"
    },
    {
     "data": {
      "text/markdown": [
       "--------------------------------------------------"
      ],
      "text/plain": [
       "<IPython.core.display.Markdown object>"
      ]
     },
     "metadata": {},
     "output_type": "display_data"
    },
    {
     "data": {
      "text/html": [
       "<a href='../../_data/01 Beth/GMB_TheYardbirds@TheCabot_091516 (1).docx' target='_blank'>../../_data/01 Beth/GMB_TheYardbirds@TheCabot_091516 (1).docx</a><br>"
      ],
      "text/plain": [
       "/Users/michaelp/Code/WellSaidLabs/_data/01 Beth/GMB_TheYardbirds@TheCabot_091516 (1).docx"
      ]
     },
     "metadata": {},
     "output_type": "display_data"
    },
    {
     "data": {
      "text/markdown": [
       "--------------------------------------------------"
      ],
      "text/plain": [
       "<IPython.core.display.Markdown object>"
      ]
     },
     "metadata": {},
     "output_type": "display_data"
    },
    {
     "data": {
      "text/html": [
       "<a href='../../_data/01 Beth/GMB_Venezia FIXED_091616 (1).docx' target='_blank'>../../_data/01 Beth/GMB_Venezia FIXED_091616 (1).docx</a><br>"
      ],
      "text/plain": [
       "/Users/michaelp/Code/WellSaidLabs/_data/01 Beth/GMB_Venezia FIXED_091616 (1).docx"
      ]
     },
     "metadata": {},
     "output_type": "display_data"
    },
    {
     "data": {
      "text/markdown": [
       "--------------------------------------------------"
      ],
      "text/plain": [
       "<IPython.core.display.Markdown object>"
      ]
     },
     "metadata": {},
     "output_type": "display_data"
    },
    {
     "data": {
      "text/html": [
       "<a href='../../_data/01 Beth/GastroenterologyAssocOfColumbus_041818.docx' target='_blank'>../../_data/01 Beth/GastroenterologyAssocOfColumbus_041818.docx</a><br>"
      ],
      "text/plain": [
       "/Users/michaelp/Code/WellSaidLabs/_data/01 Beth/GastroenterologyAssocOfColumbus_041818.docx"
      ]
     },
     "metadata": {},
     "output_type": "display_data"
    },
    {
     "data": {
      "text/markdown": [
       "Skipped Paragraph: \"PAGE\""
      ],
      "text/plain": [
       "<IPython.core.display.Markdown object>"
      ]
     },
     "metadata": {},
     "output_type": "display_data"
    },
    {
     "data": {
      "text/markdown": [
       "--------------------------------------------------"
      ],
      "text/plain": [
       "<IPython.core.display.Markdown object>"
      ]
     },
     "metadata": {},
     "output_type": "display_data"
    },
    {
     "data": {
      "text/html": [
       "<a href='../../_data/01 Beth/GrandDentalAssoc_112118.docx' target='_blank'>../../_data/01 Beth/GrandDentalAssoc_112118.docx</a><br>"
      ],
      "text/plain": [
       "/Users/michaelp/Code/WellSaidLabs/_data/01 Beth/GrandDentalAssoc_112118.docx"
      ]
     },
     "metadata": {},
     "output_type": "display_data"
    },
    {
     "data": {
      "text/markdown": [
       "--------------------------------------------------"
      ],
      "text/plain": [
       "<IPython.core.display.Markdown object>"
      ]
     },
     "metadata": {},
     "output_type": "display_data"
    },
    {
     "data": {
      "text/html": [
       "<a href='../../_data/01 Beth/GreatParkInsurance_100118.docx' target='_blank'>../../_data/01 Beth/GreatParkInsurance_100118.docx</a><br>"
      ],
      "text/plain": [
       "/Users/michaelp/Code/WellSaidLabs/_data/01 Beth/GreatParkInsurance_100118.docx"
      ]
     },
     "metadata": {},
     "output_type": "display_data"
    },
    {
     "data": {
      "text/markdown": [
       "Skipped Paragraph: \"++++++++++++++++++++++++++++++++++++++++++++++++++++++++++++++++++++++\""
      ],
      "text/plain": [
       "<IPython.core.display.Markdown object>"
      ]
     },
     "metadata": {},
     "output_type": "display_data"
    },
    {
     "data": {
      "text/markdown": [
       "Skipped Paragraph: \"PAGE\""
      ],
      "text/plain": [
       "<IPython.core.display.Markdown object>"
      ]
     },
     "metadata": {},
     "output_type": "display_data"
    },
    {
     "data": {
      "text/markdown": [
       "--------------------------------------------------"
      ],
      "text/plain": [
       "<IPython.core.display.Markdown object>"
      ]
     },
     "metadata": {},
     "output_type": "display_data"
    },
    {
     "data": {
      "text/html": [
       "<a href='../../_data/01 Beth/HallAirConditioning_022019.docx' target='_blank'>../../_data/01 Beth/HallAirConditioning_022019.docx</a><br>"
      ],
      "text/plain": [
       "/Users/michaelp/Code/WellSaidLabs/_data/01 Beth/HallAirConditioning_022019.docx"
      ]
     },
     "metadata": {},
     "output_type": "display_data"
    },
    {
     "data": {
      "text/markdown": [
       "Skipped Paragraph: \"PAGE\""
      ],
      "text/plain": [
       "<IPython.core.display.Markdown object>"
      ]
     },
     "metadata": {},
     "output_type": "display_data"
    },
    {
     "data": {
      "text/markdown": [
       "--------------------------------------------------"
      ],
      "text/plain": [
       "<IPython.core.display.Markdown object>"
      ]
     },
     "metadata": {},
     "output_type": "display_data"
    },
    {
     "data": {
      "text/html": [
       "<a href='../../_data/01 Beth/HallAirConditioning_050318.docx' target='_blank'>../../_data/01 Beth/HallAirConditioning_050318.docx</a><br>"
      ],
      "text/plain": [
       "/Users/michaelp/Code/WellSaidLabs/_data/01 Beth/HallAirConditioning_050318.docx"
      ]
     },
     "metadata": {},
     "output_type": "display_data"
    },
    {
     "data": {
      "text/markdown": [
       "Skipped Paragraph: \"++++++++++++++++++++++++++++++++++++++\""
      ],
      "text/plain": [
       "<IPython.core.display.Markdown object>"
      ]
     },
     "metadata": {},
     "output_type": "display_data"
    },
    {
     "data": {
      "text/markdown": [
       "Short Content: \"To leave a message for Debbie, press 1.\""
      ],
      "text/plain": [
       "<IPython.core.display.Markdown object>"
      ]
     },
     "metadata": {},
     "output_type": "display_data"
    },
    {
     "data": {
      "text/markdown": [
       "Short Content: \"To leave a message for Terah, press 2.\""
      ],
      "text/plain": [
       "<IPython.core.display.Markdown object>"
      ]
     },
     "metadata": {},
     "output_type": "display_data"
    },
    {
     "data": {
      "text/markdown": [
       "Short Content: \"To leave a message for John, press 3.\""
      ],
      "text/plain": [
       "<IPython.core.display.Markdown object>"
      ]
     },
     "metadata": {},
     "output_type": "display_data"
    },
    {
     "data": {
      "text/markdown": [
       "Short Content: \"To leave a message for Kirk, press 4.\""
      ],
      "text/plain": [
       "<IPython.core.display.Markdown object>"
      ]
     },
     "metadata": {},
     "output_type": "display_data"
    },
    {
     "data": {
      "text/markdown": [
       "Short Content: \"To leave a message for Ken, press 5.\""
      ],
      "text/plain": [
       "<IPython.core.display.Markdown object>"
      ]
     },
     "metadata": {},
     "output_type": "display_data"
    },
    {
     "data": {
      "text/markdown": [
       "Short Content: \"For our general voicemail box, press 6.\""
      ],
      "text/plain": [
       "<IPython.core.display.Markdown object>"
      ]
     },
     "metadata": {},
     "output_type": "display_data"
    },
    {
     "data": {
      "text/markdown": [
       "Short Content: \"To repeat these options, please press star.\""
      ],
      "text/plain": [
       "<IPython.core.display.Markdown object>"
      ]
     },
     "metadata": {},
     "output_type": "display_data"
    },
    {
     "data": {
      "text/markdown": [
       "Skipped Paragraph: \"PAGE\""
      ],
      "text/plain": [
       "<IPython.core.display.Markdown object>"
      ]
     },
     "metadata": {},
     "output_type": "display_data"
    },
    {
     "data": {
      "text/markdown": [
       "--------------------------------------------------"
      ],
      "text/plain": [
       "<IPython.core.display.Markdown object>"
      ]
     },
     "metadata": {},
     "output_type": "display_data"
    },
    {
     "data": {
      "text/html": [
       "<a href='../../_data/01 Beth/HealthyPetMarket_072618.docx' target='_blank'>../../_data/01 Beth/HealthyPetMarket_072618.docx</a><br>"
      ],
      "text/plain": [
       "/Users/michaelp/Code/WellSaidLabs/_data/01 Beth/HealthyPetMarket_072618.docx"
      ]
     },
     "metadata": {},
     "output_type": "display_data"
    },
    {
     "data": {
      "text/markdown": [
       "Split by Spaces: ['Statement 2:', \"Your pet's well being is our top priority. Whether you use our grooming services or our self-wash room, we want to maintain your inner and outer care when you leave Healthy Pet, which is why we provide all the food, treats, and supplies you need at home. Featuring free food programs, price guarantee, free local delivery, and the best reviewed food and supplies, you can find what you want at Healthy Pet because at Healthy Pet, we love your dog as much as he loves you.\"]"
      ],
      "text/plain": [
       "<IPython.core.display.Markdown object>"
      ]
     },
     "metadata": {},
     "output_type": "display_data"
    },
    {
     "data": {
      "text/markdown": [
       "Split by Spaces: ['Statement 3:', 'Research proves what all of us dog owners know -  dogs can tell when you are sad, and want to make it better. And cats can actually  lower your risk of cancer. Gravity may make the world go round, but the love of our animals makes us feel like their world. Healthy Pet wants to help foster that bond by providing the best advice and options from what you feed, what you treat, and what toys or litter you use. We post helpful pet ownership videos to Facebook, YouTube, and our Healthy Pet Aurora app to make your life a little easier. Just search Healthy Pet Aurora.']"
      ],
      "text/plain": [
       "<IPython.core.display.Markdown object>"
      ]
     },
     "metadata": {},
     "output_type": "display_data"
    },
    {
     "data": {
      "text/markdown": [
       "Split by Spaces: ['Statement 4:', \"Who wants another app? Your dog and cat do! Healthy Pet Aurora App lets you view in-store specials, in-store special events, track your free food, earn rewards, book your grooming appointments, order online for free local delivery, and more. If you've got questions we've got answers. We strive to collaborate with our pet community so submit questions through the app, and we will answer you directly or make a video to share with everyone.\"]"
      ],
      "text/plain": [
       "<IPython.core.display.Markdown object>"
      ]
     },
     "metadata": {},
     "output_type": "display_data"
    },
    {
     "data": {
      "text/markdown": [
       "Split by Spaces: ['Statement 5:', 'Fromm, Pure Vita, Zignature, Primal, Weruva, these are just a few of the many high  quality brands of cat and dog foods that we carry for your favorite cat and dog.  Looking for a different brand or formula or just a question about why?? Come in to speak to a pet food expert on the best option for your pet and your family.\\xa0Proudly answering your pet nutrition and behavior questions since 1998.']"
      ],
      "text/plain": [
       "<IPython.core.display.Markdown object>"
      ]
     },
     "metadata": {},
     "output_type": "display_data"
    },
    {
     "data": {
      "text/markdown": [
       "Split by Spaces: ['Statement 6:', \"What's the deal with eye goopies? How do you recycle pet food bags? What are the newest products for your pets? What can you do about your pet's ear infections, dry skin, or allergies? Check out our YouTube channel, Facebook, or our app to learn the answers and more! Links to the app are on our website, Facebook, and YouTube channel, just search Healthy Pet Aurora.\"]"
      ],
      "text/plain": [
       "<IPython.core.display.Markdown object>"
      ]
     },
     "metadata": {},
     "output_type": "display_data"
    },
    {
     "data": {
      "text/markdown": [
       "Skipped Paragraph: \"PAGE\""
      ],
      "text/plain": [
       "<IPython.core.display.Markdown object>"
      ]
     },
     "metadata": {},
     "output_type": "display_data"
    },
    {
     "data": {
      "text/markdown": [
       "--------------------------------------------------"
      ],
      "text/plain": [
       "<IPython.core.display.Markdown object>"
      ]
     },
     "metadata": {},
     "output_type": "display_data"
    },
    {
     "data": {
      "text/html": [
       "<a href='../../_data/01 Beth/HighgateHotels_010419.docx' target='_blank'>../../_data/01 Beth/HighgateHotels_010419.docx</a><br>"
      ],
      "text/plain": [
       "/Users/michaelp/Code/WellSaidLabs/_data/01 Beth/HighgateHotels_010419.docx"
      ]
     },
     "metadata": {},
     "output_type": "display_data"
    },
    {
     "data": {
      "text/markdown": [
       "Skipped Paragraph: \"++++++++++++++++++++++++++++++++++++++++++++++++++++++++++++++++++++++\""
      ],
      "text/plain": [
       "<IPython.core.display.Markdown object>"
      ]
     },
     "metadata": {},
     "output_type": "display_data"
    },
    {
     "data": {
      "text/markdown": [
       "Skipped Paragraph: \"PAGE\""
      ],
      "text/plain": [
       "<IPython.core.display.Markdown object>"
      ]
     },
     "metadata": {},
     "output_type": "display_data"
    },
    {
     "data": {
      "text/markdown": [
       "--------------------------------------------------"
      ],
      "text/plain": [
       "<IPython.core.display.Markdown object>"
      ]
     },
     "metadata": {},
     "output_type": "display_data"
    },
    {
     "data": {
      "text/html": [
       "<a href='../../_data/01 Beth/HolisticDentistry_080818.docx' target='_blank'>../../_data/01 Beth/HolisticDentistry_080818.docx</a><br>"
      ],
      "text/plain": [
       "/Users/michaelp/Code/WellSaidLabs/_data/01 Beth/HolisticDentistry_080818.docx"
      ]
     },
     "metadata": {},
     "output_type": "display_data"
    },
    {
     "data": {
      "text/markdown": [
       "Skipped Paragraph: \"PAGE\""
      ],
      "text/plain": [
       "<IPython.core.display.Markdown object>"
      ]
     },
     "metadata": {},
     "output_type": "display_data"
    },
    {
     "data": {
      "text/markdown": [
       "--------------------------------------------------"
      ],
      "text/plain": [
       "<IPython.core.display.Markdown object>"
      ]
     },
     "metadata": {},
     "output_type": "display_data"
    },
    {
     "data": {
      "text/html": [
       "<a href='../../_data/01 Beth/JamesStreetDentalArts_110918.docx' target='_blank'>../../_data/01 Beth/JamesStreetDentalArts_110918.docx</a><br>"
      ],
      "text/plain": [
       "/Users/michaelp/Code/WellSaidLabs/_data/01 Beth/JamesStreetDentalArts_110918.docx"
      ]
     },
     "metadata": {},
     "output_type": "display_data"
    },
    {
     "data": {
      "text/markdown": [
       "Skipped Paragraph: \"PAGE\""
      ],
      "text/plain": [
       "<IPython.core.display.Markdown object>"
      ]
     },
     "metadata": {},
     "output_type": "display_data"
    },
    {
     "data": {
      "text/markdown": [
       "--------------------------------------------------"
      ],
      "text/plain": [
       "<IPython.core.display.Markdown object>"
      ]
     },
     "metadata": {},
     "output_type": "display_data"
    },
    {
     "data": {
      "text/html": [
       "<a href='../../_data/01 Beth/KellermanDental_032318.docx' target='_blank'>../../_data/01 Beth/KellermanDental_032318.docx</a><br>"
      ],
      "text/plain": [
       "/Users/michaelp/Code/WellSaidLabs/_data/01 Beth/KellermanDental_032318.docx"
      ]
     },
     "metadata": {},
     "output_type": "display_data"
    },
    {
     "data": {
      "text/markdown": [
       "--------------------------------------------------"
      ],
      "text/plain": [
       "<IPython.core.display.Markdown object>"
      ]
     },
     "metadata": {},
     "output_type": "display_data"
    },
    {
     "data": {
      "text/html": [
       "<a href='../../_data/01 Beth/KleydmanDermatology_070918.docx' target='_blank'>../../_data/01 Beth/KleydmanDermatology_070918.docx</a><br>"
      ],
      "text/plain": [
       "/Users/michaelp/Code/WellSaidLabs/_data/01 Beth/KleydmanDermatology_070918.docx"
      ]
     },
     "metadata": {},
     "output_type": "display_data"
    },
    {
     "data": {
      "text/markdown": [
       "Skipped Paragraph: \"PAGE\""
      ],
      "text/plain": [
       "<IPython.core.display.Markdown object>"
      ]
     },
     "metadata": {},
     "output_type": "display_data"
    },
    {
     "data": {
      "text/markdown": [
       "--------------------------------------------------"
      ],
      "text/plain": [
       "<IPython.core.display.Markdown object>"
      ]
     },
     "metadata": {},
     "output_type": "display_data"
    },
    {
     "data": {
      "text/html": [
       "<a href='../../_data/01 Beth/LOccitane_HolidayHotline_111418.docx' target='_blank'>../../_data/01 Beth/LOccitane_HolidayHotline_111418.docx</a><br>"
      ],
      "text/plain": [
       "/Users/michaelp/Code/WellSaidLabs/_data/01 Beth/LOccitane_HolidayHotline_111418.docx"
      ]
     },
     "metadata": {},
     "output_type": "display_data"
    },
    {
     "data": {
      "text/markdown": [
       "Short Content: \"If you have an issue with a Promo Code not working, press 1.\""
      ],
      "text/plain": [
       "<IPython.core.display.Markdown object>"
      ]
     },
     "metadata": {},
     "output_type": "display_data"
    },
    {
     "data": {
      "text/markdown": [
       "Short Content: \"To reach Supply Chain, press 2.\""
      ],
      "text/plain": [
       "<IPython.core.display.Markdown object>"
      ]
     },
     "metadata": {},
     "output_type": "display_data"
    },
    {
     "data": {
      "text/markdown": [
       "Short Content: \"To reach Boutique Care, Press 3\""
      ],
      "text/plain": [
       "<IPython.core.display.Markdown object>"
      ]
     },
     "metadata": {},
     "output_type": "display_data"
    },
    {
     "data": {
      "text/markdown": [
       "Short Content: \"to reach Retail Ops, press 4\""
      ],
      "text/plain": [
       "<IPython.core.display.Markdown object>"
      ]
     },
     "metadata": {},
     "output_type": "display_data"
    },
    {
     "data": {
      "text/markdown": [
       "Short Content: \"to reach Recruiting, press 5\""
      ],
      "text/plain": [
       "<IPython.core.display.Markdown object>"
      ]
     },
     "metadata": {},
     "output_type": "display_data"
    },
    {
     "data": {
      "text/markdown": [
       "Short Content: \"To reach Payroll, press 6\""
      ],
      "text/plain": [
       "<IPython.core.display.Markdown object>"
      ]
     },
     "metadata": {},
     "output_type": "display_data"
    },
    {
     "data": {
      "text/markdown": [
       "Short Content: \"To reach Finance, press 7\""
      ],
      "text/plain": [
       "<IPython.core.display.Markdown object>"
      ]
     },
     "metadata": {},
     "output_type": "display_data"
    },
    {
     "data": {
      "text/markdown": [
       "Skipped Paragraph: \"PAGE\""
      ],
      "text/plain": [
       "<IPython.core.display.Markdown object>"
      ]
     },
     "metadata": {},
     "output_type": "display_data"
    },
    {
     "data": {
      "text/markdown": [
       "--------------------------------------------------"
      ],
      "text/plain": [
       "<IPython.core.display.Markdown object>"
      ]
     },
     "metadata": {},
     "output_type": "display_data"
    },
    {
     "data": {
      "text/html": [
       "<a href='../../_data/01 Beth/L_Occitane_REVISED_111915.docx' target='_blank'>../../_data/01 Beth/L_Occitane_REVISED_111915.docx</a><br>"
      ],
      "text/plain": [
       "/Users/michaelp/Code/WellSaidLabs/_data/01 Beth/L_Occitane_REVISED_111915.docx"
      ]
     },
     "metadata": {},
     "output_type": "display_data"
    },
    {
     "data": {
      "text/markdown": [
       "Skipped Paragraph: \"+++++++++++++++++++++++++++++++++++++++++++++++++++++++++++++++++++++++\""
      ],
      "text/plain": [
       "<IPython.core.display.Markdown object>"
      ]
     },
     "metadata": {},
     "output_type": "display_data"
    },
    {
     "data": {
      "text/markdown": [
       "Skipped Paragraph: \"PAGE\""
      ],
      "text/plain": [
       "<IPython.core.display.Markdown object>"
      ]
     },
     "metadata": {},
     "output_type": "display_data"
    },
    {
     "data": {
      "text/markdown": [
       "--------------------------------------------------"
      ],
      "text/plain": [
       "<IPython.core.display.Markdown object>"
      ]
     },
     "metadata": {},
     "output_type": "display_data"
    },
    {
     "data": {
      "text/html": [
       "<a href='../../_data/01 Beth/LaJollaCosmeticSurgeryCenter_061818.docx' target='_blank'>../../_data/01 Beth/LaJollaCosmeticSurgeryCenter_061818.docx</a><br>"
      ],
      "text/plain": [
       "/Users/michaelp/Code/WellSaidLabs/_data/01 Beth/LaJollaCosmeticSurgeryCenter_061818.docx"
      ]
     },
     "metadata": {},
     "output_type": "display_data"
    },
    {
     "data": {
      "text/markdown": [
       "Skipped Paragraph: \".\""
      ],
      "text/plain": [
       "<IPython.core.display.Markdown object>"
      ]
     },
     "metadata": {},
     "output_type": "display_data"
    },
    {
     "data": {
      "text/markdown": [
       "Skipped Paragraph: \"PAGE\""
      ],
      "text/plain": [
       "<IPython.core.display.Markdown object>"
      ]
     },
     "metadata": {},
     "output_type": "display_data"
    },
    {
     "data": {
      "text/markdown": [
       "--------------------------------------------------"
      ],
      "text/plain": [
       "<IPython.core.display.Markdown object>"
      ]
     },
     "metadata": {},
     "output_type": "display_data"
    },
    {
     "data": {
      "text/html": [
       "<a href='../../_data/01 Beth/LansdownePodiatry_091118.docx' target='_blank'>../../_data/01 Beth/LansdownePodiatry_091118.docx</a><br>"
      ],
      "text/plain": [
       "/Users/michaelp/Code/WellSaidLabs/_data/01 Beth/LansdownePodiatry_091118.docx"
      ]
     },
     "metadata": {},
     "output_type": "display_data"
    },
    {
     "data": {
      "text/markdown": [
       "Skipped Paragraph: \"PAGE\""
      ],
      "text/plain": [
       "<IPython.core.display.Markdown object>"
      ]
     },
     "metadata": {},
     "output_type": "display_data"
    },
    {
     "data": {
      "text/markdown": [
       "--------------------------------------------------"
      ],
      "text/plain": [
       "<IPython.core.display.Markdown object>"
      ]
     },
     "metadata": {},
     "output_type": "display_data"
    },
    {
     "data": {
      "text/html": [
       "<a href='../../_data/01 Beth/MarionGeneralHospital_111418.docx' target='_blank'>../../_data/01 Beth/MarionGeneralHospital_111418.docx</a><br>"
      ],
      "text/plain": [
       "/Users/michaelp/Code/WellSaidLabs/_data/01 Beth/MarionGeneralHospital_111418.docx"
      ]
     },
     "metadata": {},
     "output_type": "display_data"
    },
    {
     "data": {
      "text/markdown": [
       "Skipped Paragraph: \"PAGE\""
      ],
      "text/plain": [
       "<IPython.core.display.Markdown object>"
      ]
     },
     "metadata": {},
     "output_type": "display_data"
    },
    {
     "data": {
      "text/markdown": [
       "--------------------------------------------------"
      ],
      "text/plain": [
       "<IPython.core.display.Markdown object>"
      ]
     },
     "metadata": {},
     "output_type": "display_data"
    },
    {
     "data": {
      "text/html": [
       "<a href='../../_data/01 Beth/MichiganUFCW_031918.docx' target='_blank'>../../_data/01 Beth/MichiganUFCW_031918.docx</a><br>"
      ],
      "text/plain": [
       "/Users/michaelp/Code/WellSaidLabs/_data/01 Beth/MichiganUFCW_031918.docx"
      ]
     },
     "metadata": {},
     "output_type": "display_data"
    },
    {
     "data": {
      "text/markdown": [
       "--------------------------------------------------"
      ],
      "text/plain": [
       "<IPython.core.display.Markdown object>"
      ]
     },
     "metadata": {},
     "output_type": "display_data"
    },
    {
     "data": {
      "text/html": [
       "<a href='../../_data/01 Beth/MichiganUFCW_071818.docx' target='_blank'>../../_data/01 Beth/MichiganUFCW_071818.docx</a><br>"
      ],
      "text/plain": [
       "/Users/michaelp/Code/WellSaidLabs/_data/01 Beth/MichiganUFCW_071818.docx"
      ]
     },
     "metadata": {},
     "output_type": "display_data"
    },
    {
     "data": {
      "text/markdown": [
       "--------------------------------------------------"
      ],
      "text/plain": [
       "<IPython.core.display.Markdown object>"
      ]
     },
     "metadata": {},
     "output_type": "display_data"
    },
    {
     "data": {
      "text/html": [
       "<a href='../../_data/01 Beth/MichiganUFCW_082318.docx' target='_blank'>../../_data/01 Beth/MichiganUFCW_082318.docx</a><br>"
      ],
      "text/plain": [
       "/Users/michaelp/Code/WellSaidLabs/_data/01 Beth/MichiganUFCW_082318.docx"
      ]
     },
     "metadata": {},
     "output_type": "display_data"
    },
    {
     "data": {
      "text/markdown": [
       "--------------------------------------------------"
      ],
      "text/plain": [
       "<IPython.core.display.Markdown object>"
      ]
     },
     "metadata": {},
     "output_type": "display_data"
    },
    {
     "data": {
      "text/html": [
       "<a href='../../_data/01 Beth/MooreVeterinaryHospital_022718.docx' target='_blank'>../../_data/01 Beth/MooreVeterinaryHospital_022718.docx</a><br>"
      ],
      "text/plain": [
       "/Users/michaelp/Code/WellSaidLabs/_data/01 Beth/MooreVeterinaryHospital_022718.docx"
      ]
     },
     "metadata": {},
     "output_type": "display_data"
    },
    {
     "data": {
      "text/markdown": [
       "Skipped Paragraph: \"PAGE\""
      ],
      "text/plain": [
       "<IPython.core.display.Markdown object>"
      ]
     },
     "metadata": {},
     "output_type": "display_data"
    },
    {
     "data": {
      "text/markdown": [
       "--------------------------------------------------"
      ],
      "text/plain": [
       "<IPython.core.display.Markdown object>"
      ]
     },
     "metadata": {},
     "output_type": "display_data"
    },
    {
     "data": {
      "text/html": [
       "<a href='../../_data/01 Beth/NankinDental_101518.docx' target='_blank'>../../_data/01 Beth/NankinDental_101518.docx</a><br>"
      ],
      "text/plain": [
       "/Users/michaelp/Code/WellSaidLabs/_data/01 Beth/NankinDental_101518.docx"
      ]
     },
     "metadata": {},
     "output_type": "display_data"
    },
    {
     "data": {
      "text/markdown": [
       "--------------------------------------------------"
      ],
      "text/plain": [
       "<IPython.core.display.Markdown object>"
      ]
     },
     "metadata": {},
     "output_type": "display_data"
    },
    {
     "data": {
      "text/html": [
       "<a href='../../_data/01 Beth/NeighborhoodSmilesLaCrosse_062718.docx' target='_blank'>../../_data/01 Beth/NeighborhoodSmilesLaCrosse_062718.docx</a><br>"
      ],
      "text/plain": [
       "/Users/michaelp/Code/WellSaidLabs/_data/01 Beth/NeighborhoodSmilesLaCrosse_062718.docx"
      ]
     },
     "metadata": {},
     "output_type": "display_data"
    },
    {
     "data": {
      "text/markdown": [
       "Skipped Paragraph: \"PAGE\""
      ],
      "text/plain": [
       "<IPython.core.display.Markdown object>"
      ]
     },
     "metadata": {},
     "output_type": "display_data"
    },
    {
     "data": {
      "text/markdown": [
       "--------------------------------------------------"
      ],
      "text/plain": [
       "<IPython.core.display.Markdown object>"
      ]
     },
     "metadata": {},
     "output_type": "display_data"
    },
    {
     "data": {
      "text/html": [
       "<a href='../../_data/01 Beth/NewFairfieldAnimalHospital_010719.docx' target='_blank'>../../_data/01 Beth/NewFairfieldAnimalHospital_010719.docx</a><br>"
      ],
      "text/plain": [
       "/Users/michaelp/Code/WellSaidLabs/_data/01 Beth/NewFairfieldAnimalHospital_010719.docx"
      ]
     },
     "metadata": {},
     "output_type": "display_data"
    },
    {
     "data": {
      "text/markdown": [
       "Skipped Paragraph: \"PAGE\""
      ],
      "text/plain": [
       "<IPython.core.display.Markdown object>"
      ]
     },
     "metadata": {},
     "output_type": "display_data"
    },
    {
     "data": {
      "text/markdown": [
       "--------------------------------------------------"
      ],
      "text/plain": [
       "<IPython.core.display.Markdown object>"
      ]
     },
     "metadata": {},
     "output_type": "display_data"
    },
    {
     "data": {
      "text/html": [
       "<a href='../../_data/01 Beth/NewFairlieldAnimalHospital_082318.docx' target='_blank'>../../_data/01 Beth/NewFairlieldAnimalHospital_082318.docx</a><br>"
      ],
      "text/plain": [
       "/Users/michaelp/Code/WellSaidLabs/_data/01 Beth/NewFairlieldAnimalHospital_082318.docx"
      ]
     },
     "metadata": {},
     "output_type": "display_data"
    },
    {
     "data": {
      "text/markdown": [
       "Skipped Paragraph: \"PAGE\""
      ],
      "text/plain": [
       "<IPython.core.display.Markdown object>"
      ]
     },
     "metadata": {},
     "output_type": "display_data"
    },
    {
     "data": {
      "text/markdown": [
       "--------------------------------------------------"
      ],
      "text/plain": [
       "<IPython.core.display.Markdown object>"
      ]
     },
     "metadata": {},
     "output_type": "display_data"
    },
    {
     "data": {
      "text/html": [
       "<a href='../../_data/01 Beth/OzarkMountainPizza_041118.docx' target='_blank'>../../_data/01 Beth/OzarkMountainPizza_041118.docx</a><br>"
      ],
      "text/plain": [
       "/Users/michaelp/Code/WellSaidLabs/_data/01 Beth/OzarkMountainPizza_041118.docx"
      ]
     },
     "metadata": {},
     "output_type": "display_data"
    },
    {
     "data": {
      "text/markdown": [
       "Skipped Paragraph: \"PAGE\""
      ],
      "text/plain": [
       "<IPython.core.display.Markdown object>"
      ]
     },
     "metadata": {},
     "output_type": "display_data"
    },
    {
     "data": {
      "text/markdown": [
       "--------------------------------------------------"
      ],
      "text/plain": [
       "<IPython.core.display.Markdown object>"
      ]
     },
     "metadata": {},
     "output_type": "display_data"
    },
    {
     "data": {
      "text/html": [
       "<a href='../../_data/01 Beth/PalmerAnimalHospital_050118.docx' target='_blank'>../../_data/01 Beth/PalmerAnimalHospital_050118.docx</a><br>"
      ],
      "text/plain": [
       "/Users/michaelp/Code/WellSaidLabs/_data/01 Beth/PalmerAnimalHospital_050118.docx"
      ]
     },
     "metadata": {},
     "output_type": "display_data"
    },
    {
     "data": {
      "text/markdown": [
       "Skipped Paragraph: \"PAGE\""
      ],
      "text/plain": [
       "<IPython.core.display.Markdown object>"
      ]
     },
     "metadata": {},
     "output_type": "display_data"
    },
    {
     "data": {
      "text/markdown": [
       "--------------------------------------------------"
      ],
      "text/plain": [
       "<IPython.core.display.Markdown object>"
      ]
     },
     "metadata": {},
     "output_type": "display_data"
    },
    {
     "data": {
      "text/html": [
       "<a href='../../_data/01 Beth/PalmerAnimalHospital_112018.docx' target='_blank'>../../_data/01 Beth/PalmerAnimalHospital_112018.docx</a><br>"
      ],
      "text/plain": [
       "/Users/michaelp/Code/WellSaidLabs/_data/01 Beth/PalmerAnimalHospital_112018.docx"
      ]
     },
     "metadata": {},
     "output_type": "display_data"
    },
    {
     "data": {
      "text/markdown": [
       "Skipped Paragraph: \"PAGE\""
      ],
      "text/plain": [
       "<IPython.core.display.Markdown object>"
      ]
     },
     "metadata": {},
     "output_type": "display_data"
    },
    {
     "data": {
      "text/markdown": [
       "--------------------------------------------------"
      ],
      "text/plain": [
       "<IPython.core.display.Markdown object>"
      ]
     },
     "metadata": {},
     "output_type": "display_data"
    },
    {
     "data": {
      "text/html": [
       "<a href='../../_data/01 Beth/PestRangers_073018.docx' target='_blank'>../../_data/01 Beth/PestRangers_073018.docx</a><br>"
      ],
      "text/plain": [
       "/Users/michaelp/Code/WellSaidLabs/_data/01 Beth/PestRangers_073018.docx"
      ]
     },
     "metadata": {},
     "output_type": "display_data"
    },
    {
     "data": {
      "text/markdown": [
       "Short Content: \"Thank you for choosing The Pest Rangers. Check out our updated website at\""
      ],
      "text/plain": [
       "<IPython.core.display.Markdown object>"
      ]
     },
     "metadata": {},
     "output_type": "display_data"
    },
    {
     "data": {
      "text/markdown": [
       "Skipped Paragraph: \"PAGE\""
      ],
      "text/plain": [
       "<IPython.core.display.Markdown object>"
      ]
     },
     "metadata": {},
     "output_type": "display_data"
    },
    {
     "data": {
      "text/markdown": [
       "--------------------------------------------------"
      ],
      "text/plain": [
       "<IPython.core.display.Markdown object>"
      ]
     },
     "metadata": {},
     "output_type": "display_data"
    },
    {
     "data": {
      "text/html": [
       "<a href='../../_data/01 Beth/PreferredChoiceCleaning_030818.docx' target='_blank'>../../_data/01 Beth/PreferredChoiceCleaning_030818.docx</a><br>"
      ],
      "text/plain": [
       "/Users/michaelp/Code/WellSaidLabs/_data/01 Beth/PreferredChoiceCleaning_030818.docx"
      ]
     },
     "metadata": {},
     "output_type": "display_data"
    },
    {
     "data": {
      "text/markdown": [
       "Skipped Paragraph: \"PAGE\""
      ],
      "text/plain": [
       "<IPython.core.display.Markdown object>"
      ]
     },
     "metadata": {},
     "output_type": "display_data"
    },
    {
     "data": {
      "text/markdown": [
       "Skipped Paragraph: \"PAGE  1\""
      ],
      "text/plain": [
       "<IPython.core.display.Markdown object>"
      ]
     },
     "metadata": {},
     "output_type": "display_data"
    },
    {
     "data": {
      "text/markdown": [
       "Skipped Paragraph: \"telephoneonhold.com\t1-888-321-8477\""
      ],
      "text/plain": [
       "<IPython.core.display.Markdown object>"
      ]
     },
     "metadata": {},
     "output_type": "display_data"
    },
    {
     "data": {
      "text/markdown": [
       "--------------------------------------------------"
      ],
      "text/plain": [
       "<IPython.core.display.Markdown object>"
      ]
     },
     "metadata": {},
     "output_type": "display_data"
    },
    {
     "data": {
      "text/html": [
       "<a href='../../_data/01 Beth/PremierPharmacyCare_040418.docx' target='_blank'>../../_data/01 Beth/PremierPharmacyCare_040418.docx</a><br>"
      ],
      "text/plain": [
       "/Users/michaelp/Code/WellSaidLabs/_data/01 Beth/PremierPharmacyCare_040418.docx"
      ]
     },
     "metadata": {},
     "output_type": "display_data"
    },
    {
     "data": {
      "text/markdown": [
       "Skipped Paragraph: \".\""
      ],
      "text/plain": [
       "<IPython.core.display.Markdown object>"
      ]
     },
     "metadata": {},
     "output_type": "display_data"
    },
    {
     "data": {
      "text/markdown": [
       "Skipped Paragraph: \"PAGE\""
      ],
      "text/plain": [
       "<IPython.core.display.Markdown object>"
      ]
     },
     "metadata": {},
     "output_type": "display_data"
    },
    {
     "data": {
      "text/markdown": [
       "--------------------------------------------------"
      ],
      "text/plain": [
       "<IPython.core.display.Markdown object>"
      ]
     },
     "metadata": {},
     "output_type": "display_data"
    },
    {
     "data": {
      "text/html": [
       "<a href='../../_data/01 Beth/RRLalena_031618.docx' target='_blank'>../../_data/01 Beth/RRLalena_031618.docx</a><br>"
      ],
      "text/plain": [
       "/Users/michaelp/Code/WellSaidLabs/_data/01 Beth/RRLalena_031618.docx"
      ]
     },
     "metadata": {},
     "output_type": "display_data"
    },
    {
     "data": {
      "text/markdown": [
       "Skipped Paragraph: \"PAGE\""
      ],
      "text/plain": [
       "<IPython.core.display.Markdown object>"
      ]
     },
     "metadata": {},
     "output_type": "display_data"
    },
    {
     "data": {
      "text/markdown": [
       "--------------------------------------------------"
      ],
      "text/plain": [
       "<IPython.core.display.Markdown object>"
      ]
     },
     "metadata": {},
     "output_type": "display_data"
    },
    {
     "data": {
      "text/html": [
       "<a href='../../_data/01 Beth/RingDoorbell2 DiodeInstallation_050517.docx' target='_blank'>../../_data/01 Beth/RingDoorbell2 DiodeInstallation_050517.docx</a><br>"
      ],
      "text/plain": [
       "/Users/michaelp/Code/WellSaidLabs/_data/01 Beth/RingDoorbell2 DiodeInstallation_050517.docx"
      ]
     },
     "metadata": {},
     "output_type": "display_data"
    },
    {
     "data": {
      "text/markdown": [
       "Short Content: \"A diode is a small electrical component that looks like this:\""
      ],
      "text/plain": [
       "<IPython.core.display.Markdown object>"
      ]
     },
     "metadata": {},
     "output_type": "display_data"
    },
    {
     "data": {
      "text/markdown": [
       "Short Content: \"If so, then you probably have a mechanical bell.\""
      ],
      "text/plain": [
       "<IPython.core.display.Markdown object>"
      ]
     },
     "metadata": {},
     "output_type": "display_data"
    },
    {
     "data": {
      "text/markdown": [
       "Short Content: \"If this is how your bell produces its sound, then it’s mechanical.\""
      ],
      "text/plain": [
       "<IPython.core.display.Markdown object>"
      ]
     },
     "metadata": {},
     "output_type": "display_data"
    },
    {
     "data": {
      "text/markdown": [
       "Short Content: \"In this case, DO NOT use the diode. Doing so may damage your bell!\""
      ],
      "text/plain": [
       "<IPython.core.display.Markdown object>"
      ]
     },
     "metadata": {},
     "output_type": "display_data"
    },
    {
     "data": {
      "text/markdown": [
       "Short Content: \"If your bell plays a melody when it rings…\""
      ],
      "text/plain": [
       "<IPython.core.display.Markdown object>"
      ]
     },
     "metadata": {},
     "output_type": "display_data"
    },
    {
     "data": {
      "text/markdown": [
       "Short Content: \"…then that melody is most likely coming from a speaker inside your bell.\""
      ],
      "text/plain": [
       "<IPython.core.display.Markdown object>"
      ]
     },
     "metadata": {},
     "output_type": "display_data"
    },
    {
     "data": {
      "text/markdown": [
       "Short Content: \"Next, take a look at your diode and notice this small marking on one end.\""
      ],
      "text/plain": [
       "<IPython.core.display.Markdown object>"
      ]
     },
     "metadata": {},
     "output_type": "display_data"
    },
    {
     "data": {
      "text/markdown": [
       "Short Content: \"With Ring you’re always home.\""
      ],
      "text/plain": [
       "<IPython.core.display.Markdown object>"
      ]
     },
     "metadata": {},
     "output_type": "display_data"
    },
    {
     "data": {
      "text/markdown": [
       "--------------------------------------------------"
      ],
      "text/plain": [
       "<IPython.core.display.Markdown object>"
      ]
     },
     "metadata": {},
     "output_type": "display_data"
    },
    {
     "data": {
      "text/html": [
       "<a href='../../_data/01 Beth/RingFloodlightCam_InstallingTheMountingBracket_REVISED_032417.docx' target='_blank'>../../_data/01 Beth/RingFloodlightCam_InstallingTheMountingBracket_REVISED_032417.docx</a><br>"
      ],
      "text/plain": [
       "/Users/michaelp/Code/WellSaidLabs/_data/01 Beth/RingFloodlightCam_InstallingTheMountingBracket_REVISED_032417.docx"
      ]
     },
     "metadata": {},
     "output_type": "display_data"
    },
    {
     "data": {
      "text/markdown": [
       "Short Content: \"Now you’ll install the provided bracket.\""
      ],
      "text/plain": [
       "<IPython.core.display.Markdown object>"
      ]
     },
     "metadata": {},
     "output_type": "display_data"
    },
    {
     "data": {
      "text/markdown": [
       "Short Content: \"If your ground wire is long enough, proceed to install the bracket.\""
      ],
      "text/plain": [
       "<IPython.core.display.Markdown object>"
      ]
     },
     "metadata": {},
     "output_type": "display_data"
    },
    {
     "data": {
      "text/markdown": [
       "Skipped Paragraph: \"\""
      ],
      "text/plain": [
       "<IPython.core.display.Markdown object>"
      ]
     },
     "metadata": {},
     "output_type": "display_data"
    },
    {
     "data": {
      "text/markdown": [
       "Short Content: \"You are now ready to wire your Floodlight Cam.\""
      ],
      "text/plain": [
       "<IPython.core.display.Markdown object>"
      ]
     },
     "metadata": {},
     "output_type": "display_data"
    },
    {
     "data": {
      "text/markdown": [
       "--------------------------------------------------"
      ],
      "text/plain": [
       "<IPython.core.display.Markdown object>"
      ]
     },
     "metadata": {},
     "output_type": "display_data"
    },
    {
     "data": {
      "text/html": [
       "<a href='../../_data/01 Beth/RingFloodlightCam_SecuringFloodlightCam_REVISED_032417.docx' target='_blank'>../../_data/01 Beth/RingFloodlightCam_SecuringFloodlightCam_REVISED_032417.docx</a><br>"
      ],
      "text/plain": [
       "/Users/michaelp/Code/WellSaidLabs/_data/01 Beth/RingFloodlightCam_SecuringFloodlightCam_REVISED_032417.docx"
      ]
     },
     "metadata": {},
     "output_type": "display_data"
    },
    {
     "data": {
      "text/markdown": [
       "Short Content: \"You’re almost done!\""
      ],
      "text/plain": [
       "<IPython.core.display.Markdown object>"
      ]
     },
     "metadata": {},
     "output_type": "display_data"
    },
    {
     "data": {
      "text/markdown": [
       "--------------------------------------------------"
      ],
      "text/plain": [
       "<IPython.core.display.Markdown object>"
      ]
     },
     "metadata": {},
     "output_type": "display_data"
    },
    {
     "data": {
      "text/html": [
       "<a href='../../_data/01 Beth/RingFloodlightCam_WiringFloodlightCam_REVISED_032417.docx' target='_blank'>../../_data/01 Beth/RingFloodlightCam_WiringFloodlightCam_REVISED_032417.docx</a><br>"
      ],
      "text/plain": [
       "/Users/michaelp/Code/WellSaidLabs/_data/01 Beth/RingFloodlightCam_WiringFloodlightCam_REVISED_032417.docx"
      ]
     },
     "metadata": {},
     "output_type": "display_data"
    },
    {
     "data": {
      "text/markdown": [
       "Skipped Paragraph: \"\""
      ],
      "text/plain": [
       "<IPython.core.display.Markdown object>"
      ]
     },
     "metadata": {},
     "output_type": "display_data"
    },
    {
     "data": {
      "text/markdown": [
       "Short Content: \"You are now ready to secure your Floodlight Cam.\""
      ],
      "text/plain": [
       "<IPython.core.display.Markdown object>"
      ]
     },
     "metadata": {},
     "output_type": "display_data"
    },
    {
     "data": {
      "text/markdown": [
       "--------------------------------------------------"
      ],
      "text/plain": [
       "<IPython.core.display.Markdown object>"
      ]
     },
     "metadata": {},
     "output_type": "display_data"
    },
    {
     "data": {
      "text/html": [
       "<a href='../../_data/01 Beth/RingFloodlight_GettingToKnow_031017.docx' target='_blank'>../../_data/01 Beth/RingFloodlight_GettingToKnow_031017.docx</a><br>"
      ],
      "text/plain": [
       "/Users/michaelp/Code/WellSaidLabs/_data/01 Beth/RingFloodlight_GettingToKnow_031017.docx"
      ]
     },
     "metadata": {},
     "output_type": "display_data"
    },
    {
     "data": {
      "text/markdown": [
       "Short Content: \"Meet Your New Ring Floodlight Cam\""
      ],
      "text/plain": [
       "<IPython.core.display.Markdown object>"
      ]
     },
     "metadata": {},
     "output_type": "display_data"
    },
    {
     "data": {
      "text/markdown": [
       "Skipped Paragraph: \"\""
      ],
      "text/plain": [
       "<IPython.core.display.Markdown object>"
      ]
     },
     "metadata": {},
     "output_type": "display_data"
    },
    {
     "data": {
      "text/markdown": [
       "Short Content: \"This copper wire is a ground.\""
      ],
      "text/plain": [
       "<IPython.core.display.Markdown object>"
      ]
     },
     "metadata": {},
     "output_type": "display_data"
    },
    {
     "data": {
      "text/markdown": [
       "Short Content: \"These small cap nuts will secure your Floodlight Cam to the bracket.\""
      ],
      "text/plain": [
       "<IPython.core.display.Markdown object>"
      ]
     },
     "metadata": {},
     "output_type": "display_data"
    },
    {
     "data": {
      "text/markdown": [
       "--------------------------------------------------"
      ],
      "text/plain": [
       "<IPython.core.display.Markdown object>"
      ]
     },
     "metadata": {},
     "output_type": "display_data"
    },
    {
     "data": {
      "text/html": [
       "<a href='../../_data/01 Beth/RingFloodlight_InstallingTheBracket_031017.docx' target='_blank'>../../_data/01 Beth/RingFloodlight_InstallingTheBracket_031017.docx</a><br>"
      ],
      "text/plain": [
       "/Users/michaelp/Code/WellSaidLabs/_data/01 Beth/RingFloodlight_InstallingTheBracket_031017.docx"
      ]
     },
     "metadata": {},
     "output_type": "display_data"
    },
    {
     "data": {
      "text/markdown": [
       "Short Content: \"Now you’ll install the provided bracket.\""
      ],
      "text/plain": [
       "<IPython.core.display.Markdown object>"
      ]
     },
     "metadata": {},
     "output_type": "display_data"
    },
    {
     "data": {
      "text/markdown": [
       "Short Content: \"If your ground wire is long enough, proceed to install the bracket.\""
      ],
      "text/plain": [
       "<IPython.core.display.Markdown object>"
      ]
     },
     "metadata": {},
     "output_type": "display_data"
    },
    {
     "data": {
      "text/markdown": [
       "Skipped Paragraph: \"\""
      ],
      "text/plain": [
       "<IPython.core.display.Markdown object>"
      ]
     },
     "metadata": {},
     "output_type": "display_data"
    },
    {
     "data": {
      "text/markdown": [
       "Short Content: \"You are now ready to wire your Floodlight Cam.\""
      ],
      "text/plain": [
       "<IPython.core.display.Markdown object>"
      ]
     },
     "metadata": {},
     "output_type": "display_data"
    },
    {
     "data": {
      "text/markdown": [
       "--------------------------------------------------"
      ],
      "text/plain": [
       "<IPython.core.display.Markdown object>"
      ]
     },
     "metadata": {},
     "output_type": "display_data"
    },
    {
     "data": {
      "text/html": [
       "<a href='../../_data/01 Beth/Ring_Camera Previews and Event Timeline.docx' target='_blank'>../../_data/01 Beth/Ring_Camera Previews and Event Timeline.docx</a><br>"
      ],
      "text/plain": [
       "/Users/michaelp/Code/WellSaidLabs/_data/01 Beth/Ring_Camera Previews and Event Timeline.docx"
      ]
     },
     "metadata": {},
     "output_type": "display_data"
    },
    {
     "data": {
      "text/markdown": [
       "Short Content: \"Each type of event has its own color-code and icon, for easier navigation.\""
      ],
      "text/plain": [
       "<IPython.core.display.Markdown object>"
      ]
     },
     "metadata": {},
     "output_type": "display_data"
    },
    {
     "data": {
      "text/markdown": [
       "Short Content: \"For more information, see our next video, “Introducing the Event Timeline”\""
      ],
      "text/plain": [
       "<IPython.core.display.Markdown object>"
      ]
     },
     "metadata": {},
     "output_type": "display_data"
    },
    {
     "data": {
      "text/markdown": [
       "--------------------------------------------------"
      ],
      "text/plain": [
       "<IPython.core.display.Markdown object>"
      ]
     },
     "metadata": {},
     "output_type": "display_data"
    },
    {
     "data": {
      "text/html": [
       "<a href='../../_data/01 Beth/Ring_CongratsSetupComplete_101217.docx' target='_blank'>../../_data/01 Beth/Ring_CongratsSetupComplete_101217.docx</a><br>"
      ],
      "text/plain": [
       "/Users/michaelp/Code/WellSaidLabs/_data/01 Beth/Ring_CongratsSetupComplete_101217.docx"
      ]
     },
     "metadata": {},
     "output_type": "display_data"
    },
    {
     "data": {
      "text/markdown": [
       "--------------------------------------------------"
      ],
      "text/plain": [
       "<IPython.core.display.Markdown object>"
      ]
     },
     "metadata": {},
     "output_type": "display_data"
    },
    {
     "data": {
      "text/html": [
       "<a href='../../_data/01 Beth/Ring_FloodlightCamMotionDetectionSettings_082817.docx' target='_blank'>../../_data/01 Beth/Ring_FloodlightCamMotionDetectionSettings_082817.docx</a><br>"
      ],
      "text/plain": [
       "/Users/michaelp/Code/WellSaidLabs/_data/01 Beth/Ring_FloodlightCamMotionDetectionSettings_082817.docx"
      ]
     },
     "metadata": {},
     "output_type": "display_data"
    },
    {
     "data": {
      "text/markdown": [
       "Short Content: \"“It can also tell the difference between people and other moving things.”\""
      ],
      "text/plain": [
       "<IPython.core.display.Markdown object>"
      ]
     },
     "metadata": {},
     "output_type": "display_data"
    },
    {
     "data": {
      "text/markdown": [
       "Short Content: \"“To set up a Motion Zone, tap here.”\""
      ],
      "text/plain": [
       "<IPython.core.display.Markdown object>"
      ]
     },
     "metadata": {},
     "output_type": "display_data"
    },
    {
     "data": {
      "text/markdown": [
       "Short Content: \"“To add additional Motion Zones, tap here and repeat these steps.”\""
      ],
      "text/plain": [
       "<IPython.core.display.Markdown object>"
      ]
     },
     "metadata": {},
     "output_type": "display_data"
    },
    {
     "data": {
      "text/markdown": [
       "--------------------------------------------------"
      ],
      "text/plain": [
       "<IPython.core.display.Markdown object>"
      ]
     },
     "metadata": {},
     "output_type": "display_data"
    },
    {
     "data": {
      "text/html": [
       "<a href='../../_data/01 Beth/Ring_How To Install Stick Up Cam Battery.docx' target='_blank'>../../_data/01 Beth/Ring_How To Install Stick Up Cam Battery.docx</a><br>"
      ],
      "text/plain": [
       "/Users/michaelp/Code/WellSaidLabs/_data/01 Beth/Ring_How To Install Stick Up Cam Battery.docx"
      ]
     },
     "metadata": {},
     "output_type": "display_data"
    },
    {
     "data": {
      "text/markdown": [
       "Short Content: \"This video shows you how to install your Ring Stick Up Cam Battery.\""
      ],
      "text/plain": [
       "<IPython.core.display.Markdown object>"
      ]
     },
     "metadata": {},
     "output_type": "display_data"
    },
    {
     "data": {
      "text/markdown": [
       "Short Content: \"You’ll know it’s fully charged when only one of the LED lights is lit.\""
      ],
      "text/plain": [
       "<IPython.core.display.Markdown object>"
      ]
     },
     "metadata": {},
     "output_type": "display_data"
    },
    {
     "data": {
      "text/markdown": [
       "Short Content: \"Then, insert the battery into its slot until you hear a click.\""
      ],
      "text/plain": [
       "<IPython.core.display.Markdown object>"
      ]
     },
     "metadata": {},
     "output_type": "display_data"
    },
    {
     "data": {
      "text/markdown": [
       "Short Content: \"Next, bring your Stick Up Cam to the room that holds your Wi-Fi router.\""
      ],
      "text/plain": [
       "<IPython.core.display.Markdown object>"
      ]
     },
     "metadata": {},
     "output_type": "display_data"
    },
    {
     "data": {
      "text/markdown": [
       "Short Content: \"Now, let’s look at how to mount your Stick Up Cam on a wall or ceiling.\""
      ],
      "text/plain": [
       "<IPython.core.display.Markdown object>"
      ]
     },
     "metadata": {},
     "output_type": "display_data"
    },
    {
     "data": {
      "text/markdown": [
       "Short Content: \"Then, flip the base toward the rear of the camera.\""
      ],
      "text/plain": [
       "<IPython.core.display.Markdown object>"
      ]
     },
     "metadata": {},
     "output_type": "display_data"
    },
    {
     "data": {
      "text/markdown": [
       "Short Content: \"Then, swivel the stand so the base is above the camera.\""
      ],
      "text/plain": [
       "<IPython.core.display.Markdown object>"
      ]
     },
     "metadata": {},
     "output_type": "display_data"
    },
    {
     "data": {
      "text/markdown": [
       "Short Content: \"Finally, hold the base in place on your wall or ceiling, rubber side down.\""
      ],
      "text/plain": [
       "<IPython.core.display.Markdown object>"
      ]
     },
     "metadata": {},
     "output_type": "display_data"
    },
    {
     "data": {
      "text/markdown": [
       "Short Content: \"Next, drive the three mounting screws.\""
      ],
      "text/plain": [
       "<IPython.core.display.Markdown object>"
      ]
     },
     "metadata": {},
     "output_type": "display_data"
    },
    {
     "data": {
      "text/markdown": [
       "--------------------------------------------------"
      ],
      "text/plain": [
       "<IPython.core.display.Markdown object>"
      ]
     },
     "metadata": {},
     "output_type": "display_data"
    },
    {
     "data": {
      "text/html": [
       "<a href='../../_data/01 Beth/Ring_How To Install Stick Up Cam Elite.docx' target='_blank'>../../_data/01 Beth/Ring_How To Install Stick Up Cam Elite.docx</a><br>"
      ],
      "text/plain": [
       "/Users/michaelp/Code/WellSaidLabs/_data/01 Beth/Ring_How To Install Stick Up Cam Elite.docx"
      ]
     },
     "metadata": {},
     "output_type": "display_data"
    },
    {
     "data": {
      "text/markdown": [
       "Short Content: \"This video shows you how to install your Ring Stick Up Cam Elite.\""
      ],
      "text/plain": [
       "<IPython.core.display.Markdown object>"
      ]
     },
     "metadata": {},
     "output_type": "display_data"
    },
    {
     "data": {
      "text/markdown": [
       "Short Content: \"Plug the included USB power supply into an outlet...\""
      ],
      "text/plain": [
       "<IPython.core.display.Markdown object>"
      ]
     },
     "metadata": {},
     "output_type": "display_data"
    },
    {
     "data": {
      "text/markdown": [
       "Short Content: \"...then connect it to your Stick Up Cam Elite with the included USB cable.\""
      ],
      "text/plain": [
       "<IPython.core.display.Markdown object>"
      ]
     },
     "metadata": {},
     "output_type": "display_data"
    },
    {
     "data": {
      "text/markdown": [
       "Short Content: \"Now, let’s look at how to mount your Stick Up Cam on a wall or ceiling.\""
      ],
      "text/plain": [
       "<IPython.core.display.Markdown object>"
      ]
     },
     "metadata": {},
     "output_type": "display_data"
    },
    {
     "data": {
      "text/markdown": [
       "Short Content: \"Then, flip the base toward the rear of the camera.\""
      ],
      "text/plain": [
       "<IPython.core.display.Markdown object>"
      ]
     },
     "metadata": {},
     "output_type": "display_data"
    },
    {
     "data": {
      "text/markdown": [
       "Short Content: \"Then, swivel the stand so the base is above the camera.\""
      ],
      "text/plain": [
       "<IPython.core.display.Markdown object>"
      ]
     },
     "metadata": {},
     "output_type": "display_data"
    },
    {
     "data": {
      "text/markdown": [
       "Short Content: \"Finally, hold the base in place on your wall or ceiling, rubber side down.\""
      ],
      "text/plain": [
       "<IPython.core.display.Markdown object>"
      ]
     },
     "metadata": {},
     "output_type": "display_data"
    },
    {
     "data": {
      "text/markdown": [
       "Short Content: \"Next, drive the three mounting screws.\""
      ],
      "text/plain": [
       "<IPython.core.display.Markdown object>"
      ]
     },
     "metadata": {},
     "output_type": "display_data"
    },
    {
     "data": {
      "text/markdown": [
       "Short Content: \"Finally, snap the cover onto the base.\""
      ],
      "text/plain": [
       "<IPython.core.display.Markdown object>"
      ]
     },
     "metadata": {},
     "output_type": "display_data"
    },
    {
     "data": {
      "text/markdown": [
       "Short Content: \"Now, let’s reconnect your Stick Up Cam.\""
      ],
      "text/plain": [
       "<IPython.core.display.Markdown object>"
      ]
     },
     "metadata": {},
     "output_type": "display_data"
    },
    {
     "data": {
      "text/markdown": [
       "--------------------------------------------------"
      ],
      "text/plain": [
       "<IPython.core.display.Markdown object>"
      ]
     },
     "metadata": {},
     "output_type": "display_data"
    },
    {
     "data": {
      "text/html": [
       "<a href='../../_data/01 Beth/Ring_HowInstallRingSolarChargerForRingVideoDoorbell 1_111017.docx' target='_blank'>../../_data/01 Beth/Ring_HowInstallRingSolarChargerForRingVideoDoorbell 1_111017.docx</a><br>"
      ],
      "text/plain": [
       "/Users/michaelp/Code/WellSaidLabs/_data/01 Beth/Ring_HowInstallRingSolarChargerForRingVideoDoorbell 1_111017.docx"
      ]
     },
     "metadata": {},
     "output_type": "display_data"
    },
    {
     "data": {
      "text/markdown": [
       "Short Content: \"“Then, unscrew the bracket from the wall.”\""
      ],
      "text/plain": [
       "<IPython.core.display.Markdown object>"
      ]
     },
     "metadata": {},
     "output_type": "display_data"
    },
    {
     "data": {
      "text/markdown": [
       "--------------------------------------------------"
      ],
      "text/plain": [
       "<IPython.core.display.Markdown object>"
      ]
     },
     "metadata": {},
     "output_type": "display_data"
    },
    {
     "data": {
      "text/html": [
       "<a href='../../_data/01 Beth/Ring_HowInstallRingSolarChargerForRingVideoDoorbell 2_111317.docx' target='_blank'>../../_data/01 Beth/Ring_HowInstallRingSolarChargerForRingVideoDoorbell 2_111317.docx</a><br>"
      ],
      "text/plain": [
       "/Users/michaelp/Code/WellSaidLabs/_data/01 Beth/Ring_HowInstallRingSolarChargerForRingVideoDoorbell 2_111317.docx"
      ]
     },
     "metadata": {},
     "output_type": "display_data"
    },
    {
     "data": {
      "text/markdown": [
       "Short Content: \"“First, you’ll want to temporarily uninstall your Video Doorbell.”\""
      ],
      "text/plain": [
       "<IPython.core.display.Markdown object>"
      ]
     },
     "metadata": {},
     "output_type": "display_data"
    },
    {
     "data": {
      "text/markdown": [
       "--------------------------------------------------"
      ],
      "text/plain": [
       "<IPython.core.display.Markdown object>"
      ]
     },
     "metadata": {},
     "output_type": "display_data"
    },
    {
     "data": {
      "text/html": [
       "<a href='../../_data/01 Beth/Ring_HowInstallRingSolarChargerForSpotlightCam_111317.docx' target='_blank'>../../_data/01 Beth/Ring_HowInstallRingSolarChargerForSpotlightCam_111317.docx</a><br>"
      ],
      "text/plain": [
       "/Users/michaelp/Code/WellSaidLabs/_data/01 Beth/Ring_HowInstallRingSolarChargerForSpotlightCam_111317.docx"
      ]
     },
     "metadata": {},
     "output_type": "display_data"
    },
    {
     "data": {
      "text/markdown": [
       "Short Content: \"“This video shows you how to install Ring Spotlight Solar Panel.”\""
      ],
      "text/plain": [
       "<IPython.core.display.Markdown object>"
      ]
     },
     "metadata": {},
     "output_type": "display_data"
    },
    {
     "data": {
      "text/markdown": [
       "Short Content: \"<little pause>\""
      ],
      "text/plain": [
       "<IPython.core.display.Markdown object>"
      ]
     },
     "metadata": {},
     "output_type": "display_data"
    },
    {
     "data": {
      "text/markdown": [
       "Short Content: \"“...set your desired angle…”\""
      ],
      "text/plain": [
       "<IPython.core.display.Markdown object>"
      ]
     },
     "metadata": {},
     "output_type": "display_data"
    },
    {
     "data": {
      "text/markdown": [
       "Short Content: \"<little pause>\""
      ],
      "text/plain": [
       "<IPython.core.display.Markdown object>"
      ]
     },
     "metadata": {},
     "output_type": "display_data"
    },
    {
     "data": {
      "text/markdown": [
       "Short Content: \"“...then re-tighten the screw.”\""
      ],
      "text/plain": [
       "<IPython.core.display.Markdown object>"
      ]
     },
     "metadata": {},
     "output_type": "display_data"
    },
    {
     "data": {
      "text/markdown": [
       "Short Content: \"“Note that the mounting plate can be inserted in either direction.”\""
      ],
      "text/plain": [
       "<IPython.core.display.Markdown object>"
      ]
     },
     "metadata": {},
     "output_type": "display_data"
    },
    {
     "data": {
      "text/markdown": [
       "Short Content: \"“The charging port is just below that.”\""
      ],
      "text/plain": [
       "<IPython.core.display.Markdown object>"
      ]
     },
     "metadata": {},
     "output_type": "display_data"
    },
    {
     "data": {
      "text/markdown": [
       "--------------------------------------------------"
      ],
      "text/plain": [
       "<IPython.core.display.Markdown object>"
      ]
     },
     "metadata": {},
     "output_type": "display_data"
    },
    {
     "data": {
      "text/html": [
       "<a href='../../_data/01 Beth/Ring_HowToControlExternalLightsWithSpotlightCamMount_111317.docx' target='_blank'>../../_data/01 Beth/Ring_HowToControlExternalLightsWithSpotlightCamMount_111317.docx</a><br>"
      ],
      "text/plain": [
       "/Users/michaelp/Code/WellSaidLabs/_data/01 Beth/Ring_HowToControlExternalLightsWithSpotlightCamMount_111317.docx"
      ]
     },
     "metadata": {},
     "output_type": "display_data"
    },
    {
     "data": {
      "text/markdown": [
       "Short Content: \"“First, let’s get your Spotlight Cam ready to install.”\""
      ],
      "text/plain": [
       "<IPython.core.display.Markdown object>"
      ]
     },
     "metadata": {},
     "output_type": "display_data"
    },
    {
     "data": {
      "text/markdown": [
       "Short Content: \"“Now, it’s time to close things up. You’re almost done!”\""
      ],
      "text/plain": [
       "<IPython.core.display.Markdown object>"
      ]
     },
     "metadata": {},
     "output_type": "display_data"
    },
    {
     "data": {
      "text/markdown": [
       "--------------------------------------------------"
      ],
      "text/plain": [
       "<IPython.core.display.Markdown object>"
      ]
     },
     "metadata": {},
     "output_type": "display_data"
    },
    {
     "data": {
      "text/html": [
       "<a href='../../_data/01 Beth/Ring_HowToInslallRingVideoDoorbellPro_111417.docx' target='_blank'>../../_data/01 Beth/Ring_HowToInslallRingVideoDoorbellPro_111417.docx</a><br>"
      ],
      "text/plain": [
       "/Users/michaelp/Code/WellSaidLabs/_data/01 Beth/Ring_HowToInslallRingVideoDoorbellPro_111417.docx"
      ]
     },
     "metadata": {},
     "output_type": "display_data"
    },
    {
     "data": {
      "text/markdown": [
       "Short Content: \"“This video shows you how to install your Ring Video Doorbell Pro.”\""
      ],
      "text/plain": [
       "<IPython.core.display.Markdown object>"
      ]
     },
     "metadata": {},
     "output_type": "display_data"
    },
    {
     "data": {
      "text/markdown": [
       "Short Content: \"“Then, locate your internal doorbell, and remove the cover.”\""
      ],
      "text/plain": [
       "<IPython.core.display.Markdown object>"
      ]
     },
     "metadata": {},
     "output_type": "display_data"
    },
    {
     "data": {
      "text/markdown": [
       "Short Content: \"“Now, let’s head outside, to install your Ring Video Doorbell Pro.”\""
      ],
      "text/plain": [
       "<IPython.core.display.Markdown object>"
      ]
     },
     "metadata": {},
     "output_type": "display_data"
    },
    {
     "data": {
      "text/markdown": [
       "Short Content: \"“The first thing to do is take off the removable faceplate.”\""
      ],
      "text/plain": [
       "<IPython.core.display.Markdown object>"
      ]
     },
     "metadata": {},
     "output_type": "display_data"
    },
    {
     "data": {
      "text/markdown": [
       "Short Content: \"“If you’re installing on wood or siding, you can skip this step.”\""
      ],
      "text/plain": [
       "<IPython.core.display.Markdown object>"
      ]
     },
     "metadata": {},
     "output_type": "display_data"
    },
    {
     "data": {
      "text/markdown": [
       "Short Content: \"necessary.”\""
      ],
      "text/plain": [
       "<IPython.core.display.Markdown object>"
      ]
     },
     "metadata": {},
     "output_type": "display_data"
    },
    {
     "data": {
      "text/markdown": [
       "Short Content: \"“Now you’re ready to connect the wires.”\""
      ],
      "text/plain": [
       "<IPython.core.display.Markdown object>"
      ]
     },
     "metadata": {},
     "output_type": "display_data"
    },
    {
     "data": {
      "text/markdown": [
       "Short Content: \"“Loosen the screws on the back of your Ring Doorbell.”\""
      ],
      "text/plain": [
       "<IPython.core.display.Markdown object>"
      ]
     },
     "metadata": {},
     "output_type": "display_data"
    },
    {
     "data": {
      "text/markdown": [
       "Short Content: \"“Next, turn power back on for your doorbell at the breaker.”\""
      ],
      "text/plain": [
       "<IPython.core.display.Markdown object>"
      ]
     },
     "metadata": {},
     "output_type": "display_data"
    },
    {
     "data": {
      "text/markdown": [
       "Short Content: \"“Next, snap the faceplate of your choice onto your Ring Doorbell.”\""
      ],
      "text/plain": [
       "<IPython.core.display.Markdown object>"
      ]
     },
     "metadata": {},
     "output_type": "display_data"
    },
    {
     "data": {
      "text/markdown": [
       "--------------------------------------------------"
      ],
      "text/plain": [
       "<IPython.core.display.Markdown object>"
      ]
     },
     "metadata": {},
     "output_type": "display_data"
    },
    {
     "data": {
      "text/html": [
       "<a href='../../_data/01 Beth/Ring_HowToInstallSpotlightCamMount_110917.docx' target='_blank'>../../_data/01 Beth/Ring_HowToInstallSpotlightCamMount_110917.docx</a><br>"
      ],
      "text/plain": [
       "/Users/michaelp/Code/WellSaidLabs/_data/01 Beth/Ring_HowToInstallSpotlightCamMount_110917.docx"
      ]
     },
     "metadata": {},
     "output_type": "display_data"
    },
    {
     "data": {
      "text/markdown": [
       "Short Content: \"“This video shows you how to install your new Ring Spotlight Cam Mount.”\""
      ],
      "text/plain": [
       "<IPython.core.display.Markdown object>"
      ]
     },
     "metadata": {},
     "output_type": "display_data"
    },
    {
     "data": {
      "text/markdown": [
       "Short Content: \"“You’ll do the same when mounting on a ceiling or eaves.”\""
      ],
      "text/plain": [
       "<IPython.core.display.Markdown object>"
      ]
     },
     "metadata": {},
     "output_type": "display_data"
    },
    {
     "data": {
      "text/markdown": [
       "Short Content: \"“...and it’s ready to install.”\""
      ],
      "text/plain": [
       "<IPython.core.display.Markdown object>"
      ]
     },
     "metadata": {},
     "output_type": "display_data"
    },
    {
     "data": {
      "text/markdown": [
       "--------------------------------------------------"
      ],
      "text/plain": [
       "<IPython.core.display.Markdown object>"
      ]
     },
     "metadata": {},
     "output_type": "display_data"
    },
    {
     "data": {
      "text/html": [
       "<a href='../../_data/01 Beth/Ring_HowToJoinRingNeighborhoodWithoutADevice_110917.docx' target='_blank'>../../_data/01 Beth/Ring_HowToJoinRingNeighborhoodWithoutADevice_110917.docx</a><br>"
      ],
      "text/plain": [
       "/Users/michaelp/Code/WellSaidLabs/_data/01 Beth/Ring_HowToJoinRingNeighborhoodWithoutADevice_110917.docx"
      ]
     },
     "metadata": {},
     "output_type": "display_data"
    },
    {
     "data": {
      "text/markdown": [
       "--------------------------------------------------"
      ],
      "text/plain": [
       "<IPython.core.display.Markdown object>"
      ]
     },
     "metadata": {},
     "output_type": "display_data"
    },
    {
     "data": {
      "text/html": [
       "<a href='../../_data/01 Beth/Ring_HowToSolvePowerProblemsWithRingVideoDoorbellPro_111417.docx' target='_blank'>../../_data/01 Beth/Ring_HowToSolvePowerProblemsWithRingVideoDoorbellPro_111417.docx</a><br>"
      ],
      "text/plain": [
       "/Users/michaelp/Code/WellSaidLabs/_data/01 Beth/Ring_HowToSolvePowerProblemsWithRingVideoDoorbellPro_111417.docx"
      ]
     },
     "metadata": {},
     "output_type": "display_data"
    },
    {
     "data": {
      "text/markdown": [
       "Short Content: \"“They’re available to help 24/7 at ring.com.”\""
      ],
      "text/plain": [
       "<IPython.core.display.Markdown object>"
      ]
     },
     "metadata": {},
     "output_type": "display_data"
    },
    {
     "data": {
      "text/markdown": [
       "Short Content: \"“Then, remove the cover from your internal doorbell.”\""
      ],
      "text/plain": [
       "<IPython.core.display.Markdown object>"
      ]
     },
     "metadata": {},
     "output_type": "display_data"
    },
    {
     "data": {
      "text/markdown": [
       "Short Content: \"“Tap Doorbell Kit Settings, then set Doorbell Type to None.”\""
      ],
      "text/plain": [
       "<IPython.core.display.Markdown object>"
      ]
     },
     "metadata": {},
     "output_type": "display_data"
    },
    {
     "data": {
      "text/markdown": [
       "--------------------------------------------------"
      ],
      "text/plain": [
       "<IPython.core.display.Markdown object>"
      ]
     },
     "metadata": {},
     "output_type": "display_data"
    },
    {
     "data": {
      "text/html": [
       "<a href='../../_data/01 Beth/Ring_LiveViewAndEventView_100417.docx' target='_blank'>../../_data/01 Beth/Ring_LiveViewAndEventView_100417.docx</a><br>"
      ],
      "text/plain": [
       "/Users/michaelp/Code/WellSaidLabs/_data/01 Beth/Ring_LiveViewAndEventView_100417.docx"
      ]
     },
     "metadata": {},
     "output_type": "display_data"
    },
    {
     "data": {
      "text/markdown": [
       "Short Content: \"“First, let’s look at the things you can do in Live View.”\""
      ],
      "text/plain": [
       "<IPython.core.display.Markdown object>"
      ]
     },
     "metadata": {},
     "output_type": "display_data"
    },
    {
     "data": {
      "text/markdown": [
       "Short Content: \"“Tap the Plus button to access additional functions.”\""
      ],
      "text/plain": [
       "<IPython.core.display.Markdown object>"
      ]
     },
     "metadata": {},
     "output_type": "display_data"
    },
    {
     "data": {
      "text/markdown": [
       "Short Content: \"“In the timeline, Doorbell Ring events are marked with a bell.”\""
      ],
      "text/plain": [
       "<IPython.core.display.Markdown object>"
      ]
     },
     "metadata": {},
     "output_type": "display_data"
    },
    {
     "data": {
      "text/markdown": [
       "Short Content: \"“Motion events are marked with a “moving person.”\""
      ],
      "text/plain": [
       "<IPython.core.display.Markdown object>"
      ]
     },
     "metadata": {},
     "output_type": "display_data"
    },
    {
     "data": {
      "text/markdown": [
       "Short Content: \"“You can then navigate recorded events in the chosen day as normal.”\""
      ],
      "text/plain": [
       "<IPython.core.display.Markdown object>"
      ]
     },
     "metadata": {},
     "output_type": "display_data"
    },
    {
     "data": {
      "text/markdown": [
       "Skipped Paragraph: \"\""
      ],
      "text/plain": [
       "<IPython.core.display.Markdown object>"
      ]
     },
     "metadata": {},
     "output_type": "display_data"
    },
    {
     "data": {
      "text/markdown": [
       "Short Content: \"“You can also send a link to the event in an email or text message.”\""
      ],
      "text/plain": [
       "<IPython.core.display.Markdown object>"
      ]
     },
     "metadata": {},
     "output_type": "display_data"
    },
    {
     "data": {
      "text/markdown": [
       "Short Content: \"“Tap Delete to erase a recorded event.”\""
      ],
      "text/plain": [
       "<IPython.core.display.Markdown object>"
      ]
     },
     "metadata": {},
     "output_type": "display_data"
    },
    {
     "data": {
      "text/markdown": [
       "--------------------------------------------------"
      ],
      "text/plain": [
       "<IPython.core.display.Markdown object>"
      ]
     },
     "metadata": {},
     "output_type": "display_data"
    },
    {
     "data": {
      "text/html": [
       "<a href='../../_data/01 Beth/Ring_MotionAndChimeSnooze_012218.docx' target='_blank'>../../_data/01 Beth/Ring_MotionAndChimeSnooze_012218.docx</a><br>"
      ],
      "text/plain": [
       "/Users/michaelp/Code/WellSaidLabs/_data/01 Beth/Ring_MotionAndChimeSnooze_012218.docx"
      ]
     },
     "metadata": {},
     "output_type": "display_data"
    },
    {
     "data": {
      "text/markdown": [
       "Short Content: \"First, let’s learn how to use Motion Snooze.\""
      ],
      "text/plain": [
       "<IPython.core.display.Markdown object>"
      ]
     },
     "metadata": {},
     "output_type": "display_data"
    },
    {
     "data": {
      "text/markdown": [
       "Short Content: \"Then, tap Motion Snooze.\""
      ],
      "text/plain": [
       "<IPython.core.display.Markdown object>"
      ]
     },
     "metadata": {},
     "output_type": "display_data"
    },
    {
     "data": {
      "text/markdown": [
       "Short Content: \"Now, select the length of time to snooze, then tap Save.\""
      ],
      "text/plain": [
       "<IPython.core.display.Markdown object>"
      ]
     },
     "metadata": {},
     "output_type": "display_data"
    },
    {
     "data": {
      "text/markdown": [
       "Short Content: \"Next, let’s learn how to use Chime Snooze.\""
      ],
      "text/plain": [
       "<IPython.core.display.Markdown object>"
      ]
     },
     "metadata": {},
     "output_type": "display_data"
    },
    {
     "data": {
      "text/markdown": [
       "Short Content: \"Now, select the length of time to snooze, then tap Save.\""
      ],
      "text/plain": [
       "<IPython.core.display.Markdown object>"
      ]
     },
     "metadata": {},
     "output_type": "display_data"
    },
    {
     "data": {
      "text/markdown": [
       "--------------------------------------------------"
      ],
      "text/plain": [
       "<IPython.core.display.Markdown object>"
      ]
     },
     "metadata": {},
     "output_type": "display_data"
    },
    {
     "data": {
      "text/html": [
       "<a href='../../_data/01 Beth/Ring_SolvingWiFiIssuesOutsidetheUS_100917.docx' target='_blank'>../../_data/01 Beth/Ring_SolvingWiFiIssuesOutsidetheUS_100917.docx</a><br>"
      ],
      "text/plain": [
       "/Users/michaelp/Code/WellSaidLabs/_data/01 Beth/Ring_SolvingWiFiIssuesOutsidetheUS_100917.docx"
      ]
     },
     "metadata": {},
     "output_type": "display_data"
    },
    {
     "data": {
      "text/markdown": [
       "--------------------------------------------------"
      ],
      "text/plain": [
       "<IPython.core.display.Markdown object>"
      ]
     },
     "metadata": {},
     "output_type": "display_data"
    },
    {
     "data": {
      "text/html": [
       "<a href='../../_data/01 Beth/Ring_WelcomeToRingProtect_101217.docx' target='_blank'>../../_data/01 Beth/Ring_WelcomeToRingProtect_101217.docx</a><br>"
      ],
      "text/plain": [
       "/Users/michaelp/Code/WellSaidLabs/_data/01 Beth/Ring_WelcomeToRingProtect_101217.docx"
      ]
     },
     "metadata": {},
     "output_type": "display_data"
    },
    {
     "data": {
      "text/markdown": [
       "Short Content: \"Welcome to Ring Protect. We’re glad you’re one of our Neighbors.\""
      ],
      "text/plain": [
       "<IPython.core.display.Markdown object>"
      ]
     },
     "metadata": {},
     "output_type": "display_data"
    },
    {
     "data": {
      "text/markdown": [
       "Short Content: \"Welcome to our neighborhood. With Ring, you’re always home.\""
      ],
      "text/plain": [
       "<IPython.core.display.Markdown object>"
      ]
     },
     "metadata": {},
     "output_type": "display_data"
    },
    {
     "data": {
      "text/markdown": [
       "--------------------------------------------------"
      ],
      "text/plain": [
       "<IPython.core.display.Markdown object>"
      ]
     },
     "metadata": {},
     "output_type": "display_data"
    },
    {
     "data": {
      "text/html": [
       "<a href='../../_data/01 Beth/RoseDental_022219.docx' target='_blank'>../../_data/01 Beth/RoseDental_022219.docx</a><br>"
      ],
      "text/plain": [
       "/Users/michaelp/Code/WellSaidLabs/_data/01 Beth/RoseDental_022219.docx"
      ]
     },
     "metadata": {},
     "output_type": "display_data"
    },
    {
     "data": {
      "text/markdown": [
       "Skipped Paragraph: \"PAGE\""
      ],
      "text/plain": [
       "<IPython.core.display.Markdown object>"
      ]
     },
     "metadata": {},
     "output_type": "display_data"
    },
    {
     "data": {
      "text/markdown": [
       "--------------------------------------------------"
      ],
      "text/plain": [
       "<IPython.core.display.Markdown object>"
      ]
     },
     "metadata": {},
     "output_type": "display_data"
    },
    {
     "data": {
      "text/html": [
       "<a href='../../_data/01 Beth/SkyLakeAnimaHospital_040618.docx' target='_blank'>../../_data/01 Beth/SkyLakeAnimaHospital_040618.docx</a><br>"
      ],
      "text/plain": [
       "/Users/michaelp/Code/WellSaidLabs/_data/01 Beth/SkyLakeAnimaHospital_040618.docx"
      ]
     },
     "metadata": {},
     "output_type": "display_data"
    },
    {
     "data": {
      "text/markdown": [
       "Skipped Paragraph: \"PAGE\""
      ],
      "text/plain": [
       "<IPython.core.display.Markdown object>"
      ]
     },
     "metadata": {},
     "output_type": "display_data"
    },
    {
     "data": {
      "text/markdown": [
       "--------------------------------------------------"
      ],
      "text/plain": [
       "<IPython.core.display.Markdown object>"
      ]
     },
     "metadata": {},
     "output_type": "display_data"
    },
    {
     "data": {
      "text/html": [
       "<a href='../../_data/01 Beth/SmileStudio87_010419.docx' target='_blank'>../../_data/01 Beth/SmileStudio87_010419.docx</a><br>"
      ],
      "text/plain": [
       "/Users/michaelp/Code/WellSaidLabs/_data/01 Beth/SmileStudio87_010419.docx"
      ]
     },
     "metadata": {},
     "output_type": "display_data"
    },
    {
     "data": {
      "text/markdown": [
       "Short Content: \"Ask about our New Year Specials!\""
      ],
      "text/plain": [
       "<IPython.core.display.Markdown object>"
      ]
     },
     "metadata": {},
     "output_type": "display_data"
    },
    {
     "data": {
      "text/markdown": [
       "Short Content: \"Ask us about our New Year monthly specials\""
      ],
      "text/plain": [
       "<IPython.core.display.Markdown object>"
      ]
     },
     "metadata": {},
     "output_type": "display_data"
    },
    {
     "data": {
      "text/markdown": [
       "Short Content: \"Pricing valid through February 28th.\""
      ],
      "text/plain": [
       "<IPython.core.display.Markdown object>"
      ]
     },
     "metadata": {},
     "output_type": "display_data"
    },
    {
     "data": {
      "text/markdown": [
       "Skipped Paragraph: \"PAGE\""
      ],
      "text/plain": [
       "<IPython.core.display.Markdown object>"
      ]
     },
     "metadata": {},
     "output_type": "display_data"
    },
    {
     "data": {
      "text/markdown": [
       "--------------------------------------------------"
      ],
      "text/plain": [
       "<IPython.core.display.Markdown object>"
      ]
     },
     "metadata": {},
     "output_type": "display_data"
    },
    {
     "data": {
      "text/html": [
       "<a href='../../_data/01 Beth/SmileStudio_080318.docx' target='_blank'>../../_data/01 Beth/SmileStudio_080318.docx</a><br>"
      ],
      "text/plain": [
       "/Users/michaelp/Code/WellSaidLabs/_data/01 Beth/SmileStudio_080318.docx"
      ]
     },
     "metadata": {},
     "output_type": "display_data"
    },
    {
     "data": {
      "text/markdown": [
       "Skipped Paragraph: \"PAGE\""
      ],
      "text/plain": [
       "<IPython.core.display.Markdown object>"
      ]
     },
     "metadata": {},
     "output_type": "display_data"
    },
    {
     "data": {
      "text/markdown": [
       "--------------------------------------------------"
      ],
      "text/plain": [
       "<IPython.core.display.Markdown object>"
      ]
     },
     "metadata": {},
     "output_type": "display_data"
    },
    {
     "data": {
      "text/html": [
       "<a href='../../_data/01 Beth/SoutheastTexasGastroAssoc_051818.docx' target='_blank'>../../_data/01 Beth/SoutheastTexasGastroAssoc_051818.docx</a><br>"
      ],
      "text/plain": [
       "/Users/michaelp/Code/WellSaidLabs/_data/01 Beth/SoutheastTexasGastroAssoc_051818.docx"
      ]
     },
     "metadata": {},
     "output_type": "display_data"
    },
    {
     "data": {
      "text/markdown": [
       "Skipped Paragraph: \"PAGE\""
      ],
      "text/plain": [
       "<IPython.core.display.Markdown object>"
      ]
     },
     "metadata": {},
     "output_type": "display_data"
    },
    {
     "data": {
      "text/markdown": [
       "--------------------------------------------------"
      ],
      "text/plain": [
       "<IPython.core.display.Markdown object>"
      ]
     },
     "metadata": {},
     "output_type": "display_data"
    },
    {
     "data": {
      "text/html": [
       "<a href='../../_data/01 Beth/SpeechImprovementCenter_041318.docx' target='_blank'>../../_data/01 Beth/SpeechImprovementCenter_041318.docx</a><br>"
      ],
      "text/plain": [
       "/Users/michaelp/Code/WellSaidLabs/_data/01 Beth/SpeechImprovementCenter_041318.docx"
      ]
     },
     "metadata": {},
     "output_type": "display_data"
    },
    {
     "data": {
      "text/markdown": [
       "Skipped Paragraph: \"PAGE\""
      ],
      "text/plain": [
       "<IPython.core.display.Markdown object>"
      ]
     },
     "metadata": {},
     "output_type": "display_data"
    },
    {
     "data": {
      "text/markdown": [
       "--------------------------------------------------"
      ],
      "text/plain": [
       "<IPython.core.display.Markdown object>"
      ]
     },
     "metadata": {},
     "output_type": "display_data"
    },
    {
     "data": {
      "text/html": [
       "<a href='../../_data/01 Beth/SukutDental_021819.docx' target='_blank'>../../_data/01 Beth/SukutDental_021819.docx</a><br>"
      ],
      "text/plain": [
       "/Users/michaelp/Code/WellSaidLabs/_data/01 Beth/SukutDental_021819.docx"
      ]
     },
     "metadata": {},
     "output_type": "display_data"
    },
    {
     "data": {
      "text/markdown": [
       "Skipped Paragraph: \"PAGE\""
      ],
      "text/plain": [
       "<IPython.core.display.Markdown object>"
      ]
     },
     "metadata": {},
     "output_type": "display_data"
    },
    {
     "data": {
      "text/markdown": [
       "--------------------------------------------------"
      ],
      "text/plain": [
       "<IPython.core.display.Markdown object>"
      ]
     },
     "metadata": {},
     "output_type": "display_data"
    },
    {
     "data": {
      "text/html": [
       "<a href='../../_data/01 Beth/SukutDental_0613118.docx' target='_blank'>../../_data/01 Beth/SukutDental_0613118.docx</a><br>"
      ],
      "text/plain": [
       "/Users/michaelp/Code/WellSaidLabs/_data/01 Beth/SukutDental_0613118.docx"
      ]
     },
     "metadata": {},
     "output_type": "display_data"
    },
    {
     "data": {
      "text/markdown": [
       "Skipped Paragraph: \"PAGE\""
      ],
      "text/plain": [
       "<IPython.core.display.Markdown object>"
      ]
     },
     "metadata": {},
     "output_type": "display_data"
    },
    {
     "data": {
      "text/markdown": [
       "--------------------------------------------------"
      ],
      "text/plain": [
       "<IPython.core.display.Markdown object>"
      ]
     },
     "metadata": {},
     "output_type": "display_data"
    },
    {
     "data": {
      "text/html": [
       "<a href='../../_data/01 Beth/SunshineDentists_091318.docx' target='_blank'>../../_data/01 Beth/SunshineDentists_091318.docx</a><br>"
      ],
      "text/plain": [
       "/Users/michaelp/Code/WellSaidLabs/_data/01 Beth/SunshineDentists_091318.docx"
      ]
     },
     "metadata": {},
     "output_type": "display_data"
    },
    {
     "data": {
      "text/markdown": [
       "Skipped Paragraph: \"PAGE\""
      ],
      "text/plain": [
       "<IPython.core.display.Markdown object>"
      ]
     },
     "metadata": {},
     "output_type": "display_data"
    },
    {
     "data": {
      "text/markdown": [
       "--------------------------------------------------"
      ],
      "text/plain": [
       "<IPython.core.display.Markdown object>"
      ]
     },
     "metadata": {},
     "output_type": "display_data"
    },
    {
     "data": {
      "text/html": [
       "<a href='../../_data/01 Beth/SusquehannaTrailAnimalHospital_080618.docx' target='_blank'>../../_data/01 Beth/SusquehannaTrailAnimalHospital_080618.docx</a><br>"
      ],
      "text/plain": [
       "/Users/michaelp/Code/WellSaidLabs/_data/01 Beth/SusquehannaTrailAnimalHospital_080618.docx"
      ]
     },
     "metadata": {},
     "output_type": "display_data"
    },
    {
     "data": {
      "text/markdown": [
       "Skipped Paragraph: \"PAGE\""
      ],
      "text/plain": [
       "<IPython.core.display.Markdown object>"
      ]
     },
     "metadata": {},
     "output_type": "display_data"
    },
    {
     "data": {
      "text/markdown": [
       "Skipped Paragraph: \"PAGE  1\""
      ],
      "text/plain": [
       "<IPython.core.display.Markdown object>"
      ]
     },
     "metadata": {},
     "output_type": "display_data"
    },
    {
     "data": {
      "text/markdown": [
       "Skipped Paragraph: \"telephoneonhold.com\t1-888-321-8477\""
      ],
      "text/plain": [
       "<IPython.core.display.Markdown object>"
      ]
     },
     "metadata": {},
     "output_type": "display_data"
    },
    {
     "data": {
      "text/markdown": [
       "--------------------------------------------------"
      ],
      "text/plain": [
       "<IPython.core.display.Markdown object>"
      ]
     },
     "metadata": {},
     "output_type": "display_data"
    },
    {
     "data": {
      "text/html": [
       "<a href='../../_data/01 Beth/SweisInc_013019.docx' target='_blank'>../../_data/01 Beth/SweisInc_013019.docx</a><br>"
      ],
      "text/plain": [
       "/Users/michaelp/Code/WellSaidLabs/_data/01 Beth/SweisInc_013019.docx"
      ]
     },
     "metadata": {},
     "output_type": "display_data"
    },
    {
     "data": {
      "text/markdown": [
       "Skipped Paragraph: \"PAGE\""
      ],
      "text/plain": [
       "<IPython.core.display.Markdown object>"
      ]
     },
     "metadata": {},
     "output_type": "display_data"
    },
    {
     "data": {
      "text/markdown": [
       "--------------------------------------------------"
      ],
      "text/plain": [
       "<IPython.core.display.Markdown object>"
      ]
     },
     "metadata": {},
     "output_type": "display_data"
    },
    {
     "data": {
      "text/html": [
       "<a href='../../_data/01 Beth/SweisInc_071718.docx' target='_blank'>../../_data/01 Beth/SweisInc_071718.docx</a><br>"
      ],
      "text/plain": [
       "/Users/michaelp/Code/WellSaidLabs/_data/01 Beth/SweisInc_071718.docx"
      ]
     },
     "metadata": {},
     "output_type": "display_data"
    },
    {
     "data": {
      "text/markdown": [
       "Skipped Paragraph: \"PAGE\""
      ],
      "text/plain": [
       "<IPython.core.display.Markdown object>"
      ]
     },
     "metadata": {},
     "output_type": "display_data"
    },
    {
     "data": {
      "text/markdown": [
       "--------------------------------------------------"
      ],
      "text/plain": [
       "<IPython.core.display.Markdown object>"
      ]
     },
     "metadata": {},
     "output_type": "display_data"
    },
    {
     "data": {
      "text/html": [
       "<a href='../../_data/01 Beth/SweisInc_101018.docx' target='_blank'>../../_data/01 Beth/SweisInc_101018.docx</a><br>"
      ],
      "text/plain": [
       "/Users/michaelp/Code/WellSaidLabs/_data/01 Beth/SweisInc_101018.docx"
      ]
     },
     "metadata": {},
     "output_type": "display_data"
    },
    {
     "data": {
      "text/markdown": [
       "Short Content: \"Our business hours are 8:00am to 5:00pm, Monday through Friday\""
      ],
      "text/plain": [
       "<IPython.core.display.Markdown object>"
      ]
     },
     "metadata": {},
     "output_type": "display_data"
    },
    {
     "data": {
      "text/markdown": [
       "Skipped Paragraph: \"PAGE\""
      ],
      "text/plain": [
       "<IPython.core.display.Markdown object>"
      ]
     },
     "metadata": {},
     "output_type": "display_data"
    },
    {
     "data": {
      "text/markdown": [
       "--------------------------------------------------"
      ],
      "text/plain": [
       "<IPython.core.display.Markdown object>"
      ]
     },
     "metadata": {},
     "output_type": "display_data"
    },
    {
     "data": {
      "text/html": [
       "<a href='../../_data/01 Beth/SynergyFitness_061917.docx' target='_blank'>../../_data/01 Beth/SynergyFitness_061917.docx</a><br>"
      ],
      "text/plain": [
       "/Users/michaelp/Code/WellSaidLabs/_data/01 Beth/SynergyFitness_061917.docx"
      ]
     },
     "metadata": {},
     "output_type": "display_data"
    },
    {
     "data": {
      "text/markdown": [
       "Skipped Paragraph: \"+++++++++++++++++++++++++++++++++++++++++++++++++++++++++++++++++++++++\""
      ],
      "text/plain": [
       "<IPython.core.display.Markdown object>"
      ]
     },
     "metadata": {},
     "output_type": "display_data"
    },
    {
     "data": {
      "text/markdown": [
       "Skipped Paragraph: \"PAGE\""
      ],
      "text/plain": [
       "<IPython.core.display.Markdown object>"
      ]
     },
     "metadata": {},
     "output_type": "display_data"
    },
    {
     "data": {
      "text/markdown": [
       "--------------------------------------------------"
      ],
      "text/plain": [
       "<IPython.core.display.Markdown object>"
      ]
     },
     "metadata": {},
     "output_type": "display_data"
    },
    {
     "data": {
      "text/html": [
       "<a href='../../_data/01 Beth/TechOneAutomotive_042318.docx' target='_blank'>../../_data/01 Beth/TechOneAutomotive_042318.docx</a><br>"
      ],
      "text/plain": [
       "/Users/michaelp/Code/WellSaidLabs/_data/01 Beth/TechOneAutomotive_042318.docx"
      ]
     },
     "metadata": {},
     "output_type": "display_data"
    },
    {
     "data": {
      "text/markdown": [
       "Skipped Paragraph: \"PAGE\""
      ],
      "text/plain": [
       "<IPython.core.display.Markdown object>"
      ]
     },
     "metadata": {},
     "output_type": "display_data"
    },
    {
     "data": {
      "text/markdown": [
       "--------------------------------------------------"
      ],
      "text/plain": [
       "<IPython.core.display.Markdown object>"
      ]
     },
     "metadata": {},
     "output_type": "display_data"
    },
    {
     "data": {
      "text/html": [
       "<a href='../../_data/01 Beth/ThomasServiceCo_053018.docx' target='_blank'>../../_data/01 Beth/ThomasServiceCo_053018.docx</a><br>"
      ],
      "text/plain": [
       "/Users/michaelp/Code/WellSaidLabs/_data/01 Beth/ThomasServiceCo_053018.docx"
      ]
     },
     "metadata": {},
     "output_type": "display_data"
    },
    {
     "data": {
      "text/markdown": [
       "Skipped Paragraph: \"PAGE\""
      ],
      "text/plain": [
       "<IPython.core.display.Markdown object>"
      ]
     },
     "metadata": {},
     "output_type": "display_data"
    },
    {
     "data": {
      "text/markdown": [
       "--------------------------------------------------"
      ],
      "text/plain": [
       "<IPython.core.display.Markdown object>"
      ]
     },
     "metadata": {},
     "output_type": "display_data"
    },
    {
     "data": {
      "text/html": [
       "<a href='../../_data/01 Beth/TigaPediatrics_050418.docx' target='_blank'>../../_data/01 Beth/TigaPediatrics_050418.docx</a><br>"
      ],
      "text/plain": [
       "/Users/michaelp/Code/WellSaidLabs/_data/01 Beth/TigaPediatrics_050418.docx"
      ]
     },
     "metadata": {},
     "output_type": "display_data"
    },
    {
     "data": {
      "text/markdown": [
       "Short Content: \"For appointments, referrals, and prescription refills, please press 3.\""
      ],
      "text/plain": [
       "<IPython.core.display.Markdown object>"
      ]
     },
     "metadata": {},
     "output_type": "display_data"
    },
    {
     "data": {
      "text/markdown": [
       "Short Content: \"For forms, please press 4.\""
      ],
      "text/plain": [
       "<IPython.core.display.Markdown object>"
      ]
     },
     "metadata": {},
     "output_type": "display_data"
    },
    {
     "data": {
      "text/markdown": [
       "Skipped Paragraph: \"\""
      ],
      "text/plain": [
       "<IPython.core.display.Markdown object>"
      ]
     },
     "metadata": {},
     "output_type": "display_data"
    },
    {
     "data": {
      "text/markdown": [
       "Skipped Paragraph: \"\""
      ],
      "text/plain": [
       "<IPython.core.display.Markdown object>"
      ]
     },
     "metadata": {},
     "output_type": "display_data"
    },
    {
     "data": {
      "text/markdown": [
       "Skipped Paragraph: \"\""
      ],
      "text/plain": [
       "<IPython.core.display.Markdown object>"
      ]
     },
     "metadata": {},
     "output_type": "display_data"
    },
    {
     "data": {
      "text/markdown": [
       "Short Content: \"to leave a message for the staff.\""
      ],
      "text/plain": [
       "<IPython.core.display.Markdown object>"
      ]
     },
     "metadata": {},
     "output_type": "display_data"
    },
    {
     "data": {
      "text/markdown": [
       "Skipped Paragraph: \"\""
      ],
      "text/plain": [
       "<IPython.core.display.Markdown object>"
      ]
     },
     "metadata": {},
     "output_type": "display_data"
    },
    {
     "data": {
      "text/markdown": [
       "Skipped Paragraph: \"PAGE\""
      ],
      "text/plain": [
       "<IPython.core.display.Markdown object>"
      ]
     },
     "metadata": {},
     "output_type": "display_data"
    },
    {
     "data": {
      "text/markdown": [
       "--------------------------------------------------"
      ],
      "text/plain": [
       "<IPython.core.display.Markdown object>"
      ]
     },
     "metadata": {},
     "output_type": "display_data"
    },
    {
     "data": {
      "text/html": [
       "<a href='../../_data/01 Beth/TonysFineFoods_072916.docx' target='_blank'>../../_data/01 Beth/TonysFineFoods_072916.docx</a><br>"
      ],
      "text/plain": [
       "/Users/michaelp/Code/WellSaidLabs/_data/01 Beth/TonysFineFoods_072916.docx"
      ]
     },
     "metadata": {},
     "output_type": "display_data"
    },
    {
     "data": {
      "text/markdown": [
       "Short Content: \"Henning’s Hatch Pepper Cheddar is a creamy smooth cheddar that uses the\""
      ],
      "text/plain": [
       "<IPython.core.display.Markdown object>"
      ]
     },
     "metadata": {},
     "output_type": "display_data"
    },
    {
     "data": {
      "text/markdown": [
       "Short Content: \"Another delectable addition from our Dairy Division is Blackstone - a new\""
      ],
      "text/plain": [
       "<IPython.core.display.Markdown object>"
      ]
     },
     "metadata": {},
     "output_type": "display_data"
    },
    {
     "data": {
      "text/markdown": [
       "--------------------------------------------------"
      ],
      "text/plain": [
       "<IPython.core.display.Markdown object>"
      ]
     },
     "metadata": {},
     "output_type": "display_data"
    },
    {
     "data": {
      "text/html": [
       "<a href='../../_data/01 Beth/TravisCountryVeterinaryHospital_061918.docx' target='_blank'>../../_data/01 Beth/TravisCountryVeterinaryHospital_061918.docx</a><br>"
      ],
      "text/plain": [
       "/Users/michaelp/Code/WellSaidLabs/_data/01 Beth/TravisCountryVeterinaryHospital_061918.docx"
      ]
     },
     "metadata": {},
     "output_type": "display_data"
    },
    {
     "data": {
      "text/markdown": [
       "Skipped Paragraph: \"PAGE\""
      ],
      "text/plain": [
       "<IPython.core.display.Markdown object>"
      ]
     },
     "metadata": {},
     "output_type": "display_data"
    },
    {
     "data": {
      "text/markdown": [
       "--------------------------------------------------"
      ],
      "text/plain": [
       "<IPython.core.display.Markdown object>"
      ]
     },
     "metadata": {},
     "output_type": "display_data"
    },
    {
     "data": {
      "text/html": [
       "<a href='../../_data/01 Beth/TruckersChoice_111115.docx' target='_blank'>../../_data/01 Beth/TruckersChoice_111115.docx</a><br>"
      ],
      "text/plain": [
       "/Users/michaelp/Code/WellSaidLabs/_data/01 Beth/TruckersChoice_111115.docx"
      ]
     },
     "metadata": {},
     "output_type": "display_data"
    },
    {
     "data": {
      "text/markdown": [
       "Short Content: \"Thank you for calling Truckers Permitting Services.\""
      ],
      "text/plain": [
       "<IPython.core.display.Markdown object>"
      ]
     },
     "metadata": {},
     "output_type": "display_data"
    },
    {
     "data": {
      "text/markdown": [
       "Short Content: \"For registrations and permits press one.\""
      ],
      "text/plain": [
       "<IPython.core.display.Markdown object>"
      ]
     },
     "metadata": {},
     "output_type": "display_data"
    },
    {
     "data": {
      "text/markdown": [
       "Short Content: \"For insurance press two.\""
      ],
      "text/plain": [
       "<IPython.core.display.Markdown object>"
      ]
     },
     "metadata": {},
     "output_type": "display_data"
    },
    {
     "data": {
      "text/markdown": [
       "Short Content: \"We are located at 376 Duncan Avenue, Jersey City, New Jersey.\""
      ],
      "text/plain": [
       "<IPython.core.display.Markdown object>"
      ]
     },
     "metadata": {},
     "output_type": "display_data"
    },
    {
     "data": {
      "text/markdown": [
       "--------------------------------------------------"
      ],
      "text/plain": [
       "<IPython.core.display.Markdown object>"
      ]
     },
     "metadata": {},
     "output_type": "display_data"
    },
    {
     "data": {
      "text/html": [
       "<a href='../../_data/01 Beth/VisionaryCentreForWomen_061218.docx' target='_blank'>../../_data/01 Beth/VisionaryCentreForWomen_061218.docx</a><br>"
      ],
      "text/plain": [
       "/Users/michaelp/Code/WellSaidLabs/_data/01 Beth/VisionaryCentreForWomen_061218.docx"
      ]
     },
     "metadata": {},
     "output_type": "display_data"
    },
    {
     "data": {
      "text/markdown": [
       "Skipped Paragraph: \"PAGE\""
      ],
      "text/plain": [
       "<IPython.core.display.Markdown object>"
      ]
     },
     "metadata": {},
     "output_type": "display_data"
    },
    {
     "data": {
      "text/markdown": [
       "--------------------------------------------------"
      ],
      "text/plain": [
       "<IPython.core.display.Markdown object>"
      ]
     },
     "metadata": {},
     "output_type": "display_data"
    },
    {
     "data": {
      "text/html": [
       "<a href='../../_data/01 Beth/WhiteCanyonMotors_IVRPrompts_020116.docx' target='_blank'>../../_data/01 Beth/WhiteCanyonMotors_IVRPrompts_020116.docx</a><br>"
      ],
      "text/plain": [
       "/Users/michaelp/Code/WellSaidLabs/_data/01 Beth/WhiteCanyonMotors_IVRPrompts_020116.docx"
      ]
     },
     "metadata": {},
     "output_type": "display_data"
    },
    {
     "data": {
      "text/markdown": [
       "Short Content: \"For Aaron Tripp press 1.\""
      ],
      "text/plain": [
       "<IPython.core.display.Markdown object>"
      ]
     },
     "metadata": {},
     "output_type": "display_data"
    },
    {
     "data": {
      "text/markdown": [
       "Short Content: \"For Brad Hall press 2.\""
      ],
      "text/plain": [
       "<IPython.core.display.Markdown object>"
      ]
     },
     "metadata": {},
     "output_type": "display_data"
    },
    {
     "data": {
      "text/markdown": [
       "Short Content: \"For Casey Chase press 3.\""
      ],
      "text/plain": [
       "<IPython.core.display.Markdown object>"
      ]
     },
     "metadata": {},
     "output_type": "display_data"
    },
    {
     "data": {
      "text/markdown": [
       "Short Content: \"For Mike Hopkins press 4.\""
      ],
      "text/plain": [
       "<IPython.core.display.Markdown object>"
      ]
     },
     "metadata": {},
     "output_type": "display_data"
    },
    {
     "data": {
      "text/markdown": [
       "Short Content: \"For Scott Roberts press 5.\""
      ],
      "text/plain": [
       "<IPython.core.display.Markdown object>"
      ]
     },
     "metadata": {},
     "output_type": "display_data"
    },
    {
     "data": {
      "text/markdown": [
       "Short Content: \"For Scott Stuart press 6.\""
      ],
      "text/plain": [
       "<IPython.core.display.Markdown object>"
      ]
     },
     "metadata": {},
     "output_type": "display_data"
    },
    {
     "data": {
      "text/markdown": [
       "Short Content: \"For Tim Lambert press 7.\""
      ],
      "text/plain": [
       "<IPython.core.display.Markdown object>"
      ]
     },
     "metadata": {},
     "output_type": "display_data"
    },
    {
     "data": {
      "text/markdown": [
       "Short Content: \"For Kelly in parts press 1.\""
      ],
      "text/plain": [
       "<IPython.core.display.Markdown object>"
      ]
     },
     "metadata": {},
     "output_type": "display_data"
    },
    {
     "data": {
      "text/markdown": [
       "Short Content: \"For Rick in accessories press 2.\""
      ],
      "text/plain": [
       "<IPython.core.display.Markdown object>"
      ]
     },
     "metadata": {},
     "output_type": "display_data"
    },
    {
     "data": {
      "text/markdown": [
       "Short Content: \"For Bill in parts press 3.\""
      ],
      "text/plain": [
       "<IPython.core.display.Markdown object>"
      ]
     },
     "metadata": {},
     "output_type": "display_data"
    },
    {
     "data": {
      "text/markdown": [
       "Short Content: \"For Jay in parts press 4.\""
      ],
      "text/plain": [
       "<IPython.core.display.Markdown object>"
      ]
     },
     "metadata": {},
     "output_type": "display_data"
    },
    {
     "data": {
      "text/markdown": [
       "Short Content: \"For Brittney in titles press 1.\""
      ],
      "text/plain": [
       "<IPython.core.display.Markdown object>"
      ]
     },
     "metadata": {},
     "output_type": "display_data"
    },
    {
     "data": {
      "text/markdown": [
       "Short Content: \"For Amy in accounts payable press 2.\""
      ],
      "text/plain": [
       "<IPython.core.display.Markdown object>"
      ]
     },
     "metadata": {},
     "output_type": "display_data"
    },
    {
     "data": {
      "text/markdown": [
       "Short Content: \"For Glenys the office manager and accounts receivable press 3.\""
      ],
      "text/plain": [
       "<IPython.core.display.Markdown object>"
      ]
     },
     "metadata": {},
     "output_type": "display_data"
    },
    {
     "data": {
      "text/markdown": [
       "Short Content: \"For Weston in IT/Web press 4.\""
      ],
      "text/plain": [
       "<IPython.core.display.Markdown object>"
      ]
     },
     "metadata": {},
     "output_type": "display_data"
    },
    {
     "data": {
      "text/markdown": [
       "Short Content: \"For Pete our new sales manager press 5.\""
      ],
      "text/plain": [
       "<IPython.core.display.Markdown object>"
      ]
     },
     "metadata": {},
     "output_type": "display_data"
    },
    {
     "data": {
      "text/markdown": [
       "Short Content: \"For Troy our used sales manager press 6.\""
      ],
      "text/plain": [
       "<IPython.core.display.Markdown object>"
      ]
     },
     "metadata": {},
     "output_type": "display_data"
    },
    {
     "data": {
      "text/markdown": [
       "Short Content: \"For Kevin our general manager press 7.\""
      ],
      "text/plain": [
       "<IPython.core.display.Markdown object>"
      ]
     },
     "metadata": {},
     "output_type": "display_data"
    },
    {
     "data": {
      "text/markdown": [
       "Short Content: \"For Shawn our service manager press 8.\""
      ],
      "text/plain": [
       "<IPython.core.display.Markdown object>"
      ]
     },
     "metadata": {},
     "output_type": "display_data"
    },
    {
     "data": {
      "text/markdown": [
       "Short Content: \"For Jay our parts manager press 9.\""
      ],
      "text/plain": [
       "<IPython.core.display.Markdown object>"
      ]
     },
     "metadata": {},
     "output_type": "display_data"
    },
    {
     "data": {
      "text/markdown": [
       "Skipped Paragraph: \"PAGE\""
      ],
      "text/plain": [
       "<IPython.core.display.Markdown object>"
      ]
     },
     "metadata": {},
     "output_type": "display_data"
    },
    {
     "data": {
      "text/markdown": [
       "--------------------------------------------------"
      ],
      "text/plain": [
       "<IPython.core.display.Markdown object>"
      ]
     },
     "metadata": {},
     "output_type": "display_data"
    },
    {
     "data": {
      "text/html": [
       "<a href='../../_data/01 Beth/WhitePlainsChryslerJeep_041615.docx' target='_blank'>../../_data/01 Beth/WhitePlainsChryslerJeep_041615.docx</a><br>"
      ],
      "text/plain": [
       "/Users/michaelp/Code/WellSaidLabs/_data/01 Beth/WhitePlainsChryslerJeep_041615.docx"
      ]
     },
     "metadata": {},
     "output_type": "display_data"
    },
    {
     "data": {
      "text/markdown": [
       "Skipped Paragraph: \"PAGE\""
      ],
      "text/plain": [
       "<IPython.core.display.Markdown object>"
      ]
     },
     "metadata": {},
     "output_type": "display_data"
    },
    {
     "data": {
      "text/markdown": [
       "--------------------------------------------------"
      ],
      "text/plain": [
       "<IPython.core.display.Markdown object>"
      ]
     },
     "metadata": {},
     "output_type": "display_data"
    },
    {
     "data": {
      "text/html": [
       "<a href='../../_data/01 Beth/WhitePlainsChrysler_071416.docx' target='_blank'>../../_data/01 Beth/WhitePlainsChrysler_071416.docx</a><br>"
      ],
      "text/plain": [
       "/Users/michaelp/Code/WellSaidLabs/_data/01 Beth/WhitePlainsChrysler_071416.docx"
      ]
     },
     "metadata": {},
     "output_type": "display_data"
    },
    {
     "data": {
      "text/markdown": [
       "Split by Spaces: ['Statement 2:', 'Now is the time to experience the optimum in style and safety! The 2018 Jeep Renegade 4x4 delivers power and design with a 1.4 liter turbo engine featuring a six-speed manual transmission along with available my sky sunroof and standard backup camera, 16-inch steel wheels, remote keyless entry with panic alarm and a height adjustable rear cargo floor. All these features and more make the Renegade the pinnacle of performance and convenience. Or maybe you should check out the all new 2018 Jeep Compass, the all new SUV with style and performance to meet the snowy conditions the winter will bring.  This dream SUV has more than 70 available safety and security features.  The all new Jeep Compass is the most capable compact SUV in its segment.  To see these spectacular vehicles and all other exciting options, visit us online at White Plains Chrysler dot com.']"
      ],
      "text/plain": [
       "<IPython.core.display.Markdown object>"
      ]
     },
     "metadata": {},
     "output_type": "display_data"
    },
    {
     "data": {
      "text/markdown": [
       "Split by Spaces: ['Statement 6:', 'Now that fall is here, it’s time to hit the road in style and comfort. If you’re planning a family tailgate event and need the ultimate in space, may we suggest the all  new 2018 Chrysler Pacifica, available with 8 passenger seating and a class exclusive hybrid model? Or maybe you’re looking for a go-anywhere, do-anything vehicle? The legendary Jeep Wrangler — whether 2-door or 4-door — is always in fashion. And did you know the Wrangler is the only convertible SUV made in America today? Come and visit our showroom for a test drive!']"
      ],
      "text/plain": [
       "<IPython.core.display.Markdown object>"
      ]
     },
     "metadata": {},
     "output_type": "display_data"
    },
    {
     "data": {
      "text/markdown": [
       "Split by Spaces: ['Statement 8:', 'The experts at Consumer Guide Automotive have revealed their “Best Buys” for 2018 and we are pleased to announce that five of our models have made the cut! The all-new 2018 Chrysler Pacifica has arrived with unparalleled safety features and elegant styling that drives to impress.  The most popular SUV in America, the 2018 Jeep Grand Cherokee, is a winner of the National Highway Traffic Safety Administration’s “five star award.”  The Dodge Durango scored tops among large SUVs, while the Dodge Journey – available in both front or all-wheel drive — was singled out as the midsize crossover that you need to own!  Come and take a look at any of these vehicles and you’ll see just what all the buzz is about.']"
      ],
      "text/plain": [
       "<IPython.core.display.Markdown object>"
      ]
     },
     "metadata": {},
     "output_type": "display_data"
    },
    {
     "data": {
      "text/markdown": [
       "Skipped Paragraph: \"PAGE\""
      ],
      "text/plain": [
       "<IPython.core.display.Markdown object>"
      ]
     },
     "metadata": {},
     "output_type": "display_data"
    },
    {
     "data": {
      "text/markdown": [
       "--------------------------------------------------"
      ],
      "text/plain": [
       "<IPython.core.display.Markdown object>"
      ]
     },
     "metadata": {},
     "output_type": "display_data"
    },
    {
     "data": {
      "text/html": [
       "<a href='../../_data/01 Beth/WhitePlainsChrysler_091018.docx' target='_blank'>../../_data/01 Beth/WhitePlainsChrysler_091018.docx</a><br>"
      ],
      "text/plain": [
       "/Users/michaelp/Code/WellSaidLabs/_data/01 Beth/WhitePlainsChrysler_091018.docx"
      ]
     },
     "metadata": {},
     "output_type": "display_data"
    },
    {
     "data": {
      "text/markdown": [
       "Split by Spaces: ['Statement 2:', 'Now is the time to experience the optimum in style and safety! The 2019 Jeep Cherokee limited 4 by 4 delivers power and design with a 3 point 2 liter V6 engine featuring a nine-speed automatic transmission along with standard backup camera and blind spot monitoring, apple card play/android auto, leather seating and 18 inch aluminum wheels.  All these features and more make the Cherokee limited the pinnacle of performance and convenience.  You will find comfort in knowing that the Cherokee limited has among the best safety features to better protect you and your family.  Or maybe you should check out the all new 2019 Jeep Compass, the all new SUV with style and performance to meet the snowy conditions the winter will bring.  This dream SUV has more than 70 available safety and security features.  The all new Jeep Compass is the most capable compact SUV in its segment.  To see these spectacular vehicles and all other exciting options, visit us online at White Plains Chrysler dot com.']"
      ],
      "text/plain": [
       "<IPython.core.display.Markdown object>"
      ]
     },
     "metadata": {},
     "output_type": "display_data"
    },
    {
     "data": {
      "text/markdown": [
       "Split by Spaces: ['Statement 6:', 'Now that fall is around the corner, it’s time to hit the road in style and comfort. If you’re planning a family tailgate event and need the ultimate in space, may we suggest the all  new 2019 Chrysler Pacifica, available with 8 passenger seating and a class exclusive hybrid model? Or maybe you’re looking for a go-anywhere, do-anything vehicle? The legendary Jeep Wrangler — whether 2-door or 4-door — is always in fashion. And did you know the Wrangler is the only convertible SUV made in America today? The Wrangler is the ultimate versatility vehicle in American today.  Off road, sand dunes or taking the kids to school, it’s sure to make you proud and always certain to get the extra look.  Come and visit our showroom for a test drive!']"
      ],
      "text/plain": [
       "<IPython.core.display.Markdown object>"
      ]
     },
     "metadata": {},
     "output_type": "display_data"
    },
    {
     "data": {
      "text/markdown": [
       "Split by Spaces: ['Statement 8:', 'The experts at Consumer Guide Automotive have revealed their “Best Buys” for 2018 and we are pleased to announce that three of our models have made the cut! The all-new 2019 Chrysler Pacifica has arrived with unparalleled safety features and elegant styling that drives to impress, or check out the all new Ram fifteen hundred, which has the pickup segment very excited with this uniquely superior vehicle.  It’s rugged and stylish, and will impress in any driveway.   Come and take a look at any of these vehicles and you’ll see just what all the buzz is about.']"
      ],
      "text/plain": [
       "<IPython.core.display.Markdown object>"
      ]
     },
     "metadata": {},
     "output_type": "display_data"
    },
    {
     "data": {
      "text/markdown": [
       "Skipped Paragraph: \"PAGE\""
      ],
      "text/plain": [
       "<IPython.core.display.Markdown object>"
      ]
     },
     "metadata": {},
     "output_type": "display_data"
    },
    {
     "data": {
      "text/markdown": [
       "--------------------------------------------------"
      ],
      "text/plain": [
       "<IPython.core.display.Markdown object>"
      ]
     },
     "metadata": {},
     "output_type": "display_data"
    },
    {
     "data": {
      "text/html": [
       "<a href='../../_data/01 Beth/WhitesCanyonFordAndLincoln_031618.docx' target='_blank'>../../_data/01 Beth/WhitesCanyonFordAndLincoln_031618.docx</a><br>"
      ],
      "text/plain": [
       "/Users/michaelp/Code/WellSaidLabs/_data/01 Beth/WhitesCanyonFordAndLincoln_031618.docx"
      ]
     },
     "metadata": {},
     "output_type": "display_data"
    },
    {
     "data": {
      "text/markdown": [
       "Skipped Paragraph: \"PAGE\""
      ],
      "text/plain": [
       "<IPython.core.display.Markdown object>"
      ]
     },
     "metadata": {},
     "output_type": "display_data"
    },
    {
     "data": {
      "text/markdown": [
       "Skipped Paragraph: \"PAGE  1\""
      ],
      "text/plain": [
       "<IPython.core.display.Markdown object>"
      ]
     },
     "metadata": {},
     "output_type": "display_data"
    },
    {
     "data": {
      "text/markdown": [
       "Skipped Paragraph: \"telephoneonhold.com\t1-888-321-8477\""
      ],
      "text/plain": [
       "<IPython.core.display.Markdown object>"
      ]
     },
     "metadata": {},
     "output_type": "display_data"
    },
    {
     "data": {
      "text/markdown": [
       "--------------------------------------------------"
      ],
      "text/plain": [
       "<IPython.core.display.Markdown object>"
      ]
     },
     "metadata": {},
     "output_type": "display_data"
    },
    {
     "data": {
      "text/html": [
       "<a href='../../_data/01 Beth/WhitesCanyonFord_Lincoln_112316.docx' target='_blank'>../../_data/01 Beth/WhitesCanyonFord_Lincoln_112316.docx</a><br>"
      ],
      "text/plain": [
       "/Users/michaelp/Code/WellSaidLabs/_data/01 Beth/WhitesCanyonFord_Lincoln_112316.docx"
      ]
     },
     "metadata": {},
     "output_type": "display_data"
    },
    {
     "data": {
      "text/markdown": [
       "Skipped Paragraph: \"PAGE\""
      ],
      "text/plain": [
       "<IPython.core.display.Markdown object>"
      ]
     },
     "metadata": {},
     "output_type": "display_data"
    },
    {
     "data": {
      "text/markdown": [
       "--------------------------------------------------"
      ],
      "text/plain": [
       "<IPython.core.display.Markdown object>"
      ]
     },
     "metadata": {},
     "output_type": "display_data"
    }
   ],
   "source": [
    "from IPython.display import FileLink\n",
    "from IPython.display import Markdown\n",
    "import json\n",
    "import docx\n",
    "import pandas\n",
    "import re\n",
    "import pandas as pd\n",
    "import shutil\n",
    "\n",
    "def remove_parentheses(text):\n",
    "    \"\"\" Remove paranethesis and / or brackets in text.\n",
    "    \n",
    "    Example: \n",
    "    \n",
    "        >>> text = \"Statement 7:  (repeating Statement 3)\"\n",
    "        >>> remove_parentheses(text)\n",
    "        Statement 7:\n",
    "        \n",
    "    Args:\n",
    "        text (str)\n",
    "\n",
    "    Returns:\n",
    "        str\n",
    "    \"\"\"\n",
    "    return re.sub(\"[\\(\\[].*?[\\)\\]]\", \"\", text).strip()\n",
    "\n",
    "def is_title(text):\n",
    "    \"\"\" Return `True` if text is a \"title\".\n",
    "    \n",
    "    Example titles:\n",
    "      Statement 2:\n",
    "      For Spanish:\n",
    "      Statement 4A:\n",
    "      Day Greeting:\n",
    "      Close message:\n",
    "      Statement:  10:\n",
    "      :15 Spot\\u2014Ready?\n",
    "      Phone Greeting:\n",
    "      On Hold Program:\n",
    "      After pressing 2:\n",
    "      Holiday Greeting:\n",
    "      Prompt2a\\u2013Press3Menu\n",
    "      Main Greeting Menu:\n",
    "      Statement 4:  (Blue)\n",
    "      Option 1 \\u2013 No Answer:\n",
    "      Testimonial 1: (BLUE)\n",
    "      Callback Confirmation:\n",
    "      Secondary IVR Greeting:\n",
    "      Prompt12-FunshoVoicemail\n",
    "      New Statement 2: (for post holiday program)_\n",
    "      Prompt9-Press2MenuOpenNationalHolidayM-F9AM-8PM\n",
    "    \n",
    "    Args:\n",
    "        text (str)\n",
    "\n",
    "    Returns:\n",
    "        bool\n",
    "    \"\"\"\n",
    "    text = remove_parentheses(text)\n",
    "    if text[-1] == ':' and len(text) < 50: \n",
    "        return True \n",
    "    # Match:\n",
    "    # 6.\n",
    "    # 4.\n",
    "    # 5.\n",
    "    if len(text) < 5:\n",
    "        return True\n",
    "    # Match\n",
    "    # Ready?\n",
    "    # Statement3\n",
    "    # Statement 5\n",
    "    # :15 Spot\\u2014Ready?\n",
    "    # Voicemail Greeting.\n",
    "    # Prompt1\\u2013ThankYouForCalling\n",
    "    if len(text) < 25 and any([s in text for s in ['Ready', 'Statement', 'Greeting', 'Prompt']]):\n",
    "        return True\n",
    "    # Matches: \n",
    "    # Prompt10-Press2MenuOpenNationalHolidayM-F7AM-8PM\n",
    "    # Prompt 5b- AssistingAnotherPatient-Hold Message\n",
    "    # Prompt2b\\u2013Press3Menu- Monarch Physiotherapy\n",
    "    if re.match(r\"prompt[\\s]{0,1}[0-9]+.*\", text, re.IGNORECASE):\n",
    "        return True\n",
    "    return False\n",
    "\n",
    "def is_noise(text):\n",
    "    \"\"\" Return `True` if text is \"noise\".\n",
    "    \n",
    "    Example noise:\n",
    "      ++++++++++++++++++++++++++++++++++++++++++++++++++++++++++++++++++++\n",
    "      telephoneonhold.com\\t1-888-321-8477\n",
    "      PAGE \n",
    "      .\n",
    "      \n",
    "    Args:\n",
    "        text (str)\n",
    "\n",
    "    Returns:\n",
    "        bool\n",
    "    \"\"\"\n",
    "    if len(text) == 0:\n",
    "        return True\n",
    "    if not re.search(r\"[a-zA-Z0-9]\", text): # Has no letters in the text\n",
    "        return True\n",
    "    if 'PAGE' in text: # Typically seen as the last text in a script\n",
    "        return True\n",
    "    if 'telephoneonhold.com\\t1-888-321-8477' in text: # One off case\n",
    "        return True\n",
    "    if '(Dr. Jack (grin year))' in text: # One off case\n",
    "        return True\n",
    "    return False\n",
    "\n",
    "def has_white_text(paragraph):\n",
    "    \"\"\" Return `True` if paragraph contains white text. \n",
    "    \n",
    "    Args:\n",
    "        paragraph (docx.text.paragraph.Paragraph)\n",
    "\n",
    "    Returns:\n",
    "        bool\n",
    "    \"\"\"\n",
    "    if 'FFFFFF' in set([str(r.font.color.rgb) for r in paragraph.runs]):\n",
    "        display(Markdown('Whited Out Text: \"%s\"' % paragraph.text))\n",
    "        return True\n",
    "    return False\n",
    "        \n",
    "    \n",
    "def strip_quotes(text):\n",
    "    \"\"\" Strip quotes if ``text`` has quotes on both sides.\n",
    "    \n",
    "    Args:\n",
    "        text (str)\n",
    "        \n",
    "    Returns:\n",
    "        str\n",
    "    \"\"\"\n",
    "    if (text[0] == '“' or text[0] == '\"') and (text[-1] == '\"' or text[-1] == '”'):\n",
    "        return text[1:-1]\n",
    "    return text\n",
    "    \n",
    "# Flatten a 2-d list into a 1-d list\n",
    "# Inspired by: https://stackoverflow.com/questions/952914/how-to-make-a-flat-list-out-of-list-of-lists\n",
    "flatten = lambda l: [item for sublist in l for item in sublist]\n",
    "    \n",
    "text_files = [path for path in source.glob('*.docx')]\n",
    "audio_files = [path for path in source.glob('*.wav')]\n",
    "\n",
    "# For inspecting results accross the entire dataset\n",
    "all_content = []\n",
    "all_title = []\n",
    "all_noise = []\n",
    "\n",
    "for text_file, audio_file in zip(sorted(text_files), sorted(audio_files)):\n",
    "    display(FileLink(text_file))\n",
    "    \n",
    "    document = docx.Document(text_file)\n",
    "    # Split by newline, filter white text, filter empty text\n",
    "    paragraphs = flatten([p.text.split('\\n') for p in document.paragraphs \n",
    "                          if len(p.text.strip()) > 0 and not has_white_text(p)])\n",
    "    # Split by 7 spaces or more and strip (This number was set by trial and error)\n",
    "    # NOTE: In the Beth dataset, instead of a newline there is a bunch of spaces sometimes.\n",
    "    paragraphs = [re.split(r'\\s{7,}', p.strip()) for p in paragraphs]\n",
    "    for p in paragraphs:\n",
    "        if len(p) > 1:\n",
    "            display(Markdown('Split by Spaces: %s' % p))\n",
    "    paragraphs = flatten(paragraphs)\n",
    "    \n",
    "    # Create table with title and content columns.\n",
    "    rows = []\n",
    "    for paragraph in paragraphs:\n",
    "        paragraph = paragraph.strip()\n",
    "        if is_noise(paragraph):\n",
    "            display(Markdown('Skipped Paragraph: \"%s\"' % paragraph))\n",
    "            all_noise.append(paragraph)\n",
    "        elif is_title(paragraph):\n",
    "            if len(paragraph) > 75: # Determined by trial and error\n",
    "                display(Markdown('Long Title: \"%s\"' % paragraph))\n",
    "                \n",
    "            rows.append({'Title': paragraph, 'Content': []})\n",
    "            all_title.append(paragraph)\n",
    "        else:\n",
    "            if len(paragraph) < 75: # Determined by trial and error\n",
    "                display(Markdown('Short Content: \"%s\"' % paragraph))\n",
    "                \n",
    "            paragraph = strip_quotes(paragraph) \n",
    "            all_content.append(paragraph)\n",
    "            if len(rows) == 0:\n",
    "                rows = [{'Title': '', 'Content': [paragraph]}]\n",
    "            else:   \n",
    "                rows[-1]['Content'].append(paragraph)\n",
    "    \n",
    "    for row in rows:\n",
    "        row['Content'] = '\\n'.join(row['Content'])\n",
    "    \n",
    "    rows = [r for r in rows if len(r['Content']) > 0]\n",
    "    \n",
    "    df = pd.DataFrame(rows)\n",
    "    df.to_csv(str(destination / (text_file.stem + '.csv')), index=False)\n",
    "    shutil.copy(audio_file, str(destination / audio_file.name))\n",
    "    display(Markdown('-' * 50))"
   ]
  },
  {
   "cell_type": "markdown",
   "metadata": {},
   "source": [
    "## QA Script"
   ]
  },
  {
   "cell_type": "code",
   "execution_count": 6,
   "metadata": {},
   "outputs": [
    {
     "name": "stdout",
     "output_type": "stream",
     "text": [
      "{'', 'PAGE  1', ':', '++++++++++++++++++++++++++++++++++++++++++++++++++++++++++++++++++++++', '++++++++++++++++++++++++++++++++++++++++++++++++++++++++++++++++++++', '(Dr. Jack (grin year))', '+++++++++++++++++++++++++++++++++++++++++++++++++++++++++++++++++++++++', '++++++++++++++++++++++++++++++++++++++', 'telephoneonhold.com\\t1-888-321-8477', 'PAGE', '.'}\n"
     ]
    }
   ],
   "source": [
    "print(set(all_noise))"
   ]
  },
  {
   "cell_type": "code",
   "execution_count": 7,
   "metadata": {},
   "outputs": [
    {
     "name": "stdout",
     "output_type": "stream",
     "text": [
      "[\n",
      "  \"5.\",\n",
      "  \"6.\",\n",
      "  \"4.\",\n",
      "  \"Ready?\",\n",
      "  \"Hours:\",\n",
      "  \"Prompt:\",\n",
      "  \"Address:\",\n",
      "  \"Prompt 3:\",\n",
      "  \"Prompt 2:\",\n",
      "  \"Prompt 1:\",\n",
      "  \"Location:\",\n",
      "  \"Statement3\",\n",
      "  \"Statement 6\",\n",
      "  \"Statement 5\",\n",
      "  \"Statement 7\",\n",
      "  \"Statement 6:\",\n",
      "  \"For Spanish:\",\n",
      "  \"Statement 5:\",\n",
      "  \"Statement 4:\",\n",
      "  \"Statement 2:\",\n",
      "  \"Statement 7:\",\n",
      "  \"Statement 3:\",\n",
      "  \"Statement 8:\",\n",
      "  \"Statement 9:\",\n",
      "  \"Statement 1:\",\n",
      "  \"Statement 3a:\",\n",
      "  \"Day Greeting:\",\n",
      "  \"Statement 4a:\",\n",
      "  \"Statement 10:\",\n",
      "  \"Statement 2a:\",\n",
      "  \"Statement 2b:\",\n",
      "  \"Statement 12:\",\n",
      "  \"Statement 4A:\",\n",
      "  \"Statement 3A:\",\n",
      "  \"Statement 13:\",\n",
      "  \"Statement 14:\",\n",
      "  \"Statement 1B:\",\n",
      "  \"Statement 5a:\",\n",
      "  \"Statement 6A:\",\n",
      "  \"Statement 5A:\",\n",
      "  \"Statement 2A:\",\n",
      "  \"Statement 11:\",\n",
      "  \"Statement 1a:\",\n",
      "  \"Close message:\",\n",
      "  \"Phone Greeting:\",\n",
      "  \"Statement:  10:\",\n",
      "  \":15 Spot\\u2014Ready?\",\n",
      "  \"Night Greeting:\",\n",
      "  \"Closed Greeting:\",\n",
      "  \"On Hold Program:\",\n",
      "  \"Welcome Greeting:\",\n",
      "  \"After pressing 3:\",\n",
      "  \"Daytime Greeting:\",\n",
      "  \"Greeting Message:\",\n",
      "  \"Holiday Greeting:\",\n",
      "  \"After pressing 2:\",\n",
      "  \"Up Front Message:\",\n",
      "  \"After pressing 4:\",\n",
      "  \"Inclement weather:\",\n",
      "  \"Voicemail Greeting.\",\n",
      "  \"Prompt2a\\u2013Press3Menu\",\n",
      "  \"Voicemail Greeting:\",\n",
      "  \"Main Greeting Menu:\",\n",
      "  \"Statement 2:  (Blue)\",\n",
      "  \"Statement 4:  (Blue)\",\n",
      "  \"Testimonial 1: (BLUE)\",\n",
      "  \"Testimonial 8:  (BLUE)\",\n",
      "  \"Prompt2c\\u2013PressExt#Menu\",\n",
      "  \"Office Closed Message:\",\n",
      "  \"Callback Confirmation:\",\n",
      "  \"Testimonial 6:  (BLUE)\",\n",
      "  \"Testimonial 4:   (BLUE)\",\n",
      "  \"Testimonial 10:  (BLUE)\",\n",
      "  \"Secondary IVR Greeting:\",\n",
      "  \"Prompt12-FunshoVoicemail\",\n",
      "  \"Statement 6a:  (holiday)\",\n",
      "  \"Callback Option Greeting:\",\n",
      "  \"Prompt1\\u2013ThankYouForCalling\",\n",
      "  \"Prompt7-OpenNationalHoliday\",\n",
      "  \"Prompt1b\\u2013ThankYouForCalling_\",\n",
      "  \"Prompt6-ClosedNationalHoliday\",\n",
      "  \"Prompt4-OfficeClosedM-F7AM-7PM\",\n",
      "  \"Prompt3-OfficeClosedM-F9AM-7PM\",\n",
      "  \"Hotline Auto Attendant Message:\",\n",
      "  \"Statement 2:  (for holiday program)\",\n",
      "  \"Prompt8-Press1MenuOpenNationalHoliday\",\n",
      "  \"Statement 5:  (repeating Statement 2)\",\n",
      "  \"Statement 7:  (repeating Statement 3)\",\n",
      "  \"Statement 1:  (Ye is pronounced \\u201cyee\\u201d)\",\n",
      "  \"Prompt11-Press3MenuOpenNationalHoliday\",\n",
      "  \"Non-Working Hours & Holidays Voicemail:\",\n",
      "  \"Prompt11b-Press3MenuOpenNationalHoliday\",\n",
      "  \"Auto Attendant Day - File Name 10001.VOX:\",\n",
      "  \"Prompt2b\\u2013Press3Menu- Monarch Physiotherapy\",\n",
      "  \"New Statement 2: (for post holiday program)_\",\n",
      "  \"Prompt5-AssistingAnotherPatient-Leave Message\",\n",
      "  \"Prompt9-Press2MenuOpenNationalHolidayM-F9AM-8PM\",\n",
      "  \"Prompt 5b- AssistingAnotherPatient-Hold Message\",\n",
      "  \"Prompt10-Press2MenuOpenNationalHolidayM-F7AM-8PM\",\n",
      "  \"Statement 1:  (La Porte is pronounced \\u201cLuh PORT\\u201d)\",\n",
      "  \"Prompt1c\\u2013ThankYouForCalling_ Monarch Physiotherapy\",\n",
      "  \"After Pressing 2:  (Terah is pronounced \\u201cTER ruh\\u201d)\",\n",
      "  \"Statement 4:  (amalgam is pronounced \\u201cuh MAL gum\\u201d)\",\n",
      "  \"Statement 4:  (Mahassek is pronounced \\u201cmuh HASS ick\\u201d)\",\n",
      "  \"Statement 1A (to be in effect Nov.16th \\u2013 December 31st)\",\n",
      "  \"Daytime Holiday Greeting GENERIC:  (use same for closed)\",\n",
      "  \"Statement 2:  (read \\u201ch i\\u201d as individual letters, not as a word)\",\n",
      "  \"Statement 1:  (please pronounce HVAC as individual letters \\u2013 H V A C)\"\n",
      "]\n"
     ]
    }
   ],
   "source": [
    "print(json.dumps(sorted(list(set(all_title)), key=lambda h: len(h)), indent=2))"
   ]
  },
  {
   "cell_type": "code",
   "execution_count": 8,
   "metadata": {},
   "outputs": [
    {
     "name": "stdout",
     "output_type": "stream",
     "text": [
      "[\n",
      "  \"-January.\",\n",
      "  \"necessary.\\u201d\",\n",
      "  \"<little pause>\",\n",
      "  \"will assist you.\",\n",
      "  \"For Bayo, Press 1\",\n",
      "  \"For Funsho, Press 1\",\n",
      "  \"You\\u2019re almost done!\",\n",
      "  \"To reach Bayo Press 1\",\n",
      "  \"For Brad Hall press 2.\",\n",
      "  \"To reach Funsho Press 1\",\n",
      "  \"For Casey Chase press 3.\",\n",
      "  \"For Aaron Tripp press 1.\",\n",
      "  \"Then, tap Motion Snooze.\",\n",
      "  \"For insurance press two.\",\n",
      "  \"For Tim Lambert press 7.\",\n",
      "  \"To reach Payroll, press 6\",\n",
      "  \"For Chiropractor, Press 4\",\n",
      "  \"To reach Finance, press 7\",\n",
      "  \"For Mike Hopkins press 4.\",\n",
      "  \"For Scott Stuart press 6.\",\n",
      "  \"For Jay in parts press 4.\",\n",
      "  \"For Scott Roberts press 5.\",\n",
      "  \"For Bill in parts press 3.\",\n",
      "  \"For forms, please press 4.\",\n",
      "  \"...set your desired angle\\u2026\",\n",
      "  \"For Kelly in parts press 1.\",\n",
      "  \"For Physiotherapist, Press 2\",\n",
      "  \"to reach Recruiting, press 5\",\n",
      "  \"to reach Retail Ops, press 4\",\n",
      "  \"...then re-tighten the screw.\",\n",
      "  \"For the Chiropractor, Press 4\",\n",
      "  \"With Ring you\\u2019re always home.\",\n",
      "  \"For Weston in IT/Web press 4.\",\n",
      "  \"...and it\\u2019s ready to install.\",\n",
      "  \"This copper wire is a ground.\",\n",
      "  \"For Massage Therapist, Press 3\",\n",
      "  \"For Brittney in titles press 1.\",\n",
      "  \"To reach Supply Chain, press 2.\",\n",
      "  \"To reach Boutique Care, Press 3\",\n",
      "  \"For Rick in accessories press 2.\",\n",
      "  \"Ask about our New Year Specials!\",\n",
      "  \"Trying to eat healthier in 2019?\",\n",
      "  \"to leave a message for the staff.\",\n",
      "  \"Health Tip- Surviving Flu Season.\",\n",
      "  \"Meet Your New Ring Floodlight Cam\",\n",
      "  \"For Jay our parts manager press 9.\",\n",
      "  \"To set up a Motion Zone, tap here.\",\n",
      "  \"Health Tip- Healthy Eating in 2019.\",\n",
      "  \"Pricing valid through February 28th.\",\n",
      "  \"For Amy in accounts payable press 2.\",\n",
      "  \"To leave a message for Ken, press 5.\",\n",
      "  \"To leave a message for Kirk, press 4.\",\n",
      "  \"Tap Delete to erase a recorded event.\",\n",
      "  \"To leave a message for John, press 3.\",\n",
      "  \"The charging port is just below that.\",\n",
      "  \"Now you\\u2019re ready to connect the wires.\",\n",
      "  \"For Shawn our service manager press 8.\",\n",
      "  \"To leave a message for Terah, press 2.\",\n",
      "  \"For Kevin our general manager press 7.\",\n",
      "  \"Next, drive the three mounting screws.\",\n",
      "  \"Finally, snap the cover onto the base.\",\n",
      "  \"But did you know hugs are healthy, too?\",\n",
      "  \"To leave a message for Debbie, press 1.\",\n",
      "  \"For our general voicemail box, press 6.\",\n",
      "  \"For Spanish, please press the # button.\",\n",
      "  \"For Pete our new sales manager press 5.\",\n",
      "  \"Now, let\\u2019s reconnect your Stick Up Cam.\",\n",
      "  \"Now you\\u2019ll install the provided bracket.\",\n",
      "  \"For Troy our used sales manager press 6.\",\n",
      "  \"For registrations and permits press one.\",\n",
      "  \"Then, unscrew the bracket from the wall.\",\n",
      "  \"To reach one of our clinical Staff Press 3\",\n",
      "  \"If your bell plays a melody when it rings\\u2026\",\n",
      "  \"Ask us about our New Year monthly specials\",\n",
      "  \"Next, let\\u2019s learn how to use Chime Snooze.\",\n",
      "  \"They\\u2019re available to help 24/7 at ring.com.\",\n",
      "  \"To repeat these options, please press star.\",\n",
      "  \"To reach one of our clinical Staff, Press 3\",\n",
      "  \"First, let\\u2019s learn how to use Motion Snooze.\",\n",
      "  \"To reach Bayo at an alternate number Press 2\",\n",
      "  \"You are now ready to wire your Floodlight Cam.\",\n",
      "  \"To reach Funsho at an alternate number Press 2\",\n",
      "  \"Motion events are marked with a \\u201cmoving person.\",\n",
      "  \"To repeat these menu options, please press nine.\",\n",
      "  \"You are now ready to secure your Floodlight Cam.\",\n",
      "  \"If so, then you probably have a mechanical bell.\",\n",
      "  \"For sales and customer service, please press one.\",\n",
      "  \"Then, flip the base toward the rear of the camera.\",\n",
      "  \"Then, remove the cover from your internal doorbell.\",\n",
      "  \"Tap the Plus button to access additional functions.\",\n",
      "  \"Thank you for calling Monarch Physiotherapy Clinic.\",\n",
      "  \"Thank you for calling Truckers Permitting Services.\",\n",
      "  \"Plug the included USB power supply into an outlet...\",\n",
      "  \"Loosen the screws on the back of your Ring Doorbell.\",\n",
      "  \"First, let\\u2019s get your Spotlight Cam ready to install.\",\n",
      "  \"Now, it\\u2019s time to close things up. You\\u2019re almost done!\",\n",
      "  \"Did you know the average glazed donut has 192 calories?\",\n",
      "  \"You\\u2019ll do the same when mounting on a ceiling or eaves.\",\n",
      "  \"Then, swivel the stand so the base is above the camera.\",\n",
      "  \"That\\u2019s what you burn in 30 minutes of moderate exercise.\",\n",
      "  \"Now, select the length of time to snooze, then tap Save.\",\n",
      "  \"For all insurance and billing related questions, Press 3\",\n",
      "  \"Thank you for calling BlackGold Physical Therapy Clinic.\",\n",
      "  \"First, let\\u2019s look at the things you can do in Live View.\",\n",
      "  \"Celebrate the holiday season at the Museum of Fine Arts!\",\n",
      "  \"For technical and installation support, please press two.\",\n",
      "  \"Next, turn power back on for your doorbell at the breaker.\",\n",
      "  \"Tap Doorbell Kit Settings, then set Doorbell Type to None.\",\n",
      "  \"Then, locate your internal doorbell, and remove the cover.\",\n",
      "  \"The first thing to do is take off the removable faceplate.\",\n",
      "  \"Welcome to our neighborhood. With Ring, you\\u2019re always home.\",\n",
      "  \"For our address, directions and hours of operation, Press 2\",\n",
      "  \"If you have an issue with a Promo Code not working, press 1.\",\n",
      "  \"We are located at 376 Duncan Avenue, Jersey City, New Jersey.\",\n",
      "  \"A diode is a small electrical component that looks like this:\",\n",
      "  \"In the timeline, Doorbell Ring events are marked with a bell.\",\n",
      "  \"For energy savings and DLC rebate support, please press four.\",\n",
      "  \"Our business hours are 8:00am to 5:00pm, Monday through Friday\",\n",
      "  \"For Glenys the office manager and accounts receivable press 3.\",\n",
      "  \"Then, insert the battery into its slot until you hear a click.\",\n",
      "  \"At any time you may press star to be returned to the main menu\",\n",
      "  \"You\\u2019re next!   One of our team members will be right with you.\",\n",
      "  \"For any other questions, please press five. (1-2 second pause)\",\n",
      "  \"This video shows you how to install Ring Spotlight Solar Panel.\",\n",
      "  \"At any time, you may press star to be returned to the main menu\",\n",
      "  \"If you\\u2019re installing on wood or siding, you can skip this step.\",\n",
      "  \"To add additional Motion Zones, tap here and repeat these steps.\",\n",
      "  \"And now, Health Tips! Brought to you by AllWays Health Partners.\",\n",
      "  \"Next, snap the faceplate of your choice onto your Ring Doorbell.\",\n",
      "  \"Welcome to Ring Protect. We\\u2019re glad you\\u2019re one of our Neighbors.\",\n",
      "  \"First, you\\u2019ll want to temporarily uninstall your Video Doorbell.\",\n",
      "  \"This video shows you how to install your Ring Video Doorbell Pro.\",\n",
      "  \"Note that the mounting plate can be inserted in either direction.\",\n",
      "  \"Now, let\\u2019s head outside, to install your Ring Video Doorbell Pro.\",\n",
      "  \"This video shows you how to install your Ring Stick Up Cam Elite.\",\n",
      "  \"The Museum of Fine Arts, a place for you and your sense of wonder\",\n",
      "  \"Many of our LASIK patients use their refund for \\u201cAll-Laser\\u201d LASIK,\",\n",
      "  \"You can then navigate recorded events in the chosen day as normal.\",\n",
      "  \"You can also send a link to the event in an email or text message.\",\n",
      "  \"In this case, DO NOT use the diode. Doing so may damage your bell!\",\n",
      "  \"If this is how your bell produces its sound, then it\\u2019s mechanical.\",\n",
      "  \"This video shows you how to install your Ring Stick Up Cam Battery.\",\n",
      "  \"If your ground wire is long enough, proceed to install the bracket.\",\n",
      "  \"These small cap nuts will secure your Floodlight Cam to the bracket.\",\n",
      "  \"For our address, directions and regular hours of operation, Press 2,\",\n",
      "  \"For appointments, referrals, and prescription refills, please press 3.\",\n",
      "  \"This video shows you how to install your new Ring Spotlight Cam Mount.\",\n",
      "  \"You\\u2019ll know it\\u2019s fully charged when only one of the LED lights is lit.\",\n",
      "  \"Now, let\\u2019s look at how to mount your Stick Up Cam on a wall or ceiling.\",\n",
      "  \"It can also tell the difference between people and other moving things.\",\n",
      "  \"Henning\\u2019s Hatch Pepper Cheddar is a creamy smooth cheddar that uses the\",\n",
      "  \"To book an appointment or to make changes to your appointment, Press 1.\",\n",
      "  \"Next, bring your Stick Up Cam to the room that holds your Wi-Fi router.\",\n",
      "  \"To book an appointment or to make changes to your appointments, Press 1.\",\n",
      "  \"Kindly Press 0 now if this is a billing or appointment related questions\",\n",
      "  \"\\u2026then that melody is most likely coming from a speaker inside your bell.\",\n",
      "  \"Thank you for choosing The Pest Rangers. Check out our updated website at\",\n",
      "  \"OR simply stay on the line and one of our representatives will assist you\",\n",
      "  \"Another delectable addition from our Dairy Division is Blackstone - a new\",\n",
      "  \"Next, take a look at your diode and notice this small marking on one end.\",\n",
      "  \"Or just trying to work off how not- healthy you were during the holidays?\",\n",
      "  \"...then connect it to your Stick Up Cam Elite with the included USB cable.\",\n",
      "  \"Each type of event has its own color-code and icon, for easier navigation.\",\n",
      "  \"For more information, see our next video, \\u201cIntroducing the Event Timeline\\u201d\",\n",
      "  \"Finally, hold the base in place on your wall or ceiling, rubber side down.\",\n",
      "  \"OR simply stay on the line and one of our representatives will assist you.\",\n",
      "  \"You may have noticed Ring Video Doorbell included a diode in the packaging.\",\n",
      "  \"If you\\u2019re installing on a softer surface, like wood, you can skip this step.\",\n",
      "  \"Now that your mounting bracket is installed, let\\u2019s wire Ring Floodlight Cam.\",\n",
      "  \"On the mounting plate, pop this rubber weatherproofing plug out of its hole.\",\n",
      "  \"living. New Organic wide pan sliced breads are now available, and perfect for\",\n",
      "  \"Then, unscrew the four mounting screws, and pull your Doorbell from the wall.\",\n",
      "  \"For hours of operation, location, directions and parking information Press 1.\",\n",
      "  \"If your Ring device has a removable battery, remove it, then insert it again.\",\n",
      "  \"We highly appreciate your loyalty and support through our 27 years of service.\",\n",
      "  \"Now loosen the light adjustment knobs and set the lights at your desired angle.\",\n",
      "  \"First, you\\u2019ll want to remove your Video Doorbell and its bracket from the wall.\",\n",
      "  \"We value your patience and are working hard to return to your call momentarily.\",\n",
      "  \"This video shows you how to use the Event Timeline feature in the new Ring app.\",\n",
      "  \"Call 617 492 0941.\\u00a0 Or go to skate Kendal dot com\\u00a0 That\\u2019s skate Kendal dot com!\",\n",
      "  \"Kindly Press 0 now if this call is for billing or appointment related questions\",\n",
      "  \"So I can properly direct your call, please listen to the following menu options.\",\n",
      "  \"Feed the other end through the bottom cover of your Stick Up Cam and plug it in.\",\n",
      "  \"Today\\u2019s recorded Doorbell Ring and Motion events are displayed along a timeline.\",\n",
      "  \"This video shows you how to use the Camera Previews feature in the new Ring app.\",\n",
      "  \"Place the included sticker over your switch to remind others not to turn it off.\",\n",
      "  \"Complete this installation before setting up your Video Doorbell in the Ring app.\",\n",
      "  \"If you need additional help, you can chat with our support team 24/7 at ring.com.\",\n",
      "  \"Secure your Video Doorbell 2 to the solar charger using the included short bolts.\",\n",
      "  \"Tap the Star button to mark important events. This makes them easy to find later.\",\n",
      "  \"Once you confirm your address, tap here to agree to our terms, then tap Join Now.\",\n",
      "  \"For our complimentary lighting layout plans and photometrics, please press three.\",\n",
      "  \"Congratulations on your new Ring Protect system! Here\\u2019s a few things to remember\\u2026\",\n",
      "  \"If it doesn\\u2019t pull out easily, press the small lever on the connector, then pull.\",\n",
      "  \"Note that the hole in the center of the mounting plate is for the security screw.\",\n",
      "  \"Then slide the solar panel onto the mounting arm. Make sure it\\u2019s seated securely.\",\n",
      "  \"Thank you for holding, the next available beauty advisor will be with your shortly\",\n",
      "  \"If you have a first-generation Ring Video Doorbell, press the button on the front.\",\n",
      "  \"Next, create a password you\\u2019ll remember. This lets you log into your account later.\",\n",
      "  \"If you have a Ring Video Doorbell, you will have an orange button on the back of it.\",\n",
      "  \"Thank you for holding, the next available beauty associate will be with your shortly\",\n",
      "  \"If you\\u2019re wall-mounting, you can use the bubble level to ensure the base is straight.\",\n",
      "  \"We also include a Ring Chime, which replaces the functions of your internal doorbell.\",\n",
      "  \"Thank you for holding, the next available beauty consultant will be with your shortly\",\n",
      "  \"Here, you can see how many events this device has captured since you last checked in.\",\n",
      "  \"OK! Now let\\u2019s get started. First, shut off the power to your doorbell at the breaker.\",\n",
      "  \"February. Valentine\\u2019s Day. Hearts are everywhere, and everyone\\u2019s thinking about them.\",\n",
      "  \"Then place the cover back onto your doorbell. Congratulations! The hard part is over.\",\n",
      "  \"If you have a Ring Chime or Chime Pro, unplug it from the wall, then plug it back in.\",\n",
      "  \"Finally, snap this cover onto the base. Now your Stick Up Cam is ready to protect you.\",\n",
      "  \"Studies show hugs can lower your heart rate, blood pressure, and overall stress level.\",\n",
      "  \"Then, use the included wire nuts to connect the wire extenders to your doorbell wires.\",\n",
      "  \"Did you know that you can view your biometric screenings results online? Just login at\",\n",
      "  \"Thank you for holding, the next available beauty consultant will be with your shortly.\",\n",
      "  \"Once you\\u2019re in the admin page, set your router to channel six, and save your settings.\",\n",
      "  \"This video shows you how to use the Live View and Event View features in the Ring app.\",\n",
      "  \"Your Ring Device is in setup mode, follow the instructions in the Ring app to continue.\",\n",
      "  \"The diode is only required if wiring Ring Doorbell to an existing bell that is digital.\",\n",
      "  \"Next, secure the mounting arm to the wall with the included screws. Tighten until snug.\",\n",
      "  \"If you\\u2019re wall-mounting, you can use the built-in level to ensure the base is straight.\",\n",
      "  \"Then, connect the white wire from your junction box to the white wire on Floodlight Cam.\",\n",
      "  \"This Solar Panel is designed for use with Spotlight Cam Solar and Spotlight Cam Battery.\",\n",
      "  \"This video shows you how to install the Ring Solar Charger for your Ring Video Doorbell.\",\n",
      "  \"If you plan to wall-mount your Stick Up Cam, push the rubber pad into the top of the base.\",\n",
      "  \"Then, connect the black wires from your light fixtures to the red wire from Spotlight Cam.\",\n",
      "  \"So, go hug your Valentine, and not just on Valentine\\u2019s Day. Not that you needed an excuse.\",\n",
      "  \"Orient the ball toward the top of Spotlight Cam if you\\u2019re installing on a ceiling or eave.\",\n",
      "  \"This video shows you how to use the motion detection features of your Ring Floodlight Cam.\",\n",
      "  \"This video shows you how to install the Ring Solar Charger for your Ring Video Doorbell 2.\",\n",
      "  \"Your mom always told you to eat your vegetables and get plenty of exercise to stay healthy.\",\n",
      "  \"To do this, loosen the security screw on the bottom, then pop the faceplate off, like this.\",\n",
      "  \"This video shows you how to set up your Spotlight Cam Mount to control other outdoor lights.\",\n",
      "  \"Keep in mind that the total power rating of all connected lights must be 150 watts or fewer.\",\n",
      "  \"To get started, search for \\u2018Ring\\u2019 in the app store for your device, and install the Ring app.\",\n",
      "  \"You can also get to these settings by selecting the snoozed device and tapping Motion Snooze.\",\n",
      "  \"Next, connect the black wire from Spotlight Cam to the black wire from your household wiring.\",\n",
      "  \"w w w dot choice cleaning L I dot com.   We will be on the line to help you in just a moment.\",\n",
      "  \"If you are calling after our regular business hours, please press 6 for our answering service.\",\n",
      "  \"When installing onto a vertical wall, you\\u2019ll usually want the mounting port to face downwards.\",\n",
      "  \"Keeping your heart healthy can lower your risk for brain conditions like strokes and dementia.\",\n",
      "  \"If your existing floodlight has a bracket connected to your junction box, remove this as well.\",\n",
      "  \"Take advantage of our New Year Smile Makeover Special \\u2013 Save $2,205 off your Veneers/Lumineers\",\n",
      "  \"If you\\u2019re trying to set up a Ring product but you can\\u2019t find your Wi-Fi network on this screen\\u2026\",\n",
      "  \"You can also specify the length of time that the lights stay on after the detected motion ends.\",\n",
      "  \"So, by all means, think about your heart this month, and every month. Your brain will thank you.\",\n",
      "  \"Finally, pop your Video Doorbell into the Solar Charger, and press downward to seat it in place.\",\n",
      "  \"Witnessing something important? Tap the Neighborhoods button to begin recording video and audio.\",\n",
      "  \"If you need additional help, feel free to reach out to our support team, or visit ring.com/help.\",\n",
      "  \"If you plan to ceiling-mount your Stick Up Cam, push the rubber pad into the bottom of the base.\",\n",
      "  \"Bring your Stick Up Cam to the room that holds your Wi-Fi router, and slide off the bottom cover.\",\n",
      "  \"Feed the other end of the USB cable through the bottom cover of your Stick Up Cam and plug it in.\",\n",
      "  \"First connect your existing wires to the mounting bracket, then install the diode on the bracket.\",\n",
      "  \"First, you\\u2019ll enter your home address. This lets us match you with the correct Ring Neighborhood.\",\n",
      "  \"Using the solar panel mounting arm as a template, mark the screw holes on your wall with a pencil.\",\n",
      "  \"When you talk to our sales representative, remember to order, free of charge, our 96 page catalog.\",\n",
      "  \"Next, press the button on the back of Spotlight Cam, and slide the mounting plate out of its slot.\",\n",
      "  \"If you know the extension number of the staff you are trying to reach, you may dial it at any time\",\n",
      "  \"Open the Ring app and select your Ring Doorbell. Then, tap here to access the Device Settings page.\",\n",
      "  \"Once the Solar Charger is mounted, loosen the screw terminals on the back of your Video Doorbell 2.\",\n",
      "  \"If you know the extension number of the person you are trying to reach, you may dial it at any time\",\n",
      "  \"Next, twist the battery cover on your Stick Up Cam counterclockwise to unlock, then pull to remove.\",\n",
      "  \"Locate your bell to confirm that the sound plays through a speaker. If so, you have a digital bell.\",\n",
      "  \"When you open the Event Timeline, you start at Live View, so you can see what that device sees now.\",\n",
      "  \"To apply Motion Snooze to a Ring device, open the Ring app and select the device you want to snooze.\",\n",
      "  \"This video shows you how to use the Camera Previews and Event Timeline features in the new Ring app.\",\n",
      "  \"Now, say you want to scan through recent events\\u2014Just swipe right on the timeline to go back in time.\",\n",
      "  \"Finally, you get a chance to turn on Motion Snooze each time you receive a Motion Alert notification.\",\n",
      "  \"Now, hang the Spotlight Cam weatherproof box cover from your electrical box, using the included hook.\",\n",
      "  \"Finally, feed all the wiring into the hole in your wall, until your Video Doorbell Pro can sit flush.\",\n",
      "  \"This video shows you how to diagnose and solve power-related issues with your Ring Video Doorbell Pro.\",\n",
      "  \"We hope this video inspires you to try the new features in the Ring app. For more information, visit .\",\n",
      "  \"Then, you\\u2019ll enter your email address, for account purposes only. Your email is never shown or shared.\",\n",
      "  \"If your existing light or camera used a mounting bracket, remove that from the electrical box as well.\",\n",
      "  \"Next, using the provided nut, secure the wiring harness to the box cover. Now, the base is complete...\",\n",
      "  \"If you want to return to Live View at any point, tap the Live button at the right end of the timeline.\",\n",
      "  \"After restoring power at the breaker, the front ring should light up, indicating it is receiving power.\",\n",
      "  \"Then, insert the wire connector from the solar charger under both terminals, and re-tighten the screws.\",\n",
      "  \"If a Doorbell Ring or Motion event occurs at another Ring device in your system, you get a notification.\",\n",
      "  \"To book an appointment, making changes to your appointment or for billing related questions, Press 0 now\",\n",
      "  \"Next, open the Ring app. If you don\\u2019t yet own any Ring devices, tap here to join your Ring Neighborhood.\",\n",
      "  \"If your Ring product has worked in the past, you can force it to reconnect in one of the following ways:\",\n",
      "  \"We can\\u2019t have that, so first, let\\u2019s test your Ring Doorbell to see if it\\u2019s receiving the power it needs.\",\n",
      "  \"At Great Park Insurance, we\\u2019re here to help you make the decisions that are best for you and your budget\",\n",
      "  \"Let\\u2019s start inside your home, where you\\u2019ll install the Pro Power Kit on your existing internal doorbell.\",\n",
      "  \"SO STOP BY THE BREAD AISLE AT HANNAFORD TODAY AND TRY FARMHOUSE HEARTY WHITE BREAD FROM PEPPERIDGE FARM!\",\n",
      "  \"You\\u2019ll need to install your Floodlight Cam and wire it to power before you can complete the in-app setup.\",\n",
      "  \"You can also reach the Device Settings page for the current device by tapping the gear-shaped icon, here.\",\n",
      "  \"Next, hold your Ring Solar Charger over the original screw holes, and mount it using the included screws.\",\n",
      "  \"If you know the extension number of the clinic staff you are trying to reach, you may dial it at any time\",\n",
      "  \"This hook is for hanging your Floodlight Cam from the mounting bracket while you\\u2019re connecting the wires.\",\n",
      "  \"Thank you for calling Commercial Electric, your trusted source for professional grade lighting solutions.\",\n",
      "  \"To switch to the device where the most recent event has occurred, tap the View button in the pop-up menu.\",\n",
      "  \"You can also get to these settings by selecting the snoozed Chime or Chime Pro, and tapping Chime Snooze.\",\n",
      "  \"In the Ring app, tap your Ring Doorbell to open its settings screen, then tap here to view Device Health.\",\n",
      "  \"Then, slide the mounting plate back into its slot on the back of Spotlight Cam until it clicks into place.\",\n",
      "  \"Make sure power to your doorbell is still switched off at the breaker, then remove your existing doorbell.\",\n",
      "  \"If you\\u2019d like the floodlights to stay on during certain times of day, tap here to set up a Light Schedule.\",\n",
      "  \"Once that\\u2019s done, plug the charging cable from your Solar Panel into the power connector on Spotlight Cam.\",\n",
      "  \"The mounting ball should point toward the bottom of Spotlight Cam if you\\u2019re installing on a vertical wall.\",\n",
      "  \"This healthy lifestyle tip brought to you by AllWays Health Partners. Visit AllWaysHealthPartners dot org.\",\n",
      "  \"When you\\u2019re done, the recording is immediately shared to your Ring Neighborhood, to get the word out fast.\",\n",
      "  \"Plug your Ring Chime into a power outlet and wait about 30 seconds for it to power on and enter setup mode.\",\n",
      "  \"Visit any of their 20 plus locations including kendall sq, danvers, and woburn - and your 1st class is free\",\n",
      "  \"We hope this video has helped you get the most from the Ring app. For more information, visit ring.com/help.\",\n",
      "  \"If all went well, your Ring Video Doorbell Pro is now working, but your internal doorbell has been silenced.\",\n",
      "  \"Visit any of their 20 plus locations including Swampscott, Wellesley, and Saugus - and your 1st class is free\",\n",
      "  \"To do this, loosen the security screws on the bottom of your Doorbell, then pop it up and out of the bracket.\",\n",
      "  \"Once it\\u2019s ready, you can open the Ring app, and follow the in-app instructions to complete the setup process.\",\n",
      "  \"If your junction box doesn\\u2019t have clearly colored black and white wires, consult with a licensed electrician.\",\n",
      "  \"At Great Park Insurance, we\\u2019re business owners ourselves \\u2013 and we know how important your business is to you.\",\n",
      "  \"Whenever you open the app, you\\u2019ll see the new Camera Previews, with a snapshot from each of your Ring devices.\",\n",
      "  \"If you plan to power your Stick Up Cam using USB, plug the included USB power supply and cable into an outlet.\",\n",
      "  \"Next, connect the black wire from your junction box to the black wire on Floodlight Cam using another wire nut.\",\n",
      "  \"This video shows you how to use Motion Snooze and Chime Snooze to control notifications from your Ring products.\",\n",
      "  \"Line up the mounting posts with the mounting holes, and press the posts through the base of your Floodlight Cam.\",\n",
      "  \"To get started, get the Ring app on your phone or tablet. It\\u2019s available on the App Store and Google Play Store.\",\n",
      "  \"First, fully charge the included battery by plugging it into a USB port or power supply with the included cable.\",\n",
      "  \"Visit any of their 20 plus locations including Kingston, North Andover, and Concord - and your 1st class is free\",\n",
      "  \"If you\\u2019re using an Android device, long-press on the notification, then tap Snooze, and choose a snooze duration.\",\n",
      "  \"Now it\\u2019s time to get the Ring app on your phone or tablet. It\\u2019s available on the App Store and Google Play Store.\",\n",
      "  \"SO STOP BY THE BREAD AISLE AT SHAW\\u2019S STAR MARKET TODAY AND TRY FARMHOUSE HEARTY WHITE BREAD FROM PEPPERIDGE FARM!\",\n",
      "  \"When you tap the Plus button while viewing a recorded event, the following additional functions become available.\",\n",
      "  \"You have reached the general voicemail for Great Park Insurance.     Thank you for choosing Great Park Insurance.\",\n",
      "  \"The study requires 6 visits over approximately 5 to 9 weeks, and you may be compensated up to $525 for your time.\",\n",
      "  \"Hold your Ring Doorbell in the place you plan to install it, and mark the two screw holes, at the top and bottom.\",\n",
      "  \"Finally, insert Spotlight Cam into its mounting bracket, set the desired angle, then tighten the adjustment screw.\",\n",
      "  \"If it doesn\\u2019t slip off easily, hold the device on either end, and push through the middle to detach the faceplate.\",\n",
      "  \"Re-tighten the security screws on the bottom, and you\\u2019re done! Your Ring Video Doorbell is now charged by the sun.\",\n",
      "  \"We send you season's greetings, from our home to yours, so visit the MFA for the Holidays and see what's in store.\",\n",
      "  \"If you find something interesting, it\\u2019s easy to share it with your family, neighborhood, or local law enforcement.\",\n",
      "  \"Tap the Share button to share an event with your Ring Neighborhood or to social networks like Facebook or Nextdoor.\",\n",
      "  \"If your junction box doesn\\u2019t have clearly colored \\u00a0black and white wires, then consult with a licensed electrician.\",\n",
      "  \"If your iOS device features 3D Touch, you can simply hard-press on the notification, then choose a snooze duration.\",\n",
      "  \"Our hours of operation are Monday through Friday from 9am to 6pm and Saturday 10am to 2pm. We are closed on Sunday.\",\n",
      "  \"customized to your eye, creating \\u201cH-D\\u201d vision.  Choose the leaders in technology.  Choose Commonwealth Eye Surgery.\",\n",
      "  \"Next, let\\u2019s get into the motion detection system that sends you Motion Alerts. Tap here to look at Motion Settings.\",\n",
      "  \"This is Ring Floodlight Cam. This is the camera\\u2026here is the speaker. This is the motion sensor for the floodlights.\",\n",
      "  \"When using a compatible Ring device, tap the Night Vision button to enable or disable enhanced nighttime visibility.\",\n",
      "  \"Use the phillips bit on your Ring screwdriver to secure your Doorbell to the wall with the provided mounting screws.\",\n",
      "  \"At Great Park Insurance, we are an independent agency \\u2013 and that means we work for you, not the insurance companies.\",\n",
      "  \"To look back at events that happened before today, tap the date button, and choose a date from the menu that appears.\",\n",
      "  \"For more information about Ring Protect and other Ring products, visit us at ring.com. With Ring, you\\u2019re always home.\",\n",
      "  \"To use Chime Snooze, open the Ring app, and select the Chime or Chime Pro you want to snooze. Then, tap Chime Snooze.\",\n",
      "  \"Once the Solar Charger is mounted, plug its attached Micro USB cable into the port on the back of your Video Doorbell.\",\n",
      "  \"Your Ring products can notify you when someone\\u2019s at your door, or in your backyard, and usually, that\\u2019s what you want.\",\n",
      "  \"Finally, insert the security screw into the weatherproof box cover like so, and tighten to lock in your Spotlight Cam.\",\n",
      "  \"You\\u2019ve worked hard for the things you have \\u2013 and at Great Park Insurance, we want to help you find the right protection\",\n",
      "  \"To know whether or not you need to use the diode, you need to know whether your existing bell is digital or mechanical.\",\n",
      "  \"In the Ring app dashboard, you can see that this device now shows the Motion Snooze symbol, to show that it is snoozed.\",\n",
      "  \"If you\\u2019re using an iOS device, swipe left on the notification, and tap View. Then, select your desired snooze duration.\",\n",
      "  \"If you have trouble connecting your existing wires, you can use the included wire extenders to give yourself some slack.\",\n",
      "  \"We hope this video has helped you join your local Ring Neighborhood. For more information, visit ring.com/neighborhoods.\",\n",
      "  \"The first motion detection system is dedicated to turning on the floodlights, so it uses sensors that cover a wide area.\",\n",
      "  \"Once your Ring product connects to your Wi-Fi network, it updates its software to the latest version, fixing this issue.\",\n",
      "  \"Once power has been restored, the lights on Ring Floodlight Cam should briefly turn on, so you know that they\\u2019re working.\",\n",
      "  \"Once the Solar Panel is installed, press the button on the bottom of your Spotlight Cam, to open the battery compartment.\",\n",
      "  \"To pause or play a video, tap here. And you can use these back and forward buttons to move through events, one at a time.\",\n",
      "  \"If you\\u2019d like to select sounds for each type of Alert, tap here. This is also where you can set the volume for your Chime.\",\n",
      "  \"If you\\u2019d like to narrow down your results, tap here to filter your events based on their content, like people, or vehicles.\",\n",
      "  \"If you want to see a list of events from a certain device, just open its Device Settings page, and again tap Event History.\",\n",
      "  \"Then, insert the included wall anchors into the holes. They should simply push in, but you can hammer them in, if necessary.\",\n",
      "  \"\\u201cOnce the holes are drilled, insert the included anchors. They should simply push into place, but you can hammer them in, if\",\n",
      "  \"If you\\u2019re replacing an existing floodlight or security camera, uninstall it from the electrical box and disconnect the wires.\",\n",
      "  \"But here\\u2019s something you might not be thinking about - how keeping your heart healthy actually helps keep your brain healthy.\",\n",
      "  \"Once your Stick Up Cam powers up, it reconnects to the internet automatically. Your Stick Up Cam is now ready to protect you.\",\n",
      "  \"If you\\u2019d like to adjust the angle of the solar panel for better sun coverage, loosen the adjustment screw on the mounting arm\\u2026\",\n",
      "  \"When that\\u2019s finished, your Ring product is ready to go, and if you like, you can set your Wi-Fi router channel back to \\u2018Auto.\\u2019\",\n",
      "  \"We are located at 376 Duncan Avenue, Jersey City, New Jersey, or visit us at Truckers permitting dot com for more information.\",\n",
      "  \"To do this, loosen the screws on the back of your Ring Doorbell. Then, slip one wire extender under each screw, and re-tighten.\",\n",
      "  \"At least two screws are needed to securely hold the mounting bracket, although 4 screws are included if you\\u2019d like to use more.\",\n",
      "  \"Finally, secure the ground wire from your household wiring to the grounding screw terminal on the electrical box, if applicable.\",\n",
      "  \"If you\\u2019re installing on a hard surface, such as brick or stucco, use the included drill bit to pre-drill the two mounting holes.\",\n",
      "  \"When you first start swiping left, you\\u2019ll begin with events from today. To jump to a different day, tap here, then select a day.\",\n",
      "  \"Event View is a helpful feature for Ring Protect Plan subscribers. It makes reviewing and sharing recorded events fast and easy.\",\n",
      "  \"Now it\\u2019s time to pop your Video Doorbell into the Solar Charger, taking care to feed any extra wire back into the charger first.\",\n",
      "  \"Rejoice with festive dinner plans with friends and family -- and make some time to stop and shop for artwork, books, and jewelry!\",\n",
      "  \"This slider lets you choose to receive alerts only when a person is detected, or when any motion occurs, or somewhere in between.\",\n",
      "  \"If your Ring Doorbell doesn\\u2019t receive enough power, it may not function reliably, or could suffer from poor-quality video & audio.\",\n",
      "  \"Each captured event is shown in the timeline, and you can swipe between and within events to quickly find the moments that matter.\",\n",
      "  \"We hope this video has helped you understand how to use Motion Snooze and Chime Snooze. For more information, visit Ring.com/help.\",\n",
      "  \"In the Ring app, tap Set Up a Device, and follow the in-app instructions to complete the setup process. Now, it\\u2019s ready to install.\",\n",
      "  \"If multiple events happen in a short time, they are grouped together in the timeline, and marked with the number of recorded events.\",\n",
      "  \"For more information, see our other Floodlight Cam videos, or visit our help center at ring.com/help. With Ring, you\\u2019re always home.\",\n",
      "  \"Please stay on the line while we connect you to a lighting specialist.  Your call may be recorded for quality and training purposes.\",\n",
      "  \"If you have not yet been able to set up your Ring product due to this problem, repeat the setup process in the Ring app to continue.\",\n",
      "  \"We hope this video has helped you install your Stick Up Cam Elite. If you need any help, you can chat with our support team 24/7 at .\",\n",
      "  \"Motion Snooze lets you disable Motion Alerts for a set amount of time. Once that time passes, you get Motion Alerts again, as normal.\",\n",
      "  \"We are proud to have achieved this award consecutively the past two years in recognition of customer excellence in sales and service.\",\n",
      "  \"When installing onto an eave or overhang, face the mounting port in the direction you want the camera to see. Now, let\\u2019s get started!\",\n",
      "  \"The way you install the diode depends on the Ring Doorbell version you have. Here\\u2019s how to tell the difference between both versions.\",\n",
      "  \"Thank you for calling the L'Occitane holiday hotline. In order to reach the appropriate department please listen to the options below.\",\n",
      "  \"We hope this video has helped you to install your Ring Solar Panel. For more help, visit ring.com/help. With Ring, you\\u2019re always home.\",\n",
      "  \"We hope this video has helped you install your Stick Up Cam Battery. If you need any help, you can chat with our support team 24/7 at .\",\n",
      "  \"Did you have a great experience at your recent visit? Be sure to share it with the world! Feel free to leave a review on Yelp or Google.\",\n",
      "  \"OR simply stay on the line and one of our representatives will assist you At any time you may press star to be returned to the main menu\",\n",
      "  \"This video shows you how to solve Wi-Fi connection problems with Ring products in Europe, the United Kingdom, Australia, and New Zealand.\",\n",
      "  \"By the way, if you want to review, save, and share past Ring videos as shown in the next section, subscribe to a Ring Protect Plan today.\",\n",
      "  \"Look for two wires on your internal doorbell. If there are more than two, look for a wire labeled \\u2018Front,\\u2019 and one labeled \\u2018Transformer.\\u2019\",\n",
      "  \"Pro Power Kit comes with a set of wires pre-attached. You won\\u2019t be using them for this task, so remove the wire harness before proceeding.\",\n",
      "  \"It\\u2019s time to set up your new Ring Chime, so that Ring and Motion Alerts from your Ring Doorbell can be clearly heard throughout your home.\",\n",
      "  \"You can also arm and disarm from the Ring app. On the dashboard, tap the Protect tile, then tap Away or Stay to arm or tap Home to disarm.\",\n",
      "  \"Tap the Microphone button to enable or disable the microphone on your mobile device. When the mic is on, your visitors can hear your voice.\",\n",
      "  \"If you don\\u2019t plan to control other lights with Spotlight Cam, we recommend securing the red wire to the ground screw in your electrical box.\",\n",
      "  \"Thank you for calling Great Park Insurance, where we care about our customers and treat you as the person you are, not just a policy number.\",\n",
      "  \"Now, press the button on the front of your Ring Doorbell. If it makes a sound and you get a notification in the Ring app, that\\u2019s a good sign!\",\n",
      "  \"If you plan to simply sit your Stick Up Cam on a surface, snap this cover onto the top of the base, and push this rubber pad into the bottom.\",\n",
      "  \"In the Ring app, tap your Chime to open its settings screen. Then, tap to enable Chime to amplify your desired alerts from your Ring Doorbell.\",\n",
      "  \"If you\\u2019re installing your Ring Doorbell on a masonry surface (such as brick or concrete), you\\u2019ll need to drill holes for the provided anchors.\",\n",
      "  \"Tap the Speaker button to enable or disable sound playback from the Ring app. When the speaker is on, you can hear your visitors in real time.\",\n",
      "  \"That\\u2019s what the Ring Solar Charger is for. Its solar panels keep your Video Doorbell charged with just a few hours of direct sunlight per day.\",\n",
      "  \"Great, we\\u2019ll call you back as soon as a specialist becomes available. You\\u2019re now free to hang up, and go about your business.  Happy lighting!\",\n",
      "  \"The second system generates the Motion Alerts that come to your phone or tablet, so it uses advanced motion detection to prevent false alarms.\",\n",
      "  \"Let's be friends!  Log on to our website cold beers dot com to join our monthly newsletter and be the first to receive news and special offers.\",\n",
      "  \"Then, use wire nuts to connect the black and white wires from each light fixture to the matching wires in the cables that run to Spotlight Cam.\",\n",
      "  \"When using a Ring Floodlight Cam or Spotlight Cam, you can tap the Lights button to turn on the built-in lights. Tap it again to turn them off.\",\n",
      "  \"When using a Ring Floodlight Cam or Spotlight Cam, you can tap the Siren button to sound the built-in alarm. Tap it again to silence the alarm.\",\n",
      "  \"The internal battery in your Ring Video Doorbell can last quite a long time between charges, but wouldn\\u2019t it be nice if it kept itself charged?\",\n",
      "  \"If Voltage shows as \\u2018Poor\\u2019 or \\u2018Very Poor,\\u2019 then it\\u2019s likely that low power is the cause of your issues. Now, we\\u2019ll show you how to resolve that.\",\n",
      "  \"varieties including Golden Beets with Fennel Salad, Spring Asparagus and Snap Pea Penne, Thai Noodle Vegetable Salad and Cabernet Cabbage Salad.\",\n",
      "  \"Went in for my first Botox appointment with Lauren and she was wonderful, informative & professional. She put me at ease and I loved my results.\",\n",
      "  \"AT THE ACADEMY AT PENGUIN HALL, YOUR DAUGHTER IS ACCEPTED AND RESPECTED IN A COMMUNITY WHICH PREPARES HER FOR COLLEGE AND EMPOWERS HER FOR LIFE.\",\n",
      "  \"The removable battery in your Ring Video Doorbell can last quite a long time between charges, but wouldn\\u2019t it be nice if it kept itself charged?\",\n",
      "  \"To Add a Motion Zone, tap here. Then, just move the points to surround an area that you want Floodlight Cam to watch closely. To save, tap here.\",\n",
      "  \"You can also loosen the lock collar to rotate the lights. Once you\\u2019ve found the perfect angle, tighten the lock collar and the adjustment knobs.\",\n",
      "  \"We hope this video has helped your Ring product work as you\\u2019d expect. If you need more help, you can chat with our support team 24/7 at ring.com.\",\n",
      "  \"To find out if you qualify for this allergy research study, please contact 866-393-3767 or myeyestudy.com. That\\u2019s 866-393-3767 or myeyestudy.com.\",\n",
      "  \"The most common fix is to upgrade your doorbell transformer, so that it can comfortably power both your Ring Doorbell and your internal doorbell.\",\n",
      "  \"Finally, slide the bottom cover back into place over the cable connections and use the star-shaped screwdriver bit to tighten the security screw.\",\n",
      "  \"In the Ring app, tap Set Up a Device, and choose Stick Up Cam Elite. Follow the in-app instructions to complete setup. Now, it\\u2019s time to install.\",\n",
      "  \"Now let\\u2019s learn how to configure the two different motion detection systems. In the Ring app, tap your Floodlight Cam to open its settings screen.\",\n",
      "  \"That\\u2019s what the Ring Solar Charger is for. Its solar panels keep your Video Doorbell 2 charged up with just a few hours of direct sunlight per day.\",\n",
      "  \"We hope this video helped you to install your Ring Solar Charger. If you need additional help, you can chat with our support team 24/7 at ring.com.\",\n",
      "  \"If the lights you want to control are currently connected to your home\\u2019s power system, disconnect them, then securely cap the household power wires.\",\n",
      "  \"When you open the box, you\\u2019ll see your Stick Up Cam Elite, a USB cable and power supply, and the tools you\\u2019ll need to mount it on a wall or ceiling.\",\n",
      "  \"If the Ring or Motion event just occurred, the Ring app takes you straight to Live View, so you can observe and interact with visitors in real time.\",\n",
      "  \"The Angel Senior Care family wishes your family peace, joy and happiness during this holiday season.  Merry Christmas and a happy, healthy new year!\",\n",
      "  \"If you plan to power your Stick Up Cam using Power over Ethernet (also known as P. o. E.), plug an Ethernet cable into a port that supplies P. o. E.\",\n",
      "  \"Once that\\u2019s done, Insert your Spotlight Cam into the weatherproof box cover. Once it\\u2019s fully seated, turn it to the right until it locks into place.\",\n",
      "  \"Make sure to charge and insert the included battery into your Spotlight Cam. Ring Solar Panel keeps your battery charged, but it does not replace it.\",\n",
      "  \"Learn more about us and the services we provide at fay cleaning group dot com, where you can also book an appointment online.  We\\u2019ll be right with you.\",\n",
      "  \"If your home does not have a wired doorbell system, you may want to consider using a Ring Video Doorbell 2, which is powered by a rechargeable battery.\",\n",
      "  \"If you need help finding the right address, or your admin password, do a web search with the make and model of your Wi-Fi router for full instructions.\",\n",
      "  \"-It\\u2019s dark, it\\u2019s cold, and like it or not, it\\u2019s peak cold & flu season.\\u00a0 Here are a few helpful tips for staying healthy when everyone is getting sick.\",\n",
      "  \"If you\\u2019re not sure what type of bell you have, here\\u2019s an easy way to tell the difference. When your bell rings, does it make a classic Ding-dong sound?\",\n",
      "  \"If everything is connected correctly, your Ring Doorbell will begin its initial setup process. Once it\\u2019s finished, your Doorbell will introduce itself.\",\n",
      "  \"Spotlight Cam Mount is not only a great security camera. It also features built-in lights, controlled by a flexible wide-angle motion detection system.\",\n",
      "  \"\\u201cLive View is what you see when you interact with visitors through your Ring products. It gives you the tools you need to act on events in real time. \\u201c\",\n",
      "  \"Welcome to Ring Neighborhoods, your digital neighborhood watch. This video shows you how to install the Ring app and join your local Ring Neighborhood.\",\n",
      "  \"\\u201cYou can swipe and tap to review events in the timeline, or use the Previous and Next Event (\\u201c<\\u201d and \\u201c>\\u201d) buttons to move through events sequentially. \\u201c\",\n",
      "  \"And if you\\u2019d like to review your events in a list like previous versions of the Ring app, you can get there from the dashboard by tapping Event History.\",\n",
      "  \"Thank you for holding.  We\\u2019re glad you called today, our average wait time is under 2 minutes, and we look forward to taking your call in just a moment.\",\n",
      "  \"If your Pro Power Kit looks like this, the install process is slightly different. Check the included \\u201cInstall the Pro Power Kit\\u201d user manual for details.\",\n",
      "  \"After exploring the galleries, save some time for a hot chocolate in our Caf\\u00e9 and shopping for you or your loved ones. Artwork, books, jewelry, and more.\",\n",
      "  \"If you plan to simply sit your Stick Up Cam on a surface, snap this cover onto the top of the base, and push this rubber pad into the bottom of the base.\",\n",
      "  \"authentic Hatch Chili Peppers from Hatch, New Mexico.  Located just west of the banks of the Rio Grande River, this area is home to the annual Hatch Chili\",\n",
      "  \"Now, you\\u2019ll enter your first and last name, for account identification purposes only. Ring Neighborhoods is anonymous; your name is never shown or shared.\",\n",
      "  \"Before installing the bracket, make sure the ground wire coming out of your junction box, which is often a green or copper wire, comes about 2 inches out.\",\n",
      "  \"Live View and the Event List used to be separate. The Event Timeline brings them together in a whole new way, making it easier to keep an eye on your home.\",\n",
      "  \"It may take a little while for your Ring Doorbell to power up after you first install it, so if it doesn\\u2019t speak up right away, just give it a few minutes.\",\n",
      "  \"Chime Snooze lets you silence the alert sounds from your Chime or Chime Pro for a set amount of time. Once that time passes, your Chime goes back to normal.\",\n",
      "  \"We hope this video helps you to get your Ring Doorbell working at its best. If you need additional help, visit ring.com/help. With Ring, you\\u2019re always home.\",\n",
      "  \"Seasons\\u2019 greetings and best wishes from the Angel Senior Care family to yours.  We wish you a very Merry Christmas and a happy, safe and prosperous new year.\",\n",
      "  \"We are excited to announce that Dr. Kelinson performs PRP hair restoration procedures as well as NovaThreads for non-surgical lifting and tightening of skin.\",\n",
      "  \"If you\\u2019re upgrading from a Stick Up Cam to and want to use your original Ring Solar Panel with Spotlight Cam, you can get an adapter at ring.com/accessories.\",\n",
      "  \"To use a wire nut, align the ends of the wires you want to connect together, then put the ends inside the wire nut and twist clockwise until tightly secured.\",\n",
      "  \"today\\u2019s healthy lifestyles.  Varieties include whole wheat, Sprouted Sonoma Sun, Sprouted White, and  wheat and oat - we\\u2019ve got them all right here at Tony\\u2019s!\",\n",
      "  \"You\\u2019ll then need to loosen the camera lock collar to rotate the camera 180 degrees so that it\\u2019s right side up. Tighten the collar to hold the camera in place.\",\n",
      "  \"The red wire is used as a switched power source, to control other lights. For more information, see our video \\u2018How to Control Lights with Spotlight Cam Mount.\\u2019\",\n",
      "  \"Now, use the included mounting screws to attach the weatherproof box cover to your electrical box. We include a variety of screws, to fit most electrical boxes.\",\n",
      "  \"If you have a metal junction box, this wire should be connected to the ground screw in the back of your junction box, and have at least 2 extra inches of length.\",\n",
      "  \"Thank you for calling, we are currently assisting another patient. We appreciate your patient, kindly hold and one of our client care team will be right with you\",\n",
      "  \"Hello, you have reached Great Park Insurance, where we care about our customers and treat you as the person you are   Thank you for choosing Great Park Insurance.\",\n",
      "  \"Hello, you have reached Great Park Insurance, where we care about our customers and treat you as the person you are.   Thank you for choosing Great Park Insurance.\",\n",
      "  \"Spotlight Cam Mount can also control up to 150 watts of external lights, triggering them whenever it senses motion, or when you turn on its lights in the Ring app.\",\n",
      "  \"Thank you for calling Sukut Dental. Here\\u2019s some hygiene humor for your holding time! What do you call a bear without teeth? A gummy bear. We\\u2019ll be with you shortly!\",\n",
      "  \"To confirm this, locate your bell and, if you can, remove the cover to see if it contains a physical chiming mechanism, such as a small mallet hitting a metal plate.\",\n",
      "  \"If you want to connect your Stick Up Cam to the internet using Ethernet, but your Ethernet port does not provide PoE, connect both Ethernet and the USB power supply.\",\n",
      "  \"On each preview tile, you can tap this button for quick access to device features like lights and snooze, device settings and more, all without leaving the dashboard.\",\n",
      "  \"Make sure your Floodlight Cam sits firmly against the mounting bracket, then attach the screw cap nuts to the ends of the screws by turning them until they\\u2019re secure.\",\n",
      "  \"If you have a Ring Stick Up Cam instead, note that it needs a different solar panel. For instructions on installing Ring Solar Panel for Stick Up Cam, see this video.\",\n",
      "  \"Line up the screw holes, then secure the plug with the included screws. Be sure not to skip this step, as it keeps your Spotlight Cam connection solid and watertight.\",\n",
      "  \"Thank you for calling the Highgate Hotels Central Sales Office.  Please stay on the line for the next available sales coordinator.  Your call is very important to us.\",\n",
      "  \"Fall in Love with our Beer of The Month!  Check our website at cold beers dot com for this month\\u2019s featured beer \\u2013 or ask our staff member when we return to the line.\",\n",
      "  \"Look at the Voltage reading. If it\\u2019s \\u201cGood\\u201d or \\u201cVery Good,\\u201d low power is not the problem. In this case, if your problem persists, please reach out to our support team.\",\n",
      "  \"If you already own one or more Ring devices, you\\u2019re already a part of your Ring Neighborhood. To join in, swipe your device list to the left and tap your Neighborhood.\",\n",
      "  \"Neighborhoods has been very popular, so we\\u2019ve decided to open it up to everyone! Now you can take part in your Ring Neighborhood, whether or not you own a Ring device.\",\n",
      "  \"Spotlight Cam Mount comes with three different weatherproof box covers that act as bases. Choose the one that matches the shape and orientation of your electrical box.\",\n",
      "  \"All of the controls you\\u2019re used to from Live View are available. You can listen to live audio, speak to visitors, and control device features like the lights or siren.\",\n",
      "  \"During the Motion Snooze period, if you want to turn snoozing off or specify a new time period, just tap the Motion Snooze symbol, then make your selection, and tap Save.\",\n",
      "  \"Note that if you own a Ring Video Doorbell 2, you need a different solar charger. See our video \\u2018How to Install Ring Solar Charger for Ring Video Doorbell 2\\u2019 for details.\",\n",
      "  \"We hope we\\u2019ve helped you understand the motion detection systems of your Floodlight Cam. Understanding the roles they play lets you get the best from your Floodlight Cam.\",\n",
      "  \"We\\u2019d like to wish you and your family a happy and healthy holiday season.  Why not get a head start on your new year\\u2019s resolutions for 2019?  Call MGH Access at 660-6444.\",\n",
      "  \"Ring Neighborhoods started as a way for users of Ring security products to share Ring videos with neighbors, alerting one another to crime and safety issues in real time.\",\n",
      "  \"With a subscription to our Ring Protect Plan service, when your Ring device detects a Doorbell Ring or Motion event, video and audio are recorded and stored in the cloud.\",\n",
      "  \"Pop the faceplate back onto your Video Doorbell 2, then re-tighten the security screw on the bottom, and you\\u2019re done! Your Ring Video Doorbell 2 is now charged by the sun.\",\n",
      "  \"Keep in mind, because the floodlight sensor covers a wider area than the Motion Alert sensor, some movements can turn on the floodlights without triggering a Motion Alert.\",\n",
      "  \"If we\\u2019re able to automatically verify your address, you\\u2019re ready to go! You can explore your local feed and contribute posts and comments to help your community stay safe.\",\n",
      "  \"Why not meet in style in New York City?  Our Central Sales Office provides one source to book your next meeting or event. Ask to speak with one of our sales managers today.\",\n",
      "  \"Still worth it? If you think so, here are some workouts to consider\\u2026 Take a power-walk on your lunch break, hit the elliptical at the gym or swim 20 to 30 laps in the pool.\",\n",
      "  \"To do this, visit the administration page for your Wi-Fi router in a web browser. The web address varies by manufacturer, but many models use one of these common addresses.\",\n",
      "  \"Spotlight Cam Mount is designed to be installed in a weatherproof electrical box: 4-inch round or 2 by 4 rectangular. The ideal install height is nine feet above the ground.\",\n",
      "  \"-If you don\\u2019t want to catch the flu, the best protection is to get vaccinated. -Washing your hands frequently and covering your cough can also help stop the spread of germs.\",\n",
      "  \"We recommend using a transformer that supplies at least 16 volts AC at 30 volt-amps. If you\\u2019d like to purchase the transformer that we recommend, visit ring.com/accessories.\",\n",
      "  \"...or if your Ring product seems to disconnect periodically, this may be caused by your Wi-Fi router setting itself to channel 12. To solve this, set your router to channel 6.\",\n",
      "  \"As a specialist in women\\u2019s health he can perform procedures to improve sexual dysfunction and increase sexual enhancement as well as laser procedures for vaginal rejuvenation.\",\n",
      "  \"We also carry an assortment of fruit and healthy snacks, Advil, Tylenol, Motrin, Purell Hand Sanitizers, 3D greeting cards and lots more to choose from over 5000 items in stock\",\n",
      "  \"At Bella Smile, we offer Phase I treatment to correct crowding, cross bites, under bites, overbites, and severe protrusion. Schedule your child a complimentary evaluation today!\",\n",
      "  \"When you open the box, you\\u2019ll see your Stick Up Cam Battery, a rechargeable battery and charging cable, and all the tools you\\u2019ll need to mount Stick Up Cam on a wall or ceiling.\",\n",
      "  \"They are hiring \\u00a0Direct Support Professionals and Assistant House Managers for their Residential and Day Programs that support adults with autism and developmental disabilities.\",\n",
      "  \"Then, take the wires coming out of your wall, and wrap each one around one of the screws. It doesn\\u2019t matter which wire goes to which screw, as long as both screws are connected.\",\n",
      "  \"Using the camera, this system only alerts you to motions inside the Motion Zones you specify. It can ignore movement you\\u2019re not concerned about, such as cars passing in the street.\",\n",
      "  \"But sometimes you might want a little break. This is especially true on days where there is a lot of activity around your home, such as during a family get-together or a chore day.\",\n",
      "  \"Now, say you want to check in on a device, to see what\\u2019s happening now, and what\\u2019s happened recently. Just tap its camera preview to reach the next new feature, the Event Timeline.\",\n",
      "  \"To connect lights to Spotlight Cam, you\\u2019ll need to run standard electrical cable from the fixtures you want to control to the electrical box where you plan to install Spotlight Cam.\",\n",
      "  \"If you are in the market \\u00a0for a new career opportunity, The May Institute in Randolph is hosting a Hiring Event next Tuesday \\u2013 June 26th from 10-4pm at their office in Randolph, MA.\",\n",
      "  \"Thank you for calling Blackgold Physical Therapy Clinic. We are currently assisting another patient.  Kindly leave a message and a member of our team will return your call promptly.\",\n",
      "  \"Minimum Requirements:\\u00a0 2 years driving experience. 6 months of direct care experience. CPR and First Aid certifications along with \\u00a0experience working with autistic population a plus\",\n",
      "  \"Additional delicious bulk varieties from Stonemill include Creamy Sriracha Pasta Salad, Garden Herb Potato Salad and Pimento Cheese Macaroni Salad\\u2026all sure to delight your customers.\",\n",
      "  \"First, choose an install location near your Spotlight Cam that gets good sun exposure. the Solar Panel can keep Spotlight Cam charged with just a few hours of direct sunlight per day.\",\n",
      "  \"We are currently open but assisting another patient, kindly leave your name and Telephone number. We will call you back promptly to discuss appointment time suitable for your schedule\",\n",
      "  \"My confidence in Dr. Wheeler made me comfortable making this big decision. Staff excellent. The pre-op booklet and post-op written materials were invaluable to me and my recovery team.\",\n",
      "  \"If you\\u2019re mounting your Stick Up Cam on a brick or masonry surface, use the included drill bit to pre-drill the holes, and push the included wall anchors into the holes before mounting.\",\n",
      "  \"Cold Beers & Cheeseburgers is Arizona's prime destination for all sports enthusiasts! With over 40 HD TVs in each valley wide location, there is no such thing as a bad seat in the house!\",\n",
      "  \"The last step is to enable external light control in the Ring app. Select your Spotlight Cam Mount, then tap here to enter its settings screen. Finally, tap here to enable light control.\",\n",
      "  \"Second, make sure that you\\u2019ve installed your sensors properly. Finally, review the system with your family and be sure that they understand how to use Ring Protect and its security Modes.\",\n",
      "  \"and discover how all 200+ graduate programs come with authentic, hands-on experience. Register today at northeastern.edu/graduateopenhouse and connect learning to your career advancement.\",\n",
      "  \"The Pro Power Kit ensures that your Ring Video Doorbell Pro receives the power it needs for the best performance. The instructions in this video apply to this version of our Pro Power Kit.\",\n",
      "  \"Now it\\u2019s time to turn power back on at the breaker. If your Spotlight Cam lights up, it\\u2019s ready to set up in the Ring app. If not, turn power off at the breaker and check your connections.\",\n",
      "  \"When visiting New York City, consider our Hilton Family branded hotels.  Visit us online at Hilton dot com slash new york city slash h i for more information and to view our special offers.\",\n",
      "  \"\\u201cIf we have trouble verifying your address, we\\u2019ll ask you to let us use your location to help match you to the right Ring Neighborhood. Once you agree, you\\u2019ll be verified within a few days.\\u201c\",\n",
      "  \"Come in today to take advantage of our current massage therapy promotion.  When you purchase five one-hour massages, the sixth is on us.  It\\u2019s just our way of thanking you for your business.\",\n",
      "  \"Our Doorbell Bypass Kit is a special package we supply to Neighbors that encounter this problem. The kit includes our new Pro Power Kit, which lets you safely bypass your doorbell mechanism.\",\n",
      "  \"Festival.  This mild, sweet, savory pepper is enjoyed by all, and it makes this cheese a true standout.  Tony\\u2019s stocks Henning\\u2019s Hatch Pepper 22 pound wheel.  Order today while supplies last!\",\n",
      "  \"In this case, you will need to attach the diode to wire your Ring Doorbell properly. Before you begin installation, shut off power at the breaker to where your Ring Doorbell will be installed.\",\n",
      "  \"It\\u2019s important to know that your Floodlight Cam is equipped with two separate motion detection systems. Each system is designed for a specific job, and each can be customized to meet your needs.\",\n",
      "  \"Next, insert the two wires you detached from the doorbell into the two holes on the new Pro Power Kit. This safely bypasses your internal doorbell, freeing up the power your Ring Doorbell needs.\",\n",
      "  \"If sensors are faulted when you try to arm the system, you\\u2019ll have to clear them or bypass them first. Bypassing sensors means Ring Protect will not monitor the faulted sensors while it\\u2019s armed.\",\n",
      "  \"At the electrical box for Spotlight Cam, use a wire nut to connect all of the white wires: You\\u2019ll see one from Spotlight Cam, one from each light fixture, and one from your household power wiring.\",\n",
      "  \"The bottom light will also begin flashing, and your Floodlight Cam will begin speaking to you to let you know it\\u2019s in setup mode. You should step off the ladder to complete set-up in the Ring app.\",\n",
      "  \"Finally, insert one of the included security screws into the hole on the bottom, and tighten it using the star-shaped end of your Ring screwdriver. Now your Ring Video Doorbell Pro is ready to go.\",\n",
      "  \"Thank you for calling Truckers Permitting Services.  We are currently closed.  Our hours of operation are Monday through Friday from 9am to 6pm and Saturday 10am to 2pm.   We are closed on Sunday.\",\n",
      "  \"Are you looking to order to go? Well, there\\u2019s no need to leave your house! Download the Door Dash app and have Cold Beers & Cheeseburgers delivered right to your door! Certain exclusions may apply.\",\n",
      "  \"Need a good used vehicle for your teen driver?  Need a reliable second car for the family?  At Cannon\\u2019s Automotive, we offer fully inspected and repaired vehicles for sale.  We\\u2019ll be right with you.\",\n",
      "  \"Our physical address is 2355 Vanderbilt Beach Road, Suite 196, Naples, Florida 34109.  Our phone number is 239-777-7387 and our email is  HYPERLINK \\\"mailto:info@cvhfl.com\\\" info at c v h f l dot com.\",\n",
      "  \"And here, you\\u2019ll see the time the current snapshot was taken. AC-powered Ring devices provide new snapshots regularly. Battery-powered devices update when you view the app, to conserve battery life.\",\n",
      "  \"Have your insurance benefits been renewed or changed?  If you have any questions regarding dental benefits or flexible spending plans, be sure to ask Angelica or Lori. They will be with you shortly.\",\n",
      "  \"Have you heard about our Mother\\u2019s Day Essay Contest?  Kids can write a short essay while they are here for their visit, and their moms will receive a gift from us.  Happy Mother\\u2019s Day from all of us!\",\n",
      "  \"Our delicious arrangements and decadent chocolate-dipped fruit boxes are locally crafted by hand with the freshest fruits and 100% REAL semi-sweet and white chocolate. No artificial ingredients here!\",\n",
      "  \"Now, restore power at the breaker. If you have a switch that operates your Floodlight, you\\u2019ll need to keep this in the \\u201con\\u201d position since turning it off will cause your Floodlight Cam to go offline.\",\n",
      "  \"BBL Treatment : Tifffany and her staff are always professional, polite and concerned with my comfort as a patient. They take the time to get to know me, my concerns and work to get me the best results.\",\n",
      "  \"Thank you for calling Blackgold Physical Therapy Clinic.  We are currently closed in observance of the national holiday.  Kindly leave a message and a member of our team will return your call promptly.\",\n",
      "  \"If you\\u2019ve enrolled in professional security monitoring through Ring Protect, you may need to obtain a permit before monitoring your home. Check your email for more details about permits and monitoring.\",\n",
      "  \"Looking for help with your lighting project?  We now provide complimentary lighting layout plans so you\\u2019ll know exactly how many lights you\\u2019ll need to provide optimal lighting coverage, at minimal cost.\",\n",
      "  \"Keep in mind that while a device is Motion Snoozed, that only means that you don\\u2019t receive Motion Alerts. All motion events are captured, and videos are recorded if you have a Ring Protect subscription.\",\n",
      "  \"My experience with Dr. Salazar and his staff is amazing. Very friendly and cares about you. He answered all my questions and concerns, and really took the time to discuss what\\u2019s best for me and my body.\",\n",
      "  \"Did you know that fleas and ticks can live even during the winter?\\u00a0 Despite the decreasing temperatures outside, make sure your pet stays up-to-date on flea, tick, and heartworm preventatives year-round.\",\n",
      "  \"My entire experience with Dr. Salazar has been amazing. He has great bedside manner and answered every question I had, which was a lot. My breast augmentation went amazing! My results couldn\\u2019t be better.\",\n",
      "  \"Here in Winchester Dr. Jack Greiner is launching a clinical study to evaluate a new allergy eyedrop. If you experience allergy symptoms and are at least 18 years old, you may be qualified to participate.\",\n",
      "  \"Then the Kendall square holiday on ice free show, produced by joy skate productions.\\u00a0 There will be food! And then more free skating!\\u00a0 This Saturday, at the thirteenth annual Kendal square holiday on ice.\",\n",
      "  \"Note that if you own an original Ring Video Doorbell with a non-removable battery, you need a different solar charger. See our video \\u201cHow to Install Ring Solar Charger for Ring Video Doorbell\\u201d for details.\",\n",
      "  \"Did you know we now offer online booking?  That\\u2019s right!  Just go to fay cleaning group dot com, Facebook or Yelp, and book your next appointment conveniently right online.  Ask for details when we return.\",\n",
      "  \"Loosen the screw terminals marked \\u201cFront\\u201d and \\u201cTransformer,\\u201d and detach the doorbell wires they were holding in place. If you previously installed an older Pro Power Kit, you\\u2019ll want to remove that, as well.\",\n",
      "  \"On the Spotlight Cam Mount wiring harness, you can see a standard black wire for the \\u2018hot\\u2019 connection, and a white wire for \\u2018neutral.\\u2019 This red wire is what you use to supply power to the lights you connect.\",\n",
      "  \"Find beauty, warmth, and wonder with all those you hold so dear. Join us for art and fun events -- it's oh-so merry here! We've decked our halls with baubles and bows, and even the Chihuly has a magical glow!\",\n",
      "  \"Do you ever suffer from red, itchy, and watery eyes? Do you frequently sneeze or experience nasal congestion? If so, you may be one of the millions of people who suffer from allergies across the United States.\",\n",
      "  \"Nothing says holidays quite like skating outdoors. This Saturday, join the twelth annual Kendall square holiday on ice, to kick of the public skating season!\\u00a0 It all starts with free skating beginning at 11 am\",\n",
      "  \"Position the black plastic part of your diode in the middle of the bracket, and wrap the wire at each end around one of the screws. Then connect your existing wires, and place your Ring Doorbell on the bracket.\",\n",
      "  \"To use a wire nut, first ensure that the wire ends that you want to connect are straight, then align the ends, side by side. Finally, feed the wires into the wire nut, and twist clockwise until tightly secured.\",\n",
      "  \"Thank you for calling Blackgold Physical Therapy Clinic.  Our clinic will be open for your convenience during this coming national holiday from 9am to 2pm Mountain Standard Time. To book an appointment Press 1;\",\n",
      "  \"At Sky Lake Animal Hospital, we believe in giving back to the community we serve. \\u00a0We are proud to have been chosen to care for the Miami Dade K9 units, as well as many rescue organizations and animals in need.\",\n",
      "  \"Are you looking for the perfect space to book your next event or holiday party? Contact our Events Coordinator by dialing 480-941-0101, or visit square one concepts inc dot com and ask for the Events Department.\",\n",
      "  \"If your Ring device has a hardwired power connection, press its setup button twice. If it\\u2019s a Ring Pro or Elite, you\\u2019ll need to remove the faceplate to reach this button. This method also works for Stick Up Cam.\",\n",
      "  \"To install this kit, first shut off power to your doorbell at the breaker. If you don\\u2019t know which breaker is wired to your doorbell, you can turn off the main breaker for your home, or hire a licensed electrician.\",\n",
      "  \"On the back of your Floodlight Cam are three wires. This black wire is the hot wire and will connect to the black wire in your junction box. The white wire is neutral and will connect to your neutral or white wires.\",\n",
      "  \"After wiring, remove Floodlight Cam from the hook. Carefully feed all the wires through the middle of the mounting bracket and tuck them inside the junction box. Then, put the light fixture over the mounting bracket.\",\n",
      "  \"Thank you for calling Highgate Hotels, (pause) Hiltons of New York City (pause) Central Sales & Marketing Office.  Please stay on the line for the next available sales coordinator.  Your call is very important to us.\",\n",
      "  \"If the ground wire from your junction box isn\\u2019t long enough, then run the ground wire from Floodlight Cam through the hole in the middle of the bracket, and connect it to the existing ground inside your junction box.\",\n",
      "  \"Hold the weatherproof box cover in the orientation you plan to install it. Feed the wires from the wiring harness through the center hole. Then insert the harness into the cover with the lock-shaped symbols facing up.\",\n",
      "  \"In rare cases, issues with household wiring or the design of your internal doorbell can cause problems to persist even with the correct type of transformer. In this case, we recommend bypassing your internal doorbell.\",\n",
      "  \"If there\\u2019s an emergency in your home, activate Ring Protect\\u2019s Panic alarm. Press and hold the checkmark and x buttons on your keypad to instantly send the Panic alarm. Authorities will then be dispatched to your home.\",\n",
      "  \"If you have a Ring Chime or Chime Pro, you know that they are special wireless speakers that let you hear Ring and Motion Alerts throughout your Home. This is a good thing, but what if you want a little peace and quiet?\",\n",
      "  \"Ready to open up the path to a promotion or a new career? Attend Northeastern University\\u2019s Graduate Open House on October 1st from 10 to 1 to get started. Find all the event details at northeastern.edu/graduateopenhouse\",\n",
      "  \"Registrations? Truckers Permitting Services has you covered. Fuel taxes, truck insurance, titles: when it comes to the documents you need to get the job done, come to Truckers Permitting Services.  One call does it all!\",\n",
      "  \"When you\\u2019re finished, find a place for the Pro Power Kit inside or alongside your internal doorbell, and then re-attach the cover. Now, you can turn power back on at the breaker, and get ready to test your Ring Doorbell.\",\n",
      "  \"Next, pair up the black wire from your electrical box with the black wire coming from your Spotlight Cam wiring harness, and secure the connection with one of the included wire nuts. Then, do the same for the white wires.\",\n",
      "  \"The Centra Southside Community Hospital family welcomes three new specialists\\u2026Dr. Shi Lim in Neurology, Dr. Atul Bali in Nephrology and Dr. Islam Saleh in Pain Management. Please call 434-315-2831 for their office numbers.\",\n",
      "  \"For safety and the proper operation of your Ring Floodlight Cam, the fixture must be properly grounded. If you\\u2019re not familiar with the methods for properly grounding this type of fixture, consult with a licensed electrician.\",\n",
      "  \"Ready? Ready to open up the path to a promotion or a new career? Attend Northeastern University\\u2019s Graduate Open House on October 1st from 10 to 1 to get started. Find all the event details at northeastern.edu/graduateopenhouse\",\n",
      "  \"We\\u2019re not judging. Try reducing portion sizes by eating more fruits, vegetables, and foods that are high in fiber, and of course, reducing your intake of alcohol and junk food. It sounds like a lot, but every little bit helps.\",\n",
      "  \"We are open seven days a week with the exception of some national holidays.  Our regular business hours are Monday through Thursday from 8am to 6pm, Friday from 8am to 5pm, Saturday from 8am to 4pm, and Sunday from 10am to 3pm.\",\n",
      "  \"We would like to take a moment to thank all our clients for their patronage over the last 10 years. We truly love caring for you and your pets and we are thankful to be part of such an amazing community. Cheers to another decade!\",\n",
      "  \"This is Floodlight Cam\\u2019s mounting bracket, which you\\u2019ll attach to your junction box using these mounting screws. You\\u2019ll only need two screws to securely mount your bracket, but we\\u2019re including 4 just in case you want to use more.\",\n",
      "  \"customers nationwide by utilizing a worker owned and managed cooperative business structure.  Ivarado strives to use whole grain and organic ingredients, wherever possible, to support sustainable agricultural practices and healthy\",\n",
      "  \"MFA for the Holidays. Find beauty, warmth, and wonder at the Museum of Fine Arts. From the tiny treasures of a Dollhouse to a magnificent icicle tower, the MFA is a special place to enjoy art and fun events with friends and family.\",\n",
      "  \"Ready to open up the path to a promotion or a new career? Attend Northeastern University\\u2019s Graduate Open House on October 1st from 10 to 1 and explore over 200 graduate programs. Register today at northeastern.edu/graduateopenhouse\",\n",
      "  \"The Pro Power Kit is made for use with 16-volt AC doorbell systems, as used in the USA. If you\\u2019re installing your Ring Pro outside the USA, your install process may be different. Check your Video Doorbell Pro user manual for details.\",\n",
      "  \"Virginia Living, Northern Virginia Magazine and the Washingtonian Magazine have all named Dr. Kristen Donohue as one of the area's TOP DENTISTS for Cosmetic and Family Dentistry.\\u00a0\\u00a0 Let her be YOUR TOP DENTIST, and see the difference.\",\n",
      "  \"To get started, loosen these knobs to point the lights straight up to get them out of the way during installation. You can also use this lock collar at the base of each light to rotate it in the desired direction and secure it later.\",\n",
      "  \"Tony\\u2019s JIT or \\u201cJust in Time\\u201d summer bulk salads are available from Frankly Fresh and Stonemill Kitchen, and are perfect for enhancing your salad offerings.  And at Tony\\u2019s, we\\u2019ve got the whole collection!  From Frankly Fresh, choose bulk\",\n",
      "  \"Our clinic is located at Bay #109, 8530 Manning Ave, Fort McMurray. Blackgold Physical Therapy is located in the same building as The Service Canada, but facing the river. We are open Monday to Friday 9am to 8pm and Saturday 10am to 3pm\",\n",
      "  \"Our clinic is located at Bay #109, 8530 Manning Ave, Fort McMurray. Blackgold Physical Therapy is located in the same building as The Service Canada, but facing the river.  We are open Monday to Friday 7am to 8pm and Saturday 10am to 3pm\",\n",
      "  \"If you\\u2019d like to disable Motion Alerts at certain times, tap here to set up a Motion Schedule. For example, if your garbage is always picked up on Tuesdays between 7 and 8 AM, you can choose not to receive Motion Alerts during that time.\",\n",
      "  \"For more information, please visit Fabulous Food\\u2019s website, fabulousfood.net. You can also find us on Facebook and Instagram, and follow us on Twitter @ fabulous food A Z for up to date information on the amazing things we\\u2019ve been up to.\",\n",
      "  \"Hello! Thank you for calling Commercial Electric, your trusted source for professional grade lighting solutions.  Our customer service team is available from 9 AM to 5 PM Eastern Standard Time Monday to Friday, except on national holidays.\",\n",
      "  \"When someone presses the button on your Ring Doorbell, or walks into one of your Motion Zones, the Ring app takes note of what\\u2019s happened and sends a notification to your mobile device. Tap the notification to open the Ring app and check in.\",\n",
      "  \"Cheers to Cold Beers!  We offer a daily Happy Hour Monday through Friday from 3 to 6 PM featuring $3 domestic draughts, $4 Four Peaks Pints, $5.50 select appetizers and an all-American Burger special for $8.50 that includes house made chips!\",\n",
      "  \"After a summer of hitting the road for fun, it\\u2019s time to make sure your vehicle is good to go for the safe and basic transportation needs of fall and winter. Come in and see how we can make a new car, truck, or s.u.v affordable for you today.\",\n",
      "  \"Here\\u2019s a reminder about our Sukut Dental Care plan.  Patients love this program - especially big families without dental insurance. \\u00a0No hidden fees or restrictions, just 12 months of great Sukut Dental preventive care for you and your family.\",\n",
      "  \"We don\\u2019t want your focus to be on anything other than getting well, so our staff is happy to handle all of your insurance issues personally.  We offer direct billing through your insurance company, and will even take care of all the paperwork.\",\n",
      "  \"Open the Ring app and tap Set Up Device. Choose Chime from the list, and follow the in-app instructions to connect Chime to your Wi-Fi network. Once Chime is connected to your Wi-Fi network, it\\u2019s ready to amplify alerts from your RIng Doorbell.\",\n",
      "  \"Press 3 to leave a detailed message in our general mail box after the tone and we will get back to you promptly. You may also visit our website at w w w dot blackgold pt clinic dot com where you can schedule or make changes to your appointment.\",\n",
      "  \"Interested in earning rebates on your lighting purchases? Lots of our lights now qualify for DLC rebates from your local or state power utility. Just ask one of our lighting specialists about our DLC rebate support so you can start saving today.\",\n",
      "  \"If you are a physiotherapist or massage therapist looking for a fun place to work and to enrich the lives of others, you might be a perfect fit to join our happy family.  Inquire within at BlackGold Physical Therapy Clinic or drop off your resume.\",\n",
      "  \"Thank you for calling Blackgold Physical Therapy Clinic.  You have reached the voicemail box of Funsho Aroniyo. Please leave a detailed message including your name, telephone number and the reason for your call and he will get back to you promptly.\",\n",
      "  \"Overwhelmed by all the choices for auto insurance?  Don\\u2019t be \\u2013 at Great Park Insurance, we\\u2019re here to help you find the right car insurance for you or your business, at the lowest possible rate, without sacrificing the coverage you need and deserve.\",\n",
      "  \"Thank you for calling Fabulous Food Fine Catering and Events. Our team of event specialists and chefs are creating some delicious new menu items for you and your guests to celebrate special occasions and holidays. Book now to secure the perfect date.\",\n",
      "  \"However, if you don\\u2019t have a wired doorbell but still want the next-level features and sleek look of Ring Video Doorbell Pro, you can install a plug-in adapter or hardwired transformer to supply the power it needs. To order, visit ring.com/accessories.\",\n",
      "  \"At Kleydman Dermatology we work to enhance your most beautiful features. From lasers that make your skin flawless, to fillers that highlight and accentuate your natural facial contours. Ask more about our cosmetic treatments when we return to the line.\",\n",
      "  \"Thank you for calling Tiga Pediatrics, where we are committed to providing your family with personal attention, excellent quality care, and same day appointments. If this is a medical emergency, please hang up and call 911.\\u00a0For Spanish, please press 2.\",\n",
      "  \"If your Ring Doorbell has a removable faceplate, you have a Ring Video Doorbell 2. Install the diode directly on the screws on the back of your Ring Video Doorbell 2. Then connect your existing wiring, and screw your Ring Video Doorbell 2 into the wall.\",\n",
      "  \"Dr. Bikram Bal, gastroenterologist, is located at the Centra Southside Center for Gastrointestinal & Liver Diseases office, on the hospital campus; third floor of the medical office building. To make an appointment with Dr. Bal, please call 434.315.2860.\",\n",
      "  \"Have you neglected your oral health?  Dr. Quimby offers many different comfort options for her patients, such as noise cancelling headphones, nitrous oxide, and conscious sedation.  Ask Dr. Quimby and her team about the options we have available for you.\",\n",
      "  \"New Fairfield Animal Hospital is happy to be participating at the annual New Fairfield Day on September 15th, 2018. Be sure to stop by and say \\u201cHI\\u201d! There will be fun raffles and give-a-ways as well as family fun and events representing our beloved town!\",\n",
      "  \"In the coming months Sweis, Inc. will be launching several new brands including, It\\u2019s a 10 Hair Care, and Ethica Beauty. To learn more, ask one of our representatives for information. Your call is very important to us. We will be back on the line shortly.\",\n",
      "  \"Thank you for calling Synergy Fitness.  We\\u2019re sorry we missed your call.  Our fitness consultants are currently away from the phones helping another client reach their fitness goals.  Please call us back in a few minutes, and we will be happy to help you.\",\n",
      "  \"Help find a better way to treat eye allergy symptoms by joining this upcoming study. Complete 4 visits over 5 weeks and you may be compensated up to $525 for your time. To learn contact 866-393-3767 or myeyestudy.com. That\\u2019s 866-393-3767 or myeyestudy.com.\",\n",
      "  \"Check \\u00a0the weatherproof caps on your junction box to see if they are are installed and are watertight. If the caps aren\\u2019t watertight, you\\u2019ll need to use a silicone caulk to create a weatherproof seal. It\\u2019s important that no water gets into the junction box.\",\n",
      "  \"Your Video Doorbell Pro is designed to draw its power from the same 16-volt AC transformer that powers your internal doorbell chime. However, some doorbell mechanisms use so much power that that there\\u2019s not enough left over to power your Video Doorbell Pro.\",\n",
      "  \"Banks want your business!  Good credit, medium credit, or even bad credit - we can get it handled for you. There has never been a better time to strengthen you credit score than right now.  Check out our online credit process on bill bunch chevrolet dot com.\",\n",
      "  \"Even pets like to looing good!\\u00a0 Don't forget to schedule your grooming appointment with our professional groomer, Donna Cyr (pronounced SEAR), here at The Pet Spa. Ensure that your dog looks his or her best. Appointments are available Monday through Saturday.\",\n",
      "  \"Interested in a cleaner cake program from Tony\\u2019s bakery division that\\u2019s free from artificial colors, flavors and preservatives? Look no further, because Tony\\u2019s has the solution!  From cake layers, to fillings and icings\\u2026 check with your sales rep after this call!\",\n",
      "  \"Good news for those with no dental insurance! Our office offers a private Wellness Program that will give you some relief for your dental care costs. Visit our website at james s t dental art dot com for details and terms and conditions. We will be with you shortly.\",\n",
      "  \"Thank you for calling Concierge Veterinary Hospital \\u2026your partner for life, where we offer the ultimate experience in veterinary medicine seven days a week.  Please press 1 for reception. Press 2 to leave a message.  Press 0 for the hours and location of our office.\",\n",
      "  \"And be sure to Like us on facebook at Brow Obsession by anarkali and Instagram at Brow_Obsession for announcements and special promotions! We\\u2019re glad you called today, our average wait time is under 2 minutes, and we look forward to taking your call in just a moment.\",\n",
      "  \"Finally, mount the Pro Power Kit inside or alongside your internal doorbell, using the provided foam adhesive if necessary. If your doorbell is mechanical like this one, take care to mount the Pro Power Kit in a place where it won\\u2019t interfere with the bell mechanism.\",\n",
      "  \"w w w dot m u f c w benefits dot com and you can view your screening results, wellness program requirements and much more from your personalized dashboard! Don\\u2019t know your login information? Just ask the customer service representative when they come back on the line.\",\n",
      "  \"Tap here to enable the schedule, then set the start and end times. When you\\u2019re done, tap here to save. Of course, you can always manually control the lights, and if motion is detected after dark outside of the scheduled \\u2018on time,\\u2019 the floodlight is triggered as normal.\",\n",
      "  \"These knobs are for adjusting the angle of the lights. Loosen the knobs to point the lights straight up to get them out of the way during installation. You can also loosen and secure the lock collar at the base of the lights after rotating them in your desired direction.\",\n",
      "  \"Are you planning a fun fall getaway?\\u00a0 Make sure to check with your boarding facility's requirements to ensure that your pet is prepared and up-to-date on all vaccinations, including those for kennel cough and canine influenza, as well as all necessary parasite screenings.\",\n",
      "  \"L\\u2019Occitane is your gifting destination. Our wide range of skin care and body care products offers the perfect gift for everyone. Ask our associates about the start gifts, especially designed to fit every life-style. Don\\u2019t forget your stocking stuffers this holiday seasons.\",\n",
      "  \"Have friends with bushy brows? DO THE RIGHT THING!  If you are an existing client and you refer 2 new clients, you receive free eyebrows for every two clients you refer! We look forward to taking your call in just a few moments, as our average wait time is under 2 minutes!\",\n",
      "  \"Dr. Giannelli knew early on that she was destined to enrich peoples\\u2019 lives through modern dentistry, and she began working toward her goal at an early age. Dr. Giannelli looks forward to providing you with the best possible dental care with a plan personalized just for you.\",\n",
      "  \"You can arm your system by switching to Away or Stay modes. To arm your system using the keypad, enter your four-digit access code, then press the Away or Stay buttons. To disarm your system, enter your four-digit access code, then press the Home button.switch to Home mode.\",\n",
      "  \"Thank you for calling Cannon\\u2019s Automotive.  We are here Monday through Friday between 7AM and 6PM, and Saturday from 7AM to noon.   It\\u2019s all at Cannon\\u2019s Automotive, where we are here to get you there.  Thank you for holding.  We look forward to helping you in just a moment.\",\n",
      "  \"Are you going on vacation this winter?\\u00a0 Make sure to check with your boarding facility's requirements to ensure that your pet is prepared and up-to-date on all vaccinations, including those for kennel cough and canine influenza, as well as all necessary parasite screenings.\",\n",
      "  \"Before you begin installation, shut off power at the breaker to where your Floodlight Cam will be installed. If you\\u2019re not sure which breaker controls the outlet where you\\u2019ll be performing the install, then switch off your main breaker or consult with a licensed electrician.\",\n",
      "  \"Press 3 to leave a detailed message in our general mail box after the tone and we will get back to you at our next clinical or business opportunity. You may also visit our website at w w w dot monarch physio dot com where you can schedule or make changes to your appointment.\",\n",
      "  \"We are experiencing higher than expected wait times. If you would like to bypass the wait and receive a callback, please press 2 at any time.  You will not lose your place in line. Otherwise, please stay on the line and your call will be answered in the order it was received.\",\n",
      "  \"We offer a variety of carbonated beverages, fresh Keurig brewed coffee, juices, and Perrier sparking water.  For your convenience, book your appointments online 24/7 at brow obsession by anarkali dot com, or make your appointment when we come back on the line in just a moment.\",\n",
      "  \"First, let\\u2019s look at settings for the floodlight sensor. In the settings screen, tap here to look at Light Settings, then here to set the Motion Zones for Lights. In this screen, you can toggle each of the three sensors off and on, and set the distance at which sensing begins.\",\n",
      "  \"We are located at the north west corner of the intersection of \\u00a0Vanderbilt Beach Road and Airport Pulling Road, inside the plaza \\\"Galleria Shoppes At Vanderbilt\\\" in North Naples Florida.   Our office is located inside the plaza right across from the \\\"Naples Family Fitness\\\" gym.\",\n",
      "  \"The next steps involve electrical wiring, so be sure to turn off power to the electrical box at the breaker before you continue. If you\\u2019re not sure which breaker supplies power to this box, you can turn off the master breaker for your home, or get help from a licensed electrician.\",\n",
      "  \"Follow Sweis on Instagram, Facebook, Twitter and Pinterest to see current trends, learn more about our products and upcoming events and education. Do you have beautiful before & after pictures that show off your best work?  Tag #sweisinc in your photos for a chance to be featured.\",\n",
      "  \"In the Ring app dashboard, you can see that this Chime now shows the Chime Snooze symbol, to show that it is snoozed. During the Chime Snooze period, if you want to turn snooze off or specify a new time period, just tap the Chime Snooze symbol, then make your selection, and tap Save.\",\n",
      "  \"Pay rates start at $13.00 and are dependent on experience and education. For more information or to apply for an opportunity to have a pre-scheduled interview, visit mayinstitute.org/careers and search for \\u201chiring event\\u201d\\u00a0 that\\u2019s \\u00a0mayinstitute.org/careers and search for \\u201chiring event\\u201d.\",\n",
      "  \"Once you\\u2019re sure power is off, remove your existing floodlight. Unscrew it, then carefully pull it off the junction box it\\u2019s attached to. If the wires are connected with wire nuts, turn the wire nuts counterclockwise to detach them. Then remove your existing floodlight and set it aside.\",\n",
      "  \"Fabulous Food is also the Garden\\u2019s Patio Caf\\u00e9 food service provider. Located in the back of the Garden and open daily, the Patio Caf\\u00e9 is a casual outdoor spot for a breakfast snack, lunch, a hot or cool beverage or a sweet treat. Through Electric Desert we will stay open in the evenings.\",\n",
      "  \"Do you have a seven day rental?  Don\\u2019t forget to call when you are done with your rental \\u2013 we don\\u2019t pick them up until we hear from you.  Avoid the $10 per day fee for additional rental days by calling to let us know you are ready for pickup.  Thanks for holding.  We\\u2019ll be right with you.\",\n",
      "  \"This video will give you an overview of the parts of your Ring Floodlight Cam and some basic wiring techniques. Before installing your Floodlight Cam, we suggest watching these videos so you are familiar with the installation process. We\\u2019ve included a printed manual for reference, as well.\",\n",
      "  \"Ring Neighborhoods is a place for law-abiding neighbors to share vital crime and safety alerts, and sometimes that means sharing something sensitive. So, to keep your Neighborhood safe and encourage open communication, we verify each Neighbor\\u2019s address, to make sure they really live there.\",\n",
      "  \"First, take the copper ground wire from your Floodlight Cam and loop it around the green ground screw on the Floodlight Cam bracket. Tighten the ground screw to secure the ground wire. Then use a wire nut to secure it to the end of the green or copper ground wire coming out of your junction box.\",\n",
      "  \"IS YOUR CAREER AT A STANDSTILL LIKE BOSTON TRAFFIC? \\u201cLIFE. CAREER. HAPPINESS. CHANGE YOUR PERSPECTIVE WITH SPA TECH! FIND BALANCE & BEGIN YOUR MASSAGE OR AESTHETICS JOURNEY TODAY AT SPA TECH\\u2019S WESTBORO, IPSWICH OR PLYMOUTH CAMPUS! YOU DESERVE SUCCESS! VISIT SPATECH DOT EDU! THAT\\u2019S SPATECH DOT EDU\\u201d\",\n",
      "  \"Don\\u2019t miss the biometric screening period that starts September first and runs through October thirty-first.  If you didn\\u2019t receive your biometric screening information in a bright orange envelope, please ask the customer service representative for more information when they come back on the line.\",\n",
      "  \"We want to make sure your first visit is as worry-free as possible.  May we suggest that you make a list of questions so you won\\u2019t forget anything when you arrive?  If you have dental insurance, don\\u2019t forget your insurance card.  Thanks in advance for helping us make your visit a pleasant experience.\",\n",
      "  \"Dr. Ben Selvan is the newest addition to the Centra Southside Community Hospital family. Dr. Selvan has joined Dr. Kirsten Huber and Dr. Rodrigo Roldan in the Centra Southside Surgical Associates practice, located on the hospital campus. To make an appointment with Dr. Selvan, please call 434.315.2998.\",\n",
      "  \"Concierge Veterinary Hospital of Naples is pleased to offer cold laser therapy!  This state of the art treatment is commonly recommended to treat pain, inflammation, and to help pets recover from injuries and surgeries.  Ask us if your pet can benefit from cold laser therapy when we return to your call.\",\n",
      "  \"Laser dentistry is here!  At our office we use lasers for a variety of hard and soft tissue procedures to make your visit as pleasant and comfortable as possible.  Laser dentistry is highly efficient and effective, and here\\u2019s good news - no shots are necessary!  Ask for details when we return to the line.\",\n",
      "  \"Thank you for calling Premier Pharmacy Care and for holding while we work on your order.  We value our customers and appreciate the opportunity to be your pharmacy service provider.  Our goal is to exceed your expectations while meeting your pharmacy needs.  A member of our staff will be with you shortly.\",\n",
      "  \"Either wrap Floodlight Cam\\u2019s ground around the screw in your junction box, or use the extra wire nut we\\u2019ve provided to connect it to the existing ground wire in your junction box. Do this before installing the bracket, since the ground in your junction box may be hard to get to after installing the bracket.\",\n",
      "  \"HEY GUYS\\u2026.SCORE SOME MAJOR POINTS WITH YOUR LOVED ONE THIS VALENTINES DAY WITH A GIFT CARD FROM MAISON ESTHETIQUE CHRISTIANE BOUQUE SPA. AN AWARD WINNING SPA OFFERING FACIALS, MASSAGES, SPA PACKAGES AND SO MUCH MORE. PURCHASE A GIFT CARD AT MAISON ESTHETIQUE DOT NET OR AT NINETY FOUR HIGH STREET IN DANVERS!!\",\n",
      "  \"Everyone loves Halloween candy! Be sure to keep these delicious goodies far away from your furry friends to avoid a scary situation, as many of these treats can be toxic to your pets. For more information on hazardous items, please visit  HYPERLINK \\\"http://www.petpoisonhelpline.com\\\" www.petpoisonhelpline.com.\",\n",
      "  \"As a warning, installing Ring Floodlight Cam involves working with high-voltage electricity. If you are not comfortable or are inexperienced with the processes and tools described in this video, we recommend that you hire a licensed electrician. Also be sure to comply with your local building and wiring codes.\",\n",
      "  \"Push the front button on your Ring Doorbell to make sure it rings your home\\u2019s internal bell. If your internal bell doesn\\u2019t ring, or if it doesn\\u2019t ring correctly, simply reverse the diode, and try again. You can either reverse the diode, or reverse the wires connected to your Ring Doorbell, whichever is easier.\",\n",
      "  \"Have you signed up for preventive maintenance on your HVAC systems?  Summer will be here before you know it!  Now is a great time to schedule a preseason checkup on your air conditioning, so you\\u2019ll be cool and comfortable this summer.  Ask us about our preventive maintenance programs when we return to your call.\",\n",
      "  \"This is how Floodlight Cam comes out of the box. You\\u2019ll notice Floodlight Cam ships with the camera rotated upside down for protection. This is the camera lock collar. Loosen it so you can rotate the camera 180 degrees so that it is right side up. Then, tighten the camera lock collar to hold the camera in place.\",\n",
      "  \"Did you know that you can make appointments, requests referrals and prescription refills online? Please visit our website at\\u00a0 HYPERLINK \\\"http://www.tigapediatrics.com/\\\" \\\\h www.Tigapediatrics.com\\u00a0to make an appointment and access the patient portal to start using these services today, or for the front desk press 0\",\n",
      "  \"Thank you for holding. Our office dental staff consists of Dr. Bruce Freund, Dr. Kim and Dr. Azita, three dental assistants and a registered dental hygienist. Our aesthetic center is comprised of a physician, a micropigmentation specialist, 2 aestheticians and highly trained coolsculpting and utherapy technicians\",\n",
      "  \"Loosen the \\u2018Front\\u2019 and \\u2018Transformer\\u2019 screws using the provided screwdriver, making sure not to detach any connected wires. Then, slide the two wire connectors from the Pro Power Kit under the two screws and re-tighten them. It doesn\\u2019t matter which wire you connect to each, as long as both terminals are connected.\",\n",
      "  \"Fleas and ticks love the Fall! Cooler temperatures and fallen leaves make the perfect home for these pesky pests! Make sure your pet stays up-to-date on flea, tick, and heartworm preventatives year-round. Come visit us and check out the great deals and rebates we have on all of your favorite preventative products!\",\n",
      "  \"Did you know the average person only brushes their teeth for 45 to 70 seconds a day, and the recommended amount of time is 2 to 3 minutes?  Also, if you don\\u2019t floss, you miss cleaning 40% of your tooth surfaces.  Make sure you brush and floss twice a day!  Thank you for calling Sukut Dental, we\\u2019ll be right with you.\",\n",
      "  \"Check us out on Facebook! Like New Fairfield Animal Hospital's page and upload a favorite photo of your pet! We love connecting with our clients, because to us, you are like family. When we return to your call in just a moment, let us know how we are doing or, feel free to drop us a little note on our Facebook page!\",\n",
      "  \"Winter blues got you down?:  Don\\u2019t wait for that tax refund to have some fun!  At Bill Bunch Chevrolet, we know how hard you work for your dollar.  We are the working man\\u2019s friend!  Chase those winter blues away with a new vehicle!  Come in and see how we can make a new car, truck, or s.u.v affordable for you today.\",\n",
      "  \"You can change your security Mode from the Ring app or keypad. To change Modes using the app, open the dashboard, then tap the new Mode. To change Modes on the keypad, enter your four-digit access code, then choose the new Mode. As a Homeowner, you can add Users and assign each of them unique four-digit access codes.\",\n",
      "  \"Our hours of operations are Sunday through Wednesday from 10am to 8pm, and Thursday through Saturday from 10am until 8pm.  Same day appointments are accepted with two hours advance notice.   We\\u2019re glad you called today, our average wait time is under 2 minutes, and we look forward to taking your call in just a moment.\",\n",
      "  \"Thank you for choosing the Saad Dental Group, Michigan\\u2019s most recognized premium dental group. Our office is a destination for patients who desire the very best in both oral health and beauty. Our team of experts looks forward to serving you. Thank you for your patience. A member of our staff will be with you  promptly.\",\n",
      "  \"Come visit New Fairfield Animal Hospital at the 2018 Danbury Pet Expo! The event is happening on Saturday, October 14th, from 11:00am until 4:00pm at the Danbury Town Park. Come visit our booth to meet our awesome staff, snag some free goodies for your furry friends, and enter for a chance to win an awesome gift basket!\",\n",
      "  \"the newest option in laser vision correction. \\u201cAll-Laser\\u201d LASIK enables our doctors to offer bladeless LASIK to patients who may not have previously qualified.  The Ziemer Laser enables us to create thinner flaps safely, sparing more corneal tissue than ever before.  Imagine\\u2026 a new outlook on the world\\u2026 in just 24-hours.\",\n",
      "  \"The time to plan for your holiday bakery sales is now!  Many items are available by preorder only, so be sure to talk to your Tony\\u2019s sales representative today and don\\u2019t miss the early booking deadlines.  \\u00a0lvarado Street Bakery\\u2019s mission is to give superior service in providing the finest quality baked goods to its valued\",\n",
      "  \"Schedule your service appointment today!  Our friendly and fast service department is here to help you with all your automotive needs.  At Bill Bunch Chevrolet, we take pride in keeping your vehicle in tip top condition - so schedule an appointment for service, and give us an opportunity to take care of your vehicle today.\",\n",
      "  \"It\\u2019s baaaaack!  The ever popular and mouth watering Cheesy Bites Pizza is back for a limited time only!  That\\u2019s right! CHEESY BITES PIZZA IS HERE. IT HAS 28 POPPABLE, CHEESE-FILLED BITES BAKED RIGHT INTO THE CRUST. IT EVEN COMES WITH MARINARA ON THE SIDE FOR SERIOUS DIPPING. BUT HURRY, IT WON\\u2019T LAST FOREVER. ORDER ONE NOW.\",\n",
      "  \"After installing the mounting bracket, check that the foam gasket on the mounting bracket is flush all the way around the junction box and that your existing wires come through the big opening in the middle of the mounting bracket. This foam creates a waterproof seal between the junction box and the floodlight cam fixture.\",\n",
      "  \"The flu shot is the best way to protect yourself and your family from the flu, stop by Tiga Pediatrics to get yours today. Did you know you can ask to speak to our behavioral health clinician on staff that works closely with Dr. Tosan on any of your family health concerns such as ADHD, Asthma, Obesity, or behavioral issues?\",\n",
      "  \"Connect with us! Shop online 24/7 on our website, sign up to receive our sweis eblasts with regular news, product promotions, sale information and education updates. Follow up on social media at sweis inc Be sure to tag us to be featured hashtag sweis inc.  Thank you for your patience.  We will return to your call in a moment.\",\n",
      "  \"Thank you for calling Hall Air Conditioning, where we bring our years of experience to cater to all of your air conditioning and heating needs.  If you'd like to remain on the phone for our next available representative, press 1.  If you'd like to leave a voicemail, press 2.  To listen to your options again, please press star.\",\n",
      "  \"As the Food Service Provider at the Desert Botanical Garden, we look forward to seeing you at their events, including evenings featuring Electric Desert and the numerous daytime Festivals and Concerts throughout the season. Consider booking a private corporate event or your wedding at the Garden during these incredible events.\",\n",
      "  \"We now offer Applied Behavior Analysis in-home therapy in the Farmville region.\\u00a0 Applied Behavior Analysis in-home therapy is offered to children ages 2 through 22 with autism, developmental disabilities, or global delays in their home and community settings.\\u00a0 Please call 434-363-5306 for more information on how to get started.\",\n",
      "  \"Advanced Dermatology Laser and Cosmetic Surgery is proud to announce Kybella, the first and only FDA-approved injectable treatment that is used in adults to improve the appearance and profile of moderate to severe fat below the chin. Schedule a cosmetic consultation to see if you are a candidate for this revolutionary treatment.\",\n",
      "  \"Check us out on Facebook and Instagram! We love connecting with our clients, because to us, you are like family. When we return to your call in just a moment, let us know how we are doing! Feel free to drop us a little note on our Facebook page, check out our pictures on Instagram, or take a moment to review our hospital on Yelp!\",\n",
      "  \"At Great Park Insurance, we let our clients speak for us!  Find us on Yelp for our strong presence and great reviews, and if you\\u2019re happy with our service, please leave a review of your own!  Thank you for choosing Great Park R Insurance for your comprehensive insurance needs.  We look forward to helping you in just a few moments.\",\n",
      "  \"Thank you for calling Cold Beers & Cheeseburgers, the hottest place to be for burgers, beers and sports!  No one is available to take your call at the moment.  Please leave your name, a phone number where you can be reached, and a short message, and we\\u2019ll return your call as soon as possible.  Visit us online at cold beers dot com.\",\n",
      "  \"Thank you for calling Sukut Dental, the office of Doctor Albert E. Sukut and Dr. Karly Sukut-Neppl. We\\u2019re located at 2900 Bristol Street Suite C-102, Costa Mesa, California. Our office is open Monday through Friday. If you\\u2019d like to learn more about our practice, visit us on the web at sukut dental dot com.  We\\u2019ll be right with you!\",\n",
      "  \"Does your pet need a refill on a prescription?   In our efforts to improve efficiency and wait times to you our valued clients, we are implementing a new prescription refill policy. Just call in advance with your refill requests and our friendly staff will give you  the times your requested medications will be available for pick up.\",\n",
      "  \"At Erma Deli & Pizzeria, we\\u2019re proud to be active members of the community we serve.  We participate in fundraisers and other community events throughout the year.  At Erma Deli & Pizzeria, we\\u2019re proud of our position as a member of the Lower Township and Court House communities.  Erma Deli, fill your belly!  We\\u2019ll be right with you.\",\n",
      "  \"Trust, respect and proven results for success \\u2013 that\\u2019s our track record at Angelo Termite and Construction. \\u00a0We\\u2019re the go-to company for keeping our customers happy. \\u00a0Visit our website at angelo termite dot com for a partial list of our satisfied clients and let us know how we can help you when we return to your call. \\u00a0Jesus is Lord.\",\n",
      "  \"All of our lighting specialists are currently unavailable to take your call.  You can send a text message to this number, and we will respond to you once we reopen.  Or if you would like to leave a voicemail, please wait for the tone and then leave your name, number, and a brief message and we will get back to you shortly. Thank you!\",\n",
      "  \"Doctor Kellerman and Dr. Mahassek are committed to, and focused on, education and technology.  Dr. Kellerman attends 200 hours of continuing education every year, exceeding the required amount by 180 hours per year. Our doctors perform the most advanced treatments available to ensure your visits with us are convenient and comfortable.\",\n",
      "  \"Our customer service department business hours are Monday through Friday 8 am to Midnight Eastern Standard Time, Saturday and Sunday 10 am \\u2013 7 pm, you can also email us and our customer service department will answer you within 48 hours. Our email address is:  HYPERLINK \\\"mailto:contact.en-us@loccitane.com\\\" contact.en-us@loccitane.com.\",\n",
      "  \"If you\\u2019re looking to incorporate, Truckers Permitting Services can help.  From limited liability corporations to C and S-Corp, we bring simplicity to the entire process, ensuring you get the service you need quickly and efficiently. Ask how Truckers Permitting Services can help with your incorporation needs when we return to your call.\",\n",
      "  \"Thousands of dentists agree that Kor is the most effective teeth whitening system in the world.  This comfortable, one hundred percent safe whitening system is perfect for everyone from ages fourteen to ninety who wants a radiantly white, natural, appealing smile.  Love your smile with Kor!   Ask us for details when we return to the line.\",\n",
      "  \"Dr. Anderton grew up in the Seattle area, and attended the University of Kentucky Dental School.  He practiced in the Wenachee area for twelve years prior to acquiring our practice.  He enjoys playing tennis and spending time with his five children.  Dr. Anderton looks forward to providing comprehensive dental care to you and your family.\",\n",
      "  \"If you\\u2019re not replacing a light fixture, you\\u2019ll need to install a 4\\u201d round weatherproof junction box, or hire an electrician to install one if you\\u2019re unfamiliar with the process of installing a junction box yourself. If you\\u2019re installing a new junction box for Floodlight Cam, the optimal height is 3 meters, or about 9 feet, off the ground.\",\n",
      "  \"There should be 3 wires coming out of your junction box: \\u00a0a white wire, a black wire, and a green or copper wire, which once again is the ground wire. Use the included hook to attach Floodlight Cam to your junction box. Place one end through one of the mounting holes on your Floodlight Cam, and hook the other end onto the mounting bracket.\",\n",
      "  \"Did you know that you can view your claims, enrollment, biometric screening results, and other plan information on our website? Login to w w w dot m u f c w benefits dot com to check out some of the many great resources we have available online. If you need your username and password, just ask the representative when your call is connected.\",\n",
      "  \"Cantoni\\u2019s Pizza is open to serve you at 1116 Fairmont Avenue in Fairmont on Monday through Thursday from 10:30am to 9:30pm, On Friday and Saturday from 10:30am to 11pm, and on Sunday from 11am to 9pm.  Enjoy the superior quality that keeps people coming back for more \\u2013 at Cantoni\\u2019s Pizza!  We look forward to helping you in just a few moments.\",\n",
      "  \"Worried about missing out on the $8 weekly co-premium reduction? Don\\u2019t be! If you didn\\u2019t meet the biometric screening requirements or complete the screening, then you can enroll in the HealthyLife coaching program through December first by calling 1-800-345-2476. Once enrolled, you just have to complete 4 health coaching calls by March first.\",\n",
      "  \"Worried about missing out on the $9 weekly co-premium reduction? Don\\u2019t be! If you didn\\u2019t meet the biometric screening requirements or complete the screening, then you can enroll in the HealthyLife coaching program through December first by calling 1-800-345-2476. Once enrolled, you just have to complete 4 health coaching calls by March first.\",\n",
      "  \"If you\\u2019ve had crowns in the past, you probably didn\\u2019t enjoy the process!  Say goodbye to messy impressions, temporary restorations and multiple appointments with Cerec, the exciting new technology that allows us to create permanent crowns in just one appointment!   Ask for details about this revolutionary procedure when we return to your call.\",\n",
      "  \"At Bill Bunch Chevrolet, we like the word NO.  No annoying hidden fees.  No pressure.  No treating you like a number.  No hassle service and financing.  Every customer is a friend and integrity is the most important part of doing business at Bill Bunch Chevrolet.  Say yes to the best \\u2013 Bill Bunch Chevrolet.  We\\u2019ll be with you in just a moment.\",\n",
      "  \"Do you know what makes our work worthwhile? It\\u2019s the compliment you pay us when you recommend family and friends to our practice. If people you care for are concerned with their smile, please tell them about our office. We welcome new patients and appreciate your referrals. Thank you for your trust and confidence, they are our greatest reward.\",\n",
      "  \"Try our latest treatment, Venus Freeze.  This unique technology comfortably, safely and effectively reduces cellulite, treats wrinkles, smoothes the silhouette circumferentially and tightens skin.  Used on both the face and body, Venus Freeze treatments take under 30 minutes and results can be seen immediately.  Ask us how you can Freeze time.\",\n",
      "  \"Your benefit package includes a life insurance benefit in case of you or your dependents\\u2019 death. Although no one wants to think about their death, it\\u2019s always best to designate a beneficiary. To view, update or designate a beneficiary, just log in to w w w dot m u f c w benefits dot com and complete an online beneficiary designation form today.\",\n",
      "  \"In a world of overstuffed and over complicated, we at Cold Beers & Cheeseburgers pride ourselves in exactly what we are: cold beers and cheeseburgers.  We offer over 150 draught, bottled and canned beer on our menu, and serve over 20 handcrafted, award-winning ground chuck signature burgers!  We know that not all cheeseburgers are made equally.\",\n",
      "  \"Thank you for calling Cold Beers & Cheeseburgers, the hottest place to be for burgers, beers and sports!  You\\u2019ve reached this message after our regular business hours.  Please leave your name, a phone number where you can be reached, and a short message, and we\\u2019ll return your call on our next business day.  Visit us online at cold beers dot com.\",\n",
      "  \"No matter the season, there may never be a better time to consider having LASIK.  Our state of the art all laser LASIK helps you make the most of your vision. Give yourself the gift of sight, and experience the freedom from glasses   while at the beach, on the slopes or simply your day to day activities.  Call and schedule your appointment today.\",\n",
      "  \"Did you know that age and gender appropriate preventive care services are covered at 100%? Preventive services such as mammograms, colon cancer screenings, pap smears, and prostate exams are fully covered when you see an in-network provider. Take action before it\\u2019s too late! Discuss with your doctor what preventive screenings you should have done.\",\n",
      "  \"Forms are completed within 7 to 10 business days. A fee of $10 will be charged for expedited forms. You can fax the forms to be completed to\\u00a0 HYPERLINK \\\"about:blank\\\" \\\\h 718-881-1894, or drop them off at the front desk. For hours and directions to our office, please go to\\u00a0 HYPERLINK \\\"http://www.tigapediatrics.com/\\\" \\\\h www.TigaPediatrics.com\\u00a0or press 6\",\n",
      "  \"Come join us for a hot cup of coffee or a latte at Riverside Roasters, the coffee shop located in our lobby. Also available are homemade scones, cinnamon rolls, cookies, homemade soup and paninis! While there, you can visit the gift shop, which carries flowers, jewelry, scarves, books, darling baby items,  candy, and unique gift items.  Stop by today!\",\n",
      "  \"Dr. Roua Al-Rawi, a native of Ann Arbor, grew up with a strong desire to serve others in a health-related field. That personal drive led her to the dental profession, and her dedication of much of her professional career to providing care to disadvantaged communities.  She obtained both her undergraduate and DDS degrees from the University of Michigan.\",\n",
      "  \"There\\u2019s walking. And there\\u2019s walking to become warriors. AVON 39. The Walk to End Breast Cancer. Join the 2 day, 39.3 mile crusade, And power more research, screenings, access to care, survivors. Blisters are temporary. Fierce is forever. AVON 39. The Walk to End Breast Cancer. Warriors wanted in Boston, June 24th and 25th. Register today at avon39.org.\",\n",
      "  \"At Aba Daba Rents, we repair all makes and models of equipment.\\u00a0 We offer experienced and factory trained service technicians at reasonable rates, and we\\u2019re an authorized service center for Coleman, Honda Power Equipment, Stanley, and Wacker Neuson.\\u00a0 We\\u2019re also your local Honda dealer for generators and pumps.\\u00a0 Ask for details when we return to the line.\",\n",
      "  \"Please join us in welcoming Dr. Cynthia Henry to our practice!  She graduated in 1990 from MSU.  Her special interests are canine and feline dentistry, and working with ferrets.  We are thrilled to have her as an addition to our Moore Veterinary Hospital team.   We are also happy to welcome Dr. Kimberly Morden, the newest addition to our veterinary team.\",\n",
      "  \"Bonjour, thank you for calling L\\u2019Occitane en Provence. Our offices are currently closed. Our business hours are Monday through Friday 8:00 am to Midnight Eastern Standard Time, Saturday and Sunday from 10:00 am to 7:00 PM. You may email our customer service department at contact.en-us@loccitane.com our representative will answer your email within 48 hours.\",\n",
      "  \"Do you have automobile or motorcycle insurance? If so, it\\u2019s important to make sure your policy is primary for both medical and short-term disability claims resulting from a motor vehicle or motorcycle accident. The Plan will only pay these claims on a secondary basis. If you\\u2019re not sure, review your insurance policy or speak with your auto insurance agent.\",\n",
      "  \"Did you know you don\\u2019t need an OCCASION to enjoy Edible Arrangement\\u2019s treats? We\\u2019re getting creative with all this fruit, and our grab-n-go options are available EVERY day, so stop on by for a refreshing fruit salad, or try our dipped fruit cones \\u2013 our signature fruits cut into small, poppable, chocolate-dipped bites. Perfect to satisfy your sweet cravings!\",\n",
      "  \"The Avian and Exotic Animal Hospital has been serving the extraordinary animals of San Diego since 1987 making us the oldest bird and exotic hospital in the world!  We have all sorts of fun things planned this year!  Like us on Facebook, follow us on twitter and of course visit us online at w w w dot d r  exotic dot com for all our news and upcoming events!\",\n",
      "  \"Our former parts manager Charlie has retired, and we wish him the very best as he enjoys retirement.   With a touch of Charlie\\u2019s vast knowledge, the wand has been passed to our new parts professional.  Come in and meet our new parts manager, Scott Lane!   He looks forward to continuing Charlie\\u2019s legacy of quality parts and quality service for our customers.\",\n",
      "  \"Advanced Dermatology Laser and Cosmetic Surgery is proud to offer the acclaimed non-surgical lifting procedure, Ultherapy! Not a facelift, but an uplift \\u2014 Ultherapy uses ultrasound technology to gradually strengthen and tone your skin from deep within\\u2026without any downtime. The result? Tighter, firmer, better-fitting skin! Ask us if Ultherapy is right for you.\",\n",
      "  \"Every month at Artistry Salon we introduce a new assortment of monthly specials on our exciting products and exceptional services.  Visit our website at artistry s w f l dot com often, and sign up for emails from us to learn about the latest exclusive salon deals, beauty tips and trends.  Be sure to ask about this month\\u2019s specials when we return to your call.\",\n",
      "  \"We are proud to announce the opening of our second location in The Courthouse Marketplace near the intersection of Nimmo Parkway and Princess Anne. This new satellite clinic called Bay Beach Veterinary Emergency Hospital, offers 24 hour emergency services 7 days a week. We can be reached at 427-3214 or visit our website at baybeachvets.com for more information.\",\n",
      "  \"Join us on June 27th for an ice cream social at our Vernon location, to celebrate the last day of school!  Parents, summer is the perfect time to get kids started on their orthodontic treatment, so they can have time to adjust before school resumes in the fall.  Schedule an appointment when we return to the line \\u2013 and we look forward to seeing you on June 27th!\",\n",
      "  \"Every man deserves a little pampering! L'OCCITANE offers the ultimate men's care for all personal grooming needs. Our products, made with ingredients of natural origin, include fragrances, shaving, skincare and hair care, along with bath and body. Discover our Cade and Cedrat product lines, designed specifically for men today!\\u00a0 Ask an associate for more details.\",\n",
      "  \"Mark your calendars for the Sweis semi-annual store sale December 3rd and 4th. Store-wide discounts with savings of up to 20% off on most items. Shop at one of our seven store locations to take advantage of the sale. If you prefer to pre-order and have your items sent to you, contact your Sweis account manager today. Pre-orders are due no later than November 9th.\",\n",
      "  \"Making sure you\\u2019re in compliance with regulatory agencies can be a time-consuming ordeal, but Truckers Permitting Services makes it a whole lot simpler.  From IFTA and NY HUT permits to US DOT Numbers and MC Numbers, we handle it all.  Making it easy to do business is our business at Truckers Permitting Services.  Let us know what we can do for you when we return.\",\n",
      "  \"Comprehensive treatment is one of our specialties at Sukut Dental. We provide exceptional care that includes placement and restoration of implants, root canals, invisible braces, crowns and bridges. Visit us online at sukut dental dot com to learn all about the incredible services we provide and technology we utilize. We\\u2019ll be back shortly to answer your questions.\",\n",
      "  \"What's the deal with eye goopies? How do you recycle pet food bags? What are the newest products for your pets? What can you do about your pet's ear infections, dry skin, or allergies? Check out our YouTube channel, Facebook, or our app to learn the answers and more! Links to the app are on our website, Facebook, and YouTube channel, just search Healthy Pet Aurora.\",\n",
      "  \"Are you afraid of the dentist?  At Champlain Smile Solutions, we offer a variety of sedation dentistry options that will relieve your anxiety and improve your comfort during treatment.   If fear has kept you from pursuing the treatment you need and deserve, schedule your free consultation today and let us help you meet your dental goals in comfort and anxiety free.\",\n",
      "  \"If your pet is in pain, they can\\u2019t tell you!  With Digatherm, the exciting new digital thermal imaging technology, we can detect changes in temperature that help us to identify areas where there is chronic inflammation, arthritis or other pain.  With Digatherm, our doctors can bettr evaluate, diagnose and provide the best possible care and pain relief for your pet.\",\n",
      "  \"Do you envy those dazzling red carpet smiles?  Modern cosmetic dentistry has put a radiant, healthy smile in everyone\\u2019s reach.  At Sukut Dental, Dr. Karly performs comprehensive esthetics consultations for teeth that look natural but enhance your beauty.  If your smile could use some improvement, schedule a consultation for a smile makeover when we return to the line.\",\n",
      "  \"Thank you for calling Artistry Salon at Coconut Point, where we\\u00a0have a passion for creating beautiful hair\\u00a0and a one-of-a-kind experience for our guest. We are open 7 days a week to satisfy all your beauty needs. To view our hours, location and service options visit our website at\\u00a0artistry s w f l dot com.  Please press star pound to reach a representative. Thank you.\",\n",
      "  \"The end of the year is coming.\\u00a0\\u00a0 Do you have money left in your Health Savings Account (HSA) or Flexible Spending Account (FSA)?\\u00a0 If so, you may be eligible to use that for your dental treatment.\\u00a0 Don't leave money on the table... get that treatment you've been needing.\\u00a0 Lori and Angelica know these plans inside and out, and can help answer any questions you may have.\",\n",
      "  \"Did you know you don\\u2019t need an OCCASION to enjoy Edible Arrangement\\u2019s treats? We\\u2019re getting creative with all this fruit, and our grab-n-go options are available EVERY day, so stop on by for a refreshing fruit salad or smoothie, or try our dipped fruit cones \\u2013 our signature fruits cut into small, poppable, chocolate-dipped bites. Perfect to satisfy your sweet cravings!\",\n",
      "  \"BlackGold Physical Therapy Clinic treats various conditions including arthritis, neck pain and whiplash, back pain, carpal tunnel, hand therapy, muscular pain, sports and work related injuries, tendonitis, knee pain, headaches, temporomandibular joint dysfunction and post-surgical rehabilitation. Please call us today or visit our website at Blackgold p t clinic dot com.\",\n",
      "  \"Do you have any new moles or skin growths? Be sure to Schedule your annual full body scan with Dr. Kleydman and her highly skilled team when we return to the line. Dr. Kleydman is a New York based, renowned board-certified dermatologist with fellowship training in Mohs Micrographic Surgery for skin cancers. When we return to the line, be sure to schedule your evaluation!\",\n",
      "  \"In addition to the highest quality general dentistry, Kellerman Dental provides a full range of state of the art cosmetic dental services to meet all your family\\u2019s dental needs.  We offer natural-looking porcelain Lumineers, as well as KoR teeth whitening for powerful and effective professional dental whitening. Schedule your complete smile makeover today when we return.\",\n",
      "  \"At Kleydman Dermatology, we have a variety of aesthetic treatments to boost your self-confidence and. We offer treatments that include the Silhouette Instalift, Botox, microneedling, platelet-rich-plasma injections, chemical peels, fillers, Kybella, Sculptra, a variety of lasers, and much more! Be sure to schedule a cosmetic consultation on the road to a more radiant you!\",\n",
      "  \"We have evenings and weekend hours available for your convenience. Emergency care is also available 7 days per week. Our office has staff members that speak Spanish, Korean, Turkish and Farsi. Check out our website for more information on our services and to see a list of all our monthly specials! Please continue to hold. We will return to take your call in just a moment.\",\n",
      "  \"Connect with us! Shop online 24/7 on our website, sign up to receive our sweis eblasts with regular news, product promotions, sale information and education updates. Follow up on social media, facebook at sweis in c p b s or on Instagram at sweis inc Be sure to tag us to be featured hashtag sweis inc.  Thank you for your patience.  We will return to your call in a moment.\",\n",
      "  \"When installing the diode, this marking should be on the same side as the wire that leads to your bell. If you don\\u2019t know which wire that is, don\\u2019t worry about it. Just connect the diode, since connecting it the wrong way won\\u2019t do any harm. Your bell just won\\u2019t ring correctly. If this happens, just reverse the direction of the diode at the end of this process and try again.\",\n",
      "  \"Our award winning divine eyes helps to diminish the signs of aging and enhance the eye contour area. The unique anti-aging properties of organic Immortelle essential oil work in synergy with a cocktail of seven naturally derived essential oils to \\u00a0helps smooth fine lines and firm the fragile eye area. The light, creamy gel leaves your eyes feeling refreshed and revitalized.\",\n",
      "  \"Thank you for calling Fayetteville Cleaning Group, where we bring it all!  You\\u2019ve reached us after our normal business hours.  Please leave a voicemail including your name, the number where you can be reached, and a short message, and we will be happy to return your call on our next business day.  Find us on the web at fay cleaning group dot com.  Thank you again for calling.\",\n",
      "  \"At Cold Beers & Cheeseburgers, we know how to keep you satisfied throughout the work week!  On Mondays, we offer a Build Your Own Mac \\u2018n Cheese special, featuring unlimited toppings for just $12!  It gets even better!  Every Wednesday we offer a Build Your Own Burger special, where we ask you to build your own burger - just the way you like it!  Unlimited toppings for just $12.\",\n",
      "  \"Did you know that converting to LED lighting can save you over 90% on energy costs compared to traditional lighting?  LEDs can pay for themselves in a matter of months, from the savings on your electric bills.  Plus, LED lighting is virtually maintenance free for over ten years.  Ask one of our lighting specialists about the additional benefits of transitioning to LED lighting.\",\n",
      "  \"Did you know that studies show that oral health affects your overall health?  Evidence shows that patients with gum disease have a greater incidence of heart disease, diabetes and many other conditions.  Brushing twice a day, flossing and continuing with regular hygiene maintenance visits can help prevent poor oral health.  Schedule your next appointment when we return to the line.\",\n",
      "  \"Dr. Anderton and his team are dedicated to open, honest communication.  We are happy to answer any questions you may have and to discuss your treatment options with you.  For the convenience of our patients, Dr. Anderton also speaks Spanish.  We want your dental experience to be pleasant and informed, and we recognize that an educated patient is a more comfortable, relaxed patient.\",\n",
      "  \"Dr. Kirsten Huber is the director of the Wound Healing Clinic at Centra Southside Community Hospital. Dr. Huber is board certified in surgery. She provides holistic, comprehensive and compassionate wound care. Dr. Huber works in partnership with nationally certified wound and ostomy nurse consultant Jill Hennelly. For more information, or to schedule an appointment, call434.315.2998.\",\n",
      "  \"It\\u2019s a new year, which means a whole new set of dental benefits for you and your family. If you\\u2019ve been putting off dental work or are due for a cleaning, now is the time to get it done. Grand Dental offers weekend appointments, and 7 convenient locations to ensure you get the treatment you deserve. Start the year off right and schedule an appointment with our Grand Dental team today.\",\n",
      "  \"Did you know that at Concierge Veterinary Hospital of Naples we are a pet market as well as a hospital?  We feature a large variety of pet foods, both prescription and non prescription, including raw and freeze dried varieties, as well as boutique items like toys, leashes, shampoos and more.  We\\u2019re open seven days a week to serve you, too!  Ask for details when we return to your call.\",\n",
      "  \"Dr. Linda Murad-Ajluni has continued a family tradition by following her father into the dental profession. A Detroit area native, she attended Athens High School in Troy and went on to Oakland University, obtaining her bachelor\\u2019s degree. She earned her DDS degree from the University of Detroit Mercy, and has been in practice since 2006. She resides with her family in Bloomfield Hills.\",\n",
      "  \"Thank you for calling the Speech Improvement Center, the first step toward your child\\u2019s future!  We are dedicated to providing your child the best therapeutic experience..  We\\u2019re here to help change your child\\u2019s life by providing them with the skills and confidence they need for success in school and beyond.  We\\u2019re glad you called!  We look forward to helping you in just a few moments.\",\n",
      "  \"A-1 Bonded Termite is proud to be affiliated with the Better Business Bureau, Pest Control Operators of California, and the Orange County Association of Realtors.  Like us on Facebook for up to date information and news about our business.  Thank you for choosing A-1Bonded Termite for your residential and commercial termite needs.  We look forward to assisting you in just a few moments.\",\n",
      "  \"Have you heard about hyperbaric oxygen therapy for pets?  Concierge Veterinary Hospital of Naples has acquired a hyperbaric chamber to treat conditions like chemical and thermal burns, animal bites, pancreatitis, traumatic wounds, peritonitis, GI bleeding, and more.  We\\u2019re pleased to offer this state of the art treatment to our patients.  We look forward to helping you in just a moment.\",\n",
      "  \"Are mosquitoes putting a damper on your time spent outdoors this summer? Protect your family with our tick and mosquito program. Don\\u2019t let your evenings be ruined by pesky mosquitoes. Our program is designed to control biting mosquitoes and ticks so you can enjoy your backyard all summer long. Having a party, a barbecue or special event? We also do one-time treatments. Ask about it today!\",\n",
      "  \"You have reached Sky Lake Animal Hospital, the office of Dr. Matthew Cooper and Associates. \\u00a0Located in beautiful North Miami, Florida, Dr. Cooper and his qualified team take full advantage of the latest technologies,  and use these innovations to help your pet lead a happier, healthier life. \\u00a0Thank you for calling.  Please continue to hold, and someone will be with you as soon as possible.\",\n",
      "  \"Did you know that fleas aren\\u2019t just a summer time pest? In our area once the weather turns cooler and we all start spending more time indoors, the fleas can follow. Fleas can overwinter in your home and infest your pet year round. Turn to Bay Beach Veterinary Hospital for vaccines and pest prevention  that will keep your pet on the path to a healthy life and by your side for years to come..\",\n",
      "  \"Each woman is unique, and should be treated by taking her personal needs into consideration\\u2014and Centra Southside Community Hospital is a place that truly cares about every woman\\u2019s individual health. Schedule a visit with Doctors Hany Moustafa, Kathleen Cauble or Nurse Practitioner Candi O\\u2019Rourke, They are located on the Farmville CSCH campus. To make an appointment, please call 434.315.2950.\",\n",
      "  \"Did you know that you can stay connected with us 24-hours a day, 7 days a week?  That\\u2019s right!  All it takes is a few strokes of the keyboard.  Just go to smiles lacrosse dot com and you can meet Dr. Giannelli, learn about everything we can do for you, and book your appointment.  You can even connect with us on Facebook and Twitter.  It\\u2019s all at your fingertips with smiles la crosse dot com.\",\n",
      "  \"Thank you for calling Truckers Permitting Services.  At this time we are unable to answer your call.  Please call us back later, or visit us at 376 Duncan Avenue, Jersey City, New Jersey during our regular business hours, Monday through Friday from 9am to 6pm and Saturday 10am to 2pm. We are closed on Sunday.  You can find more information on the web at w w w dot Truckers permitting dot com.\",\n",
      "  \"Many of our LASIK patients use their refund for \\u201cAll-Laser\\u201d LASIK, an exciting new option in laser vision correction. \\u201cAll-Laser\\u201d LASIK enables our doctors to offer bladeless LASIK to patients who may not have previously qualified.  The Ziemer Laser enables us to create thinner flaps safely, sparing more corneal tissue than ever before.  Imagine\\u2026 a new outlook on the world\\u2026 in just 24-hours.\",\n",
      "  \"Fromm, Pure Vita, Zignature, Primal, Weruva, these are just a few of the many high  quality brands of cat and dog foods that we carry for your favorite cat and dog.  Looking for a different brand or formula or just a question about why?? Come in to speak to a pet food expert on the best option for your pet and your family.\\u00a0Proudly answering your pet nutrition and behavior questions since 1998.\",\n",
      "  \"Each woman is unique, and should be treated by taking her personal needs into consideration \\u2014 and Centra Southside Community Hospital is a place that truly cares about every woman\\u2019s individual health. Schedule a visit with Doctors Hany Moustafa, Kathleen Cauble or Nurse Practitioner Candi O\\u2019Rourke. They are located on the Farmville CSCH campus. To make an appointment, please call 434-315-2950.\",\n",
      "  \"Enjoy the look, feel and function of your natural teeth with dental implants. Dental implants offer a long-term replacement option that\\u2019s secure and natural-looking, allowing you to eat virtually anything and smile with confidence, knowing your teeth look natural, healthy and beautiful. You can learn more about dental implants and view informative literature online at Abington Dental (dot) com.\",\n",
      "  \"If unsightly hair is a constant problem, talk to Advanced Dermatology Laser & Cosmetic Surgery.  Utilizing the GentleLase Plus premier laser, and Lumenis LightSheer DUET, we are able to remove hair more quickly, effectively and comfortably with outstanding results on all skin types.  Get rid of unwanted hair easily and safely with a little help from Advanced Dermatology Laser & Cosmetic Surgery.\",\n",
      "  \"If you are inquiring about planning your wedding, please know that we are here to assist you every step of the way from helping choose a location to creating a spectacular dining experience. Every detail is attended to by Fabulous Food\\u2019s experts. Fabulous Food is the preferred wedding caterer at dozens of locations throughout the Phoenix metro area. Ask us how we can make your wedding uniquely you.\",\n",
      "  \"Did you know that Premier Pharmacy Care is an Arkansas based company?   We currently service long term care communities in Arkansas, Missouri and Oklahoma from our two locations in Sherwood and Springdale. We are a long term care pharmacy committed to our customers, employees and community.  It is our company\\u2019s mission to be a partner in caring for your residents.  Thank you for continuing to hold.\",\n",
      "  \"Got a car you love to drive that\\u2019s seen better days?  At Arizona Auto & Radiator Repair, let us refresh your tried and true transportation with a new body paint job and collision repair.  Ask for a free estimate and check our website at a z auto repair dot net to see the wide range of services available to bring safety and shine back to your vehicle.  Thank you for holding.  We\\u2019ll be right with you.\",\n",
      "  \"Are you frustrated by hair loss? Kleydman Dermatology has the answer. \\u00a0Platelet rich plasma, also known as PRP, is a wonderful way to regrow the hair. \\u00a0This effective procedure can promote hair growth in both men and women.\\u00a0Enjoy the confidence that a full head of hair can provide \\u2013 find out more on our website at Kleydman dermatology dot com, and schedule a consultation when we return to your call.\",\n",
      "  \"How can we serve you best?? Sunshine Dentists is passionate about customer service-- as much as we are about our dental care! \\u00a0 Everyone here wants your experience to be positive from the initial phone call until after your treatment or care has been completed.  Being a dental patient doesn\\u2019t have to be a frustrating experience. \\u00a0Angelica and Lori are ready with a smile and will be with you shortly.\",\n",
      "  \"creation from Bellwether Farms in California\\u2019s Sonoma County.  Blackstone must simply must be tasted to be believed!  Made up of 60% Jersey cow and about 40% sheep\\u2019s milk, you\\u2019ll find peppercorns scattered throughout the paste, and a rind that is rubbed with ground pepper, rosemary and vegetable ash, giving it a mild boost of spice.  Sold in 3 pound wedges and is available to add to your order today!\",\n",
      "  \"Can you google your pet? Here at Bay Beach Veterinary hospital, we have partnered with a microchip company called Save This Life dot com that uses Google to track your pet. All you have to do is have your pet microchipped.  If your furry loved one were to ever get lost, let Google help you get reunited with them!  Please ask about this wonderful way to find your lost pet when we come back on the line.\",\n",
      "  \"Each woman is unique, and should be treated by taking her personal needs into consideration\\u2014and Centra Southside Community Hospital is a place that truly cares about every woman\\u2019s individual health. Schedule a visit with Doctors Hany Moustafa, Jerry Lucas, Nikita Mishra or Nurse Practitioner Candi O\\u2019Rourke, They are located on the Farmville CSCH campus. To make an appointment, please call 434.315.2950.\",\n",
      "  \"If you\\u2019ve lost teeth due to gum disease, tooth decay, or other circumstances, replacing those teeth with a denture or partial can benefit both your overall health and your self-confidence.   Dr. Kay has trained with Dr. Masaad, the top denture specialist in the country.  Schedule a free consultation with Dr. Kay to find out how removable appliances can replace your missing teeth and restore your smile.\",\n",
      "  \"Bonjour, thank you for calling L\\u2019Occitane en Provence. Due-to inclement weather conditions, our offices are currently closed. Our regular business hours are Monday through Friday 8:00 am to Midnight Eastern Standard Time, Saturday and Sunday from 10:00 am to 7:00 PM. You may email our customer service department at (contact.en-us@loccitane.com) our representatives will answer your email within 48 hours.\",\n",
      "  \"Learn more about us and all the residential and commercial services we provide at air doctor services inc dot com.  You\\u2019ll hear what our customers say, find local businesses we deal with and trust, and review a portfolio of our featured projects.  Check out our financing options, too.  Thank you for choosing Air Doctor Services for your HVAC needs.  We look forward to assisting you in just a few moments.\",\n",
      "  \"To better treat our four-legged patients, our office features a state-of-the-art in house laboratory. \\u00a0Gone are the days of waiting and waiting for test results and taking your pet from office to office. The available technology in our laboratory allows us to have instant results for you and your beloved pet. \\u00a0We will be happy to discuss these and other treatment tools with you when we return to the line.\",\n",
      "  \"As Blue Cross Blue Shield of Michigan cardholder you have access to the Healthy Blues Extras savings and discounts program! The program provides you access to savings and offers for healthy products and services, such as food, fitness and recreation. You can access exclusive savings and daily coupons in your area by logging into the Healthy Blues Extras website at w w w dot healthy blues x t r a s dot com.\",\n",
      "  \"Stay up-to-date with our new products, promotions, and other L\\u2019OCCITANE news by signing up for our VIP Program!\\u00a0 In addition to a special welcome offer, you will become a member of our VIP list that receives special discounts and other offerings.\\u00a0 We also invite you to \\u201clike\\u201d us on Facebook and \\u201cfollow\\u201d us on Pinterest and Instagram for tips and interesting facts about our products and the L\\u2019OCCITANE brand.\",\n",
      "  \"Dr. Cooper and his staff are all among the best at what they do, but that\\u2019s only part of the story. \\u00a0As animal owners and lovers ourselves, we promise to always care for your pets as if they were our very own. \\u00a0We especially understand how trying it is for pets and owners alike when hospitalization is necessary.  Please let us know if there is anything we can do to help make your time with us more pleasant.\",\n",
      "  \"The holidays are just around the corner! Stop by any of our valley wide locations, or visit cold beers dot com to pick up a gift card for that special Cold Beers & Cheeseburgers fan!\\u00a0 That's not all - when you pick up a gift card at your local Cold Beers & Cheeseburgers, you receive a gift for yourself!\\u00a0 Buy $100 receive $25!\\u00a0 Buy $50 receive $10!\\u00a0 Buy $20 receive $5! \\u00a0\\u00a0Tis' the season for giving and receiving!\",\n",
      "  \"You have reached Neighborhood Smiles La Crosse, the office of Dr. Carolyn Giannelli.   Located in La Crosse, Doctor Giannelli and her friendly, qualified staff provide a full range of services including general dentistry, Invisalign, cosmetic and restorative procedures and so much more.  We thank you for your call today.  You are very important to us. Please continue to hold, and we will be with you momentarily.\",\n",
      "  \"Ring Protect has three security modes. Away monitors all your sensors. You should use this when you will be away from your home, like going to work or on vacation. Stay only monitors your perimeter sensors. You should use this when you\\u2019re in your home and not going out, like relaxing after work or going to sleep. Home doesn\\u2019t monitor any sensors. You should use this if you\\u2019re going in and out of your home often.\",\n",
      "  \"Got a fleet of vehicles?  Coleman Taylor Transmissions provides competitive prices and priority service for your fleet.   Our National Fleet Program helps you keep costs down, gets your vehicles serviced more efficiently, and keeps you on the road longer, backed with our hassle free one to five year, 100,000 mile nationwide warranty.  Learn more on our website at coleman taylor dot com.  We\\u2019ll be right with you.\",\n",
      "  \"Care to Share?  Refer a friend or family member who becomes our client, and both of you will receive a $25 credit towards any visit, along with a big dose of love from the pet crazy team at Dogwood Animal Hospital!   Learn more on our website at dogwood animal hospital dot com, and pick up a supply of Care To Share cards for your favorite pet parents on your next visit.  Have fun and start sharing the love today!\",\n",
      "  \"Remember the awful-feeling goo used to make dental impressions?  You won\\u2019t have to suffer through that when you visit Nankin Dental Associates.  With advanced technology, we use a digital scanner to take 3-D digital impressions, providing an effective, safe and comfortable alternative.  Everything we do is focused on making your visit as comfortable, effective and pleasant as possible at Nankin Dental Associates.\",\n",
      "  \"Would you like to improve your oral health as well as your looks?   Ask us about Invisalign, the discreet custom clear plastic aligners that straighten your teeth without the metal wires and brackets.  Straighter teeth are easier to maintain, and with Invisalign, patients of all ages can enjoy a straight and beautiful smile that\\u2019s healthier, too!  Ask if you\\u2019re a candidate for Invisalign when we return to your call.\",\n",
      "  \"Through our commitment to continuing education, you can trust that the services we provide are among the newest and most advanced treatments available. We provide the most effective, individualized and supervised exercise programs, restructuring of the muscle, manual and hands-on therapy, pain reduction techniques, work hardening, reconditioning programs and sports therapy for injuries sustained by weekend warriors.\",\n",
      "  \"Celebrate the legacy of Martin Luther King Jr. on Monday, January 21 at the MFA Open House. FREE admission for all from 10 am to 5 pm. Enjoy an array of activities for the whole family, including art making, performances, and tours. And, be sure to see our special exhibition \\u201cAnsel Adams in Our Time\\u201d featuring iconic American landscape photography through a contemporary lens. Learn more at m-f-a-dot-org-slash-M-L-K.\",\n",
      "  \"They laid the groundwork for rock guitar as we know it! The Yardbirds play at The Cabot in downtown Beverly Thursday October 13 at 8 PM! (music clip) These British club scene legends and Rock \\u2019n Roll Hall of famers bring their distinctive and electrifying sound to The Cabot, where you experience awesome sight and sound from every seat in the house. \\u201cRave Up\\u201d with The Yardbirds October 13. Tickets at The Cabot dot org.\",\n",
      "  \"We\\u2019re located at 201 Great Oaks Trail in Wadsworth, in the shopping plaza next to Buehler\\u2019s. We offer convenient appointment times on Monday, Wednesday and Friday mornings from 8am to noon, Thursday mornings from 9am-noon and Monday through Thursdays evenings from 3pm to 6pm. For a free consultation, please let us know when we return to the line.  We\\u2019re glad you called!  We look forward to helping you in just a moment.\",\n",
      "  \"Just like people, pets need good quality dental care.  More than 70% of dogs and cats show signs of oral disease by age three, and left untreated, gum and dental problems can lead to pain and even serious infections and other health concerns for your pet.  Visit our website at Arlington animal clinic dot net to learn about dental care and symptoms, and schedule a dental exam for your pet when we come back to your call.\",\n",
      "  \"Commonwealth Eye Surgery is the first and finest co-management facility in Kentucky.  Our team approach, using your local optometrist for primary eye care and Commonwealth Eye Surgery for advanced testing and surgery, provides you the most convenient, cost-effective, and specialized treatment in any eye care delivery system.  Teamwork!  Ophthalmologists and Optometrists, working together for you.  That\\u2019s co-management!\",\n",
      "  \"Centra Southside Community Hospital recommends the following for early breast cancer detection:\\u2022 Annual screening mammograms beginning at age 40\\u2022 Annual clinical breast exams by a health care provider\\u2022 Monthly breast self-examination, beginning at age 20\\u2022 Report any breast changes to a health professional immediately. To schedule a digital mammogram at Centra Southside Community Hospital in Farmville, call 434.315.2770.\",\n",
      "  \"At Gastroenterology Associates, it\\u2019s our privilege to care for you.  We want your experience here to be positive and caring, and we do everything possible to provide convenient, high quality care.  We encourage you to access our patient portal, which will enable you to schedule appointments, access your medical records, renew medication and more.  Ask us how to sign up for our patient portal when we return to your call.\",\n",
      "  \"Heartworm-spreading mosquitoes are a year-round problem in Texas.  Did you know that treating a dog for a heartworm infection can cost up to $720?  For that same amount, you can give monthly heartworm prevention for 8 full years.  Don\\u2019t risk your pet\\u2019s health and gamble with your money.  Have your pet tested for heartworm annually, and make sure to keep them on prevention all year long!  We\\u2019ll be right back to help you.\",\n",
      "  \"EVERYONE KNOWS OF PRESIDENT JOHN F KENNEDY\\u2019S GREAT SPEECHES, BUT HOW MUCH DO YOU KNOW ABOUT HIS LIFE AND CAREER? SEE THE JFK ONE HUNDRED EXHIBIT AT THE JFK PRESIDENTIAL LIBRARY AND EXPLORE THE CAREER OF OUR THIRTY FIFTH PRESIDENT. VISIT THE JFK LIBRARY TODAY-THE NUMBER TWO RANKED MUSEUM IN BOSTON \\u2013 AND EXPERIENCE THE LIFE OF JFK. TAKE THE RED LINE TO THE JFK \\u2013 UMASS STATION OR MAKE THE DRIVE TO BEAUTIFUL COLUMBIA POINT!\",\n",
      "  \"BlackGold Physical Therapy Clinic makes it easier than ever to obtain the help you so desperately need.  We do not need a referral from a doctor to assess and treat your conditions. We guarantee your first appointment within 24 hours, and we can also accommodate walk in clients on the same day.  For your convenience, we offer convenient hours from Monday through Saturday.  Just ask our receptionist for more information.\",\n",
      "  \"At Sky Lake Animal Hospital, we are pleased to announce the release of our very own smartphone application called PetDesk. \\u00a0You can download it for free and do everything from the convenience of your smartphone.  Schedule appointments, get medical/vaccine history, update information or order medications. \\u00a0You can even set up notifications on your phone or get text reminders.   Ask for details when we return to your call.\",\n",
      "  \"You have reached the Avian and Exotic Animal Hospital, located in San Diego, California.  We are proud to be San Diego\\u2019s only exclusive exotic animal hospital as well as one of a very few in the world.  Whether you have a rabbit, bird, or even a primate, when you bring them to us, we treat them as if they are our own.  Your call is very important.  Please stay on the line, and someone will be with you as soon as possible.\",\n",
      "  \"Time is ticking for you to use your dental benefits. Many insurance plans reset on January first, leaving your 2018 benefits to expire. Don\\u2019t let your insurance plans be wasted! Grand Dental has 7 locations that make it easy to be seen before the year\\u2019s end. Make sure to schedule an appointment for any pending treatment.  Have questions about your insurance coverage? Don\\u2019t worry, our insurance specialists are here to help.\",\n",
      "  \"Thank you for calling Artistry Salon at Coconut Point, where we\\u00a0have a passion for creating beautiful hair\\u00a0and a one-of-a-kind experience for our guest. We are open 7 days a week to satisfy all your beauty needs. To view our hours, location and service options, or to book an appointment, visit our website at\\u00a0artistry s w f l dot com.  Please leave a message, and we will return your call on our next business day.  Thank you.\",\n",
      "  \"Contrary to what many people believe, a root canal doesn\\u2019t cause pain \\u2013 it relieves it!  A modern root canal is a common, generally pain free and highly successful procedure that allows us to save your natural tooth and prevent the spread of potentially dangerous infection throughout your body.  If you\\u2019ve been told you need a root canal \\u2013 relax!  You\\u2019re in good hands at Atlantic Dental.  We\\u2019ll be on the line to help shortly.\",\n",
      "  \"The Speech Improvement Center offers a full array of services for child speech therapy, including appraisal, diagnosis, evaluation, assessment and much more.  We ensure that our services incorporate our families every step of the way in their child\\u2019s development progress.  Learn more about us and the services we provide at speech improvement center dot com.  We\\u2019ll be happy to answer your questions when we return to the line.\",\n",
      "  \"At the Speech Improvement Center, we want to provide the best possible experience for you and your child.  If you have an experience to discuss with us or you have a recommendation on how we can improve our service in any way, we urge you to let us know.  Please feel free to call our corporate number at 818-206-3353 and we will work to resolve any issues you may have.  Thanks for your feedback \\u2013 it helps us continue to improve.\",\n",
      "  \"These wire nuts are for connecting the wires from Floodlight Cam to the existing wires in your junction box. Using wire nuts to connect wires is simple. Just line up the ends of the wires you want to connect together, place them inside the wire nut, and twist clockwise until the wires are tightly secured. If you need to disconnect wires in a wire nut, simply twist counter-clockwise, pull off the wire nut, and untwist the wires.\",\n",
      "  \"Smiling has a direct positive affect on your own mood as well as your connection with others.  If you\\u2019re not happy with your smile, you smile less often \\u2013 which impacts your self-confidence and quality of life.   Teeth that look good also function properly and are easier to maintain, so a more attractive smile is a healthier smile, too.  Why live with a less than perfect smile?  Schedule a consultation for a smile design today.\",\n",
      "  \"Thank you for calling Hall Air Conditioning, where we bring our years of experience to cater to all of your air conditioning and heating needs!   Find us on the web at hall air conditioning dot com.  You have reached us outside of our normal business hours.  If you are unsure who can help you, or to reach our general voicemail, press 1.  For emergency service, please press 3.  To listen to these options again, please press star.\",\n",
      "  \"At Coleman Taylor Transmissions, we want to make our quality service as convenient and affordable as possible.  Our team keeps an eye on your budget as well as your vehicle.   We accept all major credit cards, and other financing options are available.  Ask for details when we return to your call.  Thank you for choosing Coleman Taylor Transmissions!  We\\u2019ll get you back on the road fast!   We\\u2019ll be with you in just a few moments.\",\n",
      "  \"Say Goodbye to the effects of the sun damage, Rosacea, blood vessels, hyper pigmentation, brown spots and more. With the innovative Intense Pulsed Light (IPL) procedure, gentle skin rejuvenation is now easier than ever. IPL is the latest in modern dermatology, allowing patients to transform red, blotchy skin into a radiant complexion. If you suffer from any of these problems, IPL treatment may be the solution you are looking for.\",\n",
      "  \"Thank you for calling the Highgate Hotels, (pause) Hiltons of New York City (pause) Central Sales & Marketing Office.   When visiting New York City, consider our Hilton branded hotels.  Our Central Sales Office provides one source to book your next group, (pause) event, (pause) or corporate negotiated rate. Visit us online at Hilton.com/nyc/hi for more information.  Please stay on the line for the next available sales coordinator.\",\n",
      "  \"Service emergencies happen 24/7, and at Air Doctor Services, we\\u2019re here to provide emergency service 24 hours a day, 365 days a year, with automated immediate dispatching to our on call technicians.  Our average return call wait time is 10 minutes.  Count on us to be there fast to provide the quality repair you need when you need it, to get your system up and running again.  Thank you for holding.  We\\u2019ll be with you in just a moment.\",\n",
      "  \"Thank you for calling Advanced Health and Wellness Center, where we have blended the best medical, wellness and fitness related services available to offer a variety of solutions to enhance your health. Our team includes Medical Doctors, highly trained Physician\\u2019s Assistants, Chiropractors, Massage Therapists, Rehab Specialists, Nutritionists and Personal Trainers allowing us to offer you a full range of services \\u2014 all under one roof.\",\n",
      "  \"For more than 10 years, Centra Southside Community Hospital has been helping patients achieve the restful sleep they need. We offer the only sleep lab in the area. Studies show that a good nights sleep is vital to good health. If you suffer from a sleep disorder, physicians and clinicians can get you the relief you deserve. Call 434-315- 2407 today to find out how you can get a good nights sleep every night.  Excellent care, for life.\",\n",
      "  \"At Marion General Hospital, we know\\u2026 no one has time to get sick, and accidents can happen at the worst possible time. Marion General Hospital is excited to now offer MGH Express Urgent Care, located north on the bypass in Marion. You deserve timely and quality medical care that is also convenient with your busy schedule.  MGH Express Urgent Care is open 8am to 8pm, 7 days a week.  Your time is valuable. Your wellbeing is our priority.\",\n",
      "  \"For the holidays, a birthday, or just because - celebrate any occasion with a gift from L\\u2019Occitane!  Our extensive line of body, hair and skin care products, as well as fragrances, make exquisite gifts for him or her.  Make a selection based on our variety of natural ingredients or choose one of our best-selling products.  Use our gift wrapping service for a quick and luxurious experience.  Give the gift of beauty and relaxation today!\",\n",
      "  \"We\\u2019re making enrollment easy again this year. With auto re-enrollment, if you\\u2019re currently enrolled, and you and your enrolled spouse completed a biometric screening, you will be auto re-enrolled for 2019 benefits. If not, just log in at w w w dot m u f c benefits dot com to complete a 2019 enrollment form or change your election.\\u00a0 Your 2019 open enrollment packet that you received in the mail contains details about your 2019 enrollment.\",\n",
      "  \"We\\u2019re making enrollment easy again this year. With auto re-enrollment, if you\\u2019re currently enrolled, and you and your enrolled spouse completed a biometric screening, you will be auto re-enrolled for 2019 benefits. If not, just log in at w w w dot m u f c benefits dot com to complete a 2019 enrollment form or change your election.  Your 2019 open enrollment packet that you received in the mail contains details about your 2019 enrollment.\",\n",
      "  \"Who wants another app? Your dog and cat do! Healthy Pet Aurora App lets you view in-store specials, in-store special events, track your free food, earn rewards, book your grooming appointments, order online for free local delivery, and more. If you've got questions we've got answers. We strive to collaborate with our pet community so submit questions through the app, and we will answer you directly or make a video to share with everyone.\",\n",
      "  \"With winter\\u2019s end and spring fast upon us, it\\u2019s not too soon to think about getting a spring check-up on your air conditioning.  Seasonal inspections save you time and money, and will ensure you priority service during peak demand periods year round.  We are now scheduling appointments for an early look at your home\\u2019s HVAC system before the hot weather arrives.  Ask us about our preventive maintenance programs when we return to your call.\",\n",
      "  \"When it comes to dotting i\\u2019s and crossing \\u2018t\\u2019s, truckers turn to the professionals at Truckers Permitting Services.  We take pride in serving the trucking community as your one stop for trucking credentials.  When you\\u2019re looking for accuracy, efficiency and simplicity in obtaining what you need to get the job done, Truckers Permitting services is the only name you need to know.  Let us know how we can help you when we return to your call.\",\n",
      "  \"Does your pet need a refill on a prescription?   In our efforts to improve efficiency and wait times to you our valued clients, we are implementing a new prescription refill policy. Just call in advance with your refill requests and our friendly staff will give you  the times your requested medications will be available for pick up. Also, for your added convenience we have opened our drive thru window for all your prescription pick up needs.\",\n",
      "  \"Dr. Sunil Rajan has opened the new Centra Medical Group Southside Pulmonology Center, located on the hospital campus. Pulmonary\\u00a0medicine focuses on the prevention, diagnosis, and treatment of conditions that affect the lungs and respiratory tract. Dr. Rajan is American Board of Internal Medicine Certified in three areas -  Internal Medicine, Pulmonary Disease and Critical Care.  To make an appointment with Dr. Rajan, please call 434-315-2880.\",\n",
      "  \"Are you looking to acquire new skills and stimulate business growth?  Boost your knowledge, skill level and spark creativity or your career at the Sweis Academy. We offer education classes throughout California and Nevada on the latest products, new techniques and business strategies with top manufacturers including Keratin Complex, Moroccanoil, Babe Extensions, Oligo, ColorProof and more. Visit Sweis ink dot com for upcoming education classes.\",\n",
      "  \"Want a real dinner without the dirty dishes?  Looking forward to a quiet night in front of the TV with some tasty pizza or pasta?  At Ozark Mountain Pizza, we\\u2019ll make it happen.  We deliver hot and fresh food right to your door.  Be sure to check our specials online at Ozark m t pizza dot com, or ask us for details when we return to your call.  Thanks for choosing Ozark Mountain Pizza!  We look forward to taking your order in just a few moments.\",\n",
      "  \"It\\u2019s getting hot outside \\u2013 make sure your refrigerator can handle the heat and all those extra trips for cool drinks and summer treats.   You and your family rely on your refrigerator for convenience and safety.  Catching issues before they become larger problems is also the key to saving you money in the long run.  That\\u2019s peace of mind.  Schedule your service online at Thomas service co dot com and ask us for details when we return to the line.\",\n",
      "  \"We love your animals as much as you do, so we want to keep them as healthy as possible.  In addition to ordinary physicals and disease treatment, we are also well-renowned for our work in surgery.  Whether it\\u2019s an old fetching injury, reproductive, or even a small elective procedure, we do it all with or without those tiny insurance forms.  If your special friend needs a little routine maintenance, let\\u2019s schedule it while we have you on the phone.\",\n",
      "  \"Do you need ready mix concrete?\\u00a0 At Aba Daba Rents, we can help!\\u00a0 Our Citrus Heights location has all the concrete ready mix, supplies and equipment you need for any size concrete pour.\\u00a0 Visit our website at A B A D A B A dot com to view our price lists and types of mix and equipment available.\\u00a0 use our helpful chart to calculate how far one cubic yard of concrete will go.\\u00a0 Ask about our concrete mobile delivery service when we return to your call.\",\n",
      "  \"Straightening your teeth doesn\\u2019t have to be something you advertise. Clear aligners are an innovative alternative to traditional braces. Virtually invisible, these clear aligners do all the work of bulkier braces without all the discomfort or aggravation. And unless you say anything, most people will never know you\\u2019re wearing them. Get all the benefits of braces and none of the hassles with clear aligners, available at Artistic Smiles Orthodontics.\",\n",
      "  \"Next to witnessing your beautiful new smile, the greatest compliment we receive is when a new patient tells us you referred them.  We appreciate your referrals as well as the confidence you show by sending others to see us.  Our practice continues to grow as more and more people discover the smiles they\\u2019ve always wanted simply because you\\u2019re sharing your experience with others.  Thank you for choosing Nankin Dental Associates\\u2026and thank you for sharing!\",\n",
      "  \"AT THE FLOATING HOSPITAL FOR CHILDREN, OUR PATIENTS ARE OUR DAILY INSPIRATION AND REMIND US EVERY DAY THAT \\u201cYOU DON\\u2019T HAVE TO BE BIG TO BE STRONG.\\u201d FLOATING HOSPITAL IS A FULL-SERVICE CHILDREN\\u2019S HOSPITAL LOCATED IN THE HEART OF DOWNTOWN BOSTON AND WE\\u2019RE A PROUD SPONSOR OF THE MAGIC 106-7 FAMILY FILM FESTIVAL. THIS SATURDAY, STOP BY OUR TENT AT THE PRUDENTIAL CENTER STARTING AT 4PM FOR ACTIVITIES AND INFORMATION OR VISIT US AT FLOATING HOSPITAL DOT ORG.\",\n",
      "  \"Joint inflammation or arthritic changes can affect your equine companion\\u2019s personality and willingness to perform: The doctors here at Bay City Veterinary Clinic have been performing joint injections for 25 years. This procedure can provide your horse joint pain relief and increase performance levels. If you have any questions about joint injections or any other equine procedures please feel free to speak with our qualified technicians or veterinarians.\",\n",
      "  \"There are a lot of choices when it comes to insurance coverage for your trucking business.  Making the right one can mean the difference between peace of mind and financial catastrophe.  Don\\u2019t take chances with your business.  Talk to the agency that truckers choose.  Truckers Choice insurance can help you choose the coverage that meets your needs, providing quality protection that keeps you rolling.  Ask about Trucker\\u2019s Choice Insurance when we return.\",\n",
      "  \"The technology of braces has come a long way, and now Abington Dental Associates is offering faster and more attractive options to our patients.  We offer Invisalign \\u2013 a system of virtually invisible custom-molded aligners to help straighten your teeth.\\u00a0 By using a series of clear, removable aligners, you\\u2019ll be impressed with the results \\u2013 that you\\u2019ll see sooner than you think.   Learn more about all of our cosmetic options at Abington Dental (dot) com.\",\n",
      "  \"In Georgia, fleas, ticks and heartworms are a year round concern.  Fleas and ticks are more than just an itchy annoyance \\u2013 they carry disease and can infest your home as well as your furry friend.  Lyme disease and heartworm disease can cripple or even kill your beloved pet.  It\\u2019s important to have your pet screened for these diseases, and to keep them on appropriate preventive medication year round.  Ask for recommendations when we return to your call.\",\n",
      "  \"Premier Pharmacy Care is open 24 hours a day, 7 days a week.  Long Term Care facilities never close and neither do we.  Our pharmacy is staffed around the clock, in order to meet your medication needs day and night.  We have two scheduled deliveries Monday through Friday and one on Saturday.  These are regularly scheduled deliveries, but we will STAT deliver medications to any facility, any day of the week, at any time.  Thank you for continuing to hold.\",\n",
      "  \"Have you seen those bright, white smiles on makeover shows?  They\\u2019re the result of Zoom Whitening, a simple and safe way to whiten your teeth at Nankin Dental Associates.  Zoom Whitening is the in-office treatment for getting the white smile you want.  Quick, effective and affordable, Zoom Whitening gives your teeth the healthy white appearance that boosts your confidence.  Enjoy a whiter, brighter smile with Zoom Whitening from Nankin Dental Associates.\",\n",
      "  \"Welcome! We are excited that you have chosen Tiga Pediatrics, your personal family doctor. We promise our patients top quality care with personal attention from Dr. Tosan, and our friendly staff. We accept all major insurances and encourage you to visit our website at\\u00a0 HYPERLINK \\\"http://www.tigapediatrics.com/\\\" \\\\h www.TigaPediatrics.com; you can also find us on Facebook and Instagram @TigaPediatrics. We will be on the line to help you in a just a moment.\",\n",
      "  \"Centra Southside Medical Center at 935 Main Street in Farmville offers a wide range of services to you and your family, including primary and urgent care for pediatrics and adults, endocrinology, orthopedics and rehabilitation, psychiatry, nephrology, digital xrays, and features an in-house laboratory.  The center is open Monday through Friday from 8am to 8pm and on Saturday from 8am to noon.  Walk-ins are welcome.  Call 434-315-5340 for more information.\",\n",
      "  \"DISCOVER THE ACADEMY AT PENGUIN HALL THE ONLY INDEPENDENT ALL GIRLS COLLEGE PREPARATORY HIGH SCHOOL NORTH OF BOSTON. AT THE ACADEMY AT PENGUIN HALL, YOU ARE ACCEPTED AND RESPECTED IN A COMMUNITY WHICH PREPARES YOU FOR COLLEGE AND EMPOWERS YOU FOR LIFE. IT\\u2019S NOT TOO LATE TO CONSIDER A CHANGE. ACCEPTING APPLICATION FOR FALL. SCHEDULE A TOUR OF OUR BEAUTIFUL CAMPUS TODAY AT PENGUIN HALL DOT ORG. PREPARED FOR COLLEGE. EMPOWERED FOR LIFE. PENGUIN HALL DOT ORG.\",\n",
      "  \"Preferred Choice Cleaning Services is Long Islands most highly reviewed award winning exterior cleaning company. We have received Angie's List coveted Super Service Award for 8 years in a row. We are your top choice for window cleaning, pressure washing, roof cleaning, gutter cleaning, carpet and upholstery cleaning, tile and grout cleaning and air duct and dryer vent cleaning. One call does it all with Preferred Choice cleaning Services. Find out more at\",\n",
      "  \"For years, silver mercury was the primary material used by dentists to fill cavities. Today, tooth colored restorations are the state of the art alternative for rebuilding teeth.  They can save teeth and maintain their strength.  Dr. Anderton creates natural looking, high quality ceramic and composite restorations, including Cerec same day crowns, that may prevent the need for more extensive treatment later.  Thank you for holding.  We\\u2019ll be right with you.\",\n",
      "  \"If the authorities are dispatched but find nothing wrong, you may be charged a false alarm fee. There are a few things you can do to eliminate false alarms. First, make sure your emergency contacts\\u2019 information is up-to-date and that they know your verbal password. The verbal password lets the alarm company know that the person they\\u2019re talking to is authorized to make decisions about your safety. You can change it in the Monitoring Settings of your Ring app.\",\n",
      "  \"It\\u2019s surprising how many times each day you can Fuel Up & Go at CVS Pharmacy. Like when the clock strikes POST-WORKOUT SNACK ATTACK O\\u2019CLOCK\\u2026 just grab a Clif Bar and a Naked Green-Machine Juice Smoothie to help you refuel. This week at CVS Pharmacy, you\\u2019ll get two 1-liter Glaceau SmartWaters for four dollars. Restrictions apply. See circular or cvs.com/myweeklyad for details. For the brands that satisfy your hunger and thirst, shop CVS Pharmacy. Fuel up & go.\",\n",
      "  \"Thank you for calling AAH Fluid Power Incorporated, a world class provider in remanufactured and new replacement hydraulic components and parts. AAH Fluid Power is a 15 year old company with advanced technology in the industrial and mobile fields. Vickers, Denison, Racine, Rexroth, Bosch, and Oilgear are just a few name brands we service \\u2013 but we can service any brand out there! Thank you for holding.  We\\u2019ll be on the line to assist you in just a few moments.\",\n",
      "  \"Are you a new patient?  Welcome!  Be sure to take advantage of our $1 new client exam.  That\\u2019s right, we\\u2019ll give your four legged friend a complete nose to tail exam for $1 and provide an estimate for any other services we recommend.  This could be the best dollar you ever spend to start your pet on the road to a long, healthy and happy life.  Learn more on our website at dogwood animal hospital dot com, and schedule an appointment when we return to the line.\",\n",
      "  \"After receiving his degree from Ross University, Dr. Cooper underwent a one-year small animal internship in both surgery and internal medicine. \\u00a0After that, he began his veterinary career with a three-and-a-half year stint working at the top specialty referral hospital in Manhattan.  During his time occupying this position, he taught young interns in various courses. \\u00a0Outside of the office, Dr. Cooper is also a great supporter of several animal rescue endeavors.\",\n",
      "  \"Want to straighten your teeth without braces and have been told you can\\u2019t use Invisalign? Dr. Bella Shen Garnett is one of the top Invisalign providers in the country. In 2016, She was voted to be the #1 Invisalign orthodontist in North America voted by orthodontists nationwide. She can correct almost every bite, close open bites without surgery and treat cases without extractions! Schedule a complimentary consultation today and get that smile you always wanted.\",\n",
      "  \"Braces \\u2013 they\\u2019re not just for kids anymore!  Don\\u2019t settle for crooked teeth \\u2013 at Atlantic Dental, we provide many orthodontic treatments and options to meet the unique needs of patients of all ages.  Straight teeth are easier to care for, so they are healthier too.  Visit our website at dentist toms river n j dot com to learn about orthodontic braces and Invisalign, and schedule a consultation to find out which option is best for you when we return to your call.\",\n",
      "  \"Are you or a loved one missing out on a good night\\u2019s sleep due to snoring and teeth grinding?  The culprit could be sleep apnea caused by your oral health.   Symptoms like gasping for air, teeth grinding, red scalloped tongue and throat, morning headaches, snoring, insomnia and acid reflex or heartburn. may also occur.  Acid reflux can also put your mouth at risk for tooth erosion and periodontal complications.  Ask us for an evaluation when we return to the line.\",\n",
      "  \"Thank you for calling Fayetteville Cleaning Group, where we bring it all!  If you\\u2019ve reached this greeting during normal business hours, we are helping another client, or have briefly stepped away from the phone.  Please leave a voicemail including your name, the number where you can be reached, and a short message, and we will be happy to return your call as soon as we are available.  Find us on the web at fay cleaning group dot com.  Thank you again for calling.\",\n",
      "  \"THIS HOLIDAY SEASON, GIVE THE GIFT OF HEALTH. SHRINERS HOSPITALS FOR CHILDREN \\u2014 BOSTON PROVIDES WORLD CLASS SPECIALTY CARE TO KIDS REGARDLESS OF THEIR FAMILIES\\u2019 ABILITY TO PAY. TO CARRY OUT THAT PHILANTHROPIC MISSION, SHRINERS HOSPITAL RELIES ON YOUR GENEROUS SUPPORT. YOUR GIFT WILL GIVE CHILDREN BACK THEIR CHILDHOODS AND OPEN UP A LIFETIME OF POSSIBILITIES. PLEASE DONATE TODAY. CALL 617-371-4807 OR LEARN MORE AT SHRINERS HOSPITALS FOR CHILDREN DOT ORG SLASH BOSTON.\",\n",
      "  \"Your pet's well being is our top priority. Whether you use our grooming services or our self-wash room, we want to maintain your inner and outer care when you leave Healthy Pet, which is why we provide all the food, treats, and supplies you need at home. Featuring free food programs, price guarantee, free local delivery, and the best reviewed food and supplies, you can find what you want at Healthy Pet because at Healthy Pet, we love your dog as much as he loves you.\",\n",
      "  \"At AAH Fluid Power, our customer service team is an industry leader.\\u00a0 We go above and beyond the competition and provide world class service to our customers.  Our seasoned sales reps and our engineering and unit literature all help us resolve any issues our customers have with hard to find and obsolete units and parts. Our customers are our number 1 priority - and we never stop working till the job is complete.  Thank you again for calling.  We\\u2019ll be with you shortly.\",\n",
      "  \"Contrary to what some people believe, a root canal doesn\\u2019t cause pain \\u2013 it relieves it!  A modern root canal is a very common, highly successful and virtually painless procedure that allows us to save your natural tooth, while preventing the spread of infection through your body.  If you\\u2019ve been told you need a root canal, relax!  There\\u2019s no need to schedule an appointment at another practice \\u2013 you\\u2019re in our gentle, expert hands at Rose Dental.  We\\u2019ll be right with you.\",\n",
      "  \"Thank you for calling Concierge Veterinary Hospital\\u2026 your partner for life.  Our office is currently closed.  If you want to leave a message to schedule an appointment or to request a medication refill, please press 2.  If you are calling for a pet emergency, please call 239-263-8010 to reach the local emergency pet hospital of Collier County,\\u00a0or call 239-263-0480 for the local 24 hour referral and emergency animal specialty hospital of Florida for immediate assistance.\",\n",
      "  \"Residents of Sutton, Millbury, Oxford and Webster \\u2013 are you looking for a local weekly rubbish removal service with competitive prices and a dedicated, prompt, professional and courteous staff?  A free quote is always just a phone call away.  Learn more about us, see our current specials, order your dumpster rental, pay your bill, and view a full list of the towns we serve at als rubbish dot com.  Be sure to find us on Facebook and Twitter, too.  We\\u2019ll be right with you.\",\n",
      "  \"Thank you for calling Nankin Dental Associates, a family practice providing beautiful smiles to you and your family.  Doctor Gary Nankin, Doctor Jonathan Ye and Doctor Barbara Nankin are passionate about meeting the highest standards of quality and integrity to achieve the very best results for each and every patient.  Our office hours are 7am to 5pm Monday through Thursday and 7am to 1pm on Friday.  We look forward to assisting you when we return to your important call.\",\n",
      "  \"Do you have cellulite or loose skin?  At Advanced Health and Wellness Center, we offer the non-invasive Lipo-Light.  Simple to use, completely safe and hygienic, Lipo-Light energizes the fat cells, causing pores to open quickly to drain the contents.  Our patients achieve natural slimming, shaping and toning of problem areas like the waist, hips, thighs and upper legs and arms in just one 20 minute treatment.  Ask for details about Lipo-Light when we return to your call.\",\n",
      "  \"Do you have discolored teeth?  If you find yourself lacking self-confidence or hiding your mouth when you smile, ask us about the many effective solutions available at Atlantic Dental to whiten those unattractive or yellowed teeth.  A professional tooth whitening treatment, done in a single visit, is more effective than over the counter products, and the results can last as long as five years.  Why hide your smile?  Ask us about tooth whitening when we return to the line.\",\n",
      "  \"SHRINERS HOSPITALS FOR CHILDREN \\u2014 BOSTON OFFERS HOPE TO KIDS FROM AROUND THE WORLD, REGARDLESS OF THE FAMILIES\\u2019 ABILITY TO PAY. THE REGION\\u2019S LEADER IN PEDIATRIC BURN CARE, ALSO OFFERS WORLD-CLASS ORTHOPAEDIC CARE, CLEFT LIP AND PALATE TREATMENT, SPECIALIZED SKIN AND WOUND CARE, AND RECONSTRUCTIVE AND LASER PLASTIC SURGERY. THINK OF SHRINERS FOR YOUR CHILD\\u2019S PEDIATRIC SPECIALTY NEEDS IN THE NEW YEAR. TO LEARN MORE, VISIT SHRINERS HOSPITAL S FOR CHILDREN DOT ORG SLASH BOSTON.\",\n",
      "  \"Ring Protect puts a ring of security in and around your home using five different kinds of devices. The base station provides security for your entire home. The contact sensor monitors a door or window in your home. The motion detector watches a room inside your house for motion. The keypad is the physical control panel for Ring Protect. The range extender expands your network so a distant device can talk to the base station. Together, all these devices make up Ring Protect.\",\n",
      "  \"During the upcoming holiday season we would like to continue to support our local community. For both November and December, New Fairfield Animal Hospital will be collecting canned food to be donated to our local food pantry. Donations can be dropped off at the hospital anytime during our regular business hours. For your contribution, you will be entered to win a gift basket filled with fun goodies! Please help us make this holiday season a little brighter for those in need!\",\n",
      "  \"THIS JULY, COUNTRY MUSIC IS TAKING OVER THE COAST FOR AN ENTIRE WEEK\\u2026 AND IT\\u2019S ALL FREE! ROUND UP YOUR FRIENDS FOR THE FIRST ANNUAL HAMPTON BEACH COUNTRY MUSIC WEEK! STARTING SUNDAY JULY 8TH THROUGH THURSDAY JULY 12TH, COUNTRY ARTISTS LIKE WILLIAM MICHAEL MORGAN, JILLIAN CARDARELLI, AYLA BROWN AND MORE WILL TAKE OVER THE SEA SHELL STAGE- PLUS THERE WILL BE COUNTRY LINE DANCE LESSONS DAILY! JOIN THE COUNTRY ON THE COAST CRAZE AND SEE THE SCHEDULE NOW AT HAMPTON BEACH DOT ORG!\",\n",
      "  \"The key to long life for your vehicle\\u2019s transmission is preventive maintenance.  At all twelve Coleman Taylor locations, we offer three different levels of preventive maintenance services \\u2013 the basic, the premium, and the premium plus packages.  Not sure which service best meets the needs of your vehicle?  Our ASE certified technicians will be happy to make a recommendation.  Schedule an appointment for preventive maintenance for your transmission when we return to the line.\",\n",
      "  \"At Applewood, we use state of the art technology, including nurse call systems and electronic med and care charting.   Learn more about our state of the art technology and specific care services at applewood living dot com, or schedule a guided tour to experience life at Applewood first hand.  We look forward to meeting you, and to sharing our high standards of service to fulfill your needs and expectations for your loved one.  Thank you for holding.  We\\u2019ll be right with you.\",\n",
      "  \"The new Centra Southside Medical Center, located at 935 South Main Street, is open for patient care. The new medical center is home to multiple physicians and specialties and offers a full range of health care services including primary care, orthopedics, nephrology, psychiatry, physical therapy, occupational therapy, laboratory, speech therapy, and digital x-ray.  Appointments, new patients, and walk-ins are welcome! Call 434-315-5340 for an appointment, or more information.\",\n",
      "  \"Contact us anytime through our website at aba daba dot com, and we\\u2019ll respond within 24 hours.\\u00a0 Just send us your equipment or party needs list, and we\\u2019ll be happy to provide a written estimate.\\u00a0 Whether it\\u2019s for party supplies, equipment or concrete, Aba Daba Rents is your number one source. \\u00a0 When you\\u2019re planning an event or a project, think Aba Daba Rents.\\u00a0 Like magic, we rent it!\\u00a0 Thank you for choosing Aba Daba Rents.\\u00a0 We look forward to helping you in just a few moments.\",\n",
      "  \"Who wants another app? Your dog and cat do! Healthy Pet Aurora App lets you track your free food, earn rewards, watch helpful videos, book your grooming appointments, enter photo contests, order online for free local delivery, and more. If you've got questions we've got answers. We strive to collaborate with our pet community so submit questions through the app, and we will answer you directly or make a video to share with everyone. Proudly answering your questions since 1998.\",\n",
      "  \"w w w the pest rangers dot com, where you can log into your account to see your next service, check out your last service or make a payment on your account. You can also view many of the service offerings we have such as termite control, mosquito and tick services and our home protection plans. Visit us on Facebook or check us out on google. We are proud of our reviews and strive to provide you with a great customer experience! We look forward to helping you in just a few moments\",\n",
      "  \"Do you envy those dazzling red carpet smiles?  Modern cosmetic dentistry has put a radiant, healthy smile in everyone\\u2019s reach!  At Rose Dental, we use bonding, veneers, inlays and onlays, bridges, dental implants, Zoom whitening and more to create the beautiful smile you want and deserve.  Visit rose dental nashua dot com and click on our smile gallery to see what cosmetic dentistry can do for your smile, and schedule a consultation for a smile makeover when we return to the line.\",\n",
      "  \"Whether you are missing just one tooth or several, dental implants can be your best option for tooth replacement. Dental implants are placed as a substitute for the root portion of lost teeth\\u2026to stabilize and anchor your new tooth, bridge, or denture.  Dental implants look, feel and function like natural teeth, enabling you to smile and enjoy your favorite foods with confidence. Be sure to ask how recent advances make dental implants an excellent choice for your tooth restoration.\",\n",
      "  \"No insurance?  No problem!  Ask us about our in house custom benefit program, illumisure.  Receive all the rewards of dental insurance without the headaches \\u2013 and at a cost you and your family can afford.  We also offer convenient low monthly payments from Lending Club, extended plan options for up to 60 months, and 0% interest plans are available.  View our various plans and pricing at our website, champlain smile solutions dot com, or ask for details when we come back on the line.\",\n",
      "  \"When you need to change, duplicate, replace a title or deal with a lien on a title, turn to Truckers Permitting Services.  We handle all your vehicle title needs, making sure you\\u2019re paperwork is handled professionally.  Avoid unnecessary delays and hassles by contacting Truckers Permitting Services.  You can email us at Nathan at truckers permitting dot com.  To send documentation, fax us at 201-333-0522.  Thank you for calling Truckers Permitting Services.  We\\u2019ll be right with you.\",\n",
      "  \"It\\u2019s surprising how many times each day you can Fuel Up & Go at CVS Pharmacy. Like when the clock strikes OMG I DIDN\\u2019T EAT BREAKFAST O\\u2019CLOCK\\u2026 just grab some Belvita Breakfast Biscuits, Bear Naked Granola, and a side of refreshing Tropicana Orange Juice. This week at CVS Pharmacy, you\\u2019ll get two Starbucks Refreshers for three dollars. Restrictions apply. See circular or cvs.com/myweeklyad for details. For the brands that satisfy your hunger and thirst, shop CVS Pharmacy. Fuel up & go.\",\n",
      "  \"Did you know that we also board your pets while you are away? \\u00a0If you have a business trip or a vacation on the horizon, we would be happy to care for your animals while you\\u2019re gone. \\u00a0Not only will they be cared for according to your exact specifications, but they will also receive plenty of outdoors time, and lots of attention. \\u00a0We can even bathe them so they look their best for the inevitable emotional reunion when you return.  Ask about boarding your pet when we return to the line.\",\n",
      "  \"Our team at Kellerman Dental believes in giving back to the communities that support us in what we do every day. Every year we dedicate a full day of offering free dental care for those in need. Our goal is to help serve individuals by improving their current condition and promoting good oral health.  At Kellerman Dental, it is our privilege to serve you.  Thank you for calling us today, and for holding during this brief delay.  We\\u2019ll be on the line to serve you in just a few moments.\",\n",
      "  \"After that brutal winter, the weather is finally getting warmer and it\\u2019s time to deal with that yearly dilemma: just what are you going to do with your tax refund?  Whether it\\u2019s planning a trip to go wherever the road takes you or you\\u2019re hauling supplies for the ultimate backyard barbecue, may we suggest the Chrysler 200 and the go anywhere, do anything legendary Jeep Wrangler, available in both two door and four door varieties?  Come on down and give these great vehicles a test drive.\",\n",
      "  \"Joint pain doesn\\u2019t have to mean chronic discomfort and disability. Dr. John Kona, and his orthopedic team use the latest technology for total joint replacement surgeries, hip fractures and knee arthroscopies. Plus, you can do your rehabilitation at the new Centra Medical Center on Main Street. These procedures, done close to home, can help you get back on your feet again and enjoy life. Call 434.315.2930 for an appointment. Centra Southside Community Hospital\\u2026. Excellent care, for life\",\n",
      "  \"Thank you for calling BlackGold Physical Therapy Clinic. Our office is already closed. Our business hours are Monday - Friday 7AM-7PM Mountain Standard Time and 10AM-3PM on Saturdays. Kindly leave your name, telephone number and the reason for your call in our general mail box after the tone and we will get back to you on the next business day. You may also visit our website at w w w dot blackgold pt clinic dot com, where you can schedule an appointment or use our online booking system.\",\n",
      "  \"Our website is designed with you in mind!  Visit hall air conditioning dot com to view our complete line of products, to learn about our annual maintenance plans, warranty registrations,  financing options,. and to contact us online for any questions or concerns.  At Hall Air Conditioning, we\\u2019re not comfortable until you are!  Let us know how we can help you when we return to your call.  Thank you for choosing Hall Air Conditioning \\u2013 we look forward to helping you in just a few moments.\",\n",
      "  \"Our expert catering consultants, wedding planners and culinary professionals are here to assist you with plans for your special occasion. Allow the catering team at Fabulous Food to design a seasonal menu just for you and your event. Ask how we can offer creative menus for you and your guests.  We offer organic and locally grown produce and proteins. We also feature local Arizona products and are a proud member of Local First Arizona. You are important to us - we will be right with you.\",\n",
      "  \"We\\u2019re a family business, so you don\\u2019t have to tell us that family means everything!  When it comes to this precious cargo, you can never be too careful.  The moment your ride just doesn\\u2019t feel right, come to Cannon\\u2019s Automotive for a diagnosis and estimate.  Whether the problem is the brakes, handling, or steering, don\\u2019t flirt with disaster \\u2013 get your vehicle checked!  We appreciate your call, and the opportunity to  safeguard  the safety of you and your family.  We\\u2019ll be right with you.\",\n",
      "  \"Thank you for calling BlackGold Physical Therapy Clinic. Our office is already closed. Our business hours are Monday - Friday 9AM-7PM Mountain Standard Time and 10AM-3PM on Saturdays.  Kindly leave your name, telephone number and the reason for your call in our general mail box after the tone and we will get back to you on the next business day. You may also visit our website at w w w dot blackgold pt clinic dot com, where you can schedule an appointment or use our online booking system.\",\n",
      "  \"FROM COLLISIONS ON THE SOCCER FIELD TO FALLS AT HOME, ACCIDENTS HAPPEN. NOW, ACCESS TO WORLD-CLASS FRACTURE CARE IS EASIER THAN EVER AT SHRINERS HOSPITALS FOR CHILDREN \\u2014 BOSTON\\u2019S FRACTURE CLINIC. KIDS WITH A DIAGNOSED FRACTURE CAN COME TO THE CLINIC MONDAY \\u2013 FRIDAY, FROM EIGHT TO ELEVEN A-M. FROM CASTING TO FOLLOW UP REHAB, THE BOSTON SHRINERS HOSPITAL DOES IT ALL. SO SKIP THE LONG WAIT TIMES AND ASK YOUR DOCTOR FOR A REFERRAL TO SHRINERS HOSPITALS FOR CHILDREN \\u2014 BOSTON\\u2019S FRACTURE CLINIC.\",\n",
      "  \"When the weather gets nice, it\\u2019s time to hit the open road - make sure your family is cool and comfortable.  Our technicians are fully qualified to perform both air conditioning repairs now - and heating repairs when the weather turns cold again.  No more sweltering in the summer heat or freezing in the winter cold.  You don\\u2019t want that, and we don\\u2019t want it for you.  See what Cannon\\u2019s Automotive can do for you at cannons auto dot com, or ask for an appointment when we return to the line.\",\n",
      "  \"At Bill Bunch Chevrolet, we like the word NO.  No pressure.  No treating you like a number.  No hassle service and financing.  No wasting your time.  Every customer is a friend and integrity is the most important part of doing business at Bill Bunch Chevrolet.  Join us in finding new roads at Bill bunch Chevrolet serving the universe from our one convenient location at 3401 Highway 13 in Higginsville, Missouri.  Say yes to the best \\u2013 Bill Bunch Chevrolet.  We\\u2019ll be with you in just a moment.\",\n",
      "  \"Did you know that 85 percent of Americans have some form of periodontal disease?  Symptoms include inflamed, receding or bleeding gums and bad breath.  Left untreated, gum disease is silent and progressive, and is the number one cause of the loss of otherwise healthy adult teeth.  When caught early, treatment is simple and highly effective.   Gum disease can be prevented with proper home care and regular office visits.   Schedule an appointment for an office visit when we return to the line.\",\n",
      "  \"Your kind words help us to help others!  If you have enjoyed your experience with our practice, please visit our website at columbus g i dot com and click on the survey tab to share your feedback.  If you need assistance, we\\u2019ll be happy to help you.   Whether you\\u2019ve just been referred to our practice, or are calling to follow up on a recall, we\\u2019re delighted that you\\u2019ve chosen Gastroenterology Associates of Columbus for your digestive care.  We look forward to helping you in just a few moments.\",\n",
      "  \"The BlackGold Physiotherapy team of highly-trained clinicians utilizes the most advanced combination of diagnostics and treatment options to reduce pain and inflammation, increase range of motion, and improve posture, strength and body mechanics. We pride ourselves on our commitment to excellence, integrity and quality physical rehabilitation care through the variety of services our staff provides.  With us, you will always be well cared for, and receive the personalized attention you deserve.\",\n",
      "  \"Say goodbye to gooey impressions, temporary crowns and multiple appointments with CEREC, the exciting technology that allows us to create and fit a permanent ceramic crown in just one visit to our office.  At Rose Dental, we are renowned for the quality of our work and the fantastic changes we make for people using this technology, as well as other cosmetic dentistry options.  Learn more about crowns and cosmetic dentistry on our website at rose dental Nashua dot com.  We\\u2019ll be right with you.\",\n",
      "  \"At Hall Air Conditioning, we\\u2019ve been in business since 1964, and we\\u2019ve been a proud factory authorized Carrier dealer for 45 years.   We\\u2019re top rated on HomeAdvisor, and we enjoy an A+ rating with the Better Business Bureau.  Turn to the experts at Hall Air Conditioning for all the home heating and cooling systems and equipment you need.  Financing is available too!  Check our full line of products at hall air conditioning dot com, and let us know how we can help you when we return to the line.\",\n",
      "  \"Searching for the perfect Valentine\\u2019s Day gift? Give the gift of indulgence with a Mirbeau gift card, redeemable for dining, spa treatments or overnight stays. At the French-inspired Mirbeau Inn & Spa in Plymouth, fifty guest rooms, the world-class Spa Mirbeau, and The Bistro & Wine Bar create the perfect getaway. Receive a box of chocolates with any gift card purchase of $100. For reservations or gift cards, go to M-I-R-B-E-A-U dot com, or call 877-MIRBEAU. Mirbeau, life, classically balanced.\",\n",
      "  \"OVER 80 YEARS AGO, A BAKER HAD A SIMPLE DREAM TO CREATE DELICIOUS BREAD USING ONLY THE BEST INGREDIENTS. PEPPERIDGE FARM\\u2019S NEW AND IMPROVED FARMHOUSE HEARTY WHITE BREAD DELIVERS ON THAT DREAM. WE PROMISE YOU THAT EACH SLOW BAKED LOAF HAS THAT FRESH FROM THE OVEN TASTE, A SOFTER TEXTURE PERFECT FOR SANDWICHES OR TOAST -- AND HEARTY SLICES CUT NICE AND THICK. BECAUSE THAT\\u2019S THE FARMHOUSE WAY. SO STOP BY THE BREAD AISLE AT STOP & SHOP TODAY AND TRY FARMHOUSE HEARTY WHITE BREAD FROM PEPPERIDGE FARM!\",\n",
      "  \"They may still seem like babies to you, but as your pets age, just like people they can develop age related problems like obesity, arthritis and other health concerns.  Pets age faster than people, so it\\u2019s important to schedule them for regular senior exams at recommended intervals so that problems can be discovered and addressed at their earliest stages.  We want your pets to live a long, happy and healthy life as much as you do.  Schedule an exam for your senior pet when we return to the line.\",\n",
      "  \"Bonjour, thank you for calling L\\u2019Occitane en Provence Customer Service line, our business hours  Monday through Friday 8:00 am to Midnight Eastern Standard Time, Saturday and Sunday from 10:00 am to 7:00 PM. Please press 1 for quick and easy orders if you know your selection, Please press 2 if you would like to place an order but need additional information. press 3 For questions regarding existing orders or if you have any questions. Your call may be monitored or recorded for training purposes.\\u201d\",\n",
      "  \"At Bill Bunch Chevrolet, we want to make it easy for you to get the vehicle you want \\u2013 and we\\u2019ll trade for anything that doesn\\u2019t eat!  That\\u2019s right, if you have a riding mower, a pontoon boat, fishing boat, or a big screen TV \\u2013 bring it in and let\\u2019s make a deal!   The working man\\u2019s friend \\u2013 that\\u2019s Bill Bunch Chevrolet!  Visit our website at bill bunch chevrolet dot com, and search our new and preowned inventory online.  We\\u2019ll help you find just the car you want to buy, at the price you want to pay.\",\n",
      "  \"Whites Canyon Ford and Lincoln carries one of the area\\u2019s largest selections of new Ford and Lincoln vehicles, including the number one selling Ford F-series trucks, the popular and fun to drive Ford Edge and the redesigned Ford F 250 and F 350 Super Duties.  We also invite you to experience the all new line-up of Lincoln vehicles.  The bold new Lincoln Continental is a work of art \\u2013 and it\\u2019s loaded with Luxury that you really need to drive to appreciate!  Ask for details when we return to the line.\",\n",
      "  \"When ordering refills of controlled medications, make sure they include the date the script was issued, the quantity prescribed and the name, address and DEA registration number of the prescriber.  To prevent delays in receiving your controlled medication refills, remember to check if there are refills left and if a new script is needed.  If you need to receive your refill before the next scheduled delivery, just call the pharmacy and let us know when you need it.  Thank you for continuing to hold.\",\n",
      "  \"Dr. John Kona and his orthopedic team welcome Dr. Bill Andrews to the CMG Orthopedic Center.  Now, using the latest technology, this team does all orthopedics, including back pain, for children and adults. Plus, you can do your rehabilitation right next door at the Centra Medical Center on Main Street. These procedures, done close to home, can help you get back on your feet again and enjoying life. Call 434-315-2930 for an appointment.  Centra Southside Community Hospital - excellent care, for life!\",\n",
      "  \"At Kellerman Dental, we understand most patients appreciate a variety of financial options to help you receive the treatment that you and your family need and deserve. We offer 6 and 12 month interest free options for your convenience through Care Credit.  We also offer our Kellerman Dental Premier plan for our non-insured patients.  Ask one of our business assistants about customizing a payment plan to help you afford the care you and your family deserve when we return to your call in just a moment.\",\n",
      "  \"Have you been away from the dental office for a while?   We understand how hectic life can be  - but we encourage you to make time to take good care of your teeth.  At Dr. Anderton\\u2019s office, our focus is on general family dentistry, and we\\u2019ll see you the same day you call if needed.   If you\\u2019ve been putting off a dental checkup because you don\\u2019t have time, remember that a little time invested now can mean big savings in time \\u2013 and money - later.  Schedule your appointment when we return to your call.\",\n",
      "  \"GOT SOMEONE ON YOUR GIFT LIST WHO\\u2019S NAUGHTY AND NICE? GET THEM A BOTTLE OF\\u00a0 CRISP, REFRESHING NOTORIOUS PINK ROS\\u00c9. THIS AWARD-WINNING WINE IS MADE FROM ONE HUNDRED PERCENT GRENACHE, SO IT\\u2019S NOT NEARLY AS DRY AS MOST FRENCH ROS\\u00c9S. BLUSH PINK AND WELL-BALANCED, WITH AN AROMA OF CITRUS AND RED FRUIT, NOTORIOUS PINK IS DELICIOUS WITH SEAFOOD, VEGETABLES, PASTA, AND POULTRY, MAKING IT THE PERFECT WINE FOR EVERYONE ON YOUR LIST\\u2014NAUGHTY, NICE, AND NOTORIOUS. NOTORIOUS PINK. LOOK FOR IT WHEREVER YOU BUY WINE.\",\n",
      "  \"Thank you for calling Al\\u2019s Rubbish and Container Service, where we are proudly celebrating 25 years of serving central Massachusetts. We offer fast, reliable service for dumpster rentals and general waste management services in Worcester County.   Find us on the web at als rubbish dot com to learn more about us, to view our full service area, for online ordering and bill paying, and for details about our current specials.  We\\u2019re glad you called!  We\\u2019ll be on the line to help you in just a few moments.\",\n",
      "  \"Would you like your pet\\u2019s preventative medicine and food delivered to your doorstep? At Bay Beach Veterinary Hospital we are proud to offer an online store. From the convenience of your living room, you can now request parasite prevention, prescription diets, skin care, and more to be delivered to your home. Our doctor will approve your request and your pet\\u2019s medication will be on its way to you. Visit our website to access our on line store or ask a receptionist more about this service when we return.\",\n",
      "  \"At the office of Dr. Ronald Howland, we will provide a full treatment plan including all costs before treatment is administered.  Typically your expenses are reimbursed by your insurance company within seven days, and we are happy to help you receive your full insurance benefits.  Payment by cash or credit card is due at the time of treatment, and we are happy to submit your insurance forms for reimbursement.  Please ask a member of our team about other special arrangements or payment options available.\",\n",
      "  \"Commonwealth Eye Surgery is dedicated to providing the most advanced technology available.  We are the Kentucky flagship, selected by Bausch and Lomb to introduce the Technolas 2-17.  The 2-17 laser also enables us to offer Zyoptix, a revolutionary customized Wavefront treatment using 3D eye tracking technology.  This combination of powerful laser diagnostic equipment, and high performance Laser technology allows us to help maximize the quality of your vision. Our Zywave platform creates a unique pattern\",\n",
      "  \"WILLOW TREE CHICKEN SALAD IS A NEW ENGLAND FAVORITE! WILLOW TREE OFFERS DELICIOUS VARIETIES LIKE CLASSIC ORIGINAL CHICKEN SALAD, SAVORY BUFFALO AND SWEET, CRUNCHY CRANBERRY WALNUT AND YOU CAN TRY THEM OUT FOR YOURSELF! COME VISIT US ON BOSTON CITY HALL PLAZA ON SEPTEMBER 12TH FOR THE 3RD ANNUAL FREE COUNTRY IN THE CITY CONCERT WITH COUNTRY 102.5. AFTER A LONG DAY OF WORK, UNWIND WITH LIVE MUSIC FROM TODAY\\u2019S TOP COUNTRY ARTISTS AND SOME TASTY WILLOW TREE CHICKEN SALAD. WILLOW TREE. LOCAL. FRESH. DELICIOUS.\",\n",
      "  \"Would you take a short drive to save a bundle?   We can afford to give you the great car you want at the great price you want to pay.  We\\u2019re your local franchised Chevrolet dealer in Higginsville, near Lee\\u2019s Summit and Kansas City, and we\\u2019re here to serve you Monday through Friday from 8:30am to 6pm, and on Saturday from 8:30am to 5pm.  Come in for a test drive \\u2013 but be careful what you test drive, or you\\u2019ll want to buy them all!  We\\u2019re glad you called, and we look forward to helping you in just a moment.\",\n",
      "  \"Thank you for calling Artistry Salon at Coconut Point, where we\\u00a0have a passion for creating beautiful hair\\u00a0and a one-of-a-kind experience for our guest. We are open 7 days a week to satisfy all your beauty needs.  To view our hours, location and service options or to book an appointment, visit our website at\\u00a0artistry s w f l dot com.  We are sorry we are unable to answer your call at the moment.  Please leave a message at the sound of the tone, and we will return your call as soon as possible.  Thank you.\",\n",
      "  \"Sleep apnea is a condition in which the airway is blocked at night. While this may cause snoring, a symptom that can create sleepless nights for both you and your partner, there are far more serious risks including high blood pressure, heart attack and stroke. If you believe that you or someone you know might suffer from sleep apnea, be sure to schedule an appointment now. While you're here, be sure to ask about snoring appliances, so that everyone can get a great night's sleep. We will be with you shortly.\",\n",
      "  \"VENEZIA RESTAURANT has an amazing view on the water facing the Boston skyline. and exquisite lunch, dinner and bar selections. come in for drinks and stay for dinner. live music or dj\\u2019s in the lounge every Friday and Saturday night. dine, dance and enjoy craft cocktails. VENEZIA RESTAURANT IS THE PLACE TO HOLD ALL YOUR UPCOMING EVENTS, BIG OR SMALL. A must see venue for your perfect wedding in Boston. CALL 617-436-3120 OR VISIT VENEZIA BOSTON DOT COM. (last line fast) follow us on Instagram and social media.\",\n",
      "  \"Hey Boston! Whether it\\u2019s a promotion you want -- OR a career change, Merrimack College\\u2019s Bachelor\\u2019s Completion programs have everything you need to succeed: career resources, ongoing academic advising and support -- AND scholarships. With convenient evening classes tailored to fit your schedule, you can finish what you started and get the degree you need for the career you want -- right here at Merrimack. Learn more at our info session on August 1st at 6 p.m. Register at merrimack dot E-D-U forward slash info.\",\n",
      "  \"You have reached the office of James Street Dental Arts. Located in Syracuse, NY, our doctors and staff offer a full range of services designed to provide you and your family with a lifetime of dental health. These services include preventative treatment, cosmetic and restorative procedures, implant dentistry, Invisalign orthodontics, and so much more. You can learn more about who we are and what we do by logging onto james s t dental arts dot com or schedule your appointment today. We will be with you shortly.\",\n",
      "  \"Thank you for calling Advanced Dermatology Laser & Cosmetic Surgery, providing excellence in dermatological surgery, dermatology and cosmetic procedures. Located at 1220 Avenue P in Brooklyn, Doctor Eyal Levit and his staff of professionals offer treatments designed to rejuvenate and protect skin, as well as facial and body reconstruction and rejuvenation.  Look as young as you feel at Advanced Dermatology Laser & Cosmetic Surgery.  Please continue to hold and we will return to your call as promptly as possible.\",\n",
      "  \"Join us on Saturday, June 23rd for our Open House and Client Appreciation Day!  It\\u2019s our 20th year in operation, and we want to celebrate with our clients!  From noon to 3pm we will have food, giveaways, t-shirts, door prizes, obedience exhibitions, a bouncy house for the kids, Teddy Bear surgery suite, and more!  Door prizes include a free year\\u2019s supply of food, a year of heartworm prevention, obedience lessons, genetic testing kits, and more.  That\\u2019s Saturday June 23rd from noon to 3pm \\u2013 hope to see you there!\",\n",
      "  \"At Bear Family Dentistry, your children\\u2019s healthy, beautiful smiles are our greatest reward.  The dental care they receive now truly makes a lifetime of difference.  When children discover that caring for their teeth can be fun, and they enjoy coming to the dentist for their annual checkups, they\\u2019re on the right track for a healthier and happier life.  Visiting more often also reduces the length of each visit, for a more pleasant dental experience.  Please schedule their next checkup when we return to your call.\",\n",
      "  \"No insurance?  No problem!  Ask us about our in house Champlain Smile Solutions Membership Club  Receive all the rewards of dental insurance without the headaches \\u2013 and at a cost you and your family can afford.  We also offer convenient low monthly payments from Lending Club and Proceed Finance, with extended plan options for up to 96 months, and 0% interest plans are available.  View our various plans and pricing at our website, champlain smile solutions dot com, or ask for details when we come back on the line.\",\n",
      "  \"If you want to experience dentistry in a different, more comfortable way, or if you have fear and anxiety about receiving dental treatment, ask about oral sedation, a technique that creates a relaxed, comfortable and safe experience during your dental treatment. \\u00a0Conscious oral sedation allows you to control your comfort level and is ideal for patients with sensitive teeth, a dread of needles, complex dental problems, or past traumatic dental experiences. \\u00a0Please ask us about oral sedation when we return shortly.\",\n",
      "  \"As the fall and winter months arrive, it\\u2019s important to remember that pets are domestic animals.  They belong indoors when the weather gets cold.  Cold weather, ice and snow can present slip and fall hazards for them as well \\u2013 and a cold car in the winter can be just as dangerous as a hot car in the summer.  Be sure to keep deicers and antifreeze out of their reach, and use snow melting products that are safe for pets.  Your pet depends on you to keep them safe all year round.  We\\u2019ll be with you in just a moment.\",\n",
      "  \"There is no better time than now to invest in your vision.  In addition to honoring discounts for LASIK included in most vision plans, we  offer Care Credit, a unique financial solution that lets you make monthly installments on your vision investment, with many no-interest plans available. We can help you take advantage of your insurance coverage, flex spending dollars, and health savings account.  Invest in your vision.  It\\u2019s the one investment you are guaranteed to use every day of your life.    You deserve it.\",\n",
      "  \"Did you know more than three million cataract operations are performed every year in the United States?  Some of the symptoms of cataracts include blurred or fuzzy vision, washed-out colors, and sensitivity to light.  With the help of your referring optometrist\\u2019s evaluation, Commonwealth Eye Surgery offers same day cataract surgery.  Once you arrive in our office, we will perform diagnostic tests to customize your treatment plan.  You\\u2019ll make fewer trips to the doctor and save time and money.  One visit, that\\u2019s it.\",\n",
      "  \"Nobody knows your body better than you. That is why we engage in a collaborative care approach, where we work together to meet your rehabilitation goals. Our primary mission is to provide you with effective and high-quality physiotherapy and massage therapy treatment.  No matter the type of pain you are experiencing, our goal is to reduce and eventually eliminate discomfort to enhance your overall physical function. We treat pain that is related to trauma, physical conditions, emotional stress, and sports injuries.\",\n",
      "  \"Your Ring Protect system monitors sensors to put a ring of security in and around your home. Ring Protect includes three security Modes to fit your needs. Away monitors all the sensors in and around your home, giving you the most security when you\\u2019re not there. Stay monitors sensors around your home but ignores the ones inside, giving you freedom to move around your home. Home doesn\\u2019t monitor any sensors, allowing you to go in and out easily. These three Modes allow you to keep your home\\u2019s security in sync with you.\",\n",
      "  \"At AAH Fluid Power, our 2 year warranty is the best in the industry.  We offer a full 2 year warranty with every pump, motor, and valve that is built to OEM specifications, which will help any customer with any shelf life that may exist.  AAH Fluid Power will stand behind every unit that is hand crafted in our facility. Our 2 year warranty is our commitment to our customers that we offer nothing but quality.  Visit our website at a a h fluid power dot com to learn more about our warranty and the services we provide.\",\n",
      "  \"When it comes to orthodontics, it truly is a new world. Gone are the days when the only way to a straighter smile was with cumbersome braces. Our office offers Invisalign clear braces. Thanks to these revolutionary clear braces, not only will your teeth straighten faster, but they are far less intrusive than ordinary braces, making it easier to eat and speak. Invisalign trays are virtually invisible, meaning that you no longer have to advertise your treatment. Thanks so much for calling. We will be with you shortly.\",\n",
      "  \"Dr. Kimberly Mahood grew up in the beautiful bluegrass state of Kentucky.  She graduated as the valedictorian from the University of Kentucky College of Dentistry, and completed her orthodontic residency program at the University of the Pacific Arthur A. Dugoni School of Dentistry, where she continues as a part-time faculty member.  Dr. Mahood is committed to providing the best care to her patients and is excited to meet you to work together to create a beautiful smile.  We will be on the line shortly to assist you.\",\n",
      "  \"You have reached the Bay City Veterinary Clinic and Equine Hospital.  Your pet\\u2019s health and happiness is our priority.  Located in Bay City, Texas, our extremely qualified and personable staff is ready to provide your dogs and cats as well as horses, cows, and other such animals with the best possible care.  Someone will be there to take your call in just a few moments, but in the meantime we invite you to learn about just a handful of the things that make the Bay City Veterinary Clinic and Equine Hospital so special\",\n",
      "  \"Many patients love the difference that teeth whitening has made not just to their smile, but their self-esteem as well. If you smoke, drink wine, or are just looking for a boost in your appearance, then a whitening procedure can resolve this issue. Our bleaching methods consist of both chairside and take home treatments to keep you smiling bright in between visits. To learn more about whitening your teeth, visit us online at james s t dental arts dot com or schedule your appointment today. We will be with you shortly.\",\n",
      "  \"There\\u2019s a saying that goes, \\u201cbetter safe than sorry\\u201d.  At Cannon\\u2019s Automotive, we couldn\\u2019t agree more.  Bring your vehicle in for regularly scheduled preventive maintenance, so we can anticipate problems and fix them before they get out of control.  Don\\u2019t forget, our helpful hand extends beyond our parking lot.  If anything should happen while you\\u2019re on the road, just call, and we\\u2019ll provide the same swift and efficient service you have come to expect from us.  Ask for a service appointment when we return to the line.\",\n",
      "  \"AAH Fluid Power Incorporated stocks over 1 million components and parts on our shelves. We welcome you to visit our 30 thousand square foot facility in Chesterfield Michigan.  We build to order, and with our vast inventory, we are able to supply units and parts with the fast turnaround times our customers need and deserve.  In most instances, our in-house inventory also makes it possible for AAH to quote customers over the phone while they wait.  Thank you for waiting!  We\\u2019ll be on the line shortly to answer your call.\",\n",
      "  \"Dr. Kimberly Mahood grew up in the beautiful bluegrass state of Kentucky.  She graduated as the valedictorian from the University of Kentucky College of Dentistry and completed her orthodontic residency program at the University of the Pacific Arthur A. Dugoni School of Dentistry, where she has remained on as a part-time faculty member.  Dr. Mahood is committed to providing the best care to her patients and is excited to meet you to work together to create a beautiful smile.  We will be on the line shortly to assist you.\",\n",
      "  \"It\\u2019s surprising how many times each day you can Fuel Up & Go at CVS Pharmacy. Like when the clock strikes AFTERNOON SNACK ATTACK O\\u2019CLOCK\\u2026 just grab some Wonderful pistachios, a dark chocolate Nuts and Sea Salt Kind Bar, and a refreshing Lipton Pure Leaf Iced Tea. This week at CVS Pharmacy, you\\u2019ll get two boxes of Kind Cinnamon Low-Sugar Healthy Oat bars for seven dollars. Restrictions apply. See circular or cvs.com/myweeklyad for details. For the brands that satisfy your hunger and thirst, shop CVS Pharmacy. Fuel up & go.\",\n",
      "  \"Under construction?  Let the rubbish removal experts at Al\\u2019s Rubbish and Container Service help you with easy dumpster rentals that come in all sizes.  Visit als rubbish dot com and  view our current residential rubbish and construction dumpster rentals and terms.  We\\u2019ll be happy to help you decide what size is right for you when we return to the line. Thank you for contacting Al\\u2019s Rubbish and Container Service for all your dumpster rental and rubbish removal needs.  We\\u2019ll be on the line to help you in just a few moments.\",\n",
      "  \"At the Bay City Veterinary Clinic and Equine Hospital, we do more than provide your pets with the best possible care.  We also offer additional services that we hope will keep you coming back again and again.  We board small animals, plus we have a twenty stall facility for boarding horses.  We also have large, comfortable indoor boarding for your dogs and cats.   To learn more about the exciting services we offer, stay on the line, and we will be happy to tell you everything when we get to your call in just a few moments.\",\n",
      "  \"We are open\\u00a09am to 8pm\\u00a0Mondays to Fridays,\\u00a09am to 12 noon\\u00a0on Saturdays and closed on Sundays. We are located at\\u00a03510 Bainbridge Avenue, Suite S5\\u00a0in the Bronx, at the corner of Gunhill Road by Montefiore Hospital. The office is accessible using the 2,4,5, and D trains and the 1, 10, 16, And 28 buses. 3hr Municipal Public Parking is available at\\u00a03510 Jerome Ave\\u00a0and the corner of Gunhill Road. Please go to\\u00a0 HYPERLINK \\\"http://www.tigapediatrics.com/\\\" \\\\h www.TigaPediatrics.com for more information, or for the front desk press 0.\",\n",
      "  \"Whether it\\u2019s an emergency situation or the end stages of a chronic illness, when it\\u2019s time to say goodbye to a beloved pet, emotions run high.  At Concierge Veterinary Hospital of Naples, we offer both at home and in hospital euthanasia services to make this difficult moment as easy and peaceful as possible for you and your pet.  As one of the few veterinary practices in the area to offer at home euthanasia, we understand that a peaceful passing is your final gift to your pet.  We\\u2019ll be on the line to help in just a moment.\",\n",
      "  \"Centra Southside Hematology Oncology Clinic is located on the first floor of Centra Southside Community Hospital. Our physicians and staff provide compassionate and comprehensive care to patients with cancer and blood disorders.  A team of board-certified physicians and highly skilled clinicians will collaborate on personalized treatment plans and will continue to support you through every step of your cancer journey.\\u00a0The clinic is open Monday though Friday from 8am to 4:30pm.  Please call 434-315-2690 for more information.\",\n",
      "  \"At Bella Smile, we are committed to using the latest technology that will allow us to make appointments more comfortable and efficient. With the iTero digital scanner, we can eliminate taking long and uncomfortable impressions. The iTero uses a camera to take an accurate digital impression of your teeth giving us better fitting appliances as well as a more comfortable patient experience. Say a grateful goodbye to mouthfuls of impression material with iTero.  Thank you for holding.  We\\u2019ll be on the line shortly to assist you.\",\n",
      "  \"Like the human body, the performance of your car depends on the success of many different parts.  It all starts with the heart of the vehicle \\u2013 the engine and transmission.  Even the slightest problem in these parts can significantly impact your vehicle\\u2019s performance, so these are the areas in which we take the most care.  Whether it\\u2019s a simple transmission flush or an engine replacement, at Cannon\\u2019s Automotive, we will take a look, and tell you what the best course of action is.  Ask for details when we return to your call.\",\n",
      "  \"From acne to scars, pigmented lesions to choosing creams for your skin, the professionals at Advanced Dermatology Laser & Cosmetic Surgery offer the support and results you want with treatments and products that are proven effective and safe.  Dr. Levit and his team take the time to listen to your concerns, offering careful diagnosis in order to recommend the most effective solutions.  We look forward to helping you when we return to your important call.  Learn more about our many procedures online at N Y Skin Clinic dot com.\",\n",
      "  \"Got a failed smog?  At Budget Auto Repair and Transmission, we\\u2019re a California licensed smog repair facility, and we can repair your failed smog.   Rely on Budget Auto Repair and Transmission for great customer service and prompt, professional attention to all your car care needs.  We employ certified and qualified automotive technicians who will care for your  car as if it was their own.  Enjoy the peace of mind that comes from driving a vehicle maintained and repaired by the best in Moreno Valley.   We\\u2019ll be right with you.\",\n",
      "  \"Old, cracked, flaking or just ugly concrete can be dangerous as well as unattractive.  It\\u2019s easily replaced with the right tools and the right techniques. Replacing old concrete is the best way to ensure you have a structurally sound driveway or patio, and at A-Concrete, we\\u2019ll take care of removal, loading, hauling and disposal.  Then we\\u2019ll pour your new concrete, which will be durable and long lasting.  Our knowledgeable staff will work with you to customize your job.  Thank you for holding.  We\\u2019ll be right back to help you.\",\n",
      "  \"At Thomas Service Company, we know that today\\u2019s life is fast paced.  It has become more difficult to be home for service!  We value your time and your schedule, and we continue to change the way we work with our customers when scheduling service to make our visits as convenient as possible.  Our goal is always to complete the repair to your satisfaction on the first trip.  At Thomas, we want to provide the service you and your Sub-Zero Wolf Cove and Asko products deserve.  Schedule your service call when we return to the line.\",\n",
      "  \"Thank you for calling Smile Studio 87. We are excited to be celebrating our 11-year anniversary this Year! We\\u2019ll help you maintain your dental health and improve your confidence with a beautiful smile. Our office hours are Monday, Tuesday, Friday 8:30 AM to 4:30 PM, Wednesday and Thursday 12 PM to 8 PM, and Saturday 8 AM to 2PM. Please continue to hold and we\\u2019ll return to your call momentarily. Please visit our newly redesigned website at w w w dot smile studio 87 dot com to learn more about how we can fulfill your dental needs.\",\n",
      "  \"Did you know that you, our valued client, have the ability to register for our free online service EPetHealth? Benefits of this service include 24 hour access to your pets medical records, request an appointment or medication refill, confirm upcoming appointments, have access to articles and videos to answer questions you may have about your pet, and much more. Just go online to EPetHealth.com, enter the email we have on file and click first time login. Its that easy, so sign up today and begin enjoying the many benefits offered.\",\n",
      "  \"Hello and thank you for calling Sweis, Inc. Your professional beauty resource for products, service, and education. Our business hours are 8:30am to 5:30pm. We offer shopping 24/7 on our website  HYPERLINK \\\"http://www.sweisinc.com\\\" w w w dot sweis inc dot com or visit one of our seven professional store locations in Torrance, Lake Forest, Encino, San Diego, East Las Vegas, West Las Vegas, or Reno. For personal service meet with one of our friendly, knowledgeable account managers. Ask customer service to speak with a rep near you.\",\n",
      "  \"Beautiful hair color is color that harmonizes with your skin tone and face shape.  Our artists are trained to customize hair color using the healthiest, most organically beautiful color on the market to bring out the shape of your haircut with our unlimited palette.  Let our award winning color artists design the perfect color to bring out the most in your natural beauty.  We offer color with certified organic ingredients as well as Wella\\u2019s anti allergy, anti toxic premium color lines.  Ask for details when we return to your call.\",\n",
      "  \"Why pay for new when you can repair for a fraction of the cost?  AAH Fluid Power offers a 24/7 second to none repair service for all your fluid power needs.  Send us your unit for a free repair evaluation. Repairing your unit can save from 20- 40 percent over the cost of replacing it with an exchange unit, and 70-80 percent over the cost of new. If we find that your unit is beyond economical repair, our technical support can offer solutions to fix your needs.   Ask for more details on our repair service when we return to the line.\",\n",
      "  \"At AAH Fluid Power, shipping is all about customer service. Our shipping department is the final check point before a product leaves our hands for its final destination.  We make sure that every order looks perfect, is packed safe and has the proper paperwork attached. This attention right up to the very last detail is our way of saying thank you for dealing with AAH Fluid Power Incorporated, where our world will always revolve around our customers.  Thank you again for calling us today.  We\\u2019ll be on the line to assist you shortly.\",\n",
      "  \"Now that fall is here, it\\u2019s time to hit the road in style and comfort. If you\\u2019re planning a family tailgate event and need the ultimate in space, may we suggest the all  new 2018 Chrysler Pacifica, available with 8 passenger seating and a class exclusive hybrid model? Or maybe you\\u2019re looking for a go-anywhere, do-anything vehicle? The legendary Jeep Wrangler \\u2014 whether 2-door or 4-door \\u2014 is always in fashion. And did you know the Wrangler is the only convertible SUV made in America today? Come and visit our showroom for a test drive!\",\n",
      "  \"A cutting-edge cardiac catheterization, or \\u201ccath\\u201d lab, has opened at Centra Southside Community Hospital. This cath lab gives patients access to the most minimally invasive techniques available to diagnose and treat cardiovascular disease. Dr. Rakesh Jain leads the interventional cardiology program and brings over thirty years of experience to CSCH.\\u00a0 Dr. Jain is board-certified in cardiovascular disease and internal medicine through the American College of Cardiology, American Board of Internal Medicine, and Virginia Board of Examiners.\",\n",
      "  \"Are you happy with your smile?\\u00a0 Many adults are not. Our Grand Dental Orthodontics Team may be able to help. We have many ways to meet your orthodontic needs from traditional braces, to modern, virtually invisible aligners. Grand Dental does it all. We are a Silver level Invisalign Provider. Schedule a comprehensive orthodontic consultation, at no cost to you. Together we will explore all the ways we can help you say, \\u201cI love my GRAND smile!\\u201d Grand Dental Orthodontics is available in Aurora, Channahon, Franklin Park and now Lake Zurich.\",\n",
      "  \"As a person ages, their collagen production begins to decline which leads to breakdown of the skin\\u2019s underlying support structure. Daily exposure to UV rays and other environmental elements can cause the skin to become discolored and premature wrinkles may emerge. The Cortex laser system is safe and effective and preferred by patients and professionals as the laser of choice. The Cortex provides outstanding treatment results for: wrinkles, fine lines, acne scars, sun damage and skin texture irregularities. Ask if Cortex is right for you.\",\n",
      "  \"At Sky Lake Animal Hospital, we\\u2019ve recently obtained two brand new state of the art digital radiography units. \\u00a0Our new units are even faster than before, with a more crisp and detailed image that enables us to find disease and pathology that otherwise would be impossible to find.  One unit is for dental procedures only, while our other unit is for full body images. \\u00a0It\\u2019s all part of our commitment to providing the best and highest quality treatment available for your pets.  Schedule an appointment for your pet when we return to the line.\",\n",
      "  \"Did you know that the Association of Orthodontics recommends that children come in at the age of 7 for their first orthodontic consultation?  Early detection enables us to help develop the jaw in a way to accommodate all the permanent teeth without extractions and improve how the upper and lower jaw fits together.  Children benefit from phase I treatment as it can prevent the need to extractions and the need surgical procedures to realign the jaws.  It can also improve your child\\u2019s airway and decrease their chances developing sleep apnea.\",\n",
      "  \"Did you know that at Concierge Veterinary Hospital of Naples we are a pet market as well as a hospital?  We feature a large variety of pet foods, both prescription and non prescription, including raw and freeze dried varieties, as well as boutique items like toys, leashes, shampoos and more.  We\\u2019re open seven days a week to serve you, too!  Plus \\u2013 for the benefit of our clients who enjoy the convenience or may not be able to come to our location to pick up pet food or medications \\u2013 we deliver!  Ask for details when we return to your call.\",\n",
      "  \"Our website is designed with you in mind!  Please visit center for holistic dentistry dot com to get to know us and to learn about the services we provide, to understand more about our holistic approach to dental care, to view our smile gallery, and to read testimonials from our many delighted patients.  You can even contact us online to request an appointment, or just ask us to schedule your next visit when we return to your call.  Thank you for choosing Center for Holistic Dentistry!  We look forward to helping you in just a few moments.\",\n",
      "  \"Did you know? We will be moving to a brand-new ultramodern hospital in March. The new building will include an underwater treadmill, 12 consultation rooms, three high tech surgery suites, and in-house CT and MRI units. Our new hospital is just around the corner from our current location, at 1417 Marshall Avenue in Williston. Rest assured, we will continue seeing emergencies during the move. For more information on the facility please visit our website at  b e v s v t dot com. Thank you for holding.\\u00a0 We\\u2019ll be with you in just a few moments.\",\n",
      "  \"Need help with prior authorizations or have questions about insurance coverage?  Premier Pharmacy Care has billing specialists located on site at the pharmacy.  Our billing department provides fast, accurate adjudication and real-time price validation.  Our billers stay current on all insurance plans and CMS regulations.  We can help develop the most cost-effective solutions for your facility and your residents through optimal insurance coverage.  Interested?  Just ask to speak with the billing department.  Thank you for continuing to hold.\",\n",
      "  \"We\\u2019ll do our best to make sure you never have one \\u2013 but dental emergencies do happen.  At Atlantic Dental, our highly qualified team is here to help when you need us the most.  To meet your unexpected and unique needs, we offer an innovative Lifetime Treatment Plan to minimize the risk of emergency treatment.   In case of emergency, check our website at dentist toms river n j dot com for helpful advice on what to do and when, and count on us for prompt and reliable care in a dental emergency.  Thank you for holding.  We\\u2019ll be right with you.\",\n",
      "  \"You know what makes our work worthwhile? It\\u2019s the compliment you pay to us when recommending family and friends to our practice. And thanks to our special referral rewards program, we can show you just how appreciative we are. If people you care for are concerned with their smiles, please tell them about our office. We are always welcoming new patients, and appreciate your referrals. Thank you for your trust and confidence. And remember to check out our Facebook, Instagram, Yelp and Google pages and feel free to share them with your friends.\",\n",
      "  \"Tired of ho-hum fitness programs that make it hard to stay pumped?  Synergy Fitness offers a variety of cardio, strength training, endurance, kick boxing and fitness classes that keep you as interested and motivated as the day you started.  Choose from Zumba, High Impact Cardio, Abs & Stretch, Kickboxing, Bootcamp, Intense Circuit, Beginner or Power Yoga, Tabata and Boxing Techniques \\u2013 or try them all!   Ready to get started?  Get your free trial pass at synergy fit clubs L I dot com, and ask for a class schedule when we return to your call.\",\n",
      "  \"Chevrolet\\u2019s been in business since 1911, and our famous Chevy \\u201cbowtie\\u201d logo made its debut in 1914.  The contemporary and jaunty Royal Mail roadster, with its great visual appeal and a $750 price tag, was one of the first models to carry the logo.  Whether you\\u2019re looking for a great new or preowned Chevrolet, you\\u2019ll find that same famous logo on all of our models.  Visit our website at bill bunch chevrolet dot com, and search our new and preowned inventory online.  We\\u2019ll help you find just the car you want to buy, at the price you want to pay.\",\n",
      "  \"Have your teeth darkened or discolored with time? Don\\u2019t let stains stop you from showing off your beautiful smile. We can help! If you\\u2019ve been looking to enhance the brilliance of your smile, we provide safe and effective whitening treatments. Sukut Dental utilizes K\\u00f6R whitening technology as well as state-of-the-art take-home whitening trays to dramatically brighten a smile that\\u2019s been darkened by coffee, red wine, soda, tobacco, or time itself. Schedule your whitening consultation when we return to the line,  and smile again with confidence.\",\n",
      "  \"At Premier Pharmacy Care we understand that some medications are time sensitive and can\\u2019t wait to be delivered on the next run.  If you have an urgent order, you must call the pharmacy for a STAT delivery.  Fax your order to the pharmacy and then follow up with a phone call.  This procedure is pharmacy policy to ensure that we have received the order with all the required information and to determine when the medication is needed.  Remember, if the order is time sensitive, call the pharmacy.  Thank you for holding, we appreciate your patience.\",\n",
      "  \"Thank you for calling Truckers Permitting Services, the company you can trust.  Located at 376 Duncan Avenue In Jersey City, simply take exit 15E from the New Jersey Turnpike and follow the signs for Route 1 and 9 North and Jersey City, then turn left at Duncan Avenue, or if it\\u2019s more convenient for you, you can also visit our other location at 701 Spring St, Elizabeth, New Jersey or call that location at 908-351-1085, or on the web at w w w dot truckers permitting dot com.  We appreciate your call and look forward to assisting you momentarily.\",\n",
      "  \"Remanufacturing \\u2013 that\\u2019s how AAH Fluid Power made a name for itself in the hydraulic industry.  Our remanufacturing process is second to none.  Our seasoned technicians and state of the art machine shop enable us to work on obsolete pumps, motors and valves with outstanding success.  Putting an obsolete unit back into circulation can save a customer thousands of dollars in reconfiguration every year.  Ask our representatives how our many reman processes can restore your obsolete equipment and save your company money when we return to your call.\",\n",
      "  \"Planning a party?  At Erma Deli, it\\u2019s our goal to make your event as comfortable and hassle free as possible.  Our extremely friendly, experienced staff has been catering events for 20 to 200 people for over ten years.  The next time you host any gathering of friends, coworkers or family, contact one of our planning specialists.  Whether you choose selections from our regular menu, or work with our catering team for the perfect selections for your group, we pride ourselves on making your event great!  Ask for details when we return to the line.\",\n",
      "  \"If you\\u2019re looking for a great selection of certified pre-owned Ford and Lincoln vehicles you called the right place!  At Whites Canyon Ford and Lincoln we\\u2019ve got what you want \\u2013 and more.  All of our certified vehicles have to pass an extensive inspection and meet rigorous quality standards, and come with a Carfax Vehicle History Report, Peace of Mind Warranty and complimentary road side assistance.  Head online to check out our Certified Pre-owned inventory at Whites Canyon Ford dot com or let us know how to help you when we return to the line.\",\n",
      "  \"Thank you for choosing the office of Dr. Mark Anderton, located at 222 North Mission Street in Wenatchee.   Dr. Anderton and our team view dental care as a lifelong commitment to your health, appearance, and wellbeing.  We provide a full range of cosmetic, preventive, and restorative care for the whole family, and we focus on personalized comprehensive treatment plans for restoring health, function and beauty to your bite and smile.  You\\u2019ll enjoy  our gentle approach and advanced techniques and technology.  We want your teeth to last a lifetime!\",\n",
      "  \"Thank you for calling Gastroenterology Associates of Columbus, where we\\u2019re working together to deliver the best healthcare to you and your family.  From needs as simple as routine colon cancer screenings to the most severe GI disorders, our board certified gastroenterologists are ready to help.  We have two convenient locations to serve you, at 600 Leigh Drive in Columbus and at 2 Professional Plaza in Starkville, and you\\u2019ll find us on the web at columbus g i dot com.   We\\u2019re glad you called!  We look forward to helping you in just a few moments.\",\n",
      "  \"While making plans to visit the Garden, be sure to include dining at Gertrude\\u2019s Restaurant.  Gertrude\\u2019s offers an authentic seasonal experience with top-quality food, libations and service. A full complement of highly rated beer, wine, and spirits meld perfectly with the changing cuisine. As an added feature, Gertrude\\u2019s sources fresh herbs from their patio, which appear throughout the dining and cocktail menus. Gertrude\\u2019s is open for lunch, dinner, and weekend brunch. Reservations recommended. - Learn more at w w w dot gertrudes restaurant dot net\",\n",
      "  \"Laugh lines, crow\\u2019s feet, frown lines and all those little wrinkles around the forehead that steal our youth can be addressed safely and simply with a host of procedures and treatments at Advanced Dermatology Laser & Cosmetic Surgery.  From safe, FDA-approved Botox injections to non-surgical fillers and other injectables such as your own fat, Juviderm, Radiesse, Restylane, Sculptra and others, you can enjoy fuller lips, smoother skin and a more youthful appearance.  Reclaim a younger you with help from Advanced Dermatology Laser & Cosmetic Surgery.\",\n",
      "  \"Any well trained stylist will tell you it\\u2019s all about the cut.  At Artistry Salon, we believe in creating the cut that fits our guest\\u2019s face shape and bone structure.  We want to give you a shape that flatters your best features, and one that you can easily recreate.  All of our stylists have graduated from the best schools and are certified, and they are constantly learning new techniques, products and styles through our continuing education classes and programs.  Book an appointment for a style that\\u2019s just right for you when we return to the line.\",\n",
      "  \"L\\u2019Occitane\\u2019s Shea Butter Hand Cream is world-renowned, and for good reason.  Referred to by customers as \\u201clife changing,\\u201d \\u201ca beauty must-have,\\u201d and \\u201ca hand-bag essential,\\u201d it has been raved about for years.  Sold once every three seconds around the world, our Shea Butter Hand Cream moisturizes and nourishes even the most hard-working hands.  Made with 20% Shea Butter, and enriched with honey and sweet almond extract, this natural beauty balm glides on and absorbs quickly to heal, protect and moisturize.  Try our number one best-selling product today!\",\n",
      "  \"Our website is designed with you in mind!  Visit dogwood animal hospital dot com to meet our pet crazy team, to take a virtual tour, to learn about the wide range of services we provide, to find resources like client forms and boarding requests, to review our pet health library, and to find helpful information on our blog.  You\\u2019ll also find information on our special offers and programs, and you can read our reviews.  Thank you for choosing Dogwood Animal Hospital for your pet\\u2019s comprehensive care.  We look forward to helping you in just a few moments.\",\n",
      "  \"Hello and thank you for calling Sweis, Inc. Your professional beauty resource for products, service, and education. Our business hours are 8:00am to 5:00pm, Monday through Friday. We offer shopping 24/7 on our website  HYPERLINK \\\"http://www.sweisinc.com\\\" w w w dot sweis inc dot com or visit one of our seven professional store locations in Torrance, Lake Forest, Encino, San Diego, East Las Vegas, West Las Vegas, or Reno. For personal service meet with one of our friendly, knowledgeable account managers. Ask customer service to speak with a rep near you.\",\n",
      "  \"At Cantoni\\u2019s Pizza, we\\u2019ve got wings!    Whether your preference is jumbo bone-in, or boneless, try our exciting new flavors!    What\\u2019s your choice?  Hot lemon pepper, extra hot, extra hot with lemon pepper, sweet teriyaki, dry ranch, standard dry rub, lemon pepper, garlic parmesan, buttered Old Bay, sweet habanero, or hot, mild, or barbecue?  Why choose?  Try them all!   Available in a variety of sizes, depending on whether you\\u2019re feeding a crowd \\u2013 or just yourself.  View our menu at cantonispizza.com.  We\\u2019ll be on the line to take your order momentarily.\",\n",
      "  \"Thank you for calling Smile Studio 87. We are excited to be celebrating our 10-year anniversary this Year! We\\u2019ll help you maintain your dental health and improve your confidence with a beautiful smile. Our office hours are Monday 10 AM to 6 PM, Tuesday 8:30 AM to 4:30 PM, Wednesday and Thursday 12 PM to 8 PM, Friday 9 AM to 5 PM, and Saturday 8 AM to 2PM. Please continue to hold and we\\u2019ll return to your call momentarily. Please visit our newly redesigned website at w w w dot smile studio 87 dot com to learn more about how we can fulfill your dental needs.\",\n",
      "  \"The experts at Consumer Guide Automotive have revealed their \\u201cBest Buys\\u201d for 2018 and we are pleased to announce that three of our models have made the cut! The all-new 2019 Chrysler Pacifica has arrived with unparalleled safety features and elegant styling that drives to impress, or check out the all new Ram fifteen hundred, which has the pickup segment very excited with this uniquely superior vehicle.  It\\u2019s rugged and stylish, and will impress in any driveway.   Come and take a look at any of these vehicles and you\\u2019ll see just what all the buzz is about.\",\n",
      "  \"The only thing better than having a snack, is having a snack that\\u2019s also chocolate. A snacking chocolate. Like barkTHINS. Thin pieces of delicious dark chocolate bark packed with other simple ingredients inside like pretzels and almonds and sea salt and quinoa and blueberries. And, every flavor combination is made with real, fair trade, non-GMO ingredients so you can eat them wherever, whenever, and whyever you want. Like when you\\u2019re stuck in traffic. Or in that 30 minute meeting that\\u2019s going for 90 minutes. BarkTHINS snacking chocolate. Pick some up today.\",\n",
      "  \"Moving in or moving out?  You\\u2019ve got enough to do with packing, scheduling, running errands and stress \\u2013 and it\\u2019s hard to find the time you need to really do the cleaning you\\u2019d like to do.  Fayetteville Cleaning Group will find the time for you!   We\\u2019ll take care of everything to make sure your old place is move-in ready for the next residents, or your newly purchased home is spotless and ready for moving in day.  At Fayetteville Cleaning Group, we\\u2019ve been helping people move in the Fayetteville area for over eighteen years \\u2013 and we\\u2019re here to help you too.\",\n",
      "  \"You\\u2019ll find a wealth of helpful information about our policies, procedures and practice, available twenty-four hours a day every day online at nankin dental dot com.  From an introduction to our staff to new patient information and time saving form downloads, there\\u2019s plenty of assistance available on our website.  You can learn about our various cosmetic procedures, view educational videos and take a peek at some of the amazing smile transformations our patients have enjoyed.  Log onto nankin dental dot com.  Be sure to also visit us and like us on Facebook.\",\n",
      "  \"At the heart of our practice is regular preventive care and periodontal therapy.  We are proactive in treating periodontal disease, which unfortunately is quite prevalent in the adult population, and is the leading cause in the loss of teeth and jawbone.  Our hygienists Joanna, Angie and Linda take great care of our patients, and work with our patients to be sure their cleanings, xrays and exams are up to date, as well as utilizing the latest concepts to treat periodontal disease painlessly.  Schedule your next cleaning appointment when we return to the line.\",\n",
      "  \"Is it time to order refills?  If you are down to the last three days of medication, then the answer is yes.  It\\u2019s not necessary to call in refill orders as long as you are ordering them timely.  Keep in mind that all refill orders are sent on the evening delivery and the cut off time for same day delivery is noon.  If your refill order is placed after the noon cut off, you will receive your refill on the following day\\u2019s evening delivery.  Remember, refill orders must be signed by the nurse placing the order.  Thank you for holding, we appreciate your patience.\",\n",
      "  \"Research proves what all of us dog owners know -  dogs can tell when you are sad, and want to make it better. And cats can actually  lower your risk of cancer. Gravity may make the world go round, but the love of our animals makes us feel like their world. Healthy Pet wants to help foster that bond by providing the best advice and options from what you feed, what you treat, and what toys or litter you use. We post helpful pet ownership videos to Facebook, YouTube, and our Healthy Pet Aurora app to make your life a little easier. Just search Healthy Pet Aurora.\",\n",
      "  \"You might just remember when we were telling people to \\u201csee the USA in your Chevrolet!\\u201d  An American legend \\u2013 the Corvette sports car \\u2013 was born in 1953, and the Impala made the fifties and sixties iconic Chevy times.   Looking for your iconic Chevrolet?  Whether it\\u2019s new or preowned, you\\u2019ll find all the help you need on our website at bill bunch chevrolet dot com.  Get an appraisal on your trade, and check our financing tab for help with buying versus leasing, guaranteed financing and prequalifying, too.  We\\u2019ll be happy to help you when we return to the line.\",\n",
      "  \"Dr. Fisher and the caring staff at Artistic Smiles share a commitment to providing personalized treatment to give you the smile of your dreams.  Your first visit will be an exam so we can learn about you and explore your treatment options.  Communication is a vital part of your treatment process, so feel free to ask us any questions along the way.  Another member of our office team is Smiley, our trained patient care dog.  She\\u2019s hypo-allergenic, she\\u2019s a real sweetheart, and she\\u2019ll even sit on your lap during your treatment if it would help you feel more relaxed.\",\n",
      "  \"Anna Jaques Hospital and Beth Israel Deaconess Medical Center: the best of both worlds, right in your corner of it. There are so many things to love about living here, including access to worldclass healthcare. Anna Jaques\\u2019 clinical affiliation with Beth Israel Deaconness Medical Center brings advanced treatment and compassionate care closer to your home. Their medical teams work together to care for you, and they offer easy access to complex treatment in Boston if needed. Extraordinary care and convenience. That\\u2019s the best of both worlds. Learn more at AJH.org.\",\n",
      "  \"We invite you to join us for one of Arizona\\u2019s best holiday traditions when the Desert Botanical Garden celebrates its 41th Annual Las Noches de las Luminarias.  On these magical nights the Garden comes to life in the soft glow of more than 8,000 hand-lit luminarias, thousands of white twinkle lights and the festive sounds of entertainment groups scattered around the Garden. Enjoy dinner at the Fabulous Food buffet then stroll the paths among the magic. Luminarias Southwest elegance and the beauty of the Garden at night sets the mood for the season\\u2019s true meaning.\",\n",
      "  \"Is your child\\u2019s near sightedness getting worse every year?  There is a way to slow that down.  Ask us about Ortho-K or orthokeratology.  Ortho-K is an advanced non-surgical treatment that works while you sleep to improve your vision.  Custom corneal molding lenses are worn every night and removed in the morning.  You wake up to clear vision.  Your child could swim, play, and live life without daytime contacts or glasses while helping to prevent their eyes from getting worse.  Adults can do Ortho-K as well.  Schedule a consultation to see if this is right for you.\",\n",
      "  \"What is PACE?  PACE is national program of\\u00a0comprehensive care for adults 55 years of age and older who meet the criteria for nursing facility placement, but prefer to stay at home.\\u00a0PACE\\u00a0promotes independence and the highest levels of functioning while allowing choice and dignity for members and their families. The Centra PACE mission is to enhance life for older adults with chronic needs by providing care and services from a team of compassionate, qualified professionals. PACE is located at 1530 S. Main Street in Farmville. Call 434.315.2890 for more information.\",\n",
      "  \"What is PACE?  PACE is national program of\\u00a0comprehensive care for adults 55 years of age and older who meet the criteria for nursing facility placement, but prefer to stay at home. PACE\\u00a0promotes independence and the highest levels of functioning, while allowing choice and dignity for members and their families. The Centra PACE mission is to enhance life for older adults with chronic needs by providing care and services from a team of compassionate, qualified professionals. PACE is located at 1530 S. Main Street in Farmville. Call 434-315-2890 for more information.\",\n",
      "  \"Contrary to popular belief, cellulite does not respond to weight loss and exercise.  Cellulite is not fat, but a buildup of toxins.  At Advanced Health and Wellness Center, our organic body wraps use herbal formulations that benefit your body both internally and externally, increasing circulation and removing toxins from your body.  Sculpt and slenderize your physique and lose inches by breaking down cellulite this exciting, natural and completely safe way.  Ready to find out how our body wraps can work for you?  Schedule an appointment when we return to the line.\",\n",
      "  \"You have four great reasons to finish your Bachelor\\u2019s degree at Merrimack College. One - we\\u2019re laser-focused on preparing you for the career you want with the skills that today\\u2019s employers seek. Two - you get the flexibility and convenience of evening classes. Three - you\\u2019ll find everything you need to succeed. And four - it\\u2019s WAY more affordable than you think. Finish what you started at Merrimack and get the support you need for personal and academic success. Learn more at our info session on August 1st at 6 p.m. Register at merrimack dot E-D-U forward slash info.\",\n",
      "  \"Do you envy those dazzling white smiles on the red carpet?  A whiter, more photogenic smile can be yours with help from Dr. Bear.   Over the counter whitening products offer minimal results and may actually be harmful, while professional teeth whitening uses medical grade solutions for the safest, most effective and long lasting results. At Bear Family Dentistry, we provide professional in-office and take-home bleaching and whitening options, and we\\u2019ll be happy to discuss the differences with you.  Ask to schedule your smile makeover when we return in just a moment.\",\n",
      "  \"Periodontal disease is much more serious than many of us realize. \\u00a0Yes, it can cause bleeding gums, bad breath, and other oral problems, but did you know that it has also been linked to some overall health problems? \\u00a0We can help prevent periodontal disease, but we need you to do your part.  That means bringing your pet in for a dental examination and a possible dental cleaning including a digital dental x-ray. \\u00a0It also means keeping up with brushing and oral hygiene for your pet as well.  Together, we can help your beloved pet live their best life for years to come.\",\n",
      "  \"IT\\u2019S GETTING CLOSE TO LUNCH TIME.\\u00a0 WHAT\\u2019S YOUR STOMACH RUMBLING FOR?\\u00a0 IF IT\\u2019S A TASTY BURGER, YOU SHOULD BE HEADING TO WENDYS!\\u00a0 WENDY\\u2019S USES FRESH--NEVER FROZEN--BEEF SO THEIR MADE-TO-ORDER BURGERS GRILLED UP HOT, JUICY AND DELICIOUS.\\u00a0 IF YOUR STOMACH IS CRAVING A SALAD, TRY OUR BERRY BURST CHICKEN SALAD!\\u00a0 IT\\u2019S MADE WITH FRESHLY GRILLED CHICKEN, HAND-CUT STRAWBERRIES, FRESH BLUEBERRIES AND RASPBERRY VINAIGRETTE TO CREATE A SALAD BURSTING WITH BERRIES!\\u00a0 EXPLORE OTHER DELICIOUS LUNCH OPTIONS AT WENDYS.COM AND HEAD TO YOUR NEAREST WENDY\\u2019S FOR A MOUTH-WATERING MEAL TODAY!\",\n",
      "  \"Whites Canyon Ford and Lincoln carries the largest selection of new Ford and Lincoln vehicles in the area.  We carry the number one selling Ford F-series trucks for 41 years and counting. Check out the all-new 2018 Ford EcoSport and the completely redesigned 2018 Ford Expedition.  We invite you to check out our premium line of Lincoln vehicles.  The 2018 Lincoln Navigator has been stunningly redesigned and is really a sight you must see to believe!  Our Sales hours are Monday through Saturday 9am to 6pm and you can find our new inventory at Whites Canyon Ford dot com.\",\n",
      "  \"At the Avian and Exotic Animal Hospital, we know that knowledge is the best medicine when it comes to your exotic pets.  With this in mind, we are happy to offer you humans all kinds of useful information by way of our comprehensive, user-friendly website.  Just log onto www (dot) doctor\\u2014that\\u2019s d-r exotic (dot) com, and not only will you learn all about us, but you can find care tips, links to several exotic animal resources, and so much more.  Maybe even a photo of your special friend. It\\u2019s just another way we get to provide you and your pets with the best care around.\",\n",
      "  \"Choose the Doctors the Doctors Choose! Dr. Ferguson is board-certified by the American Board of Ophthalmology and by the American Board of Eye Surgery where his surgical skills are periodically evaluated by an independent board of eye surgeons. Dr. Ferguson has attained subspecialty certification in both cataract and LASIK surgery. He has performed over 95,000 total ophthalmic procedures.  His board-certification and various recognitions set him apart from other LASIK and cataract surgeons, assuring that you will receive the best quality care at Commonwealth Eye Surgery.\",\n",
      "  \"Our furry patients are all individuals with different environments, activities and lifestyles... and we take this into consideration as we make our recommendations about which vaccines and parasite preventatives are appropriate for your pet.  In Virginia, our pets can be affected by blood-borne illnesses year round. Mosquitos and ticks carry deadly diseases such as Lyme disease and heartworm disease. We at Bay Beach Veterinary Hospital feel that screening for these diseases is so important for your pets that we have now incorporated this test into your pet\\u2019s annual exam.\",\n",
      "  \"NATURE\\u2019S PATH FOODS KNOWS THAT WHEN YOU CHOOSE WELL, GOOD THINGS GROW. WITH NATURE\\u2019S PATH CEREALS AND SNACKS, YOU CAN EAT WELL, AND FEEL CONFIDENT IN THE FOOD YOU SERVE YOUR FAMILY. THEIR PRODUCTS ARE MADE WITH PREMIUM, 100 PERCENT ORGANIC INGREDIENTS THAT YOU CAN ALWAYS RECOGNIZE. NATURE\\u2019S PATH MAKES DELICIOUS FOOD BUT NOT AT THE SAKE OF THE ENVIRONMENT. EVERY TASTY TREAT IS CRAFTED WITH THE LONGEVITY OF THE EARTH IN MIND. LEARN MORE ABOUT THE BENEFITS OF ORGANIC FOOD AND THEIR SUSTAINABILITY PLEDGE AT NATURESPATH.COM. NATURE\\u2019S PATH: ALWAYS ORGANIC AND ALWAYS DELICIOUS.\",\n",
      "  \"Finish your treatment with exceptional results in less time and fewer appointments with PROPEL, the new technology that works with your own biology by stimulating the bone that surrounds the teeth.  The PROPEL system provides innovative devices and procedures expediting tooth movement safely and easily. Propel can be used in combination with current orthodontic treatments including Invisalign and traditional braces, to move teeth into their desired position in half the time.  Enjoy a perfect smile faster than ever before!  Ask us about PROPEL when we return to your call.\",\n",
      "  \"Choose the Doctors the Doctors Choose! Dr. Ferguson is board-certified by the American Board of Ophthalmology and by the American Board of Eye Surgery, where his surgical skills are periodically evaluated by an independent board of eye surgeons. Dr. Ferguson has attained subspecialty certification in both cataract and LASIK surgery. He has performed over 81,000 total ophthalmic procedures.  His board-certification and various recognitions set him apart from other LASIK and cataract surgeons, assuring that you will receive the best quality care at Commonwealth Eye Surgery.\",\n",
      "  \"Did you know that Advanced Health and Wellness Center also features a full service fitness center complete with cardio equipment, strength and free weight machines and locker rooms.  We offer a variety of classes and programs including Silver Sneakers, Spinning, Yoga, Zumba, Bootcamps, CrossFit and Personal Training. We believe that combining quality care with specialized workouts help our patients take their care to the next level. Interested in seeing what our fitness center has to offer?  Ask to speak to one of our membership representatives when we return to your call.\",\n",
      "  \"Do you suffer from knee, upper back or shoulder pain?  Advanced Health and Wellness Center offers FDA approved joint injection for knees with virtually no side effects that simultaneously works as a natural lubricant and an anti-inflammatory.  Upper back and shoulder area pain can benefit from trigger point therapy.  Trigger points are knots formed when muscles do not relax.  Trigger point injections are small needles that go into the area of muscles surrounding the spine that are tight and bound up, providing relief from pain.  Ask for details when we return to your call.\",\n",
      "  \"How will your child be evaluated at the Speech Improvement Center?  We may use a number of standardized tests, observations, developmental checklists, and we\\u2019ll collect a speech and language sample.  It may take several sessions to obtain enough information to make a diagnosis and plan for therapy, and an evaluation can include a collaboration of professionals such as speech-language pathologists, audiologists, social workers, psychologists and neurologists, all working together to develop a plan for your child\\u2019s unique needs.   We\\u2019ll be on the line to help in just a moment.\",\n",
      "  \"Are you a builder in Northern Colorado?  A-Concrete provides concrete flatwork for commercial and new residential construction, as well as for existing residential projects. We are happy to service over twenty of the largest builders in the area, handling over 400 new homes per year.  We can fulfill all your concrete flatwork needs, and we\\u2019d love to build the same great relationship with you that we have with our many other satisfied clients.  Like us on Facebook and view our work on Mega Decks on the DIY network to learn more.  Thank you for holding.  We\\u2019ll be right with you.\",\n",
      "  \"You depend on your car for shopping, for traveling to work and for spending fun time with family and friends \\u2013 so make sure your vehicle is in peak condition to take on the cold and snowy winter weather that\\u2019s right around the corner.  At Bill Bunch Chevrolet, we\\u2019re offering a winter service special including oil change and tire rotation starting at $39.95, and a coolant flush for only $69.95.  You\\u2019ll have a vehicle you can depend on, and you can pocket a little extra cash for fun when the weather gets warmer, too!  Schedule your service appointment when we return to the line.\",\n",
      "  \"At Arizona Auto & Radiator Repair, we love our customers!  We accept all insurance, and offer convenient towing, rental car assistance, shuttle service, early bird and late dropoff to accommodate your busy lives.  We believe in giving back to our loyal customers \\u2013 ask us about our loyalty points program, and be sure to ask about our current specials!   No wonder we\\u2019ve been husband tested, wife approved, and customer loved since 1997!  Visit our website at a z auto repair dot net and find out what our customers are saying about us.  We\\u2019ll be on the line to help in just a moment.\",\n",
      "  \"Thinking about a membership?  Ready to get started?  At Synergy Fitness, we invite you to experience our facilities and programs for yourself before you make that commitment to building a healthier you!   See our club for yourself with a free trial membership.  Sign up online at synergy fit clubs L I dot com for a free guest pass, or let us know you\\u2019d like to give us a try when we return to your call.  Thank you for choosing Synergy Fitness!  We look forward to partnering with you to achieve your health and fitness goals.  We\\u2019ll be on the line to help you in just a few moments.\",\n",
      "  \"At Thomas Service Company, we\\u2019re proud to represent the most prestigious appliance products in the industry. As a Certified Service Provider all of our technicians are factory-trained and certified. And we keep learning!  In order to stay current with cutting edge technology, we regularly attend factory trainings both locally and right at the Sub Zero/Wolf/Cove Asko training facility where training is given by the actual product engineers.   We are the only certified Factory service company in the area. We know Sub-Zero, Wolf Cove and Asko.  Ask us for more details when we return!\",\n",
      "  \"At Fayetteville Cleaning Group, we believe that a clean home is a happy home!  Why spend precious quality time cleaning when you can come home from a long day at work to a beautiful, spotlessly clean house?  For over eighteen years, Fayetteville Cleaning Group has been giving our busy clients the precious gift of time \\u2013 time to enjoy evenings relaxing, weekends that are fun and carefree, and down time that truly is down time.  Don\\u2019t you deserve to enjoy your free time without having to worry about cleaning the house?  Ask for a free quote on our services when we return to the line.\",\n",
      "  \"Thank you for calling Center for Holistic Dentistry, the home of quality, wellness-focused cosmetic and general dentistry.  We blend the art and science of oral care with a keen awareness of whole health for beautifully healthy dental solutions.  As a holistic practice, our top priority is always your health and safety, while we provide state of the art comprehensive dental care.  You\\u2019ll find us at 12381 Wilshire Boulevard Suite #103 in Los Angeles, and on the web at center for holistic dentistry dot com.  We\\u2019re glad you called!  We look forward to helping you in just a few moments.\",\n",
      "  \"Do you have nurses who need additional training in IV administration?  Premier Pharmacy Care offers an IV class that meets the board of nursing training requirements.  It is a full day class with instructional education and hands on practice.  We also offer in-services on the use of hypodermoclysis therapy and IV focused training such as PICC lines and dressing change.   Other clinical services we can provide are med cart audits and survey prep.  If you are interested in any of these services, ask a pharmacy staff for more details.  Thank you for holding, we appreciate your patience.\",\n",
      "  \"LOOKING FOR AN EXCITING NEW FOOD EXPERIENCE OR NEW PLACE FOR DATE NIGHT, GIRLS NIGHT, OR NIGHT OUT WITH FRIENDS. CHECK OUT THE JP FUJI GROUP IN SOME OF THE MOST PREMIER LOCATIONS IN BOSTON. VISIT FUJI AT KENDALL, FUJI AT ASSEMBLY ROW, FUJI AT INK BLOCK, OR FUJI AT W-O-C, FOR FRESH AND DELECTABLE JAPENESE CUISINE. INVENTIVE SUSHI ROLLS, TRADITIONAL SZCHUAN, OMAKASE, WINE, SPIRITS, AND COCKTAILS. FUJI ALSO HOLDS FUNCTIONS AND OFFERS CATERING SERVICES. VISIT ANY FUJI LOCATION FOR A WAIT FREE DINING EXPERIENCE OR VISIT JPFUJIGROUP.COM TO FIND OUT MORE ABOUT THESE FOUR LOCATIONS AND MORE!\",\n",
      "  \"At Ozark Mountain Pizza, we have something for everyone!  Pizzas in all styles and flavors, including our specialty pizzas like bacon cheeseburger, Philly cheesesteak, chicken fajita, taco, chicken alfredo, BLT and more.   Not in the mood for pizza right now?  Find your delight in our wide selection of sandwiches and salads.  Want to stay home tonight?  Our quick delivery service will bring your food, piping hot, right to your front door.  At Ozark Mountain Pizza, we promise you an amazing meal.  Check us out at Ozark m t pizza dot com for our complete menu.  We\\u2019ll be right with you.\",\n",
      "  \"At Atlantic Dental, our website is designed with you in mind!  Visit dentist toms river n j dot com to watch an informative video, to read our reviews, to connect with us on social media, to learn about a variety of dental procedures and to meet our caring staff.  When you visit, you\\u2019ll be treated with state of the art equipment by our highly trained, professional staff, in our comfortable environment where you are treated with trust and respect.  Thank you for choosing Atlantic Dental for your family\\u2019s comprehensive dental care.  We look forward to helping you in just a few moments.\",\n",
      "  \"A cutting-edge cardiac catheterization or \\u201ccath\\u201d lab has opened at Centra Southside Community Hospital. This cath lab gives patients access to the most minimally invasive techniques available to diagnose and treat cardiovascular disease. Dr. Rakesh Jain leads the interventional cardiology program and brings over thirty years of experience to CSCH.\\u00a0 Dr. Jain is board-certified in cardiovascular disease and internal medicine through the American College of Cardiology, American Board of Internal Medicine, and Virginia Board of Examiners. Dr. Jain specializes in interventional cardiology.\",\n",
      "  \"You\\u2019ll find our specials posted daily on erma deli dot com, Facebook and Instagram!  Hungry for our delicious made-fresh pizza?  Ask about our two 18\\u201d pies for $19.99 or our two 16\\u201d pies for $18.99, and the Erma Deli\\u2019s famous 2 2 2 \\u2013 that\\u2019s two 16\\u201d plain pies, 20 jumbo wings and two 2 liters of soda for just $38.00!! Erma Deli offers a reward program for large pizzas and sandwiches.  Collect 12 sandwich cards and get the next sandwich free!  Collect 12 coupons on the box of a large pie and get your next PLAIN pie free! Check our full menu at erma deli dot com.  We\\u2019ll be right with you.\",\n",
      "  \"Is your warm or cool air going through the roof?  During the summer months, it\\u2019s a great time to take stock of your furnace and take steps to improve your home so that next winter you\\u2019ll be warm and cozy.  Winter and summer, an insulated attic is your best defense against the loss of the warm or cool air in your home.  At Hall Air Conditioning, we\\u2019ll insulate your attic for better retention of heating and air conditioning, which will save you money on heating and cooling costs as well as provide you with a more comfortable home year round.  Ask us about attic insulation when we return.\",\n",
      "  \"Grand Dental is not your typical dental office.  We go out of our way to put your needs first, catering to your schedule with family friendly hours, including Saturdays!  With seven state of the art locations around Chicago, we make getting the excellent dental care you need convenient and easy.  We offer a full range of services in Aurora, Channahon, Franklin Park, Lake Zurich, Naperville, Sycamore, and Wilmington, for comfortable care from an experienced dental team you can trust.  Learn more about us at grand dental group dot com.  Thank you for holding!  We will be with you shortly.\",\n",
      "  \"Whites Canyon Ford and Lincoln carries a large selection of certified pre-owned and used vehicles.  All of our certified vehicles must pass an extensive 172 point inspection and meet rigorous quality standards.  They also come with a Carfax vehicle history report, a peace of mind warranty and complimentary road side assistance.  Buying a Certified pre owned from Whites Canyon Ford and Lincoln is like buying a new car at a used price!  Our sales hours are Monday through Saturday 9am through 6pm and you can find our used inventory at Whites Canyon Ford dot com. Thank you for your patience.\",\n",
      "  \"Now is the perfect time to join Centra and elevate your career! Centra Medical Group has several primary and specialty care locations throughout the Farmville and surrounding area with opportunities for RNs, LPNs and Certified Medical Assistants. A variety of schedules are available including full-time, part-time and PRN. Enjoy a Monday thru Friday schedule with an occasional Saturday morning on rotation. Centra Benefits include competitive compensation, comprehensive benefits, a matching 403(b) plan, and education assistance.  For more information please visit be a centra nurse dot com.\",\n",
      "  \"Simple, versatile, beautiful and natural looking: cosmetic porcelain veneers are a wonderful way to improve your smile.  Crafted from the highest quality materials, your veneers are bonded with the most advanced and proven adhesives available by the experienced professionals at Nankin Dental Associates.  Correct discolored, worn down, cracked and chipped teeth and close unsightly gaps between teeth.  You\\u2019ll love sharing your new smile after you\\u2019ve received veneers from Nankin Dental Associates.  Learn more about veneers and other cosmetic dental procedures online at nankin dental dot com.\",\n",
      "  \"Ask about our current specials!  At Brow Obsession By Anarkali\\u00ae, when you get your eyebrows done, receive an eyebrow or eyelash tinting for 50% off \\u2013 that\\u2019s $22 for eyebrows and tinting, a $32 value.  View our before and after photos and our complete price list for services at brow obsession by anarkali dot com, and schedule your appointment when we return to your call.  We also offer a nose blackhead removal, which removes all of the blackheads and whiteheads, a $6 add-on with your eyebrow threading!\\u201d Ask about our high definition eyebrows on your next visit, or when we return to the line.\",\n",
      "  \"Thank you for calling Brow Obsession by Anarkali\\u00ae, where your beautiful brows are our obsession.  You have reached us outside our normal working hours of Sunday through Wednesday from 10am to 7pm, and Thursday through Saturday from 10am to 8pm.  Please call us back during those hours, or book an appointment online 24/7 at brow obsession by anarkali dot com.   Thank you for choosing Brow Obsession by Anarkali\\u00ae.  Our menu of services include Brow Threading, Lash &Brow Tinting, Brow Taming , Eyelash Extensions ,MicroZones skin treatments , Age Lock facial peels , full facials and body waxing .\",\n",
      "  \"Thank you for calling Arizona Auto & Radiator Repair, where we\\u2019ve been husband tested, wife approved and customer loved since 1997.  Family owned and operated, we\\u2019ve been voted \\u201cBest of the Vista\\u201d top shop in the Sierra Vista Herald for three years in a row, and we\\u2019re also top rated in Google for community highest rated and most reviews.  We\\u2019re conveniently located at 1255 East Fry Boulevard in Sierra Vista, and you can find us on the web at a z auto repair dot net.  Don\\u2019t forget to ask about our current specials!  We\\u2019re glad you called.  We look forward to helping you in just a few moments.\",\n",
      "  \"Summer is almost over but it\\u2019s not too late to check out LEGOLAND Discovery Center Boston! DISCOVER THE ULTIMATE INDOOR LEGO PLAYGROUND AND IMMERSE YOUR FAMILY IN A WORLD OF CREATIVITY AND FUN with two lego themed rides, a mini Boston made out of lego bricks, and so much more! CONVENIENTLY LOCATED AT ASSEMBLY ROW IN SOMERVILLE WITH garage PARKING AND DIRECT ACCESS FROM THE T. FOR MORE INFORMATION and to see our special events VISIT LEGOLAND DISCOVERY CENTER DOT COM. And STOP BY your local friendly\\u2019s restaurant TODAY to pick up an exclusive LEGOLAND discovery center buy one get one free coupon!\",\n",
      "  \"Got a passion for classic cars?  At Budget Auto Repair and Transmission, we\\u2019re passionate about cars, and we\\u2019ll treat your pride and joy with the respect it deserves.  We\\u2019ve restored several pre-1970 cars to show quality perfection, and we have the expertise, the literature and parts resources to handle any classic car job, big or small.   If you have a classic that needs restoration, needs to get up and running again, or just needs a minor service or repair, trust Budget Auto Repair and Transmission to get that beauty of yours on the road to enjoy.  We\\u2019ll be back to help you in just a moment.\",\n",
      "  \"Healthy teeth need healthy gums and bones for support.  Periodontal, or gum disease, causes bleeding, swollen gums, bone loss, and if left untreated, can lead to the loss of otherwise healthy adult teeth.  At Rose Dental, we believe in preventive exams and treatment to control gum disease, and we use the latest conservative laser therapy for gum disease treatment. The laser gently disinfects and evaporates diseased tissue from around the tooth and inside the gum pocket, for treatment that is gentle, less painful, and with a quick recovery.  Schedule a periodontal exam when we return to the line.\",\n",
      "  \"The experts at Consumer Guide Automotive have revealed their \\u201cBest Buys\\u201d of 2016, and it is with great pleasure that we announce that five Chrysler Group LLC models have made the cut.  The all new 2017 Chrysler Pacifica is here, with unparalleled safety features and the elegant styling that drives to impress! As far as Pickup Trucks go, it\\u2019s the Ram 1500 had soared past the competition.  The Dodge Durango scored tops among Large SUV\\u2019s and the Dodge Journey was singled out as the Midsize Crossover you need to own!  Take a closer look at any of these vehicles and you\\u2019ll see what all the buzz is about.\",\n",
      "  \"At AAH Fluid Power, our test stand is one of our greatest assets.  Every pump, motor and valve is tested to OEM specifications, with every unit being 90 percent efficient or better, exceeding industry standards that are set at 85 percent.  We push units to beyond industry standards.  We want our customers to know that we can be trusted to supply only the very best components that can hold up to some of the toughest environments and situations. And every unit is supplied with a test report.  Learn more about our commitment to customer service and satisfaction on our website at a a h fluid power dot com.\",\n",
      "  \"Tony\\u2019s Specialty\\u00a0 Show is coming soon on Wednesday, August 24 in San Francisco.\\u00a0 Join us for a day of tasting, discovering and purchasing a wide variety from Tony\\u2019s Specialty Items. The Show is 10am to 4pm and is located at the beautiful Fort Mason Center.\\u00a0 We will also be featuring a new selection of vendors and items from UNFI and we are very excited about them joining the show!\\u00a0 If you are interested in signing up to purchase Tony\\u2019s and UNFI items, please let us know BEFORE coming to the Show, and we will get you signed up.  Register today for Tony\\u2019s Specialty Show today at tony\\u2019s fine foods dot com.\",\n",
      "  \"Did you know that you can order bottled beer \\u201cto go\\u201d with your next take out order?  Or try one or more of our unique craft beers, available in pitchers or 16 oz. cups when you\\u2019re waiting for take-out or dining in with us.  Available on tap is Bud Light, Big Timber Porter, Big Timber Blonde, and Moth Man.  Or choose your favorite bottled beer from Budweiser, Bud Light, Michelobe Ultra, Yuengling, Blue Moon, Dos Equis, Hoegaarden, Land Shark, Shock Top, and Yuengling Black & Tan.  Arrive a little early to pick up your pizza or take out order, and enjoy a cold beer while you wait!  We\\u2019ll be right with you.\",\n",
      "  \"At Synergy Fitness, you set your own fitness goals, and we help you get there, at your pace.  Choose an intense Zumba class experience, a concrete workout and nutritional plan with a certified trainer, a one-on-one boxing session, or a quiet morning of yoga.  We are proud to offer a unique range of services including TRX Training, Sports Specific Training and Boot Camp.  Synergy has a unique fitness solution for every client.  Learn more about us and the services we provide at synergy fit clubs L I dot com, sign up for our mailing list, and ask about a free trial gym membership when we return to the line.\",\n",
      "  \"Thank you for calling Concierge Veterinary Hospital of Naples, a partner for life for you and your family pets.  We offer a unique veterinary experience where modern technology and design mix with years of experience, compassion and exceptional care for your furry friends.  We\\u2019re proud to be one of the only full service animal hospitals in our area that is open to serve you seven days a week, and we even make house calls.  We\\u2019re located at 2355 Vanderbilt Beach Road in Naples, and you\\u2019ll find us on the web at c v h f l dot com.  We\\u2019re glad you called!  We look forward to helping you in just a few moments.\",\n",
      "  \"Got a big family gathering coming up?  Cooking dinner for 20 people?  Here\\u2019s a tip.  If you have a self-cleaning oven, the time to clean it is about a month before your occasion.  Self-cleaning puts a lot of strain on any oven and cleaning it the day before you need it for a big dinner is a recipe for disaster.  Mark your calendar in advance to self-clean your oven just in case you end up needing a last-minute repair.  And if you do \\u2013 we\\u2019ll be there to help!  Visit our website at Thomas service co dot com to learn more about us and the services we provide.  Thank you for holding.  We\\u2019ll be right with you.\",\n",
      "  \"Did you know that your pet is frequently exposed to organisms that can cause disease or sickness? Yes, even those that live indoors. What\\u2019s more, pets age seven times faster, on average, than we do. This means major health changes can occur in a short amount of time. In order to protect your pet, our veterinary staff highly recommends twice yearly wellness exams for all pets age six and over. By doing this, you will help detect, treat, and ideally, prevent serious health problems before they pose a risk to your pet. We will be more than happy to answer any questions you may have concerning your senior pet.\",\n",
      "  \"We understand that you may feel uneasy about leaving your pet the next time you go away.  What if we told you that while you were gone, your pet would enjoy the same care and attention they receive during appointments?  As a special service for our patients, we are happy to board your animals while you are away.  Our indoor runs are climate controlled, plus we walk your dogs outside up to three times a day\\u2026even on weekends!  All we ask is that your pet be up to date on all vaccinations including Distemper, Rabies, and Kennel Cough.  Enjoy your trip, and rest assured that your treasured pet is in good hands.\",\n",
      "  \"Did you know that we offer 12 month roadside assistance valued up to $100 just for having your vehicle repaired at Cannon\\u2019s Automotive?  That\\u2019s for any service, no matter how small \\u2013 even if you spend a $1 for a light bulb, we\\u2019ll give you up to $100 in roadside assistance for a full year.  We also offer free loaner cars for our customers to use while service is being performed.  Financing is available for repairs.  Be sure to ask about our 90 days same as cash offer, where you can take 90 days to pay with no interest.  At Cannon\\u2019s Automotive, we appreciate your business, and we go out of our way to show it.\",\n",
      "  \"Spring into a great deal!  Ask about our 15 yard or larger dumpster special, good for up to two tons of household debris.  Seven day rentals include drop off and pick up, no hidden fees, and we recycle.  If you\\u2019re cleaning out a house or apartment, finally getting rid of all that junk in the garage or cellar, settling an estate, or replacing furniture or appliances and want to dispose of the old ones, we will match or beat our competitors\\u2019 prices.  In most cases we can provide same day delivery, too!  Stop putting off all that cleaning \\u2013 Al\\u2019s Rubbish and Container Service has the deal for your dumpster now!\",\n",
      "  \"Spring into a great deal!  Ask about our 15 yard or larger dumpster special, good for up to two tons of household debris.  Seven day rentals include drop off and pick up, no hidden fees, and we recycle.  If you\\u2019re cleaning out a house or apartment, finally getting rid of all that junk in the garage or cellar, settling an estate, or replacing furniture or appliances and want to dispose of the old ones, we will match or beat our competitors\\u2019 prices.  In most cases we can provide same day delivery, too!   Stop putting off all that cleaning \\u2013 Al\\u2019s Rubbish and Container Service has the deal for your dumpster now!\",\n",
      "  \"If your dog is eating a Grain Free Diet, then you may have some concerns.   Recently the Food and Drug Administration reported that Grain Free Diets appear to be linked to heart disease in dogs.   It is unclear what exactly is causing this issue, but it does appear to be a very real problem as many cases have been reported.   Be sure the diet you are feeding your dog is totally balanced and meets current nutrient profiles.  When in doubt, feed your pet a well know national brand of food that does meet current nutrient profiles.  Further information can be found on our website at www.palmeranimalhospital.net.\",\n",
      "  \"At Sukut Dental, we care about your overall health.  That\\u2019s why we include Panoramic x-rays with your exam.  Panoramic x-rays cover a wider area than a conventional intraoral x-ray and, as a result, provide valuable information about the sinuses, tooth positioning, and other bone abnormalities. This examination is also used to plan treatment for full and partial dentures, braces, extractions, and implants.  A panoramic x-ray can also reveal a variety of dental and medical problems like cysts, tumors and oral cancer, osteoporosis, plaque in your carotid artery, and a number of jaw disorders and medical issues.\",\n",
      "  \"Applewood of Brookfield and Applewood of New Berlin both feature private suites with private bathrooms, 24 hour personal care assistance, on-site RN healthcare and medication management, Alzheimers and dementia support, daily home cooked meals provided by a professional chef, on-site beautician services, a wireless nurse call system, delayed egress door safety monitoring, and a stimulating and enriching activity program.  View our photo galleries and schedule a tour on our website at applewood living dot com, or ask for details when we return to the line.  Applewood Senior Living -  a great place to call home!\",\n",
      "  \"For more than 25 years, Dr. Fisher has been both a practicing orthodontist and a recognized leader in the field of orthodontics.  He serves as a teaching faculty member at University of Tennessee Health Science Center and other Orthodontic Residency Programs, and has lectured to orthodontic professionals all over the world.  He has also patented several orthodontic devices that are revolutionizing the course of orthodontic treatment.  A member of the American Association of Orthodontists, and an American board certified orthodontist, Dr. Fisher embraces the orthodontic profession with a passion for excellence.\",\n",
      "  \"Are you a new patient?  Welcome!  We look forward to getting to know you, and to providing superior quality dental care for you and your family.  Please visit dentist toms river n j dot com to meet our caring staff and to learn more about us and the services we provide.  You can also save time during your first appointment by printing and completing our new patient forms before you arrive.  At Atlantic Dental, we have a shared vision of uncompromising excellence in dentistry, and we look forward to earning your trust and exceeding your expectations.  Schedule your first appointment when we return to your call.\",\n",
      "  \"Did you know that the Association of Orthodontics recommends that children come in at the age of 7 for their first orthodontic consultation?  Early detection and Phase One treatment can enable us to help develop the jaw in a way to accommodate all the permanent teeth without extractions and improve how the upper and lower jaw fit together.  It can also improve your child\\u2019s airway and decrease their chances of developing sleep apnea.  At Bella Smile, we offer Phase One treatment to correct crowding, cross bites, under bites, overbites, and severe protrusion. Schedule your child a complimentary evaluation today!\",\n",
      "  \"Thank you for taking the time to call R.R. Lalena Corporation.  Now is the time to stock up on items such as car waxes, compounds, microfiber towels, chamois, wiper blades, anti-fog, windshield wash and antifreeze.  We have a great selection at great prices, brands ranging from Blue Magic, Mothers, New Lexol Leather and Conditioner Kit, Armorall, STP, Blue Coral, Turtle Wax and Meguiars.  Be sure to ask our sales team about our extensive line of car accessories to a full line of Majic products.  Thanks for holding just a moment longer.  A representative will return to the line to assist you as soon as possible.\",\n",
      "  \"Thank you for calling Thomas Service Company.  We provide factory certified service for Sub- Zero Wolf Cove and Asko products.  We\\u2019ve built a reputation for friendliness, quality workmanship, attention to detail and care for a customer\\u2019s home that has created a loyal following.  We are family owned and operated, 70 years in the service industry and we still do business the old-fashioned way \\u2013 because we believe that excellent customer service never goes out of style. We are here to serve you Monday through Friday from 8am to 4:30pm.   We\\u2019re glad you called!  We look forward to helping you in just a few moments.\",\n",
      "  \"Thank you for calling Ozark Mountain Pizza, offering the best pizza in Branson and more!  Count on us for a great night out \\u2013 or right at home!  We\\u2019re the pizza restaurant that is the talk of the town.  We have a complete selection of Italian favorites, including pizza, pasta, fresh salads and sandwiches.  The freshest ingredients, traditional recipes and great service make Ozark Mountain Pizza the premium place to treat the whole family to a delicious, inexpensive and easy meal, whether you\\u2019re at home or on the go!  Find us on the web at Ozark m t pizza dot com.  We\\u2019re glad you called!  We\\u2019ll be right with you.\",\n",
      "  \"Are you a homeowner?  If you are worried that you have termites or have seen evidence of possible infestations, don\\u2019t wait. Your home is your family\\u2019s future.  Keep it safe.  Schedule a free termite inspection today.  A complete inspection will include the exterior of the structure, as well as an interior inspection of all living spaces including the attic, garage and the sub-area if applicable.  Upon completion of the inspection, we will send your report promptly.  Fill out our easy online form at a 1 bonded termite dot com to request a termite inspection, or schedule your inspection when we return to the line.\",\n",
      "  \"Thank you for calling Erma Deli and Pizzeria, where we welcome locals and visitors alike with great food and great value!  Family owned and operated by the Todd family for over 24 years, we\\u2019re proud to offer a wide variety of food prepared fresh daily with top quality ingredients.  We\\u2019re open seven days a week from 7am for breakfast, lunch and dinner, and we offer free delivery as well as catering for all types of events.  You\\u2019ll find us at 635 Breakwater Road in Erma, and on the web at erma deli dot com.  Erma Deli, fill your belly!  We\\u2019re glad you called \\u2013 we\\u2019ll be on the line to help you in just a few moments.\",\n",
      "  \"Proper and regular dental care is vital to your overall health, quality of life, and self-esteem.  Keeping your teeth and gums strong and healthy also enables you to enjoy the lifelong benefit of a beautiful smile.  Along with complete general dentistry for your oral health, we provide a full range of cosmetic dentistry to enhance your appearance and boost your self-confidence.  Whatever your stage of life and whatever your dental needs, trust the expert dental team at  Bear Family Dentistry to give you something to smile about.  Thank you again for holding.  One of our friendly staff will be on the line shortly.\",\n",
      "  \"Are you afraid of the dentist?  It\\u2019s common to experience some anxiety when faced with a dental appointment, but some people avoid the experience entirely, resulting in years of embarrassment and pain.  At the office of Dr. Burch, we offer the option of IV sedation, which allows you to be comfortable, calm and pain free while undergoing your treatment.  You may not even remember having dental work performed \\u2013 and with IV sedation, we can complete more treatment in a single appointment.  If fear has kept you from seeking the dental treatment you need and deserve, ask us about IV sedation when we return to the line.\",\n",
      "  \"Are you looking to transform your smile with cosmetic dentistry?  Do you need to replace a missing tooth with a permanent, durable dental implant?  Are you interested in using sedation dentistry to help ease your fears about treatment?  Grand Dental Group does it all \\u2013 and more!  Our team of talented doctors specializes in everything from dental implants to orthodontics, so there\\u2019s no need to travel to multiple doctors to get the exceptional dental care you and your smile deserve.  With seven convenient locations in the Chicagoland area, we\\u2019re easy to find and we cater to your every need. We\\u2019ll be with you shortly.\",\n",
      "  \"Concrete isn\\u2019t just grey anymore!  With colored concrete in a variety of shades to complement your home and landscaping, concrete has become a decorative statement.  Looking for an economical and versatile way to achieve a high end look for your property?  Stamped concrete can replace popular paving materials such as cobblestone, brick and slate, with greater quality and the long lasting durability that makes it a great investment for your home.  A-Concrete will work with you to find the right color or stamped style to enhance your d\\u00e9cor and property.  Let us walk you through the process when we return to the line.\",\n",
      "  \"Even with a busy holiday season, you have to find time to work out. Be Stronger than the holidays with Orangetheory Fitness. Orangetheory Gives you a total-body workout ensuring you maximize your 60 minutes- giving you more life! Orangetheory Workouts rev up your metabolism and make you burn calories up to thirty six hours after your workout as over. Certified coaches ensure you are performing exercises safely and effectively. try Orangetheory Fitness and jump start your new years resolution, and get results! Visit any of their 20 plus locations including burlington, dedham, and back bay - and your 1st class is free.\",\n",
      "  \"Commonwealth Eye Surgery understands the value of great vision.  That\\u2019s why we offer a variety of intra-ocular lenses and laser surgical technology to our cataract and corrective eye surgery patients.  This includes the use of a Femtosecond laser for cataract surgery, the excimer laser for corneal surgery and advanced technology lenses that correct for nearsightedness, farsightedness and astigmatism.  With our advanced technology, we are able to create a customized plan for our patients to help them achieve their visual goals.  Ask our doctors which lens and surgical technology will help you achieve your visual goals.\",\n",
      "  \"Get a smile you can be proud to share at Atlantic Dental!  Advances in restorative dentistry provide several solutions for replacing missing teeth.  If you are missing more than one tooth, a bridge is an excellent solution.  Bridges are custom made dental appliances that look, feel and function like natural teeth.  Bridges are permanent and are attached using dental implants or your adjacent natural teeth.  If you want to replace your missing teeth for better function and enhanced confidence, schedule an appointment to learn about your options for dental implants, dental bridges and dentures when we return to the line.\",\n",
      "  \"Do you snore?\\u00a0 Or have you ever been diagnosed with obstructive sleep apnea?\\u00a0 Dr. Donohue can create a small dental appliance, like a nightguard, that can be worn to help you breath at night.\\u00a0\\u00a0 There are terrible consequences to not treating obstructive sleep apnea, including:\\u00a0 increased risk of stroke, heart attack,\\u00a0 weight gain,\\u00a0 drowsiness and depression.\\u00a0\\u00a0 Speak to Dr. Donohue or your hygienist about your snoring-- or possible sleep apnea--\\u00a0 to see if you might be a candidate.\\u00a0 It's FAR easier to tolerate than a C PAP machine, and it could save your life!\\u00a0 AND your spouse will be thrilled to hear your snoring stop!\",\n",
      "  \"Missing teeth are more than a cosmetic concern - they affect your diet and health as well.  While dentures provide a simple cosmetic solution, there\\u2019s a better way.  Nankin Dental Associates offers secure, natural-looking dentures secured by dental implants.  These solid, long-lasting tooth replacements are the closest to nature, fastening securely without the slippage that can occur with traditional dentures.  Eat the foods you want without concern, enjoy a more natural look and say goodbye to sore gums and denture adhesives with dental implants.  We\\u2019ll be happy to provide more information when we return to your call.\",\n",
      "  \"Thank you for calling Preferred Choice Cleaning Services, where we\\u2019re here to service all your specialized cleaning needs in Nassau and Suffolk County.  Family owned and operated, we\\u2019re fully licensed and insured \\u2013 and we provide multiple services, including window cleaning, pressure washing, roof soft washing, gutter cleaning, carpet and upholstery cleaning, tile and grout cleaning, air duct and dryer vent cleaning.  Find us on the web at choice cleaning L I dot com \\u2013 and be sure to ask about our multi service money saving discount packages.  We\\u2019re glad you called!  We look forward to helping you in just a few moments.\",\n",
      "  \"Living with missing or failing teeth affects more than just your smile.  It can have a negative impact on your health AND your confidence. Dental implants from Grand Dental Group can change everything!  Patients just like you have trusted our talented team for their expertise in Mini Implant dentistry.  The minimally invasive procedure generally does not require cutting or stitches!  Often, crowns and implant retained dentures can be placed the same day.  You\\u2019ll leave your appointment with a confident, new smile that you\\u2019re proud to show off.  Ask us how Mini Implants can transform your smile when we return to the line.\",\n",
      "  \"Are you looking for authentic pizza in Branson?  Italian pastas, salads and sandwiches?  A casual family atmosphere?  Dine in, carry out, OR quick home delivery? At Ozark Mountain Pizza, we do it all with a large and varied menu that will tempt everyone.\\u00a0 Did you know we offer gluten free crust?\\u00a0 We also have all your favorite toppings, plus more exotic choices like pineapple, banana peppers, artichokes, jalapenos and more.  Ask about our special prices for large group orders \\u2013 no order is too small or too large for Ozark Mountain Pizza!  Please continue to hold.   Your call will be answered in the order it was received.\",\n",
      "  \"Centra Hospice in Farmville helps patients live out the last months, weeks and days of life as fully as possible. Hospice is for individuals seeking comfort and relief of symptoms rather than curative treatment. \\u00a0We\\u00a0serve\\u00a0patients in their homes, assisted living, nursing facilities, and in the hospital. \\u00a0Hospice care\\u00a0extends to the family, caregivers, and friends. Many families say that they wish they had learned about hospice care earlier to give them more time to take full advantage of the services. \\u00a0If you are unsure about whether it is the right time to consider hospice, ask your\\u00a0physician or\\u00a0call us at 434-315-2885.\",\n",
      "  \"At Angelo Termite and Construction, we take a comprehensive approach to Structural Pest control and repair. \\u00a0Our inspection reports create the specifications and scope of work needed, and we provide photos that tell the story, and proposals based on the reports. \\u00a0We offer our professional recommendations and costs for any needed structural repair. \\u00a0After the inspection, best practices and a strategic recommendation will highlight the step by step process we recommend to successfully control any termite infestation and structural damage. Ask for details and schedule an inspection when we return to the line. \\u00a0Jesus is Lord.\",\n",
      "  \"At BlackGold Physical Therapy Center, we never want finances and paperwork to get in the way of your optimum health.  We provide direct billing to most insurance companies if permitted by your policy. In addition, we accept cash, debit, Visa, and MasterCard. Our clinic is also a WCB authorized provider for your work related injuries.  We also provide treatment to out of province work related injuries especially from WSIB (Ontario).  Just download our insurance inquiry form and call your insurance company to get the details of your coverage, and visit blackgold p t clinic dot com, where you can also request an appointment.\",\n",
      "  \"During the Depression, Chevy\\u2019s slogan was \\u201cThe Great American Value,\\u201d with upscale styling and the reputation for dependability that we still enjoy today. The longest running nameplate in auto history is the Chevy Surbuban, launched in 1935.  At Bill Bunch Chevrolet, we know that the key to long life for your vehicle is routine maintenance and quality service.  We offer the customer support you need and deserve before, during and after the sale.  Our friendly, professional staff will exceed your expectations for personal service.  Visit our website at bill bunch Chevrolet dot com to find our more.  We\\u2019ll be right with you.\",\n",
      "  \"If you have lost or damaged teeth, you may find it difficult to smile, eat, and speak with confidence. We can restore that confidence with dental implants, the incredibly lifelike tooth replacements. Not only do they look natural, but they provide excellent anchorage for your existing restorations. Our office is also trained in full mouth implant supported teeth. These \\\"all on 4\\\" restorations offer an immediate solution to replace all your remaining teeth. As opposed to most dental offices, we place AND restore dental implants, saving you time and money so you can show off that smile even more. We will be with you shortly.\",\n",
      "  \"Are you looking to lose weight safely and properly and keep it off?  At Advanced Health and Wellness Center we offer a brand new program to help you do just that.  Our programs educated out patients on how to eat properly.  They stick to their program and meet weekly with our coaches to stay accountable.  The program also offers a variety of services to help them lose weight including: organic body wraps, sauna, exercise with oxygen, whole body vibration therapy and B12 injections.  Want to join our patients who are losing 20, 30 or 40 pounds or more? Ask to attend one of our weight loss seminars when we return to the line.\",\n",
      "  \"Commercial Pest Services? The Pest Rangers offers a wide arrange of commercial services. Specializing in Food Safety and Food Defense- The Pest Rangers provides service for a number of Fortune 500 Companies and Major Brands. Whether your in Food Service, Food Processing, Hospitality, Manufacturing, Warehouse, Education, Healthcare or Retail we have the knowledge and training to serve your business. Our technicians our licensed by the Pennsylvania Department of Agriculture and spend hours each year training with some of the top Universities and Manufactures to be on the forefront of changing technology and regulatory affairs.\",\n",
      "  \"When Ring Protect is set to Away or Stay, it monitors sensors in your home. If a door opens or a sensor detects motion, the system will alarm. If you\\u2019re signed up for professional monitoring with Ring Protect and out of the seven-day practice mode, you\\u2019ll get a call asking if everything\\u2019s ok. If you can\\u2019t be reached, the monitoring center will call your other emergency contact. If either you or your emergency contact confirm that things are wrong or give an incorrect verbal password, the local authorities will be dispatched to you. When they come, they\\u2019ll make sure you\\u2019re ok, then walk through the premises to check the area.\",\n",
      "  \"BlackGold Physical Therapy offers treatment options that go beyond traditional medicine.  Our Registered Massage therapists provide incredibly relaxing, therapeutic and deep tissue massage to meet your individual needs.  Acupuncture promotes healing through the use of small needles, and is based upon the principle that the stimulation of acupuncture points helps to normalize the disrupted flow of energy in the body caused by disease, to aid in healing.  At BlackGold Physical Therapy Clinic, we search the entire world for the best solutions to alleviate your pain.  More information is available on the other side of this call.\",\n",
      "  \"Open Sesame!  On our website, using Sesame Communications you will have the online convenience of accessing all of your patient information 24/7 in a safe and secure environment that exceeds HIPAA requirements.  Simply log in through the patient login tab on the upper right corner of our website for complete access to all of your records, treatment photos, and financial information.  And while you\\u2019re on our site, be sure to review our before and after photos and treatment cases for patients of all ages.  We look forward to providing the same life changing results for you and your family.   Thank you for choosing Bella Smile!\",\n",
      "  \"Your beloved pet is a member of the family \\u2013 and at Concierge Veterinary Hospital of Naples, we provide the level of quality care they need and deserve.  Whether they need preventive medicine, nutritional or behavioral guidance, laboratory services, anesthesia, surgery, dentistry, dermatology, oncology, digital imaging, pain management, or emergency care, Concierge Veterinary Hospital of Naples will provide state of the art services seven days a week.  We also have a pet pharmacy for parasite control products, skin supplements and shampoos as well as other needed pharmaceuticals.  Ask for details when we return to your call.\",\n",
      "  \"Gastroenterology Associates also operates Columbus Endoscopy Center, an ambulatory surgery center accredited by the Accreditation Association for Ambulatory Health Care, in which our board certified physicians perform more than 6000 endoscopic procedures annually.  The surgery center allows us to offer our patients more intimate care, reduced time in our facility, and significant cost savings over procedures performed in a hospital setting.  We are happy to accept most insurance, and we will be pleased to work with patients who have any financial concerns.  Please ask our caring staff for assistance when we return to the line.\",\n",
      "  \"Commonwealth Eye Surgery understands the value of great vision.  That\\u2019s why we offer a variety of intra-ocular lenses and laser surgical technology to our cataract and corrective eye surgery patients.  This includes the use of the Catalys Femtosecond laser for cataract surgery, the excimer laser for corneal surgery and advanced technology lenses that correct for nearsightedness, farsightedness and astigmatism.  With our advanced technology, we are able to create a customized plan for our patients to help them achieve their visual goals.  Ask our doctors which lens and surgical technology will help you achieve your visual goals.\",\n",
      "  \"The mouth is the gateway to the body.  As a holistic practice, we at Center for Holistic Dentistry believe that only high quality, durable, and biocompatible materials should be used for any kind of medical or dental application.   Our practice is both mercury free and mercury safe \\u2013 meaning that we don\\u2019t use amalgam or other mercury products in new restorations, and we are trained in and follow a rigid protocol to prevent mercury exposure and environmental pollution when removing existing amalgam.  Your safety and health is always a top priority at Center for Holistic Dentistry.  We look forward to helping you in just a moment.\",\n",
      "  \"We just can\\u2019t wait to see you and your four-legged friend.  Our hours are Monday through Friday between 7:00 AM and 6:00 PM.  Saturday, we\\u2019re here between the hours of 8:00 AM and 12:00 PM.  For your added convenience, we are happy to offer our customers a drive-thru window to make picking up their pets\\u2019 medications easier than ever.  Please note that the drive-thru is closed between 12 and 1:00 Monday through Friday.  Our doctors have more than fifty years of experience, we hope we can earn your trust when it comes to giving your animals the care they need and deserve.  Thanks so much for calling we will be with you in a moment.\",\n",
      "  \"Thank you for calling Bill Bunch Chevrolet, your local franchised Chevrolet dealer in Higginsville, near Lee\\u2019s Summit and Kansas City.  We\\u2019re smaller, friendlier, and we have lower rent than some of the other local dealerships \\u2013 so we can afford to give you the great car you want at the great price you want to pay.  Why not take a short drive to save a bundle?  We\\u2019re here to serve you Monday through Friday from 8:30am to 6pm, and on Saturday from 8:30am to 5pm.  Come in for a test drive \\u2013 but be careful what you test drive, or you\\u2019ll want to buy them all!  We\\u2019re glad you called, and we look forward to helping you in just a moment.\",\n",
      "  \"Fleas, ticks and heartworms are a year round menace \\u2013 and it\\u2019s important to keep your pet protected 12 months of the year.  At Arlington Animal Clinic, we recommend Heartguard medication for heartworm prevention as well as Vectra Plus flea and tick medication, and ask us about Bravecto \\u2013 the oral flea and tick preventive that is given once every three months.  Remember, even if they are on medication, it\\u2019s important to have your pet tested for heartworm every year.  Don\\u2019t let the parasites that prey on your pet get the upper hand \\u2013 keep your pet on preventive medication year round.  Thank you for holding.  We\\u2019ll be right with you.\",\n",
      "  \"Thank you for calling Advanced Dental Arts of Wesley Chapel, where your smile is our passion!  We\\u2019re committed to excellence and to providing gentle, high quality dental care for you and your entire family.  Our office is warm and inviting, and Dr. Kulangara and her friendly, talented team will make you feel right at home.  We\\u2019re about relationships, not numbers, when it comes to our patients \\u2013 and we want you to enjoy your visit when you come to see us.  You\\u2019ll find us at 27510 Cashford Circle in Wesley Chapel, and on the web at advanced dental arts dot com.  We\\u2019re glad you called!  We look forward to helping you in just a moment.\",\n",
      "  \"Bring your appetite to Erma Deli and Pizzeria and we promise to have something to please!  Check our full menu at erma deli dot com for delicious appetizers, jumbo wings, or one of our large salads.  We have steaks, burgers, hoagies, pizza, calzones, strombolies, and we even serve breakfast starting at 7:00am! Try our Erma Deli fill you belly breakfast\\u2026.2 pancakes, 3 eggs, 2 breakfast meats, toast and home fries for only $8.00.  Be sure to ask about our kids menu and mouthwatering desserts, too!  We\\u2019ll be right with you.  Thank you for choosing Erma Deli, fill your belly!  We look forward to taking your order in just a few moments.\",\n",
      "  \"Whether you have feathers, fur, or scales, we love all of our visitors equally. Dr. Jenkins and Dr. Stout are her to serve all of your exotic needs.  Did you know that we are open EVERY WEEKEND!\\u00a0 With two veterinarians to serve you, there will be plenty of availability for weekend appointments.\\u00a0 The veterinarians will be here to see clients Monday - Thursday from 8 am - 7 pm, Friday from 9-5 pm and every Saturday from 9-2 pm.\\u00a0  Please don\\u2019t hesitate if you have any questions about our schedule and all other matters.  In the meantime, thanks so much for calling.  And, while you\\u2019re waiting, be sure to follow us on Facebook and Twitter!\",\n",
      "  \"Did you know that you can target your skin care issues in just 20 minutes with our Dermalogica MicroZone Treatments!  MicroZone Treatments get you in and get your major skin care concerns taken care of in less time than you take for lunch.  Great for a pre-party prep, for every day skin care needs or for a professional check-up in between professional treatments: whatever your skin needs, MicroZone Treatments deliver in a snap! Just $25 .00 for a 20 minute treatment!  Have you tried one of our prepaid Brow packages?! Do you like saving money! Prepay and save with our discounted Brow Packs! Ask more about our brow packs when connected!\",\n",
      "  \"Thank you for calling Bella Smile, where we believe in providing outstanding orthodontic care in a compassionate environment for the entire family.  We have many different approaches for orthodontic care and we customize our treatments to the needs of each patient.  The first step toward achieving the beautiful, healthy smile you want and deserve is to schedule an appointment.  We have convenient hours to serve you on Tuesday 8am to 5pm, Wednesday 8:30am to 5:30pm, and Friday 7:15am to 4pm.  We are located at 20 Page Street in Hayes Valley/SOMA.  We are glad that you called today!  We look forward to helping you in just a few moments.\",\n",
      "  \"Abington Dental Associates specializes in beautifying smiles, maintaining your dental health and helping you improve your appearance.  Our high-tech office offers multi-specialty services with convenient hours and a caring, friendly staff.  Our office sterilization procedures assure you and your family with the most advanced care available.  And, for your convenience, we accept a variety of financing options including several dental insurance plans, care-credit financing, and more.  Please speak with us about a convenient financing method for you and your family so that you can enjoy the benefits of a healthy smile as soon as possible.\",\n",
      "  \"Thank you for calling Kleydman Dermatology Lasers & Aesthetics, where our mission is to provide the highest quality and best solution for your medical and cosmetic skin needs. We\\u2019re dedicated to excellence and passionate about what we do \\u2013 and we are committed to providing a superior level of care in a friendly and personalized environment. Our state of the art facility is located on the second floor at 2960 ocean avenue in Brooklyn, and you\\u2019ll find us on the web at Kleydman dermatology dot com. We\\u2019re here to serve you Monday through Saturday from 8am to 5pm. We\\u2019re glad you called! We\\u2019ll be on the line to help you in just a few moments.\",\n",
      "  \"Do you currently have a dumpster?  Got scrap metal?  We\\u2019ll pick it up and recycle 95 percent of all salvageable material.  When disposing of any metal products such as gas grills, bikes, exercise equipment and more, please load those items in the back of your unit for recycling.  They don\\u2019t count toward the weight of your dumpster.  Some items do incur additional fees for pickup and disposal or recycling.  Televisions are $30, computer monitors are $10.  If you need to dispose of tires, they are $5 per tire.  Mattresses are $15.  If you have questions about disposal of these or other items, please let us know when we return to the line.\",\n",
      "  \"Do you currently have a dumpster?  Got scrap metal?  We\\u2019ll pick it up and recycle 95 percent of all salvageable material.  When disposing of any metal products such as gas grills, bikes, exercise equipment and more, please load those items in the back of your unit for recycling.  They don\\u2019t count toward the weight of your dumpster.  Some items do incur additional fees for pickup and disposal or recycling.  Televisions are $30, computer monitors are $10.  If you need to dispose of tires, they are $10 per tire.  Mattresses are $20.  If you have questions about disposal of these or other items, please let us know when we return to the line.\",\n",
      "  \"At Dr. Anderton\\u2019s office, we believe that financial concerns should never stand in the way of excellent dental care. We accept all types of insurance, and our specially trained team will help determine how much coverage you can expect from your provider.  If you not have dental coverage, we also work closely with several dental finance companies to design a payment program that fits your personal needs.   For your convenience, MasterCard, Visa, and America Express are always welcome.  We are dedicated to providing quality dental care that is affordable with a caring touch.  Ask for assistance in planning for your treatment when we return.\",\n",
      "  \"Thank you for calling Artistic Smiles Orthodontics, where we bring art and science together to give you the perfect smile.  Our Memphis office hours are Monday \\u2013 Thursday 8:30am to 5:00pm, with a lunch break from noon to one.  We have added a location in the Nashville area, and we are accepting new patients at this Ashland City location. We accept most major insurance plans, and offer financing options to make payment easy.  And, for our Spanish speaking patients, we are pleased to have Monica and Cynthia, Spanish speaking assistants in our office. Please continue to hold and one of our friendly staff will return to your call momentarily.\",\n",
      "  \"If you have missing teeth and thought removable dentures were the only option, you\\u2019ll be delighted to hear that now we can offer a better alternative!  Dental implants are the gold standard in tooth replacement options, offering the benefits of natural feel, appearance and function, rock solid stability that allows you to eat what you want without worries, a lifetime of permanent tooth replacement with good oral health, healthier and stronger jawbones, and a customizable solution for replacing one, multiple or all teeth.  Schedule a consultation to find out if you\\u2019re a candidate for life changing dental implants when we return to your call.\",\n",
      "  \"Dr. Quimby has been in dentistry since 1987. She earned her dental degree from the University of Maryland where she graduated magna cum laude.  You may be surprised to know that before becoming a dentist, Dr. Quimby acquired invaluable dental experience as a dental hygienist.  In addition, Dr. Quimby is a member of the American Dental Association and the Academy of General Dentistry.  Dr. Quimby is dedicated to providing comfortable dental care with progressive, high tech, minimally invasive dentistry utilizing the latest technology from laser to 3D imaging.  She wants to help everyone keep their natural teeth and enjoy a lifetime of smiles.\",\n",
      "  \"At Premier Pharmacy Care we strive to deliver your medications timely and we need your help to do this.  For new admits or a new order, please fax the pharmacy and then follow up with a phone call in order to avoid delays.  The phone call ensures that we have received your order and that we have all the required information.  In order to process new admits we need the following information:  a face sheet, medication list, all allergies, and hard scripts for narcotics and who will be the resident\\u2019s physician at the facility.  For more information on new admit orders, just ask your pharmacist.  Thank you for holding, we appreciate your patience.\",\n",
      "  \"Welcome to White Plains Chrysler, Westchester County\\u2019s only Customer First award winning dealer. Conveniently located at 70 Westchester Avenue in White Plains, we are the areas number one source for new and used Chrysler, Jeep, Ram and SRT vehicles along with an unparalleled parts and service center. You can expect that our valued employees are dedicated to providing you with an outstanding customer experience whether you are looking to buy a vehicle or visiting our service department. You are our number one priority and we strive to exceed your expectations. Thank you for helping us become the leader in customer sales and service satisfaction.\",\n",
      "  \"Whites Canyon Ford and Lincoln is a proud member of the Whites Family of Auto Dealerships that began back in 1914.  The White Family Company is still family owned and operated to this day and we are proud to be one of the Whites Family\\u2019s twenty two dealerships.  We opened our doors in 2011 and have won multiple awards for excellence in Customer Service.  Whites Canyon Ford hopes that you will stop by soon and experience first-hand our award winning customer service!  Our Sales hours are Monday through Saturday 9am through 6pm and you can find us online at Whites Canyon Ford dot com.  Thank you for your patience we will be back with you shortly.\",\n",
      "  \"When it comes to your dog, there is nothing more serious than heartworm.  It starts with just a tiny mosquito, but if left unchecked, this disease can be deadly.  The mosquito carries a parasite that, once inside the body, attacks your dog\\u2019s lungs and other organs.  The earlier heartworm is caught, the easier it is to treat.  For this reason, we urge you to have your dog checked regularly, and give them a dose of Heartgard heartworm prevention once a month.   The keys to heartworm prevention along with so many more helpful tips are available on our website.  Just log onto www (dot) bay city vet (dot) com, and click on the \\u201cclient education\\u201d tab.\",\n",
      "  \"If you have broken or missing teeth and thought dentures were the only option, welcome to the modern world of dental implants!  Dental implants substitute for the roots of missing teeth, serving as a permanent foundation for replacement teeth or a stable anchor for dentures.  With dental implants, you\\u2019ll regain the look, feel and function of your natural teeth, allowing you to speak and smile with confidence and enjoy your favorite foods again.  Learn more about dental implants on our website at copperfield dentist dot com, and schedule an appointment to find out if you\\u2019re a candidate for life changing dental implants when we return to the line.\",\n",
      "  \"Just like people, dogs and cats need regular medical and dental care to maintain good health.  Your pet relies on you for the care they need to enjoy a long and healthy life, so be sure to schedule your dog or cat for annual exams, vaccines and dental checkups.  Left untreated, tooth and gum problems can lead to infections, pain, and even more serious medical issues that can threaten the life of your beloved pet.   At Moore Veterinary Hospital, we perform dental xrays and examine your pet for signs and symptoms of any developing problems to keep them on track for a healthy, long life by your side.  Thank you for holding.  We\\u2019ll be right with you.\",\n",
      "  \"Your child\\u2019s baby teeth deserve the same attention and care that adult teeth receive.  Primary teeth are important for good nutrition, clear diction and good speech habits.  Primary teeth are the gateway to permanent teeth.  Good diet and healthy oral care habits are vital to start your child on the road to a lifetime of good dental health \\u2013 and it\\u2019s also important to schedule regular dental visits starting at age three.  Schedule your child\\u2019s next checkup \\u2013 and your own - when we return to the line.  Dr. Howland realizes you have a choice in your dental care, and appreciates you choosing our office..  We look forward to helping you in just a moment.\",\n",
      "  \"Thank you for calling Palmer Animal Hospital, providing all the services necessary to keep your pet happy and healthy for years to come.  We are located at 9405 Baltimore National Pike approximately 5 miles west of Frederick on Route 40 just outside of Myersville.  Our office hours are 8am to 8pm Monday, Tuesday and Thursday, 8am to 5pm Wednesday and Friday and 8am to noon on Saturday with early drop-off for surgery and grooming available at 7:30am.  We are celebrating our 28th year in business this year.   Thank you to all of our clients for supporting us over the years, allowing us to take care of you pets, and giving us the best job on the planet.\",\n",
      "  \"Dr. Giannelli wants you to understand that periodontal disease is so much more than just a dental issue.  While it does cause oral problems such as bleeding gums and bad breath, did you know that periodontal disease has also been linked to such overall health problems as heart disease, diabetes and stroke?  When it comes to periodontal disease, prevention is the best medicine.  That means coming in to see us at least twice a year for a thorough exam and cleaning and x-rays when necessary.  Plus, we\\u2019ll give you the tools you need to take great care of your smile at home in between visits.  Together, we\\u2019ll keep you smiling bright for many years to come.\",\n",
      "  \"Are you calling with a new order?  Be sure to have all the required information ready.  Your pharmacist will ask for the resident\\u2019s name, date of birth, name of medication and strength, dose and dosage form, time or frequency of administration, route of administration, duration of therapy and diagnosis or indication of use.  All new orders require this information.   If your new order is a CIII \\u2013 V controlled medication, a nurse agent can write and call it in.  All CII orders require a signed written script from the physician which can be faxed.  If you need help with a new order, your pharmacist will be glad to help.  Thank you for continuing to hold.\",\n",
      "  \"Homeowner Associations \\u2013 Angelo Termite and Construction is the only firm in California approved by The California Association Institute to instruct The Davis-Stirling Act Civil Code 4780 when there is the presence of wood destroying pests and organisms to avoid liability exposure to the Association and protect the consumer against hazardous conditions. We offer two certifications from the Community Association Managers International Certification Board for personnel involved in property management and the HOA industry referencing The Davis Sterling Act Civil Code 4780 and Senate Bill SB 721. \\u00a0Ask for details when we return to the line. \\u00a0Jesus is Lord.\",\n",
      "  \"You depend on your vehicle to keep you moving!  At Arizona Auto & Radiator Repair, we\\u2019ll keep you running and reliable with services that are carried out by our certified, expert auto service and repair technicians.  Our team has years of experience performing everything from routine oil changes to complete engine overhauls, and we use high tech diagnostic equipment and only the highest quality replacement parts, filters, oils, and components for your vehicle.  Don\\u2019t forget our three year, thirty-six thousand mile nationwide \\u2013 yes, nationwide \\u2013 warranty to keep you running and on the road wherever you go.  Ask about our current specials when we return.\",\n",
      "  \"Sweis has been a trusted resource for professional beauty products for over 19 years.  This has given us valuable experience when it comes to selecting the right products. We know what tools, education and resources you need to help grow your business. We carry only the best from brands such as Moroccanoil, Living Proof, Loma, Oligo Blacklight & Calura, Keratin Complex, ColorProof, Style Edit, Neuma, Aloxxi Color, Brazilian Bond Builder, Babe Hair Extensions, Reuzel, Verb, Framar, Saints & Sinners, Hydropeptide, and more. To learn more, ask one of our representatives for information. Your call is very important to us. We will be back on the line shortly.\",\n",
      "  \"At Bella Smile, we offer the most up to date advances to Accelerating your Orthodontic treatment. We were one of the first offices in the United States to utilize these techniques thus have the most experience nationwide using Acceledent, Propel, VPro5 and Orthopulse. Dr. Shen Garnett has been recognized as a leader in this and lecturing to teach other orthodontists how to use this. By doing a small procedure, or using an appliance 5-20 minutes a day, we can increase comfort and shorten your treatment time by over 50%.  Learn more on our website at bella smile dot com, and ask if you\\u2019re a candidate accelerating your treatment when we return to your call.\",\n",
      "  \"Nothing radiates self confidence like a healthy, beautiful smile!  If your smile could use a little help to look its best, ask us about a smile makeover.  At the office of Dr. Ronald Howland, we use the most advanced technologies and a variety of dental treatments to give you the beautiful, healthy smile you want and deserve.  From crowns and bridges to dental implants, veneers, teeth whitening, Invisalign and more, we can design the smile makeover you need to achieve the warm and inviting smile you\\u2019ll be happy to share.  Schedule a consultation to find out how cosmetic dentistry can improve your smile \\u2013 and your self esteem \\u2013 when we return to your call.\",\n",
      "  \"Each Applewood resident receives an individualized care program for medication management, daily living needs, meal management, social and recreational activities and more, created by our compassionate and talented team.  Our round the clock staff assures that each suite and the entire residence is clean and well-maintained.  Each Applewood community makes safety and security a priority, while including all the special touches of home.  Visit our website at applewood living dot com to take a virtual tour of our locations, to learn about our services, and to read testimonials from our many happy families.  We\\u2019ll be on the line to help you in just a moment.\",\n",
      "  \"How much will it cost to repair or inspect my transmission?  Does my transmission need routine service to extend the life?  How about extreme heat \\u2013 does it affect my transmission?  I have a foreign car \\u2013 can you repair my transmission?  You\\u2019ll find detailed answers to these and other frequently asked questions on our website at coleman taylor dot com.  At Coleman Taylor Transmissions, we\\u2019re your transmission experts!   We provide preventative maintenance service and minor repairs same day.  Major rebuild services typically take one to two days in most of our transmission shops.  Ask about our free inspection and up front pricing when we return to your call.\",\n",
      "  \"Missing that cool comfort from your car\\u2019s AC?  Over time, your vehicle\\u2019s air conditioning system can become less efficient as system fittings become loose and hoses, seals and O-rings age and dry up, causing refrigerant to leak out.  That\\u2019s bad for your car and for the environment \\u2013 and at Budget Auto Repair and Transmission, we have properly trained and certified technicians with the latest and greatest equipment to handle the job right at affordable prices.  When you \\u201close your cool,\\u201d don\\u2019t wait for AC damage to lead to even more costly repairs.  At the first sign of trouble, bring your car to Budget  Auto Repair and Transmission.  We\\u2019ll be right with you.\",\n",
      "  \"Step into the light \\u2013 and take action to know the condition of your properties. \\u00a0It\\u2019s been said that there are two kinds of buildings \\u2013 ones that have termites, and ones that eventually will. Knowing is half the battle, and if there is a problem, Angelo Termite and Construction can solve it. \\u00a0We are Licensed General Contractor and Structural Pest Control Operators. We know the indicators of termite activity, structural damage and liability exposure, and we know how to resolve the situation before damage and liability increase. \\u00a0Schedule an inspection for a full service response to any problems with your infrastructure when we return to the line. \\u00a0Jesus is Lord.\",\n",
      "  \"CATHOLIC MEDICAL CENTER IS GROWING\\u2026AND THEY NEED TO FILL POSITIONS FAST. MEet THEIR AWARD WINNING STAFF at an upcoming career fair THURSDAY OCTOBER 19TH FROM 10 UNTIL 5PM AT THE DEERFIELD COUNTRY CLUB IN MANCHESTER NEW HAMPSHIRE.\\u00a0 TALK WITH HIRING MANAGERs from PRIMARY CARE, THE OR, ED, RADIOLOGY, LAB, ICU, Departments. THAT\\u2019S THURSDAY OCTOBER 19TH AT THE DERRYFIELD COUNTRY CLUB MANCHESTER LSO IF YOU\\u2019RE LOOKING FOR A NEW CHALLENGE IN AN ATMOSPHERE THAT IS BOTH PERSONALLY AND PROFESSIONALLY REWARDING. HEAD TO THE CATHOLIC MEDICAL CENTER CAREER FAIR THURSDAY- VISIT CMC DOT JOBS.\\u00a0 THAT\\u2019S CMC DOT JOBS.\\u00a0 CATHOLIC MEDICAL CENTER. WHERE EVERY CAREER IS A WORK OF HEART.\",\n",
      "  \"Thank you for call White\\u2019s Canyon Ford and Lincoln located directly off of I-90 at Exit 14 in Spearfish.  We\\u2019re a proud member of the White Family of auto dealerships that began in 1914 and still family owned and operated to this day!  We are proud to be one of the Whites Family\\u2019s nineteen dealerships.  Whites Canyon Ford and Lincoln opened its doors in 2011 and has won multiple awards for excellence in Customer Service.  We hope you\\u2019ll stop by soon for a visit!  Our sales hours are Monday through Saturday 9am through 6pm and you can find us online at Whites Canyon Ford dot com.  We\\u2019re glad you called \\u2013 and we look forward to assisting you in just a few moments.\",\n",
      "  \"To fully understand what we do, you really need to get to the heart and soul of our practice.  Meet Jeffrey R. Jenkins, D.V.M...  Dr. Jenkins is Board certified, and he took his many degrees and accolades and opened the Avian and Exotic Animal Hospital in March of 1987.  He is world-renowned for his lectures, published materials, and has the distinction of being one of the first twenty veterinarians to hold the title of Diplomate within the American Board of Veterinary Practioners in Avian Practice.  Dr. Jenkins is also proud to have served on many prestigious review panels and boards.  But it is the hands on work he does with your pets that means the most to him.\",\n",
      "  \"Small animal surgeons are trained in the diagnosis and treatment of surgical problems including orthopedic, soft tissue, cancer and neurologic surgery.  A veterinary surgeon has undergone additional training after veterinary school\\u00a0in order to become a specialist. This training consists of a\\u00a0minimum of a 1-year internship followed by a 3-year residency program\\u00a0that meets guidelines established by the American College of Veterinary Surgeons (ACVS). Our surgeon, Dr. Garrett Levin is available as a surgical resource for you and your veterinarian based upon your pet\\u2019s diagnosis and surgical needs Monday through Friday. Thank you for holding.\\u00a0 We\\u2019ll be with you shortly.\",\n",
      "  \"At Air Doctor Services, we provide upfront pricing for service work and replacement.  No pressure sales, no hassling follow up calls.  Just upfront, detailed, formal estimates of multiple options for your situation with no hidden surprises.  We\\u2019ll even provide 0% interest financing for Trane equipment for up to 72 months \\u2013 with no money upfront.    And ask about our yearly maintenance plans \\u2013 including two inspections per year with the option to include indoor and outdoor coil cleanings.  We\\u2019ll even provide free drain clearing each time \\u2013 with no overtime rates for service work and discounts on any of our other services.  Ask for details when we return to the line.\",\n",
      "  \"The speech treatment that your child receives will depend upon the severity and type of diagnosis.  Very young children often respond best to parental counseling and language stimulation activities to help enable and support child development.  Structured play tasks may also be used to teach communication skills as well as model language structure and rules of conversation.   Visit our website at speech improvement center dot com to find the milestones of language skills by specific ages, and for the answers to other frequently asked questions.  Thank you for contacting Speech Improvement Center!   We look forward to helping you and your child in just a few moments.\",\n",
      "  \"Here\\u2019s a secret: nature isn\\u2019t responsible for most of those beautiful smiles that grace the covers of magazines.  Most people have imperfect teeth with uneven edges, chips, discoloration and other aesthetic problems.  That\\u2019s where our team at Abington Dental Associates can help.  With cosmetic procedures such as porcelain veneers, crowns and bridgework, teeth whitening, and dental implants, you can have the kind of smile you\\u2019ll want to share.  Plus we can make your smile several shades brighter in with our teeth whitening options.  Please let us know if you\\u2019d like to schedule a consultation so that we may answer all of your questions on the procedure of your choice.\",\n",
      "  \"Thank you for calling Cannon\\u2019s Automotive.  If you\\u2019ve got car trouble, you\\u2019ve made the right call \\u2013 at Cannon\\u2019s Automotive, we fix everything!  Since 1971, we have kept La Porte and its surrounding areas going by providing the very best in repair services.    If something is wrong with your vehicle, we can fix it, and we\\u2019ll do it at a price you can afford.  Ask us about the preventive maintenance your vehicle needs to stop problems before they start \\u2013 or if you\\u2019re stuck and need repairs, our emergency road service is here to help.  We\\u2019ll get you back on the road as soon as possible.  We\\u2019re glad you called today!  We look forward to taking your call in just a moment.\",\n",
      "  \"Bedroom too cold?  Kitchen too hot?  Ask the Air Doctor to balance the air flow in your home to resolve those hot and cold spots and other inefficient airflow issues.  And let us improve your indoor air quality with duct cleaning and air cleaner products.  At Air Doctor Services, we specialize in the HVAC industry.  We don\\u2019t do electrical or plumbing \\u2013 we focus on maintaining our leading edge expertise on HVAC industry products and procedures.  Ask the Air Doctor to make a house call to improve the air quality and flow in your home or business today.   Find us on the web at air doctor services inc dot com.  Thank you for holding.  We\\u2019ll be on the line in just a moment.\",\n",
      "  \"When we say \\u201cfill your belly,\\u201d we\\u2019re not kidding!  Try one of our Bodacious Burgers \\u2013 a half pound of Angus beef!  Our wings are jumbo size with plenty of meat.  And our salads are so big they\\u2019ve been called two meals in one!  Be sure to tempt your taste buds with one or more of our delectable appetizers \\u2013 including sliders, fried broccoli and cheese, fried green beans, beer batter fried mushrooms or onion rings, quesadillas, tacos, poppers, shrimp jammers, chicken tenders and more.  And that\\u2019s just for starters!  Can\\u2019t decide?  Try a munchie sampler!  Find our complete menu at erma deli dot com.  Thank you for holding.  We\\u2019ll be on the line shortly to take your order.\",\n",
      "  \"Do you envy those dazzling red carpet smiles?  Most people aren\\u2019t born with perfect teeth, but modern cosmetic dentistry has put a radiant, healthy smile in everyone\\u2019s reach.  With porcelain veneers,  white fillings, bonding, inlays, onlays, dental implants, teeth whitening, and Invisalign \\u2013 the clear plastic aligners that straighten your teeth without advertising your treatment - Dr. Burch uses his skill, experience and a unique combination of science and artistry to literally redesign your smile.  When you feel good about yourself, it shows!  Project an image of self confidence with a smile makeover from Dr. Burch.  Schedule a consultation when we return to your call.\",\n",
      "  \"Whether you\\u2019ve been in a motor vehicle accident or you\\u2019ve injured yourself at home or at work, we can help.  A consultation with one of our professionals will help in identifying the type of injury you\\u2019ve sustained.  We will then work directly with you to design an effective treatment plan that meets your specific needs.  We will also give you the information to help manage your condition at home. We promise to be with you every step of the way until you are back to performing at the highest level.  And believe us, when that happens, we will be just as excited and proud as you are.  Whether you are an existing patient or a first timer, the road back to health begins now.\",\n",
      "  \"Thank you for calling Abington Dental Associates, winner of the 2017 Readers Choice Awards and Boston Magazine Top Ten Dentist.  We\\u2019re proudly providing the very best in comprehensive dental care for the whole family. Our office is located at 673 Bedford Street in Abington. For your convenience, we offer flexible appointment hours, Monday and Tuesday from 8am to 6pm, Wednesday and Thursday 8am to 7:30 pm, Friday 8am to 2pm and Saturday 8am to 1pm.  We are glad to offer you convenient appointments to accommodate busy schedules.  And, in order to provide a timely schedule to all of our patients, we kindly ask for 48 hours cancellation notice and appreciate your cooperation.\",\n",
      "  \"Take advantage of budget friendly wellness care for your pet with a wellness plan from Dogwood Animal Hospital!  Save money on the preventive care and treatments you already buy for your furry friend with monthly payments that make it easy to manage your pet\\u2019s healthcare costs.  You\\u2019ll get discounted exams, blood tests, breaks on regular vaccines and more.  You\\u2019ll also appreciate the unlimited sick pet exams that make each plan pay for itself.  Go to our website at dogwood animal hospital dot com to click on the plan for your puppy, canine, senior canine, kitten, feline, or senior feline, and find out how much you can save with a wellness plan from Dogwood Animal Hospital.\",\n",
      "  \"We know that diabetes harms the eyes, nerves, kidneys, heart and other important systems in the body, but did you know that it can affect your mouth? People with diabetes are more prone to develop periodontal, or gum disease, which can lead to pain, chronic bad breath, difficulty chewing, and even tooth loss. Diabetes can also slow down the healing process, which can interfere with the treatment of periodontal disease.  Bleeding gums, chronic bad breath, dark red gums, exposed roots and teeth sensitivity are all symptoms of gum disease.   Talk to us about these symptoms and allow our team and panoramic xray technology to provide the early detection that can save your teeth!\",\n",
      "  \"Sports and an active lifestyle are terrific ways to stay in top condition, both physically and mentally.  But sometimes, accidents happen. Whether you\\u2019ve been hurt in the rink or at the gym, our highly trained team of professionals is well-versed in several methods of sports therapy. We also provide sports bracing and athletic taping when appropriate for your injuries. We will perform foot scanning to identify the proper insole for patients that often stand for longer period at work place.  Learn about all of our healing methods at blackgold p t clinic dot com, where you can now download patient forms to complete prior to arrival, to save time during your first appointment.\",\n",
      "  \"Fall into a great deal!  Ask about our 15 yard or larger dumpster special, good for up to two tons of household debris.  Seven day rentals include drop off and pick up in the Blackstone Valley for $350 and in the Worcester area for $375.  No hidden fees, and we recycle.  If you\\u2019re cleaning out a house or apartment, finally getting rid of all that junk in the garage or cellar, settling an estate, or replacing furniture or appliances and want to dispose of the old ones, we will match or beat our competitors\\u2019 prices.  In most cases we can provide same day delivery, too!   Stop putting off all that cleaning \\u2013 Al\\u2019s Rubbish and Container Service has the deal for your dumpster now!\",\n",
      "  \"Crooked or misaligned teeth are more difficult to maintain, and can lead to gum and bone damage as well as tooth loss. Straightening teeth has never been more discreet and comfortable!  Invisalign uses a series of custom clear plastic aligners to gradually straighten teeth, often in less time than traditional braces.  You can even remove Invisalign to eat, care for your teeth, and for special occasions \\u2013 and they\\u2019re clear, so no one will know you have braces.  At Sukut Dental, we can straighten and whiten your teeth while you undergo orthodontic treatment.  You\\u2019ll not only have straight, healthier teeth, but a whiter, healthy smile! Ask for details when we return to the line.\",\n",
      "  \"Did you know that certain frequencies of light speed up or slow down biological processes?  When patients learn that we use laser therapy in our practice, they envision a powerful, steel cutting beam of light.  In actuality, the cold laser we use has only a tiny fraction of that power, and its value comes from the frequency of light it emits rather than intensity.  At Advanced Health and Wellness Center, we know that laser therapy is effective for wound healing, reducing inflammation, pain management, cell regeneration, and scar tissue reduction.  Our patients are delighted that this non-invasive treatment works!  Ask us if laser therapy can help you when we return to the line.\",\n",
      "  \"Thank you for calling Bear Family Dentistry, providing all phases of general family dentistry in the heart of Alexandria.  From general exams, cleanings, gum care and root canals to cosmetic and pediatric dental care, we provide full family dentistry for patients aged 3 years old and up.  Since 1982, we\\u2019ve been located right here at 1432 Peterman Drive. Our office hours are Monday through Thursday from 8am to 5pm, and we are closed on Friday.  Emergency calls are available after hours and weekends.  Please like us on Facebook at Bear Family Dentistry. We look forward to serving you today!  Thank you for holding.  One of our friendly staff will be with you in just a few moments.\",\n",
      "  \"According to recent studies, five percent of all motor vehicle fatalities are clearly caused by automobile maintenance neglect.  Trust your family\\u2019s safety to Arizona Auto & Radiator Repair, where we have years of experience in service for all domestic, foreign and European makes and models, and we have the OEM scan tools for the services that dealerships recommend.  We\\u2019re Master Certified, and we offer a three year, thirty-six thousand mile nationwide warranty \\u2013 yes, we said nationwide \\u2013 for peace of mind no matter where you drive.  We\\u2019re happy to work with you to find cost effective repair and maintenance solutions for your vehicle.  Ask for details when we return to the line.\",\n",
      "  \"Need tires?  Just like the shoes on your feet, tires will eventually wear out \\u2013 and it\\u2019s important to maintain good tire tread and quality for safety on the road.  When it\\u2019s time for new tires, Budget Auto Repair and Transmission has both an affordable selection of tires and the expertise and equipment to install and balance those tires properly for optimal safety and performance and a smooth, safe ride.  You\\u2019ll get what you pay for with tires \\u2013 the cheaper the tire, the quicker the wear.  While you might not need to pay top dollar for a good tire, we\\u2019ll help you get the affordable tires that won\\u2019t cost you more to replace in the long run.  Ask for details when we return to your call.\",\n",
      "  \"Thank you for calling Aba Daba Rents, where we\\u2019ve been serving the equipment, party and event rental needs of the Sacramento area since 1957.\\u00a0 Like magic, we rent it!\\u00a0 Our family owned business has two locations to serve you \\u2013 at 4351 Auburn Boulevard in Sacramento and at 7448 Auburn Boulevard in Citrus Heights, and you can find us on the web at aba daba dot com.\\u00a0 That's A B A D A B A dot com.\\u00a0 If you can\\u2019t find what you\\u2019re looking for \\u2013 let us know.\\u00a0 We\\u2019re here to help \\u2013 and we make it our priority to service you, the customer. If we don\\u2019t have it, we\\u2019ll help you find it.\\u00a0 We\\u2019re glad you called!\\u00a0 A member of our professional team will be on the line to help you in just a few moments.\",\n",
      "  \"Our website is designed with you in mind!  Visit a z auto repair dot net to learn more about us and the services we provide, to read testimonials from our happy family of customers, to check for directions and business hours, to connect with us on social media, and even to schedule an appointment online.  Have an automotive question?  We\\u2019ve got an answer \\u2013 just send us a message.  Arizona Auto & Radiator Repair offers auto repair services you can count on.  There\\u2019s a reason why we\\u2019ve been husband tested, wife approved and customer loved since 1997!  We look forward to the opportunity to show you what we can do for you and your vehicles.  Thank you for holding.  We\\u2019ll be right with you.\",\n",
      "  \"Thank you for calling Budget Auto Repair and Transmission, where we have one goal in mind \\u2013 to diagnose and repair your car and get it back on the road at an affordable price.  It\\u2019s auto repair with purpose here at Budget Auto Repair and Transmission \\u2013 we do it all, including the hard stuff!   Fix it today \\u2013 and pay later with our affordable auto repair financing, too.  We do quality work and provide quality service for whatever your vehicle needs.  Find us in Building A at 23930 Sunnymead Boulevard in Moreno Valley, right off the 60 Freeway at the Heacock Exit, and on the web at budget auto repair dot com.  We\\u2019re glad you called!  We\\u2019ll be on the line to help you in just a few moments.\",\n",
      "  \"When you hit the brakes, do you hear grinding or squealing?  Does your vehicle pull to the side?  Does your brake pedal feel soft or travel down more than usual?  Your safety depends on the performance of your brakes, so it\\u2019s important to have them inspected at least once a year.  At Budget Auto Repair and Transmission, our certified technicians will check your brakes with every maintenance service \\u2013 but if your brakes are showing symptoms, we recommend you come to us right away.  We use only top quality parts for your brake system that meet or exceed your manufacturer\\u2019s specs.  Learn more at budget auto repair dot com, and make an appointment for brake service when we return to the line.\",\n",
      "  \"At Cold Comfort HVAC Services, we know that comfort matters \\u2013 and our goal is to provide our customers that comfort with prompt, friendly, professional service at a reasonable cost.  We promise our customers on time service, up front pricing, uniformed employees, master h v a c licensed technicians, vehicles stocked with parts for prompt service, and late service hours so we\\u2019re there when you need us.  We proudly serve Montgomery County and look forward to providing you with the service, installation and repairs you need with the excellent service and quality equipment you deserve.  Thank you for choosing Cold Comfort HVAC Services.  We\\u2019ll be on the line to help you in just a few moments.\",\n",
      "  \"This year we joined the \\u201cGreen Revolution\\u201d by installing solar panels on our property.  This solar array is designed to produce 99% of the electricity we use annually.  The panels are not mounted on our building but on the ground nearby. We are excited about about this project not only greatly decreasing our electric bill, but also reducing our carbon footprint.  You can\\u2019t miss seeing the panels beside our parking lot when you visit our office, and be sure to check out the monitors in our waiting room showing how productive the panels are on a daily basis.   As we reach nearly a full year in service, the panels have met our production goals and we actually have some kilowatt-hours banked.\",\n",
      "  \"In addition to color and cut, Artistry Salon provides boutique spa services, texture treatments, luxury and certified organic hair and scalp therapy, makeup artistry and skin nourishment, and services for gentlemen\\u2019s artistry.  Planning a wedding?  Ask us about our wedding boutique for all the services you and your wedding party need for the big day.  Keep a supply of our gift cards on hand for special occasions, gifts for friends and loved ones, and even for yourself when you feel the need for our special brand of pampering!  At Artistry Salon, we can\\u2019t wait to make you a member of our family!  Thank you for choosing Artistry Salon.  We\\u2019ll be on the line to help you in just a few moments.\",\n",
      "  \"Thank you for calling Hall Air Conditioning, where we bring our years of experience to cater to all of your air conditioning and heating needs!  With Hall Air Conditioning, you can expect value and comfort \\u2013 we sell, install, service and repair equipment with excellence for commercial and residential customers, and we are happy to provide estimates to make sure you get the most value for the money you spend.  Quality and attention to detail are paramount.  We service all makes and models, and 24 hour emergency service is available.  Learn more about us and the services we provide at hall air conditioning dot com.  We\\u2019re glad you called!  We look forward to helping you in just a few moments.\",\n",
      "  \"While we just love caring for your extraordinary pets, we realize not everyone shares our sentiment.  If that posh five-star hotel isn\\u2019t ready for \\u201cPolly\\u201d the parrot or \\u201cFluffy\\u201d the rabbit, why not try our accommodations when you go on your next vacation?  While we can never be a substitute for their human mommies and daddies, we\\u2019ll give your pets all the love and attention they could want.  You\\u2019ll have a nice time, they\\u2019ll live it up, and it all sets the stage for the moment when you are reunited upon your return.  To learn about boarding and day care as well as all of the medical and surgical services we offer, visit us online.  The address is www (dot) doctor\\u2014that\\u2019s d-r exotic (dot) com.\",\n",
      "  \"Our new Pediatric Center is now open at the Centra medical center at 935 South Main Street in Farmville. Dr. Grace and Dr. Siliezar have rich clinical experience taking care of children from birth through college age. Dr. Siliezar also specializes in pediatric endocrinology and diabetes. The center provides primary care to pediatric patients, as well as immunizations, allergy shots, school and sports physicals.  The Center is accepting new patients for well child visits, sports physicals, immunizations, and sick visits.  Office hours are 8am to 5pm, Monday through Friday, and Wednesday evenings until 8pm.  Dr. Siliezar also speaks Spanish.  For information or an appointment, call 434-315-5340.\",\n",
      "  \"When you pay for housekeeping or office cleaning, you\\u2019re not paying for halfway.  You\\u2019re expecting a professional level of service that leaves your home or office looking and smelling flawless.  At Fayetteville Cleaning Group, our ultimate goal is to ensure that every customer receives and enjoys a quality cleaning anywhere in North Carolina.  Nothing is more valuable than time \\u2013 and we\\u2019ve all got precious little free time to enjoy.  Stop losing that free time forever to dirty dust bunnies, wet mops, vacuums and toilet brushes.  Trust Fayetteville Cleaning Group to give you the fresh, sparkling clean home or office environment you want and deserve.  Ask for a quote when we return to your call.\",\n",
      "  \"We don\\u2019t just talk about taking care of our customers, everything we do at Whites Canyon Ford and Lincoln is focused on you.  So much so that even Ford took notice and has presented us with their Ford President\\u2019s Award every year since we opened our doors!  This award is only given to the top 10% of Ford dealers nationally for excellence in sales, service and customer satisfaction.  Enjoy our two customer waiting lounges with flat screen TVs, free WiFi, a coffee bar and quiet business center.  We even provide loaner vehicles, free customer shuttle pickup and delivery locally and an early bird drop off for your convenience.  Thank you for your patience.  We\\u2019ll be on the line to help you shortly.\",\n",
      "  \"Many people think ozone is an unhealthy element \\u2013 but in truth, it\\u2019s a variation of oxygen with many therapeutic uses that have been researched and documented extensively.  Ozone is a natural substance which can often take the place of caustic chemicals and invasive techniques in dentistry.  It kills bacteria and fungi on contact, improves blood flow, amplifies immune responses, speeds healing and decreases the risk of post-surgical infections.  Ozone therapy is just one of many facets of advanced holistic dentistry that we use at Center for Holistic Dentistry.  Learn more about the uses of ozone and other treatments we provide at center for holistic dentistry dot com.  We\\u2019ll be right with you.\",\n",
      "  \"Thank you for calling Rose Dental, where we are dedicated to providing high quality dental services to your entire family - with a personal touch!  Our unique team of general dentists and specialists offers the full range of family, cosmetic, and implant dentistry, conveniently in one location at 159 Main Dunstable Road, Suite 103 in Nashua.  We utilize the latest in state of the art technology, and we also have an in-house lab. Get to know our team and learn more about us and the services we provide at rose dental nashua dot com, where you can request an appointment conveniently online, or when we return to the line.  We\\u2019re glad you called!  We look forward to helping you in just a few moments.\",\n",
      "  \"Straight teeth aren\\u2019t just for kids anymore!  Straighter teeth are easier to maintain \\u2013 so a straight smile is a healthy smile at any age!  If you\\u2019ve outgrown or just dread the thought of metal braces, you may be a candidate for Invisalign \\u2013 a series of custom clear plastic aligners that straighten your teeth like metal braces, but often in less time than traditional braces.  These clear plastic aligners are virtually invisible \\u2013 and you can even remove Invisalign to eat, care for your teeth, and for special occasions.  If you\\u2019d like a straighter, easier to maintain smile that you\\u2019ll be proud to share, schedule a consultation to find out if Invisalign is right for you when we return to your call.\",\n",
      "  \"At the office of Dr. Ronald Howland, we believe that an informed patient is a happy patient!  We want to educate you so that you can make an informed decision about your care.  So please \\u2013 ask questions!  Dr. Howland will take the time to answer them, and your questions can help him identify and provide the appropriate treatment options to satisfy your unique dental needs.  Our mission is simple \\u2013 to provide high quality and leading dental care to patients of all ages. Dr. Howland realizes you have a choice in your dental care, and appreciates you choosing our office. Our dedicated professional team welcomes your questions, both over the phone and at your next appointment.  We\\u2019ll be right with you.\",\n",
      "  \"There\\u2019s nothing like a breath of fresh air \\u2013 but studies show that the air inside your house contains more allergens and chemical gases than the air outside.  Allergies, asthma and other respiratory issues are exaggerated by polluted indoor air.  A dirty duct system can spread mold spores, make allergies and respiratory ailments worse, and spread dirt and dust around your home.  At Air Doctor Services, we offer several options for removing contaminants from the air and keeping it clean, allowing you and your loved ones to breathe easier at home. Ask us for an indoor air checkup - estimates are free, and we\\u2019ll show you pictures of what we find and let you decide what to do.  We\\u2019ll be right with you.\",\n",
      "  \"The experts at Consumer Guide Automotive have revealed their \\u201cBest Buys\\u201d for 2018 and we are pleased to announce that five of our models have made the cut! The all-new 2018 Chrysler Pacifica has arrived with unparalleled safety features and elegant styling that drives to impress.  The most popular SUV in America, the 2018 Jeep Grand Cherokee, is a winner of the National Highway Traffic Safety Administration\\u2019s \\u201cfive star award.\\u201d  The Dodge Durango scored tops among large SUVs, while the Dodge Journey \\u2013 available in both front or all-wheel drive \\u2014 was singled out as the midsize crossover that you need to own!  Come and take a look at any of these vehicles and you\\u2019ll see just what all the buzz is about.\",\n",
      "  \"Thank you for calling Air Doctor Services, where we provide 24 hour HVAC service, 365 days a year!  Whether it\\u2019s your home or business, when your air conditioning or heating system goes down and you\\u2019re suffering, we will be there to give you an honest and reliable repair.  We\\u2019ve been in the HVAC business for 26 years, and we\\u2019ve been Air Doctor Services for 19 years, but our number one product is peace of mind.  Our customers know that they can call us anytime, day or night, and we\\u2019ll be there pronto to provide professional, intelligent, clean and courteous service.  Find us on the web at air doctor services inc dot com.  What can we do for you today?  We\\u2019ll be on the line in just a moment to help you.\",\n",
      "  \"A picture IS worth a thousand words \\u2013 and at A-Concrete, we\\u2019ve had the privilege of working for some amazing clients and completing some great projects.  Visit our gallery of recent projects at A dash concrete dot com, and let us know if you like what you see!  You\\u2019ll also find many glowing testimonials from our former clients on our website, as well as on our Facebook page.  No project is too big or too small.  We\\u2019re ready to provide you with a consultation and a free estimate to help you plan and complete that perfect project for your residence or business.  We\\u2019d love to add you to the A-Concrete family!   Schedule a consultation through our website, or ask for assistance when we return to your call.\",\n",
      "  \"Ticks are a year round problem in our area, most people already know that Deer Ticks can carry Lyme Disease. But did you know that over 10% of our dog patients are exposed to this disease.   Lyme Disease can cause fever, lameness, and even kidney failure.  Tick control with a product like NexGard, Frontline, or Bravecto is very important.  You can also help reduce your dog\\u2019s risk to Lyme disease by vaccinating your dog against this disease.  A little prevention now can make a huge difference in your pet\\u2019s health later. This vaccine initially requires 2 doses to become effective, and then annual boosters are given.   If you are worried your dog is at risk for Lyme Disease, be sure to ask how we can help.\",\n",
      "  \"Divine Cream is our best-selling, award-winning \\u201cmiracle\\u201d cream that helps fight visible signs of aging. With hundreds of brilliant reviews on our web-site, there is no surprise that Divine Cream is our award winning best seller! It\\u2019s luxurious, yet miraculously lightweight texture combines organic HYPERLINK \\\"http://usa.loccitane.com/immortelle,82,1,29206,0.htm\\\"  Immortelle essential oil, rich in active molecules that deliver unique anti-aging beauty results, with a complex of 7-plant derived active ingredients to give your skin the youthful, radiant glow you've always wanted. Combat the visible signs of aging with Divine Cream and complimentary line of Divine products. The results speak for themselves.\",\n",
      "  \"Looking for someone to clean up post construction?  In need of a detail-oriented cleaning crew to do a thorough deep clean?  Is it time to set up a regular house cleaning schedule?  Fayetteville Cleaning Group offers a wide range of cleaning services that will keep your home clean and inviting.  Sign up for maid service to include dusting, vacuuming, mopping, kitchen and bathroom cleaning, and we\\u2019ll provide all of our own house cleaning supplies and equipment to leave your home clean, fresh and spotless.  We hold each member of our cleaning staff to a very high standard to ensure you\\u2019re provided with reliable, high quality service every time we clean your home.  Ask for a quote when we return to your call.\",\n",
      "  \"When you first walk through our door, please don\\u2019t be alarmed.  We aren\\u2019t your ordinary animal hospital.  You\\u2019ll find no cats and dogs here.  Our cute and cuddly patients include guinea pigs, reptiles, and so many more pets that you just don\\u2019t see every day.  If you don\\u2019t call us one, we\\u2019ll even take care of your chicken. Did you know that keeping backyard chickens is legal in San Diego and one of the fastest growing trends we see?   Most of the members of our staff have exotic pets of their own, so whether it\\u2019s routine blood work or specialized surgery, your babies are in excellent hands.  To learn even more about us, visit our home on the web.  The address is www (dot) doctor\\u2014that\\u2019s d-r exotic (dot) com.\",\n",
      "  \"Commonwealth Eye Surgery wants to make sure you\\u2019re well informed and have answers to all your questions.  Please take a moment to visit our website, w w w dot Commonwealth Eyes dot com.  And like us on Facebook!  You will find our most current LASIK promotion on Facebook and it is a great way to keep up with information about CES and the health of your eyes!  Online, you\\u2019ll find a wealth of information about our office and our unique brand of co-management eye care.  You can also view informative videos and visit our patient portal and fill out paperwork, all before your first visit!  Be informed, comfortable, and confident in your eye care. Visit w w w dot Commonwealth Eyes dot com and our Facebook page today!\",\n",
      "  \"Did you know that the Association of Orthodontics recommends that children come in at the age of 7 for their first orthodontic consultation?  Early detection enables us to help develop the jaw in a way to accommodate all the permanent teeth without extractions and improve how the upper and lower jaw fits together.  Children benefit from phase I treatment as it can prevent the need to extractions and the need surgical procedures to realign the jaws.  It can also improve your child\\u2019s airway and decrease their chances developing sleep apnea. At Bella Smile, we offer Phase I treatment to correct crowding, cross bites, under bites, overbites, and severe protrusion. Schedule your child a complimentary evaluation today!\",\n",
      "  \"Here at Abington Dental Associates, we focus on the overall comfort, convenience and well-being of each and every patient.  From the use of low-radiation digital x-rays to our office sterilization procedures, we maintain the highest in professional standards.  You deserve nothing less than our very best efforts and that\\u2019s what you\\u2019ll always receive at our office.  And, for your convenience, we offer a variety of multi-specialty services, so you can have all of your dental needs accommodated under one roof!  Have a question or a comment about your care?  Be sure to let us know when we join you back on the line.  And, if you\\u2019ve enjoyed the care that you have received, go ahead and tell a friend or neighbor about us!\",\n",
      "  \"At Flatrock Family Dentistry, we understand that traditional dental insurance plans aren\\u2019t for everyone.\\u00a0 That\\u2019s why we are now offering our very own in-house Healthy Smiles Dental Plan. Our Healthy Smiles Dental plan features 15% off regular cleanings and exams, necessary xrays, fluoride treatments, and 10% off most basic and major services.\\u00a0 With no deductibles, no yearly limits or maximums, no waiting period, and no exclusions on treatment categories, we are certain our Healthy Smiles Dental Plan is a great option for you and your family.\\u00a0 For more information, visit our website at  HYPERLINK \\\"http://www.flatrockfamilydentistry.com/\\\" \\\\t \\\"_blank\\\" www.flatrockfamilydentistry.com or give us a call at 864-774-0758.\",\n",
      "  \"Your pet is a treasured member of your family.  Our dedicated staff which includes 14 doctors, licensed veterinary technicians, and skilled veterinary assistants has the expertise and state of the art equipment to provide the most progressive and compassionate care for all your pet's health needs. We offer appointments by day and are a fully functional emergency hospital every night during the week and 24 hours on the weekends. Whether it\\u2019s just routine or a time of crisis, our experience combined with the latest technology means the best comprehensive healthcare for your pet.  Our day and evening hours can be found on our website, bay beach vets dot com, or just ask for an appointment when we return to your call.\",\n",
      "  \"At Center for Holistic Dentistry, our patients expect and deserve exceptional quality of service, and an unparalleled dental experience.  We\\u2019re known for our personal attention and customized treatment, minimally invasive techniques designed to preserve healthy tooth structure, biocompatible cosmetic materials, artisan quality smile enhancements and full smile makeovers.  We provide advanced preventive care, including laser bacteria reduction and ozone therapy, porcelain restorations including fillings, inlays and onlays, crowns and veneers, BPA free resin fillings and tooth bonding, and above all \\u2013 quality care in a warm and welcoming environment.  Please let us know how we can help you when we return to the line.\",\n",
      "  \"At Visionary Centre for Women, we\\u2019re more than just a traditional gynecology practice.  Dr. Hayes brings her expertise in cosmetic gynecology in combination with the routine care and traditional services you need, and we\\u2019re happy to let you know that, while visits are paid for at the time of service, lab tests, blood draws, mammograms and imaging ordered through the practice are covered by insurance.  If you\\u2019d like to stay up to date with our latest news, be sure to like us on Facebook at Visionary Centre for Women, and follow us on Instagram at  HYPERLINK \\\"http://drjenniferhayes.com\\\" d r jennifer hayes.   We\\u2019ll also be happy to answer any questions you have about the services we provide when we return to your call.\",\n",
      "  \"Smile Studio 87 is an expert on all procedures that will improve your health, confidence, and smile. If you\\u2019re suffering with aliments like crooked teeth, cross bite, underbite, T M J, or just want a better smile, Invisalign may be right for you. Unlike braces, Invisalign aligners are virtually invisible and removable. No one will know you\\u2019re wearing them! And you can eat what you want and brush your teeth normally. You\\u2019ll get the smile you\\u2019ve always wanted without the inconvenience of bulky metal braces. Take advantage of our End of Summer Special. Save 300 dollars on your Invisalign treatment.  Painless, simple and invisible: it\\u2019s Invisalign.  Schedule a free consultation to find out if Invisalign is right for you.\",\n",
      "  \"Thank you for calling Atlantic Dental, where we\\u2019re creating beautiful smiles at the Jersey Shore!  Providing you with the quality care you need is our top priority.  Whether you and your family need routine preventive, restorative, orthodontic, or cosmetic care, Atlantic Dental is equipped to handle all of your dental needs.   Our friendly, experienced staff is here to provide individualized, gentle care and to ensure your complete comfort during each visit and treatment.  We\\u2019re conveniently located at 171 Route 37 East in Toms River, at the corner of Hooper Avenue and Route 37.  You\\u2019ll find us on the web at dentist toms river n j dot com.  We\\u2019re glad you called!  We look forward to helping you in just a few moments.\",\n",
      "  \"Summer is here, and that means it\\u2019s hotter than ever in Naples.  Be sure to exercise your pets in the coolest part of the day, and if your pet spends time outdoors, always make sure they have shade and fresh water available.  Lawn and garden chemicals can be a hazard for your pet \\u2013 in parks as well as your own yard \\u2013 so be careful around treated areas and water supplies.  Asphalt surfaces can burn sensitive paws, and a hot car is no place for your pet, even for a few moments.  Groom your pet to withstand the hotter temperatures. Thunder and fireworks are no fun for sensitive pets \\u2013 make sure they have a quiet corner for escape.  Enjoy the fun summer activities with your pet \\u2013 but keep their safety and comfort in mind.\",\n",
      "  \"Thank you for calling Copperfield Dentistry, the office of Dr. Jacob A. Burch, where we provide exceptional dentistry in a comfortable, friendly environment.  Dr. Burch can literally redesign your smile with a full array of general and cosmetic dentistry options, from porcelain veneers, to dental implants, to crowns and bridges, as well as providing comprehensive preventive and restorative dental care for the entire family.  We\\u2019re located at 7825 Highway 6 North, Suite 109 in Houston, and we have a variety of convenient appointment times available to serve you.  Learn more about us and the services we provide at copperfield dentist dot com.  We\\u2019re glad you called!   We look forward to helping you in just a few moments.\",\n",
      "  \"At Arlington Animal Clinic, we believe that a well informed pet owner makes the best decisions regarding their pet.   We launched our blog to provide the most factual, up to date information available for our pet parents.  You\\u2019ll also find a wealth of valuable tips on our website at Arlington animal clinic dot net, and we hope you\\u2019ll connect with us on Facebook, too.  You can see your pet on Petly \\u2013 a special place for you and your pet, and we hope you\\u2019ll send us a photo of your pet for posting on our site.  Get to know us at Arlington animal clinic dot net, and let us know how we can help you when we return to your call.  We look forward to welcoming you to our pet care family!   We\\u2019ll be on the line shortly to assist you.\",\n",
      "  \"Dr Quimby believes everyone is entitled to a beautiful smile and the kind of personal care that makes you feel as good as you look. We provide comprehensive dental care for patients of all ages, everything from cleanings and preventive care, to cosmetic dentistry and tooth replacements.\\u00a0 We are dedicated to the idea that everyone can enjoy the benefits of good oral health, where your mouth and teeth feel good, work well and look spectacular.  We offer whitening and veneers as well as options that will straighten your smile in as little as six months.   If you have any questions about the services we offer, please ask us.\\u00a0 We have several ways to make your appointment comfortable.\\u00a0 Don\\u2019t forget, as always we cater to cowards.\",\n",
      "  \"If you drive a car, you know how important routine maintenance is to keep it running at its best.  The same is true for your heating and cooling systems \\u2013 a little routine maintenance now can keep you cool or warm later!  At Hall Air Conditioning, we offer annual preventive maintenance agreements which include two visits a year to check your heating, air conditioning and all components to keep them working at their optimum levels.  Good maintenance can save you money down the road \\u2013 avoid repair calls and keep your systems energy efficient by keeping them well maintained.  Our service plans include enough filters for a year, as well as 10% discounts on any additional work needed.  Ask for details when we return to your call.\",\n",
      "  \"Enjoy the look, feel and function of your natural teeth with dental implants. \\u00a0Dental implants offer a long-term replacement option that\\u2019s secure and natural-looking, allowing you to eat virtually anything and smile with confidence, knowing your teeth look natural, healthy and beautiful. Have a loose denture?  Dental implants can secure them, enhancing your ability to enjoy your food and giving you confidence in public. At Progressive Dentistry, we have extensive expertise restoring dental implants since 1986.  Dr. Levy and Dr. Kotkin will be happy to answer all your questions regarding dental implants and any of your other dental concerns.  We invite you to learn more about implants at our website, Merrick Dentistry dot com.\",\n",
      "  \"Thank you for calling Bay Beach Veterinary Hospital, located one mile east of Virginia Beach town center.   Since 1965, our mission has been to provide the absolute highest standard of medical and surgical care for your pets.  With that mission in mind, we are able to provide your pet with around the clock state of the art, full service veterinary care. This includes offering appointments Monday through Friday, and in cases of emergency, we offer full service emergency veterinary care from 5pm to 8am on weekdays, and 24 hour care on weekends.  Visit our website at bay beach vets dot com, to meet our friendly staff and take a virtual tour! You can also like us on facebook to keep up with all of our current events at our hospital.\",\n",
      "  \"Delight your furry, feathered or scaled friend with our wide selection of diets and treats.    Come to us for Crazy Corn, Mazuri and our fresh boxed hay. We also carry a variety of products for backyard poulty.  We are proud to be an approved distributor for Harrison\\u2019s bird food, and we now offer a wide assortment of Oxbow foods and treats for rabbits and small mammals.  If you don\\u2019t find what you are looking for, ask about a special order.  We are committed to finding the best products available at reasonable prices so both you and your pet will be happy. Enhance the quality of life for all your pets with the high quality foods sold right here at Avian and Exotic Animal Hospital.  We look forward to assisting you in just a moment.\",\n",
      "  \"Now that fall is around the corner, it\\u2019s time to hit the road in style and comfort. If you\\u2019re planning a family tailgate event and need the ultimate in space, may we suggest the all  new 2019 Chrysler Pacifica, available with 8 passenger seating and a class exclusive hybrid model? Or maybe you\\u2019re looking for a go-anywhere, do-anything vehicle? The legendary Jeep Wrangler \\u2014 whether 2-door or 4-door \\u2014 is always in fashion. And did you know the Wrangler is the only convertible SUV made in America today? The Wrangler is the ultimate versatility vehicle in American today.  Off road, sand dunes or taking the kids to school, it\\u2019s sure to make you proud and always certain to get the extra look.  Come and visit our showroom for a test drive!\",\n",
      "  \"Thank you for calling Angelo Termite and Construction, where we\\u2019ve been serving Southern California since 1976. \\u00a0We\\u2019re the industry authority in Orange County, and we\\u2019re known innovators for over forty years specializing in localized treatment for control of dry wood termite infestations opposed to the traditionally known fumigation process. Our unique strategy in termite control and reconstruction is for homeowner associations, and single family residences in Southern California.\\u00a0Our goal was never to be the largest termite and construction company \\u2013 only the best! \\u00a0 Learn more about us and the services we provide at angelo termite dot com. We\\u2019re glad you called! \\u00a0We look forward to helping you in just a few moments. \\u00a0Jesus is Lord.\",\n",
      "  \"Dr. Levit brings a dedication to the profession of dermatology that exceeds most standards.  Not only is Dr. Levit a board-certified dermatologist but also has had an additional 3 years of fellowship training in cosmetic and laser surgery.  He is an associate clinical professor of dermatology at Columbia Presbyterian Medical Center and the \\u00a0\\u00a0Director of Dermatologic and Cosmetic\\u00a0Surgery at St.\\u00a0Luke\\u2019s Hospital, Columbia University in New York.  Dr. Levit has received the highest award for volunteer work bestowed by the American Academy of Dermatology and received the top doctor award of 2011.  In 2015 Dr. Eyal Levit received the prestigious Teacher of the Year Award in Surgical Dermatology from Icahn School of Medicine at Mount Sinai.\",\n",
      "  \"Thank you for calling Kellerman Dental, where we\\u2019re dedicated to your family\\u2019s oral health.  From general care to cosmetic dentistry, Fast Braces, Invisalign, surgical placement and restoration of implants, sedation, gum care, Sleep Apnea and so much more! Please visit us online at Kellerman dental dot com to meet our staff and learn more about the services we provide.  We are located at 16 Junction Drive West in Glen Carbon, Illinois.  Office hours are Monday 8am until 6:30pm Tuesday from 8am to 5pm, Wednesday 10am to 5:00pm, Thursday 8am to 4:30pm, and Friday from 8am until 12pm.  If you are a current patient needing after hour care information, please call 618-978-7491.  Thank you for holding.  We look forward to serving you today.\",\n",
      "  \"There\\u2019s a lot more than just pizza at Pizza Hut!  Why not add one or more of our delicious sides to your next order?  Have you tried quepapas?  These are delicious little potato bites with a hint of jalapeno.  Delicious!  Try our stuffed garlic knots filled with melted cheese and finished with a garlic buttery blend, grated parmesan and Italian herbs, served with a dipping cup of our mouthwatering marinara sauce.  Or how about breadsticks?  Crispy on the outside, soft and chewy on the inside, and made even more tempting with our dipping marinara sauce.  And who can resist our freshly baked, oven hot cheese sticks, or that ever popular crowd pleaser, French fries, available plain or seasoned?  Place your order when we return to the line.\",\n",
      "  \"Our homes are our greatest investment \\u2013 why let termites go undetected?  Enjoy the peace of mind that comes from having a trained professional inspect your home annually.  With our low cost renewable yearly maintenance plan, you\\u2019ll receive a reminder call at your anniversary date to schedule your inspection.  We\\u2019ll perform an inspection of the structure, locally treat any detected infestations, and advise you of any other structural issues of concern.  There is no charge for standard service calls between inspections, so if you have a concern, just call us.  If wood repairs or fumigation are needed, we offer preferred customer pricing for our annual maintenance customers.  Ask for details about this valuable service when we return to the line\",\n",
      "  \"Did you know that the EPA has done studies revealing that the air inside a house can be as much as five times more contaminated than the air outside?  An air conditioning system is only as clean as the ducts that distribute the air around your home or business, so it\\u2019s essential to keep the ducts clean.  If they are not cleaned frequently, particles of dust and dirt can build up and create pockets for unhealthy germs, mold, and fungus to grow.  Stagnant air trapped inside your home or business can lead to unhealthy conditions and health issues.  At Hall Air Conditioning, we can evaluate your overall air conditioning system and clean your ducts to provide cleaner air for you and your family.  Schedule a duct cleaning when we return to the line.\",\n",
      "  \"At Artistry Salon, we are passionate about our clients!  We want our guests to not just look great, but to feel great inside and out when they leave our salon.  We use all high end products that focus not only on healthy hair, but the overall health of our clients as well.  We want to be sure that our clients are leaving our salon with healthy hair, mind and body.  We strive for a quality experience every time you visit.  Each of our stylists brings a unique style and background to our salon, and they are exposed to new and innovative ways to cut and color through training both in our salon and at product headquarters around the country.   Learn more on our website at artistry s w f l dot com, and book an appointment when we return to the line.\",\n",
      "  \"At Ozark Mountain Pizza, we offer special prices for those large group orders.  At Ozark Mountain Pizza, we have great specials to choose from, like our Meal Deal- a large one topping pizza, breadsticks, and a 2 liter of soda for $16.99. Got a bigger family? Try our family special- a large specialty pizza and a large one topping pizza for $22.99.  Enjoy even more with our add on special \\u2013 get an order of breadsticks and 2 liter soda for $4.99 \\u2013 or upgrade to cheese bread for one dollar more.   Be sure to check our website at Ozark m t pizza dot com for all of our specials and our full menu of specialty pizzas, sandwiches, salads, pastas, desserts, drinks and more.  Please continue to hold   Your call will be answered in the order it was received.\",\n",
      "  \"Did you know that Dr. Kulangara is a specialist?  After completing dental school, she did a three year residency program to become a prosthodontist. A prosthodontist specializes in handling complex and challenging cases using crowns, bridges, veneers, dental implants and implant supported complete and partial dentures to rehabilitate her patients\\u2019 smiles   Dr. Kulangara left her hometown of Tampa to receive her Bachelor of Science from the University of Miami.  She then completed her dental studies at the Boston University School of Dental Medicine and went on to pursue her Prosthodontics training at the Washington DC VA Hospital.  Want to learn more about prosthodontics?  Visit our website at advanced dental arts dot com.  We\\u2019ll be right with you.\",\n",
      "  \"Real Estate Agents and Brokers \\u2013 do you need fast service for a timely escrow closing? \\u00a0Our experience and award-winning results get the job done with speed of service and a spirit of excellence. Angelo has the trust of the State of California and have been certified by the Department of Real Estate to instruct and teach a three hour seminar for Real Estate Agents and Brokers to receive continuing education credits for Real Estate License Renewal on the proper procedures for Structural Pest Control for escrow resale closing.  Our vast ledger of satisfied customers since 1976 includes the Homeowner Real Estate market. \\u00a0Learn more on our website at Angelo termite dot com,  and let us know how we can help you when we return to your call. \\u00a0Jesus Is Lord.\",\n",
      "  \"Do you suffer from numbness, tingling and burning in parts of your body?  If so, our neuropathy treatment program may be right for you.  We\\u2019ll examine the imbalances between your metabolic, vascular and nervous systems to determine the cause of your concerns, and will recommend a course of action which may include a combination of laser therapy, nutrition and supplementation, chiropractic care and rehabilitation therapy. Another effective tool is the whole body vibration platform which can provide a number of benefits in less time than traditional therapy or rehabilitation programs.  The process of treatment usually lasts two to four weeks.   To learn more about our neuropathy treatment program please schedule a consultation when we return to the line.\",\n",
      "  \"Realtors, A-1 Bonded Termite is your one stop solution to obtaining the termite clearance you need to complete your real estate transaction.  We will perform a full inspection of any property, and we can expedite this process to within 24 hours of the property inspection date and send the inspection reports electronically to all requested parties.  We offer competitive pricing on all of our fumigation, termite treatments and wood repair.  Our highly experienced team can provide fast quality service and a no hassle warranty to allow your customer to enjoy their new home without worry.   Visit our website at a 1 bonded termite dot com to fill out our easy online form to request a termite inspection, or schedule your inspection when we return to your call.\",\n",
      "  \"Did you know that a massage can improve your posture?  Relieve pain in your muscles and joints?  Ease constipation, gas and heartburn?  Eliminate excess fluid retention?  Enhance your vitality and sense of wellbeing?  We know it feels good \\u2013 but in combination with many of our other services massage therapy can help improve circulation and muscle tone.  Long standing spinal problems are accompanied by ingrained muscle patterns that involve muscle spasms and scar tissue.  Massage therapy in conjunction with services like chiropractic care and therapeutic exercise can address these muscle and soft tissue problems to speed your recovery and enhance the retraining of your spine.  Schedule an appointment for a therapeutic massage when we return to your call.\",\n",
      "  \"Are you a new patient?  Welcome!  You\\u2019ll find a wealth of information and timesaving new patient forms on our website at sky land smiles dot com.  Budgeting for orthodontic care?  We are in network with Delta Dental and Cigna, we work with most other insurance, and we are happy to work with you to create a payment plan that fits your budget.  Your smile is yours forever, and we want to make it as easy as possible to receive the quality orthodontic care you deserve.  We\\u2019re delighted that you\\u2019ve chosen our office for your family\\u2019s orthodontic care!  Over the years, patients and parents have given us the compliment of referring family and friends.  Your confidence in our care motivates us to continue to strive for excellence.  Thank you for your referrals.\",\n",
      "  \"We welcome new patients \\u2013 and strive to always live up to our mission statement. Concierge Veterinary Hospital aims to be the most trusted and respected pet health provider in South West Florida by practicing veterinary medicine at the highest level,\\u00a0\\u00a0and offering personalized customer service to every patient and client in our practice.  At Concierge Veterinary Hospital of Naples, we offer a variety of concierge services \\u2013 monthly memberships for wellness plans that are ideally suited to your pet and their needs.  Ask us for assistance in setting up the ideal concierge plan for your pet when we return to the line.  Thank you for choosing Concierge Veterinary Hospital for your pet\\u2019s comprehensive care!  We look forward to helping you in just a few moments.\",\n",
      "  \"At Dogwood Animal Hospital, we know that prevention is the best medicine, and our services are centered around wellness care.  But as the need for medical, dental, diagnostic or surgical care occurs during your pet\\u2019s lifetime, we\\u2019re fully equipped and prepared to provide the state of the art care your pet needs and deserves.  We utilize digital xrays and ultrasound for safe, fast and efficient diagnosis, and we perform traditional surgery, laser surgery and laser therapy for a variety of conditions.  We offer boarding and bathing services, behavioral counseling, laboratory services, as well as a full range of veterinary prescription diets.  For in depth descriptions of the services we provide, visit dogwood animal hospital dot com.  We\\u2019ll be right with you.\",\n",
      "  \"Thank you for calling Fayetteville Cleaning Group, where we bring it all!  Serving both the house cleaning and commercial cleaning needs of Fayetteville and the surrounding areas, our close attention to detail, trustworthy staff and reliable cleaning services have quickly made us the Fayetteville area\\u2019s first call when the to-do list includes cleaning!  We do bring it all \\u2013 all the essentials needed for an eco-friendly, green, safe and effective cleaning solution to meet your needs \\u2013 and if you need a custom clean, just let us know how you want it and we\\u2019ll oblige.  Find us on the web at fay cleaning group dot com, where you can book an appointment online.  We\\u2019re glad you called!  Let us know how we can help you when we return to your call in just a moment.\",\n",
      "  \"A veterinary internal medicine specialist is a veterinarian who has completed advanced training in internal medicine (including an internship and residency) following graduation from their veterinary college. In human medicine, internists are often considered to be primary care providers, however in veterinary medicine they are considered specialists. Once your primary veterinarian has identified (or has suspicion of) a disease requiring specialist care, he or she may contact our internists, Dr. Bryan Harnett or Dr. Elisabeth Zenger to arrange for seamless transfer of care to their services.\\u00a0 Dr. Harnett and Dr. Zenger are available for consultations and treatment at BEVS Monday through Friday. Thank you for holding.\\u00a0 We\\u2019ll be with you in just a few moments.\",\n",
      "  \"Gastroenterology Associates offers a full array of services to help you maintain a healthy digestive system.   We provide screening and diagnostic colonoscopies, EGD\\u2019s, and flexible sigmoidoscopies, and we perform hemorrhoid banding with the CRH O\\u2019Regan System.  If you\\u2019re facing a new procedure or are curious to learn more about a condition or treatment, you can find out what to expect and explore a variety of procedures on our website at columbus g i dot com.  You\\u2019ll also find links to medical resources where you can learn more about a variety of medical conditions.  We believe a well informed patient is best equipped to partner with us for the most successful medical treatment decisions and outcomes, and we welcome your questions when we return to the line.\",\n",
      "  \"A veterinary internal medicine specialist is a veterinarian who has completed advanced training in internal medicine (including an internship and residency) following graduation from their veterinary college. In human medicine, internists are often considered to be primary care providers, however in veterinary medicine they are considered specialists. Once your primary veterinarian has identified (or has suspicion of) a disease requiring specialist care, he or she may contact one of our internists, Dr. Bryan Harnett or Dr. Amy Cordner to arrange for seamless transfer of care to their services.\\u00a0 Dr. Harnett and Dr. Cordner are available for consultations and treatment at BEVS Monday through Friday. Thank you for holding.\\u00a0 We\\u2019ll be with you in just a few moments.\",\n",
      "  \"After thirty years in practice, we know that most of our new patients are referred by people in our patient family.  That\\u2019s a great compliment, and we truly appreciate your referrals.  Did you know that we treat patients of all ages?  We\\u2019re also active in social media, so look for us on Facebook, Google reviews, and of course on our own website at ponte vedra smiles dot com.  You\\u2019ll find lots of helpful information, new patient forms, before and after photos, testimonials, and frequently asked questions that are designed with you in mind.  You can even request an appointment online.  Or just ask us to schedule your next appointment when we come back on the line.  Dr. Howland realizes you have a choice in your dental care, and appreciates you choosing our office.\",\n",
      "  \"Did you know\\u2026newly released data confirms that retailers who provide fresh food items and meal solutions perform better than their competition across the entire store?  The reason is, fresh food sales account for 50% of total food sales at top performing retailers.  This translated into a 10% increase in food sales from 2014 to 2015.  Top-fresh retailers carry 57 percent more produce than the lowest performing fresh stores.  Fresh meat had the highest dollar sales among fresh categories \\u2013 followed by produce, deli, bakery, and then seafood.  Tony\\u2019s Fine Foods specializes in all of these fresh categories and is your go-to fresh supplier.  Our customer service team, specialists, and Sales Team are all here to help you grow your business, so ask how Tony\\u2019s can help!\",\n",
      "  \"At Preferred Choice Cleaning Services, we specialize in each and every service that we offer.   We provide multiple services including window cleaning, pressure washing, gutter cleaning, roof soft washing, tile and grout cleaning, air duct and dryer vent cleaning, and carpet and upholstery cleaning .  Find us on the web at w w w dot choice cleaning L I dot com \\u2013 and be sure to ask about our multi service money saving discount packages.   We\\u2019re also honored to have volunteered on four episodes of ABC\\u2019s Extreme Makeover to help less fortunate families and continue to donate our time and services to help our community. Thank you for choosing Preferred Choice Cleaning Services!   Let us know how we can help with your specialized cleaning needs when we return to the line.\",\n",
      "  \"Dr. Anderton provides a full range of preventive, restorative and cosmetic dentistry for the entire family.  He performs root canals, removes wisdom teeth, and is happy to consult with you on a variety of cosmetic dentistry options such as teeth whitening and other techniques to enhance your smile.  One of the most dramatic breakthroughs in cosmetic dentistry has been the creation of porcelain veneers. Veneers are fine pieces of carefully shaped porcelain, that when bonded to your teeth are strong, beautiful, and natural looking.  If you\\u2019d like to rejuvenate your smile, schedule a consultation with Dr. Anderton when we return.  Dr. Anderton can also provide night and mouth guards for sleep apnea and sports protection.   Ask for details when we return in just a moment.\",\n",
      "  \"When it comes to horses, it is impossible to match the majesty and beauty of these wonderful animals.  We care about your horses just as much as you do, so what better place to bring them?  Our facility is host to the most sophisticated X-ray equipment throughout Matagorda County and its surrounding areas, plus we carry all the vaccines, supplements, and accessories you need to keep your horse looking and feeling great.  If your horse is experiencing dental problems, the Power Float System may be just the thing they need  All procedures are performed in our state of the art equine surgical room. A complete overview of what we have to offer your horse, as well as your other animals, can be found on our comprehensive website.  Just go to www (dot) bay city vet (dot) com.\",\n",
      "  \"Thank you for choosing Cantoni\\u2019s Pizza, where we bring \\u201cat home\\u201d Italian taste to Fairmont, West Virginia!  Taste is everything -  and at Cantoni\\u2019s, we\\u2019ve been hearing \\u201cthat\\u2019s the best pizza I\\u2019ve ever had\\u201d since we first opened our doors in 2005. Why?  The secret is our 60-year old family recipe that originated in Brescia, Italy \\u2013 this includes our mouthwatering signature pizza sauce that combines a special blend of freshly picked, vine ripened tomatoes, Italian spices, our own secret ingredients and topped with our special blend of 100% California cheeses.  Top it all off with market fresh toppings and more for the superior quality that keeps people coming back for more!  View our menu online at cantonispizza.com, and let us fill your order when we return to the line.\",\n",
      "  \"At Applewood, you\\u2019ll find a homelike environment where we offer memory care, hospice care, toileting assistance, incontinence management, and two person transfers on a case by case basis, depending on the needs of our residents.  We encourage you to meet our nurses, who are on call 24/7, and our staff of Community Based Residential Facility certified care givers.   They provide excellent care and supervision for all our residents and have a true passion for what they do.  Our residents enjoy private suites, a full range of daily activities, and three daily home cooked meals prepared by a professional chef while they benefit from our over twenty years of experience and dedicated staff.  Come and visit anytime \\u2013 or schedule a fully guided tour when we return to your call.\",\n",
      "  \"Thank you for calling Visionary Centre for Women, offering traditional and cosmetic gynecologic services for women by women.  Dr. Jennifer Hayes has been in practice for over twenty years, and she is the first and only cosmetic gynecologist in Tampa Bay.  Her stellar reputation is renowned, and she combines her overall medical and surgical expertise with a comfortable, private office environment and experience for each patient.  Our office is centrally located fifteen minutes from both area airports, and seven minutes from South Tampa on the edge of Tampa Bay, to conveniently serve patients from Clearwater, St. Petersburg and Tampa. Find us on the web at visionary c e n t r e for women dot com.  We\\u2019re glad you called!  We look forward to helping you in just a few moments.\",\n",
      "  \"Dr. William Kotkin is a native Long Islander, having grown up in Roslyn, NY. He received his DMD degree from the prestigious Nova Southeastern College of Dental Medicine, in Ft. Lauderdale, Florida. Dr. Kotkin continued his education at Northwell Health, in Manhasset and at Cohen\\u2019s Long Island Jewish Pediatric Hospital. He worked alongside some of New York\\u2019s leading dental specialists in the areas of cosmetic dentistry, oral surgery, endodontics, periodontics, geriatric, and special needs. Dr. Kotkin\\u2019s warm and engaging personality, along with extensive experience treating complex medically compromised patients, enables him to comprehensively address any of your dental needs. He looks forward to providing you and your families with exceptional and compassionate dental care.\",\n",
      "  \"There are a number of ways to help alleviate your pain.  Our manual therapy skills help to effectively diagnose and treat various musculoskeletal conditions that often times don\\u2019t require surgery.  McKenzie Diagnosis and Treatment approach is a specialized technique of manual therapy that helps in treating your back, neck and peripheral joints in a timely manner through a series of specialized exercises. Our Physiotherapist has advanced knowledge in the effective assessment towards a more specific clinical diagnosis of Vertigo and TMJ, aimed at a more effective treatment outcome. You can learn more about the best treatment approach that will help enhance your health during your initial consultation. Check us online for more treatment options at blackgold p t clinic dot com.\",\n",
      "  \"Thank you for calling A-Concrete, Colorado\\u2019s most trusted and professional flatwork concrete contractor, proudly serving the Northern Colorado Front Range since 1982.  Family and locally owned, our team has the systems in place to ensure that your commercial or residential concrete project is completed effectively and efficiently, and we pride ourselves on the incredibly high quality of our work.  We\\u2019re 100% licensed and insured for your protection, and unlike many of our competitors, we have a storefront location that houses a dedicated staff to make sure that your needs are met.  We\\u2019re located at 1371 South Garfield Avenue in Loveland, and you can find us on the web at A dash concrete dot com.  We\\u2019re glad you called!  We look forward to assisting you in just a few moments.\",\n",
      "  \"If you are self-conscious about the appearance of your teeth, Dr. Levy and Dr. Kotkin would be happy to discuss your esthetic concerns. Coffee, other liquids, smoking and biological issues can cause your teeth to become discolored, misaligned and chipped. In addition to preventative offerings, our office also provides tooth whitening, bonding, all ceramic crowns and porcelain veneers to our patients. \\u00a0Porcelain veneers are thin shells of porcelain that are bonded onto the front side of teeth in order to improve them cosmetically. \\u00a0 Dr. Levy and Dr. Kotkin would be happy to discuss your cosmetic options. Get that dazzling smile you\\u2019ll be happy to share! \\u00a0Be sure to ask us about cosmetics when we return shortly \\u2013 a member of our  team will be glad to answer all of your questions.\",\n",
      "  \"Thank you for calling Synergy Fitness, one of life\\u2019s best escapes!  At Synergy Fitness, you can work out or relax to your heart\\u2019s content while you build a healthier body and lifestyle.  With state of the art fitness equipment, certified personal trainers, child care, private lockers and more, Synergy Fitness offers the comfortable and clean atmosphere you want and deserve to set and meet your health and fitness goals.  With locations all over Long Island, we\\u2019re conveniently located to provide you with promotions, classes, memberships and more.  Visit us at 999 Hempstead Turnpike in Franklin Square, and find us on the web at synergy fit clubs L I dot com for class schedules and the latest news and updates.  We\\u2019re glad you called!  We look forward to helping you in just a moment.\",\n",
      "  \"Thank you for calling Sukut Dental, where we believe that everyone deserves a beautiful smile and healthy teeth to last a lifetime!  The long established father and daughter practice of Dr. Sukut and Dr. Karly integrates state of the art technology with exceptional dental care for the entire family.   We call it comprehensive dentistry \\u2013 our patients call it amazing!  Our office is located at 2900 Bristol Street in Costa Mesa, one mile south of the South Coast Plaza, and you can find us on the web at sukut dental dot com.  Our hours of operation are Monday and Thursday from nine to six, Tuesday and Wednesday from seven to four, and Friday by appointment.  We look forward to partnering with you to create a lifetime of beautiful, healthy smiles.  We\\u2019ll be with you in just a moment.\",\n",
      "  \"Family-oriented dental care is very important to the Dr. Bear and her staff. For the convenience of our patients, we offer many different financing options such as, major credit cards (Visa, AMEX, Discover, Mastercard). We also accept Care Credit, for interest free financing options, as well as participating as an in network insurance provider like Always Care, Cigna, GEHA, Delta Dental, Guardian, and United Healthcare. Our office also files out of network insurance as a courtesy to our patients. We also pride ourselves on same day service.  Discover the friendly and caring difference of Bear Family Dentistry, where you know your family will receive the highest quality dental care from our experienced and compassionate dental team.  We\\u2019ll be on the line to assist you momentarily.\",\n",
      "  \"At Bear Family Dentistry, your health and comfort are paramount. We utilize state of the art technology to assure our patients the safest exams and most pleasant treatment experience possible.  Our digital radiography uses dramatically reduced emissions, providing a highly accurate diagnosis with far lower exposure to radiation than traditional dental xrays.    New to our office?  When you arrive, you\\u2019ll be welcomed to our open waiting room with windows for natural light, and plants throughout our office and  nine treatment rooms.  Our friendly staff will greet you and make you feel right at home. We value your feedback, and welcome your comments and reviews.  From our family to yours, thank you for choosing Bear Family Dentistry!  We\\u2019ll be on the line to help you in just a moment.\",\n",
      "  \"When the time comes to replace your air conditioning or heating equipment, our experts are ready to provide the solution that is just right for your individual needs. At Cold Comfort HVAC, we are an authorized Lennox dealer, and we are also pleased to offer many other brands you know and respect \\u2013 Goodman, Carrier, Trane, Rheem, and Ruud.  We\\u2019ll educate and guide you through the process of selecting your new equipment, and we\\u2019ll install your equipment in compliance with all standards and practices instituted by national and Montgomery County codes, building guidelines, and industry standards.  Visit our website at cold comfort h v a c dot com to learn more about the services we provide and to request a free estimate.  Thank you for holding.  We\\u2019ll be on the line shortly to help you.\",\n",
      "  \"Are you serious about sports?  Over 80% of an athlete\\u2019s performance is guided by their visual system.  Whether you\\u2019re a high school athlete or a pro, improving your vision is as important to your performance as training, eating right and using quality equipment.  Our Sport Vision Carolina Program will train you to see more and react faster, to Increase your concentration and focus, to track objects in motion more efficiently, to make quicker and more informed decisions, to recognize and respond to visual cues faster, and to determine rotation and speed of moving objects.  It takes top visual performance to get top athletic performance.  Watch an informative video on our website at blink charlotte dot com, and ask us about our Sport Vision Carolina Program when we return to your call.\",\n",
      "  \"If you have broken or missing teeth and thought dentures were the only option, welcome to the modern world of dental implants!  Dental implants substitute for the roots of missing teeth, serving as a permanent foundation for replacement teeth or a stable anchor for dentures.  With dental implants, you\\u2019ll regain the look, feel and function of your natural teeth, allowing you to speak and smile with confidence and enjoy your favorite foods again.  At Rose Dental, we perform both the placement and restoration of dental implants in our office, allowing you to complete the entire procedure in one convenient location, under the care of the professionals you know and trust.  Schedule a consultation to find out if you\\u2019re a candidate for life changing dental implants when we return to your call.\",\n",
      "  \"Next to you, wellness exams are your pet\\u2019s best friend!  Regular checkups are crucial opportunities for your veterinarian to screen for common health problems before they become full blown illnesses that can be harder and more expensive to treat.  Your veterinarian will also make sure your pet receives any necessary vaccinations so that he or she is protected from potentially fatal diseases.  It\\u2019s important to remember that in Massachusetts, your pet must be up to date with rabies vaccinations even if they stay in the house.  At Arlington Animal Clinic, we recommend a wellness visit every six to twelve months, with more frequent visits suggested for young and elderly pets.  We look forward to seeing your pet for a wellness exam soon!  Schedule your appointment when we return to the line.\",\n",
      "  \"At Concierge Veterinary Hospital of Naples, we\\u2019re state of the art - with everything needed to provide comprehensive care for your pet.   We have all digital radiography that is safer and more efficient to diagnose your pet.  Board certified internal medicine doctors perform in house ultrasound.  We have a complete dedicated dental suite with digital dental radiography, and the highest quality state of the art dental equipment and monitoring.  Should your pet require intensive care, we have two state of the art ICU units.  We provide internal medicine and endoscopy, and we contract with the finest veterinary surgeons for your pet\\u2019s care.  Medical boarding is also available for pets needing special care or medications.  Learn more on our website at c v h f l dot com.  We\\u2019ll be right with you.\",\n",
      "  \"Thank you for calling Whites Canyon Ford and Lincoln located at exit 14 on I-90 in Spearfish.  Everything we do is focused on taking care of our customers.  Ford has taken notice and has presented us with two different customer service awards 6 consecutive years in a row.  Those awards are the Presidents Award and the One Ford Elite Award.  Only the top 1% of dealers nationally receives both of these awards; which are heavily based on excellence in customer satisfaction in both sales and service.  We offer 2 waiting areas both with HD TVs, free WiFi, a coffee bar as well as a business center with computers.   We also provide free loaner vehicles, free customer shuttle pickup and free delivery locally as well as early bird drop off.  Thank you for your patience and we will be with you shortly.\",\n",
      "  \"Thank you for calling Champlain Smile Solutions, where Doctors Matt and Kay Giulianelli offer cosmetic, sedation, implant and general dentistry for the entire family.  Come and enjoy a different type of dentistry, where advanced technology combines with a gentle, friendly style to help patients of all ages maintain a beautiful and healthy smile.  We\\u2019re conveniently located at 110 Kimball Avenue, Suite 230, in South Burlington, right next to the Comcast building.  You can also find us on the web at champlain smile solutions dot com, where you can meet our team and learn more about the services we provide.  We\\u2019re glad you called, and we look forward to providing comprehensive, state of the art dental services for you and your entire family.  We\\u2019ll be on the line to help you in just a few moments.\",\n",
      "  \"When it comes to building your dream house, don\\u2019t cut corners on your HVAC system. You will pay for it later.  At Air Doctor Services, we\\u2019re new construction specialists. We utilize computer generated heat load calculations to know what size units to install, and slide rules to calculate the different size ducts needed.  We know what your entire system is going to look like before we pull out the first ladder. The phrase \\u201cgood enough\\u201d does not exist on our job sites. It just has to be right.  It may take a little longer, but we believe that quality and precision give you the most for your dollar, even after the installation is complete.  At Air Doctor Services, we can recommend the system that will be efficient, reliable and affordable for your home.  Ask for details when we return to your call.\",\n",
      "  \"R.R. Lalena Corporation is among the top distributors in the entire nation for the famous \\u201cLittle Tree\\u201d from Car Freshner and their new fiber can scents.   Please check our new extensive and unique line of aroma air freshners from Intenso Perfume, Aroma Glass Gel, Organic Cans, Lop Vent Clip, City Line and Prestige Card Paper air fresheners and many more items.    Don\\u2019t forget we also carry Areon air freshener products like the irresistible and elegant Sport Lux to the new Mon Orient, Areon Smile, and Areon Auto Care Wipes and so much more.  How about our fast selling line of Febreze Vent Clips air fresheners, Handstands, California Scenes, Auto Expressions (items like Ozium Air Sanitizers), and Yankee Candle?  Try eco friendly Auto Sticks air fresheners, Smoke Smell Be Gone and Blunt Power displays.\",\n",
      "  \"Whether you need new slab, city sidewalks, grading, floors, driveways, handicapped ramps, or other concrete flatwork for new commercial or residential construction, count on the experts at A Concrete to provide quality work and free estimates.  Our A+ rating with the Better Business Bureau is a testament to our dedication to customer service.  Come to us for services for existing residential too \\u2013 we can replace worn out walkways and driveways, and add decorative accents with stamped and colored concrete to give your existing home that new house flair.  Our expert team has been trained to help you every step of the way.  We take pride in our work, and we have years of experience helping our clients achieve their concrete needs.  Learn more about us and the services we provide at A dash concrete dot com.\",\n",
      "  \"At the office of Dr. Burch, we believe that a well informed patient is a happy patient!  We encourage your questions, and we invite you to visit our website at copperfield dentist dot com to learn about a wide variety of dental and periodontal treatments, to find tips for good family oral hygiene and preventive care, and to read about the latest in technological advancements that are used in treatment at our office.  If you\\u2019re a new patient, welcome!  You\\u2019ll find a wealth of information about scheduling, financial options and insurance, as well as patient testimonials and answers to many frequently asked questions.  We\\u2019re delighted that you\\u2019ve chosen Copperfield Dentistry, the office of Dr. Jacob Burch, for your family\\u2019s comprehensive dental care.  We look forward to assisting you in just a few moments.\",\n",
      "  \"Indoor air quality affects your family\\u2019s health and comfort all year round \\u2013 and at Cold Comfort HVAC Services, we offer central air purifiers, high efficiency air filtration, ventilators and humidifiers to improve your home\\u2019s air quality.  We install, service and repair activTek air purification, an innovative product that transforms water molecules from the air to clean and disinfect the air and counters of your home and to deter bad odors.  Fan powered humidifiers deliver year round comfort by directing moisture vapor directly into your furnace ducts for better and healthier comfort for your home and family, and will also reduce static electricity.  We also perform duct cleaning to keep your whole house systems working efficiently with cleaner, fresher air.  Ask for details when we return to the line.\",\n",
      "  \"A new year brings new beginnings! Flatrock Family Dentistry is excited to announce that in 2019, we will be opening a new and improved building for our practice! We will be closed from January 2nd - 11th to move into our new office. Our Grand Opening will be on January 14, 2019! The great news is, we will have the same location and we are keeping our convenient extended hours. At Flatrock Family Dentistry, we are dedicated to offering our patients the best care in a comfortable atmosphere. A new building will allow us to continue to grow, keep up with current technology and be more efficient for our patients. We are so excited to have you join us on this journey and we will be sure to keep you updated along the way. Please follow Flatrock Family Dentistry on Facebook to stay up to date with our progress.\",\n",
      "  \"At Bella Smile, our goal is to customize a treatment plan for each patient that addresses their concerns and fits their lifestyle.  Doctors Shen Garnett and Mahood truly care about each of their patients, and they use multiple approaches, not just one system.  Doctors Shen Garnett and Mahood personalize each treatment plan and offer various options for you to choose from, discussing the pros and cons of each.   Once in treatment, they monitor  every case closely and are always available to answer questions.  Our team is dedicated to providing excellent customer service during each of your visits, and appointments are made more comfortable in our relaxing environment with TVs on the ceilings.  Take a tour of our office on our website at bella smile dot com.  Thank you for holding.  We\\u2019ll be right with you.\",\n",
      "  \"Did you know that there are nearly one and a half million children in the United States with speech and language disorders? The American Speech-Language-Hearing Association recommends that parents closely monitor their children\\u2019s communication skills.  If your child is not speaking by his or her first birthday, or their speech is unclear, an evaluation may be wise to diagnose any concerns so that any needed therapy can begin as soon as possible.    At risk or high risk children including NICU babies, those with chronic ear infections, and premature babies, should be evaluated early and on a regular basis, as well as children who are not meeting their developmental milestones or who differ from their peers in speech and language use.  Ask for details and schedule an evaluation for your child when we return.\",\n",
      "  \"Thank you for calling the office of Dr. Ronald Howland, where we believe that a better life starts with a beautiful smile!   At our office, you\\u2019ll see smiles on the faces of our friendly and caring staff at every visit.  We\\u2019re a traditional practice where you are the center of attention \\u2013 you won\\u2019t be sharing the spotlight with patients in other treatment rooms.  When you are here, you\\u2019ll get the individual, undivided attention you deserve.  We\\u2019ve been in practice here for over thirty years, and we welcome patients of all ages at our office at 3209 Sawgrass Village Circle in Ponte Vedra Beach.  We also invite you to visit us on the web at ponte vedra smiles dot com, to get to know us and to learn more about the services we provide.  We\\u2019re glad you called!  We look forward to helping you in just a few moments.\",\n",
      "  \"Red eyes are a cry for help \\u2013 and at Blink Eyecare and Eyewear, we provide same day emergency care for red eyes or any eyes that need urgent care.  We\\u2019ll always do our best to see you as soon as possible to provide the care you need.  The best way to avoid emergency care is to have regular eye exams.  Often, eye and vision problems develop slowly and have no obvious symptoms or signs, so it\\u2019s important to have regular care to diagnose vision problems early, when they can be effectively treated.  Family history, work environment, medications and previous eye problems can all be factors in any symptoms or problems that you may be having, and Dr. Henderson and Dr. MacIntyre will perform comprehensive eye exams to evaluate the health of your eyes.  Schedule an appointment for an eye exam when we return to the line.\",\n",
      "  \"As winter weather approaches, we wanted to remind our clients about our Inclement Weather Policy.   If the weather forecast is calling for adverse weather conditions, our ability to be open for business will depend on the severity of those conditions.   While we usually are able to make it to the office through most weather there are times when snow, ice, and other conditions delay or prevent safe travel, and the safety of our clients and staff is one of our top priorities.   It does not happen often, but remember that there are days that we are unable to open or have to close early due to weather and/or power outages.   If there is any question as to the weather conditions, we recommend you wait until you can contact a LIVE staff member before coming to the office.   We hope everyone has a safe winter this year!\",\n",
      "  \"Grand Dental loves kids!  We believe dental care should be enjoyable and relaxing for kids and parents.  All our dentists are fully trained to ensure young children and teens receive the best possible dental care available.  We go out of our way to cater to our youngest patients with child friendly offices, some locations even have tree houses. Grand Kids actually have fun at the dentist! Schedule your child\\u2019s next appointment when we return to the line.  Is your child 7 or older?\\u00a0 An Orthodontic exam is recommended for all children ages 7 and up. Grand Dental Group provides complete orthodontic care in Aurora, Channahon, Franklin Park and now Lake Zurich.  Talk to a team member to schedule a consultation with our Orthodontic Team at no cost to you. We look forward to beginning your child\\u2019s journey to a GRAND smile!\",\n",
      "  \"Whether you are recovering from a recent illness or surgery,\\u00a0need help with medication management,\\u00a0live with chronic disease such as diabetes or COPD,\\u00a0or are in need of therapy to regain strength and functioning ability, Centra Home Health in Farmville can help by offering  Skilled nursing visits and education to help manage a chronic illness,  Help after a hospital stay, medication management, and physical, occupational and speech therapy.  We work in partnership with your physician to ensure the best possible care. \\u00a0\\u00a0Our highly trained staff develops an individualized plan of\\u00a0care which includes the services you will need\\u00a0to improve and maintain your physical, mental and social well being.\\u00a0\\u00a0Our home health staff provides and coordinates the care and/or therapy your doctor orders.\\u00a0Call 434-315-2550 for more information.\",\n",
      "  \"If you\\u2019re a new patient, welcome!  We want to reassure you that, at Gastroenterology Associates of Columbus, all five of our physicians and our four nurse practitioners are board certified.  You can be confident that you\\u2019ll be receiving the best medical treatment from professionals who are qualified, experienced and caring.  We\\u2019re committed to making our practice convenient and accessible.  We want all of our patients to be informed decision makers and to fully understand any health issues they face.  Visit our website at columbus g i dot com to get acquainted with our team, and to review valuable information about gastroenterology, endoscopy, and digestive problems and treatments.  You\\u2019ll also find a section especially for new patients, along with some informative videos.  Thank you for holding.  We\\u2019ll be right with you.\",\n",
      "  \"Ahhh, spring \\u2013 it\\u2019s a great time to enjoy the outdoors with your pet.  While it\\u2019s nice to see the spring plants and flowers, it\\u2019s important to remember that many common plants, flowers, and landscaping products are poisonous and can be dangerous for your pets.   Be sure to start your pet on appropriate flea and tick remedies early in the season to nip parasites in the bud \\u2013 and remember to schedule any needed boarding dates well in advance, since space fills up fast in the warmer months.  Got a long haired pet?  Schedule their grooming before it gets too hot to assure their comfort in the warmer weather.  Is your pet microchipped?  Doors are opened more frequently in the warmer months, and pets can escape \\u2013 a microchip can be your best friend\\u2019s ticket home.  Enjoy the spring and summer months, but keep your pet\\u2019s safety in mind.\",\n",
      "  \"Now is the time to experience optimum safety and style in the form of one of our spectacular vehicles.  Choose from such high grade options as the 2016 Jeep Renegade 4x4, delivering style and power in a single package!  Complete with a 1.4 liter turbo engine featuring a six-speed manual transition.  It also has 16-inch steel wheels, remote keyless entry with panic alarm and a height adjustable rear cargo floor.  All this and more make the Renegade the pinnacle of performance and convenience.  Or check out the all-new 2016 Ram Promaster City.  A compact van with a towing capacity of 2,000 pounds and an estimated 21 miles per gallon in the city and 29 on the highway, this is one dream machine that hits full tilt!  To check out these and all sorts of other exciting options, be sure to visit us online at white plains Chrysler dot com.\",\n",
      "  \"Cooler weather is on the way - but fleas, ticks, Lyme and heartworm disease can affect pets year round.\\u00a0 It\\u2019s important to have your pet screened for these diseases every year, and to keep them on appropriate preventive medication even during the colder months.  As the holidays approach, remember that while costumes for your pets can be fun, be sure to protect your pet by checking for small parts and tight collars that might pose a choking hazard.  Chocolate, so plentiful during fall and winter holidays, can be toxic for pets, so please keep it out of reach.  When walking your pet, keep your eyes open for burrs and other seed pods and plants that can stick on sensitive paws or fur.  These can cause throat and intestinal  problems if your pet chews them off and ingests them.  Enjoy the cooler weather, but keep your pet\\u2019s safety in mind!\",\n",
      "  \"Dr. Gary W\\u00f6rtz is board certified by the American Board of Ophthalmology, specializing in cataract and refractive surgery. In 2015, he was recognized as one of the top 40 surgeons under the age of 40, worldwide, and holds 19 individual patents for intraocular lens design in the US and internationally. His passion for refractive cataract surgery and innovation has resulted in numerous physician leadership and speaking opportunities.  Dr. W\\u00f6rtz has become one of the most sought after refractive cataract surgeons in the nation through his commitment to excellent outcomes and specializing in the latest technology.  From advanced intraocular lens implants to correct near vision, far vision and astigmatism as well as treatments for patients with glaucoma and cataracts, Dr. W\\u00f6rtz will be happy to create a customized procedure to suit your needs.\",\n",
      "  \"At Tech One Automotive, we\\u2019re proud to have some of Austin\\u2019s finest technicians.  Our mechanics are highly trained, A S E Certified Technicians, and we have the knowledge and years of experience to take care of all your auto service needs.   We stand behind that statement with a 4 year/40,000 mile warranty.  We\\u2019re proud to provide honest and reliable auto repair service.   We fix it right the first time \\u2013 and we strive to make your repair experience both easy and enjoyable.  From walk ins and same day service to our free shuttle service and Wi-Fi in our waiting room, your Tech One Automotive team wants to make everything from oil changes to transmission repair more than just a chore on your to do list.  Meet our knowledgeable and friendly team at tech one auto dot com, and schedule your next service appointment when we return to the line.\",\n",
      "  \"A board-certified veterinary oncologist has completed extensive training after veterinary school that focuses in oncology (the way cancer develops and how to treat it). Like most health care fields, the veterinary profession has become multi-tiered. Most conditions that develop in our pets are first evaluated by a primary care veterinarian. If an animal develops a\\u00a0problem or mass requiring advanced care and procedures, your primary care veterinarian or emergency room veterinarian may refer you to a veterinary oncologist. Dr. Joanna Schmit is our veterinary oncologist  who works closely with the family of a pet as well as the primary care veterinarian to coordinate the best quality of care. Dr. Schmit is available for consultations and treatment at BEVS Tuesday through Friday. Thank you for holding.\\u00a0 We\\u2019ll be with you in just a few moments.\",\n",
      "  \"Thank you for calling Cold Comfort HVAC Services, where we have a proven record of excellence in the residential heating and air conditioning field.  We specialize in installation and maintenance for residential customers in Montgomery County, and no matter how big or small your project, our experienced professionals are ready to serve you.  We\\u2019re a small family owned and operated business, and our focus is on providing you and your family with excellent service.\\u00a0Your comfort is our priority!  Our service hours are Monday through Friday 8am to 6pm, and Saturdays from 8am to 2pm, but you can reach us anytime for a free estimate, questions or for service through our website at cold comfort h v a c dot com.  Our operators are also available 24/7 to take your call. We\\u2019re glad you called!  We look forward to assisting you in just a few moments.\",\n",
      "  \"Be honest \\u2013 are you afraid to come and see us?  If this is your first visit, relax \\u2013 you\\u2019ll find our office to be not at all like the clinical atmosphere you might expect.  Patients love our gentle and comfortable setting and care \\u2013 it\\u2019s more like being in your  living room than a dental office.  We enjoy catching up with our patients\\u2019 lives and sharing experiences while we provide state of the art quality dental care for you and your entire family.  As a specialist, Dr. Kulangara is  qualified to perform complex cosmetic procedures as well as routine dental care, so you\\u2019ll enjoy the convenience of having all your dental work performed in one location, by the gentle professionals you know and trust.  Learn more about us and the services we provide at advanced dental arts dot com, and don\\u2019t be afraid - please schedule your appointment today.\",\n",
      "  \"We all love chocolate, especially during the holidays!  But chocolate is very toxic for your pet, so be sure to keep it out of reach.  Some candy, gum and even peanut butter contains Xylitol, which is also poisonous for your pet, so always check ingredients carefully before sharing your food with your pet.  Make sure guests are also told to keep medications and holiday treats out of reach.  Now is a great time to microchip your pet.  During the holidays, excited or frightened pets can escape as company comes and goes, and this simple procedure can be your best friend\\u2019s ticket home.  Plus \\u2013 if your pet has a microchip, you have free phone calls to poison control.  Avoid displaying holiday plants which may be poisonous, and ornaments, hooks and tinsel which can be eaten by your pet.  Enjoy the holidays ahead, but keep your pet\\u2019s safety in mind.\",\n",
      "  \"When your pet needs a diagnosis, our in house lab facilities and on site digital radiography,  and ultrasound capabilities can safely reduce the time required to make most diagnoses.  We are a \\u201claser friendly\\u201d practice \\u2013 offering two different types of laser therapy.  Laser surgery has many benefits - including less pain, less bleeding, less swelling, and overall faster recovery for your furry best friend.  Is your senior pet having trouble getting around? We also offer cold laser therapy which has many benefits including providing comfort to your pet who may be struggling with arthritis. Ask one of our veterinarians or one of our licensed technicians about this unique way of bringing relief from pain to your beloved pet. Your call is important to us, please continue to hold and one of our receptionists will be right back on the line shortly.\",\n",
      "  \"Dr. Mohamed Saad has become a leader in cosmetic dentistry. After receiving his undergraduate degree at the University of Michigan, Dr. Saad continued his education, obtaining a dental degree from the University of Michigan School of Dentistry. His superior academic performance resulted in his being awarded the Dental Departmental Scholarship. Dr. Saad\\u2019s many accomplishments include being national recognized for testing new cutting edge dental products from leading national suppliers.  Dr. Saad has been featured in many magazine articles, such as the University of Michigan alumni publication and appearing on the cover of the Wayne Dispatch. Dr. Saad has also been featured nationally in the American Health Initiative publication and has been recognized as a \\u201cTop Dentist\\u201d by the Consumer Research Council of America and by HOUR Detroit magazine.\",\n",
      "  \"You have reached the BlackGold Physical Therapy Clinic.  We are a multidisciplinary team of clinicians comprised of Licensed Physiotherapists and Registered Massage Therapists, with combined 32 years\\u2019 experience. We are highly knowledgeable in the management of various conditions, and our staff is passionate in giving our client a healing experience that is based on the latest available evidence-based practice to help our patients feel better and improve their physical condition.  We are constantly learning new methods, and take the time to develop treatment plans that meet your unique needs.  We are experts in the management of orthopedics and musculoskeletal conditions, motor vehicle accident recovery, sports injuries, TMJ dysfunctions, Vertigo/Dizziness and so much more.  Thank you for calling.  Someone will be with you as soon as possible.\",\n",
      "  \"Dr. Gary W\\u00f6rtz is board certified by the American Board of Ophthalmology, specializing in cataract and refractive surgery.  In 2015, he was recognized as one of the top 40 surgeons under the age of 40, worldwide, and holds 19 individual patents for intraocular lens design in the US and internationally. His passion for refractive cataract surgery and innovation has resulted in numerous  physician  leadership and speaking opportunities.  Dr. W\\u00f6rtz has become one of the most sought after refractive cataract surgeons in the nation through his commitment to excellent outcomes and specializing in the latest technology.  From advanced intraocular lens implants to correct near vision, far vision and astigmatism, to the iStent procedure for patients with glaucoma and cataracts, Dr. W\\u00f6rtz will be happy to create a customized procedure to suit your needs.\",\n",
      "  \"Whether you\\u2019ve got a domestic or import car, pickup truck, SUV, minivan, hybrid or crossover vehicle, we want to service your vehicle.  Our extremely talented mechanics are passionate about working on all makes and models.  Whether you have a check engine light, need a new set of tires, need your brakes checked or are having engine, transmission, wheel alignment, exhaust, air conditioning trouble or more, we\\u2019ve got you covered. We take pride in offering high quality auto services, done on the same day if possible. And we always stand behind our work with our great 4 year/40,000 mile warranty, so you know your vehicle is in the best hands!  For a complete list of the services we provide, visit our website at tech one auto dot com.  You can schedule a service appointment online, or just let us know how we can help you when we return to your call.\",\n",
      "  \"Now is the time to experience the optimum in style and safety! The 2018 Jeep Renegade 4x4 delivers power and design with a 1.4 liter turbo engine featuring a six-speed manual transmission along with available my sky sunroof and standard backup camera, 16-inch steel wheels, remote keyless entry with panic alarm and a height adjustable rear cargo floor. All these features and more make the Renegade the pinnacle of performance and convenience. Or maybe you should check out the all new 2018 Jeep Compass, the all new SUV with style and performance to meet the snowy conditions the winter will bring.  This dream SUV has more than 70 available safety and security features.  The all new Jeep Compass is the most capable compact SUV in its segment.  To see these spectacular vehicles and all other exciting options, visit us online at White Plains Chrysler dot com.\",\n",
      "  \"When it comes to comprehensive dental care, you'll be happy you chose Abington Dental Associates. \\u00a0From comprehensive exams and cleanings to white fillings and bonding, crowns and implants to partial dentures and root canals, you'll get the compassionate, attentive care that makes you feel like a member of our family.  You\\u2019ll be happy to learn that crowns can now be done in our office in just one day \\u2013 unlike the multiple appointments needed in the past.  Did you know that we offer a both in-office and a take-home teeth whitening options?  We have a revolutionary tooth whitening procedure that is safe, effective and fast!  It\\u2019s just another way the Abington Dental Associates works hard to provide you and your family with the highest quality of care.  So, if you\\u2019re looking for a whiter, brighter smile, be sure to ask us about our available whitening options.\",\n",
      "  \"We know firsthand how important dignity, comfort and security are for our clients.  When your loved one needs a little extra help with their daily living activities, we know that receiving that care in the security of their own home is the best solution.\\u00a0 We also recognize that sometimes in-home care isn\\u2019t the best answer, and we\\u2019ve made it our priority to know and work with only the very best senior housing providers in the greater Spokane area to help our seniors achieve the best possible care.  When in-home care is not an option, or it\\u2019s time to transition to other arrangements, we\\u2019re happy to help locate the appropriate option for your loved one at no additional cost.  The experts at Angel Senior Care can help you find the perfect fit in one of the area\\u2019s many high quality senior housing options.   Learn more on our website at angel senior care dot com.\",\n",
      "  \"Thank you for calling Blink Eyecare and Eyewear!  When it comes to comprehensive family eyecare, we provide everything for everyone.  Blink Eyecare and Eyewear is not a chain.  We\\u2019re locally owned by Dr. Tracy MacIntyre Raykovicz and Dr. Charlene Henderson, two local moms who love helping the community see better and maintain healthy eyes.  Our entire eye care staff goes the extra mile to make sure you and your family feel appreciated and well cared for.  Our office at 16618 Riverstone Way in Charlotte is located in the Cedar Walk Plaza on the corner of Marvin and Ardrey Kell.  We\\u2019re here to serve you Monday and Friday from 8:30 to 5, Tuesday from 10 to 5, Wednesday from 8 to 5, and Thursday from 9 to 6.  Learn more about us and the services we provide at blink charlotte dot com.  We\\u2019re glad you called!  We look forward to helping you in just a few moments.\",\n",
      "  \"Be prepared.  People are going to ask you where you got your glasses!  At Blink Eyecare and Eyewear, our goal is to offer frames you won\\u2019t see anywhere else, with the quality, design and function you deserve.  Our expert opticians make frame selection and lens design a fun experience!  Ask us about computer glasses, specialty glasses for sports like shooting and cycling, and the best in sun protection.  We offer the latest styles in designer frames from lines like Kate Spade, Barton Perreira, Tom Ford and more \\u2013 and if you\\u2019d prefer contact lenses, we specialize in providing the best fit for even hard to fit patients that weren\\u2019t able to wear contact lenses before.  Do you need custom fitting, adjusting or repair of your glasses?  Where did you get your glasses?  We hope you\\u2019ll answer - at Blink Eyecare and Eyewear!  Make an appointment when we return to your call.\",\n",
      "  \"Why choose Preferred Choice Cleaning?  We\\u2019re the one stop shop for all your cleaning needs, and we\\u2019re available six days a week. We focus on your needs and bring the right solution for your situation \\u2013 with honest, competitive and upfront pricing, and fully trained, respectful technicians that have been drug tested and background checked for your safety and peace of mind.  We\\u2019re fully licensed and insured \\u2013 and we offer a 100% money back guarantee if you\\u2019re not delighted with our service. In fact, we don't expect or accept any payment until you\\u2019re completely satisfied with our service.   We\\u2019re proud of our zero complaints with the Better Business Bureau and our over 350 combined A plus reviews on google, angles list, yelp and home advisor.  We\\u2019re the preferred choice of over 3000 homes and businesses on Long Island \\u2013 let us show you why when we return to your call.\",\n",
      "  \"At Bill Bunch Chevrolet, we\\u2019re still leading the way with one purpose \\u2013 to exceed your expectations from test drive through delivery to service down the road.  Looking for a quality preowned vehicle?  Let us show you Missouri\\u2019s largest selection of cars, trucks, s.u.v.s and crossovers with over seven million dollars\\u2019  worth of inventory in stock.  If you can\\u2019t find it here, chances are, it doesn\\u2019t exist!   We also maintain a large inventory of the same high quality  parts your vehicle was built with, and when it\\u2019s time for routine maintenance or repair, our state of the art facility offers the best in automotive service performed by our highly skilled, factory trained technicians.  Bill Bunch Chevrolet is  the working man\\u2019s friend.  Thank you for choosing Bill Bunch Chevrolet for your next new or preowned vehicle.  We look forward to serving you in just a few moments.\",\n",
      "  \"At Cannon\\u2019s Automotive, we\\u2019ll get the job done and done right!  All of our technicians are Automotive Service Excellence certified.  Anyone who touches your vehicle has been thoroughly trained and is dedicated to fixing your vehicle right the first time.   Our skill and our commitment to you are just a few of the reasons that we were named one of the Top Shops by Motor Age Magazine.  We\\u2019re also a AAA approved shop, exceeding their strict guidelines to achieve that recognition.  We\\u2019re a RepairPal certified shop, and we honor the RepairPal fair pricing guarantee.  We\\u2019re a NAPA auto care center, and we offer a 3 year 36,000 mile nationwide warrantee.  And we\\u2019re an AC Delco professional service center.  Need to hear more?  Let us earn your business!  Meet our team and find out about the services we provide at cannons auto dot com, or ask for details when we return to the line.\",\n",
      "  \"Sweis has been a trusted resource for professional beauty products for more than 18 years.  This has given us valuable experience when it comes to selecting the right products. We know what tools, education and resources you need to help grow your business. We carry only the best from brands such as Moroccanoil, Living Proof, Loma, Oligo Blacklight & Calura, Keratin Complex, ColorProof, CBD, Prive, Style Edit, Neuma, Aloxxi Color, Brazilian Bond Builder, Babe Hair Extensions, Reuzel, Verb, Framar, Saints & Sinners, Neulash, Hydropeptide, and more.  Sweis, Inc. is proud to announce the launch of Milbon. Milbon\\u00a0is Japan's number one professional haircare brand, whose sole mission is to provide helpful tools and solutions for stylists worldwide. To learn more, ask one of our representatives for information. Your call is very important to us. We will be back on the line shortly.\",\n",
      "  \"Experience.  When it comes to eye surgery, you want the best.  Dr. Ferguson and Wortz have performed 105 thousand surgical procedures in Lexington since 1985.  Doctors Ferguson and Wortz are the overwhelming choice of other eye doctors when selecting a surgeon for themselves or their family.   Doctors Ferguson and Wortz have a reputation of excellence that extends well beyond the bluegrass.  Each are regular lecturers at both national and international ophthalmology conferences and belong to some of the most selective ophthalmic societies.  Dr. Ferguson has been repeatedly name to the elite \\u201cBest Eye Surgeons\\u201d cadre, and recently, the prestigious British Journal, \\u201cThe Ophthalmologist\\u201d, named Dr. Wortz among the top 40 eye surgeons under 40 in the world.  For your piece of mind and superior surgical outcomes, choose the doctors the doctors choose - choose Commonwealth Eye Surgery.\",\n",
      "  \"Good nutrition is as critical to your pet\\u2019s health as it is to yours.  If you have a chubby puppy or a fat cat, ask us about prescription diet foods that may help to get them back in tip top shape for a longer, healthier life.  Our entire staff keeps abreast of the constantly changing pet food market, and we have the most up to date information on pet foods and recalls.  We offer prescription foods and medications in house for our pet patients, and any food that we do not regularly stock can be special ordered with advance notice.  We also offer Project Slim Down from Purina, a one year weight loss program that includes a health coach on the premises.  Project Slim Down consists of a healthy diet and exercise, and gives tips and incentives through the year.  Consult with your veterinarian for a weight goal and a plan for your pet.  Thank you for holding.  We\\u2019ll be right with you.\",\n",
      "  \"At Cantoni\\u2019s Pizza, we\\u2019re famous for Authentic Italian Pizza\\u2013 but if you\\u2019ve never tried our white pizza, it\\u2019s time for a special treat!  Available in:  Small, large, extra-large, and Sicilian square cut; our mouth-watering white pizza is a change of pace\\u2026topped with garlic, ricotta, parmesan and oregano cheeses \\u2013 try adding grilled chicken, spinach, and tomatoes\\u2026 and you might   have a new favorite!  Anytime you\\u2019re in the mood for something a little different with that same Cantoni\\u2019s flair for flavor, try a specialty pizza or calzone with choices:  buffalo chicken, BBQ chicken, chicken parmesan, rancher, or Hawaiian toppings.  Or choose your desired size of our traditional cheese pizzas and add any combination of your favorite toppings from a wide variety offered!  View our menu online at cantonispizza.com, and do your best to be ready to place your order when we return to the line.\",\n",
      "  \"Thank you for calling Coleman Taylor Transmissions, with twelve convenient locations to serve you!  Trusted since 1961 with an A plus rating with the Better Business Bureau, we offer the same great benefits at all of our locations \\u2013 including free inspection of your transmission without disassembly and an upfront price for repair, a leading nationwide warranty of up to five years and 100,000 miles for every major rebuild, free towing with any major service within 50 miles of any Coleman Taylor location.  We also accept all major credit cards, and other financing options are available.  Visit our Franklin location at 318 Downs Boulevard, where we\\u2019re open to serve you Monday through Friday from 7:30am to 5:00pm, or find us on the web at coleman taylor franklin dot com.  Look for our online specials and coupons!  We\\u2019re glad you called.  We look forward to helping you in just a few moments.\",\n",
      "  \"Experience.  When it comes to eye surgery, you want the best.  Doctors Ferguson and Wortz have performed over 95 thousand surgical procedures in Lexington since 1985.  Doctors Ferguson and Wortz are the overwhelming choice of other eye doctors when selecting a surgeon for themselves or their family.   Doctors Ferguson and Wortz have a reputation of excellence that extends well beyond the bluegrass.  They are regular lecturers at both national and international ophthalmology conferences and belong to some of the most selective ophthalmic societies.  Dr. Ferguson has been repeatedly name to the elite \\u201cBest Eye Surgeons\\u201d cadre, and recently, the prestigious British Journal, \\u201cThe Ophthalmologist\\u201d, named Dr. Wortz among the top 40 eye surgeons under 40 in the world.  For your piece of mind and superior surgical outcomes, choose the doctors the doctors choose - choose Commonwealth Eye Surgery.\",\n",
      "  \"Have you tried everything but are still experiencing pain? At Advanced Health and Wellness Center we use a new tool called Micro current to help target specific issues in the body, especially in the immune system and nervous system.  With small frequencies that your body doesn\\u2019t even feel we increase the ATP, or energy production, in the cells of your body. This process dramatically increases the tissue's healing rate. Our patients often notice that scars will soften, trigger points become less painful and swelling drains within minutes.  In most situations the changes seen seem to be long lasting and in many cases even permanent. Nutritional support may also help you maintain the improvement by supporting cellular health and detoxification of the tissues. Do you want to see what is really helping our patient get out of pain fast?  Schedule a free consultation when we return to your call.\",\n",
      "  \"If you drive a car, you know the importance of routine maintenance.  Extend the life and improve the efficiency of your heating and air conditioning equipment with the same attention to routine care.   At Cold Comfort HVAC Services, we provide our customers with a thorough checkup of all electrical and mechanical components to make sure your systems can make it through the hottest days of summer and the coldest days of winter.  And when the time comes for a repair, we service all makes and models of HVAC equipment in the industry with the knowledge, training and experience to get you back up and running.   We stand by our work with a 30 day labor warranty for all repairs, too.  If it\\u2019s time to service or repair your furnace, air conditioner or heat pump, visit our website at cold comfort h v a c dot com to request a service appointment, or schedule a service call when we return to the line.\",\n",
      "  \"Routine maintenance is the key to long and safe performance of your vehicle, and at Budget Auto Repair and Transmission, we do it all.  From routine oil changes and tune ups to battery checks, from hoses and belts to timing belt replacements, shocks and struts, suspension and steering, to transmission flushes, service, repair or replacement  and more, count on Budget Auto Repair and Transmission to provide expert diagnosis and repair for all your vehicle  needs.  We love our customers, and we provide the best in quality customer service and repairs to keep you driving and safe behind the wheel.    Learn more about us and the services we provide at budget auto repair dot com, where you\\u2019ll also find our  latest specials and coupons. Book an appointment online, or ask for assistance when we return to your call.  We\\u2019re glad you chose Budget Auto Repair and Transmission!  We\\u2019ll be right with you.\",\n",
      "  \"At Artistry Salon, we know that our guests want and expect the latest in looks and trends.  To this end, we believe that what sets us apart is our commitment to education.  The foundation of our success is our ability to mix the technical excellence of classic hair design with the latest trends in fashion and hair design.  We choose stylists with a passion for their art and high quality character.  They complete our in depth training program and continue to receive advanced training even after they become masters.  We embrace a variety of education philosophies, and are not \\u201cstuck in a box\\u201d with one way of thinking.  At Artistry Salon, our guests deserve and receive the best techniques and approaches to customize the look that is just right for them.  Visit our website at artistry s w f l dot com to learn more about us and the services we provide, and book an appointment when we return to the line.\",\n",
      "  \"At Visionary Centre for Women, we believe that you deserve a doctor who cares about your entire well being, is highly trained and experienced, and who understands you.  Dr. Hayes and her all female team provide a comfortable, safe place to share your concerns and desires with a doctor who has treated thousands of women from all over the world.  Dr. Hayes works with you to design a personalized treatment based on your own individual and unique needs.  She also brings her expertise as the first and only cosmetic gynecologist in Tampa Bay to each case, offering her patients more than just the traditional treatments and options for care.  If cosmetic gynecology is new to you, please visit visionary c e n t r e for women dot com to learn more about the range of services that restore, tone and rejuvenate what childbirth and aging may have taken away.  Let us know how we can help you when we return to the line.\",\n",
      "  \"When it\\u2019s time for service, Whites Canyon Ford and Lincoln has the area\\u2019s best factory trained technicians in our service center.  With all the latest diagnostic tools and equipment, we will fix your vehicle right the first time.  We also stock many name brand tires in all the popular sizes and offer a best price guarantee on most major tire brands. We carry an extensive selection of Motorcraft parts with a knowledgeable Parts staff to back them up.  We can usually get hard to find Ford and Lincoln parts within 24 hours.  Looking for Spray on bed liners, grille guards, running boards or Western snowplows?  Lucky for you, we have an excellent Accessories department.  Service, Parts and Accessories are open Monday through Friday from 8 am to 5 pm and Service and Parts are open Saturday 8am to noon.  Schedule your next service appointment conveniently online at Whites Canyon Ford dot com.  Thank you for your patience.\",\n",
      "  \"A native of San Francisco, Dr. Bella Shen Garnett attended the Katherine Delmar Burke School, San Francisco University High School, and is a graduate of Stanford University and the Harvard School of Dental Medicine. As one of the few board certified orthodontists in San Francisco, Dr. Shen Garnett is an expert in Invisalign, which straightens teeth using a series of clear, invisible, removable aligners.   Dr. Shen Garnett is the most experienced orthodontist in the Bay Area using Invisalign.  She is proud to be a top 1% provider in North America, and is able to correct almost every bite, close open bites without surgery and treat cases without extractions.  She lectures for Invisalign nationwide on how to obtain excellent treatment results comparable to braces.  Get to know Dr. Shen Garnett on our website at bella smile dot com, and schedule your complimentary consultation today and get that smile you always wanted.\",\n",
      "  \"Thank you for calling A-1 Bonded Termite, the leader and trusted name in termite control in Los Angeles and Orange Counties since 1976.  We\\u2019re family owned and operated, and we pride ourselves on quality termite control and superior customer service.  Our trained professionals will inspect your home, business, RV or boat and provide the most effective and cost efficient termite solution for your unique needs.  We\\u2019re proud to work closely with many top producing Los Angeles and Orange County realtors as well as many homeowners in our area.  For over 35 years we\\u2019ve served our residential and commercial clients with honesty and integrity while promoting goodwill within our industry.  Visit our website at a 1 bonded termite dot com to schedule inspections, get forms, pay your bill, and learn more about us and the services we provide.  We\\u2019re delighted you called, and we look forward to assisting you in just a few moments.\",\n",
      "  \"At Bella Smile, we offer the most up to date advances in orthodontic treatment and utilize the latest technology to make your appointments comfortable and efficient.  The iTero digital scanner allows us to take an accurate digital impression of your teeth giving us better fitting appliances as well as a more comfortable patient experience.  We also offer options for accelerating your orthodontic treatment and as one of the first offices to utilize Acceledent, Propel, VPro5, and Orthopulse, we have the most experience nationwide with these techniques.  Dr. Bella Shen Garnett has been recognized as a leader in accelerating orthodontic treatment.  By doing a small procedure, or using an appliance 5 to 20 minutes, we can increase comfort and shorten your treatment time by over 50%.  Learn more on our website at bella smile dot com, and ask if you\\u2019re a candidate for accelerating your treatment when we return to your call.\",\n",
      "  \"When you hire Preferred Choice Cleaning Services, you\\u2019ll have the peace of mind that comes from knowing that your service professionals have been background checked by an independent third party source, as well as by our staff.  You\\u2019ll receive an email prior to your appointed time with a photo of your service team, along with an independent third party reference for them, and you\\u2019ll also be able to access our insurance information before any work is performed.  On the day of your appointment our technicians will arrive at your home or office on time in clean lettered vehicles wearing company shirts and displaying I.D. badges. They will be respectful to you, your family, your pets and your property. Visit our website at choice cleaning L I dot com to find out what people are saying about us, and you\\u2019ll see why Preferred Choice Cleaning Services is proud of our five star rating from our clients.  We\\u2019ll be right with you.\",\n",
      "  \"Since 1997, Arizona Auto & Radiator Repair has been proud to provide motorists in the Sierra Vista area with comprehensive auto repair services that include\\u00a0general services, alignment, auto body and paint refinishing services, brakes, car and truck care, collision repair, domestic car and truck routine maintenance and service, electric and hybrid vehicle care, electrical and electronic services, engine and transmission, and engine maintenance.  Got a fleet?  We do brakes, drive train, electrical and electronics, engine work, general services, suspension work, tires, wheel services, heating and cooling services.  Drive an import?  We service import cars and trucks, provide tires, towing, transmission services and undercar services.  Our goal is to offer the best services available at affordable prices to get you back on the road in no time.  Learn more on our website at a z auto repair dot net.  We\\u2019ll be right with you.\",\n",
      "  \"While summer is a time for fun, keep in mind that our little friends need special care to stay healthy.  Remember these things to make sure your pet has as much fun this summer as you do.  Never, ever leave your pet in the car.  Make sure your pet always has access to fresh water and shade when outdoors.  Take walks during cooler parts of the day, and try to avoid hot surfaces, like asphalt, that can burn your dog\\u2019s paws.  Always make sure your pet has a means of cooling off, like a pet door to get indoors.  Make sure pets are free of external parasites, like fleas and ticks, and heartworms.  Consider clipping or shaving dogs and cats with long coats - just check with us to make sure it\\u2019s appropriate - and apply sunscreen to your pet\\u2019s skin if he or she has a thin coat.  Be careful to use pet safe lawn products and chemicals and check to make sure any new plantings are not poisonous for your pets.  We\\u2019ll be right with you.\",\n",
      "  \"Along with our A plus rating with the Better Business Bureau, Angel Senior Care is proud to be among the top four to five percent of care companies in the country to receive the prestigious Best of Home Care Leader in Excellence Award from Home Care Pulse in recognition of our dedication to providing outstanding home care services, trending for three years in a row.  As Spokane\\u2019s only recipient of this award, we are proud to offer the very best in home care for the Spokane area.  We also have over a dozen quality awards.  Angel Senior Care Certified Nursing Aides as well as Home Care Aides working as caregivers will provide your loved one with various household tasks as well as activities of daily living, such as: cooking, light housekeeping, personal grooming, personal assistance, companionship and transportation.  Your senior loved ones can stay at home safely under the care of Angel Senior Care.  We\\u2019ll be right with you.\",\n",
      "  \"As the weather gets warmer, you depend on your air conditioning system to keep you cool and comfortable.  But did you know that annual service of your air conditioning system also improves the quality of your indoor air, and creates and sustains a healthy indoor environment for your employees, family, and pets?  A clean system operates more efficiently, too, which results in longer life for your equipment and lower monthly energy expenses.  Whether it\\u2019s brand new or old and reliable, schedule a cleaning for your air conditioning system with the professionally trained, courteous technicians at Hall Air Conditioning, and enjoy the health benefits of better air quality, as well as the economic boost of lower operating expenses and longer, more efficient equipment life.   A little routine maintenance now can save you major expense in the future. Find our more on our website at hall air conditioning dot com.  We\\u2019ll be right with you.\",\n",
      "  \"One of the sexiest qualities a person can have is confidence.  If childbirth or aging have stolen some of your confidence, Visionary Centre for Women, home of the Laser Vaginal Rejuvenation Institute of Tampa Bay and Sarasota, can help you get it back.  We offer a range of innovative, leading edge, and non traditional, minimally invasive options for cosmetic gynecologic care.  Dr. Jennifer Hayes and her all female staff offer options such as Vaginoplasty, Laser Vaginal Rejuvenation and Labiaplasty, THERMIva non-surgical rejuvenation treatments, individualized Bioidentical Hormone Regimens, Biote hormone pellet therapy, O-Shot Plasma Rich Platelet, or PRP therapy, the G-shot, and more.  Each treatment or procedure is designed to significantly enhance your confidence, comfort and well being from the inside out.  Learn more on our website at visionary c e n t r e for women dot com, and schedule a consultation when we return to your call.\",\n",
      "  \"Thank you for calling Artistry Salon, where we have a passion for creating beautiful hair, and creating a one of a kind experience for our guests.  We take an organic approach to our hair design, from our advanced training program to the high quality, clean and certified organic products we use.  We believe that everything we put in and on our bodies must be nutritious and safe, and we believe in integrity and respect in all that we do, from the relationships we have with our guests to the social responsibility we have for the environment.  We\\u2019re located in the beautiful Coconut Point Mall, at 23140 Fashion Drive South, Suite 109 in Estero, and we have convenient hours to serve you.  Our hours vary throughout the year, so please check our website at artistry s w f l dot com for our current schedule, or book your appointment when we return to the line.  We\\u2019re delighted that you called!  We look forward to assisting you in just a few moments.\",\n",
      "  \"At Bella Smile, we understand that you are busy and don\\u2019t want your orthodontic treatment to take a long time. That is why offer the most up to date advances to Accelerating your Orthodontic treatment. We were one of the first offices in the United States to utilize these techniques, and we have the most experience nationwide using Acceledent, Propel, VPro5 and Orthopulse. Doctors Shen Garnett and Mahood have been recognized as leaders in accelerating orthodontics, and are the only doctors in San Francisco with experience in all of these techniques. Dr. Bella Shen Garnett also lectures to teach other orthodontists how to incorporate acceleration into their treatments. By doing a small procedure, or using an appliance 5 to 20 minutes a day, we can increase comfort and shorten your treatment time by over 50%.  Learn more on our website at bella smile dot com, and ask if you\\u2019re a candidate accelerating your treatment when we return to your call.\",\n",
      "  \"Thank you for calling Arlington Animal Clinic, where your love for your pet motivates us to provide the best possible veterinary care.  We pride ourselves on providing full service, high quality veterinary medical care for your dog, cat or exotic pet in a warm and welcoming environment.  We strive to remain on the cutting edge of all aspects of veterinary care, and our clinic has a full in-house laboratory with on-site digital and dental xrays, as well as surgical suites that are equipped with the latest and safest technology for your pet.  While we are high tech, our clinic maintains a cozy, small town atmosphere, and we look forward to welcoming you and your furry family members.  We\\u2019re located in East Arlington, just outside Arlington Center, at 191 Broadway, and we are open for appointments Monday through Friday from 8am to 6pm and on Saturdays from 8am to noon.  We\\u2019re glad you called!  We look forward to assisting you in just a few moments.\",\n",
      "  \"Are you seeking relief for pain?  Whether it\\u2019s for pain or a desire to live a long life full of wellness, at Advanced Health and Wellness Center, we\\u2019re here for you.  We\\u2019ll find the cause of your pain and work as a team to come up with a customized care plan to help you.  Our range of services includes chiropractic care, therapeutic exercise, massage therapy, trigger point therapy, PRP therapy, spinal decompression therapy, laser therapy, functional medicine services, neuropathy treatment and medically supervised weight loss.  We also offer a variety of services in our fitness center as well including membership, personal training and group classes. We strongly believe that an integrated approach to care which includes a medical component, a fitness component and nutritional guidance is key to getting your body what it needs to function at its highest level.  For more information on our services please ask for details when we return to your call\",\n",
      "  \"Indoors and outdoors, we\\u2019re all exposed to things that affect the health of our eyes.  Most of us enjoy a sunny day outside, but UV radiation and glare can create a variety of issues, from dangerous \\u201csnowblindness\\u201d to irreversible disorders that threaten your eyesight.  The right amount of protection for your eyes is as important as sunblock, and you\\u2019ll find a wealth of information about sunglasses on our website at blink charlotte dot com.  Indoors?  How many hours a day do you spend looking at a computer or other screen?  Blurry vision, headaches, eye strain and discomfort, dry, scratchy eyes and neck and shoulder pain are just some of the symptoms of this 21st Century lifestyle.  Ask us how we can help you avoid and correct some of these problems that affect your vision when we return to your call.  Thank you for choosing Blink Eyecare and Eyewear for your family\\u2019s comprehensive eye healthcare.  We look forward to helping you in just a moment.\",\n",
      "  \"Whether your transmission needs a minor repair or a major rebuild, the transmission experts at our twelve locations have the experience and state of the art tools to get the job done right.  For minor transmission repairs, our ASE certified technicians properly diagnose the exact problem, and we recommend only the repair your vehicle needs.  Need a new transmission?  Did you know you can save up to 50% off the cost of a new transmission simply by using a rebuilt transmission?  You\\u2019ll receive quality transmission rebuilds and replacements at Coleman Taylor Transmissions, where we thoroughly clean and inspect all internal and external components.  Coleman Taylor Transmissions major rebuild service has earned over fifty years of trust, and our rebuilt transmissions are backed with the nation\\u2019s best warranty, up to five years 100,000 miles nationwide.  Learn more on our website at coleman taylor dot com.  Thank you for holding.  We\\u2019ll be right with you.\",\n",
      "  \"Thank you for calling Angel Senior Care, Spokane\\u2019s only multiple year recipient of the Best of Home Care Leader in Excellence Award for outstanding home care.  Our company was founded on the belief that each and every individual deserves the very best care, compassion and attention that we can offer.  When you entrust the care of your loved one to the experience and commitment of Angel Senior Care, you\\u2019ll enjoy the peace of mind that comes from knowing that it\\u2019s our passion to treat them with the same dignity and respect that our own grandparents and parents would expect and deserve.  Our combined over thirty years of experience in the health care industry means we strive to put the health and wellbeing of our clients first, and we hire only caregivers who share our purpose, passion and commitment.  Learn more about us and the services we provide at angel senior care dot com.  We\\u2019re glad you called!  We look forward to helping you in just a few moments.\",\n",
      "  \"Round out your meal with one or more of our great appetizers - like large cheese bread with marinara, jumbo fried mozzarella sticks, large pepperoni sticks with marinara, garlic knots, chicken tenders with fries, buffalo chicken tenders or classic french fries.  Add a salad to make your meal complete \\u2013 choose from tossed, antipasto, chicken Caesar, Tuscan chicken, or steak salad with tomato, crisp green peppers and onions.  If you\\u2019re in the mood for something other than pizza, try our hoagies with cheese for a change of pace \\u2013 Steak, Meatball, Buffalo chicken and Italian meats are the most popular choices\\u2026but check out our menu to find what suits you!  You can also add toppings or dressings to your hoagies to add more flavor!  And choose your favorite beer or non-alcoholic beverage.  We\\u2019ve got all your favorites including Aquafina water and Gatorade!   Cantoni\\u2019s Pizza has something for everyone, every time!  We\\u2019ll be happy to take your order in just a moment.\",\n",
      "  \"Our website it designed with you in mind!  At visionary c e n t r e for women dot com,  you\\u2019ll find comprehensive information about a variety of cosmetic treatments and procedures, as well as a before and after gallery.  Read our glowing testimonials from women around the world who have sought and received our rejuvenating treatments \\u2013 and learn how they appreciated the expert, comfortable and friendly care they received from Dr. Hayes and our all female team.  Learn about financing options and book a consultation online.  You deserve to regain the confidence and youthful exuberance that makes life as a woman fun again.  Dr. Hayes is here to provide stellar care and the best in state of the art cosmetic gynecology, with experience and expertise to restore the quality of life that you want and deserve.  Schedule a consultation when we return to your call.  Thank you for choosing Visionary Centre for Women!  We look forward to helping you in just a few moments.\",\n",
      "  \"Cars have changed and we\\u2019ve changed with them. Chevrolet continues its history of challenging conventional thinking.  We\\u2019re still the Heartbeat of America, and we\\u2019re the world leader in small cars with Cruze, Sonic, and Spark EV.  At Bill Bunch Chevrolet, we\\u2019re also leading the way with one purpose \\u2013 to exceed your expectations from test drive through delivery to service down the road.  We want you to know that the vehicle you drive away in is the perfect one for you.  When it\\u2019s time for routine maintenance or repair, our state of the art facility offers the best in automotive service performed by our highly skilled, factory trained technicians.  We maintain a large inventory of the same high quality parts your vehicle was built with, and we work with many financial institutions to assist every customer with their unique credit needs.  Thank you for choosing Bill Bunch Chevrolet for your next new or preowned vehicle.  We look forward to serving you in just a few moments.\",\n",
      "  \"Thank you for calling Applewood Senior Living Communities, providing assisted living and memory care for our residents for over twenty three years.  At Applewood, we are family \\u2013 and we provide a higher level of care than most assisted living facilities.  Each  HYPERLINK \\\"http://applewoodliving.com/locations/\\\" \\\\o \\\"Our Locations\\\" Applewood community was specially designed to provide a home-like atmosphere that is safe, secure, warm, and uplifting, and was conceived from our desire to create a place where we would be confident and happy to place our own family members.  Applewood of New Berlin, located at 2900 South Moorland Road in New Berlin, opened in 1996, and Applewood of Brookfield, located at 2800 North Calhoun Road in Brookfield, opened in July of 2013.  Take a photo tour of each location on our website at applewood living dot com, and schedule an on site tour when we return to your call.  We\\u2019re glad you called!  We look forward to helping you in just a few moments.\",\n",
      "  \"What makes the Applewood experience different?  When we say we\\u2019re family, we mean it!  We\\u2019re actively involved with our residents daily, and we consider them an extension of our own families.  Each of our employees strives to make sure that each and every resident feels at home, providing quality care while they cultivate meaningful relationships with each resident, their families and loved ones.  We know this is your loved one\\u2019s home, and we take that seriously every hour of every day.  Each Applewood location is a home like residence that provides spacious individual suites for privacy, combined with common areas and scheduled meals and activities, allowing each resident to enjoy personal dignity as well as a sense of community.   Come and visit anytime \\u2013 you are always welcome at Applewood!  Or schedule a fully guided tour when we return to the line.  Thank you for choosing Applewood Senior Living Communities.  We look forward to helping you when we return to the line.\",\n",
      "  \"Start your Fall season with a dazzling confident smile. Visit our website at w w w dot smile studio 87 dot com to learn about the cosmetic dentistry procedures that can beautify your smile. Professional whitening gives you a dramatically whiter smile in just over an hour.  Take advantage of our End of Summer Special: only 195 dollars for your in-office teeth whitening and leave with a brighter smile.  Lumineers are a permanent solution to straighten and whiten your smile. They eliminate unsightly gaps and gives your smile the perfect appearance you\\u2019ve always wanted.  Lumineers are clinically proven to last up to 20 years, so you\\u2019re assured that your smile will last. The Snap-On Smile can also provide you with an affordable and high-quality alternative. The thin yet strong dental arch fits like a glove right over your existing teeth to give you a beautiful and natural looking smile! Transform your smile and restore your confidence with cosmetic dentistry from Smile Studio 87.\",\n",
      "  \"Now is the time to experience the optimum in style and safety! The 2019 Jeep Cherokee limited 4 by 4 delivers power and design with a 3 point 2 liter V6 engine featuring a nine-speed automatic transmission along with standard backup camera and blind spot monitoring, apple card play/android auto, leather seating and 18 inch aluminum wheels.  All these features and more make the Cherokee limited the pinnacle of performance and convenience.  You will find comfort in knowing that the Cherokee limited has among the best safety features to better protect you and your family.  Or maybe you should check out the all new 2019 Jeep Compass, the all new SUV with style and performance to meet the snowy conditions the winter will bring.  This dream SUV has more than 70 available safety and security features.  The all new Jeep Compass is the most capable compact SUV in its segment.  To see these spectacular vehicles and all other exciting options, visit us online at White Plains Chrysler dot com.\",\n",
      "  \"EJ Equipment believes the first time is the best time to get it right. We are an equipment house supporting contractors and governmental agencies.  We sell a diverse selection of new and used equipment used by governmental agencies and private businesses throughout the states of Illinois, Missouri, and beyond.  We provide a full range of mechanical services and stock complete line of parts for all makes and models of equipment in our industry. For our customers with short term equipment needs, we have a fleet of rental equipment utilized throughout the country. EJ Equipment is pleased to provide support to our customers out of our full-service locations in Elmhurst, Illinois and Manteno, Illinois. Our new location in Troy, Illinois is now open and readily servicing the St. Louis area. It is conveniently located near the junction of interstate 55 and interstate 70, just south of Illinois Route 162, on Formosa Road. Please stay on the line and someone will be with you in just a moment.\",\n",
      "  \"When it\\u2019s time to party, it\\u2019s time for Aba Daba Rents!\\u00a0 Whether it\\u2019s for indoors or outdoors, we have all the equipment and supplies you need to make your next party an event to remember.\\u00a0 Come to us for audio visual equipment, barbecues, beverages and food service supplies, canopies and tents, tables, farm tables, many styles of chairs, hot and cold food service equipment.\\u00a0 We can also supply patio and tent heaters for cold weather or portable way cool evaporative cooler or misting fans for cooling in the hot Sacramento summers.\\u00a0 indoor up lighting\\u00a0 and outdoor market lighting, linens of many colors, pipe and drape accessories, staging and flooring, tables, tents, umbrellas and all the assorted party goods you need.\\u00a0 Planning a wedding?\\u00a0 Ask us about china, flatware, arches, cake and cupcake stands and many other items for the elegant reception of your dreams.\\u00a0 We are always happy to provide a written quote of your greatest wish list.\\u00a0 Thank you for holding.\\u00a0 We\\u2019ll be right with you.\",\n",
      "  \"Thank you for calling Dogwood Animal Hospital, where we know that your pet is a special member of your family. You share a precious bond with your four legged friend, and we are dedicated to providing the very best care to help your pet live a long, happy and healthy life.  We provide a unique level of personal attention to our patients and their owners - and soft, fluffy bedding, warm blankets, and pillows give your pet the royal treatment with every visit.  Add the exceptional medical, dental, diagnostic and surgical care we provide, and you\\u2019ve got a superior yet down home veterinary experience that you simply won\\u2019t find anywhere else   Visit us at 2050 Sugarloaf Parkway, at the intersection of Sugarloaf Parkway and Grayson Highway 20, next to CVS, or half a mile from the Gwinnett County Fairgrounds.  Learn more about us and the services we provide at dogwood animal hospital dot com, and find us on Facebook and Twitter.  We\\u2019re glad you called!  We\\u2019ll be on the line to help you in just a moment.\",\n",
      "  \"Fitness is the largest component of staying healthy.  But fitness is more than exercise \\u2013 it\\u2019s a lifestyle!  A Synergy Lifestyle Coach will change the way you live life.  A lifestyle coach is not just a personal trainer, they are a trained fitness professional.  At Synergy, our over 100 nationally certified lifestyle coaches are equipped with knowledge and understanding to help you get fit and maintain a healthy standard of living.   They know that the most important element of fitness is creating a routine that brings you to your goal safely and efficiently, with the versatility that offers the quickest path to results.  Change up your routine weekly with the wide variety of classes and programs we offer.  Our lifestyle coaches travel between our six locations, an exclusive service that guarantees you\\u2019ll be partnered with a compatible coach to help you reach your own unique fitness goals.  Learn more on our website at synergy fit clubs L I dot com, and ask for details when we return to the line.\",\n",
      "  \"BEVS offers comprehensive pain management services which include rehabilitation, acupuncture and therapeutic laser treatments. These services are available through Dr. Pamela Levin, who is certified in veterinary acupuncture and canine rehabilitation therapy. Canine physical rehabilitation adapts human physical therapy techniques and equipment to increase function and mobility of joints and muscles in animals. Rehabilitation can reduce pain and enhance recovery from injury, surgery, degenerative diseases, age-related diseases, and obesity.  Laser therapy is available as part of the pain management program available at BEVS. Class four therapeutic laser is a drug free, non-invasive treatment that decreases pain, inflammation and can speed healing. Commonly treated conditions include arthritis, hot spots, wounds, disc disease, hip dysplasia and cystitis. Laser treatments are painless and easily administered, often in just a few minutes. Thank you for holding.\\u00a0 We\\u2019ll be with you in just a few moments.\",\n",
      "  \"How do you know if your body is functioning properly? At Advanced Health and Wellness Center our new Functional Medicine Program will tell you which processes and body systems may not be working to their full potential.  We begin the program with a very detailed health history and assessment to find exactly what concerns you are having.  From there we perform a blood test different than that of any routine blood test.  We look at the blood from a functional standpoint to determine if the body is not functioning optimally and if there are any foreseeable problems. Then we combine a variety of services in our clinic to help support and correct some of the problems that are preventing your body from working at its full potential.  These services could include chiropractic care, massage, therapeutic exercise, nutrition support and supplementation, micro current, exercise with oxygen, whole body vibration therapy, Self Mastery Technology and even laser therapy. Interested in learning more? Ask for details when we return.\",\n",
      "  \"When it comes to tools and equipment, Aba Daba Rents can service all your needs.\\u00a0 Whether it\\u2019s a small or a big job , Aba Daba Rents is your one stop for equipment and supplies.\\u00a0 We have air compressors and breakers, pumps and hoses, scaffolding, concrete cutters and saws, demolition tools and drills. Think of us first for hand and electric tools, tractors, trailers, trenchers, floor tools, generators and welders.\\u00a0 We\\u2019re here when you need us for grinding and sanding, heaters, fans and blowers, trucks, material handling equipment.\\u00a0 Lawn and garden?\\u00a0 We can help there, too. From mowers to aerators to sod cutters to garden tractors and much more.\\u00a0 We want you to work smarter not harder.\\u00a0 We even provide aerial\\u00a0 equipment like scissor lifts and boom lifts, and we can deliver all the equipment you need promptly.\\u00a0 Don't forget about painting plumbing, and pressure washing Equipment. We have them too!\\u00a0 Learn more on our website at aba daba dot com.\\u00a0 That's A B A D A B A dot com.\\u00a0 We\\u2019ll be on the line to help in just a moment.\",\n",
      "  \"At Champlain Smile Solutions, our comforting atmosphere and warm, inviting team will make you feel right at home \\u2013 and Doctors Matt and Kay Giulianelli take the time to get to know each and every one of their patients, helping you to make informed choices about dental care that is right for you.  Both doctors are continually looking for ways to improve treatment for our patients, and every year they attend numerous continuing education courses with the world\\u2019s top clinicians to stay current on advances in cosmetic, implant and restorative dentistry.  Both doctors are fellows in the International Congress of Oral Implantologists, as well as numerous other credentials that can be found on our website at champlain smile solutions dot com.  The success of your treatment is our most important goal.  Both Dr. Matt and Dr. Kay believe in lifetime dentistry \\u2013 long term high quality dentistry that will last for years, while also saving our patients time and money.  Thank you for holding.  We\\u2019ll be on the line to assist you shortly.\",\n",
      "  \"Attention Residential Property owners and Home Owners Association managers \\u2013 at Angelo Termite and Construction, our four decades of winning performance demonstrate our proven experience and authority in our industry. \\u00a0As Orange County\\u2019s leading Structural Pest Control Operator and General Contractor specializing for controlling drywood termite infestations to avoid structure damage to protect the infrastructure and bring back pristine brilliance of your residential buildings, we\\u2019ve earned our customers\\u2019 trust and respect. \\u00a0Our management team is hand selected by our CEO Tony Angelo for their high caliber expertise and proven industry success. \\u00a0Trust our refined techniques, strategy and action to give you the successful outcome you need and deserve when dealing with termites, Dry Rot and structural damage.  Angelo Termite and Construction is ready for action with a spirit of excellence Licensed, insured, and ready to issue warrantees on all work performed! \\u00a0We look forward to helping you when we return to the line. \\u00a0Jesus is Lord.\",\n",
      "  \"Thank you for calling Bella Smile, where we believe in providing outstanding orthodontic care in a compassionate environment for the entire family.  Yes, you may be surprised to learn that 50% of our patients are adults!  We have many different approaches for orthodontic care, and we customize our treatments to the needs of each patient.  The first step toward achieving the beautiful, healthy smile you want and deserve is to schedule an appointment.  We have convenient hours to serve you on Monday and Tuesday from 8:30am to 5:30pm, on Wednesday from 8am to 5pm, and on Thursday from 7:15am to 4pm, and we are happy to schedule appointments for the whole family.  We\\u2019re located in Laurel Village in Presidio Heights, on the corner of Sacramento and Laurel, at 390 Laurel Street, Suite 100 on the ground floor. Our second office is located at 20 Page Street and Franklin in Hayes Valley/Soma. We are excited to provide additional office hours and be open on Friday! We\\u2019re glad you called today!  We look forward to helping you in just a few moments.\",\n",
      "  \"Paying for home care can be complicated and daunting.  At Angel Senor Care, we are the experts when it comes to long term care insurance, and we\\u2019re contracted as providers for VA and Medicaid in addition to private pay.  Navigating the cost of in home care for your loved one can be a challenge, and you can count on Angel Senior Care to help.  If you are not sure about the status of your loved one\\u2019s long term care coverage, please let us know and we\\u2019ll be happy to evaluate his or her plan free of charge.  Visit our website at angel senior care dot com to learn about private pay, veteran\\u2019s benefits, long term care insurance, asset and insurance conversion, and additional options that may be available to finance the cost of at home care.      Don\\u2019t let the cost of home care stand in the way of providing your loved one with the best care available for their situation.  We can help you navigate the resources and payment options that may be there to help.  Thank you for choosing Angel Senior Care for your loved one.  We look forward to helping you in just a few moments.\",\n",
      "  \"Thank you for calling Bella Smile, where we believe in providing outstanding orthodontic care in a compassionate environment for the entire family.  Yes, you may be surprised to learn that 50% of our patients are adults!  We have many different approaches for orthodontic care, and we customize our treatments to the needs of each patient.  The first step toward achieving the beautiful, healthy smile you want and deserve is to schedule an appointment.  We have convenient hours to serve you on Monday and Tuesday from 8:30am to 5:30pm, on Wednesday from 8am to 5pm, and on Thursday from 7:15am to 4pm, and we are happy to schedule appointments for the whole family.  We\\u2019re located in Laurel Village in Presidio Heights, on the corner of Sacramento and Laurel, at 390 Laurel Street, Suite 100 on the ground floor. To best serve our patients we now have a second location at 20 Page Street and Franklin in Hayes Valley/Soma. We are excited to provide additional office hours and be open on Friday! We\\u2019re glad you called today!  We look forward to helping you in just a few moments.\",\n",
      "  \"Thank you for calling Lansdowne Podiatry. If this is a medical emergency, please hang up and dial 911. Our Office is currently closed. Our normal office hours in Leesburg are Monday and Wednesday from 8am to 5pm, Tuesday by appointment only and on Friday from 8am to 11:30am.\\u00a0 Our normal office hours in Washington DC are on Thursday from 8am to 5pm, on Friday from 1pm to 5pm, and every first Saturday from 8am to 1pm We are closed in both locations for lunch from 12 to 1 daily.\\u00a0 You may visit our website\\u00a0 at any time at w w w dot Lansdowne podiatry dot com for more information about the services we offer, print new patient forms and request an appointment. If you wish to make, reschedule or cancel an appointment by phone, or to reach the front desk, please press 0 followed by the pound sign. Please include the patient\\u2019s full name, date of birth, and a contact number after the tone and we will return your call the next business day. To leave a message for our billing department please press 2 followed by the pound sign. Thank you for your call, and have a wonderful day.\",\n",
      "  \"Thank you for calling Lansdowne Podiatry. If this is a medical emergency, please hang up and dial 911. Please be advised our Leesburg office will be closed for the Holiday. Our normal office hours in Leesburg are Monday and Wednesday from 8am to 5pm, Tuesday by appointment only\\u00a0 and on Friday from 8am to 11:30am.\\u00a0 Our normal office hours in Washington DC are on Thursday from 8am to 5pm, on Friday from 1pm to 5pm, the first Saturday from 8am to 1pm.\\u00a0 We are closed for lunch from 12 to 1 daily in both offices.\\u00a0 You may visit our website any time at w w w dot Lansdowne podiatry dot com for more information about the services we offer, to print new patient forms and to request an appointment. If you wish to make, reschedule or cancel an appointment by phone, or to reach the front desk, please press 0 followed by the pound sign. Please include the patient\\u2019s full name, date of birth, and a contact number after the tone and we will return your call the next business day. To leave a message for our billing department please press 2 followed by the pound sign. Thank you for your call, and have a wonderful day.\",\n",
      "  \"Thank you for calling Progressive Dentistry. In our brand new state of the art facility, we provide the very best in preventative, cosmetic and reconstructive dental care for your entire family. \\u00a0For your convenience, we offer flexible appointment hours, Mondays 9 to 4:30, Tuesdays and Wednesdays 12 to 9, Thursdays and Fridays 8 to 4:30 and Saturdays 8 to 12:30.  Please note that we are closed on Saturdays during June, July, August and part of May and September. Our mission is to exceed your expectations by delivering exemplary care with courtesy, warmth, professionalism, state of the art knowledge and technology.  You\\u2019ll find our new state-of-the-art office at 2565 Beverly Road, Merrick, conveniently located on Merrick Road and the intersection of Babylon Turnpike. Our facility has been designed from the ground up with your comfort and convenience in mind. We\\u2019ll be glad to provide you with driving directions in just a moment.  Learn more about our office and the services we provide at Merrick Dentistry (dot) com. For now, please continue to hold and we\\u2019ll return to book your next appointment shortly.\",\n",
      "  \"At Champlain Smile Solutions, our comforting atmosphere and warm, inviting team will make you feel right at home \\u2013 and Doctors Matt and Kay Giulianelli take the time to get to know each and every one of their patients, helping you to make informed choices about dental care that is right for you.  Both doctors are continually looking for ways to improve treatment for our patients, and every year they attend numerous continuing education courses with the world\\u2019s top clinicians to stay current on advances in cosmetic, implant and restorative dentistry.  Both doctors are fellows in the International Congress of Oral Implantologists, and both have professional memberships in the American Academy of Dental Sleep Medicine, as well as numerous other credentials that can be found on our website at champlain smile solutions dot com.  The success of your treatment is our most important goal.  Both Dr. Matt and Dr. Kay believe in lifetime dentistry \\u2013 long term high quality dentistry that will last for years, while also saving our patients time and money.  Thank you for holding.  We\\u2019ll be on the line to assist you shortly.\",\n",
      "  \"The holiday season is upon us and there are many dangers you need to protect your pet from.   Never feed your pet human food.   Candy and sweets are very rich and are likely to cause vomiting and diarrhea.   Chocolate can be toxic.  High fat foods can trigger very serious episodes of pancreatitis and vomiting.  Specific foods, such as grapes and raisins, can be highly toxic.    Bones of any kind can cause obstructions in the stomach and intestines, and even worse may cause a puncture leading to life-threatening peritonitis.   Decorations used during the holidays can also be dangerous to your pet.  Many plants, such as poinsettias and mistletoe, are toxic.   Electric lights and display have power cords that can be chewed on and cause electric shocks, burns, and electrocution.  String-like decorations such as tinsel, can lead to intestinal obstructions by acting as linear foreign bodies, especially in cats.  And of course you need to make sure your pet is not exposed to unsafe conditions outside, such as extreme cold, ice, snow, and salt.   If you have any questions about keeping your pet safe, please feel free to ask.\",\n",
      "  \"Dr. Ali Saad is a pioneer in cosmetic dentistry. He received his undergraduate education at the University of Michigan and his dental degree from Nova Southeastern University in Florida.  During his final year of dental school, Dr. Saad worked under the supervision of Dr. Bill Dorfman, a nationally recognized expert in cosmetic dentistry. This formative experience led to his winning of the highly prestigious Student Cosmetic Dentist Award. It also piqued his interest, prompting his decision to devote his professional life to the field. Dr. Saad serves as the official dentist for the Miss Michigan and Miss Michigan Teen USA pageants. In addition to his clinical practice Dr. Saad has written extensively, publishing several books about the national dental boards as well as Dental Board Busters, the \\u201cgo to\\u201d study guides for dental and dental hygiene students. He also lectures and mentors other dentists. Dr. Saad\\u2019s professional distinctions include the Five Star Diamond Award from the American Academy of Hospitality Services, and recognition as a \\u201cTop Dentist\\u201d by the Consumer Research Council of America and HOUR Detroit magazine.\",\n",
      "  \"Thank you for calling Burlington Emergency & Veterinary Specialists\\u00a0Vermont's premier veterinary hospital offering specialty services in oncology, surgery, internal medicine and 24 hour emergency and critical care services. Thank you for your patience we will be with you shortly. In 2005, we started as an afterhours emergency service and have grown into a multi-specialty referral hospital with 24/7 emergency coverage.  Whether you have decided to seek out a board-certified veterinary specialist on your own or your primary care veterinarian has referred you to one, think of your visit to a veterinary specialist as an extension of your family veterinarian. Together, your primary care veterinarian, the board-certified veterinary specialist, and you as the animal owner will communicate and work together to make up the ideal triad of care for your animal. Spend some time on our site, and take a virtual tour of our facility, learn about our staff and history, and explore the many special services we offer for your pet\\u2019s exceptional care.\\u00a0 It\\u2019s at your fingertips, at b e v s v t dot com. Thank you for holding.\\u00a0 We\\u2019ll be with you in just a few moments.\",\n",
      "  \"Our customer care doesn\\u2019t end with the sale at Whites Canyon Ford and Lincoln.  When it\\u2019s time for service, we have the area\\u2019s best factory trained technicians in our service center.  We will fix your vehicle right the first time with all the latest diagnostic tools and equipment.  Looking for new tires? At Whites Canyon Ford we stock all the popular sizes.  Ford offers a Best Price Guarantee on most major brands of tires, so you won\\u2019t find a lower price anywhere!  We also have an extensive Motorcraft parts selection on hand and a knowledgeable parts staff.  Looking for a hard to find Ford or Lincoln part?  We can usually get it for you within 24 hours.  We also stock many vehicle accessories like spray-on truck bedlines, grille guards, running boards, and even Western Snowplows.  Our Service and Parts department is open Monday through Friday from 8am to 5pm and Saturday 8am to noon.  Our Accessories department is open Monday through Friday from 8am to 5pm.  Schedule your service appointment when we return to the line, or through our website Whites Canyon Ford dot com.  Thank you for choosing Whites Canyon Ford and Lincoln!  We\\u2019ll be on the line shortly to assist you.\",\n",
      "  \"Thank you for calling Taylor Street Dental, a private dental practice where we listen and take the time to get to know you and what you need.  At Taylor Street Dental, Dr. David Peck, Dr. Stefan Filip and Dr. Pablo Velastegui provide all facets of general dentistry under one roof - from basic to comprehensive care, including root canals, crowns, bridges, periodontal care, implants, smile makeovers and more. We\\u2019re celebrating over 32 years of practice in Downtown Springfield with our recent move to our new, larger, brighter, state of the art dental office located at 41 Taylor Street in Springfield.  You\\u2019ll enjoy the relaxing spa type atmosphere that melts your dental anxiety away \\u2013 and you\\u2019ll also appreciate the free validated downtown parking available for our patients at Taylor Street Garage.  We have convenient appointment hours to serve you five days a week including Tuesday, Wednesday and Thursday evenings.  Get directions and learn more about us and the services we provide on our website at my great smile dot com, and like us on Facebook to take a virtual tour of our office on Google Maps!  We\\u2019re glad you called, and we look forward to assisting you in just a moment.\",\n",
      "  \"When it comes to speech therapy, one of the most important things you can do for your child is to start early.  The earlier the treatment begins, the easier it is to correct problems \\u2013 the later you start, the harder it becomes for the child to make changes.  So if you\\u2019ve been referred to us for help \\u2013 let\\u2019s get started!  It\\u2019s also important to come to therapy \\u2013 keep your appointments, and if you are unable to come for any reason, please provide 24 hours notice so that we can give your valuable appointment time to another deserving family.  Be sure to reschedule in advance if your regular appointment falls during vacation, on a major holiday when our office is closed, or if you would like to readjust your schedule for the summer months when school is not in session.  It\\u2019s vital to your child\\u2019s successful outcome to make a real commitment to therapy and to attend your scheduled sessions.  Finally \\u2013 please do your homework!  Any work that we send home for you is important reinforcement for your child\\u2019s therapy, so please take it seriously and enjoy the time together working to build their skills and confidence.  Thank you for holding.  We\\u2019ll be on the line to help you in just a moment.\",\n",
      "  \"Recent television ad campaigns are promoting Cologuard\\u00a9 as an alternative to colonoscopy.  As Gastroenterologists, we strongly recommend a colonoscopy which has proven to be the gold standard for screening. Not only does a colonoscopy allow us to view the entire length of the colon, but it is the only method that can both detect colon cancer and prevent it by allowing us to remove precancerous polyps.  Patients are given a false sense of well-being when another test is negative, yet they could have multiple polyps.  Generally, screening colonoscopy is a 100% covered benefit with no out-of-pocket expense to the patient. If a patient chooses an alternative test to colonoscopy and the alternative test is positive, the patient will then need to schedule a colonoscopy to follow-up.  Because the previous test is positive, the colonoscopy is considered diagnostic and subject to deductibles and co-pays.  The alternate tests typically fully utilize the screening benefits under most policies.  Please notify our staff if you have utilized any alternative screening method when making an appointment so that we can best assist you with determining the benefits available to you under your insurance policy.\",\n",
      "  \"With over 60 years of combined experience, Dr. Sukut and Dr. Karly work comprehensively as a team to provide state of the art care.  In addition to general preventive and restorative dentistry, Dr. Sukut performs oral surgery for dental implant placement and wisdom teeth extractions as well as more complex oral surgical treatments, and provides comprehensive orthodontics for kids and adults.  Dr. Karly is a Fellow of the Academy of General Dentistry, an elite accomplishment achieved by only a small percentage of dentists who have completed the rigorous education and testing requirements for this honor.  In addition to staying abreast of the most current dental treatments, she has also completed a two year residency in comprehensive esthetics and advanced occlusion training, equipping her to perform more complex cosmetic smile makeovers. Both doctors are fellows of World Clinical Laser Institute.  At Sukut Dental, we emphasize prevention.   We encourage our patients to make informed decisions about their oral health needs and to pursue preventive care options to avoid more extensive treatment later.  Learn more about us and the services we provide at sukut dental dot com.  We\\u2019ll be right with you.\",\n",
      "  \"A native of San Francisco, Dr. Bella Shen Garnett attended the Katherine Delmar Burke School, San Francisco University High School, and is a graduate of Stanford University and the Harvard School of Dental Medicine. After graduating, Dr. Shen Garnett returned to San Francisco to start a practice to serve the community where she grew up.  Dr. Shen Garnett is one of the few board certified orthodontists in San Francisco.  To be board certified, an orthodontist must voluntarily complete hundreds of hours of additional preparation to demonstrate the judgment, skills and knowledge required to provide the highest level of excellence in patient care.  Dr. Shen Garnett is an expert in Invisalign, which straightens teeth using a series of clear, invisible, removable aligners.  She is the most experienced orthodontist in the Bay Area, and recently won the \\u201cInvisalign Case Shoot-out Award\\u201d for the best-treated severe orthodontic case, voted on by her peers. She also teaches other doctors nationwide to obtain excellent treatment results comparable to braces with the Invisalign Technique.  Get to know Dr. Shen Garnett on our website at bella smile dot com, and schedule your consultation when we return to the line.\",\n",
      "  \"We are excited to announce the addition of Dr. Lori Mildrew to the Susquehanna Trail Animal Hospital team.\\u00a0 She was born and raised in St. Marys, Pennsylvania, and has practiced in Lewisburg, Danville, and Bloomsburg before joining the Susquehanna Trail Animal Hospital as co-owner in April, 2017. \\u00a0She is a 2004 graduate of Penn State University and a 2008 graduate of Virginia-Maryland Regional College of Veterinary Medicine. \\u00a0\\u00a0From the age of 9, Dr. Mildrew decided that she wanted to become a veterinarian due to her love of animals and the remarkable human-animal bond. Although Dr. Mildrew loves both dogs and cats, she has a passion for feline medicine. Dr. Mildrew also completed \\u201cFear Free\\u201d Certification, the training program that helps veterinarians modify their procedures, handling, and facilities to help pets feel safe and comfortable while receiving the medical care they need.  Dr. Lori Mildrew shares her home in Lewisburg with her husband, Dr. Tristan Wilhelm, and two sons, Tanner and Camden. They have two dogs named Duke, a Beagle, and Cash, a Golden Retriever,  and two older cats named Oliver and Ellie. \\u00a0Her personal interests include fitness, board & card games, and spending time with her family.\",\n",
      "  \"Why choose A-1 to be your termite solution?  First and foremost, we want to be your termite solution today and for many years to come.  We\\u2019ve been serving the community since 1976, and our many referrals have shown us how important relationships are to our continued success.  We\\u2019ve been family owned for three generations \\u2013 and we\\u2019ve built our reputation on our personal and professional service.  We know that no two infestations are alike \\u2013 and we will meet your needs by devising a personalized treatment plan for your unique situation.  We want your business \\u2013 so we\\u2019re competitive and provide fast service when you need it.  In the unlikely event that you have a concern, we will work diligently to resolve it.  If we find structural damage, our technicians are experienced, highly capable carpenters, and we can effectively provide appropriate repairs and replacement.   We\\u2019re also real estate transaction specialists, and we know what it takes to close your escrow.  We\\u2019ll meet your tight deadlines and timeframes and send documents electronically to ensure quick and efficient delivery for your transaction.  Let A-1 Bonded Termite partner with you to protect your property, your transactions, and your future.  Thank you for holding.  We\\u2019ll be right with you.\",\n",
      "  \"While housekeeping, cooking, and assistance with personal care are important tasks that we perform, did you know that studies have shown that lack of friends can be more damaging to health than smoking?  At Angel Senior Care, we know that daily companionship is especially vital to many seniors.  Our caregivers devote an important part of their time engaging your loved one in conversation and activities that will keep them involved on a social level and enjoying the pleasures of having a friend to spend time with.  We work to pair only the most suitable caregivers with our clients to provide the best possible match based on skills, interests and experience. This helps to ensure your loved one receives care from someone who will work well not only on a professional level, but also a personal one.  Our caregivers meet stringent criteria to be included in the Angel Senior Care family.  All employees undergo a comprehensive interviewing process, and in-depth criminal background and reference checks. Our caregivers are licensed CNAs and Home Care Aides with experience in providing personal care and companionship, as well as specialty care for dementia and Alzheimer\\u2019s patients.  Learn more on our website at angel senior care dot com.  We\\u2019ll be right with you.\",\n",
      "  \"Thank you for calling Lansdowne Podiatry. If this is a medical emergency, please hang up and dial 911.\\u00a0 Our normal business hours at the Lansdowne Office located at 44135 Woodridge Parkway Suite 180, Leesburg, VA 20176 are Monday and Wednesday from 8am to 5pm and on Friday from 8am to 11:30am.\\u00a0 Our normal business hours at the Petworth Office located at 3901 Georgia Ave NW Suite 2, Washington, DC 20033 are Thursday from 8am to 5pm, Friday from 1pm to 5pm, and every first Saturday from 8am to 1pm.\\u00a0 We are closed in our\\u00a0 DC location on Tuesday, and open in Leesburg by appointment only. We are\\u00a0closed for lunch from 12 to 1 daily in both offices. You may visit our website any time at w w w dot Lansdowne Podiatry dot com for more information about the services we offer, print new patient forms and/or request an appointment. If you wish reach the front desk to make, reschedule or cancel an appointment by phone, or to reach the front desk, please press 0 followed by the pound sign.  Please include the patient\\u2019s full name, date of birth, and a contact number after the tone and we will return your call the next business day. To leave a message for our billing department please press 2 followed by the pound sign. Thank you for your call, and have a wonderful day.\",\n",
      "  \"Thank you for calling EJ Equipment where we help those that help others.\\u00a0 EJ Equipment is proud to serve as an exclusive representative for some of the most well-known and respected lines of equipment available in today\\u2019s highly competitive market place. Our valued manufacturers include: Vac-Con, an Illinois based company, who is a manufacturer of sewer cleaning trucks, hydro excavators, and industrial vacuum equipment, Heil, the industry leader in refuse collection vehicles, CUES, a manufacturer of cameras and pipeline inspection equipment for sewers and water lines, TYMCO, the original manufacturer of street sweepers, Maintainer, a manufacturer of service bodies, service body cranes, and lube bodies, EPOKE, a manufacturer of towed spreaders and bulk spreaders, Trackless, a manufacturer of tractors with year round attachments, John Bean Jetters, the manufacturer of the most efficient sewer jetters on the market, GO-4, a manufacturer of parking enforcement vehicles, Ennz, a leading manufacturer of sewer and pipe cleaning nozzles, Petersen Industries, a manufacturer of trash loaders and citrus loaders, and Okay Champion, a manufacturer of tension stringing equipment for electrical lines. All of our manufacturers have long standing reputations in the equipment industry for their unfailing reliability and performance.\\u00a0 EJ Equipment appreciates your interest in our products and services. Your call is important to us. Someone will be with you shortly.\",\n",
      "  \"When it\\u2019s time to travel and your pet can\\u2019t go with you, the Avian and Exotic Animal Hospital offers extraordinary boarding facilities for your furry or feathered friends.   Because we know that each pet is a unique individual, we offer several choices of boarding environments for your special friends.    Unlike other facilities that offer bunny boarding, our premium bunny suites were designed specifically for the safety and comfort of your bunny.  Your bunny will relax in secluded comfort, with no open pens or wire caging , and they\\u2019ll have access to a large, secure 15 square foot run, unlimited hay in several varieties, their own fresh, clean pine cone, fresh seasonal organic greens, a full manicure and pedicure, and our exclusive flower hay topper.  We also provide additional services including bunny mazes and playhouses, head to tail body massages, full grooming services and good morning and evening texts with a photo of your bunny, to give you peace of mind that your bunny is healthy and having fun while you are away.  Your feathered friend will enjoy our premium parrot caging, providing a generous 12 cubic feet with plenty of room to keep their feathers from getting ruffled!   Our beautiful cages are open on all sides, allowing for socialization between guests.  We provide a balanced diet of crazy corn, fruits, vegetables and a variety of pellets daily.  If your bird has special diet requirements, we are happy to assist with that as well.   We also have a huge selection of bird toys to keep your friend busy and entertained during his stay with us.  So take your vacation knowing that our trained veterinary staff and veterinarians are here for your little ones 7 days a week.  Make your reservation when we return to the line.\"\n",
      "]\n"
     ]
    }
   ],
   "source": [
    "print(json.dumps(sorted(list(set(all_content)), key=lambda h: len(h)), indent=2))"
   ]
  }
 ],
 "metadata": {
  "kernelspec": {
   "display_name": "Python 3",
   "language": "python",
   "name": "python3"
  },
  "language_info": {
   "codemirror_mode": {
    "name": "ipython",
    "version": 3
   },
   "file_extension": ".py",
   "mimetype": "text/x-python",
   "name": "python",
   "nbconvert_exporter": "python",
   "pygments_lexer": "ipython3",
   "version": "3.7.3"
  }
 },
 "nbformat": 4,
 "nbformat_minor": 2
}
