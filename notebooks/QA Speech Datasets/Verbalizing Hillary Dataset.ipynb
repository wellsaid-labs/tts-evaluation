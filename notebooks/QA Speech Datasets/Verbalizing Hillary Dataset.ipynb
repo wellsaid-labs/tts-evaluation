{
 "cells": [
  {
   "cell_type": "markdown",
   "metadata": {},
   "source": [
    "# Verbalizing Hillary\n",
    "\n",
    "The goals of this notebook are:\n",
    "\n",
    "- Construct an algorithm to verbalize the Hillary dataset.\n",
    "- Understand the distribution of not verbalized symbols such as numbers and special characters."
   ]
  },
  {
   "cell_type": "code",
   "execution_count": 1,
   "metadata": {
    "scrolled": false
   },
   "outputs": [],
   "source": [
    "import re\n",
    "import sys\n",
    "\n",
    "# Setup the \"PYTHONPATH\"\n",
    "sys.path.insert(0, '../../')\n",
    "\n",
    "from src.datasets.lj_speech import _iterate_and_replace"
   ]
  },
  {
   "cell_type": "code",
   "execution_count": 2,
   "metadata": {},
   "outputs": [
    {
     "name": "stderr",
     "output_type": "stream",
     "text": [
      "No config for `hillary.hillary_dataset` (`src.datasets.hillary.hillary_dataset`)\n",
      "100%|██████████| 10067/10067 [04:07<00:00, 40.73it/s]\n"
     ]
    },
    {
     "data": {
      "text/plain": [
       "'Training rows: 8054'"
      ]
     },
     "execution_count": 2,
     "metadata": {},
     "output_type": "execute_result"
    }
   ],
   "source": [
    "from src.datasets import hillary_dataset\n",
    "\n",
    "data, _ = hillary_dataset(directory='../../data')\n",
    "'Training rows: %s' % len(data)"
   ]
  },
  {
   "cell_type": "code",
   "execution_count": 3,
   "metadata": {
    "scrolled": false
   },
   "outputs": [],
   "source": [
    "import random\n",
    "import os\n",
    "\n",
    "from IPython.display import Audio\n",
    "from IPython.display import Markdown\n",
    "from IPython.display import FileLink\n",
    "\n",
    "def find_examples(regex, display_n=5, load_audio=False, replace=True, group=1, context=50):\n",
    "    \"\"\" Print ``display_n`` examples of ``regex`` in ``lj_speech_dataset``.\n",
    "    \n",
    "    This is the bread and butter module for our data analysis. Enabling us to use regex to query the\n",
    "    dataset and retrieve samples.\n",
    "    \n",
    "    Args:\n",
    "        regex (str): Pattern or compiled regex object.\n",
    "        display_n (int or None, optional): Number of examples to display.\n",
    "        load_audio (bool, optional): If to load audio.\n",
    "        replace (bool, optional): If to replace the matched characters with XXX...\n",
    "        group (int, optional): Group to select in regex.\n",
    "        context (int, optional): Number of characters to include on the left and right of the matched\n",
    "            text as context.\n",
    "        \n",
    "    Returns:\n",
    "        None\n",
    "    \"\"\"\n",
    "    examples = []\n",
    "    for row in data:\n",
    "        matches = re.finditer(regex, row['text'])\n",
    "        for match in matches:\n",
    "            if match.start(group) - match.end(group) == 0:\n",
    "                continue\n",
    "            \n",
    "            text = row['text']    \n",
    "            start = match.start(group)\n",
    "            end = match.end(group)\n",
    "            start_context = max(start - context, 0)\n",
    "            end_context = min(end + context, len(text))\n",
    "            \n",
    "            if replace:\n",
    "                row['text'] = '{}{}{}'.format(text[:start],\n",
    "                                              'X' * (end - start), \n",
    "                                              text[end:])\n",
    "                \n",
    "            if start != 0 or end != len(row['text']):\n",
    "                text = '{}**{}**{}'.format(text[start_context:start],\n",
    "                                           match.group(group),\n",
    "                                           text[end:end_context])\n",
    "            if start_context != 0:\n",
    "                text = '…' + text\n",
    "            if end_context != len(row['text']):\n",
    "                text = text + '…'\n",
    "                \n",
    "            examples.append({\n",
    "                'text': text,\n",
    "                'audio': row['wav_filename']\n",
    "            })\n",
    "            \n",
    "    # Print Examples\n",
    "    display(Markdown('### Examples Captured by Regex'))\n",
    "    display(Markdown('**Regex:** ' + str(regex)))\n",
    "    display(Markdown('**Number of Examples:** ' + str(len(examples))))\n",
    "    \n",
    "    random.shuffle(examples)\n",
    "    if display_n is not None:\n",
    "        examples = examples[:display_n]\n",
    "    \n",
    "    display(Markdown('**Number of Examples Shown:** ' + str(len(examples))))\n",
    "    display(Markdown('\\n\\n ___'))\n",
    "    \n",
    "    for example in examples:\n",
    "        display(Markdown('**Text:** \"' + example['text'] + '\"'))\n",
    "        display(FileLink(example['audio']))\n",
    "        if load_audio:\n",
    "            display(Audio(filename=str(example['audio'])))\n",
    "        display(Markdown('\\n\\n ___'))\n",
    "        display()"
   ]
  },
  {
   "cell_type": "markdown",
   "metadata": {},
   "source": [
    "## Sample of the Dataset"
   ]
  },
  {
   "cell_type": "code",
   "execution_count": 4,
   "metadata": {
    "scrolled": true
   },
   "outputs": [
    {
     "data": {
      "text/markdown": [
       "### Examples Captured by Regex"
      ],
      "text/plain": [
       "<IPython.core.display.Markdown object>"
      ]
     },
     "metadata": {},
     "output_type": "display_data"
    },
    {
     "data": {
      "text/markdown": [
       "**Regex:** (?s).*"
      ],
      "text/plain": [
       "<IPython.core.display.Markdown object>"
      ]
     },
     "metadata": {},
     "output_type": "display_data"
    },
    {
     "data": {
      "text/markdown": [
       "**Number of Examples:** 8054"
      ],
      "text/plain": [
       "<IPython.core.display.Markdown object>"
      ]
     },
     "metadata": {},
     "output_type": "display_data"
    },
    {
     "data": {
      "text/markdown": [
       "**Number of Examples Shown:** 100"
      ],
      "text/plain": [
       "<IPython.core.display.Markdown object>"
      ]
     },
     "metadata": {},
     "output_type": "display_data"
    },
    {
     "data": {
      "text/markdown": [
       "\n",
       "\n",
       " ___"
      ],
      "text/plain": [
       "<IPython.core.display.Markdown object>"
      ]
     },
     "metadata": {},
     "output_type": "display_data"
    },
    {
     "data": {
      "text/markdown": [
       "**Text:** \"as a result of biased attributions about leaders.\""
      ],
      "text/plain": [
       "<IPython.core.display.Markdown object>"
      ]
     },
     "metadata": {},
     "output_type": "display_data"
    },
    {
     "data": {
      "text/html": [
       "<a href='../../data/Hillary/wavs/Scripts 22-27/script_74_chunk_2-rate=24000.wav' target='_blank'>../../data/Hillary/wavs/Scripts 22-27/script_74_chunk_2-rate=24000.wav</a><br>"
      ],
      "text/plain": [
       "/Users/michaelp/Code/Tacotron-2/data/Hillary/wavs/Scripts 22-27/script_74_chunk_2-rate=24000.wav"
      ]
     },
     "metadata": {},
     "output_type": "display_data"
    },
    {
     "data": {
      "text/html": [
       "\n",
       "                <audio controls=\"controls\" >\n",
       "                    <source />\n",
       "                    Your browser does not support the audio element.\n",
       "                </audio>\n",
       "              "
      ],
      "text/plain": [
       "<IPython.lib.display.Audio object>"
      ]
     },
     "metadata": {},
     "output_type": "display_data"
    },
    {
     "data": {
      "text/markdown": [
       "\n",
       "\n",
       " ___"
      ],
      "text/plain": [
       "<IPython.core.display.Markdown object>"
      ]
     },
     "metadata": {},
     "output_type": "display_data"
    },
    {
     "data": {
      "text/markdown": [
       "**Text:** \"that create mechanisms for reporting wrongdoing\""
      ],
      "text/plain": [
       "<IPython.core.display.Markdown object>"
      ]
     },
     "metadata": {},
     "output_type": "display_data"
    },
    {
     "data": {
      "text/html": [
       "<a href='../../data/Hillary/wavs/Script 8/script_2_chunk_4-rate=24000.wav' target='_blank'>../../data/Hillary/wavs/Script 8/script_2_chunk_4-rate=24000.wav</a><br>"
      ],
      "text/plain": [
       "/Users/michaelp/Code/Tacotron-2/data/Hillary/wavs/Script 8/script_2_chunk_4-rate=24000.wav"
      ]
     },
     "metadata": {},
     "output_type": "display_data"
    },
    {
     "data": {
      "text/html": [
       "\n",
       "                <audio controls=\"controls\" >\n",
       "                    <source />\n",
       "                    Your browser does not support the audio element.\n",
       "                </audio>\n",
       "              "
      ],
      "text/plain": [
       "<IPython.lib.display.Audio object>"
      ]
     },
     "metadata": {},
     "output_type": "display_data"
    },
    {
     "data": {
      "text/markdown": [
       "\n",
       "\n",
       " ___"
      ],
      "text/plain": [
       "<IPython.core.display.Markdown object>"
      ]
     },
     "metadata": {},
     "output_type": "display_data"
    },
    {
     "data": {
      "text/markdown": [
       "**Text:** \"and hold gently for one minute.\""
      ],
      "text/plain": [
       "<IPython.core.display.Markdown object>"
      ]
     },
     "metadata": {},
     "output_type": "display_data"
    },
    {
     "data": {
      "text/html": [
       "<a href='../../data/Hillary/wavs/Script 13/script_8_chunk_3-rate=24000.wav' target='_blank'>../../data/Hillary/wavs/Script 13/script_8_chunk_3-rate=24000.wav</a><br>"
      ],
      "text/plain": [
       "/Users/michaelp/Code/Tacotron-2/data/Hillary/wavs/Script 13/script_8_chunk_3-rate=24000.wav"
      ]
     },
     "metadata": {},
     "output_type": "display_data"
    },
    {
     "data": {
      "text/html": [
       "\n",
       "                <audio controls=\"controls\" >\n",
       "                    <source />\n",
       "                    Your browser does not support the audio element.\n",
       "                </audio>\n",
       "              "
      ],
      "text/plain": [
       "<IPython.lib.display.Audio object>"
      ]
     },
     "metadata": {},
     "output_type": "display_data"
    },
    {
     "data": {
      "text/markdown": [
       "\n",
       "\n",
       " ___"
      ],
      "text/plain": [
       "<IPython.core.display.Markdown object>"
      ]
     },
     "metadata": {},
     "output_type": "display_data"
    },
    {
     "data": {
      "text/markdown": [
       "**Text:** \"Seal programs usually require implementation of fair information practices as determined by the certification program\""
      ],
      "text/plain": [
       "<IPython.core.display.Markdown object>"
      ]
     },
     "metadata": {},
     "output_type": "display_data"
    },
    {
     "data": {
      "text/html": [
       "<a href='../../data/Hillary/wavs/Scripts 102-107/script_91_chunk_1-rate=24000.wav' target='_blank'>../../data/Hillary/wavs/Scripts 102-107/script_91_chunk_1-rate=24000.wav</a><br>"
      ],
      "text/plain": [
       "/Users/michaelp/Code/Tacotron-2/data/Hillary/wavs/Scripts 102-107/script_91_chunk_1-rate=24000.wav"
      ]
     },
     "metadata": {},
     "output_type": "display_data"
    },
    {
     "data": {
      "text/html": [
       "\n",
       "                <audio controls=\"controls\" >\n",
       "                    <source />\n",
       "                    Your browser does not support the audio element.\n",
       "                </audio>\n",
       "              "
      ],
      "text/plain": [
       "<IPython.lib.display.Audio object>"
      ]
     },
     "metadata": {},
     "output_type": "display_data"
    },
    {
     "data": {
      "text/markdown": [
       "\n",
       "\n",
       " ___"
      ],
      "text/plain": [
       "<IPython.core.display.Markdown object>"
      ]
     },
     "metadata": {},
     "output_type": "display_data"
    },
    {
     "data": {
      "text/markdown": [
       "**Text:** \"researchers began to investigate problem solving separately in different natural knowledge domains -\""
      ],
      "text/plain": [
       "<IPython.core.display.Markdown object>"
      ]
     },
     "metadata": {},
     "output_type": "display_data"
    },
    {
     "data": {
      "text/html": [
       "<a href='../../data/Hillary/wavs/Scripts 34-39/script_17_chunk_1-rate=24000.wav' target='_blank'>../../data/Hillary/wavs/Scripts 34-39/script_17_chunk_1-rate=24000.wav</a><br>"
      ],
      "text/plain": [
       "/Users/michaelp/Code/Tacotron-2/data/Hillary/wavs/Scripts 34-39/script_17_chunk_1-rate=24000.wav"
      ]
     },
     "metadata": {},
     "output_type": "display_data"
    },
    {
     "data": {
      "text/html": [
       "\n",
       "                <audio controls=\"controls\" >\n",
       "                    <source />\n",
       "                    Your browser does not support the audio element.\n",
       "                </audio>\n",
       "              "
      ],
      "text/plain": [
       "<IPython.lib.display.Audio object>"
      ]
     },
     "metadata": {},
     "output_type": "display_data"
    },
    {
     "data": {
      "text/markdown": [
       "\n",
       "\n",
       " ___"
      ],
      "text/plain": [
       "<IPython.core.display.Markdown object>"
      ]
     },
     "metadata": {},
     "output_type": "display_data"
    },
    {
     "data": {
      "text/markdown": [
       "**Text:** \"of their ability to sell themselves. They have fewer positive qualities than the other orientations because they are essentially empty.\""
      ],
      "text/plain": [
       "<IPython.core.display.Markdown object>"
      ]
     },
     "metadata": {},
     "output_type": "display_data"
    },
    {
     "data": {
      "text/html": [
       "<a href='../../data/Hillary/wavs/Script 2/script_11_chunk_6-rate=24000.wav' target='_blank'>../../data/Hillary/wavs/Script 2/script_11_chunk_6-rate=24000.wav</a><br>"
      ],
      "text/plain": [
       "/Users/michaelp/Code/Tacotron-2/data/Hillary/wavs/Script 2/script_11_chunk_6-rate=24000.wav"
      ]
     },
     "metadata": {},
     "output_type": "display_data"
    },
    {
     "data": {
      "text/html": [
       "\n",
       "                <audio controls=\"controls\" >\n",
       "                    <source />\n",
       "                    Your browser does not support the audio element.\n",
       "                </audio>\n",
       "              "
      ],
      "text/plain": [
       "<IPython.lib.display.Audio object>"
      ]
     },
     "metadata": {},
     "output_type": "display_data"
    },
    {
     "data": {
      "text/markdown": [
       "\n",
       "\n",
       " ___"
      ],
      "text/plain": [
       "<IPython.core.display.Markdown object>"
      ]
     },
     "metadata": {},
     "output_type": "display_data"
    },
    {
     "data": {
      "text/markdown": [
       "**Text:** \"To be a whistleblower takes bravery. Barry Adams explains the options  as, \"The list of negative consequences to whistleblowing seems endless:\""
      ],
      "text/plain": [
       "<IPython.core.display.Markdown object>"
      ]
     },
     "metadata": {},
     "output_type": "display_data"
    },
    {
     "data": {
      "text/html": [
       "<a href='../../data/Hillary/wavs/Script 8/script_2_chunk_10-rate=24000.wav' target='_blank'>../../data/Hillary/wavs/Script 8/script_2_chunk_10-rate=24000.wav</a><br>"
      ],
      "text/plain": [
       "/Users/michaelp/Code/Tacotron-2/data/Hillary/wavs/Script 8/script_2_chunk_10-rate=24000.wav"
      ]
     },
     "metadata": {},
     "output_type": "display_data"
    },
    {
     "data": {
      "text/html": [
       "\n",
       "                <audio controls=\"controls\" >\n",
       "                    <source />\n",
       "                    Your browser does not support the audio element.\n",
       "                </audio>\n",
       "              "
      ],
      "text/plain": [
       "<IPython.lib.display.Audio object>"
      ]
     },
     "metadata": {},
     "output_type": "display_data"
    },
    {
     "data": {
      "text/markdown": [
       "\n",
       "\n",
       " ___"
      ],
      "text/plain": [
       "<IPython.core.display.Markdown object>"
      ]
     },
     "metadata": {},
     "output_type": "display_data"
    },
    {
     "data": {
      "text/markdown": [
       "**Text:** \"conducted a survey\""
      ],
      "text/plain": [
       "<IPython.core.display.Markdown object>"
      ]
     },
     "metadata": {},
     "output_type": "display_data"
    },
    {
     "data": {
      "text/html": [
       "<a href='../../data/Hillary/wavs/Scripts 22-27/script_53_chunk_17-rate=24000.wav' target='_blank'>../../data/Hillary/wavs/Scripts 22-27/script_53_chunk_17-rate=24000.wav</a><br>"
      ],
      "text/plain": [
       "/Users/michaelp/Code/Tacotron-2/data/Hillary/wavs/Scripts 22-27/script_53_chunk_17-rate=24000.wav"
      ]
     },
     "metadata": {},
     "output_type": "display_data"
    },
    {
     "data": {
      "text/html": [
       "\n",
       "                <audio controls=\"controls\" >\n",
       "                    <source />\n",
       "                    Your browser does not support the audio element.\n",
       "                </audio>\n",
       "              "
      ],
      "text/plain": [
       "<IPython.lib.display.Audio object>"
      ]
     },
     "metadata": {},
     "output_type": "display_data"
    },
    {
     "data": {
      "text/markdown": [
       "\n",
       "\n",
       " ___"
      ],
      "text/plain": [
       "<IPython.core.display.Markdown object>"
      ]
     },
     "metadata": {},
     "output_type": "display_data"
    },
    {
     "data": {
      "text/markdown": [
       "**Text:** \"This emphasized language and alignment of people within an organization to a common vision of the future of the organization,\""
      ],
      "text/plain": [
       "<IPython.core.display.Markdown object>"
      ]
     },
     "metadata": {},
     "output_type": "display_data"
    },
    {
     "data": {
      "text/html": [
       "<a href='../../data/Hillary/wavs/Scripts 16-21/script_96_chunk_8-rate=24000.wav' target='_blank'>../../data/Hillary/wavs/Scripts 16-21/script_96_chunk_8-rate=24000.wav</a><br>"
      ],
      "text/plain": [
       "/Users/michaelp/Code/Tacotron-2/data/Hillary/wavs/Scripts 16-21/script_96_chunk_8-rate=24000.wav"
      ]
     },
     "metadata": {},
     "output_type": "display_data"
    },
    {
     "data": {
      "text/html": [
       "\n",
       "                <audio controls=\"controls\" >\n",
       "                    <source />\n",
       "                    Your browser does not support the audio element.\n",
       "                </audio>\n",
       "              "
      ],
      "text/plain": [
       "<IPython.lib.display.Audio object>"
      ]
     },
     "metadata": {},
     "output_type": "display_data"
    },
    {
     "data": {
      "text/markdown": [
       "\n",
       "\n",
       " ___"
      ],
      "text/plain": [
       "<IPython.core.display.Markdown object>"
      ]
     },
     "metadata": {},
     "output_type": "display_data"
    },
    {
     "data": {
      "text/markdown": [
       "**Text:** \"is expected to behave impersonally in regard to relationships with clients\""
      ],
      "text/plain": [
       "<IPython.core.display.Markdown object>"
      ]
     },
     "metadata": {},
     "output_type": "display_data"
    },
    {
     "data": {
      "text/html": [
       "<a href='../../data/Hillary/wavs/Scripts 28-33/script_93_chunk_4-rate=24000.wav' target='_blank'>../../data/Hillary/wavs/Scripts 28-33/script_93_chunk_4-rate=24000.wav</a><br>"
      ],
      "text/plain": [
       "/Users/michaelp/Code/Tacotron-2/data/Hillary/wavs/Scripts 28-33/script_93_chunk_4-rate=24000.wav"
      ]
     },
     "metadata": {},
     "output_type": "display_data"
    },
    {
     "data": {
      "text/html": [
       "\n",
       "                <audio controls=\"controls\" >\n",
       "                    <source />\n",
       "                    Your browser does not support the audio element.\n",
       "                </audio>\n",
       "              "
      ],
      "text/plain": [
       "<IPython.lib.display.Audio object>"
      ]
     },
     "metadata": {},
     "output_type": "display_data"
    },
    {
     "data": {
      "text/markdown": [
       "\n",
       "\n",
       " ___"
      ],
      "text/plain": [
       "<IPython.core.display.Markdown object>"
      ]
     },
     "metadata": {},
     "output_type": "display_data"
    },
    {
     "data": {
      "text/markdown": [
       "**Text:** \"law-abiding Americans\""
      ],
      "text/plain": [
       "<IPython.core.display.Markdown object>"
      ]
     },
     "metadata": {},
     "output_type": "display_data"
    },
    {
     "data": {
      "text/html": [
       "<a href='../../data/Hillary/wavs/Scripts 58-63/script_67_chunk_17-rate=24000.wav' target='_blank'>../../data/Hillary/wavs/Scripts 58-63/script_67_chunk_17-rate=24000.wav</a><br>"
      ],
      "text/plain": [
       "/Users/michaelp/Code/Tacotron-2/data/Hillary/wavs/Scripts 58-63/script_67_chunk_17-rate=24000.wav"
      ]
     },
     "metadata": {},
     "output_type": "display_data"
    },
    {
     "data": {
      "text/html": [
       "\n",
       "                <audio controls=\"controls\" >\n",
       "                    <source />\n",
       "                    Your browser does not support the audio element.\n",
       "                </audio>\n",
       "              "
      ],
      "text/plain": [
       "<IPython.lib.display.Audio object>"
      ]
     },
     "metadata": {},
     "output_type": "display_data"
    },
    {
     "data": {
      "text/markdown": [
       "\n",
       "\n",
       " ___"
      ],
      "text/plain": [
       "<IPython.core.display.Markdown object>"
      ]
     },
     "metadata": {},
     "output_type": "display_data"
    },
    {
     "data": {
      "text/markdown": [
       "**Text:** \"was not a single character trait, but rather, the total character organization from where many single character traits follow.\""
      ],
      "text/plain": [
       "<IPython.core.display.Markdown object>"
      ]
     },
     "metadata": {},
     "output_type": "display_data"
    },
    {
     "data": {
      "text/html": [
       "<a href='../../data/Hillary/wavs/Scripts 94-98/script_95_chunk_6-rate=24000.wav' target='_blank'>../../data/Hillary/wavs/Scripts 94-98/script_95_chunk_6-rate=24000.wav</a><br>"
      ],
      "text/plain": [
       "/Users/michaelp/Code/Tacotron-2/data/Hillary/wavs/Scripts 94-98/script_95_chunk_6-rate=24000.wav"
      ]
     },
     "metadata": {},
     "output_type": "display_data"
    },
    {
     "data": {
      "text/html": [
       "\n",
       "                <audio controls=\"controls\" >\n",
       "                    <source />\n",
       "                    Your browser does not support the audio element.\n",
       "                </audio>\n",
       "              "
      ],
      "text/plain": [
       "<IPython.lib.display.Audio object>"
      ]
     },
     "metadata": {},
     "output_type": "display_data"
    },
    {
     "data": {
      "text/markdown": [
       "\n",
       "\n",
       " ___"
      ],
      "text/plain": [
       "<IPython.core.display.Markdown object>"
      ]
     },
     "metadata": {},
     "output_type": "display_data"
    },
    {
     "data": {
      "text/markdown": [
       "**Text:** \"by robbing them of their capacity to reason.\""
      ],
      "text/plain": [
       "<IPython.core.display.Markdown object>"
      ]
     },
     "metadata": {},
     "output_type": "display_data"
    },
    {
     "data": {
      "text/html": [
       "<a href='../../data/Hillary/wavs/Scripts 102-107/script_83_chunk_4-rate=24000.wav' target='_blank'>../../data/Hillary/wavs/Scripts 102-107/script_83_chunk_4-rate=24000.wav</a><br>"
      ],
      "text/plain": [
       "/Users/michaelp/Code/Tacotron-2/data/Hillary/wavs/Scripts 102-107/script_83_chunk_4-rate=24000.wav"
      ]
     },
     "metadata": {},
     "output_type": "display_data"
    },
    {
     "data": {
      "text/html": [
       "\n",
       "                <audio controls=\"controls\" >\n",
       "                    <source />\n",
       "                    Your browser does not support the audio element.\n",
       "                </audio>\n",
       "              "
      ],
      "text/plain": [
       "<IPython.lib.display.Audio object>"
      ]
     },
     "metadata": {},
     "output_type": "display_data"
    },
    {
     "data": {
      "text/markdown": [
       "\n",
       "\n",
       " ___"
      ],
      "text/plain": [
       "<IPython.core.display.Markdown object>"
      ]
     },
     "metadata": {},
     "output_type": "display_data"
    },
    {
     "data": {
      "text/markdown": [
       "**Text:** \"I stared at the empty frames with a peculiar feeling that some mystery was about to be solved.\""
      ],
      "text/plain": [
       "<IPython.core.display.Markdown object>"
      ]
     },
     "metadata": {},
     "output_type": "display_data"
    },
    {
     "data": {
      "text/html": [
       "<a href='../../data/Hillary/wavs/Scripts 76-81 (Part One)/script_19_chunk_3-rate=24000.wav' target='_blank'>../../data/Hillary/wavs/Scripts 76-81 (Part One)/script_19_chunk_3-rate=24000.wav</a><br>"
      ],
      "text/plain": [
       "/Users/michaelp/Code/Tacotron-2/data/Hillary/wavs/Scripts 76-81 (Part One)/script_19_chunk_3-rate=24000.wav"
      ]
     },
     "metadata": {},
     "output_type": "display_data"
    },
    {
     "data": {
      "text/html": [
       "\n",
       "                <audio controls=\"controls\" >\n",
       "                    <source />\n",
       "                    Your browser does not support the audio element.\n",
       "                </audio>\n",
       "              "
      ],
      "text/plain": [
       "<IPython.lib.display.Audio object>"
      ]
     },
     "metadata": {},
     "output_type": "display_data"
    },
    {
     "data": {
      "text/markdown": [
       "\n",
       "\n",
       " ___"
      ],
      "text/plain": [
       "<IPython.core.display.Markdown object>"
      ]
     },
     "metadata": {},
     "output_type": "display_data"
    },
    {
     "data": {
      "text/markdown": [
       "**Text:** \"Responsive evaluation provides a naturalistic and humanistic approach to program evaluation.\""
      ],
      "text/plain": [
       "<IPython.core.display.Markdown object>"
      ]
     },
     "metadata": {},
     "output_type": "display_data"
    },
    {
     "data": {
      "text/html": [
       "<a href='../../data/Hillary/wavs/Scripts 94-98/script_24_chunk_3-rate=24000.wav' target='_blank'>../../data/Hillary/wavs/Scripts 94-98/script_24_chunk_3-rate=24000.wav</a><br>"
      ],
      "text/plain": [
       "/Users/michaelp/Code/Tacotron-2/data/Hillary/wavs/Scripts 94-98/script_24_chunk_3-rate=24000.wav"
      ]
     },
     "metadata": {},
     "output_type": "display_data"
    },
    {
     "data": {
      "text/html": [
       "\n",
       "                <audio controls=\"controls\" >\n",
       "                    <source />\n",
       "                    Your browser does not support the audio element.\n",
       "                </audio>\n",
       "              "
      ],
      "text/plain": [
       "<IPython.lib.display.Audio object>"
      ]
     },
     "metadata": {},
     "output_type": "display_data"
    },
    {
     "data": {
      "text/markdown": [
       "\n",
       "\n",
       " ___"
      ],
      "text/plain": [
       "<IPython.core.display.Markdown object>"
      ]
     },
     "metadata": {},
     "output_type": "display_data"
    },
    {
     "data": {
      "text/markdown": [
       "**Text:** \"by a deflector mounted to the registration wall. When the envelope is fed up through the gap\""
      ],
      "text/plain": [
       "<IPython.core.display.Markdown object>"
      ]
     },
     "metadata": {},
     "output_type": "display_data"
    },
    {
     "data": {
      "text/html": [
       "<a href='../../data/Hillary/wavs/Scripts 34-39/script_24_chunk_6-rate=24000.wav' target='_blank'>../../data/Hillary/wavs/Scripts 34-39/script_24_chunk_6-rate=24000.wav</a><br>"
      ],
      "text/plain": [
       "/Users/michaelp/Code/Tacotron-2/data/Hillary/wavs/Scripts 34-39/script_24_chunk_6-rate=24000.wav"
      ]
     },
     "metadata": {},
     "output_type": "display_data"
    },
    {
     "data": {
      "text/html": [
       "\n",
       "                <audio controls=\"controls\" >\n",
       "                    <source />\n",
       "                    Your browser does not support the audio element.\n",
       "                </audio>\n",
       "              "
      ],
      "text/plain": [
       "<IPython.lib.display.Audio object>"
      ]
     },
     "metadata": {},
     "output_type": "display_data"
    },
    {
     "data": {
      "text/markdown": [
       "\n",
       "\n",
       " ___"
      ],
      "text/plain": [
       "<IPython.core.display.Markdown object>"
      ]
     },
     "metadata": {},
     "output_type": "display_data"
    },
    {
     "data": {
      "text/markdown": [
       "**Text:** \"Compliance data is defined as all data belonging or pertaining to enterprise\""
      ],
      "text/plain": [
       "<IPython.core.display.Markdown object>"
      ]
     },
     "metadata": {},
     "output_type": "display_data"
    },
    {
     "data": {
      "text/html": [
       "<a href='../../data/Hillary/wavs/Scripts 88-93/script_18_chunk_0-rate=24000.wav' target='_blank'>../../data/Hillary/wavs/Scripts 88-93/script_18_chunk_0-rate=24000.wav</a><br>"
      ],
      "text/plain": [
       "/Users/michaelp/Code/Tacotron-2/data/Hillary/wavs/Scripts 88-93/script_18_chunk_0-rate=24000.wav"
      ]
     },
     "metadata": {},
     "output_type": "display_data"
    },
    {
     "data": {
      "text/html": [
       "\n",
       "                <audio controls=\"controls\" >\n",
       "                    <source />\n",
       "                    Your browser does not support the audio element.\n",
       "                </audio>\n",
       "              "
      ],
      "text/plain": [
       "<IPython.lib.display.Audio object>"
      ]
     },
     "metadata": {},
     "output_type": "display_data"
    },
    {
     "data": {
      "text/markdown": [
       "\n",
       "\n",
       " ___"
      ],
      "text/plain": [
       "<IPython.core.display.Markdown object>"
      ]
     },
     "metadata": {},
     "output_type": "display_data"
    },
    {
     "data": {
      "text/markdown": [
       "**Text:** \"and leader emergence. For instance, leadership performance\""
      ],
      "text/plain": [
       "<IPython.core.display.Markdown object>"
      ]
     },
     "metadata": {},
     "output_type": "display_data"
    },
    {
     "data": {
      "text/html": [
       "<a href='../../data/Hillary/wavs/Scripts 22-27/script_74_chunk_11-rate=24000.wav' target='_blank'>../../data/Hillary/wavs/Scripts 22-27/script_74_chunk_11-rate=24000.wav</a><br>"
      ],
      "text/plain": [
       "/Users/michaelp/Code/Tacotron-2/data/Hillary/wavs/Scripts 22-27/script_74_chunk_11-rate=24000.wav"
      ]
     },
     "metadata": {},
     "output_type": "display_data"
    },
    {
     "data": {
      "text/html": [
       "\n",
       "                <audio controls=\"controls\" >\n",
       "                    <source />\n",
       "                    Your browser does not support the audio element.\n",
       "                </audio>\n",
       "              "
      ],
      "text/plain": [
       "<IPython.lib.display.Audio object>"
      ]
     },
     "metadata": {},
     "output_type": "display_data"
    },
    {
     "data": {
      "text/markdown": [
       "\n",
       "\n",
       " ___"
      ],
      "text/plain": [
       "<IPython.core.display.Markdown object>"
      ]
     },
     "metadata": {},
     "output_type": "display_data"
    },
    {
     "data": {
      "text/markdown": [
       "**Text:** \"Constructive leadership based companies engage in helping individuals to grow,\""
      ],
      "text/plain": [
       "<IPython.core.display.Markdown object>"
      ]
     },
     "metadata": {},
     "output_type": "display_data"
    },
    {
     "data": {
      "text/html": [
       "<a href='../../data/Hillary/wavs/Scripts 28-33/script_89_chunk_3-rate=24000.wav' target='_blank'>../../data/Hillary/wavs/Scripts 28-33/script_89_chunk_3-rate=24000.wav</a><br>"
      ],
      "text/plain": [
       "/Users/michaelp/Code/Tacotron-2/data/Hillary/wavs/Scripts 28-33/script_89_chunk_3-rate=24000.wav"
      ]
     },
     "metadata": {},
     "output_type": "display_data"
    },
    {
     "data": {
      "text/html": [
       "\n",
       "                <audio controls=\"controls\" >\n",
       "                    <source />\n",
       "                    Your browser does not support the audio element.\n",
       "                </audio>\n",
       "              "
      ],
      "text/plain": [
       "<IPython.lib.display.Audio object>"
      ]
     },
     "metadata": {},
     "output_type": "display_data"
    },
    {
     "data": {
      "text/markdown": [
       "\n",
       "\n",
       " ___"
      ],
      "text/plain": [
       "<IPython.core.display.Markdown object>"
      ]
     },
     "metadata": {},
     "output_type": "display_data"
    },
    {
     "data": {
      "text/markdown": [
       "**Text:** \"work well with others, perform well, and achieve their goals with complementing hard skills.\""
      ],
      "text/plain": [
       "<IPython.core.display.Markdown object>"
      ]
     },
     "metadata": {},
     "output_type": "display_data"
    },
    {
     "data": {
      "text/html": [
       "<a href='../../data/Hillary/wavs/Scripts 76-81 (Part One)/script_39_chunk_3-rate=24000.wav' target='_blank'>../../data/Hillary/wavs/Scripts 76-81 (Part One)/script_39_chunk_3-rate=24000.wav</a><br>"
      ],
      "text/plain": [
       "/Users/michaelp/Code/Tacotron-2/data/Hillary/wavs/Scripts 76-81 (Part One)/script_39_chunk_3-rate=24000.wav"
      ]
     },
     "metadata": {},
     "output_type": "display_data"
    },
    {
     "data": {
      "text/html": [
       "\n",
       "                <audio controls=\"controls\" >\n",
       "                    <source />\n",
       "                    Your browser does not support the audio element.\n",
       "                </audio>\n",
       "              "
      ],
      "text/plain": [
       "<IPython.lib.display.Audio object>"
      ]
     },
     "metadata": {},
     "output_type": "display_data"
    },
    {
     "data": {
      "text/markdown": [
       "\n",
       "\n",
       " ___"
      ],
      "text/plain": [
       "<IPython.core.display.Markdown object>"
      ]
     },
     "metadata": {},
     "output_type": "display_data"
    },
    {
     "data": {
      "text/markdown": [
       "**Text:** \"Economic risks is the likelihood that economic management will cause drastic changes in a country's business environment\""
      ],
      "text/plain": [
       "<IPython.core.display.Markdown object>"
      ]
     },
     "metadata": {},
     "output_type": "display_data"
    },
    {
     "data": {
      "text/html": [
       "<a href='../../data/Hillary/wavs/Scripts 88-93/script_27_chunk_6-rate=24000.wav' target='_blank'>../../data/Hillary/wavs/Scripts 88-93/script_27_chunk_6-rate=24000.wav</a><br>"
      ],
      "text/plain": [
       "/Users/michaelp/Code/Tacotron-2/data/Hillary/wavs/Scripts 88-93/script_27_chunk_6-rate=24000.wav"
      ]
     },
     "metadata": {},
     "output_type": "display_data"
    },
    {
     "data": {
      "text/html": [
       "\n",
       "                <audio controls=\"controls\" >\n",
       "                    <source />\n",
       "                    Your browser does not support the audio element.\n",
       "                </audio>\n",
       "              "
      ],
      "text/plain": [
       "<IPython.lib.display.Audio object>"
      ]
     },
     "metadata": {},
     "output_type": "display_data"
    },
    {
     "data": {
      "text/markdown": [
       "\n",
       "\n",
       " ___"
      ],
      "text/plain": [
       "<IPython.core.display.Markdown object>"
      ]
     },
     "metadata": {},
     "output_type": "display_data"
    },
    {
     "data": {
      "text/markdown": [
       "**Text:** \"creative individuals generate unique ideas\""
      ],
      "text/plain": [
       "<IPython.core.display.Markdown object>"
      ]
     },
     "metadata": {},
     "output_type": "display_data"
    },
    {
     "data": {
      "text/html": [
       "<a href='../../data/Hillary/wavs/Scripts 58-63/script_33_chunk_4-rate=24000.wav' target='_blank'>../../data/Hillary/wavs/Scripts 58-63/script_33_chunk_4-rate=24000.wav</a><br>"
      ],
      "text/plain": [
       "/Users/michaelp/Code/Tacotron-2/data/Hillary/wavs/Scripts 58-63/script_33_chunk_4-rate=24000.wav"
      ]
     },
     "metadata": {},
     "output_type": "display_data"
    },
    {
     "data": {
      "text/html": [
       "\n",
       "                <audio controls=\"controls\" >\n",
       "                    <source />\n",
       "                    Your browser does not support the audio element.\n",
       "                </audio>\n",
       "              "
      ],
      "text/plain": [
       "<IPython.lib.display.Audio object>"
      ]
     },
     "metadata": {},
     "output_type": "display_data"
    },
    {
     "data": {
      "text/markdown": [
       "\n",
       "\n",
       " ___"
      ],
      "text/plain": [
       "<IPython.core.display.Markdown object>"
      ]
     },
     "metadata": {},
     "output_type": "display_data"
    },
    {
     "data": {
      "text/markdown": [
       "**Text:** \"not made. Current studies have indicated that leadership is much more complex\""
      ],
      "text/plain": [
       "<IPython.core.display.Markdown object>"
      ]
     },
     "metadata": {},
     "output_type": "display_data"
    },
    {
     "data": {
      "text/html": [
       "<a href='../../data/Hillary/wavs/Scripts 64-69/script_47_chunk_1-rate=24000.wav' target='_blank'>../../data/Hillary/wavs/Scripts 64-69/script_47_chunk_1-rate=24000.wav</a><br>"
      ],
      "text/plain": [
       "/Users/michaelp/Code/Tacotron-2/data/Hillary/wavs/Scripts 64-69/script_47_chunk_1-rate=24000.wav"
      ]
     },
     "metadata": {},
     "output_type": "display_data"
    },
    {
     "data": {
      "text/html": [
       "\n",
       "                <audio controls=\"controls\" >\n",
       "                    <source />\n",
       "                    Your browser does not support the audio element.\n",
       "                </audio>\n",
       "              "
      ],
      "text/plain": [
       "<IPython.lib.display.Audio object>"
      ]
     },
     "metadata": {},
     "output_type": "display_data"
    },
    {
     "data": {
      "text/markdown": [
       "\n",
       "\n",
       " ___"
      ],
      "text/plain": [
       "<IPython.core.display.Markdown object>"
      ]
     },
     "metadata": {},
     "output_type": "display_data"
    },
    {
     "data": {
      "text/markdown": [
       "**Text:** \"Product forms include unidirectional tape, woven fabrics, or continuous filaments which can be layered or wrapped in various orientations.\""
      ],
      "text/plain": [
       "<IPython.core.display.Markdown object>"
      ]
     },
     "metadata": {},
     "output_type": "display_data"
    },
    {
     "data": {
      "text/html": [
       "<a href='../../data/Hillary/wavs/Script 10 (Part One)/script_0_chunk_3-rate=24000.wav' target='_blank'>../../data/Hillary/wavs/Script 10 (Part One)/script_0_chunk_3-rate=24000.wav</a><br>"
      ],
      "text/plain": [
       "/Users/michaelp/Code/Tacotron-2/data/Hillary/wavs/Script 10 (Part One)/script_0_chunk_3-rate=24000.wav"
      ]
     },
     "metadata": {},
     "output_type": "display_data"
    },
    {
     "data": {
      "text/html": [
       "\n",
       "                <audio controls=\"controls\" >\n",
       "                    <source />\n",
       "                    Your browser does not support the audio element.\n",
       "                </audio>\n",
       "              "
      ],
      "text/plain": [
       "<IPython.lib.display.Audio object>"
      ]
     },
     "metadata": {},
     "output_type": "display_data"
    },
    {
     "data": {
      "text/markdown": [
       "\n",
       "\n",
       " ___"
      ],
      "text/plain": [
       "<IPython.core.display.Markdown object>"
      ]
     },
     "metadata": {},
     "output_type": "display_data"
    },
    {
     "data": {
      "text/markdown": [
       "**Text:** \"to the end user, who is the customer.Corporate social irresponsibility in the supply chain\""
      ],
      "text/plain": [
       "<IPython.core.display.Markdown object>"
      ]
     },
     "metadata": {},
     "output_type": "display_data"
    },
    {
     "data": {
      "text/html": [
       "<a href='../../data/Hillary/wavs/Scripts 28-33/script_40_chunk_3-rate=24000.wav' target='_blank'>../../data/Hillary/wavs/Scripts 28-33/script_40_chunk_3-rate=24000.wav</a><br>"
      ],
      "text/plain": [
       "/Users/michaelp/Code/Tacotron-2/data/Hillary/wavs/Scripts 28-33/script_40_chunk_3-rate=24000.wav"
      ]
     },
     "metadata": {},
     "output_type": "display_data"
    },
    {
     "data": {
      "text/html": [
       "\n",
       "                <audio controls=\"controls\" >\n",
       "                    <source />\n",
       "                    Your browser does not support the audio element.\n",
       "                </audio>\n",
       "              "
      ],
      "text/plain": [
       "<IPython.lib.display.Audio object>"
      ]
     },
     "metadata": {},
     "output_type": "display_data"
    },
    {
     "data": {
      "text/markdown": [
       "\n",
       "\n",
       " ___"
      ],
      "text/plain": [
       "<IPython.core.display.Markdown object>"
      ]
     },
     "metadata": {},
     "output_type": "display_data"
    },
    {
     "data": {
      "text/markdown": [
       "**Text:** \"was something pathetic in the girl's attitude now.\""
      ],
      "text/plain": [
       "<IPython.core.display.Markdown object>"
      ]
     },
     "metadata": {},
     "output_type": "display_data"
    },
    {
     "data": {
      "text/html": [
       "<a href='../../data/Hillary/wavs/Scripts 88-93/script_2_chunk_0-rate=24000.wav' target='_blank'>../../data/Hillary/wavs/Scripts 88-93/script_2_chunk_0-rate=24000.wav</a><br>"
      ],
      "text/plain": [
       "/Users/michaelp/Code/Tacotron-2/data/Hillary/wavs/Scripts 88-93/script_2_chunk_0-rate=24000.wav"
      ]
     },
     "metadata": {},
     "output_type": "display_data"
    },
    {
     "data": {
      "text/html": [
       "\n",
       "                <audio controls=\"controls\" >\n",
       "                    <source />\n",
       "                    Your browser does not support the audio element.\n",
       "                </audio>\n",
       "              "
      ],
      "text/plain": [
       "<IPython.lib.display.Audio object>"
      ]
     },
     "metadata": {},
     "output_type": "display_data"
    },
    {
     "data": {
      "text/markdown": [
       "\n",
       "\n",
       " ___"
      ],
      "text/plain": [
       "<IPython.core.display.Markdown object>"
      ]
     },
     "metadata": {},
     "output_type": "display_data"
    },
    {
     "data": {
      "text/markdown": [
       "**Text:** \"For example,\""
      ],
      "text/plain": [
       "<IPython.core.display.Markdown object>"
      ]
     },
     "metadata": {},
     "output_type": "display_data"
    },
    {
     "data": {
      "text/html": [
       "<a href='../../data/Hillary/wavs/Scripts 28-33/script_9_chunk_4-rate=24000.wav' target='_blank'>../../data/Hillary/wavs/Scripts 28-33/script_9_chunk_4-rate=24000.wav</a><br>"
      ],
      "text/plain": [
       "/Users/michaelp/Code/Tacotron-2/data/Hillary/wavs/Scripts 28-33/script_9_chunk_4-rate=24000.wav"
      ]
     },
     "metadata": {},
     "output_type": "display_data"
    },
    {
     "data": {
      "text/html": [
       "\n",
       "                <audio controls=\"controls\" >\n",
       "                    <source />\n",
       "                    Your browser does not support the audio element.\n",
       "                </audio>\n",
       "              "
      ],
      "text/plain": [
       "<IPython.lib.display.Audio object>"
      ]
     },
     "metadata": {},
     "output_type": "display_data"
    },
    {
     "data": {
      "text/markdown": [
       "\n",
       "\n",
       " ___"
      ],
      "text/plain": [
       "<IPython.core.display.Markdown object>"
      ]
     },
     "metadata": {},
     "output_type": "display_data"
    },
    {
     "data": {
      "text/markdown": [
       "**Text:** \"collective efforts, and competition of many individuals.\""
      ],
      "text/plain": [
       "<IPython.core.display.Markdown object>"
      ]
     },
     "metadata": {},
     "output_type": "display_data"
    },
    {
     "data": {
      "text/html": [
       "<a href='../../data/Hillary/wavs/Scripts 102-107/script_11_chunk_3-rate=24000.wav' target='_blank'>../../data/Hillary/wavs/Scripts 102-107/script_11_chunk_3-rate=24000.wav</a><br>"
      ],
      "text/plain": [
       "/Users/michaelp/Code/Tacotron-2/data/Hillary/wavs/Scripts 102-107/script_11_chunk_3-rate=24000.wav"
      ]
     },
     "metadata": {},
     "output_type": "display_data"
    },
    {
     "data": {
      "text/html": [
       "\n",
       "                <audio controls=\"controls\" >\n",
       "                    <source />\n",
       "                    Your browser does not support the audio element.\n",
       "                </audio>\n",
       "              "
      ],
      "text/plain": [
       "<IPython.lib.display.Audio object>"
      ]
     },
     "metadata": {},
     "output_type": "display_data"
    },
    {
     "data": {
      "text/markdown": [
       "\n",
       "\n",
       " ___"
      ],
      "text/plain": [
       "<IPython.core.display.Markdown object>"
      ]
     },
     "metadata": {},
     "output_type": "display_data"
    },
    {
     "data": {
      "text/markdown": [
       "**Text:** \"These caves are blue holes, liquid time capsules where the past stares right back at you.\""
      ],
      "text/plain": [
       "<IPython.core.display.Markdown object>"
      ]
     },
     "metadata": {},
     "output_type": "display_data"
    },
    {
     "data": {
      "text/html": [
       "<a href='../../data/Hillary/wavs/Scripts 102-107/script_100_chunk_4-rate=24000.wav' target='_blank'>../../data/Hillary/wavs/Scripts 102-107/script_100_chunk_4-rate=24000.wav</a><br>"
      ],
      "text/plain": [
       "/Users/michaelp/Code/Tacotron-2/data/Hillary/wavs/Scripts 102-107/script_100_chunk_4-rate=24000.wav"
      ]
     },
     "metadata": {},
     "output_type": "display_data"
    },
    {
     "data": {
      "text/html": [
       "\n",
       "                <audio controls=\"controls\" >\n",
       "                    <source />\n",
       "                    Your browser does not support the audio element.\n",
       "                </audio>\n",
       "              "
      ],
      "text/plain": [
       "<IPython.lib.display.Audio object>"
      ]
     },
     "metadata": {},
     "output_type": "display_data"
    },
    {
     "data": {
      "text/markdown": [
       "\n",
       "\n",
       " ___"
      ],
      "text/plain": [
       "<IPython.core.display.Markdown object>"
      ]
     },
     "metadata": {},
     "output_type": "display_data"
    },
    {
     "data": {
      "text/markdown": [
       "**Text:** \"by the acronym SWOT and was \"a major step forward\""
      ],
      "text/plain": [
       "<IPython.core.display.Markdown object>"
      ]
     },
     "metadata": {},
     "output_type": "display_data"
    },
    {
     "data": {
      "text/html": [
       "<a href='../../data/Hillary/wavs/Scripts 99-101/script_8_chunk_4-rate=24000.wav' target='_blank'>../../data/Hillary/wavs/Scripts 99-101/script_8_chunk_4-rate=24000.wav</a><br>"
      ],
      "text/plain": [
       "/Users/michaelp/Code/Tacotron-2/data/Hillary/wavs/Scripts 99-101/script_8_chunk_4-rate=24000.wav"
      ]
     },
     "metadata": {},
     "output_type": "display_data"
    },
    {
     "data": {
      "text/html": [
       "\n",
       "                <audio controls=\"controls\" >\n",
       "                    <source />\n",
       "                    Your browser does not support the audio element.\n",
       "                </audio>\n",
       "              "
      ],
      "text/plain": [
       "<IPython.lib.display.Audio object>"
      ]
     },
     "metadata": {},
     "output_type": "display_data"
    },
    {
     "data": {
      "text/markdown": [
       "\n",
       "\n",
       " ___"
      ],
      "text/plain": [
       "<IPython.core.display.Markdown object>"
      ]
     },
     "metadata": {},
     "output_type": "display_data"
    },
    {
     "data": {
      "text/markdown": [
       "**Text:** \"have remained a mystery to most of the world.\""
      ],
      "text/plain": [
       "<IPython.core.display.Markdown object>"
      ]
     },
     "metadata": {},
     "output_type": "display_data"
    },
    {
     "data": {
      "text/html": [
       "<a href='../../data/Hillary/wavs/Scripts 82-87/script_78_chunk_2-rate=24000.wav' target='_blank'>../../data/Hillary/wavs/Scripts 82-87/script_78_chunk_2-rate=24000.wav</a><br>"
      ],
      "text/plain": [
       "/Users/michaelp/Code/Tacotron-2/data/Hillary/wavs/Scripts 82-87/script_78_chunk_2-rate=24000.wav"
      ]
     },
     "metadata": {},
     "output_type": "display_data"
    },
    {
     "data": {
      "text/html": [
       "\n",
       "                <audio controls=\"controls\" >\n",
       "                    <source />\n",
       "                    Your browser does not support the audio element.\n",
       "                </audio>\n",
       "              "
      ],
      "text/plain": [
       "<IPython.lib.display.Audio object>"
      ]
     },
     "metadata": {},
     "output_type": "display_data"
    },
    {
     "data": {
      "text/markdown": [
       "\n",
       "\n",
       " ___"
      ],
      "text/plain": [
       "<IPython.core.display.Markdown object>"
      ]
     },
     "metadata": {},
     "output_type": "display_data"
    },
    {
     "data": {
      "text/markdown": [
       "**Text:** \"debates about whether and when whistleblowing is permissible,\""
      ],
      "text/plain": [
       "<IPython.core.display.Markdown object>"
      ]
     },
     "metadata": {},
     "output_type": "display_data"
    },
    {
     "data": {
      "text/html": [
       "<a href='../../data/Hillary/wavs/Scripts 64-69/script_68_chunk_28-rate=24000.wav' target='_blank'>../../data/Hillary/wavs/Scripts 64-69/script_68_chunk_28-rate=24000.wav</a><br>"
      ],
      "text/plain": [
       "/Users/michaelp/Code/Tacotron-2/data/Hillary/wavs/Scripts 64-69/script_68_chunk_28-rate=24000.wav"
      ]
     },
     "metadata": {},
     "output_type": "display_data"
    },
    {
     "data": {
      "text/html": [
       "\n",
       "                <audio controls=\"controls\" >\n",
       "                    <source />\n",
       "                    Your browser does not support the audio element.\n",
       "                </audio>\n",
       "              "
      ],
      "text/plain": [
       "<IPython.lib.display.Audio object>"
      ]
     },
     "metadata": {},
     "output_type": "display_data"
    },
    {
     "data": {
      "text/markdown": [
       "\n",
       "\n",
       " ___"
      ],
      "text/plain": [
       "<IPython.core.display.Markdown object>"
      ]
     },
     "metadata": {},
     "output_type": "display_data"
    },
    {
     "data": {
      "text/markdown": [
       "**Text:** \"Constructed in the Medieval Revival architectural style,\""
      ],
      "text/plain": [
       "<IPython.core.display.Markdown object>"
      ]
     },
     "metadata": {},
     "output_type": "display_data"
    },
    {
     "data": {
      "text/html": [
       "<a href='../../data/Hillary/wavs/Scripts 94-98/script_8_chunk_2-rate=24000.wav' target='_blank'>../../data/Hillary/wavs/Scripts 94-98/script_8_chunk_2-rate=24000.wav</a><br>"
      ],
      "text/plain": [
       "/Users/michaelp/Code/Tacotron-2/data/Hillary/wavs/Scripts 94-98/script_8_chunk_2-rate=24000.wav"
      ]
     },
     "metadata": {},
     "output_type": "display_data"
    },
    {
     "data": {
      "text/html": [
       "\n",
       "                <audio controls=\"controls\" >\n",
       "                    <source />\n",
       "                    Your browser does not support the audio element.\n",
       "                </audio>\n",
       "              "
      ],
      "text/plain": [
       "<IPython.lib.display.Audio object>"
      ]
     },
     "metadata": {},
     "output_type": "display_data"
    },
    {
     "data": {
      "text/markdown": [
       "\n",
       "\n",
       " ___"
      ],
      "text/plain": [
       "<IPython.core.display.Markdown object>"
      ]
     },
     "metadata": {},
     "output_type": "display_data"
    },
    {
     "data": {
      "text/markdown": [
       "**Text:** \"as well as black Federal Reserve Seals and District numbers. The presses at your left are overprinting this important information,\""
      ],
      "text/plain": [
       "<IPython.core.display.Markdown object>"
      ]
     },
     "metadata": {},
     "output_type": "display_data"
    },
    {
     "data": {
      "text/html": [
       "<a href='../../data/Hillary/wavs/Scripts 58-63/script_39_chunk_2-rate=24000.wav' target='_blank'>../../data/Hillary/wavs/Scripts 58-63/script_39_chunk_2-rate=24000.wav</a><br>"
      ],
      "text/plain": [
       "/Users/michaelp/Code/Tacotron-2/data/Hillary/wavs/Scripts 58-63/script_39_chunk_2-rate=24000.wav"
      ]
     },
     "metadata": {},
     "output_type": "display_data"
    },
    {
     "data": {
      "text/html": [
       "\n",
       "                <audio controls=\"controls\" >\n",
       "                    <source />\n",
       "                    Your browser does not support the audio element.\n",
       "                </audio>\n",
       "              "
      ],
      "text/plain": [
       "<IPython.lib.display.Audio object>"
      ]
     },
     "metadata": {},
     "output_type": "display_data"
    },
    {
     "data": {
      "text/markdown": [
       "\n",
       "\n",
       " ___"
      ],
      "text/plain": [
       "<IPython.core.display.Markdown object>"
      ]
     },
     "metadata": {},
     "output_type": "display_data"
    },
    {
     "data": {
      "text/markdown": [
       "**Text:** \"rather than strict adherence to finely honed strategic plans.\""
      ],
      "text/plain": [
       "<IPython.core.display.Markdown object>"
      ]
     },
     "metadata": {},
     "output_type": "display_data"
    },
    {
     "data": {
      "text/html": [
       "<a href='../../data/Hillary/wavs/Scripts 94-98/script_69_chunk_1-rate=24000.wav' target='_blank'>../../data/Hillary/wavs/Scripts 94-98/script_69_chunk_1-rate=24000.wav</a><br>"
      ],
      "text/plain": [
       "/Users/michaelp/Code/Tacotron-2/data/Hillary/wavs/Scripts 94-98/script_69_chunk_1-rate=24000.wav"
      ]
     },
     "metadata": {},
     "output_type": "display_data"
    },
    {
     "data": {
      "text/html": [
       "\n",
       "                <audio controls=\"controls\" >\n",
       "                    <source />\n",
       "                    Your browser does not support the audio element.\n",
       "                </audio>\n",
       "              "
      ],
      "text/plain": [
       "<IPython.lib.display.Audio object>"
      ]
     },
     "metadata": {},
     "output_type": "display_data"
    },
    {
     "data": {
      "text/markdown": [
       "\n",
       "\n",
       " ___"
      ],
      "text/plain": [
       "<IPython.core.display.Markdown object>"
      ]
     },
     "metadata": {},
     "output_type": "display_data"
    },
    {
     "data": {
      "text/markdown": [
       "**Text:** \"and have simplified, advantageous, or slightly different tax treatment.\""
      ],
      "text/plain": [
       "<IPython.core.display.Markdown object>"
      ]
     },
     "metadata": {},
     "output_type": "display_data"
    },
    {
     "data": {
      "text/html": [
       "<a href='../../data/Hillary/wavs/Scripts 102-107/script_116_chunk_2-rate=24000.wav' target='_blank'>../../data/Hillary/wavs/Scripts 102-107/script_116_chunk_2-rate=24000.wav</a><br>"
      ],
      "text/plain": [
       "/Users/michaelp/Code/Tacotron-2/data/Hillary/wavs/Scripts 102-107/script_116_chunk_2-rate=24000.wav"
      ]
     },
     "metadata": {},
     "output_type": "display_data"
    },
    {
     "data": {
      "text/html": [
       "\n",
       "                <audio controls=\"controls\" >\n",
       "                    <source />\n",
       "                    Your browser does not support the audio element.\n",
       "                </audio>\n",
       "              "
      ],
      "text/plain": [
       "<IPython.lib.display.Audio object>"
      ]
     },
     "metadata": {},
     "output_type": "display_data"
    },
    {
     "data": {
      "text/markdown": [
       "\n",
       "\n",
       " ___"
      ],
      "text/plain": [
       "<IPython.core.display.Markdown object>"
      ]
     },
     "metadata": {},
     "output_type": "display_data"
    },
    {
     "data": {
      "text/markdown": [
       "**Text:** \"Once confirmed, click the \"next\" button, like this. Great, now let's move on to step-\""
      ],
      "text/plain": [
       "<IPython.core.display.Markdown object>"
      ]
     },
     "metadata": {},
     "output_type": "display_data"
    },
    {
     "data": {
      "text/html": [
       "<a href='../../data/Hillary/wavs/Script 6/script_0_chunk_2-rate=24000.wav' target='_blank'>../../data/Hillary/wavs/Script 6/script_0_chunk_2-rate=24000.wav</a><br>"
      ],
      "text/plain": [
       "/Users/michaelp/Code/Tacotron-2/data/Hillary/wavs/Script 6/script_0_chunk_2-rate=24000.wav"
      ]
     },
     "metadata": {},
     "output_type": "display_data"
    },
    {
     "data": {
      "text/html": [
       "\n",
       "                <audio controls=\"controls\" >\n",
       "                    <source />\n",
       "                    Your browser does not support the audio element.\n",
       "                </audio>\n",
       "              "
      ],
      "text/plain": [
       "<IPython.lib.display.Audio object>"
      ]
     },
     "metadata": {},
     "output_type": "display_data"
    },
    {
     "data": {
      "text/markdown": [
       "\n",
       "\n",
       " ___"
      ],
      "text/plain": [
       "<IPython.core.display.Markdown object>"
      ]
     },
     "metadata": {},
     "output_type": "display_data"
    },
    {
     "data": {
      "text/markdown": [
       "**Text:** \"A person,\""
      ],
      "text/plain": [
       "<IPython.core.display.Markdown object>"
      ]
     },
     "metadata": {},
     "output_type": "display_data"
    },
    {
     "data": {
      "text/html": [
       "<a href='../../data/Hillary/wavs/Scripts 34-39/script_31_chunk_19-rate=24000.wav' target='_blank'>../../data/Hillary/wavs/Scripts 34-39/script_31_chunk_19-rate=24000.wav</a><br>"
      ],
      "text/plain": [
       "/Users/michaelp/Code/Tacotron-2/data/Hillary/wavs/Scripts 34-39/script_31_chunk_19-rate=24000.wav"
      ]
     },
     "metadata": {},
     "output_type": "display_data"
    },
    {
     "data": {
      "text/html": [
       "\n",
       "                <audio controls=\"controls\" >\n",
       "                    <source />\n",
       "                    Your browser does not support the audio element.\n",
       "                </audio>\n",
       "              "
      ],
      "text/plain": [
       "<IPython.lib.display.Audio object>"
      ]
     },
     "metadata": {},
     "output_type": "display_data"
    },
    {
     "data": {
      "text/markdown": [
       "\n",
       "\n",
       " ___"
      ],
      "text/plain": [
       "<IPython.core.display.Markdown object>"
      ]
     },
     "metadata": {},
     "output_type": "display_data"
    },
    {
     "data": {
      "text/markdown": [
       "**Text:** \"Verbal communication is the spoken or written conveyance of a message.\""
      ],
      "text/plain": [
       "<IPython.core.display.Markdown object>"
      ]
     },
     "metadata": {},
     "output_type": "display_data"
    },
    {
     "data": {
      "text/html": [
       "<a href='../../data/Hillary/wavs/Script 1/script_14_chunk_0-rate=24000.wav' target='_blank'>../../data/Hillary/wavs/Script 1/script_14_chunk_0-rate=24000.wav</a><br>"
      ],
      "text/plain": [
       "/Users/michaelp/Code/Tacotron-2/data/Hillary/wavs/Script 1/script_14_chunk_0-rate=24000.wav"
      ]
     },
     "metadata": {},
     "output_type": "display_data"
    },
    {
     "data": {
      "text/html": [
       "\n",
       "                <audio controls=\"controls\" >\n",
       "                    <source />\n",
       "                    Your browser does not support the audio element.\n",
       "                </audio>\n",
       "              "
      ],
      "text/plain": [
       "<IPython.lib.display.Audio object>"
      ]
     },
     "metadata": {},
     "output_type": "display_data"
    },
    {
     "data": {
      "text/markdown": [
       "\n",
       "\n",
       " ___"
      ],
      "text/plain": [
       "<IPython.core.display.Markdown object>"
      ]
     },
     "metadata": {},
     "output_type": "display_data"
    },
    {
     "data": {
      "text/markdown": [
       "**Text:** \"lines were now very\""
      ],
      "text/plain": [
       "<IPython.core.display.Markdown object>"
      ]
     },
     "metadata": {},
     "output_type": "display_data"
    },
    {
     "data": {
      "text/html": [
       "<a href='../../data/Hillary/wavs/Scripts 58-63/script_73_chunk_0-rate=24000.wav' target='_blank'>../../data/Hillary/wavs/Scripts 58-63/script_73_chunk_0-rate=24000.wav</a><br>"
      ],
      "text/plain": [
       "/Users/michaelp/Code/Tacotron-2/data/Hillary/wavs/Scripts 58-63/script_73_chunk_0-rate=24000.wav"
      ]
     },
     "metadata": {},
     "output_type": "display_data"
    },
    {
     "data": {
      "text/html": [
       "\n",
       "                <audio controls=\"controls\" >\n",
       "                    <source />\n",
       "                    Your browser does not support the audio element.\n",
       "                </audio>\n",
       "              "
      ],
      "text/plain": [
       "<IPython.lib.display.Audio object>"
      ]
     },
     "metadata": {},
     "output_type": "display_data"
    },
    {
     "data": {
      "text/markdown": [
       "\n",
       "\n",
       " ___"
      ],
      "text/plain": [
       "<IPython.core.display.Markdown object>"
      ]
     },
     "metadata": {},
     "output_type": "display_data"
    },
    {
     "data": {
      "text/markdown": [
       "**Text:** \"economic definition of \"sacrificing profits,\""
      ],
      "text/plain": [
       "<IPython.core.display.Markdown object>"
      ]
     },
     "metadata": {},
     "output_type": "display_data"
    },
    {
     "data": {
      "text/html": [
       "<a href='../../data/Hillary/wavs/Scripts 22-27/script_38_chunk_15-rate=24000.wav' target='_blank'>../../data/Hillary/wavs/Scripts 22-27/script_38_chunk_15-rate=24000.wav</a><br>"
      ],
      "text/plain": [
       "/Users/michaelp/Code/Tacotron-2/data/Hillary/wavs/Scripts 22-27/script_38_chunk_15-rate=24000.wav"
      ]
     },
     "metadata": {},
     "output_type": "display_data"
    },
    {
     "data": {
      "text/html": [
       "\n",
       "                <audio controls=\"controls\" >\n",
       "                    <source />\n",
       "                    Your browser does not support the audio element.\n",
       "                </audio>\n",
       "              "
      ],
      "text/plain": [
       "<IPython.lib.display.Audio object>"
      ]
     },
     "metadata": {},
     "output_type": "display_data"
    },
    {
     "data": {
      "text/markdown": [
       "\n",
       "\n",
       " ___"
      ],
      "text/plain": [
       "<IPython.core.display.Markdown object>"
      ]
     },
     "metadata": {},
     "output_type": "display_data"
    },
    {
     "data": {
      "text/markdown": [
       "**Text:** \"and that the good thinker necessarily aims for styles of examination and appraisal that are analytical, abstract,\""
      ],
      "text/plain": [
       "<IPython.core.display.Markdown object>"
      ]
     },
     "metadata": {},
     "output_type": "display_data"
    },
    {
     "data": {
      "text/html": [
       "<a href='../../data/Hillary/wavs/Script 3/script_3_chunk_18-rate=24000.wav' target='_blank'>../../data/Hillary/wavs/Script 3/script_3_chunk_18-rate=24000.wav</a><br>"
      ],
      "text/plain": [
       "/Users/michaelp/Code/Tacotron-2/data/Hillary/wavs/Script 3/script_3_chunk_18-rate=24000.wav"
      ]
     },
     "metadata": {},
     "output_type": "display_data"
    },
    {
     "data": {
      "text/html": [
       "\n",
       "                <audio controls=\"controls\" >\n",
       "                    <source />\n",
       "                    Your browser does not support the audio element.\n",
       "                </audio>\n",
       "              "
      ],
      "text/plain": [
       "<IPython.lib.display.Audio object>"
      ]
     },
     "metadata": {},
     "output_type": "display_data"
    },
    {
     "data": {
      "text/markdown": [
       "\n",
       "\n",
       " ___"
      ],
      "text/plain": [
       "<IPython.core.display.Markdown object>"
      ]
     },
     "metadata": {},
     "output_type": "display_data"
    },
    {
     "data": {
      "text/markdown": [
       "**Text:** \"In his 1962 ground breaking work Strategy and Structure,\""
      ],
      "text/plain": [
       "<IPython.core.display.Markdown object>"
      ]
     },
     "metadata": {},
     "output_type": "display_data"
    },
    {
     "data": {
      "text/html": [
       "<a href='../../data/Hillary/wavs/Scripts 94-98/script_12_chunk_3-rate=24000.wav' target='_blank'>../../data/Hillary/wavs/Scripts 94-98/script_12_chunk_3-rate=24000.wav</a><br>"
      ],
      "text/plain": [
       "/Users/michaelp/Code/Tacotron-2/data/Hillary/wavs/Scripts 94-98/script_12_chunk_3-rate=24000.wav"
      ]
     },
     "metadata": {},
     "output_type": "display_data"
    },
    {
     "data": {
      "text/html": [
       "\n",
       "                <audio controls=\"controls\" >\n",
       "                    <source />\n",
       "                    Your browser does not support the audio element.\n",
       "                </audio>\n",
       "              "
      ],
      "text/plain": [
       "<IPython.lib.display.Audio object>"
      ]
     },
     "metadata": {},
     "output_type": "display_data"
    },
    {
     "data": {
      "text/markdown": [
       "\n",
       "\n",
       " ___"
      ],
      "text/plain": [
       "<IPython.core.display.Markdown object>"
      ]
     },
     "metadata": {},
     "output_type": "display_data"
    },
    {
     "data": {
      "text/markdown": [
       "**Text:** \"and would not become immediately apparent until the Enlightenment. By the 18th century and the Age of Enlightenment,\""
      ],
      "text/plain": [
       "<IPython.core.display.Markdown object>"
      ]
     },
     "metadata": {},
     "output_type": "display_data"
    },
    {
     "data": {
      "text/html": [
       "<a href='../../data/Hillary/wavs/Script 5/script_15_chunk_11-rate=24000.wav' target='_blank'>../../data/Hillary/wavs/Script 5/script_15_chunk_11-rate=24000.wav</a><br>"
      ],
      "text/plain": [
       "/Users/michaelp/Code/Tacotron-2/data/Hillary/wavs/Script 5/script_15_chunk_11-rate=24000.wav"
      ]
     },
     "metadata": {},
     "output_type": "display_data"
    },
    {
     "data": {
      "text/html": [
       "\n",
       "                <audio controls=\"controls\" >\n",
       "                    <source />\n",
       "                    Your browser does not support the audio element.\n",
       "                </audio>\n",
       "              "
      ],
      "text/plain": [
       "<IPython.lib.display.Audio object>"
      ]
     },
     "metadata": {},
     "output_type": "display_data"
    },
    {
     "data": {
      "text/markdown": [
       "\n",
       "\n",
       " ___"
      ],
      "text/plain": [
       "<IPython.core.display.Markdown object>"
      ]
     },
     "metadata": {},
     "output_type": "display_data"
    },
    {
     "data": {
      "text/markdown": [
       "**Text:** \"However, only some of these CSR activities\""
      ],
      "text/plain": [
       "<IPython.core.display.Markdown object>"
      ]
     },
     "metadata": {},
     "output_type": "display_data"
    },
    {
     "data": {
      "text/html": [
       "<a href='../../data/Hillary/wavs/Scripts 94-98/script_2_chunk_2-rate=24000.wav' target='_blank'>../../data/Hillary/wavs/Scripts 94-98/script_2_chunk_2-rate=24000.wav</a><br>"
      ],
      "text/plain": [
       "/Users/michaelp/Code/Tacotron-2/data/Hillary/wavs/Scripts 94-98/script_2_chunk_2-rate=24000.wav"
      ]
     },
     "metadata": {},
     "output_type": "display_data"
    },
    {
     "data": {
      "text/html": [
       "\n",
       "                <audio controls=\"controls\" >\n",
       "                    <source />\n",
       "                    Your browser does not support the audio element.\n",
       "                </audio>\n",
       "              "
      ],
      "text/plain": [
       "<IPython.lib.display.Audio object>"
      ]
     },
     "metadata": {},
     "output_type": "display_data"
    },
    {
     "data": {
      "text/markdown": [
       "\n",
       "\n",
       " ___"
      ],
      "text/plain": [
       "<IPython.core.display.Markdown object>"
      ]
     },
     "metadata": {},
     "output_type": "display_data"
    },
    {
     "data": {
      "text/markdown": [
       "**Text:** \"and social welfare are interdependent.\""
      ],
      "text/plain": [
       "<IPython.core.display.Markdown object>"
      ]
     },
     "metadata": {},
     "output_type": "display_data"
    },
    {
     "data": {
      "text/html": [
       "<a href='../../data/Hillary/wavs/Scripts 22-27/script_46_chunk_13-rate=24000.wav' target='_blank'>../../data/Hillary/wavs/Scripts 22-27/script_46_chunk_13-rate=24000.wav</a><br>"
      ],
      "text/plain": [
       "/Users/michaelp/Code/Tacotron-2/data/Hillary/wavs/Scripts 22-27/script_46_chunk_13-rate=24000.wav"
      ]
     },
     "metadata": {},
     "output_type": "display_data"
    },
    {
     "data": {
      "text/html": [
       "\n",
       "                <audio controls=\"controls\" >\n",
       "                    <source />\n",
       "                    Your browser does not support the audio element.\n",
       "                </audio>\n",
       "              "
      ],
      "text/plain": [
       "<IPython.lib.display.Audio object>"
      ]
     },
     "metadata": {},
     "output_type": "display_data"
    },
    {
     "data": {
      "text/markdown": [
       "\n",
       "\n",
       " ___"
      ],
      "text/plain": [
       "<IPython.core.display.Markdown object>"
      ]
     },
     "metadata": {},
     "output_type": "display_data"
    },
    {
     "data": {
      "text/markdown": [
       "**Text:** \"of how to draft privacy policies.\n",
       "The United States does not have a specific federal regulation\""
      ],
      "text/plain": [
       "<IPython.core.display.Markdown object>"
      ]
     },
     "metadata": {},
     "output_type": "display_data"
    },
    {
     "data": {
      "text/html": [
       "<a href='../../data/Hillary/wavs/Script 15/script_6_chunk_7-rate=24000.wav' target='_blank'>../../data/Hillary/wavs/Script 15/script_6_chunk_7-rate=24000.wav</a><br>"
      ],
      "text/plain": [
       "/Users/michaelp/Code/Tacotron-2/data/Hillary/wavs/Script 15/script_6_chunk_7-rate=24000.wav"
      ]
     },
     "metadata": {},
     "output_type": "display_data"
    },
    {
     "data": {
      "text/html": [
       "\n",
       "                <audio controls=\"controls\" >\n",
       "                    <source />\n",
       "                    Your browser does not support the audio element.\n",
       "                </audio>\n",
       "              "
      ],
      "text/plain": [
       "<IPython.lib.display.Audio object>"
      ]
     },
     "metadata": {},
     "output_type": "display_data"
    },
    {
     "data": {
      "text/markdown": [
       "\n",
       "\n",
       " ___"
      ],
      "text/plain": [
       "<IPython.core.display.Markdown object>"
      ]
     },
     "metadata": {},
     "output_type": "display_data"
    },
    {
     "data": {
      "text/markdown": [
       "**Text:** \"called gamma-ray bursts, and there is nothing more powerful.\""
      ],
      "text/plain": [
       "<IPython.core.display.Markdown object>"
      ]
     },
     "metadata": {},
     "output_type": "display_data"
    },
    {
     "data": {
      "text/html": [
       "<a href='../../data/Hillary/wavs/Scripts 99-101/script_55_chunk_3-rate=24000.wav' target='_blank'>../../data/Hillary/wavs/Scripts 99-101/script_55_chunk_3-rate=24000.wav</a><br>"
      ],
      "text/plain": [
       "/Users/michaelp/Code/Tacotron-2/data/Hillary/wavs/Scripts 99-101/script_55_chunk_3-rate=24000.wav"
      ]
     },
     "metadata": {},
     "output_type": "display_data"
    },
    {
     "data": {
      "text/html": [
       "\n",
       "                <audio controls=\"controls\" >\n",
       "                    <source />\n",
       "                    Your browser does not support the audio element.\n",
       "                </audio>\n",
       "              "
      ],
      "text/plain": [
       "<IPython.lib.display.Audio object>"
      ]
     },
     "metadata": {},
     "output_type": "display_data"
    },
    {
     "data": {
      "text/markdown": [
       "\n",
       "\n",
       " ___"
      ],
      "text/plain": [
       "<IPython.core.display.Markdown object>"
      ]
     },
     "metadata": {},
     "output_type": "display_data"
    },
    {
     "data": {
      "text/markdown": [
       "**Text:** \"individuals have to include dividends in their income when they complete their personal tax returns,\""
      ],
      "text/plain": [
       "<IPython.core.display.Markdown object>"
      ]
     },
     "metadata": {},
     "output_type": "display_data"
    },
    {
     "data": {
      "text/html": [
       "<a href='../../data/Hillary/wavs/Scripts 99-101/script_34_chunk_4-rate=24000.wav' target='_blank'>../../data/Hillary/wavs/Scripts 99-101/script_34_chunk_4-rate=24000.wav</a><br>"
      ],
      "text/plain": [
       "/Users/michaelp/Code/Tacotron-2/data/Hillary/wavs/Scripts 99-101/script_34_chunk_4-rate=24000.wav"
      ]
     },
     "metadata": {},
     "output_type": "display_data"
    },
    {
     "data": {
      "text/html": [
       "\n",
       "                <audio controls=\"controls\" >\n",
       "                    <source />\n",
       "                    Your browser does not support the audio element.\n",
       "                </audio>\n",
       "              "
      ],
      "text/plain": [
       "<IPython.lib.display.Audio object>"
      ]
     },
     "metadata": {},
     "output_type": "display_data"
    },
    {
     "data": {
      "text/markdown": [
       "\n",
       "\n",
       " ___"
      ],
      "text/plain": [
       "<IPython.core.display.Markdown object>"
      ]
     },
     "metadata": {},
     "output_type": "display_data"
    },
    {
     "data": {
      "text/markdown": [
       "**Text:** \"boost productivity in the manufacture of pins. While individuals could produce 200 pins per day,\""
      ],
      "text/plain": [
       "<IPython.core.display.Markdown object>"
      ]
     },
     "metadata": {},
     "output_type": "display_data"
    },
    {
     "data": {
      "text/html": [
       "<a href='../../data/Hillary/wavs/Scripts 22-27/script_85_chunk_17-rate=24000.wav' target='_blank'>../../data/Hillary/wavs/Scripts 22-27/script_85_chunk_17-rate=24000.wav</a><br>"
      ],
      "text/plain": [
       "/Users/michaelp/Code/Tacotron-2/data/Hillary/wavs/Scripts 22-27/script_85_chunk_17-rate=24000.wav"
      ]
     },
     "metadata": {},
     "output_type": "display_data"
    },
    {
     "data": {
      "text/html": [
       "\n",
       "                <audio controls=\"controls\" >\n",
       "                    <source />\n",
       "                    Your browser does not support the audio element.\n",
       "                </audio>\n",
       "              "
      ],
      "text/plain": [
       "<IPython.lib.display.Audio object>"
      ]
     },
     "metadata": {},
     "output_type": "display_data"
    },
    {
     "data": {
      "text/markdown": [
       "\n",
       "\n",
       " ___"
      ],
      "text/plain": [
       "<IPython.core.display.Markdown object>"
      ]
     },
     "metadata": {},
     "output_type": "display_data"
    },
    {
     "data": {
      "text/markdown": [
       "**Text:** \"in the Tirukkural, a Tamil book\""
      ],
      "text/plain": [
       "<IPython.core.display.Markdown object>"
      ]
     },
     "metadata": {},
     "output_type": "display_data"
    },
    {
     "data": {
      "text/html": [
       "<a href='../../data/Hillary/wavs/Scripts 102-107/script_66_chunk_2-rate=24000.wav' target='_blank'>../../data/Hillary/wavs/Scripts 102-107/script_66_chunk_2-rate=24000.wav</a><br>"
      ],
      "text/plain": [
       "/Users/michaelp/Code/Tacotron-2/data/Hillary/wavs/Scripts 102-107/script_66_chunk_2-rate=24000.wav"
      ]
     },
     "metadata": {},
     "output_type": "display_data"
    },
    {
     "data": {
      "text/html": [
       "\n",
       "                <audio controls=\"controls\" >\n",
       "                    <source />\n",
       "                    Your browser does not support the audio element.\n",
       "                </audio>\n",
       "              "
      ],
      "text/plain": [
       "<IPython.lib.display.Audio object>"
      ]
     },
     "metadata": {},
     "output_type": "display_data"
    },
    {
     "data": {
      "text/markdown": [
       "\n",
       "\n",
       " ___"
      ],
      "text/plain": [
       "<IPython.core.display.Markdown object>"
      ]
     },
     "metadata": {},
     "output_type": "display_data"
    },
    {
     "data": {
      "text/markdown": [
       "**Text:** \"and across industries renders their information search less costly than for clients.\""
      ],
      "text/plain": [
       "<IPython.core.display.Markdown object>"
      ]
     },
     "metadata": {},
     "output_type": "display_data"
    },
    {
     "data": {
      "text/html": [
       "<a href='../../data/Hillary/wavs/Scripts 34-39/script_98_chunk_12-rate=24000.wav' target='_blank'>../../data/Hillary/wavs/Scripts 34-39/script_98_chunk_12-rate=24000.wav</a><br>"
      ],
      "text/plain": [
       "/Users/michaelp/Code/Tacotron-2/data/Hillary/wavs/Scripts 34-39/script_98_chunk_12-rate=24000.wav"
      ]
     },
     "metadata": {},
     "output_type": "display_data"
    },
    {
     "data": {
      "text/html": [
       "\n",
       "                <audio controls=\"controls\" >\n",
       "                    <source />\n",
       "                    Your browser does not support the audio element.\n",
       "                </audio>\n",
       "              "
      ],
      "text/plain": [
       "<IPython.lib.display.Audio object>"
      ]
     },
     "metadata": {},
     "output_type": "display_data"
    },
    {
     "data": {
      "text/markdown": [
       "\n",
       "\n",
       " ___"
      ],
      "text/plain": [
       "<IPython.core.display.Markdown object>"
      ]
     },
     "metadata": {},
     "output_type": "display_data"
    },
    {
     "data": {
      "text/markdown": [
       "**Text:** \"However, traditional Aboriginal conversational interaction is \"communal\", broadcast to many people,\""
      ],
      "text/plain": [
       "<IPython.core.display.Markdown object>"
      ]
     },
     "metadata": {},
     "output_type": "display_data"
    },
    {
     "data": {
      "text/html": [
       "<a href='../../data/Hillary/wavs/Scripts 102-107/script_139_chunk_4-rate=24000.wav' target='_blank'>../../data/Hillary/wavs/Scripts 102-107/script_139_chunk_4-rate=24000.wav</a><br>"
      ],
      "text/plain": [
       "/Users/michaelp/Code/Tacotron-2/data/Hillary/wavs/Scripts 102-107/script_139_chunk_4-rate=24000.wav"
      ]
     },
     "metadata": {},
     "output_type": "display_data"
    },
    {
     "data": {
      "text/html": [
       "\n",
       "                <audio controls=\"controls\" >\n",
       "                    <source />\n",
       "                    Your browser does not support the audio element.\n",
       "                </audio>\n",
       "              "
      ],
      "text/plain": [
       "<IPython.lib.display.Audio object>"
      ]
     },
     "metadata": {},
     "output_type": "display_data"
    },
    {
     "data": {
      "text/markdown": [
       "\n",
       "\n",
       " ___"
      ],
      "text/plain": [
       "<IPython.core.display.Markdown object>"
      ]
     },
     "metadata": {},
     "output_type": "display_data"
    },
    {
     "data": {
      "text/markdown": [
       "**Text:** \"One of the top honeymoon destinations in the word, Maui's alluring beaches and immaculate resorts\""
      ],
      "text/plain": [
       "<IPython.core.display.Markdown object>"
      ]
     },
     "metadata": {},
     "output_type": "display_data"
    },
    {
     "data": {
      "text/html": [
       "<a href='../../data/Hillary/wavs/Scripts 94-98/script_85_chunk_3-rate=24000.wav' target='_blank'>../../data/Hillary/wavs/Scripts 94-98/script_85_chunk_3-rate=24000.wav</a><br>"
      ],
      "text/plain": [
       "/Users/michaelp/Code/Tacotron-2/data/Hillary/wavs/Scripts 94-98/script_85_chunk_3-rate=24000.wav"
      ]
     },
     "metadata": {},
     "output_type": "display_data"
    },
    {
     "data": {
      "text/html": [
       "\n",
       "                <audio controls=\"controls\" >\n",
       "                    <source />\n",
       "                    Your browser does not support the audio element.\n",
       "                </audio>\n",
       "              "
      ],
      "text/plain": [
       "<IPython.lib.display.Audio object>"
      ]
     },
     "metadata": {},
     "output_type": "display_data"
    },
    {
     "data": {
      "text/markdown": [
       "\n",
       "\n",
       " ___"
      ],
      "text/plain": [
       "<IPython.core.display.Markdown object>"
      ]
     },
     "metadata": {},
     "output_type": "display_data"
    },
    {
     "data": {
      "text/markdown": [
       "**Text:** \"and ask questions. These acts may take many forms,\""
      ],
      "text/plain": [
       "<IPython.core.display.Markdown object>"
      ]
     },
     "metadata": {},
     "output_type": "display_data"
    },
    {
     "data": {
      "text/html": [
       "<a href='../../data/Hillary/wavs/Scripts 82-87/script_47_chunk_5-rate=24000.wav' target='_blank'>../../data/Hillary/wavs/Scripts 82-87/script_47_chunk_5-rate=24000.wav</a><br>"
      ],
      "text/plain": [
       "/Users/michaelp/Code/Tacotron-2/data/Hillary/wavs/Scripts 82-87/script_47_chunk_5-rate=24000.wav"
      ]
     },
     "metadata": {},
     "output_type": "display_data"
    },
    {
     "data": {
      "text/html": [
       "\n",
       "                <audio controls=\"controls\" >\n",
       "                    <source />\n",
       "                    Your browser does not support the audio element.\n",
       "                </audio>\n",
       "              "
      ],
      "text/plain": [
       "<IPython.lib.display.Audio object>"
      ]
     },
     "metadata": {},
     "output_type": "display_data"
    },
    {
     "data": {
      "text/markdown": [
       "\n",
       "\n",
       " ___"
      ],
      "text/plain": [
       "<IPython.core.display.Markdown object>"
      ]
     },
     "metadata": {},
     "output_type": "display_data"
    },
    {
     "data": {
      "text/markdown": [
       "**Text:** \"arise mysteriously from the unconscious mind while the conscious mind is occupied on other tasks.\""
      ],
      "text/plain": [
       "<IPython.core.display.Markdown object>"
      ]
     },
     "metadata": {},
     "output_type": "display_data"
    },
    {
     "data": {
      "text/html": [
       "<a href='../../data/Hillary/wavs/Scripts 16-21/script_62_chunk_9-rate=24000.wav' target='_blank'>../../data/Hillary/wavs/Scripts 16-21/script_62_chunk_9-rate=24000.wav</a><br>"
      ],
      "text/plain": [
       "/Users/michaelp/Code/Tacotron-2/data/Hillary/wavs/Scripts 16-21/script_62_chunk_9-rate=24000.wav"
      ]
     },
     "metadata": {},
     "output_type": "display_data"
    },
    {
     "data": {
      "text/html": [
       "\n",
       "                <audio controls=\"controls\" >\n",
       "                    <source />\n",
       "                    Your browser does not support the audio element.\n",
       "                </audio>\n",
       "              "
      ],
      "text/plain": [
       "<IPython.lib.display.Audio object>"
      ]
     },
     "metadata": {},
     "output_type": "display_data"
    },
    {
     "data": {
      "text/markdown": [
       "\n",
       "\n",
       " ___"
      ],
      "text/plain": [
       "<IPython.core.display.Markdown object>"
      ]
     },
     "metadata": {},
     "output_type": "display_data"
    },
    {
     "data": {
      "text/markdown": [
       "**Text:** \"Italian rancho was a bachelor establishment.\""
      ],
      "text/plain": [
       "<IPython.core.display.Markdown object>"
      ]
     },
     "metadata": {},
     "output_type": "display_data"
    },
    {
     "data": {
      "text/html": [
       "<a href='../../data/Hillary/wavs/Scripts 64-69/script_70_chunk_0-rate=24000.wav' target='_blank'>../../data/Hillary/wavs/Scripts 64-69/script_70_chunk_0-rate=24000.wav</a><br>"
      ],
      "text/plain": [
       "/Users/michaelp/Code/Tacotron-2/data/Hillary/wavs/Scripts 64-69/script_70_chunk_0-rate=24000.wav"
      ]
     },
     "metadata": {},
     "output_type": "display_data"
    },
    {
     "data": {
      "text/html": [
       "\n",
       "                <audio controls=\"controls\" >\n",
       "                    <source />\n",
       "                    Your browser does not support the audio element.\n",
       "                </audio>\n",
       "              "
      ],
      "text/plain": [
       "<IPython.lib.display.Audio object>"
      ]
     },
     "metadata": {},
     "output_type": "display_data"
    },
    {
     "data": {
      "text/markdown": [
       "\n",
       "\n",
       " ___"
      ],
      "text/plain": [
       "<IPython.core.display.Markdown object>"
      ]
     },
     "metadata": {},
     "output_type": "display_data"
    },
    {
     "data": {
      "text/markdown": [
       "**Text:** \"last one I knew was an overseer.\""
      ],
      "text/plain": [
       "<IPython.core.display.Markdown object>"
      ]
     },
     "metadata": {},
     "output_type": "display_data"
    },
    {
     "data": {
      "text/html": [
       "<a href='../../data/Hillary/wavs/Scripts 28-33/script_21_chunk_0-rate=24000.wav' target='_blank'>../../data/Hillary/wavs/Scripts 28-33/script_21_chunk_0-rate=24000.wav</a><br>"
      ],
      "text/plain": [
       "/Users/michaelp/Code/Tacotron-2/data/Hillary/wavs/Scripts 28-33/script_21_chunk_0-rate=24000.wav"
      ]
     },
     "metadata": {},
     "output_type": "display_data"
    },
    {
     "data": {
      "text/html": [
       "\n",
       "                <audio controls=\"controls\" >\n",
       "                    <source />\n",
       "                    Your browser does not support the audio element.\n",
       "                </audio>\n",
       "              "
      ],
      "text/plain": [
       "<IPython.lib.display.Audio object>"
      ]
     },
     "metadata": {},
     "output_type": "display_data"
    },
    {
     "data": {
      "text/markdown": [
       "\n",
       "\n",
       " ___"
      ],
      "text/plain": [
       "<IPython.core.display.Markdown object>"
      ]
     },
     "metadata": {},
     "output_type": "display_data"
    },
    {
     "data": {
      "text/markdown": [
       "**Text:** \"The rhythm of the rod carries your body, mind, and spirit to the water. Whether you catch a fish or not, the water will always give you\""
      ],
      "text/plain": [
       "<IPython.core.display.Markdown object>"
      ]
     },
     "metadata": {},
     "output_type": "display_data"
    },
    {
     "data": {
      "text/html": [
       "<a href='../../data/Hillary/wavs/Scripts 16-21/script_48_chunk_5-rate=24000.wav' target='_blank'>../../data/Hillary/wavs/Scripts 16-21/script_48_chunk_5-rate=24000.wav</a><br>"
      ],
      "text/plain": [
       "/Users/michaelp/Code/Tacotron-2/data/Hillary/wavs/Scripts 16-21/script_48_chunk_5-rate=24000.wav"
      ]
     },
     "metadata": {},
     "output_type": "display_data"
    },
    {
     "data": {
      "text/html": [
       "\n",
       "                <audio controls=\"controls\" >\n",
       "                    <source />\n",
       "                    Your browser does not support the audio element.\n",
       "                </audio>\n",
       "              "
      ],
      "text/plain": [
       "<IPython.lib.display.Audio object>"
      ]
     },
     "metadata": {},
     "output_type": "display_data"
    },
    {
     "data": {
      "text/markdown": [
       "\n",
       "\n",
       " ___"
      ],
      "text/plain": [
       "<IPython.core.display.Markdown object>"
      ]
     },
     "metadata": {},
     "output_type": "display_data"
    },
    {
     "data": {
      "text/markdown": [
       "**Text:** \"in order simplify the work for line managers.\""
      ],
      "text/plain": [
       "<IPython.core.display.Markdown object>"
      ]
     },
     "metadata": {},
     "output_type": "display_data"
    },
    {
     "data": {
      "text/html": [
       "<a href='../../data/Hillary/wavs/Scripts 99-101/script_54_chunk_9-rate=24000.wav' target='_blank'>../../data/Hillary/wavs/Scripts 99-101/script_54_chunk_9-rate=24000.wav</a><br>"
      ],
      "text/plain": [
       "/Users/michaelp/Code/Tacotron-2/data/Hillary/wavs/Scripts 99-101/script_54_chunk_9-rate=24000.wav"
      ]
     },
     "metadata": {},
     "output_type": "display_data"
    },
    {
     "data": {
      "text/html": [
       "\n",
       "                <audio controls=\"controls\" >\n",
       "                    <source />\n",
       "                    Your browser does not support the audio element.\n",
       "                </audio>\n",
       "              "
      ],
      "text/plain": [
       "<IPython.lib.display.Audio object>"
      ]
     },
     "metadata": {},
     "output_type": "display_data"
    },
    {
     "data": {
      "text/markdown": [
       "\n",
       "\n",
       " ___"
      ],
      "text/plain": [
       "<IPython.core.display.Markdown object>"
      ]
     },
     "metadata": {},
     "output_type": "display_data"
    },
    {
     "data": {
      "text/markdown": [
       "**Text:** \"to draw conclusions about the quality of critical thinking.\""
      ],
      "text/plain": [
       "<IPython.core.display.Markdown object>"
      ]
     },
     "metadata": {},
     "output_type": "display_data"
    },
    {
     "data": {
      "text/html": [
       "<a href='../../data/Hillary/wavs/Scripts 76-81 (Part Two)/script_36_chunk_9-rate=24000.wav' target='_blank'>../../data/Hillary/wavs/Scripts 76-81 (Part Two)/script_36_chunk_9-rate=24000.wav</a><br>"
      ],
      "text/plain": [
       "/Users/michaelp/Code/Tacotron-2/data/Hillary/wavs/Scripts 76-81 (Part Two)/script_36_chunk_9-rate=24000.wav"
      ]
     },
     "metadata": {},
     "output_type": "display_data"
    },
    {
     "data": {
      "text/html": [
       "\n",
       "                <audio controls=\"controls\" >\n",
       "                    <source />\n",
       "                    Your browser does not support the audio element.\n",
       "                </audio>\n",
       "              "
      ],
      "text/plain": [
       "<IPython.lib.display.Audio object>"
      ]
     },
     "metadata": {},
     "output_type": "display_data"
    },
    {
     "data": {
      "text/markdown": [
       "\n",
       "\n",
       " ___"
      ],
      "text/plain": [
       "<IPython.core.display.Markdown object>"
      ]
     },
     "metadata": {},
     "output_type": "display_data"
    },
    {
     "data": {
      "text/markdown": [
       "**Text:** \"Spectacle cobras can grow upto more than 7 feet in length. Their venom attacks the nerves\""
      ],
      "text/plain": [
       "<IPython.core.display.Markdown object>"
      ]
     },
     "metadata": {},
     "output_type": "display_data"
    },
    {
     "data": {
      "text/html": [
       "<a href='../../data/Hillary/wavs/Scripts 99-101/script_15_chunk_2-rate=24000.wav' target='_blank'>../../data/Hillary/wavs/Scripts 99-101/script_15_chunk_2-rate=24000.wav</a><br>"
      ],
      "text/plain": [
       "/Users/michaelp/Code/Tacotron-2/data/Hillary/wavs/Scripts 99-101/script_15_chunk_2-rate=24000.wav"
      ]
     },
     "metadata": {},
     "output_type": "display_data"
    },
    {
     "data": {
      "text/html": [
       "\n",
       "                <audio controls=\"controls\" >\n",
       "                    <source />\n",
       "                    Your browser does not support the audio element.\n",
       "                </audio>\n",
       "              "
      ],
      "text/plain": [
       "<IPython.lib.display.Audio object>"
      ]
     },
     "metadata": {},
     "output_type": "display_data"
    },
    {
     "data": {
      "text/markdown": [
       "\n",
       "\n",
       " ___"
      ],
      "text/plain": [
       "<IPython.core.display.Markdown object>"
      ]
     },
     "metadata": {},
     "output_type": "display_data"
    },
    {
     "data": {
      "text/markdown": [
       "**Text:** \"\"Non-verbal behaviours may form a universal language system.\"\""
      ],
      "text/plain": [
       "<IPython.core.display.Markdown object>"
      ]
     },
     "metadata": {},
     "output_type": "display_data"
    },
    {
     "data": {
      "text/html": [
       "<a href='../../data/Hillary/wavs/Script 2/script_5_chunk_28-rate=24000.wav' target='_blank'>../../data/Hillary/wavs/Script 2/script_5_chunk_28-rate=24000.wav</a><br>"
      ],
      "text/plain": [
       "/Users/michaelp/Code/Tacotron-2/data/Hillary/wavs/Script 2/script_5_chunk_28-rate=24000.wav"
      ]
     },
     "metadata": {},
     "output_type": "display_data"
    },
    {
     "data": {
      "text/html": [
       "\n",
       "                <audio controls=\"controls\" >\n",
       "                    <source />\n",
       "                    Your browser does not support the audio element.\n",
       "                </audio>\n",
       "              "
      ],
      "text/plain": [
       "<IPython.lib.display.Audio object>"
      ]
     },
     "metadata": {},
     "output_type": "display_data"
    },
    {
     "data": {
      "text/markdown": [
       "\n",
       "\n",
       " ___"
      ],
      "text/plain": [
       "<IPython.core.display.Markdown object>"
      ]
     },
     "metadata": {},
     "output_type": "display_data"
    },
    {
     "data": {
      "text/markdown": [
       "**Text:** \"And while prying doors is still an important skill that every firefighter must master, the alarming rise in crime in this country,\""
      ],
      "text/plain": [
       "<IPython.core.display.Markdown object>"
      ]
     },
     "metadata": {},
     "output_type": "display_data"
    },
    {
     "data": {
      "text/html": [
       "<a href='../../data/Hillary/wavs/Scripts 82-87/script_18_chunk_5-rate=24000.wav' target='_blank'>../../data/Hillary/wavs/Scripts 82-87/script_18_chunk_5-rate=24000.wav</a><br>"
      ],
      "text/plain": [
       "/Users/michaelp/Code/Tacotron-2/data/Hillary/wavs/Scripts 82-87/script_18_chunk_5-rate=24000.wav"
      ]
     },
     "metadata": {},
     "output_type": "display_data"
    },
    {
     "data": {
      "text/html": [
       "\n",
       "                <audio controls=\"controls\" >\n",
       "                    <source />\n",
       "                    Your browser does not support the audio element.\n",
       "                </audio>\n",
       "              "
      ],
      "text/plain": [
       "<IPython.lib.display.Audio object>"
      ]
     },
     "metadata": {},
     "output_type": "display_data"
    },
    {
     "data": {
      "text/markdown": [
       "\n",
       "\n",
       " ___"
      ],
      "text/plain": [
       "<IPython.core.display.Markdown object>"
      ]
     },
     "metadata": {},
     "output_type": "display_data"
    },
    {
     "data": {
      "text/markdown": [
       "**Text:** \"or simply for escaping the world\""
      ],
      "text/plain": [
       "<IPython.core.display.Markdown object>"
      ]
     },
     "metadata": {},
     "output_type": "display_data"
    },
    {
     "data": {
      "text/html": [
       "<a href='../../data/Hillary/wavs/Scripts 94-98/script_85_chunk_5-rate=24000.wav' target='_blank'>../../data/Hillary/wavs/Scripts 94-98/script_85_chunk_5-rate=24000.wav</a><br>"
      ],
      "text/plain": [
       "/Users/michaelp/Code/Tacotron-2/data/Hillary/wavs/Scripts 94-98/script_85_chunk_5-rate=24000.wav"
      ]
     },
     "metadata": {},
     "output_type": "display_data"
    },
    {
     "data": {
      "text/html": [
       "\n",
       "                <audio controls=\"controls\" >\n",
       "                    <source />\n",
       "                    Your browser does not support the audio element.\n",
       "                </audio>\n",
       "              "
      ],
      "text/plain": [
       "<IPython.lib.display.Audio object>"
      ]
     },
     "metadata": {},
     "output_type": "display_data"
    },
    {
     "data": {
      "text/markdown": [
       "\n",
       "\n",
       " ___"
      ],
      "text/plain": [
       "<IPython.core.display.Markdown object>"
      ]
     },
     "metadata": {},
     "output_type": "display_data"
    },
    {
     "data": {
      "text/markdown": [
       "**Text:** \"offer opportunities to engage in continuous professional development, and foster an environment,\""
      ],
      "text/plain": [
       "<IPython.core.display.Markdown object>"
      ]
     },
     "metadata": {},
     "output_type": "display_data"
    },
    {
     "data": {
      "text/html": [
       "<a href='../../data/Hillary/wavs/Scripts 64-69/script_64_chunk_10-rate=24000.wav' target='_blank'>../../data/Hillary/wavs/Scripts 64-69/script_64_chunk_10-rate=24000.wav</a><br>"
      ],
      "text/plain": [
       "/Users/michaelp/Code/Tacotron-2/data/Hillary/wavs/Scripts 64-69/script_64_chunk_10-rate=24000.wav"
      ]
     },
     "metadata": {},
     "output_type": "display_data"
    },
    {
     "data": {
      "text/html": [
       "\n",
       "                <audio controls=\"controls\" >\n",
       "                    <source />\n",
       "                    Your browser does not support the audio element.\n",
       "                </audio>\n",
       "              "
      ],
      "text/plain": [
       "<IPython.lib.display.Audio object>"
      ]
     },
     "metadata": {},
     "output_type": "display_data"
    },
    {
     "data": {
      "text/markdown": [
       "\n",
       "\n",
       " ___"
      ],
      "text/plain": [
       "<IPython.core.display.Markdown object>"
      ]
     },
     "metadata": {},
     "output_type": "display_data"
    },
    {
     "data": {
      "text/markdown": [
       "**Text:** \"September 15, 1963, the Sixteenth Street Baptist Church in Birmingham Alabama -\""
      ],
      "text/plain": [
       "<IPython.core.display.Markdown object>"
      ]
     },
     "metadata": {},
     "output_type": "display_data"
    },
    {
     "data": {
      "text/html": [
       "<a href='../../data/Hillary/wavs/Scripts 88-93/script_28_chunk_0-rate=24000.wav' target='_blank'>../../data/Hillary/wavs/Scripts 88-93/script_28_chunk_0-rate=24000.wav</a><br>"
      ],
      "text/plain": [
       "/Users/michaelp/Code/Tacotron-2/data/Hillary/wavs/Scripts 88-93/script_28_chunk_0-rate=24000.wav"
      ]
     },
     "metadata": {},
     "output_type": "display_data"
    },
    {
     "data": {
      "text/html": [
       "\n",
       "                <audio controls=\"controls\" >\n",
       "                    <source />\n",
       "                    Your browser does not support the audio element.\n",
       "                </audio>\n",
       "              "
      ],
      "text/plain": [
       "<IPython.lib.display.Audio object>"
      ]
     },
     "metadata": {},
     "output_type": "display_data"
    },
    {
     "data": {
      "text/markdown": [
       "\n",
       "\n",
       " ___"
      ],
      "text/plain": [
       "<IPython.core.display.Markdown object>"
      ]
     },
     "metadata": {},
     "output_type": "display_data"
    },
    {
     "data": {
      "text/markdown": [
       "**Text:** \"and the person must then figure out and formulate consciously what the mindbrain has already solved.\""
      ],
      "text/plain": [
       "<IPython.core.display.Markdown object>"
      ]
     },
     "metadata": {},
     "output_type": "display_data"
    },
    {
     "data": {
      "text/html": [
       "<a href='../../data/Hillary/wavs/Scripts 102-107/script_7_chunk_1-rate=24000.wav' target='_blank'>../../data/Hillary/wavs/Scripts 102-107/script_7_chunk_1-rate=24000.wav</a><br>"
      ],
      "text/plain": [
       "/Users/michaelp/Code/Tacotron-2/data/Hillary/wavs/Scripts 102-107/script_7_chunk_1-rate=24000.wav"
      ]
     },
     "metadata": {},
     "output_type": "display_data"
    },
    {
     "data": {
      "text/html": [
       "\n",
       "                <audio controls=\"controls\" >\n",
       "                    <source />\n",
       "                    Your browser does not support the audio element.\n",
       "                </audio>\n",
       "              "
      ],
      "text/plain": [
       "<IPython.lib.display.Audio object>"
      ]
     },
     "metadata": {},
     "output_type": "display_data"
    },
    {
     "data": {
      "text/markdown": [
       "\n",
       "\n",
       " ___"
      ],
      "text/plain": [
       "<IPython.core.display.Markdown object>"
      ]
     },
     "metadata": {},
     "output_type": "display_data"
    },
    {
     "data": {
      "text/markdown": [
       "**Text:** \"as either consumer cooperatives or worker cooperatives. Cooperatives are fundamental to the ideology\""
      ],
      "text/plain": [
       "<IPython.core.display.Markdown object>"
      ]
     },
     "metadata": {},
     "output_type": "display_data"
    },
    {
     "data": {
      "text/html": [
       "<a href='../../data/Hillary/wavs/Scripts 102-107/script_93_chunk_6-rate=24000.wav' target='_blank'>../../data/Hillary/wavs/Scripts 102-107/script_93_chunk_6-rate=24000.wav</a><br>"
      ],
      "text/plain": [
       "/Users/michaelp/Code/Tacotron-2/data/Hillary/wavs/Scripts 102-107/script_93_chunk_6-rate=24000.wav"
      ]
     },
     "metadata": {},
     "output_type": "display_data"
    },
    {
     "data": {
      "text/html": [
       "\n",
       "                <audio controls=\"controls\" >\n",
       "                    <source />\n",
       "                    Your browser does not support the audio element.\n",
       "                </audio>\n",
       "              "
      ],
      "text/plain": [
       "<IPython.lib.display.Audio object>"
      ]
     },
     "metadata": {},
     "output_type": "display_data"
    },
    {
     "data": {
      "text/markdown": [
       "\n",
       "\n",
       " ___"
      ],
      "text/plain": [
       "<IPython.core.display.Markdown object>"
      ]
     },
     "metadata": {},
     "output_type": "display_data"
    },
    {
     "data": {
      "text/markdown": [
       "**Text:** \"A functionalist would say that any mental state--sadness, ecstasy, guilt, boredom--\""
      ],
      "text/plain": [
       "<IPython.core.display.Markdown object>"
      ]
     },
     "metadata": {},
     "output_type": "display_data"
    },
    {
     "data": {
      "text/html": [
       "<a href='../../data/Hillary/wavs/Scripts 34-39/script_31_chunk_38-rate=24000.wav' target='_blank'>../../data/Hillary/wavs/Scripts 34-39/script_31_chunk_38-rate=24000.wav</a><br>"
      ],
      "text/plain": [
       "/Users/michaelp/Code/Tacotron-2/data/Hillary/wavs/Scripts 34-39/script_31_chunk_38-rate=24000.wav"
      ]
     },
     "metadata": {},
     "output_type": "display_data"
    },
    {
     "data": {
      "text/html": [
       "\n",
       "                <audio controls=\"controls\" >\n",
       "                    <source />\n",
       "                    Your browser does not support the audio element.\n",
       "                </audio>\n",
       "              "
      ],
      "text/plain": [
       "<IPython.lib.display.Audio object>"
      ]
     },
     "metadata": {},
     "output_type": "display_data"
    },
    {
     "data": {
      "text/markdown": [
       "\n",
       "\n",
       " ___"
      ],
      "text/plain": [
       "<IPython.core.display.Markdown object>"
      ]
     },
     "metadata": {},
     "output_type": "display_data"
    },
    {
     "data": {
      "text/markdown": [
       "**Text:** \"So many diamonds were found that miners could swim in them like large ponds of water. Suddenly, the price of diamonds plunged.\""
      ],
      "text/plain": [
       "<IPython.core.display.Markdown object>"
      ]
     },
     "metadata": {},
     "output_type": "display_data"
    },
    {
     "data": {
      "text/html": [
       "<a href='../../data/Hillary/wavs/Scripts 70-75/script_15_chunk_8-rate=24000.wav' target='_blank'>../../data/Hillary/wavs/Scripts 70-75/script_15_chunk_8-rate=24000.wav</a><br>"
      ],
      "text/plain": [
       "/Users/michaelp/Code/Tacotron-2/data/Hillary/wavs/Scripts 70-75/script_15_chunk_8-rate=24000.wav"
      ]
     },
     "metadata": {},
     "output_type": "display_data"
    },
    {
     "data": {
      "text/html": [
       "\n",
       "                <audio controls=\"controls\" >\n",
       "                    <source />\n",
       "                    Your browser does not support the audio element.\n",
       "                </audio>\n",
       "              "
      ],
      "text/plain": [
       "<IPython.lib.display.Audio object>"
      ]
     },
     "metadata": {},
     "output_type": "display_data"
    },
    {
     "data": {
      "text/markdown": [
       "\n",
       "\n",
       " ___"
      ],
      "text/plain": [
       "<IPython.core.display.Markdown object>"
      ]
     },
     "metadata": {},
     "output_type": "display_data"
    },
    {
     "data": {
      "text/markdown": [
       "**Text:** \"that do not depend on acquired knowledge: they include common sense, the ability to deal with people,\""
      ],
      "text/plain": [
       "<IPython.core.display.Markdown object>"
      ]
     },
     "metadata": {},
     "output_type": "display_data"
    },
    {
     "data": {
      "text/html": [
       "<a href='../../data/Hillary/wavs/Scripts 76-81 (Part One)/script_39_chunk_5-rate=24000.wav' target='_blank'>../../data/Hillary/wavs/Scripts 76-81 (Part One)/script_39_chunk_5-rate=24000.wav</a><br>"
      ],
      "text/plain": [
       "/Users/michaelp/Code/Tacotron-2/data/Hillary/wavs/Scripts 76-81 (Part One)/script_39_chunk_5-rate=24000.wav"
      ]
     },
     "metadata": {},
     "output_type": "display_data"
    },
    {
     "data": {
      "text/html": [
       "\n",
       "                <audio controls=\"controls\" >\n",
       "                    <source />\n",
       "                    Your browser does not support the audio element.\n",
       "                </audio>\n",
       "              "
      ],
      "text/plain": [
       "<IPython.lib.display.Audio object>"
      ]
     },
     "metadata": {},
     "output_type": "display_data"
    },
    {
     "data": {
      "text/markdown": [
       "\n",
       "\n",
       " ___"
      ],
      "text/plain": [
       "<IPython.core.display.Markdown object>"
      ]
     },
     "metadata": {},
     "output_type": "display_data"
    },
    {
     "data": {
      "text/markdown": [
       "**Text:** \"With respect to the latter and most severe ramification\""
      ],
      "text/plain": [
       "<IPython.core.display.Markdown object>"
      ]
     },
     "metadata": {},
     "output_type": "display_data"
    },
    {
     "data": {
      "text/html": [
       "<a href='../../data/Hillary/wavs/Scripts 64-69/script_81_chunk_21-rate=24000.wav' target='_blank'>../../data/Hillary/wavs/Scripts 64-69/script_81_chunk_21-rate=24000.wav</a><br>"
      ],
      "text/plain": [
       "/Users/michaelp/Code/Tacotron-2/data/Hillary/wavs/Scripts 64-69/script_81_chunk_21-rate=24000.wav"
      ]
     },
     "metadata": {},
     "output_type": "display_data"
    },
    {
     "data": {
      "text/html": [
       "\n",
       "                <audio controls=\"controls\" >\n",
       "                    <source />\n",
       "                    Your browser does not support the audio element.\n",
       "                </audio>\n",
       "              "
      ],
      "text/plain": [
       "<IPython.lib.display.Audio object>"
      ]
     },
     "metadata": {},
     "output_type": "display_data"
    },
    {
     "data": {
      "text/markdown": [
       "\n",
       "\n",
       " ___"
      ],
      "text/plain": [
       "<IPython.core.display.Markdown object>"
      ]
     },
     "metadata": {},
     "output_type": "display_data"
    },
    {
     "data": {
      "text/markdown": [
       "**Text:** \"people with borderline personality disorder react.\""
      ],
      "text/plain": [
       "<IPython.core.display.Markdown object>"
      ]
     },
     "metadata": {},
     "output_type": "display_data"
    },
    {
     "data": {
      "text/html": [
       "<a href='../../data/Hillary/wavs/Scripts 70-75/script_49_chunk_3-rate=24000.wav' target='_blank'>../../data/Hillary/wavs/Scripts 70-75/script_49_chunk_3-rate=24000.wav</a><br>"
      ],
      "text/plain": [
       "/Users/michaelp/Code/Tacotron-2/data/Hillary/wavs/Scripts 70-75/script_49_chunk_3-rate=24000.wav"
      ]
     },
     "metadata": {},
     "output_type": "display_data"
    },
    {
     "data": {
      "text/html": [
       "\n",
       "                <audio controls=\"controls\" >\n",
       "                    <source />\n",
       "                    Your browser does not support the audio element.\n",
       "                </audio>\n",
       "              "
      ],
      "text/plain": [
       "<IPython.lib.display.Audio object>"
      ]
     },
     "metadata": {},
     "output_type": "display_data"
    },
    {
     "data": {
      "text/markdown": [
       "\n",
       "\n",
       " ___"
      ],
      "text/plain": [
       "<IPython.core.display.Markdown object>"
      ]
     },
     "metadata": {},
     "output_type": "display_data"
    },
    {
     "data": {
      "text/markdown": [
       "**Text:** \"Such documents often have standard formats that are particular to the organization issuing the policy.\""
      ],
      "text/plain": [
       "<IPython.core.display.Markdown object>"
      ]
     },
     "metadata": {},
     "output_type": "display_data"
    },
    {
     "data": {
      "text/html": [
       "<a href='../../data/Hillary/wavs/Scripts 28-33/script_64_chunk_3-rate=24000.wav' target='_blank'>../../data/Hillary/wavs/Scripts 28-33/script_64_chunk_3-rate=24000.wav</a><br>"
      ],
      "text/plain": [
       "/Users/michaelp/Code/Tacotron-2/data/Hillary/wavs/Scripts 28-33/script_64_chunk_3-rate=24000.wav"
      ]
     },
     "metadata": {},
     "output_type": "display_data"
    },
    {
     "data": {
      "text/html": [
       "\n",
       "                <audio controls=\"controls\" >\n",
       "                    <source />\n",
       "                    Your browser does not support the audio element.\n",
       "                </audio>\n",
       "              "
      ],
      "text/plain": [
       "<IPython.lib.display.Audio object>"
      ]
     },
     "metadata": {},
     "output_type": "display_data"
    },
    {
     "data": {
      "text/markdown": [
       "\n",
       "\n",
       " ___"
      ],
      "text/plain": [
       "<IPython.core.display.Markdown object>"
      ]
     },
     "metadata": {},
     "output_type": "display_data"
    },
    {
     "data": {
      "text/markdown": [
       "**Text:** \"Lambert Castle was built in 1893 as the home of Catholina Lambert,\""
      ],
      "text/plain": [
       "<IPython.core.display.Markdown object>"
      ]
     },
     "metadata": {},
     "output_type": "display_data"
    },
    {
     "data": {
      "text/html": [
       "<a href='../../data/Hillary/wavs/Scripts 94-98/script_8_chunk_0-rate=24000.wav' target='_blank'>../../data/Hillary/wavs/Scripts 94-98/script_8_chunk_0-rate=24000.wav</a><br>"
      ],
      "text/plain": [
       "/Users/michaelp/Code/Tacotron-2/data/Hillary/wavs/Scripts 94-98/script_8_chunk_0-rate=24000.wav"
      ]
     },
     "metadata": {},
     "output_type": "display_data"
    },
    {
     "data": {
      "text/html": [
       "\n",
       "                <audio controls=\"controls\" >\n",
       "                    <source />\n",
       "                    Your browser does not support the audio element.\n",
       "                </audio>\n",
       "              "
      ],
      "text/plain": [
       "<IPython.lib.display.Audio object>"
      ]
     },
     "metadata": {},
     "output_type": "display_data"
    },
    {
     "data": {
      "text/markdown": [
       "\n",
       "\n",
       " ___"
      ],
      "text/plain": [
       "<IPython.core.display.Markdown object>"
      ]
     },
     "metadata": {},
     "output_type": "display_data"
    },
    {
     "data": {
      "text/markdown": [
       "**Text:** \"Nuclear energy is the energy that is produced by a nuclear reaction.\""
      ],
      "text/plain": [
       "<IPython.core.display.Markdown object>"
      ]
     },
     "metadata": {},
     "output_type": "display_data"
    },
    {
     "data": {
      "text/html": [
       "<a href='../../data/Hillary/wavs/Scripts 28-33/script_54_chunk_0-rate=24000.wav' target='_blank'>../../data/Hillary/wavs/Scripts 28-33/script_54_chunk_0-rate=24000.wav</a><br>"
      ],
      "text/plain": [
       "/Users/michaelp/Code/Tacotron-2/data/Hillary/wavs/Scripts 28-33/script_54_chunk_0-rate=24000.wav"
      ]
     },
     "metadata": {},
     "output_type": "display_data"
    },
    {
     "data": {
      "text/html": [
       "\n",
       "                <audio controls=\"controls\" >\n",
       "                    <source />\n",
       "                    Your browser does not support the audio element.\n",
       "                </audio>\n",
       "              "
      ],
      "text/plain": [
       "<IPython.lib.display.Audio object>"
      ]
     },
     "metadata": {},
     "output_type": "display_data"
    },
    {
     "data": {
      "text/markdown": [
       "\n",
       "\n",
       " ___"
      ],
      "text/plain": [
       "<IPython.core.display.Markdown object>"
      ]
     },
     "metadata": {},
     "output_type": "display_data"
    },
    {
     "data": {
      "text/markdown": [
       "**Text:** \"or has no effect on the amount and quality of critical thinking in a course. There is some evidence to suggest a fourth,\""
      ],
      "text/plain": [
       "<IPython.core.display.Markdown object>"
      ]
     },
     "metadata": {},
     "output_type": "display_data"
    },
    {
     "data": {
      "text/html": [
       "<a href='../../data/Hillary/wavs/Scripts 64-69/script_4_chunk_2-rate=24000.wav' target='_blank'>../../data/Hillary/wavs/Scripts 64-69/script_4_chunk_2-rate=24000.wav</a><br>"
      ],
      "text/plain": [
       "/Users/michaelp/Code/Tacotron-2/data/Hillary/wavs/Scripts 64-69/script_4_chunk_2-rate=24000.wav"
      ]
     },
     "metadata": {},
     "output_type": "display_data"
    },
    {
     "data": {
      "text/html": [
       "\n",
       "                <audio controls=\"controls\" >\n",
       "                    <source />\n",
       "                    Your browser does not support the audio element.\n",
       "                </audio>\n",
       "              "
      ],
      "text/plain": [
       "<IPython.lib.display.Audio object>"
      ]
     },
     "metadata": {},
     "output_type": "display_data"
    },
    {
     "data": {
      "text/markdown": [
       "\n",
       "\n",
       " ___"
      ],
      "text/plain": [
       "<IPython.core.display.Markdown object>"
      ]
     },
     "metadata": {},
     "output_type": "display_data"
    },
    {
     "data": {
      "text/markdown": [
       "**Text:** \"In the 2010s, there has been an increase in online management education and training\""
      ],
      "text/plain": [
       "<IPython.core.display.Markdown object>"
      ]
     },
     "metadata": {},
     "output_type": "display_data"
    },
    {
     "data": {
      "text/html": [
       "<a href='../../data/Hillary/wavs/Scripts 22-27/script_58_chunk_4-rate=24000.wav' target='_blank'>../../data/Hillary/wavs/Scripts 22-27/script_58_chunk_4-rate=24000.wav</a><br>"
      ],
      "text/plain": [
       "/Users/michaelp/Code/Tacotron-2/data/Hillary/wavs/Scripts 22-27/script_58_chunk_4-rate=24000.wav"
      ]
     },
     "metadata": {},
     "output_type": "display_data"
    },
    {
     "data": {
      "text/html": [
       "\n",
       "                <audio controls=\"controls\" >\n",
       "                    <source />\n",
       "                    Your browser does not support the audio element.\n",
       "                </audio>\n",
       "              "
      ],
      "text/plain": [
       "<IPython.lib.display.Audio object>"
      ]
     },
     "metadata": {},
     "output_type": "display_data"
    },
    {
     "data": {
      "text/markdown": [
       "\n",
       "\n",
       " ___"
      ],
      "text/plain": [
       "<IPython.core.display.Markdown object>"
      ]
     },
     "metadata": {},
     "output_type": "display_data"
    },
    {
     "data": {
      "text/markdown": [
       "**Text:** \"including a basin wrench, used in cramped spaces.\""
      ],
      "text/plain": [
       "<IPython.core.display.Markdown object>"
      ]
     },
     "metadata": {},
     "output_type": "display_data"
    },
    {
     "data": {
      "text/html": [
       "<a href='../../data/Hillary/wavs/Scripts 34-39/script_74_chunk_2-rate=24000.wav' target='_blank'>../../data/Hillary/wavs/Scripts 34-39/script_74_chunk_2-rate=24000.wav</a><br>"
      ],
      "text/plain": [
       "/Users/michaelp/Code/Tacotron-2/data/Hillary/wavs/Scripts 34-39/script_74_chunk_2-rate=24000.wav"
      ]
     },
     "metadata": {},
     "output_type": "display_data"
    },
    {
     "data": {
      "text/html": [
       "\n",
       "                <audio controls=\"controls\" >\n",
       "                    <source />\n",
       "                    Your browser does not support the audio element.\n",
       "                </audio>\n",
       "              "
      ],
      "text/plain": [
       "<IPython.lib.display.Audio object>"
      ]
     },
     "metadata": {},
     "output_type": "display_data"
    },
    {
     "data": {
      "text/markdown": [
       "\n",
       "\n",
       " ___"
      ],
      "text/plain": [
       "<IPython.core.display.Markdown object>"
      ]
     },
     "metadata": {},
     "output_type": "display_data"
    },
    {
     "data": {
      "text/markdown": [
       "**Text:** \"When you look up at the night sky, you are looking at the ultimate history book -\""
      ],
      "text/plain": [
       "<IPython.core.display.Markdown object>"
      ]
     },
     "metadata": {},
     "output_type": "display_data"
    },
    {
     "data": {
      "text/html": [
       "<a href='../../data/Hillary/wavs/Scripts 99-101/script_55_chunk_8-rate=24000.wav' target='_blank'>../../data/Hillary/wavs/Scripts 99-101/script_55_chunk_8-rate=24000.wav</a><br>"
      ],
      "text/plain": [
       "/Users/michaelp/Code/Tacotron-2/data/Hillary/wavs/Scripts 99-101/script_55_chunk_8-rate=24000.wav"
      ]
     },
     "metadata": {},
     "output_type": "display_data"
    },
    {
     "data": {
      "text/html": [
       "\n",
       "                <audio controls=\"controls\" >\n",
       "                    <source />\n",
       "                    Your browser does not support the audio element.\n",
       "                </audio>\n",
       "              "
      ],
      "text/plain": [
       "<IPython.lib.display.Audio object>"
      ]
     },
     "metadata": {},
     "output_type": "display_data"
    },
    {
     "data": {
      "text/markdown": [
       "\n",
       "\n",
       " ___"
      ],
      "text/plain": [
       "<IPython.core.display.Markdown object>"
      ]
     },
     "metadata": {},
     "output_type": "display_data"
    },
    {
     "data": {
      "text/markdown": [
       "**Text:** \"\"Three minutes.\" The bombers had issued their warning; the countdown has\""
      ],
      "text/plain": [
       "<IPython.core.display.Markdown object>"
      ]
     },
     "metadata": {},
     "output_type": "display_data"
    },
    {
     "data": {
      "text/html": [
       "<a href='../../data/Hillary/wavs/Scripts 88-93/script_28_chunk_5-rate=24000.wav' target='_blank'>../../data/Hillary/wavs/Scripts 88-93/script_28_chunk_5-rate=24000.wav</a><br>"
      ],
      "text/plain": [
       "/Users/michaelp/Code/Tacotron-2/data/Hillary/wavs/Scripts 88-93/script_28_chunk_5-rate=24000.wav"
      ]
     },
     "metadata": {},
     "output_type": "display_data"
    },
    {
     "data": {
      "text/html": [
       "\n",
       "                <audio controls=\"controls\" >\n",
       "                    <source />\n",
       "                    Your browser does not support the audio element.\n",
       "                </audio>\n",
       "              "
      ],
      "text/plain": [
       "<IPython.lib.display.Audio object>"
      ]
     },
     "metadata": {},
     "output_type": "display_data"
    },
    {
     "data": {
      "text/markdown": [
       "\n",
       "\n",
       " ___"
      ],
      "text/plain": [
       "<IPython.core.display.Markdown object>"
      ]
     },
     "metadata": {},
     "output_type": "display_data"
    },
    {
     "data": {
      "text/markdown": [
       "**Text:** \"and  place some soft, absorbent material behind the subject you are recording to minimize reflections.\""
      ],
      "text/plain": [
       "<IPython.core.display.Markdown object>"
      ]
     },
     "metadata": {},
     "output_type": "display_data"
    },
    {
     "data": {
      "text/html": [
       "<a href='../../data/Hillary/wavs/Scripts 22-27/script_0_chunk_14-rate=24000.wav' target='_blank'>../../data/Hillary/wavs/Scripts 22-27/script_0_chunk_14-rate=24000.wav</a><br>"
      ],
      "text/plain": [
       "/Users/michaelp/Code/Tacotron-2/data/Hillary/wavs/Scripts 22-27/script_0_chunk_14-rate=24000.wav"
      ]
     },
     "metadata": {},
     "output_type": "display_data"
    },
    {
     "data": {
      "text/html": [
       "\n",
       "                <audio controls=\"controls\" >\n",
       "                    <source />\n",
       "                    Your browser does not support the audio element.\n",
       "                </audio>\n",
       "              "
      ],
      "text/plain": [
       "<IPython.lib.display.Audio object>"
      ]
     },
     "metadata": {},
     "output_type": "display_data"
    },
    {
     "data": {
      "text/markdown": [
       "\n",
       "\n",
       " ___"
      ],
      "text/plain": [
       "<IPython.core.display.Markdown object>"
      ]
     },
     "metadata": {},
     "output_type": "display_data"
    },
    {
     "data": {
      "text/markdown": [
       "**Text:** \"and are responses to strategic questions about how the organization will compete,\""
      ],
      "text/plain": [
       "<IPython.core.display.Markdown object>"
      ]
     },
     "metadata": {},
     "output_type": "display_data"
    },
    {
     "data": {
      "text/html": [
       "<a href='../../data/Hillary/wavs/Scripts 28-33/script_4_chunk_11-rate=24000.wav' target='_blank'>../../data/Hillary/wavs/Scripts 28-33/script_4_chunk_11-rate=24000.wav</a><br>"
      ],
      "text/plain": [
       "/Users/michaelp/Code/Tacotron-2/data/Hillary/wavs/Scripts 28-33/script_4_chunk_11-rate=24000.wav"
      ]
     },
     "metadata": {},
     "output_type": "display_data"
    },
    {
     "data": {
      "text/html": [
       "\n",
       "                <audio controls=\"controls\" >\n",
       "                    <source />\n",
       "                    Your browser does not support the audio element.\n",
       "                </audio>\n",
       "              "
      ],
      "text/plain": [
       "<IPython.lib.display.Audio object>"
      ]
     },
     "metadata": {},
     "output_type": "display_data"
    },
    {
     "data": {
      "text/markdown": [
       "\n",
       "\n",
       " ___"
      ],
      "text/plain": [
       "<IPython.core.display.Markdown object>"
      ]
     },
     "metadata": {},
     "output_type": "display_data"
    },
    {
     "data": {
      "text/markdown": [
       "**Text:** \"within and between different family members or groups.\""
      ],
      "text/plain": [
       "<IPython.core.display.Markdown object>"
      ]
     },
     "metadata": {},
     "output_type": "display_data"
    },
    {
     "data": {
      "text/html": [
       "<a href='../../data/Hillary/wavs/Scripts 58-63/script_99_chunk_4-rate=24000.wav' target='_blank'>../../data/Hillary/wavs/Scripts 58-63/script_99_chunk_4-rate=24000.wav</a><br>"
      ],
      "text/plain": [
       "/Users/michaelp/Code/Tacotron-2/data/Hillary/wavs/Scripts 58-63/script_99_chunk_4-rate=24000.wav"
      ]
     },
     "metadata": {},
     "output_type": "display_data"
    },
    {
     "data": {
      "text/html": [
       "\n",
       "                <audio controls=\"controls\" >\n",
       "                    <source />\n",
       "                    Your browser does not support the audio element.\n",
       "                </audio>\n",
       "              "
      ],
      "text/plain": [
       "<IPython.lib.display.Audio object>"
      ]
     },
     "metadata": {},
     "output_type": "display_data"
    },
    {
     "data": {
      "text/markdown": [
       "\n",
       "\n",
       " ___"
      ],
      "text/plain": [
       "<IPython.core.display.Markdown object>"
      ]
     },
     "metadata": {},
     "output_type": "display_data"
    },
    {
     "data": {
      "text/markdown": [
       "**Text:** \"In addition, top-level managers play a significant role in the mobilization of outside resources.\""
      ],
      "text/plain": [
       "<IPython.core.display.Markdown object>"
      ]
     },
     "metadata": {},
     "output_type": "display_data"
    },
    {
     "data": {
      "text/html": [
       "<a href='../../data/Hillary/wavs/Scripts 58-63/script_105_chunk_7-rate=24000.wav' target='_blank'>../../data/Hillary/wavs/Scripts 58-63/script_105_chunk_7-rate=24000.wav</a><br>"
      ],
      "text/plain": [
       "/Users/michaelp/Code/Tacotron-2/data/Hillary/wavs/Scripts 58-63/script_105_chunk_7-rate=24000.wav"
      ]
     },
     "metadata": {},
     "output_type": "display_data"
    },
    {
     "data": {
      "text/html": [
       "\n",
       "                <audio controls=\"controls\" >\n",
       "                    <source />\n",
       "                    Your browser does not support the audio element.\n",
       "                </audio>\n",
       "              "
      ],
      "text/plain": [
       "<IPython.lib.display.Audio object>"
      ]
     },
     "metadata": {},
     "output_type": "display_data"
    },
    {
     "data": {
      "text/markdown": [
       "\n",
       "\n",
       " ___"
      ],
      "text/plain": [
       "<IPython.core.display.Markdown object>"
      ]
     },
     "metadata": {},
     "output_type": "display_data"
    },
    {
     "data": {
      "text/markdown": [
       "**Text:** \"are mathematical techniques\""
      ],
      "text/plain": [
       "<IPython.core.display.Markdown object>"
      ]
     },
     "metadata": {},
     "output_type": "display_data"
    },
    {
     "data": {
      "text/html": [
       "<a href='../../data/Hillary/wavs/Scripts 28-33/script_50_chunk_10-rate=24000.wav' target='_blank'>../../data/Hillary/wavs/Scripts 28-33/script_50_chunk_10-rate=24000.wav</a><br>"
      ],
      "text/plain": [
       "/Users/michaelp/Code/Tacotron-2/data/Hillary/wavs/Scripts 28-33/script_50_chunk_10-rate=24000.wav"
      ]
     },
     "metadata": {},
     "output_type": "display_data"
    },
    {
     "data": {
      "text/html": [
       "\n",
       "                <audio controls=\"controls\" >\n",
       "                    <source />\n",
       "                    Your browser does not support the audio element.\n",
       "                </audio>\n",
       "              "
      ],
      "text/plain": [
       "<IPython.lib.display.Audio object>"
      ]
     },
     "metadata": {},
     "output_type": "display_data"
    },
    {
     "data": {
      "text/markdown": [
       "\n",
       "\n",
       " ___"
      ],
      "text/plain": [
       "<IPython.core.display.Markdown object>"
      ]
     },
     "metadata": {},
     "output_type": "display_data"
    },
    {
     "data": {
      "text/markdown": [
       "**Text:** \"are also selective in their processing speed Martindale argues that in the creative process,\""
      ],
      "text/plain": [
       "<IPython.core.display.Markdown object>"
      ]
     },
     "metadata": {},
     "output_type": "display_data"
    },
    {
     "data": {
      "text/html": [
       "<a href='../../data/Hillary/wavs/Script 7/script_16_chunk_21-rate=24000.wav' target='_blank'>../../data/Hillary/wavs/Script 7/script_16_chunk_21-rate=24000.wav</a><br>"
      ],
      "text/plain": [
       "/Users/michaelp/Code/Tacotron-2/data/Hillary/wavs/Script 7/script_16_chunk_21-rate=24000.wav"
      ]
     },
     "metadata": {},
     "output_type": "display_data"
    },
    {
     "data": {
      "text/html": [
       "\n",
       "                <audio controls=\"controls\" >\n",
       "                    <source />\n",
       "                    Your browser does not support the audio element.\n",
       "                </audio>\n",
       "              "
      ],
      "text/plain": [
       "<IPython.lib.display.Audio object>"
      ]
     },
     "metadata": {},
     "output_type": "display_data"
    },
    {
     "data": {
      "text/markdown": [
       "\n",
       "\n",
       " ___"
      ],
      "text/plain": [
       "<IPython.core.display.Markdown object>"
      ]
     },
     "metadata": {},
     "output_type": "display_data"
    },
    {
     "data": {
      "text/markdown": [
       "**Text:** \"marketing measures effectiveness with sales; guerrilla marketing, and profits.\""
      ],
      "text/plain": [
       "<IPython.core.display.Markdown object>"
      ]
     },
     "metadata": {},
     "output_type": "display_data"
    },
    {
     "data": {
      "text/html": [
       "<a href='../../data/Hillary/wavs/Scripts 88-93/script_5_chunk_5-rate=24000.wav' target='_blank'>../../data/Hillary/wavs/Scripts 88-93/script_5_chunk_5-rate=24000.wav</a><br>"
      ],
      "text/plain": [
       "/Users/michaelp/Code/Tacotron-2/data/Hillary/wavs/Scripts 88-93/script_5_chunk_5-rate=24000.wav"
      ]
     },
     "metadata": {},
     "output_type": "display_data"
    },
    {
     "data": {
      "text/html": [
       "\n",
       "                <audio controls=\"controls\" >\n",
       "                    <source />\n",
       "                    Your browser does not support the audio element.\n",
       "                </audio>\n",
       "              "
      ],
      "text/plain": [
       "<IPython.lib.display.Audio object>"
      ]
     },
     "metadata": {},
     "output_type": "display_data"
    },
    {
     "data": {
      "text/markdown": [
       "\n",
       "\n",
       " ___"
      ],
      "text/plain": [
       "<IPython.core.display.Markdown object>"
      ]
     },
     "metadata": {},
     "output_type": "display_data"
    },
    {
     "data": {
      "text/markdown": [
       "**Text:** \"But Network News is different. You've got to have a strong sense of style, of who you are,\""
      ],
      "text/plain": [
       "<IPython.core.display.Markdown object>"
      ]
     },
     "metadata": {},
     "output_type": "display_data"
    },
    {
     "data": {
      "text/html": [
       "<a href='../../data/Hillary/wavs/Scripts 102-107/script_46_chunk_4-rate=24000.wav' target='_blank'>../../data/Hillary/wavs/Scripts 102-107/script_46_chunk_4-rate=24000.wav</a><br>"
      ],
      "text/plain": [
       "/Users/michaelp/Code/Tacotron-2/data/Hillary/wavs/Scripts 102-107/script_46_chunk_4-rate=24000.wav"
      ]
     },
     "metadata": {},
     "output_type": "display_data"
    },
    {
     "data": {
      "text/html": [
       "\n",
       "                <audio controls=\"controls\" >\n",
       "                    <source />\n",
       "                    Your browser does not support the audio element.\n",
       "                </audio>\n",
       "              "
      ],
      "text/plain": [
       "<IPython.lib.display.Audio object>"
      ]
     },
     "metadata": {},
     "output_type": "display_data"
    },
    {
     "data": {
      "text/markdown": [
       "\n",
       "\n",
       " ___"
      ],
      "text/plain": [
       "<IPython.core.display.Markdown object>"
      ]
     },
     "metadata": {},
     "output_type": "display_data"
    },
    {
     "data": {
      "text/markdown": [
       "**Text:** \"and the marketing of corporations' ethics policies.\""
      ],
      "text/plain": [
       "<IPython.core.display.Markdown object>"
      ]
     },
     "metadata": {},
     "output_type": "display_data"
    },
    {
     "data": {
      "text/html": [
       "<a href='../../data/Hillary/wavs/Scripts 58-63/script_66_chunk_13-rate=24000.wav' target='_blank'>../../data/Hillary/wavs/Scripts 58-63/script_66_chunk_13-rate=24000.wav</a><br>"
      ],
      "text/plain": [
       "/Users/michaelp/Code/Tacotron-2/data/Hillary/wavs/Scripts 58-63/script_66_chunk_13-rate=24000.wav"
      ]
     },
     "metadata": {},
     "output_type": "display_data"
    },
    {
     "data": {
      "text/html": [
       "\n",
       "                <audio controls=\"controls\" >\n",
       "                    <source />\n",
       "                    Your browser does not support the audio element.\n",
       "                </audio>\n",
       "              "
      ],
      "text/plain": [
       "<IPython.lib.display.Audio object>"
      ]
     },
     "metadata": {},
     "output_type": "display_data"
    },
    {
     "data": {
      "text/markdown": [
       "\n",
       "\n",
       " ___"
      ],
      "text/plain": [
       "<IPython.core.display.Markdown object>"
      ]
     },
     "metadata": {},
     "output_type": "display_data"
    },
    {
     "data": {
      "text/markdown": [
       "**Text:** \"is to account for the tension between predicting the creative profile of an individual, as characterised by the psychometric approach,\""
      ],
      "text/plain": [
       "<IPython.core.display.Markdown object>"
      ]
     },
     "metadata": {},
     "output_type": "display_data"
    },
    {
     "data": {
      "text/html": [
       "<a href='../../data/Hillary/wavs/Scripts 58-63/script_34_chunk_4-rate=24000.wav' target='_blank'>../../data/Hillary/wavs/Scripts 58-63/script_34_chunk_4-rate=24000.wav</a><br>"
      ],
      "text/plain": [
       "/Users/michaelp/Code/Tacotron-2/data/Hillary/wavs/Scripts 58-63/script_34_chunk_4-rate=24000.wav"
      ]
     },
     "metadata": {},
     "output_type": "display_data"
    },
    {
     "data": {
      "text/html": [
       "\n",
       "                <audio controls=\"controls\" >\n",
       "                    <source />\n",
       "                    Your browser does not support the audio element.\n",
       "                </audio>\n",
       "              "
      ],
      "text/plain": [
       "<IPython.lib.display.Audio object>"
      ]
     },
     "metadata": {},
     "output_type": "display_data"
    },
    {
     "data": {
      "text/markdown": [
       "\n",
       "\n",
       " ___"
      ],
      "text/plain": [
       "<IPython.core.display.Markdown object>"
      ]
     },
     "metadata": {},
     "output_type": "display_data"
    },
    {
     "data": {
      "text/markdown": [
       "**Text:** \"storage and retrieval of information, strategic choice, strategic outcome and feedback.\""
      ],
      "text/plain": [
       "<IPython.core.display.Markdown object>"
      ]
     },
     "metadata": {},
     "output_type": "display_data"
    },
    {
     "data": {
      "text/html": [
       "<a href='../../data/Hillary/wavs/Scripts 64-69/script_53_chunk_10-rate=24000.wav' target='_blank'>../../data/Hillary/wavs/Scripts 64-69/script_53_chunk_10-rate=24000.wav</a><br>"
      ],
      "text/plain": [
       "/Users/michaelp/Code/Tacotron-2/data/Hillary/wavs/Scripts 64-69/script_53_chunk_10-rate=24000.wav"
      ]
     },
     "metadata": {},
     "output_type": "display_data"
    },
    {
     "data": {
      "text/html": [
       "\n",
       "                <audio controls=\"controls\" >\n",
       "                    <source />\n",
       "                    Your browser does not support the audio element.\n",
       "                </audio>\n",
       "              "
      ],
      "text/plain": [
       "<IPython.lib.display.Audio object>"
      ]
     },
     "metadata": {},
     "output_type": "display_data"
    },
    {
     "data": {
      "text/markdown": [
       "\n",
       "\n",
       " ___"
      ],
      "text/plain": [
       "<IPython.core.display.Markdown object>"
      ]
     },
     "metadata": {},
     "output_type": "display_data"
    },
    {
     "data": {
      "text/markdown": [
       "**Text:** \"about 250 micrograms\""
      ],
      "text/plain": [
       "<IPython.core.display.Markdown object>"
      ]
     },
     "metadata": {},
     "output_type": "display_data"
    },
    {
     "data": {
      "text/html": [
       "<a href='../../data/Hillary/wavs/Scripts 88-93/script_32_chunk_9-rate=24000.wav' target='_blank'>../../data/Hillary/wavs/Scripts 88-93/script_32_chunk_9-rate=24000.wav</a><br>"
      ],
      "text/plain": [
       "/Users/michaelp/Code/Tacotron-2/data/Hillary/wavs/Scripts 88-93/script_32_chunk_9-rate=24000.wav"
      ]
     },
     "metadata": {},
     "output_type": "display_data"
    },
    {
     "data": {
      "text/html": [
       "\n",
       "                <audio controls=\"controls\" >\n",
       "                    <source />\n",
       "                    Your browser does not support the audio element.\n",
       "                </audio>\n",
       "              "
      ],
      "text/plain": [
       "<IPython.lib.display.Audio object>"
      ]
     },
     "metadata": {},
     "output_type": "display_data"
    },
    {
     "data": {
      "text/markdown": [
       "\n",
       "\n",
       " ___"
      ],
      "text/plain": [
       "<IPython.core.display.Markdown object>"
      ]
     },
     "metadata": {},
     "output_type": "display_data"
    },
    {
     "data": {
      "text/markdown": [
       "**Text:** \"mass media companies such as cable television networks,\""
      ],
      "text/plain": [
       "<IPython.core.display.Markdown object>"
      ]
     },
     "metadata": {},
     "output_type": "display_data"
    },
    {
     "data": {
      "text/html": [
       "<a href='../../data/Hillary/wavs/Script 1/script_6_chunk_9-rate=24000.wav' target='_blank'>../../data/Hillary/wavs/Script 1/script_6_chunk_9-rate=24000.wav</a><br>"
      ],
      "text/plain": [
       "/Users/michaelp/Code/Tacotron-2/data/Hillary/wavs/Script 1/script_6_chunk_9-rate=24000.wav"
      ]
     },
     "metadata": {},
     "output_type": "display_data"
    },
    {
     "data": {
      "text/html": [
       "\n",
       "                <audio controls=\"controls\" >\n",
       "                    <source />\n",
       "                    Your browser does not support the audio element.\n",
       "                </audio>\n",
       "              "
      ],
      "text/plain": [
       "<IPython.lib.display.Audio object>"
      ]
     },
     "metadata": {},
     "output_type": "display_data"
    },
    {
     "data": {
      "text/markdown": [
       "\n",
       "\n",
       " ___"
      ],
      "text/plain": [
       "<IPython.core.display.Markdown object>"
      ]
     },
     "metadata": {},
     "output_type": "display_data"
    },
    {
     "data": {
      "text/markdown": [
       "**Text:** \"Positive affect makes additional cognitive material available for processing,\""
      ],
      "text/plain": [
       "<IPython.core.display.Markdown object>"
      ]
     },
     "metadata": {},
     "output_type": "display_data"
    },
    {
     "data": {
      "text/html": [
       "<a href='../../data/Hillary/wavs/Scripts 28-33/script_80_chunk_1-rate=24000.wav' target='_blank'>../../data/Hillary/wavs/Scripts 28-33/script_80_chunk_1-rate=24000.wav</a><br>"
      ],
      "text/plain": [
       "/Users/michaelp/Code/Tacotron-2/data/Hillary/wavs/Scripts 28-33/script_80_chunk_1-rate=24000.wav"
      ]
     },
     "metadata": {},
     "output_type": "display_data"
    },
    {
     "data": {
      "text/html": [
       "\n",
       "                <audio controls=\"controls\" >\n",
       "                    <source />\n",
       "                    Your browser does not support the audio element.\n",
       "                </audio>\n",
       "              "
      ],
      "text/plain": [
       "<IPython.lib.display.Audio object>"
      ]
     },
     "metadata": {},
     "output_type": "display_data"
    },
    {
     "data": {
      "text/markdown": [
       "\n",
       "\n",
       " ___"
      ],
      "text/plain": [
       "<IPython.core.display.Markdown object>"
      ]
     },
     "metadata": {},
     "output_type": "display_data"
    },
    {
     "data": {
      "text/markdown": [
       "**Text:** \"and spending time with the one you love.\n",
       "\n",
       "Whether it's hiking to one of East Maui's spectacular waterfalls,\""
      ],
      "text/plain": [
       "<IPython.core.display.Markdown object>"
      ]
     },
     "metadata": {},
     "output_type": "display_data"
    },
    {
     "data": {
      "text/html": [
       "<a href='../../data/Hillary/wavs/Scripts 94-98/script_85_chunk_6-rate=24000.wav' target='_blank'>../../data/Hillary/wavs/Scripts 94-98/script_85_chunk_6-rate=24000.wav</a><br>"
      ],
      "text/plain": [
       "/Users/michaelp/Code/Tacotron-2/data/Hillary/wavs/Scripts 94-98/script_85_chunk_6-rate=24000.wav"
      ]
     },
     "metadata": {},
     "output_type": "display_data"
    },
    {
     "data": {
      "text/html": [
       "\n",
       "                <audio controls=\"controls\" >\n",
       "                    <source />\n",
       "                    Your browser does not support the audio element.\n",
       "                </audio>\n",
       "              "
      ],
      "text/plain": [
       "<IPython.lib.display.Audio object>"
      ]
     },
     "metadata": {},
     "output_type": "display_data"
    },
    {
     "data": {
      "text/markdown": [
       "\n",
       "\n",
       " ___"
      ],
      "text/plain": [
       "<IPython.core.display.Markdown object>"
      ]
     },
     "metadata": {},
     "output_type": "display_data"
    },
    {
     "data": {
      "text/markdown": [
       "**Text:** \"of language are governed\""
      ],
      "text/plain": [
       "<IPython.core.display.Markdown object>"
      ]
     },
     "metadata": {},
     "output_type": "display_data"
    },
    {
     "data": {
      "text/html": [
       "<a href='../../data/Hillary/wavs/Script 1/script_14_chunk_14-rate=24000.wav' target='_blank'>../../data/Hillary/wavs/Script 1/script_14_chunk_14-rate=24000.wav</a><br>"
      ],
      "text/plain": [
       "/Users/michaelp/Code/Tacotron-2/data/Hillary/wavs/Script 1/script_14_chunk_14-rate=24000.wav"
      ]
     },
     "metadata": {},
     "output_type": "display_data"
    },
    {
     "data": {
      "text/html": [
       "\n",
       "                <audio controls=\"controls\" >\n",
       "                    <source />\n",
       "                    Your browser does not support the audio element.\n",
       "                </audio>\n",
       "              "
      ],
      "text/plain": [
       "<IPython.lib.display.Audio object>"
      ]
     },
     "metadata": {},
     "output_type": "display_data"
    },
    {
     "data": {
      "text/markdown": [
       "\n",
       "\n",
       " ___"
      ],
      "text/plain": [
       "<IPython.core.display.Markdown object>"
      ]
     },
     "metadata": {},
     "output_type": "display_data"
    },
    {
     "data": {
      "text/markdown": [
       "**Text:** \"Paper-based indices involve one or more of a variety of methods of responding.\""
      ],
      "text/plain": [
       "<IPython.core.display.Markdown object>"
      ]
     },
     "metadata": {},
     "output_type": "display_data"
    },
    {
     "data": {
      "text/html": [
       "<a href='../../data/Hillary/wavs/Scripts 82-87/script_103_chunk_0-rate=24000.wav' target='_blank'>../../data/Hillary/wavs/Scripts 82-87/script_103_chunk_0-rate=24000.wav</a><br>"
      ],
      "text/plain": [
       "/Users/michaelp/Code/Tacotron-2/data/Hillary/wavs/Scripts 82-87/script_103_chunk_0-rate=24000.wav"
      ]
     },
     "metadata": {},
     "output_type": "display_data"
    },
    {
     "data": {
      "text/html": [
       "\n",
       "                <audio controls=\"controls\" >\n",
       "                    <source />\n",
       "                    Your browser does not support the audio element.\n",
       "                </audio>\n",
       "              "
      ],
      "text/plain": [
       "<IPython.lib.display.Audio object>"
      ]
     },
     "metadata": {},
     "output_type": "display_data"
    },
    {
     "data": {
      "text/markdown": [
       "\n",
       "\n",
       " ___"
      ],
      "text/plain": [
       "<IPython.core.display.Markdown object>"
      ]
     },
     "metadata": {},
     "output_type": "display_data"
    },
    {
     "data": {
      "text/markdown": [
       "**Text:** \"Close beside him gleamed the white fangs of the wolf-dog.\""
      ],
      "text/plain": [
       "<IPython.core.display.Markdown object>"
      ]
     },
     "metadata": {},
     "output_type": "display_data"
    },
    {
     "data": {
      "text/html": [
       "<a href='../../data/Hillary/wavs/Script 6/script_9_chunk_0-rate=24000.wav' target='_blank'>../../data/Hillary/wavs/Script 6/script_9_chunk_0-rate=24000.wav</a><br>"
      ],
      "text/plain": [
       "/Users/michaelp/Code/Tacotron-2/data/Hillary/wavs/Script 6/script_9_chunk_0-rate=24000.wav"
      ]
     },
     "metadata": {},
     "output_type": "display_data"
    },
    {
     "data": {
      "text/html": [
       "\n",
       "                <audio controls=\"controls\" >\n",
       "                    <source />\n",
       "                    Your browser does not support the audio element.\n",
       "                </audio>\n",
       "              "
      ],
      "text/plain": [
       "<IPython.lib.display.Audio object>"
      ]
     },
     "metadata": {},
     "output_type": "display_data"
    },
    {
     "data": {
      "text/markdown": [
       "\n",
       "\n",
       " ___"
      ],
      "text/plain": [
       "<IPython.core.display.Markdown object>"
      ]
     },
     "metadata": {},
     "output_type": "display_data"
    }
   ],
   "source": [
    "find_examples(r'(?s).*', display_n=100, replace=False, group=0, load_audio=True)"
   ]
  },
  {
   "cell_type": "markdown",
   "metadata": {},
   "source": [
    "## Odd Characters"
   ]
  },
  {
   "cell_type": "code",
   "execution_count": 182,
   "metadata": {},
   "outputs": [
    {
     "data": {
      "text/plain": [
       "['\\t',\n",
       " '\\n',\n",
       " ' ',\n",
       " '!',\n",
       " '\"',\n",
       " '#',\n",
       " '&',\n",
       " \"'\",\n",
       " '(',\n",
       " ')',\n",
       " '*',\n",
       " '+',\n",
       " ',',\n",
       " '-',\n",
       " '.',\n",
       " '/',\n",
       " '0',\n",
       " '1',\n",
       " '2',\n",
       " '3',\n",
       " '4',\n",
       " '5',\n",
       " '6',\n",
       " '7',\n",
       " '8',\n",
       " '9',\n",
       " ':',\n",
       " ';',\n",
       " '<',\n",
       " '=',\n",
       " '>',\n",
       " '?',\n",
       " 'A',\n",
       " 'B',\n",
       " 'C',\n",
       " 'D',\n",
       " 'E',\n",
       " 'F',\n",
       " 'G',\n",
       " 'H',\n",
       " 'I',\n",
       " 'J',\n",
       " 'K',\n",
       " 'L',\n",
       " 'M',\n",
       " 'N',\n",
       " 'O',\n",
       " 'P',\n",
       " 'Q',\n",
       " 'R',\n",
       " 'S',\n",
       " 'T',\n",
       " 'U',\n",
       " 'V',\n",
       " 'W',\n",
       " 'X',\n",
       " 'Y',\n",
       " 'Z',\n",
       " '[',\n",
       " ']',\n",
       " 'a',\n",
       " 'b',\n",
       " 'c',\n",
       " 'd',\n",
       " 'e',\n",
       " 'f',\n",
       " 'g',\n",
       " 'h',\n",
       " 'i',\n",
       " 'j',\n",
       " 'k',\n",
       " 'l',\n",
       " 'm',\n",
       " 'n',\n",
       " 'o',\n",
       " 'p',\n",
       " 'q',\n",
       " 'r',\n",
       " 's',\n",
       " 't',\n",
       " 'u',\n",
       " 'v',\n",
       " 'w',\n",
       " 'x',\n",
       " 'y',\n",
       " 'z',\n",
       " '~',\n",
       " '\\xa0',\n",
       " '®',\n",
       " '°',\n",
       " 'Ü',\n",
       " 'á',\n",
       " 'ç',\n",
       " 'é',\n",
       " 'í',\n",
       " 'ö',\n",
       " 'ø',\n",
       " 'ρ',\n",
       " '–',\n",
       " '—',\n",
       " '‘',\n",
       " '’',\n",
       " '“',\n",
       " '”',\n",
       " '•',\n",
       " '…',\n",
       " '€',\n",
       " '−']"
      ]
     },
     "execution_count": 182,
     "metadata": {},
     "output_type": "execute_result"
    }
   ],
   "source": [
    "characters = set()\n",
    "for row in data:\n",
    "    characters.update(list(row['text']))\n",
    "characters = sorted(list(characters))\n",
    "characters"
   ]
  },
  {
   "cell_type": "code",
   "execution_count": 177,
   "metadata": {},
   "outputs": [
    {
     "data": {
      "text/markdown": [
       "### Examples Captured by Regex"
      ],
      "text/plain": [
       "<IPython.core.display.Markdown object>"
      ]
     },
     "metadata": {},
     "output_type": "display_data"
    },
    {
     "data": {
      "text/markdown": [
       "**Regex:** €"
      ],
      "text/plain": [
       "<IPython.core.display.Markdown object>"
      ]
     },
     "metadata": {},
     "output_type": "display_data"
    },
    {
     "data": {
      "text/markdown": [
       "**Number of Examples:** 1"
      ],
      "text/plain": [
       "<IPython.core.display.Markdown object>"
      ]
     },
     "metadata": {},
     "output_type": "display_data"
    },
    {
     "data": {
      "text/markdown": [
       "**Number of Examples Shown:** 1"
      ],
      "text/plain": [
       "<IPython.core.display.Markdown object>"
      ]
     },
     "metadata": {},
     "output_type": "display_data"
    },
    {
     "data": {
      "text/markdown": [
       "\n",
       "\n",
       " ___"
      ],
      "text/plain": [
       "<IPython.core.display.Markdown object>"
      ]
     },
     "metadata": {},
     "output_type": "display_data"
    },
    {
     "data": {
      "text/markdown": [
       "**Text:** \"of 350 Mln. **€** and an export\""
      ],
      "text/plain": [
       "<IPython.core.display.Markdown object>"
      ]
     },
     "metadata": {},
     "output_type": "display_data"
    },
    {
     "data": {
      "text/html": [
       "<a href='../../data/Hillary/wavs/Scripts 82-87/script_72_chunk_8-rate=24000.wav' target='_blank'>../../data/Hillary/wavs/Scripts 82-87/script_72_chunk_8-rate=24000.wav</a><br>"
      ],
      "text/plain": [
       "/Users/michaelp/Code/Tacotron-2/data/Hillary/wavs/Scripts 82-87/script_72_chunk_8-rate=24000.wav"
      ]
     },
     "metadata": {},
     "output_type": "display_data"
    },
    {
     "data": {
      "text/markdown": [
       "\n",
       "\n",
       " ___"
      ],
      "text/plain": [
       "<IPython.core.display.Markdown object>"
      ]
     },
     "metadata": {},
     "output_type": "display_data"
    }
   ],
   "source": [
    "find_examples(r'€', display_n=10, replace=False, group=0)"
   ]
  },
  {
   "cell_type": "markdown",
   "metadata": {},
   "source": [
    "## Numbers"
   ]
  },
  {
   "cell_type": "code",
   "execution_count": 161,
   "metadata": {},
   "outputs": [
    {
     "data": {
      "text/markdown": [
       "### Examples Captured by Regex"
      ],
      "text/plain": [
       "<IPython.core.display.Markdown object>"
      ]
     },
     "metadata": {},
     "output_type": "display_data"
    },
    {
     "data": {
      "text/markdown": [
       "**Regex:** \\S*(\\d+)\\S*"
      ],
      "text/plain": [
       "<IPython.core.display.Markdown object>"
      ]
     },
     "metadata": {},
     "output_type": "display_data"
    },
    {
     "data": {
      "text/markdown": [
       "**Number of Examples:** 398"
      ],
      "text/plain": [
       "<IPython.core.display.Markdown object>"
      ]
     },
     "metadata": {},
     "output_type": "display_data"
    },
    {
     "data": {
      "text/markdown": [
       "**Number of Examples Shown:** 10"
      ],
      "text/plain": [
       "<IPython.core.display.Markdown object>"
      ]
     },
     "metadata": {},
     "output_type": "display_data"
    },
    {
     "data": {
      "text/markdown": [
       "\n",
       "\n",
       " ___"
      ],
      "text/plain": [
       "<IPython.core.display.Markdown object>"
      ]
     },
     "metadata": {},
     "output_type": "display_data"
    },
    {
     "data": {
      "text/markdown": [
       "**Text:** \"both below and above IQ's of **120.** Preckel et al., investigating fluid intelligence …\""
      ],
      "text/plain": [
       "<IPython.core.display.Markdown object>"
      ]
     },
     "metadata": {},
     "output_type": "display_data"
    },
    {
     "data": {
      "text/html": [
       "<a href='../../data/Hillary/wavs/Scripts 58-63/script_95_chunk_8-rate=24000.wav' target='_blank'>../../data/Hillary/wavs/Scripts 58-63/script_95_chunk_8-rate=24000.wav</a><br>"
      ],
      "text/plain": [
       "/Users/michaelp/Code/Tacotron-2/data/Hillary/wavs/Scripts 58-63/script_95_chunk_8-rate=24000.wav"
      ]
     },
     "metadata": {},
     "output_type": "display_data"
    },
    {
     "data": {
      "text/html": [
       "\n",
       "                <audio controls=\"controls\" >\n",
       "                    <source />\n",
       "                    Your browser does not support the audio element.\n",
       "                </audio>\n",
       "              "
      ],
      "text/plain": [
       "<IPython.lib.display.Audio object>"
      ]
     },
     "metadata": {},
     "output_type": "display_data"
    },
    {
     "data": {
      "text/markdown": [
       "\n",
       "\n",
       " ___"
      ],
      "text/plain": [
       "<IPython.core.display.Markdown object>"
      ]
     },
     "metadata": {},
     "output_type": "display_data"
    },
    {
     "data": {
      "text/markdown": [
       "**Text:** \"and incorporates the conventional **5WH** approach, with a systematic process of investigat…\""
      ],
      "text/plain": [
       "<IPython.core.display.Markdown object>"
      ]
     },
     "metadata": {},
     "output_type": "display_data"
    },
    {
     "data": {
      "text/html": [
       "<a href='../../data/Hillary/wavs/Script 6/script_17_chunk_2-rate=24000.wav' target='_blank'>../../data/Hillary/wavs/Script 6/script_17_chunk_2-rate=24000.wav</a><br>"
      ],
      "text/plain": [
       "/Users/michaelp/Code/Tacotron-2/data/Hillary/wavs/Script 6/script_17_chunk_2-rate=24000.wav"
      ]
     },
     "metadata": {},
     "output_type": "display_data"
    },
    {
     "data": {
      "text/html": [
       "\n",
       "                <audio controls=\"controls\" >\n",
       "                    <source />\n",
       "                    Your browser does not support the audio element.\n",
       "                </audio>\n",
       "              "
      ],
      "text/plain": [
       "<IPython.lib.display.Audio object>"
      ]
     },
     "metadata": {},
     "output_type": "display_data"
    },
    {
     "data": {
      "text/markdown": [
       "\n",
       "\n",
       " ___"
      ],
      "text/plain": [
       "<IPython.core.display.Markdown object>"
      ]
     },
     "metadata": {},
     "output_type": "display_data"
    },
    {
     "data": {
      "text/markdown": [
       "**Text:** \"such as ISO/IEC **27002.**  The International Electrotechnical Commission\""
      ],
      "text/plain": [
       "<IPython.core.display.Markdown object>"
      ]
     },
     "metadata": {},
     "output_type": "display_data"
    },
    {
     "data": {
      "text/html": [
       "<a href='../../data/Hillary/wavs/Script 9/script_13_chunk_8-rate=24000.wav' target='_blank'>../../data/Hillary/wavs/Script 9/script_13_chunk_8-rate=24000.wav</a><br>"
      ],
      "text/plain": [
       "/Users/michaelp/Code/Tacotron-2/data/Hillary/wavs/Script 9/script_13_chunk_8-rate=24000.wav"
      ]
     },
     "metadata": {},
     "output_type": "display_data"
    },
    {
     "data": {
      "text/html": [
       "\n",
       "                <audio controls=\"controls\" >\n",
       "                    <source />\n",
       "                    Your browser does not support the audio element.\n",
       "                </audio>\n",
       "              "
      ],
      "text/plain": [
       "<IPython.lib.display.Audio object>"
      ]
     },
     "metadata": {},
     "output_type": "display_data"
    },
    {
     "data": {
      "text/markdown": [
       "\n",
       "\n",
       " ___"
      ],
      "text/plain": [
       "<IPython.core.display.Markdown object>"
      ]
     },
     "metadata": {},
     "output_type": "display_data"
    },
    {
     "data": {
      "text/markdown": [
       "**Text:** \"only about 3,000--most in their 50s and **60s--remain,**\""
      ],
      "text/plain": [
       "<IPython.core.display.Markdown object>"
      ]
     },
     "metadata": {},
     "output_type": "display_data"
    },
    {
     "data": {
      "text/html": [
       "<a href='../../data/Hillary/wavs/Scripts 70-75/script_58_chunk_7-rate=24000.wav' target='_blank'>../../data/Hillary/wavs/Scripts 70-75/script_58_chunk_7-rate=24000.wav</a><br>"
      ],
      "text/plain": [
       "/Users/michaelp/Code/Tacotron-2/data/Hillary/wavs/Scripts 70-75/script_58_chunk_7-rate=24000.wav"
      ]
     },
     "metadata": {},
     "output_type": "display_data"
    },
    {
     "data": {
      "text/html": [
       "\n",
       "                <audio controls=\"controls\" >\n",
       "                    <source />\n",
       "                    Your browser does not support the audio element.\n",
       "                </audio>\n",
       "              "
      ],
      "text/plain": [
       "<IPython.lib.display.Audio object>"
      ]
     },
     "metadata": {},
     "output_type": "display_data"
    },
    {
     "data": {
      "text/markdown": [
       "\n",
       "\n",
       " ___"
      ],
      "text/plain": [
       "<IPython.core.display.Markdown object>"
      ]
     },
     "metadata": {},
     "output_type": "display_data"
    },
    {
     "data": {
      "text/markdown": [
       "**Text:** \"… are asked to connect all 9 dots in the 3 rows of **3** dots\""
      ],
      "text/plain": [
       "<IPython.core.display.Markdown object>"
      ]
     },
     "metadata": {},
     "output_type": "display_data"
    },
    {
     "data": {
      "text/html": [
       "<a href='../../data/Hillary/wavs/Scripts 28-33/script_73_chunk_7-rate=24000.wav' target='_blank'>../../data/Hillary/wavs/Scripts 28-33/script_73_chunk_7-rate=24000.wav</a><br>"
      ],
      "text/plain": [
       "/Users/michaelp/Code/Tacotron-2/data/Hillary/wavs/Scripts 28-33/script_73_chunk_7-rate=24000.wav"
      ]
     },
     "metadata": {},
     "output_type": "display_data"
    },
    {
     "data": {
      "text/html": [
       "\n",
       "                <audio controls=\"controls\" >\n",
       "                    <source />\n",
       "                    Your browser does not support the audio element.\n",
       "                </audio>\n",
       "              "
      ],
      "text/plain": [
       "<IPython.lib.display.Audio object>"
      ]
     },
     "metadata": {},
     "output_type": "display_data"
    },
    {
     "data": {
      "text/markdown": [
       "\n",
       "\n",
       " ___"
      ],
      "text/plain": [
       "<IPython.core.display.Markdown object>"
      ]
     },
     "metadata": {},
     "output_type": "display_data"
    },
    {
     "data": {
      "text/markdown": [
       "**Text:** \"…which is located at the end of a dusty road about **35** miles south of Reno.\""
      ],
      "text/plain": [
       "<IPython.core.display.Markdown object>"
      ]
     },
     "metadata": {},
     "output_type": "display_data"
    },
    {
     "data": {
      "text/html": [
       "<a href='../../data/Hillary/wavs/Scripts 58-63/script_67_chunk_14-rate=24000.wav' target='_blank'>../../data/Hillary/wavs/Scripts 58-63/script_67_chunk_14-rate=24000.wav</a><br>"
      ],
      "text/plain": [
       "/Users/michaelp/Code/Tacotron-2/data/Hillary/wavs/Scripts 58-63/script_67_chunk_14-rate=24000.wav"
      ]
     },
     "metadata": {},
     "output_type": "display_data"
    },
    {
     "data": {
      "text/html": [
       "\n",
       "                <audio controls=\"controls\" >\n",
       "                    <source />\n",
       "                    Your browser does not support the audio element.\n",
       "                </audio>\n",
       "              "
      ],
      "text/plain": [
       "<IPython.lib.display.Audio object>"
      ]
     },
     "metadata": {},
     "output_type": "display_data"
    },
    {
     "data": {
      "text/markdown": [
       "\n",
       "\n",
       " ___"
      ],
      "text/plain": [
       "<IPython.core.display.Markdown object>"
      ]
     },
     "metadata": {},
     "output_type": "display_data"
    },
    {
     "data": {
      "text/markdown": [
       "**Text:** \"Guerrilla marketing differs in twelve ways:\n",
       "\n",
       "**1.** Traditional marketing uses as big a budget as pos…\""
      ],
      "text/plain": [
       "<IPython.core.display.Markdown object>"
      ]
     },
     "metadata": {},
     "output_type": "display_data"
    },
    {
     "data": {
      "text/html": [
       "<a href='../../data/Hillary/wavs/Scripts 88-93/script_5_chunk_1-rate=24000.wav' target='_blank'>../../data/Hillary/wavs/Scripts 88-93/script_5_chunk_1-rate=24000.wav</a><br>"
      ],
      "text/plain": [
       "/Users/michaelp/Code/Tacotron-2/data/Hillary/wavs/Scripts 88-93/script_5_chunk_1-rate=24000.wav"
      ]
     },
     "metadata": {},
     "output_type": "display_data"
    },
    {
     "data": {
      "text/html": [
       "\n",
       "                <audio controls=\"controls\" >\n",
       "                    <source />\n",
       "                    Your browser does not support the audio element.\n",
       "                </audio>\n",
       "              "
      ],
      "text/plain": [
       "<IPython.lib.display.Audio object>"
      ]
     },
     "metadata": {},
     "output_type": "display_data"
    },
    {
     "data": {
      "text/markdown": [
       "\n",
       "\n",
       " ___"
      ],
      "text/plain": [
       "<IPython.core.display.Markdown object>"
      ]
     },
     "metadata": {},
     "output_type": "display_data"
    },
    {
     "data": {
      "text/markdown": [
       "**Text:** \"…imeters of rainfall annually and a record high of **134°F),** and\""
      ],
      "text/plain": [
       "<IPython.core.display.Markdown object>"
      ]
     },
     "metadata": {},
     "output_type": "display_data"
    },
    {
     "data": {
      "text/html": [
       "<a href='../../data/Hillary/wavs/Scripts 64-69/script_103_chunk_1-rate=24000.wav' target='_blank'>../../data/Hillary/wavs/Scripts 64-69/script_103_chunk_1-rate=24000.wav</a><br>"
      ],
      "text/plain": [
       "/Users/michaelp/Code/Tacotron-2/data/Hillary/wavs/Scripts 64-69/script_103_chunk_1-rate=24000.wav"
      ]
     },
     "metadata": {},
     "output_type": "display_data"
    },
    {
     "data": {
      "text/html": [
       "\n",
       "                <audio controls=\"controls\" >\n",
       "                    <source />\n",
       "                    Your browser does not support the audio element.\n",
       "                </audio>\n",
       "              "
      ],
      "text/plain": [
       "<IPython.lib.display.Audio object>"
      ]
     },
     "metadata": {},
     "output_type": "display_data"
    },
    {
     "data": {
      "text/markdown": [
       "\n",
       "\n",
       " ___"
      ],
      "text/plain": [
       "<IPython.core.display.Markdown object>"
      ]
     },
     "metadata": {},
     "output_type": "display_data"
    },
    {
     "data": {
      "text/markdown": [
       "**Text:** \"Between 300,000 and **500,000** residents of this dangerously poised,\""
      ],
      "text/plain": [
       "<IPython.core.display.Markdown object>"
      ]
     },
     "metadata": {},
     "output_type": "display_data"
    },
    {
     "data": {
      "text/html": [
       "<a href='../../data/Hillary/wavs/Scripts 64-69/script_79_chunk_2-rate=24000.wav' target='_blank'>../../data/Hillary/wavs/Scripts 64-69/script_79_chunk_2-rate=24000.wav</a><br>"
      ],
      "text/plain": [
       "/Users/michaelp/Code/Tacotron-2/data/Hillary/wavs/Scripts 64-69/script_79_chunk_2-rate=24000.wav"
      ]
     },
     "metadata": {},
     "output_type": "display_data"
    },
    {
     "data": {
      "text/html": [
       "\n",
       "                <audio controls=\"controls\" >\n",
       "                    <source />\n",
       "                    Your browser does not support the audio element.\n",
       "                </audio>\n",
       "              "
      ],
      "text/plain": [
       "<IPython.lib.display.Audio object>"
      ]
     },
     "metadata": {},
     "output_type": "display_data"
    },
    {
     "data": {
      "text/markdown": [
       "\n",
       "\n",
       " ___"
      ],
      "text/plain": [
       "<IPython.core.display.Markdown object>"
      ]
     },
     "metadata": {},
     "output_type": "display_data"
    },
    {
     "data": {
      "text/markdown": [
       "**Text:** \"…XXXX, John Kotter studied the daily activities of **15** executives\""
      ],
      "text/plain": [
       "<IPython.core.display.Markdown object>"
      ]
     },
     "metadata": {},
     "output_type": "display_data"
    },
    {
     "data": {
      "text/html": [
       "<a href='../../data/Hillary/wavs/Scripts 58-63/script_19_chunk_11-rate=24000.wav' target='_blank'>../../data/Hillary/wavs/Scripts 58-63/script_19_chunk_11-rate=24000.wav</a><br>"
      ],
      "text/plain": [
       "/Users/michaelp/Code/Tacotron-2/data/Hillary/wavs/Scripts 58-63/script_19_chunk_11-rate=24000.wav"
      ]
     },
     "metadata": {},
     "output_type": "display_data"
    },
    {
     "data": {
      "text/html": [
       "\n",
       "                <audio controls=\"controls\" >\n",
       "                    <source />\n",
       "                    Your browser does not support the audio element.\n",
       "                </audio>\n",
       "              "
      ],
      "text/plain": [
       "<IPython.lib.display.Audio object>"
      ]
     },
     "metadata": {},
     "output_type": "display_data"
    },
    {
     "data": {
      "text/markdown": [
       "\n",
       "\n",
       " ___"
      ],
      "text/plain": [
       "<IPython.core.display.Markdown object>"
      ]
     },
     "metadata": {},
     "output_type": "display_data"
    }
   ],
   "source": [
    "find_examples(r'\\S*(\\d+)\\S*', display_n=10, replace=False, group=0, load_audio=True)"
   ]
  },
  {
   "cell_type": "markdown",
   "metadata": {},
   "source": [
    "## Bible Line Numbers"
   ]
  },
  {
   "cell_type": "code",
   "execution_count": 5,
   "metadata": {},
   "outputs": [
    {
     "data": {
      "text/markdown": [
       "### Examples Captured by Regex"
      ],
      "text/plain": [
       "<IPython.core.display.Markdown object>"
      ]
     },
     "metadata": {},
     "output_type": "display_data"
    },
    {
     "data": {
      "text/markdown": [
       "**Regex:** \\b([0-9]+:[0-9\\-]+)\\b"
      ],
      "text/plain": [
       "<IPython.core.display.Markdown object>"
      ]
     },
     "metadata": {},
     "output_type": "display_data"
    },
    {
     "data": {
      "text/markdown": [
       "**Number of Examples:** 6"
      ],
      "text/plain": [
       "<IPython.core.display.Markdown object>"
      ]
     },
     "metadata": {},
     "output_type": "display_data"
    },
    {
     "data": {
      "text/markdown": [
       "**Number of Examples Shown:** 5"
      ],
      "text/plain": [
       "<IPython.core.display.Markdown object>"
      ]
     },
     "metadata": {},
     "output_type": "display_data"
    },
    {
     "data": {
      "text/markdown": [
       "\n",
       "\n",
       " ___"
      ],
      "text/plain": [
       "<IPython.core.display.Markdown object>"
      ]
     },
     "metadata": {},
     "output_type": "display_data"
    },
    {
     "data": {
      "text/markdown": [
       "**Text:** \"…mon's wisdom in Proverbs **15:1** includes: \"…\""
      ],
      "text/plain": [
       "<IPython.core.display.Markdown object>"
      ]
     },
     "metadata": {},
     "output_type": "display_data"
    },
    {
     "data": {
      "text/html": [
       "<a href='../../data/Hillary/wavs/Scripts 28-33/script_69_chunk_3-rate=24000.wav' target='_blank'>../../data/Hillary/wavs/Scripts 28-33/script_69_chunk_3-rate=24000.wav</a><br>"
      ],
      "text/plain": [
       "/Users/michaelp/Code/Tacotron-2/data/Hillary/wavs/Scripts 28-33/script_69_chunk_3-rate=24000.wav"
      ]
     },
     "metadata": {},
     "output_type": "display_data"
    },
    {
     "data": {
      "text/markdown": [
       "\n",
       "\n",
       " ___"
      ],
      "text/plain": [
       "<IPython.core.display.Markdown object>"
      ]
     },
     "metadata": {},
     "output_type": "display_data"
    },
    {
     "data": {
      "text/markdown": [
       "**Text:** \"…eness.\"; 1 Thessalonians **5:14** dictates: \"…\""
      ],
      "text/plain": [
       "<IPython.core.display.Markdown object>"
      ]
     },
     "metadata": {},
     "output_type": "display_data"
    },
    {
     "data": {
      "text/html": [
       "<a href='../../data/Hillary/wavs/Scripts 28-33/script_69_chunk_7-rate=24000.wav' target='_blank'>../../data/Hillary/wavs/Scripts 28-33/script_69_chunk_7-rate=24000.wav</a><br>"
      ],
      "text/plain": [
       "/Users/michaelp/Code/Tacotron-2/data/Hillary/wavs/Scripts 28-33/script_69_chunk_7-rate=24000.wav"
      ]
     },
     "metadata": {},
     "output_type": "display_data"
    },
    {
     "data": {
      "text/markdown": [
       "\n",
       "\n",
       " ___"
      ],
      "text/plain": [
       "<IPython.core.display.Markdown object>"
      ]
     },
     "metadata": {},
     "output_type": "display_data"
    },
    {
     "data": {
      "text/markdown": [
       "**Text:** \"…ar in the Bible. 1 Peter **4:8-9** advises: \"…\""
      ],
      "text/plain": [
       "<IPython.core.display.Markdown object>"
      ]
     },
     "metadata": {},
     "output_type": "display_data"
    },
    {
     "data": {
      "text/html": [
       "<a href='../../data/Hillary/wavs/Scripts 28-33/script_69_chunk_1-rate=24000.wav' target='_blank'>../../data/Hillary/wavs/Scripts 28-33/script_69_chunk_1-rate=24000.wav</a><br>"
      ],
      "text/plain": [
       "/Users/michaelp/Code/Tacotron-2/data/Hillary/wavs/Scripts 28-33/script_69_chunk_1-rate=24000.wav"
      ]
     },
     "metadata": {},
     "output_type": "display_data"
    },
    {
     "data": {
      "text/markdown": [
       "\n",
       "\n",
       " ___"
      ],
      "text/plain": [
       "<IPython.core.display.Markdown object>"
      ]
     },
     "metadata": {},
     "output_type": "display_data"
    },
    {
     "data": {
      "text/markdown": [
       "**Text:** \"…and in Galatians **6:2** encourages: \"Bear one an…\""
      ],
      "text/plain": [
       "<IPython.core.display.Markdown object>"
      ]
     },
     "metadata": {},
     "output_type": "display_data"
    },
    {
     "data": {
      "text/html": [
       "<a href='../../data/Hillary/wavs/Scripts 28-33/script_69_chunk_13-rate=24000.wav' target='_blank'>../../data/Hillary/wavs/Scripts 28-33/script_69_chunk_13-rate=24000.wav</a><br>"
      ],
      "text/plain": [
       "/Users/michaelp/Code/Tacotron-2/data/Hillary/wavs/Scripts 28-33/script_69_chunk_13-rate=24000.wav"
      ]
     },
     "metadata": {},
     "output_type": "display_data"
    },
    {
     "data": {
      "text/markdown": [
       "\n",
       "\n",
       " ___"
      ],
      "text/plain": [
       "<IPython.core.display.Markdown object>"
      ]
     },
     "metadata": {},
     "output_type": "display_data"
    },
    {
     "data": {
      "text/markdown": [
       "**Text:** \"…imilar lines in Proverbs **16:21** includes: \"…\""
      ],
      "text/plain": [
       "<IPython.core.display.Markdown object>"
      ]
     },
     "metadata": {},
     "output_type": "display_data"
    },
    {
     "data": {
      "text/html": [
       "<a href='../../data/Hillary/wavs/Scripts 28-33/script_69_chunk_5-rate=24000.wav' target='_blank'>../../data/Hillary/wavs/Scripts 28-33/script_69_chunk_5-rate=24000.wav</a><br>"
      ],
      "text/plain": [
       "/Users/michaelp/Code/Tacotron-2/data/Hillary/wavs/Scripts 28-33/script_69_chunk_5-rate=24000.wav"
      ]
     },
     "metadata": {},
     "output_type": "display_data"
    },
    {
     "data": {
      "text/markdown": [
       "\n",
       "\n",
       " ___"
      ],
      "text/plain": [
       "<IPython.core.display.Markdown object>"
      ]
     },
     "metadata": {},
     "output_type": "display_data"
    }
   ],
   "source": [
    "regex = r'\\b([0-9]+:[0-9\\-]+)\\b'\n",
    "find_examples(regex, replace=True)"
   ]
  },
  {
   "cell_type": "markdown",
   "metadata": {},
   "source": [
    "## Ordinals"
   ]
  },
  {
   "cell_type": "code",
   "execution_count": 6,
   "metadata": {},
   "outputs": [
    {
     "data": {
      "text/markdown": [
       "### Examples Captured by Regex"
      ],
      "text/plain": [
       "<IPython.core.display.Markdown object>"
      ]
     },
     "metadata": {},
     "output_type": "display_data"
    },
    {
     "data": {
      "text/markdown": [
       "**Regex:** ([0-9]+(st|nd|rd|th))"
      ],
      "text/plain": [
       "<IPython.core.display.Markdown object>"
      ]
     },
     "metadata": {},
     "output_type": "display_data"
    },
    {
     "data": {
      "text/markdown": [
       "**Number of Examples:** 47"
      ],
      "text/plain": [
       "<IPython.core.display.Markdown object>"
      ]
     },
     "metadata": {},
     "output_type": "display_data"
    },
    {
     "data": {
      "text/markdown": [
       "**Number of Examples Shown:** 5"
      ],
      "text/plain": [
       "<IPython.core.display.Markdown object>"
      ]
     },
     "metadata": {},
     "output_type": "display_data"
    },
    {
     "data": {
      "text/markdown": [
       "\n",
       "\n",
       " ___"
      ],
      "text/plain": [
       "<IPython.core.display.Markdown object>"
      ]
     },
     "metadata": {},
     "output_type": "display_data"
    },
    {
     "data": {
      "text/markdown": [
       "**Text:** \"…ariously from 300 BCE to **7th** century CE and attribute…\""
      ],
      "text/plain": [
       "<IPython.core.display.Markdown object>"
      ]
     },
     "metadata": {},
     "output_type": "display_data"
    },
    {
     "data": {
      "text/html": [
       "<a href='../../data/Hillary/wavs/Scripts 102-107/script_66_chunk_4-rate=24000.wav' target='_blank'>../../data/Hillary/wavs/Scripts 102-107/script_66_chunk_4-rate=24000.wav</a><br>"
      ],
      "text/plain": [
       "/Users/michaelp/Code/Tacotron-2/data/Hillary/wavs/Scripts 102-107/script_66_chunk_4-rate=24000.wav"
      ]
     },
     "metadata": {},
     "output_type": "display_data"
    },
    {
     "data": {
      "text/markdown": [
       "\n",
       "\n",
       " ___"
      ],
      "text/plain": [
       "<IPython.core.display.Markdown object>"
      ]
     },
     "metadata": {},
     "output_type": "display_data"
    },
    {
     "data": {
      "text/markdown": [
       "**Text:** \"…On July **2nd**, the Continental Congres…\""
      ],
      "text/plain": [
       "<IPython.core.display.Markdown object>"
      ]
     },
     "metadata": {},
     "output_type": "display_data"
    },
    {
     "data": {
      "text/html": [
       "<a href='../../data/Hillary/wavs/Scripts 64-69/script_106_chunk_0-rate=24000.wav' target='_blank'>../../data/Hillary/wavs/Scripts 64-69/script_106_chunk_0-rate=24000.wav</a><br>"
      ],
      "text/plain": [
       "/Users/michaelp/Code/Tacotron-2/data/Hillary/wavs/Scripts 64-69/script_106_chunk_0-rate=24000.wav"
      ]
     },
     "metadata": {},
     "output_type": "display_data"
    },
    {
     "data": {
      "text/markdown": [
       "\n",
       "\n",
       " ___"
      ],
      "text/plain": [
       "<IPython.core.display.Markdown object>"
      ]
     },
     "metadata": {},
     "output_type": "display_data"
    },
    {
     "data": {
      "text/markdown": [
       "**Text:** \"…Most theories in the **20th** century argued that grea…\""
      ],
      "text/plain": [
       "<IPython.core.display.Markdown object>"
      ]
     },
     "metadata": {},
     "output_type": "display_data"
    },
    {
     "data": {
      "text/html": [
       "<a href='../../data/Hillary/wavs/Scripts 64-69/script_47_chunk_0-rate=24000.wav' target='_blank'>../../data/Hillary/wavs/Scripts 64-69/script_47_chunk_0-rate=24000.wav</a><br>"
      ],
      "text/plain": [
       "/Users/michaelp/Code/Tacotron-2/data/Hillary/wavs/Scripts 64-69/script_47_chunk_0-rate=24000.wav"
      ]
     },
     "metadata": {},
     "output_type": "display_data"
    },
    {
     "data": {
      "text/markdown": [
       "\n",
       "\n",
       " ___"
      ],
      "text/plain": [
       "<IPython.core.display.Markdown object>"
      ]
     },
     "metadata": {},
     "output_type": "display_data"
    },
    {
     "data": {
      "text/markdown": [
       "**Text:** \"… English as early as the **14th** century,…\""
      ],
      "text/plain": [
       "<IPython.core.display.Markdown object>"
      ]
     },
     "metadata": {},
     "output_type": "display_data"
    },
    {
     "data": {
      "text/html": [
       "<a href='../../data/Hillary/wavs/Scripts 99-101/script_48_chunk_2-rate=24000.wav' target='_blank'>../../data/Hillary/wavs/Scripts 99-101/script_48_chunk_2-rate=24000.wav</a><br>"
      ],
      "text/plain": [
       "/Users/michaelp/Code/Tacotron-2/data/Hillary/wavs/Scripts 99-101/script_48_chunk_2-rate=24000.wav"
      ]
     },
     "metadata": {},
     "output_type": "display_data"
    },
    {
     "data": {
      "text/markdown": [
       "\n",
       "\n",
       " ___"
      ],
      "text/plain": [
       "<IPython.core.display.Markdown object>"
      ]
     },
     "metadata": {},
     "output_type": "display_data"
    },
    {
     "data": {
      "text/markdown": [
       "**Text:** \"…y that grew up under our **20th** century noses,…\""
      ],
      "text/plain": [
       "<IPython.core.display.Markdown object>"
      ]
     },
     "metadata": {},
     "output_type": "display_data"
    },
    {
     "data": {
      "text/html": [
       "<a href='../../data/Hillary/wavs/Scripts 94-98/script_19_chunk_0-rate=24000.wav' target='_blank'>../../data/Hillary/wavs/Scripts 94-98/script_19_chunk_0-rate=24000.wav</a><br>"
      ],
      "text/plain": [
       "/Users/michaelp/Code/Tacotron-2/data/Hillary/wavs/Scripts 94-98/script_19_chunk_0-rate=24000.wav"
      ]
     },
     "metadata": {},
     "output_type": "display_data"
    },
    {
     "data": {
      "text/markdown": [
       "\n",
       "\n",
       " ___"
      ],
      "text/plain": [
       "<IPython.core.display.Markdown object>"
      ]
     },
     "metadata": {},
     "output_type": "display_data"
    }
   ],
   "source": [
    "regex = r'([0-9]+(st|nd|rd|th))'\n",
    "find_examples(regex, replace=True)"
   ]
  },
  {
   "cell_type": "markdown",
   "metadata": {},
   "source": [
    "## Money (Dollars or Pounds) "
   ]
  },
  {
   "cell_type": "code",
   "execution_count": 7,
   "metadata": {},
   "outputs": [
    {
     "data": {
      "text/markdown": [
       "### Examples Captured by Regex"
      ],
      "text/plain": [
       "<IPython.core.display.Markdown object>"
      ]
     },
     "metadata": {},
     "output_type": "display_data"
    },
    {
     "data": {
      "text/markdown": [
       "**Regex:** (\\S*([$£]{1}[0-9\\,\\.]+\\b))"
      ],
      "text/plain": [
       "<IPython.core.display.Markdown object>"
      ]
     },
     "metadata": {},
     "output_type": "display_data"
    },
    {
     "data": {
      "text/markdown": [
       "**Number of Examples:** 13"
      ],
      "text/plain": [
       "<IPython.core.display.Markdown object>"
      ]
     },
     "metadata": {},
     "output_type": "display_data"
    },
    {
     "data": {
      "text/markdown": [
       "**Number of Examples Shown:** 5"
      ],
      "text/plain": [
       "<IPython.core.display.Markdown object>"
      ]
     },
     "metadata": {},
     "output_type": "display_data"
    },
    {
     "data": {
      "text/markdown": [
       "\n",
       "\n",
       " ___"
      ],
      "text/plain": [
       "<IPython.core.display.Markdown object>"
      ]
     },
     "metadata": {},
     "output_type": "display_data"
    },
    {
     "data": {
      "text/markdown": [
       "**Text:** \"… estimated that by 2010, **$1.2** trillion…\""
      ],
      "text/plain": [
       "<IPython.core.display.Markdown object>"
      ]
     },
     "metadata": {},
     "output_type": "display_data"
    },
    {
     "data": {
      "text/html": [
       "<a href='../../data/Hillary/wavs/Scripts 94-98/script_75_chunk_8-rate=24000.wav' target='_blank'>../../data/Hillary/wavs/Scripts 94-98/script_75_chunk_8-rate=24000.wav</a><br>"
      ],
      "text/plain": [
       "/Users/michaelp/Code/Tacotron-2/data/Hillary/wavs/Scripts 94-98/script_75_chunk_8-rate=24000.wav"
      ]
     },
     "metadata": {},
     "output_type": "display_data"
    },
    {
     "data": {
      "text/markdown": [
       "\n",
       "\n",
       " ___"
      ],
      "text/plain": [
       "<IPython.core.display.Markdown object>"
      ]
     },
     "metadata": {},
     "output_type": "display_data"
    },
    {
     "data": {
      "text/markdown": [
       "**Text:** \"…that provided USD **$1,500** in tax credits as well a…\""
      ],
      "text/plain": [
       "<IPython.core.display.Markdown object>"
      ]
     },
     "metadata": {},
     "output_type": "display_data"
    },
    {
     "data": {
      "text/html": [
       "<a href='../../data/Hillary/wavs/Scripts 94-98/script_65_chunk_9-rate=24000.wav' target='_blank'>../../data/Hillary/wavs/Scripts 94-98/script_65_chunk_9-rate=24000.wav</a><br>"
      ],
      "text/plain": [
       "/Users/michaelp/Code/Tacotron-2/data/Hillary/wavs/Scripts 94-98/script_65_chunk_9-rate=24000.wav"
      ]
     },
     "metadata": {},
     "output_type": "display_data"
    },
    {
     "data": {
      "text/markdown": [
       "\n",
       "\n",
       " ___"
      ],
      "text/plain": [
       "<IPython.core.display.Markdown object>"
      ]
     },
     "metadata": {},
     "output_type": "display_data"
    },
    {
     "data": {
      "text/markdown": [
       "**Text:** \"…which has cost nearly **$4** million…\""
      ],
      "text/plain": [
       "<IPython.core.display.Markdown object>"
      ]
     },
     "metadata": {},
     "output_type": "display_data"
    },
    {
     "data": {
      "text/html": [
       "<a href='../../data/Hillary/wavs/Scripts 82-87/script_23_chunk_7-rate=24000.wav' target='_blank'>../../data/Hillary/wavs/Scripts 82-87/script_23_chunk_7-rate=24000.wav</a><br>"
      ],
      "text/plain": [
       "/Users/michaelp/Code/Tacotron-2/data/Hillary/wavs/Scripts 82-87/script_23_chunk_7-rate=24000.wav"
      ]
     },
     "metadata": {},
     "output_type": "display_data"
    },
    {
     "data": {
      "text/markdown": [
       "\n",
       "\n",
       " ___"
      ],
      "text/plain": [
       "<IPython.core.display.Markdown object>"
      ]
     },
     "metadata": {},
     "output_type": "display_data"
    },
    {
     "data": {
      "text/markdown": [
       "**Text:** \"…of about **NZ$150** to NZ$180 Million…\""
      ],
      "text/plain": [
       "<IPython.core.display.Markdown object>"
      ]
     },
     "metadata": {},
     "output_type": "display_data"
    },
    {
     "data": {
      "text/html": [
       "<a href='../../data/Hillary/wavs/Scripts 64-69/script_84_chunk_9-rate=24000.wav' target='_blank'>../../data/Hillary/wavs/Scripts 64-69/script_84_chunk_9-rate=24000.wav</a><br>"
      ],
      "text/plain": [
       "/Users/michaelp/Code/Tacotron-2/data/Hillary/wavs/Scripts 64-69/script_84_chunk_9-rate=24000.wav"
      ]
     },
     "metadata": {},
     "output_type": "display_data"
    },
    {
     "data": {
      "text/markdown": [
       "\n",
       "\n",
       " ___"
      ],
      "text/plain": [
       "<IPython.core.display.Markdown object>"
      ]
     },
     "metadata": {},
     "output_type": "display_data"
    },
    {
     "data": {
      "text/markdown": [
       "**Text:** \"…have an annual bill of **$80** billion.  Aside from…\""
      ],
      "text/plain": [
       "<IPython.core.display.Markdown object>"
      ]
     },
     "metadata": {},
     "output_type": "display_data"
    },
    {
     "data": {
      "text/html": [
       "<a href='../../data/Hillary/wavs/Scripts 64-69/script_36_chunk_2-rate=24000.wav' target='_blank'>../../data/Hillary/wavs/Scripts 64-69/script_36_chunk_2-rate=24000.wav</a><br>"
      ],
      "text/plain": [
       "/Users/michaelp/Code/Tacotron-2/data/Hillary/wavs/Scripts 64-69/script_36_chunk_2-rate=24000.wav"
      ]
     },
     "metadata": {},
     "output_type": "display_data"
    },
    {
     "data": {
      "text/markdown": [
       "\n",
       "\n",
       " ___"
      ],
      "text/plain": [
       "<IPython.core.display.Markdown object>"
      ]
     },
     "metadata": {},
     "output_type": "display_data"
    }
   ],
   "source": [
    "regex = r'(\\S*([$£]{1}[0-9\\,\\.]+\\b))'\n",
    "find_examples(regex, replace=True)"
   ]
  },
  {
   "cell_type": "markdown",
   "metadata": {},
   "source": [
    "## Year\n",
    "\n",
    "Here we experiment verbalizing a year."
   ]
  },
  {
   "cell_type": "code",
   "execution_count": 16,
   "metadata": {},
   "outputs": [
    {
     "data": {
      "text/markdown": [
       "### Examples Captured by Regex"
      ],
      "text/plain": [
       "<IPython.core.display.Markdown object>"
      ]
     },
     "metadata": {},
     "output_type": "display_data"
    },
    {
     "data": {
      "text/markdown": [
       "**Regex:** (\\b20[0-9]{2}s?\\b)"
      ],
      "text/plain": [
       "<IPython.core.display.Markdown object>"
      ]
     },
     "metadata": {},
     "output_type": "display_data"
    },
    {
     "data": {
      "text/markdown": [
       "**Number of Examples:** 97"
      ],
      "text/plain": [
       "<IPython.core.display.Markdown object>"
      ]
     },
     "metadata": {},
     "output_type": "display_data"
    },
    {
     "data": {
      "text/markdown": [
       "**Number of Examples Shown:** 20"
      ],
      "text/plain": [
       "<IPython.core.display.Markdown object>"
      ]
     },
     "metadata": {},
     "output_type": "display_data"
    },
    {
     "data": {
      "text/markdown": [
       "\n",
       "\n",
       " ___"
      ],
      "text/plain": [
       "<IPython.core.display.Markdown object>"
      ]
     },
     "metadata": {},
     "output_type": "display_data"
    },
    {
     "data": {
      "text/markdown": [
       "**Text:** \"…A **2009** study found that whistle…\""
      ],
      "text/plain": [
       "<IPython.core.display.Markdown object>"
      ]
     },
     "metadata": {},
     "output_type": "display_data"
    },
    {
     "data": {
      "text/html": [
       "<a href='../../data/Hillary/wavs/Script 5/script_6_chunk_2-rate=24000.wav' target='_blank'>../../data/Hillary/wavs/Script 5/script_6_chunk_2-rate=24000.wav</a><br>"
      ],
      "text/plain": [
       "/Users/michaelp/Code/Tacotron-2/data/Hillary/wavs/Script 5/script_6_chunk_2-rate=24000.wav"
      ]
     },
     "metadata": {},
     "output_type": "display_data"
    },
    {
     "data": {
      "text/markdown": [
       "\n",
       "\n",
       " ___"
      ],
      "text/plain": [
       "<IPython.core.display.Markdown object>"
      ]
     },
     "metadata": {},
     "output_type": "display_data"
    },
    {
     "data": {
      "text/markdown": [
       "**Text:** \"…A **2006** study found that the UK …\""
      ],
      "text/plain": [
       "<IPython.core.display.Markdown object>"
      ]
     },
     "metadata": {},
     "output_type": "display_data"
    },
    {
     "data": {
      "text/html": [
       "<a href='../../data/Hillary/wavs/Scripts 22-27/script_93_chunk_0-rate=24000.wav' target='_blank'>../../data/Hillary/wavs/Scripts 22-27/script_93_chunk_0-rate=24000.wav</a><br>"
      ],
      "text/plain": [
       "/Users/michaelp/Code/Tacotron-2/data/Hillary/wavs/Scripts 22-27/script_93_chunk_0-rate=24000.wav"
      ]
     },
     "metadata": {},
     "output_type": "display_data"
    },
    {
     "data": {
      "text/markdown": [
       "\n",
       "\n",
       " ___"
      ],
      "text/plain": [
       "<IPython.core.display.Markdown object>"
      ]
     },
     "metadata": {},
     "output_type": "display_data"
    },
    {
     "data": {
      "text/markdown": [
       "**Text:** \"… Blowers Protection Act, **2011** has received…\""
      ],
      "text/plain": [
       "<IPython.core.display.Markdown object>"
      ]
     },
     "metadata": {},
     "output_type": "display_data"
    },
    {
     "data": {
      "text/html": [
       "<a href='../../data/Hillary/wavs/Script 11/script_12_chunk_10-rate=24000.wav' target='_blank'>../../data/Hillary/wavs/Script 11/script_12_chunk_10-rate=24000.wav</a><br>"
      ],
      "text/plain": [
       "/Users/michaelp/Code/Tacotron-2/data/Hillary/wavs/Script 11/script_12_chunk_10-rate=24000.wav"
      ]
     },
     "metadata": {},
     "output_type": "display_data"
    },
    {
     "data": {
      "text/markdown": [
       "\n",
       "\n",
       " ___"
      ],
      "text/plain": [
       "<IPython.core.display.Markdown object>"
      ]
     },
     "metadata": {},
     "output_type": "display_data"
    },
    {
     "data": {
      "text/markdown": [
       "**Text:** \"…to unlock the key to a **2012** prophecy.…\""
      ],
      "text/plain": [
       "<IPython.core.display.Markdown object>"
      ]
     },
     "metadata": {},
     "output_type": "display_data"
    },
    {
     "data": {
      "text/html": [
       "<a href='../../data/Hillary/wavs/Scripts 94-98/script_91_chunk_12-rate=24000.wav' target='_blank'>../../data/Hillary/wavs/Scripts 94-98/script_91_chunk_12-rate=24000.wav</a><br>"
      ],
      "text/plain": [
       "/Users/michaelp/Code/Tacotron-2/data/Hillary/wavs/Scripts 94-98/script_91_chunk_12-rate=24000.wav"
      ]
     },
     "metadata": {},
     "output_type": "display_data"
    },
    {
     "data": {
      "text/markdown": [
       "\n",
       "\n",
       " ___"
      ],
      "text/plain": [
       "<IPython.core.display.Markdown object>"
      ]
     },
     "metadata": {},
     "output_type": "display_data"
    },
    {
     "data": {
      "text/markdown": [
       "**Text:** \"…g citizens of the EU. In **2001** the United States Depart…\""
      ],
      "text/plain": [
       "<IPython.core.display.Markdown object>"
      ]
     },
     "metadata": {},
     "output_type": "display_data"
    },
    {
     "data": {
      "text/html": [
       "<a href='../../data/Hillary/wavs/Scripts 82-87/script_8_chunk_4-rate=24000.wav' target='_blank'>../../data/Hillary/wavs/Scripts 82-87/script_8_chunk_4-rate=24000.wav</a><br>"
      ],
      "text/plain": [
       "/Users/michaelp/Code/Tacotron-2/data/Hillary/wavs/Scripts 82-87/script_8_chunk_4-rate=24000.wav"
      ]
     },
     "metadata": {},
     "output_type": "display_data"
    },
    {
     "data": {
      "text/markdown": [
       "\n",
       "\n",
       " ___"
      ],
      "text/plain": [
       "<IPython.core.display.Markdown object>"
      ]
     },
     "metadata": {},
     "output_type": "display_data"
    },
    {
     "data": {
      "text/markdown": [
       "**Text:** \"…or a Strong Economy Act, **2002** is…\""
      ],
      "text/plain": [
       "<IPython.core.display.Markdown object>"
      ]
     },
     "metadata": {},
     "output_type": "display_data"
    },
    {
     "data": {
      "text/html": [
       "<a href='../../data/Hillary/wavs/Scripts 34-39/script_3_chunk_5-rate=24000.wav' target='_blank'>../../data/Hillary/wavs/Scripts 34-39/script_3_chunk_5-rate=24000.wav</a><br>"
      ],
      "text/plain": [
       "/Users/michaelp/Code/Tacotron-2/data/Hillary/wavs/Scripts 34-39/script_3_chunk_5-rate=24000.wav"
      ]
     },
     "metadata": {},
     "output_type": "display_data"
    },
    {
     "data": {
      "text/markdown": [
       "\n",
       "\n",
       " ___"
      ],
      "text/plain": [
       "<IPython.core.display.Markdown object>"
      ]
     },
     "metadata": {},
     "output_type": "display_data"
    },
    {
     "data": {
      "text/markdown": [
       "**Text:** \"…incidents like the **2013** Savar building collapse,…\""
      ],
      "text/plain": [
       "<IPython.core.display.Markdown object>"
      ]
     },
     "metadata": {},
     "output_type": "display_data"
    },
    {
     "data": {
      "text/html": [
       "<a href='../../data/Hillary/wavs/Scripts 28-33/script_40_chunk_6-rate=24000.wav' target='_blank'>../../data/Hillary/wavs/Scripts 28-33/script_40_chunk_6-rate=24000.wav</a><br>"
      ],
      "text/plain": [
       "/Users/michaelp/Code/Tacotron-2/data/Hillary/wavs/Scripts 28-33/script_40_chunk_6-rate=24000.wav"
      ]
     },
     "metadata": {},
     "output_type": "display_data"
    },
    {
     "data": {
      "text/markdown": [
       "\n",
       "\n",
       " ___"
      ],
      "text/plain": [
       "<IPython.core.display.Markdown object>"
      ]
     },
     "metadata": {},
     "output_type": "display_data"
    },
    {
     "data": {
      "text/markdown": [
       "**Text:** \"…From **2008**, Assessment and Qualific…\""
      ],
      "text/plain": [
       "<IPython.core.display.Markdown object>"
      ]
     },
     "metadata": {},
     "output_type": "display_data"
    },
    {
     "data": {
      "text/html": [
       "<a href='../../data/Hillary/wavs/Scripts 76-81 (Part Two)/script_32_chunk_3-rate=24000.wav' target='_blank'>../../data/Hillary/wavs/Scripts 76-81 (Part Two)/script_32_chunk_3-rate=24000.wav</a><br>"
      ],
      "text/plain": [
       "/Users/michaelp/Code/Tacotron-2/data/Hillary/wavs/Scripts 76-81 (Part Two)/script_32_chunk_3-rate=24000.wav"
      ]
     },
     "metadata": {},
     "output_type": "display_data"
    },
    {
     "data": {
      "text/markdown": [
       "\n",
       "\n",
       " ___"
      ],
      "text/plain": [
       "<IPython.core.display.Markdown object>"
      ]
     },
     "metadata": {},
     "output_type": "display_data"
    },
    {
     "data": {
      "text/markdown": [
       "**Text:** \"…nturies--all pointing to **2012** as…\""
      ],
      "text/plain": [
       "<IPython.core.display.Markdown object>"
      ]
     },
     "metadata": {},
     "output_type": "display_data"
    },
    {
     "data": {
      "text/html": [
       "<a href='../../data/Hillary/wavs/Scripts 94-98/script_91_chunk_8-rate=24000.wav' target='_blank'>../../data/Hillary/wavs/Scripts 94-98/script_91_chunk_8-rate=24000.wav</a><br>"
      ],
      "text/plain": [
       "/Users/michaelp/Code/Tacotron-2/data/Hillary/wavs/Scripts 94-98/script_91_chunk_8-rate=24000.wav"
      ]
     },
     "metadata": {},
     "output_type": "display_data"
    },
    {
     "data": {
      "text/markdown": [
       "\n",
       "\n",
       " ___"
      ],
      "text/plain": [
       "<IPython.core.display.Markdown object>"
      ]
     },
     "metadata": {},
     "output_type": "display_data"
    },
    {
     "data": {
      "text/markdown": [
       "**Text:** \"…omains, was described in **2005** and…\""
      ],
      "text/plain": [
       "<IPython.core.display.Markdown object>"
      ]
     },
     "metadata": {},
     "output_type": "display_data"
    },
    {
     "data": {
      "text/html": [
       "<a href='../../data/Hillary/wavs/Scripts 34-39/script_18_chunk_5-rate=24000.wav' target='_blank'>../../data/Hillary/wavs/Scripts 34-39/script_18_chunk_5-rate=24000.wav</a><br>"
      ],
      "text/plain": [
       "/Users/michaelp/Code/Tacotron-2/data/Hillary/wavs/Scripts 34-39/script_18_chunk_5-rate=24000.wav"
      ]
     },
     "metadata": {},
     "output_type": "display_data"
    },
    {
     "data": {
      "text/markdown": [
       "\n",
       "\n",
       " ___"
      ],
      "text/plain": [
       "<IPython.core.display.Markdown object>"
      ]
     },
     "metadata": {},
     "output_type": "display_data"
    },
    {
     "data": {
      "text/markdown": [
       "**Text:** \"…he horse meat scandal of **2013** in the United Kingdom…\""
      ],
      "text/plain": [
       "<IPython.core.display.Markdown object>"
      ]
     },
     "metadata": {},
     "output_type": "display_data"
    },
    {
     "data": {
      "text/html": [
       "<a href='../../data/Hillary/wavs/Scripts 28-33/script_40_chunk_8-rate=24000.wav' target='_blank'>../../data/Hillary/wavs/Scripts 28-33/script_40_chunk_8-rate=24000.wav</a><br>"
      ],
      "text/plain": [
       "/Users/michaelp/Code/Tacotron-2/data/Hillary/wavs/Scripts 28-33/script_40_chunk_8-rate=24000.wav"
      ]
     },
     "metadata": {},
     "output_type": "display_data"
    },
    {
     "data": {
      "text/markdown": [
       "\n",
       "\n",
       " ___"
      ],
      "text/plain": [
       "<IPython.core.display.Markdown object>"
      ]
     },
     "metadata": {},
     "output_type": "display_data"
    },
    {
     "data": {
      "text/markdown": [
       "**Text:** \"…Doris Sims, December **2009**. Research-based writing …\""
      ],
      "text/plain": [
       "<IPython.core.display.Markdown object>"
      ]
     },
     "metadata": {},
     "output_type": "display_data"
    },
    {
     "data": {
      "text/html": [
       "<a href='../../data/Hillary/wavs/Scripts 99-101/script_17_chunk_5-rate=24000.wav' target='_blank'>../../data/Hillary/wavs/Scripts 99-101/script_17_chunk_5-rate=24000.wav</a><br>"
      ],
      "text/plain": [
       "/Users/michaelp/Code/Tacotron-2/data/Hillary/wavs/Scripts 99-101/script_17_chunk_5-rate=24000.wav"
      ]
     },
     "metadata": {},
     "output_type": "display_data"
    },
    {
     "data": {
      "text/markdown": [
       "\n",
       "\n",
       " ___"
      ],
      "text/plain": [
       "<IPython.core.display.Markdown object>"
      ]
     },
     "metadata": {},
     "output_type": "display_data"
    },
    {
     "data": {
      "text/markdown": [
       "**Text:** \"…also modified theirs for **2008**. Many examinations for u…\""
      ],
      "text/plain": [
       "<IPython.core.display.Markdown object>"
      ]
     },
     "metadata": {},
     "output_type": "display_data"
    },
    {
     "data": {
      "text/html": [
       "<a href='../../data/Hillary/wavs/Scripts 76-81 (Part Two)/script_32_chunk_5-rate=24000.wav' target='_blank'>../../data/Hillary/wavs/Scripts 76-81 (Part Two)/script_32_chunk_5-rate=24000.wav</a><br>"
      ],
      "text/plain": [
       "/Users/michaelp/Code/Tacotron-2/data/Hillary/wavs/Scripts 76-81 (Part Two)/script_32_chunk_5-rate=24000.wav"
      ]
     },
     "metadata": {},
     "output_type": "display_data"
    },
    {
     "data": {
      "text/markdown": [
       "\n",
       "\n",
       " ___"
      ],
      "text/plain": [
       "<IPython.core.display.Markdown object>"
      ]
     },
     "metadata": {},
     "output_type": "display_data"
    },
    {
     "data": {
      "text/markdown": [
       "**Text:** \"…owing policy in November **2015** that all NHS organizatio…\""
      ],
      "text/plain": [
       "<IPython.core.display.Markdown object>"
      ]
     },
     "metadata": {},
     "output_type": "display_data"
    },
    {
     "data": {
      "text/html": [
       "<a href='../../data/Hillary/wavs/Script 13/script_15_chunk_10-rate=24000.wav' target='_blank'>../../data/Hillary/wavs/Script 13/script_15_chunk_10-rate=24000.wav</a><br>"
      ],
      "text/plain": [
       "/Users/michaelp/Code/Tacotron-2/data/Hillary/wavs/Script 13/script_15_chunk_10-rate=24000.wav"
      ]
     },
     "metadata": {},
     "output_type": "display_data"
    },
    {
     "data": {
      "text/markdown": [
       "\n",
       "\n",
       " ___"
      ],
      "text/plain": [
       "<IPython.core.display.Markdown object>"
      ]
     },
     "metadata": {},
     "output_type": "display_data"
    },
    {
     "data": {
      "text/markdown": [
       "**Text:** \"…of actual trysts. And in **2005**, HBO viewers got an exte…\""
      ],
      "text/plain": [
       "<IPython.core.display.Markdown object>"
      ]
     },
     "metadata": {},
     "output_type": "display_data"
    },
    {
     "data": {
      "text/html": [
       "<a href='../../data/Hillary/wavs/Scripts 58-63/script_67_chunk_4-rate=24000.wav' target='_blank'>../../data/Hillary/wavs/Scripts 58-63/script_67_chunk_4-rate=24000.wav</a><br>"
      ],
      "text/plain": [
       "/Users/michaelp/Code/Tacotron-2/data/Hillary/wavs/Scripts 58-63/script_67_chunk_4-rate=24000.wav"
      ]
     },
     "metadata": {},
     "output_type": "display_data"
    },
    {
     "data": {
      "text/markdown": [
       "\n",
       "\n",
       " ___"
      ],
      "text/plain": [
       "<IPython.core.display.Markdown object>"
      ]
     },
     "metadata": {},
     "output_type": "display_data"
    },
    {
     "data": {
      "text/markdown": [
       "**Text:** \"…the spotlight during the **2008** presidential election.…\""
      ],
      "text/plain": [
       "<IPython.core.display.Markdown object>"
      ]
     },
     "metadata": {},
     "output_type": "display_data"
    },
    {
     "data": {
      "text/html": [
       "<a href='../../data/Hillary/wavs/Scripts 58-63/script_63_chunk_0-rate=24000.wav' target='_blank'>../../data/Hillary/wavs/Scripts 58-63/script_63_chunk_0-rate=24000.wav</a><br>"
      ],
      "text/plain": [
       "/Users/michaelp/Code/Tacotron-2/data/Hillary/wavs/Scripts 58-63/script_63_chunk_0-rate=24000.wav"
      ]
     },
     "metadata": {},
     "output_type": "display_data"
    },
    {
     "data": {
      "text/markdown": [
       "\n",
       "\n",
       " ___"
      ],
      "text/plain": [
       "<IPython.core.display.Markdown object>"
      ]
     },
     "metadata": {},
     "output_type": "display_data"
    },
    {
     "data": {
      "text/markdown": [
       "**Text:** \"…ess leaders worldwide in **2008**. The survey found out th…\""
      ],
      "text/plain": [
       "<IPython.core.display.Markdown object>"
      ]
     },
     "metadata": {},
     "output_type": "display_data"
    },
    {
     "data": {
      "text/html": [
       "<a href='../../data/Hillary/wavs/Scripts 22-27/script_53_chunk_18-rate=24000.wav' target='_blank'>../../data/Hillary/wavs/Scripts 22-27/script_53_chunk_18-rate=24000.wav</a><br>"
      ],
      "text/plain": [
       "/Users/michaelp/Code/Tacotron-2/data/Hillary/wavs/Scripts 22-27/script_53_chunk_18-rate=24000.wav"
      ]
     },
     "metadata": {},
     "output_type": "display_data"
    },
    {
     "data": {
      "text/markdown": [
       "\n",
       "\n",
       " ___"
      ],
      "text/plain": [
       "<IPython.core.display.Markdown object>"
      ]
     },
     "metadata": {},
     "output_type": "display_data"
    },
    {
     "data": {
      "text/markdown": [
       "**Text:** \"…As of **2009**, sixteen academic journa…\""
      ],
      "text/plain": [
       "<IPython.core.display.Markdown object>"
      ]
     },
     "metadata": {},
     "output_type": "display_data"
    },
    {
     "data": {
      "text/html": [
       "<a href='../../data/Hillary/wavs/Scripts 34-39/script_52_chunk_6-rate=24000.wav' target='_blank'>../../data/Hillary/wavs/Scripts 34-39/script_52_chunk_6-rate=24000.wav</a><br>"
      ],
      "text/plain": [
       "/Users/michaelp/Code/Tacotron-2/data/Hillary/wavs/Scripts 34-39/script_52_chunk_6-rate=24000.wav"
      ]
     },
     "metadata": {},
     "output_type": "display_data"
    },
    {
     "data": {
      "text/markdown": [
       "\n",
       "\n",
       " ___"
      ],
      "text/plain": [
       "<IPython.core.display.Markdown object>"
      ]
     },
     "metadata": {},
     "output_type": "display_data"
    },
    {
     "data": {
      "text/markdown": [
       "**Text:** \"…On October 12, **2006**, the U.S. Small Business…\""
      ],
      "text/plain": [
       "<IPython.core.display.Markdown object>"
      ]
     },
     "metadata": {},
     "output_type": "display_data"
    },
    {
     "data": {
      "text/html": [
       "<a href='../../data/Hillary/wavs/Script 7/script_8_chunk_17-rate=24000.wav' target='_blank'>../../data/Hillary/wavs/Script 7/script_8_chunk_17-rate=24000.wav</a><br>"
      ],
      "text/plain": [
       "/Users/michaelp/Code/Tacotron-2/data/Hillary/wavs/Script 7/script_8_chunk_17-rate=24000.wav"
      ]
     },
     "metadata": {},
     "output_type": "display_data"
    },
    {
     "data": {
      "text/markdown": [
       "\n",
       "\n",
       " ___"
      ],
      "text/plain": [
       "<IPython.core.display.Markdown object>"
      ]
     },
     "metadata": {},
     "output_type": "display_data"
    },
    {
     "data": {
      "text/markdown": [
       "**Text:** \"…ormation Technology Act, **2008** made significant changes…\""
      ],
      "text/plain": [
       "<IPython.core.display.Markdown object>"
      ]
     },
     "metadata": {},
     "output_type": "display_data"
    },
    {
     "data": {
      "text/html": [
       "<a href='../../data/Hillary/wavs/Scripts 16-21/script_78_chunk_0-rate=24000.wav' target='_blank'>../../data/Hillary/wavs/Scripts 16-21/script_78_chunk_0-rate=24000.wav</a><br>"
      ],
      "text/plain": [
       "/Users/michaelp/Code/Tacotron-2/data/Hillary/wavs/Scripts 16-21/script_78_chunk_0-rate=24000.wav"
      ]
     },
     "metadata": {},
     "output_type": "display_data"
    },
    {
     "data": {
      "text/markdown": [
       "\n",
       "\n",
       " ___"
      ],
      "text/plain": [
       "<IPython.core.display.Markdown object>"
      ]
     },
     "metadata": {},
     "output_type": "display_data"
    },
    {
     "data": {
      "text/markdown": [
       "### Examples Captured by Regex"
      ],
      "text/plain": [
       "<IPython.core.display.Markdown object>"
      ]
     },
     "metadata": {},
     "output_type": "display_data"
    },
    {
     "data": {
      "text/markdown": [
       "**Regex:** (\\b1[0-9]{3}s?\\b)"
      ],
      "text/plain": [
       "<IPython.core.display.Markdown object>"
      ]
     },
     "metadata": {},
     "output_type": "display_data"
    },
    {
     "data": {
      "text/markdown": [
       "**Number of Examples:** 198"
      ],
      "text/plain": [
       "<IPython.core.display.Markdown object>"
      ]
     },
     "metadata": {},
     "output_type": "display_data"
    },
    {
     "data": {
      "text/markdown": [
       "**Number of Examples Shown:** 20"
      ],
      "text/plain": [
       "<IPython.core.display.Markdown object>"
      ]
     },
     "metadata": {},
     "output_type": "display_data"
    },
    {
     "data": {
      "text/markdown": [
       "\n",
       "\n",
       " ___"
      ],
      "text/plain": [
       "<IPython.core.display.Markdown object>"
      ]
     },
     "metadata": {},
     "output_type": "display_data"
    },
    {
     "data": {
      "text/markdown": [
       "**Text:** \"…in **1968**, following initial work …\""
      ],
      "text/plain": [
       "<IPython.core.display.Markdown object>"
      ]
     },
     "metadata": {},
     "output_type": "display_data"
    },
    {
     "data": {
      "text/html": [
       "<a href='../../data/Hillary/wavs/Scripts 58-63/script_3_chunk_11-rate=24000.wav' target='_blank'>../../data/Hillary/wavs/Scripts 58-63/script_3_chunk_11-rate=24000.wav</a><br>"
      ],
      "text/plain": [
       "/Users/michaelp/Code/Tacotron-2/data/Hillary/wavs/Scripts 58-63/script_3_chunk_11-rate=24000.wav"
      ]
     },
     "metadata": {},
     "output_type": "display_data"
    },
    {
     "data": {
      "text/markdown": [
       "\n",
       "\n",
       " ___"
      ],
      "text/plain": [
       "<IPython.core.display.Markdown object>"
      ]
     },
     "metadata": {},
     "output_type": "display_data"
    },
    {
     "data": {
      "text/markdown": [
       "**Text:** \"… many Nevada counties in **1972**, the state has become a …\""
      ],
      "text/plain": [
       "<IPython.core.display.Markdown object>"
      ]
     },
     "metadata": {},
     "output_type": "display_data"
    },
    {
     "data": {
      "text/html": [
       "<a href='../../data/Hillary/wavs/Scripts 58-63/script_67_chunk_12-rate=24000.wav' target='_blank'>../../data/Hillary/wavs/Scripts 58-63/script_67_chunk_12-rate=24000.wav</a><br>"
      ],
      "text/plain": [
       "/Users/michaelp/Code/Tacotron-2/data/Hillary/wavs/Scripts 58-63/script_67_chunk_12-rate=24000.wav"
      ]
     },
     "metadata": {},
     "output_type": "display_data"
    },
    {
     "data": {
      "text/markdown": [
       "\n",
       "\n",
       " ___"
      ],
      "text/plain": [
       "<IPython.core.display.Markdown object>"
      ]
     },
     "metadata": {},
     "output_type": "display_data"
    },
    {
     "data": {
      "text/markdown": [
       "**Text:** \"…and then--August XXXX, **1968**. It is a sadly poetic cy…\""
      ],
      "text/plain": [
       "<IPython.core.display.Markdown object>"
      ]
     },
     "metadata": {},
     "output_type": "display_data"
    },
    {
     "data": {
      "text/html": [
       "<a href='../../data/Hillary/wavs/Scripts 64-69/script_85_chunk_7-rate=24000.wav' target='_blank'>../../data/Hillary/wavs/Scripts 64-69/script_85_chunk_7-rate=24000.wav</a><br>"
      ],
      "text/plain": [
       "/Users/michaelp/Code/Tacotron-2/data/Hillary/wavs/Scripts 64-69/script_85_chunk_7-rate=24000.wav"
      ]
     },
     "metadata": {},
     "output_type": "display_data"
    },
    {
     "data": {
      "text/markdown": [
       "\n",
       "\n",
       " ___"
      ],
      "text/plain": [
       "<IPython.core.display.Markdown object>"
      ]
     },
     "metadata": {},
     "output_type": "display_data"
    },
    {
     "data": {
      "text/markdown": [
       "**Text:** \"…until the **1980s**, when deregulation and a…\""
      ],
      "text/plain": [
       "<IPython.core.display.Markdown object>"
      ]
     },
     "metadata": {},
     "output_type": "display_data"
    },
    {
     "data": {
      "text/html": [
       "<a href='../../data/Hillary/wavs/Scripts 22-27/script_81_chunk_25-rate=24000.wav' target='_blank'>../../data/Hillary/wavs/Scripts 22-27/script_81_chunk_25-rate=24000.wav</a><br>"
      ],
      "text/plain": [
       "/Users/michaelp/Code/Tacotron-2/data/Hillary/wavs/Scripts 22-27/script_81_chunk_25-rate=24000.wav"
      ]
     },
     "metadata": {},
     "output_type": "display_data"
    },
    {
     "data": {
      "text/markdown": [
       "\n",
       "\n",
       " ___"
      ],
      "text/plain": [
       "<IPython.core.display.Markdown object>"
      ]
     },
     "metadata": {},
     "output_type": "display_data"
    },
    {
     "data": {
      "text/markdown": [
       "**Text:** \"…in the XXXXX and **1980s**. Lack of leadership is m…\""
      ],
      "text/plain": [
       "<IPython.core.display.Markdown object>"
      ]
     },
     "metadata": {},
     "output_type": "display_data"
    },
    {
     "data": {
      "text/html": [
       "<a href='../../data/Hillary/wavs/Scripts 88-93/script_35_chunk_3-rate=24000.wav' target='_blank'>../../data/Hillary/wavs/Scripts 88-93/script_35_chunk_3-rate=24000.wav</a><br>"
      ],
      "text/plain": [
       "/Users/michaelp/Code/Tacotron-2/data/Hillary/wavs/Scripts 88-93/script_35_chunk_3-rate=24000.wav"
      ]
     },
     "metadata": {},
     "output_type": "display_data"
    },
    {
     "data": {
      "text/markdown": [
       "\n",
       "\n",
       " ___"
      ],
      "text/plain": [
       "<IPython.core.display.Markdown object>"
      ]
     },
     "metadata": {},
     "output_type": "display_data"
    },
    {
     "data": {
      "text/markdown": [
       "**Text:** \"…in **1911**. In 1912 Yoichi Ueno int…\""
      ],
      "text/plain": [
       "<IPython.core.display.Markdown object>"
      ]
     },
     "metadata": {},
     "output_type": "display_data"
    },
    {
     "data": {
      "text/html": [
       "<a href='../../data/Hillary/wavs/Scripts 82-87/script_90_chunk_5-rate=24000.wav' target='_blank'>../../data/Hillary/wavs/Scripts 82-87/script_90_chunk_5-rate=24000.wav</a><br>"
      ],
      "text/plain": [
       "/Users/michaelp/Code/Tacotron-2/data/Hillary/wavs/Scripts 82-87/script_90_chunk_5-rate=24000.wav"
      ]
     },
     "metadata": {},
     "output_type": "display_data"
    },
    {
     "data": {
      "text/markdown": [
       "\n",
       "\n",
       " ___"
      ],
      "text/plain": [
       "<IPython.core.display.Markdown object>"
      ]
     },
     "metadata": {},
     "output_type": "display_data"
    },
    {
     "data": {
      "text/markdown": [
       "**Text:** \"…tive on strategy, as the **1970s** paradigm was the pursuit…\""
      ],
      "text/plain": [
       "<IPython.core.display.Markdown object>"
      ]
     },
     "metadata": {},
     "output_type": "display_data"
    },
    {
     "data": {
      "text/html": [
       "<a href='../../data/Hillary/wavs/Scripts 28-33/script_17_chunk_15-rate=24000.wav' target='_blank'>../../data/Hillary/wavs/Scripts 28-33/script_17_chunk_15-rate=24000.wav</a><br>"
      ],
      "text/plain": [
       "/Users/michaelp/Code/Tacotron-2/data/Hillary/wavs/Scripts 28-33/script_17_chunk_15-rate=24000.wav"
      ]
     },
     "metadata": {},
     "output_type": "display_data"
    },
    {
     "data": {
      "text/markdown": [
       "\n",
       "\n",
       " ___"
      ],
      "text/plain": [
       "<IPython.core.display.Markdown object>"
      ]
     },
     "metadata": {},
     "output_type": "display_data"
    },
    {
     "data": {
      "text/markdown": [
       "**Text:** \"…In **1909**, a man named Charles Her…\""
      ],
      "text/plain": [
       "<IPython.core.display.Markdown object>"
      ]
     },
     "metadata": {},
     "output_type": "display_data"
    },
    {
     "data": {
      "text/html": [
       "<a href='../../data/Hillary/wavs/Scripts 58-63/script_8_chunk_0-rate=24000.wav' target='_blank'>../../data/Hillary/wavs/Scripts 58-63/script_8_chunk_0-rate=24000.wav</a><br>"
      ],
      "text/plain": [
       "/Users/michaelp/Code/Tacotron-2/data/Hillary/wavs/Scripts 58-63/script_8_chunk_0-rate=24000.wav"
      ]
     },
     "metadata": {},
     "output_type": "display_data"
    },
    {
     "data": {
      "text/markdown": [
       "\n",
       "\n",
       " ___"
      ],
      "text/plain": [
       "<IPython.core.display.Markdown object>"
      ]
     },
     "metadata": {},
     "output_type": "display_data"
    },
    {
     "data": {
      "text/markdown": [
       "**Text:** \"…in the late **1980s** and early 1990s, possibl…\""
      ],
      "text/plain": [
       "<IPython.core.display.Markdown object>"
      ]
     },
     "metadata": {},
     "output_type": "display_data"
    },
    {
     "data": {
      "text/html": [
       "<a href='../../data/Hillary/wavs/Script 12/script_2_chunk_11-rate=24000.wav' target='_blank'>../../data/Hillary/wavs/Script 12/script_2_chunk_11-rate=24000.wav</a><br>"
      ],
      "text/plain": [
       "/Users/michaelp/Code/Tacotron-2/data/Hillary/wavs/Script 12/script_2_chunk_11-rate=24000.wav"
      ]
     },
     "metadata": {},
     "output_type": "display_data"
    },
    {
     "data": {
      "text/markdown": [
       "\n",
       "\n",
       " ___"
      ],
      "text/plain": [
       "<IPython.core.display.Markdown object>"
      ]
     },
     "metadata": {},
     "output_type": "display_data"
    },
    {
     "data": {
      "text/markdown": [
       "**Text:** \"…In **1978**, Derek F. Abell describe…\""
      ],
      "text/plain": [
       "<IPython.core.display.Markdown object>"
      ]
     },
     "metadata": {},
     "output_type": "display_data"
    },
    {
     "data": {
      "text/html": [
       "<a href='../../data/Hillary/wavs/Scripts 70-75/script_87_chunk_9-rate=24000.wav' target='_blank'>../../data/Hillary/wavs/Scripts 70-75/script_87_chunk_9-rate=24000.wav</a><br>"
      ],
      "text/plain": [
       "/Users/michaelp/Code/Tacotron-2/data/Hillary/wavs/Scripts 70-75/script_87_chunk_9-rate=24000.wav"
      ]
     },
     "metadata": {},
     "output_type": "display_data"
    },
    {
     "data": {
      "text/markdown": [
       "\n",
       "\n",
       " ___"
      ],
      "text/plain": [
       "<IPython.core.display.Markdown object>"
      ]
     },
     "metadata": {},
     "output_type": "display_data"
    },
    {
     "data": {
      "text/markdown": [
       "**Text:** \"…on March 9, **1731**.\n",
       "\n",
       "The Alvarez Travieso a…\""
      ],
      "text/plain": [
       "<IPython.core.display.Markdown object>"
      ]
     },
     "metadata": {},
     "output_type": "display_data"
    },
    {
     "data": {
      "text/html": [
       "<a href='../../data/Hillary/wavs/Scripts 58-63/script_52_chunk_35-rate=24000.wav' target='_blank'>../../data/Hillary/wavs/Scripts 58-63/script_52_chunk_35-rate=24000.wav</a><br>"
      ],
      "text/plain": [
       "/Users/michaelp/Code/Tacotron-2/data/Hillary/wavs/Scripts 58-63/script_52_chunk_35-rate=24000.wav"
      ]
     },
     "metadata": {},
     "output_type": "display_data"
    },
    {
     "data": {
      "text/markdown": [
       "\n",
       "\n",
       " ___"
      ],
      "text/plain": [
       "<IPython.core.display.Markdown object>"
      ]
     },
     "metadata": {},
     "output_type": "display_data"
    },
    {
     "data": {
      "text/markdown": [
       "**Text:** \"…Administration degree in **1921**. People like Henri Fayol…\""
      ],
      "text/plain": [
       "<IPython.core.display.Markdown object>"
      ]
     },
     "metadata": {},
     "output_type": "display_data"
    },
    {
     "data": {
      "text/html": [
       "<a href='../../data/Hillary/wavs/Scripts 82-87/script_98_chunk_1-rate=24000.wav' target='_blank'>../../data/Hillary/wavs/Scripts 82-87/script_98_chunk_1-rate=24000.wav</a><br>"
      ],
      "text/plain": [
       "/Users/michaelp/Code/Tacotron-2/data/Hillary/wavs/Scripts 82-87/script_98_chunk_1-rate=24000.wav"
      ]
     },
     "metadata": {},
     "output_type": "display_data"
    },
    {
     "data": {
      "text/markdown": [
       "\n",
       "\n",
       " ___"
      ],
      "text/plain": [
       "<IPython.core.display.Markdown object>"
      ]
     },
     "metadata": {},
     "output_type": "display_data"
    },
    {
     "data": {
      "text/markdown": [
       "**Text:** \"…In **1973**, Mintzberg found that se…\""
      ],
      "text/plain": [
       "<IPython.core.display.Markdown object>"
      ]
     },
     "metadata": {},
     "output_type": "display_data"
    },
    {
     "data": {
      "text/html": [
       "<a href='../../data/Hillary/wavs/Scripts 58-63/script_19_chunk_7-rate=24000.wav' target='_blank'>../../data/Hillary/wavs/Scripts 58-63/script_19_chunk_7-rate=24000.wav</a><br>"
      ],
      "text/plain": [
       "/Users/michaelp/Code/Tacotron-2/data/Hillary/wavs/Scripts 58-63/script_19_chunk_7-rate=24000.wav"
      ]
     },
     "metadata": {},
     "output_type": "display_data"
    },
    {
     "data": {
      "text/markdown": [
       "\n",
       "\n",
       " ___"
      ],
      "text/plain": [
       "<IPython.core.display.Markdown object>"
      ]
     },
     "metadata": {},
     "output_type": "display_data"
    },
    {
     "data": {
      "text/markdown": [
       "**Text:** \"…chise from bankruptcy in **1999** and kept the team from r…\""
      ],
      "text/plain": [
       "<IPython.core.display.Markdown object>"
      ]
     },
     "metadata": {},
     "output_type": "display_data"
    },
    {
     "data": {
      "text/html": [
       "<a href='../../data/Hillary/wavs/Scripts 94-98/script_76_chunk_11-rate=24000.wav' target='_blank'>../../data/Hillary/wavs/Scripts 94-98/script_76_chunk_11-rate=24000.wav</a><br>"
      ],
      "text/plain": [
       "/Users/michaelp/Code/Tacotron-2/data/Hillary/wavs/Scripts 94-98/script_76_chunk_11-rate=24000.wav"
      ]
     },
     "metadata": {},
     "output_type": "display_data"
    },
    {
     "data": {
      "text/markdown": [
       "\n",
       "\n",
       " ___"
      ],
      "text/plain": [
       "<IPython.core.display.Markdown object>"
      ]
     },
     "metadata": {},
     "output_type": "display_data"
    },
    {
     "data": {
      "text/markdown": [
       "**Text:** \"…rabi dates back to about **1772** BC for example,…\""
      ],
      "text/plain": [
       "<IPython.core.display.Markdown object>"
      ]
     },
     "metadata": {},
     "output_type": "display_data"
    },
    {
     "data": {
      "text/html": [
       "<a href='../../data/Hillary/wavs/Scripts 16-21/script_4_chunk_2-rate=24000.wav' target='_blank'>../../data/Hillary/wavs/Scripts 16-21/script_4_chunk_2-rate=24000.wav</a><br>"
      ],
      "text/plain": [
       "/Users/michaelp/Code/Tacotron-2/data/Hillary/wavs/Scripts 16-21/script_4_chunk_2-rate=24000.wav"
      ]
     },
     "metadata": {},
     "output_type": "display_data"
    },
    {
     "data": {
      "text/markdown": [
       "\n",
       "\n",
       " ___"
      ],
      "text/plain": [
       "<IPython.core.display.Markdown object>"
      ]
     },
     "metadata": {},
     "output_type": "display_data"
    },
    {
     "data": {
      "text/markdown": [
       "**Text:** \"…The **1980s** were tragic years that s…\""
      ],
      "text/plain": [
       "<IPython.core.display.Markdown object>"
      ]
     },
     "metadata": {},
     "output_type": "display_data"
    },
    {
     "data": {
      "text/html": [
       "<a href='../../data/Hillary/wavs/Scripts 88-93/script_9_chunk_1-rate=24000.wav' target='_blank'>../../data/Hillary/wavs/Scripts 88-93/script_9_chunk_1-rate=24000.wav</a><br>"
      ],
      "text/plain": [
       "/Users/michaelp/Code/Tacotron-2/data/Hillary/wavs/Scripts 88-93/script_9_chunk_1-rate=24000.wav"
      ]
     },
     "metadata": {},
     "output_type": "display_data"
    },
    {
     "data": {
      "text/markdown": [
       "\n",
       "\n",
       " ___"
      ],
      "text/plain": [
       "<IPython.core.display.Markdown object>"
      ]
     },
     "metadata": {},
     "output_type": "display_data"
    },
    {
     "data": {
      "text/markdown": [
       "**Text:** \"…By mid-**1940**, the German Army had con…\""
      ],
      "text/plain": [
       "<IPython.core.display.Markdown object>"
      ]
     },
     "metadata": {},
     "output_type": "display_data"
    },
    {
     "data": {
      "text/html": [
       "<a href='../../data/Hillary/wavs/Scripts 70-75/script_0_chunk_0-rate=24000.wav' target='_blank'>../../data/Hillary/wavs/Scripts 70-75/script_0_chunk_0-rate=24000.wav</a><br>"
      ],
      "text/plain": [
       "/Users/michaelp/Code/Tacotron-2/data/Hillary/wavs/Scripts 70-75/script_0_chunk_0-rate=24000.wav"
      ]
     },
     "metadata": {},
     "output_type": "display_data"
    },
    {
     "data": {
      "text/markdown": [
       "\n",
       "\n",
       " ___"
      ],
      "text/plain": [
       "<IPython.core.display.Markdown object>"
      ]
     },
     "metadata": {},
     "output_type": "display_data"
    },
    {
     "data": {
      "text/markdown": [
       "**Text:** \"…exercise equipment since **1989**. Everyday, millions of p…\""
      ],
      "text/plain": [
       "<IPython.core.display.Markdown object>"
      ]
     },
     "metadata": {},
     "output_type": "display_data"
    },
    {
     "data": {
      "text/html": [
       "<a href='../../data/Hillary/wavs/Script 8/script_0_chunk_1-rate=24000.wav' target='_blank'>../../data/Hillary/wavs/Script 8/script_0_chunk_1-rate=24000.wav</a><br>"
      ],
      "text/plain": [
       "/Users/michaelp/Code/Tacotron-2/data/Hillary/wavs/Script 8/script_0_chunk_1-rate=24000.wav"
      ]
     },
     "metadata": {},
     "output_type": "display_data"
    },
    {
     "data": {
      "text/markdown": [
       "\n",
       "\n",
       " ___"
      ],
      "text/plain": [
       "<IPython.core.display.Markdown object>"
      ]
     },
     "metadata": {},
     "output_type": "display_data"
    },
    {
     "data": {
      "text/markdown": [
       "**Text:** \"…In **1938**, a Swiss chemist named A…\""
      ],
      "text/plain": [
       "<IPython.core.display.Markdown object>"
      ]
     },
     "metadata": {},
     "output_type": "display_data"
    },
    {
     "data": {
      "text/html": [
       "<a href='../../data/Hillary/wavs/Scripts 88-93/script_32_chunk_0-rate=24000.wav' target='_blank'>../../data/Hillary/wavs/Scripts 88-93/script_32_chunk_0-rate=24000.wav</a><br>"
      ],
      "text/plain": [
       "/Users/michaelp/Code/Tacotron-2/data/Hillary/wavs/Scripts 88-93/script_32_chunk_0-rate=24000.wav"
      ]
     },
     "metadata": {},
     "output_type": "display_data"
    },
    {
     "data": {
      "text/markdown": [
       "\n",
       "\n",
       " ___"
      ],
      "text/plain": [
       "<IPython.core.display.Markdown object>"
      ]
     },
     "metadata": {},
     "output_type": "display_data"
    },
    {
     "data": {
      "text/markdown": [
       "**Text:** \"…Additionally, during the **1980s** statistical advances all…\""
      ],
      "text/plain": [
       "<IPython.core.display.Markdown object>"
      ]
     },
     "metadata": {},
     "output_type": "display_data"
    },
    {
     "data": {
      "text/html": [
       "<a href='../../data/Hillary/wavs/Scripts 22-27/script_22_chunk_4-rate=24000.wav' target='_blank'>../../data/Hillary/wavs/Scripts 22-27/script_22_chunk_4-rate=24000.wav</a><br>"
      ],
      "text/plain": [
       "/Users/michaelp/Code/Tacotron-2/data/Hillary/wavs/Scripts 22-27/script_22_chunk_4-rate=24000.wav"
      ]
     },
     "metadata": {},
     "output_type": "display_data"
    },
    {
     "data": {
      "text/markdown": [
       "\n",
       "\n",
       " ___"
      ],
      "text/plain": [
       "<IPython.core.display.Markdown object>"
      ]
     },
     "metadata": {},
     "output_type": "display_data"
    },
    {
     "data": {
      "text/markdown": [
       "### Examples Captured by Regex"
      ],
      "text/plain": [
       "<IPython.core.display.Markdown object>"
      ]
     },
     "metadata": {},
     "output_type": "display_data"
    },
    {
     "data": {
      "text/markdown": [
       "**Regex:** \\b([0-9]+)\\b \\b(?:BCE|BC|AD|CE)\\b"
      ],
      "text/plain": [
       "<IPython.core.display.Markdown object>"
      ]
     },
     "metadata": {},
     "output_type": "display_data"
    },
    {
     "data": {
      "text/markdown": [
       "**Number of Examples:** 4"
      ],
      "text/plain": [
       "<IPython.core.display.Markdown object>"
      ]
     },
     "metadata": {},
     "output_type": "display_data"
    },
    {
     "data": {
      "text/markdown": [
       "**Number of Examples Shown:** 4"
      ],
      "text/plain": [
       "<IPython.core.display.Markdown object>"
      ]
     },
     "metadata": {},
     "output_type": "display_data"
    },
    {
     "data": {
      "text/markdown": [
       "\n",
       "\n",
       " ___"
      ],
      "text/plain": [
       "<IPython.core.display.Markdown object>"
      ]
     },
     "metadata": {},
     "output_type": "display_data"
    },
    {
     "data": {
      "text/markdown": [
       "**Text:** \"… on the XXXX of December **37** AD…\""
      ],
      "text/plain": [
       "<IPython.core.display.Markdown object>"
      ]
     },
     "metadata": {},
     "output_type": "display_data"
    },
    {
     "data": {
      "text/html": [
       "<a href='../../data/Hillary/wavs/Scripts 102-107/script_34_chunk_9-rate=24000.wav' target='_blank'>../../data/Hillary/wavs/Scripts 102-107/script_34_chunk_9-rate=24000.wav</a><br>"
      ],
      "text/plain": [
       "/Users/michaelp/Code/Tacotron-2/data/Hillary/wavs/Scripts 102-107/script_34_chunk_9-rate=24000.wav"
      ]
     },
     "metadata": {},
     "output_type": "display_data"
    },
    {
     "data": {
      "text/markdown": [
       "\n",
       "\n",
       " ___"
      ],
      "text/plain": [
       "<IPython.core.display.Markdown object>"
      ]
     },
     "metadata": {},
     "output_type": "display_data"
    },
    {
     "data": {
      "text/markdown": [
       "**Text:** \"…in **350** BC, and Alfarabi listed …\""
      ],
      "text/plain": [
       "<IPython.core.display.Markdown object>"
      ]
     },
     "metadata": {},
     "output_type": "display_data"
    },
    {
     "data": {
      "text/html": [
       "<a href='../../data/Hillary/wavs/Scripts 22-27/script_85_chunk_11-rate=24000.wav' target='_blank'>../../data/Hillary/wavs/Scripts 22-27/script_85_chunk_11-rate=24000.wav</a><br>"
      ],
      "text/plain": [
       "/Users/michaelp/Code/Tacotron-2/data/Hillary/wavs/Scripts 22-27/script_85_chunk_11-rate=24000.wav"
      ]
     },
     "metadata": {},
     "output_type": "display_data"
    },
    {
     "data": {
      "text/markdown": [
       "\n",
       "\n",
       " ___"
      ],
      "text/plain": [
       "<IPython.core.display.Markdown object>"
      ]
     },
     "metadata": {},
     "output_type": "display_data"
    },
    {
     "data": {
      "text/markdown": [
       "**Text:** \"…dated variously from **300** BCE to XXX century CE an…\""
      ],
      "text/plain": [
       "<IPython.core.display.Markdown object>"
      ]
     },
     "metadata": {},
     "output_type": "display_data"
    },
    {
     "data": {
      "text/html": [
       "<a href='../../data/Hillary/wavs/Scripts 102-107/script_66_chunk_4-rate=24000.wav' target='_blank'>../../data/Hillary/wavs/Scripts 102-107/script_66_chunk_4-rate=24000.wav</a><br>"
      ],
      "text/plain": [
       "/Users/michaelp/Code/Tacotron-2/data/Hillary/wavs/Scripts 102-107/script_66_chunk_4-rate=24000.wav"
      ]
     },
     "metadata": {},
     "output_type": "display_data"
    },
    {
     "data": {
      "text/markdown": [
       "\n",
       "\n",
       " ___"
      ],
      "text/plain": [
       "<IPython.core.display.Markdown object>"
      ]
     },
     "metadata": {},
     "output_type": "display_data"
    },
    {
     "data": {
      "text/markdown": [
       "**Text:** \"…anicus was sidelined. In **54** AD, Agrippina decided th…\""
      ],
      "text/plain": [
       "<IPython.core.display.Markdown object>"
      ]
     },
     "metadata": {},
     "output_type": "display_data"
    },
    {
     "data": {
      "text/html": [
       "<a href='../../data/Hillary/wavs/Scripts 102-107/script_34_chunk_24-rate=24000.wav' target='_blank'>../../data/Hillary/wavs/Scripts 102-107/script_34_chunk_24-rate=24000.wav</a><br>"
      ],
      "text/plain": [
       "/Users/michaelp/Code/Tacotron-2/data/Hillary/wavs/Scripts 102-107/script_34_chunk_24-rate=24000.wav"
      ]
     },
     "metadata": {},
     "output_type": "display_data"
    },
    {
     "data": {
      "text/markdown": [
       "\n",
       "\n",
       " ___"
      ],
      "text/plain": [
       "<IPython.core.display.Markdown object>"
      ]
     },
     "metadata": {},
     "output_type": "display_data"
    }
   ],
   "source": [
    "regexes = [r'(\\b20[0-9]{2}s?\\b)',\n",
    "           r'(\\b1[0-9]{3}s?\\b)',\n",
    "           r'\\b([0-9]+)\\b \\b(?:BCE|BC|AD|CE)\\b']\n",
    "for regex in regexes:\n",
    "    find_examples(regex, replace=True, display_n=20)"
   ]
  },
  {
   "cell_type": "markdown",
   "metadata": {},
   "source": [
    "## Fractions"
   ]
  },
  {
   "cell_type": "code",
   "execution_count": 62,
   "metadata": {},
   "outputs": [
    {
     "data": {
      "text/markdown": [
       "### Examples Captured by Regex"
      ],
      "text/plain": [
       "<IPython.core.display.Markdown object>"
      ]
     },
     "metadata": {},
     "output_type": "display_data"
    },
    {
     "data": {
      "text/markdown": [
       "**Regex:** \\b(\\d?-?\\d+/\\d+)\\b"
      ],
      "text/plain": [
       "<IPython.core.display.Markdown object>"
      ]
     },
     "metadata": {},
     "output_type": "display_data"
    },
    {
     "data": {
      "text/markdown": [
       "**Number of Examples:** 2"
      ],
      "text/plain": [
       "<IPython.core.display.Markdown object>"
      ]
     },
     "metadata": {},
     "output_type": "display_data"
    },
    {
     "data": {
      "text/markdown": [
       "**Number of Examples Shown:** 2"
      ],
      "text/plain": [
       "<IPython.core.display.Markdown object>"
      ]
     },
     "metadata": {},
     "output_type": "display_data"
    },
    {
     "data": {
      "text/markdown": [
       "\n",
       "\n",
       " ___"
      ],
      "text/plain": [
       "<IPython.core.display.Markdown object>"
      ]
     },
     "metadata": {},
     "output_type": "display_data"
    },
    {
     "data": {
      "text/markdown": [
       "**Text:** \"…pport this by offering a **48/52** pay option…\""
      ],
      "text/plain": [
       "<IPython.core.display.Markdown object>"
      ]
     },
     "metadata": {},
     "output_type": "display_data"
    },
    {
     "data": {
      "text/html": [
       "<a href='../../data/Hillary/wavs/Scripts 22-27/script_89_chunk_11-rate=24000.wav' target='_blank'>../../data/Hillary/wavs/Scripts 22-27/script_89_chunk_11-rate=24000.wav</a><br>"
      ],
      "text/plain": [
       "/Users/michaelp/Code/Tacotron-2/data/Hillary/wavs/Scripts 22-27/script_89_chunk_11-rate=24000.wav"
      ]
     },
     "metadata": {},
     "output_type": "display_data"
    },
    {
     "data": {
      "text/markdown": [
       "\n",
       "\n",
       " ___"
      ],
      "text/plain": [
       "<IPython.core.display.Markdown object>"
      ]
     },
     "metadata": {},
     "output_type": "display_data"
    },
    {
     "data": {
      "text/markdown": [
       "**Text:** \"…example was the infamous **9/11** attacks were labeled as …\""
      ],
      "text/plain": [
       "<IPython.core.display.Markdown object>"
      ]
     },
     "metadata": {},
     "output_type": "display_data"
    },
    {
     "data": {
      "text/html": [
       "<a href='../../data/Hillary/wavs/Scripts 88-93/script_55_chunk_2-rate=24000.wav' target='_blank'>../../data/Hillary/wavs/Scripts 88-93/script_55_chunk_2-rate=24000.wav</a><br>"
      ],
      "text/plain": [
       "/Users/michaelp/Code/Tacotron-2/data/Hillary/wavs/Scripts 88-93/script_55_chunk_2-rate=24000.wav"
      ]
     },
     "metadata": {},
     "output_type": "display_data"
    },
    {
     "data": {
      "text/markdown": [
       "\n",
       "\n",
       " ___"
      ],
      "text/plain": [
       "<IPython.core.display.Markdown object>"
      ]
     },
     "metadata": {},
     "output_type": "display_data"
    }
   ],
   "source": [
    "find_examples(r'\\b(\\d?-?\\d/\\d)\\b', replace=True, group=0)"
   ]
  },
  {
   "cell_type": "markdown",
   "metadata": {},
   "source": [
    "## Percent"
   ]
  },
  {
   "cell_type": "code",
   "execution_count": 29,
   "metadata": {},
   "outputs": [
    {
     "data": {
      "text/markdown": [
       "### Examples Captured by Regex"
      ],
      "text/plain": [
       "<IPython.core.display.Markdown object>"
      ]
     },
     "metadata": {},
     "output_type": "display_data"
    },
    {
     "data": {
      "text/markdown": [
       "**Regex:** \\b(\\d+\\b\\%)"
      ],
      "text/plain": [
       "<IPython.core.display.Markdown object>"
      ]
     },
     "metadata": {},
     "output_type": "display_data"
    },
    {
     "data": {
      "text/markdown": [
       "**Number of Examples:** 34"
      ],
      "text/plain": [
       "<IPython.core.display.Markdown object>"
      ]
     },
     "metadata": {},
     "output_type": "display_data"
    },
    {
     "data": {
      "text/markdown": [
       "**Number of Examples Shown:** 5"
      ],
      "text/plain": [
       "<IPython.core.display.Markdown object>"
      ]
     },
     "metadata": {},
     "output_type": "display_data"
    },
    {
     "data": {
      "text/markdown": [
       "\n",
       "\n",
       " ___"
      ],
      "text/plain": [
       "<IPython.core.display.Markdown object>"
      ]
     },
     "metadata": {},
     "output_type": "display_data"
    },
    {
     "data": {
      "text/markdown": [
       "**Text:** \"…suggest that only around **65%** of companies are fully c…\""
      ],
      "text/plain": [
       "<IPython.core.display.Markdown object>"
      ]
     },
     "metadata": {},
     "output_type": "display_data"
    },
    {
     "data": {
      "text/html": [
       "<a href='../../data/Hillary/wavs/Scripts 76-81 (Part Two)/script_7_chunk_6-rate=24000.wav' target='_blank'>../../data/Hillary/wavs/Scripts 76-81 (Part Two)/script_7_chunk_6-rate=24000.wav</a><br>"
      ],
      "text/plain": [
       "/Users/michaelp/Code/Tacotron-2/data/Hillary/wavs/Scripts 76-81 (Part Two)/script_7_chunk_6-rate=24000.wav"
      ]
     },
     "metadata": {},
     "output_type": "display_data"
    },
    {
     "data": {
      "text/markdown": [
       "\n",
       "\n",
       " ___"
      ],
      "text/plain": [
       "<IPython.core.display.Markdown object>"
      ]
     },
     "metadata": {},
     "output_type": "display_data"
    },
    {
     "data": {
      "text/markdown": [
       "**Text:** \"…and only **25%** from technical skills. H…\""
      ],
      "text/plain": [
       "<IPython.core.display.Markdown object>"
      ]
     },
     "metadata": {},
     "output_type": "display_data"
    },
    {
     "data": {
      "text/html": [
       "<a href='../../data/Hillary/wavs/Scripts 34-39/script_69_chunk_9-rate=24000.wav' target='_blank'>../../data/Hillary/wavs/Scripts 34-39/script_69_chunk_9-rate=24000.wav</a><br>"
      ],
      "text/plain": [
       "/Users/michaelp/Code/Tacotron-2/data/Hillary/wavs/Scripts 34-39/script_69_chunk_9-rate=24000.wav"
      ]
     },
     "metadata": {},
     "output_type": "display_data"
    },
    {
     "data": {
      "text/markdown": [
       "\n",
       "\n",
       " ___"
      ],
      "text/plain": [
       "<IPython.core.display.Markdown object>"
      ]
     },
     "metadata": {},
     "output_type": "display_data"
    },
    {
     "data": {
      "text/markdown": [
       "**Text:** \"…of the overall turnover, **75%** within the EU and 25% ou…\""
      ],
      "text/plain": [
       "<IPython.core.display.Markdown object>"
      ]
     },
     "metadata": {},
     "output_type": "display_data"
    },
    {
     "data": {
      "text/html": [
       "<a href='../../data/Hillary/wavs/Scripts 82-87/script_72_chunk_9-rate=24000.wav' target='_blank'>../../data/Hillary/wavs/Scripts 82-87/script_72_chunk_9-rate=24000.wav</a><br>"
      ],
      "text/plain": [
       "/Users/michaelp/Code/Tacotron-2/data/Hillary/wavs/Scripts 82-87/script_72_chunk_9-rate=24000.wav"
      ]
     },
     "metadata": {},
     "output_type": "display_data"
    },
    {
     "data": {
      "text/markdown": [
       "\n",
       "\n",
       " ___"
      ],
      "text/plain": [
       "<IPython.core.display.Markdown object>"
      ]
     },
     "metadata": {},
     "output_type": "display_data"
    },
    {
     "data": {
      "text/markdown": [
       "**Text:** \"…written succession plan; **38%** have an informal, unwrit…\""
      ],
      "text/plain": [
       "<IPython.core.display.Markdown object>"
      ]
     },
     "metadata": {},
     "output_type": "display_data"
    },
    {
     "data": {
      "text/html": [
       "<a href='../../data/Hillary/wavs/Scripts 94-98/script_75_chunk_5-rate=24000.wav' target='_blank'>../../data/Hillary/wavs/Scripts 94-98/script_75_chunk_5-rate=24000.wav</a><br>"
      ],
      "text/plain": [
       "/Users/michaelp/Code/Tacotron-2/data/Hillary/wavs/Scripts 94-98/script_75_chunk_5-rate=24000.wav"
      ]
     },
     "metadata": {},
     "output_type": "display_data"
    },
    {
     "data": {
      "text/markdown": [
       "\n",
       "\n",
       " ___"
      ],
      "text/plain": [
       "<IPython.core.display.Markdown object>"
      ]
     },
     "metadata": {},
     "output_type": "display_data"
    },
    {
     "data": {
      "text/markdown": [
       "**Text:** \"…and the remaining **52%** do not have any successi…\""
      ],
      "text/plain": [
       "<IPython.core.display.Markdown object>"
      ]
     },
     "metadata": {},
     "output_type": "display_data"
    },
    {
     "data": {
      "text/html": [
       "<a href='../../data/Hillary/wavs/Scripts 94-98/script_75_chunk_6-rate=24000.wav' target='_blank'>../../data/Hillary/wavs/Scripts 94-98/script_75_chunk_6-rate=24000.wav</a><br>"
      ],
      "text/plain": [
       "/Users/michaelp/Code/Tacotron-2/data/Hillary/wavs/Scripts 94-98/script_75_chunk_6-rate=24000.wav"
      ]
     },
     "metadata": {},
     "output_type": "display_data"
    },
    {
     "data": {
      "text/markdown": [
       "\n",
       "\n",
       " ___"
      ],
      "text/plain": [
       "<IPython.core.display.Markdown object>"
      ]
     },
     "metadata": {},
     "output_type": "display_data"
    }
   ],
   "source": [
    "find_examples(r'\\b(\\d+\\b\\%)', replace=True)"
   ]
  },
  {
   "cell_type": "markdown",
   "metadata": {},
   "source": [
    "## Other\n",
    "\n",
    "```\n",
    "Article: \"article 362(1)\" (article three six two one)\n",
    "Lists: \"1),\", \"1).\", \"1.\" (one, one)\n",
    "Phone Number: 1-888-Comcast (one eight eight eight comcast)\n",
    "ISO: \"ISO 19600\" (nineteen six zero zero), \"ISO/IEC 27002\"\n",
    "Volume: -6db (negative six db)\n",
    "Contracted Year: '80s (eighties)\n",
    "Plane: 747s (seven four seven)\n",
    "Range: \"10-14\" (ten to fourteen)\n",
    "Compound Word: \"12-by-21\", \"16- to 18-year-olds\", \"1,500-year-old\", \"60s--remain,\"\n",
    "\"5-HTTLPR\", \"F-18\", \"trans-2-methylcyclopentanol\"\n",
    "Succession: \"3-2-1\" (three two one)\n",
    "Acronym & Section Number: 3DX (three DX), \"34A\", \"Section #3:\"\n",
    "Money: $1.2 trillion\n",
    "Line Number: \"Proverbs 15:1\"\n",
    "Ordinal: \"7th century CE\"\n",
    "Temperature: \"134°F),\"\n",
    "Math: \"r = .4\", \"~120\"\n",
    "Other: \"AE1.5:\", \"321ater\", \"321asepties\", \"ADRA2b\", \"328(3)\", \"336(2)(d)\", \"22575-22579\", \"350-100-1\", \"AS 3806 - Compliance Program\"\n",
    "```"
   ]
  },
  {
   "cell_type": "code",
   "execution_count": 136,
   "metadata": {},
   "outputs": [
    {
     "data": {
      "text/markdown": [
       "### Examples Captured by Regex"
      ],
      "text/plain": [
       "<IPython.core.display.Markdown object>"
      ]
     },
     "metadata": {},
     "output_type": "display_data"
    },
    {
     "data": {
      "text/markdown": [
       "**Regex:** \\S*(\\d+)\\S*"
      ],
      "text/plain": [
       "<IPython.core.display.Markdown object>"
      ]
     },
     "metadata": {},
     "output_type": "display_data"
    },
    {
     "data": {
      "text/markdown": [
       "**Number of Examples:** 398"
      ],
      "text/plain": [
       "<IPython.core.display.Markdown object>"
      ]
     },
     "metadata": {},
     "output_type": "display_data"
    },
    {
     "data": {
      "text/markdown": [
       "**Number of Examples Shown:** 5"
      ],
      "text/plain": [
       "<IPython.core.display.Markdown object>"
      ]
     },
     "metadata": {},
     "output_type": "display_data"
    },
    {
     "data": {
      "text/markdown": [
       "\n",
       "\n",
       " ___"
      ],
      "text/plain": [
       "<IPython.core.display.Markdown object>"
      ]
     },
     "metadata": {},
     "output_type": "display_data"
    },
    {
     "data": {
      "text/markdown": [
       "**Text:** \"…XXXX, one study estimated that XXX of the Fortune **500** companies\""
      ],
      "text/plain": [
       "<IPython.core.display.Markdown object>"
      ]
     },
     "metadata": {},
     "output_type": "display_data"
    },
    {
     "data": {
      "text/html": [
       "<a href='../../data/Hillary/wavs/Scripts 22-27/script_81_chunk_4-rate=24000.wav' target='_blank'>../../data/Hillary/wavs/Scripts 22-27/script_81_chunk_4-rate=24000.wav</a><br>"
      ],
      "text/plain": [
       "/Users/michaelp/Code/Tacotron-2/data/Hillary/wavs/Scripts 22-27/script_81_chunk_4-rate=24000.wav"
      ]
     },
     "metadata": {},
     "output_type": "display_data"
    },
    {
     "data": {
      "text/markdown": [
       "\n",
       "\n",
       " ___"
      ],
      "text/plain": [
       "<IPython.core.display.Markdown object>"
      ]
     },
     "metadata": {},
     "output_type": "display_data"
    },
    {
     "data": {
      "text/markdown": [
       "**Text:** \"… information on the funds available in the ALLTEL **401K** plan.\""
      ],
      "text/plain": [
       "<IPython.core.display.Markdown object>"
      ]
     },
     "metadata": {},
     "output_type": "display_data"
    },
    {
     "data": {
      "text/html": [
       "<a href='../../data/Hillary/wavs/Script 3/script_7_chunk_2-rate=24000.wav' target='_blank'>../../data/Hillary/wavs/Script 3/script_7_chunk_2-rate=24000.wav</a><br>"
      ],
      "text/plain": [
       "/Users/michaelp/Code/Tacotron-2/data/Hillary/wavs/Script 3/script_7_chunk_2-rate=24000.wav"
      ]
     },
     "metadata": {},
     "output_type": "display_data"
    },
    {
     "data": {
      "text/markdown": [
       "\n",
       "\n",
       " ___"
      ],
      "text/plain": [
       "<IPython.core.display.Markdown object>"
      ]
     },
     "metadata": {},
     "output_type": "display_data"
    },
    {
     "data": {
      "text/markdown": [
       "**Text:** \"before they left Cuatitlan , November **8,** XXXX.  At Saltillo in the\""
      ],
      "text/plain": [
       "<IPython.core.display.Markdown object>"
      ]
     },
     "metadata": {},
     "output_type": "display_data"
    },
    {
     "data": {
      "text/html": [
       "<a href='../../data/Hillary/wavs/Scripts 58-63/script_52_chunk_30-rate=24000.wav' target='_blank'>../../data/Hillary/wavs/Scripts 58-63/script_52_chunk_30-rate=24000.wav</a><br>"
      ],
      "text/plain": [
       "/Users/michaelp/Code/Tacotron-2/data/Hillary/wavs/Scripts 58-63/script_52_chunk_30-rate=24000.wav"
      ]
     },
     "metadata": {},
     "output_type": "display_data"
    },
    {
     "data": {
      "text/markdown": [
       "\n",
       "\n",
       " ___"
      ],
      "text/plain": [
       "<IPython.core.display.Markdown object>"
      ]
     },
     "metadata": {},
     "output_type": "display_data"
    },
    {
     "data": {
      "text/markdown": [
       "**Text:** \"that 3- to **4-year-old** children can discern, to some extent, the differe…\""
      ],
      "text/plain": [
       "<IPython.core.display.Markdown object>"
      ]
     },
     "metadata": {},
     "output_type": "display_data"
    },
    {
     "data": {
      "text/html": [
       "<a href='../../data/Hillary/wavs/Scripts 58-63/script_51_chunk_7-rate=24000.wav' target='_blank'>../../data/Hillary/wavs/Scripts 58-63/script_51_chunk_7-rate=24000.wav</a><br>"
      ],
      "text/plain": [
       "/Users/michaelp/Code/Tacotron-2/data/Hillary/wavs/Scripts 58-63/script_51_chunk_7-rate=24000.wav"
      ]
     },
     "metadata": {},
     "output_type": "display_data"
    },
    {
     "data": {
      "text/markdown": [
       "\n",
       "\n",
       " ___"
      ],
      "text/plain": [
       "<IPython.core.display.Markdown object>"
      ]
     },
     "metadata": {},
     "output_type": "display_data"
    },
    {
     "data": {
      "text/markdown": [
       "**Text:** \"the **23-year-old** Brigadier General -- George Armstrong Custer.\""
      ],
      "text/plain": [
       "<IPython.core.display.Markdown object>"
      ]
     },
     "metadata": {},
     "output_type": "display_data"
    },
    {
     "data": {
      "text/html": [
       "<a href='../../data/Hillary/wavs/Scripts 82-87/script_62_chunk_8-rate=24000.wav' target='_blank'>../../data/Hillary/wavs/Scripts 82-87/script_62_chunk_8-rate=24000.wav</a><br>"
      ],
      "text/plain": [
       "/Users/michaelp/Code/Tacotron-2/data/Hillary/wavs/Scripts 82-87/script_62_chunk_8-rate=24000.wav"
      ]
     },
     "metadata": {},
     "output_type": "display_data"
    },
    {
     "data": {
      "text/markdown": [
       "\n",
       "\n",
       " ___"
      ],
      "text/plain": [
       "<IPython.core.display.Markdown object>"
      ]
     },
     "metadata": {},
     "output_type": "display_data"
    }
   ],
   "source": [
    "find_examples(r'\\S*(\\d+)\\S*', display_n=5, replace=False, group=0)"
   ]
  }
 ],
 "metadata": {
  "kernelspec": {
   "display_name": "Python 3",
   "language": "python",
   "name": "python3"
  },
  "language_info": {
   "codemirror_mode": {
    "name": "ipython",
    "version": 3
   },
   "file_extension": ".py",
   "mimetype": "text/x-python",
   "name": "python",
   "nbconvert_exporter": "python",
   "pygments_lexer": "ipython3",
   "version": "3.6.5"
  }
 },
 "nbformat": 4,
 "nbformat_minor": 2
}
