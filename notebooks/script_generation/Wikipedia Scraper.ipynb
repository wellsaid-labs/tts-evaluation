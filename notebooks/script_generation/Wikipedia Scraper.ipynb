{
 "cells": [
  {
   "cell_type": "markdown",
   "metadata": {},
   "source": [
    "# Wikipedia Scraper and Script Generator\n",
    "# 🖥→🚿→📃→🗣🎙"
   ]
  },
  {
   "cell_type": "markdown",
   "metadata": {},
   "source": [
    "## Goal\n",
    "Generate a voice acting script file given a target Wikipedia page.\n",
    "\n",
    "## Why is this important?\n",
    "If we're going to hire voice actors to generate hours upon hours of high-quality recordings for us, we'll need to give them something to read.\n",
    "\n",
    "\n",
    "## How do you create a script?\n",
    "1. Choose script sources (*Wikipedia pages, articles, essays, etc.*)\n",
    "2. Extract text from sources\n",
    "3. Clean and normalize text\n",
    "4. Export the script\n",
    "\n",
    "# Step One: Choosing A Script Source\n",
    "\n",
    "### What does an ideal script source look like?\n",
    "We still have lots to learn, but here are our current assumptions:\n",
    "\n",
    "1. **A script should be in the same domain as the expected use case of the voice**\n",
    "\n",
    "If you're training a voice that will be used to narrate business audiobooks, it's best to train on scripts that talk about business, not biology. The Tacotron 2 mean opinion score dropped off significantly when it attempted to speak out-of-domain sentences.\n",
    "\n",
    "2. **A script should use similar style and punctuation as the expected use case of the voice**\n",
    "\n",
    "If you're training a voice for a phone support system that speaks in 1-3 word options, you might not want to train on long-winded novels where sentences are much longer and interpreted quite differently.\n",
    "\n",
    "3. **A script should contain coherent, complete pieces of content**\n",
    "\n",
    "A voice actor may read the second sentence of a paragraph in a different style depending on what was in the sentence before it. Accordingly, it's important that scripts contain the entire context in which a line is to be spoken.\n",
    "\n",
    "4. **Ideally, a script does not contain copyrighted content**\n",
    "\n",
    "The law seems super ambiguous on if training on copyrighted content is permissible. To be safe, it's ideal to find scripts that are public and licensed for reuse (like Wikipedia articles)."
   ]
  },
  {
   "cell_type": "markdown",
   "metadata": {},
   "source": [
    "# Step Two: Extract Text from Sources\n",
    "Let's assume we've found a few Wikipedia articles in our target domain.\n",
    "\n",
    "We'll use the [MediaWiki python library], which is a wrapper around the MediaWiki API that makes requests and text extraction a bit easier.\n",
    "\n",
    "There is a more popular but less-maintained wrapper, [Wikipedia], that is a worthwhile fallback if we have issues with this library. \n",
    "\n",
    "\n",
    "[MediaWiki python library]: https://github.com/barrust/mediawiki\n",
    "[Wikipedia]: https://github.com/goldsmith/Wikipedia"
   ]
  },
  {
   "cell_type": "code",
   "execution_count": 1,
   "metadata": {},
   "outputs": [],
   "source": [
    "from IPython.display import display, Markdown\n",
    "from mediawiki import MediaWiki\n",
    "import pandas as pd\n",
    "import string, re\n",
    "\n",
    "wikipedia = MediaWiki()"
   ]
  },
  {
   "cell_type": "markdown",
   "metadata": {},
   "source": [
    "Let's imagine we want to scrape the Wikipedia entry on [Yuval Noah Harari].\n",
    "\n",
    "The \"content\" of a wiki page is the body of the article. It starts from the very first sentence (just below the page title) and ends on the last sentence of the last section of the page.\n",
    "\n",
    "Bonus points: The `mediawiki` library automatically removes tables, images, and links from the retrieved content.\n",
    "\n",
    "[Yuval Noah Harari]: https://en.wikipedia.org/wiki/Yuval_Noah_Harari"
   ]
  },
  {
   "cell_type": "code",
   "execution_count": 2,
   "metadata": {},
   "outputs": [],
   "source": [
    "TARGET_WIKI_PAGE = 'Yuval Noah Harari'"
   ]
  },
  {
   "cell_type": "markdown",
   "metadata": {},
   "source": [
    "Here's what the raw text content of the Wiki looks like:"
   ]
  },
  {
   "cell_type": "code",
   "execution_count": 3,
   "metadata": {
    "scrolled": true
   },
   "outputs": [
    {
     "name": "stdout",
     "output_type": "stream",
     "text": [
      "Yuval Noah Harari (Hebrew: יובל נח הררי‎; born 24 February 1976) is an Israeli historian and a tenured professor in the Department of History at the Hebrew University of Jerusalem. He is the author of the international bestsellers Sapiens: A Brief History of Humankind (2014) and Homo Deus: A Brief History of Tomorrow (2016). His writings examine concepts of free will, consciousness and definitions of intelligence.\n",
      "Harari's early publications are concerned with what he describes as the \"cognitive revolution\" occurring roughly 50,000 years ago, when Homo sapiens supplanted the rival Neanderthals, mastered cognitive linguistics, developed structured societies, and ascended as apex predators, aided by the agricultural revolution and more recently accelerated by scientific methodology and rationale which have allowed humans to approach near mastery over their environment.\n",
      "His recent books are more cautionary, and work through the consequences of a futuristic biotechnological world where sentient biological organisms are surpassed by their own creations; he has said \"Homo sapiens as we know them will disappear in a century or so\".\n",
      "\n",
      "\n",
      "== Biography ==\n",
      "Harari was born in Kiryat Ata, Israel, in 1976 and grew up in a secular Jewish family with Lebanese and Eastern European roots in Haifa, Israel.  Harari is openly gay, and in 2002 met his husband Itzik Yahav, whom he calls \"my internet of all things\". Yahav is also Harari's personal manager. They married in a civil ceremony in Toronto in Canada.  The couple lives in a moshav (a type of cooperative agricultural community of individual farms) Mesilat Zion near Jerusalem.Harari says Vipassana meditation, which he began whilst in Oxford in 2000, has \"transformed my life\". He practises for two hours every day (one hour at the start and end of his work day), every year undertakes a meditation retreat of 30 days or longer, in silence and with no books or social media, and is an assistant meditation teacher. He dedicated Homo Deus to \"my teacher, S. N. Goenka, who lovingly taught me important things,\" and said \"I could not have written this book without the focus, peace and insight gained from practising Vipassana for fifteen years.\" He also regards meditation as a way to research.Harari is a vegan, and says this resulted from his research, including his view that the foundation of the dairy industry is the breaking of the bond between mother and calf cows. As of September 2017, he does not have a smartphone.\n",
      "\n",
      "\n",
      "== Academic career ==\n",
      "\n",
      "Harari first specialized in medieval history and military history in his studies from 1993 to 1998 at the Hebrew University of Jerusalem. He completed his DPhil (doctorate) degree at Jesus College, Oxford, in 2002 under the supervision of Steven J. Gunn. From 2003 to 2005 he pursued postdoctoral studies in history as a Yad Hanadiv Fellow.He has published numerous books and articles, including Special Operations in the Age of Chivalry, 1100–1550;The Ultimate Experience: Battlefield Revelations and the Making of Modern War Culture, 1450–2000; The Concept of 'Decisive Battles' in World History; and Armchairs, Coffee and Authority: Eye-witnesses and Flesh-witnesses Speak about War,1100–2000. He now specializes in world history and macro-historical processes.\n",
      "His book Sapiens: A Brief History of Humankind was published in Hebrew in 2011 and then in English in 2014; it has since been translated into some 30 additional languages. The book surveys the entire length of human history, from the evolution of Homo sapiens in the Stone Age up to the political and technological revolutions of the 21st century. The Hebrew edition became a bestseller in Israel, and generated much interest both in the academic community and among the general public, turning Harari into a celebrity.\n",
      "YouTube video clips of Harari's Hebrew lectures on the history of the world have been viewed by tens of thousands of Israelis.Harari also gives a free online course in English titled A Brief History of Humankind.\n",
      "\n",
      "\n",
      "== Awards and recognition ==\n",
      "Harari twice won the Polonsky Prize for \"Creativity and Originality\", in 2009 and 2012. In 2011 he won the Society for Military History's Moncado Award for outstanding articles in military history. In 2012 he was elected to the Young Israeli Academy of Sciences.\n",
      "\n",
      "\n",
      "== Published works ==\n",
      "His book Homo Deus: A Brief History of Tomorrow was published in 2016, examining broad possibilities of the future of Homo sapiens. The book's premise outlines that in the future, humanity is likely to make a significant attempt to gain happiness, immortality and God-like powers. The book goes on to openly speculate various ways this ambition might be realised for Homo sapiens in the future based on the past and present. Among several possibilities for the future, Harari develops a term for a philosophy or mindset that worships big data.Harari's next book will be called 21 Lessons for the 21st Century and will focus more on present-day concerns. It is due to be published on 30th August 2018.\n",
      "\n",
      "\n",
      "== Views and opinions ==\n",
      "Harari is interested in how Homo sapiens reached their current condition, and in their future. His research focuses on macro-historical questions such as: What is the relation between history and biology? What is the essential difference between Homo sapiens and other animals? Is there justice in history? Does history have a direction? Did people become happier as history unfolded?\n",
      "Harari regards dissatisfaction as the \"deep root\" of human reality, and as related to evolution.In a 2017 article Harari has argued that through continuing technological progress and advances in the field of artificial intelligence, \"by 2050 a new class of people might emerge – the useless class. People who are not just unemployed, but unemployable.\" He put forward the case that dealing with this new social class economically, socially and politically will be a central challenge for humanity in the coming decades.Harari has commented on the plight of animals, particularly domesticated animals since the agricultural revolution, and is a vegan. In a 2015 Guardian article under the title \"Industrial farming is one of the worst crimes in history\" he called \"[t]he fate of industrially farmed animals (...) one of the most pressing ethical questions of our time.\"\n",
      "\n",
      "\n",
      "== Publications ==\n",
      "\n",
      "\n",
      "=== Books ===\n",
      "21 Lessons for the 21st Century (London: Jonathan Cape, 2018), ISBN 1787330672\n",
      "Homo Deus: A Brief History of Tomorrow (2016), ISBN 978-1910701881\n",
      "Sapiens: A Brief History of Humankind (London: Harvill Secker, 2014) ISBN 978-006-231-609-7\n",
      "The Ultimate Experience: Battlefield Revelations and the Making of Modern War Culture, 1450–2000 (Houndmills: Palgrave-Macmillan, 2008), ISBN 978-023-058-388-7\n",
      "Special Operations in the Age of Chivalry, 1100–1550 (Woodbridge: Boydell & Brewer, 2007), ISBN 978-184-383-292-8\n",
      "Renaissance Military Memoirs: War, History and Identity, 1450–1600 (Woodbridge: Boydell & Brewer, 2004), ISBN 978-184-383-064-1\n",
      "\n",
      "\n",
      "=== Articles ===\n",
      "\"The Military Role of the Frankish Turcopoles – a Reassessment\", Mediterranean Historical Review 12 (1) (June 1997), pp. 75–116.\n",
      "\"Inter-Frontal Cooperation in the Fourteenth Century and Edward III’s 1346 Campaign\", War in History 6 (4) (September 1999), pp. 379–395\n",
      "\"Strategy and Supply in Fourteenth-Century Western European Invasion Campaigns\", The Journal of Military History 64 (2) (April 2000), pp. 297–334.\n",
      "\"Eyewitnessing in Accounts of the First Crusade: The Gesta Francorum and Other Contemporary Narratives\", Crusades 3 (August 2004), pp. 77–99\n",
      "\"Martial Illusions: War and Disillusionment in Twentieth-Century and Renaissance Military Memoirs\", The Journal of Military History 69 (1) (January 2005), pp. 43–72\n",
      "\"Military Memoirs: A Historical Overview of the Genre from the Middle Ages to the Late Modern Era\", War in History 14:3 (2007), pp. 289–309\n",
      "\"The Concept of ‘Decisive Battles’ in World History\", The Journal of World History 18 (3) (2007), 251–266\n",
      "\"Knowledge, Power and the Medieval Soldier, 1096–1550\", in In Laudem Hierosolymitani: Studies in Crusades and Medieval Culture in Honour of Benjamin Z. Kedar, ed. Iris Shagrir, Ronnie Ellenblum and Jonathan Riley-Smith, (Ashgate, 2007)\n",
      "\"Combat Flow: Military, Political and Ethical Dimensions of Subjective Well-Being in War\", Review of General Psychology (September 2008)\n",
      "Introduction to Peter Singer's Animal Liberation, The Bodley Head, 2015.\n",
      "\"Yuval Noah Harari on big data, Google and the end of free will\", Financial Times (August 2016).\n",
      "\"Why It’s No Longer Possible for Any Country to Win a War\", Time (June 23, 2017).\n",
      "\n",
      "\n",
      "== References ==\n",
      "\n",
      "\n",
      "== External links ==\n",
      "Official website\n",
      "Meet the author – Yuval Harari video interview – BBC News\n",
      "Yuval Noah Harari at TED \n",
      "Why fascism is so tempting -- and how your data could power it on YouTube\n"
     ]
    }
   ],
   "source": [
    "wiki_page = wikipedia.page(title=TARGET_WIKI_PAGE)\n",
    "\n",
    "print(wiki_page.content)"
   ]
  },
  {
   "cell_type": "markdown",
   "metadata": {},
   "source": [
    "When we look at the page above, it's fairly obvious we don't want to include any of the text from the \"Publications\" section and below."
   ]
  },
  {
   "cell_type": "markdown",
   "metadata": {},
   "source": [
    "# Step Three: Clean and normalize text\n",
    "\n",
    "Each script source is likely to have unique styling, syntax, and structure. We'll need to create some rules to make sure we're **only extracting the text we intend the voice actor to read.**\n",
    "\n",
    "### 1. Clean the body text\n",
    "\n",
    "In our case, Wikipedia articles can contain all sorts of anomolies from foreign characters (like Hebrew letters) to lengthy citations (which can include things like ISBN numbers).\n",
    "\n",
    "The `wikipedia` library automatically removes links, citations, images, and tables from the page content it returns.\n",
    "\n",
    "We'll write a `clean_text()` that removes a few more elements:\n",
    "- **Brackets and the information contained within.** *Ex.* [16].\n",
    "- **Parentheses that include years and acronyms.** *Ex.* (1945-1994).\n",
    "- (Optional) **All parenthetical information**. *Ex.* (Any information contained in parentheses as this is where many anomolies appear to occur)"
   ]
  },
  {
   "cell_type": "code",
   "execution_count": 4,
   "metadata": {},
   "outputs": [],
   "source": [
    "def clean_text(input_text, remove_parenthetical_content=True):\n",
    "    \"\"\" Remove [brackets] and (years, acronyms) from input_text. \n",
    "    Optionally, it can remove all content found within parentheses.\n",
    "\n",
    "    Returns:\n",
    "        Cleaned Text\n",
    "    \"\"\"\n",
    "    cleaned_text = re.sub('\\[.*?\\]', '', input_text) # [brackets]\n",
    "    cleaned_text = re.sub(' \\(\\S+\\)', '', cleaned_text) # (years, acronyms)\n",
    "    if remove_parenthetical_content:\n",
    "        cleaned_text = re.sub(' \\([^)]*\\)', '', cleaned_text)\n",
    "\n",
    "    return cleaned_text"
   ]
  },
  {
   "cell_type": "markdown",
   "metadata": {},
   "source": [
    "### 2. (New) Truncate page at a specific section and create DataFrame with usable sections\n",
    "\n",
    "When we generate scripts for voice actors to read, it's very likely that only a portion of our Wikipedia page will be selected. Accordingly, we'll want to make it easy to select individual sections from our Wikipedia page.\n",
    "\n",
    "We'll create a pandas `DataFrame` object that contains the cleaned text from each usable section in our page. The object will look something like:\n",
    "\n",
    "Occasionally, we may receive a section title with no corresponding body text because Wikipedia has a \"This section needs expansion\" placeholder. \n",
    "\n",
    "\n",
    "Finally, We may want to truncate the page at a certain section. For example, a wiki entry about an author may have a `\"Publications\"` section at the bottom of the page that includes a long list of books we don't intend our voice actor to read.\n",
    "\n",
    "`dataframe_from_wiki_page()` creates a `DataFrame` object containing the desired content from a `MediaWiki.page()` object. It iterates through each section in the page, cleans the text, and stores it as a new row in a pandas `DataFrame` object.\n",
    "\n",
    "It optionally truncates the page at a given section. If you set the `truncate_at_section` argument to `\"Publications\"`, for example, it will return the cleaned Wiki content up until the `\"Publications\"` section.\n",
    "\n",
    "The `DataFrame` will look something like this:\n",
    "\n",
    "\n",
    "| Title | Content |\n",
    "|------------|------------|\n",
    "|Summary|Yuval Noah Harari is an Israeli author...|\n",
    "|Biography|Harari was born in Kiryat Ata, Israel...|\n",
    "|Academic career|Harari first specialized in Medieval...| \n",
    "|...|...|\n",
    "|Views and opinions|Harari is interested in how Homo sapiens...|\n",
    "\n",
    "\n",
    "By default, `dataframe_from_wiki_page()` will truncate at the `\"See also\"` or `\"References\"` sections, both of which are lists of articles, books, topics, etc. found at the bottom of the page. We don't intend our voice actors to read these."
   ]
  },
  {
   "cell_type": "code",
   "execution_count": 5,
   "metadata": {},
   "outputs": [],
   "source": [
    "def dataframe_from_wiki_page(wiki_page, truncate_at_section=None):\n",
    "    \"\"\" Generates a pandas DataFrame containing the titles and accompanying content of\n",
    "    each individual section contained within a Wikipedia page. Cleans the text of each\n",
    "    block of text and optionally truncates the page at a specific section.\n",
    "    \n",
    "    Arguments:\n",
    "        wiki_page: A MediaWiki page object.\n",
    "    \"\"\"\n",
    "    # set up sections to truncate\n",
    "    break_at_sections = ['See also', 'References'] # defaults\n",
    "    if truncate_at_section:\n",
    "        break_at_sections.append(truncate_at_section)\n",
    "\n",
    "    # Every page starts with a \"Summary\" section\n",
    "    title_list = ['%s: Summary' % wiki_page.title]\n",
    "    content_list = [wiki_page.summary]\n",
    "\n",
    "    # extract the content for each section\n",
    "    for section in wiki_page.sections:\n",
    "        if section in break_at_sections:\n",
    "            break\n",
    "        if not wiki_page.section(section) == '': \n",
    "            title_list.append('%s: %s' % (wiki_page.title, section))\n",
    "            content_cleaned = clean_text(wiki_page.section(section), remove_parenthetical_content=True)\n",
    "            content_list.append(content_cleaned)\n",
    "\n",
    "    # write section titles and content to a dictionary\n",
    "    script_as_dict = {\n",
    "        'Title': title_list,\n",
    "        'Content': content_list\n",
    "    }\n",
    "    \n",
    "    # create and return a DataFrame using the dictionary\n",
    "    return pd.DataFrame(script_as_dict)"
   ]
  },
  {
   "cell_type": "markdown",
   "metadata": {},
   "source": [
    "Let's see this in action!"
   ]
  },
  {
   "cell_type": "code",
   "execution_count": 6,
   "metadata": {},
   "outputs": [
    {
     "data": {
      "text/html": [
       "<div>\n",
       "<style scoped>\n",
       "    .dataframe tbody tr th:only-of-type {\n",
       "        vertical-align: middle;\n",
       "    }\n",
       "\n",
       "    .dataframe tbody tr th {\n",
       "        vertical-align: top;\n",
       "    }\n",
       "\n",
       "    .dataframe thead th {\n",
       "        text-align: right;\n",
       "    }\n",
       "</style>\n",
       "<table border=\"1\" class=\"dataframe\">\n",
       "  <thead>\n",
       "    <tr style=\"text-align: right;\">\n",
       "      <th></th>\n",
       "      <th>Title</th>\n",
       "      <th>Content</th>\n",
       "    </tr>\n",
       "  </thead>\n",
       "  <tbody>\n",
       "    <tr>\n",
       "      <th>0</th>\n",
       "      <td>Yuval Noah Harari: Summary</td>\n",
       "      <td>Yuval Noah Harari is an Israeli historian and a tenured professor in the Department of History at the Hebrew University of Jerusalem. He is the author of the international bestsellers Sapiens: A Brief History of Humankind and Homo Deus: A Brief History of Tomorrow. His writings examine concepts of free will, consciousness and definitions of intelligence.\\nHarari's early publications are concerned with what he describes as the \"cognitive revolution\" occurring roughly 50,000 years ago, when Homo sapiens supplanted the rival Neanderthals, mastered cognitive linguistics, developed structured societies, and ascended as apex predators, aided by the agricultural revolution and more recently accelerated by scientific methodology and rationale which have allowed humans to approach near mastery over their environment.\\nHis recent books are more cautionary, and work through the consequences of a futuristic biotechnological world where sentient biological organisms are surpassed by their own creations; he has said \"Homo sapiens as we know them will disappear in a century or so\".</td>\n",
       "    </tr>\n",
       "    <tr>\n",
       "      <th>1</th>\n",
       "      <td>Yuval Noah Harari: Biography</td>\n",
       "      <td>Harari was born in Kiryat Ata, Israel, in 1976 and grew up in a secular Jewish family with Lebanese and Eastern European roots in Haifa, Israel.  Harari is openly gay, and in 2002 met his husband Itzik Yahav, whom he calls \"my internet of all things\". Yahav is also Harari's personal manager. They married in a civil ceremony in Toronto in Canada.  The couple lives in a moshav Mesilat Zion near Jerusalem.Harari says Vipassana meditation, which he began whilst in Oxford in 2000, has \"transformed my life\". He practises for two hours every day, every year undertakes a meditation retreat of 30 days or longer, in silence and with no books or social media, and is an assistant meditation teacher. He dedicated Homo Deus to \"my teacher, S. N. Goenka, who lovingly taught me important things,\" and said \"I could not have written this book without the focus, peace and insight gained from practising Vipassana for fifteen years.\" He also regards meditation as a way to research.Harari is a vegan, and says this resulted from his research, including his view that the foundation of the dairy industry is the breaking of the bond between mother and calf cows. As of September 2017, he does not have a smartphone.</td>\n",
       "    </tr>\n",
       "    <tr>\n",
       "      <th>2</th>\n",
       "      <td>Yuval Noah Harari: Academic career</td>\n",
       "      <td>Harari first specialized in medieval history and military history in his studies from 1993 to 1998 at the Hebrew University of Jerusalem. He completed his DPhil degree at Jesus College, Oxford, in 2002 under the supervision of Steven J. Gunn. From 2003 to 2005 he pursued postdoctoral studies in history as a Yad Hanadiv Fellow.He has published numerous books and articles, including Special Operations in the Age of Chivalry, 1100–1550;The Ultimate Experience: Battlefield Revelations and the Making of Modern War Culture, 1450–2000; The Concept of 'Decisive Battles' in World History; and Armchairs, Coffee and Authority: Eye-witnesses and Flesh-witnesses Speak about War,1100–2000. He now specializes in world history and macro-historical processes.\\nHis book Sapiens: A Brief History of Humankind was published in Hebrew in 2011 and then in English in 2014; it has since been translated into some 30 additional languages. The book surveys the entire length of human history, from the evolution of Homo sapiens in the Stone Age up to the political and technological revolutions of the 21st century. The Hebrew edition became a bestseller in Israel, and generated much interest both in the academic community and among the general public, turning Harari into a celebrity.\\nYouTube video clips of Harari's Hebrew lectures on the history of the world have been viewed by tens of thousands of Israelis.Harari also gives a free online course in English titled A Brief History of Humankind.</td>\n",
       "    </tr>\n",
       "    <tr>\n",
       "      <th>3</th>\n",
       "      <td>Yuval Noah Harari: Awards and recognition</td>\n",
       "      <td>Harari twice won the Polonsky Prize for \"Creativity and Originality\", in 2009 and 2012. In 2011 he won the Society for Military History's Moncado Award for outstanding articles in military history. In 2012 he was elected to the Young Israeli Academy of Sciences.</td>\n",
       "    </tr>\n",
       "    <tr>\n",
       "      <th>4</th>\n",
       "      <td>Yuval Noah Harari: Published works</td>\n",
       "      <td>His book Homo Deus: A Brief History of Tomorrow was published in 2016, examining broad possibilities of the future of Homo sapiens. The book's premise outlines that in the future, humanity is likely to make a significant attempt to gain happiness, immortality and God-like powers. The book goes on to openly speculate various ways this ambition might be realised for Homo sapiens in the future based on the past and present. Among several possibilities for the future, Harari develops a term for a philosophy or mindset that worships big data.Harari's next book will be called 21 Lessons for the 21st Century and will focus more on present-day concerns. It is due to be published on 30th August 2018.</td>\n",
       "    </tr>\n",
       "    <tr>\n",
       "      <th>5</th>\n",
       "      <td>Yuval Noah Harari: Views and opinions</td>\n",
       "      <td>Harari is interested in how Homo sapiens reached their current condition, and in their future. His research focuses on macro-historical questions such as: What is the relation between history and biology? What is the essential difference between Homo sapiens and other animals? Is there justice in history? Does history have a direction? Did people become happier as history unfolded?\\nHarari regards dissatisfaction as the \"deep root\" of human reality, and as related to evolution.In a 2017 article Harari has argued that through continuing technological progress and advances in the field of artificial intelligence, \"by 2050 a new class of people might emerge – the useless class. People who are not just unemployed, but unemployable.\" He put forward the case that dealing with this new social class economically, socially and politically will be a central challenge for humanity in the coming decades.Harari has commented on the plight of animals, particularly domesticated animals since the agricultural revolution, and is a vegan. In a 2015 Guardian article under the title \"Industrial farming is one of the worst crimes in history\" he called \"he fate of industrially farmed animals one of the most pressing ethical questions of our time.\"</td>\n",
       "    </tr>\n",
       "  </tbody>\n",
       "</table>\n",
       "</div>"
      ],
      "text/plain": [
       "                                       Title  \\\n",
       "0  Yuval Noah Harari: Summary                  \n",
       "1  Yuval Noah Harari: Biography                \n",
       "2  Yuval Noah Harari: Academic career          \n",
       "3  Yuval Noah Harari: Awards and recognition   \n",
       "4  Yuval Noah Harari: Published works          \n",
       "5  Yuval Noah Harari: Views and opinions       \n",
       "\n",
       "                                                                                                                                                                                                                                                                                                                                                                                                                                                                                                                                                                                                                                                                                                                                                                                                                                                                                                                                                                                                                                                                                                                                                                                                                                                                                                                                                                                                                                                                                                                                           Content  \n",
       "0  Yuval Noah Harari is an Israeli historian and a tenured professor in the Department of History at the Hebrew University of Jerusalem. He is the author of the international bestsellers Sapiens: A Brief History of Humankind and Homo Deus: A Brief History of Tomorrow. His writings examine concepts of free will, consciousness and definitions of intelligence.\\nHarari's early publications are concerned with what he describes as the \"cognitive revolution\" occurring roughly 50,000 years ago, when Homo sapiens supplanted the rival Neanderthals, mastered cognitive linguistics, developed structured societies, and ascended as apex predators, aided by the agricultural revolution and more recently accelerated by scientific methodology and rationale which have allowed humans to approach near mastery over their environment.\\nHis recent books are more cautionary, and work through the consequences of a futuristic biotechnological world where sentient biological organisms are surpassed by their own creations; he has said \"Homo sapiens as we know them will disappear in a century or so\".                                                                                                                                                                                                                                                                                                                                                                                                                      \n",
       "1  Harari was born in Kiryat Ata, Israel, in 1976 and grew up in a secular Jewish family with Lebanese and Eastern European roots in Haifa, Israel.  Harari is openly gay, and in 2002 met his husband Itzik Yahav, whom he calls \"my internet of all things\". Yahav is also Harari's personal manager. They married in a civil ceremony in Toronto in Canada.  The couple lives in a moshav Mesilat Zion near Jerusalem.Harari says Vipassana meditation, which he began whilst in Oxford in 2000, has \"transformed my life\". He practises for two hours every day, every year undertakes a meditation retreat of 30 days or longer, in silence and with no books or social media, and is an assistant meditation teacher. He dedicated Homo Deus to \"my teacher, S. N. Goenka, who lovingly taught me important things,\" and said \"I could not have written this book without the focus, peace and insight gained from practising Vipassana for fifteen years.\" He also regards meditation as a way to research.Harari is a vegan, and says this resulted from his research, including his view that the foundation of the dairy industry is the breaking of the bond between mother and calf cows. As of September 2017, he does not have a smartphone.                                                                                                                                                                                                                                                                                          \n",
       "2  Harari first specialized in medieval history and military history in his studies from 1993 to 1998 at the Hebrew University of Jerusalem. He completed his DPhil degree at Jesus College, Oxford, in 2002 under the supervision of Steven J. Gunn. From 2003 to 2005 he pursued postdoctoral studies in history as a Yad Hanadiv Fellow.He has published numerous books and articles, including Special Operations in the Age of Chivalry, 1100–1550;The Ultimate Experience: Battlefield Revelations and the Making of Modern War Culture, 1450–2000; The Concept of 'Decisive Battles' in World History; and Armchairs, Coffee and Authority: Eye-witnesses and Flesh-witnesses Speak about War,1100–2000. He now specializes in world history and macro-historical processes.\\nHis book Sapiens: A Brief History of Humankind was published in Hebrew in 2011 and then in English in 2014; it has since been translated into some 30 additional languages. The book surveys the entire length of human history, from the evolution of Homo sapiens in the Stone Age up to the political and technological revolutions of the 21st century. The Hebrew edition became a bestseller in Israel, and generated much interest both in the academic community and among the general public, turning Harari into a celebrity.\\nYouTube video clips of Harari's Hebrew lectures on the history of the world have been viewed by tens of thousands of Israelis.Harari also gives a free online course in English titled A Brief History of Humankind.  \n",
       "3  Harari twice won the Polonsky Prize for \"Creativity and Originality\", in 2009 and 2012. In 2011 he won the Society for Military History's Moncado Award for outstanding articles in military history. In 2012 he was elected to the Young Israeli Academy of Sciences.                                                                                                                                                                                                                                                                                                                                                                                                                                                                                                                                                                                                                                                                                                                                                                                                                                                                                                                                                                                                                                                                                                                                                                                                                                                                           \n",
       "4  His book Homo Deus: A Brief History of Tomorrow was published in 2016, examining broad possibilities of the future of Homo sapiens. The book's premise outlines that in the future, humanity is likely to make a significant attempt to gain happiness, immortality and God-like powers. The book goes on to openly speculate various ways this ambition might be realised for Homo sapiens in the future based on the past and present. Among several possibilities for the future, Harari develops a term for a philosophy or mindset that worships big data.Harari's next book will be called 21 Lessons for the 21st Century and will focus more on present-day concerns. It is due to be published on 30th August 2018.                                                                                                                                                                                                                                                                                                                                                                                                                                                                                                                                                                                                                                                                                                                                                                                                                     \n",
       "5  Harari is interested in how Homo sapiens reached their current condition, and in their future. His research focuses on macro-historical questions such as: What is the relation between history and biology? What is the essential difference between Homo sapiens and other animals? Is there justice in history? Does history have a direction? Did people become happier as history unfolded?\\nHarari regards dissatisfaction as the \"deep root\" of human reality, and as related to evolution.In a 2017 article Harari has argued that through continuing technological progress and advances in the field of artificial intelligence, \"by 2050 a new class of people might emerge – the useless class. People who are not just unemployed, but unemployable.\" He put forward the case that dealing with this new social class economically, socially and politically will be a central challenge for humanity in the coming decades.Harari has commented on the plight of animals, particularly domesticated animals since the agricultural revolution, and is a vegan. In a 2015 Guardian article under the title \"Industrial farming is one of the worst crimes in history\" he called \"he fate of industrially farmed animals one of the most pressing ethical questions of our time.\"                                                                                                                                                                                                                                                    "
      ]
     },
     "metadata": {},
     "output_type": "display_data"
    }
   ],
   "source": [
    "page_as_df = dataframe_from_wiki_page(wiki_page, truncate_at_section='Publications')\n",
    "\n",
    "# clean the text\n",
    "page_as_df['Content'] = page_as_df['Content'].apply(clean_text, remove_parenthetical_content=True)\n",
    "\n",
    "pd.set_option('display.max_colwidth', -1)\n",
    "display(page_as_df)"
   ]
  },
  {
   "cell_type": "markdown",
   "metadata": {},
   "source": [
    "# Step Four: Export the script\n",
    "\n",
    "We finally have our script ready to use as source material for our final voice actor scripts.\n",
    "\n",
    "We'll just need to export it as a usable file. `.csv` a lightweight, universal file format that we'll use. There's no reason you can't export the script to a different format, but I've chosen `.csv` because it's compact, universal, and plays nicely with tools like `pandas` that we'll use to analyze phoneme coverage."
   ]
  },
  {
   "cell_type": "code",
   "execution_count": 18,
   "metadata": {},
   "outputs": [],
   "source": [
    "OUTPUT_DIRECTORY = 'wikipedia/csv-source/'"
   ]
  },
  {
   "cell_type": "code",
   "execution_count": 19,
   "metadata": {},
   "outputs": [
    {
     "name": "stdout",
     "output_type": "stream",
     "text": [
      "File successfully saved as wikipedia/csv-source/Yuval Noah Harari.csv\n"
     ]
    }
   ],
   "source": [
    "output_filename = '%s%s.csv' % (OUTPUT_DIRECTORY, TARGET_WIKI_PAGE)\n",
    "\n",
    "page_as_df.to_csv(path_or_buf=output_filename, sep='\\t', index=True, index_label='Index')\n",
    "\n",
    "print('File successfully saved as %s' % output_filename)"
   ]
  },
  {
   "cell_type": "markdown",
   "metadata": {},
   "source": [
    "# Putting It All Together\n",
    "\n",
    "Below is a straightforward example of each step carried out in order. We'll retrieve, clean, and save the Wikipedia entry on Benjamin Franklin."
   ]
  },
  {
   "cell_type": "code",
   "execution_count": 20,
   "metadata": {},
   "outputs": [
    {
     "name": "stdout",
     "output_type": "stream",
     "text": [
      "File successfully saved as wikipedia/csv-source/Strategic management.csv\n"
     ]
    }
   ],
   "source": [
    "# 1. choose target\n",
    "page_to_scrape = 'Strategic management'\n",
    "\n",
    "# 2. retrieve text from target\n",
    "wiki_page = wikipedia.page(title=page_to_scrape)\n",
    "wiki_content = wiki_page.content\n",
    "\n",
    "# 3. create DataFrame & clean text\n",
    "page_as_df = dataframe_from_wiki_page(wiki_page)\n",
    "page_as_df['Content'] = page_as_df['Content'].apply(clean_text) # clean text\n",
    "\n",
    "# 4. save as .csv\n",
    "output_filename = '%s%s.csv' % (OUTPUT_DIRECTORY, page_to_scrape)\n",
    "page_as_df.to_csv(path_or_buf=output_filename, sep='\\t', index=True, index_label='Index')\n",
    "print('File successfully saved as %s' % output_filename)\n",
    "\n",
    "\n",
    "# for exporting txt...\n",
    "# 3. Clean and normalize text\n",
    "# cleaned_wiki_content = normalize_wiki_content(wiki_content)\n",
    "\n",
    "# 4. Save as txt\n",
    "# save_wiki_as_txt(page_to_scrape, cleaned_wiki_content)"
   ]
  },
  {
   "cell_type": "markdown",
   "metadata": {},
   "source": [
    "### Footnote for normalize_wiki_content() function\n",
    "If you do intend for your voice actor to read any of the elements above, you'll need to modify the `clean_text()` function."
   ]
  },
  {
   "cell_type": "markdown",
   "metadata": {},
   "source": [
    "\n",
    "\n",
    "## [IGNORE] Archive of old functions and notes..."
   ]
  },
  {
   "cell_type": "markdown",
   "metadata": {},
   "source": [
    "### 2. (Old) Normalize the output and (optionally) truncate the page at a specific section\n",
    "\n",
    "Occasionally, the Wikipedia API will return content with inconsistent formatting. For example, we may receive a section title with no corresponding body text because Wikipedia has a \"This section needs expansion\" placeholder. \n",
    "\n",
    "Furthermore, we don't want voice actors to read section titles since these don't appear in the majority of the real-world scripts we've seen so far. *Caveat:* We'll likely want to include section titles for any domains where they are more common to read, given that they may affect how certain content is read.\n",
    "\n",
    "But, in our case, we'll remove all section headers and append together each block of body text in a format that is easy for voice actors to read (two line breaks after each paragraph).\n",
    "\n",
    "Finally, We may want to truncate the page at a certain section. For example, a wiki entry about an author may have a `\"Publications\"` section at the bottom of the page that includes a long list of books we don't intend our voice actor to read.\n",
    "\n",
    "`normalize_wiki_content()` takes the raw text from a Wiki page, cleans each line, omits section headers, and optionally truncates the page at a given section. If you set the `truncate_at_section` argument to `\"Publications\"`, for example, it will return the cleaned Wiki content up until the `\"Publications\"` section.\n",
    "\n",
    "By default, `normalize_wiki_content()` will truncate at the `\"See also\"` or `\"References\"` sections, both of which are lists of articles, books, topics, etc. found at the bottom of the page. We don't intend our voice actors to read these.\n",
    "\n"
   ]
  },
  {
   "cell_type": "code",
   "execution_count": 10,
   "metadata": {},
   "outputs": [],
   "source": [
    "def normalize_wiki_content(wiki_content, remove_parenthetical_content=False, truncate_at_section=None):\n",
    "    \"\"\" Remove section headers, cleans the body text, and truncates a Wikipedia page at a given section.\n",
    "\n",
    "    Returns:\n",
    "        Cleaned Wiki Content (String)\n",
    "    \"\"\"\n",
    "    cleaned_wiki_content = ''\n",
    "    break_at_sections = ['See also', 'References'] # default sections to break on\n",
    "    \n",
    "    if truncate_at_section:\n",
    "        break_at_sections.append(truncate_at_section)\n",
    "        \n",
    "    section_pattern = re.compile('\\={1,5}.*?\\={1,5}') # regex expression for \"== Sections ==\"\n",
    "    \n",
    "    # start cleaning each line of text!\n",
    "    for paragraph in wiki_content.splitlines():\n",
    "        # ...so long as it's not a section header\n",
    "        if not section_pattern.match(paragraph):\n",
    "            cleaned_paragraph = clean_text(paragraph, remove_parenthetical_content=remove_parenthetical_content)\n",
    "            if cleaned_paragraph:\n",
    "                cleaned_wiki_content += '%s\\n\\n' % cleaned_paragraph # write paragraph content\n",
    "        else:\n",
    "            # if we land on a section header, check if we should break\n",
    "            section_title = paragraph.strip('=')\n",
    "            section_title = section_title.strip()\n",
    "            if section_title in break_at_sections:\n",
    "                break\n",
    "            else:\n",
    "                cleaned_wiki_content += 'SECTION: %s\\n\\n' % section_title # write section title\n",
    "\n",
    "    return cleaned_wiki_content"
   ]
  },
  {
   "cell_type": "code",
   "execution_count": 11,
   "metadata": {
    "scrolled": false
   },
   "outputs": [],
   "source": [
    "cleaned_wiki_content = normalize_wiki_content(wiki_page.content, remove_parenthetical_content=False, truncate_at_section=\"Publications\")\n",
    "\n",
    "# print(cleaned_wiki_content)"
   ]
  },
  {
   "cell_type": "markdown",
   "metadata": {},
   "source": [
    "#### That's much better\n",
    "\n",
    "Depending on your domain, there may be additional anomolies you'll need to account for. Perhaps you're scraping entries about physics or math, which may contain non alpha-numeric characters that you'd like removed from your final script.\n",
    "\n",
    "#### (Optional) Next Steps\n",
    "\n",
    "Modify `clean_text()` or `normalize_wiki_content()` or both to better scrub and normalize the Wiki text for your specific domain. Alternatively, you can build an entirely-new, domain-specific cleaning function."
   ]
  },
  {
   "cell_type": "markdown",
   "metadata": {},
   "source": [
    "# Step Four: Export the script\n",
    "\n",
    "We finally have our script ready to share with a voice actor or pass along to our phoneme analyzer.\n",
    "\n",
    "We'll just need to export it as a usable file. `.txt` a lightweight, universal file format that we'll use. There's no reason you can't export the script to a different format, but I've chosen `.txt` because it's compact, universal, and plays nicely with tools like `pandas` that we'll use to analyze phoneme coverage.\n",
    "\n",
    "The `save_wiki_as_txt()` function below writes the target Wiki page title (ex. \"Yuval Noah Harari\") and the cleaned wiki content to a `.txt` file. It also retrieves and saves the original URL of the Wiki entry for later reference."
   ]
  },
  {
   "cell_type": "code",
   "execution_count": 12,
   "metadata": {},
   "outputs": [],
   "source": [
    "# directory to save final script\n",
    "OUTPUT_DIRECTORY = 'wikipedia/'"
   ]
  },
  {
   "cell_type": "code",
   "execution_count": 13,
   "metadata": {},
   "outputs": [],
   "source": [
    "def save_wiki_as_txt(target_wiki_page, wiki_content, write_to_directory='wikipedia/'):\n",
    "    \"\"\" Writes text content from a Wikipedia page as a .txt file.\n",
    "\n",
    "    Returns:\n",
    "        None\n",
    "    \"\"\"\n",
    "    \n",
    "    # create txt file for export\n",
    "    output_file_format = '%s%s.txt'\n",
    "    output_filename = output_file_format % (write_to_directory, target_wiki_page)\n",
    "    output_file = open(output_filename, 'w+')\n",
    "    \n",
    "    # request Wiki page to retrieve source URL\n",
    "    wiki_page = wikipedia.page(title=target_wiki_page)\n",
    "\n",
    "    # write a header row with source info\n",
    "    output_file.write('%s\\n' % target_wiki_page)\n",
    "    output_file.write('*Source: Wikipedia - %s\\n\\n' % wiki_page.url)\n",
    "\n",
    "    # write content of wiki page\n",
    "    try:\n",
    "        output_file.write(wiki_content)\n",
    "        output_file.close()\n",
    "        print('%s entry successfully saved!' % target_wiki_page)\n",
    "    except Exception as e:\n",
    "        print('Something went wrong!')\n",
    "        print(e)"
   ]
  },
  {
   "cell_type": "code",
   "execution_count": 15,
   "metadata": {},
   "outputs": [],
   "source": [
    "# save_wiki_as_txt(target_wiki_page=TARGET_WIKI_PAGE, wiki_content=cleaned_wiki_content, write_to_directory=OUTPUT_DIRECTORY)"
   ]
  }
 ],
 "metadata": {
  "kernelspec": {
   "display_name": "Python 3",
   "language": "python",
   "name": "python3"
  },
  "language_info": {
   "codemirror_mode": {
    "name": "ipython",
    "version": 3
   },
   "file_extension": ".py",
   "mimetype": "text/x-python",
   "name": "python",
   "nbconvert_exporter": "python",
   "pygments_lexer": "ipython3",
   "version": "3.6.4"
  }
 },
 "nbformat": 4,
 "nbformat_minor": 2
}
